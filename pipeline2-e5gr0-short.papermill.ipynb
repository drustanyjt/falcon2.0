{
 "cells": [
  {
   "attachments": {},
   "cell_type": "markdown",
   "id": "13497438",
   "metadata": {
    "papermill": {
     "duration": 0.001052,
     "end_time": "2023-07-18T15:26:44.117569",
     "exception": false,
     "start_time": "2023-07-18T15:26:44.116517",
     "status": "completed"
    },
    "tags": []
   },
   "source": [
    "# Pipeline 1"
   ]
  },
  {
   "cell_type": "code",
   "execution_count": 1,
   "id": "8cb34c5f",
   "metadata": {
    "execution": {
     "iopub.execute_input": "2023-07-18T15:26:44.120383Z",
     "iopub.status.busy": "2023-07-18T15:26:44.120137Z",
     "iopub.status.idle": "2023-07-18T15:26:44.614783Z",
     "shell.execute_reply": "2023-07-18T15:26:44.614287Z"
    },
    "papermill": {
     "duration": 0.496802,
     "end_time": "2023-07-18T15:26:44.615608",
     "exception": false,
     "start_time": "2023-07-18T15:26:44.118806",
     "status": "completed"
    },
    "tags": []
   },
   "outputs": [
    {
     "name": "stdout",
     "output_type": "stream",
     "text": [
      "main_virtuoso_noreranking\n"
     ]
    }
   ],
   "source": [
    "from pipeline import SerialAnnotator, T5Converter\n",
    "import time\n",
    "from pprint import pprint"
   ]
  },
  {
   "cell_type": "code",
   "execution_count": 2,
   "id": "28d560de",
   "metadata": {
    "execution": {
     "iopub.execute_input": "2023-07-18T15:26:44.618550Z",
     "iopub.status.busy": "2023-07-18T15:26:44.618311Z",
     "iopub.status.idle": "2023-07-18T15:26:44.620780Z",
     "shell.execute_reply": "2023-07-18T15:26:44.620400Z"
    },
    "papermill": {
     "duration": 0.004891,
     "end_time": "2023-07-18T15:26:44.621391",
     "exception": false,
     "start_time": "2023-07-18T15:26:44.616500",
     "status": "completed"
    },
    "tags": []
   },
   "outputs": [],
   "source": [
    "annotator = SerialAnnotator()\n",
    "converter = T5Converter()"
   ]
  },
  {
   "cell_type": "code",
   "execution_count": 3,
   "id": "95bba8e0",
   "metadata": {
    "execution": {
     "iopub.execute_input": "2023-07-18T15:26:44.623540Z",
     "iopub.status.busy": "2023-07-18T15:26:44.623346Z",
     "iopub.status.idle": "2023-07-18T15:26:44.626123Z",
     "shell.execute_reply": "2023-07-18T15:26:44.625785Z"
    },
    "papermill": {
     "duration": 0.004525,
     "end_time": "2023-07-18T15:26:44.626758",
     "exception": false,
     "start_time": "2023-07-18T15:26:44.622233",
     "status": "completed"
    },
    "tags": []
   },
   "outputs": [],
   "source": [
    "def pipe_batch(linked, wikisparqls):\n",
    "  batched = []\n",
    "  s = time.time()\n",
    "  annotated = annotator.batch_annotate(linked)\n",
    "  e = time.time()\n",
    "  assert len(linked) == len(annotated)\n",
    "  annotator_time = e - s\n",
    "  converter_time = 0\n",
    "  for i, single_annotated in enumerate(annotated):\n",
    "    # annotated = annotator.annotate(**single_linked)\n",
    "    # try:\n",
    "    #   annotator_time += e - s\n",
    "    # except Exception as e:\n",
    "    #   print(\"[Annotator Error]:\", e)\n",
    "    #   continue\n",
    "    s = time.time()\n",
    "    try:\n",
    "      converted = converter.preprocess(**single_annotated, wikisparql=wikisparqls[i])\n",
    "    except Exception as e:\n",
    "      print(\"[Converter Error]:\", e)\n",
    "      continue\n",
    "      \n",
    "    e = time.time()\n",
    "    converter_time += e - s\n",
    "    batched.append([linked[i], annotated[i], converted])\n",
    "  print(\"Anno batch time:\", annotator_time)\n",
    "  print(\"Conv batch time:\", converter_time)\n",
    "  return batched"
   ]
  },
  {
   "attachments": {},
   "cell_type": "markdown",
   "id": "067a756c",
   "metadata": {
    "papermill": {
     "duration": 0.000844,
     "end_time": "2023-07-18T15:26:44.628607",
     "exception": false,
     "start_time": "2023-07-18T15:26:44.627763",
     "status": "completed"
    },
    "tags": []
   },
   "source": [
    "## Data"
   ]
  },
  {
   "cell_type": "code",
   "execution_count": 4,
   "id": "81311d74",
   "metadata": {
    "execution": {
     "iopub.execute_input": "2023-07-18T15:26:44.630640Z",
     "iopub.status.busy": "2023-07-18T15:26:44.630451Z",
     "iopub.status.idle": "2023-07-18T15:26:44.695727Z",
     "shell.execute_reply": "2023-07-18T15:26:44.695279Z"
    },
    "papermill": {
     "duration": 0.067298,
     "end_time": "2023-07-18T15:26:44.696685",
     "exception": false,
     "start_time": "2023-07-18T15:26:44.629387",
     "status": "completed"
    },
    "tags": []
   },
   "outputs": [],
   "source": [
    "from pathlib import Path\n",
    "from pprint import pprint\n",
    "import pandas as pd\n",
    "import json\n",
    "\n",
    "# data_path = Path(\"..\") / \"t5-for-sparql\" / \"data\" / \"lcquad2\" / \"train.json\"\n",
    "data_path = Path(\"..\") / \"t5-for-sparql\" / \"falcon_links\" / \"top1ents\" / \"link_24066.json\""
   ]
  },
  {
   "cell_type": "code",
   "execution_count": 5,
   "id": "328fecc9",
   "metadata": {
    "execution": {
     "iopub.execute_input": "2023-07-18T15:26:44.699228Z",
     "iopub.status.busy": "2023-07-18T15:26:44.699105Z",
     "iopub.status.idle": "2023-07-18T15:26:44.909254Z",
     "shell.execute_reply": "2023-07-18T15:26:44.908782Z"
    },
    "papermill": {
     "duration": 0.212377,
     "end_time": "2023-07-18T15:26:44.910136",
     "exception": false,
     "start_time": "2023-07-18T15:26:44.697759",
     "status": "completed"
    },
    "tags": []
   },
   "outputs": [],
   "source": [
    "with open(data_path) as f:\n",
    "  data_json = json.load(f)\n",
    "sample = data_json[1]"
   ]
  },
  {
   "cell_type": "code",
   "execution_count": 6,
   "id": "a60cdb39",
   "metadata": {
    "execution": {
     "iopub.execute_input": "2023-07-18T15:26:44.912584Z",
     "iopub.status.busy": "2023-07-18T15:26:44.912383Z",
     "iopub.status.idle": "2023-07-18T15:26:44.915342Z",
     "shell.execute_reply": "2023-07-18T15:26:44.914867Z"
    },
    "papermill": {
     "duration": 0.005094,
     "end_time": "2023-07-18T15:26:44.916206",
     "exception": false,
     "start_time": "2023-07-18T15:26:44.911112",
     "status": "completed"
    },
    "tags": []
   },
   "outputs": [],
   "source": [
    "import re\n",
    "\n",
    "def retrieve_gold_links(masked_wikisparql):\n",
    "  fragments = masked_wikisparql.upper().strip().split(' ')\n",
    "  ents = []\n",
    "  rels = []\n",
    "  result_dict = {\n",
    "    'ents': ents,\n",
    "    'rels': rels,\n",
    "  }\n",
    "  for fragment in fragments:\n",
    "    id_match = re.search('[QP][1-9]+',fragment)\n",
    "    if id_match:\n",
    "      id_raw = id_match.group(0)\n",
    "      if id_raw[0] == 'Q':\n",
    "        prefix = 'wdt:'\n",
    "        uri = 'http://www.wikidata.org/entity/' + id_raw\n",
    "        target_arr = ents\n",
    "      elif id_raw[0] == 'P':\n",
    "        prefix = 'wd:'\n",
    "        uri =  'http://www.wikidata.org/prop/direct/' + id_raw\n",
    "        target_arr = rels\n",
    "      else:\n",
    "        raise ValueError('ID does not start with P or Q')\n",
    "      match_dict = {\n",
    "        'id' : id_raw,\n",
    "        'prefix' : prefix,\n",
    "        'uri' : uri,\n",
    "      }\n",
    "      target_arr.append(match_dict)\n",
    "  return result_dict"
   ]
  },
  {
   "cell_type": "code",
   "execution_count": 7,
   "id": "5acf7393",
   "metadata": {
    "execution": {
     "iopub.execute_input": "2023-07-18T15:26:44.918461Z",
     "iopub.status.busy": "2023-07-18T15:26:44.918253Z",
     "iopub.status.idle": "2023-07-18T15:26:45.149616Z",
     "shell.execute_reply": "2023-07-18T15:26:45.149120Z"
    },
    "papermill": {
     "duration": 0.233439,
     "end_time": "2023-07-18T15:26:45.150527",
     "exception": false,
     "start_time": "2023-07-18T15:26:44.917088",
     "status": "completed"
    },
    "tags": []
   },
   "outputs": [],
   "source": [
    "for entry in data_json:\n",
    "  old_linked, _, old_converted = entry\n",
    "  wikisparql = old_converted['labels']\n",
    "  gold_links = retrieve_gold_links(wikisparql)\n",
    "  entry.append(gold_links)"
   ]
  },
  {
   "cell_type": "code",
   "execution_count": 8,
   "id": "983e184a",
   "metadata": {
    "execution": {
     "iopub.execute_input": "2023-07-18T15:26:45.153642Z",
     "iopub.status.busy": "2023-07-18T15:26:45.153417Z",
     "iopub.status.idle": "2023-07-18T15:26:45.157245Z",
     "shell.execute_reply": "2023-07-18T15:26:45.156864Z"
    },
    "papermill": {
     "duration": 0.006336,
     "end_time": "2023-07-18T15:26:45.157925",
     "exception": false,
     "start_time": "2023-07-18T15:26:45.151589",
     "status": "completed"
    },
    "tags": []
   },
   "outputs": [
    {
     "data": {
      "text/plain": [
       "[{'utterance': 'What is Delta Air Lines periodical literature mouthpiece?',\n",
       "  'ents': [{'uri': 'http://www.wikidata.org/entity/Q188920',\n",
       "    'prefix': 'wd:',\n",
       "    'id': 'Q188920'}],\n",
       "  'rels': []},\n",
       " {'utterance': 'What is Delta Air Lines periodical literature mouthpiece?',\n",
       "  'fragments': ['[DEF]', 'wd:', 'Q188920 Delta']},\n",
       " {'inputs': 'What is Delta Air Lines periodical literature mouthpiece? <extra_id_59> <extra_id_53> Q188920 Delta',\n",
       "  'labels': '<extra_id_6> <extra_id_21> <extra_id_39> <extra_id_19> <extra_id_33> <extra_id_53> q188920 <extra_id_54> p2813 <extra_id_39> <extra_id_38> <extra_id_39> <extra_id_54> p31 <extra_id_53> q1002697 <extra_id_15>'},\n",
       " {'ents': [{'id': 'Q18892',\n",
       "    'prefix': 'wdt:',\n",
       "    'uri': 'http://www.wikidata.org/entity/Q18892'},\n",
       "   {'id': 'Q1', 'prefix': 'wdt:', 'uri': 'http://www.wikidata.org/entity/Q1'}],\n",
       "  'rels': [{'id': 'P2813',\n",
       "    'prefix': 'wd:',\n",
       "    'uri': 'http://www.wikidata.org/prop/direct/P2813'},\n",
       "   {'id': 'P31',\n",
       "    'prefix': 'wd:',\n",
       "    'uri': 'http://www.wikidata.org/prop/direct/P31'}]}]"
      ]
     },
     "execution_count": 8,
     "metadata": {},
     "output_type": "execute_result"
    }
   ],
   "source": [
    "data_json[0]"
   ]
  },
  {
   "cell_type": "code",
   "execution_count": 9,
   "id": "54ca8faf",
   "metadata": {
    "execution": {
     "iopub.execute_input": "2023-07-18T15:26:45.160454Z",
     "iopub.status.busy": "2023-07-18T15:26:45.160236Z",
     "iopub.status.idle": "2023-07-18T19:06:08.078706Z",
     "shell.execute_reply": "2023-07-18T19:06:08.076789Z"
    },
    "papermill": {
     "duration": 13162.921196,
     "end_time": "2023-07-18T19:06:08.080071",
     "exception": false,
     "start_time": "2023-07-18T15:26:45.158875",
     "status": "completed"
    },
    "tags": []
   },
   "outputs": [
    {
     "name": "stdout",
     "output_type": "stream",
     "text": [
      "[Pipeline2]: Processing 0-49\n"
     ]
    },
    {
     "name": "stdout",
     "output_type": "stream",
     "text": [
      "Anno batch time: 25.408459663391113\n",
      "Conv batch time: 0.0005373954772949219\n",
      "[Pipeline2]: Processing 49-99\n"
     ]
    },
    {
     "name": "stdout",
     "output_type": "stream",
     "text": [
      "Anno batch time: 23.667537927627563\n",
      "Conv batch time: 0.0004725456237792969\n",
      "[Pipeline2]: Processing 99-149\n"
     ]
    },
    {
     "name": "stdout",
     "output_type": "stream",
     "text": [
      "Anno batch time: 28.38252878189087\n",
      "Conv batch time: 0.00045037269592285156\n",
      "[Pipeline2]: Processing 149-199\n"
     ]
    },
    {
     "name": "stdout",
     "output_type": "stream",
     "text": [
      "Anno batch time: 23.77673602104187\n",
      "Conv batch time: 0.0004849433898925781\n",
      "[Pipeline2]: Processing 199-249\n"
     ]
    },
    {
     "name": "stdout",
     "output_type": "stream",
     "text": [
      "Anno batch time: 23.5010085105896\n",
      "Conv batch time: 0.00042891502380371094\n",
      "[Pipeline2]: Processing 249-299\n"
     ]
    },
    {
     "name": "stdout",
     "output_type": "stream",
     "text": [
      "Anno batch time: 27.116273641586304\n",
      "Conv batch time: 0.0005021095275878906\n",
      "[Pipeline2]: Processing 299-349\n"
     ]
    },
    {
     "name": "stdout",
     "output_type": "stream",
     "text": [
      "Anno batch time: 35.56499123573303\n",
      "Conv batch time: 0.00045490264892578125\n",
      "[Pipeline2]: Processing 349-399\n"
     ]
    },
    {
     "name": "stdout",
     "output_type": "stream",
     "text": [
      "Anno batch time: 111.56934785842896\n",
      "Conv batch time: 0.00043892860412597656\n",
      "[Pipeline2]: Processing 399-449\n"
     ]
    },
    {
     "name": "stdout",
     "output_type": "stream",
     "text": [
      "Anno batch time: 29.116682529449463\n",
      "Conv batch time: 0.0005393028259277344\n",
      "[Pipeline2]: Processing 449-499\n"
     ]
    },
    {
     "name": "stdout",
     "output_type": "stream",
     "text": [
      "Anno batch time: 43.26262164115906\n",
      "Conv batch time: 0.00044798851013183594\n",
      "[Pipeline2]: Processing 499-549\n"
     ]
    },
    {
     "name": "stdout",
     "output_type": "stream",
     "text": [
      "Anno batch time: 19.90503239631653\n",
      "Conv batch time: 0.0004138946533203125\n",
      "[Pipeline2]: Processing 549-599\n"
     ]
    },
    {
     "name": "stdout",
     "output_type": "stream",
     "text": [
      "Anno batch time: 19.707062244415283\n",
      "Conv batch time: 0.00048065185546875\n",
      "[Pipeline2]: Processing 599-649\n"
     ]
    },
    {
     "name": "stdout",
     "output_type": "stream",
     "text": [
      "Anno batch time: 47.392186403274536\n",
      "Conv batch time: 0.0004515647888183594\n",
      "[Pipeline2]: Processing 649-699\n"
     ]
    },
    {
     "name": "stdout",
     "output_type": "stream",
     "text": [
      "Anno batch time: 22.542141914367676\n",
      "Conv batch time: 0.00043582916259765625\n",
      "[Pipeline2]: Processing 699-749\n"
     ]
    },
    {
     "name": "stdout",
     "output_type": "stream",
     "text": [
      "Anno batch time: 30.277923107147217\n",
      "Conv batch time: 0.0004448890686035156\n",
      "[Pipeline2]: Processing 749-799\n"
     ]
    },
    {
     "name": "stdout",
     "output_type": "stream",
     "text": [
      "Anno batch time: 20.93994116783142\n",
      "Conv batch time: 0.0004558563232421875\n",
      "[Pipeline2]: Processing 799-849\n"
     ]
    },
    {
     "name": "stdout",
     "output_type": "stream",
     "text": [
      "Anno batch time: 24.096894025802612\n",
      "Conv batch time: 0.0004508495330810547\n",
      "[Pipeline2]: Processing 849-899\n"
     ]
    },
    {
     "name": "stdout",
     "output_type": "stream",
     "text": [
      "Anno batch time: 26.38049840927124\n",
      "Conv batch time: 0.0004591941833496094\n",
      "[Pipeline2]: Processing 899-949\n"
     ]
    },
    {
     "name": "stdout",
     "output_type": "stream",
     "text": [
      "Anno batch time: 27.334442615509033\n",
      "Conv batch time: 0.000453948974609375\n",
      "[Pipeline2]: Processing 949-999\n"
     ]
    },
    {
     "name": "stdout",
     "output_type": "stream",
     "text": [
      "Anno batch time: 29.62564778327942\n",
      "Conv batch time: 0.00048732757568359375\n",
      "[Pipeline2]: Processing 999-1049\n"
     ]
    },
    {
     "name": "stdout",
     "output_type": "stream",
     "text": [
      "Anno batch time: 23.421167135238647\n",
      "Conv batch time: 0.00043320655822753906\n",
      "[Pipeline2]: Processing 1049-1099\n"
     ]
    },
    {
     "name": "stdout",
     "output_type": "stream",
     "text": [
      "Anno batch time: 24.725873947143555\n",
      "Conv batch time: 0.0005185604095458984\n",
      "[Pipeline2]: Processing 1099-1149\n"
     ]
    },
    {
     "name": "stdout",
     "output_type": "stream",
     "text": [
      "Anno batch time: 27.288806200027466\n",
      "Conv batch time: 0.00043463706970214844\n",
      "[Pipeline2]: Processing 1149-1199\n"
     ]
    },
    {
     "name": "stdout",
     "output_type": "stream",
     "text": [
      "Anno batch time: 24.912364721298218\n",
      "Conv batch time: 0.0004265308380126953\n",
      "[Pipeline2]: Processing 1199-1249\n"
     ]
    },
    {
     "name": "stdout",
     "output_type": "stream",
     "text": [
      "Anno batch time: 22.56660771369934\n",
      "Conv batch time: 0.00046181678771972656\n",
      "[Pipeline2]: Processing 1249-1299\n"
     ]
    },
    {
     "name": "stdout",
     "output_type": "stream",
     "text": [
      "Anno batch time: 21.649303674697876\n",
      "Conv batch time: 0.00043654441833496094\n",
      "[Pipeline2]: Processing 1299-1349\n"
     ]
    },
    {
     "name": "stdout",
     "output_type": "stream",
     "text": [
      "Anno batch time: 30.87087059020996\n",
      "Conv batch time: 0.0004513263702392578\n",
      "[Pipeline2]: Processing 1349-1399\n"
     ]
    },
    {
     "name": "stdout",
     "output_type": "stream",
     "text": [
      "Anno batch time: 30.20439076423645\n",
      "Conv batch time: 0.0004477500915527344\n",
      "[Pipeline2]: Processing 1399-1449\n"
     ]
    },
    {
     "name": "stdout",
     "output_type": "stream",
     "text": [
      "Anno batch time: 25.53166651725769\n",
      "Conv batch time: 0.0004322528839111328\n",
      "[Pipeline2]: Processing 1449-1499\n"
     ]
    },
    {
     "name": "stdout",
     "output_type": "stream",
     "text": [
      "Anno batch time: 25.505820274353027\n",
      "Conv batch time: 0.00041365623474121094\n",
      "[Pipeline2]: Processing 1499-1549\n"
     ]
    },
    {
     "name": "stdout",
     "output_type": "stream",
     "text": [
      "Anno batch time: 25.00104284286499\n",
      "Conv batch time: 0.00039577484130859375\n",
      "[Pipeline2]: Processing 1549-1599\n"
     ]
    },
    {
     "name": "stdout",
     "output_type": "stream",
     "text": [
      "Anno batch time: 23.252216339111328\n",
      "Conv batch time: 0.00042557716369628906\n",
      "[Pipeline2]: Processing 1599-1649\n"
     ]
    },
    {
     "name": "stdout",
     "output_type": "stream",
     "text": [
      "Anno batch time: 25.739584922790527\n",
      "Conv batch time: 0.00046324729919433594\n",
      "[Pipeline2]: Processing 1649-1699\n"
     ]
    },
    {
     "name": "stdout",
     "output_type": "stream",
     "text": [
      "Anno batch time: 19.03487253189087\n",
      "Conv batch time: 0.00042629241943359375\n",
      "[Pipeline2]: Processing 1699-1749\n"
     ]
    },
    {
     "name": "stdout",
     "output_type": "stream",
     "text": [
      "Anno batch time: 23.491909503936768\n",
      "Conv batch time: 0.0004856586456298828\n",
      "[Pipeline2]: Processing 1749-1799\n"
     ]
    },
    {
     "name": "stdout",
     "output_type": "stream",
     "text": [
      "Anno batch time: 23.807035207748413\n",
      "Conv batch time: 0.0004177093505859375\n",
      "[Pipeline2]: Processing 1799-1849\n"
     ]
    },
    {
     "name": "stdout",
     "output_type": "stream",
     "text": [
      "Anno batch time: 23.45645499229431\n",
      "Conv batch time: 0.0004360675811767578\n",
      "[Pipeline2]: Processing 1849-1899\n"
     ]
    },
    {
     "name": "stdout",
     "output_type": "stream",
     "text": [
      "Anno batch time: 28.806663751602173\n",
      "Conv batch time: 0.0004444122314453125\n",
      "[Pipeline2]: Processing 1899-1949\n"
     ]
    },
    {
     "name": "stdout",
     "output_type": "stream",
     "text": [
      "Anno batch time: 26.465885877609253\n",
      "Conv batch time: 0.0004334449768066406\n",
      "[Pipeline2]: Processing 1949-1999\n"
     ]
    },
    {
     "name": "stdout",
     "output_type": "stream",
     "text": [
      "Anno batch time: 21.99332594871521\n",
      "Conv batch time: 0.00042724609375\n",
      "[Pipeline2]: Processing 1999-2049\n"
     ]
    },
    {
     "name": "stdout",
     "output_type": "stream",
     "text": [
      "Anno batch time: 25.288109064102173\n",
      "Conv batch time: 0.00041675567626953125\n",
      "[Pipeline2]: Processing 2049-2099\n"
     ]
    },
    {
     "name": "stdout",
     "output_type": "stream",
     "text": [
      "Anno batch time: 31.87655019760132\n",
      "Conv batch time: 0.0004458427429199219\n",
      "[Pipeline2]: Processing 2099-2149\n"
     ]
    },
    {
     "name": "stdout",
     "output_type": "stream",
     "text": [
      "Anno batch time: 37.91359305381775\n",
      "Conv batch time: 0.00042748451232910156\n",
      "[Pipeline2]: Processing 2149-2199\n"
     ]
    },
    {
     "name": "stdout",
     "output_type": "stream",
     "text": [
      "Anno batch time: 24.420505046844482\n",
      "Conv batch time: 0.0004603862762451172\n",
      "[Pipeline2]: Processing 2199-2249\n"
     ]
    },
    {
     "name": "stdout",
     "output_type": "stream",
     "text": [
      "Anno batch time: 32.213624477386475\n",
      "Conv batch time: 0.0004584789276123047\n",
      "[Pipeline2]: Processing 2249-2299\n"
     ]
    },
    {
     "name": "stdout",
     "output_type": "stream",
     "text": [
      "Anno batch time: 27.284131050109863\n",
      "Conv batch time: 0.0003974437713623047\n",
      "[Pipeline2]: Processing 2299-2349\n"
     ]
    },
    {
     "name": "stdout",
     "output_type": "stream",
     "text": [
      "Anno batch time: 52.6398401260376\n",
      "Conv batch time: 0.0004334449768066406\n",
      "[Pipeline2]: Processing 2349-2399\n"
     ]
    },
    {
     "name": "stdout",
     "output_type": "stream",
     "text": [
      "Anno batch time: 27.102364778518677\n",
      "Conv batch time: 0.00043654441833496094\n",
      "[Pipeline2]: Processing 2399-2449\n"
     ]
    },
    {
     "name": "stdout",
     "output_type": "stream",
     "text": [
      "Anno batch time: 22.005836248397827\n",
      "Conv batch time: 0.0004627704620361328\n",
      "[Pipeline2]: Processing 2449-2499\n"
     ]
    },
    {
     "name": "stdout",
     "output_type": "stream",
     "text": [
      "Anno batch time: 30.541768074035645\n",
      "Conv batch time: 0.00043702125549316406\n",
      "[Pipeline2]: Processing 2499-2549\n"
     ]
    },
    {
     "name": "stdout",
     "output_type": "stream",
     "text": [
      "Anno batch time: 22.191554307937622\n",
      "Conv batch time: 0.0004401206970214844\n",
      "[Pipeline2]: Processing 2549-2599\n"
     ]
    },
    {
     "name": "stdout",
     "output_type": "stream",
     "text": [
      "Anno batch time: 24.741266012191772\n",
      "Conv batch time: 0.0004582405090332031\n",
      "[Pipeline2]: Processing 2599-2649\n"
     ]
    },
    {
     "name": "stdout",
     "output_type": "stream",
     "text": [
      "Anno batch time: 31.32682967185974\n",
      "Conv batch time: 0.00043702125549316406\n",
      "[Pipeline2]: Processing 2649-2699\n"
     ]
    },
    {
     "name": "stdout",
     "output_type": "stream",
     "text": [
      "Anno batch time: 25.436322689056396\n",
      "Conv batch time: 0.00044655799865722656\n",
      "[Pipeline2]: Processing 2699-2749\n"
     ]
    },
    {
     "name": "stdout",
     "output_type": "stream",
     "text": [
      "Anno batch time: 27.13284730911255\n",
      "Conv batch time: 0.0005009174346923828\n",
      "[Pipeline2]: Processing 2749-2799\n"
     ]
    },
    {
     "name": "stdout",
     "output_type": "stream",
     "text": [
      "Anno batch time: 22.480623245239258\n",
      "Conv batch time: 0.0004570484161376953\n",
      "[Pipeline2]: Processing 2799-2849\n"
     ]
    },
    {
     "name": "stdout",
     "output_type": "stream",
     "text": [
      "Anno batch time: 25.122039318084717\n",
      "Conv batch time: 0.0004353523254394531\n",
      "[Pipeline2]: Processing 2849-2899\n"
     ]
    },
    {
     "name": "stdout",
     "output_type": "stream",
     "text": [
      "Anno batch time: 29.253772258758545\n",
      "Conv batch time: 0.00042629241943359375\n",
      "[Pipeline2]: Processing 2899-2949\n"
     ]
    },
    {
     "name": "stdout",
     "output_type": "stream",
     "text": [
      "Anno batch time: 30.243031978607178\n",
      "Conv batch time: 0.00045037269592285156\n",
      "[Pipeline2]: Processing 2949-2999\n"
     ]
    },
    {
     "name": "stdout",
     "output_type": "stream",
     "text": [
      "Anno batch time: 25.946656465530396\n",
      "Conv batch time: 0.0004642009735107422\n",
      "[Pipeline2]: Processing 2999-3049\n"
     ]
    },
    {
     "name": "stdout",
     "output_type": "stream",
     "text": [
      "Anno batch time: 28.731919288635254\n",
      "Conv batch time: 0.0004773139953613281\n",
      "[Pipeline2]: Processing 3049-3099\n"
     ]
    },
    {
     "name": "stdout",
     "output_type": "stream",
     "text": [
      "Anno batch time: 24.571941137313843\n",
      "Conv batch time: 0.0004544258117675781\n",
      "[Pipeline2]: Processing 3099-3149\n"
     ]
    },
    {
     "name": "stdout",
     "output_type": "stream",
     "text": [
      "Anno batch time: 30.17284083366394\n",
      "Conv batch time: 0.00043463706970214844\n",
      "[Pipeline2]: Processing 3149-3199\n"
     ]
    },
    {
     "name": "stdout",
     "output_type": "stream",
     "text": [
      "Anno batch time: 21.718294858932495\n",
      "Conv batch time: 0.0004925727844238281\n",
      "[Pipeline2]: Processing 3199-3249\n"
     ]
    },
    {
     "name": "stdout",
     "output_type": "stream",
     "text": [
      "Anno batch time: 23.52935767173767\n",
      "Conv batch time: 0.00042438507080078125\n",
      "[Pipeline2]: Processing 3249-3299\n"
     ]
    },
    {
     "name": "stdout",
     "output_type": "stream",
     "text": [
      "Anno batch time: 25.89395046234131\n",
      "Conv batch time: 0.0004279613494873047\n",
      "[Pipeline2]: Processing 3299-3349\n"
     ]
    },
    {
     "name": "stdout",
     "output_type": "stream",
     "text": [
      "Anno batch time: 23.48581624031067\n",
      "Conv batch time: 0.00046062469482421875\n",
      "[Pipeline2]: Processing 3349-3399\n"
     ]
    },
    {
     "name": "stdout",
     "output_type": "stream",
     "text": [
      "Anno batch time: 23.6126925945282\n",
      "Conv batch time: 0.00041866302490234375\n",
      "[Pipeline2]: Processing 3399-3449\n"
     ]
    },
    {
     "name": "stdout",
     "output_type": "stream",
     "text": [
      "Anno batch time: 28.789297819137573\n",
      "Conv batch time: 0.0004961490631103516\n",
      "[Pipeline2]: Processing 3449-3499\n"
     ]
    },
    {
     "name": "stdout",
     "output_type": "stream",
     "text": [
      "Anno batch time: 24.426331996917725\n",
      "Conv batch time: 0.000423431396484375\n",
      "[Pipeline2]: Processing 3499-3549\n"
     ]
    },
    {
     "name": "stdout",
     "output_type": "stream",
     "text": [
      "Anno batch time: 26.831822633743286\n",
      "Conv batch time: 0.0004260540008544922\n",
      "[Pipeline2]: Processing 3549-3599\n"
     ]
    },
    {
     "name": "stdout",
     "output_type": "stream",
     "text": [
      "Anno batch time: 25.752260446548462\n",
      "Conv batch time: 0.0004260540008544922\n",
      "[Pipeline2]: Processing 3599-3649\n"
     ]
    },
    {
     "name": "stdout",
     "output_type": "stream",
     "text": [
      "Anno batch time: 27.6239492893219\n",
      "Conv batch time: 0.0004410743713378906\n",
      "[Pipeline2]: Processing 3649-3699\n"
     ]
    },
    {
     "name": "stdout",
     "output_type": "stream",
     "text": [
      "Anno batch time: 25.977675676345825\n",
      "Conv batch time: 0.0004355907440185547\n",
      "[Pipeline2]: Processing 3699-3749\n"
     ]
    },
    {
     "name": "stdout",
     "output_type": "stream",
     "text": [
      "Anno batch time: 24.43276023864746\n",
      "Conv batch time: 0.00040078163146972656\n",
      "[Pipeline2]: Processing 3749-3799\n"
     ]
    },
    {
     "name": "stdout",
     "output_type": "stream",
     "text": [
      "Anno batch time: 23.59850573539734\n",
      "Conv batch time: 0.0005865097045898438\n",
      "[Pipeline2]: Processing 3799-3849\n"
     ]
    },
    {
     "name": "stdout",
     "output_type": "stream",
     "text": [
      "Anno batch time: 25.418676614761353\n",
      "Conv batch time: 0.0004899501800537109\n",
      "[Pipeline2]: Processing 3849-3899\n"
     ]
    },
    {
     "name": "stdout",
     "output_type": "stream",
     "text": [
      "Anno batch time: 26.18410038948059\n",
      "Conv batch time: 0.000492095947265625\n",
      "[Pipeline2]: Processing 3899-3949\n"
     ]
    },
    {
     "name": "stdout",
     "output_type": "stream",
     "text": [
      "Anno batch time: 26.438106775283813\n",
      "Conv batch time: 0.0004489421844482422\n",
      "[Pipeline2]: Processing 3949-3999\n"
     ]
    },
    {
     "name": "stdout",
     "output_type": "stream",
     "text": [
      "Anno batch time: 36.92086172103882\n",
      "Conv batch time: 0.000431060791015625\n",
      "[Pipeline2]: Processing 3999-4049\n"
     ]
    },
    {
     "name": "stdout",
     "output_type": "stream",
     "text": [
      "Anno batch time: 26.191176652908325\n",
      "Conv batch time: 0.0004317760467529297\n",
      "[Pipeline2]: Processing 4049-4099\n"
     ]
    },
    {
     "name": "stdout",
     "output_type": "stream",
     "text": [
      "Anno batch time: 21.27811312675476\n",
      "Conv batch time: 0.000438690185546875\n",
      "[Pipeline2]: Processing 4099-4149\n"
     ]
    },
    {
     "name": "stdout",
     "output_type": "stream",
     "text": [
      "Anno batch time: 27.836679935455322\n",
      "Conv batch time: 0.0004487037658691406\n",
      "[Pipeline2]: Processing 4149-4199\n"
     ]
    },
    {
     "name": "stdout",
     "output_type": "stream",
     "text": [
      "Anno batch time: 25.79572558403015\n",
      "Conv batch time: 0.0004677772521972656\n",
      "[Pipeline2]: Processing 4199-4249\n"
     ]
    },
    {
     "name": "stdout",
     "output_type": "stream",
     "text": [
      "Anno batch time: 25.596444129943848\n",
      "Conv batch time: 0.0004534721374511719\n",
      "[Pipeline2]: Processing 4249-4299\n"
     ]
    },
    {
     "name": "stdout",
     "output_type": "stream",
     "text": [
      "Anno batch time: 26.683146953582764\n",
      "Conv batch time: 0.0004572868347167969\n",
      "[Pipeline2]: Processing 4299-4349\n"
     ]
    },
    {
     "name": "stdout",
     "output_type": "stream",
     "text": [
      "Anno batch time: 24.269259691238403\n",
      "Conv batch time: 0.00048613548278808594\n",
      "[Pipeline2]: Processing 4349-4399\n"
     ]
    },
    {
     "name": "stdout",
     "output_type": "stream",
     "text": [
      "Anno batch time: 26.03667378425598\n",
      "Conv batch time: 0.0004401206970214844\n",
      "[Pipeline2]: Processing 4399-4449\n"
     ]
    },
    {
     "name": "stdout",
     "output_type": "stream",
     "text": [
      "Anno batch time: 21.470216751098633\n",
      "Conv batch time: 0.0004546642303466797\n",
      "[Pipeline2]: Processing 4449-4499\n"
     ]
    },
    {
     "name": "stdout",
     "output_type": "stream",
     "text": [
      "Anno batch time: 21.559922695159912\n",
      "Conv batch time: 0.00045299530029296875\n",
      "[Pipeline2]: Processing 4499-4549\n"
     ]
    },
    {
     "name": "stdout",
     "output_type": "stream",
     "text": [
      "Anno batch time: 22.008407831192017\n",
      "Conv batch time: 0.00042176246643066406\n",
      "[Pipeline2]: Processing 4549-4599\n"
     ]
    },
    {
     "name": "stdout",
     "output_type": "stream",
     "text": [
      "Anno batch time: 26.426925897598267\n",
      "Conv batch time: 0.00041604042053222656\n",
      "[Pipeline2]: Processing 4599-4649\n"
     ]
    },
    {
     "name": "stdout",
     "output_type": "stream",
     "text": [
      "Anno batch time: 24.812304496765137\n",
      "Conv batch time: 0.00044035911560058594\n",
      "[Pipeline2]: Processing 4649-4699\n"
     ]
    },
    {
     "name": "stdout",
     "output_type": "stream",
     "text": [
      "Anno batch time: 22.872739553451538\n",
      "Conv batch time: 0.0004999637603759766\n",
      "[Pipeline2]: Processing 4699-4749\n"
     ]
    },
    {
     "name": "stdout",
     "output_type": "stream",
     "text": [
      "Anno batch time: 24.933613538742065\n",
      "Conv batch time: 0.0004520416259765625\n",
      "[Pipeline2]: Processing 4749-4799\n"
     ]
    },
    {
     "name": "stdout",
     "output_type": "stream",
     "text": [
      "Anno batch time: 25.504029989242554\n",
      "Conv batch time: 0.0004630088806152344\n",
      "[Pipeline2]: Processing 4799-4849\n"
     ]
    },
    {
     "name": "stdout",
     "output_type": "stream",
     "text": [
      "Anno batch time: 23.532859086990356\n",
      "Conv batch time: 0.00041794776916503906\n",
      "[Pipeline2]: Processing 4849-4899\n"
     ]
    },
    {
     "name": "stdout",
     "output_type": "stream",
     "text": [
      "Anno batch time: 26.39936923980713\n",
      "Conv batch time: 0.0004246234893798828\n",
      "[Pipeline2]: Processing 4899-4949\n"
     ]
    },
    {
     "name": "stdout",
     "output_type": "stream",
     "text": [
      "Anno batch time: 28.96867823600769\n",
      "Conv batch time: 0.0004222393035888672\n",
      "[Pipeline2]: Processing 4949-4999\n"
     ]
    },
    {
     "name": "stdout",
     "output_type": "stream",
     "text": [
      "Anno batch time: 29.160540342330933\n",
      "Conv batch time: 0.0004515647888183594\n",
      "[Pipeline2]: Processing 4999-5049\n"
     ]
    },
    {
     "name": "stdout",
     "output_type": "stream",
     "text": [
      "Anno batch time: 32.283451795578\n",
      "Conv batch time: 0.00041794776916503906\n",
      "[Pipeline2]: Processing 5049-5099\n"
     ]
    },
    {
     "name": "stdout",
     "output_type": "stream",
     "text": [
      "Anno batch time: 30.19982600212097\n",
      "Conv batch time: 0.00047588348388671875\n",
      "[Pipeline2]: Processing 5099-5149\n"
     ]
    },
    {
     "name": "stdout",
     "output_type": "stream",
     "text": [
      "Anno batch time: 28.46347713470459\n",
      "Conv batch time: 0.0004260540008544922\n",
      "[Pipeline2]: Processing 5149-5199\n"
     ]
    },
    {
     "name": "stdout",
     "output_type": "stream",
     "text": [
      "Anno batch time: 18.779057502746582\n",
      "Conv batch time: 0.0004515647888183594\n",
      "[Pipeline2]: Processing 5199-5249\n"
     ]
    },
    {
     "name": "stdout",
     "output_type": "stream",
     "text": [
      "Anno batch time: 25.031831741333008\n",
      "Conv batch time: 0.00043201446533203125\n",
      "[Pipeline2]: Processing 5249-5299\n"
     ]
    },
    {
     "name": "stdout",
     "output_type": "stream",
     "text": [
      "Anno batch time: 25.898378372192383\n",
      "Conv batch time: 0.0004413127899169922\n",
      "[Pipeline2]: Processing 5299-5349\n"
     ]
    },
    {
     "name": "stdout",
     "output_type": "stream",
     "text": [
      "Anno batch time: 32.61277890205383\n",
      "Conv batch time: 0.0004162788391113281\n",
      "[Pipeline2]: Processing 5349-5399\n"
     ]
    },
    {
     "name": "stdout",
     "output_type": "stream",
     "text": [
      "Anno batch time: 19.738789081573486\n",
      "Conv batch time: 0.00042438507080078125\n",
      "[Pipeline2]: Processing 5399-5449\n"
     ]
    },
    {
     "name": "stdout",
     "output_type": "stream",
     "text": [
      "Anno batch time: 25.985860347747803\n",
      "Conv batch time: 0.0004169940948486328\n",
      "[Pipeline2]: Processing 5449-5499\n"
     ]
    },
    {
     "name": "stdout",
     "output_type": "stream",
     "text": [
      "Anno batch time: 71.85486245155334\n",
      "Conv batch time: 0.0004487037658691406\n",
      "[Pipeline2]: Processing 5499-5549\n"
     ]
    },
    {
     "name": "stdout",
     "output_type": "stream",
     "text": [
      "Anno batch time: 25.741602420806885\n",
      "Conv batch time: 0.00043511390686035156\n",
      "[Pipeline2]: Processing 5549-5599\n"
     ]
    },
    {
     "name": "stdout",
     "output_type": "stream",
     "text": [
      "Anno batch time: 23.84628391265869\n",
      "Conv batch time: 0.000476837158203125\n",
      "[Pipeline2]: Processing 5599-5649\n"
     ]
    },
    {
     "name": "stdout",
     "output_type": "stream",
     "text": [
      "Anno batch time: 27.26282501220703\n",
      "Conv batch time: 0.0004279613494873047\n",
      "[Pipeline2]: Processing 5649-5699\n"
     ]
    },
    {
     "name": "stdout",
     "output_type": "stream",
     "text": [
      "Anno batch time: 25.92723059654236\n",
      "Conv batch time: 0.0004544258117675781\n",
      "[Pipeline2]: Processing 5699-5749\n"
     ]
    },
    {
     "name": "stdout",
     "output_type": "stream",
     "text": [
      "Anno batch time: 20.33776569366455\n",
      "Conv batch time: 0.0004718303680419922\n",
      "[Pipeline2]: Processing 5749-5799\n"
     ]
    },
    {
     "name": "stdout",
     "output_type": "stream",
     "text": [
      "Anno batch time: 22.529553413391113\n",
      "Conv batch time: 0.0004220008850097656\n",
      "[Pipeline2]: Processing 5799-5849\n"
     ]
    },
    {
     "name": "stdout",
     "output_type": "stream",
     "text": [
      "Anno batch time: 23.058727025985718\n",
      "Conv batch time: 0.0004324913024902344\n",
      "[Pipeline2]: Processing 5849-5899\n"
     ]
    },
    {
     "name": "stdout",
     "output_type": "stream",
     "text": [
      "Anno batch time: 25.804842472076416\n",
      "Conv batch time: 0.0004930496215820312\n",
      "[Pipeline2]: Processing 5899-5949\n"
     ]
    },
    {
     "name": "stdout",
     "output_type": "stream",
     "text": [
      "Anno batch time: 31.110918283462524\n",
      "Conv batch time: 0.000431060791015625\n",
      "[Pipeline2]: Processing 5949-5999\n"
     ]
    },
    {
     "name": "stdout",
     "output_type": "stream",
     "text": [
      "Anno batch time: 39.09538388252258\n",
      "Conv batch time: 0.0004146099090576172\n",
      "[Pipeline2]: Processing 5999-6049\n"
     ]
    },
    {
     "name": "stdout",
     "output_type": "stream",
     "text": [
      "Anno batch time: 26.91822385787964\n",
      "Conv batch time: 0.0004277229309082031\n",
      "[Pipeline2]: Processing 6049-6099\n"
     ]
    },
    {
     "name": "stdout",
     "output_type": "stream",
     "text": [
      "Anno batch time: 25.425520420074463\n",
      "Conv batch time: 0.0005269050598144531\n",
      "[Pipeline2]: Processing 6099-6149\n"
     ]
    },
    {
     "name": "stdout",
     "output_type": "stream",
     "text": [
      "Anno batch time: 22.400268077850342\n",
      "Conv batch time: 0.00045180320739746094\n",
      "[Pipeline2]: Processing 6149-6199\n"
     ]
    },
    {
     "name": "stdout",
     "output_type": "stream",
     "text": [
      "Anno batch time: 27.69331979751587\n",
      "Conv batch time: 0.0004279613494873047\n",
      "[Pipeline2]: Processing 6199-6249\n"
     ]
    },
    {
     "name": "stdout",
     "output_type": "stream",
     "text": [
      "Anno batch time: 44.42939209938049\n",
      "Conv batch time: 0.00045871734619140625\n",
      "[Pipeline2]: Processing 6249-6299\n"
     ]
    },
    {
     "name": "stdout",
     "output_type": "stream",
     "text": [
      "Anno batch time: 23.34852147102356\n",
      "Conv batch time: 0.00041604042053222656\n",
      "[Pipeline2]: Processing 6299-6349\n"
     ]
    },
    {
     "name": "stdout",
     "output_type": "stream",
     "text": [
      "Anno batch time: 25.83503532409668\n",
      "Conv batch time: 0.0004322528839111328\n",
      "[Pipeline2]: Processing 6349-6399\n"
     ]
    },
    {
     "name": "stdout",
     "output_type": "stream",
     "text": [
      "Anno batch time: 19.6530921459198\n",
      "Conv batch time: 0.00045680999755859375\n",
      "[Pipeline2]: Processing 6399-6449\n"
     ]
    },
    {
     "name": "stdout",
     "output_type": "stream",
     "text": [
      "Anno batch time: 26.989670753479004\n",
      "Conv batch time: 0.000423431396484375\n",
      "[Pipeline2]: Processing 6449-6499\n"
     ]
    },
    {
     "name": "stdout",
     "output_type": "stream",
     "text": [
      "Anno batch time: 27.853050470352173\n",
      "Conv batch time: 0.0004715919494628906\n",
      "[Pipeline2]: Processing 6499-6549\n"
     ]
    },
    {
     "name": "stdout",
     "output_type": "stream",
     "text": [
      "Anno batch time: 24.956384420394897\n",
      "Conv batch time: 0.0004239082336425781\n",
      "[Pipeline2]: Processing 6549-6599\n"
     ]
    },
    {
     "name": "stdout",
     "output_type": "stream",
     "text": [
      "Anno batch time: 27.948367834091187\n",
      "Conv batch time: 0.0004763603210449219\n",
      "[Pipeline2]: Processing 6599-6649\n"
     ]
    },
    {
     "name": "stdout",
     "output_type": "stream",
     "text": [
      "Anno batch time: 25.137901782989502\n",
      "Conv batch time: 0.000431060791015625\n",
      "[Pipeline2]: Processing 6649-6699\n"
     ]
    },
    {
     "name": "stdout",
     "output_type": "stream",
     "text": [
      "Anno batch time: 26.631579637527466\n",
      "Conv batch time: 0.000476837158203125\n",
      "[Pipeline2]: Processing 6699-6749\n"
     ]
    },
    {
     "name": "stdout",
     "output_type": "stream",
     "text": [
      "Anno batch time: 28.87881636619568\n",
      "Conv batch time: 0.0004458427429199219\n",
      "[Pipeline2]: Processing 6749-6799\n"
     ]
    },
    {
     "name": "stdout",
     "output_type": "stream",
     "text": [
      "Anno batch time: 25.55403184890747\n",
      "Conv batch time: 0.0004885196685791016\n",
      "[Pipeline2]: Processing 6799-6849\n"
     ]
    },
    {
     "name": "stdout",
     "output_type": "stream",
     "text": [
      "Anno batch time: 28.41728377342224\n",
      "Conv batch time: 0.0005381107330322266\n",
      "[Pipeline2]: Processing 6849-6899\n"
     ]
    },
    {
     "name": "stdout",
     "output_type": "stream",
     "text": [
      "Anno batch time: 22.113785982131958\n",
      "Conv batch time: 0.00042319297790527344\n",
      "[Pipeline2]: Processing 6899-6949\n"
     ]
    },
    {
     "name": "stdout",
     "output_type": "stream",
     "text": [
      "Anno batch time: 26.591540336608887\n",
      "Conv batch time: 0.00046062469482421875\n",
      "[Pipeline2]: Processing 6949-6999\n"
     ]
    },
    {
     "name": "stdout",
     "output_type": "stream",
     "text": [
      "Anno batch time: 26.12321949005127\n",
      "Conv batch time: 0.00041937828063964844\n",
      "[Pipeline2]: Processing 6999-7049\n"
     ]
    },
    {
     "name": "stdout",
     "output_type": "stream",
     "text": [
      "Anno batch time: 19.167468070983887\n",
      "Conv batch time: 0.0004341602325439453\n",
      "[Pipeline2]: Processing 7049-7099\n"
     ]
    },
    {
     "name": "stdout",
     "output_type": "stream",
     "text": [
      "Anno batch time: 25.720898151397705\n",
      "Conv batch time: 0.0004036426544189453\n",
      "[Pipeline2]: Processing 7099-7149\n"
     ]
    },
    {
     "name": "stdout",
     "output_type": "stream",
     "text": [
      "Anno batch time: 22.69009232521057\n",
      "Conv batch time: 0.00043773651123046875\n",
      "[Pipeline2]: Processing 7149-7199\n"
     ]
    },
    {
     "name": "stdout",
     "output_type": "stream",
     "text": [
      "Anno batch time: 32.605172872543335\n",
      "Conv batch time: 0.0004417896270751953\n",
      "[Pipeline2]: Processing 7199-7249\n"
     ]
    },
    {
     "name": "stdout",
     "output_type": "stream",
     "text": [
      "Anno batch time: 24.878323554992676\n",
      "Conv batch time: 0.0004572868347167969\n",
      "[Pipeline2]: Processing 7249-7299\n"
     ]
    },
    {
     "name": "stdout",
     "output_type": "stream",
     "text": [
      "Anno batch time: 28.356626987457275\n",
      "Conv batch time: 0.0004038810729980469\n",
      "[Pipeline2]: Processing 7299-7349\n"
     ]
    },
    {
     "name": "stdout",
     "output_type": "stream",
     "text": [
      "Anno batch time: 24.60801076889038\n",
      "Conv batch time: 0.0004298686981201172\n",
      "[Pipeline2]: Processing 7349-7399\n"
     ]
    },
    {
     "name": "stdout",
     "output_type": "stream",
     "text": [
      "Anno batch time: 24.22220253944397\n",
      "Conv batch time: 0.00041985511779785156\n",
      "[Pipeline2]: Processing 7399-7449\n"
     ]
    },
    {
     "name": "stdout",
     "output_type": "stream",
     "text": [
      "Anno batch time: 28.05668067932129\n",
      "Conv batch time: 0.0004036426544189453\n",
      "[Pipeline2]: Processing 7449-7499\n"
     ]
    },
    {
     "name": "stdout",
     "output_type": "stream",
     "text": [
      "Anno batch time: 36.60446524620056\n",
      "Conv batch time: 0.0004487037658691406\n",
      "[Pipeline2]: Processing 7499-7549\n"
     ]
    },
    {
     "name": "stdout",
     "output_type": "stream",
     "text": [
      "Anno batch time: 34.89463520050049\n",
      "Conv batch time: 0.00045752525329589844\n",
      "[Pipeline2]: Processing 7549-7599\n"
     ]
    },
    {
     "name": "stdout",
     "output_type": "stream",
     "text": [
      "Anno batch time: 25.053651332855225\n",
      "Conv batch time: 0.00042629241943359375\n",
      "[Pipeline2]: Processing 7599-7649\n"
     ]
    },
    {
     "name": "stdout",
     "output_type": "stream",
     "text": [
      "Anno batch time: 23.781997680664062\n",
      "Conv batch time: 0.00045871734619140625\n",
      "[Pipeline2]: Processing 7649-7699\n"
     ]
    },
    {
     "name": "stdout",
     "output_type": "stream",
     "text": [
      "Anno batch time: 25.90678095817566\n",
      "Conv batch time: 0.0004570484161376953\n",
      "[Pipeline2]: Processing 7699-7749\n"
     ]
    },
    {
     "name": "stdout",
     "output_type": "stream",
     "text": [
      "Anno batch time: 25.543399572372437\n",
      "Conv batch time: 0.00046133995056152344\n",
      "[Pipeline2]: Processing 7749-7799\n"
     ]
    },
    {
     "name": "stdout",
     "output_type": "stream",
     "text": [
      "Anno batch time: 26.374494791030884\n",
      "Conv batch time: 0.0004546642303466797\n",
      "[Pipeline2]: Processing 7799-7849\n"
     ]
    },
    {
     "name": "stdout",
     "output_type": "stream",
     "text": [
      "Anno batch time: 25.705856323242188\n",
      "Conv batch time: 0.0004763603210449219\n",
      "[Pipeline2]: Processing 7849-7899\n"
     ]
    },
    {
     "name": "stdout",
     "output_type": "stream",
     "text": [
      "Anno batch time: 27.655993223190308\n",
      "Conv batch time: 0.00042319297790527344\n",
      "[Pipeline2]: Processing 7899-7949\n"
     ]
    },
    {
     "name": "stdout",
     "output_type": "stream",
     "text": [
      "Anno batch time: 24.97989320755005\n",
      "Conv batch time: 0.0005199909210205078\n",
      "[Pipeline2]: Processing 7949-7999\n"
     ]
    },
    {
     "name": "stdout",
     "output_type": "stream",
     "text": [
      "Anno batch time: 23.972667932510376\n",
      "Conv batch time: 0.00043320655822753906\n",
      "[Pipeline2]: Processing 7999-8049\n"
     ]
    },
    {
     "name": "stdout",
     "output_type": "stream",
     "text": [
      "Anno batch time: 25.008285522460938\n",
      "Conv batch time: 0.0004253387451171875\n",
      "[Pipeline2]: Processing 8049-8099\n"
     ]
    },
    {
     "name": "stdout",
     "output_type": "stream",
     "text": [
      "Anno batch time: 21.45895004272461\n",
      "Conv batch time: 0.00044536590576171875\n",
      "[Pipeline2]: Processing 8099-8149\n"
     ]
    },
    {
     "name": "stdout",
     "output_type": "stream",
     "text": [
      "Anno batch time: 25.72687315940857\n",
      "Conv batch time: 0.0004191398620605469\n",
      "[Pipeline2]: Processing 8149-8199\n"
     ]
    },
    {
     "name": "stdout",
     "output_type": "stream",
     "text": [
      "Anno batch time: 28.8983473777771\n",
      "Conv batch time: 0.0004687309265136719\n",
      "[Pipeline2]: Processing 8199-8249\n"
     ]
    },
    {
     "name": "stdout",
     "output_type": "stream",
     "text": [
      "Anno batch time: 40.62297248840332\n",
      "Conv batch time: 0.00044417381286621094\n",
      "[Pipeline2]: Processing 8249-8299\n"
     ]
    },
    {
     "name": "stdout",
     "output_type": "stream",
     "text": [
      "Anno batch time: 22.017130136489868\n",
      "Conv batch time: 0.0004343986511230469\n",
      "[Pipeline2]: Processing 8299-8349\n"
     ]
    },
    {
     "name": "stdout",
     "output_type": "stream",
     "text": [
      "Anno batch time: 24.109140872955322\n",
      "Conv batch time: 0.0004246234893798828\n",
      "[Pipeline2]: Processing 8349-8399\n"
     ]
    },
    {
     "name": "stdout",
     "output_type": "stream",
     "text": [
      "Anno batch time: 24.804287910461426\n",
      "Conv batch time: 0.00042366981506347656\n",
      "[Pipeline2]: Processing 8399-8449\n"
     ]
    },
    {
     "name": "stdout",
     "output_type": "stream",
     "text": [
      "Anno batch time: 20.909226894378662\n",
      "Conv batch time: 0.0004291534423828125\n",
      "[Pipeline2]: Processing 8449-8499\n"
     ]
    },
    {
     "name": "stdout",
     "output_type": "stream",
     "text": [
      "Anno batch time: 35.937477588653564\n",
      "Conv batch time: 0.0004131793975830078\n",
      "[Pipeline2]: Processing 8499-8549\n"
     ]
    },
    {
     "name": "stdout",
     "output_type": "stream",
     "text": [
      "Anno batch time: 23.007885456085205\n",
      "Conv batch time: 0.0004062652587890625\n",
      "[Pipeline2]: Processing 8549-8599\n"
     ]
    },
    {
     "name": "stdout",
     "output_type": "stream",
     "text": [
      "Anno batch time: 32.438616037368774\n",
      "Conv batch time: 0.0003941059112548828\n",
      "[Pipeline2]: Processing 8599-8649\n"
     ]
    },
    {
     "name": "stdout",
     "output_type": "stream",
     "text": [
      "Anno batch time: 28.052841186523438\n",
      "Conv batch time: 0.0004000663757324219\n",
      "[Pipeline2]: Processing 8649-8699\n"
     ]
    },
    {
     "name": "stdout",
     "output_type": "stream",
     "text": [
      "Anno batch time: 27.480213403701782\n",
      "Conv batch time: 0.00043702125549316406\n",
      "[Pipeline2]: Processing 8699-8749\n"
     ]
    },
    {
     "name": "stdout",
     "output_type": "stream",
     "text": [
      "Anno batch time: 21.98413920402527\n",
      "Conv batch time: 0.0004131793975830078\n",
      "[Pipeline2]: Processing 8749-8799\n"
     ]
    },
    {
     "name": "stdout",
     "output_type": "stream",
     "text": [
      "Anno batch time: 25.948339223861694\n",
      "Conv batch time: 0.000484466552734375\n",
      "[Pipeline2]: Processing 8799-8849\n"
     ]
    },
    {
     "name": "stdout",
     "output_type": "stream",
     "text": [
      "Anno batch time: 30.16936421394348\n",
      "Conv batch time: 0.0004296302795410156\n",
      "[Pipeline2]: Processing 8849-8899\n"
     ]
    },
    {
     "name": "stdout",
     "output_type": "stream",
     "text": [
      "Anno batch time: 26.07380747795105\n",
      "Conv batch time: 0.0004885196685791016\n",
      "[Pipeline2]: Processing 8899-8949\n"
     ]
    },
    {
     "name": "stdout",
     "output_type": "stream",
     "text": [
      "Anno batch time: 25.62327766418457\n",
      "Conv batch time: 0.00045800209045410156\n",
      "[Pipeline2]: Processing 8949-8999\n"
     ]
    },
    {
     "name": "stdout",
     "output_type": "stream",
     "text": [
      "Anno batch time: 26.037457942962646\n",
      "Conv batch time: 0.0005218982696533203\n",
      "[Pipeline2]: Processing 8999-9049\n"
     ]
    },
    {
     "name": "stdout",
     "output_type": "stream",
     "text": [
      "Anno batch time: 26.298852682113647\n",
      "Conv batch time: 0.00046539306640625\n",
      "[Pipeline2]: Processing 9049-9099\n"
     ]
    },
    {
     "name": "stdout",
     "output_type": "stream",
     "text": [
      "Anno batch time: 29.168870449066162\n",
      "Conv batch time: 0.000438690185546875\n",
      "[Pipeline2]: Processing 9099-9149\n"
     ]
    },
    {
     "name": "stdout",
     "output_type": "stream",
     "text": [
      "Anno batch time: 26.08271622657776\n",
      "Conv batch time: 0.0004410743713378906\n",
      "[Pipeline2]: Processing 9149-9199\n"
     ]
    },
    {
     "name": "stdout",
     "output_type": "stream",
     "text": [
      "Anno batch time: 28.015419006347656\n",
      "Conv batch time: 0.0004355907440185547\n",
      "[Pipeline2]: Processing 9199-9249\n"
     ]
    },
    {
     "name": "stdout",
     "output_type": "stream",
     "text": [
      "Anno batch time: 26.57086992263794\n",
      "Conv batch time: 0.00045108795166015625\n",
      "[Pipeline2]: Processing 9249-9299\n"
     ]
    },
    {
     "name": "stdout",
     "output_type": "stream",
     "text": [
      "Anno batch time: 62.833324670791626\n",
      "Conv batch time: 0.0004730224609375\n",
      "[Pipeline2]: Processing 9299-9349\n"
     ]
    },
    {
     "name": "stdout",
     "output_type": "stream",
     "text": [
      "Anno batch time: 22.003243684768677\n",
      "Conv batch time: 0.0004737377166748047\n",
      "[Pipeline2]: Processing 9349-9399\n"
     ]
    },
    {
     "name": "stdout",
     "output_type": "stream",
     "text": [
      "Anno batch time: 28.412961721420288\n",
      "Conv batch time: 0.00041794776916503906\n",
      "[Pipeline2]: Processing 9399-9449\n"
     ]
    },
    {
     "name": "stdout",
     "output_type": "stream",
     "text": [
      "Anno batch time: 23.406800031661987\n",
      "Conv batch time: 0.0004456043243408203\n",
      "[Pipeline2]: Processing 9449-9499\n"
     ]
    },
    {
     "name": "stdout",
     "output_type": "stream",
     "text": [
      "Anno batch time: 24.766723155975342\n",
      "Conv batch time: 0.0004413127899169922\n",
      "[Pipeline2]: Processing 9499-9549\n"
     ]
    },
    {
     "name": "stdout",
     "output_type": "stream",
     "text": [
      "Anno batch time: 22.13891363143921\n",
      "Conv batch time: 0.00042748451232910156\n",
      "[Pipeline2]: Processing 9549-9599\n"
     ]
    },
    {
     "name": "stdout",
     "output_type": "stream",
     "text": [
      "Anno batch time: 20.744834184646606\n",
      "Conv batch time: 0.00041556358337402344\n",
      "[Pipeline2]: Processing 9599-9649\n"
     ]
    },
    {
     "name": "stdout",
     "output_type": "stream",
     "text": [
      "Anno batch time: 30.17965078353882\n",
      "Conv batch time: 0.00046539306640625\n",
      "[Pipeline2]: Processing 9649-9699\n"
     ]
    },
    {
     "name": "stdout",
     "output_type": "stream",
     "text": [
      "Anno batch time: 22.653128147125244\n",
      "Conv batch time: 0.00040984153747558594\n",
      "[Pipeline2]: Processing 9699-9749\n"
     ]
    },
    {
     "name": "stdout",
     "output_type": "stream",
     "text": [
      "Anno batch time: 21.06417441368103\n",
      "Conv batch time: 0.00043582916259765625\n",
      "[Pipeline2]: Processing 9749-9799\n"
     ]
    },
    {
     "name": "stdout",
     "output_type": "stream",
     "text": [
      "Anno batch time: 24.3774893283844\n",
      "Conv batch time: 0.0005068778991699219\n",
      "[Pipeline2]: Processing 9799-9849\n"
     ]
    },
    {
     "name": "stdout",
     "output_type": "stream",
     "text": [
      "Anno batch time: 26.75130271911621\n",
      "Conv batch time: 0.00042891502380371094\n"
     ]
    },
    {
     "name": "stdout",
     "output_type": "stream",
     "text": [
      "[Pipeline2]: Processing 9849-9899\n"
     ]
    },
    {
     "name": "stdout",
     "output_type": "stream",
     "text": [
      "Anno batch time: 26.49466037750244\n",
      "Conv batch time: 0.0004284381866455078\n",
      "[Pipeline2]: Processing 9899-9949\n"
     ]
    },
    {
     "name": "stdout",
     "output_type": "stream",
     "text": [
      "Anno batch time: 21.923014640808105\n",
      "Conv batch time: 0.0004286766052246094\n",
      "[Pipeline2]: Processing 9949-9999\n"
     ]
    },
    {
     "name": "stdout",
     "output_type": "stream",
     "text": [
      "Anno batch time: 21.326568841934204\n",
      "Conv batch time: 0.0004696846008300781\n"
     ]
    },
    {
     "name": "stdout",
     "output_type": "stream",
     "text": [
      "[Pipeline2]: Processing 9999-10049\n"
     ]
    },
    {
     "name": "stdout",
     "output_type": "stream",
     "text": [
      "Anno batch time: 22.39099383354187\n",
      "Conv batch time: 0.0004608631134033203\n",
      "[Pipeline2]: Processing 10049-10099\n"
     ]
    },
    {
     "name": "stdout",
     "output_type": "stream",
     "text": [
      "Anno batch time: 22.44303870201111\n",
      "Conv batch time: 0.0004432201385498047\n"
     ]
    },
    {
     "name": "stdout",
     "output_type": "stream",
     "text": [
      "[Pipeline2]: Processing 10099-10149\n"
     ]
    },
    {
     "name": "stdout",
     "output_type": "stream",
     "text": [
      "Anno batch time: 24.99172854423523\n",
      "Conv batch time: 0.000461578369140625\n"
     ]
    },
    {
     "name": "stdout",
     "output_type": "stream",
     "text": [
      "[Pipeline2]: Processing 10149-10199\n"
     ]
    },
    {
     "name": "stdout",
     "output_type": "stream",
     "text": [
      "Anno batch time: 25.241407871246338\n",
      "Conv batch time: 0.000453948974609375\n"
     ]
    },
    {
     "name": "stdout",
     "output_type": "stream",
     "text": [
      "[Pipeline2]: Processing 10199-10249\n"
     ]
    },
    {
     "name": "stdout",
     "output_type": "stream",
     "text": [
      "Anno batch time: 29.78983497619629\n",
      "Conv batch time: 0.00047469139099121094\n"
     ]
    },
    {
     "name": "stdout",
     "output_type": "stream",
     "text": [
      "[Pipeline2]: Processing 10249-10299\n"
     ]
    },
    {
     "name": "stdout",
     "output_type": "stream",
     "text": [
      "Anno batch time: 28.687852144241333\n",
      "Conv batch time: 0.00043654441833496094\n"
     ]
    },
    {
     "name": "stdout",
     "output_type": "stream",
     "text": [
      "[Pipeline2]: Processing 10299-10349\n"
     ]
    },
    {
     "name": "stdout",
     "output_type": "stream",
     "text": [
      "Anno batch time: 23.52144718170166\n",
      "Conv batch time: 0.00048542022705078125\n"
     ]
    },
    {
     "name": "stdout",
     "output_type": "stream",
     "text": [
      "[Pipeline2]: Processing 10349-10399\n"
     ]
    },
    {
     "name": "stdout",
     "output_type": "stream",
     "text": [
      "Anno batch time: 21.0019793510437\n",
      "Conv batch time: 0.0004527568817138672\n"
     ]
    },
    {
     "name": "stdout",
     "output_type": "stream",
     "text": [
      "[Pipeline2]: Processing 10399-10449\n"
     ]
    },
    {
     "name": "stdout",
     "output_type": "stream",
     "text": [
      "Anno batch time: 22.894415140151978\n",
      "Conv batch time: 0.0004286766052246094\n"
     ]
    },
    {
     "name": "stdout",
     "output_type": "stream",
     "text": [
      "[Pipeline2]: Processing 10449-10499\n"
     ]
    },
    {
     "name": "stdout",
     "output_type": "stream",
     "text": [
      "Anno batch time: 24.90496516227722\n",
      "Conv batch time: 0.0004467964172363281\n"
     ]
    },
    {
     "name": "stdout",
     "output_type": "stream",
     "text": [
      "[Pipeline2]: Processing 10499-10549\n"
     ]
    },
    {
     "name": "stdout",
     "output_type": "stream",
     "text": [
      "Anno batch time: 24.419896364212036\n",
      "Conv batch time: 0.0004088878631591797\n"
     ]
    },
    {
     "name": "stdout",
     "output_type": "stream",
     "text": [
      "[Pipeline2]: Processing 10549-10599\n"
     ]
    },
    {
     "name": "stdout",
     "output_type": "stream",
     "text": [
      "Anno batch time: 20.47238802909851\n",
      "Conv batch time: 0.0003914833068847656\n"
     ]
    },
    {
     "name": "stdout",
     "output_type": "stream",
     "text": [
      "[Pipeline2]: Processing 10599-10649\n"
     ]
    },
    {
     "name": "stdout",
     "output_type": "stream",
     "text": [
      "Anno batch time: 26.992079734802246\n",
      "Conv batch time: 0.00045418739318847656\n"
     ]
    },
    {
     "name": "stdout",
     "output_type": "stream",
     "text": [
      "[Pipeline2]: Processing 10649-10699\n"
     ]
    },
    {
     "name": "stdout",
     "output_type": "stream",
     "text": [
      "Anno batch time: 22.958566188812256\n",
      "Conv batch time: 0.00041961669921875\n"
     ]
    },
    {
     "name": "stdout",
     "output_type": "stream",
     "text": [
      "[Pipeline2]: Processing 10699-10749\n"
     ]
    },
    {
     "name": "stdout",
     "output_type": "stream",
     "text": [
      "Anno batch time: 25.7669997215271\n",
      "Conv batch time: 0.0004036426544189453\n"
     ]
    },
    {
     "name": "stdout",
     "output_type": "stream",
     "text": [
      "[Pipeline2]: Processing 10749-10799\n"
     ]
    },
    {
     "name": "stdout",
     "output_type": "stream",
     "text": [
      "Anno batch time: 25.678266286849976\n",
      "Conv batch time: 0.0004382133483886719\n"
     ]
    },
    {
     "name": "stdout",
     "output_type": "stream",
     "text": [
      "[Pipeline2]: Processing 10799-10849\n"
     ]
    },
    {
     "name": "stdout",
     "output_type": "stream",
     "text": [
      "Anno batch time: 22.449220895767212\n",
      "Conv batch time: 0.0004241466522216797\n"
     ]
    },
    {
     "name": "stdout",
     "output_type": "stream",
     "text": [
      "[Pipeline2]: Processing 10849-10899\n"
     ]
    },
    {
     "name": "stdout",
     "output_type": "stream",
     "text": [
      "Anno batch time: 27.280386924743652\n",
      "Conv batch time: 0.0004603862762451172\n"
     ]
    },
    {
     "name": "stdout",
     "output_type": "stream",
     "text": [
      "[Pipeline2]: Processing 10899-10949\n"
     ]
    },
    {
     "name": "stdout",
     "output_type": "stream",
     "text": [
      "Anno batch time: 26.186798095703125\n",
      "Conv batch time: 0.00044226646423339844\n"
     ]
    },
    {
     "name": "stdout",
     "output_type": "stream",
     "text": [
      "[Pipeline2]: Processing 10949-10999\n"
     ]
    },
    {
     "name": "stdout",
     "output_type": "stream",
     "text": [
      "Anno batch time: 26.25696611404419\n",
      "Conv batch time: 0.0004363059997558594\n"
     ]
    },
    {
     "name": "stdout",
     "output_type": "stream",
     "text": [
      "[Pipeline2]: Processing 10999-11049\n"
     ]
    },
    {
     "name": "stdout",
     "output_type": "stream",
     "text": [
      "Anno batch time: 26.497182369232178\n",
      "Conv batch time: 0.0004303455352783203\n"
     ]
    },
    {
     "name": "stdout",
     "output_type": "stream",
     "text": [
      "[Pipeline2]: Processing 11049-11099\n"
     ]
    },
    {
     "name": "stdout",
     "output_type": "stream",
     "text": [
      "Anno batch time: 33.49411106109619\n",
      "Conv batch time: 0.0005254745483398438\n"
     ]
    },
    {
     "name": "stdout",
     "output_type": "stream",
     "text": [
      "[Pipeline2]: Processing 11099-11149\n"
     ]
    },
    {
     "name": "stdout",
     "output_type": "stream",
     "text": [
      "Anno batch time: 29.124710083007812\n",
      "Conv batch time: 0.00042438507080078125\n"
     ]
    },
    {
     "name": "stdout",
     "output_type": "stream",
     "text": [
      "[Pipeline2]: Processing 11149-11199\n"
     ]
    },
    {
     "name": "stdout",
     "output_type": "stream",
     "text": [
      "Anno batch time: 24.34067702293396\n",
      "Conv batch time: 0.0004391670227050781\n"
     ]
    },
    {
     "name": "stdout",
     "output_type": "stream",
     "text": [
      "[Pipeline2]: Processing 11199-11249\n"
     ]
    },
    {
     "name": "stdout",
     "output_type": "stream",
     "text": [
      "Anno batch time: 38.304869174957275\n",
      "Conv batch time: 0.0004887580871582031\n"
     ]
    },
    {
     "name": "stdout",
     "output_type": "stream",
     "text": [
      "[Pipeline2]: Processing 11249-11299\n"
     ]
    },
    {
     "name": "stdout",
     "output_type": "stream",
     "text": [
      "Anno batch time: 21.26553177833557\n",
      "Conv batch time: 0.0004303455352783203\n"
     ]
    },
    {
     "name": "stdout",
     "output_type": "stream",
     "text": [
      "[Pipeline2]: Processing 11299-11349\n"
     ]
    },
    {
     "name": "stdout",
     "output_type": "stream",
     "text": [
      "Anno batch time: 25.966803073883057\n",
      "Conv batch time: 0.00044608116149902344\n"
     ]
    },
    {
     "name": "stdout",
     "output_type": "stream",
     "text": [
      "[Pipeline2]: Processing 11349-11399\n"
     ]
    },
    {
     "name": "stdout",
     "output_type": "stream",
     "text": [
      "Anno batch time: 28.80046010017395\n",
      "Conv batch time: 0.00042700767517089844\n"
     ]
    },
    {
     "name": "stdout",
     "output_type": "stream",
     "text": [
      "[Pipeline2]: Processing 11399-11449\n"
     ]
    },
    {
     "name": "stdout",
     "output_type": "stream",
     "text": [
      "Anno batch time: 24.324781894683838\n",
      "Conv batch time: 0.0004496574401855469\n"
     ]
    },
    {
     "name": "stdout",
     "output_type": "stream",
     "text": [
      "[Pipeline2]: Processing 11449-11499\n"
     ]
    },
    {
     "name": "stdout",
     "output_type": "stream",
     "text": [
      "Anno batch time: 23.874577045440674\n",
      "Conv batch time: 0.00046324729919433594\n"
     ]
    },
    {
     "name": "stdout",
     "output_type": "stream",
     "text": [
      "[Pipeline2]: Processing 11499-11549\n"
     ]
    },
    {
     "name": "stdout",
     "output_type": "stream",
     "text": [
      "Anno batch time: 22.25076937675476\n",
      "Conv batch time: 0.0004143714904785156\n"
     ]
    },
    {
     "name": "stdout",
     "output_type": "stream",
     "text": [
      "[Pipeline2]: Processing 11549-11599\n"
     ]
    },
    {
     "name": "stdout",
     "output_type": "stream",
     "text": [
      "Anno batch time: 26.792023181915283\n",
      "Conv batch time: 0.0004322528839111328\n"
     ]
    },
    {
     "name": "stdout",
     "output_type": "stream",
     "text": [
      "[Pipeline2]: Processing 11599-11649\n"
     ]
    },
    {
     "name": "stdout",
     "output_type": "stream",
     "text": [
      "Anno batch time: 26.65095591545105\n",
      "Conv batch time: 0.00045871734619140625\n"
     ]
    },
    {
     "name": "stdout",
     "output_type": "stream",
     "text": [
      "[Pipeline2]: Processing 11649-11699\n"
     ]
    },
    {
     "name": "stdout",
     "output_type": "stream",
     "text": [
      "Anno batch time: 26.342200994491577\n",
      "Conv batch time: 0.00044536590576171875\n"
     ]
    },
    {
     "name": "stdout",
     "output_type": "stream",
     "text": [
      "[Pipeline2]: Processing 11699-11749\n"
     ]
    },
    {
     "name": "stdout",
     "output_type": "stream",
     "text": [
      "Anno batch time: 25.09135627746582\n",
      "Conv batch time: 0.00048279762268066406\n"
     ]
    },
    {
     "name": "stdout",
     "output_type": "stream",
     "text": [
      "[Pipeline2]: Processing 11749-11799\n"
     ]
    },
    {
     "name": "stdout",
     "output_type": "stream",
     "text": [
      "Anno batch time: 27.74005627632141\n",
      "Conv batch time: 0.00047278404235839844\n"
     ]
    },
    {
     "name": "stdout",
     "output_type": "stream",
     "text": [
      "[Pipeline2]: Processing 11799-11849\n"
     ]
    },
    {
     "name": "stdout",
     "output_type": "stream",
     "text": [
      "Anno batch time: 28.788654327392578\n",
      "Conv batch time: 0.00047707557678222656\n"
     ]
    },
    {
     "name": "stdout",
     "output_type": "stream",
     "text": [
      "[Pipeline2]: Processing 11849-11899\n"
     ]
    },
    {
     "name": "stdout",
     "output_type": "stream",
     "text": [
      "Anno batch time: 25.074153900146484\n",
      "Conv batch time: 0.0004489421844482422\n"
     ]
    },
    {
     "name": "stdout",
     "output_type": "stream",
     "text": [
      "[Pipeline2]: Processing 11899-11949\n"
     ]
    },
    {
     "name": "stdout",
     "output_type": "stream",
     "text": [
      "Anno batch time: 26.603501081466675\n",
      "Conv batch time: 0.0004608631134033203\n"
     ]
    },
    {
     "name": "stdout",
     "output_type": "stream",
     "text": [
      "[Pipeline2]: Processing 11949-11999\n"
     ]
    },
    {
     "name": "stdout",
     "output_type": "stream",
     "text": [
      "Anno batch time: 20.33033847808838\n",
      "Conv batch time: 0.00041866302490234375\n"
     ]
    },
    {
     "name": "stdout",
     "output_type": "stream",
     "text": [
      "[Pipeline2]: Processing 11999-12049\n"
     ]
    },
    {
     "name": "stdout",
     "output_type": "stream",
     "text": [
      "Anno batch time: 23.377640962600708\n",
      "Conv batch time: 0.0004725456237792969\n"
     ]
    },
    {
     "name": "stdout",
     "output_type": "stream",
     "text": [
      "[Pipeline2]: Processing 12049-12099\n"
     ]
    },
    {
     "name": "stdout",
     "output_type": "stream",
     "text": [
      "Anno batch time: 24.213639974594116\n",
      "Conv batch time: 0.0004515647888183594\n"
     ]
    },
    {
     "name": "stdout",
     "output_type": "stream",
     "text": [
      "[Pipeline2]: Processing 12099-12149\n"
     ]
    },
    {
     "name": "stdout",
     "output_type": "stream",
     "text": [
      "Anno batch time: 25.395150423049927\n",
      "Conv batch time: 0.0006475448608398438\n"
     ]
    },
    {
     "name": "stdout",
     "output_type": "stream",
     "text": [
      "[Pipeline2]: Processing 12149-12199\n"
     ]
    },
    {
     "name": "stdout",
     "output_type": "stream",
     "text": [
      "Anno batch time: 23.34657096862793\n",
      "Conv batch time: 0.00043392181396484375\n"
     ]
    },
    {
     "name": "stdout",
     "output_type": "stream",
     "text": [
      "[Pipeline2]: Processing 12199-12249\n"
     ]
    },
    {
     "name": "stdout",
     "output_type": "stream",
     "text": [
      "Anno batch time: 26.97483992576599\n",
      "Conv batch time: 0.00044465065002441406\n"
     ]
    },
    {
     "name": "stdout",
     "output_type": "stream",
     "text": [
      "[Pipeline2]: Processing 12249-12299\n"
     ]
    },
    {
     "name": "stdout",
     "output_type": "stream",
     "text": [
      "Anno batch time: 23.948189735412598\n",
      "Conv batch time: 0.00042438507080078125\n"
     ]
    },
    {
     "name": "stdout",
     "output_type": "stream",
     "text": [
      "[Pipeline2]: Processing 12299-12349\n"
     ]
    },
    {
     "name": "stdout",
     "output_type": "stream",
     "text": [
      "Anno batch time: 23.215537786483765\n",
      "Conv batch time: 0.00040435791015625\n"
     ]
    },
    {
     "name": "stdout",
     "output_type": "stream",
     "text": [
      "[Pipeline2]: Processing 12349-12399\n"
     ]
    },
    {
     "name": "stdout",
     "output_type": "stream",
     "text": [
      "Anno batch time: 22.98237681388855\n",
      "Conv batch time: 0.00045752525329589844\n"
     ]
    },
    {
     "name": "stdout",
     "output_type": "stream",
     "text": [
      "[Pipeline2]: Processing 12399-12449\n"
     ]
    },
    {
     "name": "stdout",
     "output_type": "stream",
     "text": [
      "Anno batch time: 31.781909704208374\n",
      "Conv batch time: 0.0004506111145019531\n"
     ]
    },
    {
     "name": "stdout",
     "output_type": "stream",
     "text": [
      "[Pipeline2]: Processing 12449-12499\n"
     ]
    },
    {
     "name": "stdout",
     "output_type": "stream",
     "text": [
      "Anno batch time: 23.408332109451294\n",
      "Conv batch time: 0.0004398822784423828\n"
     ]
    },
    {
     "name": "stdout",
     "output_type": "stream",
     "text": [
      "[Pipeline2]: Processing 12499-12549\n"
     ]
    },
    {
     "name": "stdout",
     "output_type": "stream",
     "text": [
      "Anno batch time: 36.01936101913452\n",
      "Conv batch time: 0.0004818439483642578\n"
     ]
    },
    {
     "name": "stdout",
     "output_type": "stream",
     "text": [
      "[Pipeline2]: Processing 12549-12599\n"
     ]
    },
    {
     "name": "stdout",
     "output_type": "stream",
     "text": [
      "Anno batch time: 23.1715190410614\n",
      "Conv batch time: 0.00042891502380371094\n"
     ]
    },
    {
     "name": "stdout",
     "output_type": "stream",
     "text": [
      "[Pipeline2]: Processing 12599-12649\n"
     ]
    },
    {
     "name": "stdout",
     "output_type": "stream",
     "text": [
      "Anno batch time: 23.06736969947815\n",
      "Conv batch time: 0.000438690185546875\n"
     ]
    },
    {
     "name": "stdout",
     "output_type": "stream",
     "text": [
      "[Pipeline2]: Processing 12649-12699\n"
     ]
    },
    {
     "name": "stdout",
     "output_type": "stream",
     "text": [
      "Anno batch time: 28.693012714385986\n",
      "Conv batch time: 0.0005140304565429688\n"
     ]
    },
    {
     "name": "stdout",
     "output_type": "stream",
     "text": [
      "[Pipeline2]: Processing 12699-12749\n"
     ]
    },
    {
     "name": "stdout",
     "output_type": "stream",
     "text": [
      "Anno batch time: 27.474546194076538\n",
      "Conv batch time: 0.00043129920959472656\n"
     ]
    },
    {
     "name": "stdout",
     "output_type": "stream",
     "text": [
      "[Pipeline2]: Processing 12749-12799\n"
     ]
    },
    {
     "name": "stdout",
     "output_type": "stream",
     "text": [
      "Anno batch time: 25.742496252059937\n",
      "Conv batch time: 0.0004436969757080078\n"
     ]
    },
    {
     "name": "stdout",
     "output_type": "stream",
     "text": [
      "[Pipeline2]: Processing 12799-12849\n"
     ]
    },
    {
     "name": "stdout",
     "output_type": "stream",
     "text": [
      "Anno batch time: 29.02515149116516\n",
      "Conv batch time: 0.0004477500915527344\n"
     ]
    },
    {
     "name": "stdout",
     "output_type": "stream",
     "text": [
      "[Pipeline2]: Processing 12849-12899\n"
     ]
    },
    {
     "name": "stdout",
     "output_type": "stream",
     "text": [
      "Anno batch time: 25.75163769721985\n",
      "Conv batch time: 0.000469207763671875\n"
     ]
    },
    {
     "name": "stdout",
     "output_type": "stream",
     "text": [
      "[Pipeline2]: Processing 12899-12949\n"
     ]
    },
    {
     "name": "stdout",
     "output_type": "stream",
     "text": [
      "Anno batch time: 21.56501531600952\n",
      "Conv batch time: 0.0004508495330810547\n"
     ]
    },
    {
     "name": "stdout",
     "output_type": "stream",
     "text": [
      "[Pipeline2]: Processing 12949-12999\n"
     ]
    },
    {
     "name": "stdout",
     "output_type": "stream",
     "text": [
      "Anno batch time: 24.32702350616455\n",
      "Conv batch time: 0.0004475116729736328\n"
     ]
    },
    {
     "name": "stdout",
     "output_type": "stream",
     "text": [
      "[Pipeline2]: Processing 12999-13049\n"
     ]
    },
    {
     "name": "stdout",
     "output_type": "stream",
     "text": [
      "Anno batch time: 38.01052522659302\n",
      "Conv batch time: 0.0005810260772705078\n"
     ]
    },
    {
     "name": "stdout",
     "output_type": "stream",
     "text": [
      "[Pipeline2]: Processing 13049-13099\n"
     ]
    },
    {
     "name": "stdout",
     "output_type": "stream",
     "text": [
      "Anno batch time: 24.6392765045166\n",
      "Conv batch time: 0.0004279613494873047\n"
     ]
    },
    {
     "name": "stdout",
     "output_type": "stream",
     "text": [
      "[Pipeline2]: Processing 13099-13149\n"
     ]
    },
    {
     "name": "stdout",
     "output_type": "stream",
     "text": [
      "Anno batch time: 19.386781215667725\n",
      "Conv batch time: 0.00045490264892578125\n"
     ]
    },
    {
     "name": "stdout",
     "output_type": "stream",
     "text": [
      "[Pipeline2]: Processing 13149-13199\n"
     ]
    },
    {
     "name": "stdout",
     "output_type": "stream",
     "text": [
      "Anno batch time: 20.57391119003296\n",
      "Conv batch time: 0.0004191398620605469\n"
     ]
    },
    {
     "name": "stdout",
     "output_type": "stream",
     "text": [
      "[Pipeline2]: Processing 13199-13249\n"
     ]
    },
    {
     "name": "stdout",
     "output_type": "stream",
     "text": [
      "Anno batch time: 21.33431887626648\n",
      "Conv batch time: 0.00043201446533203125\n"
     ]
    },
    {
     "name": "stdout",
     "output_type": "stream",
     "text": [
      "[Pipeline2]: Processing 13249-13299\n"
     ]
    },
    {
     "name": "stdout",
     "output_type": "stream",
     "text": [
      "Anno batch time: 22.37770390510559\n",
      "Conv batch time: 0.0004062652587890625\n"
     ]
    },
    {
     "name": "stdout",
     "output_type": "stream",
     "text": [
      "[Pipeline2]: Processing 13299-13349\n"
     ]
    },
    {
     "name": "stdout",
     "output_type": "stream",
     "text": [
      "Anno batch time: 26.690239429473877\n",
      "Conv batch time: 0.0004520416259765625\n"
     ]
    },
    {
     "name": "stdout",
     "output_type": "stream",
     "text": [
      "[Pipeline2]: Processing 13349-13399\n"
     ]
    },
    {
     "name": "stdout",
     "output_type": "stream",
     "text": [
      "Anno batch time: 26.805054903030396\n",
      "Conv batch time: 0.0005772113800048828\n"
     ]
    },
    {
     "name": "stdout",
     "output_type": "stream",
     "text": [
      "[Pipeline2]: Processing 13399-13449\n"
     ]
    },
    {
     "name": "stdout",
     "output_type": "stream",
     "text": [
      "Anno batch time: 27.984227895736694\n",
      "Conv batch time: 0.00043392181396484375\n"
     ]
    },
    {
     "name": "stdout",
     "output_type": "stream",
     "text": [
      "[Pipeline2]: Processing 13449-13499\n"
     ]
    },
    {
     "name": "stdout",
     "output_type": "stream",
     "text": [
      "Anno batch time: 27.348527669906616\n",
      "Conv batch time: 0.0004165172576904297\n"
     ]
    },
    {
     "name": "stdout",
     "output_type": "stream",
     "text": [
      "[Pipeline2]: Processing 13499-13549\n"
     ]
    },
    {
     "name": "stdout",
     "output_type": "stream",
     "text": [
      "Anno batch time: 26.034675121307373\n",
      "Conv batch time: 0.00041961669921875\n"
     ]
    },
    {
     "name": "stdout",
     "output_type": "stream",
     "text": [
      "[Pipeline2]: Processing 13549-13599\n"
     ]
    },
    {
     "name": "stdout",
     "output_type": "stream",
     "text": [
      "Anno batch time: 24.83127450942993\n",
      "Conv batch time: 0.0004608631134033203\n"
     ]
    },
    {
     "name": "stdout",
     "output_type": "stream",
     "text": [
      "[Pipeline2]: Processing 13599-13649\n"
     ]
    },
    {
     "name": "stdout",
     "output_type": "stream",
     "text": [
      "Anno batch time: 20.539340019226074\n",
      "Conv batch time: 0.0005109310150146484\n"
     ]
    },
    {
     "name": "stdout",
     "output_type": "stream",
     "text": [
      "[Pipeline2]: Processing 13649-13699\n"
     ]
    },
    {
     "name": "stdout",
     "output_type": "stream",
     "text": [
      "Anno batch time: 30.083330631256104\n",
      "Conv batch time: 0.0004999637603759766\n"
     ]
    },
    {
     "name": "stdout",
     "output_type": "stream",
     "text": [
      "[Pipeline2]: Processing 13699-13749\n"
     ]
    },
    {
     "name": "stdout",
     "output_type": "stream",
     "text": [
      "Anno batch time: 23.734139919281006\n",
      "Conv batch time: 0.0004343986511230469\n"
     ]
    },
    {
     "name": "stdout",
     "output_type": "stream",
     "text": [
      "[Pipeline2]: Processing 13749-13799\n"
     ]
    },
    {
     "name": "stdout",
     "output_type": "stream",
     "text": [
      "Anno batch time: 25.361480474472046\n",
      "Conv batch time: 0.0004572868347167969\n"
     ]
    },
    {
     "name": "stdout",
     "output_type": "stream",
     "text": [
      "[Pipeline2]: Processing 13799-13849\n"
     ]
    },
    {
     "name": "stdout",
     "output_type": "stream",
     "text": [
      "Anno batch time: 25.247373580932617\n",
      "Conv batch time: 0.0004448890686035156\n"
     ]
    },
    {
     "name": "stdout",
     "output_type": "stream",
     "text": [
      "[Pipeline2]: Processing 13849-13899\n"
     ]
    },
    {
     "name": "stdout",
     "output_type": "stream",
     "text": [
      "Anno batch time: 19.427806854248047\n",
      "Conv batch time: 0.0004444122314453125\n"
     ]
    },
    {
     "name": "stdout",
     "output_type": "stream",
     "text": [
      "[Pipeline2]: Processing 13899-13949\n"
     ]
    },
    {
     "name": "stdout",
     "output_type": "stream",
     "text": [
      "Anno batch time: 23.808048725128174\n",
      "Conv batch time: 0.0004901885986328125\n"
     ]
    },
    {
     "name": "stdout",
     "output_type": "stream",
     "text": [
      "[Pipeline2]: Processing 13949-13999\n"
     ]
    },
    {
     "name": "stdout",
     "output_type": "stream",
     "text": [
      "Anno batch time: 37.66130757331848\n",
      "Conv batch time: 0.00044918060302734375\n"
     ]
    },
    {
     "name": "stdout",
     "output_type": "stream",
     "text": [
      "[Pipeline2]: Processing 13999-14049\n"
     ]
    },
    {
     "name": "stdout",
     "output_type": "stream",
     "text": [
      "Anno batch time: 23.58220362663269\n",
      "Conv batch time: 0.00043511390686035156\n"
     ]
    },
    {
     "name": "stdout",
     "output_type": "stream",
     "text": [
      "[Pipeline2]: Processing 14049-14099\n"
     ]
    },
    {
     "name": "stdout",
     "output_type": "stream",
     "text": [
      "Anno batch time: 22.23336935043335\n",
      "Conv batch time: 0.00043129920959472656\n"
     ]
    },
    {
     "name": "stdout",
     "output_type": "stream",
     "text": [
      "[Pipeline2]: Processing 14099-14149\n"
     ]
    },
    {
     "name": "stdout",
     "output_type": "stream",
     "text": [
      "Anno batch time: 23.72230815887451\n",
      "Conv batch time: 0.0004868507385253906\n"
     ]
    },
    {
     "name": "stdout",
     "output_type": "stream",
     "text": [
      "[Pipeline2]: Processing 14149-14199\n"
     ]
    },
    {
     "name": "stdout",
     "output_type": "stream",
     "text": [
      "Anno batch time: 26.06803607940674\n",
      "Conv batch time: 0.00042057037353515625\n"
     ]
    },
    {
     "name": "stdout",
     "output_type": "stream",
     "text": [
      "[Pipeline2]: Processing 14199-14249\n"
     ]
    },
    {
     "name": "stdout",
     "output_type": "stream",
     "text": [
      "Anno batch time: 24.06039023399353\n",
      "Conv batch time: 0.0004105567932128906\n"
     ]
    },
    {
     "name": "stdout",
     "output_type": "stream",
     "text": [
      "[Pipeline2]: Processing 14249-14299\n"
     ]
    },
    {
     "name": "stdout",
     "output_type": "stream",
     "text": [
      "Anno batch time: 22.84040331840515\n",
      "Conv batch time: 0.0004622936248779297\n"
     ]
    },
    {
     "name": "stdout",
     "output_type": "stream",
     "text": [
      "[Pipeline2]: Processing 14299-14349\n"
     ]
    },
    {
     "name": "stdout",
     "output_type": "stream",
     "text": [
      "Anno batch time: 21.119807720184326\n",
      "Conv batch time: 0.0004367828369140625\n"
     ]
    },
    {
     "name": "stdout",
     "output_type": "stream",
     "text": [
      "[Pipeline2]: Processing 14349-14399\n"
     ]
    },
    {
     "name": "stdout",
     "output_type": "stream",
     "text": [
      "Anno batch time: 20.410871982574463\n",
      "Conv batch time: 0.00047206878662109375\n"
     ]
    },
    {
     "name": "stdout",
     "output_type": "stream",
     "text": [
      "[Pipeline2]: Processing 14399-14449\n"
     ]
    },
    {
     "name": "stdout",
     "output_type": "stream",
     "text": [
      "Anno batch time: 38.123366594314575\n",
      "Conv batch time: 0.00042939186096191406\n"
     ]
    },
    {
     "name": "stdout",
     "output_type": "stream",
     "text": [
      "[Pipeline2]: Processing 14449-14499\n"
     ]
    },
    {
     "name": "stdout",
     "output_type": "stream",
     "text": [
      "Anno batch time: 20.394963026046753\n",
      "Conv batch time: 0.0004315376281738281\n"
     ]
    },
    {
     "name": "stdout",
     "output_type": "stream",
     "text": [
      "[Pipeline2]: Processing 14499-14549\n"
     ]
    },
    {
     "name": "stdout",
     "output_type": "stream",
     "text": [
      "Anno batch time: 28.70097541809082\n",
      "Conv batch time: 0.00043129920959472656\n"
     ]
    },
    {
     "name": "stdout",
     "output_type": "stream",
     "text": [
      "[Pipeline2]: Processing 14549-14599\n"
     ]
    },
    {
     "name": "stdout",
     "output_type": "stream",
     "text": [
      "Anno batch time: 25.33709144592285\n",
      "Conv batch time: 0.0004100799560546875\n"
     ]
    },
    {
     "name": "stdout",
     "output_type": "stream",
     "text": [
      "[Pipeline2]: Processing 14599-14649\n"
     ]
    },
    {
     "name": "stdout",
     "output_type": "stream",
     "text": [
      "Anno batch time: 31.647810459136963\n",
      "Conv batch time: 0.0004532337188720703\n"
     ]
    },
    {
     "name": "stdout",
     "output_type": "stream",
     "text": [
      "[Pipeline2]: Processing 14649-14699\n"
     ]
    },
    {
     "name": "stdout",
     "output_type": "stream",
     "text": [
      "Anno batch time: 21.091416358947754\n",
      "Conv batch time: 0.0004248619079589844\n"
     ]
    },
    {
     "name": "stdout",
     "output_type": "stream",
     "text": [
      "[Pipeline2]: Processing 14699-14749\n"
     ]
    },
    {
     "name": "stdout",
     "output_type": "stream",
     "text": [
      "Anno batch time: 23.926692485809326\n",
      "Conv batch time: 0.0004391670227050781\n"
     ]
    },
    {
     "name": "stdout",
     "output_type": "stream",
     "text": [
      "[Pipeline2]: Processing 14749-14799\n"
     ]
    },
    {
     "name": "stdout",
     "output_type": "stream",
     "text": [
      "Anno batch time: 27.212900400161743\n",
      "Conv batch time: 0.0004851818084716797\n"
     ]
    },
    {
     "name": "stdout",
     "output_type": "stream",
     "text": [
      "[Pipeline2]: Processing 14799-14849\n"
     ]
    },
    {
     "name": "stdout",
     "output_type": "stream",
     "text": [
      "Anno batch time: 27.147348880767822\n",
      "Conv batch time: 0.0004687309265136719\n"
     ]
    },
    {
     "name": "stdout",
     "output_type": "stream",
     "text": [
      "[Pipeline2]: Processing 14849-14899\n"
     ]
    },
    {
     "name": "stdout",
     "output_type": "stream",
     "text": [
      "Anno batch time: 22.96616840362549\n",
      "Conv batch time: 0.0004515647888183594\n"
     ]
    },
    {
     "name": "stdout",
     "output_type": "stream",
     "text": [
      "[Pipeline2]: Processing 14899-14949\n"
     ]
    },
    {
     "name": "stdout",
     "output_type": "stream",
     "text": [
      "Anno batch time: 26.039862632751465\n",
      "Conv batch time: 0.0004703998565673828\n"
     ]
    },
    {
     "name": "stdout",
     "output_type": "stream",
     "text": [
      "[Pipeline2]: Processing 14949-14999\n"
     ]
    },
    {
     "name": "stdout",
     "output_type": "stream",
     "text": [
      "Anno batch time: 27.32382607460022\n",
      "Conv batch time: 0.0004124641418457031\n"
     ]
    },
    {
     "name": "stdout",
     "output_type": "stream",
     "text": [
      "[Pipeline2]: Processing 14999-15049\n"
     ]
    },
    {
     "name": "stdout",
     "output_type": "stream",
     "text": [
      "Anno batch time: 28.8161461353302\n",
      "Conv batch time: 0.0004107952117919922\n"
     ]
    },
    {
     "name": "stdout",
     "output_type": "stream",
     "text": [
      "[Pipeline2]: Processing 15049-15099\n"
     ]
    },
    {
     "name": "stdout",
     "output_type": "stream",
     "text": [
      "Anno batch time: 31.785123348236084\n",
      "Conv batch time: 0.0007386207580566406\n"
     ]
    },
    {
     "name": "stdout",
     "output_type": "stream",
     "text": [
      "[Pipeline2]: Processing 15099-15149\n"
     ]
    },
    {
     "name": "stdout",
     "output_type": "stream",
     "text": [
      "Anno batch time: 23.47095274925232\n",
      "Conv batch time: 0.00042176246643066406\n"
     ]
    },
    {
     "name": "stdout",
     "output_type": "stream",
     "text": [
      "[Pipeline2]: Processing 15149-15199\n"
     ]
    },
    {
     "name": "stdout",
     "output_type": "stream",
     "text": [
      "Anno batch time: 25.392635107040405\n",
      "Conv batch time: 0.0004968643188476562\n"
     ]
    },
    {
     "name": "stdout",
     "output_type": "stream",
     "text": [
      "[Pipeline2]: Processing 15199-15249\n"
     ]
    },
    {
     "name": "stdout",
     "output_type": "stream",
     "text": [
      "Anno batch time: 25.801981449127197\n",
      "Conv batch time: 0.0004413127899169922\n"
     ]
    },
    {
     "name": "stdout",
     "output_type": "stream",
     "text": [
      "[Pipeline2]: Processing 15249-15299\n"
     ]
    },
    {
     "name": "stdout",
     "output_type": "stream",
     "text": [
      "Anno batch time: 24.325046062469482\n",
      "Conv batch time: 0.00044155120849609375\n"
     ]
    },
    {
     "name": "stdout",
     "output_type": "stream",
     "text": [
      "[Pipeline2]: Processing 15299-15349\n"
     ]
    },
    {
     "name": "stdout",
     "output_type": "stream",
     "text": [
      "Anno batch time: 23.212878227233887\n",
      "Conv batch time: 0.00042128562927246094\n"
     ]
    },
    {
     "name": "stdout",
     "output_type": "stream",
     "text": [
      "[Pipeline2]: Processing 15349-15399\n"
     ]
    },
    {
     "name": "stdout",
     "output_type": "stream",
     "text": [
      "Anno batch time: 24.867199897766113\n",
      "Conv batch time: 0.0004322528839111328\n"
     ]
    },
    {
     "name": "stdout",
     "output_type": "stream",
     "text": [
      "[Pipeline2]: Processing 15399-15449\n"
     ]
    },
    {
     "name": "stdout",
     "output_type": "stream",
     "text": [
      "Anno batch time: 23.766210317611694\n",
      "Conv batch time: 0.0004439353942871094\n"
     ]
    },
    {
     "name": "stdout",
     "output_type": "stream",
     "text": [
      "[Pipeline2]: Processing 15449-15499\n"
     ]
    },
    {
     "name": "stdout",
     "output_type": "stream",
     "text": [
      "Anno batch time: 23.150442838668823\n",
      "Conv batch time: 0.0004420280456542969\n"
     ]
    },
    {
     "name": "stdout",
     "output_type": "stream",
     "text": [
      "[Pipeline2]: Processing 15499-15549\n"
     ]
    },
    {
     "name": "stdout",
     "output_type": "stream",
     "text": [
      "Anno batch time: 26.122701168060303\n",
      "Conv batch time: 0.00045180320739746094\n"
     ]
    },
    {
     "name": "stdout",
     "output_type": "stream",
     "text": [
      "[Pipeline2]: Processing 15549-15599\n"
     ]
    },
    {
     "name": "stdout",
     "output_type": "stream",
     "text": [
      "Anno batch time: 32.437678813934326\n",
      "Conv batch time: 0.00044465065002441406\n"
     ]
    },
    {
     "name": "stdout",
     "output_type": "stream",
     "text": [
      "[Pipeline2]: Processing 15599-15649\n"
     ]
    },
    {
     "name": "stdout",
     "output_type": "stream",
     "text": [
      "Anno batch time: 22.146772146224976\n",
      "Conv batch time: 0.0004475116729736328\n"
     ]
    },
    {
     "name": "stdout",
     "output_type": "stream",
     "text": [
      "[Pipeline2]: Processing 15649-15699\n"
     ]
    },
    {
     "name": "stdout",
     "output_type": "stream",
     "text": [
      "Anno batch time: 24.598227500915527\n",
      "Conv batch time: 0.0005891323089599609\n"
     ]
    },
    {
     "name": "stdout",
     "output_type": "stream",
     "text": [
      "[Pipeline2]: Processing 15699-15749\n"
     ]
    },
    {
     "name": "stdout",
     "output_type": "stream",
     "text": [
      "Anno batch time: 24.771790981292725\n",
      "Conv batch time: 0.0005042552947998047\n"
     ]
    },
    {
     "name": "stdout",
     "output_type": "stream",
     "text": [
      "[Pipeline2]: Processing 15749-15799\n"
     ]
    },
    {
     "name": "stdout",
     "output_type": "stream",
     "text": [
      "Anno batch time: 24.782342672348022\n",
      "Conv batch time: 0.0004267692565917969\n"
     ]
    },
    {
     "name": "stdout",
     "output_type": "stream",
     "text": [
      "[Pipeline2]: Processing 15799-15849\n"
     ]
    },
    {
     "name": "stdout",
     "output_type": "stream",
     "text": [
      "Anno batch time: 27.453116416931152\n",
      "Conv batch time: 0.00045871734619140625\n"
     ]
    },
    {
     "name": "stdout",
     "output_type": "stream",
     "text": [
      "[Pipeline2]: Processing 15849-15899\n"
     ]
    },
    {
     "name": "stdout",
     "output_type": "stream",
     "text": [
      "Anno batch time: 40.811827182769775\n",
      "Conv batch time: 0.000446319580078125\n"
     ]
    },
    {
     "name": "stdout",
     "output_type": "stream",
     "text": [
      "[Pipeline2]: Processing 15899-15949\n"
     ]
    },
    {
     "name": "stdout",
     "output_type": "stream",
     "text": [
      "Anno batch time: 30.99384570121765\n",
      "Conv batch time: 0.0004467964172363281\n"
     ]
    },
    {
     "name": "stdout",
     "output_type": "stream",
     "text": [
      "[Pipeline2]: Processing 15949-15999\n"
     ]
    },
    {
     "name": "stdout",
     "output_type": "stream",
     "text": [
      "Anno batch time: 23.96797466278076\n",
      "Conv batch time: 0.00044536590576171875\n"
     ]
    },
    {
     "name": "stdout",
     "output_type": "stream",
     "text": [
      "[Pipeline2]: Processing 15999-16049\n"
     ]
    },
    {
     "name": "stdout",
     "output_type": "stream",
     "text": [
      "Anno batch time: 27.41486930847168\n",
      "Conv batch time: 0.0004286766052246094\n"
     ]
    },
    {
     "name": "stdout",
     "output_type": "stream",
     "text": [
      "[Pipeline2]: Processing 16049-16099\n"
     ]
    },
    {
     "name": "stdout",
     "output_type": "stream",
     "text": [
      "Anno batch time: 28.682146310806274\n",
      "Conv batch time: 0.0004341602325439453\n"
     ]
    },
    {
     "name": "stdout",
     "output_type": "stream",
     "text": [
      "[Pipeline2]: Processing 16099-16149\n"
     ]
    },
    {
     "name": "stdout",
     "output_type": "stream",
     "text": [
      "Anno batch time: 23.564366817474365\n",
      "Conv batch time: 0.0006573200225830078\n"
     ]
    },
    {
     "name": "stdout",
     "output_type": "stream",
     "text": [
      "[Pipeline2]: Processing 16149-16199\n"
     ]
    },
    {
     "name": "stdout",
     "output_type": "stream",
     "text": [
      "Anno batch time: 25.279038667678833\n",
      "Conv batch time: 0.0004994869232177734\n"
     ]
    },
    {
     "name": "stdout",
     "output_type": "stream",
     "text": [
      "[Pipeline2]: Processing 16199-16249\n"
     ]
    },
    {
     "name": "stdout",
     "output_type": "stream",
     "text": [
      "Anno batch time: 28.952428340911865\n",
      "Conv batch time: 0.0004782676696777344\n"
     ]
    },
    {
     "name": "stdout",
     "output_type": "stream",
     "text": [
      "[Pipeline2]: Processing 16249-16299\n"
     ]
    },
    {
     "name": "stdout",
     "output_type": "stream",
     "text": [
      "Anno batch time: 25.83718466758728\n",
      "Conv batch time: 0.0004494190216064453\n"
     ]
    },
    {
     "name": "stdout",
     "output_type": "stream",
     "text": [
      "[Pipeline2]: Processing 16299-16349\n"
     ]
    },
    {
     "name": "stdout",
     "output_type": "stream",
     "text": [
      "Anno batch time: 30.89911389350891\n",
      "Conv batch time: 0.0004546642303466797\n"
     ]
    },
    {
     "name": "stdout",
     "output_type": "stream",
     "text": [
      "[Pipeline2]: Processing 16349-16399\n"
     ]
    },
    {
     "name": "stdout",
     "output_type": "stream",
     "text": [
      "Anno batch time: 29.256473064422607\n",
      "Conv batch time: 0.00043272972106933594\n"
     ]
    },
    {
     "name": "stdout",
     "output_type": "stream",
     "text": [
      "[Pipeline2]: Processing 16399-16449\n"
     ]
    },
    {
     "name": "stdout",
     "output_type": "stream",
     "text": [
      "Anno batch time: 22.23245882987976\n",
      "Conv batch time: 0.0004489421844482422\n"
     ]
    },
    {
     "name": "stdout",
     "output_type": "stream",
     "text": [
      "[Pipeline2]: Processing 16449-16499\n"
     ]
    },
    {
     "name": "stdout",
     "output_type": "stream",
     "text": [
      "Anno batch time: 25.09628176689148\n",
      "Conv batch time: 0.00043463706970214844\n"
     ]
    },
    {
     "name": "stdout",
     "output_type": "stream",
     "text": [
      "[Pipeline2]: Processing 16499-16549\n"
     ]
    },
    {
     "name": "stdout",
     "output_type": "stream",
     "text": [
      "Anno batch time: 25.49518370628357\n",
      "Conv batch time: 0.00041961669921875\n"
     ]
    },
    {
     "name": "stdout",
     "output_type": "stream",
     "text": [
      "[Pipeline2]: Processing 16549-16599\n"
     ]
    },
    {
     "name": "stdout",
     "output_type": "stream",
     "text": [
      "Anno batch time: 25.016649961471558\n",
      "Conv batch time: 0.0004367828369140625\n"
     ]
    },
    {
     "name": "stdout",
     "output_type": "stream",
     "text": [
      "[Pipeline2]: Processing 16599-16649\n"
     ]
    },
    {
     "name": "stdout",
     "output_type": "stream",
     "text": [
      "Anno batch time: 24.901437520980835\n",
      "Conv batch time: 0.0004551410675048828\n"
     ]
    },
    {
     "name": "stdout",
     "output_type": "stream",
     "text": [
      "[Pipeline2]: Processing 16649-16699\n"
     ]
    },
    {
     "name": "stdout",
     "output_type": "stream",
     "text": [
      "Anno batch time: 23.68774914741516\n",
      "Conv batch time: 0.000438690185546875\n"
     ]
    },
    {
     "name": "stdout",
     "output_type": "stream",
     "text": [
      "[Pipeline2]: Processing 16699-16749\n"
     ]
    },
    {
     "name": "stdout",
     "output_type": "stream",
     "text": [
      "Anno batch time: 23.351909160614014\n",
      "Conv batch time: 0.000438690185546875\n"
     ]
    },
    {
     "name": "stdout",
     "output_type": "stream",
     "text": [
      "[Pipeline2]: Processing 16749-16799\n"
     ]
    },
    {
     "name": "stdout",
     "output_type": "stream",
     "text": [
      "Anno batch time: 18.46290111541748\n",
      "Conv batch time: 0.00045943260192871094\n"
     ]
    },
    {
     "name": "stdout",
     "output_type": "stream",
     "text": [
      "[Pipeline2]: Processing 16799-16849\n"
     ]
    },
    {
     "name": "stdout",
     "output_type": "stream",
     "text": [
      "Anno batch time: 25.935587406158447\n",
      "Conv batch time: 0.000415802001953125\n"
     ]
    },
    {
     "name": "stdout",
     "output_type": "stream",
     "text": [
      "[Pipeline2]: Processing 16849-16899\n"
     ]
    },
    {
     "name": "stdout",
     "output_type": "stream",
     "text": [
      "Anno batch time: 25.314958810806274\n",
      "Conv batch time: 0.00044798851013183594\n"
     ]
    },
    {
     "name": "stdout",
     "output_type": "stream",
     "text": [
      "[Pipeline2]: Processing 16899-16949\n"
     ]
    },
    {
     "name": "stdout",
     "output_type": "stream",
     "text": [
      "Anno batch time: 25.097360372543335\n",
      "Conv batch time: 0.0004906654357910156\n"
     ]
    },
    {
     "name": "stdout",
     "output_type": "stream",
     "text": [
      "[Pipeline2]: Processing 16949-16999\n"
     ]
    },
    {
     "name": "stdout",
     "output_type": "stream",
     "text": [
      "Anno batch time: 25.20683264732361\n",
      "Conv batch time: 0.00040602684020996094\n"
     ]
    },
    {
     "name": "stdout",
     "output_type": "stream",
     "text": [
      "[Pipeline2]: Processing 16999-17049\n"
     ]
    },
    {
     "name": "stdout",
     "output_type": "stream",
     "text": [
      "Anno batch time: 32.315593004226685\n",
      "Conv batch time: 0.0005049705505371094\n"
     ]
    },
    {
     "name": "stdout",
     "output_type": "stream",
     "text": [
      "[Pipeline2]: Processing 17049-17099\n"
     ]
    },
    {
     "name": "stdout",
     "output_type": "stream",
     "text": [
      "Anno batch time: 31.835875034332275\n",
      "Conv batch time: 0.0004508495330810547\n"
     ]
    },
    {
     "name": "stdout",
     "output_type": "stream",
     "text": [
      "[Pipeline2]: Processing 17099-17149\n"
     ]
    },
    {
     "name": "stdout",
     "output_type": "stream",
     "text": [
      "Anno batch time: 24.936009168624878\n",
      "Conv batch time: 0.0004405975341796875\n"
     ]
    },
    {
     "name": "stdout",
     "output_type": "stream",
     "text": [
      "[Pipeline2]: Processing 17149-17199\n"
     ]
    },
    {
     "name": "stdout",
     "output_type": "stream",
     "text": [
      "Anno batch time: 20.756328582763672\n",
      "Conv batch time: 0.0004420280456542969\n"
     ]
    },
    {
     "name": "stdout",
     "output_type": "stream",
     "text": [
      "[Pipeline2]: Processing 17199-17249\n"
     ]
    },
    {
     "name": "stdout",
     "output_type": "stream",
     "text": [
      "Anno batch time: 24.398493766784668\n",
      "Conv batch time: 0.0004534721374511719\n"
     ]
    },
    {
     "name": "stdout",
     "output_type": "stream",
     "text": [
      "[Pipeline2]: Processing 17249-17299\n"
     ]
    },
    {
     "name": "stdout",
     "output_type": "stream",
     "text": [
      "Anno batch time: 29.701730012893677\n",
      "Conv batch time: 0.000400543212890625\n"
     ]
    },
    {
     "name": "stdout",
     "output_type": "stream",
     "text": [
      "[Pipeline2]: Processing 17299-17349\n"
     ]
    },
    {
     "name": "stdout",
     "output_type": "stream",
     "text": [
      "Anno batch time: 23.81969952583313\n",
      "Conv batch time: 0.0004131793975830078\n"
     ]
    },
    {
     "name": "stdout",
     "output_type": "stream",
     "text": [
      "[Pipeline2]: Processing 17349-17399\n"
     ]
    },
    {
     "name": "stdout",
     "output_type": "stream",
     "text": [
      "Anno batch time: 28.57508397102356\n",
      "Conv batch time: 0.00042819976806640625\n"
     ]
    },
    {
     "name": "stdout",
     "output_type": "stream",
     "text": [
      "[Pipeline2]: Processing 17399-17449\n"
     ]
    },
    {
     "name": "stdout",
     "output_type": "stream",
     "text": [
      "Anno batch time: 30.85333251953125\n",
      "Conv batch time: 0.0004413127899169922\n"
     ]
    },
    {
     "name": "stdout",
     "output_type": "stream",
     "text": [
      "[Pipeline2]: Processing 17449-17499\n"
     ]
    },
    {
     "name": "stdout",
     "output_type": "stream",
     "text": [
      "Anno batch time: 24.59563136100769\n",
      "Conv batch time: 0.00041794776916503906\n"
     ]
    },
    {
     "name": "stdout",
     "output_type": "stream",
     "text": [
      "[Pipeline2]: Processing 17499-17549\n"
     ]
    },
    {
     "name": "stdout",
     "output_type": "stream",
     "text": [
      "Anno batch time: 25.80277109146118\n",
      "Conv batch time: 0.0004379749298095703\n"
     ]
    },
    {
     "name": "stdout",
     "output_type": "stream",
     "text": [
      "[Pipeline2]: Processing 17549-17599\n"
     ]
    },
    {
     "name": "stdout",
     "output_type": "stream",
     "text": [
      "Anno batch time: 22.81865382194519\n",
      "Conv batch time: 0.00040793418884277344\n"
     ]
    },
    {
     "name": "stdout",
     "output_type": "stream",
     "text": [
      "[Pipeline2]: Processing 17599-17649\n"
     ]
    },
    {
     "name": "stdout",
     "output_type": "stream",
     "text": [
      "Anno batch time: 33.69520139694214\n",
      "Conv batch time: 0.00043702125549316406\n"
     ]
    },
    {
     "name": "stdout",
     "output_type": "stream",
     "text": [
      "[Pipeline2]: Processing 17649-17699\n"
     ]
    },
    {
     "name": "stdout",
     "output_type": "stream",
     "text": [
      "Anno batch time: 21.479861736297607\n",
      "Conv batch time: 0.00041413307189941406\n"
     ]
    },
    {
     "name": "stdout",
     "output_type": "stream",
     "text": [
      "[Pipeline2]: Processing 17699-17749\n"
     ]
    },
    {
     "name": "stdout",
     "output_type": "stream",
     "text": [
      "Anno batch time: 27.432293176651\n",
      "Conv batch time: 0.0003993511199951172\n"
     ]
    },
    {
     "name": "stdout",
     "output_type": "stream",
     "text": [
      "[Pipeline2]: Processing 17749-17799\n"
     ]
    },
    {
     "name": "stdout",
     "output_type": "stream",
     "text": [
      "Anno batch time: 24.985689640045166\n",
      "Conv batch time: 0.0005340576171875\n"
     ]
    },
    {
     "name": "stdout",
     "output_type": "stream",
     "text": [
      "[Pipeline2]: Processing 17799-17849\n"
     ]
    },
    {
     "name": "stdout",
     "output_type": "stream",
     "text": [
      "Anno batch time: 32.099982500076294\n",
      "Conv batch time: 0.0004303455352783203\n"
     ]
    },
    {
     "name": "stdout",
     "output_type": "stream",
     "text": [
      "[Pipeline2]: Processing 17849-17899\n"
     ]
    },
    {
     "name": "stdout",
     "output_type": "stream",
     "text": [
      "Anno batch time: 28.699490070343018\n",
      "Conv batch time: 0.0004744529724121094\n"
     ]
    },
    {
     "name": "stdout",
     "output_type": "stream",
     "text": [
      "[Pipeline2]: Processing 17899-17949\n"
     ]
    },
    {
     "name": "stdout",
     "output_type": "stream",
     "text": [
      "Anno batch time: 20.50392746925354\n",
      "Conv batch time: 0.0004324913024902344\n"
     ]
    },
    {
     "name": "stdout",
     "output_type": "stream",
     "text": [
      "[Pipeline2]: Processing 17949-17999\n"
     ]
    },
    {
     "name": "stdout",
     "output_type": "stream",
     "text": [
      "Anno batch time: 24.303484201431274\n",
      "Conv batch time: 0.000476837158203125\n"
     ]
    },
    {
     "name": "stdout",
     "output_type": "stream",
     "text": [
      "[Pipeline2]: Processing 17999-18049\n"
     ]
    },
    {
     "name": "stdout",
     "output_type": "stream",
     "text": [
      "Anno batch time: 24.331424236297607\n",
      "Conv batch time: 0.00041556358337402344\n"
     ]
    },
    {
     "name": "stdout",
     "output_type": "stream",
     "text": [
      "[Pipeline2]: Processing 18049-18099\n"
     ]
    },
    {
     "name": "stdout",
     "output_type": "stream",
     "text": [
      "Anno batch time: 26.076392889022827\n",
      "Conv batch time: 0.0004661083221435547\n"
     ]
    },
    {
     "name": "stdout",
     "output_type": "stream",
     "text": [
      "[Pipeline2]: Processing 18099-18149\n"
     ]
    },
    {
     "name": "stdout",
     "output_type": "stream",
     "text": [
      "Anno batch time: 24.02553081512451\n",
      "Conv batch time: 0.0004417896270751953\n"
     ]
    },
    {
     "name": "stdout",
     "output_type": "stream",
     "text": [
      "[Pipeline2]: Processing 18149-18199\n"
     ]
    },
    {
     "name": "stdout",
     "output_type": "stream",
     "text": [
      "Anno batch time: 23.095691204071045\n",
      "Conv batch time: 0.00041985511779785156\n"
     ]
    },
    {
     "name": "stdout",
     "output_type": "stream",
     "text": [
      "[Pipeline2]: Processing 18199-18249\n"
     ]
    },
    {
     "name": "stdout",
     "output_type": "stream",
     "text": [
      "Anno batch time: 25.112151861190796\n",
      "Conv batch time: 0.0004379749298095703\n"
     ]
    },
    {
     "name": "stdout",
     "output_type": "stream",
     "text": [
      "[Pipeline2]: Processing 18249-18299\n"
     ]
    },
    {
     "name": "stdout",
     "output_type": "stream",
     "text": [
      "Anno batch time: 29.359133005142212\n",
      "Conv batch time: 0.00044274330139160156\n"
     ]
    },
    {
     "name": "stdout",
     "output_type": "stream",
     "text": [
      "[Pipeline2]: Processing 18299-18349\n"
     ]
    },
    {
     "name": "stdout",
     "output_type": "stream",
     "text": [
      "Anno batch time: 25.35498833656311\n",
      "Conv batch time: 0.0003974437713623047\n"
     ]
    },
    {
     "name": "stdout",
     "output_type": "stream",
     "text": [
      "[Pipeline2]: Processing 18349-18399\n"
     ]
    },
    {
     "name": "stdout",
     "output_type": "stream",
     "text": [
      "Anno batch time: 28.05572199821472\n",
      "Conv batch time: 0.0004668235778808594\n"
     ]
    },
    {
     "name": "stdout",
     "output_type": "stream",
     "text": [
      "[Pipeline2]: Processing 18399-18449\n"
     ]
    },
    {
     "name": "stdout",
     "output_type": "stream",
     "text": [
      "Anno batch time: 37.219153881073\n",
      "Conv batch time: 0.00047707557678222656\n"
     ]
    },
    {
     "name": "stdout",
     "output_type": "stream",
     "text": [
      "[Pipeline2]: Processing 18449-18499\n"
     ]
    },
    {
     "name": "stdout",
     "output_type": "stream",
     "text": [
      "Anno batch time: 22.1996648311615\n",
      "Conv batch time: 0.0004627704620361328\n"
     ]
    },
    {
     "name": "stdout",
     "output_type": "stream",
     "text": [
      "[Pipeline2]: Processing 18499-18549\n"
     ]
    },
    {
     "name": "stdout",
     "output_type": "stream",
     "text": [
      "Anno batch time: 43.30354571342468\n",
      "Conv batch time: 0.00046539306640625\n"
     ]
    },
    {
     "name": "stdout",
     "output_type": "stream",
     "text": [
      "[Pipeline2]: Processing 18549-18599\n"
     ]
    },
    {
     "name": "stdout",
     "output_type": "stream",
     "text": [
      "Anno batch time: 25.962720155715942\n",
      "Conv batch time: 0.000476837158203125\n"
     ]
    },
    {
     "name": "stdout",
     "output_type": "stream",
     "text": [
      "[Pipeline2]: Processing 18599-18649\n"
     ]
    },
    {
     "name": "stdout",
     "output_type": "stream",
     "text": [
      "Anno batch time: 26.783554792404175\n",
      "Conv batch time: 0.0004918575286865234\n"
     ]
    },
    {
     "name": "stdout",
     "output_type": "stream",
     "text": [
      "[Pipeline2]: Processing 18649-18699\n"
     ]
    },
    {
     "name": "stdout",
     "output_type": "stream",
     "text": [
      "Anno batch time: 23.931467294692993\n",
      "Conv batch time: 0.0004363059997558594\n"
     ]
    },
    {
     "name": "stdout",
     "output_type": "stream",
     "text": [
      "[Pipeline2]: Processing 18699-18749\n"
     ]
    },
    {
     "name": "stdout",
     "output_type": "stream",
     "text": [
      "Anno batch time: 36.39660334587097\n",
      "Conv batch time: 0.0004863739013671875\n"
     ]
    },
    {
     "name": "stdout",
     "output_type": "stream",
     "text": [
      "[Pipeline2]: Processing 18749-18799\n"
     ]
    },
    {
     "name": "stdout",
     "output_type": "stream",
     "text": [
      "Anno batch time: 25.719155073165894\n",
      "Conv batch time: 0.0004322528839111328\n"
     ]
    },
    {
     "name": "stdout",
     "output_type": "stream",
     "text": [
      "[Pipeline2]: Processing 18799-18849\n"
     ]
    },
    {
     "name": "stdout",
     "output_type": "stream",
     "text": [
      "Anno batch time: 24.94322967529297\n",
      "Conv batch time: 0.0004627704620361328\n"
     ]
    },
    {
     "name": "stdout",
     "output_type": "stream",
     "text": [
      "[Pipeline2]: Processing 18849-18899\n"
     ]
    },
    {
     "name": "stdout",
     "output_type": "stream",
     "text": [
      "Anno batch time: 31.494890689849854\n",
      "Conv batch time: 0.0004239082336425781\n"
     ]
    },
    {
     "name": "stdout",
     "output_type": "stream",
     "text": [
      "[Pipeline2]: Processing 18899-18949\n"
     ]
    },
    {
     "name": "stdout",
     "output_type": "stream",
     "text": [
      "Anno batch time: 22.40269637107849\n",
      "Conv batch time: 0.00041961669921875\n"
     ]
    },
    {
     "name": "stdout",
     "output_type": "stream",
     "text": [
      "[Pipeline2]: Processing 18949-18999\n"
     ]
    },
    {
     "name": "stdout",
     "output_type": "stream",
     "text": [
      "Anno batch time: 25.662998914718628\n",
      "Conv batch time: 0.00041937828063964844\n"
     ]
    },
    {
     "name": "stdout",
     "output_type": "stream",
     "text": [
      "[Pipeline2]: Processing 18999-19049\n"
     ]
    },
    {
     "name": "stdout",
     "output_type": "stream",
     "text": [
      "Anno batch time: 28.516942977905273\n",
      "Conv batch time: 0.0004949569702148438\n"
     ]
    },
    {
     "name": "stdout",
     "output_type": "stream",
     "text": [
      "[Pipeline2]: Processing 19049-19099\n"
     ]
    },
    {
     "name": "stdout",
     "output_type": "stream",
     "text": [
      "Anno batch time: 23.33092975616455\n",
      "Conv batch time: 0.0004572868347167969\n"
     ]
    },
    {
     "name": "stdout",
     "output_type": "stream",
     "text": [
      "[Pipeline2]: Processing 19099-19149\n"
     ]
    },
    {
     "name": "stdout",
     "output_type": "stream",
     "text": [
      "Anno batch time: 42.65735626220703\n",
      "Conv batch time: 0.0004668235778808594\n"
     ]
    },
    {
     "name": "stdout",
     "output_type": "stream",
     "text": [
      "[Pipeline2]: Processing 19149-19199\n"
     ]
    },
    {
     "name": "stdout",
     "output_type": "stream",
     "text": [
      "Anno batch time: 57.498162508010864\n",
      "Conv batch time: 0.0005009174346923828\n"
     ]
    },
    {
     "name": "stdout",
     "output_type": "stream",
     "text": [
      "[Pipeline2]: Processing 19199-19249\n"
     ]
    },
    {
     "name": "stdout",
     "output_type": "stream",
     "text": [
      "Anno batch time: 26.22662091255188\n",
      "Conv batch time: 0.0004570484161376953\n"
     ]
    },
    {
     "name": "stdout",
     "output_type": "stream",
     "text": [
      "[Pipeline2]: Processing 19249-19299\n"
     ]
    },
    {
     "name": "stdout",
     "output_type": "stream",
     "text": [
      "Anno batch time: 25.128844261169434\n",
      "Conv batch time: 0.00045943260192871094\n"
     ]
    },
    {
     "name": "stdout",
     "output_type": "stream",
     "text": [
      "[Pipeline2]: Processing 19299-19349\n"
     ]
    },
    {
     "name": "stdout",
     "output_type": "stream",
     "text": [
      "Anno batch time: 23.86648178100586\n",
      "Conv batch time: 0.00043463706970214844\n"
     ]
    },
    {
     "name": "stdout",
     "output_type": "stream",
     "text": [
      "[Pipeline2]: Processing 19349-19399\n"
     ]
    },
    {
     "name": "stdout",
     "output_type": "stream",
     "text": [
      "Anno batch time: 24.54064440727234\n",
      "Conv batch time: 0.0004489421844482422\n"
     ]
    },
    {
     "name": "stdout",
     "output_type": "stream",
     "text": [
      "[Pipeline2]: Processing 19399-19449\n"
     ]
    },
    {
     "name": "stdout",
     "output_type": "stream",
     "text": [
      "Anno batch time: 24.183558702468872\n",
      "Conv batch time: 0.0004863739013671875\n"
     ]
    },
    {
     "name": "stdout",
     "output_type": "stream",
     "text": [
      "[Pipeline2]: Processing 19449-19499\n"
     ]
    },
    {
     "name": "stdout",
     "output_type": "stream",
     "text": [
      "Anno batch time: 38.94707536697388\n",
      "Conv batch time: 0.0004355907440185547\n"
     ]
    },
    {
     "name": "stdout",
     "output_type": "stream",
     "text": [
      "[Pipeline2]: Processing 19499-19549\n"
     ]
    },
    {
     "name": "stdout",
     "output_type": "stream",
     "text": [
      "Anno batch time: 30.556398153305054\n",
      "Conv batch time: 0.0004405975341796875\n"
     ]
    },
    {
     "name": "stdout",
     "output_type": "stream",
     "text": [
      "[Pipeline2]: Processing 19549-19599\n"
     ]
    },
    {
     "name": "stdout",
     "output_type": "stream",
     "text": [
      "Anno batch time: 28.154656410217285\n",
      "Conv batch time: 0.00044274330139160156\n"
     ]
    },
    {
     "name": "stdout",
     "output_type": "stream",
     "text": [
      "[Pipeline2]: Processing 19599-19649\n"
     ]
    },
    {
     "name": "stdout",
     "output_type": "stream",
     "text": [
      "Anno batch time: 25.296037435531616\n",
      "Conv batch time: 0.0004582405090332031\n"
     ]
    },
    {
     "name": "stdout",
     "output_type": "stream",
     "text": [
      "[Pipeline2]: Processing 19649-19699\n"
     ]
    },
    {
     "name": "stdout",
     "output_type": "stream",
     "text": [
      "Anno batch time: 49.50922226905823\n",
      "Conv batch time: 0.0004985332489013672\n"
     ]
    },
    {
     "name": "stdout",
     "output_type": "stream",
     "text": [
      "[Pipeline2]: Processing 19699-19749\n"
     ]
    },
    {
     "name": "stdout",
     "output_type": "stream",
     "text": [
      "Anno batch time: 25.26364755630493\n",
      "Conv batch time: 0.0004153251647949219\n"
     ]
    },
    {
     "name": "stdout",
     "output_type": "stream",
     "text": [
      "[Pipeline2]: Processing 19749-19799\n"
     ]
    },
    {
     "name": "stdout",
     "output_type": "stream",
     "text": [
      "Anno batch time: 26.161471128463745\n",
      "Conv batch time: 0.0004425048828125\n"
     ]
    },
    {
     "name": "stdout",
     "output_type": "stream",
     "text": [
      "[Pipeline2]: Processing 19799-19849\n"
     ]
    },
    {
     "name": "stdout",
     "output_type": "stream",
     "text": [
      "Anno batch time: 26.525535345077515\n",
      "Conv batch time: 0.0004589557647705078\n"
     ]
    },
    {
     "name": "stdout",
     "output_type": "stream",
     "text": [
      "[Pipeline2]: Processing 19849-19899\n"
     ]
    },
    {
     "name": "stdout",
     "output_type": "stream",
     "text": [
      "Anno batch time: 23.944819450378418\n",
      "Conv batch time: 0.00045228004455566406\n"
     ]
    },
    {
     "name": "stdout",
     "output_type": "stream",
     "text": [
      "[Pipeline2]: Processing 19899-19949\n"
     ]
    },
    {
     "name": "stdout",
     "output_type": "stream",
     "text": [
      "Anno batch time: 24.10097575187683\n",
      "Conv batch time: 0.00043320655822753906\n"
     ]
    },
    {
     "name": "stdout",
     "output_type": "stream",
     "text": [
      "[Pipeline2]: Processing 19949-19999\n"
     ]
    },
    {
     "name": "stdout",
     "output_type": "stream",
     "text": [
      "Anno batch time: 25.23204493522644\n",
      "Conv batch time: 0.00046133995056152344\n"
     ]
    },
    {
     "name": "stdout",
     "output_type": "stream",
     "text": [
      "[Pipeline2]: Processing 19999-20049\n"
     ]
    },
    {
     "name": "stdout",
     "output_type": "stream",
     "text": [
      "Anno batch time: 33.43360233306885\n",
      "Conv batch time: 0.0004487037658691406\n"
     ]
    },
    {
     "name": "stdout",
     "output_type": "stream",
     "text": [
      "[Pipeline2]: Processing 20049-20099\n"
     ]
    },
    {
     "name": "stdout",
     "output_type": "stream",
     "text": [
      "Anno batch time: 33.91963458061218\n",
      "Conv batch time: 0.0005173683166503906\n"
     ]
    },
    {
     "name": "stdout",
     "output_type": "stream",
     "text": [
      "[Pipeline2]: Processing 20099-20149\n"
     ]
    },
    {
     "name": "stdout",
     "output_type": "stream",
     "text": [
      "Anno batch time: 28.23029327392578\n",
      "Conv batch time: 0.00046539306640625\n"
     ]
    },
    {
     "name": "stdout",
     "output_type": "stream",
     "text": [
      "[Pipeline2]: Processing 20149-20199\n"
     ]
    },
    {
     "name": "stdout",
     "output_type": "stream",
     "text": [
      "Anno batch time: 27.511436939239502\n",
      "Conv batch time: 0.0004334449768066406\n"
     ]
    },
    {
     "name": "stdout",
     "output_type": "stream",
     "text": [
      "[Pipeline2]: Processing 20199-20249\n"
     ]
    },
    {
     "name": "stdout",
     "output_type": "stream",
     "text": [
      "Anno batch time: 26.35893177986145\n",
      "Conv batch time: 0.00044083595275878906\n"
     ]
    },
    {
     "name": "stdout",
     "output_type": "stream",
     "text": [
      "[Pipeline2]: Processing 20249-20299\n"
     ]
    },
    {
     "name": "stdout",
     "output_type": "stream",
     "text": [
      "Anno batch time: 23.133808612823486\n",
      "Conv batch time: 0.0004246234893798828\n"
     ]
    },
    {
     "name": "stdout",
     "output_type": "stream",
     "text": [
      "[Pipeline2]: Processing 20299-20349\n"
     ]
    },
    {
     "name": "stdout",
     "output_type": "stream",
     "text": [
      "Anno batch time: 23.110477447509766\n",
      "Conv batch time: 0.0004329681396484375\n"
     ]
    },
    {
     "name": "stdout",
     "output_type": "stream",
     "text": [
      "[Pipeline2]: Processing 20349-20399\n"
     ]
    },
    {
     "name": "stdout",
     "output_type": "stream",
     "text": [
      "Anno batch time: 23.01071000099182\n",
      "Conv batch time: 0.0004642009735107422\n"
     ]
    },
    {
     "name": "stdout",
     "output_type": "stream",
     "text": [
      "[Pipeline2]: Processing 20399-20449\n"
     ]
    },
    {
     "name": "stdout",
     "output_type": "stream",
     "text": [
      "Anno batch time: 26.428995847702026\n",
      "Conv batch time: 0.0004551410675048828\n"
     ]
    },
    {
     "name": "stdout",
     "output_type": "stream",
     "text": [
      "[Pipeline2]: Processing 20449-20499\n"
     ]
    },
    {
     "name": "stdout",
     "output_type": "stream",
     "text": [
      "Anno batch time: 25.80378556251526\n",
      "Conv batch time: 0.0004177093505859375\n"
     ]
    },
    {
     "name": "stdout",
     "output_type": "stream",
     "text": [
      "[Pipeline2]: Processing 20499-20549\n"
     ]
    },
    {
     "name": "stdout",
     "output_type": "stream",
     "text": [
      "Anno batch time: 24.221916913986206\n",
      "Conv batch time: 0.0004703998565673828\n"
     ]
    },
    {
     "name": "stdout",
     "output_type": "stream",
     "text": [
      "[Pipeline2]: Processing 20549-20599\n"
     ]
    },
    {
     "name": "stdout",
     "output_type": "stream",
     "text": [
      "Anno batch time: 37.843343019485474\n",
      "Conv batch time: 0.0004773139953613281\n"
     ]
    },
    {
     "name": "stdout",
     "output_type": "stream",
     "text": [
      "[Pipeline2]: Processing 20599-20649\n"
     ]
    },
    {
     "name": "stdout",
     "output_type": "stream",
     "text": [
      "Anno batch time: 28.47009539604187\n",
      "Conv batch time: 0.000415802001953125\n"
     ]
    },
    {
     "name": "stdout",
     "output_type": "stream",
     "text": [
      "[Pipeline2]: Processing 20649-20699\n"
     ]
    },
    {
     "name": "stdout",
     "output_type": "stream",
     "text": [
      "Anno batch time: 26.026061058044434\n",
      "Conv batch time: 0.0004780292510986328\n"
     ]
    },
    {
     "name": "stdout",
     "output_type": "stream",
     "text": [
      "[Pipeline2]: Processing 20699-20749\n"
     ]
    },
    {
     "name": "stdout",
     "output_type": "stream",
     "text": [
      "Anno batch time: 32.63088607788086\n",
      "Conv batch time: 0.0003867149353027344\n"
     ]
    },
    {
     "name": "stdout",
     "output_type": "stream",
     "text": [
      "[Pipeline2]: Processing 20749-20799\n"
     ]
    },
    {
     "name": "stdout",
     "output_type": "stream",
     "text": [
      "Anno batch time: 28.29817271232605\n",
      "Conv batch time: 0.0004417896270751953\n"
     ]
    },
    {
     "name": "stdout",
     "output_type": "stream",
     "text": [
      "[Pipeline2]: Processing 20799-20849\n"
     ]
    },
    {
     "name": "stdout",
     "output_type": "stream",
     "text": [
      "Anno batch time: 72.0467176437378\n",
      "Conv batch time: 0.0004220008850097656\n"
     ]
    },
    {
     "name": "stdout",
     "output_type": "stream",
     "text": [
      "[Pipeline2]: Processing 20849-20899\n"
     ]
    },
    {
     "name": "stdout",
     "output_type": "stream",
     "text": [
      "Anno batch time: 24.051762580871582\n",
      "Conv batch time: 0.00040268898010253906\n"
     ]
    },
    {
     "name": "stdout",
     "output_type": "stream",
     "text": [
      "[Pipeline2]: Processing 20899-20949\n"
     ]
    },
    {
     "name": "stdout",
     "output_type": "stream",
     "text": [
      "Anno batch time: 22.680131912231445\n",
      "Conv batch time: 0.0005390644073486328\n"
     ]
    },
    {
     "name": "stdout",
     "output_type": "stream",
     "text": [
      "[Pipeline2]: Processing 20949-20999\n"
     ]
    },
    {
     "name": "stdout",
     "output_type": "stream",
     "text": [
      "Anno batch time: 17.97470474243164\n",
      "Conv batch time: 0.0004355907440185547\n"
     ]
    },
    {
     "name": "stdout",
     "output_type": "stream",
     "text": [
      "[Pipeline2]: Processing 20999-21049\n"
     ]
    },
    {
     "name": "stdout",
     "output_type": "stream",
     "text": [
      "Anno batch time: 22.785345315933228\n",
      "Conv batch time: 0.0004417896270751953\n"
     ]
    },
    {
     "name": "stdout",
     "output_type": "stream",
     "text": [
      "[Pipeline2]: Processing 21049-21099\n"
     ]
    },
    {
     "name": "stdout",
     "output_type": "stream",
     "text": [
      "Anno batch time: 24.411710739135742\n",
      "Conv batch time: 0.00046133995056152344\n"
     ]
    },
    {
     "name": "stdout",
     "output_type": "stream",
     "text": [
      "[Pipeline2]: Processing 21099-21149\n"
     ]
    },
    {
     "name": "stdout",
     "output_type": "stream",
     "text": [
      "Anno batch time: 26.193520307540894\n",
      "Conv batch time: 0.00046563148498535156\n"
     ]
    },
    {
     "name": "stdout",
     "output_type": "stream",
     "text": [
      "[Pipeline2]: Processing 21149-21199\n"
     ]
    },
    {
     "name": "stdout",
     "output_type": "stream",
     "text": [
      "Anno batch time: 23.729854583740234\n",
      "Conv batch time: 0.0004825592041015625\n"
     ]
    },
    {
     "name": "stdout",
     "output_type": "stream",
     "text": [
      "[Pipeline2]: Processing 21199-21249\n"
     ]
    },
    {
     "name": "stdout",
     "output_type": "stream",
     "text": [
      "Anno batch time: 29.108738899230957\n",
      "Conv batch time: 0.0004837512969970703\n"
     ]
    },
    {
     "name": "stdout",
     "output_type": "stream",
     "text": [
      "[Pipeline2]: Processing 21249-21299\n"
     ]
    },
    {
     "name": "stdout",
     "output_type": "stream",
     "text": [
      "Anno batch time: 27.240551710128784\n",
      "Conv batch time: 0.000423431396484375\n"
     ]
    },
    {
     "name": "stdout",
     "output_type": "stream",
     "text": [
      "[Pipeline2]: Processing 21299-21349\n"
     ]
    },
    {
     "name": "stdout",
     "output_type": "stream",
     "text": [
      "Anno batch time: 27.092005729675293\n",
      "Conv batch time: 0.0004982948303222656\n"
     ]
    },
    {
     "name": "stdout",
     "output_type": "stream",
     "text": [
      "[Pipeline2]: Processing 21349-21399\n"
     ]
    },
    {
     "name": "stdout",
     "output_type": "stream",
     "text": [
      "Anno batch time: 24.311769247055054\n",
      "Conv batch time: 0.0004458427429199219\n"
     ]
    },
    {
     "name": "stdout",
     "output_type": "stream",
     "text": [
      "[Pipeline2]: Processing 21399-21449\n"
     ]
    },
    {
     "name": "stdout",
     "output_type": "stream",
     "text": [
      "Anno batch time: 27.083855867385864\n",
      "Conv batch time: 0.0004909038543701172\n"
     ]
    },
    {
     "name": "stdout",
     "output_type": "stream",
     "text": [
      "[Pipeline2]: Processing 21449-21499\n"
     ]
    },
    {
     "name": "stdout",
     "output_type": "stream",
     "text": [
      "Anno batch time: 25.45585298538208\n",
      "Conv batch time: 0.0004589557647705078\n"
     ]
    },
    {
     "name": "stdout",
     "output_type": "stream",
     "text": [
      "[Pipeline2]: Processing 21499-21549\n"
     ]
    },
    {
     "name": "stdout",
     "output_type": "stream",
     "text": [
      "Anno batch time: 26.350250244140625\n",
      "Conv batch time: 0.000423431396484375\n"
     ]
    },
    {
     "name": "stdout",
     "output_type": "stream",
     "text": [
      "[Pipeline2]: Processing 21549-21599\n"
     ]
    },
    {
     "name": "stdout",
     "output_type": "stream",
     "text": [
      "Anno batch time: 26.610506534576416\n",
      "Conv batch time: 0.00044989585876464844\n"
     ]
    },
    {
     "name": "stdout",
     "output_type": "stream",
     "text": [
      "[Pipeline2]: Processing 21599-21649\n"
     ]
    },
    {
     "name": "stdout",
     "output_type": "stream",
     "text": [
      "Anno batch time: 27.428934335708618\n",
      "Conv batch time: 0.00043654441833496094\n"
     ]
    },
    {
     "name": "stdout",
     "output_type": "stream",
     "text": [
      "[Pipeline2]: Processing 21649-21699\n"
     ]
    },
    {
     "name": "stdout",
     "output_type": "stream",
     "text": [
      "Anno batch time: 23.8482666015625\n",
      "Conv batch time: 0.0005009174346923828\n"
     ]
    },
    {
     "name": "stdout",
     "output_type": "stream",
     "text": [
      "[Pipeline2]: Processing 21699-21749\n"
     ]
    },
    {
     "name": "stdout",
     "output_type": "stream",
     "text": [
      "Anno batch time: 25.353835105895996\n",
      "Conv batch time: 0.0004551410675048828\n"
     ]
    },
    {
     "name": "stdout",
     "output_type": "stream",
     "text": [
      "[Pipeline2]: Processing 21749-21799\n"
     ]
    },
    {
     "name": "stdout",
     "output_type": "stream",
     "text": [
      "Anno batch time: 22.487634420394897\n",
      "Conv batch time: 0.00042819976806640625\n"
     ]
    },
    {
     "name": "stdout",
     "output_type": "stream",
     "text": [
      "[Pipeline2]: Processing 21799-21849\n"
     ]
    },
    {
     "name": "stdout",
     "output_type": "stream",
     "text": [
      "Anno batch time: 45.94474530220032\n",
      "Conv batch time: 0.0004260540008544922\n"
     ]
    },
    {
     "name": "stdout",
     "output_type": "stream",
     "text": [
      "[Pipeline2]: Processing 21849-21899\n"
     ]
    },
    {
     "name": "stdout",
     "output_type": "stream",
     "text": [
      "Anno batch time: 26.544050931930542\n",
      "Conv batch time: 0.00044918060302734375\n"
     ]
    },
    {
     "name": "stdout",
     "output_type": "stream",
     "text": [
      "[Pipeline2]: Processing 21899-21949\n"
     ]
    },
    {
     "name": "stdout",
     "output_type": "stream",
     "text": [
      "Anno batch time: 26.43280529975891\n",
      "Conv batch time: 0.0004553794860839844\n"
     ]
    },
    {
     "name": "stdout",
     "output_type": "stream",
     "text": [
      "[Pipeline2]: Processing 21949-21999\n"
     ]
    },
    {
     "name": "stdout",
     "output_type": "stream",
     "text": [
      "Anno batch time: 24.798736333847046\n",
      "Conv batch time: 0.00045609474182128906\n"
     ]
    },
    {
     "name": "stdout",
     "output_type": "stream",
     "text": [
      "[Pipeline2]: Processing 21999-22049\n"
     ]
    },
    {
     "name": "stdout",
     "output_type": "stream",
     "text": [
      "Anno batch time: 25.83120083808899\n",
      "Conv batch time: 0.0004904270172119141\n"
     ]
    },
    {
     "name": "stdout",
     "output_type": "stream",
     "text": [
      "[Pipeline2]: Processing 22049-22099\n"
     ]
    },
    {
     "name": "stdout",
     "output_type": "stream",
     "text": [
      "Anno batch time: 40.85259437561035\n",
      "Conv batch time: 0.00046539306640625\n"
     ]
    },
    {
     "name": "stdout",
     "output_type": "stream",
     "text": [
      "[Pipeline2]: Processing 22099-22149\n"
     ]
    },
    {
     "name": "stdout",
     "output_type": "stream",
     "text": [
      "Anno batch time: 26.79123878479004\n",
      "Conv batch time: 0.0004506111145019531\n"
     ]
    },
    {
     "name": "stdout",
     "output_type": "stream",
     "text": [
      "[Pipeline2]: Processing 22149-22199\n"
     ]
    },
    {
     "name": "stdout",
     "output_type": "stream",
     "text": [
      "Anno batch time: 27.44464635848999\n",
      "Conv batch time: 0.0005099773406982422\n"
     ]
    },
    {
     "name": "stdout",
     "output_type": "stream",
     "text": [
      "[Pipeline2]: Processing 22199-22249\n"
     ]
    },
    {
     "name": "stdout",
     "output_type": "stream",
     "text": [
      "Anno batch time: 28.014283895492554\n",
      "Conv batch time: 0.0004088878631591797\n"
     ]
    },
    {
     "name": "stdout",
     "output_type": "stream",
     "text": [
      "[Pipeline2]: Processing 22249-22299\n"
     ]
    },
    {
     "name": "stdout",
     "output_type": "stream",
     "text": [
      "Anno batch time: 22.876229524612427\n",
      "Conv batch time: 0.00044345855712890625\n"
     ]
    },
    {
     "name": "stdout",
     "output_type": "stream",
     "text": [
      "[Pipeline2]: Processing 22299-22349\n"
     ]
    },
    {
     "name": "stdout",
     "output_type": "stream",
     "text": [
      "Anno batch time: 25.487791061401367\n",
      "Conv batch time: 0.00047326087951660156\n"
     ]
    },
    {
     "name": "stdout",
     "output_type": "stream",
     "text": [
      "[Pipeline2]: Processing 22349-22399\n"
     ]
    },
    {
     "name": "stdout",
     "output_type": "stream",
     "text": [
      "Anno batch time: 29.463192462921143\n",
      "Conv batch time: 0.0004730224609375\n"
     ]
    },
    {
     "name": "stdout",
     "output_type": "stream",
     "text": [
      "[Pipeline2]: Processing 22399-22449\n"
     ]
    },
    {
     "name": "stdout",
     "output_type": "stream",
     "text": [
      "Anno batch time: 23.998867988586426\n",
      "Conv batch time: 0.0004520416259765625\n"
     ]
    },
    {
     "name": "stdout",
     "output_type": "stream",
     "text": [
      "[Pipeline2]: Processing 22449-22499\n"
     ]
    },
    {
     "name": "stdout",
     "output_type": "stream",
     "text": [
      "Anno batch time: 36.65774750709534\n",
      "Conv batch time: 0.0004229545593261719\n"
     ]
    },
    {
     "name": "stdout",
     "output_type": "stream",
     "text": [
      "[Pipeline2]: Processing 22499-22549\n"
     ]
    },
    {
     "name": "stdout",
     "output_type": "stream",
     "text": [
      "Anno batch time: 26.835837602615356\n",
      "Conv batch time: 0.0004551410675048828\n"
     ]
    },
    {
     "name": "stdout",
     "output_type": "stream",
     "text": [
      "[Pipeline2]: Processing 22549-22599\n"
     ]
    },
    {
     "name": "stdout",
     "output_type": "stream",
     "text": [
      "Anno batch time: 27.145868062973022\n",
      "Conv batch time: 0.00043129920959472656\n"
     ]
    },
    {
     "name": "stdout",
     "output_type": "stream",
     "text": [
      "[Pipeline2]: Processing 22599-22649\n"
     ]
    },
    {
     "name": "stdout",
     "output_type": "stream",
     "text": [
      "Anno batch time: 29.015981912612915\n",
      "Conv batch time: 0.00045037269592285156\n"
     ]
    },
    {
     "name": "stdout",
     "output_type": "stream",
     "text": [
      "[Pipeline2]: Processing 22649-22699\n"
     ]
    },
    {
     "name": "stdout",
     "output_type": "stream",
     "text": [
      "Anno batch time: 26.229979276657104\n",
      "Conv batch time: 0.0004343986511230469\n"
     ]
    },
    {
     "name": "stdout",
     "output_type": "stream",
     "text": [
      "[Pipeline2]: Processing 22699-22749\n"
     ]
    },
    {
     "name": "stdout",
     "output_type": "stream",
     "text": [
      "Anno batch time: 26.452184915542603\n",
      "Conv batch time: 0.00046443939208984375\n"
     ]
    },
    {
     "name": "stdout",
     "output_type": "stream",
     "text": [
      "[Pipeline2]: Processing 22749-22799\n"
     ]
    },
    {
     "name": "stdout",
     "output_type": "stream",
     "text": [
      "Anno batch time: 20.08972978591919\n",
      "Conv batch time: 0.00044035911560058594\n"
     ]
    },
    {
     "name": "stdout",
     "output_type": "stream",
     "text": [
      "[Pipeline2]: Processing 22799-22849\n"
     ]
    },
    {
     "name": "stdout",
     "output_type": "stream",
     "text": [
      "Anno batch time: 26.038867950439453\n",
      "Conv batch time: 0.00044536590576171875\n"
     ]
    },
    {
     "name": "stdout",
     "output_type": "stream",
     "text": [
      "[Pipeline2]: Processing 22849-22899\n"
     ]
    },
    {
     "name": "stdout",
     "output_type": "stream",
     "text": [
      "Anno batch time: 21.039910078048706\n",
      "Conv batch time: 0.0004391670227050781\n"
     ]
    },
    {
     "name": "stdout",
     "output_type": "stream",
     "text": [
      "[Pipeline2]: Processing 22899-22949\n"
     ]
    },
    {
     "name": "stdout",
     "output_type": "stream",
     "text": [
      "Anno batch time: 26.302274703979492\n",
      "Conv batch time: 0.00047850608825683594\n"
     ]
    },
    {
     "name": "stdout",
     "output_type": "stream",
     "text": [
      "[Pipeline2]: Processing 22949-22999\n"
     ]
    },
    {
     "name": "stdout",
     "output_type": "stream",
     "text": [
      "Anno batch time: 27.864262342453003\n",
      "Conv batch time: 0.0004990100860595703\n"
     ]
    },
    {
     "name": "stdout",
     "output_type": "stream",
     "text": [
      "[Pipeline2]: Processing 22999-23049\n"
     ]
    },
    {
     "name": "stdout",
     "output_type": "stream",
     "text": [
      "Anno batch time: 30.44360041618347\n",
      "Conv batch time: 0.0004189014434814453\n"
     ]
    },
    {
     "name": "stdout",
     "output_type": "stream",
     "text": [
      "[Pipeline2]: Processing 23049-23099\n"
     ]
    },
    {
     "name": "stdout",
     "output_type": "stream",
     "text": [
      "Anno batch time: 25.813870668411255\n",
      "Conv batch time: 0.0004394054412841797\n"
     ]
    },
    {
     "name": "stdout",
     "output_type": "stream",
     "text": [
      "[Pipeline2]: Processing 23099-23149\n"
     ]
    },
    {
     "name": "stdout",
     "output_type": "stream",
     "text": [
      "Anno batch time: 26.00068712234497\n",
      "Conv batch time: 0.0004515647888183594\n"
     ]
    },
    {
     "name": "stdout",
     "output_type": "stream",
     "text": [
      "[Pipeline2]: Processing 23149-23199\n"
     ]
    },
    {
     "name": "stdout",
     "output_type": "stream",
     "text": [
      "Anno batch time: 24.757795810699463\n",
      "Conv batch time: 0.0004436969757080078\n"
     ]
    },
    {
     "name": "stdout",
     "output_type": "stream",
     "text": [
      "[Pipeline2]: Processing 23199-23249\n"
     ]
    },
    {
     "name": "stdout",
     "output_type": "stream",
     "text": [
      "Anno batch time: 45.87954759597778\n",
      "Conv batch time: 0.0004417896270751953\n"
     ]
    },
    {
     "name": "stdout",
     "output_type": "stream",
     "text": [
      "[Pipeline2]: Processing 23249-23299\n"
     ]
    },
    {
     "name": "stdout",
     "output_type": "stream",
     "text": [
      "Anno batch time: 23.961259365081787\n",
      "Conv batch time: 0.00048089027404785156\n"
     ]
    },
    {
     "name": "stdout",
     "output_type": "stream",
     "text": [
      "[Pipeline2]: Processing 23299-23349\n"
     ]
    },
    {
     "name": "stdout",
     "output_type": "stream",
     "text": [
      "Anno batch time: 25.138996362686157\n",
      "Conv batch time: 0.0004265308380126953\n"
     ]
    },
    {
     "name": "stdout",
     "output_type": "stream",
     "text": [
      "[Pipeline2]: Processing 23349-23399\n"
     ]
    },
    {
     "name": "stdout",
     "output_type": "stream",
     "text": [
      "Anno batch time: 30.17002511024475\n",
      "Conv batch time: 0.0004200935363769531\n"
     ]
    },
    {
     "name": "stdout",
     "output_type": "stream",
     "text": [
      "[Pipeline2]: Processing 23399-23449\n"
     ]
    },
    {
     "name": "stdout",
     "output_type": "stream",
     "text": [
      "Anno batch time: 33.17947721481323\n",
      "Conv batch time: 0.0004551410675048828\n"
     ]
    },
    {
     "name": "stdout",
     "output_type": "stream",
     "text": [
      "[Pipeline2]: Processing 23449-23499\n"
     ]
    },
    {
     "name": "stdout",
     "output_type": "stream",
     "text": [
      "Anno batch time: 35.90045785903931\n",
      "Conv batch time: 0.0006055831909179688\n"
     ]
    },
    {
     "name": "stdout",
     "output_type": "stream",
     "text": [
      "[Pipeline2]: Processing 23499-23549\n"
     ]
    },
    {
     "name": "stdout",
     "output_type": "stream",
     "text": [
      "Anno batch time: 26.159409046173096\n",
      "Conv batch time: 0.0004458427429199219\n"
     ]
    },
    {
     "name": "stdout",
     "output_type": "stream",
     "text": [
      "[Pipeline2]: Processing 23549-23599\n"
     ]
    },
    {
     "name": "stdout",
     "output_type": "stream",
     "text": [
      "Anno batch time: 50.369646072387695\n",
      "Conv batch time: 0.0004591941833496094\n"
     ]
    },
    {
     "name": "stdout",
     "output_type": "stream",
     "text": [
      "[Pipeline2]: Processing 23599-23649\n"
     ]
    },
    {
     "name": "stdout",
     "output_type": "stream",
     "text": [
      "Anno batch time: 26.72919225692749\n",
      "Conv batch time: 0.00044083595275878906\n"
     ]
    },
    {
     "name": "stdout",
     "output_type": "stream",
     "text": [
      "[Pipeline2]: Processing 23649-23699\n"
     ]
    },
    {
     "name": "stdout",
     "output_type": "stream",
     "text": [
      "Anno batch time: 30.349132299423218\n",
      "Conv batch time: 0.0004546642303466797\n"
     ]
    },
    {
     "name": "stdout",
     "output_type": "stream",
     "text": [
      "[Pipeline2]: Processing 23699-23749\n"
     ]
    },
    {
     "name": "stdout",
     "output_type": "stream",
     "text": [
      "Anno batch time: 30.55688452720642\n",
      "Conv batch time: 0.0004627704620361328\n"
     ]
    },
    {
     "name": "stdout",
     "output_type": "stream",
     "text": [
      "[Pipeline2]: Processing 23749-23799\n"
     ]
    },
    {
     "name": "stdout",
     "output_type": "stream",
     "text": [
      "Anno batch time: 24.6799476146698\n",
      "Conv batch time: 0.0004062652587890625\n"
     ]
    },
    {
     "name": "stdout",
     "output_type": "stream",
     "text": [
      "[Pipeline2]: Processing 23799-23849\n"
     ]
    },
    {
     "name": "stdout",
     "output_type": "stream",
     "text": [
      "Anno batch time: 24.194082498550415\n",
      "Conv batch time: 0.0004298686981201172\n"
     ]
    },
    {
     "name": "stdout",
     "output_type": "stream",
     "text": [
      "[Pipeline2]: Processing 23849-23899\n"
     ]
    },
    {
     "name": "stdout",
     "output_type": "stream",
     "text": [
      "Anno batch time: 23.98076891899109\n",
      "Conv batch time: 0.0004096031188964844\n"
     ]
    },
    {
     "name": "stdout",
     "output_type": "stream",
     "text": [
      "[Pipeline2]: Processing 23899-23949\n"
     ]
    },
    {
     "name": "stdout",
     "output_type": "stream",
     "text": [
      "Anno batch time: 24.638489723205566\n",
      "Conv batch time: 0.0004470348358154297\n"
     ]
    },
    {
     "name": "stdout",
     "output_type": "stream",
     "text": [
      "[Pipeline2]: Processing 23949-23999\n"
     ]
    },
    {
     "name": "stdout",
     "output_type": "stream",
     "text": [
      "Anno batch time: 22.454195499420166\n",
      "Conv batch time: 0.0004000663757324219\n"
     ]
    },
    {
     "name": "stdout",
     "output_type": "stream",
     "text": [
      "[Pipeline2]: Processing 23999-24049\n"
     ]
    },
    {
     "name": "stdout",
     "output_type": "stream",
     "text": [
      "Anno batch time: 47.50054955482483\n",
      "Conv batch time: 0.0004074573516845703\n"
     ]
    },
    {
     "name": "stdout",
     "output_type": "stream",
     "text": [
      "[Pipeline2]: Processing 24049-24063\n"
     ]
    },
    {
     "name": "stdout",
     "output_type": "stream",
     "text": [
      "Anno batch time: 16.93176555633545\n",
      "Conv batch time: 0.0001537799835205078\n"
     ]
    }
   ],
   "source": [
    "responses = []\n",
    "batch_new_linked = []\n",
    "batch_ans = []\n",
    "last = 0\n",
    "cutoff = 0\n",
    "total_len = len(data_json)\n",
    "for i, data in enumerate(data_json):\n",
    "    linked, annotated, converted, gold_linked = data\n",
    "    if i < cutoff:\n",
    "        continue\n",
    "    question = linked['utterance']\n",
    "    new_ents = linked['ents']\n",
    "    old_ents_set = set(x['id'] for x in linked['ents'])\n",
    "    for gold_ent in gold_linked['ents']:\n",
    "        if gold_ent['id'] not in old_ents_set:\n",
    "            new_ents.append(gold_ent)\n",
    "    new_linked = {\n",
    "        'utterance': question,\n",
    "        'ents': new_ents,\n",
    "        'rels':[],\n",
    "    }\n",
    "    answer = converted['labels']\n",
    "    batch_new_linked.append(new_linked)\n",
    "    batch_ans.append(answer)\n",
    "    if ((i + 1) % 50) == 0 or i == total_len - 1:\n",
    "        print(\"[Pipeline2]:\", f\"Processing {last}-{i}\")\n",
    "        try:\n",
    "            for linked, annotated, converted in pipe_batch(batch_new_linked, batch_ans):\n",
    "                responses.append([linked, annotated, converted])\n",
    "            batch_new_linked = []\n",
    "            batch_ans = []\n",
    "            last = i\n",
    "        except Exception as e:\n",
    "            raise e\n",
    "            # print(e)\n",
    "            # continue\n",
    "        with open(f\"../t5-for-sparql/falcon_links/5ents-gold_0rels/link_{i}.json\", \"w\") as f:\n",
    "            json.dump(responses, f, indent=2, separators=(',',':'))"
   ]
  }
 ],
 "metadata": {
  "kernelspec": {
   "display_name": "py310",
   "language": "python",
   "name": "python3"
  },
  "language_info": {
   "codemirror_mode": {
    "name": "ipython",
    "version": 3
   },
   "file_extension": ".py",
   "mimetype": "text/x-python",
   "name": "python",
   "nbconvert_exporter": "python",
   "pygments_lexer": "ipython3",
   "version": "3.10.12"
  },
  "papermill": {
   "default_parameters": {},
   "duration": 13164.961164,
   "end_time": "2023-07-18T19:06:08.414699",
   "environment_variables": {},
   "exception": null,
   "input_path": "pipeline2-goldents.ipynb",
   "output_path": "pipeline2-e5gr0-short.papermill.ipynb",
   "parameters": {},
   "start_time": "2023-07-18T15:26:43.453535",
   "version": "2.4.0"
  }
 },
 "nbformat": 4,
 "nbformat_minor": 5
}
{
 "cells": [
  {
   "attachments": {},
   "cell_type": "markdown",
   "id": "13497438",
   "metadata": {
    "papermill": {
     "duration": 0.001052,
     "end_time": "2023-07-18T15:26:44.117569",
     "exception": false,
     "start_time": "2023-07-18T15:26:44.116517",
     "status": "completed"
    },
    "tags": []
   },
   "source": [
    "# Pipeline 1"
   ]
  },
  {
   "cell_type": "code",
   "execution_count": 1,
   "id": "8cb34c5f",
   "metadata": {
    "execution": {
     "iopub.execute_input": "2023-07-18T15:26:44.120383Z",
     "iopub.status.busy": "2023-07-18T15:26:44.120137Z",
     "iopub.status.idle": "2023-07-18T15:26:44.614783Z",
     "shell.execute_reply": "2023-07-18T15:26:44.614287Z"
    },
    "papermill": {
     "duration": 0.496802,
     "end_time": "2023-07-18T15:26:44.615608",
     "exception": false,
     "start_time": "2023-07-18T15:26:44.118806",
     "status": "completed"
    },
    "tags": []
   },
   "outputs": [
    {
     "name": "stdout",
     "output_type": "stream",
     "text": [
      "main_virtuoso_noreranking\n"
     ]
    }
   ],
   "source": [
    "from pipeline import SerialAnnotator, T5Converter\n",
    "import time\n",
    "from pprint import pprint"
   ]
  },
  {
   "cell_type": "code",
   "execution_count": 2,
   "id": "28d560de",
   "metadata": {
    "execution": {
     "iopub.execute_input": "2023-07-18T15:26:44.618550Z",
     "iopub.status.busy": "2023-07-18T15:26:44.618311Z",
     "iopub.status.idle": "2023-07-18T15:26:44.620780Z",
     "shell.execute_reply": "2023-07-18T15:26:44.620400Z"
    },
    "papermill": {
     "duration": 0.004891,
     "end_time": "2023-07-18T15:26:44.621391",
     "exception": false,
     "start_time": "2023-07-18T15:26:44.616500",
     "status": "completed"
    },
    "tags": []
   },
   "outputs": [],
   "source": [
    "annotator = SerialAnnotator()\n",
    "converter = T5Converter()"
   ]
  },
  {
   "cell_type": "code",
   "execution_count": 3,
   "id": "95bba8e0",
   "metadata": {
    "execution": {
     "iopub.execute_input": "2023-07-18T15:26:44.623540Z",
     "iopub.status.busy": "2023-07-18T15:26:44.623346Z",
     "iopub.status.idle": "2023-07-18T15:26:44.626123Z",
     "shell.execute_reply": "2023-07-18T15:26:44.625785Z"
    },
    "papermill": {
     "duration": 0.004525,
     "end_time": "2023-07-18T15:26:44.626758",
     "exception": false,
     "start_time": "2023-07-18T15:26:44.622233",
     "status": "completed"
    },
    "tags": []
   },
   "outputs": [],
   "source": [
    "def pipe_batch(linked, wikisparqls):\n",
    "  batched = []\n",
    "  s = time.time()\n",
    "  annotated = annotator.batch_annotate(linked)\n",
    "  e = time.time()\n",
    "  assert len(linked) == len(annotated)\n",
    "  annotator_time = e - s\n",
    "  converter_time = 0\n",
    "  for i, single_annotated in enumerate(annotated):\n",
    "    # annotated = annotator.annotate(**single_linked)\n",
    "    # try:\n",
    "    #   annotator_time += e - s\n",
    "    # except Exception as e:\n",
    "    #   print(\"[Annotator Error]:\", e)\n",
    "    #   continue\n",
    "    s = time.time()\n",
    "    try:\n",
    "      converted = converter.preprocess(**single_annotated, wikisparql=wikisparqls[i])\n",
    "    except Exception as e:\n",
    "      print(\"[Converter Error]:\", e)\n",
    "      continue\n",
    "      \n",
    "    e = time.time()\n",
    "    converter_time += e - s\n",
    "    batched.append([linked[i], annotated[i], converted])\n",
    "  print(\"Anno batch time:\", annotator_time)\n",
    "  print(\"Conv batch time:\", converter_time)\n",
    "  return batched"
   ]
  },
  {
   "attachments": {},
   "cell_type": "markdown",
   "id": "067a756c",
   "metadata": {
    "papermill": {
     "duration": 0.000844,
     "end_time": "2023-07-18T15:26:44.628607",
     "exception": false,
     "start_time": "2023-07-18T15:26:44.627763",
     "status": "completed"
    },
    "tags": []
   },
   "source": [
    "## Data"
   ]
  },
  {
   "cell_type": "code",
   "execution_count": 4,
   "id": "81311d74",
   "metadata": {
    "execution": {
     "iopub.execute_input": "2023-07-18T15:26:44.630640Z",
     "iopub.status.busy": "2023-07-18T15:26:44.630451Z",
     "iopub.status.idle": "2023-07-18T15:26:44.695727Z",
     "shell.execute_reply": "2023-07-18T15:26:44.695279Z"
    },
    "papermill": {
     "duration": 0.067298,
     "end_time": "2023-07-18T15:26:44.696685",
     "exception": false,
     "start_time": "2023-07-18T15:26:44.629387",
     "status": "completed"
    },
    "tags": []
   },
   "outputs": [],
   "source": [
    "from pathlib import Path\n",
    "from pprint import pprint\n",
    "import pandas as pd\n",
    "import json\n",
    "\n",
    "# data_path = Path(\"..\") / \"t5-for-sparql\" / \"data\" / \"lcquad2\" / \"train.json\"\n",
    "data_path = Path(\"..\") / \"t5-for-sparql\" / \"falcon_links\" / \"top1ents\" / \"link_24066.json\""
   ]
  },
  {
   "cell_type": "code",
   "execution_count": 5,
   "id": "328fecc9",
   "metadata": {
    "execution": {
     "iopub.execute_input": "2023-07-18T15:26:44.699228Z",
     "iopub.status.busy": "2023-07-18T15:26:44.699105Z",
     "iopub.status.idle": "2023-07-18T15:26:44.909254Z",
     "shell.execute_reply": "2023-07-18T15:26:44.908782Z"
    },
    "papermill": {
     "duration": 0.212377,
     "end_time": "2023-07-18T15:26:44.910136",
     "exception": false,
     "start_time": "2023-07-18T15:26:44.697759",
     "status": "completed"
    },
    "tags": []
   },
   "outputs": [],
   "source": [
    "with open(data_path) as f:\n",
    "  data_json = json.load(f)\n",
    "sample = data_json[1]"
   ]
  },
  {
   "cell_type": "code",
   "execution_count": 6,
   "id": "a60cdb39",
   "metadata": {
    "execution": {
     "iopub.execute_input": "2023-07-18T15:26:44.912584Z",
     "iopub.status.busy": "2023-07-18T15:26:44.912383Z",
     "iopub.status.idle": "2023-07-18T15:26:44.915342Z",
     "shell.execute_reply": "2023-07-18T15:26:44.914867Z"
    },
    "papermill": {
     "duration": 0.005094,
     "end_time": "2023-07-18T15:26:44.916206",
     "exception": false,
     "start_time": "2023-07-18T15:26:44.911112",
     "status": "completed"
    },
    "tags": []
   },
   "outputs": [],
   "source": [
    "import re\n",
    "\n",
    "def retrieve_gold_links(masked_wikisparql):\n",
    "  fragments = masked_wikisparql.upper().strip().split(' ')\n",
    "  ents = []\n",
    "  rels = []\n",
    "  result_dict = {\n",
    "    'ents': ents,\n",
    "    'rels': rels,\n",
    "  }\n",
    "  for fragment in fragments:\n",
    "    id_match = re.search('[QP][1-9]+',fragment)\n",
    "    if id_match:\n",
    "      id_raw = id_match.group(0)\n",
    "      if id_raw[0] == 'Q':\n",
    "        prefix = 'wdt:'\n",
    "        uri = 'http://www.wikidata.org/entity/' + id_raw\n",
    "        target_arr = ents\n",
    "      elif id_raw[0] == 'P':\n",
    "        prefix = 'wd:'\n",
    "        uri =  'http://www.wikidata.org/prop/direct/' + id_raw\n",
    "        target_arr = rels\n",
    "      else:\n",
    "        raise ValueError('ID does not start with P or Q')\n",
    "      match_dict = {\n",
    "        'id' : id_raw,\n",
    "        'prefix' : prefix,\n",
    "        'uri' : uri,\n",
    "      }\n",
    "      target_arr.append(match_dict)\n",
    "  return result_dict"
   ]
  },
  {
   "cell_type": "code",
   "execution_count": 7,
   "id": "5acf7393",
   "metadata": {
    "execution": {
     "iopub.execute_input": "2023-07-18T15:26:44.918461Z",
     "iopub.status.busy": "2023-07-18T15:26:44.918253Z",
     "iopub.status.idle": "2023-07-18T15:26:45.149616Z",
     "shell.execute_reply": "2023-07-18T15:26:45.149120Z"
    },
    "papermill": {
     "duration": 0.233439,
     "end_time": "2023-07-18T15:26:45.150527",
     "exception": false,
     "start_time": "2023-07-18T15:26:44.917088",
     "status": "completed"
    },
    "tags": []
   },
   "outputs": [],
   "source": [
    "for entry in data_json:\n",
    "  old_linked, _, old_converted = entry\n",
    "  wikisparql = old_converted['labels']\n",
    "  gold_links = retrieve_gold_links(wikisparql)\n",
    "  entry.append(gold_links)"
   ]
  },
  {
   "cell_type": "code",
   "execution_count": 8,
   "id": "983e184a",
   "metadata": {
    "execution": {
     "iopub.execute_input": "2023-07-18T15:26:45.153642Z",
     "iopub.status.busy": "2023-07-18T15:26:45.153417Z",
     "iopub.status.idle": "2023-07-18T15:26:45.157245Z",
     "shell.execute_reply": "2023-07-18T15:26:45.156864Z"
    },
    "papermill": {
     "duration": 0.006336,
     "end_time": "2023-07-18T15:26:45.157925",
     "exception": false,
     "start_time": "2023-07-18T15:26:45.151589",
     "status": "completed"
    },
    "tags": []
   },
   "outputs": [
    {
     "data": {
      "text/plain": [
       "[{'utterance': 'What is Delta Air Lines periodical literature mouthpiece?',\n",
       "  'ents': [{'uri': 'http://www.wikidata.org/entity/Q188920',\n",
       "    'prefix': 'wd:',\n",
       "    'id': 'Q188920'}],\n",
       "  'rels': []},\n",
       " {'utterance': 'What is Delta Air Lines periodical literature mouthpiece?',\n",
       "  'fragments': ['[DEF]', 'wd:', 'Q188920 Delta']},\n",
       " {'inputs': 'What is Delta Air Lines periodical literature mouthpiece? <extra_id_59> <extra_id_53> Q188920 Delta',\n",
       "  'labels': '<extra_id_6> <extra_id_21> <extra_id_39> <extra_id_19> <extra_id_33> <extra_id_53> q188920 <extra_id_54> p2813 <extra_id_39> <extra_id_38> <extra_id_39> <extra_id_54> p31 <extra_id_53> q1002697 <extra_id_15>'},\n",
       " {'ents': [{'id': 'Q18892',\n",
       "    'prefix': 'wdt:',\n",
       "    'uri': 'http://www.wikidata.org/entity/Q18892'},\n",
       "   {'id': 'Q1', 'prefix': 'wdt:', 'uri': 'http://www.wikidata.org/entity/Q1'}],\n",
       "  'rels': [{'id': 'P2813',\n",
       "    'prefix': 'wd:',\n",
       "    'uri': 'http://www.wikidata.org/prop/direct/P2813'},\n",
       "   {'id': 'P31',\n",
       "    'prefix': 'wd:',\n",
       "    'uri': 'http://www.wikidata.org/prop/direct/P31'}]}]"
      ]
     },
     "execution_count": 8,
     "metadata": {},
     "output_type": "execute_result"
    }
   ],
   "source": [
    "data_json[0]"
   ]
  },
  {
   "cell_type": "code",
   "execution_count": null,
   "id": "54ca8faf",
   "metadata": {
    "papermill": {
     "duration": null,
     "end_time": null,
     "exception": false,
     "start_time": "2023-07-18T15:26:45.158875",
     "status": "running"
    },
    "tags": []
   },
   "outputs": [],
   "source": [
    "responses = []\n",
    "batch_new_linked = []\n",
    "batch_ans = []\n",
    "last = 0\n",
    "cutoff = 0\n",
    "total_len = len(data_json)\n",
    "for i, data in enumerate(data_json):\n",
    "    linked, annotated, converted, gold_linked = data\n",
    "    if i < cutoff:\n",
    "        continue\n",
    "    question = linked['utterance']\n",
    "    new_ents = linked['ents']\n",
    "    old_ents_set = set(x['id'] for x in linked['ents'])\n",
    "    for gold_ent in gold_linked['ents']:\n",
    "        if gold_ent['id'] not in old_ents_set:\n",
    "            new_ents.append(gold_ent)\n",
    "    new_linked = {\n",
    "        'utterance': question,\n",
    "        'ents': new_ents,\n",
    "        'rels':[],\n",
    "    }\n",
    "    answer = converted['labels']\n",
    "    batch_new_linked.append(new_linked)\n",
    "    batch_ans.append(answer)\n",
    "    if ((i + 1) % 50) == 0 or i == total_len - 1:\n",
    "        print(\"[Pipeline2]:\", f\"Processing {last}-{i}\")\n",
    "        try:\n",
    "            for linked, annotated, converted in pipe_batch(batch_new_linked, batch_ans):\n",
    "                responses.append([linked, annotated, converted])\n",
    "            batch_new_linked = []\n",
    "            batch_ans = []\n",
    "            last = i\n",
    "        except Exception as e:\n",
    "            raise e\n",
    "            # print(e)\n",
    "            # continue\n",
    "        with open(f\"../t5-for-sparql/falcon_links/5ents-gold_0rels/link_{i}.json\", \"w\") as f:\n",
    "            json.dump(responses, f, indent=2, separators=(',',':'))"
   ]
  }
 ],
 "metadata": {
  "kernelspec": {
   "display_name": "py310",
   "language": "python",
   "name": "python3"
  },
  "language_info": {
   "codemirror_mode": {
    "name": "ipython",
    "version": 3
   },
   "file_extension": ".py",
   "mimetype": "text/x-python",
   "name": "python",
   "nbconvert_exporter": "python",
   "pygments_lexer": "ipython3",
   "version": "3.10.12"
  },
  "papermill": {
   "default_parameters": {},
   "duration": null,
   "end_time": null,
   "environment_variables": {},
   "exception": null,
   "input_path": "pipeline2-goldents.ipynb",
   "output_path": "pipeline2-e5gr0-short.papermill.ipynb",
   "parameters": {},
   "start_time": "2023-07-18T15:26:43.453535",
   "version": "2.4.0"
  }
 },
 "nbformat": 4,
 "nbformat_minor": 5
}
{
 "cells": [
  {
   "attachments": {},
   "cell_type": "markdown",
   "id": "c11bad60",
   "metadata": {
    "papermill": {
     "duration": 0.00684,
     "end_time": "2023-07-13T04:22:20.849068",
     "exception": false,
     "start_time": "2023-07-13T04:22:20.842228",
     "status": "completed"
    },
    "tags": []
   },
   "source": [
    "# Pipeline 1"
   ]
  },
  {
   "cell_type": "code",
   "execution_count": 1,
   "id": "c35a08f2",
   "metadata": {
    "execution": {
     "iopub.execute_input": "2023-07-13T04:22:20.867699Z",
     "iopub.status.busy": "2023-07-13T04:22:20.867038Z",
     "iopub.status.idle": "2023-07-13T04:22:22.546665Z",
     "shell.execute_reply": "2023-07-13T04:22:22.545585Z"
    },
    "papermill": {
     "duration": 1.695611,
     "end_time": "2023-07-13T04:22:22.553446",
     "exception": false,
     "start_time": "2023-07-13T04:22:20.857835",
     "status": "completed"
    },
    "tags": []
   },
   "outputs": [],
   "source": [
    "from pipeline import Falcon2Linker, SerialAnnotator, T5Converter\n",
    "import time\n",
    "from pprint import pprint"
   ]
  },
  {
   "cell_type": "code",
   "execution_count": 2,
   "id": "57662b69",
   "metadata": {
    "execution": {
     "iopub.execute_input": "2023-07-13T04:22:22.571300Z",
     "iopub.status.busy": "2023-07-13T04:22:22.570451Z",
     "iopub.status.idle": "2023-07-13T04:22:22.576159Z",
     "shell.execute_reply": "2023-07-13T04:22:22.575375Z"
    },
    "papermill": {
     "duration": 0.018973,
     "end_time": "2023-07-13T04:22:22.578767",
     "exception": false,
     "start_time": "2023-07-13T04:22:22.559794",
     "status": "completed"
    },
    "tags": []
   },
   "outputs": [],
   "source": [
    "linker = Falcon2Linker()\n",
    "annotator = SerialAnnotator()\n",
    "converter = T5Converter()"
   ]
  },
  {
   "cell_type": "code",
   "execution_count": 3,
   "id": "431ce0a1",
   "metadata": {
    "execution": {
     "iopub.execute_input": "2023-07-13T04:22:22.601999Z",
     "iopub.status.busy": "2023-07-13T04:22:22.601667Z",
     "iopub.status.idle": "2023-07-13T04:22:22.605983Z",
     "shell.execute_reply": "2023-07-13T04:22:22.605318Z"
    },
    "papermill": {
     "duration": 0.024334,
     "end_time": "2023-07-13T04:22:22.608451",
     "exception": false,
     "start_time": "2023-07-13T04:22:22.584117",
     "status": "completed"
    },
    "tags": []
   },
   "outputs": [],
   "source": [
    "utterance = \"Who is the wife of Barack Obama\""
   ]
  },
  {
   "cell_type": "code",
   "execution_count": 4,
   "id": "e53d3ccc",
   "metadata": {
    "execution": {
     "iopub.execute_input": "2023-07-13T04:22:22.625447Z",
     "iopub.status.busy": "2023-07-13T04:22:22.624957Z",
     "iopub.status.idle": "2023-07-13T04:22:31.086428Z",
     "shell.execute_reply": "2023-07-13T04:22:31.085137Z"
    },
    "papermill": {
     "duration": 8.476129,
     "end_time": "2023-07-13T04:22:31.089793",
     "exception": false,
     "start_time": "2023-07-13T04:22:22.613664",
     "status": "completed"
    },
    "tags": []
   },
   "outputs": [
    {
     "name": "stdout",
     "output_type": "stream",
     "text": [
      "recieved utterance\n",
      "0 : ['Who is the wife of Barack Obama']\n"
     ]
    },
    {
     "name": "stdout",
     "output_type": "stream",
     "text": [
      "[reRank_relations]: who is the wife of Barack Obama \n",
      "SPARQL Requests Made: 1 \n",
      "SPARQL Requests Total Time: 0.7111196517944336 \n",
      "SPARQL Avg Time per Qn: 0.7111196517944336\n",
      "['Who is the wife of Barack Obama', [['<http://www.wikidata.org/entity/P26>', 'wife'], ['<http://www.wikidata.org/entity/P2848>', 'wife'], ['<http://www.wikidata.org/entity/P140>', 'wife'], ['<http://www.wikidata.org/entity/P451>', 'wife'], ['<http://www.wikidata.org/entity/P600>', 'wife']], [['<http://www.wikidata.org/entity/Q76>', 'Barack obama'], ['<http://www.wikidata.org/entity/Q649593>', 'Barack obama'], ['<http://www.wikidata.org/entity/Q4808526>', 'Barack obama'], ['<http://www.wikidata.org/entity/Q4858106>', 'Barack obama'], ['<http://www.wikidata.org/entity/Q643049>', 'Barack obama']], 0, 0, 0, 0]\n",
      "'Linked'\n",
      "{'ents': [{'id': 'Q76',\n",
      "           'prefix': 'wd:',\n",
      "           'uri': 'http://www.wikidata.org/entity/Q76'},\n",
      "          {'id': 'Q649593',\n",
      "           'prefix': 'wd:',\n",
      "           'uri': 'http://www.wikidata.org/entity/Q649593'},\n",
      "          {'id': 'Q4808526',\n",
      "           'prefix': 'wd:',\n",
      "           'uri': 'http://www.wikidata.org/entity/Q4808526'},\n",
      "          {'id': 'Q4858106',\n",
      "           'prefix': 'wd:',\n",
      "           'uri': 'http://www.wikidata.org/entity/Q4858106'},\n",
      "          {'id': 'Q643049',\n",
      "           'prefix': 'wd:',\n",
      "           'uri': 'http://www.wikidata.org/entity/Q643049'}],\n",
      " 'rels': [{'id': 'P26',\n",
      "           'prefix': 'wdt:',\n",
      "           'uri': 'http://www.wikidata.org/prop/direct/P26'},\n",
      "          {'id': 'P2848',\n",
      "           'prefix': 'wdt:',\n",
      "           'uri': 'http://www.wikidata.org/prop/direct/P2848'},\n",
      "          {'id': 'P140',\n",
      "           'prefix': 'wdt:',\n",
      "           'uri': 'http://www.wikidata.org/prop/direct/P140'},\n",
      "          {'id': 'P451',\n",
      "           'prefix': 'wdt:',\n",
      "           'uri': 'http://www.wikidata.org/prop/direct/P451'},\n",
      "          {'id': 'P600',\n",
      "           'prefix': 'wdt:',\n",
      "           'uri': 'http://www.wikidata.org/prop/direct/P600'}],\n",
      " 'utterance': 'Who is the wife of Barack Obama'}\n",
      "'Annotated'\n"
     ]
    },
    {
     "name": "stdout",
     "output_type": "stream",
     "text": [
      "{'fragments': ['[DEF]',\n",
      "               'wd:',\n",
      "               'Q76 Barack Obama',\n",
      "               '[DEF]',\n",
      "               'wd:',\n",
      "               'Q649593 Barack Obama Sr.',\n",
      "               '[DEF]',\n",
      "               'wd:',\n",
      "               'Q4808526 assassination threats against Barack Obama',\n",
      "               '[DEF]',\n",
      "               'wd:',\n",
      "               'Q4858106 Barack Obama Academy',\n",
      "               '[DEF]',\n",
      "               'wd:',\n",
      "               'Q643049 family of Barack Obama',\n",
      "               '[DEF]',\n",
      "               'wdt:',\n",
      "               'P26 spouse',\n",
      "               '[DEF]',\n",
      "               'wdt:',\n",
      "               'P2848 Wi-Fi access',\n",
      "               '[DEF]',\n",
      "               'wdt:',\n",
      "               'P140 religion',\n",
      "               '[DEF]',\n",
      "               'wdt:',\n",
      "               'P451 unmarried partner',\n",
      "               '[DEF]',\n",
      "               'wdt:',\n",
      "               'P600 Wine AppDB ID'],\n",
      " 'utterance': 'Who is the wife of Barack Obama'}\n",
      "'Converted'\n",
      "('Who is the wife of Barack Obama <extra_id_59> <extra_id_53> Q76 Barack Obama '\n",
      " '<extra_id_59> <extra_id_53> Q649593 Barack Obama Sr. <extra_id_59> '\n",
      " '<extra_id_53> Q4808526 assassination threats against Barack Obama '\n",
      " '<extra_id_59> <extra_id_53> Q4858106 Barack Obama Academy <extra_id_59> '\n",
      " '<extra_id_53> Q643049 family of Barack Obama <extra_id_59> <extra_id_54> P26 '\n",
      " 'spouse <extra_id_59> <extra_id_54> P2848 Wi-Fi access <extra_id_59> '\n",
      " '<extra_id_54> P140 religion <extra_id_59> <extra_id_54> P451 unmarried '\n",
      " 'partner <extra_id_59> <extra_id_54> P600 Wine AppDB ID')\n"
     ]
    }
   ],
   "source": [
    "linked = linker.link(utterance)\n",
    "# rules = [1,2,3,4,5,8,9,10,12,13,14]\n",
    "# linked = process_text_E_R(utterance, rules)\n",
    "pprint(\"Linked\")\n",
    "pprint(linked)\n",
    "\n",
    "pprint(\"Annotated\")\n",
    "annotated = annotator.annotate(**linked)\n",
    "pprint(annotated)\n",
    "\n",
    "pprint(\"Converted\")\n",
    "converted = converter.preprocess_inputs(**annotated)\n",
    "pprint(converted)"
   ]
  },
  {
   "cell_type": "code",
   "execution_count": 5,
   "id": "739065d5",
   "metadata": {
    "execution": {
     "iopub.execute_input": "2023-07-13T04:22:31.108531Z",
     "iopub.status.busy": "2023-07-13T04:22:31.107937Z",
     "iopub.status.idle": "2023-07-13T04:22:31.114853Z",
     "shell.execute_reply": "2023-07-13T04:22:31.113618Z"
    },
    "papermill": {
     "duration": 0.021987,
     "end_time": "2023-07-13T04:22:31.118004",
     "exception": false,
     "start_time": "2023-07-13T04:22:31.096017",
     "status": "completed"
    },
    "tags": []
   },
   "outputs": [],
   "source": [
    "def pipe(utterance, wikisparql):\n",
    "    linked = linker.link(utterance)\n",
    "    annotated = annotator.annotate(**linked)\n",
    "    converted = converter.preprocess(**annotated, wikisparql=wikisparql)\n",
    "    return linked, annotated, converted"
   ]
  },
  {
   "cell_type": "code",
   "execution_count": 6,
   "id": "893fbaaa",
   "metadata": {
    "execution": {
     "iopub.execute_input": "2023-07-13T04:22:31.137388Z",
     "iopub.status.busy": "2023-07-13T04:22:31.136803Z",
     "iopub.status.idle": "2023-07-13T04:22:31.148344Z",
     "shell.execute_reply": "2023-07-13T04:22:31.147097Z"
    },
    "papermill": {
     "duration": 0.026489,
     "end_time": "2023-07-13T04:22:31.151143",
     "exception": false,
     "start_time": "2023-07-13T04:22:31.124654",
     "status": "completed"
    },
    "tags": []
   },
   "outputs": [],
   "source": [
    "def pipe_batch(utterances, wikisparqls):\n",
    "  batched = []\n",
    "  link_batch_start = time.time()\n",
    "  linked = linker.link_batch(utterances)\n",
    "  link_batch_end = time.time()\n",
    "  annotator_time = 0\n",
    "  converter_time = 0\n",
    "  for i, single_linked in enumerate(linked):\n",
    "    s = time.time()\n",
    "    annotated = annotator.annotate(**single_linked)\n",
    "    e = time.time()\n",
    "    try:\n",
    "      annotator_time += e - s\n",
    "    except Exception as e:\n",
    "      print(\"[Annotator Error]:\", e)\n",
    "      continue\n",
    "    s = time.time()\n",
    "    try:\n",
    "      converted = converter.preprocess(**annotated, wikisparql=wikisparqls[i])\n",
    "    except Exception as e:\n",
    "      print(\"[Converter Error]:\", e)\n",
    "      continue\n",
    "      \n",
    "    e = time.time()\n",
    "    converter_time += e - s\n",
    "    batched.append([single_linked, annotated, converted])\n",
    "  print(\"Link batch time:\", link_batch_end - link_batch_start)\n",
    "  print(\"Anno batch time:\", annotator_time)\n",
    "  print(\"Conv batch time:\", converter_time)\n",
    "  return batched"
   ]
  },
  {
   "attachments": {},
   "cell_type": "markdown",
   "id": "f6e6a111",
   "metadata": {
    "papermill": {
     "duration": 0.011099,
     "end_time": "2023-07-13T04:22:31.168846",
     "exception": false,
     "start_time": "2023-07-13T04:22:31.157747",
     "status": "completed"
    },
    "tags": []
   },
   "source": [
    "## Data"
   ]
  },
  {
   "cell_type": "code",
   "execution_count": 7,
   "id": "b27ecdaf",
   "metadata": {
    "execution": {
     "iopub.execute_input": "2023-07-13T04:22:31.185786Z",
     "iopub.status.busy": "2023-07-13T04:22:31.185196Z",
     "iopub.status.idle": "2023-07-13T04:22:31.434281Z",
     "shell.execute_reply": "2023-07-13T04:22:31.433317Z"
    },
    "papermill": {
     "duration": 0.261424,
     "end_time": "2023-07-13T04:22:31.437337",
     "exception": false,
     "start_time": "2023-07-13T04:22:31.175913",
     "status": "completed"
    },
    "tags": []
   },
   "outputs": [],
   "source": [
    "from pathlib import Path\n",
    "import pandas as pd\n",
    "import json\n",
    "\n",
    "data_path = Path(\"..\") / \"t5-for-sparql\" / \"data\" / \"lcquad2\" / \"train.json\""
   ]
  },
  {
   "cell_type": "code",
   "execution_count": 8,
   "id": "7c05a536",
   "metadata": {
    "execution": {
     "iopub.execute_input": "2023-07-13T04:22:31.456590Z",
     "iopub.status.busy": "2023-07-13T04:22:31.456122Z",
     "iopub.status.idle": "2023-07-13T04:22:31.846073Z",
     "shell.execute_reply": "2023-07-13T04:22:31.845234Z"
    },
    "papermill": {
     "duration": 0.4054,
     "end_time": "2023-07-13T04:22:31.848844",
     "exception": false,
     "start_time": "2023-07-13T04:22:31.443444",
     "status": "completed"
    },
    "tags": []
   },
   "outputs": [
    {
     "name": "stdout",
     "output_type": "stream",
     "text": [
      "Missing question count: 56\n",
      "Number of rows: 24125\n"
     ]
    }
   ],
   "source": [
    "from pprint import pprint\n",
    "with open(data_path) as f:\n",
    "  data_dict = json.load(f)\n",
    "\n",
    "count = 0\n",
    "\n",
    "for item in data_dict:\n",
    "  paraphrased_question = item[\"paraphrased_question\"]\n",
    "  question = item[\"question\"]\n",
    "  if paraphrased_question == None:\n",
    "    raise Exception\n",
    "  if question == None:\n",
    "    count += 1\n",
    "    # print(len(paraphrased_question) > 2)\n",
    "    # pprint(item)\n",
    "  if item[\"sparql_wikidata\"] == None:\n",
    "    raise Exception\n",
    "  \n",
    "  item[\"new_question\"] = paraphrased_question if len(paraphrased_question) > 2 and paraphrased_question != [] else question\n",
    "\n",
    "print(\"Missing question count:\", count)\n",
    "\n",
    "df = pd.DataFrame.from_dict(data_dict)\n",
    "df = df.dropna(axis=0, subset=['new_question'])\n",
    "n_entries = len(df)\n",
    "print(\"Number of rows:\", n_entries)"
   ]
  },
  {
   "cell_type": "code",
   "execution_count": 9,
   "id": "2eea4311",
   "metadata": {
    "execution": {
     "iopub.execute_input": "2023-07-13T04:22:31.869837Z",
     "iopub.status.busy": "2023-07-13T04:22:31.869216Z",
     "iopub.status.idle": "2023-07-13T04:22:31.877245Z",
     "shell.execute_reply": "2023-07-13T04:22:31.876476Z"
    },
    "papermill": {
     "duration": 0.024551,
     "end_time": "2023-07-13T04:22:31.879957",
     "exception": false,
     "start_time": "2023-07-13T04:22:31.855406",
     "status": "completed"
    },
    "tags": []
   },
   "outputs": [],
   "source": [
    "assert(len(df[df.sparql_wikidata.isna()]) == 0)"
   ]
  },
  {
   "cell_type": "code",
   "execution_count": 10,
   "id": "b65b9023",
   "metadata": {
    "execution": {
     "iopub.execute_input": "2023-07-13T04:22:31.898028Z",
     "iopub.status.busy": "2023-07-13T04:22:31.897370Z"
    },
    "papermill": {
     "duration": null,
     "end_time": null,
     "exception": false,
     "start_time": "2023-07-13T04:22:31.886854",
     "status": "running"
    },
    "tags": []
   },
   "outputs": [
    {
     "name": "stdout",
     "output_type": "stream",
     "text": [
      "Pipeline iter 0\n",
      "Pipeline iter 1\n",
      "Pipeline iter 2\n",
      "Pipeline iter 3\n",
      "Pipeline iter 4\n",
      "Pipeline iter 5\n",
      "Pipeline iter 6\n",
      "Pipeline iter 7\n",
      "Pipeline iter 8\n",
      "Pipeline iter 9\n",
      "Pipeline iter 10\n",
      "Pipeline iter 11\n",
      "Pipeline iter 12\n",
      "Pipeline iter 13\n",
      "Pipeline iter 14\n",
      "Pipeline iter 15\n",
      "Pipeline iter 16\n",
      "Pipeline iter 17\n",
      "Pipeline iter 18\n",
      "Pipeline iter 19\n",
      "Pipeline iter 20\n",
      "Pipeline iter 21\n",
      "Pipeline iter 22\n",
      "Pipeline iter 23\n",
      "Pipeline iter 24\n",
      "Pipeline iter 25\n",
      "Pipeline iter 26\n",
      "Pipeline iter 27\n",
      "Pipeline iter 28\n",
      "Pipeline iter 29\n",
      "Pipeline iter 30\n",
      "Pipeline iter 31\n",
      "Pipeline iter 32\n",
      "Pipeline iter 33\n",
      "Pipeline iter 34\n",
      "Pipeline iter 35\n",
      "Pipeline iter 36\n",
      "Pipeline iter 37\n",
      "Pipeline iter 38\n",
      "Pipeline iter 39\n",
      "Pipeline iter 40\n",
      "Pipeline iter 41\n",
      "Pipeline iter 42\n",
      "Pipeline iter 43\n",
      "Pipeline iter 44\n",
      "Pipeline iter 45\n",
      "Pipeline iter 46\n",
      "Pipeline iter 47\n",
      "Pipeline iter 48\n",
      "Pipeline iter 49\n",
      "[Pipeline1]: Linking 0-49\n",
      "1 : ['What is the number of Presentations Dick Clark Gave?']\n",
      "1 : ['Name the method that begins with W.']\n",
      "1 : ['What is endemic to kangaroo ?']\n",
      "1 : ['What is the letter set of Furutachi based upon?']\n",
      "1 : ['WHICH IS THE GRAVE OF THE SONE OF SANCHA OF CASTILE QUEEN OF NAVARRA']\n",
      "1 : ['What is the longest lake?']\n",
      "1 : ['Which is the NNDB people ID for Orson Welles?']\n",
      "1 : ['Where was the New York Yankees home in 1922?']\n",
      "1 : ['What is  in the hymenium attachment of Boletus edulis ?']\n",
      "1 : ['In what year did Lublin stop being a Polish kingdom?']\n",
      "1 : ['When did Peyton Manning play with the Tennessee Volunteer Football?']\n",
      "1 : ['Is the benefit life of the Gran Turismo 5 Introduction rise to to 10?']\n",
      "1 : ['Which individual established the Safavid dynasty?']\n",
      "1 : ['In 1996, The Smashing Pumpkins received what award?']\n",
      "1 : ['What is the maximum peak exposure limit of carbon tetrachloride?']\n",
      "1 : ['When did the population in Vigo reach 294997?']\n",
      "1 : ['Which is the PremiershipRugby.com ID of Jonny Wilkinson?']\n",
      "1 : ['In which place in New York was Sofia Coppola born?']\n",
      "1 : ['What is the position that applies to Weimar Republic jurisdiction?']\n",
      "1 : ['Where did Niels Bohr receive his education and who was his doctoral advisor?']\n",
      "1 : ['What is the double of the aspect of a polytope of the fantastic 120-cell ?']\n",
      "1 : ['who vital put of state of loreng ?']\n",
      "1 : ['Who is the musical score that says the middle name of someone is Howard in It Happened One Night?']\n",
      "1 : ['Is the number of harmed within the Newhall slaughter less than 0.8?']\n",
      "1 : ['What field of work did Lata Mangeshkar receive an award in?']\n",
      "1 : ['This sentence has no meaning.']\n"
     ]
    },
    {
     "name": "stdout",
     "output_type": "stream",
     "text": [
      "11 : ['Are Wycliffes Bible and The LDS edition versions of the Bible?']\n",
      " : ['who pharmaceutical item for has dynamic fixing of amoxicillin?']\n",
      "1 : ['WHICH IS THE ACADEMIC DEGREE AND ACADEMIC MAJOR OF BASHAR ALASSAD HAS EDUCATED IN DAMASCUS UNIVERSITY']\n",
      "1 : ['What work environment compiled Historia Coelestis Britannica?']\n",
      "1 : ['At the 61st Primetime Emmy Awards, did Chevy Chase receive an Emmy?']\n",
      "1 : ['Give me the names of the pupils of this Fur Elise songwriter.']\n"
     ]
    },
    {
     "name": "stdout",
     "output_type": "stream",
     "text": [
      "2 : ['What is a religious order of knight ?']\n"
     ]
    },
    {
     "name": "stdout",
     "output_type": "stream",
     "text": [
      "3 : ['Let Me know CEREMONY WHICH Begin WITH THE LETTER U.']\n"
     ]
    },
    {
     "name": "stdout",
     "output_type": "stream",
     "text": [
      "4 : ['The second-level administrative country subdivision is in which part of Adelie Land?']\n"
     ]
    },
    {
     "name": "stdout",
     "output_type": "stream",
     "text": [
      "[reRank_relations]: name the method that begins with W \n",
      "SPARQL Requests Made: 0 \n",
      "SPARQL Requests Total Time: 0 \n",
      "SPARQL Avg Time per Qn: 0\n",
      "[reRank_relations]: name the method that begins with W \n",
      "SPARQL Requests Made: 0 \n",
      "SPARQL Requests Total Time: 0 \n",
      "SPARQL Avg Time per Qn: 0\n",
      "[reRank_relations]: name the method that begins with W \n",
      "SPARQL Requests Made: 0 \n",
      "SPARQL Requests Total Time: 0 \n",
      "SPARQL Avg Time per Qn: 0\n",
      "[reRank_relations]: name the method that begins with W \n",
      "SPARQL Requests Made: 0 \n",
      "SPARQL Requests Total Time: 0 \n",
      "SPARQL Avg Time per Qn: 0\n",
      "[reRank_relations]: name the method that begins with W \n",
      "SPARQL Requests Made: 0 \n",
      "SPARQL Requests Total Time: 0 \n",
      "SPARQL Avg Time per Qn: 0\n",
      "5 : ['What economic ideology starts with the letter t?']\n"
     ]
    },
    {
     "name": "stdout",
     "output_type": "stream",
     "text": [
      "[reRank_relations]: which is the NNDB people ID for Orson Welles \n",
      "SPARQL Requests Made: 1 \n",
      "SPARQL Requests Total Time: 0.7237298488616943 \n",
      "SPARQL Avg Time per Qn: 0.7237298488616943\n",
      "[reRank_relations]: which is the NNDB people ID for Orson Welles \n",
      "SPARQL Requests Made: 0 \n",
      "SPARQL Requests Total Time: 0 \n",
      "SPARQL Avg Time per Qn: 0\n",
      "6 : ['In 1519 who was the owner of the Mona Lisa?']\n"
     ]
    },
    {
     "name": "stdout",
     "output_type": "stream",
     "text": [
      "7 : ['Which sex is Barbie, and who is her partner?']\n"
     ]
    },
    {
     "name": "stdout",
     "output_type": "stream",
     "text": [
      "[reRank_relations]: what is  in the hymenium attachment of Boletus edulis  \n",
      "SPARQL Requests Made: 1 \n",
      "SPARQL Requests Total Time: 0.7828783988952637 \n",
      "SPARQL Avg Time per Qn: 0.7828783988952637\n",
      "8 : ['The sister town of Chisinau is?']\n"
     ]
    },
    {
     "name": "stdout",
     "output_type": "stream",
     "text": [
      "[reRank_relations]: in 1996, The Smashing Pumpkins received what award \n",
      "SPARQL Requests Made: 1 \n",
      "SPARQL Requests Total Time: 0.7317674160003662 \n",
      "SPARQL Avg Time per Qn: 0.7317674160003662\n"
     ]
    },
    {
     "name": "stdout",
     "output_type": "stream",
     "text": [
      "9 : ['Which is the HATVP person ID of Jean-Marie Le Pen?']\n",
      "10 : ['Who are the girls of Dwindle Gabriel that were born in Shower?']\n"
     ]
    },
    {
     "name": "stdout",
     "output_type": "stream",
     "text": [
      "[reRank_relations]: in 1996, The Smashing Pumpkins received what award \n",
      "SPARQL Requests Made: 1 \n",
      "SPARQL Requests Total Time: 0.7247586250305176 \n",
      "SPARQL Avg Time per Qn: 0.7247586250305176\n",
      "11 : ['Where can be found articles about the monuments of Bern in Wikimedia?']\n"
     ]
    },
    {
     "name": "stdout",
     "output_type": "stream",
     "text": [
      "[reRank_relations]: which sex is Barbie, and who is her partner \n",
      "SPARQL Requests Made: 1 \n",
      "SPARQL Requests Total Time: 0.7155807018280029 \n",
      "SPARQL Avg Time per Qn: 0.7155807018280029\n",
      "[reRank_relations]: which sex is Barbie, and who is her partner \n",
      "SPARQL Requests Made: 0 \n",
      "SPARQL Requests Total Time: 0 \n",
      "SPARQL Avg Time per Qn: 0\n",
      "[reRank_relations]: the sister town of Chisinau is \n",
      "SPARQL Requests Made: 1 \n",
      "SPARQL Requests Total Time: 0.7119491100311279 \n",
      "SPARQL Avg Time per Qn: 0.7119491100311279\n",
      "12 : ['Give me the location that Diane Sawyer studied ZIP+4.']\n"
     ]
    },
    {
     "name": "stdout",
     "output_type": "stream",
     "text": [
      "[reRank_relations]: the second-level administrative country subdivision is in which part of Adelie Land \n",
      "SPARQL Requests Made: 0 \n",
      "SPARQL Requests Total Time: 0 \n",
      "SPARQL Avg Time per Qn: 0\n",
      "13 : ['Who are Sean Connerys spouse and kid?']\n",
      "[reRank_relations]: what field of work did Lata Mangeshkar receive an award in \n",
      "SPARQL Requests Made: 2 \n",
      "SPARQL Requests Total Time: 1.439373254776001 \n",
      "SPARQL Avg Time per Qn: 0.7196866273880005\n",
      "[reRank_relations]: where did Niels Bohr receive his education and who was his doctoral advisor \n",
      "SPARQL Requests Made: 2 \n",
      "SPARQL Requests Total Time: 1.4824426174163818 \n",
      "SPARQL Avg Time per Qn: 0.7412213087081909\n"
     ]
    },
    {
     "name": "stdout",
     "output_type": "stream",
     "text": [
      "[reRank_relations]: where did Niels Bohr receive his education and who was his doctoral advisor \n",
      "SPARQL Requests Made: 1 \n",
      "SPARQL Requests Total Time: 0.7440803050994873 \n",
      "SPARQL Avg Time per Qn: 0.7440803050994873\n",
      "[reRank_relations]: where did Niels Bohr receive his education and who was his doctoral advisor \n",
      "SPARQL Requests Made: 0 \n",
      "SPARQL Requests Total Time: 0 \n",
      "SPARQL Avg Time per Qn: 0\n"
     ]
    },
    {
     "name": "stdout",
     "output_type": "stream",
     "text": [
      "[reRank_relations]: who are Sean Connerys spouse and kid \n",
      "SPARQL Requests Made: 1 \n",
      "SPARQL Requests Total Time: 0.7403581142425537 \n",
      "SPARQL Avg Time per Qn: 0.7403581142425537\n",
      "14 : ['Carl Gottliebs work is contested by whom?']\n",
      "[reRank_relations]: where did Niels Bohr receive his education and who was his doctoral advisor \n",
      "SPARQL Requests Made: 1 \n",
      "SPARQL Requests Total Time: 0.7214233875274658 \n",
      "SPARQL Avg Time per Qn: 0.7214233875274658\n",
      "15 : ['What is the number of native Polish speakers?']\n"
     ]
    },
    {
     "name": "stdout",
     "output_type": "stream",
     "text": [
      "[reRank_relations]: what field of work did Lata Mangeshkar receive an award in \n",
      "SPARQL Requests Made: 2 \n",
      "SPARQL Requests Total Time: 1.4275586605072021 \n",
      "SPARQL Avg Time per Qn: 0.7137793302536011\n",
      "[reRank_relations]: what field of work did Lata Mangeshkar receive an award in \n",
      "SPARQL Requests Made: 0 \n",
      "SPARQL Requests Total Time: 0 \n",
      "SPARQL Avg Time per Qn: 0\n"
     ]
    },
    {
     "name": "stdout",
     "output_type": "stream",
     "text": [
      "[reRank_relations]: give me the location that Diane Sawyer studied ZIP+4 \n",
      "SPARQL Requests Made: 2 \n",
      "SPARQL Requests Total Time: 1.470630168914795 \n",
      "SPARQL Avg Time per Qn: 0.7353150844573975\n"
     ]
    },
    {
     "name": "stdout",
     "output_type": "stream",
     "text": [
      "[reRank_relations]: what field of work did Lata Mangeshkar receive an award in \n",
      "SPARQL Requests Made: 1 \n",
      "SPARQL Requests Total Time: 0.7161543369293213 \n",
      "SPARQL Avg Time per Qn: 0.7161543369293213\n",
      "16 : ['What is guest of honor for Arturo Toscanini ?']\n",
      "17 : ['What symbol is used to denote the quantity of a square kilometer?']\n"
     ]
    },
    {
     "name": "stdout",
     "output_type": "stream",
     "text": [
      "[reRank_relations]: in which place in New York was Sofia Coppola born \n",
      "SPARQL Requests Made: 6 \n",
      "SPARQL Requests Total Time: 4.36945366859436 \n",
      "SPARQL Avg Time per Qn: 0.7282422780990601\n"
     ]
    },
    {
     "name": "stdout",
     "output_type": "stream",
     "text": [
      "[reRank_relations]: who vital put of state of loreng  \n",
      "SPARQL Requests Made: 6 \n",
      "SPARQL Requests Total Time: 4.3243162631988525 \n",
      "SPARQL Avg Time per Qn: 0.7207193771998087\n",
      "18 : ['Which is the OKP ID of the good or service of white chocolate?']\n"
     ]
    },
    {
     "name": "stdout",
     "output_type": "stream",
     "text": [
      "[reRank_relations]: what is guest of honor for Arturo Toscanini  \n",
      "SPARQL Requests Made: 2 \n",
      "SPARQL Requests Total Time: 1.4493389129638672 \n",
      "SPARQL Avg Time per Qn: 0.7246694564819336\n",
      "[reRank_relations]: what is guest of honor for Arturo Toscanini  \n",
      "SPARQL Requests Made: 0 \n",
      "SPARQL Requests Total Time: 0 \n",
      "SPARQL Avg Time per Qn: 0\n",
      "19 : ['Give me the name of the honor leader of the Colour of My Love.']\n",
      "[reRank_relations]: which is the PremiershipRugbycom ID of Jonny Wilkinson \n",
      "SPARQL Requests Made: 8 \n",
      "SPARQL Requests Total Time: 5.798906326293945 \n",
      "SPARQL Avg Time per Qn: 0.7248632907867432\n"
     ]
    },
    {
     "name": "stdout",
     "output_type": "stream",
     "text": [
      "[reRank_relations]: give me the location that Diane Sawyer studied ZIP+4 \n",
      "SPARQL Requests Made: 3 \n",
      "SPARQL Requests Total Time: 2.1945247650146484 \n",
      "SPARQL Avg Time per Qn: 0.7315082550048828\n",
      "[reRank_relations]: give me the location that Diane Sawyer studied ZIP+4 \n",
      "SPARQL Requests Made: 0 \n",
      "SPARQL Requests Total Time: 0 \n",
      "SPARQL Avg Time per Qn: 0\n"
     ]
    },
    {
     "name": "stdout",
     "output_type": "stream",
     "text": [
      "[reRank_relations]: give me the name of the honor leader of the Colour of My Love \n",
      "SPARQL Requests Made: 6 \n",
      "SPARQL Requests Total Time: 4.312712669372559 \n",
      "SPARQL Avg Time per Qn: 0.7187854448954264\n"
     ]
    },
    {
     "name": "stdout",
     "output_type": "stream",
     "text": [
      "[reRank_relations]: which is the OKP ID of the good or service of white chocolate \n",
      "SPARQL Requests Made: 6 \n",
      "SPARQL Requests Total Time: 4.398736953735352 \n",
      "SPARQL Avg Time per Qn: 0.7331228256225586\n"
     ]
    },
    {
     "name": "stdout",
     "output_type": "stream",
     "text": [
      "[reRank_relations]: in which place in New York was Sofia Coppola born \n",
      "SPARQL Requests Made: 14 \n",
      "SPARQL Requests Total Time: 10.1009042263031 \n",
      "SPARQL Avg Time per Qn: 0.72149315902165\n"
     ]
    },
    {
     "name": "stdout",
     "output_type": "stream",
     "text": [
      "[reRank_relations]: which is the HATVP person ID of Jean-Marie Le Pen \n",
      "SPARQL Requests Made: 26 \n",
      "SPARQL Requests Total Time: 18.968705415725708 \n",
      "SPARQL Avg Time per Qn: 0.7295655929125272\n"
     ]
    },
    {
     "name": "stdout",
     "output_type": "stream",
     "text": [
      "[reRank_relations]: which individual established the Safavid dynasty \n",
      "SPARQL Requests Made: 33 \n",
      "SPARQL Requests Total Time: 23.95491909980774 \n",
      "SPARQL Avg Time per Qn: 0.7259066393881133\n"
     ]
    },
    {
     "name": "stdout",
     "output_type": "stream",
     "text": [
      "[reRank_relations]: wHICH IS THE GRAVE OF THE SONE OF SANCHA OF CASTILE QUEEN OF NAVARRA \n",
      "SPARQL Requests Made: 30 \n",
      "SPARQL Requests Total Time: 21.603657245635986 \n",
      "SPARQL Avg Time per Qn: 0.7201219081878663\n"
     ]
    },
    {
     "name": "stdout",
     "output_type": "stream",
     "text": [
      "[reRank_relations]: what is the letter set of Furutachi based upon \n",
      "SPARQL Requests Made: 42 \n",
      "SPARQL Requests Total Time: 30.589279651641846 \n",
      "SPARQL Avg Time per Qn: 0.7283161821819487\n"
     ]
    },
    {
     "name": "stdout",
     "output_type": "stream",
     "text": [
      "[reRank_relations]: who are the girls of Dwindle Gabriel that were born in Shower \n",
      "SPARQL Requests Made: 47 \n",
      "SPARQL Requests Total Time: 34.03190493583679 \n",
      "SPARQL Avg Time per Qn: 0.7240830837412083\n"
     ]
    },
    {
     "name": "stdout",
     "output_type": "stream",
     "text": [
      "[reRank_relations]: what is the number of Presentations Dick Clark Gave \n",
      "SPARQL Requests Made: 52 \n",
      "SPARQL Requests Total Time: 37.56459403038025 \n",
      "SPARQL Avg Time per Qn: 0.722396039045774\n"
     ]
    },
    {
     "name": "stdout",
     "output_type": "stream",
     "text": [
      "[reRank_relations]: wHICH IS THE GRAVE OF THE SONE OF SANCHA OF CASTILE QUEEN OF NAVARRA \n",
      "SPARQL Requests Made: 30 \n",
      "SPARQL Requests Total Time: 21.77044105529785 \n",
      "SPARQL Avg Time per Qn: 0.7256813685099284\n"
     ]
    },
    {
     "name": "stdout",
     "output_type": "stream",
     "text": [
      "[reRank_relations]: which sex is Barbie, and who is her partner \n",
      "SPARQL Requests Made: 55 \n",
      "SPARQL Requests Total Time: 39.95656490325928 \n",
      "SPARQL Avg Time per Qn: 0.7264829982410778\n"
     ]
    },
    {
     "name": "stdout",
     "output_type": "stream",
     "text": [
      "[reRank_relations]: give me the location that Diane Sawyer studied ZIP+4 \n",
      "SPARQL Requests Made: 53 \n",
      "SPARQL Requests Total Time: 38.530357360839844 \n",
      "SPARQL Avg Time per Qn: 0.7269878747328272\n"
     ]
    },
    {
     "name": "stdout",
     "output_type": "stream",
     "text": [
      "[reRank_relations]: when did the population in Vigo reach 294997 \n",
      "SPARQL Requests Made: 60 \n",
      "SPARQL Requests Total Time: 43.171666860580444 \n",
      "SPARQL Avg Time per Qn: 0.7195277810096741\n"
     ]
    },
    {
     "name": "stdout",
     "output_type": "stream",
     "text": [
      "[reRank_relations]: who is the musical score that says the middle name of someone is Howard in It Happened One Night \n",
      "SPARQL Requests Made: 60 \n",
      "SPARQL Requests Total Time: 43.41207504272461 \n",
      "SPARQL Avg Time per Qn: 0.7235345840454102\n"
     ]
    },
    {
     "name": "stdout",
     "output_type": "stream",
     "text": [
      "[reRank_relations]: what is the letter set of Furutachi based upon \n",
      "SPARQL Requests Made: 22 \n",
      "SPARQL Requests Total Time: 16.11723256111145 \n",
      "SPARQL Avg Time per Qn: 0.7326014800505205\n",
      "[reRank_relations]: in 1519 who was the owner of the Mona Lisa \n",
      "SPARQL Requests Made: 61 \n",
      "SPARQL Requests Total Time: 44.27049446105957 \n",
      "SPARQL Avg Time per Qn: 0.7257458108370421\n"
     ]
    },
    {
     "name": "stdout",
     "output_type": "stream",
     "text": [
      "[reRank_relations]: carl Gottliebs work is contested by whom \n",
      "SPARQL Requests Made: 60 \n",
      "SPARQL Requests Total Time: 43.32315731048584 \n",
      "SPARQL Avg Time per Qn: 0.7220526218414307\n"
     ]
    },
    {
     "name": "stdout",
     "output_type": "stream",
     "text": [
      "[reRank_relations]: what economic ideology starts with the letter t \n",
      "SPARQL Requests Made: 68 \n",
      "SPARQL Requests Total Time: 49.08318638801575 \n",
      "SPARQL Avg Time per Qn: 0.7218115645296433\n"
     ]
    },
    {
     "name": "stdout",
     "output_type": "stream",
     "text": [
      "[reRank_relations]: wHICH IS THE GRAVE OF THE SONE OF SANCHA OF CASTILE QUEEN OF NAVARRA \n",
      "SPARQL Requests Made: 30 \n",
      "SPARQL Requests Total Time: 21.56389284133911 \n",
      "SPARQL Avg Time per Qn: 0.7187964280446371\n"
     ]
    },
    {
     "name": "stdout",
     "output_type": "stream",
     "text": [
      "[reRank_relations]: what is the position that applies to Weimar Republic jurisdiction \n",
      "SPARQL Requests Made: 78 \n",
      "SPARQL Requests Total Time: 56.733635902404785 \n",
      "SPARQL Avg Time per Qn: 0.727354306441087\n"
     ]
    },
    {
     "name": "stdout",
     "output_type": "stream",
     "text": [
      "[reRank_relations]: what is the position that applies to Weimar Republic jurisdiction \n",
      "SPARQL Requests Made: 1 \n",
      "SPARQL Requests Total Time: 0.7143330574035645 \n",
      "SPARQL Avg Time per Qn: 0.7143330574035645\n"
     ]
    },
    {
     "name": "stdout",
     "output_type": "stream",
     "text": [
      "[reRank_relations]: who is the musical score that says the middle name of someone is Howard in It Happened One Night \n",
      "SPARQL Requests Made: 19 \n",
      "SPARQL Requests Total Time: 13.720053672790527 \n",
      "SPARQL Avg Time per Qn: 0.7221080880416068\n"
     ]
    },
    {
     "name": "stdout",
     "output_type": "stream",
     "text": [
      "[reRank_relations]: where can be found articles about the monuments of Bern in Wikimedia \n",
      "SPARQL Requests Made: 87 \n",
      "SPARQL Requests Total Time: 62.751492500305176 \n",
      "SPARQL Avg Time per Qn: 0.7212815229920135\n"
     ]
    },
    {
     "name": "stdout",
     "output_type": "stream",
     "text": [
      "[reRank_relations]: who is the musical score that says the middle name of someone is Howard in It Happened One Night \n",
      "SPARQL Requests Made: 34 \n",
      "SPARQL Requests Total Time: 24.558242559432983 \n",
      "SPARQL Avg Time per Qn: 0.722301251748029\n"
     ]
    },
    {
     "name": "stdout",
     "output_type": "stream",
     "text": [
      "[reRank_relations]: this sentence has no meaning \n",
      "SPARQL Requests Made: 120 \n",
      "SPARQL Requests Total Time: 86.49211287498474 \n",
      "SPARQL Avg Time per Qn: 0.7207676072915395\n"
     ]
    },
    {
     "name": "stdout",
     "output_type": "stream",
     "text": [
      "[reRank_relations]: when did the population in Vigo reach 294997 \n",
      "SPARQL Requests Made: 61 \n",
      "SPARQL Requests Total Time: 44.22883749008179 \n",
      "SPARQL Avg Time per Qn: 0.7250629096734719\n"
     ]
    },
    {
     "name": "stdout",
     "output_type": "stream",
     "text": [
      "[reRank_relations]: in what year did Lublin stop being a Polish kingdom \n",
      "SPARQL Requests Made: 122 \n",
      "SPARQL Requests Total Time: 88.23826813697815 \n",
      "SPARQL Avg Time per Qn: 0.7232644929260504\n"
     ]
    },
    {
     "name": "stdout",
     "output_type": "stream",
     "text": [
      "[reRank_relations]: who is the musical score that says the middle name of someone is Howard in It Happened One Night \n",
      "SPARQL Requests Made: 22 \n",
      "SPARQL Requests Total Time: 15.890130043029785 \n",
      "SPARQL Avg Time per Qn: 0.7222786383195356\n",
      "[reRank_relations]: who is the musical score that says the middle name of someone is Howard in It Happened One Night \n",
      "SPARQL Requests Made: 0 \n",
      "SPARQL Requests Total Time: 0 \n",
      "SPARQL Avg Time per Qn: 0\n"
     ]
    },
    {
     "name": "stdout",
     "output_type": "stream",
     "text": [
      "[reRank_relations]: at the 61st Primetime Emmy Awards, did Chevy Chase receive an Emmy \n",
      "SPARQL Requests Made: 140 \n",
      "SPARQL Requests Total Time: 101.42018461227417 \n",
      "SPARQL Avg Time per Qn: 0.7244298900876727\n"
     ]
    },
    {
     "name": "stdout",
     "output_type": "stream",
     "text": [
      "[reRank_relations]: when did Peyton Manning play with the Tennessee Volunteer Football \n",
      "SPARQL Requests Made: 168 \n",
      "SPARQL Requests Total Time: 121.71607565879822 \n",
      "SPARQL Avg Time per Qn: 0.7245004503499894\n"
     ]
    },
    {
     "name": "stdout",
     "output_type": "stream",
     "text": [
      "[reRank_relations]: wHICH IS THE ACADEMIC DEGREE AND ACADEMIC MAJOR OF BASHAR ALASSAD HAS EDUCATED IN DAMASCUS UNIVERSITY \n",
      "SPARQL Requests Made: 181 \n",
      "SPARQL Requests Total Time: 131.07809710502625 \n",
      "SPARQL Avg Time per Qn: 0.7241883817957251\n"
     ]
    },
    {
     "name": "stdout",
     "output_type": "stream",
     "text": [
      "[reRank_relations]: what work environment compiled Historia Coelestis Britannica \n",
      "SPARQL Requests Made: 207 \n",
      "SPARQL Requests Total Time: 149.9770143032074 \n",
      "SPARQL Avg Time per Qn: 0.7245266391459294\n",
      "[reRank_relations]: what work environment compiled Historia Coelestis Britannica \n",
      "SPARQL Requests Made: 0 \n",
      "SPARQL Requests Total Time: 0 \n",
      "SPARQL Avg Time per Qn: 0\n"
     ]
    },
    {
     "name": "stdout",
     "output_type": "stream",
     "text": [
      "[reRank_relations]: what is a religious order of knight  \n",
      "SPARQL Requests Made: 210 \n",
      "SPARQL Requests Total Time: 152.7949995994568 \n",
      "SPARQL Avg Time per Qn: 0.7275952361878895\n"
     ]
    },
    {
     "name": "stdout",
     "output_type": "stream",
     "text": [
      "[reRank_relations]: in what year did Lublin stop being a Polish kingdom \n",
      "SPARQL Requests Made: 100 \n",
      "SPARQL Requests Total Time: 73.59214615821838 \n",
      "SPARQL Avg Time per Qn: 0.7359214615821839\n",
      "[reRank_relations]: in what year did Lublin stop being a Polish kingdom \n",
      "SPARQL Requests Made: 0 \n",
      "SPARQL Requests Total Time: 0 \n",
      "SPARQL Avg Time per Qn: 0\n"
     ]
    },
    {
     "name": "stdout",
     "output_type": "stream",
     "text": [
      "[reRank_relations]: what is the maximum peak exposure limit of carbon tetrachloride \n",
      "SPARQL Requests Made: 225 \n",
      "SPARQL Requests Total Time: 163.20176076889038 \n",
      "SPARQL Avg Time per Qn: 0.7253411589728461\n"
     ]
    },
    {
     "name": "stdout",
     "output_type": "stream",
     "text": [
      "[reRank_relations]: what is the number of native Polish speakers \n",
      "SPARQL Requests Made: 225 \n",
      "SPARQL Requests Total Time: 162.75550985336304 \n",
      "SPARQL Avg Time per Qn: 0.7233578215705024\n"
     ]
    },
    {
     "name": "stdout",
     "output_type": "stream",
     "text": [
      "[reRank_relations]: what symbol is used to denote the quantity of a square kilometer \n",
      "SPARQL Requests Made: 225 \n",
      "SPARQL Requests Total Time: 163.67396926879883 \n",
      "SPARQL Avg Time per Qn: 0.7274398634168837\n"
     ]
    },
    {
     "name": "stdout",
     "output_type": "stream",
     "text": [
      "[reRank_relations]: what symbol is used to denote the quantity of a square kilometer \n",
      "SPARQL Requests Made: 11 \n",
      "SPARQL Requests Total Time: 8.208387851715088 \n",
      "SPARQL Avg Time per Qn: 0.7462170774286444\n"
     ]
    },
    {
     "name": "stdout",
     "output_type": "stream",
     "text": [
      "[reRank_relations]: is the benefit life of the Gran Turismo 5 Introduction rise to to 10 \n",
      "SPARQL Requests Made: 240 \n",
      "SPARQL Requests Total Time: 174.4092915058136 \n",
      "SPARQL Avg Time per Qn: 0.7267053812742233\n",
      "[reRank_relations]: what symbol is used to denote the quantity of a square kilometer \n",
      "SPARQL Requests Made: 1 \n",
      "SPARQL Requests Total Time: 0.7345101833343506 \n",
      "SPARQL Avg Time per Qn: 0.7345101833343506\n"
     ]
    },
    {
     "name": "stdout",
     "output_type": "stream",
     "text": [
      "[reRank_relations]: is the number of harmed within the Newhall slaughter less than 08 \n",
      "SPARQL Requests Made: 272 \n",
      "SPARQL Requests Total Time: 196.9810962677002 \n",
      "SPARQL Avg Time per Qn: 0.7241952068665448\n"
     ]
    },
    {
     "name": "stdout",
     "output_type": "stream",
     "text": [
      "[reRank_relations]: what is the number of Presentations Dick Clark Gave \n",
      "SPARQL Requests Made: 225 \n",
      "SPARQL Requests Total Time: 163.40209197998047 \n",
      "SPARQL Avg Time per Qn: 0.7262315199110243\n"
     ]
    },
    {
     "name": "stdout",
     "output_type": "stream",
     "text": [
      "[reRank_relations]: let Me know CEREMONY WHICH Begin WITH THE LETTER U \n",
      "SPARQL Requests Made: 281 \n",
      "SPARQL Requests Total Time: 203.54497861862183 \n",
      "SPARQL Avg Time per Qn: 0.7243593545146684\n"
     ]
    },
    {
     "name": "stdout",
     "output_type": "stream",
     "text": [
      "[reRank_relations]: wHICH IS THE GRAVE OF THE SONE OF SANCHA OF CASTILE QUEEN OF NAVARRA \n",
      "SPARQL Requests Made: 210 \n",
      "SPARQL Requests Total Time: 152.3344123363495 \n",
      "SPARQL Avg Time per Qn: 0.7254019635064262\n"
     ]
    },
    {
     "name": "stdout",
     "output_type": "stream",
     "text": [
      "[reRank_relations]: what is the number of Presentations Dick Clark Gave \n",
      "SPARQL Requests Made: 15 \n",
      "SPARQL Requests Total Time: 10.787229537963867 \n",
      "SPARQL Avg Time per Qn: 0.7191486358642578\n"
     ]
    },
    {
     "name": "stdout",
     "output_type": "stream",
     "text": [
      "[reRank_relations]: wHICH IS THE GRAVE OF THE SONE OF SANCHA OF CASTILE QUEEN OF NAVARRA \n",
      "SPARQL Requests Made: 30 \n",
      "SPARQL Requests Total Time: 21.523722171783447 \n",
      "SPARQL Avg Time per Qn: 0.7174574057261149\n"
     ]
    },
    {
     "name": "stdout",
     "output_type": "stream",
     "text": [
      "[reRank_relations]: let Me know CEREMONY WHICH Begin WITH THE LETTER U \n",
      "SPARQL Requests Made: 120 \n",
      "SPARQL Requests Total Time: 86.95959162712097 \n",
      "SPARQL Avg Time per Qn: 0.7246632635593414\n"
     ]
    },
    {
     "name": "stdout",
     "output_type": "stream",
     "text": [
      "[reRank_relations]: wHICH IS THE ACADEMIC DEGREE AND ACADEMIC MAJOR OF BASHAR ALASSAD HAS EDUCATED IN DAMASCUS UNIVERSITY \n",
      "SPARQL Requests Made: 529 \n",
      "SPARQL Requests Total Time: 383.90272641181946 \n",
      "SPARQL Avg Time per Qn: 0.7257140385856701\n"
     ]
    },
    {
     "name": "stdout",
     "output_type": "stream",
     "text": [
      "[reRank_relations]: is the number of harmed within the Newhall slaughter less than 08 \n",
      "SPARQL Requests Made: 450 \n",
      "SPARQL Requests Total Time: 326.21353673934937 \n",
      "SPARQL Avg Time per Qn: 0.7249189705318875\n"
     ]
    },
    {
     "name": "stdout",
     "output_type": "stream",
     "text": [
      "[reRank_relations]: is the number of harmed within the Newhall slaughter less than 08 \n",
      "SPARQL Requests Made: 112 \n",
      "SPARQL Requests Total Time: 81.5544376373291 \n",
      "SPARQL Avg Time per Qn: 0.728164621761867\n"
     ]
    },
    {
     "name": "stdout",
     "output_type": "stream",
     "text": [
      "[reRank_relations]: wHICH IS THE ACADEMIC DEGREE AND ACADEMIC MAJOR OF BASHAR ALASSAD HAS EDUCATED IN DAMASCUS UNIVERSITY \n",
      "SPARQL Requests Made: 147 \n",
      "SPARQL Requests Total Time: 106.84697985649109 \n",
      "SPARQL Avg Time per Qn: 0.7268502031053815\n"
     ]
    },
    {
     "name": "stdout",
     "output_type": "stream",
     "text": [
      "Link batch time: 1248.9094252586365\n",
      "Anno batch time: 572.5393538475037\n",
      "Conv batch time: 0.00928187370300293\n",
      "Pipeline iter 50\n",
      "Pipeline iter 51\n",
      "Pipeline iter 52\n",
      "Pipeline iter 53\n",
      "Pipeline iter 54\n",
      "Pipeline iter 55\n",
      "Pipeline iter 56\n",
      "Pipeline iter 57\n",
      "Pipeline iter 58\n",
      "Pipeline iter 59\n",
      "Pipeline iter 60\n",
      "Pipeline iter 61\n",
      "Pipeline iter 62\n",
      "Pipeline iter 63\n",
      "Pipeline iter 64\n",
      "Pipeline iter 65\n",
      "Pipeline iter 66\n",
      "Pipeline iter 67\n",
      "Pipeline iter 68\n",
      "Pipeline iter 69\n",
      "Pipeline iter 70\n",
      "Pipeline iter 71\n",
      "Pipeline iter 72\n",
      "Pipeline iter 73\n",
      "Pipeline iter 74\n",
      "Pipeline iter 75\n",
      "Pipeline iter 76\n",
      "Pipeline iter 77\n",
      "Pipeline iter 78\n",
      "Pipeline iter 79\n",
      "Pipeline iter 80\n",
      "Pipeline iter 81\n",
      "Pipeline iter 82\n",
      "Pipeline iter 83\n",
      "Pipeline iter 84\n",
      "Pipeline iter 85\n",
      "Pipeline iter 86\n",
      "Pipeline iter 87\n",
      "Pipeline iter 88\n",
      "Pipeline iter 89\n",
      "Pipeline iter 90\n",
      "Pipeline iter 91\n",
      "Pipeline iter 92\n",
      "Pipeline iter 93\n",
      "Pipeline iter 94\n",
      "Pipeline iter 95\n",
      "Pipeline iter 96\n",
      "Pipeline iter 97\n",
      "Pipeline iter 98\n",
      "Pipeline iter 99\n",
      "[Pipeline1]: Linking 49-99\n",
      "51 : ['What whistleblowing stage did Julian Assange make?']\n",
      "51 : ['Phil Collins facilitated what advantage concert?']\n",
      "51 : ['What is tombstone picture of musician of Winterreise ?']\n",
      "51 : ['What is the social media account of the publishing house of Puyo Puyo Fever 2?']\n",
      "51 : ['Air India operates which aircraft model ?']\n",
      "51 : ['Title a previous nation that contains the word joseon in its name']\n",
      "51 : ['Who was the writer of Forrest Gump?']\n",
      "51 : ['What is similar to a car?']\n",
      "51 : ['Is it true that Carlos Sim was the owner of Torre Latinoamericana and Claro?']\n",
      "51 : ['Is 69 the number of eligible voters found in Catalan for the regional election of Sobremunt in 2015?']\n",
      "51 : ['Which is the chemical formula for cephalexin anhydrous?']\n",
      "51 : ['Which is the cuisine of Surimi?']\n",
      "51 : ['Does the 22 mm weapon M1931/37 have a field of see thats rise to to 46.4?']\n",
      "51 : ['doom came out on what platform in 1996?']\n",
      "51 : ['Gediminas held what title in 1341?']\n",
      "51 : ['What is the TED speaker ID of Malcolm McLaren?']\n",
      "51 : ['in 1883 what was the administrative body of San Diego']\n",
      "51 : ['Anatomically, where is the stomach located?']\n",
      "51 : ['When did Jeff Toxophilite take off the 44th Parliament of the UK?']\n",
      "51 : ['Is 0.035 the albedo of the 7384 1981 TJ?']\n",
      "51 : ['Bahrains fertility rate was estimated what period of time?']\n",
      "51 : ['WHO PLAYED THE SUCCESSOR OF CALL OF THE WILD?']\n",
      "51 : ['Who was a understudy of Warren Buffett?']\n",
      "51 : ['The Chandragupta Maurya belonged to which dynasty?']\n",
      "51 : ['What trophies has English actor Tom Hollander been awarded?']\n",
      "51 : ['Is 7450 the explosive velocity of 1,3,5-trinitrobenzene?']\n",
      "51 : ['What is Squash Info ID for Jahangir Khan?']\n",
      "51 : ['which year  william Henry Harrison roll  President of the United States?']\n",
      "51 : ['Which BMW M20 has the highest straight six torque engine?']\n",
      "51 : ['Is the synodic period of Pluto rise to to 366.73?']\n",
      "51 : ['This is a list of sister cities in Canada. This is a subset of the worldwide List of twin towns and sister cities. Canada also has Canada Provincial/State Twinning Relationships. .... –:Las Piñas City, Metro Manila, Philippines · Mississauga · Japan ..... Manila-Montreal Sister City Agreement Holds Potential for Better Cooperation.']\n",
      "51 : ['what is instruction set architecture that begins with x']\n"
     ]
    },
    {
     "name": "stdout",
     "output_type": "stream",
     "text": [
      "52 : ['Name the category for which John mills got shortlisted for his art work on Ryans Daughter.']\n"
     ]
    },
    {
     "name": "stdout",
     "output_type": "stream",
     "text": [
      "[reRank_relations]: which is the cuisine of Surimi \n",
      "SPARQL Requests Made: 1 \n",
      "SPARQL Requests Total Time: 0.870819091796875 \n",
      "SPARQL Avg Time per Qn: 0.870819091796875\n",
      "53 : ['Which bridge is upstream of the London bridge']\n",
      "54 : ['Is the prolongation at the break of the AKROLOY PARA ICF 40 break even with to 1?']\n"
     ]
    },
    {
     "name": "stdout",
     "output_type": "stream",
     "text": [
      "[reRank_relations]: what is the TED speaker ID of Malcolm McLaren \n",
      "SPARQL Requests Made: 1 \n",
      "SPARQL Requests Total Time: 0.7510793209075928 \n",
      "SPARQL Avg Time per Qn: 0.7510793209075928\n",
      "[reRank_relations]: what is the TED speaker ID of Malcolm McLaren \n",
      "SPARQL Requests Made: 0 \n",
      "SPARQL Requests Total Time: 0 \n",
      "SPARQL Avg Time per Qn: 0\n",
      "55 : ['Were JFK and Eunice Kennedy Shriver siblings of Ted Kennedy?']\n"
     ]
    },
    {
     "name": "stdout",
     "output_type": "stream",
     "text": [
      "56 : ['an']\n",
      "57 : ['Ub Iwerks has how many crew members?']\n",
      "[reRank_relations]: phil Collins facilitated what advantage concert \n",
      "SPARQL Requests Made: 0 \n",
      "SPARQL Requests Total Time: 0 \n",
      "SPARQL Avg Time per Qn: 0\n",
      "58 : ['Give me the natural numbers piece from Wikipedia.']\n"
     ]
    },
    {
     "name": "stdout",
     "output_type": "stream",
     "text": [
      "[reRank_relations]: which is the chemical formula for Cephalexin anhydrous \n",
      "SPARQL Requests Made: 1 \n",
      "SPARQL Requests Total Time: 0.8032631874084473 \n",
      "SPARQL Avg Time per Qn: 0.8032631874084473\n",
      "59 : ['Which is the start point of Taoyuan City?']\n",
      "[reRank_relations]: who was the writer of Forrest Gump \n",
      "SPARQL Requests Made: 2 \n",
      "SPARQL Requests Total Time: 1.4684290885925293 \n",
      "SPARQL Avg Time per Qn: 0.7342145442962646\n",
      "[reRank_relations]: who was the writer of Forrest Gump \n",
      "SPARQL Requests Made: 0 \n",
      "SPARQL Requests Total Time: 0 \n",
      "SPARQL Avg Time per Qn: 0\n",
      "60 : ['What influenced Georges Bataille that studied at Eberhard-Ludwigs Gymnasium?']\n"
     ]
    },
    {
     "name": "stdout",
     "output_type": "stream",
     "text": [
      "61 : ['Tell me a race horse whose name contains the word tikkanen']\n",
      "62 : ['What is the deathplace of Natalia Molchanova with a government headed by Jaume Ferrer Ribas?']\n"
     ]
    },
    {
     "name": "stdout",
     "output_type": "stream",
     "text": [
      "63 : ['Where was the filming of Full Metal Jacket and where was it supposed to take place?']\n",
      "[reRank_relations]: when did Jeff Toxophilite take off the 44th Parliament of the UK \n",
      "SPARQL Requests Made: 0 \n",
      "SPARQL Requests Total Time: 0 \n",
      "SPARQL Avg Time per Qn: 0\n",
      "64 : ['What is the plain modes NeuroNames ID for brain stem?']\n"
     ]
    },
    {
     "name": "stdout",
     "output_type": "stream",
     "text": [
      "[reRank_relations]: air India operates which aircraft model  \n",
      "SPARQL Requests Made: 3 \n",
      "SPARQL Requests Total Time: 2.2644731998443604 \n",
      "SPARQL Avg Time per Qn: 0.7548243999481201\n",
      "65 : ['Where and with what top did Yelena Isinbayeva destroy the document for pole vault?']\n"
     ]
    },
    {
     "name": "stdout",
     "output_type": "stream",
     "text": [
      "66 : ['What is the delivery vicinity of Claude Adrien Halrtius, that aslo has villages, and is 7th arrondissement of Paris?']\n",
      "67 : ['which is the {position held} of {Liu Xiaobo} where {start time} is {2003-0-0}']\n"
     ]
    },
    {
     "name": "stdout",
     "output_type": "stream",
     "text": [
      "68 : ['which award did juan Ramon Jimenez receive on 1956-1-1?']\n"
     ]
    },
    {
     "name": "stdout",
     "output_type": "stream",
     "text": [
      "69 : ['In Saudi Arabia, whos the sovereign state for allegiance of Salman?']\n"
     ]
    },
    {
     "name": "stdout",
     "output_type": "stream",
     "text": [
      "[reRank_relations]: what is tombstone picture of musician of Winterreise  \n",
      "SPARQL Requests Made: 4 \n",
      "SPARQL Requests Total Time: 2.947075843811035 \n",
      "SPARQL Avg Time per Qn: 0.7367689609527588\n"
     ]
    },
    {
     "name": "stdout",
     "output_type": "stream",
     "text": [
      "[reRank_relations]: were JFK and Eunice Kennedy Shriver siblings of Ted Kennedy \n",
      "SPARQL Requests Made: 0 \n",
      "SPARQL Requests Total Time: 0 \n",
      "SPARQL Avg Time per Qn: 0\n"
     ]
    },
    {
     "name": "stdout",
     "output_type": "stream",
     "text": [
      "[reRank_relations]: name the category for which John mills got shortlisted for his art work on Ryans Daughter \n",
      "SPARQL Requests Made: 0 \n",
      "SPARQL Requests Total Time: 0 \n",
      "SPARQL Avg Time per Qn: 0\n"
     ]
    },
    {
     "name": "stdout",
     "output_type": "stream",
     "text": [
      "[reRank_relations]: Doom came out on what platform in 1996 \n",
      "SPARQL Requests Made: 6 \n",
      "SPARQL Requests Total Time: 4.4426186084747314 \n",
      "SPARQL Avg Time per Qn: 0.7404364347457886\n"
     ]
    },
    {
     "name": "stdout",
     "output_type": "stream",
     "text": [
      "[reRank_relations]: which is the start point of Taoyuan City \n",
      "SPARQL Requests Made: 4 \n",
      "SPARQL Requests Total Time: 2.899958610534668 \n",
      "SPARQL Avg Time per Qn: 0.724989652633667\n",
      "[reRank_relations]: what is Squash Info ID for Jahangir Khan \n",
      "SPARQL Requests Made: 7 \n",
      "SPARQL Requests Total Time: 5.204810619354248 \n",
      "SPARQL Avg Time per Qn: 0.743544374193464\n",
      "[reRank_relations]: what is Squash Info ID for Jahangir Khan \n",
      "SPARQL Requests Made: 0 \n",
      "SPARQL Requests Total Time: 0 \n",
      "SPARQL Avg Time per Qn: 0\n"
     ]
    },
    {
     "name": "stdout",
     "output_type": "stream",
     "text": [
      "[reRank_relations]: wHO PLAYED THE SUCCESSOR OF CALL OF THE WILD \n",
      "SPARQL Requests Made: 10 \n",
      "SPARQL Requests Total Time: 7.364705324172974 \n",
      "SPARQL Avg Time per Qn: 0.7364705324172973\n"
     ]
    },
    {
     "name": "stdout",
     "output_type": "stream",
     "text": [
      "[reRank_relations]: were JFK and Eunice Kennedy Shriver siblings of Ted Kennedy \n",
      "SPARQL Requests Made: 8 \n",
      "SPARQL Requests Total Time: 5.846529960632324 \n",
      "SPARQL Avg Time per Qn: 0.7308162450790405\n"
     ]
    },
    {
     "name": "stdout",
     "output_type": "stream",
     "text": [
      "[reRank_relations]: what is the delivery vicinity of Claude Adrien Halrtius, that aslo has villages, and is 7th arrondissement of Paris \n",
      "SPARQL Requests Made: 8 \n",
      "SPARQL Requests Total Time: 5.859338045120239 \n",
      "SPARQL Avg Time per Qn: 0.7324172556400299\n"
     ]
    },
    {
     "name": "stdout",
     "output_type": "stream",
     "text": [
      "[reRank_relations]: were JFK and Eunice Kennedy Shriver siblings of Ted Kennedy \n",
      "SPARQL Requests Made: 7 \n",
      "SPARQL Requests Total Time: 5.0909950733184814 \n",
      "SPARQL Avg Time per Qn: 0.7272850104740688\n"
     ]
    },
    {
     "name": "stdout",
     "output_type": "stream",
     "text": [
      "[reRank_relations]: who was a understudy of Warren Buffett \n",
      "SPARQL Requests Made: 15 \n",
      "SPARQL Requests Total Time: 10.902535676956177 \n",
      "SPARQL Avg Time per Qn: 0.7268357117970784\n"
     ]
    },
    {
     "name": "stdout",
     "output_type": "stream",
     "text": [
      "[reRank_relations]: bahrains fertility rate was estimated what period of time \n",
      "SPARQL Requests Made: 15 \n",
      "SPARQL Requests Total Time: 11.043517112731934 \n",
      "SPARQL Avg Time per Qn: 0.736234474182129\n"
     ]
    },
    {
     "name": "stdout",
     "output_type": "stream",
     "text": [
      "[reRank_relations]: bahrains fertility rate was estimated what period of time \n",
      "SPARQL Requests Made: 1 \n",
      "SPARQL Requests Total Time: 0.7208664417266846 \n",
      "SPARQL Avg Time per Qn: 0.7208664417266846\n"
     ]
    },
    {
     "name": "stdout",
     "output_type": "stream",
     "text": [
      "[reRank_relations]: bahrains fertility rate was estimated what period of time \n",
      "SPARQL Requests Made: 1 \n",
      "SPARQL Requests Total Time: 0.756091833114624 \n",
      "SPARQL Avg Time per Qn: 0.756091833114624\n"
     ]
    },
    {
     "name": "stdout",
     "output_type": "stream",
     "text": [
      "[reRank_relations]: tell me a race horse whose name contains the word tikkanen \n",
      "SPARQL Requests Made: 16 \n",
      "SPARQL Requests Total Time: 11.546177387237549 \n",
      "SPARQL Avg Time per Qn: 0.7216360867023468\n"
     ]
    },
    {
     "name": "stdout",
     "output_type": "stream",
     "text": [
      "[reRank_relations]: wHO PLAYED THE SUCCESSOR OF CALL OF THE WILD \n",
      "SPARQL Requests Made: 13 \n",
      "SPARQL Requests Total Time: 9.41068434715271 \n",
      "SPARQL Avg Time per Qn: 0.7238987959348239\n"
     ]
    },
    {
     "name": "stdout",
     "output_type": "stream",
     "text": [
      "[reRank_relations]: the Chandragupta Maurya belonged to which dynasty \n",
      "SPARQL Requests Made: 30 \n",
      "SPARQL Requests Total Time: 21.95179319381714 \n",
      "SPARQL Avg Time per Qn: 0.7317264397939046\n"
     ]
    },
    {
     "name": "stdout",
     "output_type": "stream",
     "text": [
      "[reRank_relations]: the Chandragupta Maurya belonged to which dynasty \n",
      "SPARQL Requests Made: 1 \n",
      "SPARQL Requests Total Time: 0.8172833919525146 \n",
      "SPARQL Avg Time per Qn: 0.8172833919525146\n"
     ]
    },
    {
     "name": "stdout",
     "output_type": "stream",
     "text": [
      "[reRank_relations]: which is the {position held} of {Liu Xiaobo} where {start time} is {2003-0-0} \n",
      "SPARQL Requests Made: 27 \n",
      "SPARQL Requests Total Time: 19.4947452545166 \n",
      "SPARQL Avg Time per Qn: 0.7220276020191334\n"
     ]
    },
    {
     "name": "stdout",
     "output_type": "stream",
     "text": [
      "[reRank_relations]: what influenced Georges Bataille that studied at Eberhard-Ludwigs Gymnasium \n",
      "SPARQL Requests Made: 31 \n",
      "SPARQL Requests Total Time: 22.527538776397705 \n",
      "SPARQL Avg Time per Qn: 0.7266947992386357\n"
     ]
    },
    {
     "name": "stdout",
     "output_type": "stream",
     "text": [
      "[reRank_relations]: title a previous nation that contains the word joseon in its name \n",
      "SPARQL Requests Made: 36 \n",
      "SPARQL Requests Total Time: 26.18392825126648 \n",
      "SPARQL Avg Time per Qn: 0.7273313403129578\n"
     ]
    },
    {
     "name": "stdout",
     "output_type": "stream",
     "text": [
      "[reRank_relations]: where was the filming of Full Metal Jacket and where was it supposed to take place \n",
      "SPARQL Requests Made: 45 \n",
      "SPARQL Requests Total Time: 32.58152437210083 \n",
      "SPARQL Avg Time per Qn: 0.724033874935574\n"
     ]
    },
    {
     "name": "stdout",
     "output_type": "stream",
     "text": [
      "[reRank_relations]: where was the filming of Full Metal Jacket and where was it supposed to take place \n",
      "SPARQL Requests Made: 2 \n",
      "SPARQL Requests Total Time: 1.4140477180480957 \n",
      "SPARQL Avg Time per Qn: 0.7070238590240479\n"
     ]
    },
    {
     "name": "stdout",
     "output_type": "stream",
     "text": [
      "[reRank_relations]: where and with what top did Yelena Isinbayeva destroy the document for pole vault \n",
      "SPARQL Requests Made: 60 \n",
      "SPARQL Requests Total Time: 43.523162603378296 \n",
      "SPARQL Avg Time per Qn: 0.7253860433896383\n",
      "[reRank_relations]: where and with what top did Yelena Isinbayeva destroy the document for pole vault \n",
      "SPARQL Requests Made: 0 \n",
      "SPARQL Requests Total Time: 0 \n",
      "SPARQL Avg Time per Qn: 0\n"
     ]
    },
    {
     "name": "stdout",
     "output_type": "stream",
     "text": [
      "[reRank_relations]: title a previous nation that contains the word joseon in its name \n",
      "SPARQL Requests Made: 33 \n",
      "SPARQL Requests Total Time: 24.056453943252563 \n",
      "SPARQL Avg Time per Qn: 0.7289834528258352\n"
     ]
    },
    {
     "name": "stdout",
     "output_type": "stream",
     "text": [
      "[reRank_relations]: what influenced Georges Bataille that studied at Eberhard-Ludwigs Gymnasium \n",
      "SPARQL Requests Made: 40 \n",
      "SPARQL Requests Total Time: 29.351338863372803 \n",
      "SPARQL Avg Time per Qn: 0.7337834715843201\n",
      "[reRank_relations]: what influenced Georges Bataille that studied at Eberhard-Ludwigs Gymnasium \n",
      "SPARQL Requests Made: 0 \n",
      "SPARQL Requests Total Time: 0 \n",
      "SPARQL Avg Time per Qn: 0\n"
     ]
    },
    {
     "name": "stdout",
     "output_type": "stream",
     "text": [
      "[reRank_relations]: in Saudi Arabia, whos the sovereign state for allegiance of Salman \n",
      "SPARQL Requests Made: 71 \n",
      "SPARQL Requests Total Time: 51.40139675140381 \n",
      "SPARQL Avg Time per Qn: 0.7239633345268142\n"
     ]
    },
    {
     "name": "stdout",
     "output_type": "stream",
     "text": [
      "[reRank_relations]: what is the deathplace of Natalia Molchanova with a government headed by Jaume Ferrer Ribas \n",
      "SPARQL Requests Made: 79 \n",
      "SPARQL Requests Total Time: 57.30502247810364 \n",
      "SPARQL Avg Time per Qn: 0.7253800313684005\n"
     ]
    },
    {
     "name": "stdout",
     "output_type": "stream",
     "text": [
      "[reRank_relations]: is it true that Carlos Sim was the owner of Torre Latinoamericana and Claro \n",
      "SPARQL Requests Made: 87 \n",
      "SPARQL Requests Total Time: 63.22692513465881 \n",
      "SPARQL Avg Time per Qn: 0.7267462659156185\n"
     ]
    },
    {
     "name": "stdout",
     "output_type": "stream",
     "text": [
      "[reRank_relations]: what is the deathplace of Natalia Molchanova with a government headed by Jaume Ferrer Ribas \n",
      "SPARQL Requests Made: 8 \n",
      "SPARQL Requests Total Time: 5.774881362915039 \n",
      "SPARQL Avg Time per Qn: 0.7218601703643799\n",
      "[reRank_relations]: what is the deathplace of Natalia Molchanova with a government headed by Jaume Ferrer Ribas \n",
      "SPARQL Requests Made: 0 \n",
      "SPARQL Requests Total Time: 0 \n",
      "SPARQL Avg Time per Qn: 0\n"
     ]
    },
    {
     "name": "stdout",
     "output_type": "stream",
     "text": [
      "[reRank_relations]: name the category for which John mills got shortlisted for his art work on Ryans Daughter \n",
      "SPARQL Requests Made: 103 \n",
      "SPARQL Requests Total Time: 74.56424760818481 \n",
      "SPARQL Avg Time per Qn: 0.7239247340600468\n"
     ]
    },
    {
     "name": "stdout",
     "output_type": "stream",
     "text": [
      "[reRank_relations]: this is a list of sister cities in Canada This is a subset of the worldwide List of twin towns and sister cities Canada also has Canada Provincial/State Twinning Relationships  –:Las Piñas City, Metro Manila, Philippines · Mississauga · Japan  Manila-Montreal Sister City Agreement Holds Potential for Better Cooperation \n",
      "SPARQL Requests Made: 105 \n",
      "SPARQL Requests Total Time: 75.9773154258728 \n",
      "SPARQL Avg Time per Qn: 0.7235934802464077\n"
     ]
    },
    {
     "name": "stdout",
     "output_type": "stream",
     "text": [
      "[reRank_relations]: which award did juan Ramon Jimenez receive on 1956-1-1 \n",
      "SPARQL Requests Made: 122 \n",
      "SPARQL Requests Total Time: 88.32228398323059 \n",
      "SPARQL Avg Time per Qn: 0.7239531474035295\n",
      "[reRank_relations]: Doom came out on what platform in 1996 \n",
      "SPARQL Requests Made: 121 \n",
      "SPARQL Requests Total Time: 87.80945563316345 \n",
      "SPARQL Avg Time per Qn: 0.7256979804393674\n"
     ]
    },
    {
     "name": "stdout",
     "output_type": "stream",
     "text": [
      "[reRank_relations]: name the category for which John mills got shortlisted for his art work on Ryans Daughter \n",
      "SPARQL Requests Made: 30 \n",
      "SPARQL Requests Total Time: 22.107027769088745 \n",
      "SPARQL Avg Time per Qn: 0.7369009256362915\n"
     ]
    },
    {
     "name": "stdout",
     "output_type": "stream",
     "text": [
      "[reRank_relations]: is it true that Carlos Sim was the owner of Torre Latinoamericana and Claro \n",
      "SPARQL Requests Made: 99 \n",
      "SPARQL Requests Total Time: 71.52448081970215 \n",
      "SPARQL Avg Time per Qn: 0.7224695032293146\n",
      "[reRank_relations]: is it true that Carlos Sim was the owner of Torre Latinoamericana and Claro \n",
      "SPARQL Requests Made: 0 \n",
      "SPARQL Requests Total Time: 0 \n",
      "SPARQL Avg Time per Qn: 0\n"
     ]
    },
    {
     "name": "stdout",
     "output_type": "stream",
     "text": [
      "[reRank_relations]: Gediminas held what title in 1341 \n",
      "SPARQL Requests Made: 213 \n",
      "SPARQL Requests Total Time: 153.94636750221252 \n",
      "SPARQL Avg Time per Qn: 0.7227528990714203\n"
     ]
    },
    {
     "name": "stdout",
     "output_type": "stream",
     "text": [
      "[reRank_relations]: what is instruction set architecture that begins with x \n",
      "SPARQL Requests Made: 236 \n",
      "SPARQL Requests Total Time: 170.59461069107056 \n",
      "SPARQL Avg Time per Qn: 0.7228585198774176\n"
     ]
    },
    {
     "name": "stdout",
     "output_type": "stream",
     "text": [
      "[reRank_relations]: is the synodic period of Pluto rise to to 36673 \n",
      "SPARQL Requests Made: 240 \n",
      "SPARQL Requests Total Time: 173.31306409835815 \n",
      "SPARQL Avg Time per Qn: 0.7221377670764924\n"
     ]
    },
    {
     "name": "stdout",
     "output_type": "stream",
     "text": [
      "[reRank_relations]: what is the plain modes NeuroNames ID for brain stem \n",
      "SPARQL Requests Made: 241 \n",
      "SPARQL Requests Total Time: 174.6327497959137 \n",
      "SPARQL Avg Time per Qn: 0.7246172190701813\n"
     ]
    },
    {
     "name": "stdout",
     "output_type": "stream",
     "text": [
      "[reRank_relations]: which award did juan Ramon Jimenez receive on 1956-1-1 \n",
      "SPARQL Requests Made: 136 \n",
      "SPARQL Requests Total Time: 98.62057948112488 \n",
      "SPARQL Avg Time per Qn: 0.7251513197141535\n",
      "[reRank_relations]: which award did juan Ramon Jimenez receive on 1956-1-1 \n",
      "SPARQL Requests Made: 0 \n",
      "SPARQL Requests Total Time: 0 \n",
      "SPARQL Avg Time per Qn: 0\n"
     ]
    },
    {
     "name": "stdout",
     "output_type": "stream",
     "text": [
      "[reRank_relations]: is the synodic period of Pluto rise to to 36673 \n",
      "SPARQL Requests Made: 26 \n",
      "SPARQL Requests Total Time: 18.831088066101074 \n",
      "SPARQL Avg Time per Qn: 0.7242726179269644\n"
     ]
    },
    {
     "name": "stdout",
     "output_type": "stream",
     "text": [
      "[reRank_relations]: what Trophies has English actor Tom Hollander been awarded \n",
      "SPARQL Requests Made: 361 \n",
      "SPARQL Requests Total Time: 261.89928555488586 \n",
      "SPARQL Avg Time per Qn: 0.725482785470598\n"
     ]
    },
    {
     "name": "stdout",
     "output_type": "stream",
     "text": [
      "[reRank_relations]: Gediminas held what title in 1341 \n",
      "SPARQL Requests Made: 227 \n",
      "SPARQL Requests Total Time: 164.8409938812256 \n",
      "SPARQL Avg Time per Qn: 0.7261717792124475\n"
     ]
    },
    {
     "name": "stdout",
     "output_type": "stream",
     "text": [
      "[reRank_relations]: anatomically, where is the Stomach located \n",
      "SPARQL Requests Made: 450 \n",
      "SPARQL Requests Total Time: 325.86478543281555 \n",
      "SPARQL Avg Time per Qn: 0.724143967628479\n"
     ]
    },
    {
     "name": "stdout",
     "output_type": "stream",
     "text": [
      "[reRank_relations]: is 69 the number of eligible voters found in Catalan for the regional election of Sobremunt in 2015 \n",
      "SPARQL Requests Made: 450 \n",
      "SPARQL Requests Total Time: 325.2119550704956 \n",
      "SPARQL Avg Time per Qn: 0.7226932334899903\n"
     ]
    },
    {
     "name": "stdout",
     "output_type": "stream",
     "text": [
      "[reRank_relations]: is the Prolongation at the break of the AKROLOY PARA ICF 40 break even with to 1 \n",
      "SPARQL Requests Made: 480 \n",
      "SPARQL Requests Total Time: 347.2583382129669 \n",
      "SPARQL Avg Time per Qn: 0.7234548712770145\n"
     ]
    },
    {
     "name": "stdout",
     "output_type": "stream",
     "text": [
      "[reRank_relations]: which year  william Henry Harrison roll  President of the United States \n",
      "SPARQL Requests Made: 516 \n",
      "SPARQL Requests Total Time: 373.0051646232605 \n",
      "SPARQL Avg Time per Qn: 0.7228782260140707\n"
     ]
    },
    {
     "name": "stdout",
     "output_type": "stream",
     "text": [
      "[reRank_relations]: which year  william Henry Harrison roll  President of the United States \n",
      "SPARQL Requests Made: 45 \n",
      "SPARQL Requests Total Time: 32.41332387924194 \n",
      "SPARQL Avg Time per Qn: 0.7202960862053766\n"
     ]
    },
    {
     "name": "stdout",
     "output_type": "stream",
     "text": [
      "[reRank_relations]: which year  william Henry Harrison roll  President of the United States \n",
      "SPARQL Requests Made: 40 \n",
      "SPARQL Requests Total Time: 29.054653644561768 \n",
      "SPARQL Avg Time per Qn: 0.7263663411140442\n"
     ]
    },
    {
     "name": "stdout",
     "output_type": "stream",
     "text": [
      "[reRank_relations]: what Trophies has English actor Tom Hollander been awarded \n",
      "SPARQL Requests Made: 457 \n",
      "SPARQL Requests Total Time: 333.0797095298767 \n",
      "SPARQL Avg Time per Qn: 0.7288396269800366\n"
     ]
    },
    {
     "name": "stdout",
     "output_type": "stream",
     "text": [
      "[reRank_relations]: is the Prolongation at the break of the AKROLOY PARA ICF 40 break even with to 1 \n",
      "SPARQL Requests Made: 480 \n",
      "SPARQL Requests Total Time: 348.16336035728455 \n",
      "SPARQL Avg Time per Qn: 0.7253403340776762\n"
     ]
    },
    {
     "name": "stdout",
     "output_type": "stream",
     "text": [
      "[reRank_relations]: this is a list of sister cities in Canada This is a subset of the worldwide List of twin towns and sister cities Canada also has Canada Provincial/State Twinning Relationships  –:Las Piñas City, Metro Manila, Philippines · Mississauga · Japan  Manila-Montreal Sister City Agreement Holds Potential for Better Cooperation \n",
      "SPARQL Requests Made: 912 \n",
      "SPARQL Requests Total Time: 662.3618047237396 \n",
      "SPARQL Avg Time per Qn: 0.726273908688311\n"
     ]
    },
    {
     "name": "stdout",
     "output_type": "stream",
     "text": [
      "[reRank_relations]: this is a list of sister cities in Canada This is a subset of the worldwide List of twin towns and sister cities Canada also has Canada Provincial/State Twinning Relationships  –:Las Piñas City, Metro Manila, Philippines · Mississauga · Japan  Manila-Montreal Sister City Agreement Holds Potential for Better Cooperation \n",
      "SPARQL Requests Made: 179 \n",
      "SPARQL Requests Total Time: 129.7068750858307 \n",
      "SPARQL Avg Time per Qn: 0.7246194138873223\n"
     ]
    },
    {
     "name": "stdout",
     "output_type": "stream",
     "text": [
      "Index error, no label found for\n",
      "wd::Q639369\n"
     ]
    },
    {
     "name": "stdout",
     "output_type": "stream",
     "text": [
      "Index error, no label found for\n",
      "wd::Q41700\n"
     ]
    },
    {
     "name": "stdout",
     "output_type": "stream",
     "text": [
      "Index error, no label found for\n",
      "wd::Q417646\n"
     ]
    },
    {
     "name": "stdout",
     "output_type": "stream",
     "text": [
      "Index error, no label found for\n",
      "wd::Q376566\n"
     ]
    },
    {
     "name": "stdout",
     "output_type": "stream",
     "text": [
      "Link batch time: 1743.732673883438\n",
      "Anno batch time: 574.5461239814758\n",
      "Conv batch time: 0.008777379989624023\n",
      "Pipeline iter 100\n",
      "Pipeline iter 101\n",
      "Pipeline iter 102\n",
      "Pipeline iter 103\n",
      "Pipeline iter 104\n",
      "Pipeline iter 105\n",
      "Pipeline iter 106\n",
      "Pipeline iter 107\n",
      "Pipeline iter 108\n",
      "Pipeline iter 109\n",
      "Pipeline iter 110\n",
      "Pipeline iter 111\n",
      "Pipeline iter 112\n",
      "Pipeline iter 113\n",
      "Pipeline iter 114\n",
      "Pipeline iter 115\n",
      "Pipeline iter 116\n",
      "Pipeline iter 117\n",
      "Pipeline iter 118\n",
      "Pipeline iter 119\n",
      "Pipeline iter 120\n",
      "Pipeline iter 121\n",
      "Pipeline iter 122\n",
      "Pipeline iter 123\n",
      "Pipeline iter 124\n",
      "Pipeline iter 125\n",
      "Pipeline iter 126\n",
      "Pipeline iter 127\n",
      "Pipeline iter 128\n",
      "Pipeline iter 129\n",
      "Pipeline iter 130\n",
      "Pipeline iter 131\n",
      "Pipeline iter 132\n",
      "Pipeline iter 133\n",
      "Pipeline iter 134\n",
      "Pipeline iter 135\n",
      "Pipeline iter 136\n",
      "Pipeline iter 137\n",
      "Pipeline iter 138\n",
      "Pipeline iter 139\n",
      "Pipeline iter 140\n",
      "Pipeline iter 141\n",
      "Pipeline iter 142\n",
      "Pipeline iter 143\n",
      "Pipeline iter 144\n",
      "Pipeline iter 145\n",
      "Pipeline iter 146\n",
      "Pipeline iter 147\n",
      "Pipeline iter 148\n",
      "Pipeline iter 149\n",
      "[Pipeline1]: Linking 99-149\n",
      "101 : ['Carl Friedrich Guass received his doctorate from University of Helmstedt on what date?']\n",
      "101 : ['What are the influenza neurological symptoms?']\n",
      "101 : ['What is the unit change of the measured by Youngs modulus?']\n",
      "101 : ['Who was the governor of New Jersey, January 1, 1935?']\n",
      "101 : ['In the Eastern Orthodox liturgical calendar, what is the importance of November 28?']\n",
      "101 : ['Which designation was held by Zhou Enlai in the year 1976?']\n",
      "101 : ['What is the craftsmanship class that begins with the letter o?']\n",
      "101 : ['On April 12, 1868, what notable event occurred in Arkansas?']\n",
      "101 : ['How many captains do Montreal Canadiens have?']\n",
      "101 : ['What is the space gather of corundum that has point gather of ditrigonal scalahedral?']\n",
      "101 : ['Which inferior planet orbiting the sun is the flattest?']\n",
      "101 : ['What ice age does the letter a begin with?']\n",
      "101 : ['Tom Kenny narrates how many items?']\n",
      "101 : ['Wich means  {SpectraBase Compound ID} at{ethanol} ?']\n",
      "101 : ['What is the put of joining of the designers of the Nintendo Switch?']\n",
      "101 : ['What woodcut print is presented on the Tower of Babel?']\n",
      "101 : ['What is the Class II flamable liquid with the highest median deadly attention whose has effect is allyl glycidyl ether exposure?']\n",
      "101 : ['Which divisions of the Joined together Countries are coordinated by the UN Secretary-General?']\n",
      "101 : ['TELL ME CREDIT INSTITUTION IN THE WORD WACHOVIA']\n",
      "101 : ['When did Nanda Empire air, and what was it followed with?']\n",
      "101 : ['What is the big city that begins with the letter I']\n",
      "101 : ['What is the title of the capital city where Vladimir Lenin worked?']\n",
      "101 : ['Where is the Chrysler building located in New York City']\n",
      "101 : ['Did Fibonacci Sequence get named after Fibonacci?']\n",
      "101 : ['Who is the { taxon parent } { Lagopus persicus }s { habitat }?']\n",
      "101 : ['tell me Original Public Ivy that chairperson Carol Folt begins with letter c']\n",
      "101 : ['What was the past favorite player of constructivism']\n",
      "101 : ['Who is the higher taxonomic rank of treeswift?']\n",
      "101 : ['In which year, did Rostack became a part of the German Democratic Republic?.']\n",
      "101 : ['What is the CSFD person ID of Leonid Gaidai?']\n",
      "101 : ['For which award was Joe Pesci nominated in 1980?']\n",
      "101 : ['Give me the name of the straight six cylinder diesel electric engine that has the largest bore?']\n"
     ]
    },
    {
     "name": "stdout",
     "output_type": "stream",
     "text": [
      "102 : ['Which city is Singapore Airlines  home and has 32360.0 median household income?']\n"
     ]
    },
    {
     "name": "stdout",
     "output_type": "stream",
     "text": [
      "103 : ['What type of electrification is direct current?']\n"
     ]
    },
    {
     "name": "stdout",
     "output_type": "stream",
     "text": [
      "104 : ['Of all New Line Cinema film trilogies, which had the largest box office?']\n"
     ]
    },
    {
     "name": "stdout",
     "output_type": "stream",
     "text": [
      "105 : ['What is the revolution that begins with the letter r']\n",
      "106 : ['Boa Vista, the former head of government at Teresa Surita, started when?']\n"
     ]
    },
    {
     "name": "stdout",
     "output_type": "stream",
     "text": [
      "[reRank_relations]: who was the governor of New Jersey, January 1, 1935 \n",
      "SPARQL Requests Made: 1 \n",
      "SPARQL Requests Total Time: 0.7237851619720459 \n",
      "SPARQL Avg Time per Qn: 0.7237851619720459\n",
      "107 : ['How many tennis practitioners are there?']\n"
     ]
    },
    {
     "name": "stdout",
     "output_type": "stream",
     "text": [
      "108 : ['What province situate does Josef Neumayer hold within the Austrian national government']\n",
      "[reRank_relations]: where is the Chrysler building located in New York City \n",
      "SPARQL Requests Made: 2 \n",
      "SPARQL Requests Total Time: 1.4441778659820557 \n",
      "SPARQL Avg Time per Qn: 0.7220889329910278\n",
      "109 : ['Whatre effects of necrosis?']\n"
     ]
    },
    {
     "name": "stdout",
     "output_type": "stream",
     "text": [
      "[reRank_relations]: what is the title of the capital city where Vladimir Lenin worked \n",
      "SPARQL Requests Made: 1 \n",
      "SPARQL Requests Total Time: 0.7190911769866943 \n",
      "SPARQL Avg Time per Qn: 0.7190911769866943\n"
     ]
    },
    {
     "name": "stdout",
     "output_type": "stream",
     "text": [
      "110 : ['What is the unemployment rate at the Misiones Territory Indian reservation?']\n"
     ]
    },
    {
     "name": "stdout",
     "output_type": "stream",
     "text": [
      "[reRank_relations]: how many captains do Montreal Canadiens have \n",
      "SPARQL Requests Made: 3 \n",
      "SPARQL Requests Total Time: 2.124399423599243 \n",
      "SPARQL Avg Time per Qn: 0.7081331411997477\n",
      "111 : ['In the Han Dynasty end of time, which had the capital Changan?']\n",
      "112 : ['What is the foremost vital pharmaceutical utilized in treating inflammation?']\n"
     ]
    },
    {
     "name": "stdout",
     "output_type": "stream",
     "text": [
      "113 : ['How numerous times has Magnus Carlsen recieved the World Chess Winner award?']\n"
     ]
    },
    {
     "name": "stdout",
     "output_type": "stream",
     "text": [
      "[reRank_relations]: in which year, did Rostack became a part of the German Democratic Republic \n",
      "SPARQL Requests Made: 0 \n",
      "SPARQL Requests Total Time: 0 \n",
      "SPARQL Avg Time per Qn: 0\n",
      "114 : ['What award and nomination did Gloria_Estefan receive?']\n",
      "115 : ['What district was Malcolm Turnbull elected to serve as a Member of the Australian House of Representative, and when?']\n"
     ]
    },
    {
     "name": "stdout",
     "output_type": "stream",
     "text": [
      "[reRank_relations]: boa Vista, the former head of government at Teresa Surita, started when \n",
      "SPARQL Requests Made: 1 \n",
      "SPARQL Requests Total Time: 0.732520341873169 \n",
      "SPARQL Avg Time per Qn: 0.732520341873169\n",
      "116 : ['On the HBO series Sex and the City what is the name of Kristen Davis character?']\n"
     ]
    },
    {
     "name": "stdout",
     "output_type": "stream",
     "text": [
      "117 : ['What is the TasteAtlas id for sushi?']\n"
     ]
    },
    {
     "name": "stdout",
     "output_type": "stream",
     "text": [
      "[reRank_relations]: what is the foremost vital pharmaceutical utilized in treating Inflammation \n",
      "SPARQL Requests Made: 0 \n",
      "SPARQL Requests Total Time: 0 \n",
      "SPARQL Avg Time per Qn: 0\n"
     ]
    },
    {
     "name": "stdout",
     "output_type": "stream",
     "text": [
      "[reRank_relations]: what is the title of the capital city where Vladimir Lenin worked \n",
      "SPARQL Requests Made: 3 \n",
      "SPARQL Requests Total Time: 2.181992292404175 \n",
      "SPARQL Avg Time per Qn: 0.727330764134725\n"
     ]
    },
    {
     "name": "stdout",
     "output_type": "stream",
     "text": [
      "[reRank_relations]: what type of electrification is direct current \n",
      "SPARQL Requests Made: 3 \n",
      "SPARQL Requests Total Time: 2.1889235973358154 \n",
      "SPARQL Avg Time per Qn: 0.7296411991119385\n",
      "118 : ['What city is both the passing area of Carlos Gardel and the twin city of Cali?']\n"
     ]
    },
    {
     "name": "stdout",
     "output_type": "stream",
     "text": [
      "[reRank_relations]: what is the title of the capital city where Vladimir Lenin worked \n",
      "SPARQL Requests Made: 2 \n",
      "SPARQL Requests Total Time: 1.4248981475830078 \n",
      "SPARQL Avg Time per Qn: 0.7124490737915039\n",
      "[reRank_relations]: what is the title of the capital city where Vladimir Lenin worked \n",
      "SPARQL Requests Made: 0 \n",
      "SPARQL Requests Total Time: 0 \n",
      "SPARQL Avg Time per Qn: 0\n",
      "119 : ['What family relationship is parent?']\n"
     ]
    },
    {
     "name": "stdout",
     "output_type": "stream",
     "text": [
      "[reRank_relations]: did Fibonacci Sequence get named after Fibonacci \n",
      "SPARQL Requests Made: 10 \n",
      "SPARQL Requests Total Time: 7.267378807067871 \n",
      "SPARQL Avg Time per Qn: 0.7267378807067871\n",
      "[reRank_relations]: did Fibonacci Sequence get named after Fibonacci \n",
      "SPARQL Requests Made: 0 \n",
      "SPARQL Requests Total Time: 0 \n",
      "SPARQL Avg Time per Qn: 0\n"
     ]
    },
    {
     "name": "stdout",
     "output_type": "stream",
     "text": [
      "[reRank_relations]: what is the TasteAtlas id for Sushi \n",
      "SPARQL Requests Made: 6 \n",
      "SPARQL Requests Total Time: 4.303226709365845 \n",
      "SPARQL Avg Time per Qn: 0.7172044515609741\n"
     ]
    },
    {
     "name": "stdout",
     "output_type": "stream",
     "text": [
      "[reRank_relations]: what is the CSFD person ID of Leonid Gaidai \n",
      "SPARQL Requests Made: 12 \n",
      "SPARQL Requests Total Time: 8.683024883270264 \n",
      "SPARQL Avg Time per Qn: 0.7235854069391886\n",
      "[reRank_relations]: what is the CSFD person ID of Leonid Gaidai \n",
      "SPARQL Requests Made: 0 \n",
      "SPARQL Requests Total Time: 0 \n",
      "SPARQL Avg Time per Qn: 0\n"
     ]
    },
    {
     "name": "stdout",
     "output_type": "stream",
     "text": [
      "[reRank_relations]: in the Han Dynasty end of time, which had the capital Changan \n",
      "SPARQL Requests Made: 11 \n",
      "SPARQL Requests Total Time: 7.910708665847778 \n",
      "SPARQL Avg Time per Qn: 0.7191553332588889\n"
     ]
    },
    {
     "name": "stdout",
     "output_type": "stream",
     "text": [
      "[reRank_relations]: in the Han Dynasty end of time, which had the capital Changan \n",
      "SPARQL Requests Made: 11 \n",
      "SPARQL Requests Total Time: 7.9149699211120605 \n",
      "SPARQL Avg Time per Qn: 0.7195427201010964\n"
     ]
    },
    {
     "name": "stdout",
     "output_type": "stream",
     "text": [
      "[reRank_relations]: tom Kenny narrates how many items \n",
      "SPARQL Requests Made: 30 \n",
      "SPARQL Requests Total Time: 21.80962038040161 \n",
      "SPARQL Avg Time per Qn: 0.726987346013387\n"
     ]
    },
    {
     "name": "stdout",
     "output_type": "stream",
     "text": [
      "[reRank_relations]: on April 12, 1868, what notable event occurred in Arkansas \n",
      "SPARQL Requests Made: 30 \n",
      "SPARQL Requests Total Time: 22.16244864463806 \n",
      "SPARQL Avg Time per Qn: 0.738748288154602\n"
     ]
    },
    {
     "name": "stdout",
     "output_type": "stream",
     "text": [
      "[reRank_relations]: what family relationship is parent \n",
      "SPARQL Requests Made: 38 \n",
      "SPARQL Requests Total Time: 27.843151092529297 \n",
      "SPARQL Avg Time per Qn: 0.7327145024349815\n"
     ]
    },
    {
     "name": "stdout",
     "output_type": "stream",
     "text": [
      "[reRank_relations]: which inferior planet orbiting the sun is the flattest \n",
      "SPARQL Requests Made: 45 \n",
      "SPARQL Requests Total Time: 33.02357316017151 \n",
      "SPARQL Avg Time per Qn: 0.7338571813371446\n"
     ]
    },
    {
     "name": "stdout",
     "output_type": "stream",
     "text": [
      "[reRank_relations]: for which award was Joe Pesci nominated in 1980 \n",
      "SPARQL Requests Made: 46 \n",
      "SPARQL Requests Total Time: 33.59764266014099 \n",
      "SPARQL Avg Time per Qn: 0.7303835360900216\n"
     ]
    },
    {
     "name": "stdout",
     "output_type": "stream",
     "text": [
      "[reRank_relations]: carl Friedrich Guass received his doctorate from University of Helmstedt on what date \n",
      "SPARQL Requests Made: 61 \n",
      "SPARQL Requests Total Time: 44.33992338180542 \n",
      "SPARQL Avg Time per Qn: 0.7268839898656626\n"
     ]
    },
    {
     "name": "stdout",
     "output_type": "stream",
     "text": [
      "[reRank_relations]: what is the unemployment rate at the Misiones Territory Indian reservation \n",
      "SPARQL Requests Made: 64 \n",
      "SPARQL Requests Total Time: 46.38311219215393 \n",
      "SPARQL Avg Time per Qn: 0.7247361280024052\n"
     ]
    },
    {
     "name": "stdout",
     "output_type": "stream",
     "text": [
      "[reRank_relations]: give me the name of the straight six cylinder diesel electric engine that has the largest bore \n",
      "SPARQL Requests Made: 89 \n",
      "SPARQL Requests Total Time: 64.64740633964539 \n",
      "SPARQL Avg Time per Qn: 0.726375352130847\n"
     ]
    },
    {
     "name": "stdout",
     "output_type": "stream",
     "text": [
      "[reRank_relations]: what city is both the passing area of Carlos Gardel and the twin city of Cali \n",
      "SPARQL Requests Made: 90 \n",
      "SPARQL Requests Total Time: 65.19244456291199 \n",
      "SPARQL Avg Time per Qn: 0.7243604951434666\n"
     ]
    },
    {
     "name": "stdout",
     "output_type": "stream",
     "text": [
      "[reRank_relations]: what city is both the passing area of Carlos Gardel and the twin city of Cali \n",
      "SPARQL Requests Made: 4 \n",
      "SPARQL Requests Total Time: 2.8470208644866943 \n",
      "SPARQL Avg Time per Qn: 0.7117552161216736\n"
     ]
    },
    {
     "name": "stdout",
     "output_type": "stream",
     "text": [
      "[reRank_relations]: what province situate does Josef Neumayer hold within the Austrian national government \n",
      "SPARQL Requests Made: 98 \n",
      "SPARQL Requests Total Time: 71.17352843284607 \n",
      "SPARQL Avg Time per Qn: 0.726260494212715\n",
      "[reRank_relations]: what province situate does Josef Neumayer hold within the Austrian national government \n",
      "SPARQL Requests Made: 0 \n",
      "SPARQL Requests Total Time: 0 \n",
      "SPARQL Avg Time per Qn: 0\n"
     ]
    },
    {
     "name": "stdout",
     "output_type": "stream",
     "text": [
      "[reRank_relations]: what city is both the passing area of Carlos Gardel and the twin city of Cali \n",
      "SPARQL Requests Made: 4 \n",
      "SPARQL Requests Total Time: 2.8920161724090576 \n",
      "SPARQL Avg Time per Qn: 0.7230040431022644\n"
     ]
    },
    {
     "name": "stdout",
     "output_type": "stream",
     "text": [
      "[reRank_relations]: what city is both the passing area of Carlos Gardel and the twin city of Cali \n",
      "SPARQL Requests Made: 3 \n",
      "SPARQL Requests Total Time: 2.1776082515716553 \n",
      "SPARQL Avg Time per Qn: 0.7258694171905518\n",
      "[reRank_relations]: what city is both the passing area of Carlos Gardel and the twin city of Cali \n",
      "SPARQL Requests Made: 0 \n",
      "SPARQL Requests Total Time: 0 \n",
      "SPARQL Avg Time per Qn: 0\n",
      "[reRank_relations]: what city is both the passing area of Carlos Gardel and the twin city of Cali \n",
      "SPARQL Requests Made: 0 \n",
      "SPARQL Requests Total Time: 0 \n",
      "SPARQL Avg Time per Qn: 0\n"
     ]
    },
    {
     "name": "stdout",
     "output_type": "stream",
     "text": [
      "[reRank_relations]: tELL ME CREDIT INSTITUTION IN THE WORD WACHOVIA \n",
      "SPARQL Requests Made: 118 \n",
      "SPARQL Requests Total Time: 85.88099312782288 \n",
      "SPARQL Avg Time per Qn: 0.7278050265069735\n",
      "[reRank_relations]: what is the Class II flamable liquid with the highest median deadly attention whose has effect is allyl glycidyl ether exposure \n",
      "SPARQL Requests Made: 115 \n",
      "SPARQL Requests Total Time: 83.91745519638062 \n",
      "SPARQL Avg Time per Qn: 0.7297170017076575\n"
     ]
    },
    {
     "name": "stdout",
     "output_type": "stream",
     "text": [
      "[reRank_relations]: what award and nomination did Gloria_Estefan receive \n",
      "SPARQL Requests Made: 120 \n",
      "SPARQL Requests Total Time: 87.26566648483276 \n",
      "SPARQL Avg Time per Qn: 0.7272138873736064\n"
     ]
    },
    {
     "name": "stdout",
     "output_type": "stream",
     "text": [
      "[reRank_relations]: what is the unit change of the measured by Youngs modulus \n",
      "SPARQL Requests Made: 143 \n",
      "SPARQL Requests Total Time: 104.5382387638092 \n",
      "SPARQL Avg Time per Qn: 0.7310366347119525\n"
     ]
    },
    {
     "name": "stdout",
     "output_type": "stream",
     "text": [
      "[reRank_relations]: when did Nanda Empire air, and what was it followed with \n",
      "SPARQL Requests Made: 146 \n",
      "SPARQL Requests Total Time: 106.17816352844238 \n",
      "SPARQL Avg Time per Qn: 0.7272476954002903\n"
     ]
    },
    {
     "name": "stdout",
     "output_type": "stream",
     "text": [
      "[reRank_relations]: what woodcut print is presented on the Tower of Babel \n",
      "SPARQL Requests Made: 180 \n",
      "SPARQL Requests Total Time: 131.00999879837036 \n",
      "SPARQL Avg Time per Qn: 0.7278333266576131\n"
     ]
    },
    {
     "name": "stdout",
     "output_type": "stream",
     "text": [
      "[reRank_relations]: for which award was Joe Pesci nominated in 1980 \n",
      "SPARQL Requests Made: 136 \n",
      "SPARQL Requests Total Time: 98.70668339729309 \n",
      "SPARQL Avg Time per Qn: 0.7257844367448021\n",
      "[reRank_relations]: for which award was Joe Pesci nominated in 1980 \n",
      "SPARQL Requests Made: 0 \n",
      "SPARQL Requests Total Time: 0 \n",
      "SPARQL Avg Time per Qn: 0\n"
     ]
    },
    {
     "name": "stdout",
     "output_type": "stream",
     "text": [
      "[reRank_relations]: tell me Original Public Ivy that chairperson Carol Folt begins with letter c \n",
      "SPARQL Requests Made: 183 \n",
      "SPARQL Requests Total Time: 133.05752778053284 \n",
      "SPARQL Avg Time per Qn: 0.7270903157406166\n"
     ]
    },
    {
     "name": "stdout",
     "output_type": "stream",
     "text": [
      "[reRank_relations]: how numerous times has Magnus Carlsen recieved the World Chess Winner award \n",
      "SPARQL Requests Made: 181 \n",
      "SPARQL Requests Total Time: 131.516606092453 \n",
      "SPARQL Avg Time per Qn: 0.7266110833837183\n"
     ]
    },
    {
     "name": "stdout",
     "output_type": "stream",
     "text": [
      "[reRank_relations]: wich means  {SpectraBase Compound ID} at{ethanol}  \n",
      "SPARQL Requests Made: 192 \n",
      "SPARQL Requests Total Time: 140.17737913131714 \n",
      "SPARQL Avg Time per Qn: 0.7300905163089434\n"
     ]
    },
    {
     "name": "stdout",
     "output_type": "stream",
     "text": [
      "[reRank_relations]: which designation was held by Zhou Enlai in the year 1976 \n",
      "SPARQL Requests Made: 213 \n",
      "SPARQL Requests Total Time: 154.43109488487244 \n",
      "SPARQL Avg Time per Qn: 0.7250286144829692\n"
     ]
    },
    {
     "name": "stdout",
     "output_type": "stream",
     "text": [
      "[reRank_relations]: what award and nomination did Gloria_Estefan receive \n",
      "SPARQL Requests Made: 135 \n",
      "SPARQL Requests Total Time: 97.63250660896301 \n",
      "SPARQL Avg Time per Qn: 0.7232037526589853\n"
     ]
    },
    {
     "name": "stdout",
     "output_type": "stream",
     "text": [
      "[reRank_relations]: what is the Class II flamable liquid with the highest median deadly attention whose has effect is allyl glycidyl ether exposure \n",
      "SPARQL Requests Made: 157 \n",
      "SPARQL Requests Total Time: 114.07121539115906 \n",
      "SPARQL Avg Time per Qn: 0.7265682508991023\n"
     ]
    },
    {
     "name": "stdout",
     "output_type": "stream",
     "text": [
      "[reRank_relations]: what district was Malcolm Turnbull elected to serve as a Member of the Australian House of Representative, and when \n",
      "SPARQL Requests Made: 300 \n",
      "SPARQL Requests Total Time: 217.5598578453064 \n",
      "SPARQL Avg Time per Qn: 0.7251995261510213\n"
     ]
    },
    {
     "name": "stdout",
     "output_type": "stream",
     "text": [
      "[reRank_relations]: what is the big city that begins with the letter I \n",
      "SPARQL Requests Made: 314 \n",
      "SPARQL Requests Total Time: 227.47400665283203 \n",
      "SPARQL Avg Time per Qn: 0.7244395116332231\n"
     ]
    },
    {
     "name": "stdout",
     "output_type": "stream",
     "text": [
      "[reRank_relations]: how numerous times has Magnus Carlsen recieved the World Chess Winner award \n",
      "SPARQL Requests Made: 135 \n",
      "SPARQL Requests Total Time: 98.19702172279358 \n",
      "SPARQL Avg Time per Qn: 0.7273853460947672\n"
     ]
    },
    {
     "name": "stdout",
     "output_type": "stream",
     "text": [
      "[reRank_relations]: which city is Singapore Airlines  home and has 323600 median household income \n",
      "SPARQL Requests Made: 352 \n",
      "SPARQL Requests Total Time: 256.27275109291077 \n",
      "SPARQL Avg Time per Qn: 0.7280475883321329\n"
     ]
    },
    {
     "name": "stdout",
     "output_type": "stream",
     "text": [
      "[reRank_relations]: what is the craftsmanship class that begins with the letter o \n",
      "SPARQL Requests Made: 390 \n",
      "SPARQL Requests Total Time: 282.555349111557 \n",
      "SPARQL Avg Time per Qn: 0.7245008951578384\n"
     ]
    },
    {
     "name": "stdout",
     "output_type": "stream",
     "text": [
      "[reRank_relations]: what is the foremost vital pharmaceutical utilized in treating Inflammation \n",
      "SPARQL Requests Made: 388 \n",
      "SPARQL Requests Total Time: 281.1398048400879 \n",
      "SPARQL Avg Time per Qn: 0.7245871258765152\n"
     ]
    },
    {
     "name": "stdout",
     "output_type": "stream",
     "text": [
      "[reRank_relations]: what is the revolution that begins with the letter r \n",
      "SPARQL Requests Made: 390 \n",
      "SPARQL Requests Total Time: 282.1129810810089 \n",
      "SPARQL Avg Time per Qn: 0.7233666181564331\n"
     ]
    },
    {
     "name": "stdout",
     "output_type": "stream",
     "text": [
      "[reRank_relations]: which divisions of the Joined together Countries are coordinated by the UN Secretary-General \n",
      "SPARQL Requests Made: 417 \n",
      "SPARQL Requests Total Time: 302.4003267288208 \n",
      "SPARQL Avg Time per Qn: 0.7251806396374599\n"
     ]
    },
    {
     "name": "stdout",
     "output_type": "stream",
     "text": [
      "[reRank_relations]: on the HBO series Sex and the City what is the name of Kristen Davis character \n",
      "SPARQL Requests Made: 420 \n",
      "SPARQL Requests Total Time: 305.31209683418274 \n",
      "SPARQL Avg Time per Qn: 0.7269335638909112\n"
     ]
    },
    {
     "name": "stdout",
     "output_type": "stream",
     "text": [
      "[reRank_relations]: when did Nanda Empire air, and what was it followed with \n",
      "SPARQL Requests Made: 290 \n",
      "SPARQL Requests Total Time: 210.71433234214783 \n",
      "SPARQL Avg Time per Qn: 0.7266011460074063\n"
     ]
    },
    {
     "name": "stdout",
     "output_type": "stream",
     "text": [
      "[reRank_relations]: on the HBO series Sex and the City what is the name of Kristen Davis character \n",
      "SPARQL Requests Made: 69 \n",
      "SPARQL Requests Total Time: 50.697704792022705 \n",
      "SPARQL Avg Time per Qn: 0.7347493448119232\n"
     ]
    },
    {
     "name": "stdout",
     "output_type": "stream",
     "text": [
      "[reRank_relations]: what district was Malcolm Turnbull elected to serve as a Member of the Australian House of Representative, and when \n",
      "SPARQL Requests Made: 270 \n",
      "SPARQL Requests Total Time: 196.74733638763428 \n",
      "SPARQL Avg Time per Qn: 0.7286938384727195\n"
     ]
    },
    {
     "name": "stdout",
     "output_type": "stream",
     "text": [
      "[reRank_relations]: what district was Malcolm Turnbull elected to serve as a Member of the Australian House of Representative, and when \n",
      "SPARQL Requests Made: 4 \n",
      "SPARQL Requests Total Time: 2.8760204315185547 \n",
      "SPARQL Avg Time per Qn: 0.7190051078796387\n",
      "[reRank_relations]: what district was Malcolm Turnbull elected to serve as a Member of the Australian House of Representative, and when \n",
      "SPARQL Requests Made: 0 \n",
      "SPARQL Requests Total Time: 0 \n",
      "SPARQL Avg Time per Qn: 0\n"
     ]
    },
    {
     "name": "stdout",
     "output_type": "stream",
     "text": [
      "[reRank_relations]: which divisions of the Joined together Countries are coordinated by the UN Secretary-General \n",
      "SPARQL Requests Made: 201 \n",
      "SPARQL Requests Total Time: 145.1141893863678 \n",
      "SPARQL Avg Time per Qn: 0.7219611412257104\n"
     ]
    },
    {
     "name": "stdout",
     "output_type": "stream",
     "text": [
      "[reRank_relations]: which designation was held by Zhou Enlai in the year 1976 \n",
      "SPARQL Requests Made: 421 \n",
      "SPARQL Requests Total Time: 305.6951422691345 \n",
      "SPARQL Avg Time per Qn: 0.7261167274801295\n"
     ]
    },
    {
     "name": "stdout",
     "output_type": "stream",
     "text": [
      "[reRank_relations]: which designation was held by Zhou Enlai in the year 1976 \n",
      "SPARQL Requests Made: 14 \n",
      "SPARQL Requests Total Time: 10.24685025215149 \n",
      "SPARQL Avg Time per Qn: 0.7319178751536778\n"
     ]
    },
    {
     "name": "stdout",
     "output_type": "stream",
     "text": [
      "[reRank_relations]: tell me Original Public Ivy that chairperson Carol Folt begins with letter c \n",
      "SPARQL Requests Made: 496 \n",
      "SPARQL Requests Total Time: 359.73304271698 \n",
      "SPARQL Avg Time per Qn: 0.7252682312842338\n"
     ]
    },
    {
     "name": "stdout",
     "output_type": "stream",
     "text": [
      "[reRank_relations]: tell me Original Public Ivy that chairperson Carol Folt begins with letter c \n",
      "SPARQL Requests Made: 298 \n",
      "SPARQL Requests Total Time: 216.72643852233887 \n",
      "SPARQL Avg Time per Qn: 0.7272699279273116\n"
     ]
    },
    {
     "name": "stdout",
     "output_type": "stream",
     "text": [
      "[reRank_relations]: on the HBO series Sex and the City what is the name of Kristen Davis character \n",
      "SPARQL Requests Made: 688 \n",
      "SPARQL Requests Total Time: 498.2875118255615 \n",
      "SPARQL Avg Time per Qn: 0.7242551043976185\n"
     ]
    },
    {
     "name": "stdout",
     "output_type": "stream",
     "text": [
      "Index error, no label found for\n",
      "wd::Q4272329\n"
     ]
    },
    {
     "name": "stdout",
     "output_type": "stream",
     "text": [
      "Index error, no label found for\n",
      "wd::Q910115\n"
     ]
    },
    {
     "name": "stdout",
     "output_type": "stream",
     "text": [
      "Index error, no label found for\n",
      "wd::Q2902182\n"
     ]
    },
    {
     "name": "stdout",
     "output_type": "stream",
     "text": [
      "Index error, no label found for\n",
      "wd::Q5100487\n"
     ]
    },
    {
     "name": "stdout",
     "output_type": "stream",
     "text": [
      "Link batch time: 1715.6711769104004\n",
      "Anno batch time: 580.0406587123871\n",
      "Conv batch time: 0.008797883987426758\n",
      "Pipeline iter 150\n",
      "Pipeline iter 151\n",
      "Pipeline iter 152\n",
      "Pipeline iter 153\n",
      "Pipeline iter 154\n",
      "Pipeline iter 155\n",
      "Pipeline iter 156\n",
      "Pipeline iter 157\n",
      "Pipeline iter 158\n",
      "Pipeline iter 159\n",
      "Pipeline iter 160\n",
      "Pipeline iter 161\n",
      "Pipeline iter 162\n",
      "Pipeline iter 163\n",
      "Pipeline iter 164\n",
      "Pipeline iter 165\n",
      "Pipeline iter 166\n",
      "Pipeline iter 167\n",
      "Pipeline iter 168\n",
      "Pipeline iter 169\n",
      "Pipeline iter 170\n",
      "Pipeline iter 171\n",
      "Pipeline iter 172\n",
      "Pipeline iter 173\n",
      "Pipeline iter 174\n",
      "Pipeline iter 175\n",
      "Pipeline iter 176\n",
      "Pipeline iter 177\n",
      "Pipeline iter 178\n",
      "Pipeline iter 179\n",
      "Pipeline iter 180\n",
      "Pipeline iter 181\n",
      "Pipeline iter 182\n",
      "Pipeline iter 183\n",
      "Pipeline iter 184\n",
      "Pipeline iter 185\n",
      "Pipeline iter 186\n",
      "Pipeline iter 187\n",
      "Pipeline iter 188\n",
      "Pipeline iter 189\n",
      "Pipeline iter 190\n",
      "Pipeline iter 191\n",
      "Pipeline iter 192\n",
      "Pipeline iter 193\n",
      "Pipeline iter 194\n",
      "Pipeline iter 195\n",
      "Pipeline iter 196\n",
      "Pipeline iter 197\n",
      "Pipeline iter 198\n",
      "Pipeline iter 199\n",
      "[Pipeline1]: Linking 149-199\n",
      "151 : ['They got how many Tony Awards?']\n",
      "151 : ['Tell me what is in or near the water near Sydney.']\n",
      "151 : ['John of England had a wife, Countess Isabel of Glouchester, during what time period?']\n",
      "151 : ['B. B. Ruler kicked the bucket from a stroke in his brain.']\n",
      "151 : ['What is the LibraryThing work ID of Ajax?']\n",
      "151 : ['Who is the girl within the melodic The Beat That My Heart Skipped']\n",
      "151 : ['What are the Avion which begin with the letter washington']\n",
      "151 : ['At which point in time did Melbourne have a population of 4529500?']\n",
      "151 : ['Can you tell distributor of BP?']\n",
      "151 : ['Which sister city of Burlington contains a district situate held by Yarosla Oblast?']\n",
      "151 : ['Tell me when Astrid Lindgren received an award as Zilveren Griffel?']\n",
      "151 : ['When did grant gotten of Craftsmanship Tatum and winner?']\n",
      "151 : ['WHICH IS THE ROCK BAND THAT BEGINS WITH Y']\n",
      "151 : ['What is the taxon mother or father of archosaur, whose vernacular title is クルロタルシ類?']\n",
      "151 : ['What date will the secretary general of the North Atlantic Treaty Organization no longer be Paul-Henri Spaak?']\n",
      "151 : ['What was once the start and finish time of the Boeing 747 which was operated by means of Air Algerie?']\n",
      "151 : ['On January 1, 1999, what was Mikhail Kalashnikovs military rank?']\n",
      "151 : ['Give me the names of Athenas children?']\n",
      "151 : ['Does Diplo participate with Skrillex and Sanjoy?']\n",
      "151 : ['For how long did Joseph Liouville belong to the FNA?']\n",
      "151 : ['What electronegativity gas did Andre-Marie Ampere discover?']\n",
      "151 : ['What was the jurisdiction and location of Matthias Corvinus which was an event as coronation?']\n",
      "151 : ['Who is utilizing Lockheed Martin ?']\n",
      "151 : ['which chemical compound has the easiest kinematic viscosity?']\n",
      "151 : ['What is the etymology of the CNO cycle that has a date of discovery as 1772-0-0?']\n",
      "151 : ['What towns has Dorian Leigh worked?']\n",
      "151 : ['Specify the inverse quantum component of rudimentary particle.']\n",
      "151 : ['What is the Cessna 172 Skyhawks total fertility rate for operators?']\n",
      "151 : ['Is 9 equal to the number of victims of the killer Francis Heaulme?']\n",
      "151 : ['What was Paul van Dyks second language?']\n",
      "151 : ['The atomic nucleus has how many studies?']\n",
      "151 : ['Title a dead dialect that contains the word norn in its name']\n"
     ]
    },
    {
     "name": "stdout",
     "output_type": "stream",
     "text": [
      "[reRank_relations]: who is utilizing Lockheed Martin  \n",
      "SPARQL Requests Made: 0 \n",
      "SPARQL Requests Total Time: 0 \n",
      "SPARQL Avg Time per Qn: 0\n",
      "[reRank_relations]: who is utilizing Lockheed Martin  \n",
      "SPARQL Requests Made: 0 \n",
      "SPARQL Requests Total Time: 0 \n",
      "SPARQL Avg Time per Qn: 0\n",
      "152 : ['Para has how much jurisdiction applied?']\n"
     ]
    },
    {
     "name": "stdout",
     "output_type": "stream",
     "text": [
      "[reRank_relations]: what was Paul van Dyks second language \n",
      "SPARQL Requests Made: 1 \n",
      "SPARQL Requests Total Time: 0.7715859413146973 \n",
      "SPARQL Avg Time per Qn: 0.7715859413146973\n"
     ]
    },
    {
     "name": "stdout",
     "output_type": "stream",
     "text": [
      "153 : ['What is the Glucan with the most noteworthy least hazardous concentration whose has portion is hydrogen?']\n",
      "[reRank_relations]: what was Paul van Dyks second language \n",
      "SPARQL Requests Made: 1 \n",
      "SPARQL Requests Total Time: 0.830540657043457 \n",
      "SPARQL Avg Time per Qn: 0.830540657043457\n",
      "154 : ['Which is the buyer cost file expansion rate of the province situate of Yamoussoukro?']\n"
     ]
    },
    {
     "name": "stdout",
     "output_type": "stream",
     "text": [
      "155 : ['What is the catalog  of traditional Chinese characters for writing system']\n",
      "156 : ['What is BFI-Filmography ID for Sven Nykvist?']\n"
     ]
    },
    {
     "name": "stdout",
     "output_type": "stream",
     "text": [
      "[reRank_relations]: they got how many Tony Awards \n",
      "SPARQL Requests Made: 3 \n",
      "SPARQL Requests Total Time: 2.4689109325408936 \n",
      "SPARQL Avg Time per Qn: 0.8229703108469645\n",
      "[reRank_relations]: they got how many Tony Awards \n",
      "SPARQL Requests Made: 0 \n",
      "SPARQL Requests Total Time: 0 \n",
      "SPARQL Avg Time per Qn: 0\n",
      "157 : ['What actor from The Truman Show used to be skilled at the Peabody Institute?']\n",
      "158 : ['who was john lennons killer?']\n",
      "159 : ['What advisor was melodic score Piano Sonata No.3 by?']\n"
     ]
    },
    {
     "name": "stdout",
     "output_type": "stream",
     "text": [
      "160 : ['What preceded London Calling in the same literary genre of people punk?']\n",
      "161 : ['Kevin Kline was nominated for what in 1991?']\n"
     ]
    },
    {
     "name": "stdout",
     "output_type": "stream",
     "text": [
      "[reRank_relations]: who was john lennons killer \n",
      "SPARQL Requests Made: 1 \n",
      "SPARQL Requests Total Time: 0.7383213043212891 \n",
      "SPARQL Avg Time per Qn: 0.7383213043212891\n"
     ]
    },
    {
     "name": "stdout",
     "output_type": "stream",
     "text": [
      "[reRank_relations]: who is the girl within the melodic The Beat That My Heart Skipped \n",
      "SPARQL Requests Made: 0 \n",
      "SPARQL Requests Total Time: 0 \n",
      "SPARQL Avg Time per Qn: 0\n",
      "162 : ['What award did Ellen DeGeneres receive in 2012-1-1?']\n"
     ]
    },
    {
     "name": "stdout",
     "output_type": "stream",
     "text": [
      "[reRank_relations]: who was john lennons killer \n",
      "SPARQL Requests Made: 1 \n",
      "SPARQL Requests Total Time: 0.7320194244384766 \n",
      "SPARQL Avg Time per Qn: 0.7320194244384766\n",
      "163 : ['What is Romes cultural state?']\n",
      "[reRank_relations]: at which point in time did Melbourne have a population of 4529500 \n",
      "SPARQL Requests Made: 2 \n",
      "SPARQL Requests Total Time: 1.4054031372070312 \n",
      "SPARQL Avg Time per Qn: 0.7027015686035156\n",
      "164 : ['Which is the {hair color} and the {eye color} of {Hilary_Swank} ?']\n"
     ]
    },
    {
     "name": "stdout",
     "output_type": "stream",
     "text": [
      "165 : ['Who is responsible for the citation found in Beardsley?']\n",
      "166 : ['What fields are created by Chef Boyardee?']\n"
     ]
    },
    {
     "name": "stdout",
     "output_type": "stream",
     "text": [
      "167 : ['Mention of the year and the reason for the removal of John Hume while serving as a member of the 1st Assembly of Northern Ireland']\n"
     ]
    },
    {
     "name": "stdout",
     "output_type": "stream",
     "text": [
      "[reRank_relations]: what fields are created by Chef Boyardee \n",
      "SPARQL Requests Made: 3 \n",
      "SPARQL Requests Total Time: 2.179914951324463 \n",
      "SPARQL Avg Time per Qn: 0.7266383171081543\n"
     ]
    },
    {
     "name": "stdout",
     "output_type": "stream",
     "text": [
      "[reRank_relations]: what date will the secretary general of the North Atlantic Treaty Organization no longer be Paul-Henri Spaak \n",
      "SPARQL Requests Made: 5 \n",
      "SPARQL Requests Total Time: 3.575124502182007 \n",
      "SPARQL Avg Time per Qn: 0.7150249004364013\n"
     ]
    },
    {
     "name": "stdout",
     "output_type": "stream",
     "text": [
      "[reRank_relations]: the atomic nucleus has how many studies \n",
      "SPARQL Requests Made: 10 \n",
      "SPARQL Requests Total Time: 7.424888610839844 \n",
      "SPARQL Avg Time per Qn: 0.7424888610839844\n",
      "168 : ['WHICH DISPUTED TERRITORY STARTS WITH THE LETTER T']\n"
     ]
    },
    {
     "name": "stdout",
     "output_type": "stream",
     "text": [
      "[reRank_relations]: which is the buyer cost file expansion rate of the province situate of Yamoussoukro \n",
      "SPARQL Requests Made: 9 \n",
      "SPARQL Requests Total Time: 6.5454161167144775 \n",
      "SPARQL Avg Time per Qn: 0.7272684574127197\n",
      "169 : ['Which academic college library currently houses the largest collection?']\n"
     ]
    },
    {
     "name": "stdout",
     "output_type": "stream",
     "text": [
      "[reRank_relations]: for how long did Joseph Liouville belong to the FNA \n",
      "SPARQL Requests Made: 17 \n",
      "SPARQL Requests Total Time: 12.699241876602173 \n",
      "SPARQL Avg Time per Qn: 0.747014228035422\n"
     ]
    },
    {
     "name": "stdout",
     "output_type": "stream",
     "text": [
      "[reRank_relations]: what towns has Dorian Leigh worked \n",
      "SPARQL Requests Made: 20 \n",
      "SPARQL Requests Total Time: 14.29688286781311 \n",
      "SPARQL Avg Time per Qn: 0.7148441433906555\n",
      "[reRank_relations]: what towns has Dorian Leigh worked \n",
      "SPARQL Requests Made: 0 \n",
      "SPARQL Requests Total Time: 0 \n",
      "SPARQL Avg Time per Qn: 0\n"
     ]
    },
    {
     "name": "stdout",
     "output_type": "stream",
     "text": [
      "[reRank_relations]: what date will the secretary general of the North Atlantic Treaty Organization no longer be Paul-Henri Spaak \n",
      "SPARQL Requests Made: 15 \n",
      "SPARQL Requests Total Time: 11.068299531936646 \n",
      "SPARQL Avg Time per Qn: 0.737886635462443\n"
     ]
    },
    {
     "name": "stdout",
     "output_type": "stream",
     "text": [
      "[reRank_relations]: what is the etymology of the CNO cycle that has a date of discovery as 1772-0-0 \n",
      "SPARQL Requests Made: 22 \n",
      "SPARQL Requests Total Time: 15.838789939880371 \n",
      "SPARQL Avg Time per Qn: 0.7199449972672896\n"
     ]
    },
    {
     "name": "stdout",
     "output_type": "stream",
     "text": [
      "[reRank_relations]: is 9 equal to the number of victims of the killer Francis Heaulme \n",
      "SPARQL Requests Made: 22 \n",
      "SPARQL Requests Total Time: 15.739351034164429 \n",
      "SPARQL Avg Time per Qn: 0.715425047007474\n"
     ]
    },
    {
     "name": "stdout",
     "output_type": "stream",
     "text": [
      "[reRank_relations]: john of England had a wife, Countess Isabel of Glouchester, during what time period \n",
      "SPARQL Requests Made: 31 \n",
      "SPARQL Requests Total Time: 22.40111994743347 \n",
      "SPARQL Avg Time per Qn: 0.7226167724978539\n"
     ]
    },
    {
     "name": "stdout",
     "output_type": "stream",
     "text": [
      "[reRank_relations]: what was the jurisdiction and location of Matthias Corvinus which was an event as Coronation \n",
      "SPARQL Requests Made: 30 \n",
      "SPARQL Requests Total Time: 21.572806358337402 \n",
      "SPARQL Avg Time per Qn: 0.7190935452779134\n"
     ]
    },
    {
     "name": "stdout",
     "output_type": "stream",
     "text": [
      "[reRank_relations]: what advisor was melodic score Piano Sonata No3 by \n",
      "SPARQL Requests Made: 30 \n",
      "SPARQL Requests Total Time: 21.674344778060913 \n",
      "SPARQL Avg Time per Qn: 0.7224781592686971\n"
     ]
    },
    {
     "name": "stdout",
     "output_type": "stream",
     "text": [
      "[reRank_relations]: what preceded London Calling in the same literary genre of people punk \n",
      "SPARQL Requests Made: 37 \n",
      "SPARQL Requests Total Time: 26.843977689743042 \n",
      "SPARQL Avg Time per Qn: 0.7255129105335957\n",
      "[reRank_relations]: for how long did Joseph Liouville belong to the FNA \n",
      "SPARQL Requests Made: 22 \n",
      "SPARQL Requests Total Time: 15.809898614883423 \n",
      "SPARQL Avg Time per Qn: 0.7186317552219738\n",
      "[reRank_relations]: for how long did Joseph Liouville belong to the FNA \n",
      "SPARQL Requests Made: 0 \n",
      "SPARQL Requests Total Time: 0 \n",
      "SPARQL Avg Time per Qn: 0\n"
     ]
    },
    {
     "name": "stdout",
     "output_type": "stream",
     "text": [
      "[reRank_relations]: give me the names of Athenas children \n",
      "SPARQL Requests Made: 48 \n",
      "SPARQL Requests Total Time: 34.754586935043335 \n",
      "SPARQL Avg Time per Qn: 0.7240538944800695\n"
     ]
    },
    {
     "name": "stdout",
     "output_type": "stream",
     "text": [
      "[reRank_relations]: kevin Kline was nominated for what in 1991 \n",
      "SPARQL Requests Made: 46 \n",
      "SPARQL Requests Total Time: 33.22275233268738 \n",
      "SPARQL Avg Time per Qn: 0.722233746362769\n"
     ]
    },
    {
     "name": "stdout",
     "output_type": "stream",
     "text": [
      "[reRank_relations]: what was the jurisdiction and location of Matthias Corvinus which was an event as Coronation \n",
      "SPARQL Requests Made: 20 \n",
      "SPARQL Requests Total Time: 14.396760940551758 \n",
      "SPARQL Avg Time per Qn: 0.7198380470275879\n"
     ]
    },
    {
     "name": "stdout",
     "output_type": "stream",
     "text": [
      "[reRank_relations]: john of England had a wife, Countess Isabel of Glouchester, during what time period \n",
      "SPARQL Requests Made: 31 \n",
      "SPARQL Requests Total Time: 22.382944345474243 \n",
      "SPARQL Avg Time per Qn: 0.7220304627572337\n"
     ]
    },
    {
     "name": "stdout",
     "output_type": "stream",
     "text": [
      "[reRank_relations]: what are the Avion which begin with the letter washington \n",
      "SPARQL Requests Made: 60 \n",
      "SPARQL Requests Total Time: 43.291016578674316 \n",
      "SPARQL Avg Time per Qn: 0.7215169429779053\n"
     ]
    },
    {
     "name": "stdout",
     "output_type": "stream",
     "text": [
      "[reRank_relations]: when did grant gotten of Craftsmanship Tatum and winner \n",
      "SPARQL Requests Made: 61 \n",
      "SPARQL Requests Total Time: 44.61359262466431 \n",
      "SPARQL Avg Time per Qn: 0.7313703708961362\n"
     ]
    },
    {
     "name": "stdout",
     "output_type": "stream",
     "text": [
      "[reRank_relations]: what is the etymology of the CNO cycle that has a date of discovery as 1772-0-0 \n",
      "SPARQL Requests Made: 44 \n",
      "SPARQL Requests Total Time: 31.824442148208618 \n",
      "SPARQL Avg Time per Qn: 0.7232827760956504\n"
     ]
    },
    {
     "name": "stdout",
     "output_type": "stream",
     "text": [
      "[reRank_relations]: title a dead dialect that contains the word norn in its name \n",
      "SPARQL Requests Made: 66 \n",
      "SPARQL Requests Total Time: 47.70012283325195 \n",
      "SPARQL Avg Time per Qn: 0.7227291338371508\n"
     ]
    },
    {
     "name": "stdout",
     "output_type": "stream",
     "text": [
      "[reRank_relations]: tell me when Astrid Lindgren received an award as Zilveren Griffel \n",
      "SPARQL Requests Made: 66 \n",
      "SPARQL Requests Total Time: 47.91914439201355 \n",
      "SPARQL Avg Time per Qn: 0.7260476423032356\n"
     ]
    },
    {
     "name": "stdout",
     "output_type": "stream",
     "text": [
      "[reRank_relations]: title a dead dialect that contains the word norn in its name \n",
      "SPARQL Requests Made: 6 \n",
      "SPARQL Requests Total Time: 4.3897950649261475 \n",
      "SPARQL Avg Time per Qn: 0.7316325108210245\n"
     ]
    },
    {
     "name": "stdout",
     "output_type": "stream",
     "text": [
      "[reRank_relations]: which sister city of Burlington contains a district situate held by Yarosla Oblast \n",
      "SPARQL Requests Made: 79 \n",
      "SPARQL Requests Total Time: 57.574971437454224 \n",
      "SPARQL Avg Time per Qn: 0.7287971068032181\n"
     ]
    },
    {
     "name": "stdout",
     "output_type": "stream",
     "text": [
      "[reRank_relations]: what is the LibraryThing work ID of Ajax \n",
      "SPARQL Requests Made: 93 \n",
      "SPARQL Requests Total Time: 67.64277148246765 \n",
      "SPARQL Avg Time per Qn: 0.7273416288437382\n"
     ]
    },
    {
     "name": "stdout",
     "output_type": "stream",
     "text": [
      "[reRank_relations]: when did grant gotten of Craftsmanship Tatum and winner \n",
      "SPARQL Requests Made: 33 \n",
      "SPARQL Requests Total Time: 23.999971389770508 \n",
      "SPARQL Avg Time per Qn: 0.727271860296076\n",
      "[reRank_relations]: when did grant gotten of Craftsmanship Tatum and winner \n",
      "SPARQL Requests Made: 0 \n",
      "SPARQL Requests Total Time: 0 \n",
      "SPARQL Avg Time per Qn: 0\n"
     ]
    },
    {
     "name": "stdout",
     "output_type": "stream",
     "text": [
      "[reRank_relations]: what fields are created by Chef Boyardee \n",
      "SPARQL Requests Made: 94 \n",
      "SPARQL Requests Total Time: 68.44307470321655 \n",
      "SPARQL Avg Time per Qn: 0.7281178159916655\n"
     ]
    },
    {
     "name": "stdout",
     "output_type": "stream",
     "text": [
      "[reRank_relations]: what actor from The Truman Show used to be skilled at the Peabody Institute \n",
      "SPARQL Requests Made: 100 \n",
      "SPARQL Requests Total Time: 72.68504095077515 \n",
      "SPARQL Avg Time per Qn: 0.7268504095077515\n"
     ]
    },
    {
     "name": "stdout",
     "output_type": "stream",
     "text": [
      "[reRank_relations]: what award did Ellen DeGeneres receive in 2012-1-1 \n",
      "SPARQL Requests Made: 122 \n",
      "SPARQL Requests Total Time: 88.45519876480103 \n",
      "SPARQL Avg Time per Qn: 0.7250426128262379\n"
     ]
    },
    {
     "name": "stdout",
     "output_type": "stream",
     "text": [
      "[reRank_relations]: what is the etymology of the CNO cycle that has a date of discovery as 1772-0-0 \n",
      "SPARQL Requests Made: 90 \n",
      "SPARQL Requests Total Time: 65.2449221611023 \n",
      "SPARQL Avg Time per Qn: 0.7249435795678033\n"
     ]
    },
    {
     "name": "stdout",
     "output_type": "stream",
     "text": [
      "[reRank_relations]: can you tell distributor of BP \n",
      "SPARQL Requests Made: 159 \n",
      "SPARQL Requests Total Time: 115.11784982681274 \n",
      "SPARQL Avg Time per Qn: 0.7240116341308978\n"
     ]
    },
    {
     "name": "stdout",
     "output_type": "stream",
     "text": [
      "[reRank_relations]: wHICH DISPUTED TERRITORY STARTS WITH THE LETTER T \n",
      "SPARQL Requests Made: 176 \n",
      "SPARQL Requests Total Time: 127.39258694648743 \n",
      "SPARQL Avg Time per Qn: 0.7238215167414058\n"
     ]
    },
    {
     "name": "stdout",
     "output_type": "stream",
     "text": [
      "[reRank_relations]: what was the jurisdiction and location of Matthias Corvinus which was an event as Coronation \n",
      "SPARQL Requests Made: 152 \n",
      "SPARQL Requests Total Time: 110.31879091262817 \n",
      "SPARQL Avg Time per Qn: 0.7257815191620275\n"
     ]
    },
    {
     "name": "stdout",
     "output_type": "stream",
     "text": [
      "[reRank_relations]: para has how much jurisdiction applied \n",
      "SPARQL Requests Made: 210 \n",
      "SPARQL Requests Total Time: 152.2086853981018 \n",
      "SPARQL Avg Time per Qn: 0.7248032638004848\n"
     ]
    },
    {
     "name": "stdout",
     "output_type": "stream",
     "text": [
      "[reRank_relations]: tell me when Astrid Lindgren received an award as Zilveren Griffel \n",
      "SPARQL Requests Made: 146 \n",
      "SPARQL Requests Total Time: 105.75369071960449 \n",
      "SPARQL Avg Time per Qn: 0.7243403473945513\n"
     ]
    },
    {
     "name": "stdout",
     "output_type": "stream",
     "text": [
      "[reRank_relations]: para has how much jurisdiction applied \n",
      "SPARQL Requests Made: 15 \n",
      "SPARQL Requests Total Time: 10.843155145645142 \n",
      "SPARQL Avg Time per Qn: 0.722877009709676\n"
     ]
    },
    {
     "name": "stdout",
     "output_type": "stream",
     "text": [
      "[reRank_relations]: on January 1, 1999, what was Mikhail Kalashnikovs military rank \n",
      "SPARQL Requests Made: 226 \n",
      "SPARQL Requests Total Time: 163.63655161857605 \n",
      "SPARQL Avg Time per Qn: 0.7240555381352922\n"
     ]
    },
    {
     "name": "stdout",
     "output_type": "stream",
     "text": [
      "[reRank_relations]: what is the catalog  of traditional Chinese characters for writing system \n",
      "SPARQL Requests Made: 235 \n",
      "SPARQL Requests Total Time: 169.96396207809448 \n",
      "SPARQL Avg Time per Qn: 0.7232509024599765\n"
     ]
    },
    {
     "name": "stdout",
     "output_type": "stream",
     "text": [
      "[reRank_relations]: which academic college library currently houses the largest collection \n",
      "SPARQL Requests Made: 246 \n",
      "SPARQL Requests Total Time: 178.19036602973938 \n",
      "SPARQL Avg Time per Qn: 0.7243510814217048\n"
     ]
    },
    {
     "name": "stdout",
     "output_type": "stream",
     "text": [
      "[reRank_relations]: what award did Ellen DeGeneres receive in 2012-1-1 \n",
      "SPARQL Requests Made: 136 \n",
      "SPARQL Requests Total Time: 98.49984574317932 \n",
      "SPARQL Avg Time per Qn: 0.7242635716410244\n",
      "[reRank_relations]: what award did Ellen DeGeneres receive in 2012-1-1 \n",
      "SPARQL Requests Made: 0 \n",
      "SPARQL Requests Total Time: 0 \n",
      "SPARQL Avg Time per Qn: 0\n"
     ]
    },
    {
     "name": "stdout",
     "output_type": "stream",
     "text": [
      "[reRank_relations]: can you tell distributor of BP \n",
      "SPARQL Requests Made: 105 \n",
      "SPARQL Requests Total Time: 76.17260217666626 \n",
      "SPARQL Avg Time per Qn: 0.7254533540634882\n"
     ]
    },
    {
     "name": "stdout",
     "output_type": "stream",
     "text": [
      "[reRank_relations]: for how long did Joseph Liouville belong to the FNA \n",
      "SPARQL Requests Made: 225 \n",
      "SPARQL Requests Total Time: 163.39189386367798 \n",
      "SPARQL Avg Time per Qn: 0.72618619494968\n"
     ]
    },
    {
     "name": "stdout",
     "output_type": "stream",
     "text": [
      "[reRank_relations]: b B Ruler kicked the bucket from a stroke in his brain \n",
      "SPARQL Requests Made: 264 \n",
      "SPARQL Requests Total Time: 191.4921555519104 \n",
      "SPARQL Avg Time per Qn: 0.7253490740602667\n"
     ]
    },
    {
     "name": "stdout",
     "output_type": "stream",
     "text": [
      "[reRank_relations]: what preceded London Calling in the same literary genre of people punk \n",
      "SPARQL Requests Made: 227 \n",
      "SPARQL Requests Total Time: 164.6519820690155 \n",
      "SPARQL Avg Time per Qn: 0.725339128057337\n",
      "[reRank_relations]: what preceded London Calling in the same literary genre of people punk \n",
      "SPARQL Requests Made: 0 \n",
      "SPARQL Requests Total Time: 0 \n",
      "SPARQL Avg Time per Qn: 0\n"
     ]
    },
    {
     "name": "stdout",
     "output_type": "stream",
     "text": [
      "[reRank_relations]: what preceded London Calling in the same literary genre of people punk \n",
      "SPARQL Requests Made: 4 \n",
      "SPARQL Requests Total Time: 3.1251604557037354 \n",
      "SPARQL Avg Time per Qn: 0.7812901139259338\n"
     ]
    },
    {
     "name": "stdout",
     "output_type": "stream",
     "text": [
      "[reRank_relations]: what is the catalog  of traditional Chinese characters for writing system \n",
      "SPARQL Requests Made: 46 \n",
      "SPARQL Requests Total Time: 33.31147217750549 \n",
      "SPARQL Avg Time per Qn: 0.7241624386414237\n"
     ]
    },
    {
     "name": "stdout",
     "output_type": "stream",
     "text": [
      "[reRank_relations]: title a dead dialect that contains the word norn in its name \n",
      "SPARQL Requests Made: 226 \n",
      "SPARQL Requests Total Time: 163.66536259651184 \n",
      "SPARQL Avg Time per Qn: 0.724183020338548\n"
     ]
    },
    {
     "name": "stdout",
     "output_type": "stream",
     "text": [
      "[reRank_relations]: which sister city of Burlington contains a district situate held by Yarosla Oblast \n",
      "SPARQL Requests Made: 226 \n",
      "SPARQL Requests Total Time: 163.96192264556885 \n",
      "SPARQL Avg Time per Qn: 0.7254952329449949\n"
     ]
    },
    {
     "name": "stdout",
     "output_type": "stream",
     "text": [
      "[reRank_relations]: which sister city of Burlington contains a district situate held by Yarosla Oblast \n",
      "SPARQL Requests Made: 17 \n",
      "SPARQL Requests Total Time: 12.362544775009155 \n",
      "SPARQL Avg Time per Qn: 0.7272085161770091\n",
      "[reRank_relations]: which sister city of Burlington contains a district situate held by Yarosla Oblast \n",
      "SPARQL Requests Made: 0 \n",
      "SPARQL Requests Total Time: 0 \n",
      "SPARQL Avg Time per Qn: 0\n"
     ]
    },
    {
     "name": "stdout",
     "output_type": "stream",
     "text": [
      "[reRank_relations]: title a dead dialect that contains the word norn in its name \n",
      "SPARQL Requests Made: 97 \n",
      "SPARQL Requests Total Time: 70.07418584823608 \n",
      "SPARQL Avg Time per Qn: 0.7224142870952174\n"
     ]
    },
    {
     "name": "stdout",
     "output_type": "stream",
     "text": [
      "[reRank_relations]: when did grant gotten of Craftsmanship Tatum and winner \n",
      "SPARQL Requests Made: 304 \n",
      "SPARQL Requests Total Time: 219.50398755073547 \n",
      "SPARQL Avg Time per Qn: 0.7220525906274193\n"
     ]
    },
    {
     "name": "stdout",
     "output_type": "stream",
     "text": [
      "[reRank_relations]: does Diplo participate with Skrillex and Sanjoy \n",
      "SPARQL Requests Made: 422 \n",
      "SPARQL Requests Total Time: 305.7735240459442 \n",
      "SPARQL Avg Time per Qn: 0.7245818105354128\n",
      "[reRank_relations]: does Diplo participate with Skrillex and Sanjoy \n",
      "SPARQL Requests Made: 0 \n",
      "SPARQL Requests Total Time: 0 \n",
      "SPARQL Avg Time per Qn: 0\n"
     ]
    },
    {
     "name": "stdout",
     "output_type": "stream",
     "text": [
      "[reRank_relations]: does Diplo participate with Skrillex and Sanjoy \n",
      "SPARQL Requests Made: 10 \n",
      "SPARQL Requests Total Time: 7.212739944458008 \n",
      "SPARQL Avg Time per Qn: 0.7212739944458008\n"
     ]
    },
    {
     "name": "stdout",
     "output_type": "stream",
     "text": [
      "[reRank_relations]: does Diplo participate with Skrillex and Sanjoy \n",
      "SPARQL Requests Made: 10 \n",
      "SPARQL Requests Total Time: 7.223426342010498 \n",
      "SPARQL Avg Time per Qn: 0.7223426342010498\n"
     ]
    },
    {
     "name": "stdout",
     "output_type": "stream",
     "text": [
      "[reRank_relations]: on January 1, 1999, what was Mikhail Kalashnikovs military rank \n",
      "SPARQL Requests Made: 226 \n",
      "SPARQL Requests Total Time: 163.65844821929932 \n",
      "SPARQL Avg Time per Qn: 0.724152425749112\n"
     ]
    },
    {
     "name": "stdout",
     "output_type": "stream",
     "text": [
      "[reRank_relations]: who is responsible for the citation found in Beardsley \n",
      "SPARQL Requests Made: 450 \n",
      "SPARQL Requests Total Time: 325.23863983154297 \n",
      "SPARQL Avg Time per Qn: 0.7227525329589843\n"
     ]
    },
    {
     "name": "stdout",
     "output_type": "stream",
     "text": [
      "[reRank_relations]: what was once the start and finish time of the Boeing 747 which was operated by means of Air Algerie \n",
      "SPARQL Requests Made: 491 \n",
      "SPARQL Requests Total Time: 356.15573596954346 \n",
      "SPARQL Avg Time per Qn: 0.7253680976976445\n"
     ]
    },
    {
     "name": "stdout",
     "output_type": "stream",
     "text": [
      "[reRank_relations]: what preceded London Calling in the same literary genre of people punk \n",
      "SPARQL Requests Made: 230 \n",
      "SPARQL Requests Total Time: 166.33261036872864 \n",
      "SPARQL Avg Time per Qn: 0.7231852624727332\n"
     ]
    },
    {
     "name": "stdout",
     "output_type": "stream",
     "text": [
      "[reRank_relations]: wHICH IS THE ROCK BAND THAT BEGINS WITH Y \n",
      "SPARQL Requests Made: 505 \n",
      "SPARQL Requests Total Time: 365.3936023712158 \n",
      "SPARQL Avg Time per Qn: 0.7235516878637938\n"
     ]
    },
    {
     "name": "stdout",
     "output_type": "stream",
     "text": [
      "[reRank_relations]: wHICH DISPUTED TERRITORY STARTS WITH THE LETTER T \n",
      "SPARQL Requests Made: 338 \n",
      "SPARQL Requests Total Time: 244.26152992248535 \n",
      "SPARQL Avg Time per Qn: 0.7226672482913767\n"
     ]
    },
    {
     "name": "stdout",
     "output_type": "stream",
     "text": [
      "[reRank_relations]: mention of the year and the reason for the removal of John Hume while serving as a member of the 1st Assembly of Northern Ireland \n",
      "SPARQL Requests Made: 520 \n",
      "SPARQL Requests Total Time: 376.6909222602844 \n",
      "SPARQL Avg Time per Qn: 0.7244056197313162\n"
     ]
    },
    {
     "name": "stdout",
     "output_type": "stream",
     "text": [
      "[reRank_relations]: what was once the start and finish time of the Boeing 747 which was operated by means of Air Algerie \n",
      "SPARQL Requests Made: 48 \n",
      "SPARQL Requests Total Time: 34.66790986061096 \n",
      "SPARQL Avg Time per Qn: 0.7222481220960617\n"
     ]
    },
    {
     "name": "stdout",
     "output_type": "stream",
     "text": [
      "[reRank_relations]: what was once the start and finish time of the Boeing 747 which was operated by means of Air Algerie \n",
      "SPARQL Requests Made: 49 \n",
      "SPARQL Requests Total Time: 35.68048667907715 \n",
      "SPARQL Avg Time per Qn: 0.7281731975321867\n"
     ]
    },
    {
     "name": "stdout",
     "output_type": "stream",
     "text": [
      "[reRank_relations]: wHICH DISPUTED TERRITORY STARTS WITH THE LETTER T \n",
      "SPARQL Requests Made: 192 \n",
      "SPARQL Requests Total Time: 139.36851239204407 \n",
      "SPARQL Avg Time per Qn: 0.7258776687085629\n"
     ]
    },
    {
     "name": "stdout",
     "output_type": "stream",
     "text": [
      "[reRank_relations]: tell me when Astrid Lindgren received an award as Zilveren Griffel \n",
      "SPARQL Requests Made: 540 \n",
      "SPARQL Requests Total Time: 389.9380946159363 \n",
      "SPARQL Avg Time per Qn: 0.7221075826221042\n",
      "[reRank_relations]: tell me when Astrid Lindgren received an award as Zilveren Griffel \n",
      "SPARQL Requests Made: 0 \n",
      "SPARQL Requests Total Time: 0 \n",
      "SPARQL Avg Time per Qn: 0\n"
     ]
    },
    {
     "name": "stdout",
     "output_type": "stream",
     "text": [
      "[reRank_relations]: mention of the year and the reason for the removal of John Hume while serving as a member of the 1st Assembly of Northern Ireland \n",
      "SPARQL Requests Made: 332 \n",
      "SPARQL Requests Total Time: 241.06433367729187 \n",
      "SPARQL Avg Time per Qn: 0.7260973905942526\n"
     ]
    },
    {
     "name": "stdout",
     "output_type": "stream",
     "text": [
      "[reRank_relations]: what was once the start and finish time of the Boeing 747 which was operated by means of Air Algerie \n",
      "SPARQL Requests Made: 270 \n",
      "SPARQL Requests Total Time: 195.6194977760315 \n",
      "SPARQL Avg Time per Qn: 0.7245166584297463\n"
     ]
    },
    {
     "name": "stdout",
     "output_type": "stream",
     "text": [
      "[reRank_relations]: mention of the year and the reason for the removal of John Hume while serving as a member of the 1st Assembly of Northern Ireland \n",
      "SPARQL Requests Made: 22 \n",
      "SPARQL Requests Total Time: 15.93711543083191 \n",
      "SPARQL Avg Time per Qn: 0.7244143377650868\n"
     ]
    },
    {
     "name": "stdout",
     "output_type": "stream",
     "text": [
      "[reRank_relations]: wHICH DISPUTED TERRITORY STARTS WITH THE LETTER T \n",
      "SPARQL Requests Made: 810 \n",
      "SPARQL Requests Total Time: 587.7358236312866 \n",
      "SPARQL Avg Time per Qn: 0.7255997822608476\n"
     ]
    },
    {
     "name": "stdout",
     "output_type": "stream",
     "text": [
      "Index error, no label found for\n",
      "wd::Q857421\n"
     ]
    },
    {
     "name": "stdout",
     "output_type": "stream",
     "text": [
      "Index error, no label found for\n",
      "wd::Q11698189\n"
     ]
    },
    {
     "name": "stdout",
     "output_type": "stream",
     "text": [
      "Index error, no label found for\n",
      "wd::Q4086980\n"
     ]
    },
    {
     "name": "stdout",
     "output_type": "stream",
     "text": [
      "Link batch time: 2204.4381868839264\n",
      "Anno batch time: 640.4462110996246\n",
      "Conv batch time: 0.009249687194824219\n",
      "Pipeline iter 200\n",
      "Pipeline iter 201\n",
      "Pipeline iter 202\n",
      "Pipeline iter 203\n",
      "Pipeline iter 204\n",
      "Pipeline iter 205\n",
      "Pipeline iter 206\n",
      "Pipeline iter 207\n",
      "Pipeline iter 208\n",
      "Pipeline iter 209\n",
      "Pipeline iter 210\n",
      "Pipeline iter 211\n",
      "Pipeline iter 212\n",
      "Pipeline iter 213\n",
      "Pipeline iter 214\n",
      "Pipeline iter 215\n",
      "Pipeline iter 216\n",
      "Pipeline iter 217\n",
      "Pipeline iter 218\n",
      "Pipeline iter 219\n",
      "Pipeline iter 220\n",
      "Pipeline iter 221\n",
      "Pipeline iter 222\n",
      "Pipeline iter 223\n",
      "Pipeline iter 224\n",
      "Pipeline iter 225\n",
      "Pipeline iter 226\n",
      "Pipeline iter 227\n",
      "Pipeline iter 228\n",
      "Pipeline iter 229\n",
      "Pipeline iter 230\n",
      "Pipeline iter 231\n",
      "Pipeline iter 232\n",
      "Pipeline iter 233\n",
      "Pipeline iter 234\n",
      "Pipeline iter 235\n",
      "Pipeline iter 236\n",
      "Pipeline iter 237\n",
      "Pipeline iter 238\n",
      "Pipeline iter 239\n",
      "Pipeline iter 240\n",
      "Pipeline iter 241\n",
      "Pipeline iter 242\n",
      "Pipeline iter 243\n",
      "Pipeline iter 244\n",
      "Pipeline iter 245\n",
      "Pipeline iter 246\n",
      "Pipeline iter 247\n",
      "Pipeline iter 248\n",
      "Pipeline iter 249\n",
      "[Pipeline1]: Linking 199-249\n",
      "201 : ['Which is the species kept of Chanos chanos?']\n",
      "201 : ['Which is the Japanese military aircraft designation of DC-3?']\n",
      "201 : ['Is the clearance of the Small Belt Bridge more noteworthy than 35.2?']\n",
      "201 : ['What comes some time recently and is created by MultiMediaCard?']\n",
      "201 : ['Which is the epithet which is said to be the same as Apollo?']\n",
      "201 : ['Specify the year in which Jack Ma graduated from college.']\n",
      "201 : ['Which is the BALaT image ID of clergy?']\n",
      "201 : ['When did Umberto succeed Victor?']\n",
      "201 : ['When is the premiere for the upcoming season of Saturday Night Live?']\n",
      "201 : ['Who are the members within the Battle of Greece, which could be a part of the Association for the Disallowance of Chemical Weapons?']\n",
      "201 : ['On what date did Tim Duncan receive the John R. Wooden Award?']\n",
      "201 : ['Which is {border} of {Sichuan}, whose {partner town} is {Suceava} ?']\n",
      "201 : ['What Papal State began in 756?']\n",
      "201 : ['What came after the Lion King in the list of Disney films?']\n",
      "201 : ['Name the time zone that matches Macau.']\n",
      "201 : ['Is the overall administrations of the Joined together States of America break even with to 3.47533162784e+11?']\n",
      "201 : ['Who is the zenith of east java boundaries?']\n",
      "201 : ['In the constellation HD 76700, which part has a moon?']\n",
      "201 : ['Where is the birth put of Straight to the point Capra?']\n",
      "201 : ['What is the vehicle producer that claims Aston Martin that begins with letter C ?']\n",
      "201 : ['For her work on Golden Pond, which award was Katharine Hepburn nominated for?']\n",
      "201 : ['What is ASI Monument ID of Red Fort?']\n",
      "201 : ['Which is the number of the commanders that Erich von Manstein have?']\n",
      "201 : ['Who found Malaria?']\n",
      "201 : ['Let Me know THE Situate OF LEIDEN College Part?']\n",
      "201 : ['Name the empire that was changed by means of the Principality of Serbia that begins with letter E']\n",
      "201 : ['Which are the units sold for PlayStation 2?']\n",
      "201 : ['What WWII weapon had the most noteworthy run?']\n",
      "201 : ['Which is the Beijing executive bodys government']\n",
      "201 : ['What was the street number of the Rue dAntin where the exhibition of Les Demoiselles dAvignon happened?']\n"
     ]
    },
    {
     "name": "stdout",
     "output_type": "stream",
     "text": [
      "201201 : ['What air ship capturing caused the War on Terror?']\n",
      " : ['What is the number of cultures enil has?']\n"
     ]
    },
    {
     "name": "stdout",
     "output_type": "stream",
     "text": [
      "202 : ['Which is the river running into Mindanaos sea?']\n"
     ]
    },
    {
     "name": "stdout",
     "output_type": "stream",
     "text": [
      "[reRank_relations]: which is the BALaT image ID of clergy \n",
      "SPARQL Requests Made: 1 \n",
      "SPARQL Requests Total Time: 0.7915661334991455 \n",
      "SPARQL Avg Time per Qn: 0.7915661334991455\n",
      "203 : ['Let me know the sports group which contains the word world in its name?']\n",
      "[reRank_relations]: which is the Japanese military aircraft designation of DC-3 \n",
      "SPARQL Requests Made: 1 \n",
      "SPARQL Requests Total Time: 0.8658387660980225 \n",
      "SPARQL Avg Time per Qn: 0.8658387660980225\n",
      "204 : ['What did Katherine Dunham study and what was her academic degree in at Chicago University?']\n"
     ]
    },
    {
     "name": "stdout",
     "output_type": "stream",
     "text": [
      "205 : ['What connected purview is adjoining to the Committee of the North?']\n"
     ]
    },
    {
     "name": "stdout",
     "output_type": "stream",
     "text": [
      "206 : ['Jiang Zemin has what number of officeholders?']\n"
     ]
    },
    {
     "name": "stdout",
     "output_type": "stream",
     "text": [
      "207 : ['Which degree did Richland High School give to James Mattis for his academic studies?']\n"
     ]
    },
    {
     "name": "stdout",
     "output_type": "stream",
     "text": [
      "208 : ['What was in Krasnodar before 1934?']\n"
     ]
    },
    {
     "name": "stdout",
     "output_type": "stream",
     "text": [
      "[reRank_relations]: what comes some time recently and is created by MultiMediaCard \n",
      "SPARQL Requests Made: 5 \n",
      "SPARQL Requests Total Time: 3.559293746948242 \n",
      "SPARQL Avg Time per Qn: 0.7118587493896484\n",
      "[reRank_relations]: which degree did Richland High School give to James Mattis for his academic studies \n",
      "SPARQL Requests Made: 2 \n",
      "SPARQL Requests Total Time: 1.4764962196350098 \n",
      "SPARQL Avg Time per Qn: 0.7382481098175049\n",
      "209 : ['Where was Francic Crick from?']\n"
     ]
    },
    {
     "name": "stdout",
     "output_type": "stream",
     "text": [
      "[reRank_relations]: where was Francic Crick from \n",
      "SPARQL Requests Made: 0 \n",
      "SPARQL Requests Total Time: 0 \n",
      "SPARQL Avg Time per Qn: 0\n",
      "210 : ['Who {district situate of} {Musa al-Kadhim} {kicked the bucket} ?']\n"
     ]
    },
    {
     "name": "stdout",
     "output_type": "stream",
     "text": [
      "[reRank_relations]: what was the street number of the Rue dAntin where the exhibition of Les Demoiselles dAvignon happened \n",
      "SPARQL Requests Made: 5 \n",
      "SPARQL Requests Total Time: 3.597254991531372 \n",
      "SPARQL Avg Time per Qn: 0.7194509983062745\n"
     ]
    },
    {
     "name": "stdout",
     "output_type": "stream",
     "text": [
      "[reRank_relations]: which degree did Richland High School give to James Mattis for his academic studies \n",
      "SPARQL Requests Made: 2 \n",
      "SPARQL Requests Total Time: 1.4608306884765625 \n",
      "SPARQL Avg Time per Qn: 0.7304153442382812\n",
      "211 : ['Who advises the architecture firm, Duey and Julia Wright House?']\n"
     ]
    },
    {
     "name": "stdout",
     "output_type": "stream",
     "text": [
      "[reRank_relations]: who {district situate of} {Musa al-Kadhim} {kicked the bucket}  \n",
      "SPARQL Requests Made: 2 \n",
      "SPARQL Requests Total Time: 1.4488508701324463 \n",
      "SPARQL Avg Time per Qn: 0.7244254350662231\n",
      "212 : ['In what year was Jerome Butler APA awarded for Distinguished Scientific Contributions to Psychology?']\n",
      "[reRank_relations]: what is the vehicle producer that claims Aston Martin that begins with letter C  \n",
      "SPARQL Requests Made: 8 \n",
      "SPARQL Requests Total Time: 5.814666509628296 \n",
      "SPARQL Avg Time per Qn: 0.726833313703537\n"
     ]
    },
    {
     "name": "stdout",
     "output_type": "stream",
     "text": [
      "[reRank_relations]: which is the epithet which is said to be the same as Apollo \n",
      "SPARQL Requests Made: 8 \n",
      "SPARQL Requests Total Time: 6.008024215698242 \n",
      "SPARQL Avg Time per Qn: 0.7510030269622803\n"
     ]
    },
    {
     "name": "stdout",
     "output_type": "stream",
     "text": [
      "[reRank_relations]: who is the zenith of east java boundaries \n",
      "SPARQL Requests Made: 11 \n",
      "SPARQL Requests Total Time: 8.197868585586548 \n",
      "SPARQL Avg Time per Qn: 0.745260780507868\n",
      "213 : ['L-phenylalanine is encoded by?']\n"
     ]
    },
    {
     "name": "stdout",
     "output_type": "stream",
     "text": [
      "[reRank_relations]: is the clearance of the Small Belt Bridge more noteworthy than 352 \n",
      "SPARQL Requests Made: 11 \n",
      "SPARQL Requests Total Time: 7.962420225143433 \n",
      "SPARQL Avg Time per Qn: 0.7238563841039484\n",
      "214 : ['Where are domestic animals illegal to hunt?']\n"
     ]
    },
    {
     "name": "stdout",
     "output_type": "stream",
     "text": [
      "[reRank_relations]: what is ASI Monument ID of Red Fort \n",
      "SPARQL Requests Made: 13 \n",
      "SPARQL Requests Total Time: 9.577221632003784 \n",
      "SPARQL Avg Time per Qn: 0.7367093563079834\n",
      "215 : ['what is first-request metaclass contains the command type in their name']\n"
     ]
    },
    {
     "name": "stdout",
     "output_type": "stream",
     "text": [
      "[reRank_relations]: l-phenylalanine is encoded by \n",
      "SPARQL Requests Made: 3 \n",
      "SPARQL Requests Total Time: 2.245007276535034 \n",
      "SPARQL Avg Time per Qn: 0.7483357588450114\n",
      "216 : ['Which award was Stephen J. Gould given on January 1st in the year 2001?']\n"
     ]
    },
    {
     "name": "stdout",
     "output_type": "stream",
     "text": [
      "[reRank_relations]: what came after the Lion King in the list of Disney films \n",
      "SPARQL Requests Made: 16 \n",
      "SPARQL Requests Total Time: 11.537144422531128 \n",
      "SPARQL Avg Time per Qn: 0.7210715264081955\n",
      "217 : ['An artist, guru and a leader; was that Rajneesh?']\n"
     ]
    },
    {
     "name": "stdout",
     "output_type": "stream",
     "text": [
      "[reRank_relations]: what Papal State began in 756 \n",
      "SPARQL Requests Made: 18 \n",
      "SPARQL Requests Total Time: 13.165451049804688 \n",
      "SPARQL Avg Time per Qn: 0.7314139472113715\n",
      "218 : ['Which is the standard time zone for Zaporizhzhya Oblast?']\n"
     ]
    },
    {
     "name": "stdout",
     "output_type": "stream",
     "text": [
      "219 : ['Which is the location of first performance of La traviata?']\n"
     ]
    },
    {
     "name": "stdout",
     "output_type": "stream",
     "text": [
      "[reRank_relations]: which is the epithet which is said to be the same as Apollo \n",
      "SPARQL Requests Made: 15 \n",
      "SPARQL Requests Total Time: 10.78372311592102 \n",
      "SPARQL Avg Time per Qn: 0.7189148743947347\n"
     ]
    },
    {
     "name": "stdout",
     "output_type": "stream",
     "text": [
      "[reRank_relations]: which is the location of first performance of La traviata \n",
      "SPARQL Requests Made: 11 \n",
      "SPARQL Requests Total Time: 7.853384971618652 \n",
      "SPARQL Avg Time per Qn: 0.7139440883289684\n"
     ]
    },
    {
     "name": "stdout",
     "output_type": "stream",
     "text": [
      "[reRank_relations]: on what date did Tim Duncan receive the John R Wooden Award \n",
      "SPARQL Requests Made: 30 \n",
      "SPARQL Requests Total Time: 21.637470245361328 \n",
      "SPARQL Avg Time per Qn: 0.721249008178711\n"
     ]
    },
    {
     "name": "stdout",
     "output_type": "stream",
     "text": [
      "[reRank_relations]: specify the year in which Jack Ma graduated from college \n",
      "SPARQL Requests Made: 31 \n",
      "SPARQL Requests Total Time: 22.307117700576782 \n",
      "SPARQL Avg Time per Qn: 0.7195844419540898\n"
     ]
    },
    {
     "name": "stdout",
     "output_type": "stream",
     "text": [
      "[reRank_relations]: on what date did Tim Duncan receive the John R Wooden Award \n",
      "SPARQL Requests Made: 11 \n",
      "SPARQL Requests Total Time: 7.919376373291016 \n",
      "SPARQL Avg Time per Qn: 0.7199433066628196\n",
      "[reRank_relations]: on what date did Tim Duncan receive the John R Wooden Award \n",
      "SPARQL Requests Made: 0 \n",
      "SPARQL Requests Total Time: 0 \n",
      "SPARQL Avg Time per Qn: 0\n"
     ]
    },
    {
     "name": "stdout",
     "output_type": "stream",
     "text": [
      "[reRank_relations]: what is the number of cultures enil has \n",
      "SPARQL Requests Made: 49 \n",
      "SPARQL Requests Total Time: 35.55448532104492 \n",
      "SPARQL Avg Time per Qn: 0.7256017412458148\n"
     ]
    },
    {
     "name": "stdout",
     "output_type": "stream",
     "text": [
      "[reRank_relations]: what air ship capturing caused the War on Terror \n",
      "SPARQL Requests Made: 50 \n",
      "SPARQL Requests Total Time: 36.00707650184631 \n",
      "SPARQL Avg Time per Qn: 0.7201415300369263\n"
     ]
    },
    {
     "name": "stdout",
     "output_type": "stream",
     "text": [
      "[reRank_relations]: for her work on Golden Pond, which award was Katharine Hepburn nominated for \n",
      "SPARQL Requests Made: 53 \n",
      "SPARQL Requests Total Time: 38.36571145057678 \n",
      "SPARQL Avg Time per Qn: 0.7238813481240902\n"
     ]
    },
    {
     "name": "stdout",
     "output_type": "stream",
     "text": [
      "[reRank_relations]: which is the species kept of Chanos chanos \n",
      "SPARQL Requests Made: 60 \n",
      "SPARQL Requests Total Time: 43.42925143241882 \n",
      "SPARQL Avg Time per Qn: 0.7238208572069804\n"
     ]
    },
    {
     "name": "stdout",
     "output_type": "stream",
     "text": [
      "[reRank_relations]: when is the premiere for the upcoming season of Saturday Night Live \n",
      "SPARQL Requests Made: 60 \n",
      "SPARQL Requests Total Time: 43.40783214569092 \n",
      "SPARQL Avg Time per Qn: 0.7234638690948486\n"
     ]
    },
    {
     "name": "stdout",
     "output_type": "stream",
     "text": [
      "[reRank_relations]: where is the birth put of Straight to the point Capra \n",
      "SPARQL Requests Made: 64 \n",
      "SPARQL Requests Total Time: 46.238138914108276 \n",
      "SPARQL Avg Time per Qn: 0.7224709205329418\n"
     ]
    },
    {
     "name": "stdout",
     "output_type": "stream",
     "text": [
      "[reRank_relations]: which is the river running into Mindanaos sea \n",
      "SPARQL Requests Made: 66 \n",
      "SPARQL Requests Total Time: 47.65192246437073 \n",
      "SPARQL Avg Time per Qn: 0.7219988252177383\n"
     ]
    },
    {
     "name": "stdout",
     "output_type": "stream",
     "text": [
      "[reRank_relations]: where are domestic animals illegal to hunt \n",
      "SPARQL Requests Made: 60 \n",
      "SPARQL Requests Total Time: 43.45089364051819 \n",
      "SPARQL Avg Time per Qn: 0.7241815606753031\n"
     ]
    },
    {
     "name": "stdout",
     "output_type": "stream",
     "text": [
      "[reRank_relations]: when did Umberto succeed Victor \n",
      "SPARQL Requests Made: 75 \n",
      "SPARQL Requests Total Time: 54.47645616531372 \n",
      "SPARQL Avg Time per Qn: 0.7263527488708497\n",
      "[reRank_relations]: when did Umberto succeed Victor \n",
      "SPARQL Requests Made: 0 \n",
      "SPARQL Requests Total Time: 0 \n",
      "SPARQL Avg Time per Qn: 0\n"
     ]
    },
    {
     "name": "stdout",
     "output_type": "stream",
     "text": [
      "[reRank_relations]: which are the units sold for PlayStation 2 \n",
      "SPARQL Requests Made: 77 \n",
      "SPARQL Requests Total Time: 55.67825508117676 \n",
      "SPARQL Avg Time per Qn: 0.7230942218334644\n"
     ]
    },
    {
     "name": "stdout",
     "output_type": "stream",
     "text": [
      "[reRank_relations]: specify the year in which Jack Ma graduated from college \n",
      "SPARQL Requests Made: 50 \n",
      "SPARQL Requests Total Time: 36.35076379776001 \n",
      "SPARQL Avg Time per Qn: 0.7270152759552002\n"
     ]
    },
    {
     "name": "stdout",
     "output_type": "stream",
     "text": [
      "[reRank_relations]: who advises the architecture firm, Duey and Julia Wright House \n",
      "SPARQL Requests Made: 90 \n",
      "SPARQL Requests Total Time: 65.1410722732544 \n",
      "SPARQL Avg Time per Qn: 0.7237896919250488\n"
     ]
    },
    {
     "name": "stdout",
     "output_type": "stream",
     "text": [
      "[reRank_relations]: which award was Stephen J Gould given on January 1st in the year 2001 \n",
      "SPARQL Requests Made: 92 \n",
      "SPARQL Requests Total Time: 66.79693698883057 \n",
      "SPARQL Avg Time per Qn: 0.7260536629220714\n"
     ]
    },
    {
     "name": "stdout",
     "output_type": "stream",
     "text": [
      "[reRank_relations]: let Me know THE Situate OF LEIDEN College Part \n",
      "SPARQL Requests Made: 108 \n",
      "SPARQL Requests Total Time: 78.13725996017456 \n",
      "SPARQL Avg Time per Qn: 0.7234931477793941\n"
     ]
    },
    {
     "name": "stdout",
     "output_type": "stream",
     "text": [
      "[reRank_relations]: when did Umberto succeed Victor \n",
      "SPARQL Requests Made: 41 \n",
      "SPARQL Requests Total Time: 29.58652424812317 \n",
      "SPARQL Avg Time per Qn: 0.7216225426371504\n"
     ]
    },
    {
     "name": "stdout",
     "output_type": "stream",
     "text": [
      "[reRank_relations]: let Me know THE Situate OF LEIDEN College Part \n",
      "SPARQL Requests Made: 12 \n",
      "SPARQL Requests Total Time: 8.682411909103394 \n",
      "SPARQL Avg Time per Qn: 0.7235343257586161\n"
     ]
    },
    {
     "name": "stdout",
     "output_type": "stream",
     "text": [
      "[reRank_relations]: is the overall administrations of the Joined together States of America break even with to 347533162784e+11 \n",
      "SPARQL Requests Made: 120 \n",
      "SPARQL Requests Total Time: 86.56465673446655 \n",
      "SPARQL Avg Time per Qn: 0.7213721394538879\n",
      "[reRank_relations]: is the overall administrations of the Joined together States of America break even with to 347533162784e+11 \n",
      "SPARQL Requests Made: 0 \n",
      "SPARQL Requests Total Time: 0 \n",
      "SPARQL Avg Time per Qn: 0\n"
     ]
    },
    {
     "name": "stdout",
     "output_type": "stream",
     "text": [
      "[reRank_relations]: in what year was Jerome Butler APA awarded for Distinguished Scientific Contributions to Psychology \n",
      "SPARQL Requests Made: 123 \n",
      "SPARQL Requests Total Time: 89.26251363754272 \n",
      "SPARQL Avg Time per Qn: 0.7257114929881522\n"
     ]
    },
    {
     "name": "stdout",
     "output_type": "stream",
     "text": [
      "[reRank_relations]: name the time zone that matches Macau \n",
      "SPARQL Requests Made: 135 \n",
      "SPARQL Requests Total Time: 98.5768768787384 \n",
      "SPARQL Avg Time per Qn: 0.7301990879906548\n"
     ]
    },
    {
     "name": "stdout",
     "output_type": "stream",
     "text": [
      "[reRank_relations]: name the time zone that matches Macau \n",
      "SPARQL Requests Made: 2 \n",
      "SPARQL Requests Total Time: 1.4126813411712646 \n",
      "SPARQL Avg Time per Qn: 0.7063406705856323\n"
     ]
    },
    {
     "name": "stdout",
     "output_type": "stream",
     "text": [
      "[reRank_relations]: name the time zone that matches Macau \n",
      "SPARQL Requests Made: 1 \n",
      "SPARQL Requests Total Time: 0.7279298305511475 \n",
      "SPARQL Avg Time per Qn: 0.7279298305511475\n"
     ]
    },
    {
     "name": "stdout",
     "output_type": "stream",
     "text": [
      "[reRank_relations]: what comes some time recently and is created by MultiMediaCard \n",
      "SPARQL Requests Made: 140 \n",
      "SPARQL Requests Total Time: 101.54860305786133 \n",
      "SPARQL Avg Time per Qn: 0.7253471646990095\n"
     ]
    },
    {
     "name": "stdout",
     "output_type": "stream",
     "text": [
      "[reRank_relations]: what was the street number of the Rue dAntin where the exhibition of Les Demoiselles dAvignon happened \n",
      "SPARQL Requests Made: 148 \n",
      "SPARQL Requests Total Time: 107.45459413528442 \n",
      "SPARQL Avg Time per Qn: 0.726044554968138\n"
     ]
    },
    {
     "name": "stdout",
     "output_type": "stream",
     "text": [
      "[reRank_relations]: who advises the architecture firm, Duey and Julia Wright House \n",
      "SPARQL Requests Made: 58 \n",
      "SPARQL Requests Total Time: 42.310184955596924 \n",
      "SPARQL Avg Time per Qn: 0.7294859475102918\n",
      "[reRank_relations]: who advises the architecture firm, Duey and Julia Wright House \n",
      "SPARQL Requests Made: 0 \n",
      "SPARQL Requests Total Time: 0 \n",
      "SPARQL Avg Time per Qn: 0\n"
     ]
    },
    {
     "name": "stdout",
     "output_type": "stream",
     "text": [
      "[reRank_relations]: for her work on Golden Pond, which award was Katharine Hepburn nominated for \n",
      "SPARQL Requests Made: 102 \n",
      "SPARQL Requests Total Time: 74.30046033859253 \n",
      "SPARQL Avg Time per Qn: 0.7284358856724757\n"
     ]
    },
    {
     "name": "stdout",
     "output_type": "stream",
     "text": [
      "[reRank_relations]: what WWII weapon had the most noteworthy run \n",
      "SPARQL Requests Made: 183 \n",
      "SPARQL Requests Total Time: 132.89854764938354 \n",
      "SPARQL Avg Time per Qn: 0.7262215718545549\n"
     ]
    },
    {
     "name": "stdout",
     "output_type": "stream",
     "text": [
      "[reRank_relations]: what is first-request metaclass contains the command type in their name \n",
      "SPARQL Requests Made: 186 \n",
      "SPARQL Requests Total Time: 134.52254581451416 \n",
      "SPARQL Avg Time per Qn: 0.7232394936264203\n"
     ]
    },
    {
     "name": "stdout",
     "output_type": "stream",
     "text": [
      "[reRank_relations]: who found Malaria \n",
      "SPARQL Requests Made: 225 \n",
      "SPARQL Requests Total Time: 165.35587739944458 \n",
      "SPARQL Avg Time per Qn: 0.7349150106641982\n",
      "[reRank_relations]: who found Malaria \n",
      "SPARQL Requests Made: 0 \n",
      "SPARQL Requests Total Time: 0 \n",
      "SPARQL Avg Time per Qn: 0\n"
     ]
    },
    {
     "name": "stdout",
     "output_type": "stream",
     "text": [
      "[reRank_relations]: which award was Stephen J Gould given on January 1st in the year 2001 \n",
      "SPARQL Requests Made: 157 \n",
      "SPARQL Requests Total Time: 113.8054211139679 \n",
      "SPARQL Avg Time per Qn: 0.7248752937195407\n"
     ]
    },
    {
     "name": "stdout",
     "output_type": "stream",
     "text": [
      "[reRank_relations]: for her work on Golden Pond, which award was Katharine Hepburn nominated for \n",
      "SPARQL Requests Made: 110 \n",
      "SPARQL Requests Total Time: 79.74988651275635 \n",
      "SPARQL Avg Time per Qn: 0.724998968297785\n",
      "[reRank_relations]: for her work on Golden Pond, which award was Katharine Hepburn nominated for \n",
      "SPARQL Requests Made: 0 \n",
      "SPARQL Requests Total Time: 0 \n",
      "SPARQL Avg Time per Qn: 0\n"
     ]
    },
    {
     "name": "stdout",
     "output_type": "stream",
     "text": [
      "[reRank_relations]: let me know the sports group which contains the word world in its name \n",
      "SPARQL Requests Made: 298 \n",
      "SPARQL Requests Total Time: 215.76896405220032 \n",
      "SPARQL Avg Time per Qn: 0.7240569263496655\n"
     ]
    },
    {
     "name": "stdout",
     "output_type": "stream",
     "text": [
      "[reRank_relations]: what air ship capturing caused the War on Terror \n",
      "SPARQL Requests Made: 256 \n",
      "SPARQL Requests Total Time: 187.37928104400635 \n",
      "SPARQL Avg Time per Qn: 0.7319503165781498\n"
     ]
    },
    {
     "name": "stdout",
     "output_type": "stream",
     "text": [
      "[reRank_relations]: in what year was Jerome Butler APA awarded for Distinguished Scientific Contributions to Psychology \n",
      "SPARQL Requests Made: 226 \n",
      "SPARQL Requests Total Time: 163.561119556427 \n",
      "SPARQL Avg Time per Qn: 0.7237217679487921\n"
     ]
    },
    {
     "name": "stdout",
     "output_type": "stream",
     "text": [
      "[reRank_relations]: which is the number of the commanders that Erich von Manstein have \n",
      "SPARQL Requests Made: 450 \n",
      "SPARQL Requests Total Time: 325.56261801719666 \n",
      "SPARQL Avg Time per Qn: 0.7234724844826592\n"
     ]
    },
    {
     "name": "stdout",
     "output_type": "stream",
     "text": [
      "[reRank_relations]: Jiang zemin has what number of officeholders \n",
      "SPARQL Requests Made: 450 \n",
      "SPARQL Requests Total Time: 324.8512842655182 \n",
      "SPARQL Avg Time per Qn: 0.7218917428122626\n"
     ]
    },
    {
     "name": "stdout",
     "output_type": "stream",
     "text": [
      "[reRank_relations]: what did Katherine Dunham study and what was her academic degree in at Chicago University \n",
      "SPARQL Requests Made: 452 \n",
      "SPARQL Requests Total Time: 328.92878699302673 \n",
      "SPARQL Avg Time per Qn: 0.727718555294307\n"
     ]
    },
    {
     "name": "stdout",
     "output_type": "stream",
     "text": [
      "[reRank_relations]: which is the number of the commanders that Erich von Manstein have \n",
      "SPARQL Requests Made: 22 \n",
      "SPARQL Requests Total Time: 15.820798397064209 \n",
      "SPARQL Avg Time per Qn: 0.7191271998665549\n"
     ]
    },
    {
     "name": "stdout",
     "output_type": "stream",
     "text": [
      "[reRank_relations]: let me know the sports group which contains the word world in its name \n",
      "SPARQL Requests Made: 188 \n",
      "SPARQL Requests Total Time: 136.31085848808289 \n",
      "SPARQL Avg Time per Qn: 0.7250577579153344\n"
     ]
    },
    {
     "name": "stdout",
     "output_type": "stream",
     "text": [
      "[reRank_relations]: what did Katherine Dunham study and what was her academic degree in at Chicago University \n",
      "SPARQL Requests Made: 91 \n",
      "SPARQL Requests Total Time: 65.60888195037842 \n",
      "SPARQL Avg Time per Qn: 0.7209767247294332\n"
     ]
    },
    {
     "name": "stdout",
     "output_type": "stream",
     "text": [
      "[reRank_relations]: name the empire that was changed by means of the Principality of Serbia that begins with letter E \n",
      "SPARQL Requests Made: 647 \n",
      "SPARQL Requests Total Time: 470.19530177116394 \n",
      "SPARQL Avg Time per Qn: 0.7267315328766057\n"
     ]
    },
    {
     "name": "stdout",
     "output_type": "stream",
     "text": [
      "[reRank_relations]: what is the vehicle producer that claims Aston Martin that begins with letter C  \n",
      "SPARQL Requests Made: 780 \n",
      "SPARQL Requests Total Time: 567.011839389801 \n",
      "SPARQL Avg Time per Qn: 0.72693825562795\n",
      "[reRank_relations]: what is the vehicle producer that claims Aston Martin that begins with letter C  \n",
      "SPARQL Requests Made: 0 \n",
      "SPARQL Requests Total Time: 0 \n",
      "SPARQL Avg Time per Qn: 0\n"
     ]
    },
    {
     "name": "stdout",
     "output_type": "stream",
     "text": [
      "[reRank_relations]: name the empire that was changed by means of the Principality of Serbia that begins with letter E \n",
      "SPARQL Requests Made: 302 \n",
      "SPARQL Requests Total Time: 218.48369669914246 \n",
      "SPARQL Avg Time per Qn: 0.7234559493349088\n"
     ]
    },
    {
     "name": "stdout",
     "output_type": "stream",
     "text": [
      "[reRank_relations]: name the empire that was changed by means of the Principality of Serbia that begins with letter E \n",
      "SPARQL Requests Made: 79 \n",
      "SPARQL Requests Total Time: 56.84066319465637 \n",
      "SPARQL Avg Time per Qn: 0.719502065755144\n"
     ]
    },
    {
     "name": "stdout",
     "output_type": "stream",
     "text": [
      "[reRank_relations]: name the empire that was changed by means of the Principality of Serbia that begins with letter E \n",
      "SPARQL Requests Made: 270 \n",
      "SPARQL Requests Total Time: 196.71403169631958 \n",
      "SPARQL Avg Time per Qn: 0.7285704877641466\n"
     ]
    },
    {
     "name": "stdout",
     "output_type": "stream",
     "text": [
      "[reRank_relations]: name the empire that was changed by means of the Principality of Serbia that begins with letter E \n",
      "SPARQL Requests Made: 365 \n",
      "SPARQL Requests Total Time: 266.544540643692 \n",
      "SPARQL Avg Time per Qn: 0.7302590154621699\n"
     ]
    },
    {
     "name": "stdout",
     "output_type": "stream",
     "text": [
      "Index error, no label found for\n",
      "wd::Q8068889\n"
     ]
    },
    {
     "name": "stdout",
     "output_type": "stream",
     "text": [
      "Link batch time: 2420.602576494217\n",
      "Anno batch time: 560.9575502872467\n",
      "Conv batch time: 0.008582592010498047\n",
      "Pipeline iter 250\n",
      "Pipeline iter 251\n",
      "Pipeline iter 252\n",
      "Pipeline iter 253\n",
      "Pipeline iter 254\n",
      "Pipeline iter 255\n",
      "Pipeline iter 256\n",
      "Pipeline iter 257\n",
      "Pipeline iter 258\n",
      "Pipeline iter 259\n",
      "Pipeline iter 260\n",
      "Pipeline iter 261\n",
      "Pipeline iter 262\n",
      "Pipeline iter 263\n",
      "Pipeline iter 264\n",
      "Pipeline iter 265\n",
      "Pipeline iter 266\n",
      "Pipeline iter 267\n",
      "Pipeline iter 268\n",
      "Pipeline iter 269\n",
      "Pipeline iter 270\n",
      "Pipeline iter 271\n",
      "Pipeline iter 272\n",
      "Pipeline iter 273\n",
      "Pipeline iter 274\n",
      "Pipeline iter 275\n",
      "Pipeline iter 276\n",
      "Pipeline iter 277\n",
      "Pipeline iter 278\n",
      "Pipeline iter 279\n",
      "Pipeline iter 280\n",
      "Pipeline iter 281\n",
      "Pipeline iter 282\n",
      "Pipeline iter 283\n",
      "Pipeline iter 284\n",
      "Pipeline iter 285\n",
      "Pipeline iter 286\n",
      "Pipeline iter 287\n",
      "Pipeline iter 288\n",
      "Pipeline iter 289\n",
      "Pipeline iter 290\n",
      "Pipeline iter 291\n",
      "Pipeline iter 292\n",
      "Pipeline iter 293\n",
      "Pipeline iter 294\n",
      "Pipeline iter 295\n",
      "Pipeline iter 296\n",
      "Pipeline iter 297\n",
      "Pipeline iter 298\n",
      "Pipeline iter 299\n",
      "[Pipeline1]: Linking 249-299\n",
      "251 : ['which twofold connection begins with the letter s']\n",
      "251 : ['Which is the rotation period for Crab Pulsar?']\n",
      "251 : ['What is the opposite of cisgender?']\n",
      "251 : ['Is the area of vilkhivchik equal to 0?']\n",
      "251 : ['What is in the category of Onyanko Club?']\n",
      "251 : ['On what date did Otto von Bismarck quit as Federal Chancellor?']\n",
      "251 : ['Which aspects of the explosion characteristics of coal dust were investigated by the quantitative explosibility studies at CSIR-CBRI in Roorkee, India, in the process of designing safety measures for coal dust handling?']\n",
      "251 : ['Give me the present time in Turin.']\n"
     ]
    },
    {
     "name": "stdout",
     "output_type": "stream",
     "text": [
      "251 : ['Genetic diseases is studied by which science?']\n",
      "251 : ['What is seat of Mitsubishi UFJ Financial group, that has neighborhood government areas is Yonbancho?']\n",
      "251 : ['Is polyvinyl chloride safe?']\n",
      "251 : ['Give me the name of Peter Paul Rubens employer in September 1609.']\n",
      "251 : ['What work area of Gerolamo Cardano has a surface area of 93.03?']\n",
      "251 : ['Which Netherlands capital has the highest employment by economic sector?']\n",
      "251 : ['The first attempt to rank drivers using a model was in 2009 by Eichenberger and Stadelmann (paper here and pdf here). Without giving too much away, my model agrees with theirs on several of the top ranked drivers. However, many of the previous model’s results don’t pass a sanity check. Ukyo Katayama is ranked ahead of Nigel Mansell, Erik Comas is ranked ahead of Ayrton Senna, Arturo Merzario is ranked ahead of Jack Brabham, Mark Blundell is ranked ahead of Niki Lauda, and Mike Hawthorn is ranked 5th best of all time. Understandably, the model didn’t get a warm reception in online forums.']\n",
      "251 : ['What is the E.T. award? The Extra - Terrestrial received it, and when did he receive it?']\n",
      "251 : ['Who is the admin HQ of the film studio for Dinner for Schmucks?']\n",
      "251 : ['What is Stuttgart Database of Scientific Illustrators ID for Marie Tharp?']\n",
      "251 : ['Which artistic genre for continuity is World of Warcraft: Mists of Pandaria in?']\n",
      "251 : ['who name in official dialect of characters of journey ?']\n",
      "251 : ['WHICH IS THE ORGANIZATION OFANTHEM THAT IS ANTHEM OF EUROPE AND WHICH STARTS WITH C']\n",
      "251 : ['How tall is the advertise capitalisation of the company Paypal ?']\n",
      "251 : ['Provide the ISCO profession code of Lorenz Hartz.']\n",
      "251 : ['State the number of matches Roberto Baggio played for Bologna F.C. 1909 and the number of goals he scored.']\n",
      "251 : ['What united states is Belfast located in, and when was once the town founded?']\n",
      "251 : ['Austria-Hungary was either dissolved, abolished or demolished how may times?']\n",
      "251 : ['THE METHANOL EQUALS 52 THE FLASH POINT']\n",
      "251 : ['What payment types do you accept?']\n",
      "251 : ['In the administrative centre of Joseon, what is the pronunciation audio?']\n",
      "251 : ['What are the money which begin with the letter yen']\n",
      "251 : ['Are Moon and Ahmet Zappa both Frank Zappas kids?']\n",
      "251 : ['Is the topaz mohz hardness 8?']\n"
     ]
    },
    {
     "name": "stdout",
     "output_type": "stream",
     "text": [
      "252 : ['Who wrote  A Brief History of Time by the professor of Dennis W.Sciama?']\n"
     ]
    },
    {
     "name": "stdout",
     "output_type": "stream",
     "text": [
      "253 : ['W.H. Auden and the Pulitzer Prize for Poetry. A transplant from Great Britain wins the hearts and minds of Pulitzer juries. Wystan Hugh Auden, the British poet, moved to the United States in 1939. He taught at the University of Michigan and Swarthmore College during World War II.']\n"
     ]
    },
    {
     "name": "stdout",
     "output_type": "stream",
     "text": [
      "[reRank_relations]: what is the opposite of Cisgender \n",
      "SPARQL Requests Made: 1 \n",
      "SPARQL Requests Total Time: 0.7559762001037598 \n",
      "SPARQL Avg Time per Qn: 0.7559762001037598\n",
      "254 : ['Where does the crocodile rank within the taxon of Crocodylinae?']\n",
      "255 : ['What is the poet ID given by Les Voix de la poésie to Alphonse Daudet?']\n"
     ]
    },
    {
     "name": "stdout",
     "output_type": "stream",
     "text": [
      "256 : ['Which is the asteroid spectral type for 10 Hygiea?']\n"
     ]
    },
    {
     "name": "stdout",
     "output_type": "stream",
     "text": [
      "[reRank_relations]: what is Stuttgart Database of Scientific Illustrators ID for Marie Tharp \n",
      "SPARQL Requests Made: 1 \n",
      "SPARQL Requests Total Time: 0.9645581245422363 \n",
      "SPARQL Avg Time per Qn: 0.9645581245422363\n",
      "[reRank_relations]: what is Stuttgart Database of Scientific Illustrators ID for Marie Tharp \n",
      "SPARQL Requests Made: 0 \n",
      "SPARQL Requests Total Time: 0 \n",
      "SPARQL Avg Time per Qn: 0\n",
      "257 : ['What is ICCF ID for Magnus Carlsen ?']\n"
     ]
    },
    {
     "name": "stdout",
     "output_type": "stream",
     "text": [
      "[reRank_relations]: in the administrative centre of Joseon, what is the pronunciation audio \n",
      "SPARQL Requests Made: 1 \n",
      "SPARQL Requests Total Time: 1.0080721378326416 \n",
      "SPARQL Avg Time per Qn: 1.0080721378326416\n",
      "258 : ['On what date did Yul Brynner receive the Special Tony Award?']\n"
     ]
    },
    {
     "name": "stdout",
     "output_type": "stream",
     "text": [
      "[reRank_relations]: which artistic genre for continuity is World of Warcraft: Mists of Pandaria in \n",
      "SPARQL Requests Made: 1 \n",
      "SPARQL Requests Total Time: 0.7163493633270264 \n",
      "SPARQL Avg Time per Qn: 0.7163493633270264\n"
     ]
    },
    {
     "name": "stdout",
     "output_type": "stream",
     "text": [
      "[reRank_relations]: which artistic genre for continuity is World of Warcraft: Mists of Pandaria in \n",
      "SPARQL Requests Made: 2 \n",
      "SPARQL Requests Total Time: 1.4563002586364746 \n",
      "SPARQL Avg Time per Qn: 0.7281501293182373\n",
      "259 : ['Anna Freud was a citizen of what country in 1946?']\n",
      "[reRank_relations]: who wrote  A Brief History of Time by the professor of Dennis WSciama \n",
      "SPARQL Requests Made: 2 \n",
      "SPARQL Requests Total Time: 1.4474382400512695 \n",
      "SPARQL Avg Time per Qn: 0.7237191200256348\n",
      "260 : ['What logarithmic scaled estimates vitality?']\n"
     ]
    },
    {
     "name": "stdout",
     "output_type": "stream",
     "text": [
      "261 : ['When did arrangement of Within the Disposition for Adore and follows?']\n",
      "262 : ['From what school did William Walker graduate in 1838?']\n"
     ]
    },
    {
     "name": "stdout",
     "output_type": "stream",
     "text": [
      "[reRank_relations]: which is the asteroid spectral type for 10 Hygiea \n",
      "SPARQL Requests Made: 4 \n",
      "SPARQL Requests Total Time: 2.9237678050994873 \n",
      "SPARQL Avg Time per Qn: 0.7309419512748718\n"
     ]
    },
    {
     "name": "stdout",
     "output_type": "stream",
     "text": [
      "[reRank_relations]: what united states is Belfast located in, and when was once the town founded \n",
      "SPARQL Requests Made: 5 \n",
      "SPARQL Requests Total Time: 3.5700502395629883 \n",
      "SPARQL Avg Time per Qn: 0.7140100479125977\n"
     ]
    },
    {
     "name": "stdout",
     "output_type": "stream",
     "text": [
      "[reRank_relations]: is the area of vilkhivchik equal to 0 \n",
      "SPARQL Requests Made: 7 \n",
      "SPARQL Requests Total Time: 4.994530439376831 \n",
      "SPARQL Avg Time per Qn: 0.7135043484824044\n",
      "263 : ['Which is the Linguist list code of Esperanto?']\n"
     ]
    },
    {
     "name": "stdout",
     "output_type": "stream",
     "text": [
      "[reRank_relations]: which is the Linguist list code of Esperanto \n",
      "SPARQL Requests Made: 1 \n",
      "SPARQL Requests Total Time: 0.7706484794616699 \n",
      "SPARQL Avg Time per Qn: 0.7706484794616699\n",
      "264 : ['who is favorite player of doctoral boss of Darius Lakdawalla ?']\n"
     ]
    },
    {
     "name": "stdout",
     "output_type": "stream",
     "text": [
      "[reRank_relations]: provide the ISCO profession code of Lorenz Hartz \n",
      "SPARQL Requests Made: 10 \n",
      "SPARQL Requests Total Time: 7.360975503921509 \n",
      "SPARQL Avg Time per Qn: 0.7360975503921509\n",
      "265 : ['What is the construction material with the lowest operating temperature?']\n"
     ]
    },
    {
     "name": "stdout",
     "output_type": "stream",
     "text": [
      "[reRank_relations]: who is the admin HQ of the film studio for Dinner for Schmucks \n",
      "SPARQL Requests Made: 15 \n",
      "SPARQL Requests Total Time: 10.992797136306763 \n",
      "SPARQL Avg Time per Qn: 0.7328531424204509\n"
     ]
    },
    {
     "name": "stdout",
     "output_type": "stream",
     "text": [
      "[reRank_relations]: who is the admin HQ of the film studio for Dinner for Schmucks \n",
      "SPARQL Requests Made: 1 \n",
      "SPARQL Requests Total Time: 0.7955610752105713 \n",
      "SPARQL Avg Time per Qn: 0.7955610752105713\n",
      "266 : ['How many games did Michael Jordan play as a member of the Chicago Bulls team and how many points did he score?']\n"
     ]
    },
    {
     "name": "stdout",
     "output_type": "stream",
     "text": [
      "[reRank_relations]: give me the name of Peter Paul Rubens employer in September 1609 \n",
      "SPARQL Requests Made: 29 \n",
      "SPARQL Requests Total Time: 20.974680423736572 \n",
      "SPARQL Avg Time per Qn: 0.7232648421978128\n"
     ]
    },
    {
     "name": "stdout",
     "output_type": "stream",
     "text": [
      "[reRank_relations]: on what date did Otto von Bismarck quit as Federal Chancellor \n",
      "SPARQL Requests Made: 30 \n",
      "SPARQL Requests Total Time: 21.739112854003906 \n",
      "SPARQL Avg Time per Qn: 0.7246370951334635\n",
      "[reRank_relations]: what are the money which begin with the letter yen \n",
      "SPARQL Requests Made: 31 \n",
      "SPARQL Requests Total Time: 22.62828016281128 \n",
      "SPARQL Avg Time per Qn: 0.729944521381009\n",
      "267 : ['What is the opposite of the participation event for a girl?']\n"
     ]
    },
    {
     "name": "stdout",
     "output_type": "stream",
     "text": [
      "[reRank_relations]: austria-Hungary was either dissolved, abolished or demolished how may times \n",
      "SPARQL Requests Made: 31 \n",
      "SPARQL Requests Total Time: 22.475250005722046 \n",
      "SPARQL Avg Time per Qn: 0.7250080647007111\n"
     ]
    },
    {
     "name": "stdout",
     "output_type": "stream",
     "text": [
      "[reRank_relations]: on what date did Otto von Bismarck quit as Federal Chancellor \n",
      "SPARQL Requests Made: 6 \n",
      "SPARQL Requests Total Time: 4.344921112060547 \n",
      "SPARQL Avg Time per Qn: 0.7241535186767578\n",
      "[reRank_relations]: on what date did Otto von Bismarck quit as Federal Chancellor \n",
      "SPARQL Requests Made: 0 \n",
      "SPARQL Requests Total Time: 0 \n",
      "SPARQL Avg Time per Qn: 0\n",
      "268 : ['Is mental perplexity a sign or result of lamp fuel?']\n"
     ]
    },
    {
     "name": "stdout",
     "output_type": "stream",
     "text": [
      "269 : ['What is the region of responsibility for the NPR, that has a time of UTC -07:00?']\n"
     ]
    },
    {
     "name": "stdout",
     "output_type": "stream",
     "text": [
      "[reRank_relations]: give me the name of Peter Paul Rubens employer in September 1609 \n",
      "SPARQL Requests Made: 11 \n",
      "SPARQL Requests Total Time: 8.08708667755127 \n",
      "SPARQL Avg Time per Qn: 0.7351896979592063\n"
     ]
    },
    {
     "name": "stdout",
     "output_type": "stream",
     "text": [
      "[reRank_relations]: how tall is the advertise capitalisation of the company Paypal  \n",
      "SPARQL Requests Made: 40 \n",
      "SPARQL Requests Total Time: 29.341099739074707 \n",
      "SPARQL Avg Time per Qn: 0.7335274934768676\n"
     ]
    },
    {
     "name": "stdout",
     "output_type": "stream",
     "text": [
      "[reRank_relations]: who name in official dialect of characters of journey  \n",
      "SPARQL Requests Made: 46 \n",
      "SPARQL Requests Total Time: 33.30241560935974 \n",
      "SPARQL Avg Time per Qn: 0.7239655567252118\n"
     ]
    },
    {
     "name": "stdout",
     "output_type": "stream",
     "text": [
      "[reRank_relations]: where does the crocodile rank within the taxon of Crocodylinae \n",
      "SPARQL Requests Made: 47 \n",
      "SPARQL Requests Total Time: 34.30777287483215 \n",
      "SPARQL Avg Time per Qn: 0.729952614358131\n"
     ]
    },
    {
     "name": "stdout",
     "output_type": "stream",
     "text": [
      "[reRank_relations]: austria-Hungary was either dissolved, abolished or demolished how may times \n",
      "SPARQL Requests Made: 31 \n",
      "SPARQL Requests Total Time: 22.585421323776245 \n",
      "SPARQL Avg Time per Qn: 0.7285619781863305\n"
     ]
    },
    {
     "name": "stdout",
     "output_type": "stream",
     "text": [
      "[reRank_relations]: what united states is Belfast located in, and when was once the town founded \n",
      "SPARQL Requests Made: 62 \n",
      "SPARQL Requests Total Time: 45.51814818382263 \n",
      "SPARQL Avg Time per Qn: 0.734163680384236\n"
     ]
    },
    {
     "name": "stdout",
     "output_type": "stream",
     "text": [
      "[reRank_relations]: what united states is Belfast located in, and when was once the town founded \n",
      "SPARQL Requests Made: 5 \n",
      "SPARQL Requests Total Time: 3.5892398357391357 \n",
      "SPARQL Avg Time per Qn: 0.7178479671478272\n"
     ]
    },
    {
     "name": "stdout",
     "output_type": "stream",
     "text": [
      "[reRank_relations]: what is the ET award The Extra - Terrestrial received It, and when did he receive it \n",
      "SPARQL Requests Made: 70 \n",
      "SPARQL Requests Total Time: 51.040024280548096 \n",
      "SPARQL Avg Time per Qn: 0.72914320400783\n"
     ]
    },
    {
     "name": "stdout",
     "output_type": "stream",
     "text": [
      "[reRank_relations]: which aspects of the explosion characteristics of coal dust were investigated by the quantitative explosibility studies at CSIR-CBRI in Roorkee, India, in the process of designing safety measures for coal dust handling \n",
      "SPARQL Requests Made: 75 \n",
      "SPARQL Requests Total Time: 54.450380086898804 \n",
      "SPARQL Avg Time per Qn: 0.7260050678253174\n"
     ]
    },
    {
     "name": "stdout",
     "output_type": "stream",
     "text": [
      "[reRank_relations]: what is the opposite of the participation event for a girl \n",
      "SPARQL Requests Made: 60 \n",
      "SPARQL Requests Total Time: 43.828476905822754 \n",
      "SPARQL Avg Time per Qn: 0.7304746150970459\n"
     ]
    },
    {
     "name": "stdout",
     "output_type": "stream",
     "text": [
      "[reRank_relations]: when did arrangement of Within the Disposition for Adore and follows \n",
      "SPARQL Requests Made: 97 \n",
      "SPARQL Requests Total Time: 70.70868611335754 \n",
      "SPARQL Avg Time per Qn: 0.7289555269418303\n"
     ]
    },
    {
     "name": "stdout",
     "output_type": "stream",
     "text": [
      "[reRank_relations]: who is favorite player of doctoral boss of Darius Lakdawalla  \n",
      "SPARQL Requests Made: 107 \n",
      "SPARQL Requests Total Time: 78.59731411933899 \n",
      "SPARQL Avg Time per Qn: 0.7345543375639157\n"
     ]
    },
    {
     "name": "stdout",
     "output_type": "stream",
     "text": [
      "[reRank_relations]: which is the rotation period for Crab Pulsar \n",
      "SPARQL Requests Made: 121 \n",
      "SPARQL Requests Total Time: 88.92347526550293 \n",
      "SPARQL Avg Time per Qn: 0.7349047542603548\n"
     ]
    },
    {
     "name": "stdout",
     "output_type": "stream",
     "text": [
      "[reRank_relations]: in the administrative centre of Joseon, what is the pronunciation audio \n",
      "SPARQL Requests Made: 120 \n",
      "SPARQL Requests Total Time: 87.58203411102295 \n",
      "SPARQL Avg Time per Qn: 0.7298502842585246\n"
     ]
    },
    {
     "name": "stdout",
     "output_type": "stream",
     "text": [
      "[reRank_relations]: on what date did Yul Brynner receive the Special Tony Award \n",
      "SPARQL Requests Made: 122 \n",
      "SPARQL Requests Total Time: 88.96688961982727 \n",
      "SPARQL Avg Time per Qn: 0.7292368001625186\n"
     ]
    },
    {
     "name": "stdout",
     "output_type": "stream",
     "text": [
      "[reRank_relations]: on what date did Yul Brynner receive the Special Tony Award \n",
      "SPARQL Requests Made: 8 \n",
      "SPARQL Requests Total Time: 5.888139486312866 \n",
      "SPARQL Avg Time per Qn: 0.7360174357891083\n",
      "[reRank_relations]: on what date did Yul Brynner receive the Special Tony Award \n",
      "SPARQL Requests Made: 0 \n",
      "SPARQL Requests Total Time: 0 \n",
      "SPARQL Avg Time per Qn: 0\n"
     ]
    },
    {
     "name": "stdout",
     "output_type": "stream",
     "text": [
      "[reRank_relations]: what is the construction material with the lowest operating temperature \n",
      "SPARQL Requests Made: 135 \n",
      "SPARQL Requests Total Time: 98.88200092315674 \n",
      "SPARQL Avg Time per Qn: 0.7324592660974574\n"
     ]
    },
    {
     "name": "stdout",
     "output_type": "stream",
     "text": [
      "[reRank_relations]: what work area of Gerolamo Cardano has a surface area of 9303 \n",
      "SPARQL Requests Made: 158 \n",
      "SPARQL Requests Total Time: 115.7181749343872 \n",
      "SPARQL Avg Time per Qn: 0.732393512242957\n"
     ]
    },
    {
     "name": "stdout",
     "output_type": "stream",
     "text": [
      "[reRank_relations]: what payment types do you accept \n",
      "SPARQL Requests Made: 165 \n",
      "SPARQL Requests Total Time: 120.68978381156921 \n",
      "SPARQL Avg Time per Qn: 0.7314532352216316\n"
     ]
    },
    {
     "name": "stdout",
     "output_type": "stream",
     "text": [
      "[reRank_relations]: what is the ET award The Extra - Terrestrial received It, and when did he receive it \n",
      "SPARQL Requests Made: 109 \n",
      "SPARQL Requests Total Time: 79.96111941337585 \n",
      "SPARQL Avg Time per Qn: 0.7335882514988611\n"
     ]
    },
    {
     "name": "stdout",
     "output_type": "stream",
     "text": [
      "[reRank_relations]: which is the asteroid spectral type for 10 Hygiea \n",
      "SPARQL Requests Made: 180 \n",
      "SPARQL Requests Total Time: 132.0264835357666 \n",
      "SPARQL Avg Time per Qn: 0.7334804640875923\n"
     ]
    },
    {
     "name": "stdout",
     "output_type": "stream",
     "text": [
      "[reRank_relations]: genetic diseases is studied by which science \n",
      "SPARQL Requests Made: 189 \n",
      "SPARQL Requests Total Time: 137.86569452285767 \n",
      "SPARQL Avg Time per Qn: 0.7294481191685591\n"
     ]
    },
    {
     "name": "stdout",
     "output_type": "stream",
     "text": [
      "[reRank_relations]: what is the poet ID given by Les Voix de la poésie to Alphonse Daudet \n",
      "SPARQL Requests Made: 208 \n",
      "SPARQL Requests Total Time: 152.03471565246582 \n",
      "SPARQL Avg Time per Qn: 0.7309361329445472\n"
     ]
    },
    {
     "name": "stdout",
     "output_type": "stream",
     "text": [
      "[reRank_relations]: from what school did William Walker graduate in 1838 \n",
      "SPARQL Requests Made: 227 \n",
      "SPARQL Requests Total Time: 165.98100686073303 \n",
      "SPARQL Avg Time per Qn: 0.7311938628226125\n"
     ]
    },
    {
     "name": "stdout",
     "output_type": "stream",
     "text": [
      "[reRank_relations]: which aspects of the explosion characteristics of coal dust were investigated by the quantitative explosibility studies at CSIR-CBRI in Roorkee, India, in the process of designing safety measures for coal dust handling \n",
      "SPARQL Requests Made: 161 \n",
      "SPARQL Requests Total Time: 117.65830421447754 \n",
      "SPARQL Avg Time per Qn: 0.730796920586817\n"
     ]
    },
    {
     "name": "stdout",
     "output_type": "stream",
     "text": [
      "[reRank_relations]: from what school did William Walker graduate in 1838 \n",
      "SPARQL Requests Made: 11 \n",
      "SPARQL Requests Total Time: 7.985982418060303 \n",
      "SPARQL Avg Time per Qn: 0.7259984016418457\n"
     ]
    },
    {
     "name": "stdout",
     "output_type": "stream",
     "text": [
      "[reRank_relations]: state the number of matches Roberto Baggio played for Bologna FC 1909 and the number of goals he scored \n",
      "SPARQL Requests Made: 245 \n",
      "SPARQL Requests Total Time: 178.91257238388062 \n",
      "SPARQL Avg Time per Qn: 0.730255397485227\n"
     ]
    },
    {
     "name": "stdout",
     "output_type": "stream",
     "text": [
      "[reRank_relations]: are Moon and Ahmet Zappa both Frank Zappas kids \n",
      "SPARQL Requests Made: 261 \n",
      "SPARQL Requests Total Time: 192.75429582595825 \n",
      "SPARQL Avg Time per Qn: 0.7385222062297251\n"
     ]
    },
    {
     "name": "stdout",
     "output_type": "stream",
     "text": [
      "[reRank_relations]: what is seat of Mitsubishi UFJ Financial group, that has neighborhood government areas is Yonbancho \n",
      "SPARQL Requests Made: 288 \n",
      "SPARQL Requests Total Time: 212.2372465133667 \n",
      "SPARQL Avg Time per Qn: 0.7369348837269677\n"
     ]
    },
    {
     "name": "stdout",
     "output_type": "stream",
     "text": [
      "[reRank_relations]: what is ICCF ID for Magnus Carlsen  \n",
      "SPARQL Requests Made: 316 \n",
      "SPARQL Requests Total Time: 231.11967968940735 \n",
      "SPARQL Avg Time per Qn: 0.7313913914221751\n"
     ]
    },
    {
     "name": "stdout",
     "output_type": "stream",
     "text": [
      "[reRank_relations]: are Moon and Ahmet Zappa both Frank Zappas kids \n",
      "SPARQL Requests Made: 112 \n",
      "SPARQL Requests Total Time: 81.55873370170593 \n",
      "SPARQL Avg Time per Qn: 0.7282029794795173\n"
     ]
    },
    {
     "name": "stdout",
     "output_type": "stream",
     "text": [
      "[reRank_relations]: what is the poet ID given by Les Voix de la poésie to Alphonse Daudet \n",
      "SPARQL Requests Made: 173 \n",
      "SPARQL Requests Total Time: 127.32637739181519 \n",
      "SPARQL Avg Time per Qn: 0.7359906207619374\n"
     ]
    },
    {
     "name": "stdout",
     "output_type": "stream",
     "text": [
      "[reRank_relations]: how many games did Michael Jordan play as a member of the Chicago Bulls team and how many points did he score \n",
      "SPARQL Requests Made: 370 \n",
      "SPARQL Requests Total Time: 269.4792630672455 \n",
      "SPARQL Avg Time per Qn: 0.728322332614177\n"
     ]
    },
    {
     "name": "stdout",
     "output_type": "stream",
     "text": [
      "[reRank_relations]: which twofold connection begins with the letter s \n",
      "SPARQL Requests Made: 390 \n",
      "SPARQL Requests Total Time: 285.50405979156494 \n",
      "SPARQL Avg Time per Qn: 0.7320616917732434\n"
     ]
    },
    {
     "name": "stdout",
     "output_type": "stream",
     "text": [
      "[reRank_relations]: what is ICCF ID for Magnus Carlsen  \n",
      "SPARQL Requests Made: 103 \n",
      "SPARQL Requests Total Time: 75.24024891853333 \n",
      "SPARQL Avg Time per Qn: 0.7304878535779934\n"
     ]
    },
    {
     "name": "stdout",
     "output_type": "stream",
     "text": [
      "[reRank_relations]: what Logarithmic scaled estimates vitality \n",
      "SPARQL Requests Made: 450 \n",
      "SPARQL Requests Total Time: 330.67322540283203 \n",
      "SPARQL Avg Time per Qn: 0.7348293897840712\n"
     ]
    },
    {
     "name": "stdout",
     "output_type": "stream",
     "text": [
      "[reRank_relations]: what is the region of responsibility for the NPR, that has a time of UTC -07:00 \n",
      "SPARQL Requests Made: 439 \n",
      "SPARQL Requests Total Time: 321.85270619392395 \n",
      "SPARQL Avg Time per Qn: 0.7331496724235169\n"
     ]
    },
    {
     "name": "stdout",
     "output_type": "stream",
     "text": [
      "[reRank_relations]: what is the poet ID given by Les Voix de la poésie to Alphonse Daudet \n",
      "SPARQL Requests Made: 173 \n",
      "SPARQL Requests Total Time: 125.71983671188354 \n",
      "SPARQL Avg Time per Qn: 0.7267042584501939\n"
     ]
    },
    {
     "name": "stdout",
     "output_type": "stream",
     "text": [
      "[reRank_relations]: which aspects of the explosion characteristics of coal dust were investigated by the quantitative explosibility studies at CSIR-CBRI in Roorkee, India, in the process of designing safety measures for coal dust handling \n",
      "SPARQL Requests Made: 375 \n",
      "SPARQL Requests Total Time: 273.2430331707001 \n",
      "SPARQL Avg Time per Qn: 0.7286480884552002\n"
     ]
    },
    {
     "name": "stdout",
     "output_type": "stream",
     "text": [
      "[reRank_relations]: Wh auden and the Pulitzer Prize for Poetry A transplant from Great Britain wins the hearts and minds of Pulitzer juries Wystan Hugh Auden, the British poet, moved to the United States in 1939 He taught at the University of Michigan and Swarthmore College during World War II \n",
      "SPARQL Requests Made: 654 \n",
      "SPARQL Requests Total Time: 477.3400330543518 \n",
      "SPARQL Avg Time per Qn: 0.7298777263828009\n"
     ]
    },
    {
     "name": "stdout",
     "output_type": "stream",
     "text": [
      "[reRank_relations]: wHICH IS THE ORGANIZATION OFANTHEM THAT IS ANTHEM OF EUROPE AND WHICH STARTS WITH C \n",
      "SPARQL Requests Made: 738 \n",
      "SPARQL Requests Total Time: 538.1525938510895 \n",
      "SPARQL Avg Time per Qn: 0.7292040567087933\n"
     ]
    },
    {
     "name": "stdout",
     "output_type": "stream",
     "text": [
      "[reRank_relations]: Wh auden and the Pulitzer Prize for Poetry A transplant from Great Britain wins the hearts and minds of Pulitzer juries Wystan Hugh Auden, the British poet, moved to the United States in 1939 He taught at the University of Michigan and Swarthmore College during World War II \n",
      "SPARQL Requests Made: 140 \n",
      "SPARQL Requests Total Time: 101.56433176994324 \n",
      "SPARQL Avg Time per Qn: 0.7254595126424517\n"
     ]
    },
    {
     "name": "stdout",
     "output_type": "stream",
     "text": [
      "[reRank_relations]: what is the region of responsibility for the NPR, that has a time of UTC -07:00 \n",
      "SPARQL Requests Made: 370 \n",
      "SPARQL Requests Total Time: 269.8269717693329 \n",
      "SPARQL Avg Time per Qn: 0.7292620858630618\n"
     ]
    },
    {
     "name": "stdout",
     "output_type": "stream",
     "text": [
      "[reRank_relations]: how many games did Michael Jordan play as a member of the Chicago Bulls team and how many points did he score \n",
      "SPARQL Requests Made: 708 \n",
      "SPARQL Requests Total Time: 516.6775200366974 \n",
      "SPARQL Avg Time per Qn: 0.7297705085264088\n",
      "[reRank_relations]: how many games did Michael Jordan play as a member of the Chicago Bulls team and how many points did he score \n",
      "SPARQL Requests Made: 0 \n",
      "SPARQL Requests Total Time: 0 \n",
      "SPARQL Avg Time per Qn: 0\n"
     ]
    },
    {
     "name": "stdout",
     "output_type": "stream",
     "text": [
      "[reRank_relations]: state the number of matches Roberto Baggio played for Bologna FC 1909 and the number of goals he scored \n",
      "SPARQL Requests Made: 977 \n",
      "SPARQL Requests Total Time: 711.1295878887177 \n",
      "SPARQL Avg Time per Qn: 0.727870611963887\n"
     ]
    },
    {
     "name": "stdout",
     "output_type": "stream",
     "text": [
      "[reRank_relations]: wHICH IS THE ORGANIZATION OFANTHEM THAT IS ANTHEM OF EUROPE AND WHICH STARTS WITH C \n",
      "SPARQL Requests Made: 484 \n",
      "SPARQL Requests Total Time: 351.65407276153564 \n",
      "SPARQL Avg Time per Qn: 0.7265580015734208\n"
     ]
    },
    {
     "name": "stdout",
     "output_type": "stream",
     "text": [
      "[reRank_relations]: Wh auden and the Pulitzer Prize for Poetry A transplant from Great Britain wins the hearts and minds of Pulitzer juries Wystan Hugh Auden, the British poet, moved to the United States in 1939 He taught at the University of Michigan and Swarthmore College during World War II \n",
      "SPARQL Requests Made: 840 \n",
      "SPARQL Requests Total Time: 611.5378284454346 \n",
      "SPARQL Avg Time per Qn: 0.7280212243398031\n"
     ]
    },
    {
     "name": "stdout",
     "output_type": "stream",
     "text": [
      "[reRank_relations]: state the number of matches Roberto Baggio played for Bologna FC 1909 and the number of goals he scored \n",
      "SPARQL Requests Made: 440 \n",
      "SPARQL Requests Total Time: 320.4607846736908 \n",
      "SPARQL Avg Time per Qn: 0.7283199651674791\n"
     ]
    },
    {
     "name": "stdout",
     "output_type": "stream",
     "text": [
      "[reRank_relations]: Wh auden and the Pulitzer Prize for Poetry A transplant from Great Britain wins the hearts and minds of Pulitzer juries Wystan Hugh Auden, the British poet, moved to the United States in 1939 He taught at the University of Michigan and Swarthmore College during World War II \n",
      "SPARQL Requests Made: 80 \n",
      "SPARQL Requests Total Time: 58.53369331359863 \n",
      "SPARQL Avg Time per Qn: 0.7316711664199829\n"
     ]
    },
    {
     "name": "stdout",
     "output_type": "stream",
     "text": [
      "[reRank_relations]: wHICH IS THE ORGANIZATION OFANTHEM THAT IS ANTHEM OF EUROPE AND WHICH STARTS WITH C \n",
      "SPARQL Requests Made: 782 \n",
      "SPARQL Requests Total Time: 571.1754288673401 \n",
      "SPARQL Avg Time per Qn: 0.7304033617229413\n"
     ]
    }
   ],
   "source": [
    "responses = []\n",
    "batch_qns = []\n",
    "batch_ans = []\n",
    "truncated_data = data_dict[6000:]\n",
    "total_len = len(truncated_data)\n",
    "last = 0\n",
    "for i, data in enumerate(truncated_data):\n",
    "    print(\"Pipeline iter\", i)\n",
    "    question = data[\"new_question\"]\n",
    "    answer = data[\"sparql_wikidata\"]\n",
    "    # try\n",
    "    #     linked, annotated, converted = pipe(question, answer)\n",
    "    # except Exception as e:\n",
    "    #     print(e)\n",
    "    #     continue\n",
    "    # responses.append([linked, annotated, converted])\n",
    "    if (question and answer) and len(question) >= 2:\n",
    "        batch_qns.append(question)\n",
    "        batch_ans.append(answer)\n",
    "    if ((i + 1) % 50) == 0 or i == total_len - 1:\n",
    "        print(\"[Pipeline1]:\", f\"Linking {last}-{i}\")\n",
    "        try:\n",
    "            for linked, annotated, converted in pipe_batch(batch_qns, batch_ans):\n",
    "                responses.append([linked, annotated, converted])\n",
    "            batch_qns = []\n",
    "            batch_ans = []\n",
    "            last = i\n",
    "        except Exception as e:\n",
    "            raise e\n",
    "            # print(e)\n",
    "            # continue\n",
    "        with open(f\"../t5-for-sparql/falcon_links/4/link_{i}.json\", \"w\") as f:\n",
    "            json.dump(responses, f, indent=2, separators=(',',':'))"
   ]
  },
  {
   "cell_type": "code",
   "execution_count": null,
   "id": "637e08b8",
   "metadata": {
    "papermill": {
     "duration": null,
     "end_time": null,
     "exception": null,
     "start_time": null,
     "status": "pending"
    },
    "tags": []
   },
   "outputs": [],
   "source": [
    "# qns = ['What is the operating income for Qantas?', 'What is Mary Lou Rettons International Olympic Committee athlete ID.']\n",
    "# l = linker.link_batch(qns)\n",
    "# print(l)"
   ]
  },
  {
   "cell_type": "code",
   "execution_count": null,
   "id": "e5f1f62a",
   "metadata": {
    "papermill": {
     "duration": null,
     "end_time": null,
     "exception": null,
     "start_time": null,
     "status": "pending"
    },
    "tags": []
   },
   "outputs": [],
   "source": [
    "with open(\"home.json\", \"w\") as f:\n",
    "  json.dump(responses, f, indent=2 ,separators=(',', ': '))"
   ]
  }
 ],
 "metadata": {
  "kernelspec": {
   "display_name": "py310",
   "language": "python",
   "name": "python3"
  },
  "language_info": {
   "codemirror_mode": {
    "name": "ipython",
    "version": 3
   },
   "file_extension": ".py",
   "mimetype": "text/x-python",
   "name": "python",
   "nbconvert_exporter": "python",
   "pygments_lexer": "ipython3",
   "version": "3.10.11"
  },
  "papermill": {
   "default_parameters": {},
   "duration": null,
   "end_time": null,
   "environment_variables": {},
   "exception": null,
   "input_path": "pipeline1.ipynb",
   "output_path": "pipeline1-titan-6000.papermill.ipynb",
   "parameters": {},
   "start_time": "2023-07-13T04:22:19.375194",
   "version": "2.4.0"
  }
 },
 "nbformat": 4,
 "nbformat_minor": 5
}
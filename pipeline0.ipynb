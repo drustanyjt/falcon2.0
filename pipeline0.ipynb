{
 "cells": [
  {
   "attachments": {},
   "cell_type": "markdown",
   "metadata": {},
   "source": [
    "# Pipeline 0"
   ]
  },
  {
   "cell_type": "code",
   "execution_count": 1,
   "metadata": {},
   "outputs": [
    {
     "name": "stdout",
     "output_type": "stream",
     "text": [
      "main_virtuoso_noreranking\n"
     ]
    }
   ],
   "source": [
    "from pipeline import T5Converter\n",
    "import time\n",
    "from pprint import pprint"
   ]
  },
  {
   "cell_type": "code",
   "execution_count": 8,
   "metadata": {},
   "outputs": [],
   "source": [
    "from pathlib import Path\n",
    "import pandas as pd\n",
    "import json\n",
    "import os\n",
    "\n",
    "data_path = Path(\"..\") / \"t5-for-sparql\" / \"data\" / \"lcquad2\" / \"train.json\"\n",
    "data2_path = Path(\"..\") / \"t5-for-sparql\" / \"data\" / \"lcquad2\" / \"test_KG_4211.json\"\n",
    "output_links_dir = Path(\"..\") / \"t5-for-sparql\" / \"falcon_links\" / \"0ents_0rels\"\n",
    "# os.environ['ES_ENTITY_INDEX'] = \"wikidataentityindex\"\n",
    "# os.environ['ES_PROPERTY_INDEX'] = \"wikidatapropertyindet\""
   ]
  },
  {
   "cell_type": "code",
   "execution_count": 2,
   "metadata": {},
   "outputs": [],
   "source": [
    "converter = T5Converter()"
   ]
  },
  {
   "cell_type": "code",
   "execution_count": 5,
   "metadata": {},
   "outputs": [],
   "source": [
    "import re\n",
    "\n",
    "def retrieve_gold_links(masked_wikisparql):\n",
    "  fragments = masked_wikisparql.upper().strip().split(' ')\n",
    "  ents = []\n",
    "  rels = []\n",
    "  result_dict = {\n",
    "    'ents': ents,\n",
    "    'rels': rels,\n",
    "  }\n",
    "  for fragment in fragments:\n",
    "    id_match = re.search('[QP][0-9]+',fragment)\n",
    "    if id_match:\n",
    "      id_raw = id_match.group(0)\n",
    "      if id_raw[0] == 'Q':\n",
    "        prefix = 'wdt:'\n",
    "        uri = 'http://www.wikidata.org/entity/' + id_raw\n",
    "        target_arr = ents\n",
    "      elif id_raw[0] == 'P':\n",
    "        prefix = 'wd:'\n",
    "        uri =  'http://www.wikidata.org/prop/direct/' + id_raw\n",
    "        target_arr = rels\n",
    "      else:\n",
    "        raise ValueError('ID does not start with P or Q')\n",
    "      match_dict = {\n",
    "        'id' : id_raw,\n",
    "        'prefix' : prefix,\n",
    "        'uri' : uri,\n",
    "      }\n",
    "      target_arr.append(match_dict)\n",
    "  return result_dict"
   ]
  },
  {
   "cell_type": "code",
   "execution_count": 7,
   "metadata": {},
   "outputs": [],
   "source": [
    "def pipe_batch(utterances, wikisparqls):\n",
    "  batched = []\n",
    "  link_batch_start = time.time()\n",
    "  linked = list(map(lambda u: {'utterance':u, 'ents':[], 'rels':[], }, utterances))\n",
    "  assert len(linked) == len(wikisparqls)\n",
    "\n",
    "  # for i, link in enumerate(linked):\n",
    "  #   gold_linked = retrieve_gold_links(wikisparqls[i])\n",
    "  #   new_ents=link['ents']\n",
    "  #   old_ents_set = set(x['id'] for x in link['ents'])\n",
    "  #   for gold_ent in gold_linked['ents']:\n",
    "  #       if gold_ent['id'] not in old_ents_set:\n",
    "  #           new_ents.append(gold_ent)\n",
    "  #   link['rels'] = []\n",
    "  #   assert len(linked[i]['rels']) == 0\n",
    "\n",
    "  link_batch_end = time.time()\n",
    "  s = time.time()\n",
    "  annotated = list(map(lambda l: {'utterance': l['utterance'], 'fragments':[]}, linked))\n",
    "  e = time.time()\n",
    "  assert len(linked) == len(annotated)\n",
    "  annotator_time = e - s\n",
    "  converter_time = 0\n",
    "  for i, single_annotated in enumerate(annotated):\n",
    "    # annotated = annotator.annotate(**single_linked)\n",
    "    # try:\n",
    "    #   annotator_time += e - s\n",
    "    # except Exception as e:\n",
    "    #   print(\"[Annotator Error]:\", e)\n",
    "    #   continue\n",
    "    s = time.time()\n",
    "    try:\n",
    "      converted = converter.preprocess(**single_annotated, wikisparql=wikisparqls[i])\n",
    "    except Exception as e:\n",
    "      print(\"[Converter Error]:\", e)\n",
    "      continue\n",
    "      \n",
    "    e = time.time()\n",
    "    converter_time += e - s\n",
    "    batched.append([linked[i], annotated[i], converted])\n",
    "  print(\"Link batch time:\", link_batch_end - link_batch_start)\n",
    "  print(\"Anno batch time:\", annotator_time)\n",
    "  print(\"Conv batch time:\", converter_time)\n",
    "  return batched"
   ]
  },
  {
   "attachments": {},
   "cell_type": "markdown",
   "metadata": {},
   "source": [
    "## Data"
   ]
  },
  {
   "cell_type": "code",
   "execution_count": 9,
   "metadata": {},
   "outputs": [
    {
     "name": "stdout",
     "output_type": "stream",
     "text": [
      "Missing question count: 71\n",
      "Number of rows: 28247\n"
     ]
    }
   ],
   "source": [
    "with open(data_path) as f:\n",
    "  data_dict = json.load(f)\n",
    "\n",
    "with open(data2_path) as f:\n",
    "  data_dict.extend(json.load(f))\n",
    "\n",
    "count = 0\n",
    "\n",
    "for item in data_dict:\n",
    "  paraphrased_question = item[\"paraphrased_question\"]\n",
    "  question = item[\"question\"]\n",
    "  if paraphrased_question == None:\n",
    "    raise Exception\n",
    "  if question == None:\n",
    "    count += 1\n",
    "    # print(len(paraphrased_question) > 2)\n",
    "    # pprint(item)\n",
    "  if item[\"sparql_wikidata\"] == None:\n",
    "    raise Exception\n",
    "  \n",
    "\n",
    "  if len(paraphrased_question) > 2000:\n",
    "    paraphrased_question = question\n",
    "  # item[\"new_question\"] = paraphrased_question if len(paraphrased_question) > 2 and paraphrased_question != [] else question\n",
    "  item[\"new_question\"] = question\n",
    "\n",
    "print(\"Missing question count:\", count)\n",
    "\n",
    "df = pd.DataFrame.from_dict(data_dict)\n",
    "df = df.dropna(axis=0, subset=['new_question'])\n",
    "df = df[~df.question.isin(['n/a', None, 'none', 'None'])]\n",
    "n_entries = len(df)\n",
    "print(\"Number of rows:\", n_entries)"
   ]
  },
  {
   "cell_type": "code",
   "execution_count": 10,
   "metadata": {},
   "outputs": [],
   "source": [
    "assert(len(df[df.question.isna()]) == 0)"
   ]
  },
  {
   "cell_type": "code",
   "execution_count": 11,
   "metadata": {},
   "outputs": [
    {
     "name": "stdout",
     "output_type": "stream",
     "text": [
      "What periodical literature does Delta Air Lines use as a moutpiece?\n",
      "Who is the child of Ranavalona I's husband?\n",
      "Is it true Jeff_Bridges occupation Lane Chandler and photographer ?\n",
      "What is the pre-requisite of phase matter of Galinstan?\n",
      "Which is the operating income for Qantas?\n"
     ]
    }
   ],
   "source": [
    "for data in df[0:5].iterrows():\n",
    "    print(data[1].new_question)"
   ]
  },
  {
   "cell_type": "code",
   "execution_count": 12,
   "metadata": {},
   "outputs": [
    {
     "name": "stdout",
     "output_type": "stream",
     "text": [
      "[Pipeline1]: Linking 0-49\n",
      "1 : ['What periodical literature does Delta Air Lines use as a moutpiece?']\n",
      "1 : ['Who is the child of Ranavalona Is husband?']\n",
      "1 : ['Is it true Jeff_Bridges occupation Lane Chandler and photographer ?']\n",
      "1 : ['What is the pre-requisite of phase matter of Galinstan?']\n",
      "1 : ['Which is the operating income for Qantas?']\n",
      "1 : ['which cola starts with the letter p']\n",
      "1 : ['Is the right ascension of malin 1 less than 15.1398?']\n",
      "1 : ['What is the complete list of records released by Jerry Lee Lewis?']\n",
      "1 : ['What is Mary Lou Rettons International Olympic Committee athlete ID.']\n",
      "1 : ['Who won the prize at the sequel of the 1885 Wimbledon Championships- Gentlemens Singles?']\n",
      "1 : ['Is it true that the carbon footprint of the iPhone X Max is 106?']\n",
      "1 : ['Tell me the female beauty pageant that operates in all countries and contains the word model in its name?']\n",
      "1 : ['Did Lindsey Vonn participate in the FIS Alpine World Ski Championships in 1999 and 2019?']\n",
      "1 : ['When position did Angela Merkel hold on November 10, 1994?']\n",
      "1 : ['On 0-0-2007, what is the populaton of Spokane?']\n",
      "1 : ['What essential medicine is needed to treat leprosy?']\n",
      "1 : ['Which is HanCinema person ID for Zhang Ziyi?']\n",
      "1 : ['Did Judi Densch receive a Tony Award for best direction of the play Premium Imperiale?']\n",
      "1 : ['What is the boiling point of pressure copper as 4703.0?']\n",
      "1 : ['After what is Marathon named and what is the current record?']\n",
      "1 : ['Who Sleepwalking succeeded in playing Sleepwalking?']\n",
      "1 : ['What did Clifton Chenier get nominated for in 1983-0-0?']\n",
      "1 : ['Which is the wear for Ambrose Burnside?']\n",
      "1 : ['Which Class IB flammable liquid has the least lower flammable limit?']\n",
      "1 : ['What is the material used and approved by Mojito?']\n",
      "1 : ['Could you summarize Koreas history of this topic?']\n",
      "1 : ['Which is {landscape of} of {Virgin of the rocks}, which has {birth city} is {Tzippori} ?']\n",
      "1 : ['Is Kevin Costner owner of Fielders Stadium?']\n",
      "1 : ['Which is the YouTube channel ID for Miley Cyrus?']\n",
      "1 : ['What is a skill that starts with the letter s.']\n",
      "1 : ['How many dimensions have a Captain America?']\n",
      "1 : ['What award did Danila Kozlovsky receive in 2017?']\n",
      "2 : ['Who is the student that coined the Euler-Lagrange equation?']\n",
      "3 : ['Which website does Twitch own?']\n",
      "4 : ['Is the minimal lethal dose of the benzene equal to 170000?']\n",
      "5 : ['Who is the person that was a student of Ivan Pavlov?']\n",
      "6 : ['is the clock speed of the Watara Supervision smaller than 3.2?']\n",
      "7 : ['What country is the current leader of the African Union ?']\n",
      "8 : ['Who works for the accused Mariposa Folk Festival 1974?']\n",
      "9 : ['What sister city was born in of Zakhar Oskotsky?']\n",
      "10 : ['Tell me the name of a fantastique genre that starts with the letter s.']\n",
      "11 : ['What is the medal Angela Lansbury recieved?']\n",
      "12 : ['What is the musical score by Missa Solemnis that has mother Maria Magdalena van Beethoven?']\n",
      "13 : ['When did Robert De Niro reside in Marbletown?']\n",
      "14 : ['Tell me organization whose name has the word  zollkriminalamt  in it.']\n",
      "15 : ['Which member state of the International Centre for Settlement of Investment Disputes has the maximum inflation rate?']\n",
      "16 : ['Was Brittany Murphy a citizen of the USA?']\n",
      "17 : ['Who is the partner and the spouse of Hank Azaria?']\n",
      "18 : ['Does St. Peters Junior School maximum age equal to 11?']\n",
      "19 : ['Which country has highest individual tax rate?']\n",
      "Link batch time: 10.917670726776123\n",
      "Anno batch time: 238.2254741191864\n",
      "Conv batch time: 0.003022432327270508\n"
     ]
    }
   ],
   "source": [
    "responses = []\n",
    "batch_qns = []\n",
    "batch_ans = []\n",
    "truncated_data = df[:]\n",
    "total_len = len(truncated_data)\n",
    "last = 0\n",
    "cutoff = 0\n",
    "\n",
    "for i, data in enumerate(truncated_data.iterrows()):\n",
    "    data = data[1]\n",
    "    if i < cutoff:\n",
    "        continue\n",
    "    # print(\"Pipeline iter\", i)\n",
    "    question = data[\"new_question\"]\n",
    "    answer = data[\"sparql_wikidata\"]\n",
    "    # try\n",
    "    #     linked, annotated, converted = pipe(question, answer)\n",
    "    # except Exception as e:\n",
    "    #     print(e)\n",
    "    #     continue\n",
    "    # responses.append([linked, annotated, converted])\n",
    "    if (question and answer) and len(question) >= 2:\n",
    "        batch_qns.append(question)\n",
    "        batch_ans.append(answer)\n",
    "    if ((i + 1) % 2000) == 0 or i == total_len - 1:\n",
    "        print(\"\\n[Pipeline1]:\", f\"Linking {last}-{i}\")\n",
    "        try:\n",
    "            for linked, annotated, converted in pipe_batch(batch_qns, batch_ans):\n",
    "                responses.append([linked, annotated, converted])\n",
    "            batch_qns = []\n",
    "            batch_ans = []\n",
    "            last = i\n",
    "        except Exception as e:\n",
    "            raise e\n",
    "            # print(e)\n",
    "            # continue\n",
    "        with open(output_links_dir / f\"link_{i}.json\", \"w\") as f:\n",
    "            json.dump(responses, f, indent=2, separators=(',',':'))"
   ]
  }
 ],
 "metadata": {
  "kernelspec": {
   "display_name": "py310",
   "language": "python",
   "name": "python3"
  },
  "language_info": {
   "codemirror_mode": {
    "name": "ipython",
    "version": 3
   },
   "file_extension": ".py",
   "mimetype": "text/x-python",
   "name": "python",
   "nbconvert_exporter": "python",
   "pygments_lexer": "ipython3",
   "version": "3.10.11"
  },
  "orig_nbformat": 4
 },
 "nbformat": 4,
 "nbformat_minor": 2
}

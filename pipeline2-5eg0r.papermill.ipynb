{
 "cells": [
  {
   "attachments": {},
   "cell_type": "markdown",
   "id": "24e24a0b",
   "metadata": {
    "papermill": {
     "duration": null,
     "end_time": null,
     "exception": null,
     "start_time": null,
     "status": "completed"
    },
    "tags": []
   },
   "source": [
    "# Pipeline 2\n",
    "\n",
    "Produce top 5 entites + gold entities and 0 relations from falcon"
   ]
  },
  {
   "cell_type": "code",
   "execution_count": null,
   "id": "96b4b15c",
   "metadata": {
    "papermill": {
     "duration": null,
     "end_time": null,
     "exception": null,
     "start_time": null,
     "status": "completed"
    },
    "tags": []
   },
   "outputs": [],
   "source": [
    "from pipeline import Falcon2Linker, SerialAnnotator, T5Converter\n",
    "import time\n",
    "from pprint import pprint"
   ]
  },
  {
   "cell_type": "code",
   "execution_count": null,
   "id": "ab4e3084",
   "metadata": {
    "papermill": {
     "duration": null,
     "end_time": null,
     "exception": null,
     "start_time": null,
     "status": "completed"
    },
    "tags": []
   },
   "outputs": [],
   "source": [
    "linker = Falcon2Linker()\n",
    "annotator = SerialAnnotator()\n",
    "converter = T5Converter()"
   ]
  },
  {
   "cell_type": "code",
   "execution_count": null,
   "id": "561a3ae9",
   "metadata": {
    "papermill": {
     "duration": null,
     "end_time": null,
     "exception": null,
     "start_time": null,
     "status": "completed"
    },
    "tags": []
   },
   "outputs": [],
   "source": [
    "utterance = \"Who is the wife of Barack Obama\""
   ]
  },
  {
   "cell_type": "code",
   "execution_count": null,
   "id": "eb710e00",
   "metadata": {
    "papermill": {
     "duration": null,
     "end_time": null,
     "exception": null,
     "start_time": null,
     "status": "completed"
    },
    "tags": []
   },
   "outputs": [],
   "source": [
    "linked = linker.link(utterance)\n",
    "# rules = [1,2,3,4,5,8,9,10,12,13,14]\n",
    "# linked = process_text_E_R(utterance, rules)\n",
    "pprint(\"Linked\")\n",
    "pprint(linked)\n",
    "\n",
    "pprint(\"Annotated\")\n",
    "annotated = annotator.annotate(**linked)\n",
    "pprint(annotated)\n",
    "\n",
    "pprint(\"Converted\")\n",
    "converted = converter.preprocess_inputs(**annotated)\n",
    "pprint(converted)"
   ]
  },
  {
   "cell_type": "code",
   "execution_count": null,
   "id": "c4a047bf",
   "metadata": {
    "papermill": {
     "duration": null,
     "end_time": null,
     "exception": null,
     "start_time": null,
     "status": "completed"
    },
    "tags": []
   },
   "outputs": [],
   "source": [
    "import re\n",
    "\n",
    "def retrieve_gold_links(masked_wikisparql):\n",
    "  fragments = masked_wikisparql.upper().strip().split(' ')\n",
    "  ents = []\n",
    "  rels = []\n",
    "  result_dict = {\n",
    "    'ents': ents,\n",
    "    'rels': rels,\n",
    "  }\n",
    "  for fragment in fragments:\n",
    "    id_match = re.search('[QP][0-9]+',fragment)\n",
    "    if id_match:\n",
    "      id_raw = id_match.group(0)\n",
    "      if id_raw[0] == 'Q':\n",
    "        prefix = 'wdt:'\n",
    "        uri = 'http://www.wikidata.org/entity/' + id_raw\n",
    "        target_arr = ents\n",
    "      elif id_raw[0] == 'P':\n",
    "        prefix = 'wd:'\n",
    "        uri =  'http://www.wikidata.org/prop/direct/' + id_raw\n",
    "        target_arr = rels\n",
    "      else:\n",
    "        raise ValueError('ID does not start with P or Q')\n",
    "      match_dict = {\n",
    "        'id' : id_raw,\n",
    "        'prefix' : prefix,\n",
    "        'uri' : uri,\n",
    "      }\n",
    "      target_arr.append(match_dict)\n",
    "  return result_dict"
   ]
  },
  {
   "cell_type": "code",
   "execution_count": null,
   "id": "41582409",
   "metadata": {
    "papermill": {
     "duration": null,
     "end_time": null,
     "exception": null,
     "start_time": null,
     "status": "completed"
    },
    "tags": []
   },
   "outputs": [],
   "source": [
    "def pipe(utterance, wikisparql):\n",
    "    linked = linker.link(utterance)\n",
    "    annotated = annotator.annotate(**linked)\n",
    "    converted = converter.preprocess(**annotated, wikisparql=wikisparql)\n",
    "    return linked, annotated, converted"
   ]
  },
  {
   "cell_type": "code",
   "execution_count": null,
   "id": "41e8311d",
   "metadata": {
    "papermill": {
     "duration": null,
     "end_time": null,
     "exception": null,
     "start_time": null,
     "status": "completed"
    },
    "tags": []
   },
   "outputs": [],
   "source": [
    "def pipe_batch(utterances, wikisparqls):\n",
    "  batched = []\n",
    "  link_batch_start = time.time()\n",
    "  linked = linker.link_batch(utterances)\n",
    "\n",
    "  assert len(linked) == len(wikisparqls)\n",
    "\n",
    "  for i, link in enumerate(linked):\n",
    "    gold_linked = retrieve_gold_links(wikisparqls[i])\n",
    "    new_ents=link['ents']\n",
    "    old_ents_set = set(x['id'] for x in link['ents'])\n",
    "    for gold_ent in gold_linked['ents']:\n",
    "        if gold_ent['id'] not in old_ents_set:\n",
    "            new_ents.append(gold_ent)\n",
    "    link['rels'] = []\n",
    "    assert len(linked[i]['rels']) == 0\n",
    "\n",
    "  link_batch_end = time.time()\n",
    "  s = time.time()\n",
    "  annotated = annotator.batch_annotate(linked)\n",
    "  e = time.time()\n",
    "  assert len(linked) == len(annotated)\n",
    "  annotator_time = e - s\n",
    "  converter_time = 0\n",
    "  for i, single_annotated in enumerate(annotated):\n",
    "    # annotated = annotator.annotate(**single_linked)\n",
    "    # try:\n",
    "    #   annotator_time += e - s\n",
    "    # except Exception as e:\n",
    "    #   print(\"[Annotator Error]:\", e)\n",
    "    #   continue\n",
    "    s = time.time()\n",
    "    try:\n",
    "      converted = converter.preprocess(**single_annotated, wikisparql=wikisparqls[i])\n",
    "    except Exception as e:\n",
    "      print(\"[Converter Error]:\", e)\n",
    "      continue\n",
    "      \n",
    "    e = time.time()\n",
    "    converter_time += e - s\n",
    "    batched.append([linked[i], annotated[i], converted])\n",
    "  print(\"Link batch time:\", link_batch_end - link_batch_start)\n",
    "  print(\"Anno batch time:\", annotator_time)\n",
    "  print(\"Conv batch time:\", converter_time)\n",
    "  return batched"
   ]
  },
  {
   "attachments": {},
   "cell_type": "markdown",
   "id": "2c690305",
   "metadata": {
    "papermill": {
     "duration": null,
     "end_time": null,
     "exception": null,
     "start_time": null,
     "status": "completed"
    },
    "tags": []
   },
   "source": [
    "## Data"
   ]
  },
  {
   "cell_type": "code",
   "execution_count": null,
   "id": "d10f2a2c",
   "metadata": {
    "papermill": {
     "duration": null,
     "end_time": null,
     "exception": null,
     "start_time": null,
     "status": "completed"
    },
    "tags": []
   },
   "outputs": [],
   "source": [
    "from pathlib import Path\n",
    "import pandas as pd\n",
    "import json\n",
    "\n",
    "data_path = Path(\"..\") / \"t5-for-sparql\" / \"data\" / \"lcquad2\" / \"train.json\"\n",
    "data2_path = Path(\"..\") / \"t5-for-sparql\" / \"data\" / \"lcquad2\" / \"test_KG_4211.json\""
   ]
  },
  {
   "cell_type": "code",
   "execution_count": null,
   "id": "b1ae4122",
   "metadata": {
    "papermill": {
     "duration": null,
     "end_time": null,
     "exception": null,
     "start_time": null,
     "status": "completed"
    },
    "tags": []
   },
   "outputs": [],
   "source": [
    "with open(data_path) as f:\n",
    "  data_dict = json.load(f)\n",
    "\n",
    "with open(data2_path) as f:\n",
    "  data_dict.extend(json.load(f))\n",
    "\n",
    "count = 0\n",
    "\n",
    "for item in data_dict:\n",
    "  paraphrased_question = item[\"paraphrased_question\"]\n",
    "  question = item[\"question\"]\n",
    "  if paraphrased_question == None:\n",
    "    raise Exception\n",
    "  if question == None:\n",
    "    count += 1\n",
    "    # print(len(paraphrased_question) > 2)\n",
    "    # pprint(item)\n",
    "  if item[\"sparql_wikidata\"] == None:\n",
    "    raise Exception\n",
    "  \n",
    "\n",
    "  if len(paraphrased_question) > 2000:\n",
    "    paraphrased_question = question\n",
    "  # item[\"new_question\"] = paraphrased_question if len(paraphrased_question) > 2 and paraphrased_question != [] else question\n",
    "  item[\"new_question\"] = question\n",
    "\n",
    "print(\"Missing question count:\", count)\n",
    "\n",
    "df = pd.DataFrame.from_dict(data_dict)\n",
    "df = df.dropna(axis=0, subset=['new_question'])\n",
    "df = df[~df.question.isin(['n/a', None, 'none', 'None'])]\n",
    "n_entries = len(df)\n",
    "print(\"Number of rows:\", n_entries)"
   ]
  },
  {
   "cell_type": "code",
   "execution_count": null,
   "id": "8e6d67e5",
   "metadata": {
    "papermill": {
     "duration": null,
     "end_time": null,
     "exception": null,
     "start_time": null,
     "status": "completed"
    },
    "tags": []
   },
   "outputs": [],
   "source": [
    "assert(len(df[df.question.isna()]) == 0)"
   ]
  },
  {
   "cell_type": "code",
   "execution_count": null,
   "id": "51ab971e",
   "metadata": {
    "papermill": {
     "duration": null,
     "end_time": null,
     "exception": null,
     "start_time": null,
     "status": "completed"
    },
    "tags": []
   },
   "outputs": [],
   "source": [
    "for data in df[0:5].iterrows():\n",
    "    print(data[1].new_question)"
   ]
  },
  {
   "cell_type": "code",
   "execution_count": null,
   "id": "3243d526",
   "metadata": {
    "papermill": {
     "duration": null,
     "end_time": null,
     "exception": null,
     "start_time": null,
     "status": "completed"
    },
    "tags": []
   },
   "outputs": [],
   "source": [
    "responses = []\n",
    "batch_qns = []\n",
    "batch_ans = []\n",
    "truncated_data = df[:]\n",
    "total_len = len(truncated_data)\n",
    "last = 0\n",
    "cutoff = 0\n",
    "for i, data in enumerate(truncated_data.iterrows()):\n",
    "    data = data[1]\n",
    "    if i < cutoff:\n",
    "        continue\n",
    "    # print(\"Pipeline iter\", i)\n",
    "    question = data[\"new_question\"]\n",
    "    answer = data[\"sparql_wikidata\"]\n",
    "    # try\n",
    "    #     linked, annotated, converted = pipe(question, answer)\n",
    "    # except Exception as e:\n",
    "    #     print(e)\n",
    "    #     continue\n",
    "    # responses.append([linked, annotated, converted])\n",
    "    if (question and answer) and len(question) >= 2:\n",
    "        batch_qns.append(question)\n",
    "        batch_ans.append(answer)\n",
    "    if ((i + 1) % 50) == 0 or i == total_len - 1:\n",
    "        print(\"[Pipeline1]:\", f\"Linking {last}-{i}\")\n",
    "        try:\n",
    "            for linked, annotated, converted in pipe_batch(batch_qns, batch_ans):\n",
    "                responses.append([linked, annotated, converted])\n",
    "            batch_qns = []\n",
    "            batch_ans = []\n",
    "            last = i\n",
    "        except Exception as e:\n",
    "            raise e\n",
    "            # print(e)\n",
    "            # continue\n",
    "        with open(f\"../t5-for-sparql/falcon_links/5ents-gold_0rels/link_{i}.json\", \"w\") as f:\n",
    "            json.dump(responses, f, indent=2, separators=(',',':'))"
   ]
  }
 ],
 "metadata": {
  "kernelspec": {
   "display_name": "py310",
   "language": "python",
   "name": "python3"
  },
  "language_info": {
   "codemirror_mode": {
    "name": "ipython",
    "version": 3
   },
   "file_extension": ".py",
   "mimetype": "text/x-python",
   "name": "python",
   "nbconvert_exporter": "python",
   "pygments_lexer": "ipython3",
   "version": "3.10.11"
  },
  "papermill": {
   "default_parameters": {},
   "duration": 0.853322,
   "end_time": "2023-07-19T05:01:14.325161",
   "environment_variables": {},
   "exception": null,
   "input_path": "pipeline2.ipynb",
   "output_path": "pipeline2-5eg0r.papermill.ipynb",
   "parameters": {},
   "start_time": "2023-07-19T05:01:13.471839",
   "version": "2.4.0"
  }
 },
 "nbformat": 4,
 "nbformat_minor": 5
}
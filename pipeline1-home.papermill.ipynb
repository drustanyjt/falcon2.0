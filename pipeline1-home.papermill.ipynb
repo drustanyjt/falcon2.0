{
 "cells": [
  {
   "attachments": {},
   "cell_type": "markdown",
   "id": "7825913b",
   "metadata": {
    "papermill": {
     "duration": 0.001183,
     "end_time": "2023-07-13T14:41:18.285281",
     "exception": false,
     "start_time": "2023-07-13T14:41:18.284098",
     "status": "completed"
    },
    "tags": []
   },
   "source": [
    "# Pipeline 1"
   ]
  },
  {
   "cell_type": "code",
   "execution_count": 1,
   "id": "b50e5ac0",
   "metadata": {
    "execution": {
     "iopub.execute_input": "2023-07-13T14:41:18.287839Z",
     "iopub.status.busy": "2023-07-13T14:41:18.287693Z",
     "iopub.status.idle": "2023-07-13T14:41:18.968379Z",
     "shell.execute_reply": "2023-07-13T14:41:18.967940Z"
    },
    "papermill": {
     "duration": 0.682949,
     "end_time": "2023-07-13T14:41:18.969222",
     "exception": false,
     "start_time": "2023-07-13T14:41:18.286273",
     "status": "completed"
    },
    "tags": []
   },
   "outputs": [],
   "source": [
    "from pipeline import Falcon2Linker, SerialAnnotator, T5Converter\n",
    "import time\n",
    "from pprint import pprint"
   ]
  },
  {
   "cell_type": "code",
   "execution_count": 2,
   "id": "9a2ff577",
   "metadata": {
    "execution": {
     "iopub.execute_input": "2023-07-13T14:41:18.971760Z",
     "iopub.status.busy": "2023-07-13T14:41:18.971508Z",
     "iopub.status.idle": "2023-07-13T14:41:18.973789Z",
     "shell.execute_reply": "2023-07-13T14:41:18.973383Z"
    },
    "papermill": {
     "duration": 0.004306,
     "end_time": "2023-07-13T14:41:18.974481",
     "exception": false,
     "start_time": "2023-07-13T14:41:18.970175",
     "status": "completed"
    },
    "tags": []
   },
   "outputs": [],
   "source": [
    "linker = Falcon2Linker()\n",
    "annotator = SerialAnnotator()\n",
    "converter = T5Converter()"
   ]
  },
  {
   "cell_type": "code",
   "execution_count": 3,
   "id": "ff3da856",
   "metadata": {
    "execution": {
     "iopub.execute_input": "2023-07-13T14:41:18.976778Z",
     "iopub.status.busy": "2023-07-13T14:41:18.976571Z",
     "iopub.status.idle": "2023-07-13T14:41:18.978639Z",
     "shell.execute_reply": "2023-07-13T14:41:18.978258Z"
    },
    "papermill": {
     "duration": 0.003836,
     "end_time": "2023-07-13T14:41:18.979243",
     "exception": false,
     "start_time": "2023-07-13T14:41:18.975407",
     "status": "completed"
    },
    "tags": []
   },
   "outputs": [],
   "source": [
    "utterance = \"Who is the wife of Barack Obama\""
   ]
  },
  {
   "cell_type": "code",
   "execution_count": 4,
   "id": "2a2c231e",
   "metadata": {
    "execution": {
     "iopub.execute_input": "2023-07-13T14:41:18.981418Z",
     "iopub.status.busy": "2023-07-13T14:41:18.981311Z",
     "iopub.status.idle": "2023-07-13T14:41:30.394720Z",
     "shell.execute_reply": "2023-07-13T14:41:30.394319Z"
    },
    "papermill": {
     "duration": 11.415363,
     "end_time": "2023-07-13T14:41:30.395487",
     "exception": false,
     "start_time": "2023-07-13T14:41:18.980124",
     "status": "completed"
    },
    "tags": []
   },
   "outputs": [
    {
     "name": "stdout",
     "output_type": "stream",
     "text": [
      "recieved utterance\n",
      "0 : ['Who is the wife of Barack Obama']\n"
     ]
    },
    {
     "name": "stdout",
     "output_type": "stream",
     "text": [
      "[reRank_relations]: who is the wife of Barack Obama \n",
      "SPARQL Requests Made: 1 \n",
      "SPARQL Requests Total Time: 2.742044687271118 \n",
      "SPARQL Avg Time per Qn: 2.742044687271118\n",
      "['Who is the wife of Barack Obama', [['<http://www.wikidata.org/entity/P26>', 'wife'], ['<http://www.wikidata.org/entity/P2848>', 'wife'], ['<http://www.wikidata.org/entity/P140>', 'wife'], ['<http://www.wikidata.org/entity/P451>', 'wife'], ['<http://www.wikidata.org/entity/P600>', 'wife']], [['<http://www.wikidata.org/entity/Q76>', 'Barack obama'], ['<http://www.wikidata.org/entity/Q649593>', 'Barack obama'], ['<http://www.wikidata.org/entity/Q4808526>', 'Barack obama'], ['<http://www.wikidata.org/entity/Q4858106>', 'Barack obama'], ['<http://www.wikidata.org/entity/Q643049>', 'Barack obama']], 0, 0, 0, 0]\n",
      "'Linked'\n",
      "{'ents': [{'id': 'Q76',\n",
      "           'prefix': 'wd:',\n",
      "           'uri': 'http://www.wikidata.org/entity/Q76'},\n",
      "          {'id': 'Q649593',\n",
      "           'prefix': 'wd:',\n",
      "           'uri': 'http://www.wikidata.org/entity/Q649593'},\n",
      "          {'id': 'Q4808526',\n",
      "           'prefix': 'wd:',\n",
      "           'uri': 'http://www.wikidata.org/entity/Q4808526'},\n",
      "          {'id': 'Q4858106',\n",
      "           'prefix': 'wd:',\n",
      "           'uri': 'http://www.wikidata.org/entity/Q4858106'},\n",
      "          {'id': 'Q643049',\n",
      "           'prefix': 'wd:',\n",
      "           'uri': 'http://www.wikidata.org/entity/Q643049'}],\n",
      " 'rels': [{'id': 'P26',\n",
      "           'prefix': 'wdt:',\n",
      "           'uri': 'http://www.wikidata.org/prop/direct/P26'},\n",
      "          {'id': 'P2848',\n",
      "           'prefix': 'wdt:',\n",
      "           'uri': 'http://www.wikidata.org/prop/direct/P2848'},\n",
      "          {'id': 'P140',\n",
      "           'prefix': 'wdt:',\n",
      "           'uri': 'http://www.wikidata.org/prop/direct/P140'},\n",
      "          {'id': 'P451',\n",
      "           'prefix': 'wdt:',\n",
      "           'uri': 'http://www.wikidata.org/prop/direct/P451'},\n",
      "          {'id': 'P600',\n",
      "           'prefix': 'wdt:',\n",
      "           'uri': 'http://www.wikidata.org/prop/direct/P600'}],\n",
      " 'utterance': 'Who is the wife of Barack Obama'}\n",
      "'Annotated'\n"
     ]
    },
    {
     "name": "stdout",
     "output_type": "stream",
     "text": [
      "{'fragments': ['[DEF]',\n",
      "               'wd:',\n",
      "               'Q76 Barack Obama',\n",
      "               '[DEF]',\n",
      "               'wd:',\n",
      "               'Q649593 Barack Obama Sr.',\n",
      "               '[DEF]',\n",
      "               'wd:',\n",
      "               'Q4808526 assassination threats against Barack Obama',\n",
      "               '[DEF]',\n",
      "               'wd:',\n",
      "               'Q4858106 Barack Obama Academy',\n",
      "               '[DEF]',\n",
      "               'wd:',\n",
      "               'Q643049 family of Barack Obama',\n",
      "               '[DEF]',\n",
      "               'wdt:',\n",
      "               'P26 spouse',\n",
      "               '[DEF]',\n",
      "               'wdt:',\n",
      "               'P2848 Wi-Fi access',\n",
      "               '[DEF]',\n",
      "               'wdt:',\n",
      "               'P140 religion',\n",
      "               '[DEF]',\n",
      "               'wdt:',\n",
      "               'P451 unmarried partner',\n",
      "               '[DEF]',\n",
      "               'wdt:',\n",
      "               'P600 Wine AppDB ID'],\n",
      " 'utterance': 'Who is the wife of Barack Obama'}\n",
      "'Converted'\n",
      "('Who is the wife of Barack Obama <extra_id_59> <extra_id_53> Q76 Barack Obama '\n",
      " '<extra_id_59> <extra_id_53> Q649593 Barack Obama Sr. <extra_id_59> '\n",
      " '<extra_id_53> Q4808526 assassination threats against Barack Obama '\n",
      " '<extra_id_59> <extra_id_53> Q4858106 Barack Obama Academy <extra_id_59> '\n",
      " '<extra_id_53> Q643049 family of Barack Obama <extra_id_59> <extra_id_54> P26 '\n",
      " 'spouse <extra_id_59> <extra_id_54> P2848 Wi-Fi access <extra_id_59> '\n",
      " '<extra_id_54> P140 religion <extra_id_59> <extra_id_54> P451 unmarried '\n",
      " 'partner <extra_id_59> <extra_id_54> P600 Wine AppDB ID')\n"
     ]
    }
   ],
   "source": [
    "linked = linker.link(utterance)\n",
    "# rules = [1,2,3,4,5,8,9,10,12,13,14]\n",
    "# linked = process_text_E_R(utterance, rules)\n",
    "pprint(\"Linked\")\n",
    "pprint(linked)\n",
    "\n",
    "pprint(\"Annotated\")\n",
    "annotated = annotator.annotate(**linked)\n",
    "pprint(annotated)\n",
    "\n",
    "pprint(\"Converted\")\n",
    "converted = converter.preprocess_inputs(**annotated)\n",
    "pprint(converted)"
   ]
  },
  {
   "cell_type": "code",
   "execution_count": 5,
   "id": "2aca32c5",
   "metadata": {
    "execution": {
     "iopub.execute_input": "2023-07-13T14:41:30.398248Z",
     "iopub.status.busy": "2023-07-13T14:41:30.398017Z",
     "iopub.status.idle": "2023-07-13T14:41:30.400500Z",
     "shell.execute_reply": "2023-07-13T14:41:30.400129Z"
    },
    "papermill": {
     "duration": 0.004537,
     "end_time": "2023-07-13T14:41:30.401136",
     "exception": false,
     "start_time": "2023-07-13T14:41:30.396599",
     "status": "completed"
    },
    "tags": []
   },
   "outputs": [],
   "source": [
    "def pipe(utterance, wikisparql):\n",
    "    linked = linker.link(utterance)\n",
    "    annotated = annotator.annotate(**linked)\n",
    "    converted = converter.preprocess(**annotated, wikisparql=wikisparql)\n",
    "    return linked, annotated, converted"
   ]
  },
  {
   "cell_type": "code",
   "execution_count": 6,
   "id": "852f98f3",
   "metadata": {
    "execution": {
     "iopub.execute_input": "2023-07-13T14:41:30.403617Z",
     "iopub.status.busy": "2023-07-13T14:41:30.403509Z",
     "iopub.status.idle": "2023-07-13T14:41:30.406414Z",
     "shell.execute_reply": "2023-07-13T14:41:30.406019Z"
    },
    "papermill": {
     "duration": 0.004938,
     "end_time": "2023-07-13T14:41:30.407074",
     "exception": false,
     "start_time": "2023-07-13T14:41:30.402136",
     "status": "completed"
    },
    "tags": []
   },
   "outputs": [],
   "source": [
    "def pipe_batch(utterances, wikisparqls):\n",
    "  batched = []\n",
    "  link_batch_start = time.time()\n",
    "  linked = linker.link_batch(utterances)\n",
    "  link_batch_end = time.time()\n",
    "  annotator_time = 0\n",
    "  converter_time = 0\n",
    "  for i, single_linked in enumerate(linked):\n",
    "    s = time.time()\n",
    "    annotated = annotator.annotate(**single_linked)\n",
    "    e = time.time()\n",
    "    try:\n",
    "      annotator_time += e - s\n",
    "    except Exception as e:\n",
    "      print(\"[Annotator Error]:\", e)\n",
    "      continue\n",
    "    s = time.time()\n",
    "    try:\n",
    "      converted = converter.preprocess(**annotated, wikisparql=wikisparqls[i])\n",
    "    except Exception as e:\n",
    "      print(\"[Converter Error]:\", e)\n",
    "      continue\n",
    "      \n",
    "    e = time.time()\n",
    "    converter_time += e - s\n",
    "    batched.append([single_linked, annotated, converted])\n",
    "  print(\"Link batch time:\", link_batch_end - link_batch_start)\n",
    "  print(\"Anno batch time:\", annotator_time)\n",
    "  print(\"Conv batch time:\", converter_time)\n",
    "  return batched"
   ]
  },
  {
   "attachments": {},
   "cell_type": "markdown",
   "id": "8a9c5ca2",
   "metadata": {
    "papermill": {
     "duration": 0.001009,
     "end_time": "2023-07-13T14:41:30.409087",
     "exception": false,
     "start_time": "2023-07-13T14:41:30.408078",
     "status": "completed"
    },
    "tags": []
   },
   "source": [
    "## Data"
   ]
  },
  {
   "cell_type": "code",
   "execution_count": 7,
   "id": "3f2056fb",
   "metadata": {
    "execution": {
     "iopub.execute_input": "2023-07-13T14:41:30.411584Z",
     "iopub.status.busy": "2023-07-13T14:41:30.411472Z",
     "iopub.status.idle": "2023-07-13T14:41:30.550498Z",
     "shell.execute_reply": "2023-07-13T14:41:30.550045Z"
    },
    "papermill": {
     "duration": 0.141261,
     "end_time": "2023-07-13T14:41:30.551335",
     "exception": false,
     "start_time": "2023-07-13T14:41:30.410074",
     "status": "completed"
    },
    "tags": []
   },
   "outputs": [],
   "source": [
    "from pathlib import Path\n",
    "import pandas as pd\n",
    "import json\n",
    "\n",
    "data_path = Path(\"..\") / \"t5-for-sparql\" / \"data\" / \"lcquad2\" / \"train.json\""
   ]
  },
  {
   "cell_type": "code",
   "execution_count": 8,
   "id": "d1119ffe",
   "metadata": {
    "execution": {
     "iopub.execute_input": "2023-07-13T14:41:30.554131Z",
     "iopub.status.busy": "2023-07-13T14:41:30.553899Z",
     "iopub.status.idle": "2023-07-13T14:41:30.681041Z",
     "shell.execute_reply": "2023-07-13T14:41:30.680527Z"
    },
    "papermill": {
     "duration": 0.129375,
     "end_time": "2023-07-13T14:41:30.681823",
     "exception": false,
     "start_time": "2023-07-13T14:41:30.552448",
     "status": "completed"
    },
    "tags": []
   },
   "outputs": [
    {
     "name": "stdout",
     "output_type": "stream",
     "text": [
      "Missing question count: 56\n",
      "Number of rows: 24125\n"
     ]
    }
   ],
   "source": [
    "from pprint import pprint\n",
    "with open(data_path) as f:\n",
    "  data_dict = json.load(f)\n",
    "\n",
    "count = 0\n",
    "\n",
    "for item in data_dict:\n",
    "  paraphrased_question = item[\"paraphrased_question\"]\n",
    "  question = item[\"question\"]\n",
    "  if paraphrased_question == None:\n",
    "    raise Exception\n",
    "  if question == None:\n",
    "    count += 1\n",
    "    # print(len(paraphrased_question) > 2)\n",
    "    # pprint(item)\n",
    "  if item[\"sparql_wikidata\"] == None:\n",
    "    raise Exception\n",
    "  \n",
    "  item[\"new_question\"] = paraphrased_question if len(paraphrased_question) > 2 and paraphrased_question != [] else question\n",
    "\n",
    "print(\"Missing question count:\", count)\n",
    "\n",
    "df = pd.DataFrame.from_dict(data_dict)\n",
    "df = df.dropna(axis=0, subset=['new_question'])\n",
    "n_entries = len(df)\n",
    "print(\"Number of rows:\", n_entries)"
   ]
  },
  {
   "cell_type": "code",
   "execution_count": 9,
   "id": "c2c44504",
   "metadata": {
    "execution": {
     "iopub.execute_input": "2023-07-13T14:41:30.684818Z",
     "iopub.status.busy": "2023-07-13T14:41:30.684567Z",
     "iopub.status.idle": "2023-07-13T14:41:30.687634Z",
     "shell.execute_reply": "2023-07-13T14:41:30.687255Z"
    },
    "papermill": {
     "duration": 0.005223,
     "end_time": "2023-07-13T14:41:30.688252",
     "exception": false,
     "start_time": "2023-07-13T14:41:30.683029",
     "status": "completed"
    },
    "tags": []
   },
   "outputs": [],
   "source": [
    "assert(len(df[df.sparql_wikidata.isna()]) == 0)"
   ]
  },
  {
   "cell_type": "code",
   "execution_count": 10,
   "id": "999e01ee",
   "metadata": {
    "execution": {
     "iopub.execute_input": "2023-07-13T14:41:30.691309Z",
     "iopub.status.busy": "2023-07-13T14:41:30.691074Z",
     "iopub.status.idle": "2023-07-14T02:40:59.049522Z",
     "shell.execute_reply": "2023-07-14T02:40:59.048810Z"
    },
    "papermill": {
     "duration": 43167.657392,
     "end_time": "2023-07-14T02:40:58.346814",
     "exception": false,
     "start_time": "2023-07-13T14:41:30.689422",
     "status": "completed"
    },
    "tags": []
   },
   "outputs": [
    {
     "name": "stdout",
     "output_type": "stream",
     "text": [
      "Pipeline iter 0\n",
      "Pipeline iter 1\n",
      "Pipeline iter 2\n",
      "Pipeline iter 3\n",
      "Pipeline iter 4\n",
      "Pipeline iter 5\n",
      "Pipeline iter 6\n",
      "Pipeline iter 7\n",
      "Pipeline iter 8\n",
      "Pipeline iter 9\n",
      "Pipeline iter 10\n",
      "Pipeline iter 11\n",
      "Pipeline iter 12\n",
      "Pipeline iter 13\n",
      "Pipeline iter 14\n",
      "Pipeline iter 15\n",
      "Pipeline iter 16\n",
      "Pipeline iter 17\n",
      "Pipeline iter 18\n",
      "Pipeline iter 19\n",
      "Pipeline iter 20\n",
      "Pipeline iter 21\n",
      "Pipeline iter 22\n",
      "Pipeline iter 23\n",
      "Pipeline iter 24\n",
      "Pipeline iter 25\n",
      "Pipeline iter 26\n",
      "Pipeline iter 27\n",
      "Pipeline iter 28\n",
      "Pipeline iter 29\n",
      "Pipeline iter 30\n",
      "Pipeline iter 31\n",
      "Pipeline iter 32\n",
      "Pipeline iter 33\n",
      "Pipeline iter 34\n",
      "Pipeline iter 35\n",
      "Pipeline iter 36\n",
      "Pipeline iter 37\n",
      "Pipeline iter 38\n",
      "Pipeline iter 39\n",
      "Pipeline iter 40\n",
      "Pipeline iter 41\n",
      "Pipeline iter 42\n",
      "Pipeline iter 43\n",
      "Pipeline iter 44\n",
      "Pipeline iter 45\n",
      "Pipeline iter 46\n",
      "Pipeline iter 47\n",
      "Pipeline iter 48\n",
      "Pipeline iter 49\n",
      "[Pipeline1]: Linking 0-49\n",
      "1 : ['What is Delta Air Lines periodical literature mouthpiece?']\n",
      "1 : ['What is the name of Ranavalona Is husbands child?']\n",
      "1 : ['Are Jeff Bridges and Lane Chandler both photographers?']\n",
      "1 : ['What range are the papers at the Monique Genonceaux about?']\n",
      "1 : ['Which is the operating income for Qantas?']\n",
      "1 : ['which cola begins with the letter p']\n",
      "1 : ['Does malin 1 have a right ascension lower than 15.1398?']\n",
      "1 : ['What is the total list of records discharged by Jerry Lee Lewis?']\n",
      "1 : ['What is Mary Lou Rettons International Olympic Committee athlete ID.']\n",
      "1 : ['Who won the prize at the spin-off of the 1885 Wimbledon Championships- Gentlemens Singles?']\n",
      "1 : ['Does the iPhone X Max have a carbon footprint of 106?']\n",
      "1 : ['Tell me the female splendor festival that operates in all countries and contains the phrase model in it is name?']\n",
      "1 : ['In 1999 and 2019, was Lindsey Vonn in the FIS Alpine World Ski Championships?']\n",
      "1 : ['On November 10, 1994, what was Angela Merkels role?']\n",
      "1 : ['What was the population of Spokane at the beginning of 2007?']\n",
      "1 : ['What basic pharmaceutical is required to treat leprosy?']\n",
      "1 : ['Which is HanCinema person ID for Zhang Ziyi?']\n",
      "1 : ['Was the Tony Award for best direction of the play Premium Imperiale given to Judi Densch?']\n",
      "1 : ['Copper as 4703.0 has a boiling boint of what?']\n",
      "1 : ['why Marathon had this name and the current record is?']\n",
      "1 : ['Who Sleepwalking succeeded in playing Sleepwalking?']\n",
      "1 : ['In 1983, what nomination did Clifton Chenier receive?']\n",
      "1 : ['Which is the wear for Ambrose Burnside?']\n",
      "1 : ['What flammable liquid has the least lower flammable limit in Class IB?']\n",
      "1 : ['What is the material used and accredited by means of Mojito?']\n",
      "1 : ['In this topic, give a summary of Koreas history']\n",
      "1 : ['Which is {scene of} of {Virgin of the rocks}, which has {birth city} is {Tzippori} ?']\n",
      "1 : ['Is the Fielders Stadium owned by Kevin Costner?']\n",
      "1 : ['Which is the YouTube channel ID for Miley Cyrus?']\n",
      "1 : ['What could be a aptitude that begins with the letter s.']\n",
      "1 : ['Give me the dimensions of Captain America']\n",
      "1 : ['What award did Danila Kozlovsky get in 2017?']\n"
     ]
    },
    {
     "name": "stdout",
     "output_type": "stream",
     "text": [
      "2 : ['Who is the understudy that coined the Euler-Lagrange equation?']\n"
     ]
    },
    {
     "name": "stdout",
     "output_type": "stream",
     "text": [
      "3 : ['Which website does Twitch own?']\n"
     ]
    },
    {
     "name": "stdout",
     "output_type": "stream",
     "text": [
      "4 : ['Is the negligible deadly dosage of the benzene rise to to 170000?']\n",
      "5 : ['Who is the person Ivan Pavlovs student?']\n"
     ]
    },
    {
     "name": "stdout",
     "output_type": "stream",
     "text": [
      "6 : ['is the clock speed of the Watara Supervision littler than 3.2?']\n",
      "[reRank_relations]: which website does Twitch own \n",
      "SPARQL Requests Made: 0 \n",
      "SPARQL Requests Total Time: 0 \n",
      "SPARQL Avg Time per Qn: 0\n",
      "[reRank_relations]: which website does Twitch own \n",
      "SPARQL Requests Made: 0 \n",
      "SPARQL Requests Total Time: 0 \n",
      "SPARQL Avg Time per Qn: 0\n",
      "7 : ['What country leads the African Union?']\n",
      "[reRank_relations]: are Jeff Bridges and Lane Chandler both photographers \n",
      "SPARQL Requests Made: 0 \n",
      "SPARQL Requests Total Time: 0 \n",
      "SPARQL Avg Time per Qn: 0\n",
      "[reRank_relations]: who Sleepwalking succeeded in playing Sleepwalking \n",
      "SPARQL Requests Made: 0 \n",
      "SPARQL Requests Total Time: 0 \n",
      "SPARQL Avg Time per Qn: 0\n"
     ]
    },
    {
     "name": "stdout",
     "output_type": "stream",
     "text": [
      "8 : ['The accused Mariposa Folk Festival in 1974 employed whom?']\n"
     ]
    },
    {
     "name": "stdout",
     "output_type": "stream",
     "text": [
      "9 : ['N / A N / A']\n",
      "[reRank_relations]: which is HanCinema person ID for Zhang Ziyi \n",
      "SPARQL Requests Made: 1 \n",
      "SPARQL Requests Total Time: 2.1943161487579346 \n",
      "SPARQL Avg Time per Qn: 2.1943161487579346\n",
      "[reRank_relations]: which is HanCinema person ID for Zhang Ziyi \n",
      "SPARQL Requests Made: 0 \n",
      "SPARQL Requests Total Time: 0 \n",
      "SPARQL Avg Time per Qn: 0\n",
      "10 : ['Which sister city in Zakhar Oskotsky was born?']\n",
      "[reRank_relations]: what was the population of Spokane at the beginning of 2007 \n",
      "SPARQL Requests Made: 1 \n",
      "SPARQL Requests Total Time: 1.2744052410125732 \n",
      "SPARQL Avg Time per Qn: 1.2744052410125732\n",
      "11 : ['Let me know the title of a fantastique sort that begins with the letter s.']\n",
      "12 : ['What is the medal Angela Lansbury recieved?']\n"
     ]
    },
    {
     "name": "stdout",
     "output_type": "stream",
     "text": [
      "[reRank_relations]: which is the YouTube channel ID for Miley Cyrus \n",
      "SPARQL Requests Made: 3 \n",
      "SPARQL Requests Total Time: 3.753237009048462 \n",
      "SPARQL Avg Time per Qn: 1.251079003016154\n"
     ]
    },
    {
     "name": "stdout",
     "output_type": "stream",
     "text": [
      "[reRank_relations]: which sister city in Zakhar Oskotsky was born \n",
      "SPARQL Requests Made: 2 \n",
      "SPARQL Requests Total Time: 1.489260196685791 \n",
      "SPARQL Avg Time per Qn: 0.7446300983428955\n"
     ]
    },
    {
     "name": "stdout",
     "output_type": "stream",
     "text": [
      "[reRank_relations]: which sister city in Zakhar Oskotsky was born \n",
      "SPARQL Requests Made: 3 \n",
      "SPARQL Requests Total Time: 2.210712194442749 \n",
      "SPARQL Avg Time per Qn: 0.7369040648142496\n",
      "[reRank_relations]: which sister city in Zakhar Oskotsky was born \n",
      "SPARQL Requests Made: 0 \n",
      "SPARQL Requests Total Time: 0 \n",
      "SPARQL Avg Time per Qn: 0\n",
      "13 : ['What is the musical rating by means of Missa Solemnis that has mother Maria Magdalena van Beethoven?']\n"
     ]
    },
    {
     "name": "stdout",
     "output_type": "stream",
     "text": [
      "[reRank_relations]: who won the prize at the spin-off of the 1885 Wimbledon Championships- Gentlemens Singles \n",
      "SPARQL Requests Made: 5 \n",
      "SPARQL Requests Total Time: 4.7950873374938965 \n",
      "SPARQL Avg Time per Qn: 0.9590174674987793\n",
      "14 : ['When did Robert De Nirolive in Marbletown?']\n"
     ]
    },
    {
     "name": "stdout",
     "output_type": "stream",
     "text": [
      "[reRank_relations]: which is the operating income for Qantas \n",
      "SPARQL Requests Made: 8 \n",
      "SPARQL Requests Total Time: 7.75108528137207 \n",
      "SPARQL Avg Time per Qn: 0.9688856601715088\n"
     ]
    },
    {
     "name": "stdout",
     "output_type": "stream",
     "text": [
      "[reRank_relations]: was the Tony Award for best direction of the play Premium Imperiale given to Judi Densch \n",
      "SPARQL Requests Made: 9 \n",
      "SPARQL Requests Total Time: 7.018003225326538 \n",
      "SPARQL Avg Time per Qn: 0.7797781361473931\n",
      "[reRank_relations]: was the Tony Award for best direction of the play Premium Imperiale given to Judi Densch \n",
      "SPARQL Requests Made: 0 \n",
      "SPARQL Requests Total Time: 0 \n",
      "SPARQL Avg Time per Qn: 0\n",
      "15 : ['Let me know organization whose title has the word zollkriminalamt in it.']\n",
      "[reRank_relations]: does malin 1 have a right ascension lower than 151398 \n",
      "SPARQL Requests Made: 9 \n",
      "SPARQL Requests Total Time: 7.796179533004761 \n",
      "SPARQL Avg Time per Qn: 0.8662421703338623\n",
      "16 : ['Which country in the International Centre for Settlement of Investment Disputes has the highest inflation rate?']\n",
      "[reRank_relations]: which is the operating income for Qantas \n",
      "SPARQL Requests Made: 1 \n",
      "SPARQL Requests Total Time: 0.743370532989502 \n",
      "SPARQL Avg Time per Qn: 0.743370532989502\n",
      "17 : ['Did Brittany Murphy have USA citizenship?']\n"
     ]
    },
    {
     "name": "stdout",
     "output_type": "stream",
     "text": [
      "[reRank_relations]: is the Fielders Stadium owned by Kevin Costner \n",
      "SPARQL Requests Made: 12 \n",
      "SPARQL Requests Total Time: 10.056481838226318 \n",
      "SPARQL Avg Time per Qn: 0.8380401531855265\n",
      "[reRank_relations]: is the Fielders Stadium owned by Kevin Costner \n",
      "SPARQL Requests Made: 0 \n",
      "SPARQL Requests Total Time: 0 \n",
      "SPARQL Avg Time per Qn: 0\n",
      "18 : ['Who is Hank Azaria married to ?']\n"
     ]
    },
    {
     "name": "stdout",
     "output_type": "stream",
     "text": [
      "[reRank_relations]: who is Hank Azaria married to  \n",
      "SPARQL Requests Made: 1 \n",
      "SPARQL Requests Total Time: 0.7341210842132568 \n",
      "SPARQL Avg Time per Qn: 0.7341210842132568\n",
      "[reRank_relations]: who is Hank Azaria married to  \n",
      "SPARQL Requests Made: 0 \n",
      "SPARQL Requests Total Time: 0 \n",
      "SPARQL Avg Time per Qn: 0\n",
      "19 : ['Is 11 the maximum age of St. Peters Junior School?']\n",
      "[reRank_relations]: which is the wear for Ambrose Burnside \n",
      "SPARQL Requests Made: 13 \n",
      "SPARQL Requests Total Time: 11.037207841873169 \n",
      "SPARQL Avg Time per Qn: 0.8490159878363976\n"
     ]
    },
    {
     "name": "stdout",
     "output_type": "stream",
     "text": [
      "[reRank_relations]: when did Robert De Nirolive in Marbletown \n",
      "SPARQL Requests Made: 10 \n",
      "SPARQL Requests Total Time: 7.366475820541382 \n",
      "SPARQL Avg Time per Qn: 0.7366475820541382\n"
     ]
    },
    {
     "name": "stdout",
     "output_type": "stream",
     "text": [
      "[reRank_relations]: what is Mary Lou Rettons International Olympic Committee athlete ID \n",
      "SPARQL Requests Made: 18 \n",
      "SPARQL Requests Total Time: 14.468961715698242 \n",
      "SPARQL Avg Time per Qn: 0.8038312064276801\n"
     ]
    },
    {
     "name": "stdout",
     "output_type": "stream",
     "text": [
      "[reRank_relations]: which is the YouTube channel ID for Miley Cyrus \n",
      "SPARQL Requests Made: 15 \n",
      "SPARQL Requests Total Time: 11.69153094291687 \n",
      "SPARQL Avg Time per Qn: 0.779435396194458\n"
     ]
    },
    {
     "name": "stdout",
     "output_type": "stream",
     "text": [
      "[reRank_relations]: why Marathon had this name and the current record is \n",
      "SPARQL Requests Made: 20 \n",
      "SPARQL Requests Total Time: 16.051148176193237 \n",
      "SPARQL Avg Time per Qn: 0.8025574088096619\n"
     ]
    },
    {
     "name": "stdout",
     "output_type": "stream",
     "text": [
      "[reRank_relations]: which country in the International Centre for Settlement of Investment Disputes has the highest inflation rate \n",
      "SPARQL Requests Made: 18 \n",
      "SPARQL Requests Total Time: 14.022466897964478 \n",
      "SPARQL Avg Time per Qn: 0.7790259387758043\n"
     ]
    },
    {
     "name": "stdout",
     "output_type": "stream",
     "text": [
      "[reRank_relations]: who Sleepwalking succeeded in playing Sleepwalking \n",
      "SPARQL Requests Made: 28 \n",
      "SPARQL Requests Total Time: 22.763853311538696 \n",
      "SPARQL Avg Time per Qn: 0.812994761126382\n"
     ]
    },
    {
     "name": "stdout",
     "output_type": "stream",
     "text": [
      "[reRank_relations]: what is the total list of records discharged by Jerry Lee Lewis \n",
      "SPARQL Requests Made: 30 \n",
      "SPARQL Requests Total Time: 25.367780923843384 \n",
      "SPARQL Avg Time per Qn: 0.8455926974614462\n",
      "[reRank_relations]: what is the total list of records discharged by Jerry Lee Lewis \n",
      "SPARQL Requests Made: 0 \n",
      "SPARQL Requests Total Time: 0 \n",
      "SPARQL Avg Time per Qn: 0\n"
     ]
    },
    {
     "name": "stdout",
     "output_type": "stream",
     "text": [
      "[reRank_relations]: what is the name of Ranavalona Is husbands child \n",
      "SPARQL Requests Made: 72 \n",
      "SPARQL Requests Total Time: 56.43311047554016 \n",
      "SPARQL Avg Time per Qn: 0.7837932010491689\n",
      "[reRank_relations]: what is the name of Ranavalona Is husbands child \n",
      "SPARQL Requests Made: 0 \n",
      "SPARQL Requests Total Time: 0 \n",
      "SPARQL Avg Time per Qn: 0\n"
     ]
    },
    {
     "name": "stdout",
     "output_type": "stream",
     "text": [
      "[reRank_relations]: what basic pharmaceutical is required to treat Leprosy \n",
      "SPARQL Requests Made: 79 \n",
      "SPARQL Requests Total Time: 63.55764055252075 \n",
      "SPARQL Avg Time per Qn: 0.8045270956015285\n"
     ]
    },
    {
     "name": "stdout",
     "output_type": "stream",
     "text": [
      "[reRank_relations]: what country leads the African Union \n",
      "SPARQL Requests Made: 90 \n",
      "SPARQL Requests Total Time: 68.98589301109314 \n",
      "SPARQL Avg Time per Qn: 0.7665099223454793\n"
     ]
    },
    {
     "name": "stdout",
     "output_type": "stream",
     "text": [
      "[reRank_relations]: what is the material used and accredited by means of Mojito \n",
      "SPARQL Requests Made: 90 \n",
      "SPARQL Requests Total Time: 71.17840337753296 \n",
      "SPARQL Avg Time per Qn: 0.7908711486392551\n"
     ]
    },
    {
     "name": "stdout",
     "output_type": "stream",
     "text": [
      "[reRank_relations]: what country leads the African Union \n",
      "SPARQL Requests Made: 3 \n",
      "SPARQL Requests Total Time: 2.2401528358459473 \n",
      "SPARQL Avg Time per Qn: 0.746717611948649\n",
      "[reRank_relations]: what is the medal Angela Lansbury recieved \n",
      "SPARQL Requests Made: 91 \n",
      "SPARQL Requests Total Time: 70.4668538570404 \n",
      "SPARQL Avg Time per Qn: 0.7743610313960484\n"
     ]
    },
    {
     "name": "stdout",
     "output_type": "stream",
     "text": [
      "[reRank_relations]: who is the person Ivan Pavlovs student \n",
      "SPARQL Requests Made: 93 \n",
      "SPARQL Requests Total Time: 74.44525361061096 \n",
      "SPARQL Avg Time per Qn: 0.8004865979635587\n"
     ]
    },
    {
     "name": "stdout",
     "output_type": "stream",
     "text": [
      "[reRank_relations]: what is the medal Angela Lansbury recieved \n",
      "SPARQL Requests Made: 5 \n",
      "SPARQL Requests Total Time: 4.861461162567139 \n",
      "SPARQL Avg Time per Qn: 0.9722922325134278\n"
     ]
    },
    {
     "name": "stdout",
     "output_type": "stream",
     "text": [
      "[reRank_relations]: did Brittany Murphy have USA citizenship \n",
      "SPARQL Requests Made: 93 \n",
      "SPARQL Requests Total Time: 71.54194140434265 \n",
      "SPARQL Avg Time per Qn: 0.7692681871434693\n"
     ]
    },
    {
     "name": "stdout",
     "output_type": "stream",
     "text": [
      "[reRank_relations]: the accused Mariposa Folk Festival in 1974 employed whom \n",
      "SPARQL Requests Made: 104 \n",
      "SPARQL Requests Total Time: 80.10729646682739 \n",
      "SPARQL Avg Time per Qn: 0.7702624660271865\n"
     ]
    },
    {
     "name": "stdout",
     "output_type": "stream",
     "text": [
      "[reRank_relations]: is the clock speed of the Watara Supervision littler than 32 \n",
      "SPARQL Requests Made: 106 \n",
      "SPARQL Requests Total Time: 82.18188095092773 \n",
      "SPARQL Avg Time per Qn: 0.7753007636879975\n"
     ]
    },
    {
     "name": "stdout",
     "output_type": "stream",
     "text": [
      "[reRank_relations]: what basic pharmaceutical is required to treat Leprosy \n",
      "SPARQL Requests Made: 32 \n",
      "SPARQL Requests Total Time: 24.478930950164795 \n",
      "SPARQL Avg Time per Qn: 0.7649665921926498\n"
     ]
    },
    {
     "name": "stdout",
     "output_type": "stream",
     "text": [
      "[reRank_relations]: are Jeff Bridges and Lane Chandler both photographers \n",
      "SPARQL Requests Made: 123 \n",
      "SPARQL Requests Total Time: 97.347900390625 \n",
      "SPARQL Avg Time per Qn: 0.7914463446392277\n"
     ]
    },
    {
     "name": "stdout",
     "output_type": "stream",
     "text": [
      "[reRank_relations]: in 1983, what nomination did Clifton Chenier receive \n",
      "SPARQL Requests Made: 122 \n",
      "SPARQL Requests Total Time: 97.78611397743225 \n",
      "SPARQL Avg Time per Qn: 0.8015255244051824\n"
     ]
    },
    {
     "name": "stdout",
     "output_type": "stream",
     "text": [
      "[reRank_relations]: tell me the female splendor festival that operates in all countries and contains the phrase model in it is name \n",
      "SPARQL Requests Made: 125 \n",
      "SPARQL Requests Total Time: 96.94754886627197 \n",
      "SPARQL Avg Time per Qn: 0.7755803909301758\n"
     ]
    },
    {
     "name": "stdout",
     "output_type": "stream",
     "text": [
      "[reRank_relations]: tell me the female splendor festival that operates in all countries and contains the phrase model in it is name \n",
      "SPARQL Requests Made: 9 \n",
      "SPARQL Requests Total Time: 6.659671068191528 \n",
      "SPARQL Avg Time per Qn: 0.7399634520212809\n"
     ]
    },
    {
     "name": "stdout",
     "output_type": "stream",
     "text": [
      "[reRank_relations]: what award did Danila Kozlovsky get in 2017 \n",
      "SPARQL Requests Made: 136 \n",
      "SPARQL Requests Total Time: 106.9641523361206 \n",
      "SPARQL Avg Time per Qn: 0.7865011201185339\n"
     ]
    },
    {
     "name": "stdout",
     "output_type": "stream",
     "text": [
      "[reRank_relations]: what award did Danila Kozlovsky get in 2017 \n",
      "SPARQL Requests Made: 10 \n",
      "SPARQL Requests Total Time: 7.717746257781982 \n",
      "SPARQL Avg Time per Qn: 0.7717746257781982\n"
     ]
    },
    {
     "name": "stdout",
     "output_type": "stream",
     "text": [
      "[reRank_relations]: the accused Mariposa Folk Festival in 1974 employed whom \n",
      "SPARQL Requests Made: 60 \n",
      "SPARQL Requests Total Time: 45.43379735946655 \n",
      "SPARQL Avg Time per Qn: 0.7572299559911092\n"
     ]
    },
    {
     "name": "stdout",
     "output_type": "stream",
     "text": [
      "[reRank_relations]: who is the Understudy that coined the Euler-Lagrange equation \n",
      "SPARQL Requests Made: 166 \n",
      "SPARQL Requests Total Time: 127.8475649356842 \n",
      "SPARQL Avg Time per Qn: 0.7701660538294229\n"
     ]
    },
    {
     "name": "stdout",
     "output_type": "stream",
     "text": [
      "[reRank_relations]: what range are the papers at the Monique Genonceaux about \n",
      "SPARQL Requests Made: 210 \n",
      "SPARQL Requests Total Time: 164.76013016700745 \n",
      "SPARQL Avg Time per Qn: 0.7845720484143212\n"
     ]
    },
    {
     "name": "stdout",
     "output_type": "stream",
     "text": [
      "[reRank_relations]: let me know the title of a fantastique sort that begins with the letter s \n",
      "SPARQL Requests Made: 226 \n",
      "SPARQL Requests Total Time: 175.13103461265564 \n",
      "SPARQL Avg Time per Qn: 0.7749160823568834\n"
     ]
    },
    {
     "name": "stdout",
     "output_type": "stream",
     "text": [
      "[reRank_relations]: in 1999 and 2019, was Lindsey Vonn in the FIS Alpine World Ski Championships \n",
      "SPARQL Requests Made: 231 \n",
      "SPARQL Requests Total Time: 179.626140832901 \n",
      "SPARQL Avg Time per Qn: 0.7776023412679697\n"
     ]
    },
    {
     "name": "stdout",
     "output_type": "stream",
     "text": [
      "[reRank_relations]: what is the musical rating by means of Missa Solemnis that has mother Maria Magdalena van Beethoven \n",
      "SPARQL Requests Made: 226 \n",
      "SPARQL Requests Total Time: 174.51950025558472 \n",
      "SPARQL Avg Time per Qn: 0.7722101781220563\n"
     ]
    },
    {
     "name": "stdout",
     "output_type": "stream",
     "text": [
      "[reRank_relations]: let me know organization whose title has the word zollkriminalamt in it \n",
      "SPARQL Requests Made: 246 \n",
      "SPARQL Requests Total Time: 190.43513178825378 \n",
      "SPARQL Avg Time per Qn: 0.7741265519847714\n"
     ]
    },
    {
     "name": "stdout",
     "output_type": "stream",
     "text": [
      "[reRank_relations]: what flammable liquid has the least lower flammable limit in Class IB \n",
      "SPARQL Requests Made: 254 \n",
      "SPARQL Requests Total Time: 197.79512572288513 \n",
      "SPARQL Avg Time per Qn: 0.7787209674129336\n"
     ]
    },
    {
     "name": "stdout",
     "output_type": "stream",
     "text": [
      "[reRank_relations]: what flammable liquid has the least lower flammable limit in Class IB \n",
      "SPARQL Requests Made: 4 \n",
      "SPARQL Requests Total Time: 2.9358038902282715 \n",
      "SPARQL Avg Time per Qn: 0.7339509725570679\n"
     ]
    },
    {
     "name": "stdout",
     "output_type": "stream",
     "text": [
      "[reRank_relations]: what is the material used and accredited by means of Mojito \n",
      "SPARQL Requests Made: 180 \n",
      "SPARQL Requests Total Time: 138.3985617160797 \n",
      "SPARQL Avg Time per Qn: 0.768880898422665\n"
     ]
    },
    {
     "name": "stdout",
     "output_type": "stream",
     "text": [
      "[reRank_relations]: who Sleepwalking succeeded in playing Sleepwalking \n",
      "SPARQL Requests Made: 270 \n",
      "SPARQL Requests Total Time: 210.81374526023865 \n",
      "SPARQL Avg Time per Qn: 0.780791649111995\n",
      "[reRank_relations]: who Sleepwalking succeeded in playing Sleepwalking \n",
      "SPARQL Requests Made: 0 \n",
      "SPARQL Requests Total Time: 0 \n",
      "SPARQL Avg Time per Qn: 0\n"
     ]
    },
    {
     "name": "stdout",
     "output_type": "stream",
     "text": [
      "[reRank_relations]: which cola begins with the letter p \n",
      "SPARQL Requests Made: 306 \n",
      "SPARQL Requests Total Time: 241.52840161323547 \n",
      "SPARQL Avg Time per Qn: 0.7893085020040375\n"
     ]
    },
    {
     "name": "stdout",
     "output_type": "stream",
     "text": [
      "[reRank_relations]: tell me the female splendor festival that operates in all countries and contains the phrase model in it is name \n",
      "SPARQL Requests Made: 242 \n",
      "SPARQL Requests Total Time: 187.072429895401 \n",
      "SPARQL Avg Time per Qn: 0.7730265698157066\n"
     ]
    },
    {
     "name": "stdout",
     "output_type": "stream",
     "text": [
      "[reRank_relations]: what could be a aptitude that begins with the letter s \n",
      "SPARQL Requests Made: 390 \n",
      "SPARQL Requests Total Time: 304.79470705986023 \n",
      "SPARQL Avg Time per Qn: 0.7815248898970775\n"
     ]
    },
    {
     "name": "stdout",
     "output_type": "stream",
     "text": [
      "[reRank_relations]: on November 10, 1994, what was Angela Merkels role \n",
      "SPARQL Requests Made: 450 \n",
      "SPARQL Requests Total Time: 349.75976729393005 \n",
      "SPARQL Avg Time per Qn: 0.7772439273198446\n"
     ]
    },
    {
     "name": "stdout",
     "output_type": "stream",
     "text": [
      "[reRank_relations]: what is the musical rating by means of Missa Solemnis that has mother Maria Magdalena van Beethoven \n",
      "SPARQL Requests Made: 226 \n",
      "SPARQL Requests Total Time: 176.30358028411865 \n",
      "SPARQL Avg Time per Qn: 0.780104337540348\n"
     ]
    },
    {
     "name": "stdout",
     "output_type": "stream",
     "text": [
      "[reRank_relations]: let me know the title of a fantastique sort that begins with the letter s \n",
      "SPARQL Requests Made: 391 \n",
      "SPARQL Requests Total Time: 305.8866374492645 \n",
      "SPARQL Avg Time per Qn: 0.7823187658548965\n"
     ]
    },
    {
     "name": "stdout",
     "output_type": "stream",
     "text": [
      "[reRank_relations]: let me know the title of a fantastique sort that begins with the letter s \n",
      "SPARQL Requests Made: 115 \n",
      "SPARQL Requests Total Time: 89.2458598613739 \n",
      "SPARQL Avg Time per Qn: 0.7760509553162948\n"
     ]
    },
    {
     "name": "stdout",
     "output_type": "stream",
     "text": [
      "[reRank_relations]: on November 10, 1994, what was Angela Merkels role \n",
      "SPARQL Requests Made: 450 \n",
      "SPARQL Requests Total Time: 350.60858273506165 \n",
      "SPARQL Avg Time per Qn: 0.7791301838556925\n"
     ]
    },
    {
     "name": "stdout",
     "output_type": "stream",
     "text": [
      "Index error, no label found for\n",
      "wdt::P1773\n"
     ]
    },
    {
     "name": "stdout",
     "output_type": "stream",
     "text": [
      "Index error, no label found for\n",
      "wd::Q228087\n"
     ]
    },
    {
     "name": "stdout",
     "output_type": "stream",
     "text": [
      "Link batch time: 1404.3942260742188\n",
      "Anno batch time: 582.3285326957703\n",
      "Conv batch time: 0.0024480819702148438\n",
      "Pipeline iter 50\n",
      "Pipeline iter 51\n",
      "Pipeline iter 52\n",
      "Pipeline iter 53\n",
      "Pipeline iter 54\n",
      "Pipeline iter 55\n",
      "Pipeline iter 56\n",
      "Pipeline iter 57\n",
      "Pipeline iter 58\n",
      "Pipeline iter 59\n",
      "Pipeline iter 60\n",
      "Pipeline iter 61\n",
      "Pipeline iter 62\n",
      "Pipeline iter 63\n",
      "Pipeline iter 64\n",
      "Pipeline iter 65\n",
      "Pipeline iter 66\n",
      "Pipeline iter 67\n",
      "Pipeline iter 68\n",
      "Pipeline iter 69\n",
      "Pipeline iter 70\n",
      "Pipeline iter 71\n",
      "Pipeline iter 72\n",
      "Pipeline iter 73\n",
      "Pipeline iter 74\n",
      "Pipeline iter 75\n",
      "Pipeline iter 76\n",
      "Pipeline iter 77\n",
      "Pipeline iter 78\n",
      "Pipeline iter 79\n",
      "Pipeline iter 80\n",
      "Pipeline iter 81\n",
      "Pipeline iter 82\n",
      "Pipeline iter 83\n",
      "Pipeline iter 84\n",
      "Pipeline iter 85\n",
      "Pipeline iter 86\n",
      "Pipeline iter 87\n",
      "Pipeline iter 88\n",
      "Pipeline iter 89\n",
      "Pipeline iter 90\n",
      "Pipeline iter 91\n",
      "Pipeline iter 92\n",
      "Pipeline iter 93\n",
      "Pipeline iter 94\n",
      "Pipeline iter 95\n",
      "Pipeline iter 96\n",
      "Pipeline iter 97\n",
      "Pipeline iter 98\n",
      "Pipeline iter 99\n",
      "[Pipeline1]: Linking 49-99\n",
      "51 : ['What country has the highest taxes?']\n",
      "51 : ['What was the date that The St. Louis Literary Award was aquired by James Thomas Farrell.']\n",
      "51 : ['On what date did Pablo Picasso end his partnership with Fernade Oliver?']\n",
      "51 : ['What product that contains paraffin wax has the lowest usage per capita?']\n",
      "51 : ['Where is the geographic center of Michigan using the gravity center of the surface?']\n",
      "51 : ['In Indonesia, is the average life expectancy 55.3528?']\n",
      "51 : ['What year did Emmerson Mnangagwa start at the University of Zambia?']\n",
      "51 : ['What kind of career in the screenwriting field does Grigori Kozintsev have?']\n",
      "51 : ['Which species is the ecia139-4120 protein found in?']\n",
      "51 : ['What majestic state supplanted the Kingdom of Incredible Britain?']\n",
      "51 : ['Of the century breaks of the Colm Gilcreest rise to less than 9.6?']\n",
      "51 : ['Where did the Golden Horde live in?']\n",
      "51 : ['Located in the Central District, what is the county seat whose twin cities include Feodosiya?']\n",
      "51 : ['In what year was Nicaraguas population 3.87732 million?']\n",
      "51 : ['What does emigration mean?']\n",
      "51 : ['The football association regulates what organization?']\n",
      "51 : ['When was the companion separated Nero in 9-6-68?']\n",
      "51 : ['Not applicable']\n",
      "51 : ['Former champion Francisco Alarcon gave what award to Art Spiegelaman?']\n",
      "51 : ['Are there more than survivors of the Charkhi Dadri mid-air collision']\n",
      "51 : ['On what date was Triple Crown Trophy given to Secretariat?']\n",
      "51 : ['Which borders of borders of Riverside have a begin date of 1984-0-0?']\n",
      "51 : ['Which is the facility of the defensive wall?']\n",
      "51 : ['What is  in the IHO Hydrographic Dictionary (S-32) Number of lighthouse ?']\n",
      "51 : ['Which is the fictional analog of Hippocampus?']\n",
      "51 : ['What is a purpose of dying that begins with the letter p and can be located on a CT scan?']\n",
      "51 : ['What is hooked up by way of Archbishop of Canterbury, who is a male?']\n",
      "51 : ['Where at Passy Cementery is Fernandel buried?']\n",
      "51 : ['How is the naval artillery wirh the smallest firing range called?']\n",
      "51 : ['What is the title of a Cayenne Pepper that too has dates?']\n",
      "51 : ['Does Vest-vassdraget have a throughput of 2697.672?']\n",
      "51 : ['wich method was used by the census to determine the population of Taguig?']\n"
     ]
    },
    {
     "name": "stdout",
     "output_type": "stream",
     "text": [
      "52 : ['Olga Tokarczuk was the winner of what award in 2015?']\n"
     ]
    },
    {
     "name": "stdout",
     "output_type": "stream",
     "text": [
      "53 : ['What is Porky Pig in right now?']\n",
      "54 : ['When did distributer of Pac-Man and put of publication?']\n"
     ]
    },
    {
     "name": "stdout",
     "output_type": "stream",
     "text": [
      "[reRank_relations]: what majestic state supplanted the Kingdom of Incredible Britain \n",
      "SPARQL Requests Made: 0 \n",
      "SPARQL Requests Total Time: 0 \n",
      "SPARQL Avg Time per Qn: 0\n",
      "55 : ['Did Aleister Crowley receive his education at Trinity College and Eton College?']\n"
     ]
    },
    {
     "name": "stdout",
     "output_type": "stream",
     "text": [
      "[reRank_relations]: what kind of career in the screenwriting field does Grigori Kozintsev have \n",
      "SPARQL Requests Made: 0 \n",
      "SPARQL Requests Total Time: 0 \n",
      "SPARQL Avg Time per Qn: 0\n",
      "[reRank_relations]: what kind of career in the screenwriting field does Grigori Kozintsev have \n",
      "SPARQL Requests Made: 0 \n",
      "SPARQL Requests Total Time: 0 \n",
      "SPARQL Avg Time per Qn: 0\n",
      "56 : ['What is {located next to Quincy,} in the {novel, Infinite Jest}?']\n",
      "[reRank_relations]: what is a purpose of dying that begins with the letter p and can be located on a CT scan \n",
      "SPARQL Requests Made: 0 \n",
      "SPARQL Requests Total Time: 0 \n",
      "SPARQL Avg Time per Qn: 0\n",
      "[reRank_relations]: are there more than survivors of the Charkhi Dadri mid-air collision \n",
      "SPARQL Requests Made: 1 \n",
      "SPARQL Requests Total Time: 0.7508327960968018 \n",
      "SPARQL Avg Time per Qn: 0.7508327960968018\n",
      "57 : ['Eric Hobsbawm was presented with an honorary doctorate by what institution?']\n"
     ]
    },
    {
     "name": "stdout",
     "output_type": "stream",
     "text": [
      "58 : ['In 1980 name the last team Allan Border played for?']\n"
     ]
    },
    {
     "name": "stdout",
     "output_type": "stream",
     "text": [
      "[reRank_relations]: what country has the highest taxes \n",
      "SPARQL Requests Made: 2 \n",
      "SPARQL Requests Total Time: 1.4872736930847168 \n",
      "SPARQL Avg Time per Qn: 0.7436368465423584\n",
      "59 : ['Give me a movie personality from a fictional universe, such as Marvel comics that starts with a W.']\n"
     ]
    },
    {
     "name": "stdout",
     "output_type": "stream",
     "text": [
      "[reRank_relations]: where did the Golden Horde live in \n",
      "SPARQL Requests Made: 3 \n",
      "SPARQL Requests Total Time: 2.2074220180511475 \n",
      "SPARQL Avg Time per Qn: 0.7358073393503824\n",
      "60 : ['Say the anecdotal universe depicted or included within The Framework.']\n"
     ]
    },
    {
     "name": "stdout",
     "output_type": "stream",
     "text": [
      "[reRank_relations]: give me a movie personality from a fictional universe, such as Marvel comics that starts with a W \n",
      "SPARQL Requests Made: 2 \n",
      "SPARQL Requests Total Time: 1.449760913848877 \n",
      "SPARQL Avg Time per Qn: 0.7248804569244385\n"
     ]
    },
    {
     "name": "stdout",
     "output_type": "stream",
     "text": [
      "[reRank_relations]: which is the fictional analog of Hippocampus \n",
      "SPARQL Requests Made: 4 \n",
      "SPARQL Requests Total Time: 3.031994342803955 \n",
      "SPARQL Avg Time per Qn: 0.7579985857009888\n"
     ]
    },
    {
     "name": "stdout",
     "output_type": "stream",
     "text": [
      "[reRank_relations]: in what year was Nicaraguas population 387732 million \n",
      "SPARQL Requests Made: 5 \n",
      "SPARQL Requests Total Time: 3.7376160621643066 \n",
      "SPARQL Avg Time per Qn: 0.7475232124328614\n",
      "61 : ['What is {grant gotten} of {Hans Krebs} where {point in time} is {1966-0-0} ?']\n"
     ]
    },
    {
     "name": "stdout",
     "output_type": "stream",
     "text": [
      "[reRank_relations]: where at Passy Cementery is Fernandel buried \n",
      "SPARQL Requests Made: 6 \n",
      "SPARQL Requests Total Time: 4.638113498687744 \n",
      "SPARQL Avg Time per Qn: 0.7730189164479574\n",
      "[reRank_relations]: where at Passy Cementery is Fernandel buried \n",
      "SPARQL Requests Made: 0 \n",
      "SPARQL Requests Total Time: 0 \n",
      "SPARQL Avg Time per Qn: 0\n",
      "62 : ['What is the record label signed by Janet Jackson?']\n"
     ]
    },
    {
     "name": "stdout",
     "output_type": "stream",
     "text": [
      "[reRank_relations]: which is the fictional analog of Hippocampus \n",
      "SPARQL Requests Made: 4 \n",
      "SPARQL Requests Total Time: 3.1177597045898438 \n",
      "SPARQL Avg Time per Qn: 0.7794399261474609\n",
      "63 : ['What is Tanzanias total reserves?']\n",
      "64 : ['Is the slope rating of the Merion Golf Club 149?']\n"
     ]
    },
    {
     "name": "stdout",
     "output_type": "stream",
     "text": [
      "[reRank_relations]: is the slope rating of the Merion Golf Club 149 \n",
      "SPARQL Requests Made: 1 \n",
      "SPARQL Requests Total Time: 0.7344810962677002 \n",
      "SPARQL Avg Time per Qn: 0.7344810962677002\n",
      "65 : ['What is hydrogen peroxides density at twenty degrees?']\n"
     ]
    },
    {
     "name": "stdout",
     "output_type": "stream",
     "text": [
      "66 : ['who engineering firm of domestic field of modern york centaurs?']\n"
     ]
    },
    {
     "name": "stdout",
     "output_type": "stream",
     "text": [
      "[reRank_relations]: what is the record label signed by Janet Jackson \n",
      "SPARQL Requests Made: 9 \n",
      "SPARQL Requests Total Time: 6.760956525802612 \n",
      "SPARQL Avg Time per Qn: 0.7512173917558458\n"
     ]
    },
    {
     "name": "stdout",
     "output_type": "stream",
     "text": [
      "[reRank_relations]: what is the record label signed by Janet Jackson \n",
      "SPARQL Requests Made: 1 \n",
      "SPARQL Requests Total Time: 0.7486484050750732 \n",
      "SPARQL Avg Time per Qn: 0.7486484050750732\n",
      "[reRank_relations]: what is the record label signed by Janet Jackson \n",
      "SPARQL Requests Made: 0 \n",
      "SPARQL Requests Total Time: 0 \n",
      "SPARQL Avg Time per Qn: 0\n",
      "67 : ['Which { meansseason starts} in {February} ?']\n"
     ]
    },
    {
     "name": "stdout",
     "output_type": "stream",
     "text": [
      "[reRank_relations]: on what date did Pablo Picasso end his partnership with Fernade Oliver \n",
      "SPARQL Requests Made: 17 \n",
      "SPARQL Requests Total Time: 13.209787607192993 \n",
      "SPARQL Avg Time per Qn: 0.777046329834882\n"
     ]
    },
    {
     "name": "stdout",
     "output_type": "stream",
     "text": [
      "[reRank_relations]: who engineering firm of domestic field of modern york centaurs \n",
      "SPARQL Requests Made: 15 \n",
      "SPARQL Requests Total Time: 11.318896055221558 \n",
      "SPARQL Avg Time per Qn: 0.7545930703481039\n",
      "68 : ['Who is {champ} of {prize granted} {Lily Tomlin} ?TARD ?']\n"
     ]
    },
    {
     "name": "stdout",
     "output_type": "stream",
     "text": [
      "[reRank_relations]: which { meansseason starts} in {February}  \n",
      "SPARQL Requests Made: 10 \n",
      "SPARQL Requests Total Time: 8.858888626098633 \n",
      "SPARQL Avg Time per Qn: 0.8858888626098633\n",
      "69 : ['What is the ammunition of the weapon, that has been used in the conflict in Southeast Asia?']\n"
     ]
    },
    {
     "name": "stdout",
     "output_type": "stream",
     "text": [
      "[reRank_relations]: what was the date that The St Louis Literary Award was aquired by James Thomas Farrell \n",
      "SPARQL Requests Made: 30 \n",
      "SPARQL Requests Total Time: 23.887295484542847 \n",
      "SPARQL Avg Time per Qn: 0.7962431828180949\n"
     ]
    },
    {
     "name": "stdout",
     "output_type": "stream",
     "text": [
      "[reRank_relations]: when did distributer of Pac-Man and put of publication \n",
      "SPARQL Requests Made: 32 \n",
      "SPARQL Requests Total Time: 23.952837705612183 \n",
      "SPARQL Avg Time per Qn: 0.7485261783003807\n"
     ]
    },
    {
     "name": "stdout",
     "output_type": "stream",
     "text": [
      "[reRank_relations]: on what date did Pablo Picasso end his partnership with Fernade Oliver \n",
      "SPARQL Requests Made: 21 \n",
      "SPARQL Requests Total Time: 17.72529625892639 \n",
      "SPARQL Avg Time per Qn: 0.8440617266155425\n"
     ]
    },
    {
     "name": "stdout",
     "output_type": "stream",
     "text": [
      "[reRank_relations]: what was the date that The St Louis Literary Award was aquired by James Thomas Farrell \n",
      "SPARQL Requests Made: 8 \n",
      "SPARQL Requests Total Time: 6.028385639190674 \n",
      "SPARQL Avg Time per Qn: 0.7535482048988342\n",
      "[reRank_relations]: what was the date that The St Louis Literary Award was aquired by James Thomas Farrell \n",
      "SPARQL Requests Made: 0 \n",
      "SPARQL Requests Total Time: 0 \n",
      "SPARQL Avg Time per Qn: 0\n"
     ]
    },
    {
     "name": "stdout",
     "output_type": "stream",
     "text": [
      "[reRank_relations]: what year did Emmerson Mnangagwa start at the University of Zambia \n",
      "SPARQL Requests Made: 42 \n",
      "SPARQL Requests Total Time: 33.199931621551514 \n",
      "SPARQL Avg Time per Qn: 0.7904745624178932\n"
     ]
    },
    {
     "name": "stdout",
     "output_type": "stream",
     "text": [
      "[reRank_relations]: did Aleister Crowley receive his education at Trinity College and Eton College \n",
      "SPARQL Requests Made: 43 \n",
      "SPARQL Requests Total Time: 33.72113585472107 \n",
      "SPARQL Avg Time per Qn: 0.7842124617376993\n"
     ]
    },
    {
     "name": "stdout",
     "output_type": "stream",
     "text": [
      "[reRank_relations]: wich method was used by the census to determine the population of Taguig \n",
      "SPARQL Requests Made: 45 \n",
      "SPARQL Requests Total Time: 35.01010704040527 \n",
      "SPARQL Avg Time per Qn: 0.7780023786756728\n"
     ]
    },
    {
     "name": "stdout",
     "output_type": "stream",
     "text": [
      "[reRank_relations]: did Aleister Crowley receive his education at Trinity College and Eton College \n",
      "SPARQL Requests Made: 5 \n",
      "SPARQL Requests Total Time: 4.0474395751953125 \n",
      "SPARQL Avg Time per Qn: 0.8094879150390625\n",
      "[reRank_relations]: did Aleister Crowley receive his education at Trinity College and Eton College \n",
      "SPARQL Requests Made: 0 \n",
      "SPARQL Requests Total Time: 0 \n",
      "SPARQL Avg Time per Qn: 0\n"
     ]
    },
    {
     "name": "stdout",
     "output_type": "stream",
     "text": [
      "[reRank_relations]: what year did Emmerson Mnangagwa start at the University of Zambia \n",
      "SPARQL Requests Made: 8 \n",
      "SPARQL Requests Total Time: 6.390719175338745 \n",
      "SPARQL Avg Time per Qn: 0.7988398969173431\n",
      "[reRank_relations]: what year did Emmerson Mnangagwa start at the University of Zambia \n",
      "SPARQL Requests Made: 0 \n",
      "SPARQL Requests Total Time: 0 \n",
      "SPARQL Avg Time per Qn: 0\n"
     ]
    },
    {
     "name": "stdout",
     "output_type": "stream",
     "text": [
      "[reRank_relations]: give me a movie personality from a fictional universe, such as Marvel comics that starts with a W \n",
      "SPARQL Requests Made: 45 \n",
      "SPARQL Requests Total Time: 34.423556327819824 \n",
      "SPARQL Avg Time per Qn: 0.7649679183959961\n"
     ]
    },
    {
     "name": "stdout",
     "output_type": "stream",
     "text": [
      "[reRank_relations]: the football association regulates what organization \n",
      "SPARQL Requests Made: 50 \n",
      "SPARQL Requests Total Time: 38.96812057495117 \n",
      "SPARQL Avg Time per Qn: 0.7793624114990234\n"
     ]
    },
    {
     "name": "stdout",
     "output_type": "stream",
     "text": [
      "[reRank_relations]: who is {champ} of {prize granted} {Lily Tomlin} TARD  \n",
      "SPARQL Requests Made: 29 \n",
      "SPARQL Requests Total Time: 21.92846155166626 \n",
      "SPARQL Avg Time per Qn: 0.7561538466091814\n"
     ]
    },
    {
     "name": "stdout",
     "output_type": "stream",
     "text": [
      "[reRank_relations]: what is the ammunition of the weapon, that has been used in the conflict in Southeast Asia \n",
      "SPARQL Requests Made: 30 \n",
      "SPARQL Requests Total Time: 24.83598256111145 \n",
      "SPARQL Avg Time per Qn: 0.8278660853703816\n"
     ]
    },
    {
     "name": "stdout",
     "output_type": "stream",
     "text": [
      "[reRank_relations]: when was the companion separated Nero in 9-6-68 \n",
      "SPARQL Requests Made: 60 \n",
      "SPARQL Requests Total Time: 46.78274345397949 \n",
      "SPARQL Avg Time per Qn: 0.7797123908996582\n"
     ]
    },
    {
     "name": "stdout",
     "output_type": "stream",
     "text": [
      "[reRank_relations]: eric Hobsbawm was presented with an honorary doctorate by what institution \n",
      "SPARQL Requests Made: 65 \n",
      "SPARQL Requests Total Time: 50.49049663543701 \n",
      "SPARQL Avg Time per Qn: 0.7767768713144155\n"
     ]
    },
    {
     "name": "stdout",
     "output_type": "stream",
     "text": [
      "[reRank_relations]: what is the ammunition of the weapon, that has been used in the conflict in Southeast Asia \n",
      "SPARQL Requests Made: 22 \n",
      "SPARQL Requests Total Time: 17.37588143348694 \n",
      "SPARQL Avg Time per Qn: 0.7898127924312245\n"
     ]
    },
    {
     "name": "stdout",
     "output_type": "stream",
     "text": [
      "[reRank_relations]: olga Tokarczuk was the winner of what award in 2015 \n",
      "SPARQL Requests Made: 78 \n",
      "SPARQL Requests Total Time: 60.58840370178223 \n",
      "SPARQL Avg Time per Qn: 0.7767744064331055\n"
     ]
    },
    {
     "name": "stdout",
     "output_type": "stream",
     "text": [
      "[reRank_relations]: where is the geographic center of Michigan using the gravity center of the surface \n",
      "SPARQL Requests Made: 80 \n",
      "SPARQL Requests Total Time: 65.2917230129242 \n",
      "SPARQL Avg Time per Qn: 0.8161465376615524\n"
     ]
    },
    {
     "name": "stdout",
     "output_type": "stream",
     "text": [
      "[reRank_relations]: in 1980 name the last team Allan Border played for \n",
      "SPARQL Requests Made: 85 \n",
      "SPARQL Requests Total Time: 65.84325313568115 \n",
      "SPARQL Avg Time per Qn: 0.7746265074786018\n"
     ]
    },
    {
     "name": "stdout",
     "output_type": "stream",
     "text": [
      "[reRank_relations]: in 1980 name the last team Allan Border played for \n",
      "SPARQL Requests Made: 9 \n",
      "SPARQL Requests Total Time: 6.737494945526123 \n",
      "SPARQL Avg Time per Qn: 0.7486105495029025\n"
     ]
    },
    {
     "name": "stdout",
     "output_type": "stream",
     "text": [
      "[reRank_relations]: on what date did Pablo Picasso end his partnership with Fernade Oliver \n",
      "SPARQL Requests Made: 60 \n",
      "SPARQL Requests Total Time: 45.84272289276123 \n",
      "SPARQL Avg Time per Qn: 0.7640453815460205\n"
     ]
    },
    {
     "name": "stdout",
     "output_type": "stream",
     "text": [
      "[reRank_relations]: what is  in the IHO Hydrographic Dictionary (S-32) Number of lighthouse  \n",
      "SPARQL Requests Made: 107 \n",
      "SPARQL Requests Total Time: 81.50524044036865 \n",
      "SPARQL Avg Time per Qn: 0.7617312190688659\n"
     ]
    },
    {
     "name": "stdout",
     "output_type": "stream",
     "text": [
      "[reRank_relations]: how is the naval artillery wirh the smallest firing range called \n",
      "SPARQL Requests Made: 114 \n",
      "SPARQL Requests Total Time: 86.71088147163391 \n",
      "SPARQL Avg Time per Qn: 0.7606217672950343\n"
     ]
    },
    {
     "name": "stdout",
     "output_type": "stream",
     "text": [
      "[reRank_relations]: located in the Central District, what is the county seat whose twin cities include Feodosiya \n",
      "SPARQL Requests Made: 120 \n",
      "SPARQL Requests Total Time: 92.71246647834778 \n",
      "SPARQL Avg Time per Qn: 0.7726038873195649\n"
     ]
    },
    {
     "name": "stdout",
     "output_type": "stream",
     "text": [
      "[reRank_relations]: located in the Central District, what is the county seat whose twin cities include Feodosiya \n",
      "SPARQL Requests Made: 4 \n",
      "SPARQL Requests Total Time: 3.093966245651245 \n",
      "SPARQL Avg Time per Qn: 0.7734915614128113\n"
     ]
    },
    {
     "name": "stdout",
     "output_type": "stream",
     "text": [
      "[reRank_relations]: what is hooked up by way of Archbishop of Canterbury, who is a male \n",
      "SPARQL Requests Made: 135 \n",
      "SPARQL Requests Total Time: 105.04631757736206 \n",
      "SPARQL Avg Time per Qn: 0.7781208709434226\n"
     ]
    },
    {
     "name": "stdout",
     "output_type": "stream",
     "text": [
      "[reRank_relations]: what is hooked up by way of Archbishop of Canterbury, who is a male \n",
      "SPARQL Requests Made: 16 \n",
      "SPARQL Requests Total Time: 12.121233940124512 \n",
      "SPARQL Avg Time per Qn: 0.757577121257782\n"
     ]
    },
    {
     "name": "stdout",
     "output_type": "stream",
     "text": [
      "[reRank_relations]: what product that contains paraffin wax has the lowest usage per capita \n",
      "SPARQL Requests Made: 152 \n",
      "SPARQL Requests Total Time: 117.2391128540039 \n",
      "SPARQL Avg Time per Qn: 0.7713099529868678\n"
     ]
    },
    {
     "name": "stdout",
     "output_type": "stream",
     "text": [
      "[reRank_relations]: on what date did Pablo Picasso end his partnership with Fernade Oliver \n",
      "SPARQL Requests Made: 60 \n",
      "SPARQL Requests Total Time: 46.013901710510254 \n",
      "SPARQL Avg Time per Qn: 0.7668983618418376\n"
     ]
    },
    {
     "name": "stdout",
     "output_type": "stream",
     "text": [
      "[reRank_relations]: which borders of borders of Riverside have a begin date of 1984-0-0 \n",
      "SPARQL Requests Made: 165 \n",
      "SPARQL Requests Total Time: 126.07435059547424 \n",
      "SPARQL Avg Time per Qn: 0.7640869733059045\n"
     ]
    },
    {
     "name": "stdout",
     "output_type": "stream",
     "text": [
      "[reRank_relations]: wich method was used by the census to determine the population of Taguig \n",
      "SPARQL Requests Made: 121 \n",
      "SPARQL Requests Total Time: 94.19329500198364 \n",
      "SPARQL Avg Time per Qn: 0.7784569834874682\n",
      "[reRank_relations]: wich method was used by the census to determine the population of Taguig \n",
      "SPARQL Requests Made: 0 \n",
      "SPARQL Requests Total Time: 0 \n",
      "SPARQL Avg Time per Qn: 0\n"
     ]
    },
    {
     "name": "stdout",
     "output_type": "stream",
     "text": [
      "[reRank_relations]: what is the title of a Cayenne Pepper that too has dates \n",
      "SPARQL Requests Made: 172 \n",
      "SPARQL Requests Total Time: 130.44739770889282 \n",
      "SPARQL Avg Time per Qn: 0.7584151029586792\n"
     ]
    },
    {
     "name": "stdout",
     "output_type": "stream",
     "text": [
      "[reRank_relations]: on what date was Triple Crown Trophy given to Secretariat \n",
      "SPARQL Requests Made: 180 \n",
      "SPARQL Requests Total Time: 138.4777910709381 \n",
      "SPARQL Avg Time per Qn: 0.7693210615052117\n",
      "[reRank_relations]: what does Emigration mean \n",
      "SPARQL Requests Made: 180 \n",
      "SPARQL Requests Total Time: 137.4579885005951 \n",
      "SPARQL Avg Time per Qn: 0.7636554916699727\n"
     ]
    },
    {
     "name": "stdout",
     "output_type": "stream",
     "text": [
      "[reRank_relations]: what is Porky Pig in right now \n",
      "SPARQL Requests Made: 188 \n",
      "SPARQL Requests Total Time: 145.14817690849304 \n",
      "SPARQL Avg Time per Qn: 0.7720647707898566\n"
     ]
    },
    {
     "name": "stdout",
     "output_type": "stream",
     "text": [
      "[reRank_relations]: which is the facility of the defensive wall \n",
      "SPARQL Requests Made: 195 \n",
      "SPARQL Requests Total Time: 149.6412205696106 \n",
      "SPARQL Avg Time per Qn: 0.7673908747159518\n"
     ]
    },
    {
     "name": "stdout",
     "output_type": "stream",
     "text": [
      "[reRank_relations]: on what date was Triple Crown Trophy given to Secretariat \n",
      "SPARQL Requests Made: 29 \n",
      "SPARQL Requests Total Time: 22.82502555847168 \n",
      "SPARQL Avg Time per Qn: 0.7870698468438511\n"
     ]
    },
    {
     "name": "stdout",
     "output_type": "stream",
     "text": [
      "[reRank_relations]: olga Tokarczuk was the winner of what award in 2015 \n",
      "SPARQL Requests Made: 136 \n",
      "SPARQL Requests Total Time: 105.28272104263306 \n",
      "SPARQL Avg Time per Qn: 0.7741376547252431\n",
      "[reRank_relations]: say the anecdotal universe depicted or included within The Framework \n",
      "SPARQL Requests Made: 210 \n",
      "SPARQL Requests Total Time: 162.88711833953857 \n",
      "SPARQL Avg Time per Qn: 0.7756529444739932\n"
     ]
    },
    {
     "name": "stdout",
     "output_type": "stream",
     "text": [
      "[reRank_relations]: on what date did Pablo Picasso end his partnership with Fernade Oliver \n",
      "SPARQL Requests Made: 60 \n",
      "SPARQL Requests Total Time: 46.57549834251404 \n",
      "SPARQL Avg Time per Qn: 0.7762583057085674\n"
     ]
    },
    {
     "name": "stdout",
     "output_type": "stream",
     "text": [
      "[reRank_relations]: former champion Francisco Alarcon gave what award to Art Spiegelaman \n",
      "SPARQL Requests Made: 249 \n",
      "SPARQL Requests Total Time: 191.24120569229126 \n",
      "SPARQL Avg Time per Qn: 0.7680369706517721\n"
     ]
    },
    {
     "name": "stdout",
     "output_type": "stream",
     "text": [
      "[reRank_relations]: of the century breaks of the Colm Gilcreest rise to less than 96 \n",
      "SPARQL Requests Made: 251 \n",
      "SPARQL Requests Total Time: 194.31153345108032 \n",
      "SPARQL Avg Time per Qn: 0.7741495356616745\n"
     ]
    },
    {
     "name": "stdout",
     "output_type": "stream",
     "text": [
      "[reRank_relations]: former champion Francisco Alarcon gave what award to Art Spiegelaman \n",
      "SPARQL Requests Made: 20 \n",
      "SPARQL Requests Total Time: 15.716977596282959 \n",
      "SPARQL Avg Time per Qn: 0.785848879814148\n"
     ]
    },
    {
     "name": "stdout",
     "output_type": "stream",
     "text": [
      "[reRank_relations]: say the anecdotal universe depicted or included within The Framework \n",
      "SPARQL Requests Made: 60 \n",
      "SPARQL Requests Total Time: 47.86559200286865 \n",
      "SPARQL Avg Time per Qn: 0.7977598667144775\n"
     ]
    },
    {
     "name": "stdout",
     "output_type": "stream",
     "text": [
      "[reRank_relations]: former champion Francisco Alarcon gave what award to Art Spiegelaman \n",
      "SPARQL Requests Made: 30 \n",
      "SPARQL Requests Total Time: 24.091896057128906 \n",
      "SPARQL Avg Time per Qn: 0.8030632019042969\n",
      "[reRank_relations]: former champion Francisco Alarcon gave what award to Art Spiegelaman \n",
      "SPARQL Requests Made: 0 \n",
      "SPARQL Requests Total Time: 0 \n",
      "SPARQL Avg Time per Qn: 0\n"
     ]
    },
    {
     "name": "stdout",
     "output_type": "stream",
     "text": [
      "[reRank_relations]: located in the Central District, what is the county seat whose twin cities include Feodosiya \n",
      "SPARQL Requests Made: 181 \n",
      "SPARQL Requests Total Time: 142.97803449630737 \n",
      "SPARQL Avg Time per Qn: 0.7899338922447922\n"
     ]
    },
    {
     "name": "stdout",
     "output_type": "stream",
     "text": [
      "[reRank_relations]: former champion Francisco Alarcon gave what award to Art Spiegelaman \n",
      "SPARQL Requests Made: 30 \n",
      "SPARQL Requests Total Time: 22.91794514656067 \n",
      "SPARQL Avg Time per Qn: 0.7639315048853557\n"
     ]
    },
    {
     "name": "stdout",
     "output_type": "stream",
     "text": [
      "[reRank_relations]: which borders of borders of Riverside have a begin date of 1984-0-0 \n",
      "SPARQL Requests Made: 165 \n",
      "SPARQL Requests Total Time: 131.67382144927979 \n",
      "SPARQL Avg Time per Qn: 0.7980231602986654\n"
     ]
    },
    {
     "name": "stdout",
     "output_type": "stream",
     "text": [
      "[reRank_relations]: what is {grant gotten} of {Hans Krebs} where {point in time} is {1966-0-0}  \n",
      "SPARQL Requests Made: 338 \n",
      "SPARQL Requests Total Time: 270.1700882911682 \n",
      "SPARQL Avg Time per Qn: 0.799319787843693\n"
     ]
    },
    {
     "name": "stdout",
     "output_type": "stream",
     "text": [
      "[reRank_relations]: what is a purpose of dying that begins with the letter p and can be located on a CT scan \n",
      "SPARQL Requests Made: 391 \n",
      "SPARQL Requests Total Time: 308.3867645263672 \n",
      "SPARQL Avg Time per Qn: 0.7887129527528572\n"
     ]
    },
    {
     "name": "stdout",
     "output_type": "stream",
     "text": [
      "[reRank_relations]: which species is the ecia139-4120 protein found in \n",
      "SPARQL Requests Made: 450 \n",
      "SPARQL Requests Total Time: 352.618399143219 \n",
      "SPARQL Avg Time per Qn: 0.7835964425404867\n"
     ]
    },
    {
     "name": "stdout",
     "output_type": "stream",
     "text": [
      "[reRank_relations]: what product that contains paraffin wax has the lowest usage per capita \n",
      "SPARQL Requests Made: 450 \n",
      "SPARQL Requests Total Time: 354.76032876968384 \n",
      "SPARQL Avg Time per Qn: 0.788356286154853\n"
     ]
    },
    {
     "name": "stdout",
     "output_type": "stream",
     "text": [
      "[reRank_relations]: what is a purpose of dying that begins with the letter p and can be located on a CT scan \n",
      "SPARQL Requests Made: 451 \n",
      "SPARQL Requests Total Time: 350.70760011672974 \n",
      "SPARQL Avg Time per Qn: 0.7776221732078265\n"
     ]
    },
    {
     "name": "stdout",
     "output_type": "stream",
     "text": [
      "[reRank_relations]: what is a purpose of dying that begins with the letter p and can be located on a CT scan \n",
      "SPARQL Requests Made: 83 \n",
      "SPARQL Requests Total Time: 63.595205307006836 \n",
      "SPARQL Avg Time per Qn: 0.766207292855504\n"
     ]
    },
    {
     "name": "stdout",
     "output_type": "stream",
     "text": [
      "Index error, no label found for\n",
      "wdt::P134\n"
     ]
    },
    {
     "name": "stdout",
     "output_type": "stream",
     "text": [
      "Index error, no label found for\n",
      "wdt::P134\n"
     ]
    },
    {
     "name": "stdout",
     "output_type": "stream",
     "text": [
      "Link batch time: 1443.254521369934\n",
      "Anno batch time: 557.8783347606659\n",
      "Conv batch time: 0.002325296401977539\n",
      "Pipeline iter 100\n",
      "Pipeline iter 101\n",
      "Pipeline iter 102\n",
      "Pipeline iter 103\n",
      "Pipeline iter 104\n",
      "Pipeline iter 105\n",
      "Pipeline iter 106\n",
      "Pipeline iter 107\n",
      "Pipeline iter 108\n",
      "Pipeline iter 109\n",
      "Pipeline iter 110\n",
      "Pipeline iter 111\n",
      "Pipeline iter 112\n",
      "Pipeline iter 113\n",
      "Pipeline iter 114\n",
      "Pipeline iter 115\n",
      "Pipeline iter 116\n",
      "Pipeline iter 117\n",
      "Pipeline iter 118\n",
      "Pipeline iter 119\n",
      "Pipeline iter 120\n",
      "Pipeline iter 121\n",
      "Pipeline iter 122\n",
      "Pipeline iter 123\n",
      "Pipeline iter 124\n",
      "Pipeline iter 125\n",
      "Pipeline iter 126\n",
      "Pipeline iter 127\n",
      "Pipeline iter 128\n",
      "Pipeline iter 129\n",
      "Pipeline iter 130\n",
      "Pipeline iter 131\n",
      "Pipeline iter 132\n",
      "Pipeline iter 133\n",
      "Pipeline iter 134\n",
      "Pipeline iter 135\n",
      "Pipeline iter 136\n",
      "Pipeline iter 137\n",
      "Pipeline iter 138\n",
      "Pipeline iter 139\n",
      "Pipeline iter 140\n",
      "Pipeline iter 141\n",
      "Pipeline iter 142\n",
      "Pipeline iter 143\n",
      "Pipeline iter 144\n",
      "Pipeline iter 145\n",
      "Pipeline iter 146\n",
      "Pipeline iter 147\n",
      "Pipeline iter 148\n",
      "Pipeline iter 149\n",
      "[Pipeline1]: Linking 99-149\n",
      "101 : ['Tell me each and every horse breed whose identify begins with the letter z']\n",
      "101 : ['The University of Florida is a member of which coalition?']\n",
      "101 : ['Give me the name of the brother in law of the writer of Quran.']\n",
      "101 : ['What is the New Zealand Gazetteer place id for Auckland?']\n",
      "101 : ['What does the portray Review Odalisque speak to which has DRTL backwards?']\n",
      "101 : ['Title an realm that contains the word british in its name']\n",
      "101 : ['Give me the instance of Antonio da Correggio, whose birthdate is 1489-8-1?']\n",
      "101 : ['Who was the instructor that administered Shigeno Yasutsugu?']\n",
      "101 : ['What is the SANDRE ID for Rhine?']\n",
      "101 : ['On what date did Kylie Minogue receive the Gold Logie Award for Most Popular Personality on Australian Television?']\n",
      "101 : ['What is the name of Alexander McQueens business?']\n",
      "101 : ['Let me know the Greek deity of kin of Zeus which contains the word poseidon in its name?']\n",
      "101 : ['Who organizes the arrange of Ultima III: Departure?']\n",
      "101 : ['Who was the lead performing artist for the motion picture Deadpool?']\n",
      "101 : ['Say the melodic related work highlighting the work of Sasha Grey.']\n",
      "101 : ['in 2011 John de Mol won which award?']\n",
      "101 : ['Is the entire richness rate of Algeria more noteworthy than 3.4284?']\n",
      "101 : ['When does the temperature and pressure of water hit the triple point stage?']\n",
      "101 : ['Let me know physical marvel whose title has the word surface in it.']\n",
      "101 : ['where does Vladimir putin reside?']\n",
      "101 : ['Which is the municipality of Belgium that has the headquarters location of European Union?']\n",
      "101 : ['Which is made from the goat meat having a common title as Household Goat?']\n",
      "101 : ['What is located on terrain feature of Multonmah Falls?']\n",
      "101 : ['Let me know ethnolect whose title has the word perkerdansk in it.']\n",
      "101 : ['What is the temperature and state of matter of water when it reaches the critical point?']\n",
      "101 : ['which is the point time for syria has populace as 8.08815e+06?']\n",
      "101 : ['Is Human communication, packaging and labeling involved with marketing?']\n",
      "101 : ['WHAT IS THE MAXIMUM FREQUENCY OF EVENT RACE']\n",
      "101 : ['WHICH IS THE AUSTRIAN MUNICIPALITY KEY OF  KLAGENFURT']\n",
      "101 : ['Tell me the self sustaining area of the Peoples Republic of China which consists of the phrase xinjiang in its name?']\n",
      "101 : ['What Velka Pardubicka has the lowest race time that was won by Peter Gehm?']\n",
      "101 : ['Who wrote the Watchmen, and what award were they given?']\n"
     ]
    },
    {
     "name": "stdout",
     "output_type": "stream",
     "text": [
      "[reRank_relations]: where does Vladimir putin reside \n",
      "SPARQL Requests Made: 1 \n",
      "SPARQL Requests Total Time: 0.7509973049163818 \n",
      "SPARQL Avg Time per Qn: 0.7509973049163818\n",
      "[reRank_relations]: where does Vladimir putin reside \n",
      "SPARQL Requests Made: 0 \n",
      "SPARQL Requests Total Time: 0 \n",
      "SPARQL Avg Time per Qn: 0\n",
      "102 : ['N / A N / A']\n",
      "[reRank_relations]: what is the SANDRE ID for Rhine \n",
      "SPARQL Requests Made: 1 \n",
      "SPARQL Requests Total Time: 0.753821849822998 \n",
      "SPARQL Avg Time per Qn: 0.753821849822998\n",
      "103 : ['Name a book written in Esperanto']\n"
     ]
    },
    {
     "name": "stdout",
     "output_type": "stream",
     "text": [
      "104 : ['What is the general manager of Bernard Hinault?']\n",
      "105 : ['What FSK 12 rated 3D film cost the most?']\n",
      "[reRank_relations]: wHICH IS THE AUSTRIAN MUNICIPALITY KEY OF  KLAGENFURT \n",
      "SPARQL Requests Made: 1 \n",
      "SPARQL Requests Total Time: 0.785876989364624 \n",
      "SPARQL Avg Time per Qn: 0.785876989364624\n",
      "106 : ['Daniel Dennett is interested in by how many people?']\n"
     ]
    },
    {
     "name": "stdout",
     "output_type": "stream",
     "text": [
      "[reRank_relations]: who was the lead performing artist for the motion picture Deadpool \n",
      "SPARQL Requests Made: 0 \n",
      "SPARQL Requests Total Time: 0 \n",
      "SPARQL Avg Time per Qn: 0\n",
      "[reRank_relations]: what is located on terrain feature of Multonmah Falls \n",
      "SPARQL Requests Made: 1 \n",
      "SPARQL Requests Total Time: 0.7772970199584961 \n",
      "SPARQL Avg Time per Qn: 0.7772970199584961\n",
      "107 : ['In the administrative territorial entity of Bristol, what significant event happened in 1996?']\n",
      "[reRank_relations]: say the melodic related work highlighting the work of Sasha Grey \n",
      "SPARQL Requests Made: 0 \n",
      "SPARQL Requests Total Time: 0 \n",
      "SPARQL Avg Time per Qn: 0\n",
      "108 : ['Where does the river Rhine originate from?']\n"
     ]
    },
    {
     "name": "stdout",
     "output_type": "stream",
     "text": [
      "[reRank_relations]: is Human communication, packaging and labeling involved with marketing \n",
      "SPARQL Requests Made: 0 \n",
      "SPARQL Requests Total Time: 0 \n",
      "SPARQL Avg Time per Qn: 0\n",
      "109 : ['What was Cate blanchett work Im Not There nominated for']\n"
     ]
    },
    {
     "name": "stdout",
     "output_type": "stream",
     "text": [
      "110 : ['Tell me the tower that is depicted as Tower of Babel and includes the word babel in its name?']\n",
      "[reRank_relations]: give me the name of the brother in law of the writer of Quran \n",
      "SPARQL Requests Made: 1 \n",
      "SPARQL Requests Total Time: 0.7203271389007568 \n",
      "SPARQL Avg Time per Qn: 0.7203271389007568\n"
     ]
    },
    {
     "name": "stdout",
     "output_type": "stream",
     "text": [
      "[reRank_relations]: what was Cate blanchett work Im Not There nominated for \n",
      "SPARQL Requests Made: 1 \n",
      "SPARQL Requests Total Time: 0.7490780353546143 \n",
      "SPARQL Avg Time per Qn: 0.7490780353546143\n",
      "111 : ['Harold Macmillian of the 34th Parliament of the UK held which position starting from what date and then left for what reason?']\n"
     ]
    },
    {
     "name": "stdout",
     "output_type": "stream",
     "text": [
      "[reRank_relations]: what is the name of Alexander McQueens business \n",
      "SPARQL Requests Made: 4 \n",
      "SPARQL Requests Total Time: 3.0888521671295166 \n",
      "SPARQL Avg Time per Qn: 0.7722130417823792\n"
     ]
    },
    {
     "name": "stdout",
     "output_type": "stream",
     "text": [
      "[reRank_relations]: title an realm that contains the word british in its name \n",
      "SPARQL Requests Made: 4 \n",
      "SPARQL Requests Total Time: 2.9459166526794434 \n",
      "SPARQL Avg Time per Qn: 0.7364791631698608\n"
     ]
    },
    {
     "name": "stdout",
     "output_type": "stream",
     "text": [
      "[reRank_relations]: where does the river Rhine originate from \n",
      "SPARQL Requests Made: 4 \n",
      "SPARQL Requests Total Time: 2.9786336421966553 \n",
      "SPARQL Avg Time per Qn: 0.7446584105491638\n",
      "112 : ['Is 700 the maximum wavelength of sensitivity of the human eye?']\n"
     ]
    },
    {
     "name": "stdout",
     "output_type": "stream",
     "text": [
      "[reRank_relations]: in 2011 John de Mol won which award \n",
      "SPARQL Requests Made: 6 \n",
      "SPARQL Requests Total Time: 4.588229179382324 \n",
      "SPARQL Avg Time per Qn: 0.7647048632303873\n"
     ]
    },
    {
     "name": "stdout",
     "output_type": "stream",
     "text": [
      "113 : ['Where was once the region of beginning of Hermann Heinrich Gossen, that has Q48460 such that 2--4355126?']\n"
     ]
    },
    {
     "name": "stdout",
     "output_type": "stream",
     "text": [
      "[reRank_relations]: harold Macmillian of the 34th Parliament of the UK held which position starting from what date and then left for what reason \n",
      "SPARQL Requests Made: 5 \n",
      "SPARQL Requests Total Time: 3.8549511432647705 \n",
      "SPARQL Avg Time per Qn: 0.7709902286529541\n"
     ]
    },
    {
     "name": "stdout",
     "output_type": "stream",
     "text": [
      "[reRank_relations]: in the administrative territorial entity of Bristol, what significant event happened in 1996 \n",
      "SPARQL Requests Made: 16 \n",
      "SPARQL Requests Total Time: 12.46013593673706 \n",
      "SPARQL Avg Time per Qn: 0.7787584960460663\n"
     ]
    },
    {
     "name": "stdout",
     "output_type": "stream",
     "text": [
      "[reRank_relations]: give me the instance of Antonio da Correggio, whose birthdate is 1489-8-1 \n",
      "SPARQL Requests Made: 18 \n",
      "SPARQL Requests Total Time: 13.648315668106079 \n",
      "SPARQL Avg Time per Qn: 0.7582397593392266\n",
      "114 : ['Give me the person name who received nobel literature prize after Mo yan?']\n"
     ]
    },
    {
     "name": "stdout",
     "output_type": "stream",
     "text": [
      "[reRank_relations]: which is the municipality of Belgium that has the headquarters location of European Union \n",
      "SPARQL Requests Made: 20 \n",
      "SPARQL Requests Total Time: 15.066391229629517 \n",
      "SPARQL Avg Time per Qn: 0.7533195614814758\n",
      "115 : ['Which year was Eiji Toyoda awarded for his work in Order of Prince Henry?']\n"
     ]
    },
    {
     "name": "stdout",
     "output_type": "stream",
     "text": [
      "[reRank_relations]: which year was Eiji Toyoda awarded for his work in Order of Prince Henry \n",
      "SPARQL Requests Made: 2 \n",
      "SPARQL Requests Total Time: 1.470081090927124 \n",
      "SPARQL Avg Time per Qn: 0.735040545463562\n"
     ]
    },
    {
     "name": "stdout",
     "output_type": "stream",
     "text": [
      "[reRank_relations]: name a book written in Esperanto \n",
      "SPARQL Requests Made: 23 \n",
      "SPARQL Requests Total Time: 17.284464597702026 \n",
      "SPARQL Avg Time per Qn: 0.7514984607696533\n"
     ]
    },
    {
     "name": "stdout",
     "output_type": "stream",
     "text": [
      "[reRank_relations]: which year was Eiji Toyoda awarded for his work in Order of Prince Henry \n",
      "SPARQL Requests Made: 6 \n",
      "SPARQL Requests Total Time: 4.572297096252441 \n",
      "SPARQL Avg Time per Qn: 0.7620495160420736\n"
     ]
    },
    {
     "name": "stdout",
     "output_type": "stream",
     "text": [
      "[reRank_relations]: which year was Eiji Toyoda awarded for his work in Order of Prince Henry \n",
      "SPARQL Requests Made: 2 \n",
      "SPARQL Requests Total Time: 1.5164499282836914 \n",
      "SPARQL Avg Time per Qn: 0.7582249641418457\n"
     ]
    },
    {
     "name": "stdout",
     "output_type": "stream",
     "text": [
      "[reRank_relations]: who was the instructor that administered Shigeno Yasutsugu \n",
      "SPARQL Requests Made: 30 \n",
      "SPARQL Requests Total Time: 22.933817625045776 \n",
      "SPARQL Avg Time per Qn: 0.7644605875015259\n",
      "[reRank_relations]: who was the instructor that administered Shigeno Yasutsugu \n",
      "SPARQL Requests Made: 0 \n",
      "SPARQL Requests Total Time: 0 \n",
      "SPARQL Avg Time per Qn: 0\n",
      "116 : ['What was Jimmy Wales start and end date during his employment at Bomis?']\n"
     ]
    },
    {
     "name": "stdout",
     "output_type": "stream",
     "text": [
      "[reRank_relations]: who wrote the Watchmen, and what award were they given \n",
      "SPARQL Requests Made: 36 \n",
      "SPARQL Requests Total Time: 27.69326162338257 \n",
      "SPARQL Avg Time per Qn: 0.7692572673161825\n"
     ]
    },
    {
     "name": "stdout",
     "output_type": "stream",
     "text": [
      "[reRank_relations]: what is the New Zealand Gazetteer place id for Auckland \n",
      "SPARQL Requests Made: 37 \n",
      "SPARQL Requests Total Time: 30.47834324836731 \n",
      "SPARQL Avg Time per Qn: 0.82373900671263\n",
      "[reRank_relations]: what is the New Zealand Gazetteer place id for Auckland \n",
      "SPARQL Requests Made: 0 \n",
      "SPARQL Requests Total Time: 0 \n",
      "SPARQL Avg Time per Qn: 0\n",
      "117 : ['Which is the author of afterword of Erich Fromm?']\n"
     ]
    },
    {
     "name": "stdout",
     "output_type": "stream",
     "text": [
      "[reRank_relations]: which is the author of afterword of Erich Fromm \n",
      "SPARQL Requests Made: 2 \n",
      "SPARQL Requests Total Time: 1.4677295684814453 \n",
      "SPARQL Avg Time per Qn: 0.7338647842407227\n",
      "[reRank_relations]: which is the author of afterword of Erich Fromm \n",
      "SPARQL Requests Made: 0 \n",
      "SPARQL Requests Total Time: 0 \n",
      "SPARQL Avg Time per Qn: 0\n",
      "118 : ['Who are labored for Michelle Wolf and its source place of group/organisation is placed in New York City?']\n"
     ]
    },
    {
     "name": "stdout",
     "output_type": "stream",
     "text": [
      "[reRank_relations]: who are labored for Michelle Wolf and its source place of group/organisation is placed in New York City \n",
      "SPARQL Requests Made: 0 \n",
      "SPARQL Requests Total Time: 0 \n",
      "SPARQL Avg Time per Qn: 0\n"
     ]
    },
    {
     "name": "stdout",
     "output_type": "stream",
     "text": [
      "[reRank_relations]: what Velka Pardubicka has the lowest race time that was won by Peter Gehm \n",
      "SPARQL Requests Made: 41 \n",
      "SPARQL Requests Total Time: 31.109359741210938 \n",
      "SPARQL Avg Time per Qn: 0.7587648717368521\n",
      "[reRank_relations]: what Velka Pardubicka has the lowest race time that was won by Peter Gehm \n",
      "SPARQL Requests Made: 0 \n",
      "SPARQL Requests Total Time: 0 \n",
      "SPARQL Avg Time per Qn: 0\n",
      "119 : ['What is the measuring unit that starts with the letter visus?']\n"
     ]
    },
    {
     "name": "stdout",
     "output_type": "stream",
     "text": [
      "[reRank_relations]: name a book written in Esperanto \n",
      "SPARQL Requests Made: 23 \n",
      "SPARQL Requests Total Time: 17.665257215499878 \n",
      "SPARQL Avg Time per Qn: 0.7680546615434729\n"
     ]
    },
    {
     "name": "stdout",
     "output_type": "stream",
     "text": [
      "[reRank_relations]: tell me the self sustaining area of the Peoples Republic of China which consists of the phrase xinjiang in its name \n",
      "SPARQL Requests Made: 45 \n",
      "SPARQL Requests Total Time: 36.41565537452698 \n",
      "SPARQL Avg Time per Qn: 0.8092367861005995\n"
     ]
    },
    {
     "name": "stdout",
     "output_type": "stream",
     "text": [
      "[reRank_relations]: what is the measuring unit that starts with the letter visus \n",
      "SPARQL Requests Made: 15 \n",
      "SPARQL Requests Total Time: 11.259372472763062 \n",
      "SPARQL Avg Time per Qn: 0.7506248315175374\n"
     ]
    },
    {
     "name": "stdout",
     "output_type": "stream",
     "text": [
      "[reRank_relations]: what is the measuring unit that starts with the letter visus \n",
      "SPARQL Requests Made: 11 \n",
      "SPARQL Requests Total Time: 8.501688957214355 \n",
      "SPARQL Avg Time per Qn: 0.7728808142922141\n"
     ]
    },
    {
     "name": "stdout",
     "output_type": "stream",
     "text": [
      "[reRank_relations]: who wrote the Watchmen, and what award were they given \n",
      "SPARQL Requests Made: 38 \n",
      "SPARQL Requests Total Time: 29.84663677215576 \n",
      "SPARQL Avg Time per Qn: 0.7854378097935727\n"
     ]
    },
    {
     "name": "stdout",
     "output_type": "stream",
     "text": [
      "[reRank_relations]: tell me the self sustaining area of the Peoples Republic of China which consists of the phrase xinjiang in its name \n",
      "SPARQL Requests Made: 31 \n",
      "SPARQL Requests Total Time: 24.604978322982788 \n",
      "SPARQL Avg Time per Qn: 0.793708978160735\n"
     ]
    },
    {
     "name": "stdout",
     "output_type": "stream",
     "text": [
      "[reRank_relations]: who organizes the arrange of Ultima III: Departure \n",
      "SPARQL Requests Made: 90 \n",
      "SPARQL Requests Total Time: 69.7569625377655 \n",
      "SPARQL Avg Time per Qn: 0.7750773615307278\n"
     ]
    },
    {
     "name": "stdout",
     "output_type": "stream",
     "text": [
      "[reRank_relations]: give me the person name who received nobel literature prize after Mo yan \n",
      "SPARQL Requests Made: 79 \n",
      "SPARQL Requests Total Time: 61.88424253463745 \n",
      "SPARQL Avg Time per Qn: 0.7833448422106006\n",
      "[reRank_relations]: give me the person name who received nobel literature prize after Mo yan \n",
      "SPARQL Requests Made: 0 \n",
      "SPARQL Requests Total Time: 0 \n",
      "SPARQL Avg Time per Qn: 0\n"
     ]
    },
    {
     "name": "stdout",
     "output_type": "stream",
     "text": [
      "[reRank_relations]: who was the lead performing artist for the motion picture Deadpool \n",
      "SPARQL Requests Made: 109 \n",
      "SPARQL Requests Total Time: 86.10796666145325 \n",
      "SPARQL Avg Time per Qn: 0.7899813455179197\n"
     ]
    },
    {
     "name": "stdout",
     "output_type": "stream",
     "text": [
      "[reRank_relations]: title an realm that contains the word british in its name \n",
      "SPARQL Requests Made: 115 \n",
      "SPARQL Requests Total Time: 88.62254571914673 \n",
      "SPARQL Avg Time per Qn: 0.7706308323404063\n"
     ]
    },
    {
     "name": "stdout",
     "output_type": "stream",
     "text": [
      "[reRank_relations]: on what date did Kylie Minogue receive the Gold Logie Award for Most Popular Personality on Australian Television \n",
      "SPARQL Requests Made: 120 \n",
      "SPARQL Requests Total Time: 93.93026065826416 \n",
      "SPARQL Avg Time per Qn: 0.7827521721522014\n"
     ]
    },
    {
     "name": "stdout",
     "output_type": "stream",
     "text": [
      "[reRank_relations]: on what date did Kylie Minogue receive the Gold Logie Award for Most Popular Personality on Australian Television \n",
      "SPARQL Requests Made: 5 \n",
      "SPARQL Requests Total Time: 3.6605799198150635 \n",
      "SPARQL Avg Time per Qn: 0.7321159839630127\n"
     ]
    },
    {
     "name": "stdout",
     "output_type": "stream",
     "text": [
      "[reRank_relations]: let me know physical marvel whose title has the word surface in it \n",
      "SPARQL Requests Made: 147 \n",
      "SPARQL Requests Total Time: 113.39810633659363 \n",
      "SPARQL Avg Time per Qn: 0.7714156893645825\n"
     ]
    },
    {
     "name": "stdout",
     "output_type": "stream",
     "text": [
      "[reRank_relations]: what was Jimmy Wales start and end date during his employment at Bomis \n",
      "SPARQL Requests Made: 132 \n",
      "SPARQL Requests Total Time: 103.80281639099121 \n",
      "SPARQL Avg Time per Qn: 0.7863849726590243\n"
     ]
    },
    {
     "name": "stdout",
     "output_type": "stream",
     "text": [
      "[reRank_relations]: what was Jimmy Wales start and end date during his employment at Bomis \n",
      "SPARQL Requests Made: 3 \n",
      "SPARQL Requests Total Time: 2.2183375358581543 \n",
      "SPARQL Avg Time per Qn: 0.7394458452860514\n"
     ]
    },
    {
     "name": "stdout",
     "output_type": "stream",
     "text": [
      "[reRank_relations]: what was Jimmy Wales start and end date during his employment at Bomis \n",
      "SPARQL Requests Made: 8 \n",
      "SPARQL Requests Total Time: 6.014407157897949 \n",
      "SPARQL Avg Time per Qn: 0.7518008947372437\n"
     ]
    },
    {
     "name": "stdout",
     "output_type": "stream",
     "text": [
      "[reRank_relations]: say the melodic related work highlighting the work of Sasha Grey \n",
      "SPARQL Requests Made: 174 \n",
      "SPARQL Requests Total Time: 135.62423729896545 \n",
      "SPARQL Avg Time per Qn: 0.7794496396492268\n",
      "[reRank_relations]: say the melodic related work highlighting the work of Sasha Grey \n",
      "SPARQL Requests Made: 0 \n",
      "SPARQL Requests Total Time: 0 \n",
      "SPARQL Avg Time per Qn: 0\n"
     ]
    },
    {
     "name": "stdout",
     "output_type": "stream",
     "text": [
      "[reRank_relations]: give me the name of the brother in law of the writer of Quran \n",
      "SPARQL Requests Made: 180 \n",
      "SPARQL Requests Total Time: 139.22995281219482 \n",
      "SPARQL Avg Time per Qn: 0.7734997378455268\n"
     ]
    },
    {
     "name": "stdout",
     "output_type": "stream",
     "text": [
      "[reRank_relations]: what is the temperature and state of matter of water when it reaches the critical point \n",
      "SPARQL Requests Made: 180 \n",
      "SPARQL Requests Total Time: 139.54071712493896 \n",
      "SPARQL Avg Time per Qn: 0.7752262062496609\n"
     ]
    },
    {
     "name": "stdout",
     "output_type": "stream",
     "text": [
      "[reRank_relations]: what was Jimmy Wales start and end date during his employment at Bomis \n",
      "SPARQL Requests Made: 32 \n",
      "SPARQL Requests Total Time: 25.39073896408081 \n",
      "SPARQL Avg Time per Qn: 0.7934605926275253\n",
      "[reRank_relations]: what was Jimmy Wales start and end date during his employment at Bomis \n",
      "SPARQL Requests Made: 0 \n",
      "SPARQL Requests Total Time: 0 \n",
      "SPARQL Avg Time per Qn: 0\n"
     ]
    },
    {
     "name": "stdout",
     "output_type": "stream",
     "text": [
      "[reRank_relations]: harold Macmillian of the 34th Parliament of the UK held which position starting from what date and then left for what reason \n",
      "SPARQL Requests Made: 196 \n",
      "SPARQL Requests Total Time: 152.38932156562805 \n",
      "SPARQL Avg Time per Qn: 0.7774965386001431\n"
     ]
    },
    {
     "name": "stdout",
     "output_type": "stream",
     "text": [
      "[reRank_relations]: harold Macmillian of the 34th Parliament of the UK held which position starting from what date and then left for what reason \n",
      "SPARQL Requests Made: 23 \n",
      "SPARQL Requests Total Time: 17.5383358001709 \n",
      "SPARQL Avg Time per Qn: 0.7625363391378651\n"
     ]
    },
    {
     "name": "stdout",
     "output_type": "stream",
     "text": [
      "[reRank_relations]: what is the general manager of Bernard Hinault \n",
      "SPARQL Requests Made: 225 \n",
      "SPARQL Requests Total Time: 175.46827244758606 \n",
      "SPARQL Avg Time per Qn: 0.7798589886559381\n",
      "[reRank_relations]: what is the general manager of Bernard Hinault \n",
      "SPARQL Requests Made: 0 \n",
      "SPARQL Requests Total Time: 0 \n",
      "SPARQL Avg Time per Qn: 0\n"
     ]
    },
    {
     "name": "stdout",
     "output_type": "stream",
     "text": [
      "[reRank_relations]: daniel Dennett is interested in by how many people \n",
      "SPARQL Requests Made: 227 \n",
      "SPARQL Requests Total Time: 177.5055377483368 \n",
      "SPARQL Avg Time per Qn: 0.7819627213583119\n"
     ]
    },
    {
     "name": "stdout",
     "output_type": "stream",
     "text": [
      "[reRank_relations]: tell me the tower that is depicted as Tower of Babel and includes the word babel in its name \n",
      "SPARQL Requests Made: 232 \n",
      "SPARQL Requests Total Time: 178.77539134025574 \n",
      "SPARQL Avg Time per Qn: 0.7705835833631712\n"
     ]
    },
    {
     "name": "stdout",
     "output_type": "stream",
     "text": [
      "[reRank_relations]: what is the name of Alexander McQueens business \n",
      "SPARQL Requests Made: 240 \n",
      "SPARQL Requests Total Time: 184.16582775115967 \n",
      "SPARQL Avg Time per Qn: 0.767357615629832\n"
     ]
    },
    {
     "name": "stdout",
     "output_type": "stream",
     "text": [
      "[reRank_relations]: what does the portray Review Odalisque speak to which has DRTL backwards \n",
      "SPARQL Requests Made: 243 \n",
      "SPARQL Requests Total Time: 187.14448356628418 \n",
      "SPARQL Avg Time per Qn: 0.7701419076801818\n",
      "[reRank_relations]: harold Macmillian of the 34th Parliament of the UK held which position starting from what date and then left for what reason \n",
      "SPARQL Requests Made: 19 \n",
      "SPARQL Requests Total Time: 14.400628566741943 \n",
      "SPARQL Avg Time per Qn: 0.7579278193022075\n"
     ]
    },
    {
     "name": "stdout",
     "output_type": "stream",
     "text": [
      "[reRank_relations]: in the administrative territorial entity of Bristol, what significant event happened in 1996 \n",
      "SPARQL Requests Made: 226 \n",
      "SPARQL Requests Total Time: 174.5387146472931 \n",
      "SPARQL Avg Time per Qn: 0.7722951975543942\n"
     ]
    },
    {
     "name": "stdout",
     "output_type": "stream",
     "text": [
      "[reRank_relations]: let me know ethnolect whose title has the word perkerdansk in it \n",
      "SPARQL Requests Made: 246 \n",
      "SPARQL Requests Total Time: 191.31881642341614 \n",
      "SPARQL Avg Time per Qn: 0.777718765948846\n"
     ]
    },
    {
     "name": "stdout",
     "output_type": "stream",
     "text": [
      "[reRank_relations]: harold Macmillian of the 34th Parliament of the UK held which position starting from what date and then left for what reason \n",
      "SPARQL Requests Made: 23 \n",
      "SPARQL Requests Total Time: 17.57703185081482 \n",
      "SPARQL Avg Time per Qn: 0.7642187761223834\n"
     ]
    },
    {
     "name": "stdout",
     "output_type": "stream",
     "text": [
      "[reRank_relations]: let me know the Greek deity of kin of Zeus which contains the word poseidon in its name \n",
      "SPARQL Requests Made: 274 \n",
      "SPARQL Requests Total Time: 210.29267930984497 \n",
      "SPARQL Avg Time per Qn: 0.7674915303279014\n"
     ]
    },
    {
     "name": "stdout",
     "output_type": "stream",
     "text": [
      "[reRank_relations]: who are labored for Michelle Wolf and its source place of group/organisation is placed in New York City \n",
      "SPARQL Requests Made: 241 \n",
      "SPARQL Requests Total Time: 184.76199507713318 \n",
      "SPARQL Avg Time per Qn: 0.7666472824777311\n",
      "[reRank_relations]: who are labored for Michelle Wolf and its source place of group/organisation is placed in New York City \n",
      "SPARQL Requests Made: 0 \n",
      "SPARQL Requests Total Time: 0 \n",
      "SPARQL Avg Time per Qn: 0\n"
     ]
    },
    {
     "name": "stdout",
     "output_type": "stream",
     "text": [
      "[reRank_relations]: what is the measuring unit that starts with the letter visus \n",
      "SPARQL Requests Made: 225 \n",
      "SPARQL Requests Total Time: 173.52091479301453 \n",
      "SPARQL Avg Time per Qn: 0.7712040657467313\n"
     ]
    },
    {
     "name": "stdout",
     "output_type": "stream",
     "text": [
      "[reRank_relations]: harold Macmillian of the 34th Parliament of the UK held which position starting from what date and then left for what reason \n",
      "SPARQL Requests Made: 44 \n",
      "SPARQL Requests Total Time: 33.956215620040894 \n",
      "SPARQL Avg Time per Qn: 0.7717321731827476\n"
     ]
    },
    {
     "name": "stdout",
     "output_type": "stream",
     "text": [
      "[reRank_relations]: tell me the self sustaining area of the Peoples Republic of China which consists of the phrase xinjiang in its name \n",
      "SPARQL Requests Made: 235 \n",
      "SPARQL Requests Total Time: 180.44685649871826 \n",
      "SPARQL Avg Time per Qn: 0.767858963824333\n"
     ]
    },
    {
     "name": "stdout",
     "output_type": "stream",
     "text": [
      "[reRank_relations]: which year was Eiji Toyoda awarded for his work in Order of Prince Henry \n",
      "SPARQL Requests Made: 300 \n",
      "SPARQL Requests Total Time: 230.7782382965088 \n",
      "SPARQL Avg Time per Qn: 0.7692607943216959\n",
      "[reRank_relations]: which year was Eiji Toyoda awarded for his work in Order of Prince Henry \n",
      "SPARQL Requests Made: 0 \n",
      "SPARQL Requests Total Time: 0 \n",
      "SPARQL Avg Time per Qn: 0\n"
     ]
    },
    {
     "name": "stdout",
     "output_type": "stream",
     "text": [
      "[reRank_relations]: let me know the Greek deity of kin of Zeus which contains the word poseidon in its name \n",
      "SPARQL Requests Made: 64 \n",
      "SPARQL Requests Total Time: 49.76385426521301 \n",
      "SPARQL Avg Time per Qn: 0.7775602228939533\n"
     ]
    },
    {
     "name": "stdout",
     "output_type": "stream",
     "text": [
      "[reRank_relations]: what does the portray Review Odalisque speak to which has DRTL backwards \n",
      "SPARQL Requests Made: 108 \n",
      "SPARQL Requests Total Time: 83.3475968837738 \n",
      "SPARQL Avg Time per Qn: 0.7717370081830908\n"
     ]
    },
    {
     "name": "stdout",
     "output_type": "stream",
     "text": [
      "[reRank_relations]: let me know the Greek deity of kin of Zeus which contains the word poseidon in its name \n",
      "SPARQL Requests Made: 17 \n",
      "SPARQL Requests Total Time: 12.952798128128052 \n",
      "SPARQL Avg Time per Qn: 0.7619293016545913\n"
     ]
    },
    {
     "name": "stdout",
     "output_type": "stream",
     "text": [
      "[reRank_relations]: tell me the tower that is depicted as Tower of Babel and includes the word babel in its name \n",
      "SPARQL Requests Made: 149 \n",
      "SPARQL Requests Total Time: 113.08701539039612 \n",
      "SPARQL Avg Time per Qn: 0.7589732576536652\n"
     ]
    },
    {
     "name": "stdout",
     "output_type": "stream",
     "text": [
      "[reRank_relations]: when does the temperature and pressure of water hit the triple point stage \n",
      "SPARQL Requests Made: 390 \n",
      "SPARQL Requests Total Time: 300.360476732254 \n",
      "SPARQL Avg Time per Qn: 0.7701550685442411\n"
     ]
    },
    {
     "name": "stdout",
     "output_type": "stream",
     "text": [
      "[reRank_relations]: what does the portray Review Odalisque speak to which has DRTL backwards \n",
      "SPARQL Requests Made: 45 \n",
      "SPARQL Requests Total Time: 35.543842792510986 \n",
      "SPARQL Avg Time per Qn: 0.7898631731669108\n"
     ]
    },
    {
     "name": "stdout",
     "output_type": "stream",
     "text": [
      "[reRank_relations]: in 2011 John de Mol won which award \n",
      "SPARQL Requests Made: 420 \n",
      "SPARQL Requests Total Time: 322.31826519966125 \n",
      "SPARQL Avg Time per Qn: 0.7674244409515745\n"
     ]
    },
    {
     "name": "stdout",
     "output_type": "stream",
     "text": [
      "[reRank_relations]: where was once the region of beginning of Hermann Heinrich Gossen, that has Q48460 such that 2--4355126 \n",
      "SPARQL Requests Made: 450 \n",
      "SPARQL Requests Total Time: 350.00855827331543 \n",
      "SPARQL Avg Time per Qn: 0.7777967961629232\n"
     ]
    },
    {
     "name": "stdout",
     "output_type": "stream",
     "text": [
      "[reRank_relations]: what is the temperature and state of matter of water when it reaches the critical point \n",
      "SPARQL Requests Made: 300 \n",
      "SPARQL Requests Total Time: 229.3150918483734 \n",
      "SPARQL Avg Time per Qn: 0.764383639494578\n"
     ]
    },
    {
     "name": "stdout",
     "output_type": "stream",
     "text": [
      "[reRank_relations]: where was once the region of beginning of Hermann Heinrich Gossen, that has Q48460 such that 2--4355126 \n",
      "SPARQL Requests Made: 30 \n",
      "SPARQL Requests Total Time: 23.210254192352295 \n",
      "SPARQL Avg Time per Qn: 0.7736751397450765\n"
     ]
    },
    {
     "name": "stdout",
     "output_type": "stream",
     "text": [
      "[reRank_relations]: tell me each and every horse breed whose identify begins with the letter z \n",
      "SPARQL Requests Made: 496 \n",
      "SPARQL Requests Total Time: 384.34057807922363 \n",
      "SPARQL Avg Time per Qn: 0.7748801977403702\n"
     ]
    },
    {
     "name": "stdout",
     "output_type": "stream",
     "text": [
      "[reRank_relations]: where was once the region of beginning of Hermann Heinrich Gossen, that has Q48460 such that 2--4355126 \n",
      "SPARQL Requests Made: 30 \n",
      "SPARQL Requests Total Time: 24.198433876037598 \n",
      "SPARQL Avg Time per Qn: 0.8066144625345866\n"
     ]
    },
    {
     "name": "stdout",
     "output_type": "stream",
     "text": [
      "[reRank_relations]: in 2011 John de Mol won which award \n",
      "SPARQL Requests Made: 136 \n",
      "SPARQL Requests Total Time: 104.59219408035278 \n",
      "SPARQL Avg Time per Qn: 0.7690602505908293\n"
     ]
    },
    {
     "name": "stdout",
     "output_type": "stream",
     "text": [
      "[reRank_relations]: wHAT IS THE MAXIMUM FREQUENCY OF EVENT RACE \n",
      "SPARQL Requests Made: 633 \n",
      "SPARQL Requests Total Time: 487.451931476593 \n",
      "SPARQL Avg Time per Qn: 0.7700662424590727\n"
     ]
    },
    {
     "name": "stdout",
     "output_type": "stream",
     "text": [
      "[reRank_relations]: wHAT IS THE MAXIMUM FREQUENCY OF EVENT RACE \n",
      "SPARQL Requests Made: 35 \n",
      "SPARQL Requests Total Time: 27.190149068832397 \n",
      "SPARQL Avg Time per Qn: 0.7768614019666399\n"
     ]
    },
    {
     "name": "stdout",
     "output_type": "stream",
     "text": [
      "[reRank_relations]: which is made from the goat meat having a common title as Household Goat \n",
      "SPARQL Requests Made: 675 \n",
      "SPARQL Requests Total Time: 521.5418658256531 \n",
      "SPARQL Avg Time per Qn: 0.7726546160380046\n"
     ]
    },
    {
     "name": "stdout",
     "output_type": "stream",
     "text": [
      "[reRank_relations]: which is made from the goat meat having a common title as Household Goat \n",
      "SPARQL Requests Made: 9 \n",
      "SPARQL Requests Total Time: 6.937954425811768 \n",
      "SPARQL Avg Time per Qn: 0.7708838250901964\n"
     ]
    },
    {
     "name": "stdout",
     "output_type": "stream",
     "text": [
      "[reRank_relations]: when does the temperature and pressure of water hit the triple point stage \n",
      "SPARQL Requests Made: 300 \n",
      "SPARQL Requests Total Time: 230.29871153831482 \n",
      "SPARQL Avg Time per Qn: 0.7676623717943827\n"
     ]
    },
    {
     "name": "stdout",
     "output_type": "stream",
     "text": [
      "[reRank_relations]: when does the temperature and pressure of water hit the triple point stage \n",
      "SPARQL Requests Made: 180 \n",
      "SPARQL Requests Total Time: 139.4315390586853 \n",
      "SPARQL Avg Time per Qn: 0.7746196614371406\n"
     ]
    },
    {
     "name": "stdout",
     "output_type": "stream",
     "text": [
      "[reRank_relations]: what is the temperature and state of matter of water when it reaches the critical point \n",
      "SPARQL Requests Made: 411 \n",
      "SPARQL Requests Total Time: 318.8436143398285 \n",
      "SPARQL Avg Time per Qn: 0.7757752173718455\n"
     ]
    },
    {
     "name": "stdout",
     "output_type": "stream",
     "text": [
      "[reRank_relations]: what FSK 12 rated 3D film cost the most \n",
      "SPARQL Requests Made: 1125 \n",
      "SPARQL Requests Total Time: 862.86257147789 \n",
      "SPARQL Avg Time per Qn: 0.7669889524247911\n"
     ]
    },
    {
     "name": "stdout",
     "output_type": "stream",
     "text": [
      "[reRank_relations]: what FSK 12 rated 3D film cost the most \n",
      "SPARQL Requests Made: 443 \n",
      "SPARQL Requests Total Time: 342.6494998931885 \n",
      "SPARQL Avg Time per Qn: 0.7734751690591162\n"
     ]
    },
    {
     "name": "stdout",
     "output_type": "stream",
     "text": [
      "[reRank_relations]: wHAT IS THE MAXIMUM FREQUENCY OF EVENT RACE \n",
      "SPARQL Requests Made: 1041 \n",
      "SPARQL Requests Total Time: 801.5107004642487 \n",
      "SPARQL Avg Time per Qn: 0.7699430359887115\n"
     ]
    },
    {
     "name": "stdout",
     "output_type": "stream",
     "text": [
      "Index error, no label found for\n",
      "wd::Q3521547\n"
     ]
    },
    {
     "name": "stdout",
     "output_type": "stream",
     "text": [
      "Index error, no label found for\n",
      "wdt::P1432\n"
     ]
    },
    {
     "name": "stdout",
     "output_type": "stream",
     "text": [
      "Index error, no label found for\n",
      "wdt::P134\n"
     ]
    },
    {
     "name": "stdout",
     "output_type": "stream",
     "text": [
      "Index error, no label found for\n",
      "wdt::P134\n"
     ]
    },
    {
     "name": "stdout",
     "output_type": "stream",
     "text": [
      "Link batch time: 2631.383961200714\n",
      "Anno batch time: 710.3114235401154\n",
      "Conv batch time: 0.0025446414947509766\n",
      "Pipeline iter 150\n",
      "Pipeline iter 151\n",
      "Pipeline iter 152\n",
      "Pipeline iter 153\n",
      "Pipeline iter 154\n",
      "Pipeline iter 155\n",
      "Pipeline iter 156\n",
      "Pipeline iter 157\n",
      "Pipeline iter 158\n",
      "Pipeline iter 159\n",
      "Pipeline iter 160\n",
      "Pipeline iter 161\n",
      "Pipeline iter 162\n",
      "Pipeline iter 163\n",
      "Pipeline iter 164\n",
      "Pipeline iter 165\n",
      "Pipeline iter 166\n",
      "Pipeline iter 167\n",
      "Pipeline iter 168\n",
      "Pipeline iter 169\n",
      "Pipeline iter 170\n",
      "Pipeline iter 171\n",
      "Pipeline iter 172\n",
      "Pipeline iter 173\n",
      "Pipeline iter 174\n",
      "Pipeline iter 175\n",
      "Pipeline iter 176\n",
      "Pipeline iter 177\n",
      "Pipeline iter 178\n",
      "Pipeline iter 179\n",
      "Pipeline iter 180\n",
      "Pipeline iter 181\n",
      "Pipeline iter 182\n",
      "Pipeline iter 183\n",
      "Pipeline iter 184\n",
      "Pipeline iter 185\n",
      "Pipeline iter 186\n",
      "Pipeline iter 187\n",
      "Pipeline iter 188\n",
      "Pipeline iter 189\n",
      "Pipeline iter 190\n",
      "Pipeline iter 191\n",
      "Pipeline iter 192\n",
      "Pipeline iter 193\n",
      "Pipeline iter 194\n",
      "Pipeline iter 195\n",
      "Pipeline iter 196\n",
      "Pipeline iter 197\n",
      "Pipeline iter 198\n",
      "Pipeline iter 199\n",
      "[Pipeline1]: Linking 149-199\n",
      "151 : ['When was iTunes version 12.7.5 published?']\n",
      "151 : ['Dennis M. Ritchie outlined which organized programming language?']\n",
      "151 : ['How does Mickey Mouse feature in the creative work of Ben Sharpsteen?']\n",
      "151 : ['What is the the symbol for stock 0700 in Tencent?']\n",
      "151 : ['What is the head of state of the Soviet Union?']\n",
      "151 : ['What award did Dawn Fraser get in the 1960 Olympics?']\n",
      "151 : ['What is the parent organization for the Universal Court of Justice?']\n",
      "151 : ['When was the start of Sarajevos?']\n",
      "151 : ['What did Michelle Bachelet do on 6/1/1978?']\n",
      "151 : ['Which is the solubility of methyl chloride in water?']\n",
      "151 : ['Delaware rivers drains from what 5 us states']\n",
      "151 : ['Which birth dialect is Chizoba Ejike?']\n",
      "151 : ['What is the ionization energy of the nicotine?']\n",
      "151 : ['Is tuberculosis prevalent?']\n",
      "151 : ['Who were the creators for the language of the original work of Star Trek Into Darkness?']\n",
      "151 : ['Who is the companion of Aaliyah and when did they divorce?']\n",
      "151 : ['What is {inhabitants} {nationality} of {Leopold von Sacher-Masoch} ?']\n",
      "151 : ['What is the Columbia University affiliation building?']\n",
      "151 : ['What is the smallest French city in time zone UTC+01:00?']\n",
      "151 : ['What district in the city has the MAX number of houses whose instance is in the district of the city?']\n",
      "151 : ['What is Bram Stokers occupation and field of work and did he work in Dublin Castle?']\n",
      "151 : ['How numerous seasons of Handball-Bundesliga are there?']\n",
      "151 : ['What is region of house of Wangari Maathai,that has inflation charge of client fee index as 2.9?']\n",
      "151 : ['What kid did Pompey and Mucia Tertia have?']\n",
      "151 : ['Title an alcoholic refreshment that contains the word rum  in its name']\n",
      "151 : ['how many vienna in terminus']\n",
      "151 : ['What is within the locale of Paroo Stream, that isolates into Ku-ring-gai Committee?']\n",
      "151 : ['Since Aug. 25th, 1992 this has been the ister city of Changchun?']\n",
      "151 : ['Can you tell me the amount of lakes are rivers attached to Lake Urmia?']\n",
      "151 : ['Disclose to me soil type whose name has the word vertisol in it.']\n",
      "151 : ['What is Lizzy Yarnolds TheSports.org athlete ID?']\n",
      "151 : ['What is { grant gotten } from { Justin Timberlake } thats { point in time } is { 2007 - - }?']\n"
     ]
    },
    {
     "name": "stdout",
     "output_type": "stream",
     "text": [
      "Encountered value error line 51 of main.py: 's' is not in list\n"
     ]
    },
    {
     "name": "stdout",
     "output_type": "stream",
     "text": [
      "152 : ['Which devout concept begins with the letter t']\n",
      "153 : ['Is the equivalent of the Father of All Bombs explosive energy less than 52.8?']\n",
      "154 : ['when was Abigail Adamss child born?']\n"
     ]
    },
    {
     "name": "stdout",
     "output_type": "stream",
     "text": [
      "155 : ['Does the Becherovka liquor by volume less than 30.4']\n",
      "[reRank_relations]: which birth dialect is Chizoba Ejike \n",
      "SPARQL Requests Made: 0 \n",
      "SPARQL Requests Total Time: 0 \n",
      "SPARQL Avg Time per Qn: 0\n",
      "156 : ['What are the prefecture-level metropolis which start with the letter ürümqi']\n"
     ]
    },
    {
     "name": "stdout",
     "output_type": "stream",
     "text": [
      "157 : ['Tell me the ceremony in which the word umhlanga is named']\n"
     ]
    },
    {
     "name": "stdout",
     "output_type": "stream",
     "text": [
      "158 : ['Which is {played as} of {image} of {disparity} ?']\n",
      "Encountered ValueError on line 457 of main.py: 's' is not in list\n"
     ]
    },
    {
     "name": "stdout",
     "output_type": "stream",
     "text": [
      "[reRank_relations]: what is within the locale of Paroo Stream, that isolates into Ku-ring-gai Committee \n",
      "SPARQL Requests Made: 0 \n",
      "SPARQL Requests Total Time: 0 \n",
      "SPARQL Avg Time per Qn: 0\n",
      "159 : ['What is the League of Legends runtime edition?']\n",
      "[reRank_relations]: what is the head of state of the Soviet Union \n",
      "SPARQL Requests Made: 1 \n",
      "SPARQL Requests Total Time: 0.8189325332641602 \n",
      "SPARQL Avg Time per Qn: 0.8189325332641602\n",
      "160 : ['What is the title of the Dutch civil coat of arms of Amsterdam?']\n",
      "161 : ['Which is the sauce that originated in Korea?']\n"
     ]
    },
    {
     "name": "stdout",
     "output_type": "stream",
     "text": [
      "162 : ['Who are the depositors with the United Nations Secretary-General?']\n"
     ]
    },
    {
     "name": "stdout",
     "output_type": "stream",
     "text": [
      "163 : ['Which is the electric charge for antihydrogen?']\n",
      "164 : ['Who gave the {is appeared in} of {based upon} of {Clark Kent} ?']\n"
     ]
    },
    {
     "name": "stdout",
     "output_type": "stream",
     "text": [
      "[reRank_relations]: what is {inhabitants} {nationality} of {Leopold von Sacher-Masoch}  \n",
      "SPARQL Requests Made: 2 \n",
      "SPARQL Requests Total Time: 1.4849274158477783 \n",
      "SPARQL Avg Time per Qn: 0.7424637079238892\n",
      "165 : ['How far to the west are we located?']\n"
     ]
    },
    {
     "name": "stdout",
     "output_type": "stream",
     "text": [
      "[reRank_relations]: which is the electric charge for Antihydrogen \n",
      "SPARQL Requests Made: 1 \n",
      "SPARQL Requests Total Time: 0.730435848236084 \n",
      "SPARQL Avg Time per Qn: 0.730435848236084\n",
      "166 : ['Disclose me national association football team whose name has the word team in it.']\n",
      "[reRank_relations]: which is the solubility of methyl chloride in water \n",
      "SPARQL Requests Made: 2 \n",
      "SPARQL Requests Total Time: 1.5219779014587402 \n",
      "SPARQL Avg Time per Qn: 0.7609889507293701\n",
      "167 : ['Tell me the most high-quality work of Christopher Hitchens and additionally the publisher.']\n"
     ]
    },
    {
     "name": "stdout",
     "output_type": "stream",
     "text": [
      "168 : ['What is the INSEE countries and foreign territories code for the Democratic Republic of Congo?']\n",
      "[reRank_relations]: when was Abigail Adamss child born \n",
      "SPARQL Requests Made: 2 \n",
      "SPARQL Requests Total Time: 1.4863476753234863 \n",
      "SPARQL Avg Time per Qn: 0.7431738376617432\n"
     ]
    },
    {
     "name": "stdout",
     "output_type": "stream",
     "text": [
      "[reRank_relations]: what kid did Pompey and Mucia Tertia have \n",
      "SPARQL Requests Made: 3 \n",
      "SPARQL Requests Total Time: 2.310882329940796 \n",
      "SPARQL Avg Time per Qn: 0.7702941099802653\n",
      "[reRank_relations]: what kid did Pompey and Mucia Tertia have \n",
      "SPARQL Requests Made: 0 \n",
      "SPARQL Requests Total Time: 0 \n",
      "SPARQL Avg Time per Qn: 0\n",
      "[reRank_relations]: what kid did Pompey and Mucia Tertia have \n",
      "SPARQL Requests Made: 0 \n",
      "SPARQL Requests Total Time: 0 \n",
      "SPARQL Avg Time per Qn: 0\n"
     ]
    },
    {
     "name": "stdout",
     "output_type": "stream",
     "text": [
      "[reRank_relations]: when was Abigail Adamss child born \n",
      "SPARQL Requests Made: 1 \n",
      "SPARQL Requests Total Time: 0.7532727718353271 \n",
      "SPARQL Avg Time per Qn: 0.7532727718353271\n"
     ]
    },
    {
     "name": "stdout",
     "output_type": "stream",
     "text": [
      "[reRank_relations]: when was Abigail Adamss child born \n",
      "SPARQL Requests Made: 1 \n",
      "SPARQL Requests Total Time: 0.7483851909637451 \n",
      "SPARQL Avg Time per Qn: 0.7483851909637451\n"
     ]
    },
    {
     "name": "stdout",
     "output_type": "stream",
     "text": [
      "[reRank_relations]: what district in the city has the MAX number of houses whose instance is in the district of the city \n",
      "SPARQL Requests Made: 4 \n",
      "SPARQL Requests Total Time: 3.0377700328826904 \n",
      "SPARQL Avg Time per Qn: 0.7594425082206726\n"
     ]
    },
    {
     "name": "stdout",
     "output_type": "stream",
     "text": [
      "[reRank_relations]: delaware rivers drains from what 5 us states \n",
      "SPARQL Requests Made: 14 \n",
      "SPARQL Requests Total Time: 10.62484860420227 \n",
      "SPARQL Avg Time per Qn: 0.7589177574430194\n"
     ]
    },
    {
     "name": "stdout",
     "output_type": "stream",
     "text": [
      "[reRank_relations]: which is the Sauce that originated in Korea \n",
      "SPARQL Requests Made: 13 \n",
      "SPARQL Requests Total Time: 11.350723266601562 \n",
      "SPARQL Avg Time per Qn: 0.8731325589693509\n"
     ]
    },
    {
     "name": "stdout",
     "output_type": "stream",
     "text": [
      "[reRank_relations]: who is the companion of Aaliyah and when did they divorce \n",
      "SPARQL Requests Made: 15 \n",
      "SPARQL Requests Total Time: 11.620469331741333 \n",
      "SPARQL Avg Time per Qn: 0.7746979554494222\n"
     ]
    },
    {
     "name": "stdout",
     "output_type": "stream",
     "text": [
      "[reRank_relations]: what is the parent organization for the Universal Court of Justice \n",
      "SPARQL Requests Made: 16 \n",
      "SPARQL Requests Total Time: 12.359638690948486 \n",
      "SPARQL Avg Time per Qn: 0.7724774181842804\n"
     ]
    },
    {
     "name": "stdout",
     "output_type": "stream",
     "text": [
      "[reRank_relations]: when was the start of Sarajevos \n",
      "SPARQL Requests Made: 15 \n",
      "SPARQL Requests Total Time: 12.739383459091187 \n",
      "SPARQL Avg Time per Qn: 0.8492922306060791\n",
      "[main:Evaluiate Error] invalid literal for int() with base 10: 'roperty:P569'\n"
     ]
    },
    {
     "name": "stdout",
     "output_type": "stream",
     "text": [
      "[reRank_relations]: who were the creators for the language of the original work of Star Trek Into Darkness \n",
      "SPARQL Requests Made: 16 \n",
      "SPARQL Requests Total Time: 12.24752688407898 \n",
      "SPARQL Avg Time per Qn: 0.7654704302549362\n"
     ]
    },
    {
     "name": "stdout",
     "output_type": "stream",
     "text": [
      "[reRank_relations]: who were the creators for the language of the original work of Star Trek Into Darkness \n",
      "SPARQL Requests Made: 1 \n",
      "SPARQL Requests Total Time: 0.7431206703186035 \n",
      "SPARQL Avg Time per Qn: 0.7431206703186035\n"
     ]
    },
    {
     "name": "stdout",
     "output_type": "stream",
     "text": [
      "[reRank_relations]: what district in the city has the MAX number of houses whose instance is in the district of the city \n",
      "SPARQL Requests Made: 17 \n",
      "SPARQL Requests Total Time: 13.199965953826904 \n",
      "SPARQL Avg Time per Qn: 0.7764685855192297\n"
     ]
    },
    {
     "name": "stdout",
     "output_type": "stream",
     "text": [
      "[reRank_relations]: what district in the city has the MAX number of houses whose instance is in the district of the city \n",
      "SPARQL Requests Made: 4 \n",
      "SPARQL Requests Total Time: 3.0497279167175293 \n",
      "SPARQL Avg Time per Qn: 0.7624319791793823\n"
     ]
    },
    {
     "name": "stdout",
     "output_type": "stream",
     "text": [
      "[reRank_relations]: does the Becherovka liquor by volume less than 304 \n",
      "SPARQL Requests Made: 29 \n",
      "SPARQL Requests Total Time: 21.747265100479126 \n",
      "SPARQL Avg Time per Qn: 0.7499056931199699\n"
     ]
    },
    {
     "name": "stdout",
     "output_type": "stream",
     "text": [
      "[reRank_relations]: dennis M Ritchie outlined which organized programming language \n",
      "SPARQL Requests Made: 30 \n",
      "SPARQL Requests Total Time: 22.78761315345764 \n",
      "SPARQL Avg Time per Qn: 0.7595871051152547\n"
     ]
    },
    {
     "name": "stdout",
     "output_type": "stream",
     "text": [
      "[reRank_relations]: what district in the city has the MAX number of houses whose instance is in the district of the city \n",
      "SPARQL Requests Made: 17 \n",
      "SPARQL Requests Total Time: 12.79568600654602 \n",
      "SPARQL Avg Time per Qn: 0.7526874121497659\n"
     ]
    },
    {
     "name": "stdout",
     "output_type": "stream",
     "text": [
      "[reRank_relations]: what is { grant gotten } from { Justin Timberlake } thats { point in time } is { 2007 - - } \n",
      "SPARQL Requests Made: 41 \n",
      "SPARQL Requests Total Time: 31.33620572090149 \n",
      "SPARQL Avg Time per Qn: 0.7642977005097924\n"
     ]
    },
    {
     "name": "stdout",
     "output_type": "stream",
     "text": [
      "[reRank_relations]: title an alcoholic refreshment that contains the word rum  in its name \n",
      "SPARQL Requests Made: 46 \n",
      "SPARQL Requests Total Time: 34.74519944190979 \n",
      "SPARQL Avg Time per Qn: 0.7553304226502128\n"
     ]
    },
    {
     "name": "stdout",
     "output_type": "stream",
     "text": [
      "[reRank_relations]: what is the title of the Dutch civil coat of arms of Amsterdam \n",
      "SPARQL Requests Made: 46 \n",
      "SPARQL Requests Total Time: 35.183937549591064 \n",
      "SPARQL Avg Time per Qn: 0.7648682075998058\n"
     ]
    },
    {
     "name": "stdout",
     "output_type": "stream",
     "text": [
      "[reRank_relations]: how far to the west are we located \n",
      "SPARQL Requests Made: 46 \n",
      "SPARQL Requests Total Time: 35.03489899635315 \n",
      "SPARQL Avg Time per Qn: 0.7616282390511554\n"
     ]
    },
    {
     "name": "stdout",
     "output_type": "stream",
     "text": [
      "[reRank_relations]: what are the prefecture-level metropolis which start with the letter ürümqi \n",
      "SPARQL Requests Made: 52 \n",
      "SPARQL Requests Total Time: 41.50300931930542 \n",
      "SPARQL Avg Time per Qn: 0.7981347946020273\n"
     ]
    },
    {
     "name": "stdout",
     "output_type": "stream",
     "text": [
      "[reRank_relations]: what is { grant gotten } from { Justin Timberlake } thats { point in time } is { 2007 - - } \n",
      "SPARQL Requests Made: 18 \n",
      "SPARQL Requests Total Time: 13.89542031288147 \n",
      "SPARQL Avg Time per Qn: 0.7719677951600816\n"
     ]
    },
    {
     "name": "stdout",
     "output_type": "stream",
     "text": [
      "[reRank_relations]: when was iTunes version 1275 published \n",
      "SPARQL Requests Made: 67 \n",
      "SPARQL Requests Total Time: 51.908525228500366 \n",
      "SPARQL Avg Time per Qn: 0.7747541078880652\n"
     ]
    },
    {
     "name": "stdout",
     "output_type": "stream",
     "text": [
      "[reRank_relations]: what award did Dawn Fraser get in the 1960 Olympics \n",
      "SPARQL Requests Made: 74 \n",
      "SPARQL Requests Total Time: 56.38650131225586 \n",
      "SPARQL Avg Time per Qn: 0.761979747462917\n",
      "[reRank_relations]: what award did Dawn Fraser get in the 1960 Olympics \n",
      "SPARQL Requests Made: 0 \n",
      "SPARQL Requests Total Time: 0 \n",
      "SPARQL Avg Time per Qn: 0\n"
     ]
    },
    {
     "name": "stdout",
     "output_type": "stream",
     "text": [
      "[reRank_relations]: tell me the ceremony in which the word umhlanga is named \n",
      "SPARQL Requests Made: 88 \n",
      "SPARQL Requests Total Time: 67.8900318145752 \n",
      "SPARQL Avg Time per Qn: 0.7714776342565363\n"
     ]
    },
    {
     "name": "stdout",
     "output_type": "stream",
     "text": [
      "[reRank_relations]: dennis M Ritchie outlined which organized programming language \n",
      "SPARQL Requests Made: 60 \n",
      "SPARQL Requests Total Time: 46.6750226020813 \n",
      "SPARQL Avg Time per Qn: 0.7779170433680217\n"
     ]
    },
    {
     "name": "stdout",
     "output_type": "stream",
     "text": [
      "[reRank_relations]: dennis M Ritchie outlined which organized programming language \n",
      "SPARQL Requests Made: 6 \n",
      "SPARQL Requests Total Time: 4.776344299316406 \n",
      "SPARQL Avg Time per Qn: 0.796057383219401\n"
     ]
    },
    {
     "name": "stdout",
     "output_type": "stream",
     "text": [
      "[reRank_relations]: how does Mickey Mouse feature in the creative work of Ben Sharpsteen \n",
      "SPARQL Requests Made: 103 \n",
      "SPARQL Requests Total Time: 80.46511340141296 \n",
      "SPARQL Avg Time per Qn: 0.7812146932176016\n",
      "[reRank_relations]: how does Mickey Mouse feature in the creative work of Ben Sharpsteen \n",
      "SPARQL Requests Made: 0 \n",
      "SPARQL Requests Total Time: 0 \n",
      "SPARQL Avg Time per Qn: 0\n"
     ]
    },
    {
     "name": "stdout",
     "output_type": "stream",
     "text": [
      "[reRank_relations]: what is region of house of Wangari Maathai,that has inflation charge of client fee index as 29 \n",
      "SPARQL Requests Made: 166 \n",
      "SPARQL Requests Total Time: 126.71958875656128 \n",
      "SPARQL Avg Time per Qn: 0.7633710166057909\n"
     ]
    },
    {
     "name": "stdout",
     "output_type": "stream",
     "text": [
      "[reRank_relations]: how does Mickey Mouse feature in the creative work of Ben Sharpsteen \n",
      "SPARQL Requests Made: 90 \n",
      "SPARQL Requests Total Time: 68.99010872840881 \n",
      "SPARQL Avg Time per Qn: 0.7665567636489868\n"
     ]
    },
    {
     "name": "stdout",
     "output_type": "stream",
     "text": [
      "[reRank_relations]: what is region of house of Wangari Maathai,that has inflation charge of client fee index as 29 \n",
      "SPARQL Requests Made: 50 \n",
      "SPARQL Requests Total Time: 38.13405132293701 \n",
      "SPARQL Avg Time per Qn: 0.7626810264587403\n"
     ]
    },
    {
     "name": "stdout",
     "output_type": "stream",
     "text": [
      "[reRank_relations]: what is the the symbol for stock 0700 in Tencent \n",
      "SPARQL Requests Made: 225 \n",
      "SPARQL Requests Total Time: 172.34843707084656 \n",
      "SPARQL Avg Time per Qn: 0.7659930536482069\n"
     ]
    },
    {
     "name": "stdout",
     "output_type": "stream",
     "text": [
      "[reRank_relations]: what is the League of Legends runtime edition \n",
      "SPARQL Requests Made: 225 \n",
      "SPARQL Requests Total Time: 172.54088878631592 \n",
      "SPARQL Avg Time per Qn: 0.7668483946058485\n"
     ]
    },
    {
     "name": "stdout",
     "output_type": "stream",
     "text": [
      "[reRank_relations]: what is the ionization energy of the Nicotine \n",
      "SPARQL Requests Made: 225 \n",
      "SPARQL Requests Total Time: 172.2332365512848 \n",
      "SPARQL Avg Time per Qn: 0.7654810513390435\n"
     ]
    },
    {
     "name": "stdout",
     "output_type": "stream",
     "text": [
      "[reRank_relations]: what did Michelle Bachelet do on 6/1/1978 \n",
      "SPARQL Requests Made: 238 \n",
      "SPARQL Requests Total Time: 181.97979617118835 \n",
      "SPARQL Avg Time per Qn: 0.7646209923159174\n"
     ]
    },
    {
     "name": "stdout",
     "output_type": "stream",
     "text": [
      "[reRank_relations]: can you tell me the amount of lakes are rivers attached to Lake Urmia \n",
      "SPARQL Requests Made: 298 \n",
      "SPARQL Requests Total Time: 230.46984148025513 \n",
      "SPARQL Avg Time per Qn: 0.7733887297995139\n",
      "[reRank_relations]: can you tell me the amount of lakes are rivers attached to Lake Urmia \n",
      "SPARQL Requests Made: 0 \n",
      "SPARQL Requests Total Time: 0 \n",
      "SPARQL Avg Time per Qn: 0\n"
     ]
    },
    {
     "name": "stdout",
     "output_type": "stream",
     "text": [
      "[reRank_relations]: title an alcoholic refreshment that contains the word rum  in its name \n",
      "SPARQL Requests Made: 256 \n",
      "SPARQL Requests Total Time: 194.862313747406 \n",
      "SPARQL Avg Time per Qn: 0.7611809130758047\n"
     ]
    },
    {
     "name": "stdout",
     "output_type": "stream",
     "text": [
      "[reRank_relations]: tell me the most high-quality work of Christopher Hitchens and additionally the publisher \n",
      "SPARQL Requests Made: 338 \n",
      "SPARQL Requests Total Time: 261.73385667800903 \n",
      "SPARQL Avg Time per Qn: 0.7743605227160031\n"
     ]
    },
    {
     "name": "stdout",
     "output_type": "stream",
     "text": [
      "[reRank_relations]: who gave the {is appeared in} of {based upon} of {Clark Kent}  \n",
      "SPARQL Requests Made: 358 \n",
      "SPARQL Requests Total Time: 275.85796999931335 \n",
      "SPARQL Avg Time per Qn: 0.7705529888248976\n"
     ]
    },
    {
     "name": "stdout",
     "output_type": "stream",
     "text": [
      "[reRank_relations]: what is Bram Stokers occupation and field of work and did he work in Dublin Castle \n",
      "SPARQL Requests Made: 392 \n",
      "SPARQL Requests Total Time: 301.7969436645508 \n",
      "SPARQL Avg Time per Qn: 0.7698901624095683\n"
     ]
    },
    {
     "name": "stdout",
     "output_type": "stream",
     "text": [
      "[reRank_relations]: which devout concept begins with the letter t \n",
      "SPARQL Requests Made: 390 \n",
      "SPARQL Requests Total Time: 302.21473240852356 \n",
      "SPARQL Avg Time per Qn: 0.7749095702782656\n"
     ]
    },
    {
     "name": "stdout",
     "output_type": "stream",
     "text": [
      "[reRank_relations]: what is Lizzy Yarnolds TheSportsorg athlete ID \n",
      "SPARQL Requests Made: 452 \n",
      "SPARQL Requests Total Time: 347.4781789779663 \n",
      "SPARQL Avg Time per Qn: 0.7687570331370936\n"
     ]
    },
    {
     "name": "stdout",
     "output_type": "stream",
     "text": [
      "[reRank_relations]: who gave the {is appeared in} of {based upon} of {Clark Kent}  \n",
      "SPARQL Requests Made: 151 \n",
      "SPARQL Requests Total Time: 117.92463254928589 \n",
      "SPARQL Avg Time per Qn: 0.7809578314522244\n"
     ]
    },
    {
     "name": "stdout",
     "output_type": "stream",
     "text": [
      "[reRank_relations]: who gave the {is appeared in} of {based upon} of {Clark Kent}  \n",
      "SPARQL Requests Made: 235 \n",
      "SPARQL Requests Total Time: 181.36849880218506 \n",
      "SPARQL Avg Time per Qn: 0.7717808459667449\n"
     ]
    },
    {
     "name": "stdout",
     "output_type": "stream",
     "text": [
      "[reRank_relations]: what is Bram Stokers occupation and field of work and did he work in Dublin Castle \n",
      "SPARQL Requests Made: 392 \n",
      "SPARQL Requests Total Time: 303.1011781692505 \n",
      "SPARQL Avg Time per Qn: 0.773217291248088\n"
     ]
    },
    {
     "name": "stdout",
     "output_type": "stream",
     "text": [
      "[reRank_relations]: what is Bram Stokers occupation and field of work and did he work in Dublin Castle \n",
      "SPARQL Requests Made: 340 \n",
      "SPARQL Requests Total Time: 263.2390937805176 \n",
      "SPARQL Avg Time per Qn: 0.7742326287662282\n"
     ]
    },
    {
     "name": "stdout",
     "output_type": "stream",
     "text": [
      "[reRank_relations]: what is Bram Stokers occupation and field of work and did he work in Dublin Castle \n",
      "SPARQL Requests Made: 340 \n",
      "SPARQL Requests Total Time: 263.6725769042969 \n",
      "SPARQL Avg Time per Qn: 0.7755075791302849\n"
     ]
    },
    {
     "name": "stdout",
     "output_type": "stream",
     "text": [
      "Index error, no label found for\n",
      "wd::Q21197460\n"
     ]
    },
    {
     "name": "stdout",
     "output_type": "stream",
     "text": [
      "Index error, no label found for\n",
      "wd::Q1203156\n"
     ]
    },
    {
     "name": "stdout",
     "output_type": "stream",
     "text": [
      "Index error, no label found for\n",
      "wd::Q8565885\n"
     ]
    },
    {
     "name": "stdout",
     "output_type": "stream",
     "text": [
      "Link batch time: 2260.538151025772\n",
      "Anno batch time: 497.7751259803772\n",
      "Conv batch time: 0.0026161670684814453\n",
      "Pipeline iter 200\n",
      "Pipeline iter 201\n",
      "Pipeline iter 202\n",
      "Pipeline iter 203\n",
      "Pipeline iter 204\n",
      "Pipeline iter 205\n",
      "Pipeline iter 206\n",
      "Pipeline iter 207\n",
      "Pipeline iter 208\n",
      "Pipeline iter 209\n",
      "Pipeline iter 210\n",
      "Pipeline iter 211\n",
      "Pipeline iter 212\n",
      "Pipeline iter 213\n",
      "Pipeline iter 214\n",
      "Pipeline iter 215\n",
      "Pipeline iter 216\n",
      "Pipeline iter 217\n",
      "Pipeline iter 218\n",
      "Pipeline iter 219\n",
      "Pipeline iter 220\n",
      "Pipeline iter 221\n",
      "Pipeline iter 222\n",
      "Pipeline iter 223\n",
      "Pipeline iter 224\n",
      "Pipeline iter 225\n",
      "Pipeline iter 226\n",
      "Pipeline iter 227\n",
      "Pipeline iter 228\n",
      "Pipeline iter 229\n",
      "Pipeline iter 230\n",
      "Pipeline iter 231\n",
      "Pipeline iter 232\n",
      "Pipeline iter 233\n",
      "Pipeline iter 234\n",
      "Pipeline iter 235\n",
      "Pipeline iter 236\n",
      "Pipeline iter 237\n",
      "Pipeline iter 238\n",
      "Pipeline iter 239\n",
      "Pipeline iter 240\n",
      "Pipeline iter 241\n",
      "Pipeline iter 242\n",
      "Pipeline iter 243\n",
      "Pipeline iter 244\n",
      "Pipeline iter 245\n",
      "Pipeline iter 246\n",
      "Pipeline iter 247\n",
      "Pipeline iter 248\n",
      "Pipeline iter 249\n",
      "[Pipeline1]: Linking 199-249\n",
      "199 : ['What is the warheroes.ru ID for Yuri Gagarin?']\n",
      "199 : ['A nickel, in American usage, is a five-cent coin struck by the United States Mint. Composed of 75% copper and 25% nickel, the piece has been issued since 1866. Its diameter is .835 inches (21.21 mm) and its thickness is .077 inches (1.95 mm). Due to inflation, the purchasing power of the nickel continues to drop and currently the coin represents less than 1% of the federal hourly minimum wage. In 2015, over 1.5 billion nickels were produced at the Philadelphia and Denver mints.\\n\\nThe silver half dime, equal to five cents, had been issued since the 1790s. The American Civil War caused economic hardship, driving gold and silver from circulation; in response, in place of low-value coins, the government at first issued paper currency. In 1865, Congress abolished the five-cent fractional currency note after Spencer M. Clark, head of the Currency Bureau (today the Bureau of Engraving and Printing), placed his own portrait on the denomination. After the successful introduction of two-cent and three-cent pieces without precious metal, Congress also authorized a five-cent piece consisting of base metal; the Mint began striking this version in 1866.\\n\\nThe initial design of the Shield nickel was struck from 1866 until 1883, then was replaced by the Liberty Head nickel. The Buffalo nickel was introduced in 1913 as part of a drive to increase the beauty of American coinage; in 1938, the Jefferson nickel followed. In 2004 and 2005, special designs in honor of the bicentennial of the Lewis and Clark Expedition were issued. In 2006, the Mint reverted to using Jefferson nickel designer Felix Schlags original reverse (or tails side), although a new obverse, by Jamie Franki, was substituted. As of the end of FY 2013, it cost more than nine cents to produce a nickel;[1] the Mint is exploring the possibility of reducing cost by using less expensive metals.\\n\\n\\nContents\\n1\\tBackground\\n2\\tInception\\n3\\tShield nickel (1866–1883)\\n4\\tLiberty Head or V nickel (1883–1913)\\n4.1\\tGrowth of the nickel in commerce\\n4.2\\t1913 Liberty Head nickel rarity\\n5\\tBuffalo or Indian Head (1913–1938)\\n5.1\\tDesign and name controversies\\n6\\tJefferson nickel (1938–present)\\n6.1\\tWestward Journey commemoratives (2004–2005)\\n6.2\\tIncrease in metal values\\n7\\tSee also\\n8\\tNotes\\n9\\tExternal links\\nBackground\\nMain article: Half dime\\nThe silver half disme (as the half dime, pronounced the same, was first called) was one of the denominations prescribed by the Mint Act of 1792; its weight and fineness were set by law.[2] The first pieces under federal authority were half dimes, struck in 1792 in the cellar of John Harper, a saw maker; as the first federal mint was still under construction in Philadelphia, this took place locally at Sixth and Cherry Streets. The dies were engraved by Adam Eckfeldt, who a half-century later recalled that the silver for the half dimes was supplied by President George Washington, and that the 1,500 coins struck from the bullion were given to Washingtons Secretary of State, Thomas Jefferson, for distribution to important people, both in the US and overseas.[3][4] By legend, President Washington supplied silverware from his home, Mount Vernon, to provide bullion for the coins.[5] In his annual message to Congress in late 1792, Washington noted the ongoing construction of a mint building and stated: There has also been a small beginning in the coinage of half dimes, the want of small coins in circulation calling the first attention to them.[6]\\n\\nIn 1793, the newly established Philadelphia Mint began striking cents and half cents.[7] Coinage of precious metal was delayed; Congress required the assayer and chief coiner to each post a security bond of $10,000, a huge sum in 1793. In 1794, Congress lowered the chief coiners bond to $5,000, and the assayers to $1,000; President Washingtons appointees to those positions were thus able to qualify and take office. Subsequently, silver coinage began that year.[8]\\n\\n\\nA 1796 half dime\\nThe half dime was originally struck from 1794 until 1805, though none were dated 1798, 1799, or 1804.[9] By 1804, silver US coins were heavily exported, as they could be exchanged at par in the West Indies with heavier Spanish coins, which were then imported as bullion and deposited at the Mint for melting and restriking. In response, in 1804 the US stopped striking silver dollars; issuance of the half dime was discontinued from 1805 until 1829. In 1807, mint Director Robert Patterson in a letter explained to Jefferson (by then president) nearly the whole of our Silver Bullion (chiefly Spanish dollars) come through the Banks, and it is very seldom that they will consent to take any coin less than half dollars.[10]\\n\\nBeginning in 1829, the silver five-cent piece was again struck; beginning in 1837, its fineness was increased from .8924 to .900. Also in 1837, the half dimes obverse design changed from one by William Kneass, depicting a bust of Liberty, to one that featured a seated Liberty by Christian Gobrecht; until its abolition in 1873, the half dime would bear modifications of this design. In 1851, it ceased to be the smallest US silver coin as a three cent piece was issued by the Mint.[11][12]\\n\\nInception\\nThe Civil War caused most American coins to vanish from circulation, with the gap filled by such means as merchant tokens, encased postage stamps, and United States fractional currency, issued in denominations as low as three cents. Although specie (gold or silver coins) was hoarded or exported, the copper-nickel cent, then the only base metal denomination being struck, also vanished.[13] In 1864, Congress began the process of restoring coins to circulation by abolishing the three-cent note and authorizing bronze cents and two-cent pieces, with low intrinsic values, to be struck.[14] These new coins initially proved popular, though the two-cent piece soon faded from circulation. On March 3, 1865, Congress passed legislation authorizing the Mint to strike three-cent pieces of 75% copper and 25% nickel.[14]\\n\\n\\nSpencer M. Clark, Supervisor of the Currency Bureau, placed his own likeness on the five-cent U.S. Fractional currency note, leading directly to legislation prohibiting the depiction of any living person on U.S. currency.\\nIn 1864, Congress authorized a third series of fractional currency notes. The five-cent note was to bear a depiction of Clark, but Congress was appalled when the issue came out not with a portrait of William Clark, the explorer, but Spencer M. Clark, head of the Currency Bureau. According to numismatic historian Walter Breen, Congresss immediate infuriated response was to pass a law retiring the five-cent denomination, and another to forbid portrayal of any living person on federal coins or currency.[15] Clark kept his job only because of the personal intervention of Treasury Secretary Salmon P. Chase.[15]\\n\\nMint Director James Pollock had been opposed to striking coins containing nickel, but in view of the initial success of the copper-nickel three-cent piece, he became an advocate of striking five-cent pieces in the same metals. In his 1865 report, Pollock wrote, From this nickel alloy, a coin for the denomination of five cents, and which would be a popular substitute for the five cent note, could easily be made ... [The five-cent coin should be struck in base metal] only until the resumption of specie payments ... in time of peace ... coins of inferior alloy should not be permitted to take the place permanently of silver in the coinage of pieces above the denomination of three cents.[16]\\n\\nIndustrialist Joseph Wharton had a near-monopoly on the mining of nickel in the United States, and sought to promote its use in coinage.[17] He was also highly influential in Congress. His friends there, though they had failed to obtain the metals use for the two-cent piece, had been more successful with the base-metal three-cent coin.[18] Pollock prepared a bill authorizing a five-cent coin of the same alloy as the three-cent piece, with a total weight not to exceed 60 grains (3.9 g). At the committee stage in the House of Representatives, the weight was amended to 77.19 grains (5.00 g), ostensibly to make the weight equal to five grams in the metric system but more likely so that Wharton could sell more nickel.[16] This made the new coin heavy, in terms of weight per $.01 of face value, compared to the three-cent copper-nickel coin. The bill passed without debate on May 16, 1866.[16] The new copper-nickel coin was legal tender for up to one dollar and would be paid out by the Treasury in exchange for coin of the United States, excluding the half cent, cent and two-cent. It was redeemable in lots of $100 for banknotes. Fractional currency in denominations of less than ten cents was withdrawn.[19][20]\\n\\nShield nickel (1866–1883)\\nMain article: Shield nickel\\nThe Shield nickel\\nThe Shield nickel\\nIn anticipation of the approval of the new five-cent coin, the Mints chief engraver, James B. Longacre, had begun preparing designs and pattern coins in 1865.[21][22] After rejecting pieces showing deceased presidents George Washington (see Washington nickel) and Abraham Lincoln, Treasury Secretary Hugh McCulloch decided on a design similar to Longacres two-cent piece, with a shield on the obverse and a numeral 5 surrounded by stars and rays on the reverse. This has come to be known as the Shield nickel.[19]\\n\\nThe new coins proved difficult to produce; owing to the hardness of the planchet, the coins were not of high quality and the life of the striking dies was brief. The design was widely criticized; Wharton described the obverse as suggesting a tombstone surmounted by a cross and overhung by weeping willows.[23] The American Journal of Numismatics described the Shield nickel as the ugliest of all known coins.[23] The rays were eliminated from the reverse design in 1867, in the hope of eliminating some of the production problems.[24] The design change created confusion among the population—many people assumed that one design or the other was a counterfeit—and the Mint briefly considered abandoning the shield design entirely.[21] After heavy production in its first years, by late 1869, enough nickels had been struck to meet the needs of commerce; fewer were coined in the following years.[25]\\n\\nThe new coins tended to accumulate in the hands of merchants beyond the legal tender limit, but banks refused to accept them beyond the one-dollar maximum. Storeowners were forced to discount the coins to brokers.[20] Postmasters, compelled by law to accept the coins, found that the Treasury would not accept them as deposits except in lots of $100, in accordance with the authorizing statute.[26] In 1871, Congress alleviated the problem by passing legislation allowing the Treasury to redeem unlimited quantities of nickels and other low-denomination coins when presented in lots of not less than $20.[20] It was not until 1933, long after the shield design passed from the scene, that the nickel was made legal tender without limit.[25]\\n\\nHalf dimes continued to be struck, at both the Philadelphia and the San Francisco Mint, until the series was ended by the Coinage Act of 1873.[27][28] Despite the abolition, the silver pieces continued to circulate in the West, where silver or gold coins were preferred, throughout the remainder of the 19th century.[20] Improved economic conditions, combined with low silver prices, brought large quantities of hoarded silver coinage, including half dimes, into circulation beginning in April 1876.[29] In late 1876, production of the Shield nickel was halted.[30] No Shield nickels were struck in 1877 or 1878, excepting proof specimens for collectors.[20] As the Treasury had a large stock of nickels in storage, only small numbers were struck over the next few years; full-scale production did not resume until December 1881.[31]\\n\\nLiberty Head or V nickel (1883–1913)\\nMain article: Liberty Head nickel\\n\\n\\nV nickel without and with cents\\nWith production of nickels lagging in the late 1870s, and with minimal strikings of the copper-nickel three-cent piece, Wharton sought to increase the use of nickel at the Mint. The bronze cent represented a major portion of the Mints production, and Wharton began to lobby for the piece to be struck in copper-nickel, as it had been from 1857 until 1864.[32][33] In 1881, this lobbying led Philadelphia Mint Superintendent Archibald Loudon Snowden to order Mint Engraver Charles Barber to produce uniform designs for a new cent, three-cent piece, and five-cent piece.[32] Snowden required that the new coins depict the head of Liberty with the legend LIBERTY and the date, with the nickels reverse to have a wreath of wheat, cotton, and corn around a Roman numeral V for 5, to denote the denomination.[34] Under the proposal, the nickel would retain its weight of 5 grams (0.18 oz), but its diameter would be increased to 22 millimeters (0.87 in).[35]\\n\\nBarber duly produced the required designs.[35] Snowden eventually decided against a new cent or three-cent piece, but Barber continued work on the nickel, with the size adjusted to 21.21 millimeters (0.835 in).[34] When specimens were sent to Washington for routine approval by Treasury Secretary Charles J. Folger, to Snowdens surprise, they were rejected. The secretary, on review of the coinage statutes, had realized that the laws required UNITED STATES OF AMERICA to appear on the reverse, not the obverse where Barber had placed it. Barber modified his design accordingly, and the coin was ready for striking in early 1883.[36] However, by then, Shield nickels dated 1883 had already been coined. To ensure proof Shield pieces would not be hoarded for their rarity, Mint officials allowed their continued production for several months.[37]\\n\\nCriminals soon realized that the new nickel, which lacked the word CENTS, was close in size to the five-dollar gold piece, and if they were to plate the nickel with gold, it might be passed for five dollars.[38] Some coins were even given a reeded edge by fraudsters, making them appear more like the gold coins.[39] The Mint halted production of the new coins; production of Shield nickels continued. Barber was told to modify his work, which he did, moving other design elements to accommodate the word CENTS at the bottom of the reverse. The revised nickel was issued on June 26, 1883, the date on which production of the Shield nickel was finally stopped. The public promptly hoarded the centless nickels,[40] believing the Treasury Department intended to recall them, and that they would become rare.[41]\\n\\nThe Liberty Head nickel was heavily struck during its 30-year run, except during economic downturns in 1885–1886 and in 1894, when only small numbers were struck.[42][43] In 1890, Congress ended production of the three-cent piece, leaving the five-cent coin as the only one in copper nickel. That year, Congress also allowed the Secretary of the Treasury to authorize the redesign of United States coins, if the former design had been struck for at least 25 years. Although the nickel and silver dollar had been redesigned within the previous quarter-century, a provision in the latter act made them eligible for immediate redesign.[44][45] In 1896, pattern nickels were struck for the first time since 1885, when experimental, holed coins had been tested; however, no redesign took place.[46]\\n\\nGrowth of the nickel in commerce\\n\\nPostcard for Horn & Hardart restaurants, 1930s.\\nCoin-operated machines to vend food, for amusement, and for gambling became popular in the 1890s. Such machines could be placed on otherwise unused floor space in businesses, required little maintenance, and brought in money for owners. Beginning about 1898, coin-operated mechanical pianos also became popular. The Mills Novelty Company was a leading producer of such devices; by 1906 it was producing machines ranging from a mechanically played violin to fortune-telling devices. While some machines took cents or other denominations, the nickel was the coin of choice for these machines.[47]\\n\\nAmong the innovations in business caused by the use of the nickel in coin-operated machines was the automat, in which patrons would serve themselves by inserting a coin (initially a nickel, though by the 1950s a higher denomination was needed) into a mechanism, turning a handle, and removing a sandwich or dessert. These restaurants were first established in Germany, but were popularized in the United States by, among other firms, Horn & Hardart. A type of business which took its name from the coin was the nickelodeon cinema, where a nickel bought admission to view a series of one-reel short films, generally about 12 minutes in length, which ran continuously from early afternoon until late at night, with the patron free to remain as long as he liked. Although another denomination gave the penny arcade its name, the nickel was commonly used there as well.[48]\\n\\nFew nickels had circulated in the western states before the 1880s (people there preferred silver and gold coins); interest in the new Liberty Head design had led to increasing use of nickels there. Good economic conditions and high demand for nickels for use in coin-operated devices caused the piece to circulate throughout the nation by 1900. That year, Mint Director George E. Roberts called on Congress to quintuple the Mints appropriation to purchase base metals for striking into nickels and cents. At the time, statutory restrictions permitted production of cents and nickels only at Philadelphia; Roberts request that Congress allow striking at the other mints was granted in 1906. The Denver and San Francisco Mints began striking nickels in 1912.[49][50]\\n\\n1913 Liberty Head nickel rarity\\nMain article: 1913 Liberty Head nickel\\n\\nAd placed by Brown in The Numismatist, December 1919\\nThe Liberty Head nickel was replaced after 1912, and initially there was no indication that 1913-dated pieces with that design existed. In December 1919, a coin dealer, Samuel W. Brown, placed advertisements in coin publications, offering to buy 1913 Liberty Head nickels. The following August, Brown appeared at the annual American Numismatic Association (ANA) convention bearing such a piece.[51] Brown claimed that a master die had been prepared for 1913 and that these pieces had been run off to test it.[52] As it turned out, Brown possessed five coins, which he eventually sold. After spending fifteen years in the hands of the eccentric Col. E.H.R. Green, the famous Fort Worth, Texas, area collector, the coins were finally dispersed in 1943. Since then, they have had several owners each. Today, two are on public display—at the Smithsonian Institution in Washington and the ANAs Money Museum in Colorado Springs, while three are owned privately. The most recent sale of a 1913 Liberty Head nickel was in January 2010, when one sold for $3,737,500 in an auction.[53]\\n\\nIt is uncertain how the 1913 nickels came to be made. The Mints records show no production of 1913 Liberty head nickels, and none were authorized to be made.[54] Dies were prepared in advance and sent to California for a 1913-S Liberty Head nickel coinage, but upon orders from Mint Director Roberts in December 1912 to end the old design, they were returned to Philadelphia. They were received by December 23, and were almost certainly destroyed routinely by early January.[55] Brown had been an employee at the Philadelphia Mint (although this was not known until 1963) and many theories focus suspicion on him.[56]\\n\\nBuffalo or Indian Head (1913–1938)\\nMain article: Buffalo nickel\\n\\n\\n1913 Buffalo nickel (Type I & II)\\nPresident Theodore Roosevelt in 1904 expressed his dissatisfaction with the artistic state of American coins,[57] and hoped to hire sculptor Augustus Saint-Gaudens to beautify them. Saint-Gaudens, before his death in 1907, designed a new eagle and double eagle, which entered circulation that year; the cent, quarter eagle, and half eagle were redesigned by other artists and were released into circulation by 1909. That year, Mint Director Frank Leach instructed Barber to make pattern coins for new nickels. Most of these coins featured the first president, George Washington.[58] However, the project was discontinued when Leach left office on November 1, 1909, to be replaced by Abram Andrew.[58]\\n\\nOn May 4, 1911, Eames MacVeagh, son of Treasury Secretary Franklin MacVeagh wrote to his father:\\n\\nA little matter that seems to have been overlooked by all of you is the opportunity to beautify the design of the nickel or five cent piece during your administration, and it seems to me that it would be a permanent souvenir of a most attractive sort. As possibly you are aware, it is the only coin the design of which you can change during your administration, as I believe there is a law to the effect that the designs must not be changed oftener than every twenty-five years. I should think also it might be the coin of which the greatest numbers are in circulation.[59]\\n\\nSoon after the MacVeagh letter, Andrew announced that the Mint would solicit new designs for the nickel. Sculptor James Earle Fraser, who had been an assistant to Saint-Gaudens, approached the Mint, and rapidly produced concepts and designs. Mint Director George Roberts, who had returned to office in place of Andrew, initially favored a design featuring Lincoln, but Fraser soon developed a design featuring a Native American on one side and a bison on the other.[60] Secretary MacVeagh wrote, Tell him that of the three sketches which he submitted we would like to use the sketch of the head of the Indian and the sketch of the buffalo.[61] In July 1912, news of the new nickel became public, and coin-operated machine manufacturers sought information. Clarence Hobbs of the Hobbs Manufacturing Company, maker of counterfeit detectors, feared the new nickel would not be passed by his devices.[62] Hobbs demanded various changes to the design, to which the artist was reluctant to agree.[63]\\n\\nThe Hobbs Company continued to interpose objections in 1913.[64] On February 3, Hobbs sent Roberts a lengthy list of changes that he wanted in the coin, and the sculptor was required to attend a conference with Hobbs representatives.[65] On the fifth, following the conference, which ended with no agreement, Fraser sent MacVeagh a ten-page letter, complaining that his time was being wasted by the Hobbs Company, and appealing to the Secretary to bring the situation to a close.[66] Secretary MacVeagh agreed to hold a meeting at his office in Washington on February 14.[67] Barber prepared patterns showing what the nickel would look like if the changes demanded by Hobbs were made. MacVeagh conducted the meeting much like a legal hearing, and issued a letter the following day.[68] The secretary noted that no other firm had complained, that the Hobbs mechanism had not been widely sold, and that the changes demanded—a clear space around the rim and the flattening of the Indians cheekbone—would affect the artistic merit of the piece. MacVeagh concluded, You will please, therefore, proceed with the coinage of the new nickel.[69]\\n\\nThe coins were officially released to circulation on March 4, 1913, and quickly gained positive comments for depicting truly American themes.[70] However, The New York Times stated in an editorial that The new nickel is a striking example of what a coin intended for wide circulation should not be ...[it] is not pleasing to look at when new and shiny, and will be an abomination when old and dull.[71] The Numismatist, in March and May 1913 editorials, gave the new coin a lukewarm review, suggesting that the Indians head be reduced in size and the bison be eliminated from the reverse.[72]\\n\\nDies for the new design proved to break quickly.[73] Barber made proposed revisions, which Fraser approved after being sent samples.[74] These changes enlarged the legend FIVE CENTS and changed the ground on which the bison stands from a hill to flat ground.[75] According to data compiled by numismatic historian David Lange from the National Archives, the changes to what are known as Type II nickels (with the originals Type I) actually decreased the die life.[76] A problem not addressed was the exposure of the date to wear; many Buffalo nickels today have the date worn away.[70]\\n\\nIn January 1938, the Mint announced an open competition for a new nickel design, to feature early president Thomas Jefferson on the obverse, and Jeffersons home, Monticello on the reverse.[77] The last Buffalo nickels were struck in April 1938 at the Denver Mint, the only mint to strike them that year.[78]\\n\\nDesign and name controversies\\n\\nChief Iron Tail, circa 1912\\nThe identities of the models for the Native American on the obverse and for the bison on the reverse are not known with certainty. Fraser stressed that the Indian was a type, rather than based on a specific individual, and identified various Native Americans as models, not always consistently, including Iron Tail, Two Moons,[79] and Big Tree (of the Kiowa people).[80] There have been other claimants, the most prominent being John Big Tree, a Seneca, who made many public appearances as the nickel Indian until his death in 1967.[81] Fraser recounted that the animal on the reverse was an American bison, Black Diamond, whom he stated lived at the Bronx Zoo, and also described the model simply as a bison at the Bronx Zoo.[82] However, Black Diamond was never at the Bronx Zoo, but instead lived at the Central Park Zoo (both facilities are in New York City) until the animal was sold and slaughtered in 1915. The placement of the horns on the still-extant mounted head of Black Diamond differs from that of the bison on the nickel.[83]\\n\\nFrom its inception, the coin was referred to as the Buffalo nickel, reflecting the common name for the bison. The numismatic publication with the greatest circulation, Coin World, calls it an Indian head nickel, while R.S. Yeomans Red Book refers to it as Indian Head or Buffalo.[84].[85]\\n\\nJefferson nickel (1938–present)\\nMain article: Jefferson nickel\\n\\nThe Jefferson nickel obverse as struck from 1938 to 2004. Coins from pre-1966 lack the designers initials.\\n\\nThe Jefferson nickel reverse as struck from 1938 to 2003.\\nWhen the Buffalo nickel had been struck for 25 years and could be replaced without an act of Congress, the Mint moved quickly to replace it. Although the Fraser design is popular today among numismatists, it did not enjoy that status in 1938, and there was no public outcry at the decision.[86] In January 1938, the Mint announced an open competition for the new nickel design, with the winner to receive a prize of $1,000. Anticipating the 1943 bicentennial of Jeffersons birth, competitors were to place his portrait on the obverse, and a depiction of his house Monticello on the reverse.[77]\\n\\nOn April 24, Felix Schlag was announced as the winner. His design featured the portrayal of Jefferson which would be used on the nickel until 2004, closely conforming to the former presidents bust by sculptor Jean-Antoine Houdon, which is to be found in Bostons Museum of Fine Arts. However, the model differs from the nickel that was struck for circulation because it featured a view of Monticello from an angle, and a style of lettering officials did not like; Schlag was required to change both.[87] Either through a misunderstanding or an oversight, Schlag did not include his initials in the design; they would not be added until 1966.[88] Production began on October 3, 1938; they were released into circulation on November 15.[89] According to contemporary accounts, the Jefferson nickel was initially hoarded, and it was not until 1940 that it was commonly seen in circulation.[90]\\n\\nWith the entry of the United States into World War II, nickel became a critical war material, and the Mint sought to reduce its use of the metal. On March 27, 1942, Congress authorized a nickel made of 50% copper and 50% silver, but gave the Mint the authority to vary the proportions, or add other metals, in the public interest. The Mints greatest concern was in finding an alloy that would use no nickel, but still satisfy counterfeit detectors in vending machines. An alloy of 56% copper, 35% silver and 9% manganese proved suitable, and this alloy began to be coined into nickels from October 1942. In the hope of making them easy to sort out and withdraw after the war, the Mint struck all war nickels with a large mint mark appearing above Monticello. The mint mark P for Philadelphia was the first time that mints mark had appeared on a US coin.[91] The prewar composition returned in 1946; all nickels struck since then have been in 75% copper and 25% nickel.[92]\\n\\nIn 1966, a small change was made to the design to add the initials of the designer (FS) to the obverse, underneath Jeffersons portrait. In commemoration of that change, two specimen 1966 nickels with the initials were struck and presented to him. Coins struck at any mint between 1965 and 1967 lack mint marks, which were omitted as the Mint replaced the silver circulating coins with copper-nickel. Beginning in 1968, mint marks were again used, and on the nickel were moved to the lower part of the obverse, to the right of Jeffersons bust.[93] From 1971, no nickels were struck for circulation in San Francisco—the 1971-S was the first nickel struck in proof only since 1878.[94]\\n\\n\\nWestward Journey commemoratives (2004–2005)\\n\\nThe reverses struck in 2004 (top two) and 2005 (bottom two)\\nThe Mint had struck circulating commemorative coins for the United States Bicentennial, giving quarters, half dollars, and dollars struck in 1975 and 1976 a dual date, 1776–1976.[95] After Canada issued a successful series of quarters in 1992 honoring its provinces and territories, the Mint obtained congressional permission to issue a series of US quarters honoring American states; they began to be issued in 1999.[96] In 2002, the Mint began to consider redesigning the nickel in honor of the upcoming bicentennial of the Lewis and Clark Expedition. Representative Eric Cantor (Republican-Virginia) did not wish to see Monticello (located in his home state) moved permanently off the nickel.[97] The resultant American 5-Cent Coin Design Continuity Act of 2003, was signed into law on April 23, 2003. Under its terms, the Treasury Secretary could vary the nickels designs in honor of the 200th anniversary of the Expedition and of the Louisiana Purchase, but the nickel would again feature Jefferson and Monticello beginning in 2006.[98] Unless Congress acts again, every future five-cent coin will feature Jefferson and Monticello.[99]\\n\\nThe Mint used Schlags obverse in 2004, with two new reverse designs.[100] Mint sculptor-engraver Norman E. Nemeths adaptation of an Indian Peace Medal struck for Jefferson was the first new design, followed by a depiction by Mint sculptor-engraver Al Maletsky of a keelboat like that used by the Expedition.[101] The 2005 obverse was struck during that year only, with a design by sculptor Joe Fitzgerald based on Houdons bust of Jefferson.[102] The legend LIBERTY on the obverse was traced from Jeffersons handwriting in drafting the Declaration of Independence; as the word is never capitalized in that document, Fitzgerald borrowed a capital L from Jeffersons other writings.[103] The reverse for the first half of the year depicted an American bison, recalling the Buffalo nickel and designed by Jamie Franki. The reverse for the second half showed a coastline and the words Ocean in view! O! The Joy!, from a journal entry by William Clark, co-leader of the Expedition.[102] Clark had actually written the word as ocian, but the Mint modernized the spelling.[103]\\n\\nAnother Franki design has, since 2006, been used for the obverse, depicting a view of Jefferson from the front (rather than in profile)[85] based on an 1800 study by Rembrandt Peale, and includes Liberty in Jeffersons script. According to Acting Mint Director David Lebryk, The image of a forward-facing Jefferson is a fitting tribute to [his] vision.[104] The reverse beginning in 2006 was again Schlags Monticello design, but newly sharpened by Mint engravers.[105] As Schlags obverse design, on which his initials were placed in 1966, is no longer used, his initials were placed on the reverse to the right of Monticello.[106]\\n\\nIncrease in metal values\\nIn the first decade of the 21st century, commodity prices for copper and nickel, which make up the five-cent coin, rose dramatically, pushing the cost of manufacturing a nickel from 3.46 cents in fiscal year 2003 to 10.09 cents in fiscal year 2012.[107] By comparison, a Canadian nickel (which is primarily made of steel) still costs less than its face value to produce as of 2013.[108] In response, Mint Director Henrietta Fore in 2004 asked Congress to fund research into lower-cost alternatives to present coinage metals. Although the initiative lapsed when she left office in 2005, in 2010, Congress passed the Coin Modernization, Oversight, and Continuity Act (CMOCA), directing the Mint to explore alternatives to the present compositions of the six denominations, from cent to dollar. In 2011, the Mint awarded a contract to study the issue to Concurrent Technologies Corporation of Johnstown, Pennsylvania.[109] The report in response to the legislation declared that there is no material that would reduce the one-cent coins manufacturing cost to below one cent, so it was removed from consideration. The report requested additional time to study the issue, ensuring the continuation, for the present, of the existing coinage metals.[110] The Mint expected demand for nickels in commerce to increase from 840 million needed in Fiscal Year 2011 to 1.08 billion in 2015.[111]\\n\\nMeanwhile, in an attempt to avoid losing large quantities of circulating nickels to melting, the United States Mint introduced new interim rules on December 14, 2006, that criminalized the melting and export of pennies (which as of 2013 cost 1.83 cents to produce) and nickels. Violators of these rules can be punished with a fine of up to $10,000, five years imprisonment, or both. The rules were finalized on April 17, 2007.[112][109] The melt value of a nickel for some time was more than five cents, including nearing over one-and-a-half times its face value in May 2007. Since then, the supply and demand of the coins composition metals have stabilized. A nickels melt value fell below its face value from late 2008 through mid-2010, and more recently again from late mid-2012 through the present.[113] In February 2014, it was reported that the Mint was conducting experiments to use copper-plated zinc (the same composition used for the United States 1 cent coin) for the nickel.[114]\\n\\nIn December 2014, the Mint released its next Biennial report in response to the CMOCA. In it, the Mint declared that plated zinc products did not hold up to steam/wear tests and were rejected for US coins other than the penny. Materials considered feasible for the 5-cent coin were nickel-plated steel, multi-ply-plated steel, and potentially another copper/nickel alloy, this time with ~77% copper, ~20% nickel, and ~3% manganese. Further testing was recommended to explore even less expensive alloys that would not require changes to vending machines (as the steel-based materials would require).[115]\\n\\nSee also\\n\\tMoney portal\\n\\tNumismatics portal\\nflag\\tUnited States portal\\nNorth Carolina 1861 5 cents banknote\\nUnited States Mint coin production\\nUnited States nickel mintage quantities\\nHobo nickel\\nNotes\\n US Mint Cost To Make Penny and Nickel Declines in FY 2013. January 20, 2014.\\n Taxay 1983, pp. 65–66.\\n Taxay 1983, pp. 72–73.\\n Breen 1988, pp. 152–153.\\n Coin World Almanac 1977, p. 358.\\n Orosz 2012.\\n Hobson 1971, p. 113.\\n Lange 2006, pp. 25–26.\\n Yeoman 2017, pp. 143–144.\\n Taxay 1983, pp. 125–126.\\n Taxay 1983, pp. 217–221.\\n Yeoman 2017, pp. 130, 146.\\n Taxay 1983, p. 243.\\n Lange 2006, p. 99.\\n Breen 1988, p. 246.\\n Taxay 1983, p. 244.\\n Montgomery, Borckardt & Knight 2005, p. 25.\\n Taxay 1983, pp. 241–244.\\n Peters & Mohon 1995, p. 3.\\n Lange 2006, p. 100.\\n Taxay 1983, pp. 244–245.\\n Breen 1988, p. 247.\\n Taxay 1983, p. 245.\\n Peters & Mohon 1995, p. 4.\\n Peters & Mohon 1995, p. 5.\\n Bowers 2006, p. 75.\\n Yeoman 2017, pp. 130_131.\\n Coin World Almanac 1977, pp. 155–156.\\n Bowers 2006, p. 77.\\n Peters & Mohon 1995, p. 81.\\n Peters & Mohon 1995, pp. 76–81.\\n Bowers 2006, p. 136.\\n Yeoman 2017, p. 115.\\n Peters & Mohon 1995, p. 6.\\n Bowers 2006, p. 139.\\n Bowers 2006, pp. 140–141.\\n Peters & Mohon 1995, p. 95.\\n Montgomery, Borckardt & Knight 2005, pp. 27–29.\\n Peters & Mohon 1995, p. 46.\\n Montgomery, Borckardt & Knight 2005, p. 29.\\n Bowers 2006, p. 145.\\n Bowers 2006, pp. 184–185.\\n Peters & Mohon 1995, p. 122.\\n Bowers 2006, p. 149.\\n Richardson 1891, pp. 806–807, 26 Stat L. 484, amendment to R.S. §3510.\\n Bowers 2006, p. 261.\\n Bowers 2006, pp. 48–49.\\n Bowers 2007, pp. 5–7.\\n Bowers 2006, pp. 150–151.\\n Lange 2006, p. 135.\\n Peters & Mohon 1995, p. 164.\\n Montgomery, Borckardt & Knight 2005, p. 98.\\n The China Post & January 1, 2010.\\n Peters & Mohon 1995, p. 172.\\n Peters & Mohon 1995, pp. 171–172.\\n Montgomery, Borckardt & Knight 2005, pp. 37–39.\\n Breen 1988, p. 573.\\n Burdette 2007, pp. 93–97.\\n Taxay 1983, p. 340.\\n Taxay 1983, pp. 340–342.\\n Burdette 2007, p. 172.\\n Burdette 2007, pp. 181–183.\\n Burdette 2007, pp. 193–194.\\n Burdette 2007, pp. 200–201.\\n Taxay 1983, p. 345.\\n Burdette 2007, p. 204.\\n Burdette 2007, p. 205.\\n Burdette 2007, p. 206.\\n Burdette 2007, p. 207.\\n Lange 2006, p. 149.\\n Burdette 2007, p. 214.\\n Bowers 2007, pp. 46–47.\\n Burdette 2007, pp. 252–253.\\n Taxay 1983, p. 346.\\n Burdette 2007, p. 253.\\n Bowers 2007, p. 45.\\n Bowers 2007, pp. 127–128.\\n Bowers 2007, pp. 141–142.\\n Bowers 2007, pp. 38–39.\\n Bowers 2007, p. 39.\\n Porterfield 1970, p. 16.\\n Burdette 2007, p. 223.\\n Bowers 2007, pp. 37–38.\\n Bowers 2007, pp. 41–42.\\n Yeoman 2017, p. 142.\\n Bowers 2007, p. 127.\\n Bowers 2007, pp. 129–131.\\n Bardes 1966.\\n Bowers 2007, pp. 141–143.\\n Lange 2006, p. 167.\\n Bowers 2007, pp. 146–148.\\n Yeoman 2017, pp. 137–142.\\n Bowers 2007, pp. 259–260.\\n Bowers 2007, p. 222.\\n Yeoman 2017, pp. 180, 216, 238.\\n United States Mint 2009, pp. 4–6.\\n USA Today & April 23, 2002.\\n US Mint, Newly-designed nickels 2003.\\n 31 U.S.C. § 5112\\n Anderson 2003.\\n US Mint, 2004 Westward Journey.\\n US Mint, 2005 Westward Journey.\\n Frazier 2005.\\n BBC, forward-looking nickel.\\n US Mint, 2006 Westward Journey.\\n Collectors Weekly.\\n Cost to Make Penny and Nickel. Coinupdate.com. Retrieved 2012-12-21.\\n Grant, Tavia (Feb 3, 2013). Royal Canadian Mint sees gold in the pennys demise. The Globe and Mail.\\n Deisher & April 16, 2012.\\n Gilkes & December 31, 2012.\\n Gilkes & January 4, 2012.\\n US Mint, Exportation & Melting.\\n Current Melt Value Of Coins – How Much Is Your Coin Worth?. Coinflation.com. Retrieved 2013-03-01.\\n Gilkes, Paul (10 February 2014). Mint testing copper-plated zinc for 5¢ coin. Coin World. Retrieved 2 February 2014.\\n U.S. Mint Releases 2014 Biennial Report to Congress. www.usmint.gov. 2014-12-14. Retrieved 2015-08-18.\\nBibliography\\n\\nBowers, Q. David (2006). A Guide Book of Shield and Liberty Head Nickels. Atlanta, Ga.: Whitman Publishing. ISBN 978-0-7948-1921-7.\\nBowers, Q. David (2007). A Guide Book of Buffalo and Jefferson Nickels. Atlanta, Ga.: Whitman Publishing. ISBN 978-0-7948-2008-4.\\nBreen, Walter (1988). Walter Breens Complete Encyclopedia of U.S. and Colonial Coins. New York, N.Y.: Doubleday. ISBN 978-0-385-14207-6.\\nBurdette, Roger W. (2007). Renaissance of American Coinage, 1909–1915. Great Falls, Va.: Seneca Mill Press. ISBN 978-0-9768986-2-7.\\nCoin World Almanac (3rd ed.). Sidney, Ohio: Amos Press. 1977. ASIN B004AB7C9M.\\nHobson, Walter (1971). Historic Gold Coins of the World. Garden City, N.Y.: Doubleday and Co. ISBN 978-0-385-08137-5.\\nLange, David W. (2006). History of the United States Mint and its Coinage. Atlanta, Ga.: Whitman Publishing. ISBN 978-0-7948-1972-9.\\nMontgomery, Paul; Borckardt, Mark; Knight, Ray (2005). Million Dollar Nickel. Irvine, Ca.: Zyrus Press. ISBN 978-0-9742371-8-3.\\nPeters, Gloria; Mohon, Cynthia (1995). The Complete Guide to Shield & Liberty Head Nickels. Virginia Beach, Va.: DLRC Press. ISBN 978-1-880731-52-9.\\nRichardson, William Allen, ed. (1891). Supplement to the revised statutes of the United States. 1. Washington, D.C.: US Government Printing Office.\\nTaxay, Don (1983). The U.S. Mint and Coinage (reprint of 1966 ed.). New York, N.Y.: Sanford J. Durst Numismatic Publications. ISBN 978-0-915262-68-7.\\nYeoman, R.S. (2017). A Guide Book of United States Coins (The Official Red Book) (71st ed.). Atlanta, Ga.: Whitman Publishing. ISBN 978-0-7948-4506-3.\\nOther sources\\n\\nAnderson, Gordon T. (November 6, 2003). U.S. to get two new nickels. CNN Money. Retrieved June 24, 2012.\\nBardes, Herbert C. (July 24, 1966). Nickel designer gains his place. The New York Times. p. 85. Retrieved April 7, 2011. (subscription required)\\nDeisher, Beth (April 16, 2012). U.S. must summon the courage to retire 1-cent denomination. Coin World. p. 15.\\nFrazier, Joseph (August 5, 2005). New nickel recalls historic moment. The Register-Guard. Eugene, Ore. AP. p. C7. Retrieved April 7, 2011.\\nGilkes, Paul (January 4, 2012). Cent, 5¢ demand on rebound during FY2011. Coin World. p. 4.\\nGilkes, Paul (December 31, 2012). Mint wants more time to study compositions. Coin World. p. 1.\\nOrosz, Joel J. (June 2012). The five founding fathers of the United States Mint. The Numismatist. American Numismatic Association.\\nPorterfield, Walden R. (March 3, 1970). The Billion Dollar Profile. The Milwaukee Journal. p. 16. Retrieved November 21, 2010.\\nUS unveils forward-looking nickel. BBC. October 6, 2005. Retrieved April 8, 2011.\\nRare U.S. coin fetches over US$3.7 million at auction. The China Post. January 1, 2010. Archived from the original on March 5, 2016. Retrieved January 27, 2012.\\nJefferson nickels. Collectors Weekly. Retrieved April 12, 2011.\\nU.S. Code, Title 31, Section 5112. Cornell University Law School. Archived from the original on November 23, 2011. Retrieved April 20, 2011.\\nUnited States Mint (c. 2009). 50 States Quarters Report (PDF). United States Mint Financial Department. Archived from the original (PDF) on March 10, 2016. Retrieved October 18, 2011.\\nNation to get newly designed nickels (Press release). United States Mint. April 24, 2003. Retrieved April 7, 2011.\\nThe 2004 Westward Journey nickel series designs. United States Mint. Retrieved April 7, 2011.\\nThe 2005 Westward Journey nickel series designs. United States Mint. Retrieved April 7, 2011.\\nThe 2006 Westward Journey nickel series designs. United States Mint. Retrieved April 8, 2011.\\nUnited States Mint Moves Limits Exportation & Melting of Coins (Press release). United States Mint. April 17, 2007. Retrieved November 10, 2018.\\nVa. legislators want to keep their nickel back. USA Today. AP. July 23, 2002. Retrieved April 7, 2011']\n",
      "199 : ['Is Rolf - Axel Eberhardts stated age greater than 52?']\n",
      "199 : ['When did Podgorica start as Principality of Montenegro?']\n",
      "199 : ['Does the total quantity of Methanol Vaporization equal 37400?']\n",
      "199 : ['What grant was gotten Mary Tyler Moore ?']\n",
      "199 : ['Where does Tuesday get its name from?']\n",
      "199 : ['Out of the archives, which are for Grace Hopper?']\n",
      "199 : ['Which is the narrative location of Siddhartha?']\n",
      "199 : ['Where is the put of Tartuffes to begin with execution with the most remote east facilitates of 48.8363848 2.4697602?']\n",
      "199 : ['Which military operation  stars with the letter o?']\n",
      "199 : ['Were there 0 matches, games drawn and tied during the 2001 British and Irish Lions tour?']\n",
      "199 : ['Who are Candice Bergens parents?']\n",
      "199 : ['Which dialect composed from Romy Schneider, has the syntactic individual talking as the third individual plural?']\n",
      "199 : ['Is 5 the cash back value of the Gold ADAC Credit Card?']\n",
      "199 : ['What is the superheros opposite?']\n",
      "199 : ['What is the utilize of playing World Rugby?']\n",
      "199 : ['How many people do currently live in Aden?']\n",
      "199 : ['Whats the name of Carlos Sauras wife whom he married in 2006?']\n",
      "199 : ['How many exclaves does Azerbaijan have?']\n",
      "199 : ['Which is the total equity of Micron Technology?']\n",
      "199 : ['Where was Michael J. Fox born?']\n",
      "199 : ['Tell me the architect and heritage designation of Westminster Palace.']\n",
      "199 : ['Is it correct to say that the SSK6-1s optimum workable temperature is greater than 24.0?']\n",
      "199 : ['Which nation housed the Indian Freedom Movement?']\n",
      "199 : ['Title a nonmetal found in Britain that begins with letter O']\n",
      "199 : ['What did Sidney Crosby draft?']\n",
      "199 : ['What number of shogun military ranks exist?']\n",
      "199 : ['Strabos student was presumably known as who?']\n",
      "199 : ['What position did John Hume hold, when was once he elected, and what function did he hold in the 53rd Parliament of the United Kingdom?']\n",
      "199 : ['Who is the child of Jacob Conover?']\n",
      "199 : ['When was Gordon Lightfoot nominated and for what?']\n"
     ]
    },
    {
     "name": "stdout",
     "output_type": "stream",
     "text": [
      "Encountered value error line 51 of main.py: 's' is not in list\n"
     ]
    },
    {
     "name": "stdout",
     "output_type": "stream",
     "text": [
      "200 : ['When is John X believed to have died?']\n"
     ]
    },
    {
     "name": "stdout",
     "output_type": "stream",
     "text": [
      "201 : ['Which is the benefactor holy person of the put of passing of Anna de Medici?']\n"
     ]
    },
    {
     "name": "stdout",
     "output_type": "stream",
     "text": [
      "202 : ['Is the fee for Harvard University is less than 90?']\n",
      "[reRank_relations]: what number of shogun military ranks exist \n",
      "SPARQL Requests Made: 0 \n",
      "SPARQL Requests Total Time: 0 \n",
      "SPARQL Avg Time per Qn: 0\n",
      "203 : ['What is BIA PSY person ID for Carl Rogers ?']\n",
      "204 : ['Who is the captain of F.C. Porto?']\n",
      "205 : ['What are the independent locale of the Peoples Republic of China which begin with the letter X']\n",
      "Encountered ValueError on line 457 of main.py: 's' is not in list\n"
     ]
    },
    {
     "name": "stdout",
     "output_type": "stream",
     "text": [
      "[reRank_relations]: out of the archives, which are for Grace Hopper \n",
      "SPARQL Requests Made: 0 \n",
      "SPARQL Requests Total Time: 0 \n",
      "SPARQL Avg Time per Qn: 0\n",
      "206 : ['where is the  Marseille is located in?']\n",
      "[reRank_relations]: when was Gordon Lightfoot nominated and for what \n",
      "SPARQL Requests Made: 1 \n",
      "SPARQL Requests Total Time: 0.7729780673980713 \n",
      "SPARQL Avg Time per Qn: 0.7729780673980713\n",
      "[reRank_relations]: when was Gordon Lightfoot nominated and for what \n",
      "SPARQL Requests Made: 0 \n",
      "SPARQL Requests Total Time: 0 \n",
      "SPARQL Avg Time per Qn: 0\n",
      "207 : ['Which award was given to both Harry Martinson and Eyvind Johnson?']\n",
      "[reRank_relations]: what did Sidney Crosby draft \n",
      "SPARQL Requests Made: 1 \n",
      "SPARQL Requests Total Time: 0.7676956653594971 \n",
      "SPARQL Avg Time per Qn: 0.7676956653594971\n",
      "[reRank_relations]: what did Sidney Crosby draft \n",
      "SPARQL Requests Made: 0 \n",
      "SPARQL Requests Total Time: 0 \n",
      "SPARQL Avg Time per Qn: 0\n",
      "208 : ['Say the headquarter area of the Russian Standard Church monastery.']\n"
     ]
    },
    {
     "name": "stdout",
     "output_type": "stream",
     "text": [
      "[reRank_relations]: which is the total equity of Micron Technology \n",
      "SPARQL Requests Made: 1 \n",
      "SPARQL Requests Total Time: 0.7442233562469482 \n",
      "SPARQL Avg Time per Qn: 0.7442233562469482\n",
      "209 : ['What is Bandysidan player ID for Sergey Lomanov ?']\n",
      "[reRank_relations]: when is John X believed to have died \n",
      "SPARQL Requests Made: 0 \n",
      "SPARQL Requests Total Time: 0 \n",
      "SPARQL Avg Time per Qn: 0\n",
      "[reRank_relations]: who is the child of Jacob Conover \n",
      "SPARQL Requests Made: 1 \n",
      "SPARQL Requests Total Time: 0.8199143409729004 \n",
      "SPARQL Avg Time per Qn: 0.8199143409729004\n",
      "[reRank_relations]: who is the child of Jacob Conover \n",
      "SPARQL Requests Made: 0 \n",
      "SPARQL Requests Total Time: 0 \n",
      "SPARQL Avg Time per Qn: 0\n",
      "210 : ['Who are the scholars of the scholastic subject Ten basic rules for altering Wikipedia?']\n"
     ]
    },
    {
     "name": "stdout",
     "output_type": "stream",
     "text": [
      "211 : ['Title the female who found the Horsehead Cloud.']\n"
     ]
    },
    {
     "name": "stdout",
     "output_type": "stream",
     "text": [
      "212 : ['Name a fruit composed of Citrullus lanatus that starts offevolved with letter W']\n",
      "[reRank_relations]: where is the  Marseille is located in \n",
      "SPARQL Requests Made: 1 \n",
      "SPARQL Requests Total Time: 0.7584254741668701 \n",
      "SPARQL Avg Time per Qn: 0.7584254741668701\n",
      "213 : ['Which conflict is depicted by the Raising of the Flag on Iwo Jima?']\n"
     ]
    },
    {
     "name": "stdout",
     "output_type": "stream",
     "text": [
      "214 : ['What what is unary operation notation by using crucial symbol and which that starts offevolved with {i}']\n"
     ]
    },
    {
     "name": "stdout",
     "output_type": "stream",
     "text": [
      "Encountered value error line 51 of main.py: 'led' is not in list\n",
      "Encountered value error line 51 of main.py: 'led' is not in list\n",
      "Encountered value error line 51 of main.py: 'sent' is not in list\n",
      "Encountered value error line 51 of main.py: 'halted' is not in list\n",
      "Encountered value error line 51 of main.py: 'ran' is not in list\n",
      "Encountered value error line 51 of main.py: 'ran' is not in list\n",
      "Encountered value error line 51 of main.py: 'ran' is not in list\n",
      "Encountered value error line 51 of main.py: 'ran' is not in list\n",
      "Encountered value error line 51 of main.py: 'ran' is not in list\n",
      "Encountered value error line 51 of main.py: 'ran' is not in list\n",
      "Encountered value error line 51 of main.py: 'ran' is not in list\n",
      "Encountered value error line 51 of main.py: 'ran' is not in list\n",
      "Encountered value error line 51 of main.py: 'ran' is not in list\n",
      "Encountered value error line 51 of main.py: 'led' is not in list\n",
      "Encountered value error line 51 of main.py: 'led' is not in list\n",
      "Encountered value error line 51 of main.py: 'sent' is not in list\n",
      "Encountered value error line 51 of main.py: 'end' is not in list\n",
      "Encountered value error line 51 of main.py: 'end' is not in list\n",
      "Encountered value error line 51 of main.py: 'use' is not in list\n",
      "Encountered value error line 51 of main.py: 'use' is not in list\n",
      "Encountered value error line 51 of main.py: 'use' is not in list\n",
      "Encountered value error line 51 of main.py: 'sent' is not in list\n",
      "Encountered value error line 51 of main.py: 'sent' is not in list\n",
      "Encountered value error line 51 of main.py: 'sent' is not in list\n",
      "Encountered value error line 51 of main.py: 'nickel' is not in list\n",
      "Encountered value error line 51 of main.py: 'nickel' is not in list\n",
      "Encountered value error line 51 of main.py: 'lack' is not in list\n",
      "Encountered value error line 51 of main.py: 'lack' is not in list\n",
      "Encountered value error line 51 of main.py: 'lack' is not in list\n",
      "Encountered value error line 51 of main.py: 'use' is not in list\n",
      "Encountered value error line 51 of main.py: 'use' is not in list\n",
      "Encountered value error line 51 of main.py: 'use' is not in list\n",
      "Encountered value error line 51 of main.py: 'use' is not in list\n",
      "Encountered value error line 51 of main.py: 'use' is not in list\n",
      "Encountered value error line 51 of main.py: 'use' is not in list\n",
      "Encountered value error line 51 of main.py: 'Breen' is not in list\n",
      "Encountered value error line 51 of main.py: 'Breen' is not in list\n",
      "Encountered value error line 51 of main.py: 'Breen' is not in list\n",
      "Encountered value error line 51 of main.py: 'Breen' is not in list\n",
      "Encountered value error line 51 of main.py: 'Breen' is not in list\n",
      "Encountered value error line 51 of main.py: 'Breen' is not in list\n",
      "Encountered value error line 51 of main.py: 'Breen' is not in list\n",
      "Encountered value error line 51 of main.py: 'Breen' is not in list\n"
     ]
    },
    {
     "name": "stdout",
     "output_type": "stream",
     "text": [
      "[reRank_relations]: which conflict is depicted by the Raising of the Flag on Iwo Jima \n",
      "SPARQL Requests Made: 1 \n",
      "SPARQL Requests Total Time: 0.7416079044342041 \n",
      "SPARQL Avg Time per Qn: 0.7416079044342041\n"
     ]
    },
    {
     "name": "stdout",
     "output_type": "stream",
     "text": [
      "[reRank_relations]: which award was given to both Harry Martinson and Eyvind Johnson \n",
      "SPARQL Requests Made: 2 \n",
      "SPARQL Requests Total Time: 1.6714694499969482 \n",
      "SPARQL Avg Time per Qn: 0.8357347249984741\n"
     ]
    },
    {
     "name": "stdout",
     "output_type": "stream",
     "text": [
      "[reRank_relations]: where was Michael J Fox born \n",
      "SPARQL Requests Made: 4 \n",
      "SPARQL Requests Total Time: 2.990783214569092 \n",
      "SPARQL Avg Time per Qn: 0.747695803642273\n",
      "215 : ['What is being handled in an person with arteriosclerosis?']\n"
     ]
    },
    {
     "name": "stdout",
     "output_type": "stream",
     "text": [
      "[reRank_relations]: which award was given to both Harry Martinson and Eyvind Johnson \n",
      "SPARQL Requests Made: 2 \n",
      "SPARQL Requests Total Time: 1.5290579795837402 \n",
      "SPARQL Avg Time per Qn: 0.7645289897918701\n",
      "[reRank_relations]: which award was given to both Harry Martinson and Eyvind Johnson \n",
      "SPARQL Requests Made: 0 \n",
      "SPARQL Requests Total Time: 0 \n",
      "SPARQL Avg Time per Qn: 0\n",
      "[reRank_relations]: which award was given to both Harry Martinson and Eyvind Johnson \n",
      "SPARQL Requests Made: 0 \n",
      "SPARQL Requests Total Time: 0 \n",
      "SPARQL Avg Time per Qn: 0\n",
      "216 : ['What is the category for recipients for the Noble Prize?']\n"
     ]
    },
    {
     "name": "stdout",
     "output_type": "stream",
     "text": [
      "217 : ['What as the 1996 Venezuelan inflation rate?']\n"
     ]
    },
    {
     "name": "stdout",
     "output_type": "stream",
     "text": [
      "[reRank_relations]: which is the benefactor holy person of the put of passing of Anna de Medici \n",
      "SPARQL Requests Made: 9 \n",
      "SPARQL Requests Total Time: 7.238804817199707 \n",
      "SPARQL Avg Time per Qn: 0.804311646355523\n"
     ]
    },
    {
     "name": "stdout",
     "output_type": "stream",
     "text": [
      "[reRank_relations]: what grant was gotten Mary Tyler Moore  \n",
      "SPARQL Requests Made: 16 \n",
      "SPARQL Requests Total Time: 12.518074035644531 \n",
      "SPARQL Avg Time per Qn: 0.7823796272277832\n",
      "[reRank_relations]: what grant was gotten Mary Tyler Moore  \n",
      "SPARQL Requests Made: 0 \n",
      "SPARQL Requests Total Time: 0 \n",
      "SPARQL Avg Time per Qn: 0\n"
     ]
    },
    {
     "name": "stdout",
     "output_type": "stream",
     "text": [
      "[reRank_relations]: which is the narrative location of Siddhartha \n",
      "SPARQL Requests Made: 16 \n",
      "SPARQL Requests Total Time: 13.5192232131958 \n",
      "SPARQL Avg Time per Qn: 0.8449514508247375\n"
     ]
    },
    {
     "name": "stdout",
     "output_type": "stream",
     "text": [
      "[reRank_relations]: what is Bandysidan player ID for Sergey Lomanov  \n",
      "SPARQL Requests Made: 16 \n",
      "SPARQL Requests Total Time: 12.419549703598022 \n",
      "SPARQL Avg Time per Qn: 0.7762218564748764\n",
      "[reRank_relations]: what is Bandysidan player ID for Sergey Lomanov  \n",
      "SPARQL Requests Made: 0 \n",
      "SPARQL Requests Total Time: 0 \n",
      "SPARQL Avg Time per Qn: 0\n"
     ]
    },
    {
     "name": "stdout",
     "output_type": "stream",
     "text": [
      "[reRank_relations]: which conflict is depicted by the Raising of the Flag on Iwo Jima \n",
      "SPARQL Requests Made: 15 \n",
      "SPARQL Requests Total Time: 11.597915172576904 \n",
      "SPARQL Avg Time per Qn: 0.7731943448384603\n"
     ]
    },
    {
     "name": "stdout",
     "output_type": "stream",
     "text": [
      "[reRank_relations]: strabos student was Presumably known as who \n",
      "SPARQL Requests Made: 26 \n",
      "SPARQL Requests Total Time: 20.907926082611084 \n",
      "SPARQL Avg Time per Qn: 0.8041510031773493\n"
     ]
    },
    {
     "name": "stdout",
     "output_type": "stream",
     "text": [
      "[reRank_relations]: where is the put of Tartuffes to begin with execution with the most remote east facilitates of 488363848 24697602 \n",
      "SPARQL Requests Made: 30 \n",
      "SPARQL Requests Total Time: 23.25009846687317 \n",
      "SPARQL Avg Time per Qn: 0.7750032822291056\n"
     ]
    },
    {
     "name": "stdout",
     "output_type": "stream",
     "text": [
      "[reRank_relations]: who are the scholars of the scholastic subject Ten basic rules for altering Wikipedia \n",
      "SPARQL Requests Made: 30 \n",
      "SPARQL Requests Total Time: 23.269452810287476 \n",
      "SPARQL Avg Time per Qn: 0.7756484270095825\n"
     ]
    },
    {
     "name": "stdout",
     "output_type": "stream",
     "text": [
      "[reRank_relations]: who is the captain of FC Porto \n",
      "SPARQL Requests Made: 33 \n",
      "SPARQL Requests Total Time: 25.359739780426025 \n",
      "SPARQL Avg Time per Qn: 0.7684769630432129\n"
     ]
    },
    {
     "name": "stdout",
     "output_type": "stream",
     "text": [
      "[reRank_relations]: title the female who found the Horsehead Cloud \n",
      "SPARQL Requests Made: 42 \n",
      "SPARQL Requests Total Time: 34.04772663116455 \n",
      "SPARQL Avg Time per Qn: 0.8106601578848702\n"
     ]
    },
    {
     "name": "stdout",
     "output_type": "stream",
     "text": [
      "[reRank_relations]: what is BIA PSY person ID for Carl Rogers  \n",
      "SPARQL Requests Made: 46 \n",
      "SPARQL Requests Total Time: 35.91165614128113 \n",
      "SPARQL Avg Time per Qn: 0.7806881769843723\n",
      "[reRank_relations]: what is BIA PSY person ID for Carl Rogers  \n",
      "SPARQL Requests Made: 0 \n",
      "SPARQL Requests Total Time: 0 \n",
      "SPARQL Avg Time per Qn: 0\n"
     ]
    },
    {
     "name": "stdout",
     "output_type": "stream",
     "text": [
      "[reRank_relations]: what is being handled in an person with arteriosclerosis \n",
      "SPARQL Requests Made: 60 \n",
      "SPARQL Requests Total Time: 47.86288905143738 \n",
      "SPARQL Avg Time per Qn: 0.7977148175239563\n"
     ]
    },
    {
     "name": "stdout",
     "output_type": "stream",
     "text": [
      "[reRank_relations]: were there 0 matches, games drawn and tied during the 2001 British and Irish Lions tour \n",
      "SPARQL Requests Made: 64 \n",
      "SPARQL Requests Total Time: 49.85444927215576 \n",
      "SPARQL Avg Time per Qn: 0.7789757698774338\n"
     ]
    },
    {
     "name": "stdout",
     "output_type": "stream",
     "text": [
      "[reRank_relations]: when did Podgorica start as Principality of Montenegro \n",
      "SPARQL Requests Made: 72 \n",
      "SPARQL Requests Total Time: 56.641437292099 \n",
      "SPARQL Avg Time per Qn: 0.7866866290569305\n"
     ]
    },
    {
     "name": "stdout",
     "output_type": "stream",
     "text": [
      "[reRank_relations]: which nation housed the Indian Freedom Movement \n",
      "SPARQL Requests Made: 80 \n",
      "SPARQL Requests Total Time: 63.25946378707886 \n",
      "SPARQL Avg Time per Qn: 0.7907432973384857\n"
     ]
    },
    {
     "name": "stdout",
     "output_type": "stream",
     "text": [
      "[reRank_relations]: which nation housed the Indian Freedom Movement \n",
      "SPARQL Requests Made: 1 \n",
      "SPARQL Requests Total Time: 0.754849910736084 \n",
      "SPARQL Avg Time per Qn: 0.754849910736084\n"
     ]
    },
    {
     "name": "stdout",
     "output_type": "stream",
     "text": [
      "[reRank_relations]: what are the independent locale of the Peoples Republic of China which begin with the letter X \n",
      "SPARQL Requests Made: 90 \n",
      "SPARQL Requests Total Time: 69.40241503715515 \n",
      "SPARQL Avg Time per Qn: 0.7711379448572795\n"
     ]
    },
    {
     "name": "stdout",
     "output_type": "stream",
     "text": [
      "[reRank_relations]: title the female who found the Horsehead Cloud \n",
      "SPARQL Requests Made: 61 \n",
      "SPARQL Requests Total Time: 49.16921138763428 \n",
      "SPARQL Avg Time per Qn: 0.8060526456989225\n"
     ]
    },
    {
     "name": "stdout",
     "output_type": "stream",
     "text": [
      "[reRank_relations]: is the fee for Harvard University is less than 90 \n",
      "SPARQL Requests Made: 115 \n",
      "SPARQL Requests Total Time: 89.37160921096802 \n",
      "SPARQL Avg Time per Qn: 0.777144427921461\n"
     ]
    },
    {
     "name": "stdout",
     "output_type": "stream",
     "text": [
      "[reRank_relations]: when is John X believed to have died \n",
      "SPARQL Requests Made: 124 \n",
      "SPARQL Requests Total Time: 95.1638445854187 \n",
      "SPARQL Avg Time per Qn: 0.7674503595598282\n"
     ]
    },
    {
     "name": "stdout",
     "output_type": "stream",
     "text": [
      "[reRank_relations]: what what is unary operation notation by using crucial symbol and which that starts Offevolved with {i} \n",
      "SPARQL Requests Made: 130 \n",
      "SPARQL Requests Total Time: 104.49375653266907 \n",
      "SPARQL Avg Time per Qn: 0.8037981271743775\n",
      "[reRank_relations]: what what is unary operation notation by using crucial symbol and which that starts Offevolved with {i} \n",
      "SPARQL Requests Made: 0 \n",
      "SPARQL Requests Total Time: 0 \n",
      "SPARQL Avg Time per Qn: 0\n"
     ]
    },
    {
     "name": "stdout",
     "output_type": "stream",
     "text": [
      "[reRank_relations]: who are Candice Bergens parents \n",
      "SPARQL Requests Made: 143 \n",
      "SPARQL Requests Total Time: 111.18502974510193 \n",
      "SPARQL Avg Time per Qn: 0.7775176905251883\n"
     ]
    },
    {
     "name": "stdout",
     "output_type": "stream",
     "text": [
      "[reRank_relations]: which dialect composed from Romy Schneider, has the syntactic individual talking as the third individual plural \n",
      "SPARQL Requests Made: 150 \n",
      "SPARQL Requests Total Time: 115.79844999313354 \n",
      "SPARQL Avg Time per Qn: 0.7719896666208903\n"
     ]
    },
    {
     "name": "stdout",
     "output_type": "stream",
     "text": [
      "[reRank_relations]: what is the utilize of playing World Rugby \n",
      "SPARQL Requests Made: 180 \n",
      "SPARQL Requests Total Time: 138.08973288536072 \n",
      "SPARQL Avg Time per Qn: 0.7671651826964484\n"
     ]
    },
    {
     "name": "stdout",
     "output_type": "stream",
     "text": [
      "[reRank_relations]: title the female who found the Horsehead Cloud \n",
      "SPARQL Requests Made: 106 \n",
      "SPARQL Requests Total Time: 82.78901934623718 \n",
      "SPARQL Avg Time per Qn: 0.781028484398464\n"
     ]
    },
    {
     "name": "stdout",
     "output_type": "stream",
     "text": [
      "[reRank_relations]: is Rolf - Axel Eberhardts stated age greater than 52 \n",
      "SPARQL Requests Made: 224 \n",
      "SPARQL Requests Total Time: 174.8166949748993 \n",
      "SPARQL Avg Time per Qn: 0.7804316739950862\n"
     ]
    },
    {
     "name": "stdout",
     "output_type": "stream",
     "text": [
      "[reRank_relations]: what number of shogun military ranks exist \n",
      "SPARQL Requests Made: 225 \n",
      "SPARQL Requests Total Time: 177.56890869140625 \n",
      "SPARQL Avg Time per Qn: 0.7891951497395834\n"
     ]
    },
    {
     "name": "stdout",
     "output_type": "stream",
     "text": [
      "[reRank_relations]: tell me the architect and heritage designation of Westminster Palace \n",
      "SPARQL Requests Made: 226 \n",
      "SPARQL Requests Total Time: 177.39624118804932 \n",
      "SPARQL Avg Time per Qn: 0.7849391203011031\n"
     ]
    },
    {
     "name": "stdout",
     "output_type": "stream",
     "text": [
      "[reRank_relations]: name a fruit composed of Citrullus lanatus that starts Offevolved with letter W \n",
      "SPARQL Requests Made: 233 \n",
      "SPARQL Requests Total Time: 181.25376439094543 \n",
      "SPARQL Avg Time per Qn: 0.7779131518924697\n"
     ]
    },
    {
     "name": "stdout",
     "output_type": "stream",
     "text": [
      "[reRank_relations]: what what is unary operation notation by using crucial symbol and which that starts Offevolved with {i} \n",
      "SPARQL Requests Made: 130 \n",
      "SPARQL Requests Total Time: 100.27537727355957 \n",
      "SPARQL Avg Time per Qn: 0.7713490559504582\n"
     ]
    },
    {
     "name": "stdout",
     "output_type": "stream",
     "text": [
      "[reRank_relations]: name a fruit composed of Citrullus lanatus that starts Offevolved with letter W \n",
      "SPARQL Requests Made: 44 \n",
      "SPARQL Requests Total Time: 34.1705858707428 \n",
      "SPARQL Avg Time per Qn: 0.7766042243350636\n",
      "[reRank_relations]: name a fruit composed of Citrullus lanatus that starts Offevolved with letter W \n",
      "SPARQL Requests Made: 0 \n",
      "SPARQL Requests Total Time: 0 \n",
      "SPARQL Avg Time per Qn: 0\n"
     ]
    },
    {
     "name": "stdout",
     "output_type": "stream",
     "text": [
      "[reRank_relations]: name a fruit composed of Citrullus lanatus that starts Offevolved with letter W \n",
      "SPARQL Requests Made: 52 \n",
      "SPARQL Requests Total Time: 40.55845069885254 \n",
      "SPARQL Avg Time per Qn: 0.7799702057471642\n"
     ]
    },
    {
     "name": "stdout",
     "output_type": "stream",
     "text": [
      "[reRank_relations]: were there 0 matches, games drawn and tied during the 2001 British and Irish Lions tour \n",
      "SPARQL Requests Made: 280 \n",
      "SPARQL Requests Total Time: 216.90163612365723 \n",
      "SPARQL Avg Time per Qn: 0.7746487004416329\n"
     ]
    },
    {
     "name": "stdout",
     "output_type": "stream",
     "text": [
      "[reRank_relations]: whats the name of Carlos Sauras wife whom he married in 2006 \n",
      "SPARQL Requests Made: 361 \n",
      "SPARQL Requests Total Time: 284.02067136764526 \n",
      "SPARQL Avg Time per Qn: 0.7867608625142528\n"
     ]
    },
    {
     "name": "stdout",
     "output_type": "stream",
     "text": [
      "[reRank_relations]: name a fruit composed of Citrullus lanatus that starts Offevolved with letter W \n",
      "SPARQL Requests Made: 44 \n",
      "SPARQL Requests Total Time: 33.94371032714844 \n",
      "SPARQL Avg Time per Qn: 0.7714479619806464\n",
      "[reRank_relations]: name a fruit composed of Citrullus lanatus that starts Offevolved with letter W \n",
      "SPARQL Requests Made: 0 \n",
      "SPARQL Requests Total Time: 0 \n",
      "SPARQL Avg Time per Qn: 0\n"
     ]
    },
    {
     "name": "stdout",
     "output_type": "stream",
     "text": [
      "[reRank_relations]: how many people do currently live in Aden \n",
      "SPARQL Requests Made: 450 \n",
      "SPARQL Requests Total Time: 348.5675687789917 \n",
      "SPARQL Avg Time per Qn: 0.7745945972866483\n"
     ]
    },
    {
     "name": "stdout",
     "output_type": "stream",
     "text": [
      "[reRank_relations]: whats the name of Carlos Sauras wife whom he married in 2006 \n",
      "SPARQL Requests Made: 92 \n",
      "SPARQL Requests Total Time: 71.58612298965454 \n",
      "SPARQL Avg Time per Qn: 0.778110032496245\n"
     ]
    },
    {
     "name": "stdout",
     "output_type": "stream",
     "text": [
      "Encountered ValueError on line 457 of main.py: 'cent' is not in list\n",
      "Encountered ValueError on line 457 of main.py: 'cent' is not in list\n",
      "Encountered ValueError on line 457 of main.py: 'cent' is not in list\n",
      "Encountered ValueError on line 457 of main.py: 'cent' is not in list\n",
      "Encountered ValueError on line 457 of main.py: 'cent' is not in list\n",
      "Encountered ValueError on line 457 of main.py: 'cent' is not in list\n",
      "Encountered ValueError on line 457 of main.py: 'cent' is not in list\n",
      "Encountered ValueError on line 457 of main.py: 'cent' is not in list\n",
      "Encountered ValueError on line 457 of main.py: 'cent' is not in list\n",
      "Encountered ValueError on line 457 of main.py: 'cent' is not in list\n",
      "Encountered ValueError on line 457 of main.py: 'cent' is not in list\n",
      "Encountered ValueError on line 457 of main.py: 'cent' is not in list\n",
      "Encountered ValueError on line 457 of main.py: 'cent' is not in list\n",
      "Encountered ValueError on line 457 of main.py: 'cent' is not in list\n",
      "Encountered ValueError on line 457 of main.py: 'cent' is not in list\n",
      "Encountered ValueError on line 457 of main.py: 'cent' is not in list\n",
      "Encountered ValueError on line 457 of main.py: 'cent' is not in list\n",
      "Encountered ValueError on line 457 of main.py: 'cent' is not in list\n",
      "Encountered ValueError on line 457 of main.py: 'cent' is not in list\n",
      "Encountered ValueError on line 457 of main.py: 'cent' is not in list\n",
      "Encountered ValueError on line 457 of main.py: 'cent' is not in list\n",
      "Encountered ValueError on line 457 of main.py: 'cent' is not in list\n",
      "Encountered ValueError on line 457 of main.py: 'cent' is not in list\n",
      "Encountered ValueError on line 457 of main.py: 'cent' is not in list\n",
      "Encountered ValueError on line 457 of main.py: 'cent' is not in list\n",
      "Encountered ValueError on line 457 of main.py: 'cent' is not in list\n",
      "Encountered ValueError on line 457 of main.py: 'cent' is not in list\n",
      "Encountered ValueError on line 457 of main.py: 'cent' is not in list\n",
      "Encountered ValueError on line 457 of main.py: 'cent' is not in list\n",
      "Encountered ValueError on line 457 of main.py: 'cent' is not in list\n",
      "Encountered ValueError on line 457 of main.py: 'cent' is not in list\n",
      "Encountered ValueError on line 457 of main.py: 'cent' is not in list\n",
      "Encountered ValueError on line 457 of main.py: 'cent' is not in list\n",
      "Encountered ValueError on line 457 of main.py: 'cent' is not in list\n",
      "Encountered ValueError on line 457 of main.py: 'cent' is not in list\n",
      "Encountered ValueError on line 457 of main.py: 'cent' is not in list\n",
      "Encountered ValueError on line 457 of main.py: 'cent' is not in list\n",
      "Encountered ValueError on line 457 of main.py: 'cent' is not in list\n",
      "Encountered ValueError on line 457 of main.py: 'cent' is not in list\n",
      "Encountered ValueError on line 457 of main.py: 'cent' is not in list\n",
      "Encountered ValueError on line 457 of main.py: 'cent' is not in list\n",
      "Encountered ValueError on line 457 of main.py: 'cent' is not in list\n",
      "Encountered ValueError on line 457 of main.py: 'cent' is not in list\n",
      "Encountered ValueError on line 457 of main.py: 'cent' is not in list\n",
      "Encountered ValueError on line 457 of main.py: 'cent' is not in list\n",
      "Encountered ValueError on line 457 of main.py: 'cent' is not in list\n",
      "Encountered ValueError on line 457 of main.py: 'cent' is not in list\n",
      "Encountered ValueError on line 457 of main.py: '%' is not in list\n",
      "Encountered ValueError on line 457 of main.py: '%' is not in list\n",
      "Encountered ValueError on line 457 of main.py: '%' is not in list\n",
      "Encountered ValueError on line 457 of main.py: '%' is not in list\n",
      "Encountered ValueError on line 457 of main.py: '%' is not in list\n",
      "Encountered ValueError on line 457 of main.py: '%' is not in list\n",
      "Encountered ValueError on line 457 of main.py: '%' is not in list\n",
      "Encountered ValueError on line 457 of main.py: '%' is not in list\n",
      "Encountered ValueError on line 457 of main.py: '%' is not in list\n",
      "Encountered ValueError on line 457 of main.py: '%' is not in list\n",
      "Encountered ValueError on line 457 of main.py: '%' is not in list\n",
      "Encountered ValueError on line 457 of main.py: '%' is not in list\n",
      "Encountered ValueError on line 457 of main.py: '%' is not in list\n",
      "Encountered ValueError on line 457 of main.py: '%' is not in list\n",
      "Encountered ValueError on line 457 of main.py: '%' is not in list\n",
      "Encountered ValueError on line 457 of main.py: '%' is not in list\n",
      "Encountered ValueError on line 457 of main.py: '%' is not in list\n",
      "Encountered ValueError on line 457 of main.py: '%' is not in list\n",
      "Encountered ValueError on line 457 of main.py: '%' is not in list\n",
      "Encountered ValueError on line 457 of main.py: '%' is not in list\n",
      "Encountered ValueError on line 457 of main.py: '%' is not in list\n",
      "Encountered ValueError on line 457 of main.py: '%' is not in list\n",
      "Encountered ValueError on line 457 of main.py: '%' is not in list\n",
      "Encountered ValueError on line 457 of main.py: '%' is not in list\n",
      "Encountered ValueError on line 457 of main.py: '%' is not in list\n",
      "Encountered ValueError on line 457 of main.py: '%' is not in list\n",
      "Encountered ValueError on line 457 of main.py: 'cent' is not in list\n",
      "Encountered ValueError on line 457 of main.py: 'cent' is not in list\n",
      "Encountered ValueError on line 457 of main.py: 'cent' is not in list\n",
      "Encountered ValueError on line 457 of main.py: 'cent' is not in list\n",
      "Encountered ValueError on line 457 of main.py: 'cent' is not in list\n",
      "Encountered ValueError on line 457 of main.py: 'cent' is not in list\n",
      "Encountered ValueError on line 457 of main.py: 'cent' is not in list\n",
      "Encountered ValueError on line 457 of main.py: 'cent' is not in list\n",
      "Encountered ValueError on line 457 of main.py: 'cent' is not in list\n",
      "Encountered ValueError on line 457 of main.py: 'cent' is not in list\n",
      "Encountered ValueError on line 457 of main.py: 'cent' is not in list\n",
      "Encountered ValueError on line 457 of main.py: 'cent' is not in list\n",
      "Encountered ValueError on line 457 of main.py: 'cent' is not in list\n",
      "Encountered ValueError on line 457 of main.py: 'cent' is not in list\n",
      "Encountered ValueError on line 457 of main.py: 'cent' is not in list\n",
      "Encountered ValueError on line 457 of main.py: 'cent' is not in list\n",
      "Encountered ValueError on line 457 of main.py: 'cent' is not in list\n",
      "Encountered ValueError on line 457 of main.py: 'cent' is not in list\n",
      "Encountered ValueError on line 457 of main.py: 'cent' is not in list\n",
      "Encountered ValueError on line 457 of main.py: 'cent' is not in list\n",
      "Encountered ValueError on line 457 of main.py: 'cent' is not in list\n",
      "Encountered ValueError on line 457 of main.py: 'cent' is not in list\n",
      "Encountered ValueError on line 457 of main.py: 'cent' is not in list\n",
      "Encountered ValueError on line 457 of main.py: 'cent' is not in list\n",
      "Encountered ValueError on line 457 of main.py: 'cent' is not in list\n",
      "Encountered ValueError on line 457 of main.py: 'cent' is not in list\n",
      "Encountered ValueError on line 457 of main.py: 'cent' is not in list\n",
      "Encountered ValueError on line 457 of main.py: 'cent' is not in list\n",
      "Encountered ValueError on line 457 of main.py: 'cent' is not in list\n",
      "Encountered ValueError on line 457 of main.py: 'cent' is not in list\n",
      "Encountered ValueError on line 457 of main.py: 'cent' is not in list\n",
      "Encountered ValueError on line 457 of main.py: 'cent' is not in list\n",
      "Encountered ValueError on line 457 of main.py: 'cent' is not in list\n",
      "Encountered ValueError on line 457 of main.py: 'cent' is not in list\n",
      "Encountered ValueError on line 457 of main.py: 'cent' is not in list\n",
      "Encountered ValueError on line 457 of main.py: 'cent' is not in list\n",
      "Encountered ValueError on line 457 of main.py: 'cent' is not in list\n",
      "Encountered ValueError on line 457 of main.py: 'cent' is not in list\n",
      "Encountered ValueError on line 457 of main.py: 'cent' is not in list\n",
      "Encountered ValueError on line 457 of main.py: 'cent' is not in list\n",
      "Encountered ValueError on line 457 of main.py: 'cent' is not in list\n",
      "Encountered ValueError on line 457 of main.py: 'cent' is not in list\n",
      "Encountered ValueError on line 457 of main.py: 'cent' is not in list\n",
      "Encountered ValueError on line 457 of main.py: 'cent' is not in list\n",
      "Encountered ValueError on line 457 of main.py: 'cent' is not in list\n",
      "Encountered ValueError on line 457 of main.py: 'cent' is not in list\n",
      "Encountered ValueError on line 457 of main.py: 'cent' is not in list\n",
      "Encountered ValueError on line 457 of main.py: 'cent' is not in list\n",
      "Encountered ValueError on line 457 of main.py: 'cent' is not in list\n",
      "Encountered ValueError on line 457 of main.py: 'cent' is not in list\n",
      "Encountered ValueError on line 457 of main.py: 'cent' is not in list\n",
      "Encountered ValueError on line 457 of main.py: 'cent' is not in list\n",
      "Encountered ValueError on line 457 of main.py: 'cent' is not in list\n",
      "Encountered ValueError on line 457 of main.py: 'cent' is not in list\n",
      "Encountered ValueError on line 457 of main.py: 'cent' is not in list\n",
      "Encountered ValueError on line 457 of main.py: 'cent' is not in list\n",
      "Encountered ValueError on line 457 of main.py: 'cent' is not in list\n",
      "Encountered ValueError on line 457 of main.py: 'cent' is not in list\n",
      "Encountered ValueError on line 457 of main.py: 'cent' is not in list\n",
      "Encountered ValueError on line 457 of main.py: 'cent' is not in list\n",
      "Encountered ValueError on line 457 of main.py: 'cent' is not in list\n",
      "Encountered ValueError on line 457 of main.py: 'cent' is not in list\n",
      "Encountered ValueError on line 457 of main.py: 'cent' is not in list\n",
      "Encountered ValueError on line 457 of main.py: 'cent' is not in list\n",
      "Encountered ValueError on line 457 of main.py: 'cent' is not in list\n",
      "Encountered ValueError on line 457 of main.py: 'cent' is not in list\n",
      "Encountered ValueError on line 457 of main.py: 'cent' is not in list\n",
      "Encountered ValueError on line 457 of main.py: 'cent' is not in list\n",
      "Encountered ValueError on line 457 of main.py: 'cent' is not in list\n",
      "Encountered ValueError on line 457 of main.py: 'cent' is not in list\n",
      "Encountered ValueError on line 457 of main.py: 'cent' is not in list\n",
      "Encountered ValueError on line 457 of main.py: 'cent' is not in list\n",
      "Encountered ValueError on line 457 of main.py: 'cent' is not in list\n",
      "Encountered ValueError on line 457 of main.py: 'cent' is not in list\n",
      "Encountered ValueError on line 457 of main.py: 'cent' is not in list\n",
      "Encountered ValueError on line 457 of main.py: 'cent' is not in list\n",
      "Encountered ValueError on line 457 of main.py: 'cent' is not in list\n",
      "Encountered ValueError on line 457 of main.py: 'cent' is not in list\n",
      "Encountered ValueError on line 457 of main.py: 'cent' is not in list\n",
      "Encountered ValueError on line 457 of main.py: 'cent' is not in list\n",
      "Encountered ValueError on line 457 of main.py: 'cent' is not in list\n",
      "Encountered ValueError on line 457 of main.py: 'cent' is not in list\n",
      "Encountered ValueError on line 457 of main.py: 'cent' is not in list\n",
      "Encountered ValueError on line 457 of main.py: 'cent' is not in list\n",
      "Encountered ValueError on line 457 of main.py: 'cent' is not in list\n",
      "Encountered ValueError on line 457 of main.py: 'cent' is not in list\n",
      "Encountered ValueError on line 457 of main.py: 'cent' is not in list\n",
      "Encountered ValueError on line 457 of main.py: 'cent' is not in list\n",
      "Encountered ValueError on line 457 of main.py: 'cent' is not in list\n",
      "Encountered ValueError on line 457 of main.py: 'cent' is not in list\n",
      "Encountered ValueError on line 457 of main.py: 'cent' is not in list\n",
      "Encountered ValueError on line 457 of main.py: 'cent' is not in list\n",
      "Encountered ValueError on line 457 of main.py: 'cent' is not in list\n",
      "Encountered ValueError on line 457 of main.py: 'cent' is not in list\n",
      "Encountered ValueError on line 457 of main.py: 'cent' is not in list\n",
      "Encountered ValueError on line 457 of main.py: 'cent' is not in list\n",
      "Encountered ValueError on line 457 of main.py: 'cent' is not in list\n",
      "Encountered ValueError on line 457 of main.py: 'cent' is not in list\n",
      "Encountered ValueError on line 457 of main.py: 'cent' is not in list\n",
      "Encountered ValueError on line 457 of main.py: 'cent' is not in list\n",
      "Encountered ValueError on line 457 of main.py: 'cent' is not in list\n",
      "Encountered ValueError on line 457 of main.py: 'cent' is not in list\n",
      "Encountered ValueError on line 457 of main.py: 'cent' is not in list\n",
      "Encountered ValueError on line 457 of main.py: 'cent' is not in list\n",
      "Encountered ValueError on line 457 of main.py: 'cent' is not in list\n",
      "Encountered ValueError on line 457 of main.py: 'cent' is not in list\n",
      "Encountered ValueError on line 457 of main.py: 'cent' is not in list\n",
      "Encountered ValueError on line 457 of main.py: 'cent' is not in list\n",
      "Encountered ValueError on line 457 of main.py: 'cent' is not in list\n",
      "Encountered ValueError on line 457 of main.py: 'cent' is not in list\n",
      "Encountered ValueError on line 457 of main.py: 'cent' is not in list\n",
      "Encountered ValueError on line 457 of main.py: 'cent' is not in list\n",
      "Encountered ValueError on line 457 of main.py: 'cent' is not in list\n",
      "Encountered ValueError on line 457 of main.py: 'cent' is not in list\n",
      "Encountered ValueError on line 457 of main.py: 'cent' is not in list\n",
      "Encountered ValueError on line 457 of main.py: 'cent' is not in list\n",
      "Encountered ValueError on line 457 of main.py: 'cent' is not in list\n",
      "Encountered ValueError on line 457 of main.py: 'cent' is not in list\n",
      "Encountered ValueError on line 457 of main.py: 'cent' is not in list\n",
      "Encountered ValueError on line 457 of main.py: 'cent' is not in list\n",
      "Encountered ValueError on line 457 of main.py: 'cent' is not in list\n",
      "Encountered ValueError on line 457 of main.py: 'cent' is not in list\n",
      "Encountered ValueError on line 457 of main.py: 'cent' is not in list\n",
      "Encountered ValueError on line 457 of main.py: 'cent' is not in list\n",
      "Encountered ValueError on line 457 of main.py: 'cent' is not in list\n",
      "Encountered ValueError on line 457 of main.py: 'cent' is not in list\n",
      "Encountered ValueError on line 457 of main.py: 'cent' is not in list\n",
      "Encountered ValueError on line 457 of main.py: 'cent' is not in list\n",
      "Encountered ValueError on line 457 of main.py: 'cent' is not in list\n",
      "Encountered ValueError on line 457 of main.py: 'cent' is not in list\n",
      "Encountered ValueError on line 457 of main.py: 'cent' is not in list\n",
      "Encountered ValueError on line 457 of main.py: 'cent' is not in list\n",
      "Encountered ValueError on line 457 of main.py: 'cent' is not in list\n",
      "Encountered ValueError on line 457 of main.py: 'cent' is not in list\n",
      "Encountered ValueError on line 457 of main.py: 'cent' is not in list\n",
      "Encountered ValueError on line 457 of main.py: 'cent' is not in list\n",
      "Encountered ValueError on line 457 of main.py: 'cent' is not in list\n",
      "Encountered ValueError on line 457 of main.py: 'cent' is not in list\n",
      "Encountered ValueError on line 457 of main.py: 'cent' is not in list\n",
      "Encountered ValueError on line 457 of main.py: 'cent' is not in list\n",
      "Encountered ValueError on line 457 of main.py: 'cent' is not in list\n",
      "Encountered ValueError on line 457 of main.py: 'nickel' is not in list\n",
      "Encountered ValueError on line 457 of main.py: 'nickel' is not in list\n",
      "Encountered ValueError on line 457 of main.py: 'nickel' is not in list\n",
      "Encountered ValueError on line 457 of main.py: 'nickel' is not in list\n",
      "Encountered ValueError on line 457 of main.py: 'half' is not in list\n",
      "Encountered ValueError on line 457 of main.py: 'half' is not in list\n",
      "Encountered ValueError on line 457 of main.py: 'cent' is not in list\n",
      "Encountered ValueError on line 457 of main.py: 'cent' is not in list\n",
      "Encountered ValueError on line 457 of main.py: 'cent' is not in list\n",
      "Encountered ValueError on line 457 of main.py: 'cent' is not in list\n",
      "Encountered ValueError on line 457 of main.py: 'cent' is not in list\n",
      "Encountered ValueError on line 457 of main.py: 'cent' is not in list\n",
      "Encountered ValueError on line 457 of main.py: 'cent' is not in list\n",
      "Encountered ValueError on line 457 of main.py: 'cent' is not in list\n",
      "Encountered ValueError on line 457 of main.py: 'cent' is not in list\n",
      "Encountered ValueError on line 457 of main.py: 'cent' is not in list\n",
      "Encountered ValueError on line 457 of main.py: 'cent' is not in list\n",
      "Encountered ValueError on line 457 of main.py: 'cent' is not in list\n",
      "Encountered ValueError on line 457 of main.py: 'cent' is not in list\n",
      "Encountered ValueError on line 457 of main.py: 'cent' is not in list\n",
      "Encountered ValueError on line 457 of main.py: 'cent' is not in list\n",
      "Encountered ValueError on line 457 of main.py: 'cent' is not in list\n",
      "Encountered ValueError on line 457 of main.py: 'cent' is not in list\n",
      "Encountered ValueError on line 457 of main.py: 'cent' is not in list\n",
      "Encountered ValueError on line 457 of main.py: 'cent' is not in list\n",
      "Encountered ValueError on line 457 of main.py: 'cent' is not in list\n",
      "Encountered ValueError on line 457 of main.py: 'cent' is not in list\n",
      "Encountered ValueError on line 457 of main.py: 'cent' is not in list\n",
      "Encountered ValueError on line 457 of main.py: 'cent' is not in list\n",
      "Encountered ValueError on line 457 of main.py: 'cent' is not in list\n",
      "Encountered ValueError on line 457 of main.py: 'cent' is not in list\n",
      "Encountered ValueError on line 457 of main.py: 'cent' is not in list\n",
      "Encountered ValueError on line 457 of main.py: 'cent' is not in list\n",
      "Encountered ValueError on line 457 of main.py: 'cent' is not in list\n",
      "Encountered ValueError on line 457 of main.py: 'cent' is not in list\n",
      "Encountered ValueError on line 457 of main.py: 'cent' is not in list\n",
      "Encountered ValueError on line 457 of main.py: 'cent' is not in list\n",
      "Encountered ValueError on line 457 of main.py: 'cent' is not in list\n",
      "Encountered ValueError on line 457 of main.py: 'cent' is not in list\n",
      "Encountered ValueError on line 457 of main.py: 'cent' is not in list\n",
      "Encountered ValueError on line 457 of main.py: 'cent' is not in list\n",
      "Encountered ValueError on line 457 of main.py: 'cent' is not in list\n",
      "Encountered ValueError on line 457 of main.py: 'cent' is not in list\n",
      "Encountered ValueError on line 457 of main.py: 'cent' is not in list\n",
      "Encountered ValueError on line 457 of main.py: 'cent' is not in list\n",
      "Encountered ValueError on line 457 of main.py: 'cent' is not in list\n",
      "Encountered ValueError on line 457 of main.py: 'cent' is not in list\n",
      "Encountered ValueError on line 457 of main.py: 'cent' is not in list\n",
      "Encountered ValueError on line 457 of main.py: 'cent' is not in list\n",
      "Encountered ValueError on line 457 of main.py: 'cent' is not in list\n",
      "Encountered ValueError on line 457 of main.py: 'cent' is not in list\n",
      "Encountered ValueError on line 457 of main.py: 'cent' is not in list\n",
      "Encountered ValueError on line 457 of main.py: 'cent' is not in list\n",
      "Encountered ValueError on line 457 of main.py: 'cent' is not in list\n",
      "Encountered ValueError on line 457 of main.py: 'cent' is not in list\n",
      "Encountered ValueError on line 457 of main.py: 'cent' is not in list\n",
      "Encountered ValueError on line 457 of main.py: 'cent' is not in list\n",
      "Encountered ValueError on line 457 of main.py: 'cent' is not in list\n",
      "Encountered ValueError on line 457 of main.py: 'cent' is not in list\n",
      "Encountered ValueError on line 457 of main.py: 'cent' is not in list\n",
      "Encountered ValueError on line 457 of main.py: 'cent' is not in list\n",
      "Encountered ValueError on line 457 of main.py: 'cent' is not in list\n",
      "Encountered ValueError on line 457 of main.py: 'cent' is not in list\n",
      "Encountered ValueError on line 457 of main.py: 'cent' is not in list\n",
      "Encountered ValueError on line 457 of main.py: 'cent' is not in list\n",
      "Encountered ValueError on line 457 of main.py: 'cent' is not in list\n",
      "Encountered ValueError on line 457 of main.py: 'cent' is not in list\n",
      "Encountered ValueError on line 457 of main.py: 'cent' is not in list\n",
      "Encountered ValueError on line 457 of main.py: 'cent' is not in list\n",
      "Encountered ValueError on line 457 of main.py: 'cent' is not in list\n",
      "Encountered ValueError on line 457 of main.py: 'cent' is not in list\n",
      "Encountered ValueError on line 457 of main.py: 'cent' is not in list\n",
      "Encountered ValueError on line 457 of main.py: 'cent' is not in list\n",
      "Encountered ValueError on line 457 of main.py: 'cent' is not in list\n",
      "Encountered ValueError on line 457 of main.py: 'cent' is not in list\n",
      "Encountered ValueError on line 457 of main.py: 'cent' is not in list\n",
      "Encountered ValueError on line 457 of main.py: 'cent' is not in list\n",
      "Encountered ValueError on line 457 of main.py: 'cent' is not in list\n",
      "Encountered ValueError on line 457 of main.py: 'cent' is not in list\n",
      "Encountered ValueError on line 457 of main.py: 'cent' is not in list\n",
      "Encountered ValueError on line 457 of main.py: 'cent' is not in list\n",
      "Encountered ValueError on line 457 of main.py: 'cent' is not in list\n",
      "Encountered ValueError on line 457 of main.py: 'cent' is not in list\n",
      "Encountered ValueError on line 457 of main.py: 'cent' is not in list\n",
      "Encountered ValueError on line 457 of main.py: 'cent' is not in list\n",
      "Encountered ValueError on line 457 of main.py: 'cent' is not in list\n",
      "Encountered ValueError on line 457 of main.py: 'cent' is not in list\n",
      "Encountered ValueError on line 457 of main.py: 'cent' is not in list\n",
      "Encountered ValueError on line 457 of main.py: 'cent' is not in list\n",
      "Encountered ValueError on line 457 of main.py: 'cent' is not in list\n",
      "Encountered ValueError on line 457 of main.py: 'cent' is not in list\n",
      "Encountered ValueError on line 457 of main.py: 'cent' is not in list\n",
      "Encountered ValueError on line 457 of main.py: 'cent' is not in list\n",
      "Encountered ValueError on line 457 of main.py: 'cent' is not in list\n",
      "Encountered ValueError on line 457 of main.py: 'cent' is not in list\n",
      "Encountered ValueError on line 457 of main.py: 'cent' is not in list\n",
      "Encountered ValueError on line 457 of main.py: 'cent' is not in list\n",
      "Encountered ValueError on line 457 of main.py: 'cent' is not in list\n",
      "Encountered ValueError on line 457 of main.py: 'cent' is not in list\n",
      "Encountered ValueError on line 457 of main.py: 'cent' is not in list\n",
      "Encountered ValueError on line 457 of main.py: 'nickel' is not in list\n",
      "Encountered ValueError on line 457 of main.py: 'nickel' is not in list\n",
      "Encountered ValueError on line 457 of main.py: 'cent' is not in list\n",
      "Encountered ValueError on line 457 of main.py: 'cent' is not in list\n",
      "Encountered ValueError on line 457 of main.py: 'cent' is not in list\n",
      "Encountered ValueError on line 457 of main.py: 'cent' is not in list\n",
      "Encountered ValueError on line 457 of main.py: 'cent' is not in list\n",
      "Encountered ValueError on line 457 of main.py: 'cent' is not in list\n",
      "Encountered ValueError on line 457 of main.py: 'cent' is not in list\n",
      "Encountered ValueError on line 457 of main.py: 'cent' is not in list\n",
      "Encountered ValueError on line 457 of main.py: 'cent' is not in list\n",
      "Encountered ValueError on line 457 of main.py: 'cent' is not in list\n",
      "Encountered ValueError on line 457 of main.py: 'cent' is not in list\n",
      "Encountered ValueError on line 457 of main.py: 'cent' is not in list\n",
      "Encountered ValueError on line 457 of main.py: 'cent' is not in list\n",
      "Encountered ValueError on line 457 of main.py: 'cent' is not in list\n",
      "Encountered ValueError on line 457 of main.py: 'cent' is not in list\n",
      "Encountered ValueError on line 457 of main.py: 'cent' is not in list\n",
      "Encountered ValueError on line 457 of main.py: 'cent' is not in list\n",
      "Encountered ValueError on line 457 of main.py: 'cent' is not in list\n",
      "Encountered ValueError on line 457 of main.py: 'cent' is not in list\n",
      "Encountered ValueError on line 457 of main.py: 'cent' is not in list\n",
      "Encountered ValueError on line 457 of main.py: 'cent' is not in list\n",
      "Encountered ValueError on line 457 of main.py: 'cent' is not in list\n",
      "Encountered ValueError on line 457 of main.py: 'cent' is not in list\n",
      "Encountered ValueError on line 457 of main.py: 'cent' is not in list\n",
      "Encountered ValueError on line 457 of main.py: 'cent' is not in list\n",
      "Encountered ValueError on line 457 of main.py: 'cent' is not in list\n",
      "Encountered ValueError on line 457 of main.py: 'cent' is not in list\n",
      "Encountered ValueError on line 457 of main.py: 'cent' is not in list\n",
      "Encountered ValueError on line 457 of main.py: 'cent' is not in list\n",
      "Encountered ValueError on line 457 of main.py: 'cent' is not in list\n",
      "Encountered ValueError on line 457 of main.py: 'cent' is not in list\n",
      "Encountered ValueError on line 457 of main.py: 'cent' is not in list\n",
      "Encountered ValueError on line 457 of main.py: 'cent' is not in list\n",
      "Encountered ValueError on line 457 of main.py: 'cent' is not in list\n",
      "Encountered ValueError on line 457 of main.py: 'cent' is not in list\n",
      "Encountered ValueError on line 457 of main.py: 'cent' is not in list\n",
      "Encountered ValueError on line 457 of main.py: 'cent' is not in list\n",
      "Encountered ValueError on line 457 of main.py: 'cent' is not in list\n",
      "Encountered ValueError on line 457 of main.py: 'cent' is not in list\n",
      "Encountered ValueError on line 457 of main.py: 'cent' is not in list\n",
      "Encountered ValueError on line 457 of main.py: 'cent' is not in list\n",
      "Encountered ValueError on line 457 of main.py: 'cent' is not in list\n",
      "Encountered ValueError on line 457 of main.py: 'cent' is not in list\n",
      "Encountered ValueError on line 457 of main.py: 'cent' is not in list\n",
      "Encountered ValueError on line 457 of main.py: 'cent' is not in list\n",
      "Encountered ValueError on line 457 of main.py: 'cent' is not in list\n",
      "Encountered ValueError on line 457 of main.py: 'cent' is not in list\n",
      "Encountered ValueError on line 457 of main.py: 'cent' is not in list\n",
      "Encountered ValueError on line 457 of main.py: 'cent' is not in list\n",
      "Encountered ValueError on line 457 of main.py: 'cent' is not in list\n",
      "Encountered ValueError on line 457 of main.py: 'cent' is not in list\n",
      "Encountered ValueError on line 457 of main.py: 'cent' is not in list\n",
      "Encountered ValueError on line 457 of main.py: 'cent' is not in list\n",
      "Encountered ValueError on line 457 of main.py: 'cent' is not in list\n",
      "Encountered ValueError on line 457 of main.py: 'cent' is not in list\n",
      "Encountered ValueError on line 457 of main.py: 'cent' is not in list\n",
      "Encountered ValueError on line 457 of main.py: 'cent' is not in list\n",
      "Encountered ValueError on line 457 of main.py: 'cent' is not in list\n",
      "Encountered ValueError on line 457 of main.py: 'cent' is not in list\n",
      "Encountered ValueError on line 457 of main.py: 'cent' is not in list\n",
      "Encountered ValueError on line 457 of main.py: 'cent' is not in list\n",
      "Encountered ValueError on line 457 of main.py: 'cent' is not in list\n",
      "Encountered ValueError on line 457 of main.py: 'cent' is not in list\n",
      "Encountered ValueError on line 457 of main.py: 'cent' is not in list\n",
      "Encountered ValueError on line 457 of main.py: 'cent' is not in list\n",
      "Encountered ValueError on line 457 of main.py: 'cent' is not in list\n",
      "Encountered ValueError on line 457 of main.py: 'cent' is not in list\n",
      "Encountered ValueError on line 457 of main.py: 'cent' is not in list\n",
      "Encountered ValueError on line 457 of main.py: 'cent' is not in list\n",
      "Encountered ValueError on line 457 of main.py: 'cent' is not in list\n",
      "Encountered ValueError on line 457 of main.py: 'cent' is not in list\n",
      "Encountered ValueError on line 457 of main.py: 'cent' is not in list\n",
      "Encountered ValueError on line 457 of main.py: 'cent' is not in list\n",
      "Encountered ValueError on line 457 of main.py: 'cent' is not in list\n",
      "Encountered ValueError on line 457 of main.py: 'cent' is not in list\n",
      "Encountered ValueError on line 457 of main.py: 'cent' is not in list\n",
      "Encountered ValueError on line 457 of main.py: 'cent' is not in list\n",
      "Encountered ValueError on line 457 of main.py: 'cent' is not in list\n",
      "Encountered ValueError on line 457 of main.py: 'cent' is not in list\n",
      "Encountered ValueError on line 457 of main.py: 'cent' is not in list\n",
      "Encountered ValueError on line 457 of main.py: 'cent' is not in list\n",
      "Encountered ValueError on line 457 of main.py: 'cent' is not in list\n",
      "Encountered ValueError on line 457 of main.py: 'cent' is not in list\n",
      "Encountered ValueError on line 457 of main.py: 'cent' is not in list\n",
      "Encountered ValueError on line 457 of main.py: 'cent' is not in list\n",
      "Encountered ValueError on line 457 of main.py: 'cent' is not in list\n",
      "Encountered ValueError on line 457 of main.py: 'cent' is not in list\n",
      "Encountered ValueError on line 457 of main.py: 'cent' is not in list\n",
      "Encountered ValueError on line 457 of main.py: 'cent' is not in list\n",
      "Encountered ValueError on line 457 of main.py: 'cent' is not in list\n",
      "Encountered ValueError on line 457 of main.py: 'cent' is not in list\n",
      "Encountered ValueError on line 457 of main.py: 'cent' is not in list\n",
      "Encountered ValueError on line 457 of main.py: 'cent' is not in list\n",
      "Encountered ValueError on line 457 of main.py: 'cent' is not in list\n",
      "Encountered ValueError on line 457 of main.py: 'cent' is not in list\n",
      "Encountered ValueError on line 457 of main.py: 'cent' is not in list\n",
      "Encountered ValueError on line 457 of main.py: 'cent' is not in list\n",
      "Encountered ValueError on line 457 of main.py: 'cent' is not in list\n",
      "Encountered ValueError on line 457 of main.py: 'cent' is not in list\n",
      "Encountered ValueError on line 457 of main.py: 'cent' is not in list\n",
      "Encountered ValueError on line 457 of main.py: 'cent' is not in list\n",
      "Encountered ValueError on line 457 of main.py: 'cent' is not in list\n",
      "Encountered ValueError on line 457 of main.py: 'cent' is not in list\n",
      "Encountered ValueError on line 457 of main.py: 'cent' is not in list\n",
      "Encountered ValueError on line 457 of main.py: 'cent' is not in list\n",
      "Encountered ValueError on line 457 of main.py: 'cent' is not in list\n",
      "Encountered ValueError on line 457 of main.py: 'cent' is not in list\n",
      "Encountered ValueError on line 457 of main.py: 'cent' is not in list\n",
      "Encountered ValueError on line 457 of main.py: 'cent' is not in list\n",
      "Encountered ValueError on line 457 of main.py: 'cent' is not in list\n",
      "Encountered ValueError on line 457 of main.py: 'cent' is not in list\n",
      "Encountered ValueError on line 457 of main.py: 'cent' is not in list\n",
      "Encountered ValueError on line 457 of main.py: 'cent' is not in list\n",
      "Encountered ValueError on line 457 of main.py: 'cent' is not in list\n",
      "Encountered ValueError on line 457 of main.py: 'cent' is not in list\n",
      "Encountered ValueError on line 457 of main.py: 'cent' is not in list\n",
      "Encountered ValueError on line 457 of main.py: 'cent' is not in list\n",
      "Encountered ValueError on line 457 of main.py: 'cent' is not in list\n",
      "Encountered ValueError on line 457 of main.py: 'cent' is not in list\n",
      "Encountered ValueError on line 457 of main.py: 'cent' is not in list\n",
      "Encountered ValueError on line 457 of main.py: 'cent' is not in list\n",
      "Encountered ValueError on line 457 of main.py: 'cent' is not in list\n",
      "Encountered ValueError on line 457 of main.py: 'cent' is not in list\n",
      "Encountered ValueError on line 457 of main.py: 'cent' is not in list\n",
      "Encountered ValueError on line 457 of main.py: 'cent' is not in list\n",
      "Encountered ValueError on line 457 of main.py: 'cent' is not in list\n",
      "Encountered ValueError on line 457 of main.py: 'cent' is not in list\n",
      "Encountered ValueError on line 457 of main.py: 'cent' is not in list\n",
      "Encountered ValueError on line 457 of main.py: 'cent' is not in list\n",
      "Encountered ValueError on line 457 of main.py: 'cent' is not in list\n",
      "Encountered ValueError on line 457 of main.py: 'cent' is not in list\n",
      "Encountered ValueError on line 457 of main.py: 'cent' is not in list\n",
      "Encountered ValueError on line 457 of main.py: 'cent' is not in list\n",
      "Encountered ValueError on line 457 of main.py: 'cent' is not in list\n",
      "Encountered ValueError on line 457 of main.py: 'cent' is not in list\n",
      "Encountered ValueError on line 457 of main.py: 'cent' is not in list\n",
      "Encountered ValueError on line 457 of main.py: 'cent' is not in list\n",
      "Encountered ValueError on line 457 of main.py: 'cent' is not in list\n",
      "Encountered ValueError on line 457 of main.py: 'cent' is not in list\n",
      "Encountered ValueError on line 457 of main.py: 'cent' is not in list\n",
      "Encountered ValueError on line 457 of main.py: 'cent' is not in list\n",
      "Encountered ValueError on line 457 of main.py: 'cent' is not in list\n",
      "Encountered ValueError on line 457 of main.py: 'cent' is not in list\n",
      "Encountered ValueError on line 457 of main.py: 'cent' is not in list\n",
      "Encountered ValueError on line 457 of main.py: 'cent' is not in list\n",
      "Encountered ValueError on line 457 of main.py: 'cent' is not in list\n",
      "Encountered ValueError on line 457 of main.py: 'cent' is not in list\n",
      "Encountered ValueError on line 457 of main.py: 'cent' is not in list\n",
      "Encountered ValueError on line 457 of main.py: 'cent' is not in list\n",
      "Encountered ValueError on line 457 of main.py: 'cent' is not in list\n",
      "Encountered ValueError on line 457 of main.py: 'cent' is not in list\n",
      "Encountered ValueError on line 457 of main.py: 'cent' is not in list\n",
      "Encountered ValueError on line 457 of main.py: 'cent' is not in list\n",
      "Encountered ValueError on line 457 of main.py: 'cent' is not in list\n",
      "Encountered ValueError on line 457 of main.py: 'cent' is not in list\n",
      "Encountered ValueError on line 457 of main.py: 'cent' is not in list\n",
      "Encountered ValueError on line 457 of main.py: 'cent' is not in list\n",
      "Encountered ValueError on line 457 of main.py: 'cent' is not in list\n",
      "Encountered ValueError on line 457 of main.py: 'cent' is not in list\n",
      "Encountered ValueError on line 457 of main.py: 'cent' is not in list\n",
      "Encountered ValueError on line 457 of main.py: 'cent' is not in list\n",
      "Encountered ValueError on line 457 of main.py: 'cent' is not in list\n",
      "Encountered ValueError on line 457 of main.py: 'cent' is not in list\n",
      "Encountered ValueError on line 457 of main.py: 'cent' is not in list\n",
      "Encountered ValueError on line 457 of main.py: 'cent' is not in list\n",
      "Encountered ValueError on line 457 of main.py: 'cent' is not in list\n",
      "Encountered ValueError on line 457 of main.py: 'cent' is not in list\n",
      "Encountered ValueError on line 457 of main.py: 'cent' is not in list\n",
      "Encountered ValueError on line 457 of main.py: 'cent' is not in list\n",
      "Encountered ValueError on line 457 of main.py: 'cent' is not in list\n",
      "Encountered ValueError on line 457 of main.py: 'cent' is not in list\n",
      "Encountered ValueError on line 457 of main.py: 'cent' is not in list\n",
      "Encountered ValueError on line 457 of main.py: 'cent' is not in list\n",
      "Encountered ValueError on line 457 of main.py: 'cent' is not in list\n",
      "Encountered ValueError on line 457 of main.py: 'cent' is not in list\n",
      "Encountered ValueError on line 457 of main.py: 'cent' is not in list\n",
      "Encountered ValueError on line 457 of main.py: 'cent' is not in list\n",
      "Encountered ValueError on line 457 of main.py: 'cent' is not in list\n",
      "Encountered ValueError on line 457 of main.py: 'cent' is not in list\n",
      "Encountered ValueError on line 457 of main.py: 'cent' is not in list\n",
      "Encountered ValueError on line 457 of main.py: 'cent' is not in list\n",
      "Encountered ValueError on line 457 of main.py: 'cent' is not in list\n",
      "Encountered ValueError on line 457 of main.py: 'cent' is not in list\n",
      "Encountered ValueError on line 457 of main.py: 'cent' is not in list\n",
      "Encountered ValueError on line 457 of main.py: 'cent' is not in list\n",
      "Encountered ValueError on line 457 of main.py: 'cent' is not in list\n",
      "Encountered ValueError on line 457 of main.py: 'cent' is not in list\n",
      "Encountered ValueError on line 457 of main.py: 'cent' is not in list\n",
      "Encountered ValueError on line 457 of main.py: '%' is not in list\n",
      "Encountered ValueError on line 457 of main.py: '%' is not in list\n",
      "Encountered ValueError on line 457 of main.py: '%' is not in list\n",
      "Encountered ValueError on line 457 of main.py: '%' is not in list\n",
      "Encountered ValueError on line 457 of main.py: '%' is not in list\n",
      "Encountered ValueError on line 457 of main.py: '%' is not in list\n",
      "Encountered ValueError on line 457 of main.py: '%' is not in list\n",
      "Encountered ValueError on line 457 of main.py: '%' is not in list\n",
      "Encountered ValueError on line 457 of main.py: '%' is not in list\n",
      "Encountered ValueError on line 457 of main.py: '%' is not in list\n",
      "Encountered ValueError on line 457 of main.py: '%' is not in list\n",
      "Encountered ValueError on line 457 of main.py: '%' is not in list\n",
      "Encountered ValueError on line 457 of main.py: '%' is not in list\n",
      "Encountered ValueError on line 457 of main.py: 'cent' is not in list\n",
      "Encountered ValueError on line 457 of main.py: 'cent' is not in list\n",
      "Encountered ValueError on line 457 of main.py: 'cent' is not in list\n",
      "Encountered ValueError on line 457 of main.py: 'cent' is not in list\n",
      "Encountered ValueError on line 457 of main.py: 'cent' is not in list\n",
      "Encountered ValueError on line 457 of main.py: 'cent' is not in list\n",
      "Encountered ValueError on line 457 of main.py: 'cent' is not in list\n",
      "Encountered ValueError on line 457 of main.py: 'cent' is not in list\n",
      "Encountered ValueError on line 457 of main.py: 'cent' is not in list\n",
      "Encountered ValueError on line 457 of main.py: 'cent' is not in list\n",
      "Encountered ValueError on line 457 of main.py: 'cent' is not in list\n",
      "Encountered ValueError on line 457 of main.py: 'cent' is not in list\n",
      "Encountered ValueError on line 457 of main.py: 'cent' is not in list\n",
      "Encountered ValueError on line 457 of main.py: 'cent' is not in list\n",
      "Encountered ValueError on line 457 of main.py: 'cent' is not in list\n",
      "Encountered ValueError on line 457 of main.py: 'cent' is not in list\n",
      "Encountered ValueError on line 457 of main.py: 'cent' is not in list\n",
      "Encountered ValueError on line 457 of main.py: 'cent' is not in list\n",
      "Encountered ValueError on line 457 of main.py: 'cent' is not in list\n",
      "Encountered ValueError on line 457 of main.py: 'cent' is not in list\n",
      "Encountered ValueError on line 457 of main.py: 'cent' is not in list\n",
      "Encountered ValueError on line 457 of main.py: 'cent' is not in list\n",
      "Encountered ValueError on line 457 of main.py: 'cent' is not in list\n",
      "Encountered ValueError on line 457 of main.py: 'cent' is not in list\n",
      "Encountered ValueError on line 457 of main.py: 'cent' is not in list\n",
      "Encountered ValueError on line 457 of main.py: 'cent' is not in list\n",
      "Encountered ValueError on line 457 of main.py: 'cent' is not in list\n",
      "Encountered ValueError on line 457 of main.py: 'cent' is not in list\n",
      "Encountered ValueError on line 457 of main.py: 'cent' is not in list\n",
      "Encountered ValueError on line 457 of main.py: 'cent' is not in list\n",
      "Encountered ValueError on line 457 of main.py: 'cent' is not in list\n",
      "Encountered ValueError on line 457 of main.py: 'cent' is not in list\n",
      "Encountered ValueError on line 457 of main.py: 'cent' is not in list\n",
      "Encountered ValueError on line 457 of main.py: 'cent' is not in list\n",
      "Encountered ValueError on line 457 of main.py: 'cent' is not in list\n",
      "Encountered ValueError on line 457 of main.py: 'cent' is not in list\n",
      "Encountered ValueError on line 457 of main.py: 'cent' is not in list\n",
      "Encountered ValueError on line 457 of main.py: 'cent' is not in list\n",
      "Encountered ValueError on line 457 of main.py: 'cent' is not in list\n",
      "Encountered ValueError on line 457 of main.py: 'cent' is not in list\n",
      "Encountered ValueError on line 457 of main.py: 'cent' is not in list\n",
      "Encountered ValueError on line 457 of main.py: 'cent' is not in list\n",
      "Encountered ValueError on line 457 of main.py: 'cent' is not in list\n",
      "Encountered ValueError on line 457 of main.py: 'cent' is not in list\n",
      "Encountered ValueError on line 457 of main.py: 'cent' is not in list\n",
      "Encountered ValueError on line 457 of main.py: 'cent' is not in list\n",
      "Encountered ValueError on line 457 of main.py: 'cent' is not in list\n",
      "Encountered ValueError on line 457 of main.py: 'cent' is not in list\n",
      "Encountered ValueError on line 457 of main.py: 'cent' is not in list\n",
      "Encountered ValueError on line 457 of main.py: 'cent' is not in list\n",
      "Encountered ValueError on line 457 of main.py: 'cent' is not in list\n",
      "Encountered ValueError on line 457 of main.py: 'cent' is not in list\n",
      "Encountered ValueError on line 457 of main.py: 'cent' is not in list\n",
      "Encountered ValueError on line 457 of main.py: 'cent' is not in list\n",
      "Encountered ValueError on line 457 of main.py: 'cent' is not in list\n",
      "Encountered ValueError on line 457 of main.py: 'cent' is not in list\n",
      "Encountered ValueError on line 457 of main.py: 'cent' is not in list\n",
      "Encountered ValueError on line 457 of main.py: 'cent' is not in list\n",
      "Encountered ValueError on line 457 of main.py: 'cent' is not in list\n",
      "Encountered ValueError on line 457 of main.py: 'cent' is not in list\n",
      "Encountered ValueError on line 457 of main.py: 'cent' is not in list\n",
      "Encountered ValueError on line 457 of main.py: 'cent' is not in list\n",
      "Encountered ValueError on line 457 of main.py: 'cent' is not in list\n",
      "Encountered ValueError on line 457 of main.py: 'cent' is not in list\n",
      "Encountered ValueError on line 457 of main.py: 'cent' is not in list\n",
      "Encountered ValueError on line 457 of main.py: 'cent' is not in list\n",
      "Encountered ValueError on line 457 of main.py: 'cent' is not in list\n",
      "Encountered ValueError on line 457 of main.py: 'cent' is not in list\n",
      "Encountered ValueError on line 457 of main.py: 'cent' is not in list\n",
      "Encountered ValueError on line 457 of main.py: 'cent' is not in list\n",
      "Encountered ValueError on line 457 of main.py: 'cent' is not in list\n",
      "Encountered ValueError on line 457 of main.py: 'cent' is not in list\n",
      "Encountered ValueError on line 457 of main.py: 'cent' is not in list\n",
      "Encountered ValueError on line 457 of main.py: 'cent' is not in list\n",
      "Encountered ValueError on line 457 of main.py: 'cent' is not in list\n",
      "Encountered ValueError on line 457 of main.py: 'cent' is not in list\n",
      "Encountered ValueError on line 457 of main.py: 'cent' is not in list\n",
      "Encountered ValueError on line 457 of main.py: 'cent' is not in list\n",
      "Encountered ValueError on line 457 of main.py: 'cent' is not in list\n",
      "Encountered ValueError on line 457 of main.py: 'cent' is not in list\n",
      "Encountered ValueError on line 457 of main.py: 'cent' is not in list\n",
      "Encountered ValueError on line 457 of main.py: 'cent' is not in list\n",
      "Encountered ValueError on line 457 of main.py: 'cent' is not in list\n",
      "Encountered ValueError on line 457 of main.py: 'cent' is not in list\n",
      "Encountered ValueError on line 457 of main.py: 'cent' is not in list\n",
      "Encountered ValueError on line 457 of main.py: 'cent' is not in list\n",
      "Encountered ValueError on line 457 of main.py: 'cent' is not in list\n",
      "Encountered ValueError on line 457 of main.py: 'cent' is not in list\n",
      "Encountered ValueError on line 457 of main.py: 'cent' is not in list\n",
      "Encountered ValueError on line 457 of main.py: 'cent' is not in list\n",
      "Encountered ValueError on line 457 of main.py: 'cent' is not in list\n",
      "Encountered ValueError on line 457 of main.py: 'cent' is not in list\n",
      "Encountered ValueError on line 457 of main.py: 'cent' is not in list\n",
      "Encountered ValueError on line 457 of main.py: 'cent' is not in list\n",
      "Encountered ValueError on line 457 of main.py: 'cent' is not in list\n",
      "Encountered ValueError on line 457 of main.py: 'cent' is not in list\n",
      "Encountered ValueError on line 457 of main.py: 'cent' is not in list\n",
      "Encountered ValueError on line 457 of main.py: 'cent' is not in list\n",
      "Encountered ValueError on line 457 of main.py: 'cent' is not in list\n",
      "Encountered ValueError on line 457 of main.py: 'cent' is not in list\n",
      "Encountered ValueError on line 457 of main.py: 'cent' is not in list\n",
      "Encountered ValueError on line 457 of main.py: 'cent' is not in list\n",
      "Encountered ValueError on line 457 of main.py: 'cent' is not in list\n",
      "Encountered ValueError on line 457 of main.py: 'cent' is not in list\n",
      "Encountered ValueError on line 457 of main.py: 'cent' is not in list\n",
      "Encountered ValueError on line 457 of main.py: 'cent' is not in list\n",
      "Encountered ValueError on line 457 of main.py: 'cent' is not in list\n",
      "Encountered ValueError on line 457 of main.py: 'cent' is not in list\n",
      "Encountered ValueError on line 457 of main.py: 'cent' is not in list\n",
      "Encountered ValueError on line 457 of main.py: 'cent' is not in list\n",
      "Encountered ValueError on line 457 of main.py: 'cent' is not in list\n",
      "Encountered ValueError on line 457 of main.py: 'cent' is not in list\n",
      "Encountered ValueError on line 457 of main.py: 'cent' is not in list\n",
      "Encountered ValueError on line 457 of main.py: 'cent' is not in list\n",
      "Encountered ValueError on line 457 of main.py: 'cent' is not in list\n",
      "Encountered ValueError on line 457 of main.py: 'cent' is not in list\n",
      "Encountered ValueError on line 457 of main.py: 'cent' is not in list\n",
      "Encountered ValueError on line 457 of main.py: 'cent' is not in list\n",
      "Encountered ValueError on line 457 of main.py: 'cent' is not in list\n",
      "Encountered ValueError on line 457 of main.py: 'cent' is not in list\n",
      "Encountered ValueError on line 457 of main.py: 'cent' is not in list\n",
      "Encountered ValueError on line 457 of main.py: 'cent' is not in list\n",
      "Encountered ValueError on line 457 of main.py: 'cent' is not in list\n",
      "Encountered ValueError on line 457 of main.py: 'cent' is not in list\n",
      "Encountered ValueError on line 457 of main.py: 'cent' is not in list\n",
      "Encountered ValueError on line 457 of main.py: 'cent' is not in list\n",
      "Encountered ValueError on line 457 of main.py: 'cent' is not in list\n",
      "Encountered ValueError on line 457 of main.py: 'cent' is not in list\n",
      "Encountered ValueError on line 457 of main.py: 'cent' is not in list\n",
      "Encountered ValueError on line 457 of main.py: 'cent' is not in list\n",
      "Encountered ValueError on line 457 of main.py: 'cent' is not in list\n",
      "Encountered ValueError on line 457 of main.py: 'cent' is not in list\n",
      "Encountered ValueError on line 457 of main.py: 'cent' is not in list\n",
      "Encountered ValueError on line 457 of main.py: 'cent' is not in list\n",
      "Encountered ValueError on line 457 of main.py: 'cent' is not in list\n",
      "Encountered ValueError on line 457 of main.py: 'cent' is not in list\n",
      "Encountered ValueError on line 457 of main.py: 'cent' is not in list\n",
      "Encountered ValueError on line 457 of main.py: 'cent' is not in list\n",
      "Encountered ValueError on line 457 of main.py: 'cent' is not in list\n",
      "Encountered ValueError on line 457 of main.py: 'cent' is not in list\n",
      "Encountered ValueError on line 457 of main.py: 'cent' is not in list\n",
      "Encountered ValueError on line 457 of main.py: 'cent' is not in list\n",
      "Encountered ValueError on line 457 of main.py: 'cent' is not in list\n",
      "Encountered ValueError on line 457 of main.py: 'cent' is not in list\n",
      "Encountered ValueError on line 457 of main.py: 'cent' is not in list\n",
      "Encountered ValueError on line 457 of main.py: 'cent' is not in list\n",
      "Encountered ValueError on line 457 of main.py: 'cent' is not in list\n",
      "Encountered ValueError on line 457 of main.py: 'cent' is not in list\n",
      "Encountered ValueError on line 457 of main.py: 'cent' is not in list\n",
      "Encountered ValueError on line 457 of main.py: 'cent' is not in list\n",
      "Encountered ValueError on line 457 of main.py: 'cent' is not in list\n",
      "Encountered ValueError on line 457 of main.py: 'cent' is not in list\n",
      "Encountered ValueError on line 457 of main.py: 'cent' is not in list\n",
      "Encountered ValueError on line 457 of main.py: 'cent' is not in list\n",
      "Encountered ValueError on line 457 of main.py: 'cent' is not in list\n",
      "Encountered ValueError on line 457 of main.py: 'cent' is not in list\n",
      "Encountered ValueError on line 457 of main.py: 'cent' is not in list\n",
      "Encountered ValueError on line 457 of main.py: 'cent' is not in list\n",
      "Encountered ValueError on line 457 of main.py: 'cent' is not in list\n",
      "Encountered ValueError on line 457 of main.py: 'cent' is not in list\n",
      "Encountered ValueError on line 457 of main.py: 'cent' is not in list\n",
      "Encountered ValueError on line 457 of main.py: 'cent' is not in list\n",
      "Encountered ValueError on line 457 of main.py: 'cent' is not in list\n",
      "Encountered ValueError on line 457 of main.py: 'cent' is not in list\n",
      "Encountered ValueError on line 457 of main.py: 'cent' is not in list\n",
      "Encountered ValueError on line 457 of main.py: 'cent' is not in list\n",
      "Encountered ValueError on line 457 of main.py: 'cent' is not in list\n",
      "Encountered ValueError on line 457 of main.py: 'cent' is not in list\n",
      "Encountered ValueError on line 457 of main.py: 'cent' is not in list\n",
      "Encountered ValueError on line 457 of main.py: 'cent' is not in list\n",
      "Encountered ValueError on line 457 of main.py: 'cent' is not in list\n",
      "Encountered ValueError on line 457 of main.py: 'cent' is not in list\n",
      "Encountered ValueError on line 457 of main.py: 'cent' is not in list\n",
      "Encountered ValueError on line 457 of main.py: 'cent' is not in list\n",
      "Encountered ValueError on line 457 of main.py: 'cent' is not in list\n",
      "Encountered ValueError on line 457 of main.py: 'cent' is not in list\n",
      "Encountered ValueError on line 457 of main.py: 'cent' is not in list\n",
      "Encountered ValueError on line 457 of main.py: 'cent' is not in list\n",
      "Encountered ValueError on line 457 of main.py: 'cent' is not in list\n",
      "Encountered ValueError on line 457 of main.py: 'cent' is not in list\n",
      "Encountered ValueError on line 457 of main.py: 'cent' is not in list\n",
      "Encountered ValueError on line 457 of main.py: 'cent' is not in list\n",
      "Encountered ValueError on line 457 of main.py: 'cent' is not in list\n",
      "Encountered ValueError on line 457 of main.py: 'cent' is not in list\n",
      "Encountered ValueError on line 457 of main.py: 'cent' is not in list\n",
      "Encountered ValueError on line 457 of main.py: 'cent' is not in list\n",
      "Encountered ValueError on line 457 of main.py: 'cent' is not in list\n",
      "Encountered ValueError on line 457 of main.py: 'cent' is not in list\n",
      "Encountered ValueError on line 457 of main.py: 'cent' is not in list\n",
      "Encountered ValueError on line 457 of main.py: 'cent' is not in list\n",
      "Encountered ValueError on line 457 of main.py: 'cent' is not in list\n",
      "Encountered ValueError on line 457 of main.py: 'cent' is not in list\n",
      "Encountered ValueError on line 457 of main.py: 'cent' is not in list\n",
      "Encountered ValueError on line 457 of main.py: 'cent' is not in list\n",
      "Encountered ValueError on line 457 of main.py: 'cent' is not in list\n",
      "Encountered ValueError on line 457 of main.py: 'cent' is not in list\n",
      "Encountered ValueError on line 457 of main.py: 'cent' is not in list\n",
      "Encountered ValueError on line 457 of main.py: 'cent' is not in list\n",
      "Encountered ValueError on line 457 of main.py: 'cent' is not in list\n",
      "Encountered ValueError on line 457 of main.py: 'cent' is not in list\n",
      "Encountered ValueError on line 457 of main.py: 'cent' is not in list\n",
      "Encountered ValueError on line 457 of main.py: 'cent' is not in list\n",
      "Encountered ValueError on line 457 of main.py: 'cent' is not in list\n",
      "Encountered ValueError on line 457 of main.py: 'cent' is not in list\n",
      "Encountered ValueError on line 457 of main.py: 'cent' is not in list\n",
      "Encountered ValueError on line 457 of main.py: 'cent' is not in list\n",
      "Encountered ValueError on line 457 of main.py: 'cent' is not in list\n",
      "Encountered ValueError on line 457 of main.py: 'cent' is not in list\n",
      "Encountered ValueError on line 457 of main.py: 'cent' is not in list\n",
      "Encountered ValueError on line 457 of main.py: 'cent' is not in list\n",
      "Encountered ValueError on line 457 of main.py: 'cent' is not in list\n",
      "Encountered ValueError on line 457 of main.py: 'cent' is not in list\n",
      "Encountered ValueError on line 457 of main.py: 'cent' is not in list\n",
      "Encountered ValueError on line 457 of main.py: 'cent' is not in list\n",
      "Encountered ValueError on line 457 of main.py: 'cent' is not in list\n",
      "Encountered ValueError on line 457 of main.py: 'cent' is not in list\n",
      "Encountered ValueError on line 457 of main.py: 'cent' is not in list\n",
      "Encountered ValueError on line 457 of main.py: 'cent' is not in list\n",
      "Encountered ValueError on line 457 of main.py: 'cent' is not in list\n",
      "Encountered ValueError on line 457 of main.py: 'cent' is not in list\n",
      "Encountered ValueError on line 457 of main.py: 'cent' is not in list\n",
      "Encountered ValueError on line 457 of main.py: 'cent' is not in list\n",
      "Encountered ValueError on line 457 of main.py: 'cent' is not in list\n",
      "Encountered ValueError on line 457 of main.py: 'cent' is not in list\n",
      "Encountered ValueError on line 457 of main.py: 'cent' is not in list\n",
      "Encountered ValueError on line 457 of main.py: 'cent' is not in list\n",
      "Encountered ValueError on line 457 of main.py: 'cent' is not in list\n",
      "Encountered ValueError on line 457 of main.py: 'cent' is not in list\n",
      "Encountered ValueError on line 457 of main.py: 'cent' is not in list\n",
      "Encountered ValueError on line 457 of main.py: 'cent' is not in list\n",
      "Encountered ValueError on line 457 of main.py: 'cent' is not in list\n",
      "Encountered ValueError on line 457 of main.py: 'cent' is not in list\n",
      "Encountered ValueError on line 457 of main.py: 'cent' is not in list\n",
      "Encountered ValueError on line 457 of main.py: 'cent' is not in list\n",
      "Encountered ValueError on line 457 of main.py: 'cent' is not in list\n",
      "Encountered ValueError on line 457 of main.py: 'nickel' is not in list\n",
      "Encountered ValueError on line 457 of main.py: 'nickel' is not in list\n",
      "Encountered ValueError on line 457 of main.py: 'cent' is not in list\n",
      "Encountered ValueError on line 457 of main.py: 'cent' is not in list\n",
      "Encountered ValueError on line 457 of main.py: 'cent' is not in list\n",
      "Encountered ValueError on line 457 of main.py: 'cent' is not in list\n",
      "Encountered ValueError on line 457 of main.py: 'cent' is not in list\n",
      "Encountered ValueError on line 457 of main.py: 'cent' is not in list\n",
      "Encountered ValueError on line 457 of main.py: 'cent' is not in list\n",
      "Encountered ValueError on line 457 of main.py: 'cent' is not in list\n",
      "Encountered ValueError on line 457 of main.py: 'cent' is not in list\n",
      "Encountered ValueError on line 457 of main.py: 'cent' is not in list\n",
      "Encountered ValueError on line 457 of main.py: 'cent' is not in list\n",
      "Encountered ValueError on line 457 of main.py: 'cent' is not in list\n",
      "Encountered ValueError on line 457 of main.py: 'cent' is not in list\n",
      "Encountered ValueError on line 457 of main.py: 'cent' is not in list\n",
      "Encountered ValueError on line 457 of main.py: 'cent' is not in list\n",
      "Encountered ValueError on line 457 of main.py: 'cent' is not in list\n",
      "Encountered ValueError on line 457 of main.py: 'cent' is not in list\n",
      "Encountered ValueError on line 457 of main.py: 'cent' is not in list\n",
      "Encountered ValueError on line 457 of main.py: 'cent' is not in list\n",
      "Encountered ValueError on line 457 of main.py: 'cent' is not in list\n",
      "Encountered ValueError on line 457 of main.py: 'cent' is not in list\n",
      "Encountered ValueError on line 457 of main.py: 'cent' is not in list\n",
      "Encountered ValueError on line 457 of main.py: 'cent' is not in list\n",
      "Encountered ValueError on line 457 of main.py: 'cent' is not in list\n",
      "Encountered ValueError on line 457 of main.py: 'cent' is not in list\n",
      "Encountered ValueError on line 457 of main.py: 'cent' is not in list\n",
      "Encountered ValueError on line 457 of main.py: 'cent' is not in list\n",
      "Encountered ValueError on line 457 of main.py: 'cent' is not in list\n",
      "Encountered ValueError on line 457 of main.py: 'cent' is not in list\n",
      "Encountered ValueError on line 457 of main.py: 'cent' is not in list\n",
      "Encountered ValueError on line 457 of main.py: 'cent' is not in list\n",
      "Encountered ValueError on line 457 of main.py: 'cent' is not in list\n",
      "Encountered ValueError on line 457 of main.py: 'cent' is not in list\n",
      "Encountered ValueError on line 457 of main.py: 'cent' is not in list\n",
      "Encountered ValueError on line 457 of main.py: 'cent' is not in list\n",
      "Encountered ValueError on line 457 of main.py: 'cent' is not in list\n",
      "Encountered ValueError on line 457 of main.py: 'cent' is not in list\n",
      "Encountered ValueError on line 457 of main.py: 'cent' is not in list\n",
      "Encountered ValueError on line 457 of main.py: 'cent' is not in list\n",
      "Encountered ValueError on line 457 of main.py: 'cent' is not in list\n",
      "Encountered ValueError on line 457 of main.py: 'cent' is not in list\n",
      "Encountered ValueError on line 457 of main.py: 'cent' is not in list\n",
      "Encountered ValueError on line 457 of main.py: 'cent' is not in list\n",
      "Encountered ValueError on line 457 of main.py: 'cent' is not in list\n",
      "Encountered ValueError on line 457 of main.py: 'cent' is not in list\n",
      "Encountered ValueError on line 457 of main.py: 'cent' is not in list\n",
      "Encountered ValueError on line 457 of main.py: 'cent' is not in list\n",
      "Encountered ValueError on line 457 of main.py: 'cent' is not in list\n",
      "Encountered ValueError on line 457 of main.py: 'cent' is not in list\n",
      "Encountered ValueError on line 457 of main.py: 'cent' is not in list\n",
      "Encountered ValueError on line 457 of main.py: 'cent' is not in list\n",
      "Encountered ValueError on line 457 of main.py: 'cent' is not in list\n",
      "Encountered ValueError on line 457 of main.py: 'cent' is not in list\n",
      "Encountered ValueError on line 457 of main.py: 'cent' is not in list\n",
      "Encountered ValueError on line 457 of main.py: 'cent' is not in list\n",
      "Encountered ValueError on line 457 of main.py: 'cent' is not in list\n",
      "Encountered ValueError on line 457 of main.py: 'cent' is not in list\n",
      "Encountered ValueError on line 457 of main.py: 'cent' is not in list\n",
      "Encountered ValueError on line 457 of main.py: 'cent' is not in list\n",
      "Encountered ValueError on line 457 of main.py: 'cent' is not in list\n",
      "Encountered ValueError on line 457 of main.py: 'cent' is not in list\n",
      "Encountered ValueError on line 457 of main.py: 'cent' is not in list\n",
      "Encountered ValueError on line 457 of main.py: 'cent' is not in list\n",
      "Encountered ValueError on line 457 of main.py: 'cent' is not in list\n",
      "Encountered ValueError on line 457 of main.py: 'cent' is not in list\n",
      "Encountered ValueError on line 457 of main.py: 'cent' is not in list\n",
      "Encountered ValueError on line 457 of main.py: 'cent' is not in list\n",
      "Encountered ValueError on line 457 of main.py: 'cent' is not in list\n",
      "Encountered ValueError on line 457 of main.py: 'cent' is not in list\n",
      "Encountered ValueError on line 457 of main.py: 'cent' is not in list\n",
      "Encountered ValueError on line 457 of main.py: 'cent' is not in list\n",
      "Encountered ValueError on line 457 of main.py: 'cent' is not in list\n",
      "Encountered ValueError on line 457 of main.py: 'cent' is not in list\n",
      "Encountered ValueError on line 457 of main.py: 'cent' is not in list\n",
      "Encountered ValueError on line 457 of main.py: 'cent' is not in list\n",
      "Encountered ValueError on line 457 of main.py: 'cent' is not in list\n",
      "Encountered ValueError on line 457 of main.py: 'cent' is not in list\n",
      "Encountered ValueError on line 457 of main.py: 'cent' is not in list\n",
      "Encountered ValueError on line 457 of main.py: 'cent' is not in list\n",
      "Encountered ValueError on line 457 of main.py: 'cent' is not in list\n",
      "Encountered ValueError on line 457 of main.py: 'cent' is not in list\n",
      "Encountered ValueError on line 457 of main.py: 'cent' is not in list\n",
      "Encountered ValueError on line 457 of main.py: 'cent' is not in list\n",
      "Encountered ValueError on line 457 of main.py: 'cent' is not in list\n",
      "Encountered ValueError on line 457 of main.py: 'cent' is not in list\n",
      "Encountered ValueError on line 457 of main.py: 'cent' is not in list\n",
      "Encountered ValueError on line 457 of main.py: 'cent' is not in list\n",
      "Encountered ValueError on line 457 of main.py: 'cent' is not in list\n",
      "Encountered ValueError on line 457 of main.py: 'cent' is not in list\n",
      "Encountered ValueError on line 457 of main.py: 'cent' is not in list\n",
      "Encountered ValueError on line 457 of main.py: 'cent' is not in list\n",
      "Encountered ValueError on line 457 of main.py: 'cent' is not in list\n",
      "Encountered ValueError on line 457 of main.py: 'cent' is not in list\n",
      "Encountered ValueError on line 457 of main.py: 'cent' is not in list\n",
      "Encountered ValueError on line 457 of main.py: 'cent' is not in list\n",
      "Encountered ValueError on line 457 of main.py: 'cent' is not in list\n",
      "Encountered ValueError on line 457 of main.py: 'cent' is not in list\n",
      "Encountered ValueError on line 457 of main.py: 'cent' is not in list\n",
      "Encountered ValueError on line 457 of main.py: 'cent' is not in list\n",
      "Encountered ValueError on line 457 of main.py: 'cent' is not in list\n",
      "Encountered ValueError on line 457 of main.py: 'cent' is not in list\n",
      "Encountered ValueError on line 457 of main.py: 'cent' is not in list\n",
      "Encountered ValueError on line 457 of main.py: 'cent' is not in list\n",
      "Encountered ValueError on line 457 of main.py: 'cent' is not in list\n",
      "Encountered ValueError on line 457 of main.py: 'cent' is not in list\n",
      "Encountered ValueError on line 457 of main.py: 'cent' is not in list\n",
      "Encountered ValueError on line 457 of main.py: 'cent' is not in list\n",
      "Encountered ValueError on line 457 of main.py: 'cent' is not in list\n",
      "Encountered ValueError on line 457 of main.py: 'cent' is not in list\n",
      "Encountered ValueError on line 457 of main.py: 'cent' is not in list\n",
      "Encountered ValueError on line 457 of main.py: 'cent' is not in list\n",
      "Encountered ValueError on line 457 of main.py: 'cent' is not in list\n",
      "Encountered ValueError on line 457 of main.py: 'cent' is not in list\n",
      "Encountered ValueError on line 457 of main.py: 'cent' is not in list\n",
      "Encountered ValueError on line 457 of main.py: 'cent' is not in list\n",
      "Encountered ValueError on line 457 of main.py: 'cent' is not in list\n",
      "Encountered ValueError on line 457 of main.py: 'cent' is not in list\n",
      "Encountered ValueError on line 457 of main.py: 'cent' is not in list\n",
      "Encountered ValueError on line 457 of main.py: 'cent' is not in list\n",
      "Encountered ValueError on line 457 of main.py: 'cent' is not in list\n",
      "Encountered ValueError on line 457 of main.py: 'cent' is not in list\n",
      "Encountered ValueError on line 457 of main.py: 'cent' is not in list\n",
      "Encountered ValueError on line 457 of main.py: 'cent' is not in list\n",
      "Encountered ValueError on line 457 of main.py: 'cent' is not in list\n",
      "Encountered ValueError on line 457 of main.py: 'cent' is not in list\n",
      "Encountered ValueError on line 457 of main.py: 'cent' is not in list\n",
      "Encountered ValueError on line 457 of main.py: 'cent' is not in list\n",
      "Encountered ValueError on line 457 of main.py: 'cent' is not in list\n",
      "Encountered ValueError on line 457 of main.py: 'cent' is not in list\n",
      "Encountered ValueError on line 457 of main.py: 'cent' is not in list\n",
      "Encountered ValueError on line 457 of main.py: 'cent' is not in list\n",
      "Encountered ValueError on line 457 of main.py: 'cent' is not in list\n",
      "Encountered ValueError on line 457 of main.py: 'cent' is not in list\n",
      "Encountered ValueError on line 457 of main.py: 'cent' is not in list\n",
      "Encountered ValueError on line 457 of main.py: 'cent' is not in list\n",
      "Encountered ValueError on line 457 of main.py: 'cent' is not in list\n",
      "Encountered ValueError on line 457 of main.py: 'cent' is not in list\n",
      "Encountered ValueError on line 457 of main.py: 'cent' is not in list\n",
      "Encountered ValueError on line 457 of main.py: 'cent' is not in list\n",
      "Encountered ValueError on line 457 of main.py: 'cent' is not in list\n",
      "Encountered ValueError on line 457 of main.py: 'cent' is not in list\n",
      "Encountered ValueError on line 457 of main.py: 'cent' is not in list\n",
      "Encountered ValueError on line 457 of main.py: 'cent' is not in list\n",
      "Encountered ValueError on line 457 of main.py: 'cent' is not in list\n",
      "Encountered ValueError on line 457 of main.py: 'cent' is not in list\n",
      "Encountered ValueError on line 457 of main.py: 'cent' is not in list\n",
      "Encountered ValueError on line 457 of main.py: 'cent' is not in list\n",
      "Encountered ValueError on line 457 of main.py: 'cent' is not in list\n",
      "Encountered ValueError on line 457 of main.py: 'cent' is not in list\n",
      "Encountered ValueError on line 457 of main.py: 'cent' is not in list\n",
      "Encountered ValueError on line 457 of main.py: 'cent' is not in list\n",
      "Encountered ValueError on line 457 of main.py: 'cent' is not in list\n",
      "Encountered ValueError on line 457 of main.py: 'cent' is not in list\n",
      "Encountered ValueError on line 457 of main.py: 'cent' is not in list\n",
      "Encountered ValueError on line 457 of main.py: 'cent' is not in list\n",
      "Encountered ValueError on line 457 of main.py: 'cent' is not in list\n",
      "Encountered ValueError on line 457 of main.py: 'cent' is not in list\n",
      "Encountered ValueError on line 457 of main.py: 'cent' is not in list\n",
      "Encountered ValueError on line 457 of main.py: 'cent' is not in list\n",
      "Encountered ValueError on line 457 of main.py: 'cent' is not in list\n",
      "Encountered ValueError on line 457 of main.py: 'cent' is not in list\n",
      "Encountered ValueError on line 457 of main.py: 'cent' is not in list\n",
      "Encountered ValueError on line 457 of main.py: 'cent' is not in list\n",
      "Encountered ValueError on line 457 of main.py: 'cent' is not in list\n",
      "Encountered ValueError on line 457 of main.py: 'cent' is not in list\n",
      "Encountered ValueError on line 457 of main.py: 'cent' is not in list\n",
      "Encountered ValueError on line 457 of main.py: 'cent' is not in list\n",
      "Encountered ValueError on line 457 of main.py: 'cent' is not in list\n",
      "Encountered ValueError on line 457 of main.py: 'cent' is not in list\n",
      "Encountered ValueError on line 457 of main.py: 'cent' is not in list\n",
      "Encountered ValueError on line 457 of main.py: 'cent' is not in list\n",
      "Encountered ValueError on line 457 of main.py: 'cent' is not in list\n",
      "Encountered ValueError on line 457 of main.py: 'cent' is not in list\n",
      "Encountered ValueError on line 457 of main.py: 'cent' is not in list\n",
      "Encountered ValueError on line 457 of main.py: 'cent' is not in list\n",
      "Encountered ValueError on line 457 of main.py: 'cent' is not in list\n",
      "Encountered ValueError on line 457 of main.py: 'cent' is not in list\n",
      "Encountered ValueError on line 457 of main.py: 'cent' is not in list\n",
      "Encountered ValueError on line 457 of main.py: 'cent' is not in list\n",
      "Encountered ValueError on line 457 of main.py: 'cent' is not in list\n",
      "Encountered ValueError on line 457 of main.py: 'cent' is not in list\n",
      "Encountered ValueError on line 457 of main.py: 'cent' is not in list\n",
      "Encountered ValueError on line 457 of main.py: 'cent' is not in list\n",
      "Encountered ValueError on line 457 of main.py: 'cent' is not in list\n",
      "Encountered ValueError on line 457 of main.py: 'cent' is not in list\n",
      "Encountered ValueError on line 457 of main.py: 'cent' is not in list\n",
      "Encountered ValueError on line 457 of main.py: 'cent' is not in list\n",
      "Encountered ValueError on line 457 of main.py: 'cent' is not in list\n",
      "Encountered ValueError on line 457 of main.py: 'cent' is not in list\n",
      "Encountered ValueError on line 457 of main.py: 'cent' is not in list\n",
      "Encountered ValueError on line 457 of main.py: 'cent' is not in list\n",
      "Encountered ValueError on line 457 of main.py: 'cent' is not in list\n",
      "Encountered ValueError on line 457 of main.py: 'cent' is not in list\n",
      "Encountered ValueError on line 457 of main.py: 'cent' is not in list\n",
      "Encountered ValueError on line 457 of main.py: 'cent' is not in list\n",
      "Encountered ValueError on line 457 of main.py: 'cent' is not in list\n",
      "Encountered ValueError on line 457 of main.py: 'cent' is not in list\n",
      "Encountered ValueError on line 457 of main.py: 'cent' is not in list\n",
      "Encountered ValueError on line 457 of main.py: 'cent' is not in list\n",
      "Encountered ValueError on line 457 of main.py: 'cent' is not in list\n",
      "Encountered ValueError on line 457 of main.py: 'cent' is not in list\n",
      "Encountered ValueError on line 457 of main.py: 'cent' is not in list\n",
      "Encountered ValueError on line 457 of main.py: 'cent' is not in list\n",
      "Encountered ValueError on line 457 of main.py: 'cent' is not in list\n",
      "Encountered ValueError on line 457 of main.py: 'cent' is not in list\n",
      "Encountered ValueError on line 457 of main.py: 'cent' is not in list\n",
      "Encountered ValueError on line 457 of main.py: 'cent' is not in list\n",
      "Encountered ValueError on line 457 of main.py: 'cent' is not in list\n",
      "Encountered ValueError on line 457 of main.py: 'cent' is not in list\n",
      "Encountered ValueError on line 457 of main.py: 'cent' is not in list\n",
      "Encountered ValueError on line 457 of main.py: 'cent' is not in list\n",
      "Encountered ValueError on line 457 of main.py: 'cent' is not in list\n",
      "Encountered ValueError on line 457 of main.py: 'cent' is not in list\n",
      "Encountered ValueError on line 457 of main.py: 'cent' is not in list\n",
      "Encountered ValueError on line 457 of main.py: 'cent' is not in list\n",
      "Encountered ValueError on line 457 of main.py: 'cent' is not in list\n",
      "Encountered ValueError on line 457 of main.py: 'cent' is not in list\n",
      "Encountered ValueError on line 457 of main.py: 'cent' is not in list\n",
      "Encountered ValueError on line 457 of main.py: 'cent' is not in list\n",
      "Encountered ValueError on line 457 of main.py: 'cent' is not in list\n",
      "Encountered ValueError on line 457 of main.py: 'cent' is not in list\n",
      "Encountered ValueError on line 457 of main.py: 'cent' is not in list\n",
      "Encountered ValueError on line 457 of main.py: 'cent' is not in list\n",
      "Encountered ValueError on line 457 of main.py: 'cent' is not in list\n",
      "Encountered ValueError on line 457 of main.py: 'cent' is not in list\n",
      "Encountered ValueError on line 457 of main.py: 'cent' is not in list\n",
      "Encountered ValueError on line 457 of main.py: 'cent' is not in list\n",
      "Encountered ValueError on line 457 of main.py: 'cent' is not in list\n",
      "Encountered ValueError on line 457 of main.py: 'cent' is not in list\n",
      "Encountered ValueError on line 457 of main.py: 'cent' is not in list\n",
      "Encountered ValueError on line 457 of main.py: 'cent' is not in list\n",
      "Encountered ValueError on line 457 of main.py: 'cent' is not in list\n",
      "Encountered ValueError on line 457 of main.py: 'cent' is not in list\n",
      "Encountered ValueError on line 457 of main.py: 'cent' is not in list\n",
      "Encountered ValueError on line 457 of main.py: 'cent' is not in list\n",
      "Encountered ValueError on line 457 of main.py: 'cent' is not in list\n",
      "Encountered ValueError on line 457 of main.py: 'cent' is not in list\n",
      "Encountered ValueError on line 457 of main.py: 'cent' is not in list\n",
      "Encountered ValueError on line 457 of main.py: 'cent' is not in list\n",
      "Encountered ValueError on line 457 of main.py: 'cent' is not in list\n",
      "Encountered ValueError on line 457 of main.py: 'cent' is not in list\n",
      "Encountered ValueError on line 457 of main.py: 'cent' is not in list\n",
      "Encountered ValueError on line 457 of main.py: 'cent' is not in list\n",
      "Encountered ValueError on line 457 of main.py: 'cent' is not in list\n",
      "Encountered ValueError on line 457 of main.py: 'cent' is not in list\n",
      "Encountered ValueError on line 457 of main.py: 'cent' is not in list\n",
      "Encountered ValueError on line 457 of main.py: 'cent' is not in list\n",
      "Encountered ValueError on line 457 of main.py: 'cent' is not in list\n",
      "Encountered ValueError on line 457 of main.py: 'cent' is not in list\n",
      "Encountered ValueError on line 457 of main.py: 'cent' is not in list\n",
      "Encountered ValueError on line 457 of main.py: 'cent' is not in list\n",
      "Encountered ValueError on line 457 of main.py: 'cent' is not in list\n",
      "Encountered ValueError on line 457 of main.py: 'cent' is not in list\n",
      "Encountered ValueError on line 457 of main.py: 'cent' is not in list\n",
      "Encountered ValueError on line 457 of main.py: 'cent' is not in list\n",
      "Encountered ValueError on line 457 of main.py: 'cent' is not in list\n",
      "Encountered ValueError on line 457 of main.py: 'cent' is not in list\n",
      "Encountered ValueError on line 457 of main.py: 'cent' is not in list\n",
      "Encountered ValueError on line 457 of main.py: 'cent' is not in list\n",
      "Encountered ValueError on line 457 of main.py: 'cent' is not in list\n",
      "Encountered ValueError on line 457 of main.py: 'cent' is not in list\n",
      "Encountered ValueError on line 457 of main.py: 'cent' is not in list\n",
      "Encountered ValueError on line 457 of main.py: 'cent' is not in list\n",
      "Encountered ValueError on line 457 of main.py: 'cent' is not in list\n",
      "Encountered ValueError on line 457 of main.py: 'cent' is not in list\n",
      "Encountered ValueError on line 457 of main.py: 'cent' is not in list\n",
      "Encountered ValueError on line 457 of main.py: 'cent' is not in list\n",
      "Encountered ValueError on line 457 of main.py: 'cent' is not in list\n",
      "Encountered ValueError on line 457 of main.py: 'cent' is not in list\n",
      "Encountered ValueError on line 457 of main.py: 'cent' is not in list\n",
      "Encountered ValueError on line 457 of main.py: 'cent' is not in list\n",
      "Encountered ValueError on line 457 of main.py: 'cent' is not in list\n",
      "Encountered ValueError on line 457 of main.py: 'cent' is not in list\n",
      "Encountered ValueError on line 457 of main.py: 'cent' is not in list\n",
      "Encountered ValueError on line 457 of main.py: 'cent' is not in list\n",
      "Encountered ValueError on line 457 of main.py: 'cent' is not in list\n",
      "Encountered ValueError on line 457 of main.py: 'cent' is not in list\n",
      "Encountered ValueError on line 457 of main.py: 'cent' is not in list\n",
      "Encountered ValueError on line 457 of main.py: 'cent' is not in list\n",
      "Encountered ValueError on line 457 of main.py: 'cent' is not in list\n",
      "Encountered ValueError on line 457 of main.py: 'cent' is not in list\n",
      "Encountered ValueError on line 457 of main.py: 'cent' is not in list\n",
      "Encountered ValueError on line 457 of main.py: 'cent' is not in list\n",
      "Encountered ValueError on line 457 of main.py: 'cent' is not in list\n",
      "Encountered ValueError on line 457 of main.py: 'cent' is not in list\n",
      "Encountered ValueError on line 457 of main.py: 'cent' is not in list\n",
      "Encountered ValueError on line 457 of main.py: 'cent' is not in list\n",
      "Encountered ValueError on line 457 of main.py: 'cent' is not in list\n",
      "Encountered ValueError on line 457 of main.py: 'cent' is not in list\n",
      "Encountered ValueError on line 457 of main.py: 'cent' is not in list\n",
      "Encountered ValueError on line 457 of main.py: 'cent' is not in list\n",
      "Encountered ValueError on line 457 of main.py: 'cent' is not in list\n",
      "Encountered ValueError on line 457 of main.py: 'cent' is not in list\n",
      "Encountered ValueError on line 457 of main.py: 'cent' is not in list\n",
      "Encountered ValueError on line 457 of main.py: 'cent' is not in list\n",
      "Encountered ValueError on line 457 of main.py: 'cent' is not in list\n",
      "Encountered ValueError on line 457 of main.py: 'cent' is not in list\n",
      "Encountered ValueError on line 457 of main.py: 'cent' is not in list\n",
      "Encountered ValueError on line 457 of main.py: 'cent' is not in list\n",
      "Encountered ValueError on line 457 of main.py: 'cent' is not in list\n",
      "Encountered ValueError on line 457 of main.py: 'cent' is not in list\n",
      "Encountered ValueError on line 457 of main.py: 'cent' is not in list\n",
      "Encountered ValueError on line 457 of main.py: 'cent' is not in list\n",
      "Encountered ValueError on line 457 of main.py: 'cent' is not in list\n",
      "Encountered ValueError on line 457 of main.py: 'cent' is not in list\n",
      "Encountered ValueError on line 457 of main.py: 'cent' is not in list\n",
      "Encountered ValueError on line 457 of main.py: 'cent' is not in list\n",
      "Encountered ValueError on line 457 of main.py: 'cent' is not in list\n",
      "Encountered ValueError on line 457 of main.py: 'cent' is not in list\n",
      "Encountered ValueError on line 457 of main.py: 'cent' is not in list\n",
      "Encountered ValueError on line 457 of main.py: 'cent' is not in list\n",
      "Encountered ValueError on line 457 of main.py: 'cent' is not in list\n",
      "Encountered ValueError on line 457 of main.py: 'cent' is not in list\n",
      "Encountered ValueError on line 457 of main.py: 'cent' is not in list\n",
      "Encountered ValueError on line 457 of main.py: 'cent' is not in list\n",
      "Encountered ValueError on line 457 of main.py: 'cent' is not in list\n",
      "Encountered ValueError on line 457 of main.py: 'cent' is not in list\n",
      "Encountered ValueError on line 457 of main.py: 'cent' is not in list\n",
      "Encountered ValueError on line 457 of main.py: 'cent' is not in list\n",
      "Encountered ValueError on line 457 of main.py: 'cent' is not in list\n",
      "Encountered ValueError on line 457 of main.py: 'cent' is not in list\n",
      "Encountered ValueError on line 457 of main.py: 'cent' is not in list\n",
      "Encountered ValueError on line 457 of main.py: 'cent' is not in list\n",
      "Encountered ValueError on line 457 of main.py: 'cent' is not in list\n",
      "Encountered ValueError on line 457 of main.py: 'cent' is not in list\n",
      "Encountered ValueError on line 457 of main.py: 'cent' is not in list\n",
      "Encountered ValueError on line 457 of main.py: 'cent' is not in list\n",
      "Encountered ValueError on line 457 of main.py: 'cent' is not in list\n",
      "Encountered ValueError on line 457 of main.py: 'cent' is not in list\n",
      "Encountered ValueError on line 457 of main.py: 'nickel' is not in list\n",
      "Encountered ValueError on line 457 of main.py: 'nickel' is not in list\n",
      "Encountered ValueError on line 457 of main.py: 'nickel' is not in list\n",
      "Encountered ValueError on line 457 of main.py: 'nickel' is not in list\n",
      "Encountered ValueError on line 457 of main.py: 'nickel' is not in list\n",
      "Encountered ValueError on line 457 of main.py: 'nickel' is not in list\n",
      "Encountered ValueError on line 457 of main.py: 'cent' is not in list\n",
      "Encountered ValueError on line 457 of main.py: 'cent' is not in list\n",
      "Encountered ValueError on line 457 of main.py: 'cent' is not in list\n",
      "Encountered ValueError on line 457 of main.py: 'cent' is not in list\n",
      "Encountered ValueError on line 457 of main.py: 'cent' is not in list\n",
      "Encountered ValueError on line 457 of main.py: 'cent' is not in list\n",
      "Encountered ValueError on line 457 of main.py: 'cent' is not in list\n",
      "Encountered ValueError on line 457 of main.py: 'cent' is not in list\n",
      "Encountered ValueError on line 457 of main.py: 'cent' is not in list\n",
      "Encountered ValueError on line 457 of main.py: 'cent' is not in list\n",
      "Encountered ValueError on line 457 of main.py: 'cent' is not in list\n",
      "Encountered ValueError on line 457 of main.py: 'cent' is not in list\n",
      "Encountered ValueError on line 457 of main.py: 'cent' is not in list\n",
      "Encountered ValueError on line 457 of main.py: 'cent' is not in list\n",
      "Encountered ValueError on line 457 of main.py: 'cent' is not in list\n",
      "Encountered ValueError on line 457 of main.py: 'cent' is not in list\n",
      "Encountered ValueError on line 457 of main.py: 'cent' is not in list\n",
      "Encountered ValueError on line 457 of main.py: 'cent' is not in list\n",
      "Encountered ValueError on line 457 of main.py: 'cent' is not in list\n",
      "Encountered ValueError on line 457 of main.py: 'cent' is not in list\n",
      "Encountered ValueError on line 457 of main.py: 'cent' is not in list\n",
      "Encountered ValueError on line 457 of main.py: 'cent' is not in list\n",
      "Encountered ValueError on line 457 of main.py: 'cent' is not in list\n",
      "Encountered ValueError on line 457 of main.py: 'cent' is not in list\n",
      "Encountered ValueError on line 457 of main.py: 'cent' is not in list\n",
      "Encountered ValueError on line 457 of main.py: 'cent' is not in list\n",
      "Encountered ValueError on line 457 of main.py: 'cent' is not in list\n",
      "Encountered ValueError on line 457 of main.py: 'cent' is not in list\n",
      "Encountered ValueError on line 457 of main.py: 'cent' is not in list\n",
      "Encountered ValueError on line 457 of main.py: 'cent' is not in list\n",
      "Encountered ValueError on line 457 of main.py: 'cent' is not in list\n",
      "Encountered ValueError on line 457 of main.py: 'cent' is not in list\n",
      "Encountered ValueError on line 457 of main.py: 'cent' is not in list\n",
      "Encountered ValueError on line 457 of main.py: 'cent' is not in list\n",
      "Encountered ValueError on line 457 of main.py: 'cent' is not in list\n",
      "Encountered ValueError on line 457 of main.py: 'cent' is not in list\n",
      "Encountered ValueError on line 457 of main.py: 'cent' is not in list\n",
      "Encountered ValueError on line 457 of main.py: 'cent' is not in list\n",
      "Encountered ValueError on line 457 of main.py: 'cent' is not in list\n",
      "Encountered ValueError on line 457 of main.py: 'cent' is not in list\n",
      "Encountered ValueError on line 457 of main.py: 'cent' is not in list\n",
      "Encountered ValueError on line 457 of main.py: 'cent' is not in list\n",
      "Encountered ValueError on line 457 of main.py: 'cent' is not in list\n",
      "Encountered ValueError on line 457 of main.py: 'cent' is not in list\n",
      "Encountered ValueError on line 457 of main.py: 'cent' is not in list\n",
      "Encountered ValueError on line 457 of main.py: 'cent' is not in list\n",
      "Encountered ValueError on line 457 of main.py: 'cent' is not in list\n",
      "Encountered ValueError on line 457 of main.py: 'cent' is not in list\n",
      "Encountered ValueError on line 457 of main.py: 'cent' is not in list\n",
      "Encountered ValueError on line 457 of main.py: 'cent' is not in list\n",
      "Encountered ValueError on line 457 of main.py: 'cent' is not in list\n",
      "Encountered ValueError on line 457 of main.py: 'cent' is not in list\n",
      "Encountered ValueError on line 457 of main.py: 'cent' is not in list\n",
      "Encountered ValueError on line 457 of main.py: 'cent' is not in list\n",
      "Encountered ValueError on line 457 of main.py: 'cent' is not in list\n",
      "Encountered ValueError on line 457 of main.py: 'cent' is not in list\n",
      "Encountered ValueError on line 457 of main.py: 'cent' is not in list\n",
      "Encountered ValueError on line 457 of main.py: 'cent' is not in list\n",
      "Encountered ValueError on line 457 of main.py: 'cent' is not in list\n",
      "Encountered ValueError on line 457 of main.py: 'cent' is not in list\n",
      "Encountered ValueError on line 457 of main.py: 'cent' is not in list\n",
      "Encountered ValueError on line 457 of main.py: 'cent' is not in list\n",
      "Encountered ValueError on line 457 of main.py: 'cent' is not in list\n",
      "Encountered ValueError on line 457 of main.py: 'cent' is not in list\n",
      "Encountered ValueError on line 457 of main.py: 'cent' is not in list\n",
      "Encountered ValueError on line 457 of main.py: 'cent' is not in list\n",
      "Encountered ValueError on line 457 of main.py: 'cent' is not in list\n",
      "Encountered ValueError on line 457 of main.py: 'cent' is not in list\n",
      "Encountered ValueError on line 457 of main.py: 'cent' is not in list\n",
      "Encountered ValueError on line 457 of main.py: 'cent' is not in list\n",
      "Encountered ValueError on line 457 of main.py: 'cent' is not in list\n",
      "Encountered ValueError on line 457 of main.py: 'cent' is not in list\n",
      "Encountered ValueError on line 457 of main.py: 'cent' is not in list\n",
      "Encountered ValueError on line 457 of main.py: 'cent' is not in list\n",
      "Encountered ValueError on line 457 of main.py: 'cent' is not in list\n",
      "Encountered ValueError on line 457 of main.py: 'cent' is not in list\n",
      "Encountered ValueError on line 457 of main.py: 'cent' is not in list\n",
      "Encountered ValueError on line 457 of main.py: 'cent' is not in list\n",
      "Encountered ValueError on line 457 of main.py: 'cent' is not in list\n",
      "Encountered ValueError on line 457 of main.py: 'cent' is not in list\n",
      "Encountered ValueError on line 457 of main.py: 'cent' is not in list\n",
      "Encountered ValueError on line 457 of main.py: 'cent' is not in list\n",
      "Encountered ValueError on line 457 of main.py: 'cent' is not in list\n",
      "Encountered ValueError on line 457 of main.py: 'cent' is not in list\n",
      "Encountered ValueError on line 457 of main.py: 'cent' is not in list\n",
      "Encountered ValueError on line 457 of main.py: 'cent' is not in list\n",
      "Encountered ValueError on line 457 of main.py: 'cent' is not in list\n",
      "Encountered ValueError on line 457 of main.py: 'cent' is not in list\n",
      "Encountered ValueError on line 457 of main.py: 'cent' is not in list\n",
      "Encountered ValueError on line 457 of main.py: 'cent' is not in list\n",
      "Encountered ValueError on line 457 of main.py: 'cent' is not in list\n",
      "Encountered ValueError on line 457 of main.py: 'cent' is not in list\n",
      "Encountered ValueError on line 457 of main.py: 'cent' is not in list\n",
      "Encountered ValueError on line 457 of main.py: 'cent' is not in list\n",
      "Encountered ValueError on line 457 of main.py: 'dollar' is not in list\n",
      "Encountered ValueError on line 457 of main.py: 'dollar' is not in list\n",
      "Encountered ValueError on line 457 of main.py: 'dollar' is not in list\n",
      "Encountered ValueError on line 457 of main.py: 'dollar' is not in list\n",
      "Encountered ValueError on line 457 of main.py: 'half' is not in list\n",
      "Encountered ValueError on line 457 of main.py: 'nickel' is not in list\n",
      "Encountered ValueError on line 457 of main.py: 'nickel' is not in list\n",
      "Encountered ValueError on line 457 of main.py: 'V' is not in list\n",
      "Encountered ValueError on line 457 of main.py: 'V' is not in list\n",
      "Encountered ValueError on line 457 of main.py: 'V' is not in list\n",
      "Encountered ValueError on line 457 of main.py: 'V' is not in list\n",
      "Encountered ValueError on line 457 of main.py: 'V' is not in list\n",
      "Encountered ValueError on line 457 of main.py: 'V' is not in list\n",
      "Encountered ValueError on line 457 of main.py: 'V' is not in list\n",
      "Encountered ValueError on line 457 of main.py: 'V' is not in list\n",
      "Encountered ValueError on line 457 of main.py: 'V' is not in list\n",
      "Encountered ValueError on line 457 of main.py: 'V' is not in list\n",
      "Encountered ValueError on line 457 of main.py: 'V' is not in list\n",
      "Encountered ValueError on line 457 of main.py: 'V' is not in list\n",
      "Encountered ValueError on line 457 of main.py: 'V' is not in list\n",
      "Encountered ValueError on line 457 of main.py: 'V' is not in list\n",
      "Encountered ValueError on line 457 of main.py: 'V' is not in list\n",
      "Encountered ValueError on line 457 of main.py: 'cent' is not in list\n",
      "Encountered ValueError on line 457 of main.py: 'cent' is not in list\n",
      "Encountered ValueError on line 457 of main.py: 'cent' is not in list\n",
      "Encountered ValueError on line 457 of main.py: 'cent' is not in list\n",
      "Encountered ValueError on line 457 of main.py: 'cent' is not in list\n",
      "Encountered ValueError on line 457 of main.py: 'cent' is not in list\n",
      "Encountered ValueError on line 457 of main.py: 'cent' is not in list\n",
      "Encountered ValueError on line 457 of main.py: 'cent' is not in list\n",
      "Encountered ValueError on line 457 of main.py: 'cent' is not in list\n",
      "Encountered ValueError on line 457 of main.py: 'cent' is not in list\n",
      "Encountered ValueError on line 457 of main.py: 'cent' is not in list\n",
      "Encountered ValueError on line 457 of main.py: 'cent' is not in list\n",
      "Encountered ValueError on line 457 of main.py: 'cent' is not in list\n",
      "Encountered ValueError on line 457 of main.py: 'cent' is not in list\n",
      "Encountered ValueError on line 457 of main.py: 'cent' is not in list\n",
      "Encountered ValueError on line 457 of main.py: 'cent' is not in list\n",
      "Encountered ValueError on line 457 of main.py: 'cent' is not in list\n",
      "Encountered ValueError on line 457 of main.py: 'cent' is not in list\n",
      "Encountered ValueError on line 457 of main.py: 'cent' is not in list\n",
      "Encountered ValueError on line 457 of main.py: 'cent' is not in list\n",
      "Encountered ValueError on line 457 of main.py: 'cent' is not in list\n",
      "Encountered ValueError on line 457 of main.py: 'cent' is not in list\n",
      "Encountered ValueError on line 457 of main.py: 'cent' is not in list\n",
      "Encountered ValueError on line 457 of main.py: 'cent' is not in list\n",
      "Encountered ValueError on line 457 of main.py: 'cent' is not in list\n",
      "Encountered ValueError on line 457 of main.py: 'cent' is not in list\n",
      "Encountered ValueError on line 457 of main.py: 'cent' is not in list\n",
      "Encountered ValueError on line 457 of main.py: 'cent' is not in list\n",
      "Encountered ValueError on line 457 of main.py: 'cent' is not in list\n",
      "Encountered ValueError on line 457 of main.py: 'cent' is not in list\n",
      "Encountered ValueError on line 457 of main.py: 'cent' is not in list\n",
      "Encountered ValueError on line 457 of main.py: 'cent' is not in list\n",
      "Encountered ValueError on line 457 of main.py: 'cent' is not in list\n",
      "Encountered ValueError on line 457 of main.py: 'cent' is not in list\n",
      "Encountered ValueError on line 457 of main.py: 'cent' is not in list\n",
      "Encountered ValueError on line 457 of main.py: 'cent' is not in list\n",
      "Encountered ValueError on line 457 of main.py: 'cent' is not in list\n",
      "Encountered ValueError on line 457 of main.py: 'cent' is not in list\n",
      "Encountered ValueError on line 457 of main.py: 'cent' is not in list\n",
      "Encountered ValueError on line 457 of main.py: 'cent' is not in list\n",
      "Encountered ValueError on line 457 of main.py: 'cent' is not in list\n",
      "Encountered ValueError on line 457 of main.py: 'cent' is not in list\n",
      "Encountered ValueError on line 457 of main.py: 'cent' is not in list\n",
      "Encountered ValueError on line 457 of main.py: 'cent' is not in list\n",
      "Encountered ValueError on line 457 of main.py: 'cent' is not in list\n",
      "Encountered ValueError on line 457 of main.py: 'cent' is not in list\n",
      "Encountered ValueError on line 457 of main.py: 'cent' is not in list\n",
      "Encountered ValueError on line 457 of main.py: 'led' is not in list\n",
      "Encountered ValueError on line 457 of main.py: 'led' is not in list\n",
      "Encountered ValueError on line 457 of main.py: 'cent' is not in list\n",
      "Encountered ValueError on line 457 of main.py: 'cent' is not in list\n",
      "Encountered ValueError on line 457 of main.py: 'cent' is not in list\n",
      "Encountered ValueError on line 457 of main.py: 'cent' is not in list\n",
      "Encountered ValueError on line 457 of main.py: 'cent' is not in list\n",
      "Encountered ValueError on line 457 of main.py: 'cent' is not in list\n",
      "Encountered ValueError on line 457 of main.py: 'cent' is not in list\n",
      "Encountered ValueError on line 457 of main.py: 'cent' is not in list\n",
      "Encountered ValueError on line 457 of main.py: 'cent' is not in list\n",
      "Encountered ValueError on line 457 of main.py: 'cent' is not in list\n",
      "Encountered ValueError on line 457 of main.py: 'cent' is not in list\n",
      "Encountered ValueError on line 457 of main.py: 'cent' is not in list\n",
      "Encountered ValueError on line 457 of main.py: 'cent' is not in list\n",
      "Encountered ValueError on line 457 of main.py: 'cent' is not in list\n",
      "Encountered ValueError on line 457 of main.py: 'cent' is not in list\n",
      "Encountered ValueError on line 457 of main.py: 'cent' is not in list\n",
      "Encountered ValueError on line 457 of main.py: 'cent' is not in list\n",
      "Encountered ValueError on line 457 of main.py: 'cent' is not in list\n",
      "Encountered ValueError on line 457 of main.py: 'cent' is not in list\n",
      "Encountered ValueError on line 457 of main.py: 'cent' is not in list\n",
      "Encountered ValueError on line 457 of main.py: 'cent' is not in list\n",
      "Encountered ValueError on line 457 of main.py: 'cent' is not in list\n",
      "Encountered ValueError on line 457 of main.py: 'cent' is not in list\n",
      "Encountered ValueError on line 457 of main.py: 'cent' is not in list\n",
      "Encountered ValueError on line 457 of main.py: 'cent' is not in list\n",
      "Encountered ValueError on line 457 of main.py: 'cent' is not in list\n",
      "Encountered ValueError on line 457 of main.py: 'cent' is not in list\n",
      "Encountered ValueError on line 457 of main.py: 'cent' is not in list\n",
      "Encountered ValueError on line 457 of main.py: 'cent' is not in list\n",
      "Encountered ValueError on line 457 of main.py: 'cent' is not in list\n",
      "Encountered ValueError on line 457 of main.py: 'cent' is not in list\n",
      "Encountered ValueError on line 457 of main.py: 'cent' is not in list\n",
      "Encountered ValueError on line 457 of main.py: 'cent' is not in list\n",
      "Encountered ValueError on line 457 of main.py: 'cent' is not in list\n",
      "Encountered ValueError on line 457 of main.py: 'cent' is not in list\n",
      "Encountered ValueError on line 457 of main.py: 'cent' is not in list\n",
      "Encountered ValueError on line 457 of main.py: 'cent' is not in list\n",
      "Encountered ValueError on line 457 of main.py: 'cent' is not in list\n",
      "Encountered ValueError on line 457 of main.py: 'cent' is not in list\n",
      "Encountered ValueError on line 457 of main.py: 'cent' is not in list\n",
      "Encountered ValueError on line 457 of main.py: 'cent' is not in list\n",
      "Encountered ValueError on line 457 of main.py: 'cent' is not in list\n",
      "Encountered ValueError on line 457 of main.py: 'cent' is not in list\n",
      "Encountered ValueError on line 457 of main.py: 'cent' is not in list\n",
      "Encountered ValueError on line 457 of main.py: 'cent' is not in list\n",
      "Encountered ValueError on line 457 of main.py: 'cent' is not in list\n",
      "Encountered ValueError on line 457 of main.py: 'cent' is not in list\n",
      "Encountered ValueError on line 457 of main.py: 'cent' is not in list\n",
      "Encountered ValueError on line 457 of main.py: 'cent' is not in list\n",
      "Encountered ValueError on line 457 of main.py: 'cent' is not in list\n",
      "Encountered ValueError on line 457 of main.py: 'cent' is not in list\n",
      "Encountered ValueError on line 457 of main.py: 'cent' is not in list\n",
      "Encountered ValueError on line 457 of main.py: 'cent' is not in list\n",
      "Encountered ValueError on line 457 of main.py: 'cent' is not in list\n",
      "Encountered ValueError on line 457 of main.py: 'cent' is not in list\n",
      "Encountered ValueError on line 457 of main.py: 'cent' is not in list\n",
      "Encountered ValueError on line 457 of main.py: 'cent' is not in list\n",
      "Encountered ValueError on line 457 of main.py: 'cent' is not in list\n",
      "Encountered ValueError on line 457 of main.py: 'cent' is not in list\n",
      "Encountered ValueError on line 457 of main.py: 'cent' is not in list\n",
      "Encountered ValueError on line 457 of main.py: 'cent' is not in list\n",
      "Encountered ValueError on line 457 of main.py: 'cent' is not in list\n",
      "Encountered ValueError on line 457 of main.py: 'cent' is not in list\n",
      "Encountered ValueError on line 457 of main.py: 'cent' is not in list\n",
      "Encountered ValueError on line 457 of main.py: 'cent' is not in list\n",
      "Encountered ValueError on line 457 of main.py: 'cent' is not in list\n",
      "Encountered ValueError on line 457 of main.py: 'cent' is not in list\n",
      "Encountered ValueError on line 457 of main.py: 'cent' is not in list\n",
      "Encountered ValueError on line 457 of main.py: 'cent' is not in list\n",
      "Encountered ValueError on line 457 of main.py: 'cent' is not in list\n",
      "Encountered ValueError on line 457 of main.py: 'cent' is not in list\n",
      "Encountered ValueError on line 457 of main.py: 'cent' is not in list\n",
      "Encountered ValueError on line 457 of main.py: 'cent' is not in list\n",
      "Encountered ValueError on line 457 of main.py: 'cent' is not in list\n",
      "Encountered ValueError on line 457 of main.py: 'cent' is not in list\n",
      "Encountered ValueError on line 457 of main.py: 'cent' is not in list\n",
      "Encountered ValueError on line 457 of main.py: 'cent' is not in list\n",
      "Encountered ValueError on line 457 of main.py: 'cent' is not in list\n",
      "Encountered ValueError on line 457 of main.py: 'cent' is not in list\n",
      "Encountered ValueError on line 457 of main.py: 'cent' is not in list\n",
      "Encountered ValueError on line 457 of main.py: 'cent' is not in list\n",
      "Encountered ValueError on line 457 of main.py: 'cent' is not in list\n",
      "Encountered ValueError on line 457 of main.py: 'cent' is not in list\n",
      "Encountered ValueError on line 457 of main.py: 'cent' is not in list\n",
      "Encountered ValueError on line 457 of main.py: 'cent' is not in list\n",
      "Encountered ValueError on line 457 of main.py: 'cent' is not in list\n",
      "Encountered ValueError on line 457 of main.py: 'cent' is not in list\n",
      "Encountered ValueError on line 457 of main.py: 'cent' is not in list\n",
      "Encountered ValueError on line 457 of main.py: 'cent' is not in list\n",
      "Encountered ValueError on line 457 of main.py: 'cent' is not in list\n",
      "Encountered ValueError on line 457 of main.py: 'cent' is not in list\n",
      "Encountered ValueError on line 457 of main.py: 'cent' is not in list\n",
      "Encountered ValueError on line 457 of main.py: 'cent' is not in list\n",
      "Encountered ValueError on line 457 of main.py: 'cent' is not in list\n",
      "Encountered ValueError on line 457 of main.py: 'cent' is not in list\n",
      "Encountered ValueError on line 457 of main.py: 'cent' is not in list\n",
      "Encountered ValueError on line 457 of main.py: 'cent' is not in list\n",
      "Encountered ValueError on line 457 of main.py: 'cent' is not in list\n",
      "Encountered ValueError on line 457 of main.py: 'cent' is not in list\n",
      "Encountered ValueError on line 457 of main.py: 'cent' is not in list\n",
      "Encountered ValueError on line 457 of main.py: 'cent' is not in list\n",
      "Encountered ValueError on line 457 of main.py: 'cent' is not in list\n",
      "Encountered ValueError on line 457 of main.py: 'cent' is not in list\n",
      "Encountered ValueError on line 457 of main.py: 'cent' is not in list\n",
      "Encountered ValueError on line 457 of main.py: 'cent' is not in list\n",
      "Encountered ValueError on line 457 of main.py: 'cent' is not in list\n",
      "Encountered ValueError on line 457 of main.py: 'cent' is not in list\n",
      "Encountered ValueError on line 457 of main.py: 'cent' is not in list\n",
      "Encountered ValueError on line 457 of main.py: 'cent' is not in list\n",
      "Encountered ValueError on line 457 of main.py: 'cent' is not in list\n",
      "Encountered ValueError on line 457 of main.py: 'cent' is not in list\n",
      "Encountered ValueError on line 457 of main.py: 'cent' is not in list\n",
      "Encountered ValueError on line 457 of main.py: 'cent' is not in list\n",
      "Encountered ValueError on line 457 of main.py: 'cent' is not in list\n",
      "Encountered ValueError on line 457 of main.py: 'cent' is not in list\n",
      "Encountered ValueError on line 457 of main.py: 'cent' is not in list\n",
      "Encountered ValueError on line 457 of main.py: 'cent' is not in list\n",
      "Encountered ValueError on line 457 of main.py: 'cent' is not in list\n",
      "Encountered ValueError on line 457 of main.py: 'cent' is not in list\n",
      "Encountered ValueError on line 457 of main.py: 'cent' is not in list\n",
      "Encountered ValueError on line 457 of main.py: 'cent' is not in list\n",
      "Encountered ValueError on line 457 of main.py: 'cent' is not in list\n",
      "Encountered ValueError on line 457 of main.py: 'cent' is not in list\n",
      "Encountered ValueError on line 457 of main.py: 'cent' is not in list\n",
      "Encountered ValueError on line 457 of main.py: 'cent' is not in list\n",
      "Encountered ValueError on line 457 of main.py: 'cent' is not in list\n",
      "Encountered ValueError on line 457 of main.py: 'cent' is not in list\n",
      "Encountered ValueError on line 457 of main.py: 'cent' is not in list\n",
      "Encountered ValueError on line 457 of main.py: 'cent' is not in list\n",
      "Encountered ValueError on line 457 of main.py: 'cent' is not in list\n",
      "Encountered ValueError on line 457 of main.py: 'cent' is not in list\n",
      "Encountered ValueError on line 457 of main.py: 'cent' is not in list\n",
      "Encountered ValueError on line 457 of main.py: 'cent' is not in list\n",
      "Encountered ValueError on line 457 of main.py: 'cent' is not in list\n",
      "Encountered ValueError on line 457 of main.py: 'cent' is not in list\n",
      "Encountered ValueError on line 457 of main.py: 'cent' is not in list\n",
      "Encountered ValueError on line 457 of main.py: 'cent' is not in list\n",
      "Encountered ValueError on line 457 of main.py: 'cent' is not in list\n",
      "Encountered ValueError on line 457 of main.py: 'cent' is not in list\n",
      "Encountered ValueError on line 457 of main.py: 'cent' is not in list\n",
      "Encountered ValueError on line 457 of main.py: 'cent' is not in list\n",
      "Encountered ValueError on line 457 of main.py: 'sent' is not in list\n",
      "Encountered ValueError on line 457 of main.py: 'dollar' is not in list\n",
      "Encountered ValueError on line 457 of main.py: 'dollar' is not in list\n",
      "Encountered ValueError on line 457 of main.py: 'dollar' is not in list\n",
      "Encountered ValueError on line 457 of main.py: 'dollar' is not in list\n",
      "Encountered ValueError on line 457 of main.py: 'halted' is not in list\n",
      "Encountered ValueError on line 457 of main.py: 'year' is not in list\n",
      "Encountered ValueError on line 457 of main.py: 'year' is not in list\n",
      "Encountered ValueError on line 457 of main.py: 'year' is not in list\n",
      "Encountered ValueError on line 457 of main.py: 'year' is not in list\n",
      "Encountered ValueError on line 457 of main.py: 'year' is not in list\n",
      "Encountered ValueError on line 457 of main.py: 'year' is not in list\n",
      "Encountered ValueError on line 457 of main.py: 'year' is not in list\n",
      "Encountered ValueError on line 457 of main.py: 'cent' is not in list\n",
      "Encountered ValueError on line 457 of main.py: 'cent' is not in list\n",
      "Encountered ValueError on line 457 of main.py: 'cent' is not in list\n",
      "Encountered ValueError on line 457 of main.py: 'cent' is not in list\n",
      "Encountered ValueError on line 457 of main.py: 'cent' is not in list\n",
      "Encountered ValueError on line 457 of main.py: 'cent' is not in list\n",
      "Encountered ValueError on line 457 of main.py: 'cent' is not in list\n",
      "Encountered ValueError on line 457 of main.py: 'cent' is not in list\n",
      "Encountered ValueError on line 457 of main.py: 'cent' is not in list\n",
      "Encountered ValueError on line 457 of main.py: 'cent' is not in list\n",
      "Encountered ValueError on line 457 of main.py: 'cent' is not in list\n",
      "Encountered ValueError on line 457 of main.py: 'cent' is not in list\n",
      "Encountered ValueError on line 457 of main.py: 'cent' is not in list\n",
      "Encountered ValueError on line 457 of main.py: 'cent' is not in list\n",
      "Encountered ValueError on line 457 of main.py: 'cent' is not in list\n",
      "Encountered ValueError on line 457 of main.py: 'cent' is not in list\n",
      "Encountered ValueError on line 457 of main.py: 'cent' is not in list\n",
      "Encountered ValueError on line 457 of main.py: 'cent' is not in list\n",
      "Encountered ValueError on line 457 of main.py: 'cent' is not in list\n",
      "Encountered ValueError on line 457 of main.py: 'cent' is not in list\n",
      "Encountered ValueError on line 457 of main.py: 'cent' is not in list\n",
      "Encountered ValueError on line 457 of main.py: 'cent' is not in list\n",
      "Encountered ValueError on line 457 of main.py: 'cent' is not in list\n",
      "Encountered ValueError on line 457 of main.py: 'cent' is not in list\n",
      "Encountered ValueError on line 457 of main.py: 'cent' is not in list\n",
      "Encountered ValueError on line 457 of main.py: 'cent' is not in list\n",
      "Encountered ValueError on line 457 of main.py: 'cent' is not in list\n",
      "Encountered ValueError on line 457 of main.py: 'cent' is not in list\n",
      "Encountered ValueError on line 457 of main.py: 'cent' is not in list\n",
      "Encountered ValueError on line 457 of main.py: 'cent' is not in list\n",
      "Encountered ValueError on line 457 of main.py: 'cent' is not in list\n",
      "Encountered ValueError on line 457 of main.py: 'cent' is not in list\n",
      "Encountered ValueError on line 457 of main.py: 'cent' is not in list\n",
      "Encountered ValueError on line 457 of main.py: 'cent' is not in list\n",
      "Encountered ValueError on line 457 of main.py: 'cent' is not in list\n",
      "Encountered ValueError on line 457 of main.py: 'cent' is not in list\n",
      "Encountered ValueError on line 457 of main.py: 'cent' is not in list\n",
      "Encountered ValueError on line 457 of main.py: 'cent' is not in list\n",
      "Encountered ValueError on line 457 of main.py: 'cent' is not in list\n",
      "Encountered ValueError on line 457 of main.py: 'cent' is not in list\n",
      "Encountered ValueError on line 457 of main.py: 'cent' is not in list\n",
      "Encountered ValueError on line 457 of main.py: 'cent' is not in list\n",
      "Encountered ValueError on line 457 of main.py: 'cent' is not in list\n",
      "Encountered ValueError on line 457 of main.py: 'cent' is not in list\n",
      "Encountered ValueError on line 457 of main.py: 'cent' is not in list\n",
      "Encountered ValueError on line 457 of main.py: 'cent' is not in list\n",
      "Encountered ValueError on line 457 of main.py: 'cent' is not in list\n",
      "Encountered ValueError on line 457 of main.py: 'cent' is not in list\n",
      "Encountered ValueError on line 457 of main.py: 'cent' is not in list\n",
      "Encountered ValueError on line 457 of main.py: 'cent' is not in list\n",
      "Encountered ValueError on line 457 of main.py: 'cent' is not in list\n",
      "Encountered ValueError on line 457 of main.py: 'cent' is not in list\n",
      "Encountered ValueError on line 457 of main.py: 'cent' is not in list\n",
      "Encountered ValueError on line 457 of main.py: 'cent' is not in list\n",
      "Encountered ValueError on line 457 of main.py: 'cent' is not in list\n",
      "Encountered ValueError on line 457 of main.py: 'cent' is not in list\n",
      "Encountered ValueError on line 457 of main.py: 'cent' is not in list\n",
      "Encountered ValueError on line 457 of main.py: 'cent' is not in list\n",
      "Encountered ValueError on line 457 of main.py: 'cent' is not in list\n",
      "Encountered ValueError on line 457 of main.py: 'cent' is not in list\n",
      "Encountered ValueError on line 457 of main.py: 'cent' is not in list\n",
      "Encountered ValueError on line 457 of main.py: 'cent' is not in list\n",
      "Encountered ValueError on line 457 of main.py: 'cent' is not in list\n",
      "Encountered ValueError on line 457 of main.py: 'cent' is not in list\n",
      "Encountered ValueError on line 457 of main.py: 'cent' is not in list\n",
      "Encountered ValueError on line 457 of main.py: 'cent' is not in list\n",
      "Encountered ValueError on line 457 of main.py: 'cent' is not in list\n",
      "Encountered ValueError on line 457 of main.py: 'cent' is not in list\n",
      "Encountered ValueError on line 457 of main.py: 'cent' is not in list\n",
      "Encountered ValueError on line 457 of main.py: 'cent' is not in list\n",
      "Encountered ValueError on line 457 of main.py: 'cent' is not in list\n",
      "Encountered ValueError on line 457 of main.py: 'cent' is not in list\n",
      "Encountered ValueError on line 457 of main.py: 'cent' is not in list\n",
      "Encountered ValueError on line 457 of main.py: 'cent' is not in list\n",
      "Encountered ValueError on line 457 of main.py: 'cent' is not in list\n",
      "Encountered ValueError on line 457 of main.py: 'cent' is not in list\n",
      "Encountered ValueError on line 457 of main.py: 'cent' is not in list\n",
      "Encountered ValueError on line 457 of main.py: 'cent' is not in list\n",
      "Encountered ValueError on line 457 of main.py: 'cent' is not in list\n",
      "Encountered ValueError on line 457 of main.py: 'cent' is not in list\n",
      "Encountered ValueError on line 457 of main.py: 'cent' is not in list\n",
      "Encountered ValueError on line 457 of main.py: 'cent' is not in list\n",
      "Encountered ValueError on line 457 of main.py: 'cent' is not in list\n",
      "Encountered ValueError on line 457 of main.py: 'cent' is not in list\n",
      "Encountered ValueError on line 457 of main.py: 'cent' is not in list\n",
      "Encountered ValueError on line 457 of main.py: 'cent' is not in list\n",
      "Encountered ValueError on line 457 of main.py: 'cent' is not in list\n",
      "Encountered ValueError on line 457 of main.py: 'cent' is not in list\n",
      "Encountered ValueError on line 457 of main.py: 'cent' is not in list\n",
      "Encountered ValueError on line 457 of main.py: 'cent' is not in list\n",
      "Encountered ValueError on line 457 of main.py: 'cent' is not in list\n",
      "Encountered ValueError on line 457 of main.py: 'cent' is not in list\n",
      "Encountered ValueError on line 457 of main.py: 'cent' is not in list\n",
      "Encountered ValueError on line 457 of main.py: 'cent' is not in list\n",
      "Encountered ValueError on line 457 of main.py: 'quarter' is not in list\n",
      "Encountered ValueError on line 457 of main.py: 'ran' is not in list\n",
      "Encountered ValueError on line 457 of main.py: 'ran' is not in list\n",
      "Encountered ValueError on line 457 of main.py: 'ran' is not in list\n",
      "Encountered ValueError on line 457 of main.py: 'ran' is not in list\n",
      "Encountered ValueError on line 457 of main.py: 'ran' is not in list\n",
      "Encountered ValueError on line 457 of main.py: 'ran' is not in list\n",
      "Encountered ValueError on line 457 of main.py: 'ran' is not in list\n",
      "Encountered ValueError on line 457 of main.py: 'ran' is not in list\n",
      "Encountered ValueError on line 457 of main.py: 'ran' is not in list\n",
      "Encountered ValueError on line 457 of main.py: 'led' is not in list\n",
      "Encountered ValueError on line 457 of main.py: 'led' is not in list\n",
      "Encountered ValueError on line 457 of main.py: 'nickel' is not in list\n",
      "Encountered ValueError on line 457 of main.py: 'nickel' is not in list\n",
      "Encountered ValueError on line 457 of main.py: 'nickel' is not in list\n",
      "Encountered ValueError on line 457 of main.py: 'nickel' is not in list\n",
      "Encountered ValueError on line 457 of main.py: 'sent' is not in list\n",
      "Encountered ValueError on line 457 of main.py: 'nickel' is not in list\n",
      "Encountered ValueError on line 457 of main.py: 'nickel' is not in list\n",
      "Encountered ValueError on line 457 of main.py: 'end' is not in list\n",
      "Encountered ValueError on line 457 of main.py: 'end' is not in list\n",
      "Encountered ValueError on line 457 of main.py: 'nickel' is not in list\n",
      "Encountered ValueError on line 457 of main.py: 'nickel' is not in list\n",
      "Encountered ValueError on line 457 of main.py: 'quarter' is not in list\n",
      "Encountered ValueError on line 457 of main.py: 'half' is not in list\n",
      "Encountered ValueError on line 457 of main.py: 'cent' is not in list\n",
      "Encountered ValueError on line 457 of main.py: 'cent' is not in list\n",
      "Encountered ValueError on line 457 of main.py: 'cent' is not in list\n",
      "Encountered ValueError on line 457 of main.py: 'cent' is not in list\n",
      "Encountered ValueError on line 457 of main.py: 'cent' is not in list\n",
      "Encountered ValueError on line 457 of main.py: 'cent' is not in list\n",
      "Encountered ValueError on line 457 of main.py: 'cent' is not in list\n",
      "Encountered ValueError on line 457 of main.py: 'cent' is not in list\n",
      "Encountered ValueError on line 457 of main.py: 'cent' is not in list\n",
      "Encountered ValueError on line 457 of main.py: 'cent' is not in list\n",
      "Encountered ValueError on line 457 of main.py: 'cent' is not in list\n",
      "Encountered ValueError on line 457 of main.py: 'cent' is not in list\n",
      "Encountered ValueError on line 457 of main.py: 'cent' is not in list\n",
      "Encountered ValueError on line 457 of main.py: 'cent' is not in list\n",
      "Encountered ValueError on line 457 of main.py: 'cent' is not in list\n",
      "Encountered ValueError on line 457 of main.py: 'cent' is not in list\n",
      "Encountered ValueError on line 457 of main.py: 'cent' is not in list\n",
      "Encountered ValueError on line 457 of main.py: 'cent' is not in list\n",
      "Encountered ValueError on line 457 of main.py: 'cent' is not in list\n",
      "Encountered ValueError on line 457 of main.py: 'cent' is not in list\n",
      "Encountered ValueError on line 457 of main.py: 'cent' is not in list\n",
      "Encountered ValueError on line 457 of main.py: 'cent' is not in list\n",
      "Encountered ValueError on line 457 of main.py: 'cent' is not in list\n",
      "Encountered ValueError on line 457 of main.py: 'cent' is not in list\n",
      "Encountered ValueError on line 457 of main.py: 'cent' is not in list\n",
      "Encountered ValueError on line 457 of main.py: 'cent' is not in list\n",
      "Encountered ValueError on line 457 of main.py: 'cent' is not in list\n",
      "Encountered ValueError on line 457 of main.py: 'cent' is not in list\n",
      "Encountered ValueError on line 457 of main.py: 'cent' is not in list\n",
      "Encountered ValueError on line 457 of main.py: 'cent' is not in list\n",
      "Encountered ValueError on line 457 of main.py: 'cent' is not in list\n",
      "Encountered ValueError on line 457 of main.py: 'cent' is not in list\n",
      "Encountered ValueError on line 457 of main.py: 'cent' is not in list\n",
      "Encountered ValueError on line 457 of main.py: 'cent' is not in list\n",
      "Encountered ValueError on line 457 of main.py: 'cent' is not in list\n",
      "Encountered ValueError on line 457 of main.py: 'cent' is not in list\n",
      "Encountered ValueError on line 457 of main.py: 'cent' is not in list\n",
      "Encountered ValueError on line 457 of main.py: 'cent' is not in list\n",
      "Encountered ValueError on line 457 of main.py: 'cent' is not in list\n",
      "Encountered ValueError on line 457 of main.py: 'cent' is not in list\n",
      "Encountered ValueError on line 457 of main.py: 'cent' is not in list\n",
      "Encountered ValueError on line 457 of main.py: 'cent' is not in list\n",
      "Encountered ValueError on line 457 of main.py: 'cent' is not in list\n",
      "Encountered ValueError on line 457 of main.py: 'cent' is not in list\n",
      "Encountered ValueError on line 457 of main.py: 'cent' is not in list\n",
      "Encountered ValueError on line 457 of main.py: 'cent' is not in list\n",
      "Encountered ValueError on line 457 of main.py: 'cent' is not in list\n",
      "Encountered ValueError on line 457 of main.py: 'use' is not in list\n",
      "Encountered ValueError on line 457 of main.py: 'use' is not in list\n",
      "Encountered ValueError on line 457 of main.py: 'use' is not in list\n",
      "Encountered ValueError on line 457 of main.py: 'sent' is not in list\n",
      "Encountered ValueError on line 457 of main.py: 'sent' is not in list\n",
      "Encountered ValueError on line 457 of main.py: 'sent' is not in list\n",
      "Encountered ValueError on line 457 of main.py: 'nickel' is not in list\n",
      "Encountered ValueError on line 457 of main.py: 'nickel' is not in list\n",
      "Encountered ValueError on line 457 of main.py: 'Indian' is not in list\n",
      "Encountered ValueError on line 457 of main.py: 'Indian' is not in list\n",
      "Encountered ValueError on line 457 of main.py: 'nickel' is not in list\n",
      "Encountered ValueError on line 457 of main.py: 'nickel' is not in list\n",
      "Encountered ValueError on line 457 of main.py: 'nickel' is not in list\n",
      "Encountered ValueError on line 457 of main.py: 'nickel' is not in list\n",
      "Encountered ValueError on line 457 of main.py: 'lack' is not in list\n",
      "Encountered ValueError on line 457 of main.py: 'lack' is not in list\n",
      "Encountered ValueError on line 457 of main.py: 'lack' is not in list\n",
      "Encountered ValueError on line 457 of main.py: 'nickel' is not in list\n",
      "Encountered ValueError on line 457 of main.py: 'nickel' is not in list\n",
      "Encountered ValueError on line 457 of main.py: 'nickel' is not in list\n",
      "Encountered ValueError on line 457 of main.py: 'nickel' is not in list\n",
      "Encountered ValueError on line 457 of main.py: 'war' is not in list\n",
      "Encountered ValueError on line 457 of main.py: 'war' is not in list\n",
      "Encountered ValueError on line 457 of main.py: 'war' is not in list\n",
      "Encountered ValueError on line 457 of main.py: 'war' is not in list\n",
      "Encountered ValueError on line 457 of main.py: 'war' is not in list\n",
      "Encountered ValueError on line 457 of main.py: 'war' is not in list\n",
      "Encountered ValueError on line 457 of main.py: 'war' is not in list\n",
      "Encountered ValueError on line 457 of main.py: 'war' is not in list\n",
      "Encountered ValueError on line 457 of main.py: '%' is not in list\n",
      "Encountered ValueError on line 457 of main.py: '%' is not in list\n",
      "Encountered ValueError on line 457 of main.py: '%' is not in list\n",
      "Encountered ValueError on line 457 of main.py: '%' is not in list\n",
      "Encountered ValueError on line 457 of main.py: '%' is not in list\n",
      "Encountered ValueError on line 457 of main.py: '%' is not in list\n",
      "Encountered ValueError on line 457 of main.py: '%' is not in list\n",
      "Encountered ValueError on line 457 of main.py: '%' is not in list\n",
      "Encountered ValueError on line 457 of main.py: '%' is not in list\n",
      "Encountered ValueError on line 457 of main.py: '%' is not in list\n",
      "Encountered ValueError on line 457 of main.py: '%' is not in list\n",
      "Encountered ValueError on line 457 of main.py: '%' is not in list\n",
      "Encountered ValueError on line 457 of main.py: '%' is not in list\n",
      "Encountered ValueError on line 457 of main.py: '%' is not in list\n",
      "Encountered ValueError on line 457 of main.py: '%' is not in list\n",
      "Encountered ValueError on line 457 of main.py: '%' is not in list\n",
      "Encountered ValueError on line 457 of main.py: '%' is not in list\n",
      "Encountered ValueError on line 457 of main.py: '%' is not in list\n",
      "Encountered ValueError on line 457 of main.py: '%' is not in list\n",
      "Encountered ValueError on line 457 of main.py: '%' is not in list\n",
      "Encountered ValueError on line 457 of main.py: '%' is not in list\n",
      "Encountered ValueError on line 457 of main.py: '%' is not in list\n",
      "Encountered ValueError on line 457 of main.py: '%' is not in list\n",
      "Encountered ValueError on line 457 of main.py: '%' is not in list\n",
      "Encountered ValueError on line 457 of main.py: '%' is not in list\n",
      "Encountered ValueError on line 457 of main.py: '%' is not in list\n",
      "Encountered ValueError on line 457 of main.py: 'use' is not in list\n",
      "Encountered ValueError on line 457 of main.py: 'use' is not in list\n",
      "Encountered ValueError on line 457 of main.py: 'use' is not in list\n",
      "Encountered ValueError on line 457 of main.py: '%' is not in list\n",
      "Encountered ValueError on line 457 of main.py: '%' is not in list\n",
      "Encountered ValueError on line 457 of main.py: '%' is not in list\n",
      "Encountered ValueError on line 457 of main.py: '%' is not in list\n",
      "Encountered ValueError on line 457 of main.py: '%' is not in list\n",
      "Encountered ValueError on line 457 of main.py: '%' is not in list\n",
      "Encountered ValueError on line 457 of main.py: '%' is not in list\n",
      "Encountered ValueError on line 457 of main.py: '%' is not in list\n",
      "Encountered ValueError on line 457 of main.py: '%' is not in list\n",
      "Encountered ValueError on line 457 of main.py: '%' is not in list\n",
      "Encountered ValueError on line 457 of main.py: '%' is not in list\n",
      "Encountered ValueError on line 457 of main.py: '%' is not in list\n",
      "Encountered ValueError on line 457 of main.py: '%' is not in list\n",
      "Encountered ValueError on line 457 of main.py: '%' is not in list\n",
      "Encountered ValueError on line 457 of main.py: '%' is not in list\n",
      "Encountered ValueError on line 457 of main.py: '%' is not in list\n",
      "Encountered ValueError on line 457 of main.py: '%' is not in list\n",
      "Encountered ValueError on line 457 of main.py: '%' is not in list\n",
      "Encountered ValueError on line 457 of main.py: '%' is not in list\n",
      "Encountered ValueError on line 457 of main.py: '%' is not in list\n",
      "Encountered ValueError on line 457 of main.py: '%' is not in list\n",
      "Encountered ValueError on line 457 of main.py: '%' is not in list\n",
      "Encountered ValueError on line 457 of main.py: '%' is not in list\n",
      "Encountered ValueError on line 457 of main.py: '%' is not in list\n",
      "Encountered ValueError on line 457 of main.py: '%' is not in list\n",
      "Encountered ValueError on line 457 of main.py: '%' is not in list\n",
      "Encountered ValueError on line 457 of main.py: '%' is not in list\n",
      "Encountered ValueError on line 457 of main.py: '%' is not in list\n",
      "Encountered ValueError on line 457 of main.py: '%' is not in list\n",
      "Encountered ValueError on line 457 of main.py: '%' is not in list\n",
      "Encountered ValueError on line 457 of main.py: '%' is not in list\n",
      "Encountered ValueError on line 457 of main.py: '%' is not in list\n",
      "Encountered ValueError on line 457 of main.py: '%' is not in list\n",
      "Encountered ValueError on line 457 of main.py: '%' is not in list\n",
      "Encountered ValueError on line 457 of main.py: '%' is not in list\n",
      "Encountered ValueError on line 457 of main.py: '%' is not in list\n",
      "Encountered ValueError on line 457 of main.py: '%' is not in list\n",
      "Encountered ValueError on line 457 of main.py: '%' is not in list\n",
      "Encountered ValueError on line 457 of main.py: '%' is not in list\n",
      "Encountered ValueError on line 457 of main.py: 'war' is not in list\n",
      "Encountered ValueError on line 457 of main.py: 'war' is not in list\n",
      "Encountered ValueError on line 457 of main.py: 'war' is not in list\n",
      "Encountered ValueError on line 457 of main.py: 'war' is not in list\n",
      "Encountered ValueError on line 457 of main.py: 'war' is not in list\n",
      "Encountered ValueError on line 457 of main.py: 'war' is not in list\n",
      "Encountered ValueError on line 457 of main.py: 'war' is not in list\n",
      "Encountered ValueError on line 457 of main.py: 'war' is not in list\n",
      "Encountered ValueError on line 457 of main.py: '%' is not in list\n",
      "Encountered ValueError on line 457 of main.py: '%' is not in list\n",
      "Encountered ValueError on line 457 of main.py: '%' is not in list\n",
      "Encountered ValueError on line 457 of main.py: '%' is not in list\n",
      "Encountered ValueError on line 457 of main.py: '%' is not in list\n",
      "Encountered ValueError on line 457 of main.py: '%' is not in list\n",
      "Encountered ValueError on line 457 of main.py: '%' is not in list\n",
      "Encountered ValueError on line 457 of main.py: '%' is not in list\n",
      "Encountered ValueError on line 457 of main.py: '%' is not in list\n",
      "Encountered ValueError on line 457 of main.py: '%' is not in list\n",
      "Encountered ValueError on line 457 of main.py: '%' is not in list\n",
      "Encountered ValueError on line 457 of main.py: '%' is not in list\n",
      "Encountered ValueError on line 457 of main.py: '%' is not in list\n",
      "Encountered ValueError on line 457 of main.py: 'lack' is not in list\n",
      "Encountered ValueError on line 457 of main.py: 'lack' is not in list\n",
      "Encountered ValueError on line 457 of main.py: 'lack' is not in list\n",
      "Encountered ValueError on line 457 of main.py: 'Cent' is not in list\n",
      "Encountered ValueError on line 457 of main.py: 'cent' is not in list\n",
      "Encountered ValueError on line 457 of main.py: 'cent' is not in list\n",
      "Encountered ValueError on line 457 of main.py: 'cent' is not in list\n",
      "Encountered ValueError on line 457 of main.py: 'cent' is not in list\n",
      "Encountered ValueError on line 457 of main.py: 'cent' is not in list\n",
      "Encountered ValueError on line 457 of main.py: 'cent' is not in list\n",
      "Encountered ValueError on line 457 of main.py: 'cent' is not in list\n",
      "Encountered ValueError on line 457 of main.py: 'cent' is not in list\n",
      "Encountered ValueError on line 457 of main.py: 'cent' is not in list\n",
      "Encountered ValueError on line 457 of main.py: 'cent' is not in list\n",
      "Encountered ValueError on line 457 of main.py: 'cent' is not in list\n",
      "Encountered ValueError on line 457 of main.py: 'cent' is not in list\n",
      "Encountered ValueError on line 457 of main.py: 'cent' is not in list\n",
      "Encountered ValueError on line 457 of main.py: 'cent' is not in list\n",
      "Encountered ValueError on line 457 of main.py: 'cent' is not in list\n",
      "Encountered ValueError on line 457 of main.py: 'cent' is not in list\n",
      "Encountered ValueError on line 457 of main.py: 'cent' is not in list\n",
      "Encountered ValueError on line 457 of main.py: 'cent' is not in list\n",
      "Encountered ValueError on line 457 of main.py: 'cent' is not in list\n",
      "Encountered ValueError on line 457 of main.py: 'cent' is not in list\n",
      "Encountered ValueError on line 457 of main.py: 'cent' is not in list\n",
      "Encountered ValueError on line 457 of main.py: 'cent' is not in list\n",
      "Encountered ValueError on line 457 of main.py: 'cent' is not in list\n",
      "Encountered ValueError on line 457 of main.py: 'cent' is not in list\n",
      "Encountered ValueError on line 457 of main.py: 'cent' is not in list\n",
      "Encountered ValueError on line 457 of main.py: 'cent' is not in list\n",
      "Encountered ValueError on line 457 of main.py: 'cent' is not in list\n",
      "Encountered ValueError on line 457 of main.py: 'cent' is not in list\n",
      "Encountered ValueError on line 457 of main.py: 'cent' is not in list\n",
      "Encountered ValueError on line 457 of main.py: 'cent' is not in list\n",
      "Encountered ValueError on line 457 of main.py: 'cent' is not in list\n",
      "Encountered ValueError on line 457 of main.py: 'cent' is not in list\n",
      "Encountered ValueError on line 457 of main.py: 'cent' is not in list\n",
      "Encountered ValueError on line 457 of main.py: 'cent' is not in list\n",
      "Encountered ValueError on line 457 of main.py: 'cent' is not in list\n",
      "Encountered ValueError on line 457 of main.py: 'cent' is not in list\n",
      "Encountered ValueError on line 457 of main.py: 'cent' is not in list\n",
      "Encountered ValueError on line 457 of main.py: 'cent' is not in list\n",
      "Encountered ValueError on line 457 of main.py: 'cent' is not in list\n",
      "Encountered ValueError on line 457 of main.py: 'cent' is not in list\n",
      "Encountered ValueError on line 457 of main.py: 'cent' is not in list\n",
      "Encountered ValueError on line 457 of main.py: 'cent' is not in list\n",
      "Encountered ValueError on line 457 of main.py: 'cent' is not in list\n",
      "Encountered ValueError on line 457 of main.py: 'cent' is not in list\n",
      "Encountered ValueError on line 457 of main.py: 'cent' is not in list\n",
      "Encountered ValueError on line 457 of main.py: 'cent' is not in list\n",
      "Encountered ValueError on line 457 of main.py: 'cent' is not in list\n",
      "Encountered ValueError on line 457 of main.py: 'O' is not in list\n",
      "Encountered ValueError on line 457 of main.py: 'O' is not in list\n",
      "Encountered ValueError on line 457 of main.py: 'O' is not in list\n",
      "Encountered ValueError on line 457 of main.py: 'O' is not in list\n",
      "Encountered ValueError on line 457 of main.py: 'O' is not in list\n",
      "Encountered ValueError on line 457 of main.py: 'O' is not in list\n",
      "Encountered ValueError on line 457 of main.py: 'O' is not in list\n",
      "Encountered ValueError on line 457 of main.py: 'O' is not in list\n",
      "Encountered ValueError on line 457 of main.py: 'O' is not in list\n",
      "Encountered ValueError on line 457 of main.py: 'O' is not in list\n",
      "Encountered ValueError on line 457 of main.py: 'O' is not in list\n",
      "Encountered ValueError on line 457 of main.py: 'cent' is not in list\n",
      "Encountered ValueError on line 457 of main.py: 'cent' is not in list\n",
      "Encountered ValueError on line 457 of main.py: 'cent' is not in list\n",
      "Encountered ValueError on line 457 of main.py: 'cent' is not in list\n",
      "Encountered ValueError on line 457 of main.py: 'cent' is not in list\n",
      "Encountered ValueError on line 457 of main.py: 'cent' is not in list\n",
      "Encountered ValueError on line 457 of main.py: 'cent' is not in list\n",
      "Encountered ValueError on line 457 of main.py: 'cent' is not in list\n",
      "Encountered ValueError on line 457 of main.py: 'cent' is not in list\n",
      "Encountered ValueError on line 457 of main.py: 'cent' is not in list\n",
      "Encountered ValueError on line 457 of main.py: 'cent' is not in list\n",
      "Encountered ValueError on line 457 of main.py: 'cent' is not in list\n",
      "Encountered ValueError on line 457 of main.py: 'cent' is not in list\n",
      "Encountered ValueError on line 457 of main.py: 'cent' is not in list\n",
      "Encountered ValueError on line 457 of main.py: 'cent' is not in list\n",
      "Encountered ValueError on line 457 of main.py: 'cent' is not in list\n",
      "Encountered ValueError on line 457 of main.py: 'cent' is not in list\n",
      "Encountered ValueError on line 457 of main.py: 'cent' is not in list\n",
      "Encountered ValueError on line 457 of main.py: 'cent' is not in list\n",
      "Encountered ValueError on line 457 of main.py: 'cent' is not in list\n",
      "Encountered ValueError on line 457 of main.py: 'cent' is not in list\n",
      "Encountered ValueError on line 457 of main.py: 'cent' is not in list\n",
      "Encountered ValueError on line 457 of main.py: 'cent' is not in list\n",
      "Encountered ValueError on line 457 of main.py: 'cent' is not in list\n",
      "Encountered ValueError on line 457 of main.py: 'cent' is not in list\n",
      "Encountered ValueError on line 457 of main.py: 'cent' is not in list\n",
      "Encountered ValueError on line 457 of main.py: 'cent' is not in list\n",
      "Encountered ValueError on line 457 of main.py: 'cent' is not in list\n",
      "Encountered ValueError on line 457 of main.py: 'cent' is not in list\n",
      "Encountered ValueError on line 457 of main.py: 'cent' is not in list\n",
      "Encountered ValueError on line 457 of main.py: 'cent' is not in list\n",
      "Encountered ValueError on line 457 of main.py: 'cent' is not in list\n",
      "Encountered ValueError on line 457 of main.py: 'cent' is not in list\n",
      "Encountered ValueError on line 457 of main.py: 'cent' is not in list\n",
      "Encountered ValueError on line 457 of main.py: 'cent' is not in list\n",
      "Encountered ValueError on line 457 of main.py: 'cent' is not in list\n",
      "Encountered ValueError on line 457 of main.py: 'cent' is not in list\n",
      "Encountered ValueError on line 457 of main.py: 'cent' is not in list\n",
      "Encountered ValueError on line 457 of main.py: 'cent' is not in list\n",
      "Encountered ValueError on line 457 of main.py: 'cent' is not in list\n",
      "Encountered ValueError on line 457 of main.py: 'cent' is not in list\n",
      "Encountered ValueError on line 457 of main.py: 'cent' is not in list\n",
      "Encountered ValueError on line 457 of main.py: 'cent' is not in list\n",
      "Encountered ValueError on line 457 of main.py: 'cent' is not in list\n",
      "Encountered ValueError on line 457 of main.py: 'cent' is not in list\n",
      "Encountered ValueError on line 457 of main.py: 'cent' is not in list\n",
      "Encountered ValueError on line 457 of main.py: 'cent' is not in list\n",
      "Encountered ValueError on line 457 of main.py: 'cent' is not in list\n",
      "Encountered ValueError on line 457 of main.py: 'cent' is not in list\n",
      "Encountered ValueError on line 457 of main.py: 'cent' is not in list\n",
      "Encountered ValueError on line 457 of main.py: 'cent' is not in list\n",
      "Encountered ValueError on line 457 of main.py: 'cent' is not in list\n",
      "Encountered ValueError on line 457 of main.py: 'cent' is not in list\n",
      "Encountered ValueError on line 457 of main.py: 'cent' is not in list\n",
      "Encountered ValueError on line 457 of main.py: 'cent' is not in list\n",
      "Encountered ValueError on line 457 of main.py: 'cent' is not in list\n",
      "Encountered ValueError on line 457 of main.py: 'cent' is not in list\n",
      "Encountered ValueError on line 457 of main.py: 'cent' is not in list\n",
      "Encountered ValueError on line 457 of main.py: 'cent' is not in list\n",
      "Encountered ValueError on line 457 of main.py: 'cent' is not in list\n",
      "Encountered ValueError on line 457 of main.py: 'cent' is not in list\n",
      "Encountered ValueError on line 457 of main.py: 'cent' is not in list\n",
      "Encountered ValueError on line 457 of main.py: 'cent' is not in list\n",
      "Encountered ValueError on line 457 of main.py: 'cent' is not in list\n",
      "Encountered ValueError on line 457 of main.py: 'cent' is not in list\n",
      "Encountered ValueError on line 457 of main.py: 'cent' is not in list\n",
      "Encountered ValueError on line 457 of main.py: 'cent' is not in list\n",
      "Encountered ValueError on line 457 of main.py: 'cent' is not in list\n",
      "Encountered ValueError on line 457 of main.py: 'cent' is not in list\n",
      "Encountered ValueError on line 457 of main.py: 'cent' is not in list\n",
      "Encountered ValueError on line 457 of main.py: 'cent' is not in list\n",
      "Encountered ValueError on line 457 of main.py: 'cent' is not in list\n",
      "Encountered ValueError on line 457 of main.py: 'cent' is not in list\n",
      "Encountered ValueError on line 457 of main.py: 'cent' is not in list\n",
      "Encountered ValueError on line 457 of main.py: 'cent' is not in list\n",
      "Encountered ValueError on line 457 of main.py: 'cent' is not in list\n",
      "Encountered ValueError on line 457 of main.py: 'cent' is not in list\n",
      "Encountered ValueError on line 457 of main.py: 'cent' is not in list\n",
      "Encountered ValueError on line 457 of main.py: 'cent' is not in list\n",
      "Encountered ValueError on line 457 of main.py: 'cent' is not in list\n",
      "Encountered ValueError on line 457 of main.py: 'cent' is not in list\n",
      "Encountered ValueError on line 457 of main.py: 'cent' is not in list\n",
      "Encountered ValueError on line 457 of main.py: 'cent' is not in list\n",
      "Encountered ValueError on line 457 of main.py: 'cent' is not in list\n",
      "Encountered ValueError on line 457 of main.py: 'cent' is not in list\n",
      "Encountered ValueError on line 457 of main.py: 'cent' is not in list\n",
      "Encountered ValueError on line 457 of main.py: 'cent' is not in list\n",
      "Encountered ValueError on line 457 of main.py: 'cent' is not in list\n",
      "Encountered ValueError on line 457 of main.py: 'cent' is not in list\n",
      "Encountered ValueError on line 457 of main.py: 'cent' is not in list\n",
      "Encountered ValueError on line 457 of main.py: 'cent' is not in list\n",
      "Encountered ValueError on line 457 of main.py: 'cent' is not in list\n",
      "Encountered ValueError on line 457 of main.py: 'cent' is not in list\n",
      "Encountered ValueError on line 457 of main.py: 'cent' is not in list\n",
      "Encountered ValueError on line 457 of main.py: 'use' is not in list\n",
      "Encountered ValueError on line 457 of main.py: 'use' is not in list\n",
      "Encountered ValueError on line 457 of main.py: 'use' is not in list\n",
      "Encountered ValueError on line 457 of main.py: 'cent' is not in list\n",
      "Encountered ValueError on line 457 of main.py: 'cent' is not in list\n",
      "Encountered ValueError on line 457 of main.py: 'cent' is not in list\n",
      "Encountered ValueError on line 457 of main.py: 'cent' is not in list\n",
      "Encountered ValueError on line 457 of main.py: 'cent' is not in list\n",
      "Encountered ValueError on line 457 of main.py: 'cent' is not in list\n",
      "Encountered ValueError on line 457 of main.py: 'cent' is not in list\n",
      "Encountered ValueError on line 457 of main.py: 'cent' is not in list\n",
      "Encountered ValueError on line 457 of main.py: 'cent' is not in list\n",
      "Encountered ValueError on line 457 of main.py: 'cent' is not in list\n",
      "Encountered ValueError on line 457 of main.py: 'cent' is not in list\n",
      "Encountered ValueError on line 457 of main.py: 'cent' is not in list\n",
      "Encountered ValueError on line 457 of main.py: 'cent' is not in list\n",
      "Encountered ValueError on line 457 of main.py: 'cent' is not in list\n",
      "Encountered ValueError on line 457 of main.py: 'cent' is not in list\n",
      "Encountered ValueError on line 457 of main.py: 'cent' is not in list\n",
      "Encountered ValueError on line 457 of main.py: 'cent' is not in list\n",
      "Encountered ValueError on line 457 of main.py: 'cent' is not in list\n",
      "Encountered ValueError on line 457 of main.py: 'cent' is not in list\n",
      "Encountered ValueError on line 457 of main.py: 'cent' is not in list\n",
      "Encountered ValueError on line 457 of main.py: 'cent' is not in list\n",
      "Encountered ValueError on line 457 of main.py: 'cent' is not in list\n",
      "Encountered ValueError on line 457 of main.py: 'cent' is not in list\n",
      "Encountered ValueError on line 457 of main.py: 'cent' is not in list\n",
      "Encountered ValueError on line 457 of main.py: 'cent' is not in list\n",
      "Encountered ValueError on line 457 of main.py: 'cent' is not in list\n",
      "Encountered ValueError on line 457 of main.py: 'cent' is not in list\n",
      "Encountered ValueError on line 457 of main.py: 'cent' is not in list\n",
      "Encountered ValueError on line 457 of main.py: 'cent' is not in list\n",
      "Encountered ValueError on line 457 of main.py: 'cent' is not in list\n",
      "Encountered ValueError on line 457 of main.py: 'cent' is not in list\n",
      "Encountered ValueError on line 457 of main.py: 'cent' is not in list\n",
      "Encountered ValueError on line 457 of main.py: 'cent' is not in list\n",
      "Encountered ValueError on line 457 of main.py: 'cent' is not in list\n",
      "Encountered ValueError on line 457 of main.py: 'cent' is not in list\n",
      "Encountered ValueError on line 457 of main.py: 'cent' is not in list\n",
      "Encountered ValueError on line 457 of main.py: 'cent' is not in list\n",
      "Encountered ValueError on line 457 of main.py: 'cent' is not in list\n",
      "Encountered ValueError on line 457 of main.py: 'cent' is not in list\n",
      "Encountered ValueError on line 457 of main.py: 'cent' is not in list\n",
      "Encountered ValueError on line 457 of main.py: 'cent' is not in list\n",
      "Encountered ValueError on line 457 of main.py: 'cent' is not in list\n",
      "Encountered ValueError on line 457 of main.py: 'cent' is not in list\n",
      "Encountered ValueError on line 457 of main.py: 'cent' is not in list\n",
      "Encountered ValueError on line 457 of main.py: 'cent' is not in list\n",
      "Encountered ValueError on line 457 of main.py: 'cent' is not in list\n",
      "Encountered ValueError on line 457 of main.py: 'cent' is not in list\n",
      "Encountered ValueError on line 457 of main.py: 'cent' is not in list\n",
      "Encountered ValueError on line 457 of main.py: 'cent' is not in list\n",
      "Encountered ValueError on line 457 of main.py: 'cent' is not in list\n",
      "Encountered ValueError on line 457 of main.py: 'cent' is not in list\n",
      "Encountered ValueError on line 457 of main.py: 'cent' is not in list\n",
      "Encountered ValueError on line 457 of main.py: 'cent' is not in list\n",
      "Encountered ValueError on line 457 of main.py: 'cent' is not in list\n",
      "Encountered ValueError on line 457 of main.py: 'cent' is not in list\n",
      "Encountered ValueError on line 457 of main.py: 'cent' is not in list\n",
      "Encountered ValueError on line 457 of main.py: 'cent' is not in list\n",
      "Encountered ValueError on line 457 of main.py: 'cent' is not in list\n",
      "Encountered ValueError on line 457 of main.py: 'cent' is not in list\n",
      "Encountered ValueError on line 457 of main.py: 'cent' is not in list\n",
      "Encountered ValueError on line 457 of main.py: 'cent' is not in list\n",
      "Encountered ValueError on line 457 of main.py: 'cent' is not in list\n",
      "Encountered ValueError on line 457 of main.py: 'cent' is not in list\n",
      "Encountered ValueError on line 457 of main.py: 'cent' is not in list\n",
      "Encountered ValueError on line 457 of main.py: 'cent' is not in list\n",
      "Encountered ValueError on line 457 of main.py: 'cent' is not in list\n",
      "Encountered ValueError on line 457 of main.py: 'cent' is not in list\n",
      "Encountered ValueError on line 457 of main.py: 'cent' is not in list\n",
      "Encountered ValueError on line 457 of main.py: 'cent' is not in list\n",
      "Encountered ValueError on line 457 of main.py: 'cent' is not in list\n",
      "Encountered ValueError on line 457 of main.py: 'cent' is not in list\n",
      "Encountered ValueError on line 457 of main.py: 'cent' is not in list\n",
      "Encountered ValueError on line 457 of main.py: 'cent' is not in list\n",
      "Encountered ValueError on line 457 of main.py: 'cent' is not in list\n",
      "Encountered ValueError on line 457 of main.py: 'cent' is not in list\n",
      "Encountered ValueError on line 457 of main.py: 'cent' is not in list\n",
      "Encountered ValueError on line 457 of main.py: 'cent' is not in list\n",
      "Encountered ValueError on line 457 of main.py: 'cent' is not in list\n",
      "Encountered ValueError on line 457 of main.py: 'cent' is not in list\n",
      "Encountered ValueError on line 457 of main.py: 'cent' is not in list\n",
      "Encountered ValueError on line 457 of main.py: 'cent' is not in list\n",
      "Encountered ValueError on line 457 of main.py: 'cent' is not in list\n",
      "Encountered ValueError on line 457 of main.py: 'cent' is not in list\n",
      "Encountered ValueError on line 457 of main.py: 'cent' is not in list\n",
      "Encountered ValueError on line 457 of main.py: 'cent' is not in list\n",
      "Encountered ValueError on line 457 of main.py: 'cent' is not in list\n",
      "Encountered ValueError on line 457 of main.py: 'cent' is not in list\n",
      "Encountered ValueError on line 457 of main.py: 'cent' is not in list\n",
      "Encountered ValueError on line 457 of main.py: 'cent' is not in list\n",
      "Encountered ValueError on line 457 of main.py: 'cent' is not in list\n",
      "Encountered ValueError on line 457 of main.py: 'cent' is not in list\n",
      "Encountered ValueError on line 457 of main.py: 'cent' is not in list\n",
      "Encountered ValueError on line 457 of main.py: 'cent' is not in list\n",
      "Encountered ValueError on line 457 of main.py: 'cent' is not in list\n",
      "Encountered ValueError on line 457 of main.py: 'nickel' is not in list\n",
      "Encountered ValueError on line 457 of main.py: 'nickel' is not in list\n",
      "Encountered ValueError on line 457 of main.py: '%' is not in list\n",
      "Encountered ValueError on line 457 of main.py: '%' is not in list\n",
      "Encountered ValueError on line 457 of main.py: '%' is not in list\n",
      "Encountered ValueError on line 457 of main.py: '%' is not in list\n",
      "Encountered ValueError on line 457 of main.py: '%' is not in list\n",
      "Encountered ValueError on line 457 of main.py: '%' is not in list\n",
      "Encountered ValueError on line 457 of main.py: '%' is not in list\n",
      "Encountered ValueError on line 457 of main.py: '%' is not in list\n",
      "Encountered ValueError on line 457 of main.py: '%' is not in list\n",
      "Encountered ValueError on line 457 of main.py: '%' is not in list\n",
      "Encountered ValueError on line 457 of main.py: '%' is not in list\n",
      "Encountered ValueError on line 457 of main.py: '%' is not in list\n",
      "Encountered ValueError on line 457 of main.py: '%' is not in list\n",
      "Encountered ValueError on line 457 of main.py: '%' is not in list\n",
      "Encountered ValueError on line 457 of main.py: '%' is not in list\n",
      "Encountered ValueError on line 457 of main.py: '%' is not in list\n",
      "Encountered ValueError on line 457 of main.py: '%' is not in list\n",
      "Encountered ValueError on line 457 of main.py: '%' is not in list\n",
      "Encountered ValueError on line 457 of main.py: '%' is not in list\n",
      "Encountered ValueError on line 457 of main.py: '%' is not in list\n",
      "Encountered ValueError on line 457 of main.py: '%' is not in list\n",
      "Encountered ValueError on line 457 of main.py: '%' is not in list\n",
      "Encountered ValueError on line 457 of main.py: '%' is not in list\n",
      "Encountered ValueError on line 457 of main.py: '%' is not in list\n",
      "Encountered ValueError on line 457 of main.py: '%' is not in list\n",
      "Encountered ValueError on line 457 of main.py: '%' is not in list\n",
      "Encountered ValueError on line 457 of main.py: 'nickel' is not in list\n",
      "Encountered ValueError on line 457 of main.py: 'nickel' is not in list\n",
      "Encountered ValueError on line 457 of main.py: 'nickel' is not in list\n",
      "Encountered ValueError on line 457 of main.py: 'nickel' is not in list\n",
      "Encountered ValueError on line 457 of main.py: 'Breen' is not in list\n",
      "Encountered ValueError on line 457 of main.py: 'Breen' is not in list\n",
      "Encountered ValueError on line 457 of main.py: 'Yeoman' is not in list\n",
      "Encountered ValueError on line 457 of main.py: 'Yeoman' is not in list\n",
      "Encountered ValueError on line 457 of main.py: 'Breen' is not in list\n",
      "Encountered ValueError on line 457 of main.py: 'Breen' is not in list\n",
      "Encountered ValueError on line 457 of main.py: 'Montgomery' is not in list\n",
      "Encountered ValueError on line 457 of main.py: 'Montgomery' is not in list\n",
      "Encountered ValueError on line 457 of main.py: 'Montgomery' is not in list\n",
      "Encountered ValueError on line 457 of main.py: 'Montgomery' is not in list\n",
      "Encountered ValueError on line 457 of main.py: 'Montgomery' is not in list\n",
      "Encountered ValueError on line 457 of main.py: 'Breen' is not in list\n",
      "Encountered ValueError on line 457 of main.py: 'Breen' is not in list\n",
      "Encountered ValueError on line 457 of main.py: 'Yeoman' is not in list\n",
      "Encountered ValueError on line 457 of main.py: 'Montgomery' is not in list\n",
      "Encountered ValueError on line 457 of main.py: 'Montgomery' is not in list\n",
      "Encountered ValueError on line 457 of main.py: 'Montgomery' is not in list\n",
      "Encountered ValueError on line 457 of main.py: 'Montgomery' is not in list\n",
      "Encountered ValueError on line 457 of main.py: 'Montgomery' is not in list\n",
      "Encountered ValueError on line 457 of main.py: 'Montgomery' is not in list\n",
      "Encountered ValueError on line 457 of main.py: 'Montgomery' is not in list\n",
      "Encountered ValueError on line 457 of main.py: 'Montgomery' is not in list\n",
      "Encountered ValueError on line 457 of main.py: 'Montgomery' is not in list\n",
      "Encountered ValueError on line 457 of main.py: 'Montgomery' is not in list\n",
      "Encountered ValueError on line 457 of main.py: 'Montgomery' is not in list\n",
      "Encountered ValueError on line 457 of main.py: 'Montgomery' is not in list\n",
      "Encountered ValueError on line 457 of main.py: 'Montgomery' is not in list\n",
      "Encountered ValueError on line 457 of main.py: 'Montgomery' is not in list\n",
      "Encountered ValueError on line 457 of main.py: 'Montgomery' is not in list\n",
      "Encountered ValueError on line 457 of main.py: 'Post' is not in list\n",
      "Encountered ValueError on line 457 of main.py: 'Montgomery' is not in list\n",
      "Encountered ValueError on line 457 of main.py: 'Montgomery' is not in list\n",
      "Encountered ValueError on line 457 of main.py: 'Montgomery' is not in list\n",
      "Encountered ValueError on line 457 of main.py: 'Montgomery' is not in list\n",
      "Encountered ValueError on line 457 of main.py: 'Montgomery' is not in list\n",
      "Encountered ValueError on line 457 of main.py: 'Breen' is not in list\n",
      "Encountered ValueError on line 457 of main.py: 'Breen' is not in list\n",
      "Encountered ValueError on line 457 of main.py: 'Yeoman' is not in list\n",
      "Encountered ValueError on line 457 of main.py: 'Yeoman' is not in list\n",
      "Encountered ValueError on line 457 of main.py: 'Yeoman' is not in list\n",
      "Encountered ValueError on line 457 of main.py: 'Mint' is not in list\n",
      "Encountered ValueError on line 457 of main.py: 'Mint' is not in list\n",
      "Encountered ValueError on line 457 of main.py: 'Mint' is not in list\n",
      "Encountered ValueError on line 457 of main.py: 'Mint' is not in list\n",
      "Encountered ValueError on line 457 of main.py: 'Mint' is not in list\n",
      "Encountered ValueError on line 457 of main.py: 'Mint' is not in list\n",
      "Encountered ValueError on line 457 of main.py: 'Mint' is not in list\n",
      "Encountered ValueError on line 457 of main.py: 'Mint' is not in list\n",
      "Encountered ValueError on line 457 of main.py: 'Mint' is not in list\n",
      "Encountered ValueError on line 457 of main.py: 'Mint' is not in list\n",
      "Encountered ValueError on line 457 of main.py: 'Mint' is not in list\n",
      "Encountered ValueError on line 457 of main.py: 'Mint' is not in list\n",
      "Encountered ValueError on line 457 of main.py: 'Mint' is not in list\n",
      "Encountered ValueError on line 457 of main.py: 'Mint' is not in list\n",
      "Encountered ValueError on line 457 of main.py: 'Mint' is not in list\n",
      "Encountered ValueError on line 457 of main.py: 'Mint' is not in list\n",
      "Encountered ValueError on line 457 of main.py: 'Mint' is not in list\n",
      "Encountered ValueError on line 457 of main.py: 'Mint' is not in list\n",
      "Encountered ValueError on line 457 of main.py: 'Mint' is not in list\n",
      "Encountered ValueError on line 457 of main.py: 'Mint' is not in list\n",
      "Encountered ValueError on line 457 of main.py: 'Mint' is not in list\n",
      "Encountered ValueError on line 457 of main.py: 'Mint' is not in list\n",
      "Encountered ValueError on line 457 of main.py: 'Mint' is not in list\n",
      "Encountered ValueError on line 457 of main.py: 'Mint' is not in list\n",
      "Encountered ValueError on line 457 of main.py: 'Mint' is not in list\n",
      "Encountered ValueError on line 457 of main.py: 'Mint' is not in list\n",
      "Encountered ValueError on line 457 of main.py: 'Mint' is not in list\n",
      "Encountered ValueError on line 457 of main.py: 'Mint' is not in list\n",
      "Encountered ValueError on line 457 of main.py: 'Mint' is not in list\n",
      "Encountered ValueError on line 457 of main.py: 'Mint' is not in list\n",
      "Encountered ValueError on line 457 of main.py: 'Mint' is not in list\n",
      "Encountered ValueError on line 457 of main.py: 'Mint' is not in list\n",
      "Encountered ValueError on line 457 of main.py: 'Mint' is not in list\n",
      "Encountered ValueError on line 457 of main.py: 'Mint' is not in list\n",
      "Encountered ValueError on line 457 of main.py: 'Mint' is not in list\n",
      "Encountered ValueError on line 457 of main.py: 'Mint' is not in list\n",
      "Encountered ValueError on line 457 of main.py: 'Mint' is not in list\n",
      "Encountered ValueError on line 457 of main.py: 'Mint' is not in list\n",
      "Encountered ValueError on line 457 of main.py: 'Mint' is not in list\n",
      "Encountered ValueError on line 457 of main.py: 'Mint' is not in list\n",
      "Encountered ValueError on line 457 of main.py: 'Mint' is not in list\n",
      "Encountered ValueError on line 457 of main.py: 'Mint' is not in list\n",
      "Encountered ValueError on line 457 of main.py: '2014' is not in list\n",
      "Encountered ValueError on line 457 of main.py: 'Nickel' is not in list\n",
      "Encountered ValueError on line 457 of main.py: 'Nickel' is not in list\n",
      "Encountered ValueError on line 457 of main.py: 'Washington' is not in list\n",
      "Encountered ValueError on line 457 of main.py: 'Washington' is not in list\n",
      "Encountered ValueError on line 457 of main.py: 'Washington' is not in list\n",
      "Encountered ValueError on line 457 of main.py: 'Nickel' is not in list\n",
      "Encountered ValueError on line 457 of main.py: 'Nickel' is not in list\n",
      "Encountered ValueError on line 457 of main.py: 'cent' is not in list\n",
      "Encountered ValueError on line 457 of main.py: 'cent' is not in list\n",
      "Encountered ValueError on line 457 of main.py: 'cent' is not in list\n",
      "Encountered ValueError on line 457 of main.py: 'cent' is not in list\n",
      "Encountered ValueError on line 457 of main.py: 'cent' is not in list\n",
      "Encountered ValueError on line 457 of main.py: 'cent' is not in list\n",
      "Encountered ValueError on line 457 of main.py: 'cent' is not in list\n",
      "Encountered ValueError on line 457 of main.py: 'cent' is not in list\n",
      "Encountered ValueError on line 457 of main.py: 'cent' is not in list\n",
      "Encountered ValueError on line 457 of main.py: 'cent' is not in list\n",
      "Encountered ValueError on line 457 of main.py: 'cent' is not in list\n",
      "Encountered ValueError on line 457 of main.py: 'cent' is not in list\n",
      "Encountered ValueError on line 457 of main.py: 'cent' is not in list\n",
      "Encountered ValueError on line 457 of main.py: 'cent' is not in list\n",
      "Encountered ValueError on line 457 of main.py: 'cent' is not in list\n",
      "Encountered ValueError on line 457 of main.py: 'cent' is not in list\n",
      "Encountered ValueError on line 457 of main.py: 'cent' is not in list\n",
      "Encountered ValueError on line 457 of main.py: 'cent' is not in list\n",
      "Encountered ValueError on line 457 of main.py: 'cent' is not in list\n",
      "Encountered ValueError on line 457 of main.py: 'cent' is not in list\n",
      "Encountered ValueError on line 457 of main.py: 'cent' is not in list\n",
      "Encountered ValueError on line 457 of main.py: 'cent' is not in list\n",
      "Encountered ValueError on line 457 of main.py: 'cent' is not in list\n",
      "Encountered ValueError on line 457 of main.py: 'cent' is not in list\n",
      "Encountered ValueError on line 457 of main.py: 'cent' is not in list\n",
      "Encountered ValueError on line 457 of main.py: 'cent' is not in list\n",
      "Encountered ValueError on line 457 of main.py: 'cent' is not in list\n",
      "Encountered ValueError on line 457 of main.py: 'cent' is not in list\n",
      "Encountered ValueError on line 457 of main.py: 'cent' is not in list\n",
      "Encountered ValueError on line 457 of main.py: 'cent' is not in list\n",
      "Encountered ValueError on line 457 of main.py: 'cent' is not in list\n",
      "Encountered ValueError on line 457 of main.py: 'cent' is not in list\n",
      "Encountered ValueError on line 457 of main.py: 'cent' is not in list\n",
      "Encountered ValueError on line 457 of main.py: 'cent' is not in list\n",
      "Encountered ValueError on line 457 of main.py: 'cent' is not in list\n",
      "Encountered ValueError on line 457 of main.py: 'cent' is not in list\n",
      "Encountered ValueError on line 457 of main.py: 'cent' is not in list\n",
      "Encountered ValueError on line 457 of main.py: 'cent' is not in list\n",
      "Encountered ValueError on line 457 of main.py: 'cent' is not in list\n",
      "Encountered ValueError on line 457 of main.py: 'cent' is not in list\n",
      "Encountered ValueError on line 457 of main.py: 'cent' is not in list\n",
      "Encountered ValueError on line 457 of main.py: 'cent' is not in list\n",
      "Encountered ValueError on line 457 of main.py: 'cent' is not in list\n",
      "Encountered ValueError on line 457 of main.py: 'cent' is not in list\n",
      "Encountered ValueError on line 457 of main.py: 'cent' is not in list\n",
      "Encountered ValueError on line 457 of main.py: 'cent' is not in list\n",
      "Encountered ValueError on line 457 of main.py: 'cent' is not in list\n",
      "Encountered ValueError on line 457 of main.py: 'Guard' is not in list\n",
      "Encountered ValueError on line 457 of main.py: 'Cent' is not in list\n",
      "Encountered ValueError on line 457 of main.py: 'Post' is not in list\n",
      "Encountered ValueError on line 457 of main.py: 'Mint' is not in list\n",
      "Encountered ValueError on line 457 of main.py: 'Mint' is not in list\n",
      "Encountered ValueError on line 457 of main.py: 'Mint' is not in list\n",
      "Encountered ValueError on line 457 of main.py: 'Mint' is not in list\n",
      "Encountered ValueError on line 457 of main.py: 'Mint' is not in list\n",
      "Encountered ValueError on line 457 of main.py: 'Mint' is not in list\n",
      "Encountered ValueError on line 457 of main.py: 'Mint' is not in list\n",
      "Encountered ValueError on line 457 of main.py: 'Nation' is not in list\n",
      "Encountered ValueError on line 457 of main.py: 'Mint' is not in list\n",
      "Encountered ValueError on line 457 of main.py: 'Mint' is not in list\n",
      "Encountered ValueError on line 457 of main.py: 'Mint' is not in list\n",
      "Encountered ValueError on line 457 of main.py: 'Mint' is not in list\n",
      "Encountered ValueError on line 457 of main.py: 'Mint' is not in list\n",
      "Encountered ValueError on line 457 of main.py: 'Mint' is not in list\n",
      "Encountered ValueError on line 457 of main.py: 'Mint' is not in list\n",
      "Encountered ValueError on line 457 of main.py: 'nickel' is not in list\n",
      "Encountered ValueError on line 457 of main.py: 'nickel' is not in list\n",
      "Encountered ValueError on line 457 of main.py: 'Mint' is not in list\n",
      "Encountered ValueError on line 457 of main.py: 'Mint' is not in list\n",
      "Encountered ValueError on line 457 of main.py: 'Mint' is not in list\n",
      "Encountered ValueError on line 457 of main.py: 'Mint' is not in list\n",
      "Encountered ValueError on line 457 of main.py: 'Mint' is not in list\n",
      "Encountered ValueError on line 457 of main.py: 'Mint' is not in list\n",
      "Encountered ValueError on line 457 of main.py: 'Mint' is not in list\n",
      "Encountered ValueError on line 457 of main.py: 'nickel' is not in list\n",
      "Encountered ValueError on line 457 of main.py: 'nickel' is not in list\n",
      "Encountered ValueError on line 457 of main.py: 'Mint' is not in list\n",
      "Encountered ValueError on line 457 of main.py: 'Mint' is not in list\n",
      "Encountered ValueError on line 457 of main.py: 'Mint' is not in list\n",
      "Encountered ValueError on line 457 of main.py: 'Mint' is not in list\n",
      "Encountered ValueError on line 457 of main.py: 'Mint' is not in list\n",
      "Encountered ValueError on line 457 of main.py: 'Mint' is not in list\n",
      "Encountered ValueError on line 457 of main.py: 'Mint' is not in list\n",
      "Encountered ValueError on line 457 of main.py: 'nickel' is not in list\n",
      "Encountered ValueError on line 457 of main.py: 'nickel' is not in list\n",
      "Encountered ValueError on line 457 of main.py: 'Mint' is not in list\n",
      "Encountered ValueError on line 457 of main.py: 'Mint' is not in list\n",
      "Encountered ValueError on line 457 of main.py: 'Mint' is not in list\n",
      "Encountered ValueError on line 457 of main.py: 'Mint' is not in list\n",
      "Encountered ValueError on line 457 of main.py: 'Mint' is not in list\n",
      "Encountered ValueError on line 457 of main.py: 'Mint' is not in list\n",
      "Encountered ValueError on line 457 of main.py: 'Mint' is not in list\n",
      "Encountered ValueError on line 457 of main.py: 'Mint' is not in list\n",
      "Encountered ValueError on line 457 of main.py: 'Mint' is not in list\n",
      "Encountered ValueError on line 457 of main.py: 'Mint' is not in list\n",
      "Encountered ValueError on line 457 of main.py: 'Mint' is not in list\n",
      "Encountered ValueError on line 457 of main.py: 'Mint' is not in list\n",
      "Encountered ValueError on line 457 of main.py: 'Mint' is not in list\n",
      "Encountered ValueError on line 457 of main.py: 'Mint' is not in list\n"
     ]
    },
    {
     "name": "stdout",
     "output_type": "stream",
     "text": [
      "[reRank_relations]: name a fruit composed of Citrullus lanatus that starts Offevolved with letter W \n",
      "SPARQL Requests Made: 135 \n",
      "SPARQL Requests Total Time: 104.21577763557434 \n",
      "SPARQL Avg Time per Qn: 0.7719687232264766\n"
     ]
    },
    {
     "name": "stdout",
     "output_type": "stream",
     "text": [
      "[reRank_relations]: which dialect composed from Romy Schneider, has the syntactic individual talking as the third individual plural \n",
      "SPARQL Requests Made: 360 \n",
      "SPARQL Requests Total Time: 280.15268635749817 \n",
      "SPARQL Avg Time per Qn: 0.778201906548606\n"
     ]
    },
    {
     "name": "stdout",
     "output_type": "stream",
     "text": [
      "[reRank_relations]: title a Nonmetal found in Britain that begins with letter O \n",
      "SPARQL Requests Made: 560 \n",
      "SPARQL Requests Total Time: 435.97306084632874 \n",
      "SPARQL Avg Time per Qn: 0.7785233229398727\n"
     ]
    },
    {
     "name": "stdout",
     "output_type": "stream",
     "text": [
      "[reRank_relations]: what position did John Hume hold, when was once he elected, and what function did he hold in the 53rd Parliament of the United Kingdom \n",
      "SPARQL Requests Made: 611 \n",
      "SPARQL Requests Total Time: 475.30436158180237 \n",
      "SPARQL Avg Time per Qn: 0.7779122120815096\n"
     ]
    },
    {
     "name": "stdout",
     "output_type": "stream",
     "text": [
      "[reRank_relations]: how many people do currently live in Aden \n",
      "SPARQL Requests Made: 230 \n",
      "SPARQL Requests Total Time: 177.26866173744202 \n",
      "SPARQL Avg Time per Qn: 0.7707333119019218\n"
     ]
    },
    {
     "name": "stdout",
     "output_type": "stream",
     "text": [
      "[reRank_relations]: which dialect composed from Romy Schneider, has the syntactic individual talking as the third individual plural \n",
      "SPARQL Requests Made: 450 \n",
      "SPARQL Requests Total Time: 346.06132411956787 \n",
      "SPARQL Avg Time per Qn: 0.7690251647101508\n",
      "[reRank_relations]: which dialect composed from Romy Schneider, has the syntactic individual talking as the third individual plural \n",
      "SPARQL Requests Made: 0 \n",
      "SPARQL Requests Total Time: 0 \n",
      "SPARQL Avg Time per Qn: 0\n"
     ]
    },
    {
     "name": "stdout",
     "output_type": "stream",
     "text": [
      "[reRank_relations]: title a Nonmetal found in Britain that begins with letter O \n",
      "SPARQL Requests Made: 586 \n",
      "SPARQL Requests Total Time: 453.2194812297821 \n",
      "SPARQL Avg Time per Qn: 0.773412084009867\n"
     ]
    },
    {
     "name": "stdout",
     "output_type": "stream",
     "text": [
      "[reRank_relations]: what position did John Hume hold, when was once he elected, and what function did he hold in the 53rd Parliament of the United Kingdom \n",
      "SPARQL Requests Made: 918 \n",
      "SPARQL Requests Total Time: 706.6076555252075 \n",
      "SPARQL Avg Time per Qn: 0.7697251149512064\n"
     ]
    },
    {
     "name": "stdout",
     "output_type": "stream",
     "text": [
      "[reRank_relations]: title a Nonmetal found in Britain that begins with letter O \n",
      "SPARQL Requests Made: 502 \n",
      "SPARQL Requests Total Time: 387.1869406700134 \n",
      "SPARQL Avg Time per Qn: 0.7712887264342897\n"
     ]
    },
    {
     "name": "stdout",
     "output_type": "stream",
     "text": [
      "[reRank_relations]: what position did John Hume hold, when was once he elected, and what function did he hold in the 53rd Parliament of the United Kingdom \n",
      "SPARQL Requests Made: 611 \n",
      "SPARQL Requests Total Time: 467.17275643348694 \n",
      "SPARQL Avg Time per Qn: 0.7646035293510425\n"
     ]
    },
    {
     "ename": "KeyboardInterrupt",
     "evalue": "",
     "output_type": "error",
     "traceback": [
      "\u001b[0;31m---------------------------------------------------------------------------\u001b[0m",
      "\u001b[0;31mKeyboardInterrupt\u001b[0m                         Traceback (most recent call last)",
      "Cell \u001b[0;32mIn[10], line 23\u001b[0m\n\u001b[1;32m     21\u001b[0m \u001b[38;5;28mprint\u001b[39m(\u001b[38;5;124m\"\u001b[39m\u001b[38;5;124m[Pipeline1]:\u001b[39m\u001b[38;5;124m\"\u001b[39m, \u001b[38;5;124mf\u001b[39m\u001b[38;5;124m\"\u001b[39m\u001b[38;5;124mLinking \u001b[39m\u001b[38;5;132;01m{\u001b[39;00mlast\u001b[38;5;132;01m}\u001b[39;00m\u001b[38;5;124m-\u001b[39m\u001b[38;5;132;01m{\u001b[39;00mi\u001b[38;5;132;01m}\u001b[39;00m\u001b[38;5;124m\"\u001b[39m)\n\u001b[1;32m     22\u001b[0m \u001b[38;5;28;01mtry\u001b[39;00m:\n\u001b[0;32m---> 23\u001b[0m     \u001b[38;5;28;01mfor\u001b[39;00m linked, annotated, converted \u001b[38;5;129;01min\u001b[39;00m \u001b[43mpipe_batch\u001b[49m\u001b[43m(\u001b[49m\u001b[43mbatch_qns\u001b[49m\u001b[43m,\u001b[49m\u001b[43m \u001b[49m\u001b[43mbatch_ans\u001b[49m\u001b[43m)\u001b[49m:\n\u001b[1;32m     24\u001b[0m         responses\u001b[38;5;241m.\u001b[39mappend([linked, annotated, converted])\n\u001b[1;32m     25\u001b[0m     batch_qns \u001b[38;5;241m=\u001b[39m []\n",
      "Cell \u001b[0;32mIn[6], line 4\u001b[0m, in \u001b[0;36mpipe_batch\u001b[0;34m(utterances, wikisparqls)\u001b[0m\n\u001b[1;32m      2\u001b[0m batched \u001b[38;5;241m=\u001b[39m []\n\u001b[1;32m      3\u001b[0m link_batch_start \u001b[38;5;241m=\u001b[39m time\u001b[38;5;241m.\u001b[39mtime()\n\u001b[0;32m----> 4\u001b[0m linked \u001b[38;5;241m=\u001b[39m \u001b[43mlinker\u001b[49m\u001b[38;5;241;43m.\u001b[39;49m\u001b[43mlink_batch\u001b[49m\u001b[43m(\u001b[49m\u001b[43mutterances\u001b[49m\u001b[43m)\u001b[49m\n\u001b[1;32m      5\u001b[0m link_batch_end \u001b[38;5;241m=\u001b[39m time\u001b[38;5;241m.\u001b[39mtime()\n\u001b[1;32m      6\u001b[0m annotator_time \u001b[38;5;241m=\u001b[39m \u001b[38;5;241m0\u001b[39m\n",
      "File \u001b[0;32m~/falcon2.0/pipeline/Falcon2Linker.py:38\u001b[0m, in \u001b[0;36mFalcon2Linker.link_batch\u001b[0;34m(self, utterances)\u001b[0m\n\u001b[1;32m     37\u001b[0m \u001b[38;5;28;01mdef\u001b[39;00m \u001b[38;5;21mlink_batch\u001b[39m(\u001b[38;5;28mself\u001b[39m, utterances):\n\u001b[0;32m---> 38\u001b[0m   falcon2_batch_response \u001b[38;5;241m=\u001b[39m \u001b[38;5;28;43mself\u001b[39;49m\u001b[38;5;241;43m.\u001b[39;49m\u001b[43mlink_falcon2_batch\u001b[49m\u001b[43m(\u001b[49m\u001b[43mutterances\u001b[49m\u001b[43m)\u001b[49m\n\u001b[1;32m     39\u001b[0m   \u001b[38;5;28;01massert\u001b[39;00m \u001b[38;5;28mlen\u001b[39m(falcon2_batch_response) \u001b[38;5;241m==\u001b[39m \u001b[38;5;28mlen\u001b[39m(utterances)\n\u001b[1;32m     40\u001b[0m   results \u001b[38;5;241m=\u001b[39m []\n",
      "File \u001b[0;32m~/falcon2.0/pipeline/Falcon2Linker.py:82\u001b[0m, in \u001b[0;36mFalcon2Linker.link_falcon2_batch\u001b[0;34m(self, utterances)\u001b[0m\n\u001b[1;32m     80\u001b[0m   text\u001b[38;5;241m=\u001b[39mtext\u001b[38;5;241m.\u001b[39mreplace(\u001b[38;5;124m\"\u001b[39m\u001b[38;5;124m'\u001b[39m\u001b[38;5;124m\"\u001b[39m,\u001b[38;5;124m\"\u001b[39m\u001b[38;5;124m\"\u001b[39m)\n\u001b[1;32m     81\u001b[0m   utterances[i] \u001b[38;5;241m=\u001b[39m text\n\u001b[0;32m---> 82\u001b[0m pooled_links \u001b[38;5;241m=\u001b[39m \u001b[43mlink_batch\u001b[49m\u001b[43m(\u001b[49m\u001b[43mutterances\u001b[49m\u001b[43m)\u001b[49m\n\u001b[1;32m     83\u001b[0m results \u001b[38;5;241m=\u001b[39m []\n\u001b[1;32m     84\u001b[0m \u001b[38;5;28;01mfor\u001b[39;00m r \u001b[38;5;129;01min\u001b[39;00m pooled_links:\n",
      "File \u001b[0;32m~/falcon2.0/main.py:867\u001b[0m, in \u001b[0;36mlink_batch\u001b[0;34m(texts, rules)\u001b[0m\n\u001b[1;32m    865\u001b[0m threading \u001b[38;5;241m=\u001b[39m \u001b[38;5;28;01mTrue\u001b[39;00m\n\u001b[1;32m    866\u001b[0m results \u001b[38;5;241m=\u001b[39m []\n\u001b[0;32m--> 867\u001b[0m \u001b[38;5;28;01mfor\u001b[39;00m response \u001b[38;5;129;01min\u001b[39;00m \u001b[43mprocess_texts_E_R\u001b[49m\u001b[43m(\u001b[49m\u001b[43mtexts\u001b[49m\u001b[43m,\u001b[49m\u001b[43m \u001b[49m\u001b[43mrules\u001b[49m\u001b[43m)\u001b[49m:\n\u001b[1;32m    868\u001b[0m     single_result \u001b[38;5;241m=\u001b[39m {\n\u001b[1;32m    869\u001b[0m         \u001b[38;5;124m\"\u001b[39m\u001b[38;5;124mentities_wikidata\u001b[39m\u001b[38;5;124m\"\u001b[39m: [],\n\u001b[1;32m    870\u001b[0m         \u001b[38;5;124m\"\u001b[39m\u001b[38;5;124mrelations_wikidata\u001b[39m\u001b[38;5;124m\"\u001b[39m: [],\n\u001b[1;32m    871\u001b[0m     }\n\u001b[1;32m    872\u001b[0m     entities \u001b[38;5;241m=\u001b[39m single_result[\u001b[38;5;124m\"\u001b[39m\u001b[38;5;124mentities_wikidata\u001b[39m\u001b[38;5;124m\"\u001b[39m]\n",
      "File \u001b[0;32m~/falcon2.0/main.py:402\u001b[0m, in \u001b[0;36mprocess_texts_E_R\u001b[0;34m(questions, rules, k)\u001b[0m\n\u001b[1;32m    400\u001b[0m \u001b[38;5;28;01mif\u001b[39;00m threading:\n\u001b[1;32m    401\u001b[0m     pool \u001b[38;5;241m=\u001b[39m ThreadPool()\n\u001b[0;32m--> 402\u001b[0m     map_results \u001b[38;5;241m=\u001b[39m \u001b[43mpool\u001b[49m\u001b[38;5;241;43m.\u001b[39;49m\u001b[43mmap\u001b[49m\u001b[43m(\u001b[49m\u001b[38;5;28;43;01mlambda\u001b[39;49;00m\u001b[43m \u001b[49m\u001b[43mq\u001b[49m\u001b[43m:\u001b[49m\u001b[43m \u001b[49m\u001b[43mevaluate\u001b[49m\u001b[43m(\u001b[49m\u001b[43m[\u001b[49m\u001b[43mq\u001b[49m\u001b[43m]\u001b[49m\u001b[43m,\u001b[49m\u001b[43m \u001b[49m\u001b[43mrules\u001b[49m\u001b[43m,\u001b[49m\u001b[43m \u001b[49m\u001b[43mevaluation\u001b[49m\u001b[38;5;241;43m=\u001b[39;49m\u001b[38;5;28;43;01mFalse\u001b[39;49;00m\u001b[43m)\u001b[49m\u001b[43m,\u001b[49m\u001b[43m \u001b[49m\u001b[43mquestions\u001b[49m\u001b[43m)\u001b[49m\n\u001b[1;32m    403\u001b[0m     pool\u001b[38;5;241m.\u001b[39mclose()\n\u001b[1;32m    404\u001b[0m     pool\u001b[38;5;241m.\u001b[39mjoin()\n",
      "File \u001b[0;32m~/anaconda3/envs/falcon2/lib/python3.10/multiprocessing/pool.py:367\u001b[0m, in \u001b[0;36mPool.map\u001b[0;34m(self, func, iterable, chunksize)\u001b[0m\n\u001b[1;32m    362\u001b[0m \u001b[38;5;28;01mdef\u001b[39;00m \u001b[38;5;21mmap\u001b[39m(\u001b[38;5;28mself\u001b[39m, func, iterable, chunksize\u001b[38;5;241m=\u001b[39m\u001b[38;5;28;01mNone\u001b[39;00m):\n\u001b[1;32m    363\u001b[0m \u001b[38;5;250m    \u001b[39m\u001b[38;5;124;03m'''\u001b[39;00m\n\u001b[1;32m    364\u001b[0m \u001b[38;5;124;03m    Apply `func` to each element in `iterable`, collecting the results\u001b[39;00m\n\u001b[1;32m    365\u001b[0m \u001b[38;5;124;03m    in a list that is returned.\u001b[39;00m\n\u001b[1;32m    366\u001b[0m \u001b[38;5;124;03m    '''\u001b[39;00m\n\u001b[0;32m--> 367\u001b[0m     \u001b[38;5;28;01mreturn\u001b[39;00m \u001b[38;5;28;43mself\u001b[39;49m\u001b[38;5;241;43m.\u001b[39;49m\u001b[43m_map_async\u001b[49m\u001b[43m(\u001b[49m\u001b[43mfunc\u001b[49m\u001b[43m,\u001b[49m\u001b[43m \u001b[49m\u001b[43miterable\u001b[49m\u001b[43m,\u001b[49m\u001b[43m \u001b[49m\u001b[43mmapstar\u001b[49m\u001b[43m,\u001b[49m\u001b[43m \u001b[49m\u001b[43mchunksize\u001b[49m\u001b[43m)\u001b[49m\u001b[38;5;241;43m.\u001b[39;49m\u001b[43mget\u001b[49m\u001b[43m(\u001b[49m\u001b[43m)\u001b[49m\n",
      "File \u001b[0;32m~/anaconda3/envs/falcon2/lib/python3.10/multiprocessing/pool.py:768\u001b[0m, in \u001b[0;36mApplyResult.get\u001b[0;34m(self, timeout)\u001b[0m\n\u001b[1;32m    767\u001b[0m \u001b[38;5;28;01mdef\u001b[39;00m \u001b[38;5;21mget\u001b[39m(\u001b[38;5;28mself\u001b[39m, timeout\u001b[38;5;241m=\u001b[39m\u001b[38;5;28;01mNone\u001b[39;00m):\n\u001b[0;32m--> 768\u001b[0m     \u001b[38;5;28;43mself\u001b[39;49m\u001b[38;5;241;43m.\u001b[39;49m\u001b[43mwait\u001b[49m\u001b[43m(\u001b[49m\u001b[43mtimeout\u001b[49m\u001b[43m)\u001b[49m\n\u001b[1;32m    769\u001b[0m     \u001b[38;5;28;01mif\u001b[39;00m \u001b[38;5;129;01mnot\u001b[39;00m \u001b[38;5;28mself\u001b[39m\u001b[38;5;241m.\u001b[39mready():\n\u001b[1;32m    770\u001b[0m         \u001b[38;5;28;01mraise\u001b[39;00m \u001b[38;5;167;01mTimeoutError\u001b[39;00m\n",
      "File \u001b[0;32m~/anaconda3/envs/falcon2/lib/python3.10/multiprocessing/pool.py:765\u001b[0m, in \u001b[0;36mApplyResult.wait\u001b[0;34m(self, timeout)\u001b[0m\n\u001b[1;32m    764\u001b[0m \u001b[38;5;28;01mdef\u001b[39;00m \u001b[38;5;21mwait\u001b[39m(\u001b[38;5;28mself\u001b[39m, timeout\u001b[38;5;241m=\u001b[39m\u001b[38;5;28;01mNone\u001b[39;00m):\n\u001b[0;32m--> 765\u001b[0m     \u001b[38;5;28;43mself\u001b[39;49m\u001b[38;5;241;43m.\u001b[39;49m\u001b[43m_event\u001b[49m\u001b[38;5;241;43m.\u001b[39;49m\u001b[43mwait\u001b[49m\u001b[43m(\u001b[49m\u001b[43mtimeout\u001b[49m\u001b[43m)\u001b[49m\n",
      "File \u001b[0;32m~/anaconda3/envs/falcon2/lib/python3.10/threading.py:607\u001b[0m, in \u001b[0;36mEvent.wait\u001b[0;34m(self, timeout)\u001b[0m\n\u001b[1;32m    605\u001b[0m signaled \u001b[38;5;241m=\u001b[39m \u001b[38;5;28mself\u001b[39m\u001b[38;5;241m.\u001b[39m_flag\n\u001b[1;32m    606\u001b[0m \u001b[38;5;28;01mif\u001b[39;00m \u001b[38;5;129;01mnot\u001b[39;00m signaled:\n\u001b[0;32m--> 607\u001b[0m     signaled \u001b[38;5;241m=\u001b[39m \u001b[38;5;28;43mself\u001b[39;49m\u001b[38;5;241;43m.\u001b[39;49m\u001b[43m_cond\u001b[49m\u001b[38;5;241;43m.\u001b[39;49m\u001b[43mwait\u001b[49m\u001b[43m(\u001b[49m\u001b[43mtimeout\u001b[49m\u001b[43m)\u001b[49m\n\u001b[1;32m    608\u001b[0m \u001b[38;5;28;01mreturn\u001b[39;00m signaled\n",
      "File \u001b[0;32m~/anaconda3/envs/falcon2/lib/python3.10/threading.py:320\u001b[0m, in \u001b[0;36mCondition.wait\u001b[0;34m(self, timeout)\u001b[0m\n\u001b[1;32m    318\u001b[0m \u001b[38;5;28;01mtry\u001b[39;00m:    \u001b[38;5;66;03m# restore state no matter what (e.g., KeyboardInterrupt)\u001b[39;00m\n\u001b[1;32m    319\u001b[0m     \u001b[38;5;28;01mif\u001b[39;00m timeout \u001b[38;5;129;01mis\u001b[39;00m \u001b[38;5;28;01mNone\u001b[39;00m:\n\u001b[0;32m--> 320\u001b[0m         \u001b[43mwaiter\u001b[49m\u001b[38;5;241;43m.\u001b[39;49m\u001b[43macquire\u001b[49m\u001b[43m(\u001b[49m\u001b[43m)\u001b[49m\n\u001b[1;32m    321\u001b[0m         gotit \u001b[38;5;241m=\u001b[39m \u001b[38;5;28;01mTrue\u001b[39;00m\n\u001b[1;32m    322\u001b[0m     \u001b[38;5;28;01melse\u001b[39;00m:\n",
      "\u001b[0;31mKeyboardInterrupt\u001b[0m: "
     ]
    }
   ],
   "source": [
    "responses = []\n",
    "batch_qns = []\n",
    "batch_ans = []\n",
    "truncated_data = data_dict[:6000]\n",
    "total_len = len(truncated_data)\n",
    "last = 0\n",
    "for i, data in enumerate(truncated_data):\n",
    "    print(\"Pipeline iter\", i)\n",
    "    question = data[\"new_question\"]\n",
    "    answer = data[\"sparql_wikidata\"]\n",
    "    # try\n",
    "    #     linked, annotated, converted = pipe(question, answer)\n",
    "    # except Exception as e:\n",
    "    #     print(e)\n",
    "    #     continue\n",
    "    # responses.append([linked, annotated, converted])\n",
    "    if (question and answer) and len(question) >= 2:\n",
    "        batch_qns.append(question)\n",
    "        batch_ans.append(answer)\n",
    "    if ((i + 1) % 50) == 0 or i == total_len - 1:\n",
    "        print(\"[Pipeline1]:\", f\"Linking {last}-{i}\")\n",
    "        try:\n",
    "            for linked, annotated, converted in pipe_batch(batch_qns, batch_ans):\n",
    "                responses.append([linked, annotated, converted])\n",
    "            batch_qns = []\n",
    "            batch_ans = []\n",
    "            last = i\n",
    "        except Exception as e:\n",
    "            raise e\n",
    "            # print(e)\n",
    "            # continue\n",
    "        with open(f\"../t5-for-sparql/falcon_links/2/link_{i}.json\", \"w\") as f:\n",
    "            json.dump(responses, f, indent=2, separators=(',',':'))"
   ]
  },
  {
   "cell_type": "code",
   "execution_count": null,
   "id": "026f19c8",
   "metadata": {
    "papermill": {
     "duration": null,
     "end_time": null,
     "exception": null,
     "start_time": null,
     "status": "completed"
    },
    "tags": []
   },
   "outputs": [],
   "source": [
    "# qns = ['What is the operating income for Qantas?', 'What is Mary Lou Rettons International Olympic Committee athlete ID.']\n",
    "# l = linker.link_batch(qns)\n",
    "# print(l)"
   ]
  },
  {
   "cell_type": "code",
   "execution_count": null,
   "id": "f307e8dc",
   "metadata": {
    "papermill": {
     "duration": null,
     "end_time": null,
     "exception": null,
     "start_time": null,
     "status": "completed"
    },
    "tags": []
   },
   "outputs": [],
   "source": [
    "with open(\"home.json\", \"w\") as f:\n",
    "  json.dump(responses, f, indent=2 ,separators=(',', ': '))"
   ]
  }
 ],
 "metadata": {
  "kernelspec": {
   "display_name": "py310",
   "language": "python",
   "name": "python3"
  },
  "language_info": {
   "codemirror_mode": {
    "name": "ipython",
    "version": 3
   },
   "file_extension": ".py",
   "mimetype": "text/x-python",
   "name": "python",
   "nbconvert_exporter": "python",
   "pygments_lexer": "ipython3",
   "version": "3.10.11"
  },
  "papermill": {
   "default_parameters": {},
   "duration": 43182.293211,
   "end_time": "2023-07-14T02:40:59.679643",
   "environment_variables": {},
   "exception": null,
   "input_path": "pipeline1.ipynb",
   "output_path": "pipeline1-home.papermill.ipynb",
   "parameters": {},
   "start_time": "2023-07-13T14:41:17.386432",
   "version": "2.4.0"
  }
 },
 "nbformat": 4,
 "nbformat_minor": 5
}
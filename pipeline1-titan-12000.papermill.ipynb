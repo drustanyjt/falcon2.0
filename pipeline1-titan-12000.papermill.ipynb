{
 "cells": [
  {
   "cell_type": "markdown",
   "id": "1fea3567",
   "metadata": {
    "tags": [
     "papermill-error-cell-tag"
    ]
   },
   "source": [
    "<span style=\"color:red; font-family:Helvetica Neue, Helvetica, Arial, sans-serif; font-size:2em;\">An Exception was encountered at '<a href=\"#papermill-error-cell\">In [9]</a>'.</span>"
   ]
  },
  {
   "attachments": {},
   "cell_type": "markdown",
   "id": "c3a7c7a0",
   "metadata": {
    "papermill": {
     "duration": 0.005998,
     "end_time": "2023-07-13T02:58:49.815835",
     "exception": false,
     "start_time": "2023-07-13T02:58:49.809837",
     "status": "completed"
    },
    "tags": []
   },
   "source": [
    "# Pipeline 1"
   ]
  },
  {
   "cell_type": "code",
   "execution_count": 1,
   "id": "12ce87fa",
   "metadata": {
    "execution": {
     "iopub.execute_input": "2023-07-13T02:58:49.828943Z",
     "iopub.status.busy": "2023-07-13T02:58:49.828270Z",
     "iopub.status.idle": "2023-07-13T02:58:54.141195Z",
     "shell.execute_reply": "2023-07-13T02:58:54.138913Z"
    },
    "papermill": {
     "duration": 4.324172,
     "end_time": "2023-07-13T02:58:54.145015",
     "exception": false,
     "start_time": "2023-07-13T02:58:49.820843",
     "status": "completed"
    },
    "tags": []
   },
   "outputs": [],
   "source": [
    "from pipeline import Falcon2Linker, SerialAnnotator, T5Converter\n",
    "import time\n",
    "from pprint import pprint"
   ]
  },
  {
   "cell_type": "code",
   "execution_count": 2,
   "id": "1330c294",
   "metadata": {
    "execution": {
     "iopub.execute_input": "2023-07-13T02:58:54.161982Z",
     "iopub.status.busy": "2023-07-13T02:58:54.161286Z",
     "iopub.status.idle": "2023-07-13T02:58:54.178085Z",
     "shell.execute_reply": "2023-07-13T02:58:54.176896Z"
    },
    "papermill": {
     "duration": 0.031428,
     "end_time": "2023-07-13T02:58:54.180991",
     "exception": false,
     "start_time": "2023-07-13T02:58:54.149563",
     "status": "completed"
    },
    "tags": []
   },
   "outputs": [],
   "source": [
    "linker = Falcon2Linker()\n",
    "annotator = SerialAnnotator()\n",
    "converter = T5Converter()"
   ]
  },
  {
   "cell_type": "code",
   "execution_count": 3,
   "id": "d4b0f650",
   "metadata": {
    "execution": {
     "iopub.execute_input": "2023-07-13T02:58:54.197481Z",
     "iopub.status.busy": "2023-07-13T02:58:54.196984Z",
     "iopub.status.idle": "2023-07-13T02:58:54.203119Z",
     "shell.execute_reply": "2023-07-13T02:58:54.201932Z"
    },
    "papermill": {
     "duration": 0.020266,
     "end_time": "2023-07-13T02:58:54.205551",
     "exception": false,
     "start_time": "2023-07-13T02:58:54.185285",
     "status": "completed"
    },
    "tags": []
   },
   "outputs": [],
   "source": [
    "utterance = \"Who is the wife of Barack Obama\""
   ]
  },
  {
   "cell_type": "code",
   "execution_count": 4,
   "id": "937fad13",
   "metadata": {
    "execution": {
     "iopub.execute_input": "2023-07-13T02:58:54.223476Z",
     "iopub.status.busy": "2023-07-13T02:58:54.223021Z",
     "iopub.status.idle": "2023-07-13T02:59:03.779564Z",
     "shell.execute_reply": "2023-07-13T02:59:03.777583Z"
    },
    "papermill": {
     "duration": 9.574202,
     "end_time": "2023-07-13T02:59:03.783046",
     "exception": false,
     "start_time": "2023-07-13T02:58:54.208844",
     "status": "completed"
    },
    "tags": []
   },
   "outputs": [
    {
     "name": "stdout",
     "output_type": "stream",
     "text": [
      "recieved utterance\n",
      "0 : ['Who is the wife of Barack Obama']\n"
     ]
    },
    {
     "name": "stdout",
     "output_type": "stream",
     "text": [
      "[reRank_relations]: who is the wife of Barack Obama \n",
      "SPARQL Requests Made: 1 \n",
      "SPARQL Requests Total Time: 0.7170863151550293 \n",
      "SPARQL Avg Time per Qn: 0.7170863151550293\n",
      "['Who is the wife of Barack Obama', [['<http://www.wikidata.org/entity/P26>', 'wife'], ['<http://www.wikidata.org/entity/P2848>', 'wife'], ['<http://www.wikidata.org/entity/P140>', 'wife'], ['<http://www.wikidata.org/entity/P451>', 'wife'], ['<http://www.wikidata.org/entity/P600>', 'wife']], [['<http://www.wikidata.org/entity/Q76>', 'Barack obama'], ['<http://www.wikidata.org/entity/Q649593>', 'Barack obama'], ['<http://www.wikidata.org/entity/Q4808526>', 'Barack obama'], ['<http://www.wikidata.org/entity/Q4858106>', 'Barack obama'], ['<http://www.wikidata.org/entity/Q643049>', 'Barack obama']], 0, 0, 0, 0]\n",
      "'Linked'\n",
      "{'ents': [{'id': 'Q76',\n",
      "           'prefix': 'wd:',\n",
      "           'uri': 'http://www.wikidata.org/entity/Q76'},\n",
      "          {'id': 'Q649593',\n",
      "           'prefix': 'wd:',\n",
      "           'uri': 'http://www.wikidata.org/entity/Q649593'},\n",
      "          {'id': 'Q4808526',\n",
      "           'prefix': 'wd:',\n",
      "           'uri': 'http://www.wikidata.org/entity/Q4808526'},\n",
      "          {'id': 'Q4858106',\n",
      "           'prefix': 'wd:',\n",
      "           'uri': 'http://www.wikidata.org/entity/Q4858106'},\n",
      "          {'id': 'Q643049',\n",
      "           'prefix': 'wd:',\n",
      "           'uri': 'http://www.wikidata.org/entity/Q643049'}],\n",
      " 'rels': [{'id': 'P26',\n",
      "           'prefix': 'wdt:',\n",
      "           'uri': 'http://www.wikidata.org/prop/direct/P26'},\n",
      "          {'id': 'P2848',\n",
      "           'prefix': 'wdt:',\n",
      "           'uri': 'http://www.wikidata.org/prop/direct/P2848'},\n",
      "          {'id': 'P140',\n",
      "           'prefix': 'wdt:',\n",
      "           'uri': 'http://www.wikidata.org/prop/direct/P140'},\n",
      "          {'id': 'P451',\n",
      "           'prefix': 'wdt:',\n",
      "           'uri': 'http://www.wikidata.org/prop/direct/P451'},\n",
      "          {'id': 'P600',\n",
      "           'prefix': 'wdt:',\n",
      "           'uri': 'http://www.wikidata.org/prop/direct/P600'}],\n",
      " 'utterance': 'Who is the wife of Barack Obama'}\n",
      "'Annotated'\n"
     ]
    },
    {
     "name": "stdout",
     "output_type": "stream",
     "text": [
      "{'fragments': ['[DEF]',\n",
      "               'wd:',\n",
      "               'Q76 Barack Obama',\n",
      "               '[DEF]',\n",
      "               'wd:',\n",
      "               'Q649593 Barack Obama Sr.',\n",
      "               '[DEF]',\n",
      "               'wd:',\n",
      "               'Q4808526 assassination threats against Barack Obama',\n",
      "               '[DEF]',\n",
      "               'wd:',\n",
      "               'Q4858106 Barack Obama Academy',\n",
      "               '[DEF]',\n",
      "               'wd:',\n",
      "               'Q643049 family of Barack Obama',\n",
      "               '[DEF]',\n",
      "               'wdt:',\n",
      "               'P26 spouse',\n",
      "               '[DEF]',\n",
      "               'wdt:',\n",
      "               'P2848 Wi-Fi access',\n",
      "               '[DEF]',\n",
      "               'wdt:',\n",
      "               'P140 religion',\n",
      "               '[DEF]',\n",
      "               'wdt:',\n",
      "               'P451 unmarried partner',\n",
      "               '[DEF]',\n",
      "               'wdt:',\n",
      "               'P600 Wine AppDB ID'],\n",
      " 'utterance': 'Who is the wife of Barack Obama'}\n",
      "'Converted'\n",
      "('Who is the wife of Barack Obama <extra_id_59> <extra_id_53> Q76 Barack Obama '\n",
      " '<extra_id_59> <extra_id_53> Q649593 Barack Obama Sr. <extra_id_59> '\n",
      " '<extra_id_53> Q4808526 assassination threats against Barack Obama '\n",
      " '<extra_id_59> <extra_id_53> Q4858106 Barack Obama Academy <extra_id_59> '\n",
      " '<extra_id_53> Q643049 family of Barack Obama <extra_id_59> <extra_id_54> P26 '\n",
      " 'spouse <extra_id_59> <extra_id_54> P2848 Wi-Fi access <extra_id_59> '\n",
      " '<extra_id_54> P140 religion <extra_id_59> <extra_id_54> P451 unmarried '\n",
      " 'partner <extra_id_59> <extra_id_54> P600 Wine AppDB ID')\n"
     ]
    }
   ],
   "source": [
    "linked = linker.link(utterance)\n",
    "# rules = [1,2,3,4,5,8,9,10,12,13,14]\n",
    "# linked = process_text_E_R(utterance, rules)\n",
    "pprint(\"Linked\")\n",
    "pprint(linked)\n",
    "\n",
    "pprint(\"Annotated\")\n",
    "annotated = annotator.annotate(**linked)\n",
    "pprint(annotated)\n",
    "\n",
    "pprint(\"Converted\")\n",
    "converted = converter.preprocess_inputs(**annotated)\n",
    "pprint(converted)"
   ]
  },
  {
   "cell_type": "code",
   "execution_count": 5,
   "id": "1ba140f1",
   "metadata": {
    "execution": {
     "iopub.execute_input": "2023-07-13T02:59:03.801343Z",
     "iopub.status.busy": "2023-07-13T02:59:03.800866Z",
     "iopub.status.idle": "2023-07-13T02:59:03.809745Z",
     "shell.execute_reply": "2023-07-13T02:59:03.808590Z"
    },
    "papermill": {
     "duration": 0.023244,
     "end_time": "2023-07-13T02:59:03.812404",
     "exception": false,
     "start_time": "2023-07-13T02:59:03.789160",
     "status": "completed"
    },
    "tags": []
   },
   "outputs": [],
   "source": [
    "def pipe(utterance, wikisparql):\n",
    "    linked = linker.link(utterance)\n",
    "    annotated = annotator.annotate(**linked)\n",
    "    converted = converter.preprocess(**annotated, wikisparql=wikisparql)\n",
    "    return linked, annotated, converted"
   ]
  },
  {
   "cell_type": "code",
   "execution_count": 6,
   "id": "fd679abc",
   "metadata": {
    "execution": {
     "iopub.execute_input": "2023-07-13T02:59:03.826761Z",
     "iopub.status.busy": "2023-07-13T02:59:03.826345Z",
     "iopub.status.idle": "2023-07-13T02:59:03.837939Z",
     "shell.execute_reply": "2023-07-13T02:59:03.836629Z"
    },
    "papermill": {
     "duration": 0.023629,
     "end_time": "2023-07-13T02:59:03.840507",
     "exception": false,
     "start_time": "2023-07-13T02:59:03.816878",
     "status": "completed"
    },
    "tags": []
   },
   "outputs": [],
   "source": [
    "def pipe_batch(utterances, wikisparqls):\n",
    "  batched = []\n",
    "  link_batch_start = time.time()\n",
    "  linked = linker.link_batch(utterances)\n",
    "  link_batch_end = time.time()\n",
    "  annotator_time = 0\n",
    "  converter_time = 0\n",
    "  for i, single_linked in enumerate(linked):\n",
    "    s = time.time()\n",
    "    annotated = annotator.annotate(**single_linked)\n",
    "    e = time.time()\n",
    "    try:\n",
    "      annotator_time += e - s\n",
    "    except Exception as e:\n",
    "      print(\"[Annotator Error]:\", e)\n",
    "      continue\n",
    "    s = time.time()\n",
    "    try:\n",
    "      converted = converter.preprocess(**annotated, wikisparql=wikisparqls[i])\n",
    "    except Exception as e:\n",
    "      print(\"[Converter Error]:\", e)\n",
    "      continue\n",
    "      \n",
    "    e = time.time()\n",
    "    converter_time += e - s\n",
    "    batched.append([single_linked, annotated, converted])\n",
    "  print(\"Link batch time:\", link_batch_end - link_batch_start)\n",
    "  print(\"Anno batch time:\", annotator_time)\n",
    "  print(\"Conv batch time:\", converter_time)\n",
    "  return batched"
   ]
  },
  {
   "attachments": {},
   "cell_type": "markdown",
   "id": "bac7f5e8",
   "metadata": {
    "papermill": {
     "duration": 0.00963,
     "end_time": "2023-07-13T02:59:03.854840",
     "exception": false,
     "start_time": "2023-07-13T02:59:03.845210",
     "status": "completed"
    },
    "tags": []
   },
   "source": [
    "## Data"
   ]
  },
  {
   "cell_type": "code",
   "execution_count": 7,
   "id": "5aae465d",
   "metadata": {
    "execution": {
     "iopub.execute_input": "2023-07-13T02:59:03.878677Z",
     "iopub.status.busy": "2023-07-13T02:59:03.878245Z",
     "iopub.status.idle": "2023-07-13T02:59:05.636841Z",
     "shell.execute_reply": "2023-07-13T02:59:05.635515Z"
    },
    "papermill": {
     "duration": 1.774374,
     "end_time": "2023-07-13T02:59:05.640180",
     "exception": false,
     "start_time": "2023-07-13T02:59:03.865806",
     "status": "completed"
    },
    "tags": []
   },
   "outputs": [],
   "source": [
    "from pathlib import Path\n",
    "import pandas as pd\n",
    "import json\n",
    "\n",
    "data_path = Path(\"..\") / \"t5-for-sparql\" / \"data\" / \"lcquad2\" / \"train.json\""
   ]
  },
  {
   "cell_type": "code",
   "execution_count": 8,
   "id": "0fc39410",
   "metadata": {
    "execution": {
     "iopub.execute_input": "2023-07-13T02:59:05.658453Z",
     "iopub.status.busy": "2023-07-13T02:59:05.657973Z",
     "iopub.status.idle": "2023-07-13T02:59:06.313322Z",
     "shell.execute_reply": "2023-07-13T02:59:06.312306Z"
    },
    "papermill": {
     "duration": 0.670544,
     "end_time": "2023-07-13T02:59:06.316314",
     "exception": false,
     "start_time": "2023-07-13T02:59:05.645770",
     "status": "completed"
    },
    "tags": []
   },
   "outputs": [
    {
     "data": {
      "text/html": [
       "<div>\n",
       "<style scoped>\n",
       "    .dataframe tbody tr th:only-of-type {\n",
       "        vertical-align: middle;\n",
       "    }\n",
       "\n",
       "    .dataframe tbody tr th {\n",
       "        vertical-align: top;\n",
       "    }\n",
       "\n",
       "    .dataframe thead th {\n",
       "        text-align: right;\n",
       "    }\n",
       "</style>\n",
       "<table border=\"1\" class=\"dataframe\">\n",
       "  <thead>\n",
       "    <tr style=\"text-align: right;\">\n",
       "      <th></th>\n",
       "      <th>NNQT_question</th>\n",
       "      <th>uid</th>\n",
       "      <th>subgraph</th>\n",
       "      <th>template_index</th>\n",
       "      <th>question</th>\n",
       "      <th>sparql_wikidata</th>\n",
       "      <th>sparql_dbpedia18</th>\n",
       "      <th>template</th>\n",
       "      <th>answer</th>\n",
       "      <th>template_id</th>\n",
       "      <th>paraphrased_question</th>\n",
       "      <th>new_question</th>\n",
       "    </tr>\n",
       "  </thead>\n",
       "  <tbody>\n",
       "    <tr>\n",
       "      <th>0</th>\n",
       "      <td>What is the {periodical literature} for {mouth...</td>\n",
       "      <td>19719</td>\n",
       "      <td>simple question right</td>\n",
       "      <td>65</td>\n",
       "      <td>What periodical literature does Delta Air Line...</td>\n",
       "      <td>select distinct ?obj where { wd:Q188920 wdt:P...</td>\n",
       "      <td>select distinct ?obj where { ?statement &lt;http:...</td>\n",
       "      <td>&lt;S P ?O ; ?O instanceOf Type&gt;</td>\n",
       "      <td>[]</td>\n",
       "      <td>1</td>\n",
       "      <td>What is Delta Air Line's periodical literature...</td>\n",
       "      <td>What is Delta Air Line's periodical literature...</td>\n",
       "    </tr>\n",
       "    <tr>\n",
       "      <th>1</th>\n",
       "      <td>What is {child of} of {husband} of {Ranavalona...</td>\n",
       "      <td>15554</td>\n",
       "      <td>left-subgraph</td>\n",
       "      <td>8</td>\n",
       "      <td>Who is the child of Ranavalona I's husband?</td>\n",
       "      <td>SELECT ?answer WHERE { wd:Q169794 wdt:P26 ?X ....</td>\n",
       "      <td>SELECT ?answer WHERE { ?statement1 &lt;http://www...</td>\n",
       "      <td>C RCD xD . xD RDE ?E</td>\n",
       "      <td>[]</td>\n",
       "      <td>5</td>\n",
       "      <td>What is the name of Ranavalona I's husband's c...</td>\n",
       "      <td>What is the name of Ranavalona I's husband's c...</td>\n",
       "    </tr>\n",
       "    <tr>\n",
       "      <th>2</th>\n",
       "      <td>Did {Jeff_Bridges} {occupation} {Lane Chandler...</td>\n",
       "      <td>974</td>\n",
       "      <td>boolean double one_hop right subgraph</td>\n",
       "      <td>474</td>\n",
       "      <td>Is it true Jeff_Bridges occupation Lane Chandl...</td>\n",
       "      <td>ASK WHERE { wd:Q174843 wdt:P106 wd:Q1804811 . ...</td>\n",
       "      <td>ASK { ?statement1 &lt;http://www.w3.org/1999/02/...</td>\n",
       "      <td>Ask (ent-pred-obj1` . ent-pred-obj2)</td>\n",
       "      <td>[]</td>\n",
       "      <td>2</td>\n",
       "      <td>Are Jeff Bridges and Lane Chandler both photog...</td>\n",
       "      <td>Are Jeff Bridges and Lane Chandler both photog...</td>\n",
       "    </tr>\n",
       "    <tr>\n",
       "      <th>3</th>\n",
       "      <td>What is {prequel of} of {phase of matter} of {...</td>\n",
       "      <td>15803</td>\n",
       "      <td>right-subgraph</td>\n",
       "      <td>33</td>\n",
       "      <td>What is the pre-requisite of phase matter of G...</td>\n",
       "      <td>SELECT ?answer WHERE { wd:Q675176 wdt:P515 ?X ...</td>\n",
       "      <td>SELECT ?answer WHERE { ?statement1 &lt;http://www...</td>\n",
       "      <td>E REF xF . xF RFG ?G</td>\n",
       "      <td>[]</td>\n",
       "      <td>2</td>\n",
       "      <td>What range are the papers at the Monique Genon...</td>\n",
       "      <td>What range are the papers at the Monique Genon...</td>\n",
       "    </tr>\n",
       "    <tr>\n",
       "      <th>4</th>\n",
       "      <td>What is &lt;operating income&gt; of &lt;Qantas&gt; ?</td>\n",
       "      <td>27610</td>\n",
       "      <td>center</td>\n",
       "      <td>1907</td>\n",
       "      <td>Which is the operating income for Qantas?</td>\n",
       "      <td>select distinct ?answer where { wd:Q32491 wdt:...</td>\n",
       "      <td>select distinct ?answer where { ?statement &lt;ht...</td>\n",
       "      <td>E REF ?F</td>\n",
       "      <td>[]</td>\n",
       "      <td>1.1</td>\n",
       "      <td>[]</td>\n",
       "      <td>Which is the operating income for Qantas?</td>\n",
       "    </tr>\n",
       "  </tbody>\n",
       "</table>\n",
       "</div>"
      ],
      "text/plain": [
       "                                       NNQT_question    uid  \\\n",
       "0  What is the {periodical literature} for {mouth...  19719   \n",
       "1  What is {child of} of {husband} of {Ranavalona...  15554   \n",
       "2  Did {Jeff_Bridges} {occupation} {Lane Chandler...    974   \n",
       "3  What is {prequel of} of {phase of matter} of {...  15803   \n",
       "4           What is <operating income> of <Qantas> ?  27610   \n",
       "\n",
       "                                subgraph  template_index  \\\n",
       "0                  simple question right              65   \n",
       "1                          left-subgraph               8   \n",
       "2  boolean double one_hop right subgraph             474   \n",
       "3                         right-subgraph              33   \n",
       "4                                 center            1907   \n",
       "\n",
       "                                            question  \\\n",
       "0  What periodical literature does Delta Air Line...   \n",
       "1        Who is the child of Ranavalona I's husband?   \n",
       "2  Is it true Jeff_Bridges occupation Lane Chandl...   \n",
       "3  What is the pre-requisite of phase matter of G...   \n",
       "4          Which is the operating income for Qantas?   \n",
       "\n",
       "                                     sparql_wikidata  \\\n",
       "0   select distinct ?obj where { wd:Q188920 wdt:P...   \n",
       "1  SELECT ?answer WHERE { wd:Q169794 wdt:P26 ?X ....   \n",
       "2  ASK WHERE { wd:Q174843 wdt:P106 wd:Q1804811 . ...   \n",
       "3  SELECT ?answer WHERE { wd:Q675176 wdt:P515 ?X ...   \n",
       "4  select distinct ?answer where { wd:Q32491 wdt:...   \n",
       "\n",
       "                                    sparql_dbpedia18  \\\n",
       "0  select distinct ?obj where { ?statement <http:...   \n",
       "1  SELECT ?answer WHERE { ?statement1 <http://www...   \n",
       "2   ASK { ?statement1 <http://www.w3.org/1999/02/...   \n",
       "3  SELECT ?answer WHERE { ?statement1 <http://www...   \n",
       "4  select distinct ?answer where { ?statement <ht...   \n",
       "\n",
       "                               template answer template_id  \\\n",
       "0         <S P ?O ; ?O instanceOf Type>     []           1   \n",
       "1                  C RCD xD . xD RDE ?E     []           5   \n",
       "2  Ask (ent-pred-obj1` . ent-pred-obj2)     []           2   \n",
       "3                  E REF xF . xF RFG ?G     []           2   \n",
       "4                              E REF ?F     []         1.1   \n",
       "\n",
       "                                paraphrased_question  \\\n",
       "0  What is Delta Air Line's periodical literature...   \n",
       "1  What is the name of Ranavalona I's husband's c...   \n",
       "2  Are Jeff Bridges and Lane Chandler both photog...   \n",
       "3  What range are the papers at the Monique Genon...   \n",
       "4                                                 []   \n",
       "\n",
       "                                        new_question  \n",
       "0  What is Delta Air Line's periodical literature...  \n",
       "1  What is the name of Ranavalona I's husband's c...  \n",
       "2  Are Jeff Bridges and Lane Chandler both photog...  \n",
       "3  What range are the papers at the Monique Genon...  \n",
       "4          Which is the operating income for Qantas?  "
      ]
     },
     "execution_count": 8,
     "metadata": {},
     "output_type": "execute_result"
    }
   ],
   "source": [
    "with open(data_path) as f:\n",
    "  data_dict = json.load(f)\n",
    "\n",
    "for item in data_dict:\n",
    "  paraphrased_question = item[\"paraphrased_question\"]\n",
    "  question = item[\"question\"]\n",
    "  item[\"new_question\"] = paraphrased_question if len(paraphrased_question) > 2 else question\n",
    "\n",
    "df = pd.DataFrame.from_dict(data_dict)\n",
    "df.head()"
   ]
  },
  {
   "cell_type": "markdown",
   "id": "bf9ab6cd",
   "metadata": {
    "tags": [
     "papermill-error-cell-tag"
    ]
   },
   "source": [
    "<span id=\"papermill-error-cell\" style=\"color:red; font-family:Helvetica Neue, Helvetica, Arial, sans-serif; font-size:2em;\">Execution using papermill encountered an exception here and stopped:</span>"
   ]
  },
  {
   "cell_type": "code",
   "execution_count": 9,
   "id": "1e617b94",
   "metadata": {
    "execution": {
     "iopub.execute_input": "2023-07-13T02:59:06.336453Z",
     "iopub.status.busy": "2023-07-13T02:59:06.335785Z",
     "iopub.status.idle": "2023-07-13T03:58:18.201389Z",
     "shell.execute_reply": "2023-07-13T03:58:18.200110Z"
    },
    "papermill": {
     "duration": 3551.883154,
     "end_time": "2023-07-13T03:58:18.206403",
     "exception": true,
     "start_time": "2023-07-13T02:59:06.323249",
     "status": "failed"
    },
    "tags": []
   },
   "outputs": [
    {
     "name": "stdout",
     "output_type": "stream",
     "text": [
      "Pipeline iter 0\n",
      "Pipeline iter 1\n",
      "Pipeline iter 2\n",
      "Pipeline iter 3\n",
      "Pipeline iter 4\n",
      "Pipeline iter 5\n",
      "Pipeline iter 6\n",
      "Pipeline iter 7\n",
      "Pipeline iter 8\n",
      "Pipeline iter 9\n",
      "Pipeline iter 10\n",
      "Pipeline iter 11\n",
      "Pipeline iter 12\n",
      "Pipeline iter 13\n",
      "Pipeline iter 14\n",
      "Pipeline iter 15\n",
      "Pipeline iter 16\n",
      "Pipeline iter 17\n",
      "Pipeline iter 18\n",
      "Pipeline iter 19\n",
      "Pipeline iter 20\n",
      "Pipeline iter 21\n",
      "Pipeline iter 22\n",
      "Pipeline iter 23\n",
      "Pipeline iter 24\n",
      "Pipeline iter 25\n",
      "Pipeline iter 26\n",
      "Pipeline iter 27\n",
      "Pipeline iter 28\n",
      "Pipeline iter 29\n",
      "Pipeline iter 30\n",
      "Pipeline iter 31\n",
      "Pipeline iter 32\n",
      "Pipeline iter 33\n",
      "Pipeline iter 34\n",
      "Pipeline iter 35\n",
      "Pipeline iter 36\n",
      "Pipeline iter 37\n",
      "Pipeline iter 38\n",
      "Pipeline iter 39\n",
      "Pipeline iter 40\n",
      "Pipeline iter 41\n",
      "Pipeline iter 42\n",
      "Pipeline iter 43\n",
      "Pipeline iter 44\n",
      "Pipeline iter 45\n",
      "Pipeline iter 46\n",
      "Pipeline iter 47\n",
      "Pipeline iter 48\n",
      "Pipeline iter 49\n",
      "[Pipeline1]: Linking 0-49\n",
      "1 : ['who is the member of Roberto Baggio sports activities crew and how many fits did they play?']\n",
      "1 : ['What Campania time zone has daylight saving time?']\n",
      "1 : ['Which is the cardinality of the group of ext4?']\n",
      "1 : ['Let me know struggle whose title has the word wars in it.']\n",
      "1 : ['What is the discretionary connection of the most point of the European Unions economy?']\n",
      "1 : ['Is -1 the parity of oxygen-13?']\n",
      "1 : ['Cite the temperature along with the stress point of water when it reaches a triple point.']\n",
      "1 : ['What is the religious affiliation of Bartholomew the Apostles CEO office?']\n",
      "1 : ['inform me kingdom of India that located in the administrative territorial entity India which starts with u']\n",
      "1 : ['Which is the association football club for the member of sports team Ryan Giggs?']\n",
      "1 : ['Whos voice is named in Freemium Isnt Free']\n",
      "1 : ['What is place of dip, that has {precedes} is {water surface} ?']\n",
      "1 : ['What is the mouthpiece that is used for the Deutsche Bahn?']\n",
      "1 : ['How many underground floors are in the US Bank Tower?']\n",
      "1 : ['Is the pariapsis of 1951 Lick 1.3048936?']\n",
      "1 : ['Which is the properties for this type of ambassador?']\n",
      "1 : ['True or False, Tamala park has a 0 male population?']\n",
      "1 : ['Which is the J. Paul Getty Museum artist ID for Caspar David Friedrich?']\n",
      "1 : ['What mass media starts with y?']\n",
      "1 : ['What did Ludwig van Beethoven study and who did he teach?']\n",
      "1 : ['Who found and what is Uranium title after?']\n",
      "1 : ['Let me know which is the legitimate tenet which contains the word person in its name?']\n",
      "1 : ['Tell me if the galactic latitude of Orion Nebula is less than -15.5071472.']\n",
      "1 : ['Which restaurant coined the term hot dog?']\n",
      "1 : ['What is the number of awards received by Lincoln Kirstein?']\n",
      "1 : ['What political portion did Muammar al-Daddafi found']\n",
      "1 : ['What was Pete Maravichs place on his basketball team']\n",
      "1 : ['How far away Jupiter is from the sun?']\n",
      "1 : ['How many matches for which team did Josef Bican play?']\n",
      "1 : ['Down Syndrome is an established medical condition of what number of children?']\n",
      "1 : ['Explain fdhgdfh.']\n",
      "1 : ['Give me the name of the person who gave the head office location and works for Las Stigzelius.']\n"
     ]
    },
    {
     "name": "stdout",
     "output_type": "stream",
     "text": [
      "2 : ['What country is Mojito from?']\n"
     ]
    },
    {
     "name": "stdout",
     "output_type": "stream",
     "text": [
      "[reRank_relations]: what is the mouthpiece that is used for the Deutsche Bahn \n",
      "SPARQL Requests Made: 1 \n",
      "SPARQL Requests Total Time: 0.7181272506713867 \n",
      "SPARQL Avg Time per Qn: 0.7181272506713867\n",
      "3 : ['What was the name of the lowest rating International Master Chess Player?']\n"
     ]
    },
    {
     "name": "stdout",
     "output_type": "stream",
     "text": [
      "4 : ['When did  Vladimir Vysotsky marry Lyudmyla Abramova?']\n",
      "5 : ['Which is the Nickel-Strunz 9th edition (updated 2009) of sphalerite?']\n"
     ]
    },
    {
     "name": "stdout",
     "output_type": "stream",
     "text": [
      "[reRank_relations]: which is the properties for this type of Ambassador \n",
      "SPARQL Requests Made: 2 \n",
      "SPARQL Requests Total Time: 1.452972173690796 \n",
      "SPARQL Avg Time per Qn: 0.726486086845398\n",
      "6 : ['Who is the child of Charlemagne and when did he died?']\n"
     ]
    },
    {
     "name": "stdout",
     "output_type": "stream",
     "text": [
      "7 : ['Where is the demise location of Ivan Kozlovsky which has 215,000 inhabitants?']\n"
     ]
    },
    {
     "name": "stdout",
     "output_type": "stream",
     "text": [
      "[reRank_relations]: which is the J Paul Getty Museum artist ID for Caspar David Friedrich \n",
      "SPARQL Requests Made: 1 \n",
      "SPARQL Requests Total Time: 0.7277989387512207 \n",
      "SPARQL Avg Time per Qn: 0.7277989387512207\n",
      "[reRank_relations]: which is the J Paul Getty Museum artist ID for Caspar David Friedrich \n",
      "SPARQL Requests Made: 0 \n",
      "SPARQL Requests Total Time: 0 \n",
      "SPARQL Avg Time per Qn: 0\n",
      "8 : ['WHAT PROFESSIONAL DEGREE  CONTAINS THE WORD MASTER IN THE NAME']\n"
     ]
    },
    {
     "name": "stdout",
     "output_type": "stream",
     "text": [
      "[reRank_relations]: what is the number of awards received by Lincoln Kirstein \n",
      "SPARQL Requests Made: 1 \n",
      "SPARQL Requests Total Time: 0.7108185291290283 \n",
      "SPARQL Avg Time per Qn: 0.7108185291290283\n"
     ]
    },
    {
     "name": "stdout",
     "output_type": "stream",
     "text": [
      "9 : ['Which is the number of victims had by killer Jeffrey Dahmer?']\n",
      "[reRank_relations]: which is the association football club for the member of sports team Ryan Giggs \n",
      "SPARQL Requests Made: 2 \n",
      "SPARQL Requests Total Time: 1.4546308517456055 \n",
      "SPARQL Avg Time per Qn: 0.7273154258728027\n",
      "10 : ['What is Shetlocks Deutsche Synchronkartei series ID?']\n"
     ]
    },
    {
     "name": "stdout",
     "output_type": "stream",
     "text": [
      "[reRank_relations]: when did  Vladimir Vysotsky marry Lyudmyla Abramova \n",
      "SPARQL Requests Made: 2 \n",
      "SPARQL Requests Total Time: 1.434997320175171 \n",
      "SPARQL Avg Time per Qn: 0.7174986600875854\n",
      "[reRank_relations]: when did  Vladimir Vysotsky marry Lyudmyla Abramova \n",
      "SPARQL Requests Made: 0 \n",
      "SPARQL Requests Total Time: 0 \n",
      "SPARQL Avg Time per Qn: 0\n",
      "[reRank_relations]: when did  Vladimir Vysotsky marry Lyudmyla Abramova \n",
      "SPARQL Requests Made: 0 \n",
      "SPARQL Requests Total Time: 0 \n",
      "SPARQL Avg Time per Qn: 0\n",
      "11 : ['Are Oslo and Nuuk similar to Copenhagen?']\n"
     ]
    },
    {
     "name": "stdout",
     "output_type": "stream",
     "text": [
      "[reRank_relations]: which is the Nickel-Strunz 9th edition (updated 2009) of Sphalerite \n",
      "SPARQL Requests Made: 1 \n",
      "SPARQL Requests Total Time: 0.7381711006164551 \n",
      "SPARQL Avg Time per Qn: 0.7381711006164551\n",
      "12 : ['Name a trans-Neptunian object observed via Jan Oort that starts with letter C']\n",
      "13 : ['How many copyrighted licenses exist?']\n"
     ]
    },
    {
     "name": "stdout",
     "output_type": "stream",
     "text": [
      "14 : ['France contains how many various capitals?']\n"
     ]
    },
    {
     "name": "stdout",
     "output_type": "stream",
     "text": [
      "[reRank_relations]: who is the child of Charlemagne and when did he died \n",
      "SPARQL Requests Made: 4 \n",
      "SPARQL Requests Total Time: 2.89350962638855 \n",
      "SPARQL Avg Time per Qn: 0.7233774065971375\n"
     ]
    },
    {
     "name": "stdout",
     "output_type": "stream",
     "text": [
      "[reRank_relations]: who is the child of Charlemagne and when did he died \n",
      "SPARQL Requests Made: 1 \n",
      "SPARQL Requests Total Time: 0.7172491550445557 \n",
      "SPARQL Avg Time per Qn: 0.7172491550445557\n",
      "[reRank_relations]: who is the child of Charlemagne and when did he died \n",
      "SPARQL Requests Made: 0 \n",
      "SPARQL Requests Total Time: 0 \n",
      "SPARQL Avg Time per Qn: 0\n",
      "15 : ['What record labels was Akon signed with?']\n"
     ]
    },
    {
     "name": "stdout",
     "output_type": "stream",
     "text": [
      "[reRank_relations]: is the pariapsis of 1951 Lick 13048936 \n",
      "SPARQL Requests Made: 5 \n",
      "SPARQL Requests Total Time: 3.5963332653045654 \n",
      "SPARQL Avg Time per Qn: 0.7192666530609131\n",
      "16 : ['Who is a CERN discoverer or inventor?']\n"
     ]
    },
    {
     "name": "stdout",
     "output_type": "stream",
     "text": [
      "[reRank_relations]: give me the name of the person who gave the head office location and works for Las Stigzelius \n",
      "SPARQL Requests Made: 7 \n",
      "SPARQL Requests Total Time: 5.102027416229248 \n",
      "SPARQL Avg Time per Qn: 0.7288610594613212\n"
     ]
    },
    {
     "name": "stdout",
     "output_type": "stream",
     "text": [
      "[reRank_relations]: what country is Mojito from \n",
      "SPARQL Requests Made: 10 \n",
      "SPARQL Requests Total Time: 7.182218551635742 \n",
      "SPARQL Avg Time per Qn: 0.7182218551635742\n",
      "17 : ['Why is the higher taxon of platyrrhini frequently confounded with the monkey?']\n"
     ]
    },
    {
     "name": "stdout",
     "output_type": "stream",
     "text": [
      "[reRank_relations]: why is the higher taxon of platyrrhini frequently confounded with the monkey \n",
      "SPARQL Requests Made: 0 \n",
      "SPARQL Requests Total Time: 0 \n",
      "SPARQL Avg Time per Qn: 0\n"
     ]
    },
    {
     "name": "stdout",
     "output_type": "stream",
     "text": [
      "[reRank_relations]: tell me if the galactic latitude of Orion Nebula is less than -155071472 \n",
      "SPARQL Requests Made: 9 \n",
      "SPARQL Requests Total Time: 6.491976737976074 \n",
      "SPARQL Avg Time per Qn: 0.7213307486640083\n",
      "18 : ['Which career of Colley Cibber, has a field of this career in the performing arts?']\n"
     ]
    },
    {
     "name": "stdout",
     "output_type": "stream",
     "text": [
      "[reRank_relations]: which career of Colley Cibber, has a field of this career in the performing arts \n",
      "SPARQL Requests Made: 0 \n",
      "SPARQL Requests Total Time: 0 \n",
      "SPARQL Avg Time per Qn: 0\n"
     ]
    },
    {
     "name": "stdout",
     "output_type": "stream",
     "text": [
      "[reRank_relations]: how many underground floors are in the US Bank Tower \n",
      "SPARQL Requests Made: 16 \n",
      "SPARQL Requests Total Time: 11.57344126701355 \n",
      "SPARQL Avg Time per Qn: 0.7233400791883469\n",
      "19 : ['Which is the Slovenska biografija ID for Joseph Radetzky von Radetz?']\n"
     ]
    },
    {
     "name": "stdout",
     "output_type": "stream",
     "text": [
      "[reRank_relations]: who is a CERN discoverer or inventor \n",
      "SPARQL Requests Made: 7 \n",
      "SPARQL Requests Total Time: 5.104493856430054 \n",
      "SPARQL Avg Time per Qn: 0.7292134080614362\n"
     ]
    },
    {
     "name": "stdout",
     "output_type": "stream",
     "text": [
      "[reRank_relations]: what is the religious affiliation of Bartholomew the Apostles CEO office \n",
      "SPARQL Requests Made: 17 \n",
      "SPARQL Requests Total Time: 12.32319951057434 \n",
      "SPARQL Avg Time per Qn: 0.7248940888573142\n"
     ]
    },
    {
     "name": "stdout",
     "output_type": "stream",
     "text": [
      "[reRank_relations]: what Campania time zone has Daylight saving time \n",
      "SPARQL Requests Made: 20 \n",
      "SPARQL Requests Total Time: 14.564369440078735 \n",
      "SPARQL Avg Time per Qn: 0.7282184720039367\n"
     ]
    },
    {
     "name": "stdout",
     "output_type": "stream",
     "text": [
      "[reRank_relations]: what was Pete Maravichs place on his basketball team \n",
      "SPARQL Requests Made: 28 \n",
      "SPARQL Requests Total Time: 20.412933588027954 \n",
      "SPARQL Avg Time per Qn: 0.7290333424295697\n"
     ]
    },
    {
     "name": "stdout",
     "output_type": "stream",
     "text": [
      "[reRank_relations]: wHAT PROFESSIONAL DEGREE  CONTAINS THE WORD MASTER IN THE NAME \n",
      "SPARQL Requests Made: 36 \n",
      "SPARQL Requests Total Time: 26.15360713005066 \n",
      "SPARQL Avg Time per Qn: 0.7264890869458517\n"
     ]
    },
    {
     "name": "stdout",
     "output_type": "stream",
     "text": [
      "[reRank_relations]: what Campania time zone has Daylight saving time \n",
      "SPARQL Requests Made: 22 \n",
      "SPARQL Requests Total Time: 16.05081796646118 \n",
      "SPARQL Avg Time per Qn: 0.7295826348391447\n"
     ]
    },
    {
     "name": "stdout",
     "output_type": "stream",
     "text": [
      "[reRank_relations]: france contains how many various capitals \n",
      "SPARQL Requests Made: 43 \n",
      "SPARQL Requests Total Time: 31.197983741760254 \n",
      "SPARQL Avg Time per Qn: 0.7255345056223315\n"
     ]
    },
    {
     "name": "stdout",
     "output_type": "stream",
     "text": [
      "[reRank_relations]: what did Ludwig van Beethoven study and who did he teach \n",
      "SPARQL Requests Made: 60 \n",
      "SPARQL Requests Total Time: 43.61438584327698 \n",
      "SPARQL Avg Time per Qn: 0.7269064307212829\n"
     ]
    },
    {
     "name": "stdout",
     "output_type": "stream",
     "text": [
      "[reRank_relations]: which is the cardinality of the group of Ext4 \n",
      "SPARQL Requests Made: 66 \n",
      "SPARQL Requests Total Time: 47.79363012313843 \n",
      "SPARQL Avg Time per Qn: 0.7241459109566428\n"
     ]
    },
    {
     "name": "stdout",
     "output_type": "stream",
     "text": [
      "[reRank_relations]: give me the name of the person who gave the head office location and works for Las Stigzelius \n",
      "SPARQL Requests Made: 62 \n",
      "SPARQL Requests Total Time: 45.09520363807678 \n",
      "SPARQL Avg Time per Qn: 0.7273419941625288\n"
     ]
    },
    {
     "name": "stdout",
     "output_type": "stream",
     "text": [
      "[reRank_relations]: give me the name of the person who gave the head office location and works for Las Stigzelius \n",
      "SPARQL Requests Made: 11 \n",
      "SPARQL Requests Total Time: 7.988165378570557 \n",
      "SPARQL Avg Time per Qn: 0.7261968525973234\n"
     ]
    },
    {
     "name": "stdout",
     "output_type": "stream",
     "text": [
      "[reRank_relations]: where is the demise location of Ivan Kozlovsky which has 215,000 inhabitants \n",
      "SPARQL Requests Made: 84 \n",
      "SPARQL Requests Total Time: 60.92768597602844 \n",
      "SPARQL Avg Time per Qn: 0.7253295949527195\n"
     ]
    },
    {
     "name": "stdout",
     "output_type": "stream",
     "text": [
      "[reRank_relations]: what is the religious affiliation of Bartholomew the Apostles CEO office \n",
      "SPARQL Requests Made: 78 \n",
      "SPARQL Requests Total Time: 56.452622175216675 \n",
      "SPARQL Avg Time per Qn: 0.7237515663489317\n"
     ]
    },
    {
     "name": "stdout",
     "output_type": "stream",
     "text": [
      "[reRank_relations]: how many copyrighted licenses exist \n",
      "SPARQL Requests Made: 90 \n",
      "SPARQL Requests Total Time: 65.26213455200195 \n",
      "SPARQL Avg Time per Qn: 0.7251348283555773\n",
      "[reRank_relations]: how many copyrighted licenses exist \n",
      "SPARQL Requests Made: 0 \n",
      "SPARQL Requests Total Time: 0 \n",
      "SPARQL Avg Time per Qn: 0\n"
     ]
    },
    {
     "name": "stdout",
     "output_type": "stream",
     "text": [
      "[reRank_relations]: which is the Slovenska biografija ID for Joseph Radetzky von Radetz \n",
      "SPARQL Requests Made: 91 \n",
      "SPARQL Requests Total Time: 65.95289945602417 \n",
      "SPARQL Avg Time per Qn: 0.7247571368793865\n"
     ]
    },
    {
     "name": "stdout",
     "output_type": "stream",
     "text": [
      "[reRank_relations]: what did Ludwig van Beethoven study and who did he teach \n",
      "SPARQL Requests Made: 46 \n",
      "SPARQL Requests Total Time: 33.187729835510254 \n",
      "SPARQL Avg Time per Qn: 0.7214723877284838\n"
     ]
    },
    {
     "name": "stdout",
     "output_type": "stream",
     "text": [
      "[reRank_relations]: down Syndrome is an established medical condition of what number of children \n",
      "SPARQL Requests Made: 105 \n",
      "SPARQL Requests Total Time: 76.15968894958496 \n",
      "SPARQL Avg Time per Qn: 0.7253303709484282\n"
     ]
    },
    {
     "name": "stdout",
     "output_type": "stream",
     "text": [
      "[reRank_relations]: whos voice is named in Freemium Isnt Free \n",
      "SPARQL Requests Made: 111 \n",
      "SPARQL Requests Total Time: 80.5589349269867 \n",
      "SPARQL Avg Time per Qn: 0.7257561705133937\n"
     ]
    },
    {
     "name": "stdout",
     "output_type": "stream",
     "text": [
      "[reRank_relations]: what mass media starts with y \n",
      "SPARQL Requests Made: 118 \n",
      "SPARQL Requests Total Time: 85.42217135429382 \n",
      "SPARQL Avg Time per Qn: 0.7239167063923205\n"
     ]
    },
    {
     "name": "stdout",
     "output_type": "stream",
     "text": [
      "[reRank_relations]: let me know Struggle whose title has the word wars in it \n",
      "SPARQL Requests Made: 134 \n",
      "SPARQL Requests Total Time: 96.76450443267822 \n",
      "SPARQL Avg Time per Qn: 0.7221231674080464\n",
      "[reRank_relations]: let me know Struggle whose title has the word wars in it \n",
      "SPARQL Requests Made: 0 \n",
      "SPARQL Requests Total Time: 0 \n",
      "SPARQL Avg Time per Qn: 0\n"
     ]
    },
    {
     "name": "stdout",
     "output_type": "stream",
     "text": [
      "[reRank_relations]: give me the name of the person who gave the head office location and works for Las Stigzelius \n",
      "SPARQL Requests Made: 66 \n",
      "SPARQL Requests Total Time: 47.6701123714447 \n",
      "SPARQL Avg Time per Qn: 0.7222744298703743\n"
     ]
    },
    {
     "name": "stdout",
     "output_type": "stream",
     "text": [
      "[reRank_relations]: let me know which is the Legitimate tenet which contains the word person in its name \n",
      "SPARQL Requests Made: 147 \n",
      "SPARQL Requests Total Time: 106.93833708763123 \n",
      "SPARQL Avg Time per Qn: 0.7274716808682397\n"
     ]
    },
    {
     "name": "stdout",
     "output_type": "stream",
     "text": [
      "[reRank_relations]: which restaurant coined the term hot dog \n",
      "SPARQL Requests Made: 166 \n",
      "SPARQL Requests Total Time: 120.08072710037231 \n",
      "SPARQL Avg Time per Qn: 0.7233778740986284\n"
     ]
    },
    {
     "name": "stdout",
     "output_type": "stream",
     "text": [
      "[reRank_relations]: how many matches for which team did Josef Bican play \n",
      "SPARQL Requests Made: 168 \n",
      "SPARQL Requests Total Time: 121.6971333026886 \n",
      "SPARQL Avg Time per Qn: 0.7243876982302893\n",
      "[reRank_relations]: how many matches for which team did Josef Bican play \n",
      "SPARQL Requests Made: 0 \n",
      "SPARQL Requests Total Time: 0 \n",
      "SPARQL Avg Time per Qn: 0\n"
     ]
    },
    {
     "name": "stdout",
     "output_type": "stream",
     "text": [
      "[reRank_relations]: down Syndrome is an established medical condition of what number of children \n",
      "SPARQL Requests Made: 65 \n",
      "SPARQL Requests Total Time: 47.192699909210205 \n",
      "SPARQL Avg Time per Qn: 0.7260415370647724\n"
     ]
    },
    {
     "name": "stdout",
     "output_type": "stream",
     "text": [
      "[reRank_relations]: which career of Colley Cibber, has a field of this career in the performing arts \n",
      "SPARQL Requests Made: 169 \n",
      "SPARQL Requests Total Time: 122.14129900932312 \n",
      "SPARQL Avg Time per Qn: 0.7227295799368232\n"
     ]
    },
    {
     "name": "stdout",
     "output_type": "stream",
     "text": [
      "[reRank_relations]: which is the Slovenska biografija ID for Joseph Radetzky von Radetz \n",
      "SPARQL Requests Made: 76 \n",
      "SPARQL Requests Total Time: 54.99214696884155 \n",
      "SPARQL Avg Time per Qn: 0.7235808811689678\n"
     ]
    },
    {
     "name": "stdout",
     "output_type": "stream",
     "text": [
      "[reRank_relations]: what was the name of the lowest rating International Master Chess Player \n",
      "SPARQL Requests Made: 197 \n",
      "SPARQL Requests Total Time: 142.42831778526306 \n",
      "SPARQL Avg Time per Qn: 0.7229863846967668\n"
     ]
    },
    {
     "name": "stdout",
     "output_type": "stream",
     "text": [
      "[reRank_relations]: let me know which is the Legitimate tenet which contains the word person in its name \n",
      "SPARQL Requests Made: 55 \n",
      "SPARQL Requests Total Time: 39.906351804733276 \n",
      "SPARQL Avg Time per Qn: 0.7255700328133323\n"
     ]
    },
    {
     "name": "stdout",
     "output_type": "stream",
     "text": [
      "[reRank_relations]: what is place of dip, that has {precedes} is {water surface}  \n",
      "SPARQL Requests Made: 209 \n",
      "SPARQL Requests Total Time: 151.6048731803894 \n",
      "SPARQL Avg Time per Qn: 0.725382168327222\n"
     ]
    },
    {
     "name": "stdout",
     "output_type": "stream",
     "text": [
      "[reRank_relations]: down Syndrome is an established medical condition of what number of children \n",
      "SPARQL Requests Made: 40 \n",
      "SPARQL Requests Total Time: 29.023780822753906 \n",
      "SPARQL Avg Time per Qn: 0.7255945205688477\n"
     ]
    },
    {
     "name": "stdout",
     "output_type": "stream",
     "text": [
      "[reRank_relations]: wHAT PROFESSIONAL DEGREE  CONTAINS THE WORD MASTER IN THE NAME \n",
      "SPARQL Requests Made: 180 \n",
      "SPARQL Requests Total Time: 130.47696995735168 \n",
      "SPARQL Avg Time per Qn: 0.7248720553186204\n"
     ]
    },
    {
     "name": "stdout",
     "output_type": "stream",
     "text": [
      "[reRank_relations]: who found and what is Uranium title after \n",
      "SPARQL Requests Made: 225 \n",
      "SPARQL Requests Total Time: 162.87264037132263 \n",
      "SPARQL Avg Time per Qn: 0.7238784016503228\n"
     ]
    },
    {
     "name": "stdout",
     "output_type": "stream",
     "text": [
      "[reRank_relations]: what is the number of awards received by Lincoln Kirstein \n",
      "SPARQL Requests Made: 225 \n",
      "SPARQL Requests Total Time: 162.7831587791443 \n",
      "SPARQL Avg Time per Qn: 0.7234807056850857\n"
     ]
    },
    {
     "name": "stdout",
     "output_type": "stream",
     "text": [
      "[reRank_relations]: what is the number of awards received by Lincoln Kirstein \n",
      "SPARQL Requests Made: 1 \n",
      "SPARQL Requests Total Time: 0.7200281620025635 \n",
      "SPARQL Avg Time per Qn: 0.7200281620025635\n",
      "[reRank_relations]: what is the number of awards received by Lincoln Kirstein \n",
      "SPARQL Requests Made: 0 \n",
      "SPARQL Requests Total Time: 0 \n",
      "SPARQL Avg Time per Qn: 0\n"
     ]
    },
    {
     "name": "stdout",
     "output_type": "stream",
     "text": [
      "[reRank_relations]: what political portion did Muammar al-Daddafi found \n",
      "SPARQL Requests Made: 230 \n",
      "SPARQL Requests Total Time: 166.4539840221405 \n",
      "SPARQL Avg Time per Qn: 0.7237129740093066\n",
      "[reRank_relations]: what political portion did Muammar al-Daddafi found \n",
      "SPARQL Requests Made: 0 \n",
      "SPARQL Requests Total Time: 0 \n",
      "SPARQL Avg Time per Qn: 0\n"
     ]
    },
    {
     "name": "stdout",
     "output_type": "stream",
     "text": [
      "[reRank_relations]: what record labels was Akon signed with \n",
      "SPARQL Requests Made: 227 \n",
      "SPARQL Requests Total Time: 164.51058673858643 \n",
      "SPARQL Avg Time per Qn: 0.7247162411391472\n",
      "[reRank_relations]: what record labels was Akon signed with \n",
      "SPARQL Requests Made: 0 \n",
      "SPARQL Requests Total Time: 0 \n",
      "SPARQL Avg Time per Qn: 0\n"
     ]
    },
    {
     "name": "stdout",
     "output_type": "stream",
     "text": [
      "[reRank_relations]: why is the higher taxon of platyrrhini frequently confounded with the monkey \n",
      "SPARQL Requests Made: 226 \n",
      "SPARQL Requests Total Time: 163.52526712417603 \n",
      "SPARQL Avg Time per Qn: 0.7235631288680355\n"
     ]
    },
    {
     "name": "stdout",
     "output_type": "stream",
     "text": [
      "[reRank_relations]: down Syndrome is an established medical condition of what number of children \n",
      "SPARQL Requests Made: 40 \n",
      "SPARQL Requests Total Time: 29.084914684295654 \n",
      "SPARQL Avg Time per Qn: 0.7271228671073914\n"
     ]
    },
    {
     "name": "stdout",
     "output_type": "stream",
     "text": [
      "[reRank_relations]: which is the Slovenska biografija ID for Joseph Radetzky von Radetz \n",
      "SPARQL Requests Made: 76 \n",
      "SPARQL Requests Total Time: 55.03091263771057 \n",
      "SPARQL Avg Time per Qn: 0.7240909557593497\n"
     ]
    },
    {
     "name": "stdout",
     "output_type": "stream",
     "text": [
      "[reRank_relations]: cite the temperature along with the stress point of water when it reaches a triple point \n",
      "SPARQL Requests Made: 270 \n",
      "SPARQL Requests Total Time: 195.37413263320923 \n",
      "SPARQL Avg Time per Qn: 0.7236078986415156\n"
     ]
    },
    {
     "name": "stdout",
     "output_type": "stream",
     "text": [
      "[reRank_relations]: let me know Struggle whose title has the word wars in it \n",
      "SPARQL Requests Made: 156 \n",
      "SPARQL Requests Total Time: 113.12108039855957 \n",
      "SPARQL Avg Time per Qn: 0.7251351307599972\n"
     ]
    },
    {
     "name": "stdout",
     "output_type": "stream",
     "text": [
      "[reRank_relations]: who is the member of Roberto Baggio sports activities crew and how many fits did they play \n",
      "SPARQL Requests Made: 333 \n",
      "SPARQL Requests Total Time: 241.1719982624054 \n",
      "SPARQL Avg Time per Qn: 0.7242402350222384\n"
     ]
    },
    {
     "name": "stdout",
     "output_type": "stream",
     "text": [
      "[reRank_relations]: who is the member of Roberto Baggio sports activities crew and how many fits did they play \n",
      "SPARQL Requests Made: 3 \n",
      "SPARQL Requests Total Time: 2.193810224533081 \n",
      "SPARQL Avg Time per Qn: 0.7312700748443604\n"
     ]
    },
    {
     "name": "stdout",
     "output_type": "stream",
     "text": [
      "[reRank_relations]: inform me kingdom of India that located in the administrative territorial entity India which starts with u \n",
      "SPARQL Requests Made: 344 \n",
      "SPARQL Requests Total Time: 249.2777063846588 \n",
      "SPARQL Avg Time per Qn: 0.7246444953042407\n"
     ]
    },
    {
     "name": "stdout",
     "output_type": "stream",
     "text": [
      "[reRank_relations]: wHAT PROFESSIONAL DEGREE  CONTAINS THE WORD MASTER IN THE NAME \n",
      "SPARQL Requests Made: 180 \n",
      "SPARQL Requests Total Time: 130.1393129825592 \n",
      "SPARQL Avg Time per Qn: 0.72299618323644\n"
     ]
    },
    {
     "name": "stdout",
     "output_type": "stream",
     "text": [
      "[reRank_relations]: name a trans-Neptunian object observed via Jan Oort that starts with letter C \n",
      "SPARQL Requests Made: 420 \n",
      "SPARQL Requests Total Time: 304.47392082214355 \n",
      "SPARQL Avg Time per Qn: 0.7249379067193894\n"
     ]
    },
    {
     "name": "stdout",
     "output_type": "stream",
     "text": [
      "[reRank_relations]: which is the number of victims had by killer Jeffrey Dahmer \n",
      "SPARQL Requests Made: 450 \n",
      "SPARQL Requests Total Time: 325.7442705631256 \n",
      "SPARQL Avg Time per Qn: 0.7238761568069458\n"
     ]
    },
    {
     "name": "stdout",
     "output_type": "stream",
     "text": [
      "[reRank_relations]: name a trans-Neptunian object observed via Jan Oort that starts with letter C \n",
      "SPARQL Requests Made: 173 \n",
      "SPARQL Requests Total Time: 126.43701982498169 \n",
      "SPARQL Avg Time per Qn: 0.7308498255779289\n"
     ]
    },
    {
     "name": "stdout",
     "output_type": "stream",
     "text": [
      "[reRank_relations]: which is the number of victims had by killer Jeffrey Dahmer \n",
      "SPARQL Requests Made: 182 \n",
      "SPARQL Requests Total Time: 132.1029396057129 \n",
      "SPARQL Avg Time per Qn: 0.725840327503917\n"
     ]
    },
    {
     "name": "stdout",
     "output_type": "stream",
     "text": [
      "[reRank_relations]: name a trans-Neptunian object observed via Jan Oort that starts with letter C \n",
      "SPARQL Requests Made: 71 \n",
      "SPARQL Requests Total Time: 51.297236919403076 \n",
      "SPARQL Avg Time per Qn: 0.72249629463948\n"
     ]
    },
    {
     "name": "stdout",
     "output_type": "stream",
     "text": [
      "[reRank_relations]: wHAT PROFESSIONAL DEGREE  CONTAINS THE WORD MASTER IN THE NAME \n",
      "SPARQL Requests Made: 277 \n",
      "SPARQL Requests Total Time: 201.19122552871704 \n",
      "SPARQL Avg Time per Qn: 0.7263221138220832\n"
     ]
    },
    {
     "name": "stdout",
     "output_type": "stream",
     "text": [
      "[reRank_relations]: inform me kingdom of India that located in the administrative territorial entity India which starts with u \n",
      "SPARQL Requests Made: 413 \n",
      "SPARQL Requests Total Time: 298.88070797920227 \n",
      "SPARQL Avg Time per Qn: 0.7236821016445576\n"
     ]
    },
    {
     "name": "stdout",
     "output_type": "stream",
     "text": [
      "[reRank_relations]: inform me kingdom of India that located in the administrative territorial entity India which starts with u \n",
      "SPARQL Requests Made: 167 \n",
      "SPARQL Requests Total Time: 121.42396855354309 \n",
      "SPARQL Avg Time per Qn: 0.7270896320571443\n"
     ]
    },
    {
     "name": "stdout",
     "output_type": "stream",
     "text": [
      "[reRank_relations]: wHAT PROFESSIONAL DEGREE  CONTAINS THE WORD MASTER IN THE NAME \n",
      "SPARQL Requests Made: 277 \n",
      "SPARQL Requests Total Time: 200.3592348098755 \n",
      "SPARQL Avg Time per Qn: 0.7233185372197671\n"
     ]
    },
    {
     "name": "stdout",
     "output_type": "stream",
     "text": [
      "Index error, no label found for\n",
      "wd::Q228087\n"
     ]
    },
    {
     "name": "stdout",
     "output_type": "stream",
     "text": [
      "Index error, no label found for\n",
      "wd::Q3815761\n"
     ]
    },
    {
     "name": "stdout",
     "output_type": "stream",
     "text": [
      "Link batch time: 1395.383145570755\n",
      "Anno batch time: 587.9119031429291\n",
      "Conv batch time: 0.0104217529296875\n",
      "Pipeline iter 50\n",
      "Pipeline iter 51\n",
      "Pipeline iter 52\n",
      "Pipeline iter 53\n",
      "Pipeline iter 54\n",
      "Pipeline iter 55\n",
      "Pipeline iter 56\n",
      "Pipeline iter 57\n",
      "Pipeline iter 58\n",
      "Pipeline iter 59\n",
      "Pipeline iter 60\n",
      "Pipeline iter 61\n",
      "Pipeline iter 62\n",
      "Pipeline iter 63\n",
      "Pipeline iter 64\n",
      "Pipeline iter 65\n",
      "Pipeline iter 66\n",
      "Pipeline iter 67\n",
      "Pipeline iter 68\n",
      "Pipeline iter 69\n",
      "Pipeline iter 70\n",
      "Pipeline iter 71\n",
      "Pipeline iter 72\n",
      "Pipeline iter 73\n",
      "Pipeline iter 74\n",
      "Pipeline iter 75\n",
      "Pipeline iter 76\n",
      "Pipeline iter 77\n",
      "Pipeline iter 78\n",
      "Pipeline iter 79\n",
      "Pipeline iter 80\n",
      "Pipeline iter 81\n",
      "Pipeline iter 82\n",
      "Pipeline iter 83\n",
      "Pipeline iter 84\n",
      "Pipeline iter 85\n",
      "Pipeline iter 86\n",
      "Pipeline iter 87\n",
      "Pipeline iter 88\n",
      "Pipeline iter 89\n",
      "Pipeline iter 90\n",
      "Pipeline iter 91\n",
      "Pipeline iter 92\n",
      "Pipeline iter 93\n",
      "Pipeline iter 94\n",
      "Pipeline iter 95\n",
      "Pipeline iter 96\n",
      "Pipeline iter 97\n",
      "Pipeline iter 98\n",
      "Pipeline iter 99\n",
      "[Pipeline1]: Linking 49-99\n",
      "51 : ['Is it true that the occupation of David Duchovnys occupation was singer, songwriter and screenwriter?']\n",
      "51 : ['Give the name of one of Richard Dawkins doctoral students.']\n",
      "51 : ['WHO Altered QUAN TANGHSI WITH THE Cordiality Title OF']\n",
      "51 : ['Richard Rogers FOIH person ID is what?']\n",
      "51 : ['Which is MyAnimeList anime ID of Attack on Titan?']\n",
      "51 : ['who phone\\n code of area born of jack kevorkian ?']\n",
      "51 : ['Who is the participant of Ludmilla Tourischeva awarded Olympic silver medal?']\n",
      "51 : ['Having the inverse of goddess, what is the disambiguation from God?']\n",
      "51 : ['Which country, that is landlocked, replaced Czechoslovakia?']\n",
      "51 : ['When was the operating income of  Transmashholding  2,193,110,000?']\n",
      "51 : ['WHAT IS THE I TUNES APP ID OF MINERCRAFT']\n",
      "51 : ['James Scullin was elected to what district in the Australian House of Representatives?']\n",
      "51 : ['Which is the number of out of school children of continent history of the America?']\n",
      "51 : ['What sentence did Andrei Chikatilo receive on October 14, 1992']\n",
      "51 : ['What was the major of Paolo Gentiloni and when did he graduate as Laurea magistrate (Italy)?']\n",
      "51 : ['What is the title of the vivified skunk in Looney Tunes?']\n",
      "51 : ['What Sparkasse has the highest capital ratio?']\n",
      "51 : ['Where is The New York Times published?']\n",
      "51 : ['Where is the head office vicinity of International Air Transport Association that includes Lachine?']\n",
      "51 : ['What are the foremost outstanding works of Charles Dickens?']\n",
      "51 : ['What is World Snooker ID of Ronnie OSullivan?']\n",
      "51 : ['Jean-Luc Godard was the recipient of the Hononary Cesar; what year and for what work did he recieve this award?']\n",
      "51 : ['What is academic degree} of {Dan Carter} where {number of points/goals/set scored} is {1457.0} ?']\n",
      "51 : ['What is Ivan Pyryevs middle name, which is the identical as Juans?']\n",
      "51 : ['Which is the number of the total revenue of Tencent?']\n",
      "51 : ['What is the name of the spot of neon which has diplomatic relation in Denmark?']\n",
      "51 : ['What is the address for Georgetown University?']\n",
      "51 : ['Who is elected in Edmund Barton, the Member of the Australian House of Representatives?']\n"
     ]
    },
    {
     "name": "stdout",
     "output_type": "stream",
     "text": [
      "5151 : ['What is the number of survivors for D.B. Cooper?']\n",
      " : ['Name the place in which id John ruskin work in 1834?']\n",
      "51 : ['What are the village which begin with the letter w']\n",
      "51 : ['Amos Oss Vengurion received this award in 2017-0-0?']\n"
     ]
    },
    {
     "name": "stdout",
     "output_type": "stream",
     "text": [
      "[reRank_relations]: where is The New York Times published \n",
      "SPARQL Requests Made: 1 \n",
      "SPARQL Requests Total Time: 0.8457951545715332 \n",
      "SPARQL Avg Time per Qn: 0.8457951545715332\n",
      "52 : ['Which inventive style has its introduction in 1968-1-1 by means of Alice Cooper?']\n",
      "53 : ['What is the Playmates Playmate ID for Pamela Anderson']\n"
     ]
    },
    {
     "name": "stdout",
     "output_type": "stream",
     "text": [
      "54 : ['Under 760 units of pressure, what is ozones boiling point?']\n",
      "[reRank_relations]: when was the operating income of  Transmashholding  2,193,110,000 \n",
      "SPARQL Requests Made: 0 \n",
      "SPARQL Requests Total Time: 0 \n",
      "SPARQL Avg Time per Qn: 0\n",
      "[reRank_relations]: when was the operating income of  Transmashholding  2,193,110,000 \n",
      "SPARQL Requests Made: 0 \n",
      "SPARQL Requests Total Time: 0 \n",
      "SPARQL Avg Time per Qn: 0\n",
      "[reRank_relations]: when was the operating income of  Transmashholding  2,193,110,000 \n",
      "SPARQL Requests Made: 0 \n",
      "SPARQL Requests Total Time: 0 \n",
      "SPARQL Avg Time per Qn: 0\n",
      "55 : ['Hong Kong was originally part of what country?']\n"
     ]
    },
    {
     "name": "stdout",
     "output_type": "stream",
     "text": [
      "[reRank_relations]: what is the number of survivors for DB Cooper \n",
      "SPARQL Requests Made: 2 \n",
      "SPARQL Requests Total Time: 1.4144229888916016 \n",
      "SPARQL Avg Time per Qn: 0.7072114944458008\n",
      "56 : ['Valencia had once a population of 785,732. What year was it?']\n"
     ]
    },
    {
     "name": "stdout",
     "output_type": "stream",
     "text": [
      "57 : ['Eros is how many peoples father?']\n"
     ]
    },
    {
     "name": "stdout",
     "output_type": "stream",
     "text": [
      "58 : ['Which is {authoritative central station} {succeeds} of {Visigothic Kingdom} ?']\n"
     ]
    },
    {
     "name": "stdout",
     "output_type": "stream",
     "text": [
      "[reRank_relations]: what are the foremost outstanding works of Charles Dickens \n",
      "SPARQL Requests Made: 3 \n",
      "SPARQL Requests Total Time: 2.2356271743774414 \n",
      "SPARQL Avg Time per Qn: 0.7452090581258138\n",
      "59 : ['What is the players most extreme number of plays in World Chess Championship?']\n"
     ]
    },
    {
     "name": "stdout",
     "output_type": "stream",
     "text": [
      "[reRank_relations]: what is the address for Georgetown University \n",
      "SPARQL Requests Made: 7 \n",
      "SPARQL Requests Total Time: 5.619235038757324 \n",
      "SPARQL Avg Time per Qn: 0.8027478626796177\n",
      "60 : ['What could be a emergency that begins with the letter u.']\n",
      "61 : ['Until January 1st, 1801, what was Michael Faradays citizenship?']\n"
     ]
    },
    {
     "name": "stdout",
     "output_type": "stream",
     "text": [
      "62 : ['Which  is UN packaging group of hydrofluoric acid ?']\n"
     ]
    },
    {
     "name": "stdout",
     "output_type": "stream",
     "text": [
      "63 : ['Who was the mother of Pedro Is child Princess Francisca of Brazil and when was Princess Francisca born?']\n"
     ]
    },
    {
     "name": "stdout",
     "output_type": "stream",
     "text": [
      "[reRank_relations]: which is MyAnimeList anime ID of Attack on Titan \n",
      "SPARQL Requests Made: 5 \n",
      "SPARQL Requests Total Time: 5.539874315261841 \n",
      "SPARQL Avg Time per Qn: 1.1079748630523683\n",
      "64 : ['Who did Abbas I of Persia replace as Shah?']\n"
     ]
    },
    {
     "name": "stdout",
     "output_type": "stream",
     "text": [
      "[reRank_relations]: what is the name of the spot of neon which has diplomatic relation in Denmark \n",
      "SPARQL Requests Made: 6 \n",
      "SPARQL Requests Total Time: 4.382072448730469 \n",
      "SPARQL Avg Time per Qn: 0.7303454081217448\n"
     ]
    },
    {
     "name": "stdout",
     "output_type": "stream",
     "text": [
      "[reRank_relations]: what is the Playmates Playmate ID for Pamela Anderson \n",
      "SPARQL Requests Made: 6 \n",
      "SPARQL Requests Total Time: 4.460852146148682 \n",
      "SPARQL Avg Time per Qn: 0.7434753576914469\n",
      "[reRank_relations]: what is the Playmates Playmate ID for Pamela Anderson \n",
      "SPARQL Requests Made: 0 \n",
      "SPARQL Requests Total Time: 0 \n",
      "SPARQL Avg Time per Qn: 0\n",
      "65 : ['On what date did the country of Baghdad end in 1621']\n"
     ]
    },
    {
     "name": "stdout",
     "output_type": "stream",
     "text": [
      "[reRank_relations]: who was the mother of Pedro Is child Princess Francisca of Brazil and when was Princess Francisca born \n",
      "SPARQL Requests Made: 4 \n",
      "SPARQL Requests Total Time: 2.8971469402313232 \n",
      "SPARQL Avg Time per Qn: 0.7242867350578308\n"
     ]
    },
    {
     "name": "stdout",
     "output_type": "stream",
     "text": [
      "[reRank_relations]: who was the mother of Pedro Is child Princess Francisca of Brazil and when was Princess Francisca born \n",
      "SPARQL Requests Made: 2 \n",
      "SPARQL Requests Total Time: 1.4407384395599365 \n",
      "SPARQL Avg Time per Qn: 0.7203692197799683\n",
      "66 : ['Which is the Mathematics Subject Classification ID for supersymmetry?']\n"
     ]
    },
    {
     "name": "stdout",
     "output_type": "stream",
     "text": [
      "[reRank_relations]: jean-Luc Godard was the recipient of the Hononary Cesar; what year and for what work did he recieve this award \n",
      "SPARQL Requests Made: 14 \n",
      "SPARQL Requests Total Time: 10.168715238571167 \n",
      "SPARQL Avg Time per Qn: 0.7263368027550834\n"
     ]
    },
    {
     "name": "stdout",
     "output_type": "stream",
     "text": [
      "[reRank_relations]: name the place in which id John ruskin work in 1834 \n",
      "SPARQL Requests Made: 18 \n",
      "SPARQL Requests Total Time: 13.048038244247437 \n",
      "SPARQL Avg Time per Qn: 0.7248910135693021\n"
     ]
    },
    {
     "name": "stdout",
     "output_type": "stream",
     "text": [
      "[reRank_relations]: give the name of one of Richard Dawkins doctoral students \n",
      "SPARQL Requests Made: 19 \n",
      "SPARQL Requests Total Time: 13.797991037368774 \n",
      "SPARQL Avg Time per Qn: 0.7262100545983565\n",
      "[reRank_relations]: hong Kong was originally part of what country \n",
      "SPARQL Requests Made: 17 \n",
      "SPARQL Requests Total Time: 12.318984985351562 \n",
      "SPARQL Avg Time per Qn: 0.7246461756089154\n",
      "67 : ['Which is the Filmiroda rating for Battle Royale?']\n"
     ]
    },
    {
     "name": "stdout",
     "output_type": "stream",
     "text": [
      "[reRank_relations]: what was the major of Paolo Gentiloni and when did he graduate as Laurea magistrate (Italy) \n",
      "SPARQL Requests Made: 18 \n",
      "SPARQL Requests Total Time: 13.014589548110962 \n",
      "SPARQL Avg Time per Qn: 0.7230327526728312\n"
     ]
    },
    {
     "name": "stdout",
     "output_type": "stream",
     "text": [
      "[reRank_relations]: until January 1st, 1801, what was Michael Faradays citizenship \n",
      "SPARQL Requests Made: 16 \n",
      "SPARQL Requests Total Time: 11.697339534759521 \n",
      "SPARQL Avg Time per Qn: 0.7310837209224701\n"
     ]
    },
    {
     "name": "stdout",
     "output_type": "stream",
     "text": [
      "[reRank_relations]: which  is UN packaging group of hydrofluoric acid  \n",
      "SPARQL Requests Made: 16 \n",
      "SPARQL Requests Total Time: 11.892357349395752 \n",
      "SPARQL Avg Time per Qn: 0.7432723343372345\n",
      "68 : ['What are thedemographic profile which begin with the letter youngster']\n"
     ]
    },
    {
     "name": "stdout",
     "output_type": "stream",
     "text": [
      "[reRank_relations]: what is academic degree} of {Dan Carter} where {number of points/goals/set scored} is {14570}  \n",
      "SPARQL Requests Made: 18 \n",
      "SPARQL Requests Total Time: 13.107247591018677 \n",
      "SPARQL Avg Time per Qn: 0.7281804217232598\n",
      "69 : ['What is The LIR of Liechtenstein?']\n"
     ]
    },
    {
     "name": "stdout",
     "output_type": "stream",
     "text": [
      "[reRank_relations]: what is The LIR of Liechtenstein \n",
      "SPARQL Requests Made: 1 \n",
      "SPARQL Requests Total Time: 0.7974433898925781 \n",
      "SPARQL Avg Time per Qn: 0.7974433898925781\n",
      "[reRank_relations]: which is the Mathematics Subject Classification ID for Supersymmetry \n",
      "SPARQL Requests Made: 12 \n",
      "SPARQL Requests Total Time: 8.901512384414673 \n",
      "SPARQL Avg Time per Qn: 0.7417926987012228\n"
     ]
    },
    {
     "name": "stdout",
     "output_type": "stream",
     "text": [
      "[reRank_relations]: wHAT IS THE I TUNES APP ID OF MINERCRAFT \n",
      "SPARQL Requests Made: 27 \n",
      "SPARQL Requests Total Time: 19.51633334159851 \n",
      "SPARQL Avg Time per Qn: 0.7228271607999448\n"
     ]
    },
    {
     "name": "stdout",
     "output_type": "stream",
     "text": [
      "[reRank_relations]: until January 1st, 1801, what was Michael Faradays citizenship \n",
      "SPARQL Requests Made: 16 \n",
      "SPARQL Requests Total Time: 11.619935750961304 \n",
      "SPARQL Avg Time per Qn: 0.7262459844350815\n"
     ]
    },
    {
     "name": "stdout",
     "output_type": "stream",
     "text": [
      "[reRank_relations]: what is Ivan Pyryevs middle name, which is the identical as Juans \n",
      "SPARQL Requests Made: 39 \n",
      "SPARQL Requests Total Time: 28.335610389709473 \n",
      "SPARQL Avg Time per Qn: 0.7265541125566531\n"
     ]
    },
    {
     "name": "stdout",
     "output_type": "stream",
     "text": [
      "[reRank_relations]: what was the major of Paolo Gentiloni and when did he graduate as Laurea magistrate (Italy) \n",
      "SPARQL Requests Made: 27 \n",
      "SPARQL Requests Total Time: 19.61491322517395 \n",
      "SPARQL Avg Time per Qn: 0.7264782675990352\n"
     ]
    },
    {
     "name": "stdout",
     "output_type": "stream",
     "text": [
      "[reRank_relations]: name the place in which id John ruskin work in 1834 \n",
      "SPARQL Requests Made: 36 \n",
      "SPARQL Requests Total Time: 26.117605447769165 \n",
      "SPARQL Avg Time per Qn: 0.7254890402158102\n"
     ]
    },
    {
     "name": "stdout",
     "output_type": "stream",
     "text": [
      "[reRank_relations]: what are the village which begin with the letter w \n",
      "SPARQL Requests Made: 55 \n",
      "SPARQL Requests Total Time: 39.92451858520508 \n",
      "SPARQL Avg Time per Qn: 0.7259003379128196\n",
      "[reRank_relations]: which is the Filmiroda rating for Battle Royale \n",
      "SPARQL Requests Made: 35 \n",
      "SPARQL Requests Total Time: 25.40661883354187 \n",
      "SPARQL Avg Time per Qn: 0.7259033952440535\n"
     ]
    },
    {
     "name": "stdout",
     "output_type": "stream",
     "text": [
      "[reRank_relations]: jean-Luc Godard was the recipient of the Hononary Cesar; what year and for what work did he recieve this award \n",
      "SPARQL Requests Made: 47 \n",
      "SPARQL Requests Total Time: 34.01231384277344 \n",
      "SPARQL Avg Time per Qn: 0.7236662519739029\n"
     ]
    },
    {
     "name": "stdout",
     "output_type": "stream",
     "text": [
      "[reRank_relations]: valencia had once a population of 785,732 What year was it \n",
      "SPARQL Requests Made: 61 \n",
      "SPARQL Requests Total Time: 44.27587628364563 \n",
      "SPARQL Avg Time per Qn: 0.7258340374368136\n",
      "[reRank_relations]: who did Abbas I of Persia replace as Shah \n",
      "SPARQL Requests Made: 60 \n",
      "SPARQL Requests Total Time: 43.564290285110474 \n",
      "SPARQL Avg Time per Qn: 0.7260715047518412\n"
     ]
    },
    {
     "name": "stdout",
     "output_type": "stream",
     "text": [
      "[reRank_relations]: where is the head office vicinity of International Air Transport Association that includes Lachine \n",
      "SPARQL Requests Made: 66 \n",
      "SPARQL Requests Total Time: 47.92738103866577 \n",
      "SPARQL Avg Time per Qn: 0.7261724399797844\n"
     ]
    },
    {
     "name": "stdout",
     "output_type": "stream",
     "text": [
      "[reRank_relations]: name the place in which id John ruskin work in 1834 \n",
      "SPARQL Requests Made: 21 \n",
      "SPARQL Requests Total Time: 15.353266954421997 \n",
      "SPARQL Avg Time per Qn: 0.7311079502105713\n"
     ]
    },
    {
     "name": "stdout",
     "output_type": "stream",
     "text": [
      "[reRank_relations]: who did Abbas I of Persia replace as Shah \n",
      "SPARQL Requests Made: 11 \n",
      "SPARQL Requests Total Time: 7.963972091674805 \n",
      "SPARQL Avg Time per Qn: 0.7239974628795277\n"
     ]
    },
    {
     "name": "stdout",
     "output_type": "stream",
     "text": [
      "[reRank_relations]: eros is how many peoples father \n",
      "SPARQL Requests Made: 72 \n",
      "SPARQL Requests Total Time: 52.34095549583435 \n",
      "SPARQL Avg Time per Qn: 0.7269577152199216\n"
     ]
    },
    {
     "name": "stdout",
     "output_type": "stream",
     "text": [
      "[reRank_relations]: which inventive style has its introduction in 1968-1-1 by means of Alice Cooper \n",
      "SPARQL Requests Made: 73 \n",
      "SPARQL Requests Total Time: 52.760319232940674 \n",
      "SPARQL Avg Time per Qn: 0.722744099081379\n"
     ]
    },
    {
     "name": "stdout",
     "output_type": "stream",
     "text": [
      "[reRank_relations]: what are thedemographic profile which begin with the letter youngster \n",
      "SPARQL Requests Made: 60 \n",
      "SPARQL Requests Total Time: 43.46816325187683 \n",
      "SPARQL Avg Time per Qn: 0.7244693875312805\n"
     ]
    },
    {
     "name": "stdout",
     "output_type": "stream",
     "text": [
      "[reRank_relations]: jean-Luc Godard was the recipient of the Hononary Cesar; what year and for what work did he recieve this award \n",
      "SPARQL Requests Made: 29 \n",
      "SPARQL Requests Total Time: 21.007649183273315 \n",
      "SPARQL Avg Time per Qn: 0.7244016959749419\n"
     ]
    },
    {
     "name": "stdout",
     "output_type": "stream",
     "text": [
      "[reRank_relations]: who phone\n",
      " code of area born of jack kevorkian  \n",
      "SPARQL Requests Made: 92 \n",
      "SPARQL Requests Total Time: 66.72643423080444 \n",
      "SPARQL Avg Time per Qn: 0.7252873285957004\n",
      "[reRank_relations]: who phone\n",
      " code of area born of jack kevorkian  \n",
      "SPARQL Requests Made: 0 \n",
      "SPARQL Requests Total Time: 0 \n",
      "SPARQL Avg Time per Qn: 0\n"
     ]
    },
    {
     "name": "stdout",
     "output_type": "stream",
     "text": [
      "[reRank_relations]: amos Oss Vengurion received this award in 2017-0-0 \n",
      "SPARQL Requests Made: 97 \n",
      "SPARQL Requests Total Time: 70.00453901290894 \n",
      "SPARQL Avg Time per Qn: 0.7216962784835973\n"
     ]
    },
    {
     "name": "stdout",
     "output_type": "stream",
     "text": [
      "[reRank_relations]: name the place in which id John ruskin work in 1834 \n",
      "SPARQL Requests Made: 33 \n",
      "SPARQL Requests Total Time: 24.351081609725952 \n",
      "SPARQL Avg Time per Qn: 0.7379115639310895\n"
     ]
    },
    {
     "name": "stdout",
     "output_type": "stream",
     "text": [
      "[reRank_relations]: which inventive style has its introduction in 1968-1-1 by means of Alice Cooper \n",
      "SPARQL Requests Made: 61 \n",
      "SPARQL Requests Total Time: 44.066505908966064 \n",
      "SPARQL Avg Time per Qn: 0.7224017362125584\n"
     ]
    },
    {
     "name": "stdout",
     "output_type": "stream",
     "text": [
      "[reRank_relations]: what sentence did Andrei Chikatilo receive on October 14, 1992 \n",
      "SPARQL Requests Made: 138 \n",
      "SPARQL Requests Total Time: 99.70225763320923 \n",
      "SPARQL Avg Time per Qn: 0.7224801277768784\n"
     ]
    },
    {
     "name": "stdout",
     "output_type": "stream",
     "text": [
      "[reRank_relations]: what is the name of the spot of neon which has diplomatic relation in Denmark \n",
      "SPARQL Requests Made: 141 \n",
      "SPARQL Requests Total Time: 102.39815282821655 \n",
      "SPARQL Avg Time per Qn: 0.7262280342426706\n"
     ]
    },
    {
     "name": "stdout",
     "output_type": "stream",
     "text": [
      "[reRank_relations]: what could be a emergency that begins with the letter u \n",
      "SPARQL Requests Made: 147 \n",
      "SPARQL Requests Total Time: 106.19854736328125 \n",
      "SPARQL Avg Time per Qn: 0.7224390977093963\n"
     ]
    },
    {
     "name": "stdout",
     "output_type": "stream",
     "text": [
      "[reRank_relations]: is it true that the occupation of David Duchovnys occupation was singer, songwriter and screenwriter \n",
      "SPARQL Requests Made: 160 \n",
      "SPARQL Requests Total Time: 115.5522243976593 \n",
      "SPARQL Avg Time per Qn: 0.7222014024853707\n"
     ]
    },
    {
     "name": "stdout",
     "output_type": "stream",
     "text": [
      "[reRank_relations]: what was the major of Paolo Gentiloni and when did he graduate as Laurea magistrate (Italy) \n",
      "SPARQL Requests Made: 121 \n",
      "SPARQL Requests Total Time: 88.02809715270996 \n",
      "SPARQL Avg Time per Qn: 0.7275049351463633\n"
     ]
    },
    {
     "name": "stdout",
     "output_type": "stream",
     "text": [
      "[reRank_relations]: who is the participant of Ludmilla Tourischeva awarded Olympic silver medal \n",
      "SPARQL Requests Made: 181 \n",
      "SPARQL Requests Total Time: 131.3746600151062 \n",
      "SPARQL Avg Time per Qn: 0.7258268509121889\n"
     ]
    },
    {
     "name": "stdout",
     "output_type": "stream",
     "text": [
      "[reRank_relations]: give the name of one of Richard Dawkins doctoral students \n",
      "SPARQL Requests Made: 166 \n",
      "SPARQL Requests Total Time: 120.27941131591797 \n",
      "SPARQL Avg Time per Qn: 0.7245747669633612\n"
     ]
    },
    {
     "name": "stdout",
     "output_type": "stream",
     "text": [
      "[reRank_relations]: which is the number of the total revenue of Tencent \n",
      "SPARQL Requests Made: 225 \n",
      "SPARQL Requests Total Time: 162.85529732704163 \n",
      "SPARQL Avg Time per Qn: 0.7238013214535184\n"
     ]
    },
    {
     "name": "stdout",
     "output_type": "stream",
     "text": [
      "[reRank_relations]: which is the number of the total revenue of Tencent \n",
      "SPARQL Requests Made: 1 \n",
      "SPARQL Requests Total Time: 0.7513070106506348 \n",
      "SPARQL Avg Time per Qn: 0.7513070106506348\n"
     ]
    },
    {
     "name": "stdout",
     "output_type": "stream",
     "text": [
      "[reRank_relations]: which is the number of out of school children of continent history of the America \n",
      "SPARQL Requests Made: 225 \n",
      "SPARQL Requests Total Time: 162.64134860038757 \n",
      "SPARQL Avg Time per Qn: 0.7228504382239448\n"
     ]
    },
    {
     "name": "stdout",
     "output_type": "stream",
     "text": [
      "[reRank_relations]: what is the title of the vivified skunk in Looney Tunes \n",
      "SPARQL Requests Made: 226 \n",
      "SPARQL Requests Total Time: 163.44763588905334 \n",
      "SPARQL Avg Time per Qn: 0.7232196278276697\n"
     ]
    },
    {
     "name": "stdout",
     "output_type": "stream",
     "text": [
      "[reRank_relations]: on what date did the country of Baghdad end in 1621 \n",
      "SPARQL Requests Made: 226 \n",
      "SPARQL Requests Total Time: 163.4215190410614 \n",
      "SPARQL Avg Time per Qn: 0.723104066553369\n"
     ]
    },
    {
     "name": "stdout",
     "output_type": "stream",
     "text": [
      "[reRank_relations]: amos Oss Vengurion received this award in 2017-0-0 \n",
      "SPARQL Requests Made: 138 \n",
      "SPARQL Requests Total Time: 99.31686854362488 \n",
      "SPARQL Avg Time per Qn: 0.719687453214673\n"
     ]
    },
    {
     "name": "stdout",
     "output_type": "stream",
     "text": [
      "[reRank_relations]: on what date did the country of Baghdad end in 1621 \n",
      "SPARQL Requests Made: 6 \n",
      "SPARQL Requests Total Time: 4.347646951675415 \n",
      "SPARQL Avg Time per Qn: 0.7246078252792358\n"
     ]
    },
    {
     "name": "stdout",
     "output_type": "stream",
     "text": [
      "[reRank_relations]: what sentence did Andrei Chikatilo receive on October 14, 1992 \n",
      "SPARQL Requests Made: 121 \n",
      "SPARQL Requests Total Time: 87.96420049667358 \n",
      "SPARQL Avg Time per Qn: 0.7269768636088726\n",
      "[reRank_relations]: what sentence did Andrei Chikatilo receive on October 14, 1992 \n",
      "SPARQL Requests Made: 0 \n",
      "SPARQL Requests Total Time: 0 \n",
      "SPARQL Avg Time per Qn: 0\n"
     ]
    },
    {
     "name": "stdout",
     "output_type": "stream",
     "text": [
      "[reRank_relations]: which country, that is Landlocked, replaced Czechoslovakia \n",
      "SPARQL Requests Made: 264 \n",
      "SPARQL Requests Total Time: 191.14213752746582 \n",
      "SPARQL Avg Time per Qn: 0.7240232482100978\n"
     ]
    },
    {
     "name": "stdout",
     "output_type": "stream",
     "text": [
      "[reRank_relations]: james Scullin was elected to what district in the Australian House of Representatives \n",
      "SPARQL Requests Made: 300 \n",
      "SPARQL Requests Total Time: 217.45408153533936 \n",
      "SPARQL Avg Time per Qn: 0.7248469384511312\n"
     ]
    },
    {
     "name": "stdout",
     "output_type": "stream",
     "text": [
      "[reRank_relations]: who is elected in Edmund Barton, the Member of the Australian House of Representatives \n",
      "SPARQL Requests Made: 300 \n",
      "SPARQL Requests Total Time: 217.07270765304565 \n",
      "SPARQL Avg Time per Qn: 0.7235756921768188\n"
     ]
    },
    {
     "name": "stdout",
     "output_type": "stream",
     "text": [
      "[reRank_relations]: who is elected in Edmund Barton, the Member of the Australian House of Representatives \n",
      "SPARQL Requests Made: 2 \n",
      "SPARQL Requests Total Time: 1.446380376815796 \n",
      "SPARQL Avg Time per Qn: 0.723190188407898\n"
     ]
    },
    {
     "name": "stdout",
     "output_type": "stream",
     "text": [
      "[reRank_relations]: james Scullin was elected to what district in the Australian House of Representatives \n",
      "SPARQL Requests Made: 4 \n",
      "SPARQL Requests Total Time: 2.867534875869751 \n",
      "SPARQL Avg Time per Qn: 0.7168837189674377\n"
     ]
    },
    {
     "name": "stdout",
     "output_type": "stream",
     "text": [
      "[reRank_relations]: wHO Altered QUAN TANGHSI WITH THE Cordiality Title OF \n",
      "SPARQL Requests Made: 315 \n",
      "SPARQL Requests Total Time: 227.72796607017517 \n",
      "SPARQL Avg Time per Qn: 0.7229459240323022\n"
     ]
    },
    {
     "name": "stdout",
     "output_type": "stream",
     "text": [
      "[reRank_relations]: is it true that the occupation of David Duchovnys occupation was singer, songwriter and screenwriter \n",
      "SPARQL Requests Made: 160 \n",
      "SPARQL Requests Total Time: 115.64855647087097 \n",
      "SPARQL Avg Time per Qn: 0.7228034779429435\n"
     ]
    },
    {
     "name": "stdout",
     "output_type": "stream",
     "text": [
      "[reRank_relations]: who is the participant of Ludmilla Tourischeva awarded Olympic silver medal \n",
      "SPARQL Requests Made: 154 \n",
      "SPARQL Requests Total Time: 111.88228416442871 \n",
      "SPARQL Avg Time per Qn: 0.7265083387300566\n"
     ]
    },
    {
     "name": "stdout",
     "output_type": "stream",
     "text": [
      "[reRank_relations]: what is the title of the vivified skunk in Looney Tunes \n",
      "SPARQL Requests Made: 127 \n",
      "SPARQL Requests Total Time: 91.74075722694397 \n",
      "SPARQL Avg Time per Qn: 0.7223681671412912\n"
     ]
    },
    {
     "name": "stdout",
     "output_type": "stream",
     "text": [
      "[reRank_relations]: on what date did the country of Baghdad end in 1621 \n",
      "SPARQL Requests Made: 212 \n",
      "SPARQL Requests Total Time: 154.68464040756226 \n",
      "SPARQL Avg Time per Qn: 0.7296445302243503\n"
     ]
    },
    {
     "name": "stdout",
     "output_type": "stream",
     "text": [
      "[reRank_relations]: is it true that the occupation of David Duchovnys occupation was singer, songwriter and screenwriter \n",
      "SPARQL Requests Made: 160 \n",
      "SPARQL Requests Total Time: 118.00479078292847 \n",
      "SPARQL Avg Time per Qn: 0.7375299423933029\n"
     ]
    },
    {
     "name": "stdout",
     "output_type": "stream",
     "text": [
      "[reRank_relations]: is it true that the occupation of David Duchovnys occupation was singer, songwriter and screenwriter \n",
      "SPARQL Requests Made: 34 \n",
      "SPARQL Requests Total Time: 24.564772129058838 \n",
      "SPARQL Avg Time per Qn: 0.7224932979134953\n"
     ]
    },
    {
     "name": "stdout",
     "output_type": "stream",
     "text": [
      "[reRank_relations]: wHO Altered QUAN TANGHSI WITH THE Cordiality Title OF \n",
      "SPARQL Requests Made: 325 \n",
      "SPARQL Requests Total Time: 237.39299964904785 \n",
      "SPARQL Avg Time per Qn: 0.7304399989201472\n"
     ]
    },
    {
     "name": "stdout",
     "output_type": "stream",
     "text": [
      "Index error, no label found for\n",
      "wd::Q228087\n"
     ]
    },
    {
     "name": "stdout",
     "output_type": "stream",
     "text": [
      "Index error, no label found for\n",
      "wdt::P134\n"
     ]
    },
    {
     "name": "stdout",
     "output_type": "stream",
     "text": [
      "Index error, no label found for\n",
      "wdt::P969\n"
     ]
    },
    {
     "name": "stdout",
     "output_type": "stream",
     "text": [
      "Index error, no label found for\n",
      "wd::Q29960927\n"
     ]
    },
    {
     "name": "stdout",
     "output_type": "stream",
     "text": [
      "Link batch time: 938.1663391590118\n",
      "Anno batch time: 630.0421817302704\n",
      "Conv batch time: 0.009049177169799805\n",
      "Pipeline iter 100\n",
      "Pipeline iter 101\n",
      "Pipeline iter 102\n",
      "Pipeline iter 103\n",
      "Pipeline iter 104\n",
      "Pipeline iter 105\n",
      "Pipeline iter 106\n",
      "Pipeline iter 107\n",
      "Pipeline iter 108\n",
      "Pipeline iter 109\n",
      "Pipeline iter 110\n",
      "Pipeline iter 111\n",
      "Pipeline iter 112\n",
      "Pipeline iter 113\n",
      "Pipeline iter 114\n",
      "Pipeline iter 115\n",
      "Pipeline iter 116\n",
      "Pipeline iter 117\n",
      "Pipeline iter 118\n",
      "Pipeline iter 119\n",
      "Pipeline iter 120\n",
      "Pipeline iter 121\n",
      "Pipeline iter 122\n",
      "Pipeline iter 123\n",
      "Pipeline iter 124\n",
      "Pipeline iter 125\n"
     ]
    },
    {
     "ename": "TypeError",
     "evalue": "object of type 'NoneType' has no len()",
     "output_type": "error",
     "traceback": [
      "\u001b[0;31m---------------------------------------------------------------------------\u001b[0m",
      "\u001b[0;31mTypeError\u001b[0m                                 Traceback (most recent call last)",
      "Cell \u001b[0;32mIn[9], line 17\u001b[0m\n\u001b[1;32m     10\u001b[0m answer \u001b[38;5;241m=\u001b[39m data[\u001b[38;5;124m\"\u001b[39m\u001b[38;5;124msparql_wikidata\u001b[39m\u001b[38;5;124m\"\u001b[39m]\n\u001b[1;32m     11\u001b[0m \u001b[38;5;66;03m# try\u001b[39;00m\n\u001b[1;32m     12\u001b[0m \u001b[38;5;66;03m#     linked, annotated, converted = pipe(question, answer)\u001b[39;00m\n\u001b[1;32m     13\u001b[0m \u001b[38;5;66;03m# except Exception as e:\u001b[39;00m\n\u001b[1;32m     14\u001b[0m \u001b[38;5;66;03m#     print(e)\u001b[39;00m\n\u001b[1;32m     15\u001b[0m \u001b[38;5;66;03m#     continue\u001b[39;00m\n\u001b[1;32m     16\u001b[0m \u001b[38;5;66;03m# responses.append([linked, annotated, converted])\u001b[39;00m\n\u001b[0;32m---> 17\u001b[0m \u001b[38;5;28;01mif\u001b[39;00m \u001b[38;5;28;43mlen\u001b[39;49m\u001b[43m(\u001b[49m\u001b[43mquestion\u001b[49m\u001b[43m)\u001b[49m \u001b[38;5;241m>\u001b[39m\u001b[38;5;241m=\u001b[39m \u001b[38;5;241m2\u001b[39m:\n\u001b[1;32m     18\u001b[0m     batch_qns\u001b[38;5;241m.\u001b[39mappend(question)\n\u001b[1;32m     19\u001b[0m     batch_ans\u001b[38;5;241m.\u001b[39mappend(answer)\n",
      "\u001b[0;31mTypeError\u001b[0m: object of type 'NoneType' has no len()"
     ]
    }
   ],
   "source": [
    "responses = []\n",
    "batch_qns = []\n",
    "batch_ans = []\n",
    "truncated_data = data_dict[12000:]\n",
    "total_len = len(truncated_data)\n",
    "last = 0\n",
    "for i, data in enumerate(truncated_data):\n",
    "    print(\"Pipeline iter\", i)\n",
    "    question = data[\"new_question\"]\n",
    "    answer = data[\"sparql_wikidata\"]\n",
    "    # try\n",
    "    #     linked, annotated, converted = pipe(question, answer)\n",
    "    # except Exception as e:\n",
    "    #     print(e)\n",
    "    #     continue\n",
    "    # responses.append([linked, annotated, converted])\n",
    "    if len(question) >= 2:\n",
    "        batch_qns.append(question)\n",
    "        batch_ans.append(answer)\n",
    "    if ((i + 1) % 50) == 0 or i == total_len - 1:\n",
    "        print(\"[Pipeline1]:\", f\"Linking {last}-{i}\")\n",
    "        try:\n",
    "            for linked, annotated, converted in pipe_batch(batch_qns, batch_ans):\n",
    "                responses.append([linked, annotated, converted])\n",
    "            batch_qns = []\n",
    "            batch_ans = []\n",
    "            last = i\n",
    "        except Exception as e:\n",
    "            raise e\n",
    "            # print(e)\n",
    "            # continue\n",
    "        with open(f\"../t5-for-sparql/falcon_links/4/link_{i}.json\", \"w\") as f:\n",
    "            json.dump(responses, f, indent=2, separators=(',',':'))"
   ]
  },
  {
   "cell_type": "code",
   "execution_count": null,
   "id": "d8d8a28d",
   "metadata": {
    "papermill": {
     "duration": null,
     "end_time": null,
     "exception": null,
     "start_time": null,
     "status": "pending"
    },
    "tags": []
   },
   "outputs": [],
   "source": [
    "# qns = ['What is the operating income for Qantas?', 'What is Mary Lou Rettons International Olympic Committee athlete ID.']\n",
    "# l = linker.link_batch(qns)\n",
    "# print(l)"
   ]
  },
  {
   "cell_type": "code",
   "execution_count": null,
   "id": "4cf2ae93",
   "metadata": {
    "papermill": {
     "duration": null,
     "end_time": null,
     "exception": null,
     "start_time": null,
     "status": "pending"
    },
    "tags": []
   },
   "outputs": [],
   "source": [
    "with open(\"home.json\", \"w\") as f:\n",
    "  json.dump(responses, f, indent=2 ,separators=(',', ': '))"
   ]
  }
 ],
 "metadata": {
  "kernelspec": {
   "display_name": "py310",
   "language": "python",
   "name": "python3"
  },
  "language_info": {
   "codemirror_mode": {
    "name": "ipython",
    "version": 3
   },
   "file_extension": ".py",
   "mimetype": "text/x-python",
   "name": "python",
   "nbconvert_exporter": "python",
   "pygments_lexer": "ipython3",
   "version": "3.10.11"
  },
  "papermill": {
   "default_parameters": {},
   "duration": 3573.956351,
   "end_time": "2023-07-13T03:58:19.171978",
   "environment_variables": {},
   "exception": true,
   "input_path": "pipeline1.ipynb",
   "output_path": "pipeline1-titan-12000.papermill.ipynb",
   "parameters": {},
   "start_time": "2023-07-13T02:58:45.215627",
   "version": "2.4.0"
  }
 },
 "nbformat": 4,
 "nbformat_minor": 5
}
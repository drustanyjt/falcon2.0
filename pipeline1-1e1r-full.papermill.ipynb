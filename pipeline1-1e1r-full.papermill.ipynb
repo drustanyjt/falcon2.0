{
 "cells": [
  {
   "attachments": {},
   "cell_type": "markdown",
   "id": "106d838c",
   "metadata": {
    "papermill": {
     "duration": 0.00639,
     "end_time": "2023-07-20T07:26:25.140823",
     "exception": false,
     "start_time": "2023-07-20T07:26:25.134433",
     "status": "completed"
    },
    "tags": []
   },
   "source": [
    "# Pipeline 1"
   ]
  },
  {
   "cell_type": "code",
   "execution_count": 1,
   "id": "13c258d6",
   "metadata": {
    "execution": {
     "iopub.execute_input": "2023-07-20T07:26:25.163067Z",
     "iopub.status.busy": "2023-07-20T07:26:25.162449Z",
     "iopub.status.idle": "2023-07-20T07:26:26.527538Z",
     "shell.execute_reply": "2023-07-20T07:26:26.526671Z"
    },
    "papermill": {
     "duration": 1.379866,
     "end_time": "2023-07-20T07:26:26.530780",
     "exception": false,
     "start_time": "2023-07-20T07:26:25.150914",
     "status": "completed"
    },
    "tags": []
   },
   "outputs": [
    {
     "name": "stdout",
     "output_type": "stream",
     "text": [
      "[Falcon2.0 main.py]: no reranking, k=1\n"
     ]
    }
   ],
   "source": [
    "from pipeline import Falcon2Linker, SerialAnnotator, T5Converter\n",
    "import time\n",
    "from pprint import pprint"
   ]
  },
  {
   "cell_type": "code",
   "execution_count": 2,
   "id": "61f6e57e",
   "metadata": {
    "execution": {
     "iopub.execute_input": "2023-07-20T07:26:26.544953Z",
     "iopub.status.busy": "2023-07-20T07:26:26.544501Z",
     "iopub.status.idle": "2023-07-20T07:26:26.719938Z",
     "shell.execute_reply": "2023-07-20T07:26:26.719023Z"
    },
    "papermill": {
     "duration": 0.186555,
     "end_time": "2023-07-20T07:26:26.722989",
     "exception": false,
     "start_time": "2023-07-20T07:26:26.536434",
     "status": "completed"
    },
    "tags": []
   },
   "outputs": [],
   "source": [
    "from pathlib import Path\n",
    "import pandas as pd\n",
    "import json\n",
    "import os\n",
    "\n",
    "data_path = Path(\"..\") / \"t5-for-sparql\" / \"data\" / \"lcquad2\" / \"train.json\"\n",
    "data2_path = Path(\"..\") / \"t5-for-sparql\" / \"data\" / \"lcquad2\" / \"test_KG_4211.json\"\n",
    "output_links_dir = Path(\"..\") / \"t5-for-sparql\" / \"falcon_links\" / \"1ents_1rels\"\n",
    "os.environ['ES_ENTITY_INDEX'] = \"wikidataentityindex\"\n",
    "os.environ['ES_PROPERTY_INDEX'] = \"wikidatapropertyindex\""
   ]
  },
  {
   "cell_type": "code",
   "execution_count": 3,
   "id": "398ddc88",
   "metadata": {
    "execution": {
     "iopub.execute_input": "2023-07-20T07:26:26.739825Z",
     "iopub.status.busy": "2023-07-20T07:26:26.739351Z",
     "iopub.status.idle": "2023-07-20T07:26:26.745955Z",
     "shell.execute_reply": "2023-07-20T07:26:26.745004Z"
    },
    "papermill": {
     "duration": 0.019768,
     "end_time": "2023-07-20T07:26:26.748385",
     "exception": false,
     "start_time": "2023-07-20T07:26:26.728617",
     "status": "completed"
    },
    "tags": []
   },
   "outputs": [],
   "source": [
    "linker = Falcon2Linker()\n",
    "annotator = SerialAnnotator()\n",
    "converter = T5Converter()"
   ]
  },
  {
   "cell_type": "code",
   "execution_count": 4,
   "id": "de63c836",
   "metadata": {
    "execution": {
     "iopub.execute_input": "2023-07-20T07:26:26.759975Z",
     "iopub.status.busy": "2023-07-20T07:26:26.759588Z",
     "iopub.status.idle": "2023-07-20T07:26:26.764183Z",
     "shell.execute_reply": "2023-07-20T07:26:26.763125Z"
    },
    "papermill": {
     "duration": 0.013652,
     "end_time": "2023-07-20T07:26:26.766199",
     "exception": false,
     "start_time": "2023-07-20T07:26:26.752547",
     "status": "completed"
    },
    "tags": []
   },
   "outputs": [],
   "source": [
    "utterance = \"Who is the wife of Barack Obama\""
   ]
  },
  {
   "cell_type": "code",
   "execution_count": 5,
   "id": "c98f431e",
   "metadata": {
    "execution": {
     "iopub.execute_input": "2023-07-20T07:26:26.829043Z",
     "iopub.status.busy": "2023-07-20T07:26:26.828676Z",
     "iopub.status.idle": "2023-07-20T07:26:28.442938Z",
     "shell.execute_reply": "2023-07-20T07:26:28.441613Z"
    },
    "papermill": {
     "duration": 1.676161,
     "end_time": "2023-07-20T07:26:28.446037",
     "exception": false,
     "start_time": "2023-07-20T07:26:26.769876",
     "status": "completed"
    },
    "tags": []
   },
   "outputs": [
    {
     "name": "stdout",
     "output_type": "stream",
     "text": [
      "recieved utterance\n",
      "0 : ['Who is the wife of Barack Obama']\n"
     ]
    },
    {
     "name": "stdout",
     "output_type": "stream",
     "text": [
      "['Who is the wife of Barack Obama', [['<http://www.wikidata.org/entity/P26>', 'wife']], [['<http://www.wikidata.org/entity/Q76>', 'Barack obama']], 0, 0, 0, 0]\n",
      "'Linked'\n",
      "{'ents': [{'id': 'Q76',\n",
      "           'prefix': 'wd:',\n",
      "           'uri': 'http://www.wikidata.org/entity/Q76'}],\n",
      " 'rels': [{'id': 'P26',\n",
      "           'prefix': 'wdt:',\n",
      "           'uri': 'http://www.wikidata.org/prop/direct/P26'}],\n",
      " 'utterance': 'Who is the wife of Barack Obama'}\n",
      "'Annotated'\n"
     ]
    },
    {
     "name": "stdout",
     "output_type": "stream",
     "text": [
      "{'fragments': ['[DEF]', 'wd:', 'Q76 Barack', '[DEF]', 'wdt:', 'P26 partner'],\n",
      " 'utterance': 'Who is the wife of Barack Obama'}\n",
      "'Converted'\n",
      "('Who is the wife of Barack Obama <extra_id_59> <extra_id_53> Q76 Barack '\n",
      " '<extra_id_59> <extra_id_54> P26 partner')\n"
     ]
    }
   ],
   "source": [
    "linked = linker.link(utterance)\n",
    "# rules = [1,2,3,4,5,8,9,10,12,13,14]\n",
    "# linked = process_text_E_R(utterance, rules)\n",
    "pprint(\"Linked\")\n",
    "pprint(linked)\n",
    "\n",
    "pprint(\"Annotated\")\n",
    "annotated = annotator.annotate(**linked)\n",
    "pprint(annotated)\n",
    "\n",
    "pprint(\"Converted\")\n",
    "converted = converter.preprocess_inputs(**annotated)\n",
    "pprint(converted)"
   ]
  },
  {
   "cell_type": "code",
   "execution_count": 6,
   "id": "b42681a9",
   "metadata": {
    "execution": {
     "iopub.execute_input": "2023-07-20T07:26:28.465765Z",
     "iopub.status.busy": "2023-07-20T07:26:28.464818Z",
     "iopub.status.idle": "2023-07-20T07:26:28.475505Z",
     "shell.execute_reply": "2023-07-20T07:26:28.474238Z"
    },
    "papermill": {
     "duration": 0.025492,
     "end_time": "2023-07-20T07:26:28.477903",
     "exception": false,
     "start_time": "2023-07-20T07:26:28.452411",
     "status": "completed"
    },
    "tags": []
   },
   "outputs": [],
   "source": [
    "import re\n",
    "\n",
    "def retrieve_gold_links(masked_wikisparql):\n",
    "  fragments = masked_wikisparql.upper().strip().split(' ')\n",
    "  ents = []\n",
    "  rels = []\n",
    "  result_dict = {\n",
    "    'ents': ents,\n",
    "    'rels': rels,\n",
    "  }\n",
    "  for fragment in fragments:\n",
    "    id_match = re.search('[QP][0-9]+',fragment)\n",
    "    if id_match:\n",
    "      id_raw = id_match.group(0)\n",
    "      if id_raw[0] == 'Q':\n",
    "        prefix = 'wdt:'\n",
    "        uri = 'http://www.wikidata.org/entity/' + id_raw\n",
    "        target_arr = ents\n",
    "      elif id_raw[0] == 'P':\n",
    "        prefix = 'wd:'\n",
    "        uri =  'http://www.wikidata.org/prop/direct/' + id_raw\n",
    "        target_arr = rels\n",
    "      else:\n",
    "        raise ValueError('ID does not start with P or Q')\n",
    "      match_dict = {\n",
    "        'id' : id_raw,\n",
    "        'prefix' : prefix,\n",
    "        'uri' : uri,\n",
    "      }\n",
    "      target_arr.append(match_dict)\n",
    "  return result_dict"
   ]
  },
  {
   "cell_type": "code",
   "execution_count": 7,
   "id": "a72a980f",
   "metadata": {
    "execution": {
     "iopub.execute_input": "2023-07-20T07:26:28.492209Z",
     "iopub.status.busy": "2023-07-20T07:26:28.491341Z",
     "iopub.status.idle": "2023-07-20T07:26:28.497996Z",
     "shell.execute_reply": "2023-07-20T07:26:28.496623Z"
    },
    "papermill": {
     "duration": 0.017494,
     "end_time": "2023-07-20T07:26:28.500143",
     "exception": false,
     "start_time": "2023-07-20T07:26:28.482649",
     "status": "completed"
    },
    "tags": []
   },
   "outputs": [],
   "source": [
    "def pipe(utterance, wikisparql):\n",
    "    linked = linker.link(utterance)\n",
    "    annotated = annotator.annotate(**linked)\n",
    "    converted = converter.preprocess(**annotated, wikisparql=wikisparql)\n",
    "    return linked, annotated, converted"
   ]
  },
  {
   "cell_type": "code",
   "execution_count": 8,
   "id": "0dcb00c5",
   "metadata": {
    "execution": {
     "iopub.execute_input": "2023-07-20T07:26:28.516442Z",
     "iopub.status.busy": "2023-07-20T07:26:28.515726Z",
     "iopub.status.idle": "2023-07-20T07:26:28.526693Z",
     "shell.execute_reply": "2023-07-20T07:26:28.525914Z"
    },
    "papermill": {
     "duration": 0.025572,
     "end_time": "2023-07-20T07:26:28.529312",
     "exception": false,
     "start_time": "2023-07-20T07:26:28.503740",
     "status": "completed"
    },
    "tags": []
   },
   "outputs": [],
   "source": [
    "def pipe_batch(utterances, wikisparqls):\n",
    "  batched = []\n",
    "  link_batch_start = time.time()\n",
    "  linked = linker.link_batch(utterances)\n",
    "\n",
    "  assert len(linked) == len(wikisparqls)\n",
    "\n",
    "  # for i, link in enumerate(linked):\n",
    "  #   gold_linked = retrieve_gold_links(wikisparqls[i])\n",
    "  #   new_ents=link['ents']\n",
    "  #   old_ents_set = set(x['id'] for x in link['ents'])\n",
    "  #   for gold_ent in gold_linked['ents']:\n",
    "  #       if gold_ent['id'] not in old_ents_set:\n",
    "  #           new_ents.append(gold_ent)\n",
    "  #   link['rels'] = []\n",
    "  #   assert len(linked[i]['rels']) == 0\n",
    "\n",
    "  link_batch_end = time.time()\n",
    "  s = time.time()\n",
    "  annotated = annotator.batch_annotate(linked)\n",
    "  e = time.time()\n",
    "  assert len(linked) == len(annotated)\n",
    "  annotator_time = e - s\n",
    "  converter_time = 0\n",
    "  for i, single_annotated in enumerate(annotated):\n",
    "    # annotated = annotator.annotate(**single_linked)\n",
    "    # try:\n",
    "    #   annotator_time += e - s\n",
    "    # except Exception as e:\n",
    "    #   print(\"[Annotator Error]:\", e)\n",
    "    #   continue\n",
    "    s = time.time()\n",
    "    try:\n",
    "      converted = converter.preprocess(**single_annotated, wikisparql=wikisparqls[i])\n",
    "    except Exception as e:\n",
    "      print(\"[Converter Error]:\", e)\n",
    "      continue\n",
    "      \n",
    "    e = time.time()\n",
    "    converter_time += e - s\n",
    "    batched.append([linked[i], annotated[i], converted])\n",
    "  print(\"Link batch time:\", link_batch_end - link_batch_start)\n",
    "  print(\"Anno batch time:\", annotator_time)\n",
    "  print(\"Conv batch time:\", converter_time)\n",
    "  return batched"
   ]
  },
  {
   "attachments": {},
   "cell_type": "markdown",
   "id": "d0534fdd",
   "metadata": {
    "papermill": {
     "duration": 0.006222,
     "end_time": "2023-07-20T07:26:28.540896",
     "exception": false,
     "start_time": "2023-07-20T07:26:28.534674",
     "status": "completed"
    },
    "tags": []
   },
   "source": [
    "## Data"
   ]
  },
  {
   "cell_type": "code",
   "execution_count": 9,
   "id": "5fe4f44f",
   "metadata": {
    "execution": {
     "iopub.execute_input": "2023-07-20T07:26:28.558899Z",
     "iopub.status.busy": "2023-07-20T07:26:28.558529Z",
     "iopub.status.idle": "2023-07-20T07:26:29.311421Z",
     "shell.execute_reply": "2023-07-20T07:26:29.310320Z"
    },
    "papermill": {
     "duration": 0.766579,
     "end_time": "2023-07-20T07:26:29.314545",
     "exception": false,
     "start_time": "2023-07-20T07:26:28.547966",
     "status": "completed"
    },
    "tags": []
   },
   "outputs": [
    {
     "name": "stdout",
     "output_type": "stream",
     "text": [
      "Missing question count: 71\n",
      "Number of rows: 28247\n"
     ]
    }
   ],
   "source": [
    "with open(data_path) as f:\n",
    "  data_dict = json.load(f)\n",
    "\n",
    "with open(data2_path) as f:\n",
    "  data_dict.extend(json.load(f))\n",
    "\n",
    "count = 0\n",
    "\n",
    "for item in data_dict:\n",
    "  paraphrased_question = item[\"paraphrased_question\"]\n",
    "  question = item[\"question\"]\n",
    "  if paraphrased_question == None:\n",
    "    raise Exception\n",
    "  if question == None:\n",
    "    count += 1\n",
    "    # print(len(paraphrased_question) > 2)\n",
    "    # pprint(item)\n",
    "  if item[\"sparql_wikidata\"] == None:\n",
    "    raise Exception\n",
    "  \n",
    "\n",
    "  if len(paraphrased_question) > 2000:\n",
    "    paraphrased_question = question\n",
    "  # item[\"new_question\"] = paraphrased_question if len(paraphrased_question) > 2 and paraphrased_question != [] else question\n",
    "  item[\"new_question\"] = question\n",
    "\n",
    "print(\"Missing question count:\", count)\n",
    "\n",
    "df = pd.DataFrame.from_dict(data_dict)\n",
    "df = df.dropna(axis=0, subset=['new_question'])\n",
    "df = df[~df.question.isin(['n/a', None, 'none', 'None'])]\n",
    "n_entries = len(df)\n",
    "print(\"Number of rows:\", n_entries)"
   ]
  },
  {
   "cell_type": "code",
   "execution_count": 10,
   "id": "12574f49",
   "metadata": {
    "execution": {
     "iopub.execute_input": "2023-07-20T07:26:29.334886Z",
     "iopub.status.busy": "2023-07-20T07:26:29.334268Z",
     "iopub.status.idle": "2023-07-20T07:26:29.345320Z",
     "shell.execute_reply": "2023-07-20T07:26:29.344468Z"
    },
    "papermill": {
     "duration": 0.026573,
     "end_time": "2023-07-20T07:26:29.347851",
     "exception": false,
     "start_time": "2023-07-20T07:26:29.321278",
     "status": "completed"
    },
    "tags": []
   },
   "outputs": [],
   "source": [
    "assert(len(df[df.question.isna()]) == 0)"
   ]
  },
  {
   "cell_type": "code",
   "execution_count": 11,
   "id": "9c79beac",
   "metadata": {
    "execution": {
     "iopub.execute_input": "2023-07-20T07:26:29.365521Z",
     "iopub.status.busy": "2023-07-20T07:26:29.365078Z",
     "iopub.status.idle": "2023-07-20T07:26:29.373293Z",
     "shell.execute_reply": "2023-07-20T07:26:29.372093Z"
    },
    "papermill": {
     "duration": 0.024171,
     "end_time": "2023-07-20T07:26:29.377848",
     "exception": false,
     "start_time": "2023-07-20T07:26:29.353677",
     "status": "completed"
    },
    "tags": []
   },
   "outputs": [
    {
     "name": "stdout",
     "output_type": "stream",
     "text": [
      "What periodical literature does Delta Air Lines use as a moutpiece?\n",
      "Who is the child of Ranavalona I's husband?\n",
      "Is it true Jeff_Bridges occupation Lane Chandler and photographer ?\n",
      "What is the pre-requisite of phase matter of Galinstan?\n",
      "Which is the operating income for Qantas?\n"
     ]
    }
   ],
   "source": [
    "for data in df[0:5].iterrows():\n",
    "    print(data[1].new_question)"
   ]
  },
  {
   "cell_type": "code",
   "execution_count": 12,
   "id": "307aa035",
   "metadata": {
    "execution": {
     "iopub.execute_input": "2023-07-20T07:26:29.394282Z",
     "iopub.status.busy": "2023-07-20T07:26:29.393665Z"
    },
    "papermill": {
     "duration": null,
     "end_time": null,
     "exception": false,
     "start_time": "2023-07-20T07:26:29.383591",
     "status": "running"
    },
    "tags": []
   },
   "outputs": [
    {
     "name": "stdout",
     "output_type": "stream",
     "text": [
      "\n",
      "[Pipeline1]: Linking 0-1999\n",
      "1 : ['What periodical literature does Delta Air Lines use as a moutpiece?']\n",
      "1 : ['Which is HanCinema person ID for Zhang Ziyi?']\n",
      "1 : ['Who is the student that coined the Euler-Lagrange equation?']\n",
      "1 : ['Does St. Peters Junior School maximum age equal to 11?']\n",
      "1 : ['Which is the meta-organization that is regulated by the football association?']\n",
      "1 : ['What award did Olga Tokarczuk receive in 2015?']\n",
      "1 : ['Who is {champ} of {prize awarded} {Lily Tomlin} ?']\n",
      "1 : ['Mention the musical related work highlighting the work of Sasha Grey.']\n",
      "1 : ['What is the Velká pardubická with the lowest race time whose winner is Peter Gehm?']\n",
      "1 : ['Which is the author of afterword of Erich Fromm?']\n",
      "1 : ['Is tuberculosis prevalent?']\n",
      "1 : ['Tell me soil type whose name has the word vertisol in it.']\n",
      "1 : ['How far west are we?']\n",
      "1 : ['Who is the mother and husband of Candice Bergen?']\n",
      "1 : ['Who was presumably thought to be a student of Strabo?']\n",
      "1 : ['Name a fruit composed of Citrullus lanatus that starts with letter W']\n",
      "1 : ['In the 68th Academy Awards, what nomination did Mira Sorvino receive?']\n",
      "1 : ['who was the pope replaced by?']\n",
      "1 : ['What are the national cuisine which start with the letter m']\n",
      "1 : ['What is the CBS municipality code of Nijmegen?']\n",
      "1 : ['What is Fantastic Fiction author ID of James Ellroy?']\n",
      "1 : ['When did Alla Pugacheva divorce his wife, Mykolas Orbakas?']\n",
      "1 : ['What nonprofit organization is regulated by the association of football?']\n",
      "1 : ['What is the Commonwealth area with the lowest real gross domestic product growth rate whose diplomatic relation is Taiwan?']\n",
      "1 : ['Is it true that the Wu Tang Clan signed with Loud Records and Ruff Ryders Entertainment?']\n",
      "1 : ['How many colors are next to brown']\n",
      "1 : ['Tell me me a cryptocurrenc whose name consist of the word neo and whose stock exchange bitfinex']\n",
      "1 : ['In the consort of Myrna Loy, what is the service branch?']\n",
      "1 : ['Who is the showrunner of The Apprentice, who also has a sister called Robert Trump?']\n"
     ]
    },
    {
     "name": "stdout",
     "output_type": "stream",
     "text": [
      "1 : ['Is the apoapsis of the Aotearoa 3400 equal to 2.126?']\n",
      "1 : ['Who regulates the genetic association of hsa-miR-5006-3p in molecular biology']\n",
      "1 : ['At what role did John Tyler replace William Henry Harrison?']\n"
     ]
    },
    {
     "name": "stdout",
     "output_type": "stream",
     "text": [
      "2 : ['Who is {creators} of {language of the original work} {Star Trek Into Darkness} ?']\n",
      "3 : ['Tell me national association football team whose name has the word team in it.']\n"
     ]
    },
    {
     "name": "stdout",
     "output_type": "stream",
     "text": [
      "4 : ['What is the active ingredient pharmaceutical product in erythromycin?']\n"
     ]
    },
    {
     "name": "stdout",
     "output_type": "stream",
     "text": [
      "5 : ['Did Judi Densch receive a Tony Award for best direction of the play Premium Imperiale?']\n"
     ]
    },
    {
     "name": "stdout",
     "output_type": "stream",
     "text": [
      "6 : ['Is it true that the minimum wavelength sensitivity of the Giant Magellan Telescope is 320?']\n"
     ]
    },
    {
     "name": "stdout",
     "output_type": "stream",
     "text": [
      "7 : ['Which country has highest individual tax rate?']\n"
     ]
    },
    {
     "name": "stdout",
     "output_type": "stream",
     "text": [
      "8 : ['Where was Syrie Maughams country of citizenship in 1927?']\n",
      "9 : ['Was Herbie Hancock the winner of the award for the Grammy Award for Best Pop Collaboration with Vocals?']\n"
     ]
    },
    {
     "name": "stdout",
     "output_type": "stream",
     "text": [
      "10 : ['Which website does Twitch own?']\n",
      "11 : ['Who are worked for Michelle Wolf and its source location of group/organisation is located in New York City?']\n"
     ]
    },
    {
     "name": "stdout",
     "output_type": "stream",
     "text": [
      "12 : ['What is Lizzy Yarnolds TheSports.org athlete ID?']\n",
      "13 : ['Which language written from Romy Schneider, has the grammatical person speaking as the third personal plural?']\n",
      "14 : ['Is the toughness of Grivory GM-4H less than 7.2?']\n",
      "15 : ['When was the spouse divorced Nero in 9-6-68']\n",
      "16 : ['What position did John Hume hold, when was he elected, and what position did he hold in the 53rd Parliament of the United Kingdom?']\n"
     ]
    },
    {
     "name": "stdout",
     "output_type": "stream",
     "text": [
      "17 : ['What is the ammunition of the weapon, that has been used in the war in Southeast Asia?']\n",
      "18 : ['Which bourbon whisky has the lowest alcohol by volume whose country of origin is united states of america?']\n"
     ]
    },
    {
     "name": "stdout",
     "output_type": "stream",
     "text": [
      "19 : ['What is Porky Pig in right now?']\n"
     ]
    },
    {
     "name": "stdout",
     "output_type": "stream",
     "text": [
      "20 : ['Which is the television series which contains the word zigby in its name?']\n",
      "21 : ['What diplomatic crisis lead to the founding of the Russian Orthodox Church?']\n",
      "22 : ['Tell me interface standard whose name has the word virtuallink in it.']\n",
      "23 : ['When did James Thomas Farrell receive the St. Louis Literary Award?']\n",
      "24 : ['When did Supernatural win the Favorite Pop/Rock Album award?']\n"
     ]
    },
    {
     "name": "stdout",
     "output_type": "stream",
     "text": [
      "25 : ['Is the minimal lethal dose of the benzene equal to 170000?']\n",
      "26 : ['Which is FIFA player ID for Stanislav Cherchesov?']\n",
      "27 : ['When was Isadora Duncans funeral?']\n",
      "28 : ['Were Dutch and Hungarian the official languages of the Holy Roman Empire?']\n"
     ]
    },
    {
     "name": "stdout",
     "output_type": "stream",
     "text": [
      "29 : ['Who is the child of Ranavalona Is husband?']\n"
     ]
    },
    {
     "name": "stdout",
     "output_type": "stream",
     "text": [
      "30 : ['Is the PPP GDP per capita of Lithuania less than 22148.8']\n",
      "31 : ['Who is the spouse of Aaliyah and when did they divorce?']\n",
      "32 : ['What is located on the astronomical body of North America?']\n"
     ]
    },
    {
     "name": "stdout",
     "output_type": "stream",
     "text": [
      "33 : ['What conflict is depicted is Raising the Flag on Iwo Jima?']\n",
      "34 : ['Who is the author of the Watchmen and what award did they receive?']\n"
     ]
    },
    {
     "name": "stdout",
     "output_type": "stream",
     "text": [
      "35 : ['What is the boiling point of pressure copper as 4703.0?']\n"
     ]
    },
    {
     "name": "stdout",
     "output_type": "stream",
     "text": [
      "36 : ['Who is {took part in} of {boy}, which has {theatre season} is {classical antiquity} ?']\n"
     ]
    },
    {
     "name": "stdout",
     "output_type": "stream",
     "text": [
      "37 : ['What is { award received } from { Justin Timberlake } that is { point in time } is { 2007 - 0 - 0 }?']\n",
      "38 : ['What award did John de Mol receive in 2011?']\n"
     ]
    },
    {
     "name": "stdout",
     "output_type": "stream",
     "text": [
      "39 : ['Former champion Francisco Alarcon gave what award to Art Spiegelaman?']\n",
      "40 : ['Who is {followed by} and {follows} of {{Guy of Lusignan} has {noble title} as {King of Jerusalem}}']\n",
      "41 : ['what is stable version of user interface of amazon kindle?']\n",
      "42 : ['Tell me the most notable work of Christopher Hitchens and also the publisher.']\n",
      "43 : ['Which is the gens of Sallust?']\n",
      "44 : ['what is {PhD advisor} of {favorite player} of {Anthony Giddens, Baron Giddens} ?']\n"
     ]
    },
    {
     "name": "stdout",
     "output_type": "stream",
     "text": [
      "45 : ['When did publisher of Pac-Man and place of publication?']\n"
     ]
    },
    {
     "name": "stdout",
     "output_type": "stream",
     "text": [
      "46 : ['What are the unit of measurement which start with the letter visus']\n",
      "47 : ['Who is the person that was a student of Ivan Pavlov?']\n"
     ]
    },
    {
     "name": "stdout",
     "output_type": "stream",
     "text": [
      "48 : ['Who is the owner of the theatre company that made The Birth of the Star Spangled Banner?']\n"
     ]
    },
    {
     "name": "stdout",
     "output_type": "stream",
     "text": [
      "49 : ['What is the international organization for World Bank?']\n",
      "50 : ['When was Pablo Picassos partnership with Fernade Oliver over?']\n",
      "51 : ['What is {inhabitants} {nationality} of {Leopold von Sacher-Masoch} ?']\n",
      "52 : ['Is it true Jeff_Bridges occupation Lane Chandler and photographer ?']\n",
      "53 : ['Is the topographic prominence of the Franzosenkopf less than 4.0?']\n"
     ]
    },
    {
     "name": "stdout",
     "output_type": "stream",
     "text": [
      "54 : ['Tell me about spouse of Barbara Walters and start time?']\n"
     ]
    },
    {
     "name": "stdout",
     "output_type": "stream",
     "text": [
      "55 : ['After what is Marathon named and what is the current record?']\n",
      "56 : ['What is Ferenc Molnars compArt person ID?']\n",
      "57 : ['What what is unary operation notation by integral symbol and which that starts with {i}']\n",
      "58 : ['What are Jews the opposite of and for whom are they named?']\n"
     ]
    },
    {
     "name": "stdout",
     "output_type": "stream",
     "text": [
      "59 : ['who culture of state of australian secret intelligence services ?']\n"
     ]
    },
    {
     "name": "stdout",
     "output_type": "stream",
     "text": [
      "60 : ['Tell me every horse breed whose name starts with the letter z']\n"
     ]
    },
    {
     "name": "stdout",
     "output_type": "stream",
     "text": [
      "61 : ['Which is a used metre of lliad?']\n"
     ]
    },
    {
     "name": "stdout",
     "output_type": "stream",
     "text": [
      "62 : ['Name a book written in Esperanto']\n"
     ]
    },
    {
     "name": "stdout",
     "output_type": "stream",
     "text": [
      "63 : ['Is the total fertility rate of Algeria greater than 3.4284?']\n"
     ]
    },
    {
     "name": "stdout",
     "output_type": "stream",
     "text": [
      "64 : ['which award E.T. the Extra-Terrestrial did receive and at what time he got it?']\n",
      "65 : ['Does the cash back of the Gold  ADAC Credit Card equals 5?']\n",
      "66 : ['What was the population of Aysén Region from 1992-0-0?']\n"
     ]
    },
    {
     "name": "stdout",
     "output_type": "stream",
     "text": [
      "67 : ['Which is the spacecraft that is manufactured by SpaceX?']\n"
     ]
    },
    {
     "name": "stdout",
     "output_type": "stream",
     "text": [
      "68 : ['What Chinese dynasty replaced the Yuan dynasty?']\n"
     ]
    },
    {
     "name": "stdout",
     "output_type": "stream",
     "text": [
      "69 : ['Where is {on harbour} of {Kryvyi Rih}, which has {tributary} is {Saksahan} ?']\n"
     ]
    },
    {
     "name": "stdout",
     "output_type": "stream",
     "text": [
      "70 : ['Which is the Great Aragonese Encyclopedia ID for Allium cepa?']\n",
      "71 : ['Are there more than 0 survivors of the Charkhi Dadri mid-air collision']\n",
      "72 : ['What is the total fertility rate of Sudan with estimation process?']\n"
     ]
    },
    {
     "name": "stdout",
     "output_type": "stream",
     "text": [
      "73 : ['What explosive chemical has the highest explosive velocity ?']\n"
     ]
    },
    {
     "name": "stdout",
     "output_type": "stream",
     "text": [
      "74 : ['What is the pre-requisite of phase matter of Galinstan?']\n",
      "75 : ['What are the opening hours for Thursday?']\n",
      "76 : ['is the clock speed of the Watara Supervision smaller than 3.2?']\n"
     ]
    },
    {
     "name": "stdout",
     "output_type": "stream",
     "text": [
      "77 : ['What is the genetic association of major depressive disorder with the determination method TAS?']\n",
      "78 : ['When will the pressure and temperature of water reach the triple point stage?']\n",
      "79 : ['what was the publication date for iTunes which has software version as 12.7.5?']\n",
      "80 : ['What is the affiliation building in Columbia University']\n",
      "81 : ['How did John Wilkes Booth kill Abraham Lincoln?']\n",
      "82 : ['What are the historical progress which start with the letter g']\n",
      "83 : ['What is the INSEE countries and foreign territories code for the Democratic Republic of Congo?']\n",
      "84 : ['When was Boris Johnson the Member of the 56th  Parliament of the United Kingdom?']\n",
      "85 : ['What is the general manager of Bernard Hinault?']\n"
     ]
    },
    {
     "name": "stdout",
     "output_type": "stream",
     "text": [
      "86 : ['Who Sleepwalking succeeded in playing Sleepwalking?']\n",
      "87 : ['Was Aleister Crowley educated at Trinity College and Eton College?']\n"
     ]
    },
    {
     "name": "stdout",
     "output_type": "stream",
     "text": [
      "88 : ['What is the second language of Peter Faber which regulatory body is Pontifical Academy of Latin?']\n",
      "89 : ['What is the product with the lowest consumption rate per capita whose has part is paraffin wax?']\n",
      "90 : ['What is being treated in an individual with arteriosclerosis?']\n"
     ]
    },
    {
     "name": "stdout",
     "output_type": "stream",
     "text": [
      "91 : ['The University of Florida is a member of which coalition?']\n"
     ]
    },
    {
     "name": "stdout",
     "output_type": "stream",
     "text": [
      "92 : ['How would you spell meat pie using the international phonetic alphabet?']\n"
     ]
    },
    {
     "name": "stdout",
     "output_type": "stream",
     "text": [
      "93 : ['Who is the son of Jacob Conover?']\n"
     ]
    },
    {
     "name": "stdout",
     "output_type": "stream",
     "text": [
      "94 : ['Name an unity of measure used for temperature that starts with letter P']\n"
     ]
    },
    {
     "name": "stdout",
     "output_type": "stream",
     "text": [
      "95 : ['What administrative territorial entity was Sint Maarten located in the year December 15, 1954?']\n"
     ]
    },
    {
     "name": "stdout",
     "output_type": "stream",
     "text": [
      "96 : ['What type of clothing do the characters in The Silent Stars Go By wear?']\n",
      "97 : ['Tell me medical specialty whose name has the word trichology in it.']\n"
     ]
    },
    {
     "name": "stdout",
     "output_type": "stream",
     "text": [
      "98 : ['Who is the opposite of the superhero?']\n"
     ]
    },
    {
     "name": "stdout",
     "output_type": "stream",
     "text": [
      "99 : ['Is the human genome size more than 3881796000?']\n"
     ]
    },
    {
     "name": "stdout",
     "output_type": "stream",
     "text": [
      "100 : ['What language does the sculptor of Z3 write in?']\n",
      "101 : ['What is the music genre that is made by Battle Zeque Den']\n"
     ]
    },
    {
     "name": "stdout",
     "output_type": "stream",
     "text": [
      "102 : ['Is the half-life of silicon-36 less than 0.54?']\n",
      "103 : ['When did Secretariat receive the Triple Crown Trophy?']\n"
     ]
    },
    {
     "name": "stdout",
     "output_type": "stream",
     "text": [
      "104 : ['What is the commune of France with the lowest population whose located in time zone is UTC+01:00?']\n"
     ]
    },
    {
     "name": "stdout",
     "output_type": "stream",
     "text": [
      "105 : ['Name the FSK 12 rated 3D film with the highest cost ?']\n",
      "106 : ['What country is the current leader of the African Union ?']\n",
      "107 : ['Which is the operating income for Qantas?']\n"
     ]
    },
    {
     "name": "stdout",
     "output_type": "stream",
     "text": [
      "108 : ['What sovereign state belonging to the International Finance Corporation has the lowest unemployment rate?']\n",
      "109 : ['What is the category for recipients for the Noble Prize?']\n"
     ]
    },
    {
     "name": "stdout",
     "output_type": "stream",
     "text": [
      "110 : ['what was the position held by john major and when did it end?']\n",
      "111 : ['Gordon Lightfoot was nominated for what at what time?']\n"
     ]
    },
    {
     "name": "stdout",
     "output_type": "stream",
     "text": [
      "112 : ['Where is the human place of birth in Thessaloniki?']\n"
     ]
    },
    {
     "name": "stdout",
     "output_type": "stream",
     "text": [
      "113 : ['What did Clifton Chenier get nominated for in 1983-0-0?']\n",
      "114 : ['Where is the drainage basin of the Brazos River?']\n",
      "115 : ['What is the warheroes.ru ID for Yuri Gagarin?']\n"
     ]
    },
    {
     "name": "stdout",
     "output_type": "stream",
     "text": [
      "116 : ['Tell me physical phenomenon whose name has the word surface in it.']\n",
      "117 : ['What is {located next to Quincy,} in the {novel, Infinite Jest}?']\n",
      "118 : ['What is the use of playing World Rugby?']\n",
      "119 : ['Who is the brother in law of the writer Quran?']\n"
     ]
    },
    {
     "name": "stdout",
     "output_type": "stream",
     "text": [
      "120 : ['What award did I.M. Pei receive in 2010?']\n"
     ]
    },
    {
     "name": "stdout",
     "output_type": "stream",
     "text": [
      "121 : ['When did the Three Kingdoms period end in Korea?']\n",
      "122 : ['Dennis M. Ritchie designed which structured programming language?']\n"
     ]
    },
    {
     "name": "stdout",
     "output_type": "stream",
     "text": [
      "123 : ['Which religious concept starts with the letter t']\n",
      "124 : ['Which borders of borders of Riverside have a start date of 1984-0-0?']\n",
      "125 : ['When did Ronna Romney McDaniel become chairperson of the Republican Party?']\n"
     ]
    },
    {
     "name": "stdout",
     "output_type": "stream",
     "text": [
      "126 : ['What is a sovereign state for office held by the popes head of state?']\n",
      "127 : ['which cola starts with the letter p']\n"
     ]
    },
    {
     "name": "stdout",
     "output_type": "stream",
     "text": [
      "128 : ['Which is the historic era in Epaminondas having completed in 600-1-1?']\n",
      "129 : ['What are the coordinates for the geographic center of Michigan, as determined by the center of gravity of the surface?']\n",
      "130 : ['Who works for the accused Mariposa Folk Festival 1974?']\n"
     ]
    },
    {
     "name": "stdout",
     "output_type": "stream",
     "text": [
      "131 : ['how many performances are by jimi hendrix?']\n"
     ]
    },
    {
     "name": "stdout",
     "output_type": "stream",
     "text": [
      "132 : ['What is John Xs persumed date of date according to sourcing circumstances?']\n",
      "133 : ['Who stars with Ian Carlyle in the production?']\n",
      "134 : ['How do you pronounce coffee in the Georgian language?']\n",
      "135 : ['What is the density of aluminium at a temperature of 20 degrees?']\n"
     ]
    },
    {
     "name": "stdout",
     "output_type": "stream",
     "text": [
      "136 : ['Matthias Sindelar who has number of points/goals/set scored as 26.0 is a member of which sports team ?']\n",
      "137 : ['Who is C. V. Ramans doctor']\n",
      "138 : ['What is the temperature of toxaphene that has a density of 1.65?']\n",
      "139 : ['What is the honorary title given to Albert Gunther which was won by P.A. Buxton?']\n"
     ]
    },
    {
     "name": "stdout",
     "output_type": "stream",
     "text": [
      "140 : ['What is the current population of Aden?']\n",
      "141 : ['What is Anthony Vivaldis CPDL ID?']\n"
     ]
    },
    {
     "name": "stdout",
     "output_type": "stream",
     "text": [
      "142 : ['How many are interested in Daniel Dennett?']\n",
      "143 : ['Is the diameter pf nickel equal to 0.807?']\n"
     ]
    },
    {
     "name": "stdout",
     "output_type": "stream",
     "text": [
      "144 : ['What book series did the author Dante Alighieri write?']\n",
      "145 : ['who  is the city for capital of wales?']\n"
     ]
    },
    {
     "name": "stdout",
     "output_type": "stream",
     "text": [
      "146 : ['At what rate was inflation in Venezuela in the year 1996?']\n"
     ]
    },
    {
     "name": "stdout",
     "output_type": "stream",
     "text": [
      "147 : ['Which is the wear for Ambrose Burnside?']\n",
      "148 : ['Is it true that the explosive energy equivalent of Father of All Bombs is less than 52.8?']\n",
      "149 : ['Who was the person with Chris Rock when he was awarded the Lunt-Fontanne Award for Ensemble Excellence?']\n",
      "150 : ['Is the right ascension of malin 1 less than 15.1398?']\n"
     ]
    },
    {
     "name": "stdout",
     "output_type": "stream",
     "text": [
      "151 : ['What sister city was born in of Zakhar Oskotsky?']\n",
      "152 : ['What role does Mickey Mouse play in the creative work of Ben Sharpsteen?']\n"
     ]
    },
    {
     "name": "stdout",
     "output_type": "stream",
     "text": [
      "153 : ['What is the state of India that contain the word uttarakhand in its name ?']\n",
      "154 : ['Where is {deathplace} of {Amelia Earhart}, which has {tributary} is {Ayampe River} ?']\n"
     ]
    },
    {
     "name": "stdout",
     "output_type": "stream",
     "text": [
      "155 : ['What is the New Zealand Gazetteer place id for Auckland?']\n"
     ]
    },
    {
     "name": "stdout",
     "output_type": "stream",
     "text": [
      "156 : ['What is the district of the city with the MAX(number of houses whose instance of is district of the city?']\n"
     ]
    },
    {
     "name": "stdout",
     "output_type": "stream",
     "text": [
      "157 : ['what is spouse of Carlos Saura that is start time is 2006?']\n",
      "158 : ['tell me demigod of Greek mythology wears hide  starts with h']\n"
     ]
    },
    {
     "name": "stdout",
     "output_type": "stream",
     "text": [
      "159 : ['where does Vladimir putin reside?']\n",
      "160 : ['What causes rain?']\n"
     ]
    },
    {
     "name": "stdout",
     "output_type": "stream",
     "text": [
      "161 : ['Is the stated age of Rolf-Axel Eberhardt greater than 52?']\n"
     ]
    },
    {
     "name": "stdout",
     "output_type": "stream",
     "text": [
      "162 : ['Who is the viceroy of Tasmania?']\n",
      "163 : ['In 1996, what significant event happened in the administrative territorial entity of Bristol?']\n"
     ]
    },
    {
     "name": "stdout",
     "output_type": "stream",
     "text": [
      "164 : ['What is the Malayalam alphabet?']\n"
     ]
    },
    {
     "name": "stdout",
     "output_type": "stream",
     "text": [
      "165 : ['Who awarded Eric Hobsbawm an honorary doctorate?']\n"
     ]
    },
    {
     "name": "stdout",
     "output_type": "stream",
     "text": [
      "166 : ['Tell me biogeochemical cycle whose name has the word cycle in it.']\n",
      "167 : ['Which is the facility of the defensive wall?']\n"
     ]
    },
    {
     "name": "stdout",
     "output_type": "stream",
     "text": [
      "168 : ['did john grisham have a degree in law in the University of mississippi school of law?']\n",
      "169 : ['What is the country of citizenship and the religion of Elizabeth_Smart ?']\n"
     ]
    },
    {
     "name": "stdout",
     "output_type": "stream",
     "text": [
      "170 : ['Which is the Basketball-Reference.com NBA player ID of Hakeem Olajuwon?']\n",
      "171 : ['Which is the Commons gallery for Georges Seurat?']\n",
      "172 : ['Tell me the name of a fantastique genre that starts with the letter s.']\n"
     ]
    },
    {
     "name": "stdout",
     "output_type": "stream",
     "text": [
      "173 : ['Which is the municipality of Belgium that has the headquarters location of European Union?']\n",
      "174 : ['What is the service branch  by Julius and Ethel Rosenberg, which has subsidiary entities including Arlington National Cemetery?']\n",
      "175 : ['What is the complete list of records released by Jerry Lee Lewis?']\n",
      "176 : ['Is it true that the topographic isolation of Pollux equals to 0.7?']\n"
     ]
    },
    {
     "name": "stdout",
     "output_type": "stream",
     "text": [
      "177 : ['Which is the patron saint of the place of death of Anna de Medici?']\n",
      "178 : ['Which Class IB flammable liquid has the least lower flammable limit?']\n"
     ]
    },
    {
     "name": "stdout",
     "output_type": "stream",
     "text": [
      "179 : ['What does the painting Grade Odalisque represent which has DRTL backwards?']\n",
      "180 : ['Which programming language did Dennis M. Ritchie create?']\n"
     ]
    },
    {
     "name": "stdout",
     "output_type": "stream",
     "text": [
      "181 : ['What is at the Kolyma River at the coordinates 161.364?']\n",
      "182 : ['What was George Washingtons military rank between 1774 and 1796?']\n"
     ]
    },
    {
     "name": "stdout",
     "output_type": "stream",
     "text": [
      "183 : ['What is name of John Foster Dulles Latin script that has alphabet?']\n"
     ]
    },
    {
     "name": "stdout",
     "output_type": "stream",
     "text": [
      "184 : ['When was Vittorio De Sica nominated for an Academy Award for Best Supporting Actor?']\n"
     ]
    },
    {
     "name": "stdout",
     "output_type": "stream",
     "text": [
      "185 : ['What is  in the IHO Hydrographic Dictionary (S-32) Number of lighthouse ?']\n",
      "186 : ['Who is drafted by the Boston Celtics?']\n",
      "187 : ['What was the last team Allan Border belonged to in the year 1980?']\n"
     ]
    },
    {
     "name": "stdout",
     "output_type": "stream",
     "text": [
      "188 : ['When Podgorica started as Principality of Montenegro?']\n"
     ]
    },
    {
     "name": "stdout",
     "output_type": "stream",
     "text": [
      "189 : ['What are the beliefs of the Chinese Communist Partys Chair, Hu Jintao?']\n",
      "190 : ['What is a nut that starts with the letter n.']\n"
     ]
    },
    {
     "name": "stdout",
     "output_type": "stream",
     "text": [
      "191 : ['How many numbers of exclave for the  {Azerbaijan} ?']\n"
     ]
    },
    {
     "name": "stdout",
     "output_type": "stream",
     "text": [
      "192 : ['Which is the GeneReviews ID for Alzheimers disease?']\n"
     ]
    },
    {
     "name": "stdout",
     "output_type": "stream",
     "text": [
      "193 : ['When did child of Abigail Adams and date of birth?']\n",
      "194 : ['Was Cleopatras child named Caesarion?']\n",
      "195 : ['What is the stock exchange for the ticker symbol 0700 in Tencent?']\n"
     ]
    },
    {
     "name": "stdout",
     "output_type": "stream",
     "text": [
      "196 : ['WHICH IS THE ZUCKERART THAT CONTAINS WITH THE WORD SYRUP IN THER NAME']\n",
      "197 : ['Is the life expectancy of Indonesia 55.3528?']\n",
      "198 : ['What is the court and application of jurisdiction of Roe v. Wade?']\n",
      "199 : ['TELL ME TRADITIONAL FAIRY TALE WHOSE NAME HAS THE WORD SNOW IN IT.']\n"
     ]
    },
    {
     "name": "stdout",
     "output_type": "stream",
     "text": [
      "200 : ['What business, product, or material does Facebook offer?']\n"
     ]
    },
    {
     "name": "stdout",
     "output_type": "stream",
     "text": [
      "201 : ['What does Kelly Clarkson do and where is she a citizen?']\n",
      "202 : ['Name the BAFTA settlement with the postcode DA.']\n",
      "203 : ['What is the cardinality of the complex logarithm input set?']\n",
      "204 : ['Where is the river source of the Rhine?']\n"
     ]
    },
    {
     "name": "stdout",
     "output_type": "stream",
     "text": [
      "205 : ['What is the material used and approved by Mojito?']\n",
      "206 : ['Is it true that the fee of Harvard University is less than 90?']\n"
     ]
    },
    {
     "name": "stdout",
     "output_type": "stream",
     "text": [
      "207 : ['What is Mary Lou Rettons International Olympic Committee athlete ID.']\n",
      "208 : ['Is Ridley Scott the child of Luke Scott and Jordan Scott?']\n",
      "209 : ['What is Auñamendi ID of Miguel López de Legazpi ?']\n"
     ]
    },
    {
     "name": "stdout",
     "output_type": "stream",
     "text": [
      "210 : ['Which is made from the goat meat having a common name as Domestic Goat?']\n",
      "211 : ['What award did Edward C. Prescott receive on 1-1-2004?']\n"
     ]
    },
    {
     "name": "stdout",
     "output_type": "stream",
     "text": [
      "212 : ['What is Bram Stokers occupation and field of work and did he work in Dublin Castle?']\n",
      "213 : ['What is the medal Angela Lansbury recieved?']\n",
      "214 : ['When did Barry Humphries receive the Centenray medal?']\n",
      "215 : ['What was Laurence Olivier nominated for at the 12th Academy Awards?']\n"
     ]
    },
    {
     "name": "stdout",
     "output_type": "stream",
     "text": [
      "216 : ['Name an empire that contains the word british in its name']\n"
     ]
    },
    {
     "name": "stdout",
     "output_type": "stream",
     "text": [
      "217 : ['When did Artem Sergeev, adopted son of Joseph Stalin, die?']\n",
      "218 : ['IS THE ENTHALPY OF VAPORIZATION OF METHANOL IS EQUAL TO 37400']\n",
      "219 : ['Which is the fictional analog of Hippocampus?']\n"
     ]
    },
    {
     "name": "stdout",
     "output_type": "stream",
     "text": [
      "220 : ['When did Emmerson Mnangagwa begin going to the University of Zambia?']\n",
      "221 : ['When is the date and birth of Joseph Stalins child with Svetlana Alliluyeva?']\n",
      "222 : ['Which is the total equity of Micron Technology?']\n"
     ]
    },
    {
     "name": "stdout",
     "output_type": "stream",
     "text": [
      "223 : ['What was Cate Blanchett nominated for her work in Im Not There?']\n",
      "224 : ['Give me a film character from a fictional universe, such as Marvel comics that starts with a W.']\n"
     ]
    },
    {
     "name": "stdout",
     "output_type": "stream",
     "text": [
      "225 : ['Does the Becherovka alcohol by volume less than 30.4']\n",
      "226 : ['Tell me the famine which starts with the letter t?']\n"
     ]
    },
    {
     "name": "stdout",
     "output_type": "stream",
     "text": [
      "227 : ['What are the head of state and the office held by head of state of the Soviet Union?']\n",
      "228 : ['What is { solubility } of { nitrous oxide } { solvent } is { water }?']\n"
     ]
    },
    {
     "name": "stdout",
     "output_type": "stream",
     "text": [
      "229 : ['Who else participated in Deep Blue with top dog Cray Blitz?']\n"
     ]
    },
    {
     "name": "stdout",
     "output_type": "stream",
     "text": [
      "230 : ['What is the Uppslagsverket Finland ID for kickboxing?']\n",
      "231 : ['What is the musical score by Missa Solemnis that has mother Maria Magdalena van Beethoven?']\n",
      "232 : ['Could you summarize Koreas history of this topic?']\n"
     ]
    },
    {
     "name": "stdout",
     "output_type": "stream",
     "text": [
      "233 : ['What are the phantom island which start with the letter T']\n"
     ]
    },
    {
     "name": "stdout",
     "output_type": "stream",
     "text": [
      "234 : ['What is a cause of death that begins with the letter p and can be found on a CT scan?']\n",
      "235 : ['WHICH IS THE ASSOCIATION OF FOOTCLUB THAT STARTS WITH W']\n"
     ]
    },
    {
     "name": "stdout",
     "output_type": "stream",
     "text": [
      "236 : ['Which chemical compound has the most binding energy?']\n"
     ]
    },
    {
     "name": "stdout",
     "output_type": "stream",
     "text": [
      "237 : ['Who won the prize at the sequel of the 1885 Wimbledon Championships- Gentlemens Singles?']\n",
      "238 : ['What is the timezone of the place Sallust died?']\n",
      "239 : ['Was Michael J. Foxs place of birth in Edmonton?']\n",
      "240 : ['Was Hank WIlliams a rockabilly and honky-tonk musician?']\n"
     ]
    },
    {
     "name": "stdout",
     "output_type": "stream",
     "text": [
      "241 : ['Is the maximum number of players for the coxless four 0.0?']\n"
     ]
    },
    {
     "name": "stdout",
     "output_type": "stream",
     "text": [
      "242 : ['Which is the Crossref funder ID of the National Museum of American History?']\n"
     ]
    },
    {
     "name": "stdout",
     "output_type": "stream",
     "text": [
      "243 : ['What is BIA PSY person ID for Carl Rogers ?']\n"
     ]
    },
    {
     "name": "stdout",
     "output_type": "stream",
     "text": [
      "244 : ['What is the instance of Antonio da Correggio whose date of birth is 1489-8-1?']\n"
     ]
    },
    {
     "name": "stdout",
     "output_type": "stream",
     "text": [
      "245 : ['What is located on terrain feature of Multonmah Falls?']\n"
     ]
    },
    {
     "name": "stdout",
     "output_type": "stream",
     "text": [
      "246 : ['What is GACS ID for West Africa?']\n",
      "247 : ['How many different kinds of industry are affected by furniture?']\n"
     ]
    },
    {
     "name": "stdout",
     "output_type": "stream",
     "text": [
      "248 : ['What is {holds position} of {Martin McGuinness}, which has {prequel of} is {Member of the 55th Parliament of the United Kingdom} ?']\n",
      "249 : ['Which is {landscape of} of {Virgin of the rocks}, which has {birth city} is {Tzippori} ?']\n"
     ]
    },
    {
     "name": "stdout",
     "output_type": "stream",
     "text": [
      "250 : ['WHO DIRECTS THE POLITICAL OFFICE HELD IN EDUARDO LOPEZ DORIGA']\n",
      "251 : ['where is the headquartes of  formation of google located?']\n"
     ]
    },
    {
     "name": "stdout",
     "output_type": "stream",
     "text": [
      "252 : ['How many seasons of Handball-Bundesliga are there?']\n",
      "253 : ['Tell me the tower that is depicted as Tower of Babel and contains the word babel in its name?']\n"
     ]
    },
    {
     "name": "stdout",
     "output_type": "stream",
     "text": [
      "254 : ['Which new conference did Donald Trump participate in?']\n",
      "255 : ['When did Abigail Adams father die, and who was he?']\n"
     ]
    },
    {
     "name": "stdout",
     "output_type": "stream",
     "text": [
      "256 : ['What are the prefecture-level city  which start with the letter ürümqi']\n",
      "257 : ['Which German city is twinned with Cardiff?']\n"
     ]
    },
    {
     "name": "stdout",
     "output_type": "stream",
     "text": [
      "258 : ['Did the East India Company own the Britannia and the Busbridge?']\n"
     ]
    },
    {
     "name": "stdout",
     "output_type": "stream",
     "text": [
      "259 : ['Which reward was The Diary of Anne Frank a nominee for?']\n"
     ]
    },
    {
     "name": "stdout",
     "output_type": "stream",
     "text": [
      "260 : ['Who is the captain of F.C. Porto?']\n",
      "261 : ['What kind of career does Grigori Kozintsev have in the screenwriting field?']\n",
      "262 : ['What type of beryl is found at he GPS coordinates of 24.77111111 34. 71805556?']\n"
     ]
    },
    {
     "name": "stdout",
     "output_type": "stream",
     "text": [
      "263 : ['What award was received Mary Tyler Moore ?']\n"
     ]
    },
    {
     "name": "stdout",
     "output_type": "stream",
     "text": [
      "264 : ['Mention the fictional universe described or included in The Matrix.']\n",
      "265 : ['Name a religious concept in Hinduism that contains the word yatra in its name']\n",
      "266 : ['How many works are occupied in the Rijksmuseum?']\n",
      "267 : ['When did Robert De Niro reside in Marbletown?']\n",
      "268 : ['When did Johnny Carson start as the presenter for The Tonight Show?']\n"
     ]
    },
    {
     "name": "stdout",
     "output_type": "stream",
     "text": [
      "269 : ['Stonewall Jackson commanded what battle?']\n",
      "270 : ['What is Palace of Westminsters architect and heritage designation?']\n"
     ]
    },
    {
     "name": "stdout",
     "output_type": "stream",
     "text": [
      "271 : ['When did Aaron Kwok receive the award for Golden Horse Award for Best Leading Actor?']\n",
      "272 : ['What is place of residence of Wangari Maathai,that has inflation rate of consumer price index as 2.9?']\n"
     ]
    },
    {
     "name": "stdout",
     "output_type": "stream",
     "text": [
      "273 : ['Which award did One Piece receive in 2009?']\n",
      "274 : ['When did Lee de Forest divorce from Nora Stanton Blatch Barney?']\n",
      "275 : ['What is the SIRUTA code of Constanta?']\n",
      "276 : ['What is melody of Tristan und Isolde ?']\n"
     ]
    },
    {
     "name": "stdout",
     "output_type": "stream",
     "text": [
      "277 : ['Is it true that the carbon footprint of the iPhone X Max is 106?']\n",
      "278 : ['What is established by Archbishop of Canterbury, who is a male?']\n",
      "279 : ['What was the population of Washington, D.C. at the start of 1860?']\n"
     ]
    },
    {
     "name": "stdout",
     "output_type": "stream",
     "text": [
      "280 : ['How many games did Just Fontaine play for the O.G.C. Nice and how many goals did he score?']\n",
      "281 : ['who unit of density for measured by of density?']\n",
      "282 : ['what is Tuesday named after?']\n"
     ]
    },
    {
     "name": "stdout",
     "output_type": "stream",
     "text": [
      "283 : ['What are the autonomous region of the Peoples Republic of China which start with the letter X']\n",
      "284 : ['What is the name of award recieved for Dawn Fraser has participant of 1960 Summer Olympics ?']\n"
     ]
    },
    {
     "name": "stdout",
     "output_type": "stream",
     "text": [
      "285 : ['Mention the temperature and the state of the matter of water upon achieving the critical point']\n"
     ]
    },
    {
     "name": "stdout",
     "output_type": "stream",
     "text": [
      "286 : ['Tell me organization whose name has the word  zollkriminalamt  in it.']\n",
      "287 : ['Name a business whose heaquarters are located in Lyon']\n"
     ]
    },
    {
     "name": "stdout",
     "output_type": "stream",
     "text": [
      "288 : ['Where is the archive for archives of The Walt Disney company?']\n",
      "289 : ['tell me ceremony whose name has the word umhlanga in it']\n"
     ]
    },
    {
     "name": "stdout",
     "output_type": "stream",
     "text": [
      "290 : ['Which is the ISNI for Marit Bjørgen?']\n",
      "291 : ['is it true that the SSK6-1s optimum viable temperature is greater than 24.0?']\n",
      "292 : ['How many of the archives are for Grace Hopper?']\n"
     ]
    },
    {
     "name": "stdout",
     "output_type": "stream",
     "text": [
      "293 : ['How many armament does the aircraft has?']\n",
      "294 : ['Whats the Brockhaus Enzyklopadie online ID of Chile?']\n"
     ]
    },
    {
     "name": "stdout",
     "output_type": "stream",
     "text": [
      "295 : ['What is {award received} of {Hans Krebs} where {point in time} is {1966-0-0} ?']\n",
      "296 : ['Tell me the point in time for Pierre de Fermat has academic degree as Bachelor of Laws?']\n",
      "297 : ['What position is held by Ramsay MacDonald and when was he elected?']\n"
     ]
    },
    {
     "name": "stdout",
     "output_type": "stream",
     "text": [
      "298 : ['Who was the teacher that supervised Shigeno Yasutsugu?']\n"
     ]
    },
    {
     "name": "stdout",
     "output_type": "stream",
     "text": [
      "299 : ['what is hypothetical protein ecia139-4120 habitat of found in species?']\n"
     ]
    },
    {
     "name": "stdout",
     "output_type": "stream",
     "text": [
      "300 : ['Which {history of topic} and the {geography of topic} is {Melbourne} ?']\n"
     ]
    },
    {
     "name": "stdout",
     "output_type": "stream",
     "text": [
      "301 : ['What time has Manhattan listed as the end time for a maritime evacuation event?']\n",
      "302 : ['What is the number of original networks owned by the Discovery Channel?']\n"
     ]
    },
    {
     "name": "stdout",
     "output_type": "stream",
     "text": [
      "303 : ['When did Marco Polo marry Donata Badoer?']\n",
      "304 : ['In what area is Fernandel buried at the Passy Cemetery?']\n"
     ]
    },
    {
     "name": "stdout",
     "output_type": "stream",
     "text": [
      "305 : ['What is total fertility rate of Trinidad and Tobago that is determination method is estimation process ?']\n",
      "306 : ['Which is the golf course arena carrying designs patterns of Donald Trump?']\n"
     ]
    },
    {
     "name": "stdout",
     "output_type": "stream",
     "text": [
      "307 : ['Which is the narrative location of Siddhartha?']\n",
      "308 : ['Where and what did Katherine Dunham study?']\n"
     ]
    },
    {
     "name": "stdout",
     "output_type": "stream",
     "text": [
      "309 : ['What is the work of Jack Warner awarded as Academy Award for Best Picture?']\n",
      "310 : ['What position was held by Harold Macmillan in the 34th Parliament of the United Kingdom, when was he elected, and why did he leave?']\n",
      "311 : ['Did Mao Zedong hold a position as President of the Peoples Republic of China?']\n"
     ]
    },
    {
     "name": "stdout",
     "output_type": "stream",
     "text": [
      "312 : ['Mention the predecessor and the successor of Louis the Pious while being recognized as king of Franks']\n",
      "313 : ['What is the Commons category of Classic of Poetry ?']\n",
      "314 : ['Is Kevin Costner owner of Fielders Stadium?']\n"
     ]
    },
    {
     "name": "stdout",
     "output_type": "stream",
     "text": [
      "315 : ['Into how many editions has Othello been translated?']\n"
     ]
    },
    {
     "name": "stdout",
     "output_type": "stream",
     "text": [
      "316 : ['Which is {played as} of {symbol} of {inequality} ?']\n",
      "317 : ['What is the SANDRE ID for Rhine?']\n",
      "318 : ['Who is the child of Pompey and the mother, Mucia Tertia?']\n"
     ]
    },
    {
     "name": "stdout",
     "output_type": "stream",
     "text": [
      "319 : ['Which member state of the International Centre for Settlement of Investment Disputes has the maximum inflation rate?']\n",
      "320 : ['tell me about thoracic disease that contains the word syndrome in their name']\n"
     ]
    },
    {
     "name": "stdout",
     "output_type": "stream",
     "text": [
      "321 : ['Name a Luther city that contain the word worms  in its name']\n"
     ]
    },
    {
     "name": "stdout",
     "output_type": "stream",
     "text": [
      "322 : ['Who was Al Gores spouse beginning in 1970?']\n",
      "323 : ['What is the parent organization for the International Court of Justice?']\n",
      "324 : ['Name the womens association football team who play the least in tournaments.']\n"
     ]
    },
    {
     "name": "stdout",
     "output_type": "stream",
     "text": [
      "325 : ['What is the time zone that Marseille is located in?']\n",
      "326 : ['Where is the place of Tartuffes first performance with the farthest east coordinates of 48.8363848 2.4697602?']\n"
     ]
    },
    {
     "name": "stdout",
     "output_type": "stream",
     "text": [
      "327 : ['Which country housed the Indian Independence Movement?']\n"
     ]
    },
    {
     "name": "stdout",
     "output_type": "stream",
     "text": [
      "328 : ['What sovereign state replaced the Kingdom of Great Britain?']\n"
     ]
    },
    {
     "name": "stdout",
     "output_type": "stream",
     "text": [
      "329 : ['Name the naval artillery wirh the smallest firing range?']\n",
      "330 : ['Tell me the female beauty pageant that operates in all countries and contains the word model in its name?']\n",
      "331 : ['When did Kylie Minogue receive the Gold Logie Award for Most Popular Personality on Australian Television?']\n",
      "332 : ['WHO IS THE PARENT OF SON FRANCESCO I SFORZA ?']\n"
     ]
    },
    {
     "name": "stdout",
     "output_type": "stream",
     "text": [
      "333 : ['Which is the YouTube channel ID for Miley Cyrus?']\n",
      "334 : ['What was the result found in the species of hypothetical protein ipg2828?']\n",
      "335 : ['Who was married to Ida Lupino on January 1st, 1951?']\n",
      "336 : ['What position does David Lloyd George hold?']\n"
     ]
    },
    {
     "name": "stdout",
     "output_type": "stream",
     "text": [
      "337 : ['What is the religious affiliation of Vladimir the Greats child?']\n"
     ]
    },
    {
     "name": "stdout",
     "output_type": "stream",
     "text": [
      "338 : ['What has the eccentricity of 0.0567, that is located on astronomical body of the near side of the moon?']\n"
     ]
    },
    {
     "name": "stdout",
     "output_type": "stream",
     "text": [
      "339 : ['which is the point time for syria has population as 8.08815e+06?']\n"
     ]
    },
    {
     "name": "stdout",
     "output_type": "stream",
     "text": [
      "340 : ['What is edition runtime for League of Legends?']\n",
      "341 : ['Name a nonmetal discovered in England  that starts with letter O']\n"
     ]
    },
    {
     "name": "stdout",
     "output_type": "stream",
     "text": [
      "342 : ['What is the beginning of Sarajevos']\n",
      "343 : ['What award did Harry Martinson adn Eyvind Johnson receive together?']\n",
      "344 : ['What appearance of a Christmas tree happens every January 19?']\n",
      "345 : ['What is the birthplace of Maureen OHara, which has the co-ordinate location of 53.3252?']\n"
     ]
    },
    {
     "name": "stdout",
     "output_type": "stream",
     "text": [
      "346 : ['Of the century breaks of the Colm Gilcreest equal less than 9.6?']\n"
     ]
    },
    {
     "name": "stdout",
     "output_type": "stream",
     "text": [
      "347 : ['What is a skill that starts with the letter s.']\n",
      "348 : ['When did Roman Abramovich marry Irina Abramovich?']\n"
     ]
    },
    {
     "name": "stdout",
     "output_type": "stream",
     "text": [
      "349 : ['What effects does arsenic have at the minimal lethal dose of 300?']\n"
     ]
    },
    {
     "name": "stdout",
     "output_type": "stream",
     "text": [
      "350 : ['Name an alcoholic beverage that contains the word rum  in its name']\n",
      "351 : ['What portrait has the Woman Drinking Wine wearing a pendant?']\n",
      "352 : ['What is the name of a Cayenne Pepper that also has dates?']\n",
      "353 : ['Which  anatomical location of place built of zygote ?']\n"
     ]
    },
    {
     "name": "stdout",
     "output_type": "stream",
     "text": [
      "354 : ['What is the sister city of Ivan Turgenevs hometown?']\n",
      "355 : ['what is the world heritage Tentative liste ID of  Univirsity of Tahran']\n"
     ]
    },
    {
     "name": "stdout",
     "output_type": "stream",
     "text": [
      "356 : ['Which church is located in the parish border Krukengrund?']\n"
     ]
    },
    {
     "name": "stdout",
     "output_type": "stream",
     "text": [
      "357 : ['How many input methods are on a computer keyboard?']\n",
      "358 : ['What what is animated taxondistributed by MGM and {family}']\n"
     ]
    },
    {
     "name": "stdout",
     "output_type": "stream",
     "text": [
      "359 : ['Which record label signed Janet Jackson?']\n",
      "360 : ['What was the population of the Maldives in 1967?']\n"
     ]
    },
    {
     "name": "stdout",
     "output_type": "stream",
     "text": [
      "361 : ['What significant event in 1978-6-1 is Michelle Bachelet known for?']\n"
     ]
    },
    {
     "name": "stdout",
     "output_type": "stream",
     "text": [
      "362 : ['What agent had conflict with Lowell English?']\n",
      "363 : ['Where was professor Dimitri Mendeleyev educated, and what is his expertise?']\n"
     ]
    },
    {
     "name": "stdout",
     "output_type": "stream",
     "text": [
      "364 : ['What is the name of the Dutch municipal coat of arms of Amsterdam?']\n",
      "365 : ['What are the military operation which start with the letter o']\n",
      "366 : ['Was Brittany Murphy a citizen of the USA?']\n"
     ]
    },
    {
     "name": "stdout",
     "output_type": "stream",
     "text": [
      "367368 : ['Does marketing involve Human communication, and packaging and labeling?']\n",
      " : ['does the explosive energy of the tsar bomba equal 500']\n"
     ]
    },
    {
     "name": "stdout",
     "output_type": "stream",
     "text": [
      "369 : ['In which country the Golden Horde used to live ?']\n",
      "370 : ['What business does Alexander McQueen have?']\n"
     ]
    },
    {
     "name": "stdout",
     "output_type": "stream",
     "text": [
      "371 : ['What is the home venue of the Green Bay Packers?']\n",
      "372 : ['Who was the teacher of the musical score of Suite 1922?']\n"
     ]
    },
    {
     "name": "stdout",
     "output_type": "stream",
     "text": [
      "373 : ['What is Tanzanias total reserves?']\n",
      "374 : ['How many dimensions have a Captain America?']\n",
      "375 : ['Is it true that the target interest rate of Central Bank of Azerbaijan equals to 5.25?']\n",
      "376 : ['Which is Greek nymph which was the partner of Apollo?']\n"
     ]
    },
    {
     "name": "stdout",
     "output_type": "stream",
     "text": [
      "377 : ['What does European Parliament approve?']\n",
      "378 : ['What was Philip Roth nominated for in 2011?']\n",
      "379 : ['What is the academic area of work of Viktor Bespalov?']\n"
     ]
    },
    {
     "name": "stdout",
     "output_type": "stream",
     "text": [
      "380 : ['Where does Po fit into the location 12.5469?']\n",
      "381 : ['Cholera affects which taxon?']\n",
      "382 : ['What year did Le Corbusier win the Frank P. Brown Medal?']\n",
      "383 : ['Is the throughput of the Vest-vassdraget equal to 2697.672?']\n"
     ]
    },
    {
     "name": "stdout",
     "output_type": "stream",
     "text": [
      "384 : ['Did Lindsey Vonn participate in the FIS Alpine World Ski Championships in 1999 and 2019?']\n",
      "385 : ['Mention the headquarter location of the Russian Orthodox Church monastery.']\n"
     ]
    },
    {
     "name": "stdout",
     "output_type": "stream",
     "text": [
      "386 : ['How many terminus are in Vienna']\n"
     ]
    },
    {
     "name": "stdout",
     "output_type": "stream",
     "text": [
      "387 : ['Does the slope rating of the Merion Golf Club equal 149']\n"
     ]
    },
    {
     "name": "stdout",
     "output_type": "stream",
     "text": [
      "388 : ['What did Sidney Crosby draft?']\n",
      "389 : ['WHat location that belongs to the World Heritage starts with the letter H']\n"
     ]
    },
    {
     "name": "stdout",
     "output_type": "stream",
     "text": [
      "390 : ['Tell me the Greek deity of sibling of Zeus and that contains the word poseidon in its name?']\n",
      "391 : ['Located in the Central District, what is the county seat whose twin cities include Feodosiya?']\n",
      "392 : ['What is the official residence of Queens?']\n",
      "393 : ['What is the bibliography of the  PhD advisor to Karl Herzfeld?']\n"
     ]
    },
    {
     "name": "stdout",
     "output_type": "stream",
     "text": [
      "394 : ['Is it true that the maximum wavelength of sensitivity of Submilimeter Array is greater than 2.004?']\n",
      "395 : ['Is the matches/games drawn/tied of the 2001 British and Irish Lions tour to Australia equal to 0?']\n",
      "396 : ['What language did Juan González de la Pezuela y Ceballos translate for Os Lusíadas?']\n"
     ]
    },
    {
     "name": "stdout",
     "output_type": "stream",
     "text": [
      "397 : ['Is Schutzstaffels subsidiary Reich Main Security Office and 21st Waffen Mountain division of the SS Skanderbeg?']\n",
      "398 : ['Who is the partner and the spouse of Hank Azaria?']\n",
      "399 : ['Which is the enterprise for the parent organization of Sears?']\n"
     ]
    },
    {
     "name": "stdout",
     "output_type": "stream",
     "text": [
      "400 : ['What award did Danila Kozlovsky receive in 2017?']\n",
      "401 : ['Which is the sauce that originated in Korea?']\n"
     ]
    },
    {
     "name": "stdout",
     "output_type": "stream",
     "text": [
      "402 : ['What is the solubility of methyl chloride in water?']\n",
      "403 : ['is the maximum wavelength of sensitivity of the human eye equal to 700?']\n",
      "404 : ['What is the diplomatic relations like in basin countries of Lake Okeechobee?']\n"
     ]
    },
    {
     "name": "stdout",
     "output_type": "stream",
     "text": [
      "405 : ['What team did Peter Schmeichel start playing for in 1984?']\n",
      "406 : ['What is in the region of Paroo River, that divides into Ku-ring-gai Council?']\n"
     ]
    },
    {
     "name": "stdout",
     "output_type": "stream",
     "text": [
      "407 : ['Which is the SAHRA heritage site ID for University of Cape Town?']\n",
      "408 : ['When did Prince Philip, Duke of Edinburgh use the Arms of Philip Mountbatten (1947-1949) as his coat of arm?']\n"
     ]
    },
    {
     "name": "stdout",
     "output_type": "stream",
     "text": [
      "409410 : ['Which is the GCatholic church ID of Archbasilica of St. John Lateran?']\n",
      " : ['Where is the deathplace of Gediminas, whose twin town is Irkutsk?']\n",
      "411 : ['Is a black hole the opposite of a stellar atmosphere?']\n",
      "412 : ['How many shogun military ranks are there?']\n"
     ]
    },
    {
     "name": "stdout",
     "output_type": "stream",
     "text": [
      "413 : ['Which are the cites of Tractatus Logico-Philosophicus?']\n"
     ]
    },
    {
     "name": "stdout",
     "output_type": "stream",
     "text": [
      "414 : ['What method did the census use to determine the population of Taguig?']\n"
     ]
    },
    {
     "name": "stdout",
     "output_type": "stream",
     "text": [
      "415 : ['Which is the {participant} and the {location} of {Pacific_War} ?']\n",
      "416 : ['What is the density of hydrogen peroxide at a temperature of 20.0?']\n"
     ]
    },
    {
     "name": "stdout",
     "output_type": "stream",
     "text": [
      "417 : ['WHICH IS THE STAGE RACE WITH THE MAXIMUM FREQUENCY OF EVENT']\n"
     ]
    },
    {
     "name": "stdout",
     "output_type": "stream",
     "text": [
      "418 : ['Tell me the city which is enclaved within Montreal.']\n"
     ]
    },
    {
     "name": "stdout",
     "output_type": "stream",
     "text": [
      "419 : ['What position did William Carmichael replace John Jay in?']\n",
      "420 : ['How many depositors are with the {United Nations Secretary-General} ?']\n"
     ]
    },
    {
     "name": "stdout",
     "output_type": "stream",
     "text": [
      "421 : ['What category of people are in Odoacer']\n",
      "422 : ['Who proved the theory of Proper Motion? Their surname is Halley.']\n"
     ]
    },
    {
     "name": "stdout",
     "output_type": "stream",
     "text": [
      "423 : ['What five U.S. states does the Delaware River drain from?']\n",
      "424 : ['What is the interaction of antiparticle symmetric correspondence with Q48460 521.1?']\n",
      "425 : ['which  is working of   film producer of My Blue Heaven ?']\n"
     ]
    },
    {
     "name": "stdout",
     "output_type": "stream",
     "text": [
      "426 : ['What has the Pokedex number 36 and follows Pikachu?']\n",
      "427 : ['Was Rupert Grints occupation a actor and child actor?']\n"
     ]
    },
    {
     "name": "stdout",
     "output_type": "stream",
     "text": [
      "428 : ['What two cities hold the principle offices of Financial Times?']\n",
      "429 : ['What is Bandysidan player ID for Sergey Lomanov ?']\n",
      "430 : ['What is the CPU with the greatest charge?']\n"
     ]
    },
    {
     "name": "stdout",
     "output_type": "stream",
     "text": [
      "431 : ['mike krzyzewski name']\n",
      "432 : ['Did Francis Ford Coppola have notable works of The Godfather and The Godfather Part III?']\n",
      "433 : ['Where was the location of birth of Hermann Heinrich Gossen, that has Q48460 such that 2--4355126?']\n"
     ]
    },
    {
     "name": "stdout",
     "output_type": "stream",
     "text": [
      "434 : ['When position did Angela Merkel hold on November 10, 1994?']\n"
     ]
    },
    {
     "name": "stdout",
     "output_type": "stream",
     "text": [
      "435 : ['Roger Milla was a member of which sports teams and how many matches did he play?']\n",
      "436 : ['What is the fuel system of electricity?']\n"
     ]
    },
    {
     "name": "stdout",
     "output_type": "stream",
     "text": [
      "437 : ['Who is the  {human} for {doctoral advisor} of {Claude Shannon}']\n",
      "438 : ['Who is {tenant} of {Windsor Castle}, that has {employment} as {postage stamp designer} ?']\n"
     ]
    },
    {
     "name": "stdout",
     "output_type": "stream",
     "text": [
      "439 : ['What has been the ister city of Changchun since Aug 25th, 1992?']\n",
      "440 : ['who architecture firm of home field of new york centaurs?']\n",
      "441 : ['When did Nicaragua count a population of 3.87732e+06 inhabitants?']\n"
     ]
    },
    {
     "name": "stdout",
     "output_type": "stream",
     "text": [
      "442 : ['To whom did Gerard Reve got married and when did it end?']\n",
      "443 : ['Edward Livingston replaced Martin Van Buren in what postion?']\n"
     ]
    },
    {
     "name": "stdout",
     "output_type": "stream",
     "text": [
      "444 : ['Where is the name of the continent of the mountain belt in Mount Caywood?']\n"
     ]
    },
    {
     "name": "stdout",
     "output_type": "stream",
     "text": [
      "445 : ['What are the type of food or dish that contains the word torta in their name']\n",
      "446 : ['Who are the writers of the academic subject Ten simple rules for editing Wikipedia?']\n"
     ]
    },
    {
     "name": "stdout",
     "output_type": "stream",
     "text": [
      "447 : ['Which is Xeno-canto species ID for Meleagris gallopavo?']\n"
     ]
    },
    {
     "name": "stdout",
     "output_type": "stream",
     "text": [
      "448 : ['When did Sarah Bernhardt and Jacques Damala split up?']\n"
     ]
    },
    {
     "name": "stdout",
     "output_type": "stream",
     "text": [
      "449 : ['What district of Liguria originated in 2015?']\n",
      "450 : ['Which birth language is Chizoba Ejike?']\n",
      "451 : ['Tell me kinship whose name has the word uncle in it.']\n",
      "452 : ['Which is dantai code for Kyōto Prefecture?']\n",
      "453 : ['What are the fictional detective which start with the letter s']\n",
      "454 : ['Which is the electric charge for antihydrogen?']\n"
     ]
    },
    {
     "name": "stdout",
     "output_type": "stream",
     "text": [
      "455 : ['Which is the candidature that Gustav Winckler took part of?']\n",
      "456 : ['What is the estimation rate of Slovakia fertility?']\n",
      "457 : ['Who was the manager/director of the Metropolitan Museum of Art starting in 1910?']\n"
     ]
    },
    {
     "name": "stdout",
     "output_type": "stream",
     "text": [
      "458 : ['Who organizes the order of Ultima III: Exodus?']\n",
      "459 : ['What is the stainless steel with the highest operating temperature whose has part is nitrogen?']\n",
      "460 : ['Was Hugh_Grant relative Rick Cosnett?']\n"
     ]
    },
    {
     "name": "stdout",
     "output_type": "stream",
     "text": [
      "461 : ['How many active ingredients are in lidocaine?']\n"
     ]
    },
    {
     "name": "stdout",
     "output_type": "stream",
     "text": [
      "462 : ['What head coach is the New York Yankees named after?']\n"
     ]
    },
    {
     "name": "stdout",
     "output_type": "stream",
     "text": [
      "463 : ['On 0-0-2007, what is the populaton of Spokane?']\n"
     ]
    },
    {
     "name": "stdout",
     "output_type": "stream",
     "text": [
      "464 : ['What is the secular state of the MIN(PPP GDP per capita) whose diplomatic relation is with India?']\n",
      "465 : ['Which { meansseason starts} in {February} ?']\n"
     ]
    },
    {
     "name": "stdout",
     "output_type": "stream",
     "text": [
      "466 : ['What domain has the aspect of bodhisattva?']\n"
     ]
    },
    {
     "name": "stdout",
     "output_type": "stream",
     "text": [
      "467 : ['What does emigration mean?']\n",
      "468 : ['What topic of the history of Estonia has the inflation rate of consumer price index of 1.2?']\n",
      "469 : ['Who gave the {is shown in} of {based upon} of {Clark Kent} ?']\n"
     ]
    },
    {
     "name": "stdout",
     "output_type": "stream",
     "text": [
      "470 : ['What is the ionization energy of the nicotine?']\n",
      "471 : ['Where was Augustus II the Strong buried?']\n"
     ]
    },
    {
     "name": "stdout",
     "output_type": "stream",
     "text": [
      "472 : ['What is SIC code of forestry ?']\n",
      "473 : ['Which is stated in Tripitaka?']\n",
      "474 : ['How many rivers and lakes are connected to Lake Urmia?']\n",
      "475 : ['WHICH IS THE CATEGORY FOR RECIPIENTS OF THEIS WARD FOR HONOR']\n"
     ]
    },
    {
     "name": "stdout",
     "output_type": "stream",
     "text": [
      "476 : ['Who is Johnny Cashs stepparent?']\n",
      "477 : ['What is the birth city of Kirsten Stewart, with the county seat of Los Angeles County?']\n",
      "478 : ['Tell me {intergovernmental organization}  whose name  starts with s']\n",
      "479 : ['Who was the lead actor for the movie Deadpool?']\n"
     ]
    },
    {
     "name": "stdout",
     "output_type": "stream",
     "text": [
      "480 : ['What family of vehicles starts with the letter v?']\n",
      "481 : ['What sports team did Kapil Dev stopped being a member of in 1992?']\n",
      "482 : ['Is Azcapotzalco in the Mexico City administrative territory?']\n"
     ]
    },
    {
     "name": "stdout",
     "output_type": "stream",
     "text": [
      "483 : ['Who is {nomination received} of {George Marshall}, which has {champion} is {Mikhail Gorbachev} ?']\n"
     ]
    },
    {
     "name": "stdout",
     "output_type": "stream",
     "text": [
      "484 : ['tell me audio and video interfaces and connectors are name has the word ypbpr in it']\n"
     ]
    },
    {
     "name": "stdout",
     "output_type": "stream",
     "text": [
      "485 : ['What was the price of gold in 2018-7-26?']\n",
      "486 : ['Who was nominated for an Academy Award for  Best Sound Mixing in Gladiator?']\n",
      "487 : ['Name the female who discovered the Horsehead Nebula.']\n"
     ]
    },
    {
     "name": "stdout",
     "output_type": "stream",
     "text": [
      "488 : ['what are the painting which start with the letter y']\n",
      "489 : ['When did the marriage between Marilyn Monroe and James Dougherty end?']\n"
     ]
    },
    {
     "name": "stdout",
     "output_type": "stream",
     "text": [
      "490 : ['What is the  Mississippi Sports Hall of Fame ID  for Brett Favre ?']\n",
      "491 : ['Who received the Nobel Prize in Literature after Mo Yan?']\n"
     ]
    },
    {
     "name": "stdout",
     "output_type": "stream",
     "text": [
      "492 : ['Where Ruth Bernhard stoped working on 1953?']\n"
     ]
    },
    {
     "name": "stdout",
     "output_type": "stream",
     "text": [
      "493 : ['Who plays the current role of the title character in Deadpool?']\n",
      "494 : ['Who was nominated for the Academy Award for Best Original Dramatic or Comedy Score for the film Casablanca?']\n"
     ]
    },
    {
     "name": "stdout",
     "output_type": "stream",
     "text": [
      "495 : ['which type of quantum particle has highest gyromagnetic ratio?']\n",
      "496 : ['What does it mean if you are convicted of desertion?']\n",
      "497 : ['When does the head of government of Seattle starts its work period?']\n"
     ]
    },
    {
     "name": "stdout",
     "output_type": "stream",
     "text": [
      "498 : ['Is it true that the semi-major axis of 1627 Ivar is greater than 2.2361778?']\n",
      "499 : ['what is the using of the remake of smoothsort?']\n",
      "500 : ['Charles the Bald position is what and he got his position after which person?']\n"
     ]
    },
    {
     "name": "stdout",
     "output_type": "stream",
     "text": [
      "501 : ['What what is separation process discoverer or inventor Zosimos of Panopolis  and which that starts with d']\n"
     ]
    },
    {
     "name": "stdout",
     "output_type": "stream",
     "text": [
      "502 : ['Which are the grants academic degrees for Master of Business Administration?']\n",
      "503 : ['What essential medicine is needed to treat leprosy?']\n"
     ]
    },
    {
     "name": "stdout",
     "output_type": "stream",
     "text": [
      "504 : ['When did Veronica Lake and Andre dé Toth end their relationship?']\n",
      "505 : ['When did Ludwig Wittgenstein graduate as a Doctor of Philosophy?']\n"
     ]
    },
    {
     "name": "stdout",
     "output_type": "stream",
     "text": [
      "506 : ['Which is the birth place of Malcolm Allison, that is bordered by Purfleet?']\n",
      "507 : ['What is graduated from Wendy Wasserstein located at street address of 160 Convent Ave, New York, NY, 10031?']\n"
     ]
    },
    {
     "name": "stdout",
     "output_type": "stream",
     "text": [
      "508 : ['When did Dan Rowan receive his star on the Hollywood Walk of Fame']\n"
     ]
    },
    {
     "name": "stdout",
     "output_type": "stream",
     "text": [
      "509 : ['What Academy Award subject is Mercedes Ruehl nominated for as Best Supporting Actress?']\n",
      "510 : ['Is the conversion to SI unit of the statcoulomb greater than 2.6685128e-10?']\n"
     ]
    },
    {
     "name": "stdout",
     "output_type": "stream",
     "text": [
      "511 : ['Followers']\n",
      "512 : ['What are the national sports team  which start with the letter t']\n"
     ]
    },
    {
     "name": "stdout",
     "output_type": "stream",
     "text": [
      "513 : ['WHICH IS THE AUSTRIAN MUNICIPALITY KEY OF  KLAGENFURT']\n",
      "514 : ['DOES THE LITERATE POPULATION OF DHARAMPUR EQUALS 0']\n",
      "515 : ['When was Phonenice located in the administrative territorial entity for Damascus?']\n"
     ]
    },
    {
     "name": "stdout",
     "output_type": "stream",
     "text": [
      "516 : ['When did Eiji Toyoda win an award for his work in Order of Prince Henry?']\n",
      "517 : ['Who is born at Charlotte Dujardin, which has a zip code of E?']\n"
     ]
    },
    {
     "name": "stdout",
     "output_type": "stream",
     "text": [
      "518 : ['Tell me literary genre whose name has the word vita in it']\n",
      "519 : ['What theory did Grigori Perelman prove?']\n",
      "520 : ['Who is the chairperson of the Communist Party of China and who are his followers?']\n"
     ]
    },
    {
     "name": "stdout",
     "output_type": "stream",
     "text": [
      "521 : ['What is in the administrative region of Fukuoka Prefecture, whose total fertility rate is 1.39?']\n",
      "522 : ['What is the method of determining eating disorders that has the genetic association of RASGRF2?']\n",
      "523 : ['Where {faith} {has influence} on {Madonna} ?']\n"
     ]
    },
    {
     "name": "stdout",
     "output_type": "stream",
     "text": [
      "524 : ['Which is the Kinopoisk person ID for Stanley Donen?']\n"
     ]
    },
    {
     "name": "stdout",
     "output_type": "stream",
     "text": [
      "525 : ['what was the country of Tyumen in 1991-12-27']\n",
      "526 : ['Tell me physical quantity whose name has the word work in it.']\n",
      "527 : ['Who became the head of the government of Vaduz on 2017-1-0?']\n"
     ]
    },
    {
     "name": "stdout",
     "output_type": "stream",
     "text": [
      "528 : ['What is Angela Merkels abgeordnetenwatch.de politician ID?']\n"
     ]
    },
    {
     "name": "stdout",
     "output_type": "stream",
     "text": [
      "529 : ['Are the assets under management of the BlackRock less than 8146800000.0?']\n"
     ]
    },
    {
     "name": "stdout",
     "output_type": "stream",
     "text": [
      "530 : ['What is the location in New York City for Edward Hoppers place death?']\n"
     ]
    },
    {
     "name": "stdout",
     "output_type": "stream",
     "text": [
      "531 : ['Tell me the autonomous region of the Peoples Republic of China which contains the word xinjiang in its name?']\n",
      "532 : ['What is the official language of lives in Pasi Siltakorpi?']\n"
     ]
    },
    {
     "name": "stdout",
     "output_type": "stream",
     "text": [
      "533 : ['Who was married to Lynn Margulis in June of 1957?']\n",
      "534 : ['what is the key incident in the provenance of Glencore?']\n"
     ]
    },
    {
     "name": "stdout",
     "output_type": "stream",
     "text": [
      "535 : ['which was the series ordinal  for ether which has  ionization energy as 9.53?']\n",
      "536 : ['What U.S. Government agency holds the archives of Jefferson Davis?']\n"
     ]
    },
    {
     "name": "stdout",
     "output_type": "stream",
     "text": [
      "537 : ['Which career did the character Buffy the Vampire Slayer choose?']\n",
      "538 : ['Is it true that the mothers mothers mother family relationship degree equal to 3?']\n"
     ]
    },
    {
     "name": "stdout",
     "output_type": "stream",
     "text": [
      "539 : ['Which protein interacts with oxytocin?']\n",
      "540 : ['Name a disease that starts with the letter Y']\n",
      "541 : ['What work did Jacques Brel publish in 1963?']\n"
     ]
    },
    {
     "name": "stdout",
     "output_type": "stream",
     "text": [
      "542 : ['What children did the brothers and sisters of Emmanuel Philibert, Prince of Carignano, have?']\n",
      "543 : ['Who gave the{route of administration} of {consequence} of {cyclohexane} ?']\n"
     ]
    },
    {
     "name": "stdout",
     "output_type": "stream",
     "text": [
      "544 : ['What political party did Chen Shui-bian belong to in 1987-02-28?']\n"
     ]
    },
    {
     "name": "stdout",
     "output_type": "stream",
     "text": [
      "545 : ['What award did Marie Curie receive in 1911?']\n"
     ]
    },
    {
     "name": "stdout",
     "output_type": "stream",
     "text": [
      "546 : ['What in the code for INS?']\n",
      "547 : ['What is the item operated of a B-29 Superfortress?']\n"
     ]
    },
    {
     "name": "stdout",
     "output_type": "stream",
     "text": [
      "548 : ['What is the origin of Death Notes diplomatic relation?']\n",
      "549 : ['How many team participants are there in the {Juventus F.C.} ?']\n",
      "550 : ['Which is possessed by spirit by spirt?']\n",
      "551 : ['What number follows -2?']\n",
      "552 : ['Is Paul Gascoigne a member of a sports team?']\n",
      "553 : ['Which equation do I use to measure horsepower ?']\n"
     ]
    },
    {
     "name": "stdout",
     "output_type": "stream",
     "text": [
      "554 : ['Who are the members of BP and their chairperson?']\n"
     ]
    },
    {
     "name": "stdout",
     "output_type": "stream",
     "text": [
      "555 : ['What is the language of the people indigenous to chupenme la pija giles ndeahhre?']\n",
      "556 : ['Tell me written work whose name has the word war in it.']\n",
      "557 : ['When was Jimmy Wales employed as Bomis and when did he leave?']\n",
      "558 : ['What is field of exercise for affiliated with Terje Langli ?']\n"
     ]
    },
    {
     "name": "stdout",
     "output_type": "stream",
     "text": [
      "559 : ['What power plant and manufacturer is responsible for the Rockwell B-1 Lancer?']\n",
      "560 : ['Which is the LTI Korea Library ID for Choe Chiwon?']\n"
     ]
    },
    {
     "name": "stdout",
     "output_type": "stream",
     "text": [
      "561 : ['Which image compression contains the word graphics in its name?']\n",
      "562 : ['Tom Hanks voiced which 3D film ?']\n",
      "563 : ['Was the thickness of the Bronze Age equal to .615?']\n",
      "564 : ['Which is the ISBN-13 for Watership Down?']\n"
     ]
    },
    {
     "name": "stdout",
     "output_type": "stream",
     "text": [
      "565 : ['Which is the public holiday that is a day in year for periodic occurrence of 21 Tishrei and contains the word sukkot in its name?']\n"
     ]
    },
    {
     "name": "stdout",
     "output_type": "stream",
     "text": [
      "566 : ['What is on geographical feature of Greater Antilles whose continent is North America ?']\n",
      "567 : ['Where was the plot of North by Northwest, filmed in California, set?']\n",
      "568 : ['What is the solitary with the lowest height whose instance of is Tilia platyphyllos?']\n"
     ]
    },
    {
     "name": "stdout",
     "output_type": "stream",
     "text": [
      "569 : ['What book is the most notable work of Robert Louis Stevenson?']\n",
      "570 : ['When did New Hampshire have a population of 491524?']\n"
     ]
    },
    {
     "name": "stdout",
     "output_type": "stream",
     "text": [
      "571 : ['What is the parent company of those who work at Roberta Bondar?']\n",
      "572 : ['Which is Parks & Gardens UK Record ID for National Maritime Museum?']\n",
      "573 : ['What is the SpeedSkatingNews.info speed skater ID for Eric Heiden?']\n"
     ]
    },
    {
     "name": "stdout",
     "output_type": "stream",
     "text": [
      "574 : ['Tell me recurring sporting event whose name has the word world in it.']\n",
      "575 : ['What are the comic strip which start with the letter z']\n"
     ]
    },
    {
     "name": "stdout",
     "output_type": "stream",
     "text": [
      "576 : ['Which is the instance of Puduhepa?']\n"
     ]
    },
    {
     "name": "stdout",
     "output_type": "stream",
     "text": [
      "577 : ['Who is the PhD candidate for Niels Bohr?']\n",
      "578 : ['What is {religious affiliation} of {ethnicity} {Sirhan Sirhan} ?']\n",
      "579 : ['Is normal distribution named after Bernhard Riemann?']\n"
     ]
    },
    {
     "name": "stdout",
     "output_type": "stream",
     "text": [
      "580 : ['How can you tell migraines have PRDM16?']\n",
      "581 : ['Are frankenstein and frankensteins monster and elizabeth lavenza have characters?']\n"
     ]
    },
    {
     "name": "stdout",
     "output_type": "stream",
     "text": [
      "582 : ['What are the ancient civilization which start with the letter s']\n",
      "583 : ['What are the coachwork type which start with the letter van']\n"
     ]
    },
    {
     "name": "stdout",
     "output_type": "stream",
     "text": [
      "584 : ['Who is the mother of Julio Iglesias and Enrique Iglesias?']\n"
     ]
    },
    {
     "name": "stdout",
     "output_type": "stream",
     "text": [
      "585 : ['Name the subtopic of the tagline Free, Sovereign, and Independent, a history of Honduras.']\n",
      "586 : ['Who first described the element osmium and was born in Selby?']\n",
      "587 : ['What is the business with the least debt on the Euronext?']\n"
     ]
    },
    {
     "name": "stdout",
     "output_type": "stream",
     "text": [
      "588 : ['What is the garrison of AT&T, which is in the settlement of Denton County?']\n"
     ]
    },
    {
     "name": "stdout",
     "output_type": "stream",
     "text": [
      "589 : ['What what is gas giant child astronomical body by Enceladus and also which starts with letter s']\n",
      "590 : ['Which is the organization that has its headquarters located in Aachen?']\n"
     ]
    },
    {
     "name": "stdout",
     "output_type": "stream",
     "text": [
      "591 : ['Which is the process function of the measured physical quantity of joule?']\n",
      "592 : ['Was Hirohito buried in Tokyo at the Mausoleum of the First Qin Emperor?']\n",
      "593 : ['Tell me political party whose name has the word veritas in it.']\n"
     ]
    },
    {
     "name": "stdout",
     "output_type": "stream",
     "text": [
      "594 : ['What was Ray Rennahan from Gone with the Wind nominated for?']\n",
      "595 : ['What parent body constellation is Messier a part of?']\n",
      "596 : ['What is the official language of Alice springs-Soverign state?']\n",
      "597 : ['Which is antonym of painting of Madonna enthroned with child and Saints Petronius and John the Evangelist ?']\n"
     ]
    },
    {
     "name": "stdout",
     "output_type": "stream",
     "text": [
      "598 : ['What is the organize sport of Super_Bowl ?']\n"
     ]
    },
    {
     "name": "stdout",
     "output_type": "stream",
     "text": [
      "599 : ['Who is the manufacturer and user of solar energy?']\n"
     ]
    },
    {
     "name": "stdout",
     "output_type": "stream",
     "text": [
      "600 : ['Is the age of majority of the USA equal to t1410874016?']\n",
      "601 : ['Tell me about animated feature film for voice actor of Ellen DeGeneres?']\n"
     ]
    },
    {
     "name": "stdout",
     "output_type": "stream",
     "text": [
      "602 : ['What kind of instrument is made with foil?']\n",
      "603 : ['On December 31, 2012, what were Nokias total assets?']\n",
      "604 : ['When did Riga become the capital of Latvia?']\n"
     ]
    },
    {
     "name": "stdout",
     "output_type": "stream",
     "text": [
      "605 : ['Ignatius of Loyola belongs to which Catholic order?']\n",
      "606 : ['Which is the automobile model that is manufactured by Honda?']\n"
     ]
    },
    {
     "name": "stdout",
     "output_type": "stream",
     "text": [
      "607 : ['What is the fate of Joaquin Archivaldo Guzman, who was first described as El Faro?']\n"
     ]
    },
    {
     "name": "stdout",
     "output_type": "stream",
     "text": [
      "608 : ['Which is {continent} of {death place} of {Thomas Morley} ?']\n"
     ]
    },
    {
     "name": "stdout",
     "output_type": "stream",
     "text": [
      "609 : ['What is the name of a novel series that starts with the letter t?']\n",
      "610 : ['Who practices and researches Economics?']\n"
     ]
    },
    {
     "name": "stdout",
     "output_type": "stream",
     "text": [
      "611 : ['Who is {writer} of {bibliographic citation} of {Survey of human genes of retroviral origin: identification and transcriptome of the genes with coding capacity for complete envelope proteins} ?']\n",
      "612 : ['Who is George W. Bushs sister that has crafted as enterpreneur?']\n",
      "613 : ['when did Okinawa Prefecture have the Santa Cruz Department as its twinned administrative body?']\n",
      "614 : ['How many saints have obtained canonization status?']\n"
     ]
    },
    {
     "name": "stdout",
     "output_type": "stream",
     "text": [
      "615 : ['What was the category for which Shirley Booth received the Tony Award for Best Featured Actress in a Play?']\n"
     ]
    },
    {
     "name": "stdout",
     "output_type": "stream",
     "text": [
      "616 : ['Get  the postal code for Baidu that is headquartered at Beijing?']\n"
     ]
    },
    {
     "name": "stdout",
     "output_type": "stream",
     "text": [
      "617 : ['Which is {position of head of government} of {service operator} {MiG-21} ?']\n",
      "618 : ['What is the text input for the Aruba flag emoji?']\n"
     ]
    },
    {
     "name": "stdout",
     "output_type": "stream",
     "text": [
      "619 : ['What is Amtraks net profit?']\n",
      "620 : ['Name the Yukon quest with the minimum size of team at finish whose location is braeburn lodge?']\n",
      "621 : ['Name the eponym of volt, who is professor by profession.']\n",
      "622 : ['What is the EC number for electron transport chain?']\n"
     ]
    },
    {
     "name": "stdout",
     "output_type": "stream",
     "text": [
      "623 : ['What is the reservoir of Lake Winnebago?']\n",
      "624 : ['What mythical character that contains the word zau in their name']\n",
      "625 : ['Is the operating temperature of the Nesjavellir power station 190?']\n",
      "626 : ['Who was the inventor of the B-tree, who was awarded the Officers Cross of the Order of Merit of the Federal Republic of Germany?']\n"
     ]
    },
    {
     "name": "stdout",
     "output_type": "stream",
     "text": [
      "627 : ['Where was Louise Bourgeois completed education in the year 1938?']\n"
     ]
    },
    {
     "name": "stdout",
     "output_type": "stream",
     "text": [
      "628 : ['When Alec Guinness was nominated as Academy Award for Best Actor?']\n",
      "629 : ['Does Michael Jordan wear jewellery?']\n",
      "630 : ['What is the political party in Catalonia with min number of representatives in an organization whose political alignment is left - wing?']\n"
     ]
    },
    {
     "name": "stdout",
     "output_type": "stream",
     "text": [
      "631 : ['Is Alex Ferguson is the member of sports team which was started in 1-1-1973?']\n",
      "632 : ['When did educated at of Peggy Whitson and academic major?']\n"
     ]
    },
    {
     "name": "stdout",
     "output_type": "stream",
     "text": [
      "633 : ['Is the Z scale scale 1:220?']\n",
      "634 : ['which time of the day contains the word morning in their name']\n",
      "635 : ['What is the {product} of {papermaking} which is {made of} {bleach} called?']\n"
     ]
    },
    {
     "name": "stdout",
     "output_type": "stream",
     "text": [
      "636 : ['Which award did Mick Jagger receive?']\n"
     ]
    },
    {
     "name": "stdout",
     "output_type": "stream",
     "text": [
      "637 : ['How many matches has Rinus Michels played?']\n",
      "638 : ['Which fruit type is the higher taxon of Philodendron edmundoi?']\n"
     ]
    },
    {
     "name": "stdout",
     "output_type": "stream",
     "text": [
      "639 : ['What country was started in the year 1871 in Wiesbaden?']\n",
      "640 : ['How much was the population of Normandy in 2005?']\n",
      "641 : ['What award did Gyorgy Ligeta receive on 2000-0-0?']\n",
      "642 : ['What is native language for Vincent Auriol ?']\n"
     ]
    },
    {
     "name": "stdout",
     "output_type": "stream",
     "text": [
      "643 : ['What was Gene Wolfe nominated for in 1990?']\n",
      "644 : ['David Letterman is producer?']\n",
      "645 : ['Tell me superhero that contains the word wolfsbane in their name']\n"
     ]
    },
    {
     "name": "stdout",
     "output_type": "stream",
     "text": [
      "646 : ['What is the twin town of Port Vila, with the license plate code 沪A?']\n",
      "647 : ['Is it true that The X-Files featured George Murdock?']\n"
     ]
    },
    {
     "name": "stdout",
     "output_type": "stream",
     "text": [
      "648 : ['Which is the poetry collection that has traditional Chinese characters as writing system?']\n",
      "649 : ['When did Andrei Mironov and Yekaterina Gradova get married?']\n"
     ]
    },
    {
     "name": "stdout",
     "output_type": "stream",
     "text": [
      "650 : ['WHAT ARE THE DECIMAL CLASSIFICATION WHICH START WITH THE LETTER C']\n"
     ]
    },
    {
     "name": "stdout",
     "output_type": "stream",
     "text": [
      "651 : ['how much is maintained by Otia Prefecture?']\n",
      "652 : ['Name a business division owned by Ford Motor Company']\n"
     ]
    },
    {
     "name": "stdout",
     "output_type": "stream",
     "text": [
      "653 : ['What division does Jurandir Fatoris team play for?']\n",
      "654 : ['What is competitor War of the Triple Alliances name in its original language?']\n"
     ]
    },
    {
     "name": "stdout",
     "output_type": "stream",
     "text": [
      "655 : ['Who discovered the boron?']\n",
      "656 : ['who  work of motif of david with the head of goliath ?']\n",
      "657 : ['What is the owner of and the member of of Mikhail_Gorbachev ?']\n"
     ]
    },
    {
     "name": "stdout",
     "output_type": "stream",
     "text": [
      "658 : ['What is the official language of Vantaa?']\n",
      "659 : ['Which French killer had the most victims ?']\n"
     ]
    },
    {
     "name": "stdout",
     "output_type": "stream",
     "text": [
      "660 : ['What is the name of the administrative body for the capital of Mumbai']\n",
      "661 : ['Is Scientology the same as Church of Scientology?']\n"
     ]
    },
    {
     "name": "stdout",
     "output_type": "stream",
     "text": [
      "662 : ['What is the set of 1?']\n"
     ]
    },
    {
     "name": "stdout",
     "output_type": "stream",
     "text": [
      "663 : ['Name a memer of the Oracle Corporation']\n"
     ]
    },
    {
     "name": "stdout",
     "output_type": "stream",
     "text": [
      "664 : ['When Atacama Region has its population 230873.0?']\n",
      "665 : ['What is the name of the theatrical character of Hamlet?']\n",
      "666 : ['Was Jimi Hendrixs death related to the EMLL 24th Anniversary Show?']\n",
      "667 : ['When did Maule Region have a population of 836141.0?']\n"
     ]
    },
    {
     "name": "stdout",
     "output_type": "stream",
     "text": [
      "668 : ['Which territory did the classical antiquity cover?']\n"
     ]
    },
    {
     "name": "stdout",
     "output_type": "stream",
     "text": [
      "669 : ['When did Nantes begin having Johanna Rolland as head of government?']\n"
     ]
    },
    {
     "name": "stdout",
     "output_type": "stream",
     "text": [
      "670 : ['Who was Bill Gatess mother?']\n",
      "671 : ['How many countries are around Ireland?']\n",
      "672 : ['Which is the historic house museum of the residence of Rembrandt?']\n"
     ]
    },
    {
     "name": "stdout",
     "output_type": "stream",
     "text": [
      "673 : ['Who is known for being the script writer of Barefoot Gen: Explosion of Tears?']\n",
      "674 : ['Freddy Krueger and Fred Krueger, is a serial killer and the main antagonist of the A Nightmare on Elm Street series. A family man on the surface, Krueger was actually the serial killer known as the Springwood Slasher. When he was caught and subsequently released on a technicality, the parents of his victims tracked him to the boiler room of the power plant he once worked at and burned him alive. Krueger was offered the chance to continue after his physical death, becoming a Dream Demon that could enter his victims dreams and kill them in the Dream World, which would thus cause their death in the physical world and absorb their souls afterwards.']\n",
      "675 : ['What are the municipality of the Netherlands  which start with the letter s']\n",
      "676 : ['Is it true that the valency of monotransitive verb equals to 2?']\n"
     ]
    },
    {
     "name": "stdout",
     "output_type": "stream",
     "text": [
      "677 : ['What is the CDB Chemical ID for isopropyl alcohol?']\n"
     ]
    },
    {
     "name": "stdout",
     "output_type": "stream",
     "text": [
      "678 : ['how many crew members does enola gay have?']\n",
      "679 : ['Which Class II combustible liquid has the highest median lethal concentration?']\n",
      "680 : ['Which is the subject in Sunyata having science,that studies about Buddhist studies?']\n",
      "681 : ['What is the mascot for the Stanford University athletics department?']\n"
     ]
    },
    {
     "name": "stdout",
     "output_type": "stream",
     "text": [
      "682 : ['What happened to the SS Naronic?']\n",
      "683 : ['Who is the brother of the actress Trishna?']\n",
      "684 : ['What position did Ramsay MacDonald hold in the 37th Parliament of the United Kingdom and what was his cause?']\n",
      "685 : ['What is the chemical compound of polyvinyl chloride?']\n"
     ]
    },
    {
     "name": "stdout",
     "output_type": "stream",
     "text": [
      "686 : ['Name a musical composition by Dionysus']\n",
      "687 : ['Dies the Center for Jewish Studies Heidelberg students count equal 110?']\n",
      "688 : ['Who is the nominee for Nevermind, that was produced on 1991-0-0?']\n"
     ]
    },
    {
     "name": "stdout",
     "output_type": "stream",
     "text": [
      "689 : ['What is Lysimachuss noble title and who follows?']\n",
      "690 : ['What are the political philosophy which start with the letter w']\n",
      "691 : ['What political party does Jacinda Ardern belong to?']\n"
     ]
    },
    {
     "name": "stdout",
     "output_type": "stream",
     "text": [
      "692 : ['Charles the Bald position is what and he got his position after which person?']\n",
      "693 : ['What is the 2.1 with the highest speed whose participating teams is Katusha 2016?']\n"
     ]
    },
    {
     "name": "stdout",
     "output_type": "stream",
     "text": [
      "694 : ['Which song was Ringo Starr nominated for the Academy Award for Best Original Song Score?']\n",
      "695 : ['What ceremony takes place in Leicester?']\n"
     ]
    },
    {
     "name": "stdout",
     "output_type": "stream",
     "text": [
      "696 : ['Which is the rank of the taxon parent of Physalis philadelphica?']\n"
     ]
    },
    {
     "name": "stdout",
     "output_type": "stream",
     "text": [
      "697 : ['What is it?']\n"
     ]
    },
    {
     "name": "stdout",
     "output_type": "stream",
     "text": [
      "698 : ['Which document is the main regulatory text of the Soviet Union?']\n"
     ]
    },
    {
     "name": "stdout",
     "output_type": "stream",
     "text": [
      "699 : ['What is {chairwoman} of {working for} of {Vannevar Bush} ?']\n",
      "700 : ['Is the beats per minute of the Colorless Aura equal 50?']\n"
     ]
    },
    {
     "name": "stdout",
     "output_type": "stream",
     "text": [
      "701 : ['When Don Bradman ended as member of Australia national cricket team?']\n",
      "702 : ['How many Crusade conflicts were there?']\n",
      "703 : ['Tell me about member of sports team of Ian Rush and number of matches played?']\n",
      "704 : ['Who is {executive authority} of {play} {snowboard} ?']\n"
     ]
    },
    {
     "name": "stdout",
     "output_type": "stream",
     "text": [
      "705 : ['What is the period of time of the  {Hellenistic period} ?']\n",
      "706 : ['Can you say which national library has the smallest collection?']\n",
      "707 : ['Does the SAF 2507 have a pitting resistance equivalent number that is greater than  45.24?']\n"
     ]
    },
    {
     "name": "stdout",
     "output_type": "stream",
     "text": [
      "708 : ['How many {twinned administrative body} are there for {Monterrey} ?']\n",
      "709 : ['Where in Père Lachaise Cemetery is Jean-François Champollion buried?']\n"
     ]
    },
    {
     "name": "stdout",
     "output_type": "stream",
     "text": [
      "710 : ['When did award received of Alice Munro and followed by?']\n"
     ]
    },
    {
     "name": "stdout",
     "output_type": "stream",
     "text": [
      "711 : ['When did Ahmedabad become Presidency of Bombay which was located in the administrative territorial entity?']\n"
     ]
    },
    {
     "name": "stdout",
     "output_type": "stream",
     "text": [
      "712713 : ['What are the weekly newspaper  which start with the letter e']\n",
      " : ['What is the genetic association that can be found in species with post-traumatic stress disorder?']\n"
     ]
    },
    {
     "name": "stdout",
     "output_type": "stream",
     "text": [
      "714 : ['which record did pole vault hold and which is the height?']\n",
      "715 : ['Tell me dyed whose name has the word yan in it.']\n",
      "716 : ['Who was the goddess Artemis?']\n"
     ]
    },
    {
     "name": "stdout",
     "output_type": "stream",
     "text": [
      "717 : ['Tell me the brain region that contains the word thalamus in their name']\n",
      "718 : ['When did Aurangabad become part of the Hyderabad State?']\n",
      "719 : ['How many mothers did Eros have?']\n"
     ]
    },
    {
     "name": "stdout",
     "output_type": "stream",
     "text": [
      "720 : ['How many occupants are there with {Shah} ?']\n",
      "721 : ['Which member of the Rabah Madjer sports team played 94 matches ?']\n"
     ]
    },
    {
     "name": "stdout",
     "output_type": "stream",
     "text": [
      "722 : ['Which is the Darts Database player ID of Phil Taylor?']\n",
      "723 : ['What drives the subject of the language change statement']\n",
      "724 : ['What {subject has role} which {physically interacts with} of {Dopamine} ?']\n"
     ]
    },
    {
     "name": "stdout",
     "output_type": "stream",
     "text": [
      "725 : ['What is the parent university of Purdue University?']\n",
      "726 : ['which organization name starts with z']\n",
      "727 : ['What position did Martin V hold that was eventually replaced by Eugene IV?']\n"
     ]
    },
    {
     "name": "stdout",
     "output_type": "stream",
     "text": [
      "728 : ['What electoral district does Member of the New Zealand House of Representatives Jacinda Ardern represent?']\n",
      "729 : ['In what position did Charles XIV John of Sweden replace Charles XIII of Sweden?']\n"
     ]
    },
    {
     "name": "stdout",
     "output_type": "stream",
     "text": [
      "730 : ['Which videogame studio developped Pong ?']\n"
     ]
    },
    {
     "name": "stdout",
     "output_type": "stream",
     "text": [
      "731 : ['What was F. Murray Abraham nominated for in the 57th academy awards?']\n"
     ]
    },
    {
     "name": "stdout",
     "output_type": "stream",
     "text": [
      "732 : ['What are the ring system  which start with the letter r']\n",
      "733 : ['What is the language official in Federated States of Micronesia having a shortened name of']\n",
      "734 : ['Which is the {crystal system} who {discoverer or inventor} of {Titanium} ?']\n"
     ]
    },
    {
     "name": "stdout",
     "output_type": "stream",
     "text": [
      "735 : ['What are the speakers of the working languages of the Kingdom of England?']\n",
      "736 : ['Was Chandragupta Maurya the student of both Chanakya and Vidyananda?']\n"
     ]
    },
    {
     "name": "stdout",
     "output_type": "stream",
     "text": [
      "737 : ['What material has the highest operating temperature?']\n",
      "738 : ['How many file formats are done on Portable Document Format?']\n"
     ]
    },
    {
     "name": "stdout",
     "output_type": "stream",
     "text": [
      "739 : ['What are the signs of Typhoid fever which can be treated with Dopamine?']\n",
      "740 : ['What position was David Cameron elected to?']\n"
     ]
    },
    {
     "name": "stdout",
     "output_type": "stream",
     "text": [
      "741 : ['Who was Jonas Salks doctoral student?']\n"
     ]
    },
    {
     "name": "stdout",
     "output_type": "stream",
     "text": [
      "742 : ['Tell me the airline that starts with the letter p']\n",
      "743 : ['Who was replaced by Clovis I as King of France?']\n"
     ]
    },
    {
     "name": "stdout",
     "output_type": "stream",
     "text": [
      "744 : ['When was the population of Dalian 4480000?']\n",
      "745 : ['Who is the {aircraft fleet} for {uses} of {airplane}']\n",
      "746 : ['who county seat for  died in of Innokenty smoktunovsky ?']\n",
      "747 : ['Was Helen Keller a member of the Transport Workers Union of America?']\n"
     ]
    },
    {
     "name": "stdout",
     "output_type": "stream",
     "text": [
      "748 : ['Where can you land on the moon with a mass of 73.477?']\n",
      "749 : ['How many matches did Diego Maradona participate in with the A.A. Argentinos Juniors?']\n",
      "750 : ['how many officers are there for the united nations secretary-general?']\n",
      "751 : ['What award was received by Valeri Polyakov on April 4, 2011?']\n",
      "752 : ['Who is {rector} of {Moscow State University}, which {alumna of} is {Saint Petersburg State University} ?']\n"
     ]
    },
    {
     "name": "stdout",
     "output_type": "stream",
     "text": [
      "753 : ['Where did Pierre Curie live, which has the timezone of UTC-02:00?']\n"
     ]
    },
    {
     "name": "stdout",
     "output_type": "stream",
     "text": [
      "754 : ['Shen Bao has a partner city of Rotterdam, what is the main location of the publication?']\n"
     ]
    },
    {
     "name": "stdout",
     "output_type": "stream",
     "text": [
      "755 : ['Tell me reference model whose name has the word model in it.']\n"
     ]
    },
    {
     "name": "stdout",
     "output_type": "stream",
     "text": [
      "756 : ['How many things are designed for Doom?']\n"
     ]
    },
    {
     "name": "stdout",
     "output_type": "stream",
     "text": [
      "757 : ['Is the kinematic viscosity of propylene glycol equal to 0.054?']\n",
      "758 : ['What medical condition did Väinö Linna have in 1984?']\n",
      "759 : ['what are the mathematical notation which start with the letter s']\n"
     ]
    },
    {
     "name": "stdout",
     "output_type": "stream",
     "text": [
      "760 : ['which magazine starts with z']\n"
     ]
    },
    {
     "name": "stdout",
     "output_type": "stream",
     "text": [
      "761 : ['When did Saint Vincent and the Grenadines have a population of 108150?']\n"
     ]
    },
    {
     "name": "stdout",
     "output_type": "stream",
     "text": [
      "762 : ['How many carry things by road?']\n",
      "763 : ['Who is the Head of State  of the Austrian Empire?']\n"
     ]
    },
    {
     "name": "stdout",
     "output_type": "stream",
     "text": [
      "764 : ['What is the local dialling code of the Dallas Morning News?']\n"
     ]
    },
    {
     "name": "stdout",
     "output_type": "stream",
     "text": [
      "765 : ['Who is the presenter of The Tonight Show?']\n",
      "766 : ['Which is the sign language for the signed form of Esperanto?']\n"
     ]
    },
    {
     "name": "stdout",
     "output_type": "stream",
     "text": [
      "767 : ['For which sports team does Thierry Henry play and how many matches has he played?']\n",
      "768 : ['What is JewAge person ID for Ludwig von Mises ?']\n",
      "769 : ['What is the language official of World Baseball Softball Confederation whose typology is nominative–accusative language?']\n",
      "770 : ['What were the last words of Jesus Christ?']\n"
     ]
    },
    {
     "name": "stdout",
     "output_type": "stream",
     "text": [
      "771 : ['What is the genus with the highest chromosome count in the taxon rank?']\n",
      "772 : ['What is the significant role played by Giant Magellan Telescope in the field of Construction?']\n",
      "773 : ['This sentence makes no sense.']\n",
      "774 : ['Which is the Billboard artist ID for Vicente Fernández?']\n"
     ]
    },
    {
     "name": "stdout",
     "output_type": "stream",
     "text": [
      "775 : ['Tell me the number of points and games played by Brian Clough, member of the English national football team.']\n",
      "776 : ['What was the {award won} by {Cream}, that was {introduced} in {1983-0-0}?']\n",
      "777 : ['What is the middle name of Daniel Carter, which has a pronunciation audio of PI-Daniel.ogg?']\n",
      "778 : ['When did Lorin Maazel received the Grammy Award for Best Opera Recording?']\n"
     ]
    },
    {
     "name": "stdout",
     "output_type": "stream",
     "text": [
      "779 : ['What city became a twin city of Klagenfurt in 1990?']\n",
      "780 : ['How many members of the crew are there for John Jellicoe , 1st Earl Jellicoe?']\n",
      "781 : ['What do you call the incarnation of Jesus Christ?']\n",
      "782 : ['When and where did Victor Hugo marry his spouse, Adele Foucher?']\n"
     ]
    },
    {
     "name": "stdout",
     "output_type": "stream",
     "text": [
      "783 : ['What was Leonardo Bonaccis date of death in the year 1240?']\n",
      "784 : ['What is { safety classification and labeling } of { magnesium sulfate anhydrous } that is { NFPA Fire } is { 0 }?']\n"
     ]
    },
    {
     "name": "stdout",
     "output_type": "stream",
     "text": [
      "785 : ['What game is played by backgammon players and contains the word backgammon?']\n",
      "786 : ['In what field of work does José Luis Rodríguez Zapatero work in?']\n"
     ]
    },
    {
     "name": "stdout",
     "output_type": "stream",
     "text": [
      "787 : ['Which is {official language} of {basin countries} of {White Sea} ?']\n",
      "788 : ['Which taxon has the highest chromosome count?']\n"
     ]
    },
    {
     "name": "stdout",
     "output_type": "stream",
     "text": [
      "789 : ['Which is the liberal arts college that is affiliated with Columbia University?']\n",
      "790 : ['Tell me theorem whose name has the word theorem in it.']\n",
      "791 : ['What is in the municipality of Canton of Jura that has a -0.3 inflation rate of consumer price index?']\n",
      "792 : ['Who is the general manager of the Chicago Cubs?']\n"
     ]
    },
    {
     "name": "stdout",
     "output_type": "stream",
     "text": [
      "793 : ['What state is the University of Iowa located?']\n"
     ]
    },
    {
     "name": "stdout",
     "output_type": "stream",
     "text": [
      "794 : ['When Camille Pissarro ended to work at Netherlands?']\n"
     ]
    },
    {
     "name": "stdout",
     "output_type": "stream",
     "text": [
      "795 : ['Who is the owner of Hon Hai Precision Industry?']\n"
     ]
    },
    {
     "name": "stdout",
     "output_type": "stream",
     "text": [
      "796 : ['What is the military rank of the colonel?']\n"
     ]
    },
    {
     "name": "stdout",
     "output_type": "stream",
     "text": [
      "797 : ['Does the port of the Multicast File transfer protocol have less than 6482.2 capacity?']\n",
      "798 : ['What is the antonym of the professions field of prosecutor?']\n"
     ]
    },
    {
     "name": "stdout",
     "output_type": "stream",
     "text": [
      "799 : ['Which detached object has the highest mean of anomalies?']\n",
      "800 : ['What are the regions available on the coast of Lower Saxony?']\n",
      "801 : ['What award was John Williams nominated for in Close Encounters of the Third Kind?']\n"
     ]
    },
    {
     "name": "stdout",
     "output_type": "stream",
     "text": [
      "802 : ['When did Tony Walton become the spouse of Julie Andrews?']\n"
     ]
    },
    {
     "name": "stdout",
     "output_type": "stream",
     "text": [
      "803 : ['What is the academic degree of Al-Waleed bin Talal?']\n"
     ]
    },
    {
     "name": "stdout",
     "output_type": "stream",
     "text": [
      "804 : ['Is the power consumed by the World Space Observatory more than 1200?']\n",
      "805 : ['Tell me the Human population and birthplace of konstantin khabensky?']\n"
     ]
    },
    {
     "name": "stdout",
     "output_type": "stream",
     "text": [
      "806 : ['Who is the child of Isabella I of Castile and when were they born?']\n",
      "807 : ['Tell me about spouse of Julio Iglesias and end cause?']\n"
     ]
    },
    {
     "name": "stdout",
     "output_type": "stream",
     "text": [
      "808 : ['Where was Grace Hopper educated at in 1930?']\n"
     ]
    },
    {
     "name": "stdout",
     "output_type": "stream",
     "text": [
      "809 : ['What Japanese TV series has the most number of seasons and was originally aired in Japanese?']\n",
      "810 : ['The Moon is found in which subtopic of the geological history of the Earth that has moon in the name?']\n",
      "811 : ['What killed John F. Kennedy and who caused him ballistic trauma?']\n",
      "812 : ['Tell me about member of sports team of Rinus Michels and number of points/goals/set scored?']\n"
     ]
    },
    {
     "name": "stdout",
     "output_type": "stream",
     "text": [
      "813 : ['Which is the historical nationality for the location of Bilbao?']\n",
      "814 : ['What is the ship with the lowest payload mass whose manufacturer is ERROR1?']\n",
      "815 : ['Is the end time for the spouse of Larry King 1967-0-0?']\n"
     ]
    },
    {
     "name": "stdout",
     "output_type": "stream",
     "text": [
      "816 : ['When was the Arab League founded that shares a border with Ethiopia?']\n",
      "817 : ['Name a brand owned by SpaceX.']\n",
      "818 : ['What is the first described of the ideology of Progressive Party?']\n"
     ]
    },
    {
     "name": "stdout",
     "output_type": "stream",
     "text": [
      "819820 : ['What represents the organization of the siblings of Louis Gigante?']\n",
      " : ['What is the taxonomic type of Cactaceae?']\n",
      "821 : ['Which is the parity of Higgs boson?']\n"
     ]
    },
    {
     "name": "stdout",
     "output_type": "stream",
     "text": [
      "822 : ['When did Honolulu become an entity as the Territory of Hawaii?']\n",
      "823 : ['What is the admin HQ of Alma Matter and Victor Hugo?']\n"
     ]
    },
    {
     "name": "stdout",
     "output_type": "stream",
     "text": [
      "824 : ['What is the death location, whose partner city is Jakarta, of Samuel Butler?']\n"
     ]
    },
    {
     "name": "stdout",
     "output_type": "stream",
     "text": [
      "825 : ['How many medical conditions are treated by diazepam?']\n",
      "826 : ['Where in the administrative territorial entity of Umbria was Monica Bellucci born?']\n",
      "827 : ['Which  is farthest north of place held by Balkans Campaign?']\n"
     ]
    },
    {
     "name": "stdout",
     "output_type": "stream",
     "text": [
      "828 : ['Which is a ports competition competed at the Olympic games?']\n",
      "829 : ['What is EDIT16 catalogue author ID for Leo X ?']\n"
     ]
    },
    {
     "name": "stdout",
     "output_type": "stream",
     "text": [
      "830 : ['What is Proxima Centauris companion?']\n"
     ]
    },
    {
     "name": "stdout",
     "output_type": "stream",
     "text": [
      "831 : ['When did Betty White win the Daytime Emmy Award for Outstanding Game Show Host?']\n",
      "832 : ['When did Thomas Wakley, the Member of the 12th Parliament of the United Kingdom, end his position?']\n",
      "833 : ['Which nonprofit organization has the highest total expenditure?']\n",
      "834 : ['What is Flags of the World ID for Union Jack ?']\n"
     ]
    },
    {
     "name": "stdout",
     "output_type": "stream",
     "text": [
      "835 : ['For Ryan ONeal was in nomination of Golden Globe Award for Best Actor-Motion picture Drama?']\n",
      "836 : ['Is Vidhan Sabha executive body of Assam?']\n"
     ]
    },
    {
     "name": "stdout",
     "output_type": "stream",
     "text": [
      "837 : ['What is Mizoram?']\n",
      "838 : ['What is the fictional analog of The Gingerbread Man?']\n",
      "839 : ['Which is the HQ location in The Economic Times having Indian reservation in Bombay State?']\n"
     ]
    },
    {
     "name": "stdout",
     "output_type": "stream",
     "text": [
      "840 : ['Who is the contestant of Descendants of the Sun?']\n",
      "841 : ['What is budget for Grand Theft Auto V?']\n"
     ]
    },
    {
     "name": "stdout",
     "output_type": "stream",
     "text": [
      "842 : ['For which work Patrick White received the Miles Franklin Literary Award?']\n",
      "843 : ['What was the population of Lucknow in 2011?']\n"
     ]
    },
    {
     "name": "stdout",
     "output_type": "stream",
     "text": [
      "844 : ['Where in the Soviet Union did Andrei Bely die?']\n",
      "845 : ['What is the National Park Foundation ID for the Rocky Mountain National Park?']\n"
     ]
    },
    {
     "name": "stdout",
     "output_type": "stream",
     "text": [
      "846 : ['What team does Eric Cantona play for, and how many matches has he played?']\n"
     ]
    },
    {
     "name": "stdout",
     "output_type": "stream",
     "text": [
      "847 : ['Who is the writer of The Murder of Roger Ackroyd, which has been active since 1920-0-0?']\n",
      "848 : ['What is {temperature} {on river} of {Iberian Peninsula} ?']\n",
      "849 : ['What branch of science starts with the letter v?']\n",
      "850 : ['What is Cyworld ID for Park Geun-hye ?']\n"
     ]
    },
    {
     "name": "stdout",
     "output_type": "stream",
     "text": [
      "851 : ['Do the rural cities of Para have 13155 inhabitants?']\n"
     ]
    },
    {
     "name": "stdout",
     "output_type": "stream",
     "text": [
      "852 : ['what is mankinds collection of venice']\n",
      "853 : ['What is the heavy metal band whose mascot is Ediie the head that start with letter I ?']\n",
      "854 : ['What is Northern Englands total imports?']\n"
     ]
    },
    {
     "name": "stdout",
     "output_type": "stream",
     "text": [
      "855 : ['When was Vasily Chuikov awarded the Order of Lenin?']\n",
      "856 : ['Tell me the house cat that contains the word мyka in their name']\n"
     ]
    },
    {
     "name": "stdout",
     "output_type": "stream",
     "text": [
      "857 : ['which is scientific area of developed by of perl?']\n",
      "858 : ['WHAT Australia and Oceania ?']\n",
      "859 : ['What is Jacinda Arderns position ?']\n"
     ]
    },
    {
     "name": "stdout",
     "output_type": "stream",
     "text": [
      "860 : ['Which is the extensive physical quantity that is measured by the inertial mass and starts with the letter m?']\n"
     ]
    },
    {
     "name": "stdout",
     "output_type": "stream",
     "text": [
      "861 : ['Tell me  security agency whose name has the word state in it.']\n",
      "862 : ['Who is the person for the military branch of KGB?']\n",
      "863 : ['when was samuel beckett nominated for nobel prize in literature?']\n",
      "864 : ['Who is in the administrative territorial entity of Tbilisi and when is the end time?']\n",
      "865 : ['What are the state church which start with the letter M']\n",
      "866 : ['Who was the head of government in Palestine on June 2, 2014?']\n"
     ]
    },
    {
     "name": "stdout",
     "output_type": "stream",
     "text": [
      "867 : ['Who is the winner of Friends who has received Primetime Emmy award for Outstanding comedy series?']\n",
      "868 : ['Tell me Mahavidya whose name has the word tara in it']\n",
      "869 : ['Where is the birth place of John Walter, that has a general population of 8787892 ?']\n"
     ]
    },
    {
     "name": "stdout",
     "output_type": "stream",
     "text": [
      "870 : ['Is it true that the melting point of mercury is less than -45.6?']\n",
      "871 : ['When did Oberhausen have a population of 209292.0?']\n"
     ]
    },
    {
     "name": "stdout",
     "output_type": "stream",
     "text": [
      "872 : ['What award was Maria Montessori nominated for on January 1, 1950?']\n",
      "873 : ['Which birthplace of Chris Rock, has a Geotag of 33.45?']\n",
      "874 : ['When Alexandria, Diocese of Egypt, ended?']\n"
     ]
    },
    {
     "name": "stdout",
     "output_type": "stream",
     "text": [
      "875 : ['TELL ME THE PRECEEDS THAT IMPLIES VAPORIZATION?']\n",
      "876 : ['What is the opposite of inorganic chemistry?']\n"
     ]
    },
    {
     "name": "stdout",
     "output_type": "stream",
     "text": [
      "877 : ['Is Joule the measurement for transparency and work?']\n",
      "878 : ['Where and what did Hilary Mantel study?']\n"
     ]
    },
    {
     "name": "stdout",
     "output_type": "stream",
     "text": [
      "879880 : ['What were the statements when Michelle Pfeiffer got nominated for the Academy Award for Best Actress?']\n",
      "881 : ['Joseph belongs to what family?']\n",
      " : ['Which is the Japanese writing system for the writing system of Japanese?']\n"
     ]
    },
    {
     "name": "stdout",
     "output_type": "stream",
     "text": [
      "882 : ['What is the project codename for Windows 10?']\n",
      "883 : ['What is the volcano ID, assigned by the Smithsonian, for the Taal Volcano?']\n"
     ]
    },
    {
     "name": "stdout",
     "output_type": "stream",
     "text": [
      "884 : ['Tell me fictional detective whose name has the word sam in it.']\n"
     ]
    },
    {
     "name": "stdout",
     "output_type": "stream",
     "text": [
      "885 : ['Since when was Manichaeism found in Egypt?']\n"
     ]
    },
    {
     "name": "stdout",
     "output_type": "stream",
     "text": [
      "886 : ['Is the watershed area of the rio de Santa Maria Zobenigo greater than 0.00083176?']\n"
     ]
    },
    {
     "name": "stdout",
     "output_type": "stream",
     "text": [
      "887 : ['What treatment is Neil Diamond getting for his health issues?']\n",
      "888 : ['Which colonial power controlled Lisbon?']\n",
      "889 : ['What borders Senegal and yet is a member of AFRISTAT?']\n"
     ]
    },
    {
     "name": "stdout",
     "output_type": "stream",
     "text": [
      "890 : ['Which is the {eye color} of the {hair color} of {Xi_Jinping} ?']\n",
      "891 : ['What non-metropolitan county shares a border with Hampshire?']\n"
     ]
    },
    {
     "name": "stdout",
     "output_type": "stream",
     "text": [
      "892893 : ['Who is the child of Ofelia Medinas life partner?']\n",
      " : ['Who owns Disneyland and who is it named after?']\n",
      "894 : ['Who are the film crew members and cast members of Game of Thrones?']\n"
     ]
    },
    {
     "name": "stdout",
     "output_type": "stream",
     "text": [
      "895 : ['TELL ME SEASON WHOSE NAME HAS THE WORD WINTER IN IT.']\n",
      "896 : ['What is the date did Midway games publish the video game Pac-Man, and where was it published?']\n",
      "897 : ['When did A.R. Rahman receive the IIFA Award for Best Music Director?']\n"
     ]
    },
    {
     "name": "stdout",
     "output_type": "stream",
     "text": [
      "898 : ['What gaming platform is Second Life on?']\n"
     ]
    },
    {
     "name": "stdout",
     "output_type": "stream",
     "text": [
      "899 : ['Tolyatti has what OK TMO ID?']\n",
      "900 : ['Which is the Wikimedia template that populates this category of Gujarati?']\n",
      "901 : ['Does the height of the BMW i8 equal 1?']\n"
     ]
    },
    {
     "name": "stdout",
     "output_type": "stream",
     "text": [
      "902 : ['Which is the sector of the software publisher for Horticultural classification of tulip cultivars?']\n"
     ]
    },
    {
     "name": "stdout",
     "output_type": "stream",
     "text": [
      "903 : ['Which is the OS grid reference for Bradford?']\n",
      "904 : ['what is magnetic moment for electorn?']\n",
      "905 : ['WHICH ARE THE NUT THAT CONTAINS THE WORD NUT IN THEIR NAME']\n"
     ]
    },
    {
     "name": "stdout",
     "output_type": "stream",
     "text": [
      "906 : ['What is the object I.D. of L.L. Zamenhof at the Museum of FAine Arts, Boston?']\n",
      "907 : ['whos is owner of the kiss that have members of is g20']\n",
      "908 : ['What are the radiation particles that contain the word cosmic in their names ?']\n",
      "909 : ['What is the base of a cube?']\n"
     ]
    },
    {
     "name": "stdout",
     "output_type": "stream",
     "text": [
      "910 : ['Which is the NLP ID for Georgias?']\n",
      "911 : ['Which CAF Champions League has the highest number of points/goals/set scored?']\n",
      "912 : ['Which is the Thai cultural heritage ID for Khlong Saen Saeb?']\n",
      "913 : ['What are winged horse which start with the letter p']\n"
     ]
    },
    {
     "name": "stdout",
     "output_type": "stream",
     "text": [
      "914 : ['What are the treaty which start with the letter t']\n",
      "915 : ['What are Lee Friedlanders national diplomatic relations?']\n"
     ]
    },
    {
     "name": "stdout",
     "output_type": "stream",
     "text": [
      "916 : ['What is the connecting line of Chulalongkorn University?']\n"
     ]
    },
    {
     "name": "stdout",
     "output_type": "stream",
     "text": [
      "917 : ['Who are the writers and collaborators to Chris Odom?']\n"
     ]
    },
    {
     "name": "stdout",
     "output_type": "stream",
     "text": [
      "918 : ['When did Peter Freuchen join the Social Democrats?']\n",
      "919 : ['Which is the mathematical formula of the shape of the cooling tower?']\n",
      "920 : ['Is the individual tax rate in Sweden 25%?']\n",
      "921 : ['how many activated neurotransmitters are in y-aminobutyric acid?']\n"
     ]
    },
    {
     "name": "stdout",
     "output_type": "stream",
     "text": [
      "922 : ['Which award was received by Andrew Scott for his fictitious character Sherlock?']\n",
      "923 : ['Who is the {municipal archive} for {archives at} of {Aachen}']\n"
     ]
    },
    {
     "name": "stdout",
     "output_type": "stream",
     "text": [
      "924 : ['Is the position angle of northwest by north equal to 391.5?']\n",
      "925 : ['IS THE SERVICE LIFE OF THE AMBATOVY MINE EQUALS 29']\n",
      "926 : ['Is it true that the thermal diffusivity of adobe is less than 0.216?']\n",
      "927 : ['When did Pedro Is child Princess Januária of Brazil die, and who was her mother?']\n"
     ]
    },
    {
     "name": "stdout",
     "output_type": "stream",
     "text": [
      "928 : ['What is the unemployment rate of the candidate on the Eastern Front?']\n",
      "929 : ['Which is Japanese Baseball Hall of Fame ID for Hideo Nomo?']\n"
     ]
    },
    {
     "name": "stdout",
     "output_type": "stream",
     "text": [
      "930 : ['Which antiparticle of the antineutron has the longest mean lifetime ?']\n"
     ]
    },
    {
     "name": "stdout",
     "output_type": "stream",
     "text": [
      "931 : ['Which is {marry} of {Cassiopeia}, who {has son} is {Andromeda} ?']\n",
      "932 : ['What was in the aspect of the instruction set architecture whose painter was Gerrit Blaauw?']\n",
      "933 : ['What is the number of those maintained by Fukuoka?']\n",
      "934 : ['Which isotope of indium has the most parity?']\n"
     ]
    },
    {
     "name": "stdout",
     "output_type": "stream",
     "text": [
      "935 : ['What town is twinned with 2NE1?']\n",
      "936 : ['How much did Ellyse Perry score when playing for which team?']\n",
      "937 : ['Is it true that the caliber of Ehrhardt 7.5 cm Model 1901 equals to 60?']\n"
     ]
    },
    {
     "name": "stdout",
     "output_type": "stream",
     "text": [
      "938 : ['Which son of Isaac has a son named Shuah?']\n"
     ]
    },
    {
     "name": "stdout",
     "output_type": "stream",
     "text": [
      "939 : ['How many country citizenship are taken by Antonio José de Sucre Farell?']\n",
      "940 : ['Who is the candidacy in election for United States Congress?']\n",
      "941 : ['Tell me hole that contains the word d']\n"
     ]
    },
    {
     "name": "stdout",
     "output_type": "stream",
     "text": [
      "942 : ['What is SCTs HomoloGene ID?']\n"
     ]
    },
    {
     "name": "stdout",
     "output_type": "stream",
     "text": [
      "943 : ['What is Léopold Sédar Senghors Dialnet author ID?']\n"
     ]
    },
    {
     "name": "stdout",
     "output_type": "stream",
     "text": [
      "944 : ['Which is the date of burial or cremation of Miloš Forman?']\n"
     ]
    },
    {
     "name": "stdout",
     "output_type": "stream",
     "text": [
      "945 : ['Hoe many programming languages  are supported by logo?']\n",
      "946 : ['Which is the {country for sport} and the {sport} of {Novak_Djokovic} ?']\n",
      "947 : ['What country related to Israel has the highest debt related to GDP?']\n"
     ]
    },
    {
     "name": "stdout",
     "output_type": "stream",
     "text": [
      "948 : ['Is the format for regular expression for red, R?']\n"
     ]
    },
    {
     "name": "stdout",
     "output_type": "stream",
     "text": [
      "949 : ['Is the annual energy output of the Greater Gabbard wind farm equal to 1800?']\n",
      "950 : ['Who has surname as Mireille Mathieu and similar to Matias?']\n",
      "951 : ['Name an art genre that contains the word ballet in its name']\n",
      "952 : ['Tell me the position held by Joseph Lister, 1st Baron Lister in the year 1902 and thereafter.']\n"
     ]
    },
    {
     "name": "stdout",
     "output_type": "stream",
     "text": [
      "953 : ['What position did Félix Faure hold before he was replaced by Émile Loubet?']\n",
      "954 : ['Which is the fictional universe which takes place in the fictional universe of The Matrix?']\n"
     ]
    },
    {
     "name": "stdout",
     "output_type": "stream",
     "text": [
      "955 : ['What is the excipient with the highest kinematic viscosity whose safety classification and labelling is NFPA 704: Standard System for the Identification of the Hazards of Materials for Emergency Response?']\n",
      "956 : ['Is the lighthouse range of South Channel Pile Light less than 2.4?']\n",
      "957 : ['The Kingdom of Hawaii utilizes the base currency of which government or authority?']\n",
      "958 : ['Which is {location born} of {concubine} {Margaret Rudd} ?']\n",
      "959 : ['Is Mary I of England a sibling of Edward VI of England?']\n",
      "960 : ['What is the document published by the National Constituent Assembly that contains the word citizen in its name']\n"
     ]
    },
    {
     "name": "stdout",
     "output_type": "stream",
     "text": [
      "961 : ['Where is {disciples} of {Nadia Boulanger}, which has {location of death} is {Azores} ?']\n"
     ]
    },
    {
     "name": "stdout",
     "output_type": "stream",
     "text": [
      "962 : ['Which are the first aid measures of petroleum jelly?']\n",
      "963 : ['Which is the AFL Tables coach ID for Ron Barassi?']\n"
     ]
    },
    {
     "name": "stdout",
     "output_type": "stream",
     "text": [
      "964 : ['What are the linguistic typology and grammatical gender of Spanish language?']\n",
      "965 : ['What award did Carrie Underwood receive in 2007?']\n"
     ]
    },
    {
     "name": "stdout",
     "output_type": "stream",
     "text": [
      "966 : ['What is alphabet  language signed of  Ōe no Yoshitoki ?']\n",
      "967 : ['What is the monument with the highest luminous intensity whose heritage designation is Rijksmonument?']\n"
     ]
    },
    {
     "name": "stdout",
     "output_type": "stream",
     "text": [
      "968 : ['When was Athens, Greece founded?']\n"
     ]
    },
    {
     "name": "stdout",
     "output_type": "stream",
     "text": [
      "969 : ['What are the winged horse which start with the letter pegasus']\n",
      "970 : ['What kind of steam engine was invented by james Watt']\n"
     ]
    },
    {
     "name": "stdout",
     "output_type": "stream",
     "text": [
      "971 : ['Who was the sister of Henry V, the Holy Roman Emperor during his death in the year of 1101-7-27?']\n",
      "972 : ['Tell me excipient whose name has the word xylitol in it.']\n"
     ]
    },
    {
     "name": "stdout",
     "output_type": "stream",
     "text": [
      "973 : ['In which language of work or name do heart has a pronunciation audio as Ru-сердце.ogg?']\n"
     ]
    },
    {
     "name": "stdout",
     "output_type": "stream",
     "text": [
      "974 : ['Which the {subject has role} and the {location of discovery} of {Iodine} ?']\n",
      "975 : ['Which is the summit of the highest point of Shanghai?']\n"
     ]
    },
    {
     "name": "stdout",
     "output_type": "stream",
     "text": [
      "976 : ['What is the location of the Honda headquarters with the postal code 107-8556?']\n",
      "977 : ['Which {musical instrument} of {musician}  is used on {A Theme from The Threepenny Opera} ?']\n",
      "978 : ['What item was used in the coincident of the human body?']\n",
      "979 : ['Which is the automobile model as the vehicle normally used by Elizabeth II?']\n",
      "980 : ['Who is the son of master Lou Harrison?']\n",
      "981 : ['Is it true that the maximal incubation period in humans with leprosy equals to 21?']\n"
     ]
    },
    {
     "name": "stdout",
     "output_type": "stream",
     "text": [
      "982 : ['Who is the {island nation} for {participant} of {North African Campaign}']\n",
      "983 : ['What was Carol Ann Duffy nominated for in 2011?']\n"
     ]
    },
    {
     "name": "stdout",
     "output_type": "stream",
     "text": [
      "984 : ['What theatre did Frank Gehry design?']\n",
      "985 : ['Which is the EIDR identifier of E.T. the Extra-Terrestrial?']\n",
      "986 : ['Is Spains unemployment rate 25?']\n"
     ]
    },
    {
     "name": "stdout",
     "output_type": "stream",
     "text": [
      "987 : ['What is Fawlty Towers AlloCine series ID?']\n"
     ]
    },
    {
     "name": "stdout",
     "output_type": "stream",
     "text": [
      "988 : ['Where was Henry Cabot Lodge educated and what did he major in?']\n"
     ]
    },
    {
     "name": "stdout",
     "output_type": "stream",
     "text": [
      "989 : ['Is The New York Times published in Manhattan, New York City?']\n",
      "990 : ['When did Ryan Giggs become a member of the Manchester United F.C.?']\n"
     ]
    },
    {
     "name": "stdout",
     "output_type": "stream",
     "text": [
      "991 : ['Which is the crystal habit for albite?']\n"
     ]
    },
    {
     "name": "stdout",
     "output_type": "stream",
     "text": [
      "992 : ['What awards has Loretta Lynn won?']\n",
      "993 : ['Give the name of the hill with the highest isolation whose is at a high range.']\n"
     ]
    },
    {
     "name": "stdout",
     "output_type": "stream",
     "text": [
      "994 : ['What award did Zadie Smith receive in 2006?']\n",
      "995 : ['Is it true that the residence time of water in Tai Lake equals 0.79?']\n"
     ]
    },
    {
     "name": "stdout",
     "output_type": "stream",
     "text": [
      "996 : ['How many street addresses are located in the {FIFA} ?']\n",
      "997 : ['What is the member of a sports team of Iker Casillas that starts January 1st, 1991?']\n"
     ]
    },
    {
     "name": "stdout",
     "output_type": "stream",
     "text": [
      "998 : ['What is the medium used by textile artists?']\n",
      "999 : ['What does Pinocchio appear in the form of?']\n",
      "1000 : ['Which rare disease killed Lou Gehrig?']\n"
     ]
    },
    {
     "name": "stdout",
     "output_type": "stream",
     "text": [
      "1001 : ['Which is tributary for Sea of Okhotsk having gps coordinate of 51.49694445 156.4758333?']\n",
      "1002 : ['What genre of music is in the series titled Bound?']\n",
      "1003 : ['what is mineral species distributed by ccs  and also which starts with letter p']\n"
     ]
    },
    {
     "name": "stdout",
     "output_type": "stream",
     "text": [
      "1004 : ['What is the taxon synonym of angiosperms?']\n",
      "1005 : ['na']\n"
     ]
    },
    {
     "name": "stdout",
     "output_type": "stream",
     "text": [
      "1006 : ['What playing range does the alto saxophone have?']\n"
     ]
    },
    {
     "name": "stdout",
     "output_type": "stream",
     "text": [
      "1007 : ['What is the daughter of Leopold II, Holy Roman Emperor, whose sister is Maria Anna dAsburgo-Lorena?']\n",
      "1008 : ['What is the rank was held by Jimmy connors as tennis singles?']\n"
     ]
    },
    {
     "name": "stdout",
     "output_type": "stream",
     "text": [
      "1009 : ['Did Ryan Gosling receive an award at 19th Satellite Awards?']\n",
      "1010 : ['Is it true that the suicide rate of Nara Prefecture equals to 20.736?']\n"
     ]
    },
    {
     "name": "stdout",
     "output_type": "stream",
     "text": [
      "1011 : ['What are the comics character which start with the letter viper']\n",
      "1012 : ['Tell me cyprinus rubrofuscus whose name has the word koi in it.']\n"
     ]
    },
    {
     "name": "stdout",
     "output_type": "stream",
     "text": [
      "1013 : ['What is the award received of Harold Pinter that is prized money that is 7 digits']\n"
     ]
    },
    {
     "name": "stdout",
     "output_type": "stream",
     "text": [
      "1014 : ['How many out of school children are there in Eritrea?']\n",
      "1015 : ['Who is the child of William Jennings Bryan that has the biological sex of male?']\n",
      "1016 : ['Where is the governmental capital of Ujjinakoppa?']\n"
     ]
    },
    {
     "name": "stdout",
     "output_type": "stream",
     "text": [
      "1017 : ['Who is the {gene} for {genetic association} of {allergic rhinitis}']\n"
     ]
    },
    {
     "name": "stdout",
     "output_type": "stream",
     "text": [
      "1018 : ['Which religious book is represented in Melchizedeks work?']\n",
      "1019 : ['When did Henry Steele Commager receive his education from the University of Chicago ?']\n",
      "1020 : ['What is the CPI inflation rate of the endemic to of  the Indian cuisine ?']\n"
     ]
    },
    {
     "name": "stdout",
     "output_type": "stream",
     "text": [
      "1021 : ['How many Doctor Who spin-offs are there?']\n",
      "1022 : ['Is the gestation period of the Gorilla less than 324.0?']\n",
      "1023 : ['What was the population of Little Rock as of 2/4/1935?']\n"
     ]
    },
    {
     "name": "stdout",
     "output_type": "stream",
     "text": [
      "1024 : ['How many langues does Kamal Haasan speak?']\n",
      "1025 : ['In 1939, what country did Marlene Dietrich become a citizen of?']\n"
     ]
    },
    {
     "name": "stdout",
     "output_type": "stream",
     "text": [
      "1026 : ['How many speeches were done by Ronald Reagan?']\n",
      "1027 : ['What does social science essentially study?']\n"
     ]
    },
    {
     "name": "stdout",
     "output_type": "stream",
     "text": [
      "1028 : ['What specimen type does Piper nigrum belong to?']\n"
     ]
    },
    {
     "name": "stdout",
     "output_type": "stream",
     "text": [
      "1029 : ['What is the birth place of Annie Oakley, is it correct that it has 52501.0 inhabitants?']\n"
     ]
    },
    {
     "name": "stdout",
     "output_type": "stream",
     "text": [
      "1030 : ['Which is the FIPS 55-3 (locations in the US) of Fresno?']\n"
     ]
    },
    {
     "name": "stdout",
     "output_type": "stream",
     "text": [
      "1031 : ['What college did Virgil Thomson attend?']\n",
      "1032 : ['Who wrote Strange Case of Dr Jekyll and Mr Hyde ?']\n"
     ]
    },
    {
     "name": "stdout",
     "output_type": "stream",
     "text": [
      "1033 : ['What are the Wikimedia set index article which start with the letter typhoon']\n",
      "1034 : ['Which is the Eurovision Song Contest song ID for Celine Dion?']\n",
      "1035 : ['What is the birthday of Abigail Adams who has a child named Abigail Adams Smith?']\n",
      "1036 : ['what is in the modified version  of Over the Rainbow ?']\n"
     ]
    },
    {
     "name": "stdout",
     "output_type": "stream",
     "text": [
      "1037 : ['Which school did Mao Zedong attend starting January 1, 1912?']\n"
     ]
    },
    {
     "name": "stdout",
     "output_type": "stream",
     "text": [
      "1038 : ['What is the wikipedia article for the Autobahn?']\n",
      "1039 : ['When was the {official trip} for {participant} of {Emmanuel Macron}?']\n",
      "1040 : ['What is the biography in Gerhard Schröders German Bundestag?']\n"
     ]
    },
    {
     "name": "stdout",
     "output_type": "stream",
     "text": [
      "1041 : ['Which is the period The Great Gatsby was set in?']\n",
      "1042 : ['How many platforms does Tomb Raider have?']\n",
      "1043 : ['What is a product of the automotive industry that is similar to a power-driven vehicle?']\n"
     ]
    },
    {
     "name": "stdout",
     "output_type": "stream",
     "text": [
      "1044 : ['How does it emulates in the {PlayStation} ?']\n",
      "1045 : ['When did Shivaji and Sakavaarbai become married?']\n",
      "1046 : ['In what historical period was Ancient Rome set ?']\n"
     ]
    },
    {
     "name": "stdout",
     "output_type": "stream",
     "text": [
      "1047 : ['When did Bono receive the TED Prize, and how much was he awarded as recipient?']\n",
      "1048 : ['What is the time of the day in year of Easter?']\n"
     ]
    },
    {
     "name": "stdout",
     "output_type": "stream",
     "text": [
      "1049 : ['Which is the male given name for the language of work in Russian?']\n"
     ]
    },
    {
     "name": "stdout",
     "output_type": "stream",
     "text": [
      "1050 : ['What is the Unifrance ID for The Wages of Fear?']\n",
      "1051 : ['How many architects worked on the St. Peters Basilica?']\n",
      "1052 : ['What field does Fernand Maillaud work in?']\n"
     ]
    },
    {
     "name": "stdout",
     "output_type": "stream",
     "text": [
      "1053 : ['Did Louis VI of France die at the Chateau de la Douye?']\n"
     ]
    },
    {
     "name": "stdout",
     "output_type": "stream",
     "text": [
      "1054 : ['What is the gender of Kartikeya whose symbol is also ♂?']\n"
     ]
    },
    {
     "name": "stdout",
     "output_type": "stream",
     "text": [
      "1055 : ['What award was Dianne Wiest nominated for at the 67th Academy Awards?']\n"
     ]
    },
    {
     "name": "stdout",
     "output_type": "stream",
     "text": [
      "1056 : ['Who is {club manager} of {actress} of {WrestleMania III} ?']\n",
      "1057 : ['Who replaced Charles Evans Hughes as the Chief Justice of The United States?']\n"
     ]
    },
    {
     "name": "stdout",
     "output_type": "stream",
     "text": [
      "1058 : ['Which of the chemical compounds with an active ingredient of Qutenza has the highest Scoville grade?']\n",
      "1059 : ['Which county seat of Lan Xang has STD code of 071?']\n"
     ]
    },
    {
     "name": "stdout",
     "output_type": "stream",
     "text": [
      "1060 : ['Which is the LIPID MAPS ID for abscisic acid?']\n",
      "1061 : ['What is the birthplace of Konrad Adenauer, which is bordered by the Rhein-Berg District?']\n",
      "1062 : ['Which is the scientific academic field of Zdzisław Szymański?']\n",
      "1063 : ['What is the VAT rate in Hungary?']\n"
     ]
    },
    {
     "name": "stdout",
     "output_type": "stream",
     "text": [
      "1064 : ['What is L-Tyrosine encoded by']\n",
      "1065 : ['Who are the children and siblings of Alan Alda?']\n",
      "1066 : ['Which is the metasublass for diaspora?']\n"
     ]
    },
    {
     "name": "stdout",
     "output_type": "stream",
     "text": [
      "1067 : ['Which is the cuisine for the veganism cuisine?']\n",
      "1068 : ['What written by creator of The Adventures of Tintin, has been prize awarded as the Officer of the Order of the Crown?']\n",
      "1069 : ['When did Ana Kasparian graduate from California State University, Northridge?']\n"
     ]
    },
    {
     "name": "stdout",
     "output_type": "stream",
     "text": [
      "1070 : ['Which polytheistic religion did the Etruschi follow?']\n",
      "1071 : ['What is the location and height of the pole vault recorded by Eliza McCartney?']\n"
     ]
    },
    {
     "name": "stdout",
     "output_type": "stream",
     "text": [
      "1072 : ['What was the population of Bermuda on 0-0-1988?']\n"
     ]
    },
    {
     "name": "stdout",
     "output_type": "stream",
     "text": [
      "1073 : ['How many game modes are by a MMO game?']\n",
      "1074 : ['Did Miles Davis record and label the RCA and Capitol Records?']\n",
      "1075 : ['What position and sports team does Thierry Henry play on?']\n"
     ]
    },
    {
     "name": "stdout",
     "output_type": "stream",
     "text": [
      "1076 : ['When was Chiang Kai-Shek elected and what was his major cause when he ran for President of the Republic of China?']\n",
      "1077 : ['What is the name of the music festival that is based on Sanremo Music Festival and that starts with the letter c?']\n",
      "1078 : ['What is the short-term exposure limit of chloroform over a 60-minute period?']\n"
     ]
    },
    {
     "name": "stdout",
     "output_type": "stream",
     "text": [
      "1079 : ['Who bought 4chan in 2015?']\n",
      "1080 : ['What award did Ken Thompson receive on January 1st, 1983?']\n",
      "1081 : ['When and what was the award received by John Galsworthy?']\n",
      "1082 : ['What was Claudette Colbert nominated for in the 8th Academy Awards?']\n"
     ]
    },
    {
     "name": "stdout",
     "output_type": "stream",
     "text": [
      "1083 : ['What political border does the Congress of Vienna have cause to be interested in?']\n",
      "1084 : ['WHat does biology study ?']\n",
      "1085 : ['Where is the resting place of dedication of the Church of St Peter?']\n"
     ]
    },
    {
     "name": "stdout",
     "output_type": "stream",
     "text": [
      "1086 : ['How many sponsors are for Juventus F.C.?']\n",
      "1087 : ['How many processor cores does Xbox one have?']\n"
     ]
    },
    {
     "name": "stdout",
     "output_type": "stream",
     "text": [
      "1088 : ['Which in {battle} {has daughter} of {Yeon Taejo} ?']\n",
      "1089 : ['What are the form of government which start with the letter unicameralism']\n",
      "1090 : [': Does Zhigulevskoye has alcohol by volume equal to 4.8']\n",
      "1091 : ['Which Chinese character has the tallest stroke count?']\n"
     ]
    },
    {
     "name": "stdout",
     "output_type": "stream",
     "text": [
      "1092 : ['What are the titles of The X-Files episodes?']\n"
     ]
    },
    {
     "name": "stdout",
     "output_type": "stream",
     "text": [
      "1093 : ['What is physiology comprised of?']\n",
      "1094 : ['How many people are head of the government for {German Democratic Republic} ?']\n",
      "1095 : ['Whos home town is New York City and made the musical score from The Rite of Spring?']\n",
      "1096 : ['When was William Golding awarded the Nobel Prize in Literature and how much did he get for it ?']\n"
     ]
    },
    {
     "name": "stdout",
     "output_type": "stream",
     "text": [
      "1097 : ['Is Estadio do Maracana a home venue?']\n",
      "1098 : ['What muncipality of Norway starts with the letter ø?']\n"
     ]
    },
    {
     "name": "stdout",
     "output_type": "stream",
     "text": [
      "1099 : ['Who is in the film Miami Vice that was born on December 15, 1949?']\n"
     ]
    },
    {
     "name": "stdout",
     "output_type": "stream",
     "text": [
      "1100 : ['What is the supplementary intercardinal direction with the highest angle opposite of east-northeast?']\n",
      "1101 : ['What region does Leo Visser compete in?']\n",
      "1102 : ['How many people have a facet of their Suriname?']\n"
     ]
    },
    {
     "name": "stdout",
     "output_type": "stream",
     "text": [
      "1103 : ['What are the Luther city which start with the letter w']\n",
      "1104 : ['What songs are on the tracklist of Led Zeppelin IV?']\n"
     ]
    },
    {
     "name": "stdout",
     "output_type": "stream",
     "text": [
      "1105 : ['Who got the noble title of monarch of Italy before and after Lothair I.']\n",
      "1106 : ['what position did colin renfrew hold in 2004-0-0?']\n"
     ]
    },
    {
     "name": "stdout",
     "output_type": "stream",
     "text": [
      "1107 : ['who is the head of government of Vancouver?']\n",
      "1108 : ['Does the elevation above sea level of the Beemster equal 4?']\n"
     ]
    },
    {
     "name": "stdout",
     "output_type": "stream",
     "text": [
      "1109 : ['Which is the union for administrative territorial entity?']\n",
      "1110 : ['Does Iowa have the nickname the Hawkeye State?']\n"
     ]
    },
    {
     "name": "stdout",
     "output_type": "stream",
     "text": [
      "1111 : ['When was BP the headquarters location of London?']\n",
      "1112 : ['Does the proton have a magnetic moment that is equal to 0.0015210322053?']\n",
      "1113 : ['Name a film shot in New York that starts with letter S']\n"
     ]
    },
    {
     "name": "stdout",
     "output_type": "stream",
     "text": [
      "1114 : ['Who is The X-Files creator and executive producer?']\n",
      "1115 : ['What is on the coast of Aleutian Islands, that has a tributary in Los Angeles River?']\n"
     ]
    },
    {
     "name": "stdout",
     "output_type": "stream",
     "text": [
      "1116 : ['What is the Sister City of the final resting place of Hafsa bint Umar?']\n",
      "1117 : ['WHO COMES BEFORE OR AFTER ESTONIAN SOVIET SOCIALIST REPBULIC?']\n",
      "1118 : ['Is the total expenditure of the Central Catholic High School 4169127.6?']\n",
      "1119 : ['What tributary of the Oka River can be found at the GPS location of 37.0012?']\n"
     ]
    },
    {
     "name": "stdout",
     "output_type": "stream",
     "text": [
      "1120 : ['What is the height record held by Renaud Lavillenie?']\n"
     ]
    },
    {
     "name": "stdout",
     "output_type": "stream",
     "text": [
      "1121 : ['Which is the fruit type of nut?']\n"
     ]
    },
    {
     "name": "stdout",
     "output_type": "stream",
     "text": [
      "1122 : ['What species was found to be the host of the hypothetical protein Mb0514?']\n"
     ]
    },
    {
     "name": "stdout",
     "output_type": "stream",
     "text": [
      "1123 : ['Mention the fictional human character murdered by Luke Skywalker']\n",
      "1124 : ['Foil is used in what type of sports competition?']\n",
      "1125 : ['who inhabitants} of state of mbuji-mayi ?']\n"
     ]
    },
    {
     "name": "stdout",
     "output_type": "stream",
     "text": [
      "1126 : ['What is the public company with the most debt subsidized by Carrefour Bio?']\n",
      "1127 : ['Who is the  {Turkish bath} for {named after} of {Suleiman the Magnificent}']\n",
      "1128 : ['Which is the listed ingredient for vitamin E?']\n"
     ]
    },
    {
     "name": "stdout",
     "output_type": "stream",
     "text": [
      "1129 : ['What was the {manner of death} and the {cause of death} of {Paul_Allen} ?']\n",
      "1130 : ['Which is {detail map} of {Europe} where {media legend} is {topography of Europe} ?']\n"
     ]
    },
    {
     "name": "stdout",
     "output_type": "stream",
     "text": [
      "1131 : ['Who is Nicole Richies mother?']\n",
      "1132 : ['Which religious text did Exodus follow?']\n"
     ]
    },
    {
     "name": "stdout",
     "output_type": "stream",
     "text": [
      "1133 : ['What is the personal name of David Eddings is it said to be different From Taavet?']\n",
      "1134 : ['Which port has the highest production rate?']\n",
      "1135 : ['Was the lowest atmospheric pressure recorded during the 1935 Labor Day Hurricane higher than 1070.4?']\n"
     ]
    },
    {
     "name": "stdout",
     "output_type": "stream",
     "text": [
      "1136 : ['What file format is used by the programming language SQL?']\n",
      "1137 : ['When did Ernest Renan become a member of the Hungarian Academy of Sciences?']\n"
     ]
    },
    {
     "name": "stdout",
     "output_type": "stream",
     "text": [
      "1138 : ['What relative or kinship is the first cousin once removed descending of Salvador Allende?']\n"
     ]
    },
    {
     "name": "stdout",
     "output_type": "stream",
     "text": [
      "1139 : ['Who gave the{takes places during} of {previous is} of {New Year} ?']\n",
      "1140 : ['Where does Gloria Estefan work and where did her formation occur?']\n",
      "1141 : ['How many things are founded by Oprah Winfrey?']\n"
     ]
    },
    {
     "name": "stdout",
     "output_type": "stream",
     "text": [
      "1142 : ['When was Bangalore part of the Mysore State?']\n"
     ]
    },
    {
     "name": "stdout",
     "output_type": "stream",
     "text": [
      "1143 : ['What is the type of procedure for the taxonomy of Durio']\n",
      "1144 : ['What type of spice is cuminum cyminum?']\n"
     ]
    },
    {
     "name": "stdout",
     "output_type": "stream",
     "text": [
      "1145 : ['What was the population of Burundi in 1992?']\n"
     ]
    },
    {
     "name": "stdout",
     "output_type": "stream",
     "text": [
      "1146 : ['Who is appointed by the United Nations Secretary-General?']\n",
      "1147 : ['Who is the player that participated in Barbora Spotakova?']\n",
      "1148 : ['What award did Hume Cronyn recieve in 1964?']\n"
     ]
    },
    {
     "name": "stdout",
     "output_type": "stream",
     "text": [
      "1149 : ['State the confederation of Jefferson Davis?']\n",
      "1150 : ['Name an online dictionary written by John Simpson that contains the word dictionnary in its name']\n"
     ]
    },
    {
     "name": "stdout",
     "output_type": "stream",
     "text": [
      "1151 : ['Which is {characters} of {software framework} {Civilization VI: Rise and Fall} ?']\n",
      "1152 : ['Tell me sport discipline whose name has the word  wheelchair in it.']\n",
      "1153 : ['What is capital of Ōtsu ?']\n"
     ]
    },
    {
     "name": "stdout",
     "output_type": "stream",
     "text": [
      "1154 : ['What are the analytic function which start with the letter function']\n",
      "1155 : ['What is the national necropolis in France with the highest quantity buried whose located in the administrative territorial entity is Souain-Perthes-lès-Hurlus?']\n"
     ]
    },
    {
     "name": "stdout",
     "output_type": "stream",
     "text": [
      "1156 : ['What is the JMA Seismic Intensity Database ID for the 2011 Tohoku Earthquake and tsunami?']\n",
      "1157 : ['What aspect of mysticism is distinguished from dharma?']\n"
     ]
    },
    {
     "name": "stdout",
     "output_type": "stream",
     "text": [
      "1158 : ['Which is measured by  quantity of erg ?']\n",
      "1159 : ['Is it true that the number of episodes of Mansfield Park is greater than 0.8?']\n"
     ]
    },
    {
     "name": "stdout",
     "output_type": "stream",
     "text": [
      "1160 : ['What fictional universe did Green Lantern take place in and who create Green Lantern?']\n"
     ]
    },
    {
     "name": "stdout",
     "output_type": "stream",
     "text": [
      "1161 : ['Who worked as the manager/director of École Normale Supérieure?']\n"
     ]
    },
    {
     "name": "stdout",
     "output_type": "stream",
     "text": [
      "1162 : ['When is {date of death} of {Luca Pacioli} whose {earliest date} is {1517-4-0} ?']\n"
     ]
    },
    {
     "name": "stdout",
     "output_type": "stream",
     "text": [
      "1163 : ['DOES THE NUMBER OF CYLINDERS OF THE KKSTB 197 EQUALS 2']\n"
     ]
    },
    {
     "name": "stdout",
     "output_type": "stream",
     "text": [
      "1164 : ['Where did Walter Scott die?']\n",
      "1165 : ['Was Aristotle a student of Heraclitus?']\n",
      "1166 : ['Which is the KOATUU identifier for Cherkasy Oblast?']\n",
      "1167 : ['What is the namesake of the Riemann zeta function, which has the Cauchy–Euler equation in its significant works?']\n"
     ]
    },
    {
     "name": "stdout",
     "output_type": "stream",
     "text": [
      "1168 : ['Which of Grace Kellys works had earned her a nomination for an Academy Award for the Best Actress?']\n",
      "1169 : ['Tell me the method for determining hypertension with a CACNB2 genetic association?']\n",
      "1170 : ['In what instances has Fernando Pessoa been compared to Jean Seul de Méluret?']\n"
     ]
    },
    {
     "name": "stdout",
     "output_type": "stream",
     "text": [
      "1171 : ['Who is the member of Canada that was elected on January 1st, 1966?']\n"
     ]
    },
    {
     "name": "stdout",
     "output_type": "stream",
     "text": [
      "1172 : ['Which is Agassiz checklist number for Danaus plexippus?']\n"
     ]
    },
    {
     "name": "stdout",
     "output_type": "stream",
     "text": [
      "1173 : ['Who did Diane von Furstenberg marry in 1969MacGraw']\n",
      "1174 : ['Who is the  {political party} for {member of political party} of {Fidel Castro}']\n"
     ]
    },
    {
     "name": "stdout",
     "output_type": "stream",
     "text": [
      "1175 : ['What is prescribed drug of academic field of oncology?']\n",
      "1176 : ['Who is related to Kate Spade?']\n",
      "1177 : ['Who is the brother or sister of George II of Great Britain?']\n"
     ]
    },
    {
     "name": "stdout",
     "output_type": "stream",
     "text": [
      "1178 : ['How many space missions did Yury Romanenko complete?']\n",
      "1179 : ['Waht actors are in Romance Revisited: The Songs of Jose Mari Chan?']\n"
     ]
    },
    {
     "name": "stdout",
     "output_type": "stream",
     "text": [
      "1180 : ['What is the monomer of polyvinyl chloride']\n"
     ]
    },
    {
     "name": "stdout",
     "output_type": "stream",
     "text": [
      "1181 : ['Tell me me a municipality whose name consist of the word barcelona and whose patron saint Virgin Mary']\n",
      "1182 : ['What Arctic oscillation blizzard had the lowest level of precipitation ?']\n"
     ]
    },
    {
     "name": "stdout",
     "output_type": "stream",
     "text": [
      "1183 : ['How many discoveries have been made concerning radial velocity?']\n",
      "1184 : ['What is the parent company of New York State University (that has co-ords of -33.1911)?']\n",
      "1185 : ['What was the maker of the art of sculpture a proponent of?']\n",
      "1186 : ['How many courts are there in the Supreme Court of Canada?']\n",
      "1187 : ['How many children are out of school at Wish You a Merry Christmas?']\n"
     ]
    },
    {
     "name": "stdout",
     "output_type": "stream",
     "text": [
      "1188 : ['Name the listed Salzburg town monuments containing the word Salzburg in their name.']\n",
      "1189 : ['Of what sports team is Kenny Dalglish a member and how many matches has he played?']\n"
     ]
    },
    {
     "name": "stdout",
     "output_type": "stream",
     "text": [
      "1190 : ['Is the global-warming potential of octafluorocyclobutane greater than 10440?']\n",
      "1191 : ['What is the political party that Hillary Clinton is a member of?']\n"
     ]
    },
    {
     "name": "stdout",
     "output_type": "stream",
     "text": [
      "1192 : ['Captain Gerry Brisson plays for what?']\n"
     ]
    },
    {
     "name": "stdout",
     "output_type": "stream",
     "text": [
      "1193 : ['Who is the parent company of the label of Carabao?']\n"
     ]
    },
    {
     "name": "stdout",
     "output_type": "stream",
     "text": [
      "1194 : ['chupenme la pija giles ndeahhre is written in what language?']\n",
      "1195 : ['Is the fee of Ueno Zoo equal to 300?']\n",
      "1196 : ['What is the quality of old age?']\n",
      "1197 : ['In what sport is Lin Dan ranked number one?']\n"
     ]
    },
    {
     "name": "stdout",
     "output_type": "stream",
     "text": [
      "1198 : ['Which is the enterprise that operates the American Broadcasting Company?']\n",
      "1199 : ['What is the kinship with the lowest family relationship degree whose series is Ahnentafel ?']\n",
      "1200 : ['Which is the constituency of the Rajya Sabha of the coextensive with Karnataka?']\n"
     ]
    },
    {
     "name": "stdout",
     "output_type": "stream",
     "text": [
      "1201 : ['What is the used language of Jack Nicklaus, that has AWLD statues and is 1 safe?']\n",
      "1202 : ['Tell me  the mantra that contains the word mantra in their name.']\n"
     ]
    },
    {
     "name": "stdout",
     "output_type": "stream",
     "text": [
      "1203 : ['What awarded Peter Sellers was nominated for at 37th Academy Awards?']\n"
     ]
    },
    {
     "name": "stdout",
     "output_type": "stream",
     "text": [
      "1204 : ['What is the railway gun with min muscle velocity whose country is France']\n",
      "1205 : ['How many payment types are now accepted for your money?']\n"
     ]
    },
    {
     "name": "stdout",
     "output_type": "stream",
     "text": [
      "1206 : ['What twinned administrative body of Queensland started on October 10th, 1984?']\n"
     ]
    },
    {
     "name": "stdout",
     "output_type": "stream",
     "text": [
      "1207 : ['Who replaced Thurgood Marshall as the Associate Justice of the Supreme Court of the US?']\n",
      "1208 : ['Is it true that the highest break of Jak Jones equals to 139?']\n",
      "1209 : ['Which is the group that caused the Congress of Vienna?']\n"
     ]
    },
    {
     "name": "stdout",
     "output_type": "stream",
     "text": [
      "1210 : ['What is the safety classification and labelling of carbon monoxide thats NFPA Instability is 0?']\n",
      "1211 : ['For what Walter Huston nominated for The Treasure of the Sierra Madre?']\n",
      "1212 : ['What award did Andre Gide win that had a prize of $146,115?']\n"
     ]
    },
    {
     "name": "stdout",
     "output_type": "stream",
     "text": [
      "1213 : ['Who is the sponsor of Henry Luce?']\n",
      "1214 : ['Who contributed to the published works of El Mundo?']\n"
     ]
    },
    {
     "name": "stdout",
     "output_type": "stream",
     "text": [
      "1215 : ['Who is the author of and who illustrated the cover of Treasure Island?']\n"
     ]
    },
    {
     "name": "stdout",
     "output_type": "stream",
     "text": [
      "1216 : ['Which is the statue for the foundational text of Soviet Union?']\n"
     ]
    },
    {
     "name": "stdout",
     "output_type": "stream",
     "text": [
      "1217 : ['What was the HH-60 Jayhawk developed from?']\n",
      "1218 : ['Which FPGA prototype open source hardware has the highest voltage?']\n",
      "1219 : ['What part of the Jubba River has a coordinate location of 4.1783333333333 by 42.08?']\n"
     ]
    },
    {
     "name": "stdout",
     "output_type": "stream",
     "text": [
      "1220 : ['What organization did Alexander Pushkin found?']\n"
     ]
    },
    {
     "name": "stdout",
     "output_type": "stream",
     "text": [
      "1221 : ['what is highly urbanized city language used by tagalog and also which starts with letter v']\n"
     ]
    },
    {
     "name": "stdout",
     "output_type": "stream",
     "text": [
      "1222 : ['What is the INEGI municipality ID of Tlalnepantla de Baz?']\n",
      "1223 : ['What are the business division and subsidiary of American Broadcasting Company?']\n",
      "1224 : ['In what theatrical field was Allen Ginsberg employed?']\n"
     ]
    },
    {
     "name": "stdout",
     "output_type": "stream",
     "text": [
      "1225 : ['What is tutor Andreas Vesalius career?']\n"
     ]
    },
    {
     "name": "stdout",
     "output_type": "stream",
     "text": [
      "1226 : ['WHICH IS THE ICE HOCKEY TOURNAMENT THAT CONTAINS THE WORD TROPHY IN THEIR NAME']\n",
      "1227 : ['What is located in the landscape of The Scream?']\n"
     ]
    },
    {
     "name": "stdout",
     "output_type": "stream",
     "text": [
      "1228 : ['Which musician is successor of Sleeping Beauty.']\n",
      "1229 : ['Tell me phantom island  whose name has the word tuanaki in it.']\n"
     ]
    },
    {
     "name": "stdout",
     "output_type": "stream",
     "text": [
      "1230 : ['When did Nicolás Maduro start as Secretary General of the Non-Aligned Movement?']\n"
     ]
    },
    {
     "name": "stdout",
     "output_type": "stream",
     "text": [
      "1231 : ['Which is the GS1 Manufacturer code for Google?']\n"
     ]
    },
    {
     "name": "stdout",
     "output_type": "stream",
     "text": [
      "1232 : ['Which role does Markwayne Mullin play in government?']\n",
      "1233 : ['Who publishes the book  Examining the race specific prevelance of hidradenitis suppurativa at a large academic center, results from a retrospective chart review?']\n"
     ]
    },
    {
     "name": "stdout",
     "output_type": "stream",
     "text": [
      "1234 : ['When and why was James Matheson elected as Member of the 15th Parliament of the United Kingdom?']\n",
      "1235 : ['Which is the LoC and MARC vocabularies ID of Albania?']\n"
     ]
    },
    {
     "name": "stdout",
     "output_type": "stream",
     "text": [
      "1236 : ['was the 2013 german federal election canadidacy age 21.6?']\n",
      "1237 : ['DOES THE EFFECTIVE FIRING RNGE OF THE 70 K EQUALS 13120']\n",
      "1238 : ['What is the sign for February in Catalan Sign Language?']\n",
      "1239 : ['What game platform of Pac-Man has the latest release version of 4.2.6?']\n"
     ]
    },
    {
     "name": "stdout",
     "output_type": "stream",
     "text": [
      "1240 : ['Did Mark David Chapman undergo detention at Attica Correctional Facility and Wende Correctional Facility ?']\n",
      "1241 : ['When did Wuppertal have a population of 345,425?']\n",
      "1242 : ['Which is the academic major and the academic degree of John Updike who was educated at the Harvard University?']\n",
      "1243 : ['What is  designer of ship armament  in2015 San Bernardino shooting ?']\n",
      "1244 : ['When did Yuri Koptev start as the manager and director of the Roscosmos State Corporation?']\n",
      "1245 : ['which series ordinal of osmium tetroxide has ionization energy of 12.6?']\n"
     ]
    },
    {
     "name": "stdout",
     "output_type": "stream",
     "text": [
      "1246 : ['Which is the Open Library ID for Albert Ellis?']\n",
      "1247 : ['Who is the airline alliance of Singapore Airlines?']\n",
      "1248 : ['What episode preceded Opies Newspapers?']\n"
     ]
    },
    {
     "name": "stdout",
     "output_type": "stream",
     "text": [
      "1249 : ['who brother of 1st place medalist of Screen actors guild life achievement award ?']\n",
      "1250 : ['Does IBM own Cognos and Mark sense?']\n"
     ]
    },
    {
     "name": "stdout",
     "output_type": "stream",
     "text": [
      "12511252 : ['Name a basilica of the Italian Gothic architecture style that starst with letter D']\n",
      " : ['What are the political system which start with the letter totalitarianism']\n",
      "1253 : ['Does cinnamon contain a natural product of taxon called Cinnamomum verum?']\n"
     ]
    },
    {
     "name": "stdout",
     "output_type": "stream",
     "text": [
      "1254 : ['How many input methods does Minecraft possess?']\n"
     ]
    },
    {
     "name": "stdout",
     "output_type": "stream",
     "text": [
      "1255 : ['Who is the sibling of Subutai?']\n",
      "1256 : ['Where there 3.2 perpetrators in the Enoch Brown school massacre?']\n",
      "1257 : ['Which award was Kiefer Sutherland nominated for in 2002?']\n"
     ]
    },
    {
     "name": "stdout",
     "output_type": "stream",
     "text": [
      "1258 : ['Who influenced Anna Akhmatova who was born on May 26th, 1799.']\n",
      "1259 : ['How many participants are playing with Steffi Graf?']\n",
      "1260 : ['Tell me town in Croatia whose name has the word šibenik in it.']\n"
     ]
    },
    {
     "name": "stdout",
     "output_type": "stream",
     "text": [
      "1261 : ['Tillandsia usneoides has a basionym of what?']\n",
      "1262 : ['Which is the social of intangible cultural heritage status of the inventory of the immaterial cultural patrimony of France that starts with the letter d?']\n"
     ]
    },
    {
     "name": "stdout",
     "output_type": "stream",
     "text": [
      "1263 : ['Which is the CPU of Pac-Man?']\n",
      "1264 : ['What career uses a fishing reel?']\n",
      "1265 : ['Does the 645 Agrippina have a longitude of ascending node equal to 0.16770508344013?']\n",
      "1266 : ['What are the distinguishing features of Carthage that have the feature of -814-0-0?']\n",
      "1267 : ['Who are Sandrart.net artwork ID of Laocoön and His Sons?']\n"
     ]
    },
    {
     "name": "stdout",
     "output_type": "stream",
     "text": [
      "1268 : ['What is birth name of Charles Simonyi ?']\n"
     ]
    },
    {
     "name": "stdout",
     "output_type": "stream",
     "text": [
      "1269 : ['Is it true that the memory capacity of the diskette equals to 1152?']\n",
      "1270 : ['Which is the product or the material produced of tomato juice?']\n"
     ]
    },
    {
     "name": "stdout",
     "output_type": "stream",
     "text": [
      "1271 : ['What date disbanded for label Calvin Harris ?']\n",
      "1272 : ['Who dubbed the series Pretty, Pretty Dresses?']\n",
      "1273 : ['What award did Brokeback Mountain receive in the 78th Academy Awards?']\n"
     ]
    },
    {
     "name": "stdout",
     "output_type": "stream",
     "text": [
      "1274 : ['What tree is in the Quebec provincial logo?']\n"
     ]
    },
    {
     "name": "stdout",
     "output_type": "stream",
     "text": [
      "1275 : ['What was Christian Lous Lange nominated for in 1919?']\n",
      "1276 : ['Which is the public company that has the material produced of Coca-Cola?']\n"
     ]
    },
    {
     "name": "stdout",
     "output_type": "stream",
     "text": [
      "1277 : ['Which is a by-product of offal?']\n"
     ]
    },
    {
     "name": "stdout",
     "output_type": "stream",
     "text": [
      "1278 : ['What is MobyGames group ID for The Sims ?']\n",
      "1279 : ['who enterprise for subsidiary of Sears?']\n",
      "1280 : ['Is the inflation rate of Japan equal to -0.6?']\n"
     ]
    },
    {
     "name": "stdout",
     "output_type": "stream",
     "text": [
      "1281 : ['Tell me about the life of Jesus Christ.']\n",
      "1282 : ['What countries participated in the Battle of France?']\n",
      "1283 : ['Which is FAO 2007 genetic resource ID for Hereford?']\n"
     ]
    },
    {
     "name": "stdout",
     "output_type": "stream",
     "text": [
      "1284 : ['Does Lauren Bacall belong to Arab and Ashkenzai Jews ethnical groups?']\n",
      "1285 : ['What is the human population of the originates of the Charolais cattle?']\n",
      "1286 : ['Which is DORIS ID for loggerhead sea turtle?']\n"
     ]
    },
    {
     "name": "stdout",
     "output_type": "stream",
     "text": [
      "1287 : ['What is killed by Harry Potter?']\n",
      "1288 : ['What is the CiNii ID for Belvedere?']\n"
     ]
    },
    {
     "name": "stdout",
     "output_type": "stream",
     "text": [
      "1289 : ['What are the contents of the puzzle?']\n",
      "1290 : ['What is the subdivided into  of the land of Dubrovka ?']\n"
     ]
    },
    {
     "name": "stdout",
     "output_type": "stream",
     "text": [
      "1291 : ['When did Alexander Graham Bell divorce from Mabel Gardiner Hubbard?']\n",
      "1292 : ['What is the official symbol of New Brunswick?']\n",
      "1293 : ['What member of the Ranjitsinhji sports team joined in 1893 ?']\n"
     ]
    },
    {
     "name": "stdout",
     "output_type": "stream",
     "text": [
      "1294 : ['What is in the  airline hub of Qantas ?']\n"
     ]
    },
    {
     "name": "stdout",
     "output_type": "stream",
     "text": [
      "1295 : ['What is the official name for Taos Pueblo which is designated as a World Heritage Site?']\n",
      "1296 : ['Where is the death place of Gerrit Rietveld located in the district of Themaat?']\n",
      "1297 : ['How much acreage is the death place of Saul Bass?']\n"
     ]
    },
    {
     "name": "stdout",
     "output_type": "stream",
     "text": [
      "1298 : ['Is the event distance of the diaulos equal to 0.8?']\n"
     ]
    },
    {
     "name": "stdout",
     "output_type": "stream",
     "text": [
      "1299 : ['What is Mikhail Botvinniks Israel Chess Federation player ID?']\n",
      "1300 : ['What is TORA ID for Uppsala ?']\n",
      "1301 : ['Who located the administrative territorial entity resting place of Harald III of Norway?']\n"
     ]
    },
    {
     "name": "stdout",
     "output_type": "stream",
     "text": [
      "1302 : ['Is here a polar solute in the water?']\n"
     ]
    },
    {
     "name": "stdout",
     "output_type": "stream",
     "text": [
      "1303 : ['What capital of the Tran dynasty has a position of 105.841?']\n",
      "1304 : ['Which is the AlloCiné person ID for Leslie Howard?']\n",
      "1305 : ['Who is the cast member for the role of Bunny Lebowski in the Big Lebowski?']\n",
      "1306 : ['Which is the RKDartists ID of Donatello?']\n",
      "1307 : ['Which is the membership as a member party of Denis Sassou Nguesso?']\n"
     ]
    },
    {
     "name": "stdout",
     "output_type": "stream",
     "text": [
      "1308 : ['Is the electronegativity of the selenium equal to 2.55?']\n"
     ]
    },
    {
     "name": "stdout",
     "output_type": "stream",
     "text": [
      "1309 : ['What award did Subrahmanyan Chandrasekhar receive in 1974?']\n",
      "1310 : ['Tell me the scientific model that starts with the letter w']\n",
      "1311 : ['What what is animated film  city of the United States chicago']\n",
      "1312 : ['Which is the update method for iTunes?']\n"
     ]
    },
    {
     "name": "stdout",
     "output_type": "stream",
     "text": [
      "1313 : ['What team position did Carlos Alberto Torres play as when he scored 4 goals?']\n"
     ]
    },
    {
     "name": "stdout",
     "output_type": "stream",
     "text": [
      "1314 : ['How many basic forms of government are there in Syria?']\n",
      "1315 : ['What Chinese dynasty followed the Yuan dynasty?']\n",
      "1316 : ['Is Dublin located next to the Liffey and the Royal Canal?']\n"
     ]
    },
    {
     "name": "stdout",
     "output_type": "stream",
     "text": [
      "1317 : ['When was the death date of Akiva Ben Joseph according to the Pre-1584 Gregorian Calendar?']\n",
      "1318 : ['What is  the Flora of North America taxon ID for Amaranthus?']\n",
      "1319 : ['Who is the operator and builder of the Bombardier Dash 8?']\n"
     ]
    },
    {
     "name": "stdout",
     "output_type": "stream",
     "text": [
      "1320 : ['Is the horizontal depth of the DP 0193 Egg-shaped vase with small mouth greater than 36.0?']\n"
     ]
    },
    {
     "name": "stdout",
     "output_type": "stream",
     "text": [
      "1321 : ['What sports team did Abedi Pele belong to and how many matches did they play?']\n"
     ]
    },
    {
     "name": "stdout",
     "output_type": "stream",
     "text": [
      "1322 : ['Which is the CERO rating for The Legend of Zelda?']\n",
      "1323 : ['For what team did Tom Finney play 433 matches for?']\n",
      "1324 : ['What film production company was founded by Oprah Winfrey?']\n",
      "1325 : ['Was Website software engine Microsoft?']\n",
      "1326 : ['Who is the composer of All We Know?']\n",
      "1327 : ['When did the Indiana Film Journalists Association give George Cloooney the award for Best Actor?']\n"
     ]
    },
    {
     "name": "stdout",
     "output_type": "stream",
     "text": [
      "1328 : ['Where is the anatomical location of the cerebellum?']\n"
     ]
    },
    {
     "name": "stdout",
     "output_type": "stream",
     "text": [
      "1329 : ['What is the medium mountain stage with the lowest event distance whose general classification of race participants is Nairo Quintana ?']\n"
     ]
    },
    {
     "name": "stdout",
     "output_type": "stream",
     "text": [
      "1330 : ['What is next to Confederate States of America having diplomatic relation of Ecuador?']\n",
      "1331 : ['What part of the Jordan River has the coordinates 35.5583?']\n"
     ]
    },
    {
     "name": "stdout",
     "output_type": "stream",
     "text": [
      "1332 : ['What is Project Gutenberg ID for Oliver Twist ?']\n",
      "1333 : ['Which is the International Paralympic Committee athlete ID for Oscar Pistorius?']\n"
     ]
    },
    {
     "name": "stdout",
     "output_type": "stream",
     "text": [
      "1334 : ['What is KINENOTE person ID for Jean-Paul Belmondo ?']\n",
      "1335 : ['Which is the domain of subset?']\n",
      "1336 : ['What is the union for Airbus A320s?']\n"
     ]
    },
    {
     "name": "stdout",
     "output_type": "stream",
     "text": [
      "13371338 : ['What academic degree did Venus Williams get from studying at The Art Institute of Fort Lauderdale and when did he finish schooling?']\n",
      " : ['How many employers are there for Edward Snowden?']\n",
      "1339 : ['What award Angela Lansbury has received at Tony Award for Best Actress in a Musical ?']\n"
     ]
    },
    {
     "name": "stdout",
     "output_type": "stream",
     "text": [
      "1340 : ['which music of gayane,was released on 1903-6-6?']\n",
      "1341 : ['What are the integer which start with the letter i']\n",
      "1342 : ['Name the record label behind the surge of Suge Knight']\n"
     ]
    },
    {
     "name": "stdout",
     "output_type": "stream",
     "text": [
      "1343 : ['Who won the Battle of Austerlitz?']\n"
     ]
    },
    {
     "name": "stdout",
     "output_type": "stream",
     "text": [
      "1344 : ['Tell me public company whose name has the word yandex in it.']\n",
      "1345 : ['How many position held are by the lieutenant general?']\n"
     ]
    },
    {
     "name": "stdout",
     "output_type": "stream",
     "text": [
      "1346 : ['What is e-mail of Ilona Staller ?']\n",
      "1347 : ['Which is the written work for the first translated edition?']\n"
     ]
    },
    {
     "name": "stdout",
     "output_type": "stream",
     "text": [
      "1348 : ['Who gave the{typology} of {language native} of {Uyghur people} ?']\n",
      "1349 : ['When was Andhra Pradesh in Hyderabad?']\n"
     ]
    },
    {
     "name": "stdout",
     "output_type": "stream",
     "text": [
      "1350 : ['Which sovereign state participated in the North African Campaign?']\n",
      "1351 : ['For what song did Kid Cudi receive the Grammy Award for Best Rap/Sung Performance?']\n"
     ]
    },
    {
     "name": "stdout",
     "output_type": "stream",
     "text": [
      "1352 : ['Tell me the United States federal executive department that contains the word department in their name']\n",
      "1353 : ['What writing system does Arabic use?']\n",
      "1354 : ['Tell me the name of the parabolic differential equation which starts with the letter e.']\n"
     ]
    },
    {
     "name": "stdout",
     "output_type": "stream",
     "text": [
      "1355 : ['Who is the party chief representing Shaanxi?']\n",
      "1356 : ['Is the time index of the Thout more than 0.8?']\n"
     ]
    },
    {
     "name": "stdout",
     "output_type": "stream",
     "text": [
      "1357 : ['In which conflict was Vasily Blyukher involved ?']\n"
     ]
    },
    {
     "name": "stdout",
     "output_type": "stream",
     "text": [
      "1358 : ['Which is the Daum Encyclopedia ID for Brexit?']\n",
      "1359 : ['What award did Alvaro Siza Vieira receive in 1988?']\n"
     ]
    },
    {
     "name": "stdout",
     "output_type": "stream",
     "text": [
      "1360 : ['What is the difference of a tie that has the distance of 607.0?']\n",
      "1361 : ['Of the 2015 Baga massacre, does the number of those missing equal 2000?']\n",
      "1362 : ['How many participants are there in the Kingdom of Castile?']\n",
      "1363 : ['Which business division does The Walt Disney Company belong to?']\n"
     ]
    },
    {
     "name": "stdout",
     "output_type": "stream",
     "text": [
      "1364 : ['Why did Jeremy Corbyn end his position as Member of the 56th Parliament of the United Kingdom and when was he elected in?']\n",
      "1365 : ['What is designed and influenced by JavaScript?']\n"
     ]
    },
    {
     "name": "stdout",
     "output_type": "stream",
     "text": [
      "1366 : ['What is the opposite of a superhero']\n",
      "1367 : ['What sister of Jean Shrimpton has brown eyes?']\n",
      "1368 : ['Is the nominal GDP per capita of Poland less than 15065.46?']\n"
     ]
    },
    {
     "name": "stdout",
     "output_type": "stream",
     "text": [
      "1369 : ['The country of Catania has which cities?']\n"
     ]
    },
    {
     "name": "stdout",
     "output_type": "stream",
     "text": [
      "1370 : ['Who is the member of Münster since 1993-0-0?']\n",
      "1371 : ['Is it true that the publication interval of the Cuore is less than 1.2?']\n"
     ]
    },
    {
     "name": "stdout",
     "output_type": "stream",
     "text": [
      "1372 : ['Who composed The Carnival of the Animals?']\n",
      "1373 : ['What is the Revised Hepburn romanization for Morning Musume with its name in kana モーニングむすめ?']\n"
     ]
    },
    {
     "name": "stdout",
     "output_type": "stream",
     "text": [
      "1374 : ['Give the name of the gram-negative strain that has the highest maximum viable temperature.']\n",
      "1375 : ['What is the icebreaker for the US National Archives Identifier?']\n",
      "1376 : ['Tell me numeric writing system whose name has the word numerals in their name']\n"
     ]
    },
    {
     "name": "stdout",
     "output_type": "stream",
     "text": [
      "1377 : ['Was Tonya Harding a professional pair ice skater?']\n",
      "1378 : ['when did Stuart Broad end his contract as a player with Liecestershire County Cricket Club?']\n"
     ]
    },
    {
     "name": "stdout",
     "output_type": "stream",
     "text": [
      "1379 : ['Which in the Administrative unit of Nonthaburi, has the inhabitants amount of 332388.0?']\n",
      "1380 : ['Who created Esperanto?']\n",
      "1381 : ['What is the genetic association that regulates the molecular biology of hsa-miR-4323?']\n"
     ]
    },
    {
     "name": "stdout",
     "output_type": "stream",
     "text": [
      "1382 : ['Name the carbon-containing flammable gas with the lowest standard enthalpy of formation ?']\n"
     ]
    },
    {
     "name": "stdout",
     "output_type": "stream",
     "text": [
      "1383 : ['Where was Narendra Modi educated and what academic degree was earned?']\n"
     ]
    },
    {
     "name": "stdout",
     "output_type": "stream",
     "text": [
      "1384 : ['how many honors does dame have?']\n",
      "1385 : ['When did Oliver Sacks move to New York City?']\n"
     ]
    },
    {
     "name": "stdout",
     "output_type": "stream",
     "text": [
      "1386 : ['Tell me circumstellar disk whose name has the word belt in it.']\n",
      "1387 : ['What series is World of Warcraft followed by?']\n",
      "1388 : ['Which is the two-part episode for the series The X-Files?']\n"
     ]
    },
    {
     "name": "stdout",
     "output_type": "stream",
     "text": [
      "1389 : ['Name the church monument where Paul was the patron saint']\n",
      "1390 : ['What is the higher taxon of Mammut, whose vernacular name is Mastodonty?']\n",
      "1391 : ['How many people are in the Labour Party?']\n"
     ]
    },
    {
     "name": "stdout",
     "output_type": "stream",
     "text": [
      "1392 : ['What is the female population of Karlovy Vary Region which has a total population of 150262.0?']\n",
      "1393 : ['What is ISzDb company ID of The Walt Disney Company?']\n",
      "1394 : ['Which is the Behind The Voice Actors person ID for Julia Roberts?']\n"
     ]
    },
    {
     "name": "stdout",
     "output_type": "stream",
     "text": [
      "1395 : ['For what work was Russel Crowe nominated for the Academy Award for Best Actor?']\n",
      "1396 : ['Where is the location born of Mischa Maisky, which is adjacent to the Mārupe Municipality?']\n"
     ]
    },
    {
     "name": "stdout",
     "output_type": "stream",
     "text": [
      "1397 : ['Which color appears in Rocketeer?']\n",
      "1398 : ['Who are the relatives of Heinrich Himmler?']\n",
      "1399 : ['Is the quantity of Sandbox on December 12th less than 9.6?']\n"
     ]
    },
    {
     "name": "stdout",
     "output_type": "stream",
     "text": [
      "1400 : ['What is American Airlines airline hub for the international airport']\n"
     ]
    },
    {
     "name": "stdout",
     "output_type": "stream",
     "text": [
      "1401 : ['which of the villages has endemism of leafy seadragon?']\n",
      "1402 : ['Where is the co-founder of The Evening of Ashura from?']\n"
     ]
    },
    {
     "name": "stdout",
     "output_type": "stream",
     "text": [
      "1403 : ['Is there a Thanksgiving in Panama?']\n",
      "1404 : ['What is the human for Adelaides design?']\n"
     ]
    },
    {
     "name": "stdout",
     "output_type": "stream",
     "text": [
      "1405 : ['What college libraries are at Yale University?']\n",
      "1406 : ['Where was David Icke born and what position does he play?']\n"
     ]
    },
    {
     "name": "stdout",
     "output_type": "stream",
     "text": [
      "1407 : ['Name the musical instrument used in song Face to the Sky song']\n",
      "1408 : ['What is the custodian of the connected  with Roadside station Echizen ?']\n",
      "1409 : ['Did Nina Simone record at Bethlehem Records and Collectables Records']\n"
     ]
    },
    {
     "name": "stdout",
     "output_type": "stream",
     "text": [
      "1410 : ['Who is the discoverer of runes that has a girlfriend in Gunnloo?']\n"
     ]
    },
    {
     "name": "stdout",
     "output_type": "stream",
     "text": [
      "1411 : ['What academic subject is Eulers identity the discoverer of?']\n",
      "1412 : ['What is Legacies of British Slave-ownership person ID for William Ewart Gladstone?']\n"
     ]
    },
    {
     "name": "stdout",
     "output_type": "stream",
     "text": [
      "1413 : ['What what is animated nonprofit organization distributed by MGM and English']\n",
      "1414 : ['Which is the Australian Parliament ID for Kurt Waldheim?']\n"
     ]
    },
    {
     "name": "stdout",
     "output_type": "stream",
     "text": [
      "1415 : ['At what point in time, and in which league did Mike Trout receive his award as MVP?']\n",
      "1416 : ['Who developed the continent of the Amundsen Sea?']\n",
      "1417 : ['What is the posthumous name of Emperor Taizong of Tang in the writing system of traditional Chinese characters?']\n"
     ]
    },
    {
     "name": "stdout",
     "output_type": "stream",
     "text": [
      "1418 : ['What are the municipality of Spain that contains the word zumaia in their name']\n",
      "1419 : ['What is the the track list of The Beatles that has the date of release of 1968-11-0?']\n"
     ]
    },
    {
     "name": "stdout",
     "output_type": "stream",
     "text": [
      "1420 : ['Tell me the name of a religious denomination which starts with the letter u.']\n",
      "1421 : ['When Rowan Atkinson attended Queens College, what was his academic major and degree?']\n"
     ]
    },
    {
     "name": "stdout",
     "output_type": "stream",
     "text": [
      "1422 : ['Is it true that the distance from Earth of the Polaris is 518.4?']\n",
      "1423 : ['What was Robert Donat nominated for in Goodbye, Mr. Chips?']\n",
      "1424 : ['What nationality is Jerry Lucas?']\n"
     ]
    },
    {
     "name": "stdout",
     "output_type": "stream",
     "text": [
      "1425 : ['Are Calophyllum inophyllum and Jasminum official symbols of Andhra Pradesh?']\n",
      "1426 : ['Who created Memoires dOutre-Tombe?']\n",
      "1427 : ['Name a country related to Israel that starts with letter H']\n",
      "1428 : ['What is the capital of Chicago']\n"
     ]
    },
    {
     "name": "stdout",
     "output_type": "stream",
     "text": [
      "1429 : ['Is the rural population of North Sikkim district 31252?']\n",
      "1430 : ['Who was the significant person during the trial Brown v. Board of Education?']\n"
     ]
    },
    {
     "name": "stdout",
     "output_type": "stream",
     "text": [
      "1431 : ['What are the giants for Heracles  murder?']\n",
      "1432 : ['Name a vegetation zone in Europe that starts with letter T']\n"
     ]
    },
    {
     "name": "stdout",
     "output_type": "stream",
     "text": [
      "1433 : ['When is the British museum open?']\n",
      "1434 : ['What is Sächsische Biografie of Lucas Cranach the Elder ?']\n"
     ]
    },
    {
     "name": "stdout",
     "output_type": "stream",
     "text": [
      "1435 : ['What is the alma mater of Elgin Baylor whose position is -122.319?']\n",
      "1436 : ['When did Ireland have a population of 2.85265e+06?']\n",
      "1437 : ['Which is the category for films shot at the location of A Coruña?']\n"
     ]
    },
    {
     "name": "stdout",
     "output_type": "stream",
     "text": [
      "1438 : ['What was the significant event that happened to Jean Gabin in 1976?']\n"
     ]
    },
    {
     "name": "stdout",
     "output_type": "stream",
     "text": [
      "1439 : ['who opposite of manifestation  of figure of the earth ?']\n",
      "1440 : ['How many leagues are in the National Hockey League?']\n",
      "1441 : ['What award did Dirk Nowitzki receive in 2011?']\n",
      "1442 : ['What is the subsidiary of which is owned by of Laserdisc ?']\n",
      "1443 : ['What takes place on Rosh Hashanah in the month of Tishrei?']\n"
     ]
    },
    {
     "name": "stdout",
     "output_type": "stream",
     "text": [
      "1444 : ['Theo van Doesburg is the Prime Minister of what place?']\n",
      "1445 : ['How many constellations are by Scorpius?']\n"
     ]
    },
    {
     "name": "stdout",
     "output_type": "stream",
     "text": [
      "1446 : ['What award did Gwendoly Brooks receive in 1994?']\n",
      "1447 : ['When did Anne Hathaway begin attending New York University and when did she graduate?']\n"
     ]
    },
    {
     "name": "stdout",
     "output_type": "stream",
     "text": [
      "1448 : ['What is bordered by Netherlands Antilles and is located in the administrative unit of Amiens?']\n"
     ]
    },
    {
     "name": "stdout",
     "output_type": "stream",
     "text": [
      "1449 : ['What is the edition of the game platform of Star Trek Online?']\n"
     ]
    },
    {
     "name": "stdout",
     "output_type": "stream",
     "text": [
      "1450 : ['What is venous drainage for hand ?']\n"
     ]
    },
    {
     "name": "stdout",
     "output_type": "stream",
     "text": [
      "1451 : ['Does the boiling point of the hexadecane equals 286.79?']\n"
     ]
    },
    {
     "name": "stdout",
     "output_type": "stream",
     "text": [
      "1452 : ['What country uses the sterling pound as its currency?']\n",
      "1453 : ['What is the history of oppression?']\n",
      "1454 : ['What event in the 1951 24 Hours of Le Mans did A.J. Foyt take part in?']\n"
     ]
    },
    {
     "name": "stdout",
     "output_type": "stream",
     "text": [
      "1455 : ['What hockey team in the NHL contains Ottawa in their name?']\n",
      "1456 : ['who Wikimedia category for category for employees of the organization of Columbia University?']\n"
     ]
    },
    {
     "name": "stdout",
     "output_type": "stream",
     "text": [
      "1457 : ['What city is the capital of Lagdo?']\n",
      "1458 : ['How many medical examinations are required for medical ultrasonography} ?']\n",
      "1459 : ['Michael Dell is CEO of what privately held company?']\n"
     ]
    },
    {
     "name": "stdout",
     "output_type": "stream",
     "text": [
      "1460 : ['Name a {subsidiary company} that {manager/director} {Daniel Schwartz} that starts with the letter {b}']\n",
      "1461 : ['On what day were the children of Teodoro Obiang Nguema Mbasogo born?']\n"
     ]
    },
    {
     "name": "stdout",
     "output_type": "stream",
     "text": [
      "1462 : ['Tell me me a allotrope of carbon whose name consist of the word carbon and whose shape crystal structure']\n",
      "1463 : ['Name an ancient monument that starts with letter G']\n",
      "1464 : ['In which year Clive Palmer joined as a member of political party in Liberal National Party of Queensland?']\n",
      "1465 : ['The conjugate acid of water has a monoanion of?']\n"
     ]
    },
    {
     "name": "stdout",
     "output_type": "stream",
     "text": [
      "1466 : ['Which is the Encyclopaedia Metallum artist ID for Dave Grohl?']\n",
      "1467 : ['Which is the Academia.edu institutional ID for University of Naples Federico II?']\n",
      "1468 : ['How many people own a Nissan?']\n",
      "1469 : ['At which university does Linus Pauling work?']\n"
     ]
    },
    {
     "name": "stdout",
     "output_type": "stream",
     "text": [
      "1470 : ['Where will be Namada after she leaves river source?']\n",
      "1471 : ['What was the inflation rate of Portugal during 1993-1-1?']\n"
     ]
    },
    {
     "name": "stdout",
     "output_type": "stream",
     "text": [
      "1472 : ['In what language is soup pronounced as Ru-cyn.ogg?']\n",
      "1473 : ['What is warning of Shahada, that has Women in Red banner is Arabic WV banner.jpg?']\n"
     ]
    },
    {
     "name": "stdout",
     "output_type": "stream",
     "text": [
      "1474 : ['What are the mythological serpent which start with the letter z']\n",
      "1475 : ['Tell me which programming language implementation starts with the letter y?']\n"
     ]
    },
    {
     "name": "stdout",
     "output_type": "stream",
     "text": [
      "1476 : ['What major event happened to Alfred Doblin and were did it happen?']\n",
      "1477 : ['What is PACE member ID for James Callaghan ?']\n"
     ]
    },
    {
     "name": "stdout",
     "output_type": "stream",
     "text": [
      "1478 : ['Emmanuel Macron is the head of which sovereign state?']\n",
      "1479 : ['What Philippine city with the largest electorate is in Bohol?']\n"
     ]
    },
    {
     "name": "stdout",
     "output_type": "stream",
     "text": [
      "1480 : ['What isEncyclopædia Britannica Online ID for ton ?']\n"
     ]
    },
    {
     "name": "stdout",
     "output_type": "stream",
     "text": [
      "1481 : ['When did Reinhard Heydrich stop being the President of Interpol?']\n",
      "1482 : ['What type of relationship did the siblings Carl Philipp Emanuel Bach and Wilhelm Friedemann Bach have?']\n",
      "1483 : ['What {county seat in}{Hamilton} has a {population} of {51,000.0}?']\n"
     ]
    },
    {
     "name": "stdout",
     "output_type": "stream",
     "text": [
      "1484 : ['Who is the maker of the board game Score?']\n",
      "1485 : ['Which is the INEGI locality ID for Torreón?']\n"
     ]
    },
    {
     "name": "stdout",
     "output_type": "stream",
     "text": [
      "1486 : ['Florentino Perez is a member of what political party whose start time was 1982-0-0']\n",
      "1487 : ['Is the position angle of the southwest by west equal 236.25?']\n",
      "1488 : ['Which means {World Golf Hall of Fame player ID} for{Tom Watson} ?']\n"
     ]
    },
    {
     "name": "stdout",
     "output_type": "stream",
     "text": [
      "1489 : ['which public educational institution of the United States starts with letter u']\n"
     ]
    },
    {
     "name": "stdout",
     "output_type": "stream",
     "text": [
      "1490 : ['Which is the Hederich encyclopedia article ID of Hades?']\n",
      "1491 : ['Which is part of the ecology?']\n"
     ]
    },
    {
     "name": "stdout",
     "output_type": "stream",
     "text": [
      "1492 : ['What is the twinned administrative body of Strasbourg, which started in 1 Jan 1962?']\n",
      "1493 : ['Tell me national cuisine whose name has the word mex in it.']\n"
     ]
    },
    {
     "name": "stdout",
     "output_type": "stream",
     "text": [
      "1494 : ['Which political ideology is Leon Trotsky associated with?']\n",
      "1495 : ['Who is Calvinism named for?']\n"
     ]
    },
    {
     "name": "stdout",
     "output_type": "stream",
     "text": [
      "1496 : ['In what country was Adelaide founded on 12-28-1836?']\n",
      "1497 : ['What magnets does the Large Hadron Collider use?']\n",
      "1498 : ['Who is this cast member from the show Game of Thrones?']\n"
     ]
    },
    {
     "name": "stdout",
     "output_type": "stream",
     "text": [
      "1499 : ['What is Metroid Primes GameRankings game ID?']\n",
      "1500 : ['What is the biomedical measurement for the medical condition treated by phenol?']\n"
     ]
    },
    {
     "name": "stdout",
     "output_type": "stream",
     "text": [
      "1501 : ['What is the dynasty of Meiji whose co-founder is Jimmu?']\n",
      "1502 : ['What is governed by the Warsaw Pact effective from 12th March 1967?']\n"
     ]
    },
    {
     "name": "stdout",
     "output_type": "stream",
     "text": [
      "1503 : ['What honors have coined the compact disc?']\n",
      "1504 : ['Did Sarah Silverman play the guitar?']\n",
      "1505 : ['Which is the essential medicine in the drug used for treatment of skin cancer?']\n"
     ]
    },
    {
     "name": "stdout",
     "output_type": "stream",
     "text": [
      "1506 : ['For what show was Zooey Deschanel nominated for a Primetime Emmy Award for Outstanding Lead Actress in a Comedy Series?']\n",
      "1507 : ['tell me aspect of history name has the word propaganda it it']\n"
     ]
    },
    {
     "name": "stdout",
     "output_type": "stream",
     "text": [
      "1508 : ['DOES THE MAXIMUM THRUST OF THE CONCORDE EQUALS 676800']\n",
      "1509 : ['what is the {represents} for {North Atlantic Treaty} that has {signatory} as {Dean Acheson} ?']\n"
     ]
    },
    {
     "name": "stdout",
     "output_type": "stream",
     "text": [
      "1510 : ['Is the periapsis 15817 Lucianotesi less than 1.40172756?']\n",
      "1511 : ['What is the Africultures person ID for Ryszard Kapuscinski?']\n"
     ]
    },
    {
     "name": "stdout",
     "output_type": "stream",
     "text": [
      "1512 : ['what is the human population from the originates of Mind?']\n"
     ]
    },
    {
     "name": "stdout",
     "output_type": "stream",
     "text": [
      "1513 : ['Is it true that the magnetic moment of the helion is -0.000000000000000000000000010746174?']\n",
      "1514 : ['How many academic major subjects required for {jurisprudence} ?']\n",
      "1515 : ['tell me the agriculture revolution that contains the word revolution in their own name.']\n"
     ]
    },
    {
     "name": "stdout",
     "output_type": "stream",
     "text": [
      "1516 : ['What part of North Dakota is located in the Mountain Time Zone?']\n",
      "1517 : ['Who developed the Hughes H-4 Hercules?']\n"
     ]
    },
    {
     "name": "stdout",
     "output_type": "stream",
     "text": [
      "1518 : ['Who plays the sister in Red Line?']\n",
      "1519 : ['How many health specialties are there for the deficit hyperactivity disorder} ?']\n",
      "1520 : ['Who held the position of chairperson for the Communist Party of China before and after Zhao Ziyang?']\n"
     ]
    },
    {
     "name": "stdout",
     "output_type": "stream",
     "text": [
      "1521 : ['Mention the symptoms and the signs resulting from the tantalum']\n",
      "1522 : ['Tell me about historical country for headquarters location of Nazi Germany?']\n",
      "1523 : ['Name the person who was married to Enki, who had a legislative period in the Ancient Near East?']\n"
     ]
    },
    {
     "name": "stdout",
     "output_type": "stream",
     "text": [
      "1524 : ['What is orbited by of star of Messier 4 ?']\n",
      "1525 : ['What are the inhabitants of the location where Alexander Fleming died?']\n",
      "1526 : ['Which is the Florentine musea catalogue ID for Primavera?']\n",
      "1527 : ['How many siblings does Fú Jiān have?']\n"
     ]
    },
    {
     "name": "stdout",
     "output_type": "stream",
     "text": [
      "1528 : ['When is Naruto Uzumakis birthday?']\n",
      "1529 : ['Are the number of records of the Ontario public library ID more than 454.8?']\n",
      "1530 : ['Which is the language of work or name of Appetite for Destruction?']\n",
      "1531 : ['Which referendum in Ireland, following the Eighth Amendment of the Constitution of Ireland, has the least amount of spoiled votes?']\n"
     ]
    },
    {
     "name": "stdout",
     "output_type": "stream",
     "text": [
      "1532 : ['Tell me the studio album of the tracklist of Rock and Roll that starts with the letter i?']\n"
     ]
    },
    {
     "name": "stdout",
     "output_type": "stream",
     "text": [
      "1533 : ['Mention the horse used by Robert E. Lee during mounting.']\n",
      "1534 : ['In what country is Mikhail Fridman a citizen?']\n"
     ]
    },
    {
     "name": "stdout",
     "output_type": "stream",
     "text": [
      "1535 : ['When did Wes Craven divorce Bonnie Broecker?']\n",
      "1536 : ['Which is {portrait of} of {A Sunday Afternoon on the Island of La Grande Jatte}, which has {sound emitted} is {female voice} ?']\n"
     ]
    },
    {
     "name": "stdout",
     "output_type": "stream",
     "text": [
      "1537 : ['Who is the fallen angel that is worshiped by Christianity?']\n",
      "1538 : ['What is the holds position of the government headed by Frankfurt?']\n"
     ]
    },
    {
     "name": "stdout",
     "output_type": "stream",
     "text": [
      "1539 : ['What is {name after} of {Carnot heat engine}, which has {Christian name} is {Nicolas} ?']\n",
      "1540 : ['What position did Raymond Poincare hold and is now being replaced by Jacques Bainville?']\n"
     ]
    },
    {
     "name": "stdout",
     "output_type": "stream",
     "text": [
      "1541 : ['What happened in New Zealand on 11/25/1947?']\n",
      "1542 : ['What is the composed by of the described by work of Lizard ?']\n",
      "1543 : ['Where did Johann Jakob Heckel die?']\n"
     ]
    },
    {
     "name": "stdout",
     "output_type": "stream",
     "text": [
      "1544 : ['How many people self-identify as Democrats?']\n",
      "1545 : ['When Lily Tomlin, the spouse of Jane Wagner, was born?']\n",
      "1546 : ['Is the earthquake magnitude on the Richter magnitude scale of the 2000 Yunnan earthquake more than 7.08?']\n"
     ]
    },
    {
     "name": "stdout",
     "output_type": "stream",
     "text": [
      "1547 : ['When was Niels Bohr nominated for a Nobel Prize in Physics?']\n",
      "1548 : ['What is the series ordinal for chairperson Kaoru Kamata at Waseda University?']\n"
     ]
    },
    {
     "name": "stdout",
     "output_type": "stream",
     "text": [
      "1549 : ['What is award received of Harlan Ellison that is  work is \\\\Repent, Harlequin!\\\\ Said the Ticktockman ?']\n",
      "1550 : ['Which is the fictional organization that is present in the work of Nineteen Eighty-Four?']\n"
     ]
    },
    {
     "name": "stdout",
     "output_type": "stream",
     "text": [
      "1551 : ['What award did Claude Brasseur receive in 1977-0-0?']\n",
      "1552 : ['What is the name of a tournament that starts with the letter w.']\n",
      "1553 : ['How many share borders are with the {Wiesbaden} ?']\n"
     ]
    },
    {
     "name": "stdout",
     "output_type": "stream",
     "text": [
      "1554 : ['What is is the name of the anatomical artery branch of the large intestine?']\n"
     ]
    },
    {
     "name": "stdout",
     "output_type": "stream",
     "text": [
      "1555 : ['Is the horizontal depth of the High-necked spheroid vase (DP 0212 equal to 28.8?']\n",
      "1556 : ['Which is the UNESCO Atlas of the Worlds Languages in Danger ID of Coptic?']\n",
      "1557 : ['What is inflation rate of consumer price index aspect  of History of Trinidad and Tobago ?']\n",
      "1558 : ['Was Benedict Arnold from the military branch of the Royal Navy and Continental Army?']\n"
     ]
    },
    {
     "name": "stdout",
     "output_type": "stream",
     "text": [
      "1559 : ['What is the composition of a drink, that has mixed in is floral matter?']\n",
      "1560 : ['which laws applied for potassium hydroxide ?']\n",
      "1561 : ['Who gave the{son of} of {son of} of {William FitzMaurice, 2nd Earl of Kerry} ?']\n"
     ]
    },
    {
     "name": "stdout",
     "output_type": "stream",
     "text": [
      "1562 : ['Did Reinhard Heydrich die of cholangitis and/or ballistic trauma?']\n",
      "1563 : ['How many discoveries have been made concerning radial velocity?']\n"
     ]
    },
    {
     "name": "stdout",
     "output_type": "stream",
     "text": [
      "1564 : ['WHICH IS THE ARITHMETIC CALENDAR THAT STARTS WITH C']\n",
      "1565 : ['When was Forrest Gump publication date']\n",
      "1566 : ['IS THE BITE FORCE QUOTIENT OF THE DHOLE EQUALS 132']\n"
     ]
    },
    {
     "name": "stdout",
     "output_type": "stream",
     "text": [
      "1567 : ['What is Vancouver Island bordered by in administrative units?']\n",
      "1568 : ['Which is the nonprofit organization if the formation location of Paris?']\n"
     ]
    },
    {
     "name": "stdout",
     "output_type": "stream",
     "text": [
      "1569 : ['Who is the Mistress of John Wayne, who is also the winner of the Knight of the Order of Leopold?']\n"
     ]
    },
    {
     "name": "stdout",
     "output_type": "stream",
     "text": [
      "1570 : ['Which institution has over nineteen thousand students?']\n"
     ]
    },
    {
     "name": "stdout",
     "output_type": "stream",
     "text": [
      "1571 : ['Is the personal best of Caster Semenya greater than 138.396']\n",
      "1572 : ['Using a typology of time-manner-place, in what language does Hiroshi Sugimoto write?']\n"
     ]
    },
    {
     "name": "stdout",
     "output_type": "stream",
     "text": [
      "1573 : ['Tell me the opera that location of first performance is the Theater auf der Wieden and which that starts with the letter f']\n",
      "1574 : ['Which is the BSD Portal athlete ID of Felix Loch?']\n",
      "1575 : ['When does La Plata?']\n",
      "1576 : ['What position did Louis X of France hold starting on 11/29/1314?']\n"
     ]
    },
    {
     "name": "stdout",
     "output_type": "stream",
     "text": [
      "15771578 : ['What is the twin city of Basel which has an establishment date of 751-0-0?']\n",
      " : ['Who followed Victor Hugo as a member of the Académie française?']\n"
     ]
    },
    {
     "name": "stdout",
     "output_type": "stream",
     "text": [
      "1579 : ['What is the principle basis, for the Special Region Law of Hong Kong.']\n"
     ]
    },
    {
     "name": "stdout",
     "output_type": "stream",
     "text": [
      "1580 : ['Which is the decay mode for alpha decay?']\n",
      "1581 : ['What was the population of the Saitama Prefecture in the year 2005?']\n",
      "1582 : ['Which city was twinned with Nagoya on 21st December, 1978?']\n"
     ]
    },
    {
     "name": "stdout",
     "output_type": "stream",
     "text": [
      "1583 : ['In what year was Leon Jouhaux nominated for the Nobel Peace Prize?']\n",
      "1584 : ['Give the chemical compound with the least speed of sound who is part hydrogen?']\n",
      "1585 : ['Please tell me Alistair Brownlees IAT triathlete ID.']\n"
     ]
    },
    {
     "name": "stdout",
     "output_type": "stream",
     "text": [
      "1586 : ['Which Class IIIA combustible liquid has the highest IDLH?']\n",
      "1587 : ['Which G-type main sequence star has the maximum stellar rotational velocity?']\n",
      "1588 : ['Was Hamilcar Barca born before 1584?']\n"
     ]
    },
    {
     "name": "stdout",
     "output_type": "stream",
     "text": [
      "1589 : ['What field of work does Porfirio Díaz do?']\n"
     ]
    },
    {
     "name": "stdout",
     "output_type": "stream",
     "text": [
      "1590 : ['When did George Frederic Handel graduate from University of Halle-Wittenberg?']\n",
      "1591 : ['who is the empire for diplomatic relation of ottoman empire?']\n",
      "1592 : ['Did Carole King work with the record labels Epic Records and Avatar Records?']\n"
     ]
    },
    {
     "name": "stdout",
     "output_type": "stream",
     "text": [
      "1593 : ['What is the type of quantum particle with the lowest g-factor whose interaction is weak interaction?']\n",
      "1594 : ['With a local government area of Zhenjiang, where was Gong Qiuxia born?']\n"
     ]
    },
    {
     "name": "stdout",
     "output_type": "stream",
     "text": [
      "1595 : ['What part of Songhua River is located at 127.224?']\n",
      "1596 : ['What is the {studied by} and the {partially coincident with} of {Human_body} ?']\n"
     ]
    },
    {
     "name": "stdout",
     "output_type": "stream",
     "text": [
      "1597 : ['Tell me Beer festival whose name has the word oktoberfest in it.']\n"
     ]
    },
    {
     "name": "stdout",
     "output_type": "stream",
     "text": [
      "1598 : ['What is the earliest date of Alexander Pushkins residency in Ulyanovsk?']\n"
     ]
    },
    {
     "name": "stdout",
     "output_type": "stream",
     "text": [
      "1599 : ['Is the base salary of Gary Chan equal to 77000?']\n",
      "1600 : ['Which is FAO risk status for Arabian horse?']\n",
      "1601 : ['Is the Elo rating of the Noa Saxon Gardiner equal to 1004.0?']\n"
     ]
    },
    {
     "name": "stdout",
     "output_type": "stream",
     "text": [
      "16021603 : ['where is the powerpoint of  steam turbine?']\n",
      " : ['Is the slope rating of the Crosswater Club equal to 145?']\n",
      "1604 : ['When was William Ramsay nominated for a Nobel Prize in Chemistry?']\n",
      "1605 : ['What is the Womens Sports Foundation ID for Jennie Finch?']\n",
      "1606 : ['Is Malum depicted in the audio of The Son of Man.']\n"
     ]
    },
    {
     "name": "stdout",
     "output_type": "stream",
     "text": [
      "1607 : ['Which {role model} is {contestant} of {The Black Dahlia} ?']\n",
      "1608 : ['When was European Union dissolved, abolished or demolished as per the European Community?']\n",
      "1609 : ['What was Edward Albee was nominated for on the 19th Tony Awards?']\n"
     ]
    },
    {
     "name": "stdout",
     "output_type": "stream",
     "text": [
      "1610 : ['What is the founder of the located in of The Parnassus ?']\n",
      "1611 : ['What custom contains the word zwänzgerle in its name?']\n",
      "1612 : ['Name the appointment cause and the halt reason for Eugenio Montale while serving as a senatore a vita']\n"
     ]
    },
    {
     "name": "stdout",
     "output_type": "stream",
     "text": [
      "1613 : ['What is the professional term for Rugby?']\n"
     ]
    },
    {
     "name": "stdout",
     "output_type": "stream",
     "text": [
      "1614 : ['What was the total size of exhibition of Prado National Museum in the year 2012?']\n",
      "1615 : ['What film production company owns the American Broadcasting Company?']\n",
      "1616 : ['what is the birth place of Erik Erikson,is he the head of the national Government Kurt Balum?']\n"
     ]
    },
    {
     "name": "stdout",
     "output_type": "stream",
     "text": [
      "1617 : ['What is the head position of the Organisation for Economic Co-operation and Development']\n"
     ]
    },
    {
     "name": "stdout",
     "output_type": "stream",
     "text": [
      "1618 : ['who sculpted the drawing hands?']\n",
      "1619 : ['What is the condition of meterology containing the word drought in its name?']\n",
      "1620 : ['What language of William John Macquorn Rankine has a typological order of place-manner-time?']\n",
      "1621 : ['Where is {death place} of {Ignaz Semmelweis}, which has {next to} is {Heiligenstadt} ?']\n"
     ]
    },
    {
     "name": "stdout",
     "output_type": "stream",
     "text": [
      "1622 : ['Tell me a civil parish that begins with the letter w']\n"
     ]
    },
    {
     "name": "stdout",
     "output_type": "stream",
     "text": [
      "1623 : ['Is satellite of Saturn have a date of discovery of 2000-8-7?']\n"
     ]
    },
    {
     "name": "stdout",
     "output_type": "stream",
     "text": [
      "1624 : ['What are the stars and stripes from the star spangled banner?']\n",
      "1625 : ['What is the antonym of painting of Samson and the Philistines?']\n",
      "1626 : ['When is Chinese New Year?']\n"
     ]
    },
    {
     "name": "stdout",
     "output_type": "stream",
     "text": [
      "1627 : ['which position David Trimble holds and when did he select?']\n",
      "1628 : ['What is the spoken language of Jadwiga of Poland?']\n"
     ]
    },
    {
     "name": "stdout",
     "output_type": "stream",
     "text": [
      "1629 : ['A person who studies meteorology looks at what geosphere?']\n",
      "1630 : ['In the birth place of Gerard Reve, what is the earliest record of 1275-0-0?']\n",
      "1631 : ['What is Q48460 language official of Khwarazmian dynasty ?']\n",
      "1632 : ['Which is the ComicBookDB ID for Warren Ellis?']\n"
     ]
    },
    {
     "name": "stdout",
     "output_type": "stream",
     "text": [
      "1633 : ['What is the organization that regulates Esperanto?']\n",
      "1634 : ['Mention the date and the reason of elimination of Oswald Mosley from the Member of the 35th Parliament of the United Kingdom.']\n"
     ]
    },
    {
     "name": "stdout",
     "output_type": "stream",
     "text": [
      "1635 : ['What rotary cannon did General Electric design that starts with the letter m?']\n"
     ]
    },
    {
     "name": "stdout",
     "output_type": "stream",
     "text": [
      "1636 : ['Who designed the nuclear weapons tests for the Manhattan Project?']\n",
      "1637 : ['Who were the victims due to Cimons actions?']\n"
     ]
    },
    {
     "name": "stdout",
     "output_type": "stream",
     "text": [
      "1638 : ['Which brother of Atahualpa has sons?']\n",
      "1639 : ['Is it true that the lighthouse range of Farol de Pedra de Lume equals to 0.8?']\n"
     ]
    },
    {
     "name": "stdout",
     "output_type": "stream",
     "text": [
      "1640 : ['What is the pole vault height record held by Igor Potapovich and where was the event?']\n",
      "1641 : ['Who are the writers of Mahabharata with children in Dhritarashtra?']\n"
     ]
    },
    {
     "name": "stdout",
     "output_type": "stream",
     "text": [
      "1642 : ['What is the motto of Shahada?']\n",
      "1643 : ['What is formed in burial place of William IV, Prince of Orange ?']\n",
      "1644 : ['What position did Mahathir Mohamad hold starting 2018-5-10?']\n"
     ]
    },
    {
     "name": "stdout",
     "output_type": "stream",
     "text": [
      "1645 : ['When was Benedict Cumberbatch awarded the Primetime Emmy Award for Outstanding Lead Actor in a Miniseries or a movie?']\n",
      "1646 : ['Did Katrina Kaif make films?']\n"
     ]
    },
    {
     "name": "stdout",
     "output_type": "stream",
     "text": [
      "1647 : ['Is William Lawsons first name the same as Gwyllym?']\n"
     ]
    },
    {
     "name": "stdout",
     "output_type": "stream",
     "text": [
      "1648 : ['Who is the Chief Executive Officer of Walmart?']\n"
     ]
    },
    {
     "name": "stdout",
     "output_type": "stream",
     "text": [
      "1649 : ['What position did Arthur Griffith hold in East Cavan?']\n",
      "1650 : ['What was the space probe launched from Cape Canaveral that starts with letter V ?']\n"
     ]
    },
    {
     "name": "stdout",
     "output_type": "stream",
     "text": [
      "1651 : ['Is it true that the cost of damage of Hurricane Sandy was equal to 68680000000?']\n",
      "1652 : ['Frank Gehry created what sculpture?']\n"
     ]
    },
    {
     "name": "stdout",
     "output_type": "stream",
     "text": [
      "1653 : ['When did khanate for country of Golden Horde?']\n",
      "1655 : ['Which sports team was Valeriy Lobanovsky a member of and how many matches did he play?']\n",
      "1656 : ['Where is the tourist information office in Frankfurt?']\n",
      "1657 : ['was zodiac killers occupation serial killer?']\n"
     ]
    },
    {
     "name": "stdout",
     "output_type": "stream",
     "text": [
      "1658 : ['Who is Supermans sidekick?']\n"
     ]
    },
    {
     "name": "stdout",
     "output_type": "stream",
     "text": [
      "1659 : ['To whom did Chrissie Hynde get married and when did it end?']\n",
      "1660 : ['which building has the highest cost?']\n"
     ]
    },
    {
     "name": "stdout",
     "output_type": "stream",
     "text": [
      "1661 : ['Who is the person that was influenced by Hypatia?']\n",
      "1662 : ['What is the capital city twinned to Kiel that contains the word tallinn  in its name']\n"
     ]
    },
    {
     "name": "stdout",
     "output_type": "stream",
     "text": [
      "1663 : ['What markup language is HTML5 based on?']\n"
     ]
    },
    {
     "name": "stdout",
     "output_type": "stream",
     "text": [
      "1664 : ['What award did Thomas Hunt Morgan receive and when did he receive it?']\n",
      "1665 : ['When is the location born in Jamshid Mashayekhi which is a partner town of Havana?']\n"
     ]
    },
    {
     "name": "stdout",
     "output_type": "stream",
     "text": [
      "1666 : ['Shimon Peres won what award together with someone else?']\n"
     ]
    },
    {
     "name": "stdout",
     "output_type": "stream",
     "text": [
      "1667 : ['Which flammable liquid has the highest ionization energy ?']\n",
      "1668 : ['What is the age range described by the term young adult?']\n"
     ]
    },
    {
     "name": "stdout",
     "output_type": "stream",
     "text": [
      "1669 : ['Tell me me a textile fibre whose name consist of the word woman and whose fabrication method sericulture silk']\n",
      "1670 : ['Which is {school attended} of {Patti Smith}, whose {full title} is {New Jersey State Teachers College at Glassboro} ?']\n",
      "1671 : ['What is the outcome of summer Olympics 2012 opening ceremony at Kenenisa bekele?']\n"
     ]
    },
    {
     "name": "stdout",
     "output_type": "stream",
     "text": [
      "1672 : ['What is the color called HTML4 for ruby color?']\n",
      "1673 : ['For how long has Cardinal Mazarin been the Bishop of Metz']\n",
      "1674 : ['Mention the qualifying degree and the major specialization course in which Jeff Bezos graduated from the Princeton University']\n"
     ]
    },
    {
     "name": "stdout",
     "output_type": "stream",
     "text": [
      "1675 : ['When did educated at of Melinda Gates and academic major?']\n",
      "1676 : ['When did Katharine Graham receive the Library of Congress Living Legend award?']\n",
      "1677 : ['What is ICTV virus ID of Asfarviridae?']\n"
     ]
    },
    {
     "name": "stdout",
     "output_type": "stream",
     "text": [
      "1678 : ['Which is the BDCYL authority ID for José Echegaray?']\n",
      "1679 : ['Nathan M. Pusey replaced James Bryant Conant in what position?']\n"
     ]
    },
    {
     "name": "stdout",
     "output_type": "stream",
     "text": [
      "1680 : ['For which category did Henry Mancini win in the 34th Academy Awards?']\n",
      "1681 : ['What is the Mémoire du cyclisme cyclist ID for Bradley Wiggins?']\n",
      "1682 : ['For what reason D.T. suzuku was in nomination in the year 1963?']\n"
     ]
    },
    {
     "name": "stdout",
     "output_type": "stream",
     "text": [
      "1683 : ['What is bordered by death of William Booth']\n",
      "1684 : ['Who is the  {strip mall} for {architectural style} of {Bauhaus}']\n"
     ]
    },
    {
     "name": "stdout",
     "output_type": "stream",
     "text": [
      "1685 : ['Which ensemble of buildings has the smallest intensity of luminosity?']\n"
     ]
    },
    {
     "name": "stdout",
     "output_type": "stream",
     "text": [
      "1686 : ['When was Pablo Neruda awarded the National Prize for Literature?']\n",
      "1687 : ['What is the diplomatic relationship between Algeria and Indonesia?']\n"
     ]
    },
    {
     "name": "stdout",
     "output_type": "stream",
     "text": [
      "1688 : ['who titleholder of nomination received of nebraska ?']\n"
     ]
    },
    {
     "name": "stdout",
     "output_type": "stream",
     "text": [
      "1689 : ['What is the location of the headquarters of Asahi Shimbun given the number 34.6937?']\n"
     ]
    },
    {
     "name": "stdout",
     "output_type": "stream",
     "text": [
      "1690 : ['Which is the Sandbox-String for degree Fahrenheit?']\n"
     ]
    },
    {
     "name": "stdout",
     "output_type": "stream",
     "text": [
      "1691 : ['When was Saint-Étienne twinned with Fes?']\n",
      "1692 : ['What countries populate the border areas of Malawi?']\n"
     ]
    },
    {
     "name": "stdout",
     "output_type": "stream",
     "text": [
      "1693 : ['What team does Alcides Pena play for?']\n",
      "1694 : ['Which is the bore of AK-47?']\n",
      "1695 : ['Is the vapor pressure of the Nonane equal to 3?']\n"
     ]
    },
    {
     "name": "stdout",
     "output_type": "stream",
     "text": [
      "1696 : ['When did Jonathan Franzen received his National Book Award for Fiction?']\n",
      "1697 : ['Is the numeric value of the Boltzmann constant less than 1.6567788e-23?']\n"
     ]
    },
    {
     "name": "stdout",
     "output_type": "stream",
     "text": [
      "1698 : ['Tell mec ommunist party whose name has the word práce in it.']\n",
      "1699 : ['Who is the birth parent of Stalins kid, when was the kid born, and what was his name?']\n"
     ]
    },
    {
     "name": "stdout",
     "output_type": "stream",
     "text": [
      "1700 : ['When did educated at of Venus Williams and academic major?']\n",
      "1701 : ['In what year was Valery Gergiev awarded the State Prize of the Russian Federation?']\n"
     ]
    },
    {
     "name": "stdout",
     "output_type": "stream",
     "text": [
      "1702 : ['TELL ME HUMAN SETTLEMENT WHOSE NAME HAS THE WORD ZANZIBAR IN  IT.']\n",
      "1703 : ['Is the dynamic viscosity of the acetic acid greater than 0.6288?']\n"
     ]
    },
    {
     "name": "stdout",
     "output_type": "stream",
     "text": [
      "1704 : ['Who is the {empire} for {country of citizenship} of {Vladimir Lenin}']\n",
      "1705 : ['What is the name of film studio that starts with letter s']\n",
      "1706 : ['Which award was received by Kobe Bryant in 2007?']\n"
     ]
    },
    {
     "name": "stdout",
     "output_type": "stream",
     "text": [
      "1707 : ['Who is the inventor of the anatomical location of sinoatrial node disease?']\n"
     ]
    },
    {
     "name": "stdout",
     "output_type": "stream",
     "text": [
      "1708 : ['When was Tomas Garrigue masaryk nominated for Nobel peace prize award?']\n",
      "1709 : ['Which dialect is the official language of the Achaemenid Empire?']\n",
      "1710 : ['Which is the instruction set of 16-bit architecture?']\n",
      "1711 : ['What are the influences portrayed by Standards?']\n"
     ]
    },
    {
     "name": "stdout",
     "output_type": "stream",
     "text": [
      "1712 : ['Who is {mother} of {kids} of {Jason Robards} ?']\n",
      "1713 : ['Was LL Cool J in the genre alternative hip-hop and new school hip-hop?']\n"
     ]
    },
    {
     "name": "stdout",
     "output_type": "stream",
     "text": [
      "1714 : ['Is Rio de Janeiro a sister town to Athens?']\n",
      "1715 : ['What material is produced by Chevron corporation?']\n",
      "1716 : [': What are the Cyprinus rubrofuscus which start with the letter k']\n"
     ]
    },
    {
     "name": "stdout",
     "output_type": "stream",
     "text": [
      "1717 : ['Who was the operator of the Airbus A320?']\n"
     ]
    },
    {
     "name": "stdout",
     "output_type": "stream",
     "text": [
      "1718 : ['What is the language spoken by Ben Carson?']\n",
      "1719 : ['When did Alan Greenspan leave his position as Chair of the Federal Reserve?']\n"
     ]
    },
    {
     "name": "stdout",
     "output_type": "stream",
     "text": [
      "1720 : ['How does Mariano Rivera make use of the sport he plays?']\n"
     ]
    },
    {
     "name": "stdout",
     "output_type": "stream",
     "text": [
      "1721 : ['What is GONIAT ID of Staffordshire?']\n",
      "1722 : ['Are there more than 3.6 floors below ground of the Plaza 66.']\n"
     ]
    },
    {
     "name": "stdout",
     "output_type": "stream",
     "text": [
      "1723 : ['Which empire did the Parthian follow?']\n",
      "1724 : ['Using the following specifications--wgs 84, 39.992--find the burial location of Deniz Gezmis.']\n"
     ]
    },
    {
     "name": "stdout",
     "output_type": "stream",
     "text": [
      "1725 : ['When was Pedro I(who has a son, Pedro II of Brazil) born?']\n"
     ]
    },
    {
     "name": "stdout",
     "output_type": "stream",
     "text": [
      "1726 : ['Which Shumen cave has the lowest temperature?']\n",
      "1727 : ['WHO THE DUBBER OF RUKH FROM WORK?']\n"
     ]
    },
    {
     "name": "stdout",
     "output_type": "stream",
     "text": [
      "1728 : ['Where did Zelda Fitzgerald and F. Scott Fitzgerald marry?']\n",
      "1729 : ['When did Leslie Lamport start working for Microsoft Research?']\n",
      "1730 : ['On planet Nine, the G-type main-sequence star for the child astronomical body is called what?']\n"
     ]
    },
    {
     "name": "stdout",
     "output_type": "stream",
     "text": [
      "1731 : ['What amount of those stated are for Zaporizhzhia?']\n"
     ]
    },
    {
     "name": "stdout",
     "output_type": "stream",
     "text": [
      "1732 : ['What is male  of label for  military officer ?']\n",
      "1733 : ['Which is gait for horse?']\n",
      "1734 : ['What statement does Fiji support that can mean a partly free country?']\n",
      "1735 : ['What is the chemical compound of erythromycin when interacting with a significant drug?']\n"
     ]
    },
    {
     "name": "stdout",
     "output_type": "stream",
     "text": [
      "1736 : ['What type of Pentium M microprocessor has the smallest number of processor cores?']\n",
      "1737 : ['Was Natalia Molchanova born in the Bashkir Autonomous Soviet Socialist Republic?']\n",
      "1738 : ['What role does John Hope Franklin have in the American Historical Association?']\n"
     ]
    },
    {
     "name": "stdout",
     "output_type": "stream",
     "text": [
      "1739 : ['Which is the CAS Registry Number for calcium chloride?']\n"
     ]
    },
    {
     "name": "stdout",
     "output_type": "stream",
     "text": [
      "1740 : ['When was Len Browns last year as the mayor of Auckland?']\n",
      "1741 : ['Where is incumbent of professorship position of John Budden ?']\n"
     ]
    },
    {
     "name": "stdout",
     "output_type": "stream",
     "text": [
      "1742 : ['Who is the actor in Captain Typho?']\n"
     ]
    },
    {
     "name": "stdout",
     "output_type": "stream",
     "text": [
      "1743 : ['Which is the cardinality of this set of 1?']\n",
      "1744 : ['Is the Bohler N680s hardness 59?']\n"
     ]
    },
    {
     "name": "stdout",
     "output_type": "stream",
     "text": [
      "1745 : ['Which is the discontinued date of PlayStation 3?']\n",
      "1746 : ['What invention contains the word tourbillion in its name?']\n",
      "1747 : ['Tell me milk tea whose name has the word tarik in it.']\n"
     ]
    },
    {
     "name": "stdout",
     "output_type": "stream",
     "text": [
      "1748 : ['Which is the German cattle breed ID of Jersey cattle?']\n",
      "1749 : ['Tell me about the codon that is encoded by glycine.']\n"
     ]
    },
    {
     "name": "stdout",
     "output_type": "stream",
     "text": [
      "1750 : ['Is Burt Reynolds a citizen of America?']\n",
      "1751 : ['How many describe a project that uses Twitter?']\n",
      "1752 : ['Who was the author that appeared in Professor Shattuck?']\n"
     ]
    },
    {
     "name": "stdout",
     "output_type": "stream",
     "text": [
      "1753 : ['Give the central processing unit with the lowest thermal design power whose part of the class is L3 cache?']\n"
     ]
    },
    {
     "name": "stdout",
     "output_type": "stream",
     "text": [
      "1754 : ['Is the perimeter of Lai Lung .11?']\n",
      "1755 : ['What {civilisation} {denominates} {Yazdegerd III} ?']\n"
     ]
    },
    {
     "name": "stdout",
     "output_type": "stream",
     "text": [
      "1756 : ['Is the employment by economic sector of Amsterdam equal to 209100.0?']\n",
      "1757 : ['What is the weapon model with the maximum rate of fire whose subclass of is naval artillery?']\n"
     ]
    },
    {
     "name": "stdout",
     "output_type": "stream",
     "text": [
      "1758 : ['Tell me art movement whose name has the word yamato in it.']\n",
      "1759 : ['Does the rate of fire of the VAP submachine gun equals to 1200.0?']\n"
     ]
    },
    {
     "name": "stdout",
     "output_type": "stream",
     "text": [
      "1760 : ['which federation with the lowest life expectancy whose contains administrative territorial is saxony-anhalt?']\n"
     ]
    },
    {
     "name": "stdout",
     "output_type": "stream",
     "text": [
      "1761 : ['How much full-time work is available at the North Atlantic Treaty?']\n",
      "1762 : ['Which is the British Book Trade Index ID for John Knox?']\n",
      "1763 : ['Who is the crew of Cosmonaut Michael Fincke?']\n",
      "1764 : ['Who is professions field is musician having a timeline of topic of history of music?']\n"
     ]
    },
    {
     "name": "stdout",
     "output_type": "stream",
     "text": [
      "1765 : ['To which musical movement did John Cage belong?']\n"
     ]
    },
    {
     "name": "stdout",
     "output_type": "stream",
     "text": [
      "1766 : ['What does Air China build?']\n",
      "1767 : ['Which is dan/kyu rank of wushu ?']\n",
      "1768 : ['Who gave the  {summit} of {system of mountains} of {Stevens Pass} ?']\n",
      "1769 : ['In what neighborhood that covers a surface area of 50.41 units was the Battle of Rocroi fought?']\n"
     ]
    },
    {
     "name": "stdout",
     "output_type": "stream",
     "text": [
      "1770 : ['what biblical episode commemorates Palm Sunday?']\n",
      "1771 : ['What is the significant event held in the beginning of Laser Interferometer Gravitational-Wave Observatory in 1994']\n",
      "1772 : ['Is the flattening of Venus zero?']\n",
      "1773 : ['What are the programming steps for the {dynamic programming} ?']\n"
     ]
    },
    {
     "name": "stdout",
     "output_type": "stream",
     "text": [
      "1774 : ['Which is the ISWC of Symphony No. 9?']\n",
      "1775 : ['What is the country of the Bangalore?']\n"
     ]
    },
    {
     "name": "stdout",
     "output_type": "stream",
     "text": [
      "1776 : ['Are the number of cases of the yellow fever equal to 136000.0?']\n",
      "1777 : ['Tell me chemical substance whose name has the word zeolite in it.']\n",
      "1778 : ['When did Neil Gaiman receive his award for Hugo?']\n",
      "1779 : ['State the mathematical concept behind the Spacetime manifestation.']\n"
     ]
    },
    {
     "name": "stdout",
     "output_type": "stream",
     "text": [
      "1780 : ['What is KEPN ID for Wolverhampton ?']\n"
     ]
    },
    {
     "name": "stdout",
     "output_type": "stream",
     "text": [
      "1781 : ['Who is guilty for Paris Hiltons My New BFF being presented?']\n"
     ]
    },
    {
     "name": "stdout",
     "output_type": "stream",
     "text": [
      "1782 : ['Who was Richard I of Englands mother?']\n",
      "1783 : ['When did Alexander Shelepin stop being chairperson for the KGB?']\n",
      "1784 : ['Where did Christopher Wren major in Latin?']\n"
     ]
    },
    {
     "name": "stdout",
     "output_type": "stream",
     "text": [
      "1785 : ['Is it true that the production rate of Jumilla more than 203978.4?']\n",
      "1786 : ['What award did Arthur Rubinstein win on 1/1/1961?']\n",
      "1787 : ['What award medal was given to John Steinbeck ?']\n"
     ]
    },
    {
     "name": "stdout",
     "output_type": "stream",
     "text": [
      "1788 : ['What is the office held by the governor called?']\n"
     ]
    },
    {
     "name": "stdout",
     "output_type": "stream",
     "text": [
      "1789 : ['Was the period of Margaret Thatcher ended as member ended on 2013-4-8?']\n"
     ]
    },
    {
     "name": "stdout",
     "output_type": "stream",
     "text": [
      "1790 : ['On June 24th of 1948 what award did Kliment Voroshilov received?']\n",
      "1791 : ['Was Niki Lauda member of Scuderia Ferrari and Renault F1?']\n"
     ]
    },
    {
     "name": "stdout",
     "output_type": "stream",
     "text": [
      "1792 : ['Tell me Original Public Ivy whose name has the word university in it.']\n"
     ]
    },
    {
     "name": "stdout",
     "output_type": "stream",
     "text": [
      "1793 : ['What is the prequel of Ray Stantz titled?']\n",
      "1795 : ['Who is the developer of Stirling engine whose died in Galston']\n"
     ]
    },
    {
     "name": "stdout",
     "output_type": "stream",
     "text": [
      "17961797 : ['Which is the Entomologists of the World ID for Jean-Baptiste de Lamarck?']\n",
      " : ['What is webcam page URL for Metz ?']\n",
      "1798 : ['Which is the DSM-5 of attention deficit hyperactivity disorder?']\n"
     ]
    },
    {
     "name": "stdout",
     "output_type": "stream",
     "text": [
      "1799 : ['What governor of Aosta Valley was also a veterinarian?']\n",
      "1800 : ['What is Paolo Gentiloni academic degree and academic major at Laurea magistrale (Italy)?']\n",
      "1801 : ['According to the census, what is the population of the Antofagasta Region?']\n",
      "1802 : ['What is the middle name of {Frederick I whose nick name is Frederick?']\n"
     ]
    },
    {
     "name": "stdout",
     "output_type": "stream",
     "text": [
      "1803 : ['Which central bank has the highest target interest rate ?']\n",
      "1804 : ['The antiparticle of an elementary particle is what premium particle?']\n",
      "1805 : ['What are the place of birth and the child of Pete Wentz?']\n"
     ]
    },
    {
     "name": "stdout",
     "output_type": "stream",
     "text": [
      "1806 : ['How is the Gospel of John exemplar?']\n"
     ]
    },
    {
     "name": "stdout",
     "output_type": "stream",
     "text": [
      "1807 : ['What is timeline of topic for culture of Belle Barth ?']\n"
     ]
    },
    {
     "name": "stdout",
     "output_type": "stream",
     "text": [
      "1808 : ['Did Lolita reference The Emperors New Clothes and Eulalie?']\n"
     ]
    },
    {
     "name": "stdout",
     "output_type": "stream",
     "text": [
      "1809 : ['Which is the date of baptism in early childhood of Diego Velázquez?']\n",
      "1810 : ['What is the {manner of death} and the {position played on team / speciality} by {Babe_Ruth} ?']\n",
      "1811 : ['When did Romario receive the World Cup Golden Ball?']\n"
     ]
    },
    {
     "name": "stdout",
     "output_type": "stream",
     "text": [
      "1812 : ['When did Tom Cruise receive the Golden Globe Award for Best Actor - Motion Picture, Musical or Comedy?']\n",
      "1813 : ['Who graduated and played Burnin the Roadhouse Down.']\n",
      "1814 : ['Which is the religion text that has as an edition that of King James Version?']\n"
     ]
    },
    {
     "name": "stdout",
     "output_type": "stream",
     "text": [
      "1815 : ['Which is the stereoisomer for L-Phenylalanine?']\n",
      "1816 : ['What has  pet of dog ?']\n",
      "1817 : ['When was Estelle Parsons nominated for a Tony Award for Best Actress in a Play?']\n"
     ]
    },
    {
     "name": "stdout",
     "output_type": "stream",
     "text": [
      "1818 : ['Which is the Historical Gazetteer GOV ID for German Confederation?']\n",
      "1819 : ['How many airline hub are done by All Nippon Airways']\n",
      "1820 : ['What is INTEGRALs start point?']\n"
     ]
    },
    {
     "name": "stdout",
     "output_type": "stream",
     "text": [
      "1821 : ['Was Maureen Connolly victorious?']\n"
     ]
    },
    {
     "name": "stdout",
     "output_type": "stream",
     "text": [
      "1822 : ['Which language is used in Gibraltar that has a quality of second language?']\n",
      "1823 : ['What can you develop with Autodesk Vault?']\n"
     ]
    },
    {
     "name": "stdout",
     "output_type": "stream",
     "text": [
      "1824 : ['How many people visited Yellowstone National Park in 2015?']\n",
      "1825 : ['Who is informed by Friedrich Schiller, that has a father-in-law named Peter Im Baumgarten?']\n",
      "1826 : ['Where Clement I dired at Bosporan Kingdom?']\n"
     ]
    },
    {
     "name": "stdout",
     "output_type": "stream",
     "text": [
      "1827 : ['Did Paul Simon receive the Lifetime Achievement Award at the 60th Primetime Emmy Awards?']\n"
     ]
    },
    {
     "name": "stdout",
     "output_type": "stream",
     "text": [
      "1829 : ['What is cover artist for Peter Blake ?']\n"
     ]
    },
    {
     "name": "stdout",
     "output_type": "stream",
     "text": [
      "1830 : ['Which is the Arch Linux package for PHP?']\n"
     ]
    },
    {
     "name": "stdout",
     "output_type": "stream",
     "text": [
      "1831 : ['what is the facet of a polytope shape of six-side die?']\n"
     ]
    },
    {
     "name": "stdout",
     "output_type": "stream",
     "text": [
      "1832 : ['What did George Lucas major in at University of Southern California and what was his degree?']\n",
      "1833 : ['What part of the series is preceded by Hooked on Monkey Fonics?']\n",
      "1834 : ['who is depicted by Phan Thi Kim Phuc ?']\n",
      "1835 : ['Who are the kids of Shiva whose life partner is Devasena?']\n",
      "1836 : ['Did Jennifer Lawrence receive the MTV Movie Award for Best Female Performance?']\n"
     ]
    },
    {
     "name": "stdout",
     "output_type": "stream",
     "text": [
      "1837 : ['Which is the death place of Gustav Mahler?']\n",
      "1838 : ['What is the name of the person who died due to amyotrophic lateral sclerosis?']\n",
      "1839 : ['Which is the BioLib ID for false gharial?']\n"
     ]
    },
    {
     "name": "stdout",
     "output_type": "stream",
     "text": [
      "1841 : ['What was the significant event happend when Gina Rinehart was came to an end in 1981']\n"
     ]
    },
    {
     "name": "stdout",
     "output_type": "stream",
     "text": [
      "1843 : ['What is Spocks occupation in 2286?']\n",
      "1844 : ['Which television series did {Francis Ford Coppola produce?']\n"
     ]
    },
    {
     "name": "stdout",
     "output_type": "stream",
     "text": [
      "1845 : ['What is the award first described by the Manchester Small-Scale Experimental Machine?']\n",
      "1846 : ['Who was the voice actor in The Lion King?']\n",
      "1847 : ['Who was the presenter for Meet the Press starting on September 16, 1984?']\n"
     ]
    },
    {
     "name": "stdout",
     "output_type": "stream",
     "text": [
      "1848 : ['For what work was Seal in nomination for a Grammy Award for Best Pop Vocal Album?']\n"
     ]
    },
    {
     "name": "stdout",
     "output_type": "stream",
     "text": [
      "1849 : ['Is it true that the term length of office of Captain Regent of San Marino equals to 0.5?']\n",
      "1850 : ['What place was Oliver Hazard Perry born that has a diplomatic relation to Chile?']\n"
     ]
    },
    {
     "name": "stdout",
     "output_type": "stream",
     "text": [
      "1851 : ['What is Invaulable.coms artist ID for Johannes V. Jensen?']\n",
      "1852 : ['Which is the age of candidacy for South Korea?']\n"
     ]
    },
    {
     "name": "stdout",
     "output_type": "stream",
     "text": [
      "1853 : ['Who is the human partner of Chow Yun-fat?']\n",
      "1854 : ['Did Chris Pratt perform good as an actor in Guardians of the Galaxy?']\n"
     ]
    },
    {
     "name": "stdout",
     "output_type": "stream",
     "text": [
      "1855 : ['Who was Louis, Count of Evreuxs mother?']\n",
      "1857 : ['What is Franciss religious name?']\n"
     ]
    },
    {
     "name": "stdout",
     "output_type": "stream",
     "text": [
      "1858 : ['When did was Natalia Revuelta Clews the partner of Fidel Castro.']\n",
      "1859 : ['what is the instruction set of runtime windows 95?']\n"
     ]
    },
    {
     "name": "stdout",
     "output_type": "stream",
     "text": [
      "1860 : ['What is the event location in action of the Allies?']\n",
      "1861 : ['The antiparticle of a neutron is what quantum particle?']\n",
      "1862 : ['which sport in a geographic region has maximum number of clubs in Australia?']\n",
      "1863 : ['who movie director of part of series of home court disadvantage ?']\n"
     ]
    },
    {
     "name": "stdout",
     "output_type": "stream",
     "text": [
      "1864 : ['When was Daniel Ellsberg granted the American Book Awards?']\n",
      "1865 : ['What are the United States Supreme Court decision which start with the letter v']\n"
     ]
    },
    {
     "name": "stdout",
     "output_type": "stream",
     "text": [
      "1866 : ['Who gave the  {initial cause} of {outcome} of {Mechanization} ?']\n"
     ]
    },
    {
     "name": "stdout",
     "output_type": "stream",
     "text": [
      "1867 : ['What { end time } has { commander of } as { Kriegsmarine } for { Karl Dönitz }?']\n",
      "1869 : ['What sports co-founder is apart of E.&H.T. Anthony &Co.?']\n",
      "1870 : ['The Laotian Civil War was fought by what diplomatic parties?']\n"
     ]
    },
    {
     "name": "stdout",
     "output_type": "stream",
     "text": [
      "1871 : ['When did Aleksandr Solzhenitsyn got married to Natalia Solzhenitsyna and when did it end?']\n"
     ]
    },
    {
     "name": "stdout",
     "output_type": "stream",
     "text": [
      "1872 : ['For which work did Omar Sharif receive the Cesar Award for Best Actor?']\n"
     ]
    },
    {
     "name": "stdout",
     "output_type": "stream",
     "text": [
      "1873 : ['Where were Catharine, Duchess of Cambridge and Prince William, Duke of Cambridge married?']\n",
      "1874 : ['Name a mutant in X-MEN that starts with letter W']\n",
      "1875 : ['Was Franklin D. Roosevelt awarded the Albert Medal?']\n"
     ]
    },
    {
     "name": "stdout",
     "output_type": "stream",
     "text": [
      "1877 : ['Which is the GSS code (2011) of the Lake District?']\n"
     ]
    },
    {
     "name": "stdout",
     "output_type": "stream",
     "text": [
      "1878 : ['What is the name of the democratic republic, previously occupied by indigenous people, which now the majority of its population speaks American English?']\n",
      "1879 : ['When did Christopher A. Sims and Sveriges Riksbank win their prize in Economic Sciences Nobel Peace Prize?']\n"
     ]
    },
    {
     "name": "stdout",
     "output_type": "stream",
     "text": [
      "1880 : ['What award did Karl von Frisch receive in 1921?']\n",
      "1881 : ['What prequel of plasma state of matter is using condensation?']\n",
      "1882 : ['Did A.R. Rahman receive the Chevalier Sivaji Ganesan Award for Excellence in Indian Cinema and Zee Cine Award for Best Background Music?']\n",
      "1883 : ['Tell me programming paradigm whose name the word programming in it.']\n"
     ]
    },
    {
     "name": "stdout",
     "output_type": "stream",
     "text": [
      "1884 : ['What is the Diamond  the same as and what is it named after?']\n",
      "1885 : ['Is the pKa of ammonia equal to 7.368?']\n",
      "1886 : ['What gelatin item in the collection has the shortest width?']\n"
     ]
    },
    {
     "name": "stdout",
     "output_type": "stream",
     "text": [
      "1887 : ['Who is the songwriter of the song, Rhapsody in Blue?']\n",
      "1888 : ['When was Cicely Tyson granted the Candace Award?']\n"
     ]
    },
    {
     "name": "stdout",
     "output_type": "stream",
     "text": [
      "1889 : ['What is the trunk prefix of the shooting location Seven Samurai?']\n",
      "1890 : ['The Chinese garden has what FOIH heritage types ID?']\n",
      "1891 : ['What is the name of a branch of service that starts with the letter v.']\n"
     ]
    },
    {
     "name": "stdout",
     "output_type": "stream",
     "text": [
      "1892 : ['What award did Mel Brooks receive in 2003?']\n"
     ]
    },
    {
     "name": "stdout",
     "output_type": "stream",
     "text": [
      "1893 : ['On which series Teg Hughes named as James?']\n",
      "1894 : ['What separation process did Zosimos of Panopolis invent with the word distillation in its name?']\n"
     ]
    },
    {
     "name": "stdout",
     "output_type": "stream",
     "text": [
      "1895 : ['Who is the writer of On Liberty whos birthday is May 20, 1806?']\n",
      "1896 : ['What is the working language of endemism of the Tasmanain devil?']\n",
      "1897 : ['Tell me about employer of Nora Ephron and occupation?']\n"
     ]
    },
    {
     "name": "stdout",
     "output_type": "stream",
     "text": [
      "1898 : ['Where is the death location of Louisa May Alcott, that has its geographic centre in 41.2596 -71.8083?']\n"
     ]
    },
    {
     "name": "stdout",
     "output_type": "stream",
     "text": [
      "1899 : ['Tell me universal library whose name has the word library in it.']\n"
     ]
    },
    {
     "name": "stdout",
     "output_type": "stream",
     "text": [
      "1901 : ['Who was Michael Foucaults student?']\n"
     ]
    },
    {
     "name": "stdout",
     "output_type": "stream",
     "text": [
      "1903 : ['Is it true that the cost of Primer equals to 7000?']\n",
      "1904 : ['What is the original Robin Hood about?']\n"
     ]
    },
    {
     "name": "stdout",
     "output_type": "stream",
     "text": [
      "1905 : ['Which position does Justin Trudeau hold?']\n",
      "1906 : ['What is the birthplace of Saint Wenceslaus I, Duke of Bohemia, where the country is Czech Republic?']\n",
      "1907 : ['What operating system component starts with the letter f?']\n",
      "1908 : ['Who is the inventor or discoverer of Dobsonian telescope, whose location of birth is Beijing?']\n"
     ]
    },
    {
     "name": "stdout",
     "output_type": "stream",
     "text": [
      "1909 : ['What may be prevented with aspirin?']\n"
     ]
    },
    {
     "name": "stdout",
     "output_type": "stream",
     "text": [
      "1910 : ['When was John Dalberg-Acton, 1st Baron Acton, elected as the Member of the 19th Parliament of the United Kingdom?']\n"
     ]
    },
    {
     "name": "stdout",
     "output_type": "stream",
     "text": [
      "1911 : ['What is the original language of Television in Mexicos typology?']\n",
      "1912 : ['What is the official language of Romania?']\n"
     ]
    },
    {
     "name": "stdout",
     "output_type": "stream",
     "text": [
      "1913 : ['How much chemical structure are for oxytocin?']\n",
      "1914 : ['What is developed from fruit?']\n"
     ]
    },
    {
     "name": "stdout",
     "output_type": "stream",
     "text": [
      "1915 : ['What instrument does Darrell Pace play?']\n"
     ]
    },
    {
     "name": "stdout",
     "output_type": "stream",
     "text": [
      "1917 : ['Which is {won by} {succeded by} of {Freestyle skiing at the 2014 Winter Olympics – Mens moguls} ?']\n",
      "1918 : ['What is the master name of Michel de Montaigne, who has the native name Marc Antoine Muret?']\n",
      "1919 : ['For Bill Varney was Star Wars Episode V: the Empire strikes back of award received in winner?']\n",
      "1920 : ['Which is the Movieplayer film ID for Once Upon a Time in the West?']\n"
     ]
    },
    {
     "name": "stdout",
     "output_type": "stream",
     "text": [
      "1921 : ['What are the paradox which start with the letter u']\n"
     ]
    },
    {
     "name": "stdout",
     "output_type": "stream",
     "text": [
      "1922 : ['Which is the mass excess of helium-4?']\n",
      "1924 : ['What is associated with the Umayyad conquest of Hispania?']\n"
     ]
    },
    {
     "name": "stdout",
     "output_type": "stream",
     "text": [
      "1925 : ['Give me the most effected wrench model ?']\n",
      "1926 : ['What is the order for the Battle of Lepanto?']\n"
     ]
    },
    {
     "name": "stdout",
     "output_type": "stream",
     "text": [
      "1927 : ['Is it true that the face value of the United States two-dollar bill equals to 2?']\n"
     ]
    },
    {
     "name": "stdout",
     "output_type": "stream",
     "text": [
      "1928 : ['When did Phil Taylor win the BDO World Darts Championship?']\n",
      "1929 : ['Name the award received by Greta Garbo in the year 1954?']\n",
      "1930 : ['Where did this DVD come from and who owns it now?']\n"
     ]
    },
    {
     "name": "stdout",
     "output_type": "stream",
     "text": [
      "1931 : ['Erythromycin is used to treat what disease the most?']\n",
      "1932 : ['Where did Willem de Kooning work on 7-18-1926?']\n"
     ]
    },
    {
     "name": "stdout",
     "output_type": "stream",
     "text": [
      "1933 : ['Which are the subsidiary entities of the maintainer of Forth Bridge?']\n",
      "1934 : ['Who is {favorite player} of {The Rolling Stones}, that has {found guilty of} is {tax evasion}']\n"
     ]
    },
    {
     "name": "stdout",
     "output_type": "stream",
     "text": [
      "1936 : ['Tell me an arithmetic calendar that has the word calendar in its name.']\n"
     ]
    },
    {
     "name": "stdout",
     "output_type": "stream",
     "text": [
      "1938 : ['Where was the location of the Battle of Gettysburg and who were the participation that fought in that war?']\n",
      "1939 : ['who is the writer of Julius Caesar who has a sister named Joan Shakespeare?']\n",
      "1940 : ['What is the type of government in the state of Norfolk?']\n"
     ]
    },
    {
     "name": "stdout",
     "output_type": "stream",
     "text": [
      "1942 : ['When was Michail Sholokhov nominated for a Nobel Prize in Literature?']\n"
     ]
    },
    {
     "name": "stdout",
     "output_type": "stream",
     "text": [
      "1944 : ['Which is the Italian Senate ID for Giosuè Carducci?']\n",
      "1945 : ['how many are influenced by maimonides?']\n",
      "1946 : ['What business is the organization of the American Broadcasting Company in?']\n"
     ]
    },
    {
     "name": "stdout",
     "output_type": "stream",
     "text": [
      "1947 : ['Who wrote the sequel to The Glory?']\n",
      "1948 : ['In what film did Jacqui Verdura play Harley Quinn?']\n",
      "1949 : ['What country has the lowest inflation rate?']\n",
      "1950 : ['What is Dionysuss character opera?']\n"
     ]
    },
    {
     "name": "stdout",
     "output_type": "stream",
     "text": [
      "1951 : ['Is the embodied energy of the glass more than 18.0?']\n",
      "1952 : ['Name the birth city of Skepta in the country of Nairobi that has been subdivided']\n"
     ]
    },
    {
     "name": "stdout",
     "output_type": "stream",
     "text": [
      "1953 : ['What is dissertation submitted to for Gordon Brown ?']\n"
     ]
    },
    {
     "name": "stdout",
     "output_type": "stream",
     "text": [
      "1955 : ['What company was Steve Jobs a board member of?']\n"
     ]
    },
    {
     "name": "stdout",
     "output_type": "stream",
     "text": [
      "1958 : ['What is won by the honorary titles of The Settlers of Catan?']\n",
      "1959 : ['Did World War II took place in Mediterranean Sea?']\n"
     ]
    },
    {
     "name": "stdout",
     "output_type": "stream",
     "text": [
      "1963 : ['Which is the filmography for Orange Is the New Black?']\n"
     ]
    },
    {
     "name": "stdout",
     "output_type": "stream",
     "text": [
      "1964 : ['What is the density of water?']\n",
      "1965 : ['When did Charlie Rose receive the James Madison Award?']\n"
     ]
    },
    {
     "name": "stdout",
     "output_type": "stream",
     "text": [
      "1967 : ['Where was Milton Friedman educated at and what was his academic major?']\n",
      "1968 : ['What is award received of Richard M. Karp that is point in time is 1985-1-1?']\n",
      "1970 : ['Who founded the superior formation of Weyerhauser, Canada?']\n",
      "1971 : ['What is Hulk Hogans Wrestlingdata person ID?']\n"
     ]
    },
    {
     "name": "stdout",
     "output_type": "stream",
     "text": [
      "1972 : ['Tell me the association football stadium of the structural engineer Sinclair Knight Merz which starts with the letter s?']\n",
      "1973 : ['What what is Radionavigation-satellite service manifestation of by satellite navigation system nd which that starts with {g}']\n",
      "1974 : ['How is Windows 10 updated?']\n",
      "1975 : ['What is the business enterprise with the highest maximum gradient whose instance of is business enterprise?']\n"
     ]
    },
    {
     "name": "stdout",
     "output_type": "stream",
     "text": [
      "1977 : ['Who did Seiji Ozawa marry in the year 1962?']\n",
      "1978 : ['What and where is the record for the pole vault held?']\n",
      "1979 : ['Ruth Benedict lives in what administrative location?']\n"
     ]
    },
    {
     "name": "stdout",
     "output_type": "stream",
     "text": [
      "1980 : ['Does Bob Dylan have archives at the University of Georgia?']\n",
      "1982 : ['Name a former municipality of the Netherlands that shares a border with Rotterdam']\n"
     ]
    },
    {
     "name": "stdout",
     "output_type": "stream",
     "text": [
      "1983 : ['Which is the National Discography of Italian Song artist/group ID for Mikhail Lermontov?']\n"
     ]
    },
    {
     "name": "stdout",
     "output_type": "stream",
     "text": [
      "1984 : ['What is the constituency of the Parliament of the United Kingdom with the most number of representatives in an organization/legislature whose country is United Kingdom of Great Britain and Ireland?']\n",
      "1985 : ['What are the words by My Old Kentucky Home whose career is lyricist?']\n",
      "1986 : ['Was Venice administratively intertwinned with Sarajevo and Tallinn?']\n",
      "1987 : ['Which is {is in the arrondissement of} of {Arkansas River}, that has {divided into} is {Trego County} ?']\n"
     ]
    },
    {
     "name": "stdout",
     "output_type": "stream",
     "text": [
      "1989 : ['Is the magnification of the TZF 9b equal to 2.5?']\n"
     ]
    },
    {
     "name": "stdout",
     "output_type": "stream",
     "text": [
      "1990 : ['Is there a monument dedicated to the Iroquois tribe?']\n"
     ]
    },
    {
     "name": "stdout",
     "output_type": "stream",
     "text": [
      "1993 : ['Is it true that the payload mass of the Vale Beijing equals to 404389?']\n"
     ]
    },
    {
     "name": "stdout",
     "output_type": "stream",
     "text": [
      "1994 : ['Who is the active mayor of Johann Gottlieb Fichte?']\n"
     ]
    },
    {
     "name": "stdout",
     "output_type": "stream",
     "text": [
      "1995 : ['which terriain feature group is located on city of london?']\n"
     ]
    },
    {
     "name": "stdout",
     "output_type": "stream",
     "text": [
      "1997 : ['Who is the mother of Charlemagne, and when did she die?']\n"
     ]
    },
    {
     "name": "stdout",
     "output_type": "stream",
     "text": [
      "1998 : ['WHICH IS THE MONTORY AUTHORITY WITH THE MOST TARGETINTEREST RATE']\n"
     ]
    },
    {
     "name": "stdout",
     "output_type": "stream",
     "text": [
      "1999 : ['What was the population of Guinea in 1961?']\n"
     ]
    },
    {
     "name": "stdout",
     "output_type": "stream",
     "text": [
      "Link batch time: 370.13933753967285\n",
      "Anno batch time: 2434.5517497062683\n",
      "Conv batch time: 0.15294170379638672\n"
     ]
    },
    {
     "name": "stdout",
     "output_type": "stream",
     "text": [
      "\n",
      "[Pipeline1]: Linking 1999-3999\n",
      "2001 : ['Which is the voice type of Paul McCartney?']\n",
      "2001 : ['Which is the residential of Otto Lilienthal nationality?']\n",
      "2001 : ['Which empire rose from the Golden Horde?']\n",
      "2001 : ['What voice  is actresses from work of Death the Kid ?']\n",
      "2001 : ['Is the vibration of the Makita GA7021 equal to 12.3?']\n",
      "2001 : ['What are the human which start with the letter t']\n",
      "2001 : ['When was Niels Bohr  awarded the Nobel Prize in Physics? How much was he awarded?']\n",
      "2001 : ['Who is the speaker Nicolas Sarkozy?']\n",
      "2001 : ['What is the award received by Dolly Parton for his work Transamerica?']\n",
      "2001 : ['What was Claude Rains nominated for in Notorious?']\n",
      "2001 : ['What patent medicine did John Pemberton invent that starts with the letter c?']\n",
      "2001 : ['What is the current time in Singapore MRT?']\n",
      "2001 : ['When did noble title of Guy of Lusignan and follows?']\n",
      "2001 : ['What unit of time can bu used to measure duration and contains the word year in its name']\n",
      "2001 : ['For what work did Neil Patrick Harris receive an Emmy Award?']\n",
      "2001 : ['Which is the percent area of water for Kentucky?']\n",
      "2001 : ['Is Prince George of Cambridge related to Charles, Prince of Wales and Pippa Middleton?']\n",
      "2001 : ['What are the chemical phenomenon which start with the letter corrosion']\n",
      "2001 : ['Who is the regulatory body of the official language of the Republic of Venice?']\n",
      "2001 : ['What genre is the work of Sylvain Guyot?']\n",
      "2001 : ['When did Burt Bacharach  received the award for Grammy Trustees?']\n",
      "2001 : ['WHO IS SISTER OR BROTHER OF SANADA NOBUMASAS NEPHEW?']\n",
      "2001 : ['Which bridge did Isambard Kingdom Brunel design?']\n",
      "2001 : ['When was Nicholas I of Russia awarded the Order of St. Alexander Nevsky?']\n",
      "2001 : ['What are the cryptid which start with the letter y']\n",
      "2001 : ['Which is the satellite state that has the motto Workers of the world, unite! and contains the word democratic in its name?']\n",
      "2001 : ['Who shot and killed JFK?']\n",
      "2001 : ['Name the venue in Romania that had diplomatic relations in Israel during World War I.']\n",
      "2001 : ['Is Barbara Streisands net worth greater than 312,000,000?']\n",
      "2001 : ['Which is the bridge that is located in the administrative territorial entity of London Borough of Southwark and whose name contains the word bridge?']\n",
      "2001 : ['When did Alexander Pushkin move to Ulyanovsk?']\n",
      "2001 : ['When was Thomas Hardy nominated for the Nobel Prize in Literature?']\n"
     ]
    },
    {
     "name": "stdout",
     "output_type": "stream",
     "text": [
      "2002 : ['When did Franz Liszt begin his relationship with his partner Marie dAgoult?']\n"
     ]
    },
    {
     "name": "stdout",
     "output_type": "stream",
     "text": [
      "2003 : ['What is the majority age of those who are loyal to Moshe Dayan?']\n",
      "2004 : ['What editor is used in Dewey Decimal Classification']\n"
     ]
    },
    {
     "name": "stdout",
     "output_type": "stream",
     "text": [
      "2005 : ['Tell me operating system component whose name has the word file in it.']\n",
      "2006 : ['What item is used to play with a list of sleds?']\n"
     ]
    },
    {
     "name": "stdout",
     "output_type": "stream",
     "text": [
      "2007 : ['What is the destination point of Franz Josef Land ?']\n",
      "2008 : ['How many students does Jacques-Louis David teach?']\n"
     ]
    },
    {
     "name": "stdout",
     "output_type": "stream",
     "text": [
      "2009 : ['The papers at Religious Society of Friends uses what Institutional template?']\n",
      "2010 : ['What are the international parliament which start with the letter p']\n",
      "2011 : ['In which city in Carbon County was the invention of Frank Zamboni made?']\n"
     ]
    },
    {
     "name": "stdout",
     "output_type": "stream",
     "text": [
      "2012 : ['Where was Jane Austen born and where did she die?']\n",
      "2013 : ['What is in the category of Lee Miller ?']\n",
      "2014 : ['Did Wladimir Kilitschko win during Wladimir Klitschko vs. Sultan Ibragimov?']\n",
      "2015 : ['What is the largest depth of a lunar crater?']\n"
     ]
    },
    {
     "name": "stdout",
     "output_type": "stream",
     "text": [
      "2016 : ['Who does Michael Jordan play for and how many matches has he played?']\n",
      "2017 : ['Which Soyuz-T has the largest periapsis?']\n"
     ]
    },
    {
     "name": "stdout",
     "output_type": "stream",
     "text": [
      "2018 : ['Who was significant in the movement for Indian Independence?']\n",
      "2019 : ['What is the currency for the Ryukyu Kingdom?']\n"
     ]
    },
    {
     "name": "stdout",
     "output_type": "stream",
     "text": [
      "2020 : ['Was Mitt Romney a bishop and a US senator?']\n",
      "2021 : ['Which is the taxonomic type for Papilionidae?']\n"
     ]
    },
    {
     "name": "stdout",
     "output_type": "stream",
     "text": [
      "2022 : ['What is the population of Valladolid?']\n"
     ]
    },
    {
     "name": "stdout",
     "output_type": "stream",
     "text": [
      "2023 : ['Which is the WikiSkripta ID for cell signaling?']\n"
     ]
    },
    {
     "name": "stdout",
     "output_type": "stream",
     "text": [
      "2024 : ['Which is the Scoresway soccer person ID for Gareth Bale?']\n",
      "2025 : ['tell me steroid hormone that starts with t']\n"
     ]
    },
    {
     "name": "stdout",
     "output_type": "stream",
     "text": [
      "2026 : ['which means {volume }in {The Origin of Chemical Elements} ?']\n",
      "2027 : ['How many cites were there for Dracula?']\n"
     ]
    },
    {
     "name": "stdout",
     "output_type": "stream",
     "text": [
      "2028 : ['What UNICEF was awarded in the year 1957?']\n"
     ]
    },
    {
     "name": "stdout",
     "output_type": "stream",
     "text": [
      "2029 : ['When was Alan Sugar held the position as Enterprise Champion?']\n"
     ]
    },
    {
     "name": "stdout",
     "output_type": "stream",
     "text": [
      "2030 : ['What is Pedre I mothers name and birthdate?']\n",
      "2031 : ['What is  {Sovietskyi Raion} of {annexation of Crimea by the Russian Federation}, that has {moveable object location}  {has shires} ?']\n",
      "2032 : ['Who is ideology of member of party of Michel Pouzol ?']\n",
      "2033 : ['What is at the extreme point deepest of Guatemala, whose tributary is Riviere de Cavaillon?']\n"
     ]
    },
    {
     "name": "stdout",
     "output_type": "stream",
     "text": [
      "2034 : ['What is the ticker symbol for NEC which has Nagoya as Stock Exchange?']\n",
      "2035 : ['Canada contains administrative territorial entity of how many?']\n",
      "2036 : ['Tell me about the abdication of Juan Carlos I.']\n",
      "2037 : ['When did Kim Novak divorce Richard Johnson and when did they get married?']\n"
     ]
    },
    {
     "name": "stdout",
     "output_type": "stream",
     "text": [
      "2038 : ['Who is the director of photography of Persona?']\n",
      "2039 : ['What position did Jean le Rond DAlembert begin holding in 1772?']\n"
     ]
    },
    {
     "name": "stdout",
     "output_type": "stream",
     "text": [
      "2040 : ['What {type of music} is {songwriter} {Princess Mononoke} ?']\n"
     ]
    },
    {
     "name": "stdout",
     "output_type": "stream",
     "text": [
      "2041 : ['Which is the feed URL of Gyeonggi Province?']\n",
      "2042 : ['What award did Paul Dirac receive and how much was the prize money?']\n",
      "2043 : ['Which is the Canadian Olympic Committee athlete ID of Scott Moir?']\n"
     ]
    },
    {
     "name": "stdout",
     "output_type": "stream",
     "text": [
      "2044 : ['Was Jacqueline Kennedy Onassis a follower of Melkite Greek Catholic Church?']\n",
      "2045 : ['Was Stephen King born in Portland?']\n",
      "2046 : ['Which is the Israel Antiquities Authority ID for Rishon LeZion?']\n",
      "2047 : ['When was Ralph Richardson nominated for Best Supporting Actor at the Academy awards?']\n"
     ]
    },
    {
     "name": "stdout",
     "output_type": "stream",
     "text": [
      "2048 : ['Which is the academic degree and the point in time when Guy Fieri was educated at the University of Nevada, Las Vegas?']\n",
      "2049 : ['Which is the permanent duplicated item of famine?']\n",
      "2050 : ['What are the inhabitants of the studio where Halloween was filmed?']\n"
     ]
    },
    {
     "name": "stdout",
     "output_type": "stream",
     "text": [
      "2051 : ['What are the writing system which start with the letter W']\n",
      "2052 : ['Is principle office Girls Generation new label?']\n"
     ]
    },
    {
     "name": "stdout",
     "output_type": "stream",
     "text": [
      "2053 : ['What movie was Sissy Spacek nominated for an Academy Award for Best Actress?']\n"
     ]
    },
    {
     "name": "stdout",
     "output_type": "stream",
     "text": [
      "2054 : ['What is { dissolved, abolished or demolished } of { Achaemenid Empire } that is { instance of } is { Gregorian date earlier than 1584 }?']\n",
      "2055 : ['What is it?']\n"
     ]
    },
    {
     "name": "stdout",
     "output_type": "stream",
     "text": [
      "2056 : ['is it true that the age of candidacy of the member of the chamber of deputies of the parliament of czech republic is equal to 18?']\n",
      "2057 : ['What are the dog type which start with the letter t']\n"
     ]
    },
    {
     "name": "stdout",
     "output_type": "stream",
     "text": [
      "2058 : ['Who is the {human} for {position held} of {United Nations Secretary-General}']\n",
      "2059 : ['Tell me the timezone of the main office of the company Uber']\n"
     ]
    },
    {
     "name": "stdout",
     "output_type": "stream",
     "text": [
      "2060 : ['Which is replaced by Tamar of Georgia?']\n",
      "2061 : ['What is Abigail Adams childs deathdate?']\n",
      "2062 : ['Whom Frederick Sanger shared his Nobel Prize in Chemistry with and how much prize money he got.']\n"
     ]
    },
    {
     "name": "stdout",
     "output_type": "stream",
     "text": [
      "2063 : ['How many presenters are held in the {Adriano Celentano} ?']\n"
     ]
    },
    {
     "name": "stdout",
     "output_type": "stream",
     "text": [
      "2064 : ['Who is the {life stance} of {Zhuang people} who has {formed in} {Bodh Gaya} ?']\n",
      "2065 : ['Which is the periodical literature that has the edition of Rolling Stone?']\n"
     ]
    },
    {
     "name": "stdout",
     "output_type": "stream",
     "text": [
      "2066 : ['What is Peter Gabriels record label?']\n",
      "2067 : ['Was the dissertation submitted to TU Dresden?']\n",
      "2068 : ['When did member of sports team of George Weah and number of matches played?']\n"
     ]
    },
    {
     "name": "stdout",
     "output_type": "stream",
     "text": [
      "20692070 : ['What city and division did James, son of Alphaeus die?']\n",
      " : ['What is GitHub username of Google ?']\n",
      "2071 : ['When has Košice been doing as head of government since 2010-12-21?']\n",
      "2072 : ['What animated series does Phil LaMarr voice in?']\n"
     ]
    },
    {
     "name": "stdout",
     "output_type": "stream",
     "text": [
      "2073 : ['Were Lionel Richie and Alexander Osminin singers?']\n"
     ]
    },
    {
     "name": "stdout",
     "output_type": "stream",
     "text": [
      "2074 : ['What is tourist office for  office ?']\n",
      "2075 : ['What is Sanskrits writing system?']\n",
      "2076 : ['What silent short film depicts Richard III of England?']\n"
     ]
    },
    {
     "name": "stdout",
     "output_type": "stream",
     "text": [
      "2077 : ['what is next to Mie Prefecture, that has arrondissements in the Funai District ?']\n",
      "2078 : ['What causes Higgs boson to have a mean lifetime of 1e-05?']\n",
      "2079 : ['Which is the inscription for Le Déjeuner sur lherbe?']\n",
      "2080 : ['Who gave the {prequel of} of {location of narrative} of {Candide} ?']\n"
     ]
    },
    {
     "name": "stdout",
     "output_type": "stream",
     "text": [
      "2081 : ['WHAT IS THE NEUTRON NUMBER OF SILVER?']\n"
     ]
    },
    {
     "name": "stdout",
     "output_type": "stream",
     "text": [
      "2082 : ['Who left the Neymar sports team on 8-3-2017?']\n",
      "2083 : ['Which is the Butterflies and Moths of North America ID for Geometridae?']\n"
     ]
    },
    {
     "name": "stdout",
     "output_type": "stream",
     "text": [
      "2084 : ['Who is with Mel Gibson and when does it start?']\n",
      "2085 : ['What is the leaf material used for ?']\n"
     ]
    },
    {
     "name": "stdout",
     "output_type": "stream",
     "text": [
      "2086 : ['How was the population of the Los Rios Region determined to be 380131?']\n"
     ]
    },
    {
     "name": "stdout",
     "output_type": "stream",
     "text": [
      "2087 : ['Was John Candy a member of the Canadian Walk of Fame and a recipient of a Canadian Comedy award?']\n",
      "2088 : ['Which funicular has the smallest maximum gradient?']\n"
     ]
    },
    {
     "name": "stdout",
     "output_type": "stream",
     "text": [
      "2089 : ['when did george orwell receive the award for his work Animal farm?']\n"
     ]
    },
    {
     "name": "stdout",
     "output_type": "stream",
     "text": [
      "2090 : ['who has administrative divisions of neighborhood of eastern front ?']\n"
     ]
    },
    {
     "name": "stdout",
     "output_type": "stream",
     "text": [
      "2091 : ['Who is in the administrative unit of Cilegon whose Wikivoyage banner is Banten region banner.jpg?']\n",
      "2092 : ['Tell me which train service that is operated by Compagnie Internationale des Wagons-Lits and that contains the word express in its name?']\n",
      "2093 : ['Is the takeoff roll on the Airbus A400M less than 752?']\n"
     ]
    },
    {
     "name": "stdout",
     "output_type": "stream",
     "text": [
      "2094 : ['In what year did Bruce Willis win a Primetime Emmy Award for Outstanding Lead Actor in a Drama Series?']\n",
      "2095 : ['In what year was Grand Theft Auto developed?']\n"
     ]
    },
    {
     "name": "stdout",
     "output_type": "stream",
     "text": [
      "2096 : ['Was Rafael Nadal nominated for Best Male Athlete ESPY Award?']\n",
      "2097 : ['What Wikimedia article lists Paris monuments?']\n"
     ]
    },
    {
     "name": "stdout",
     "output_type": "stream",
     "text": [
      "2098 : ['When was Leonardo DiCaprio nominated for the Academy Award for Best Actor.']\n",
      "2099 : ['who co-founded by of label of scotty mcCreery ?']\n"
     ]
    },
    {
     "name": "stdout",
     "output_type": "stream",
     "text": [
      "2100 : ['How many students attend Aix-Marseille University?']\n",
      "2101 : ['Who was the spouse of Honoré de Balzac in the year 1850?']\n"
     ]
    },
    {
     "name": "stdout",
     "output_type": "stream",
     "text": [
      "2102 : ['did Tbilisi ended his government in 2004-4-19?']\n",
      "2103 : ['What is the SI derived unit for the measured physical quantity of density?']\n",
      "2104 : ['Who is the {discography} for {discography} of {Yo-Yo Ma}']\n"
     ]
    },
    {
     "name": "stdout",
     "output_type": "stream",
     "text": [
      "2105 : ['Who was Alexander Dovzhenkos spouse when their marriage ended on 25th November 1956?']\n",
      "2106 : ['What is the cell component of cholesterol?']\n"
     ]
    },
    {
     "name": "stdout",
     "output_type": "stream",
     "text": [
      "2107 : ['How many matches, points,goals, and set pace goals does sala have with real madrid']\n",
      "2108 : ['How many people are appointed by the pope?']\n",
      "2109 : ['Is it true that the prize money of the Aleksis Kivi Award is 150000?']\n"
     ]
    },
    {
     "name": "stdout",
     "output_type": "stream",
     "text": [
      "2110 : ['Who are Paul McCartneys sons and daughters.']\n",
      "2111 : ['What award did Park Sung-Hyun win for taking part of the Archery World Cup?']\n"
     ]
    },
    {
     "name": "stdout",
     "output_type": "stream",
     "text": [
      "2112 : ['Which play in the Rugby League World Cup has made use of the rugby league ball?']\n",
      "2113 : ['What are the orthologs of genetic association of amytrophic lateral sclerosis?']\n"
     ]
    },
    {
     "name": "stdout",
     "output_type": "stream",
     "text": [
      "2114 : ['What award did Olafur Eliasson receive in 2014?']\n",
      "2115 : ['Who employed J.R.R. Tolkien']\n",
      "2116 : ['Who is the performer of the Japaneses Samus Aran?']\n"
     ]
    },
    {
     "name": "stdout",
     "output_type": "stream",
     "text": [
      "2117 : ['What are the game of skill  which start with the letter t']\n",
      "2118 : ['Is it true that the vehicle range of H120 Colibri is less than 459.6?']\n"
     ]
    },
    {
     "name": "stdout",
     "output_type": "stream",
     "text": [
      "2119 : ['What area of law starts with l?']\n",
      "2120 : ['Was American_Idol presenter Ryan Seacrest and Brian Dunkleman?']\n",
      "2121 : ['What was Eyvind Johnson nominated for in 1963?']\n",
      "2122 : ['How many parent peaks does Ben Nevis have?']\n"
     ]
    },
    {
     "name": "stdout",
     "output_type": "stream",
     "text": [
      "2123 : ['What is the birthplace of Yi Xing, that borders Anhui.']\n"
     ]
    },
    {
     "name": "stdout",
     "output_type": "stream",
     "text": [
      "2124 : ['Tell me the male organ that has lymphatic drainage of the Lumbar lymph nodes and contains the word testicle in its name.']\n",
      "2125 : ['IS THE TIME IN SPACE OF CATHERINE COLEMAN EQUALS TO 207552.O']\n",
      "2126 : ['What position did Ahmad ibn Ibrihim al-Ghazi hold beginning in 1526?']\n"
     ]
    },
    {
     "name": "stdout",
     "output_type": "stream",
     "text": [
      "2127 : ['Where was Intel formed and where is the administrative territorial entity located?']\n",
      "2128 : ['Where does the sonata come from?']\n"
     ]
    },
    {
     "name": "stdout",
     "output_type": "stream",
     "text": [
      "2129 : ['Which is after a work by Stanisława Przybyszewska?']\n",
      "2130 : ['when is the {point in time} for {Jawaharlal Nehru} who {nominated for} as {Nobel Peace Prize} ?']\n",
      "2131 : ['Which is the Hans Christian Andersen Centre work ID of The Little Mermaid?']\n"
     ]
    },
    {
     "name": "stdout",
     "output_type": "stream",
     "text": [
      "2132 : ['In what position did Arthur Henderson replace Austen Chamberlain?']\n",
      "2133 : ['Where is the aerodrome reference point at Hiroshima?']\n",
      "2134 : ['What position did Andrea Mantega hold in 1460?']\n"
     ]
    },
    {
     "name": "stdout",
     "output_type": "stream",
     "text": [
      "2135 : ['How many power plants use two-stroke engines?']\n",
      "2136 : ['What geographical feature in Honshu is located at 39.533333333333 142.06666666667?']\n"
     ]
    },
    {
     "name": "stdout",
     "output_type": "stream",
     "text": [
      "2137 : ['Who is the publisher and illustrator of The Little Prince?']\n"
     ]
    },
    {
     "name": "stdout",
     "output_type": "stream",
     "text": [
      "2138 : ['Which is the Catalan Biographical Dictionary of Women ID for Alicia de Larrocha?']\n",
      "2139 : ['What is angular diameter for  Sun ?']\n"
     ]
    },
    {
     "name": "stdout",
     "output_type": "stream",
     "text": [
      "2140 : ['Are the total assets of the Zlin Aircraft equal to 291600000?']\n",
      "2141 : ['Who is the Director of Photography and the Director of Blade Runner?']\n"
     ]
    },
    {
     "name": "stdout",
     "output_type": "stream",
     "text": [
      "2142 : ['when did charles mingus jr received the grammy hall of fame award?']\n",
      "2143 : ['Where is Sullivan Glacier island located?']\n"
     ]
    },
    {
     "name": "stdout",
     "output_type": "stream",
     "text": [
      "2144 : ['Who is the Chief Executive officer of BNP Paribas at its beginning time 1st Dec 2011?']\n",
      "2145 : ['Kanishka held what position until when?']\n",
      "2146 : ['What is the used language of Latin literature whose case is ablative case?']\n"
     ]
    },
    {
     "name": "stdout",
     "output_type": "stream",
     "text": [
      "2147 : ['Is the Gini coefficient of the USA less than 41.52?']\n",
      "2148 : ['Chris Froome has how many points classifications?']\n"
     ]
    },
    {
     "name": "stdout",
     "output_type": "stream",
     "text": [
      "2149 : ['Which is the consumption rate per capital of petroleum?']\n",
      "2150 : ['What petroleum product has the lowest consumption rate?']\n"
     ]
    },
    {
     "name": "stdout",
     "output_type": "stream",
     "text": [
      "2151 : ['When was Wendy Wasserstein received the William Inge Theatre Festival Distinguised Achievement in the American Theatre Award?']\n",
      "2152 : ['Where is the location of death of John Dowland whose zipcode is BR?']\n"
     ]
    },
    {
     "name": "stdout",
     "output_type": "stream",
     "text": [
      "2153 : ['When did John Wooden receive the Sports Illustrated Sportsperson of the Year award?']\n"
     ]
    },
    {
     "name": "stdout",
     "output_type": "stream",
     "text": [
      "2154 : ['What are the data serialization format that contains the word yaml in their name']\n"
     ]
    },
    {
     "name": "stdout",
     "output_type": "stream",
     "text": [
      "2155 : ['Is the maximum age of compulsory education in Sweden equal to 16 ?']\n"
     ]
    },
    {
     "name": "stdout",
     "output_type": "stream",
     "text": [
      "2156 : ['What literary work follows the book of Exodus?']\n",
      "2157 : ['Tell me archaeological site whose name has the word tripolis in it.']\n"
     ]
    },
    {
     "name": "stdout",
     "output_type": "stream",
     "text": [
      "21582159 : ['What is the cat films shot of One Flew Over the Cuckoos Nest?']\n",
      "2160 : ['What are the Mahavidya which start with the letter t']\n",
      " : ['What is the highest position in the Greater London administrative body ?']\n"
     ]
    },
    {
     "name": "stdout",
     "output_type": "stream",
     "text": [
      "2161 : ['Which means {instrument} for {harmonica} ?']\n",
      "2162 : ['What subclass model of spaceship has the longest shelf life?']\n"
     ]
    },
    {
     "name": "stdout",
     "output_type": "stream",
     "text": [
      "2163 : ['Which is the chronology topic of the location in the administrative territorial entity of Grace Episcopal Church?']\n",
      "2164 : ['Is the observing time available for the Very Large Telescope less than 272.0?']\n",
      "2165 : ['Which is Models.com person ID for Viola Davis?']\n",
      "2166 : ['How many number of wins in this tournament?']\n"
     ]
    },
    {
     "name": "stdout",
     "output_type": "stream",
     "text": [
      "2167 : ['who citrate anion for conjugate base of citric acid?']\n",
      "2168 : ['In the field of screenplays, what is Steve Gerbers craft?']\n",
      "2169 : ['What is the location of birth of Bob Weinstein, who has a PIN Code of 11100-11499?']\n"
     ]
    },
    {
     "name": "stdout",
     "output_type": "stream",
     "text": [
      "2170 : ['Which is the NASA biographical ID for Gordon Cooper?']\n",
      "2171 : ['Where did David Livingstone die?']\n"
     ]
    },
    {
     "name": "stdout",
     "output_type": "stream",
     "text": [
      "2172 : ['Who is the {human} for {chief executive officer} of {Ford Motor Company}']\n",
      "2173 : ['what is the twitch game ID of Dota 2?']\n"
     ]
    },
    {
     "name": "stdout",
     "output_type": "stream",
     "text": [
      "2174 : ['What is the first human that starts with the letter p?']\n",
      "2175 : ['When was Joseph Stalins son Vasily Dzhugashvili born, and when did he die?']\n"
     ]
    },
    {
     "name": "stdout",
     "output_type": "stream",
     "text": [
      "2176 : ['For what Cyril Ramaphosa was in position held in the year 2018?']\n",
      "2177 : ['Which is the category for employees of the organization of the National Autonomous University of Mexico?']\n"
     ]
    },
    {
     "name": "stdout",
     "output_type": "stream",
     "text": [
      "2178 : ['how much was solved by leonhard euler?']\n",
      "2179 : ['What start time does Cornelis Drebbel have for working in Haarlem?']\n"
     ]
    },
    {
     "name": "stdout",
     "output_type": "stream",
     "text": [
      "2180 : ['Which President of the United States was James A. Garfield?']\n"
     ]
    },
    {
     "name": "stdout",
     "output_type": "stream",
     "text": [
      "2181 : ['When did Anni-Frid Lyngstad marry Prince Heinrich Ruzzo Reuss of Plauen?']\n",
      "2182 : ['which institution that starts with the letter r']\n",
      "2183 : ['Is the shear modulus of polyethylene equal to 93.6?']\n"
     ]
    },
    {
     "name": "stdout",
     "output_type": "stream",
     "text": [
      "2184 : ['who is the animated feature film for narrator of david Spade?']\n"
     ]
    },
    {
     "name": "stdout",
     "output_type": "stream",
     "text": [
      "2185 : ['How many home ports are by the Southhamptons?']\n",
      "2186 : ['Which is the soft drink, manufactured by the Coca Cola Company?']\n",
      "2187 : ['Where was the Frantisek Kupka burried whose catalog code is 22696']\n",
      "2188 : ['Who is the child of Philip II of France and when was he/she born?']\n"
     ]
    },
    {
     "name": "stdout",
     "output_type": "stream",
     "text": [
      "2189 : ['What are the world day which start with the letter n']\n",
      "2190 : ['Which is the Ethnologue language status for Esperanto?']\n",
      "2191 : ['What is the record label that 50 Cent belongs to called']\n"
     ]
    },
    {
     "name": "stdout",
     "output_type": "stream",
     "text": [
      "2192 : ['When did Billie Jean King receive her award as a Library of Congress Living Legend?']\n",
      "2193 : ['IS THE SUBLIMATION TEMPERTATURE OF THE SYNTHETIC GRAPHITE GREATER THAN 7922.4']\n",
      "2194 : ['Is 275-9-0 the end time for the position held by Aurelian?']\n"
     ]
    },
    {
     "name": "stdout",
     "output_type": "stream",
     "text": [
      "2195 : ['What government was in charge of Hosni Mubaraks sentence?']\n",
      "2196 : ['Tell me artistic theme whose name has the word theotokos in it.']\n",
      "2197 : ['What is the { end time } for { the Daily Show } as { Rachael Harris } has { cast member }?']\n"
     ]
    },
    {
     "name": "stdout",
     "output_type": "stream",
     "text": [
      "2198 : ['Is Lucille Ball a child of Desi Arnaz, Jr.?']\n",
      "2199 : ['How many have the facet polytope {rectangle} ?']\n",
      "2200 : ['What timezone has the largest UTC offset?']\n"
     ]
    },
    {
     "name": "stdout",
     "output_type": "stream",
     "text": [
      "2201 : ['What position does Lady Jane Grey hold in the Kindom of England?']\n",
      "2202 : ['What style of architecture is Geraldine Page?']\n",
      "2203 : ['When was Xi Jinping educated in year 1975?']\n"
     ]
    },
    {
     "name": "stdout",
     "output_type": "stream",
     "text": [
      "2204 : ['What is character role of Turandot ?']\n"
     ]
    },
    {
     "name": "stdout",
     "output_type": "stream",
     "text": [
      "2205 : ['Which is Australian Statistical Geography 2011 ID for Hobart?']\n"
     ]
    },
    {
     "name": "stdout",
     "output_type": "stream",
     "text": [
      "2206 : ['Which is the approximation algorithm of pi?']\n",
      "2207 : ['What position is held by James Callaghan and when was he elected?']\n"
     ]
    },
    {
     "name": "stdout",
     "output_type": "stream",
     "text": [
      "2208 : ['What goddess was from the Inca Empire?']\n",
      "2209 : ['Who was stepparent of Emperor Wu of Liu Song?']\n"
     ]
    },
    {
     "name": "stdout",
     "output_type": "stream",
     "text": [
      "2210 : ['What is the formation of Zero Mostel with subsidiary company in the United States Army Human Resources Command?']\n",
      "2211 : ['Who replaced Albert Gallatin as the United States senator?']\n"
     ]
    },
    {
     "name": "stdout",
     "output_type": "stream",
     "text": [
      "2212 : ['Who was the head of State of Georgia on January 25th, 2004?']\n",
      "2213 : ['WHICH IS THE MANTRA THAT IS THE FACET OF HINDUISM AND WHICH STARTS WITH G']\n",
      "2214 : ['who leader  of awards of cliff robinson ?']\n",
      "2215 : ['Is Martin Luther a son of Magdalena Luther?']\n"
     ]
    },
    {
     "name": "stdout",
     "output_type": "stream",
     "text": [
      "2216 : ['What are the incorporation which start with the letter g']\n",
      "2217 : ['Which is the IUCN conservation status for Equus ferus przewalskii?']\n",
      "2218 : ['Which is the shooting handedness for Mario Lemieux?']\n",
      "2219 : ['Who has a tomb in All Saints Church and wrote Ninety-five Theses?']\n",
      "2220 : ['How many countries are next to Luxembourg?']\n"
     ]
    },
    {
     "name": "stdout",
     "output_type": "stream",
     "text": [
      "2221 : ['What is Q48460 of  the antonym  of virtue ?']\n",
      "2222 : ['what is the speed of sound of a nitric oxide at a temperature of 10 degree celcius?']\n",
      "2223 : ['Tell me the historical language that contains the word ancient in its name and that has the grammatical feminine gender.']\n",
      "2224 : ['What is the Hebrew writing system']\n"
     ]
    },
    {
     "name": "stdout",
     "output_type": "stream",
     "text": [
      "2225 : ['What was the award received by Anne, Princess Royal that is point in time was 1969-0-0?']\n"
     ]
    },
    {
     "name": "stdout",
     "output_type": "stream",
     "text": [
      "2226 : ['When is Louis Leakey received award of Hubbard Medal']\n",
      "2227 : ['What is {date of death} of {Al-Nawawi}? That is {instance of} is {statement with Gregorian date earlier than 1584}?']\n"
     ]
    },
    {
     "name": "stdout",
     "output_type": "stream",
     "text": [
      "2228 : ['For which song did Hayley Williams receive the Grammy Award for Best Rock Song?']\n"
     ]
    },
    {
     "name": "stdout",
     "output_type": "stream",
     "text": [
      "2229 : ['Who gave the  {has states} of {deathplace} of {Pyotr Zakharov-Chechenets} ?']\n",
      "2230 : ['What is the irritant with enthalpy of vaporization?']\n"
     ]
    },
    {
     "name": "stdout",
     "output_type": "stream",
     "text": [
      "2231 : ['Jon Voight was nominated for what award for his work on Anaconda?']\n"
     ]
    },
    {
     "name": "stdout",
     "output_type": "stream",
     "text": [
      "2232 : ['Name the flavored tea named after Charles Grey that contains the word earl in its name']\n",
      "2233 : ['What is the PTSD treatment medicine?']\n",
      "2234 : ['which doctrine starts with the letter t']\n"
     ]
    },
    {
     "name": "stdout",
     "output_type": "stream",
     "text": [
      "2235 : ['WHERE AMONG THE DIVISIONS OF SOUTH HOLLAND IS STREEFKERK']\n",
      "2236 : ['What educational institution did Wilhelm Rontgen start at on 4-1-1872?']\n"
     ]
    },
    {
     "name": "stdout",
     "output_type": "stream",
     "text": [
      "2237 : ['What award John Berryman received at 1969-1-1?']\n"
     ]
    },
    {
     "name": "stdout",
     "output_type": "stream",
     "text": [
      "2238 : ['which record did pole vault hold and which is the height?']\n"
     ]
    },
    {
     "name": "stdout",
     "output_type": "stream",
     "text": [
      "2239 : ['Who has the daughter and son of Aglaé Auguié ?']\n",
      "2240 : ['Where is the birth place of Arnold Rothstein during the time Ardolph L. Kline was head of the National Guard?']\n",
      "2241 : ['Is the right ascension of the Sh2-308 greater than 82.84?']\n"
     ]
    },
    {
     "name": "stdout",
     "output_type": "stream",
     "text": [
      "2242 : ['Where is {work location} of {William Beveridge}, that has {PIN Code} is {SW3 6RS} ?']\n",
      "2243 : ['What is the country code and internet domain of the European Union?']\n"
     ]
    },
    {
     "name": "stdout",
     "output_type": "stream",
     "text": [
      "2244 : ['Which sources can be cited to place Roger Bacons birth in 1219?']\n"
     ]
    },
    {
     "name": "stdout",
     "output_type": "stream",
     "text": [
      "2245 : ['What year was Nicki Minaj  nominated a Grammy Award for the Album of the year?']\n"
     ]
    },
    {
     "name": "stdout",
     "output_type": "stream",
     "text": [
      "2246 : ['Which member of the sports team Ian Botham left in 1988?']\n",
      "2247 : ['Is the suicide rate of Nigeria more than 7.6?']\n"
     ]
    },
    {
     "name": "stdout",
     "output_type": "stream",
     "text": [
      "2248 : ['Did King Charles I of England and  King Louis XIII of France rule twenty years apart?']\n",
      "2249 : ['What twin city of Buenos Aires did John Nevil Maskelyne die in?']\n",
      "2250 : ['What did Nick Faldo discover or invent?']\n"
     ]
    },
    {
     "name": "stdout",
     "output_type": "stream",
     "text": [
      "2251 : ['What are the standards developing organisation of IEEE 1394, that have subsidiary entities of IEEE Nuclear and Plasma Sciences Society?']\n",
      "2252 : ['In which major city is Urdu the official language?']\n"
     ]
    },
    {
     "name": "stdout",
     "output_type": "stream",
     "text": [
      "2253 : ['Who is {chairperson} and {member of} {Popular Unity} ?']\n"
     ]
    },
    {
     "name": "stdout",
     "output_type": "stream",
     "text": [
      "2254 : ['What is Mathematical Reviews ID for Gérard Debreu ?']\n",
      "2255 : ['when did receive the award of Golden Hocky Stick?']\n"
     ]
    },
    {
     "name": "stdout",
     "output_type": "stream",
     "text": [
      "2256 : ['In the Diocese of Lapua, which church is the smallest in capacity?']\n"
     ]
    },
    {
     "name": "stdout",
     "output_type": "stream",
     "text": [
      "2257 : ['What is the capital of Ōtsu?']\n",
      "2258 : ['Is Roseanne Barr a member of the political party the Republican Party and the Republican Governors Association?']\n",
      "2259 : ['What sovereign state did Twenty Thousand Leagues Under the Sea take place in?']\n"
     ]
    },
    {
     "name": "stdout",
     "output_type": "stream",
     "text": [
      "2260 : ['what is the series ordinal for Rainer Maria Rilke has name as Karl ?']\n"
     ]
    },
    {
     "name": "stdout",
     "output_type": "stream",
     "text": [
      "2261 : ['Tell me the activity which has social control as fabrication method and contains the word management in its name?']\n",
      "2262 : ['What is PRDL ID for Santo Tomás de Aquinas?']\n"
     ]
    },
    {
     "name": "stdout",
     "output_type": "stream",
     "text": [
      "2263 : ['Who is the  {Wikidata qualifier} for {subject item of this property} of {syntax}']\n",
      "2264 : ['With a population of 434516, what is the capital of Majorca?']\n",
      "2265 : ['What is the type of architecture in the stadium that held the 1902 All England Badminton Championships -- Womens doubles?']\n"
     ]
    },
    {
     "name": "stdout",
     "output_type": "stream",
     "text": [
      "2266 : ['How was the population of Tolyatti determined to be 6381.0?']\n"
     ]
    },
    {
     "name": "stdout",
     "output_type": "stream",
     "text": [
      "2267 : ['What is the population of Timisoara that is determined by the questionnaire?']\n",
      "2268 : ['What award was Gerard Depardieu nominated for his work of Camille Claudel?']\n"
     ]
    },
    {
     "name": "stdout",
     "output_type": "stream",
     "text": [
      "2269 : ['What is the AFI Catalog of Feature Films ID of the movie Raiders of the Lost Ark?']\n",
      "2270 : ['When is {diplomatic relation} with {nationality} of {Usher} ?']\n",
      "2271 : ['what were the architecture  firm of  home water of  boston  celitics/']\n"
     ]
    },
    {
     "name": "stdout",
     "output_type": "stream",
     "text": [
      "2272 : ['What is the sub-item of the History of engineering, that has the same name as the technique?']\n",
      "2273 : ['Tell me the pair of enantiomers that are a disjoin union of list values as qualifiers that contain the word nicotine in their name?']\n",
      "2274 : ['when was the end of the relationship between Gore Vidal and Howard Austen?']\n"
     ]
    },
    {
     "name": "stdout",
     "output_type": "stream",
     "text": [
      "2275 : ['How many goals did Garrincha score?']\n",
      "2276 : ['How many countries have been renamed after the collapse of the Soviet Union?']\n"
     ]
    },
    {
     "name": "stdout",
     "output_type": "stream",
     "text": [
      "22772278 : ['Is -306 the melting point of propane?']\n",
      " : ['Who is the head of government of Delaware?']\n"
     ]
    },
    {
     "name": "stdout",
     "output_type": "stream",
     "text": [
      "2279 : ['What is the population of Yokohama in 2018?']\n"
     ]
    },
    {
     "name": "stdout",
     "output_type": "stream",
     "text": [
      "2280 : ['What is time zone of subitem of of history of Lithuania?']\n"
     ]
    },
    {
     "name": "stdout",
     "output_type": "stream",
     "text": [
      "2281 : ['What is Newtons law of cooling named after, that was born in Parnu?']\n"
     ]
    },
    {
     "name": "stdout",
     "output_type": "stream",
     "text": [
      "2282 : ['Tell me about the television program WWE and its production company.']\n"
     ]
    },
    {
     "name": "stdout",
     "output_type": "stream",
     "text": [
      "2283 : ['What is MessesInfo ID for Notre Dame de Paris ?']\n",
      "2284 : ['What divisions are directed by the United Nations Secretary-General?']\n"
     ]
    },
    {
     "name": "stdout",
     "output_type": "stream",
     "text": [
      "2285 : ['What is a phase change that starts with the letter s.']\n",
      "2286 : ['Who is the father of Nefertiti?']\n"
     ]
    },
    {
     "name": "stdout",
     "output_type": "stream",
     "text": [
      "2287 : ['Which people are associated with the civilisation of Hadrians Wall?']\n",
      "2288 : ['who treated by of method of murder of mohammed rafi?']\n"
     ]
    },
    {
     "name": "stdout",
     "output_type": "stream",
     "text": [
      "2289 : ['What are the results of the iPod Touch 6 developers?']\n",
      "2290 : ['What is the earliest known sport in Scotland?']\n",
      "2291 : ['Is Gwen Stefanis given name Belinda?']\n",
      "2292 : ['In what year did Uma Thurman marry Ethan Hawke?']\n"
     ]
    },
    {
     "name": "stdout",
     "output_type": "stream",
     "text": [
      "2293 : ['What is known   writer of Shakespeares sonnets ?']\n",
      "2294 : ['Of what nation is Ajay Devgan a citizen?']\n",
      "2295 : ['What is the time zone in Oxford?']\n"
     ]
    },
    {
     "name": "stdout",
     "output_type": "stream",
     "text": [
      "2296 : ['Tell me {city of India} which start with the letter w']\n"
     ]
    },
    {
     "name": "stdout",
     "output_type": "stream",
     "text": [
      "2297 : ['Did the brother of Frederick IV, Duke of Austria have any children?']\n",
      "2298 : ['Tell me the CGNDB Unique ID of the Saskatchewan River?']\n",
      "2299 : ['Who owns and founded the company JPMorgan Chase?']\n"
     ]
    },
    {
     "name": "stdout",
     "output_type": "stream",
     "text": [
      "2300 : ['Who is the employer and position of Gabriel Fauré?']\n",
      "2301 : ['Provide the information of Mimas orbits?']\n"
     ]
    },
    {
     "name": "stdout",
     "output_type": "stream",
     "text": [
      "2302 : ['When was Diana Ross inducted into the Michigan Womens Hall of Fame?']\n",
      "2303 : ['Who gave the{product of} of {series} of {Honda RC174} ?']\n",
      "2304 : ['Is Uruguays minimum age for compulsory education the number 6?']\n",
      "2305 : ['Which is the currency symbol description for Australian dollar?']\n"
     ]
    },
    {
     "name": "stdout",
     "output_type": "stream",
     "text": [
      "2306 : ['Name the Original Public Ivy led by a chancellor that contains the word Carolina in its name']\n",
      "2307 : ['Where was Harambe, the gorilla, kept?']\n",
      "2308 : ['Where was Brain Johnson born and where is his citizenship?']\n"
     ]
    },
    {
     "name": "stdout",
     "output_type": "stream",
     "text": [
      "23092310 : ['Which is the association of the chairperson Thomas Bach that contains the word committee in its name?']\n",
      " : ['What person holding an honorary title was the Nobel prize in Physics for the becquerel named after?']\n",
      "2311 : ['In what year did Raghuram Rajan receive the Fischer Black Prize?']\n",
      "2312 : ['What is Claude Shannons major?']\n"
     ]
    },
    {
     "name": "stdout",
     "output_type": "stream",
     "text": [
      "2313 : ['Which result belongs to AT&T Laboratories?']\n",
      "2314 : ['When did Pedro Martinez stop playing for the Boston Red Sox?']\n",
      "2315 : ['Who is the chef-lieu of the Deccan sultanates?']\n",
      "2316 : ['How many demonyms are there for Africa?']\n"
     ]
    },
    {
     "name": "stdout",
     "output_type": "stream",
     "text": [
      "2317 : ['Who is the spouse of Erich Honecker in the series ordinal 3?']\n",
      "2318 : ['Which are the afflicts that has a result of ethylene glycol?']\n"
     ]
    },
    {
     "name": "stdout",
     "output_type": "stream",
     "text": [
      "2319 : ['Which is a Index Fungorum ID of Neurospora crassa?']\n"
     ]
    },
    {
     "name": "stdout",
     "output_type": "stream",
     "text": [
      "2320 : ['What was Melinda Gates academic major and degree when she studied at Duke University?']\n",
      "2321 : ['Who is the son of the brother of Murray Guggenheim?']\n"
     ]
    },
    {
     "name": "stdout",
     "output_type": "stream",
     "text": [
      "23222323 : ['Who is the stepparent of Ludwig von Mises?']\n",
      " : ['Which is the state and country of the Watergate scandal?']\n",
      "2324 : ['Who replaced Benazir Bhutto as Prime Minister of Pakistan?']\n"
     ]
    },
    {
     "name": "stdout",
     "output_type": "stream",
     "text": [
      "2325 : ['Which unit of pressure has maximum conversion to standard unit?']\n",
      "2326 : ['Tell me bell tower whose name has the word tower in it.']\n"
     ]
    },
    {
     "name": "stdout",
     "output_type": "stream",
     "text": [
      "2327 : ['What are the phonetic alphabet which start with the letter t']\n"
     ]
    },
    {
     "name": "stdout",
     "output_type": "stream",
     "text": [
      "2328 : ['Tell me the branch of biology that contains the word virology in their name']\n",
      "2329 : ['Where is {place of residence} of {Ewan McGregor}, whhich has {subdivided into} is {Alhambra} ?']\n"
     ]
    },
    {
     "name": "stdout",
     "output_type": "stream",
     "text": [
      "2330 : ['What is the number of manufacturers held by Daimler AG?']\n",
      "2331 : ['Edmund Gwenn was an English actor. On film, he is perhaps best remembered for his role as ... Old Bill, M.P. (1922); Christian Veit in Lilac Time (1922–23); the title role in A. A. Milnes The Great Broxoff (1923); ... Gwenn has a star on the Hollywood Walk of Fame at 1751 Vine Street for his contribution to motion pictures.']\n",
      "2332 : ['Since 2016-1-1, what shares a border with Ile-de-France?']\n"
     ]
    },
    {
     "name": "stdout",
     "output_type": "stream",
     "text": [
      "2333 : ['Tell me about cola for product or material produced of The Coca-Cola Company?']\n",
      "2334 : ['Is the VAT-rate of South Korea equal to 10?']\n",
      "2335 : ['What is the earliest date for John the Baptists death in the year 30?']\n",
      "2336 : ['What is the received signal type of Gaia?']\n"
     ]
    },
    {
     "name": "stdout",
     "output_type": "stream",
     "text": [
      "2337 : ['What cellular component has the word vesicle in its name?']\n",
      "2338 : ['What name is given for the least bite force in Ottos encyclopedia?']\n"
     ]
    },
    {
     "name": "stdout",
     "output_type": "stream",
     "text": [
      "2339 : ['What is Flora of Chinas ID for Citrus ×limon?']\n",
      "2340 : ['Was Srinivasa Ramanujans field of work number theory?']\n"
     ]
    },
    {
     "name": "stdout",
     "output_type": "stream",
     "text": [
      "2341 : ['What is Joy Divisions country of origin and what is her genre?']\n",
      "2342 : ['How many lingual works are told by Esperanto?']\n"
     ]
    },
    {
     "name": "stdout",
     "output_type": "stream",
     "text": [
      "2343 : ['In which time zone is Newcastle upon Tyne located?']\n"
     ]
    },
    {
     "name": "stdout",
     "output_type": "stream",
     "text": [
      "2344 : ['When was Whoopi Goldberg has received award for British Academy of Film and Television Arts?']\n",
      "2345 : ['What insectiside which contains phosphorus has the highest melting point?']\n"
     ]
    },
    {
     "name": "stdout",
     "output_type": "stream",
     "text": [
      "2346 : ['What is the name of the publisher and publication date of Christopher Hitchenss notable work Morality?']\n",
      "2347 : ['What is the MetaboLights Compound ID of Atropine?']\n"
     ]
    },
    {
     "name": "stdout",
     "output_type": "stream",
     "text": [
      "2348 : ['Who was Ruby Dees spouse when their marriage ended in 2005?']\n",
      "2349 : ['What award Roald Dahl received on 1984?']\n"
     ]
    },
    {
     "name": "stdout",
     "output_type": "stream",
     "text": [
      "2350 : ['Who is the  {chemical compound} for {significant drug interaction} of {(RS)-methadone}']\n",
      "2351 : ['Which is the MovieMeter Movie ID of The Wizard of Oz?']\n",
      "2352 : ['What award did Susan Sarandon receive in the year 1994?']\n"
     ]
    },
    {
     "name": "stdout",
     "output_type": "stream",
     "text": [
      "2353 : ['Which is the sexual orientation for asexuality?']\n"
     ]
    },
    {
     "name": "stdout",
     "output_type": "stream",
     "text": [
      "2354 : ['Who is the record producer of The Dark Knight Rises?']\n"
     ]
    },
    {
     "name": "stdout",
     "output_type": "stream",
     "text": [
      "2355 : ['What is a significant universal event?']\n",
      "2356 : ['What island is farthest from the river mouth?']\n"
     ]
    },
    {
     "name": "stdout",
     "output_type": "stream",
     "text": [
      "2357 : ['What is the award received by Amnesty International and the amount of the prize money?']\n",
      "2358 : ['Who is the leader of Qantas?']\n",
      "2359 : ['What is license of iTunes ?']\n"
     ]
    },
    {
     "name": "stdout",
     "output_type": "stream",
     "text": [
      "2360 : ['What is Isiah Thomas team position and specialty and participation?']\n"
     ]
    },
    {
     "name": "stdout",
     "output_type": "stream",
     "text": [
      "2361 : ['Which is the ancient civilization in the time period of Ancient Near East and whose name contains the word summer in its name?']\n",
      "2362 : ['Which is the form of currency of renminbi?']\n",
      "2363 : ['Who was the spouse of Ilona Staller at the beginning of 1991?']\n",
      "2364 : ['Whre does Akhenaten died?']\n",
      "2365 : ['What is the local authority for Greater London?']\n"
     ]
    },
    {
     "name": "stdout",
     "output_type": "stream",
     "text": [
      "2366 : ['What Academy Awards was Ron Howard nominated for?']\n"
     ]
    },
    {
     "name": "stdout",
     "output_type": "stream",
     "text": [
      "2367 : ['Who gave the {subsidiary} of {previous is} of {Académie des Beaux-Arts} ?']\n",
      "2368 : ['Which is the league level above the Ligue 1?']\n",
      "2369 : ['In what branch of Chemistry would you study the properties of peat?']\n"
     ]
    },
    {
     "name": "stdout",
     "output_type": "stream",
     "text": [
      "2370 : ['Tell me biblical place whose name has the word zorah in it.']\n",
      "2371 : ['Which is the domain of saint or deity of Francis of Assisi?']\n",
      "2372 : ['Name a group of programming languages that contains the word linux  in its name']\n"
     ]
    },
    {
     "name": "stdout",
     "output_type": "stream",
     "text": [
      "2373 : ['Who is {field} {partners} of {Richard Banda} ?']\n",
      "2374 : ['who married to of  daughter o of Constantine VII ?']\n",
      "2375 : ['For what musical work did Nine Inch Nails receive a nomination for a Grammy Award for Best Alternative music Album?']\n",
      "2376 : ['Tell me freeway network whose name has the word system in it.']\n"
     ]
    },
    {
     "name": "stdout",
     "output_type": "stream",
     "text": [
      "2377 : ['Treaty of Versailles is the aftermath of which world war?']\n",
      "2378 : ['Who is the owner and member of Bono?']\n",
      "2379 : ['What is the zip code where Georges BIzet is buried?']\n"
     ]
    },
    {
     "name": "stdout",
     "output_type": "stream",
     "text": [
      "2380 : ['When did the Auschwitz concentration camp become Nazi concentration camp?']\n"
     ]
    },
    {
     "name": "stdout",
     "output_type": "stream",
     "text": [
      "2381 : ['When did James Prescott Joule receive an Albert Medal?']\n"
     ]
    },
    {
     "name": "stdout",
     "output_type": "stream",
     "text": [
      "2382 : ['Which is the city for the currency of the Russian ruble?']\n",
      "2383 : ['WHAT IS THE NUMBER OF POINTS AND NUMBER OF MATCHES PLAYED OF mALCOLM ALLISON HAS MEMEBER OF SPORTS TEAM AS CHARITON ATHLETIC F C']\n"
     ]
    },
    {
     "name": "stdout",
     "output_type": "stream",
     "text": [
      "2384 : ['Who is the {human} for {composer} of {My Fair Lady}']\n",
      "2385 : ['What is the name of the secondary national association football team for the Zinedine Zidane Team members?']\n",
      "2386 : ['Which is located and participated in the conflict of Thomas Blamey?']\n"
     ]
    },
    {
     "name": "stdout",
     "output_type": "stream",
     "text": [
      "2387 : ['What is the characters of the appears in of Stacy Warner ?']\n",
      "2388 : ['When did Henri Fréville become the head of government of Rennes?']\n"
     ]
    },
    {
     "name": "stdout",
     "output_type": "stream",
     "text": [
      "2389 : ['What are the opening and closing hours of the British Museum on Weekdays?']\n",
      "2390 : ['What award did Bob Cousy receive in 1961?']\n"
     ]
    },
    {
     "name": "stdout",
     "output_type": "stream",
     "text": [
      "2391 : ['Did Phil Hartman attend Santa Monica College and Manual Arts High School?']\n"
     ]
    },
    {
     "name": "stdout",
     "output_type": "stream",
     "text": [
      "2392 : ['What is the design of the satellite Jupiter Heliopolitanus?']\n",
      "2393 : ['ATP reacts with which protein?']\n"
     ]
    },
    {
     "name": "stdout",
     "output_type": "stream",
     "text": [
      "2394 : ['when was National Film Award for Best Screenplay  award received of the Arundhati Roy?']\n",
      "2395 : ['How many Feast Days are for Athanasius of Alexandria?']\n"
     ]
    },
    {
     "name": "stdout",
     "output_type": "stream",
     "text": [
      "2396 : ['What is cinematografo ID for Wallace Beery?']\n"
     ]
    },
    {
     "name": "stdout",
     "output_type": "stream",
     "text": [
      "2397 : ['What is opposite of reality ?']\n",
      "2398 : ['What is in conflict of armed with of A.100 ?']\n",
      "2399 : ['What was the immediate outcome  originating  from the Silvertown explosion?']\n"
     ]
    },
    {
     "name": "stdout",
     "output_type": "stream",
     "text": [
      "24002401 : ['Which is the antonym of the location of the moustache?']\n",
      "2402 : ['What is the Belgiums Enterprise number for the European Parliament?']\n",
      " : ['Who was the owner of Willie Nelsons guitar?']\n",
      "2403 : ['Who is the prime minister at admin HQ of the International Ice Hockey Federation?']\n",
      "2404 : ['how many courts does the supreme court of the united kingdom have?']\n",
      "2405 : ['What is on the Bay of Tsushima Island, that is a tributary of Iwaki River']\n"
     ]
    },
    {
     "name": "stdout",
     "output_type": "stream",
     "text": [
      "2406 : ['What is the end time for KWTO (AM)s Frank Peters Jr.?']\n"
     ]
    },
    {
     "name": "stdout",
     "output_type": "stream",
     "text": [
      "2407 : ['When is the season beginning for the ?']\n"
     ]
    },
    {
     "name": "stdout",
     "output_type": "stream",
     "text": [
      "2408 : ['What is the historical aspect of cryptography topic history?']\n",
      "2409 : ['GIVE ME THE PROPOSED AIRCRAFT WITH MOST WING AREA']\n",
      "2410 : ['Who gave the {titleholder} of {nomination received} of {Jennifer Capriati} ?']\n"
     ]
    },
    {
     "name": "stdout",
     "output_type": "stream",
     "text": [
      "2411 : ['Which monetary authority on the Singapore dollar has the lowest target interest rate ?']\n",
      "2412 : ['Is Colin Firth a sibling of Jonathan Firth and Kate Firth?']\n",
      "2413 : ['Who is the child of Pedro I and when was he born?']\n",
      "2414 : ['Is John Wayne and Marlene Dietricha a couple?']\n"
     ]
    },
    {
     "name": "stdout",
     "output_type": "stream",
     "text": [
      "2415 : ['What are the coordinates for the National Aeronautics and Space Administration that is headquartered in Washington, D.C.?']\n",
      "2416 : ['Which is the Model Manual ID for Cindy Crawford?']\n"
     ]
    },
    {
     "name": "stdout",
     "output_type": "stream",
     "text": [
      "2417 : ['What is the monument of Walter Scotts home?']\n",
      "2418 : ['Name a decimal classification that contains the word classification  in its name']\n"
     ]
    },
    {
     "name": "stdout",
     "output_type": "stream",
     "text": [
      "2419 : ['What is the capital of Paris?']\n",
      "2420 : ['What was the work of Francis Ford Coppola nominated as Academy Award for Best Director?']\n"
     ]
    },
    {
     "name": "stdout",
     "output_type": "stream",
     "text": [
      "2421 : ['What is the zipcode of Ludwig Mies van der Rohe?']\n",
      "2422 : ['Which is the clan for the family name of Genghis Khan?']\n",
      "2423 : ['What kind of employment do the spouses of Jussi Björling do?']\n"
     ]
    },
    {
     "name": "stdout",
     "output_type": "stream",
     "text": [
      "2424 : ['For which movie did Burl Ives receive the Academy Award for Best Supporting Actor?']\n",
      "2425 : ['Which company owns Burger King ?']\n"
     ]
    },
    {
     "name": "stdout",
     "output_type": "stream",
     "text": [
      "2426 : ['What is the head of states nationality of Francisco Serrao?']\n",
      "2427 : ['Who is the mother of Jesus Christ']\n"
     ]
    },
    {
     "name": "stdout",
     "output_type": "stream",
     "text": [
      "2428 : ['Was Donald Glover a screenwriter?']\n",
      "2429 : ['What is the opposite of a positron that is pulled by gravity?']\n",
      "2430 : ['Species. See text. Cupressus is one of several genera within the family Cupressaceae that have the common name cypress; for the others, see cypress. It is considered a polyphyletic group. Based on genetic and morphological analysis, the genus Cupressus is found in the subfamily Cupressoideae.']\n",
      "2431 : ['Which the venue of the bibliographic citation of the Toward a general psychobiological theory of emotions?']\n"
     ]
    },
    {
     "name": "stdout",
     "output_type": "stream",
     "text": [
      "2432 : ['Who is the executive director at Christopher Wylies company?']\n"
     ]
    },
    {
     "name": "stdout",
     "output_type": "stream",
     "text": [
      "2433 : ['Tell me which eau de vie contains the word williamine in its name?']\n",
      "2434 : ['when was   Ban Ki-moon has position held as United Nations Secretary-General ?']\n"
     ]
    },
    {
     "name": "stdout",
     "output_type": "stream",
     "text": [
      "2435 : ['What is the U.S. National Geodetic Survey ID of Mount Mitchell?']\n",
      "2436 : ['Who in San Cristóbal de La Laguna was chosen as register office?']\n"
     ]
    },
    {
     "name": "stdout",
     "output_type": "stream",
     "text": [
      "2437 : ['Which is the Deezer artist ID for Green Day?']\n",
      "2438 : ['What was Pearl Jam nominated for in their work in the The Fixer?']\n"
     ]
    },
    {
     "name": "stdout",
     "output_type": "stream",
     "text": [
      "2439 : ['When  did the Characters of mentioned in Batman ?']\n"
     ]
    },
    {
     "name": "stdout",
     "output_type": "stream",
     "text": [
      "2440 : ['What movie is named after Denzel Washington?']\n"
     ]
    },
    {
     "name": "stdout",
     "output_type": "stream",
     "text": [
      "2441 : ['What timeframe did Lucas Cranach, the Elder, work in Vienna?']\n"
     ]
    },
    {
     "name": "stdout",
     "output_type": "stream",
     "text": [
      "2442 : ['What is the asteroid with the lowest rotation period whose site of astronomical discovery is Bishop Observatory ?']\n",
      "2443 : ['Who is Pans Labyrinths make-up artist?']\n"
     ]
    },
    {
     "name": "stdout",
     "output_type": "stream",
     "text": [
      "2444 : ['Which is the review score for 12 Angry Men?']\n",
      "2445 : ['What basic emotion starts with the letter t?']\n"
     ]
    },
    {
     "name": "stdout",
     "output_type": "stream",
     "text": [
      "2446 : ['When was Ruhollah Khomeini, Supreme Leader of Iran, born, and when did he die?']\n",
      "2447 : ['What movable object located in Siege of Jerusalem has the legal name القدس?']\n",
      "2448 : ['Who were the members of the Lewis and Clark Expedition?']\n"
     ]
    },
    {
     "name": "stdout",
     "output_type": "stream",
     "text": [
      "2449 : ['Can the topic of Prajnaparamita be found on the Wikivoyage banner also known as Ho Chi Minh city banner Bai Buddhas.jpg?']\n",
      "2450 : ['Who is the wife of Pierre Curie that is married him in Sceaux?']\n"
     ]
    },
    {
     "name": "stdout",
     "output_type": "stream",
     "text": [
      "2451 : ['What is The Fleet of the Service Branch of Robert D. Russ?']\n"
     ]
    },
    {
     "name": "stdout",
     "output_type": "stream",
     "text": [
      "2452 : ['Which is the genealogics.org person ID of Robert Walpole?']\n"
     ]
    },
    {
     "name": "stdout",
     "output_type": "stream",
     "text": [
      "2453 : ['WHAT DOES PARSHVANATHA FOLLOW?']\n",
      "2454 : ['who rector of works for  georg simmel ?']\n",
      "2455 : ['In what field of work was Theodosius Dobzhansky awarded the National Medal of Science?']\n"
     ]
    },
    {
     "name": "stdout",
     "output_type": "stream",
     "text": [
      "2456 : ['How many collections are in the Royal Danish Library?']\n",
      "2457 : ['Who is the officeholder of the pope?']\n",
      "2458 : ['Which is the annexation that contains the word war in its name?']\n",
      "2459 : ['Was Mohenjo-daro discovered by John Marshall and Rakhaldas Bandyopadhyay?']\n",
      "2460 : ['When did Uganda have an inflation rate of 146.7?']\n",
      "2461 : ['which dwarf planet has the highest rotation period?']\n"
     ]
    },
    {
     "name": "stdout",
     "output_type": "stream",
     "text": [
      "2462 : ['Which is the sausage sandwich of the parent astronomical body of Proxima Centauri that starts with the letter d?']\n"
     ]
    },
    {
     "name": "stdout",
     "output_type": "stream",
     "text": [
      "2463 : ['How many albums were recorded by Duran Duran ?']\n",
      "2464 : ['What is the number of out of school children in the planetary system of the Moon?']\n",
      "2465 : ['What is the family relationship between Gina Lollobrigida and Guido Lollobrigida?']\n"
     ]
    },
    {
     "name": "stdout",
     "output_type": "stream",
     "text": [
      "2466 : ['What is the type of kinship Ana Boyer Preysler has as a relative of Enrique Iglesias?']\n",
      "2467 : ['What did is the post of Austen Chamberlain and vested?']\n"
     ]
    },
    {
     "name": "stdout",
     "output_type": "stream",
     "text": [
      "2468 : ['what is  classical Japanese performing arts practiced by kabuki actor whose  name has the word kabuki in it']\n"
     ]
    },
    {
     "name": "stdout",
     "output_type": "stream",
     "text": [
      "2469 : ['How much prize money did Tomas Tanstromer receive?']\n",
      "2470 : ['Is the watershed area of Itzstedter Sea .28?']\n",
      "2471 : ['How many start points are by Denver?']\n"
     ]
    },
    {
     "name": "stdout",
     "output_type": "stream",
     "text": [
      "2472 : ['Where does Martin Garrix reside and what is his occupation?']\n",
      "2473 : ['What denomination in the Durrani Empire has a history in Islam?']\n",
      "2474 : ['Name the native German speaker and songwriter who wrote Leck mich im Arsch.']\n"
     ]
    },
    {
     "name": "stdout",
     "output_type": "stream",
     "text": [
      "2475 : ['Where was Henri Poincare born, who has the shire of Meurthe-et-Moselle?']\n"
     ]
    },
    {
     "name": "stdout",
     "output_type": "stream",
     "text": [
      "2476 : ['WHO IS THE TREND ROLE MODEL OF BUCKMINSTER FULLER?']\n"
     ]
    },
    {
     "name": "stdout",
     "output_type": "stream",
     "text": [
      "2477 : ['What was the gross domestic product growth rate of Belize in 2016.']\n",
      "2478 : ['What is the profession of Jose Marti who is also known as Dichter?']\n",
      "2479 : ['TELL ME THE TALLEST OF FLAMMABLE SOLID?']\n"
     ]
    },
    {
     "name": "stdout",
     "output_type": "stream",
     "text": [
      "2480 : ['Which is the {sex or gender} and the {ethnic group} of {Tyra_Banks} ?']\n",
      "2481 : ['Who is the Inventor who was named after Titanium?']\n"
     ]
    },
    {
     "name": "stdout",
     "output_type": "stream",
     "text": [
      "2482 : ['Which creative works used HTML5']\n",
      "2483 : ['TELL ME PHYSICAL CONSTANT WHOSE NAME HAS THE WORD WAVELENGTH IN IT.']\n"
     ]
    },
    {
     "name": "stdout",
     "output_type": "stream",
     "text": [
      "2484 : ['What are the political system which start with the letter t']\n",
      "2485 : ['What is the official language of the topic of the history of Jamaica?']\n"
     ]
    },
    {
     "name": "stdout",
     "output_type": "stream",
     "text": [
      "2486 : ['When is Philos birthday.']\n",
      "2487 : ['What is the crafted from of the artist of The Thin Mercury Sound?']\n",
      "2488 : ['Was Old English John F. Kennedys native language?']\n"
     ]
    },
    {
     "name": "stdout",
     "output_type": "stream",
     "text": [
      "2489 : ['What are the feminist movement which start with the letter w']\n",
      "2490 : ['The {gps coordinates} {48.8922} gives the coordinates of {William the conquerors} {location of birth}. Where is the location ?']\n",
      "2491 : ['Name the country maintaining the diplomatic relationship with Soviet Union']\n",
      "2492 : ['What was Carole Lombard nominated for in My Man Godfrey?']\n"
     ]
    },
    {
     "name": "stdout",
     "output_type": "stream",
     "text": [
      "2493 : ['What takes place in the House of Cards, if the highest judicial authority is the DC Court of Appeals?']\n",
      "2494 : ['What aware did Paulo Freire receive as doctor honoris causa?']\n"
     ]
    },
    {
     "name": "stdout",
     "output_type": "stream",
     "text": [
      "2495 : ['What is the work of Annibale Carracci, whose patron saint is Luke the Evangelist?']\n"
     ]
    },
    {
     "name": "stdout",
     "output_type": "stream",
     "text": [
      "2496 : ['What is the official currency of United Kingdom?']\n",
      "2497 : ['God Save the Queen is the anthem for which island nation?']\n"
     ]
    },
    {
     "name": "stdout",
     "output_type": "stream",
     "text": [
      "2498 : ['When did David Susskind and Joyce Davidson marry?']\n",
      "2499 : ['At what institution was Josef Mengele educated and in what did he major?']\n"
     ]
    },
    {
     "name": "stdout",
     "output_type": "stream",
     "text": [
      "2500 : ['What metropolis is the sister city of Bern?']\n"
     ]
    },
    {
     "name": "stdout",
     "output_type": "stream",
     "text": [
      "2501 : ['Which is the Internet Wrestling Database ID for John Cena?']\n"
     ]
    },
    {
     "name": "stdout",
     "output_type": "stream",
     "text": [
      "2502 : ['Which musical did Andrew Lloyd Webber write?']\n"
     ]
    },
    {
     "name": "stdout",
     "output_type": "stream",
     "text": [
      "2503 : ['What is the residence and the work of Derek Hough?']\n",
      "2504 : ['What is the royal title of Louis the Pious and who followed his reign.']\n"
     ]
    },
    {
     "name": "stdout",
     "output_type": "stream",
     "text": [
      "2505 : ['Who gave the {item used} of {sports} of {Tug of war at the 1904 Summer Olympics} ?']\n"
     ]
    },
    {
     "name": "stdout",
     "output_type": "stream",
     "text": [
      "2506 : ['How many seats are in prefectural assembly?']\n",
      "2507 : ['Is the number of season of the Malibu Country less than 1.2?']\n",
      "2508 : ['What is the Royal Society ID of Jocelyn Bell Burnell?']\n"
     ]
    },
    {
     "name": "stdout",
     "output_type": "stream",
     "text": [
      "2509 : ['What are technical specification which start with the letter w']\n",
      "2510 : ['Name the bullet train with the highest speed limit owned by Reseau Ferre de France?']\n"
     ]
    },
    {
     "name": "stdout",
     "output_type": "stream",
     "text": [
      "2511 : ['Which is the route of administration of erythromycin?']\n",
      "2512 : ['Which is the Soundtrack Collector ID for Saturday Night Fever: The Original Movie Sound Track?']\n"
     ]
    },
    {
     "name": "stdout",
     "output_type": "stream",
     "text": [
      "2513 : ['What was Isaac Newton a student of and who was his doctoral advisor?']\n"
     ]
    },
    {
     "name": "stdout",
     "output_type": "stream",
     "text": [
      "2514 : ['Who is {victim} of {Battle of Ramillies}, which has {time zone} is {Central European Time} ?']\n"
     ]
    },
    {
     "name": "stdout",
     "output_type": "stream",
     "text": [
      "2515 : ['What is the { ordinal series } for { Camillo Benso di Cavour } as { Paolo }?']\n"
     ]
    },
    {
     "name": "stdout",
     "output_type": "stream",
     "text": [
      "2516 : ['What is the practice of Taoism and its main regulatory text?']\n",
      "2517 : ['Mention the electoral area and duration reigned by Arthur Henderson while serving as the Member of the 29th Parliament of the United Kingdom.']\n"
     ]
    },
    {
     "name": "stdout",
     "output_type": "stream",
     "text": [
      "2518 : ['What award did Tom Holland receive in the year 2012?']\n"
     ]
    },
    {
     "name": "stdout",
     "output_type": "stream",
     "text": [
      "2519 : ['Name the G-type major prioritized star body in the Uranus']\n"
     ]
    },
    {
     "name": "stdout",
     "output_type": "stream",
     "text": [
      "2520 : ['What is the domain of compact space?']\n",
      "2521 : ['Which is the business that has as parent organization the Oracle Corporation?']\n"
     ]
    },
    {
     "name": "stdout",
     "output_type": "stream",
     "text": [
      "2522 : ['Name the sea with salt that is used to make brackish water']\n",
      "2523 : ['What is the tea house made of according to the creator?']\n",
      "2524 : ['Which single-family detached home was designed by Frank Lloyd Wright?']\n"
     ]
    },
    {
     "name": "stdout",
     "output_type": "stream",
     "text": [
      "2525 : ['Which is the category of people buried here in Amsterdam?']\n",
      "2526 : ['Did Holly Holm compete in bantamweight?']\n"
     ]
    },
    {
     "name": "stdout",
     "output_type": "stream",
     "text": [
      "2527 : ['was William III of England religion Protestantism cassock?']\n",
      "2528 : ['Which is the {international sport governing body} for {authority} of {baseball}?']\n",
      "2529 : ['Dilma Rousseff received what award in the year 2015?']\n",
      "2530 : ['Is Woody Harrelsons last name really Harrelson?']\n"
     ]
    },
    {
     "name": "stdout",
     "output_type": "stream",
     "text": [
      "2531 : ['What is the hybrid of hinny?']\n",
      "2532 : ['Is the quantity buried of the Forest Lawn Memorial Park equal to 119216?']\n"
     ]
    },
    {
     "name": "stdout",
     "output_type": "stream",
     "text": [
      "2533 : ['What is the significance of Juan Carlos Is abdication?']\n"
     ]
    },
    {
     "name": "stdout",
     "output_type": "stream",
     "text": [
      "2534 : ['Which is the Tela Botanica ID for Diospyros?']\n"
     ]
    },
    {
     "name": "stdout",
     "output_type": "stream",
     "text": [
      "2535 : ['Which flammable solid has the highest flammable limit?']\n",
      "2536 : ['What award did Amnesty International receive in 1988?']\n",
      "2537 : ['Which lake outflows from the Nile?']\n"
     ]
    },
    {
     "name": "stdout",
     "output_type": "stream",
     "text": [
      "2538 : ['Which country shares its border with Andorra which is named Andorra-France border?']\n",
      "2539 : ['Who was the rector of Autonomous University of Barcelona from 2009-1-14?']\n"
     ]
    },
    {
     "name": "stdout",
     "output_type": "stream",
     "text": [
      "2540 : ['What is the subclass and model number of a belt sander that uses the least power?']\n"
     ]
    },
    {
     "name": "stdout",
     "output_type": "stream",
     "text": [
      "2541 : ['is the M sin i of HD 181342 b equal to 2.54?']\n",
      "2542 : ['When does menopause begin?']\n",
      "2543 : ['When is {end time} and {start time} of {{Leontien van Moorsel} has {member of sports team} as {Farm Frites - Hartol}}?']\n",
      "2544 : ['Which point in time for zibo has twinned administrative body as Gwangju ?']\n",
      "2545 : ['How many birth name are for Sarah Bernhardt?']\n"
     ]
    },
    {
     "name": "stdout",
     "output_type": "stream",
     "text": [
      "2546 : ['WHAT IS CIVILISATION OF PLACE OF ACTIVITY OF CLEMENT XI?']\n",
      "2547 : ['who is the replaced by John Hancock has position held as Governor of Massachusetts ?']\n"
     ]
    },
    {
     "name": "stdout",
     "output_type": "stream",
     "text": [
      "2548 : ['Who is the  {plantation} for {architect} of {Thomas Jefferson}']\n",
      "2549 : ['which is the {point in time} for {Liechtenstein} that has {population} as {36388.0} ?']\n"
     ]
    },
    {
     "name": "stdout",
     "output_type": "stream",
     "text": [
      "2550 : ['Who is the {religious identity} for {manifestation of} of {atheism}']\n",
      "2551 : ['What themes are developed by the Biblical story of Noah?']\n"
     ]
    },
    {
     "name": "stdout",
     "output_type": "stream",
     "text": [
      "2552 : ['Who is the narrator of The Catcher in the Rye?']\n",
      "2553 : ['Did Robert Lewanowski play in both the 2018 FIFA World Cup and UEFA Euro 2008?']\n"
     ]
    },
    {
     "name": "stdout",
     "output_type": "stream",
     "text": [
      "2554 : ['Are German and Romance languages concerned with word order?']\n",
      "2555 : ['Tell me the mathematical model that contains the word theory in their name']\n"
     ]
    },
    {
     "name": "stdout",
     "output_type": "stream",
     "text": [
      "2556 : ['When did Nicolas Jean-de-Dieu Soult gain the position of head of Frances government?']\n",
      "2557 : ['Who is the referee for Earl Strom?']\n"
     ]
    },
    {
     "name": "stdout",
     "output_type": "stream",
     "text": [
      "2558 : ['Which is the Romanian Olympic and Sports Committee athlete ID for Nadia Comăneci?']\n",
      "2559 : ['Is the decomposition point of the limestone equal to 1820.4?']\n"
     ]
    },
    {
     "name": "stdout",
     "output_type": "stream",
     "text": [
      "2560 : ['What start located in the constellation of Centaurus has the least radial velocity?']\n",
      "2561 : ['Which hydroelectric dam produces the most energy?']\n"
     ]
    },
    {
     "name": "stdout",
     "output_type": "stream",
     "text": [
      "2562 : ['What village was Pan Yue born in?']\n",
      "2563 : ['What was Ian McEwan nominated for in 2007?']\n",
      "2564 : ['What is the solvent with the lowest Mohs hardness whose instance of is food ingredient ?']\n"
     ]
    },
    {
     "name": "stdout",
     "output_type": "stream",
     "text": [
      "2565 : ['What was the population of Kokand in 1970?']\n"
     ]
    },
    {
     "name": "stdout",
     "output_type": "stream",
     "text": [
      "2566 : ['Which sequel is Kingdom of Sardinia, whose chef-lieu is in Rome?']\n",
      "2567 : ['WHICH IS THE GROUP OF ORGANISMS KNOWN BY ONE PARATICULAR COMMON NAME THAT IS LOCOMOTION AND SNAKE LOCOMOTION THAT CONTAINS THE WORD SNAKE IN THEIR NAME']\n"
     ]
    },
    {
     "name": "stdout",
     "output_type": "stream",
     "text": [
      "2568 : ['Which is the Theatricalia theatre ID for Budapest?']\n",
      "2569 : ['WHat river is crossing Shangai ?']\n"
     ]
    },
    {
     "name": "stdout",
     "output_type": "stream",
     "text": [
      "2570 : ['Which is the place of birth for Chengguan District?']\n"
     ]
    },
    {
     "name": "stdout",
     "output_type": "stream",
     "text": [
      "2571 : ['What is ISO 3166-1 alpha-3 code for Réunion ?']\n"
     ]
    },
    {
     "name": "stdout",
     "output_type": "stream",
     "text": [
      "2572 : ['What toponym of the Spitzer Space Telescope has the forename of Lyman?']\n"
     ]
    },
    {
     "name": "stdout",
     "output_type": "stream",
     "text": [
      "25732574 : ['Who is the person in the time period of Ancient Egypt?']\n",
      " : ['Which is the Recreation.gov area ID for Gila River?']\n",
      "2575 : ['What is the Terminologia Histologica for stem cell?']\n",
      "2576 : ['Which electoral district Edmund Barton was eletected by when holding a position as the Member of the Australian House of Representatives?']\n"
     ]
    },
    {
     "name": "stdout",
     "output_type": "stream",
     "text": [
      "2577 : ['what is comics character of mickey mouse universe from the fictional universe  and also which starts with letter t']\n",
      "2578 : ['What is the notation that implies centrifugal force ?']\n"
     ]
    },
    {
     "name": "stdout",
     "output_type": "stream",
     "text": [
      "2579 : ['What is HGNC gene symbol for RHO?']\n",
      "2580 : ['Who is nominated for the award of Bill Crystal?']\n",
      "2581 : ['What is the natural product of taxon from Mammuthus?']\n"
     ]
    },
    {
     "name": "stdout",
     "output_type": "stream",
     "text": [
      "2582 : ['How many different boyar social classifications are there?']\n",
      "2583 : ['What manga is written in Japanese?']\n",
      "2584 : ['Which is the worst-case space complexity of quicksort?']\n",
      "2585 : ['Does the water footprint of the chicken egg equal less than 2612.0?']\n"
     ]
    },
    {
     "name": "stdout",
     "output_type": "stream",
     "text": [
      "2586 : ['What is the birth location of Johann Heinrich Pestalozzi, which has a population of 360980?']\n"
     ]
    },
    {
     "name": "stdout",
     "output_type": "stream",
     "text": [
      "25872588 : ['What is succeded by Three Kingdoms whose used money is ancient Chinese coinage?']\n",
      " : ['What degree at Manmohan Singh is Doctor of philosophy?']\n",
      "2589 : ['Which is the DAAO ID for Louise Bourgeois?']\n",
      "2590 : ['What what is  soft drink country of origin and also which starts with letter b']\n"
     ]
    },
    {
     "name": "stdout",
     "output_type": "stream",
     "text": [
      "2591 : ['How does the heart connect with arteries in the human body?']\n"
     ]
    },
    {
     "name": "stdout",
     "output_type": "stream",
     "text": [
      "2592 : ['What is stipe character of Fly agaric?']\n",
      "2593 : ['Was Louis XVI the sibling of Charles X of France?']\n"
     ]
    },
    {
     "name": "stdout",
     "output_type": "stream",
     "text": [
      "2594 : ['What was the population of Bonn as of December 31st, 1970?']\n"
     ]
    },
    {
     "name": "stdout",
     "output_type": "stream",
     "text": [
      "2595 : ['Are the number of words in the Lettres (Musset)/01 equal to 1200?']\n",
      "2596 : ['What medication would you use as a drug to treat asthma?']\n"
     ]
    },
    {
     "name": "stdout",
     "output_type": "stream",
     "text": [
      "2597 : ['What was the population of Puerto Rico in 1962?']\n",
      "2598 : ['Following the Arthur C. Clarke Award, what award did The Handmaids Tale receive?']\n",
      "2599 : ['What language does William Johnsons, who has the label ccs-angles-spreadthesign.gov, speak?']\n"
     ]
    },
    {
     "name": "stdout",
     "output_type": "stream",
     "text": [
      "2600 : ['Which is the Collective Biographies of Women ID of Catherine of Aragon?']\n",
      "2601 : ['Is it true that the median income of the Australia equal 37244.0?']\n"
     ]
    },
    {
     "name": "stdout",
     "output_type": "stream",
     "text": [
      "2602 : ['What was Gregg Toland nominated for in the 14th Academy Awards?']\n",
      "2603 : ['Mention the location of headquarters of University of Toronto which has coordinate location 43.661666666667 -79.395?']\n",
      "2604 : ['What is the name of Donald Ducks family ?']\n"
     ]
    },
    {
     "name": "stdout",
     "output_type": "stream",
     "text": [
      "2605 : ['Tell me the security agency which starts with the letter s!']\n",
      "2606 : ['Who is the person that had Adelaide as place of death?']\n"
     ]
    },
    {
     "name": "stdout",
     "output_type": "stream",
     "text": [
      "2607 : ['Is the clock speed of GP2X Wiz equal to 533?']\n",
      "2608 : ['Is the average short length of the Russian Ark 96?']\n",
      "2609 : ['Which sovereign state diplomatically related to Bolivia has the least central government debt as a percent of GDP?']\n",
      "2610 : ['Does Irinotecan treat colorectal cancer?']\n"
     ]
    },
    {
     "name": "stdout",
     "output_type": "stream",
     "text": [
      "2611 : ['TELL ME TYPE OF STATISTIC WHOSE NAME HAS THE WORD VARIANCE IN IT.']\n",
      "2612 : ['What is Laura Kennys Cycling Quotient female cyclist ID?']\n"
     ]
    },
    {
     "name": "stdout",
     "output_type": "stream",
     "text": [
      "2613 : ['What counties are found in The Kyle and Jackie O Show in the City of Fairfield?']\n"
     ]
    },
    {
     "name": "stdout",
     "output_type": "stream",
     "text": [
      "2614 : ['What key is the Symphony No. 40 written in that was previously F-sharp minor?']\n"
     ]
    },
    {
     "name": "stdout",
     "output_type": "stream",
     "text": [
      "2615 : ['What effect did the Big Bang have on the universe?']\n"
     ]
    },
    {
     "name": "stdout",
     "output_type": "stream",
     "text": [
      "2616 : ['Who is the professional or sports partner of Madge Syers?']\n",
      "2617 : ['What territory was Wrocław a part of during 1138?']\n",
      "2618 : ['Does the Sigma baryon have isospin z-component that is more than 0.8']\n",
      "2619 : ['When will United States Representative, Jeanette Rankins, term end?']\n"
     ]
    },
    {
     "name": "stdout",
     "output_type": "stream",
     "text": [
      "2620 : ['What { working language or name } does { Vatican City } have { detail map } like { Vatican City map IT.png }?']\n"
     ]
    },
    {
     "name": "stdout",
     "output_type": "stream",
     "text": [
      "2621 : ['Is the net profit of the Eastern-Siberian Inland Navigation Company equal to 5,578,000?']\n",
      "2622 : ['What position did John Paul II hold starting on October 10, 1978?']\n"
     ]
    },
    {
     "name": "stdout",
     "output_type": "stream",
     "text": [
      "2623 : ['Is the minimal incubation period of Ebola in humans more or less than 1.6?']\n"
     ]
    },
    {
     "name": "stdout",
     "output_type": "stream",
     "text": [
      "2624 : ['Who {follows} and {followed by} of {{Lothair I} has {noble title} as {monarch of Italy}}']\n"
     ]
    },
    {
     "name": "stdout",
     "output_type": "stream",
     "text": [
      "2625 : ['Who works with Willy Brandt?']\n",
      "2626 : ['Which are the floors below ground of Taipei 101?']\n"
     ]
    },
    {
     "name": "stdout",
     "output_type": "stream",
     "text": [
      "2627 : ['What is list of works for Charlie Chaplin ?']\n"
     ]
    },
    {
     "name": "stdout",
     "output_type": "stream",
     "text": [
      "2628 : ['Which award was received by Midnights Children which followed Rites of Passage?']\n",
      "2629 : ['What was Spider Mans role in Spider Man: Shattered Dimensions?']\n",
      "2630 : ['What is Queensland ID of Brisbane?']\n"
     ]
    },
    {
     "name": "stdout",
     "output_type": "stream",
     "text": [
      "2631 : ['Which Christian Church has the pope as the office held by the head of the organisation?']\n",
      "2632 : ['What is the country with the lowest median income whose member of is International Bank for Reconstruction and Development ?']\n"
     ]
    },
    {
     "name": "stdout",
     "output_type": "stream",
     "text": [
      "2633 : ['When did open days of British Museum and closed on?']\n"
     ]
    },
    {
     "name": "stdout",
     "output_type": "stream",
     "text": [
      "2634 : ['What is the name of the ranch where Ronald Reagan lived?']\n",
      "2635 : ['Which company sings the Star-Spangled Banner?']\n",
      "2636 : ['What is confused with semi-trailer truck born on 1977-2-1?']\n"
     ]
    },
    {
     "name": "stdout",
     "output_type": "stream",
     "text": [
      "2637 : ['What is the University of Sydneys Scopus Affiliation ID?']\n",
      "2638 : ['What are the political philosophy which start with the letter whiggism']\n"
     ]
    },
    {
     "name": "stdout",
     "output_type": "stream",
     "text": [
      "2639 : ['Is it true that Atlanta twinned with Athens and Nuremberg?']\n"
     ]
    },
    {
     "name": "stdout",
     "output_type": "stream",
     "text": [
      "2640 : ['Which is the website affiliated with Harvard University?']\n",
      "2641 : ['Is it true that the standard enthalpy of formation of hydrogen fluoride is greater than -218.64?']\n"
     ]
    },
    {
     "name": "stdout",
     "output_type": "stream",
     "text": [
      "2642 : ['Does Chelsea Manning live in North Bethesda?']\n",
      "2643 : ['Name the construction significant event with the most number of elevators?']\n"
     ]
    },
    {
     "name": "stdout",
     "output_type": "stream",
     "text": [
      "2644 : ['The memory capacity of the Nokia X is 409.6, correct?']\n",
      "2645 : ['What was Patton Oswalt nominated for in 2011?']\n"
     ]
    },
    {
     "name": "stdout",
     "output_type": "stream",
     "text": [
      "2646 : ['What is the active ingredient in fentanyl?']\n",
      "2647 : ['For what was Robert Downey, Jr. nominated for relating to his work on the film Chaplin?']\n",
      "2648 : ['What is the music of Symphony No. 2 whose L1 speaker is Swedish?']\n"
     ]
    },
    {
     "name": "stdout",
     "output_type": "stream",
     "text": [
      "2649 : ['What position did Stephen of England hold at the start of November 1141?']\n",
      "2650 : ['Who is the Muslim ibn al-Hajjaj with a death date of 875?']\n",
      "2651 : ['Which is the Lambiek Comiclopedia ID for Carl Barks?']\n"
     ]
    },
    {
     "name": "stdout",
     "output_type": "stream",
     "text": [
      "2652 : ['In what role did David the Second of Scotland, replace Robert the First of Scotland?']\n",
      "2653 : ['What is ForaDeJogo ID for Eusébio ?']\n"
     ]
    },
    {
     "name": "stdout",
     "output_type": "stream",
     "text": [
      "2654 : ['what is the season of chicago Bulls?']\n",
      "2655 : ['Which actor portrayed Batman in the movie Batman?']\n"
     ]
    },
    {
     "name": "stdout",
     "output_type": "stream",
     "text": [
      "2656 : ['Who is the {local coat of arms} for {coat of arms} of {Jerusalem}']\n",
      "2657 : ['What is the tribute of Lake Saint Clair?']\n",
      "2658 : ['Does the Norwegian krone price equal 0.13']\n"
     ]
    },
    {
     "name": "stdout",
     "output_type": "stream",
     "text": [
      "2659 : ['who first language of executive power headed by of North Rhine-Westphalia?']\n",
      "2660 : ['What is the birth place of Raffaele Calace, whose patron saint is Januarius?']\n"
     ]
    },
    {
     "name": "stdout",
     "output_type": "stream",
     "text": [
      "2661 : ['Is it true that the maximum operating altitude of the Albatros D.I is greater than 11808?']\n"
     ]
    },
    {
     "name": "stdout",
     "output_type": "stream",
     "text": [
      "2662 : ['McGill University is affiliated to which other college ?']\n"
     ]
    },
    {
     "name": "stdout",
     "output_type": "stream",
     "text": [
      "2663 : ['What is the inhabitants of the arrondissement of Apulia ?']\n"
     ]
    },
    {
     "name": "stdout",
     "output_type": "stream",
     "text": [
      "2664 : ['What is in the category of Henry Parkes?']\n",
      "2665 : ['What show was Ricky Nelson a cast member?']\n"
     ]
    },
    {
     "name": "stdout",
     "output_type": "stream",
     "text": [
      "2666 : ['What team did Mahela Jayawardene play for until 2010?']\n",
      "2667 : ['Who directed the movie, Who Framed Roger Rabbit?']\n"
     ]
    },
    {
     "name": "stdout",
     "output_type": "stream",
     "text": [
      "2668 : ['Name a borough of New York City closed to water that starts with letter M']\n",
      "2669 : ['who is the record label and genre of The_Velvet_Underground?']\n"
     ]
    },
    {
     "name": "stdout",
     "output_type": "stream",
     "text": [
      "2670 : ['What are the birth and death dates of Isabella 1 of Castile and John, Prince of Asturias child?']\n",
      "2671 : ['Who is the {person} for {place of birth} in {Chicago}?']\n",
      "2672 : ['How many bases does a quadrilateral have?']\n",
      "2673 : ['I want to know what are the characters from the most famous book Wolfgang Amadeus Mozart?']\n"
     ]
    },
    {
     "name": "stdout",
     "output_type": "stream",
     "text": [
      "2674 : ['When did E.T. the Extra-Terrestrial win Academy Award for Best Sound Editing?']\n",
      "2675 : ['What is the god of the Hittites?']\n"
     ]
    },
    {
     "name": "stdout",
     "output_type": "stream",
     "text": [
      "2676 : ['Is it true that the angular resolution of Hobby-Eberly Telescope equals to 1.8?']\n",
      "2677 : ['What type of taxon is Xynenon?']\n"
     ]
    },
    {
     "name": "stdout",
     "output_type": "stream",
     "text": [
      "2678 : ['Is the number of survivors of PIA Flight 661 less than 0?']\n",
      "2679 : ['who honorific for honorific prefix of Salman of Saudi Arabia?']\n",
      "2680 : ['What is the gender of Cecilia Bartoli, which has the abbreviation жін?']\n"
     ]
    },
    {
     "name": "stdout",
     "output_type": "stream",
     "text": [
      "26812682 : ['What is the name of the fertility deity on the Mount Olympus that starts with letter H']\n",
      " : ['At which school was Barack Obama attending classes on January 1, 1988?']\n"
     ]
    },
    {
     "name": "stdout",
     "output_type": "stream",
     "text": [
      "2683 : ['Is the isospin quantum number of pion less than 1.2?']\n",
      "2684 : ['What is ethanols UN class?']\n"
     ]
    },
    {
     "name": "stdout",
     "output_type": "stream",
     "text": [
      "2685 : ['What country is Santa Monica in where Fred MacMurray died?']\n",
      "2686 : ['Who is the Javier Zanettis athletes collegue that went out in 1995?']\n"
     ]
    },
    {
     "name": "stdout",
     "output_type": "stream",
     "text": [
      "2687 : ['Al-Waleed bin Talal is the CEO of what company?']\n",
      "2688 : ['Which battery storage power station has the max energy storage capacity?']\n"
     ]
    },
    {
     "name": "stdout",
     "output_type": "stream",
     "text": [
      "2689 : ['What was Svante August Arrhenius nominated for in 1912?']\n",
      "2690 : ['How much money did Sully Prudhomme win when they received the Nobel Prize in Literature?']\n"
     ]
    },
    {
     "name": "stdout",
     "output_type": "stream",
     "text": [
      "2691 : ['What was the allegiance of Wernher von Braun at the beginning of 1937?']\n",
      "2692 : ['What is the diplomatic relation of Limp Bizkits place of origin?']\n",
      "2693 : ['Which part of the Bible takes place before Exodus ?']\n"
     ]
    },
    {
     "name": "stdout",
     "output_type": "stream",
     "text": [
      "2694 : ['Is it true that the maximum temperature record of the Massachusetts equals to 107?']\n"
     ]
    },
    {
     "name": "stdout",
     "output_type": "stream",
     "text": [
      "2695 : ['What are the postal codes for Sioux Falls?']\n",
      "2696 : ['Who is Matt Stones creative partner?']\n",
      "2697 : ['Who replaced Maurice Maeterlink as member of Belgium Royal Academy of French language and literature?']\n",
      "2698 : ['What is the {point in time} {Lodz} had a {population} of {45200.0}?']\n"
     ]
    },
    {
     "name": "stdout",
     "output_type": "stream",
     "text": [
      "2699 : ['who is owner of player for Milt Palacio ?']\n",
      "2700 : ['What company operates and manufactures Airbus_A380?']\n",
      "2701 : ['Does the total number of penalty minutes in Gary Dineens career equal 0.0?']\n"
     ]
    },
    {
     "name": "stdout",
     "output_type": "stream",
     "text": [
      "2702 : ['Who Framed Roger Rabbit BBFC ranking was what?']\n",
      "2703 : ['What was Angela Markels academic degree and doctoral thesis at the German Academy of Sciences at Berlin?']\n",
      "2704 : ['Which is the DriverDB driver ID of Danica Patrick?']\n"
     ]
    },
    {
     "name": "stdout",
     "output_type": "stream",
     "text": [
      "2705 : ['Did Neil deGrasse Tyson win the NASA Distinguished Service Medal and the Public Welfare Medal?']\n",
      "2706 : ['Was the number of casualties of the Kings Cross fire equal to 100?']\n"
     ]
    },
    {
     "name": "stdout",
     "output_type": "stream",
     "text": [
      "2707 : ['Which is the big city in the continent of North America that starts with the letter v?:']\n",
      "2708 : ['what era was world war 2?']\n",
      "2709 : ['Who is the {music genre} for {based on} of {country music}']\n"
     ]
    },
    {
     "name": "stdout",
     "output_type": "stream",
     "text": [
      "2710 : ['Who was the spouse of Jim Carrey prior to their divorce in 1997?']\n"
     ]
    },
    {
     "name": "stdout",
     "output_type": "stream",
     "text": [
      "2711 : ['What sports team does Ricardo Zamora play for and how many matched has he played?']\n",
      "2712 : ['William Shakespeare is the famous for writings in the Sonnet 72.']\n",
      "2713 : ['What was the role for which J.K. SImmons received an Academy Award for Best Supporting Actor?']\n"
     ]
    },
    {
     "name": "stdout",
     "output_type": "stream",
     "text": [
      "2714 : ['How is a marathon practiced and where does its name come from?']\n",
      "2715 : ['Does arsenic-76 half life equal to 1.0942?']\n",
      "2716 : ['When was Alan Bond created?']\n",
      "2717 : ['What is the Magnus Carlsen participants chess competition?']\n"
     ]
    },
    {
     "name": "stdout",
     "output_type": "stream",
     "text": [
      "2718 : ['What was the population of Sierra Leone in the year 1982?']\n",
      "2719 : ['What what is territory of australia  by na  and also which starts with letter n']\n"
     ]
    },
    {
     "name": "stdout",
     "output_type": "stream",
     "text": [
      "2720 : ['For what subject did The Deer Hunter receive the Academy Award for Best Picture?']\n",
      "2721 : ['How many software programs are written in PHP?']\n",
      "2722 : ['What excipient thats part carbon has the lowest refractive index?']\n"
     ]
    },
    {
     "name": "stdout",
     "output_type": "stream",
     "text": [
      "2723 : ['Does the scoeville grade of bell pepper equal to 0.0?']\n"
     ]
    },
    {
     "name": "stdout",
     "output_type": "stream",
     "text": [
      "2724 : ['When did Rachel Carson receive the Presidential Medal of Freedom?']\n",
      "2725 : ['Who discovered the generation unit of the steam locomotive?']\n",
      "2726 : ['Which is the Revised Romanization for Jangsu?']\n"
     ]
    },
    {
     "name": "stdout",
     "output_type": "stream",
     "text": [
      "2727 : ['What is the safety classification and labeling for hydrochloric acid?']\n"
     ]
    },
    {
     "name": "stdout",
     "output_type": "stream",
     "text": [
      "2728 : ['What is SlideShare username of Kennedy Space Center ?']\n"
     ]
    },
    {
     "name": "stdout",
     "output_type": "stream",
     "text": [
      "2729 : ['What is the battle of Cardinal Richelieu']\n"
     ]
    },
    {
     "name": "stdout",
     "output_type": "stream",
     "text": [
      "2730 : ['When did the Technical University of Munich become a member of the German Universities Excellence Initiative?']\n"
     ]
    },
    {
     "name": "stdout",
     "output_type": "stream",
     "text": [
      "2731 : ['What is the name of Jupiters youngest moon?']\n"
     ]
    },
    {
     "name": "stdout",
     "output_type": "stream",
     "text": [
      "2732 : ['When did Vicente Guerroro end his time as President of Mexico?']\n",
      "2733 : ['What is the executive body of Cyprus?']\n"
     ]
    },
    {
     "name": "stdout",
     "output_type": "stream",
     "text": [
      "2734 : ['What was the population of Navotas, on January 1, 1939?']\n",
      "2735 : ['What is worked  of grandchildren of Jan Smets ?']\n"
     ]
    },
    {
     "name": "stdout",
     "output_type": "stream",
     "text": [
      "2736 : ['Which is the Companies House officer ID for Boris Johnson?']\n"
     ]
    },
    {
     "name": "stdout",
     "output_type": "stream",
     "text": [
      "27372738 : ['When did Iannis Xenakis marry Francoise Xenakis?']\n",
      "2739 : ['which mosque starts with s']\n",
      " : ['When did Budapest have a population of 1.74 million?']\n"
     ]
    },
    {
     "name": "stdout",
     "output_type": "stream",
     "text": [
      "2740 : ['Name a recurring event happening in the Pershing County that starts with letter B']\n",
      "2741 : ['In which country citizenship had by Heady Lamarr at the end of 1953-4-10?']\n"
     ]
    },
    {
     "name": "stdout",
     "output_type": "stream",
     "text": [
      "2742 : ['What is the antonym of Pol Pot?']\n",
      "2743 : ['When did Gary Becker receive the National Medal of Science?']\n",
      "2744 : ['Tell me theme park whose name has the word  woman  in it.']\n"
     ]
    },
    {
     "name": "stdout",
     "output_type": "stream",
     "text": [
      "2745 : ['Who was Gale Sondergaard married to until 1971-1-1?']\n",
      "2746 : ['The physical quantity of a millimetre is represented by the symbol L. Which is it?']\n"
     ]
    },
    {
     "name": "stdout",
     "output_type": "stream",
     "text": [
      "2747 : ['What is Joy Divisions influence and genre?']\n",
      "2748 : ['Tell me the dialect of the writing system of written Cantonese that contains the word cantonese in its name.']\n",
      "2749 : ['What was the area of the Indian ocean in 1982?']\n"
     ]
    },
    {
     "name": "stdout",
     "output_type": "stream",
     "text": [
      "2750 : ['What is the endemism of the lyrebird, which has diplomatic relation in Belgium?']\n"
     ]
    },
    {
     "name": "stdout",
     "output_type": "stream",
     "text": [
      "2751 : ['who favorite player of writer of think like a freak ?']\n",
      "2752 : ['Which is the historical region located on the terrain feature of the classical antiquity?']\n",
      "2753 : ['Which daughter of Apollo has a male son?']\n"
     ]
    },
    {
     "name": "stdout",
     "output_type": "stream",
     "text": [
      "2754 : ['What was the population of Bogota in 1775?']\n",
      "2755 : ['Where is the publication place of variety that has New York City Council as its council?']\n",
      "2756 : ['What { partner } of { Kirsten Dunst } is { start time } { 2002 - 0 }?']\n"
     ]
    },
    {
     "name": "stdout",
     "output_type": "stream",
     "text": [
      "2757 : ['Tell me the award received by Arthur Smith Woodward in 1924?']\n",
      "2758 : ['What is the profit for Taiwan High Speed rail?']\n",
      "2759 : ['Where is the Crux constellation?']\n"
     ]
    },
    {
     "name": "stdout",
     "output_type": "stream",
     "text": [
      "2760 : ['Which is the working language of the deity Yahweh?']\n",
      "2761 : ['What species can reproduce extremely quickly whose family is arachnids?']\n"
     ]
    },
    {
     "name": "stdout",
     "output_type": "stream",
     "text": [
      "2762 : ['When did Callimachus die?']\n",
      "2763 : ['In what journal is the Laser potodetachment of O3 published?']\n",
      "2764 : ['tell me geological process name has  word subduction in it']\n"
     ]
    },
    {
     "name": "stdout",
     "output_type": "stream",
     "text": [
      "2765 : ['Where is the headquarters of Hewlett-Packard with the zip code 94304?']\n",
      "2766 : ['What is the Gregorian date of Kanishkas death which is possibly earlier than 1584?']\n",
      "2767 : ['What what is  property measured by Wechsler Intelligence Scale for Children   which that starts with letters i']\n",
      "2768 : ['What are the diplomatic relations of the Kam people living in South Sudan?']\n"
     ]
    },
    {
     "name": "stdout",
     "output_type": "stream",
     "text": [
      "2769 : ['What is the location of the headquarters of Symantec in the United States of America?']\n",
      "2770 : ['Who is computing of series of Mario Bros.II?']\n"
     ]
    },
    {
     "name": "stdout",
     "output_type": "stream",
     "text": [
      "2771 : ['What is the data controller (GDPR) for Facebook?']\n",
      "2772 : ['Who is the {human} for {student} of {Francis Bacon}']\n"
     ]
    },
    {
     "name": "stdout",
     "output_type": "stream",
     "text": [
      "2773 : ['Which is {party} of {congress of Berlin}, that has {inflation rate of consumer price index} is {5.6} ?']\n",
      "2774 : ['Which satellite  orbits of Messier 22?']\n"
     ]
    },
    {
     "name": "stdout",
     "output_type": "stream",
     "text": [
      "2775 : ['What is the taxonomic rank of the blue whale?']\n",
      "2776 : ['Who owns the New York Times?']\n",
      "2777 : ['What is connecting service of AVE ?']\n"
     ]
    },
    {
     "name": "stdout",
     "output_type": "stream",
     "text": [
      "2778 : ['What language pronounces egg as Sv-ägg.ogg?']\n",
      "2779 : ['What did The Garden of Earthly Delights depict of Iconclass notation?']\n"
     ]
    },
    {
     "name": "stdout",
     "output_type": "stream",
     "text": [
      "2780 : ['Tell me about the company that runs Walt Disney Parks and Resorts.']\n",
      "2781 : ['Which is adapted from the common-law wife of Li Shang?']\n"
     ]
    },
    {
     "name": "stdout",
     "output_type": "stream",
     "text": [
      "2782 : ['Which is the superhero from the fictional universe of DC Universe that starts with the letter s?']\n"
     ]
    },
    {
     "name": "stdout",
     "output_type": "stream",
     "text": [
      "2783 : ['Tell me the heptalogy that takes place in the fictional universe of Harry Potter universe and contains the word harry in its name?']\n",
      "2784 : ['Which is the flag carrier which contains the word qantas in its name?']\n"
     ]
    },
    {
     "name": "stdout",
     "output_type": "stream",
     "text": [
      "2785 : ['What is Charity Commission no. of British Library ?']\n",
      "2786 : ['Give me the point in time for Camilo Jose Cela has award received as Princess of Asturias Literary Prize?']\n"
     ]
    },
    {
     "name": "stdout",
     "output_type": "stream",
     "text": [
      "27872788 : ['What are the factors of therapeutic area for the  {major depressive disorder} ?']\n",
      " : ['What field is Katie Tsuyukis career?']\n"
     ]
    },
    {
     "name": "stdout",
     "output_type": "stream",
     "text": [
      "2789 : ['Which is the Companies House ID for BBC?']\n"
     ]
    },
    {
     "name": "stdout",
     "output_type": "stream",
     "text": [
      "2790 : ['mona lisa artwork id?']\n",
      "2791 : ['Where was R.L. Stine born and where does he work?']\n",
      "2792 : ['What amount of people worked on the film Catwoman?']\n"
     ]
    },
    {
     "name": "stdout",
     "output_type": "stream",
     "text": [
      "2793 : ['Which head of state has the shortest term length of office?']\n",
      "2794 : ['What color are Brigitte Bardots eyes and hair?']\n"
     ]
    },
    {
     "name": "stdout",
     "output_type": "stream",
     "text": [
      "27952796 : ['Who speaks the same language of George Michael?']\n",
      " : ['Which government enterprise operates Airbus A330s?']\n",
      "2797 : ['What are Mira Sorvinos gender and religion?']\n",
      "2798 : ['tell  me social service that name has the word social in it']\n"
     ]
    },
    {
     "name": "stdout",
     "output_type": "stream",
     "text": [
      "2799 : ['How many cast members are in Bicycle Theives?']\n",
      "2800 : ['Is the standard enthalpy of formation for ethanol less than -333.12?']\n",
      "2801 : ['Which chemical tanker has the largest payload mass?']\n",
      "2802 : ['Within the Vakhsh River, where did Alp Arslan die?']\n",
      "2803 : ['Tell me posthumous work whose name has the word people in it.']\n"
     ]
    },
    {
     "name": "stdout",
     "output_type": "stream",
     "text": [
      "2804 : ['tell  me American football team that home venue Lambeau Field  name has the  the word bay in it']\n",
      "2805 : ['How many architectural styles are detectable in the Peterhof Palace?']\n",
      "2806 : ['Which is the JapanTour golf player ID for Ernie Els?']\n"
     ]
    },
    {
     "name": "stdout",
     "output_type": "stream",
     "text": [
      "2807 : ['What are the specialty which start with the letter visagie']\n",
      "2808 : ['Is the maximum temperature record of Russia less than 54.48?']\n",
      "2809 : ['Who replaced Bonaventure as cardinal-bishop?']\n"
     ]
    },
    {
     "name": "stdout",
     "output_type": "stream",
     "text": [
      "2810 : ['Which is the streak color for apatite?']\n",
      "2811 : ['Who is the mother of Hadrian?']\n",
      "2812 : ['What is the job description of job posting 225088?']\n"
     ]
    },
    {
     "name": "stdout",
     "output_type": "stream",
     "text": [
      "28132814 : ['When did the relationship between Alfonso VI of Leon and Castile and Zaida come to an end?']\n",
      " : ['When did eBay take over as the parent organization for PayPal?']\n"
     ]
    },
    {
     "name": "stdout",
     "output_type": "stream",
     "text": [
      "2815 : ['What country is the current leader of the African Union ?']\n"
     ]
    },
    {
     "name": "stdout",
     "output_type": "stream",
     "text": [
      "2816 : ['When was Placido Domingo the spouse of Marta Domingo?']\n",
      "2817 : ['What international association football clubs cup uses the UEFA Champions League Anthem and starts with the letter c?']\n",
      "2818 : ['Tell me which is the operation which contains the word product in their name?']\n"
     ]
    },
    {
     "name": "stdout",
     "output_type": "stream",
     "text": [
      "2819 : ['How many types of orbits are geosynchronous?']\n",
      "2820 : ['What is the namesake of Hall effect whose craft is university teacher?']\n",
      "2821 : ['How many people or cargo transported to coal?']\n"
     ]
    },
    {
     "name": "stdout",
     "output_type": "stream",
     "text": [
      "2822 : ['What is FIS freestyle skier ID of Mikael Kingsbury?']\n"
     ]
    },
    {
     "name": "stdout",
     "output_type": "stream",
     "text": [
      "2823 : ['In Georgius Agricola, what section, paragraph, and verse is it in?']\n",
      "2824 : ['What is the technique used to juice something using a Juicer?']\n",
      "2825 : ['What is structure replaced by World Trade Center ?']\n",
      "2826 : ['What is  the twin town of Chiba that has  shires in Shengze?']\n"
     ]
    },
    {
     "name": "stdout",
     "output_type": "stream",
     "text": [
      "2827 : ['How many surface tensions are there for ethyl acetate?']\n",
      "2828 : ['Name an historical region studied by egypotology that starts with letter A']\n",
      "2829 : ['WHICH IS THE OFFICIAL LANGUAGE OF GIOVANNI BATTISTA RUBINI?']\n"
     ]
    },
    {
     "name": "stdout",
     "output_type": "stream",
     "text": [
      "2830 : ['What is a notable work of Christopher Hitcheens and when did he publish it?']\n",
      "2831 : ['When did John W. Henry become the owner of Boston Globe?']\n",
      "2832 : ['What is the designer of iPad whose output is Apple Pay?']\n"
     ]
    },
    {
     "name": "stdout",
     "output_type": "stream",
     "text": [
      "2833 : ['Is it true that the attendance of the 47th World Science Fiction Convention equals to 6837?']\n"
     ]
    },
    {
     "name": "stdout",
     "output_type": "stream",
     "text": [
      "2834 : ['What is the outcome of Hamad bin Khalifa Al Thani that which has been coined Univision?']\n"
     ]
    },
    {
     "name": "stdout",
     "output_type": "stream",
     "text": [
      "2835 : ['Name a semitic language that used Phoenician alphabet']\n",
      "2836 : ['Who is the chief esecutive offier of yahoo and when did he start?']\n",
      "2837 : ['What is the nominated for award received of Tom_Hardy?']\n",
      "2838 : ['What national holiday references The McGuire Sisters?']\n"
     ]
    },
    {
     "name": "stdout",
     "output_type": "stream",
     "text": [
      "2839 : ['What are the major literary works in English?']\n",
      "2840 : ['What other movie did the filmmakers of A laube create?']\n"
     ]
    },
    {
     "name": "stdout",
     "output_type": "stream",
     "text": [
      "2841 : ['How many crew members are to be by Story Musgrave?']\n",
      "2842 : ['During what time period did WWII occur?']\n",
      "2843 : ['Who is the parent organization and chief executive officer of the Society of Jesus?']\n"
     ]
    },
    {
     "name": "stdout",
     "output_type": "stream",
     "text": [
      "2844 : ['When Chinua Achebe was nominated as Neustadt International Prize for Literature?']\n",
      "2845 : ['what is military decoration starts with w']\n"
     ]
    },
    {
     "name": "stdout",
     "output_type": "stream",
     "text": [
      "2846 : ['What is the Circulating Library ID of Charles Dickens ?']\n",
      "2847 : ['Which quantum particle has the largest decay width and is in the boson subclass?']\n"
     ]
    },
    {
     "name": "stdout",
     "output_type": "stream",
     "text": [
      "2848 : ['What is the genetic association of lung cancer, that has otology as vital?']\n",
      "2849 : ['Which is the resource which contains the word natural in its name?']\n"
     ]
    },
    {
     "name": "stdout",
     "output_type": "stream",
     "text": [
      "2850 : ['What is extended from and written by The Man with Two Faces?']\n"
     ]
    },
    {
     "name": "stdout",
     "output_type": "stream",
     "text": [
      "2851 : ['Who attempted to murder Guy Fawkes?']\n",
      "2852 : ['Which fork of the Nile has its orgins in Lake Tana?']\n",
      "2853 : ['what is the Vamps shortest tour']\n",
      "2854 : ['When did Sophia Loren received an award as Telegatto?']\n",
      "2855 : ['What precedes and what follows Isaiah in the Neviim?']\n"
     ]
    },
    {
     "name": "stdout",
     "output_type": "stream",
     "text": [
      "2856 : ['Which is the photo library of the chairperson of Bill Gates?']\n"
     ]
    },
    {
     "name": "stdout",
     "output_type": "stream",
     "text": [
      "2857 : ['Which is the antonym of daylight?']\n",
      "2858 : ['Which active ingredient is the duty of Vivelle?']\n",
      "2859 : ['What is the genetic association with the {post-traumatic stress disorder} ?']\n",
      "2860 : ['WHICH IS THE SHIPWRECKING AS START POINT IN SOUTHAMPTON THAT STARTS WITH R']\n"
     ]
    },
    {
     "name": "stdout",
     "output_type": "stream",
     "text": [
      "2861 : ['What type of sport is jujutsu?']\n"
     ]
    },
    {
     "name": "stdout",
     "output_type": "stream",
     "text": [
      "2862 : ['What research institute is a subsidiary of Brown University?']\n",
      "2863 : ['When will Dublin stop being a part of United Kingdom of Great Britain and Ireland?']\n"
     ]
    },
    {
     "name": "stdout",
     "output_type": "stream",
     "text": [
      "2864 : ['Who did Juan Domingo Perón get married to on 1929-1-5?']\n",
      "2865 : ['When did member of sports team of Franz Beckenbauer and number of matches played?']\n"
     ]
    },
    {
     "name": "stdout",
     "output_type": "stream",
     "text": [
      "2866 : ['Jefferson Davis is commemorated for what milestone ?']\n",
      "2867 : ['Erythromycin has what kind of physical interaction with other drugs?']\n"
     ]
    },
    {
     "name": "stdout",
     "output_type": "stream",
     "text": [
      "2868 : ['When did David Robinson become Sports Illustrated Sportsperson of the Year?']\n"
     ]
    },
    {
     "name": "stdout",
     "output_type": "stream",
     "text": [
      "2869 : ['Who is John Hustons stepparent?']\n",
      "2870 : ['Flavor Fav is a member of what group, and a citizen of which country?']\n"
     ]
    },
    {
     "name": "stdout",
     "output_type": "stream",
     "text": [
      "2871 : ['What award was Nicolas Cage nominated for that he received?']\n",
      "2872 : ['Which piece that contains the favorite player Plautus was written by Richard II?']\n",
      "2873 : ['How many things were discovered by Naples?']\n"
     ]
    },
    {
     "name": "stdout",
     "output_type": "stream",
     "text": [
      "2874 : ['Is the atomic number of calcium equal to 16.0?']\n"
     ]
    },
    {
     "name": "stdout",
     "output_type": "stream",
     "text": [
      "2875 : ['Which is the chronology which starts with the letter t?']\n",
      "2876 : ['who  population of comes from of foreigner ?']\n",
      "2877 : ['What is an international association football national teams competition that starts with the letter c.']\n"
     ]
    },
    {
     "name": "stdout",
     "output_type": "stream",
     "text": [
      "2878 : ['What tournament takes place in Indore?']\n",
      "2879 : ['Tell me ensemble whose name has the word uppenbarelsekyrkan in it.']\n",
      "2880 : ['What genre in film is Lisa Marie Presley in, that started in 1-1-1950?']\n",
      "2881 : ['The International Council for Science heads up what award?']\n"
     ]
    },
    {
     "name": "stdout",
     "output_type": "stream",
     "text": [
      "2882 : ['Which is the source of inspiration for the characters of The Lion King?']\n"
     ]
    },
    {
     "name": "stdout",
     "output_type": "stream",
     "text": [
      "2883 : ['Where is Glasgow nearest body of water located and where is the administrative territorial entity located?']\n"
     ]
    },
    {
     "name": "stdout",
     "output_type": "stream",
     "text": [
      "2884 : ['What is population of Osh in the point in time of 1897-0-0?']\n",
      "2885 : ['Who is the writer for Nico Robin?']\n",
      "2886 : ['What is the guidance system of the {Sonar} ?']\n"
     ]
    },
    {
     "name": "stdout",
     "output_type": "stream",
     "text": [
      "2887 : ['What is the gender expression of Tatum ONeal, the American actress with the shortened name Аял?']\n",
      "2888 : ['What time zone is Rhodes located in during Daylight Savings Time?']\n",
      "2889 : ['Who is Michel Houellebecqs role model, that works as a librarian?']\n"
     ]
    },
    {
     "name": "stdout",
     "output_type": "stream",
     "text": [
      "2890 : ['What thermodynamic potential starts with the letter g?']\n"
     ]
    },
    {
     "name": "stdout",
     "output_type": "stream",
     "text": [
      "2891 : ['What is the main color of ruby?']\n",
      "2892 : ['What was the award received by John Huston for his work The Treasure of the Sierra Madre?']\n"
     ]
    },
    {
     "name": "stdout",
     "output_type": "stream",
     "text": [
      "2893 : ['Tell me the festival which starts with the letter v!']\n"
     ]
    },
    {
     "name": "stdout",
     "output_type": "stream",
     "text": [
      "2894 : ['What are the three phases of water and what are their respective pressures?']\n",
      "2895 : ['What are the colours of Mark Zuckerbergs education?']\n",
      "2896 : ['Which is the CRIStin ID for Finn E. Kydland?']\n",
      "2897 : ['Which is the UNESCO Biosphere Reserve url of São Jorge Island?']\n"
     ]
    },
    {
     "name": "stdout",
     "output_type": "stream",
     "text": [
      "2898 : ['When did member of sports team of Andriy Shevchenko and number of matches played?']\n"
     ]
    },
    {
     "name": "stdout",
     "output_type": "stream",
     "text": [
      "2899 : ['What are the meteorological phenomenon which start with the letter W']\n",
      "2900 : ['What is the { determination method } for { Parkinsons disease } { genetic association } like { RIT2 }?']\n",
      "2901 : ['What isnt of Dave Marchs thats biological sex is male?']\n"
     ]
    },
    {
     "name": "stdout",
     "output_type": "stream",
     "text": [
      "2902 : ['When did Pau Gasol receive the gold Medal of Work Merit in Spain?']\n"
     ]
    },
    {
     "name": "stdout",
     "output_type": "stream",
     "text": [
      "2903 : ['When is the basic commencement date?']\n",
      "2904 : ['What are the scientific theory which start with the letter u']\n",
      "2905 : ['What is the numeric writing system that starts with the letter n?']\n"
     ]
    },
    {
     "name": "stdout",
     "output_type": "stream",
     "text": [
      "2906 : ['What is Dharma Drum Buddhist Colleges ID of Mount Song?']\n",
      "2907 : ['Who is followed by Oliver Twist?']\n",
      "2908 : ['Is it true that Wikidata time precision of the million years equals to 3.6?']\n"
     ]
    },
    {
     "name": "stdout",
     "output_type": "stream",
     "text": [
      "2909 : ['WHAT COMES FROM LABEL OF LCD SOUNDSYSTEM ?']\n",
      "2910 : ['Which presidential election had the most eligible voters?']\n"
     ]
    },
    {
     "name": "stdout",
     "output_type": "stream",
     "text": [
      "2911 : ['At what point in history did Cologne have a population of 1.0817e+06?']\n"
     ]
    },
    {
     "name": "stdout",
     "output_type": "stream",
     "text": [
      "2912 : ['What language uses the word Antygona instead of what is known in English as Antigone?']\n",
      "2913 : ['Which is the IEDB Epitope ID for L-Serine?']\n"
     ]
    },
    {
     "name": "stdout",
     "output_type": "stream",
     "text": [
      "2914 : ['Which season is the opposite of midnight sun based on the naming criteria used?']\n"
     ]
    },
    {
     "name": "stdout",
     "output_type": "stream",
     "text": [
      "2915 : ['Which is the ZooBank nomenclatural act of Esox lucius?']\n",
      "2916 : ['Who is the {geography of geographic location} for {geography of topic} of {Arab League}']\n"
     ]
    },
    {
     "name": "stdout",
     "output_type": "stream",
     "text": [
      "2917 : ['What is it?']\n",
      "2918 : ['Is the operating temperature of TACLANE-10G less than 30.0?']\n",
      "2919 : ['Which is the parent organization of the Business American Airlines?']\n",
      "2920 : ['When did Sergio Marqués Fernández leave his job as President of Asturias?']\n"
     ]
    },
    {
     "name": "stdout",
     "output_type": "stream",
     "text": [
      "2921 : ['When did position held of Gianni Agnelli and appointed by?']\n"
     ]
    },
    {
     "name": "stdout",
     "output_type": "stream",
     "text": [
      "2922 : ['Is the heat capacity of benzoic acid equal to 102.7?']\n",
      "2923 : ['What is Sybaris Digital Atlas of the Roman Empire ID?']\n",
      "2924 : ['iWhat are the isotope of hydrogen that contains the word tritium in their name']\n"
     ]
    },
    {
     "name": "stdout",
     "output_type": "stream",
     "text": [
      "2925 : ['What are the mode of transport that starts with the letter v']\n",
      "2926 : ['Who is nominated for Javier Bardem in Nation Society of Film Critics Award?']\n",
      "2927 : ['Who was the perpetrator of the Battle of the Bulge whose abreviated name was ארהב?']\n"
     ]
    },
    {
     "name": "stdout",
     "output_type": "stream",
     "text": [
      "2928 : ['What is the Erdos number for G.H. Hardy?']\n"
     ]
    },
    {
     "name": "stdout",
     "output_type": "stream",
     "text": [
      "2929 : ['Was Atom studied by a list of academic disciplines and atomic physics?']\n",
      "2930 : ['Which is the artist-info artist ID for Camille Claudel?']\n",
      "2931 : ['What are decays of helium-4?']\n"
     ]
    },
    {
     "name": "stdout",
     "output_type": "stream",
     "text": [
      "2932 : ['Which streak color Calcite, has a label in sign language stating Csc-blans-spreadthesign.ogv ?']\n"
     ]
    },
    {
     "name": "stdout",
     "output_type": "stream",
     "text": [
      "2933 : ['What is the name of the larger taxonomic group that includes budgerigar but is also commonly known and conflated with budgerigar?']\n",
      "2934 : ['What religious order did Augustine of Hippo belong to?']\n",
      "2935 : ['Which is the language of the writing system of the Arabic alphabet?']\n",
      "2936 : ['What is the compulsory education minimum for the Indian reservation of Telangana?']\n"
     ]
    },
    {
     "name": "stdout",
     "output_type": "stream",
     "text": [
      "2937 : ['Do {Meat_Loaf} {record label} is {Epic Records} and {Bronze Records} ?']\n",
      "2938 : ['Who is the publisher for works by Harold James Mowat?']\n"
     ]
    },
    {
     "name": "stdout",
     "output_type": "stream",
     "text": [
      "2939 : ['What is Movieplayer TV-series ID for Supernatural ?']\n"
     ]
    },
    {
     "name": "stdout",
     "output_type": "stream",
     "text": [
      "2940 : ['What award did Princess Mononoke receive at the Animation Kobe Theatrical Film Awards?']\n"
     ]
    },
    {
     "name": "stdout",
     "output_type": "stream",
     "text": [
      "2941 : ['Is the drag coefficient of the Hummer H2 equal to 0.424?']\n"
     ]
    },
    {
     "name": "stdout",
     "output_type": "stream",
     "text": [
      "2942 : ['What uses the German language and was co-founded by the Gestapo?']\n",
      "2943 : ['Who is the owner of Kareem Abdul-Jabbar and from when?']\n"
     ]
    },
    {
     "name": "stdout",
     "output_type": "stream",
     "text": [
      "2944 : ['What is the moon of the parent body in Messier 7?']\n",
      "2945 : ['Who is the child of Louis IX of France and when did the child die?']\n",
      "2946 : ['IS THE SLOPE OF THE BLACK RUN EQAULS TO 50']\n",
      "2947 : ['What is the synonym with the highest gestation period whose instance of is synonym?']\n",
      "2948 : ['How do you pronounce the Earths structure?']\n"
     ]
    },
    {
     "name": "stdout",
     "output_type": "stream",
     "text": [
      "2949 : ['Does Chris Martin play the guitar?']\n"
     ]
    },
    {
     "name": "stdout",
     "output_type": "stream",
     "text": [
      "2950 : ['What is parent organisation of Uber']\n",
      "2951 : ['Is it true that the Duvall Earthquakes aftershocks equalled 54.0?']\n",
      "2952 : ['WHAT ADMISTATIVE BODY IS THE PAIR FOR THE COMMUNE OF BILBAO, FRANCE?']\n"
     ]
    },
    {
     "name": "stdout",
     "output_type": "stream",
     "text": [
      "2953 : ['When is spacecraft landing on the moon?']\n"
     ]
    },
    {
     "name": "stdout",
     "output_type": "stream",
     "text": [
      "2954 : ['Which position applies to the jurisdiction of Bilbao?']\n",
      "2955 : ['Which is the area of engineering in the field of work of Claude Shannon?']\n",
      "2956 : ['What is the level of taxon of the Dioscorea cubijensis?']\n",
      "2957 : ['When was Palestine the instance of historical region ?']\n"
     ]
    },
    {
     "name": "stdout",
     "output_type": "stream",
     "text": [
      "2958 : ['Is the angular resolution of the Discovery Channel Telescope equal to .03?']\n",
      "2959 : ['What recipe uses pure goat cheese unaltered from the goat?']\n"
     ]
    },
    {
     "name": "stdout",
     "output_type": "stream",
     "text": [
      "2960 : ['Did Al Capone follow the religious beliefs of the Meikite Greek Catholic Church?']\n",
      "2961 : ['who is the steamship for designed by of Isambard Kingdom Brunel?']\n"
     ]
    },
    {
     "name": "stdout",
     "output_type": "stream",
     "text": [
      "2962 : ['What is the voting round with the  maximum number of abstentions whose office contested is State Vice Governor of Brazil?']\n",
      "2963 : ['Who is the son of Piero the Unfortunate?']\n",
      "2964 : ['Does the number of wins of the 2013 National Womens Soccer League regular season  equal to 79.2?']\n"
     ]
    },
    {
     "name": "stdout",
     "output_type": "stream",
     "text": [
      "2965 : ['What programming language was developed by Dennis M. Ritchie?']\n",
      "2966 : ['What part of Louisianas history does the Iberia Parish fall within?']\n",
      "2967 : ['Which is the inception for The Peasants?']\n"
     ]
    },
    {
     "name": "stdout",
     "output_type": "stream",
     "text": [
      "2968 : ['During what Christian holy day was Joseph present in work?']\n",
      "2969 : ['What is the god of solar deity, that']\n"
     ]
    },
    {
     "name": "stdout",
     "output_type": "stream",
     "text": [
      "2970 : ['For which work did Penelop Lively win the Carnegie Medal?']\n",
      "2971 : ['What is Stephen Hawkins doctoral thesis']\n",
      "2972 : ['What was the depth over terrain presented by Good Morning America?']\n"
     ]
    },
    {
     "name": "stdout",
     "output_type": "stream",
     "text": [
      "2973 : ['Who played Kunta Kinte in Roots?']\n"
     ]
    },
    {
     "name": "stdout",
     "output_type": "stream",
     "text": [
      "2974 : ['Name the American federal holiday that contain the word  thanksgiving in its name']\n",
      "2975 : ['Who is the {human} for {relative} of {Joseph Conrad}']\n"
     ]
    },
    {
     "name": "stdout",
     "output_type": "stream",
     "text": [
      "2976 : ['When was the population of Kazan 1.19085e+06?']\n"
     ]
    },
    {
     "name": "stdout",
     "output_type": "stream",
     "text": [
      "2977 : ['Who was head of government of Chemnitz on 1961?']\n",
      "2978 : ['Where was Catherine the Great born and died?']\n",
      "2979 : ['What is the oxidation state for nickel?']\n",
      "2980 : ['What did The Lord of the Rings receive as an award at the NPR Top 100 Science Fiction and Fantasy Books?']\n"
     ]
    },
    {
     "name": "stdout",
     "output_type": "stream",
     "text": [
      "2981 : ['What is the databaseFootball.com ID for O.J. Simpson?']\n",
      "2982 : ['Who was the dedicatee at the place of interment for Jude the Apostle?']\n",
      "2983 : ['When did Mickey Rourke divorce Carré Otis?']\n"
     ]
    },
    {
     "name": "stdout",
     "output_type": "stream",
     "text": [
      "2984 : ['What award did Michael Collins receive for his work in The Keepers of Truth?']\n"
     ]
    },
    {
     "name": "stdout",
     "output_type": "stream",
     "text": [
      "2985 : ['Is Kareena Kapoor a Punjabi Muslim?']\n",
      "2986 : ['What is the environment of the Five Nights at Freddys game, that has a GNU General Public License?']\n"
     ]
    },
    {
     "name": "stdout",
     "output_type": "stream",
     "text": [
      "2987 : ['On March 10, 2008 what was the twinned administrative body of Chihuahua?']\n",
      "2988 : ['What position was Robert Menzies given to replace Albert Dunstan?']\n"
     ]
    },
    {
     "name": "stdout",
     "output_type": "stream",
     "text": [
      "2989 : ['What record label are the Sex Pistols signed with and what albums have been released?']\n",
      "2990 : ['What is the painting of the pendant to Le feu aux poudres?']\n"
     ]
    },
    {
     "name": "stdout",
     "output_type": "stream",
     "text": [
      "2991 : ['Tell me about this edition of Rolling Stone.']\n",
      "2992 : ['What is east of Henry Luces nation?']\n"
     ]
    },
    {
     "name": "stdout",
     "output_type": "stream",
     "text": [
      "2993 : ['What is the chemical compound of the drug used to treat bipolar disorder']\n",
      "2994 : ['Which is an academic major studied by Nubia?']\n"
     ]
    },
    {
     "name": "stdout",
     "output_type": "stream",
     "text": [
      "2995 : ['Which field does Derya Can work in?']\n",
      "2996 : ['Is it true that the foreign transaction fee of the MLP Mastercard equals to 1.5?']\n"
     ]
    },
    {
     "name": "stdout",
     "output_type": "stream",
     "text": [
      "2997 : ['Which role model of Karl Jespers wrote The Origins of Totalitarianism?']\n"
     ]
    },
    {
     "name": "stdout",
     "output_type": "stream",
     "text": [
      "2998 : ['What is the native language and languages spoken, written, or signed of Robert Plant?']\n",
      "2999 : ['What location in the administrative territorial entity of Vilnuis is the start time of 1413-0-0?']\n",
      "3000 : ['What award did Cornelia Funke receive in 2004?']\n"
     ]
    },
    {
     "name": "stdout",
     "output_type": "stream",
     "text": [
      "3001 : ['What competes in Giorgio de Chirico given the candidate of Gerard Ernest Schneider?']\n",
      "3002 : ['Was the official symbol of Seattle the bald eagle?']\n",
      "3003 : ['Mention the county seat of Erfurt']\n"
     ]
    },
    {
     "name": "stdout",
     "output_type": "stream",
     "text": [
      "3004 : ['What is the starting genome of AVP when its genome assembly number is GRCh38?']\n",
      "3005 : ['Which is {language of work} of {Laprès-midi dun faune}, that has {name in official language} is {langue française} ?']\n"
     ]
    },
    {
     "name": "stdout",
     "output_type": "stream",
     "text": [
      "3006 : ['When did Harold Eugene Edgerton receive the SPIE Gold Medal?']\n",
      "3007 : ['Is the boyfriend of Poseidon who has daughters Briareus?']\n"
     ]
    },
    {
     "name": "stdout",
     "output_type": "stream",
     "text": [
      "3008 : ['Which is the location on terrain feature for Iberian Peninsula?']\n"
     ]
    },
    {
     "name": "stdout",
     "output_type": "stream",
     "text": [
      "3009 : ['What is the name of the {spacecraft} which has carried {man} and completed the {largest number of orbits}?']\n",
      "3010 : ['when did moselle replaced metz administratively?']\n"
     ]
    },
    {
     "name": "stdout",
     "output_type": "stream",
     "text": [
      "3011 : ['Tell mebook series whose name has the word world in it.']\n",
      "3012 : ['Who authored the Second Epistle of John, equivalent to John of Patmos?']\n"
     ]
    },
    {
     "name": "stdout",
     "output_type": "stream",
     "text": [
      "3013 : ['Is the Euler characteristic of G2 equal to 0?']\n"
     ]
    },
    {
     "name": "stdout",
     "output_type": "stream",
     "text": [
      "3014 : ['Andromeda is the parent of what galaxy?']\n",
      "3015 : ['How many movements are for The Internationale ?']\n"
     ]
    },
    {
     "name": "stdout",
     "output_type": "stream",
     "text": [
      "3016 : ['What is the Logo and statement for Eminems record label.']\n"
     ]
    },
    {
     "name": "stdout",
     "output_type": "stream",
     "text": [
      "3017 : ['Which is the Movie Walker ID of The Truman Show?']\n",
      "3018 : ['What is the LONSEA people ID of Eleftherios Venizelos?']\n",
      "3019 : ['What animal makes the most sound on drugs?']\n"
     ]
    },
    {
     "name": "stdout",
     "output_type": "stream",
     "text": [
      "3020 : ['tell  me Nishiki-e that depict motion sicknessand  starts with letter g']\n",
      "3021 : ['What is the railway that was formed in Paris?']\n",
      "3022 : ['When was Harold Urey nominated for Nobel Prize in Physics?']\n"
     ]
    },
    {
     "name": "stdout",
     "output_type": "stream",
     "text": [
      "3023 : ['Tell me rapid transit  whose name has the word subway in it.']\n",
      "3024 : ['When did Nebraska adopt the motto Equality Before the Law?']\n"
     ]
    },
    {
     "name": "stdout",
     "output_type": "stream",
     "text": [
      "3025 : ['From when and until when was Charles I of England monarch of Scotland?']\n",
      "3026 : ['TELL ME STATE FUNCTION WHOSE NAME HAS THE WORD ZENITVERZOGERUNG IN IT.']\n"
     ]
    },
    {
     "name": "stdout",
     "output_type": "stream",
     "text": [
      "3027 : ['Which is {facility operated} and {operated by} {Singapore Airlines Flight 368} ?']\n"
     ]
    },
    {
     "name": "stdout",
     "output_type": "stream",
     "text": [
      "3028 : ['What type of government is Emmanuel Macron part of?']\n"
     ]
    },
    {
     "name": "stdout",
     "output_type": "stream",
     "text": [
      "3029 : ['What is the parent taxon of Buckwheat?']\n",
      "3030 : ['Which is the Brit Humess faculty that has been founded by Thomas Jefferson?']\n",
      "3031 : ['What position does John F. Kennedy hold and what position was he elected in?']\n",
      "3032 : ['When Anna Netrebko was awarded State Prize of the Russian Federation?']\n",
      "3033 : ['How many are influenced by Gustave Courbet?']\n"
     ]
    },
    {
     "name": "stdout",
     "output_type": "stream",
     "text": [
      "3034 : ['Was Megyn Kelly CNN employer ?']\n"
     ]
    },
    {
     "name": "stdout",
     "output_type": "stream",
     "text": [
      "3035 : ['who madhhab for religion of druze?']\n"
     ]
    },
    {
     "name": "stdout",
     "output_type": "stream",
     "text": [
      "3036 : ['Who is the employer of professor Fernand Braudel?']\n",
      "3037 : ['Who is the {human} for {professional or sports partner} of {Scott Moir}']\n",
      "3038 : ['Which is the adjacent building for Tate Modern?']\n"
     ]
    },
    {
     "name": "stdout",
     "output_type": "stream",
     "text": [
      "3039 : ['Who is the child of Louis IX of France and when did the child die?']\n",
      "3040 : ['When was the birth date and death date of Prince Augustus,  son of Frederick William of Prussia?']\n",
      "3041 : ['Which is the IETF language tag of the Classical Chinese?']\n",
      "3042 : ['who SI derived unit for measured by energy?']\n"
     ]
    },
    {
     "name": "stdout",
     "output_type": "stream",
     "text": [
      "3043 : ['Which extinct language uses the Arabic alphabet?']\n",
      "3044 : ['what is in the IRS Employer Identification Number of Chevron Corporation ?']\n"
     ]
    },
    {
     "name": "stdout",
     "output_type": "stream",
     "text": [
      "3045 : ['The crucifixion of Jesus is a significant event for what deity?']\n"
     ]
    },
    {
     "name": "stdout",
     "output_type": "stream",
     "text": [
      "3046 : ['What Marjane Satrapi was nominated for at 2009-0-0?']\n"
     ]
    },
    {
     "name": "stdout",
     "output_type": "stream",
     "text": [
      "3047 : ['Is the flattening of the moon 0.00125?']\n",
      "3048 : ['Was Tina Turners discography known as 50 Cent discography?']\n"
     ]
    },
    {
     "name": "stdout",
     "output_type": "stream",
     "text": [
      "3049 : ['What is the smartphone model with the highest maximum size or capacity whose brand is Motorola?']\n",
      "3050 : ['Which mid-air collision, involving an F-16 Fighting Falcon, had the most survivors?']\n",
      "3051 : ['Which nation at the Olympics is from Hong Kong?']\n",
      "3052 : ['Which is the Australian Standard Geographic Classification 2006 ID for South Australia?']\n"
     ]
    },
    {
     "name": "stdout",
     "output_type": "stream",
     "text": [
      "3053 : ['When Vin Diesel, with its net worth estimate 1.9e+08, started?']\n",
      "3054 : ['Which bridge is maintained by Amtrak?']\n"
     ]
    },
    {
     "name": "stdout",
     "output_type": "stream",
     "text": [
      "3055 : ['Which is the other different gesture to imitate the sign language?']\n"
     ]
    },
    {
     "name": "stdout",
     "output_type": "stream",
     "text": [
      "3056 : ['What are interdisciplinary science which start with the letter t']\n",
      "3057 : ['Which is the Instagram username for One Direction?']\n"
     ]
    },
    {
     "name": "stdout",
     "output_type": "stream",
     "text": [
      "3058 : ['Which United States single has the maximum beats per minute?']\n",
      "3059 : ['What motto of Spain has the words Further Beyond?']\n"
     ]
    },
    {
     "name": "stdout",
     "output_type": "stream",
     "text": [
      "3060 : ['Which is the translation of the edition of Twenty Thousand Leagues Under the Sea?']\n"
     ]
    },
    {
     "name": "stdout",
     "output_type": "stream",
     "text": [
      "3061 : ['What country replaced the historical country of Joseon?']\n",
      "3062 : ['When did member of sports team of John Charles and number of matches played?']\n",
      "3063 : ['Is the field of view of the TZF 5d equal to 25?']\n"
     ]
    },
    {
     "name": "stdout",
     "output_type": "stream",
     "text": [
      "3064 : ['Tell me who is found guilty of the head of national government of Pitcairn Islands.']\n",
      "3065 : ['What is diplomatic relation  citizen  of Dizzee Rascal ?']\n",
      "3066 : ['Tell me the organization that has the anthem of Anthem of Europe and contains the word community in its name?']\n"
     ]
    },
    {
     "name": "stdout",
     "output_type": "stream",
     "text": [
      "3067 : ['Name the asteroid belonging to an asteroid belt with the highest mean anomaly.']\n",
      "3068 : ['Which is the dog that is in exhibition history of Anchorage Museum and starts with the letter b?']\n"
     ]
    },
    {
     "name": "stdout",
     "output_type": "stream",
     "text": [
      "3069 : ['Which planets in the Ring Nebula have moons?']\n",
      "3070 : ['Who replaced Henry Addinton, 1st Viscount Sidmouth who held the Secretary of State for the Home Department position?']\n"
     ]
    },
    {
     "name": "stdout",
     "output_type": "stream",
     "text": [
      "3071 : ['Which means {Banque de noms de lieux du Québec ID} at{Hudson Bay} ?']\n",
      "3072 : ['What is the public office held by John Russell, 1st Earl Russell, that was appointed by Elizabeth II?']\n"
     ]
    },
    {
     "name": "stdout",
     "output_type": "stream",
     "text": [
      "3073 : ['Where is the place of death of Harry Mazers wife?']\n",
      "3074 : ['What was the position for which Kaneshichi Masuda replaced Eisaku Sato?']\n",
      "3075 : ['What is National Library of Korea Identifie of robert nozick ?']\n",
      "3076 : ['What time did John Winthrops position as Governor of the Massachusetts Bay Colony end?']\n"
     ]
    },
    {
     "name": "stdout",
     "output_type": "stream",
     "text": [
      "3077 : ['Tell me country within the United Kingdom whose name has the word scotland in it.']\n",
      "3078 : ['Which is the Académie des sciences doutre-mer member ID for Aimé Césaire?']\n"
     ]
    },
    {
     "name": "stdout",
     "output_type": "stream",
     "text": [
      "3079 : ['Which is the Foursquare venue ID of Sequoia National Park?']\n"
     ]
    },
    {
     "name": "stdout",
     "output_type": "stream",
     "text": [
      "3080 : ['What is the DocCheck Flexikon De ID of myocardial infarction?']\n",
      "3081 : ['What is {award received} of {Brno} where {point in time} is {2008-0-0} ?']\n"
     ]
    },
    {
     "name": "stdout",
     "output_type": "stream",
     "text": [
      "3082 : ['What is the Dailymotion channel ID of David Guetta?']\n",
      "3083 : ['How many eMedicine are acromegaly?']\n"
     ]
    },
    {
     "name": "stdout",
     "output_type": "stream",
     "text": [
      "3084 : ['Who is the sister of Charles de Valois, Duke of Angoulêmes other child?']\n",
      "3085 : ['What id made from Sichuan pepper and has the taxon Zanthoxylum in it?']\n",
      "3086 : ['Which  business has the most subscribers?']\n"
     ]
    },
    {
     "name": "stdout",
     "output_type": "stream",
     "text": [
      "3087 : ['Which is in the Indian reserve of the County Meath having gps coordinate of -6.25972?']\n",
      "3088 : ['Which is the Ringgold ID for Kyoto University?']\n",
      "3089 : ['What award did Frank Borzage receive for his work of Seventh Heaven?']\n"
     ]
    },
    {
     "name": "stdout",
     "output_type": "stream",
     "text": [
      "3090 : ['What was the end time for Eino Kailas spouse Anna Snellman-Kaila?']\n",
      "3091 : ['What is KLM famous for?']\n"
     ]
    },
    {
     "name": "stdout",
     "output_type": "stream",
     "text": [
      "3092 : ['How many recordings are there in the {Hollywood} ?']\n",
      "3093 : ['What is the  relation between South Ossetia and  Nicaragua-South Ossetia?']\n",
      "3094 : ['Which landlocked country follows the Islam religion?']\n"
     ]
    },
    {
     "name": "stdout",
     "output_type": "stream",
     "text": [
      "3095 : ['What is the administration head quarters of the twin city of Politecnico di Milano?']\n",
      "3096 : ['What is it?']\n",
      "3097 : ['WHICH IS THE MOUNTAIN STAGE WITH THE MA\\nXIMUM  SPEED']\n"
     ]
    },
    {
     "name": "stdout",
     "output_type": "stream",
     "text": [
      "3098 : ['Tell me the album which has The Tourist in the tracklist and starts with the letter c?']\n"
     ]
    },
    {
     "name": "stdout",
     "output_type": "stream",
     "text": [
      "3099 : ['Where is {subsidiary entity} {built by} {B-1 Lancer} ?']\n",
      "3100 : ['What was the name of Antonio Gadess wife?']\n",
      "3101 : ['Tell me  meteorological phenomenon   whose name has the word WIND IN IT']\n"
     ]
    },
    {
     "name": "stdout",
     "output_type": "stream",
     "text": [
      "3102 : ['what is job holder is previous mangalesa of dynasty?']\n",
      "3103 : ['which natural number with the highest numeric value whose instance is natural number?']\n"
     ]
    },
    {
     "name": "stdout",
     "output_type": "stream",
     "text": [
      "3104 : ['Who was {participant in conflict} of {sister} {Emilio Polli} ?']\n",
      "3105 : ['Which acid anhydride with the lowest electrical conductivity whose has a part of carbon?']\n"
     ]
    },
    {
     "name": "stdout",
     "output_type": "stream",
     "text": [
      "3106 : ['What TV show is inspired by the life of Blackbeard?']\n",
      "3107 : ['who division of teams played for of harry beadles ?']\n"
     ]
    },
    {
     "name": "stdout",
     "output_type": "stream",
     "text": [
      "3108 : ['How many matches did Alan Shearer play for the England B national football team, and how many goals did he score?']\n",
      "3109 : ['When did publisher of Pac-Man and publication date?']\n",
      "3110 : ['Did the disciple Zeno of Citium die in 1-1-232?']\n"
     ]
    },
    {
     "name": "stdout",
     "output_type": "stream",
     "text": [
      "3111 : ['Is Adam Mickiewicz a resident in the area that divides into Vyborgsky District, Saint Petersburg']\n"
     ]
    },
    {
     "name": "stdout",
     "output_type": "stream",
     "text": [
      "3112 : ['which is significant person of Frederick Douglass ?']\n"
     ]
    },
    {
     "name": "stdout",
     "output_type": "stream",
     "text": [
      "3113 : ['Tell me language whose name has the word äynu in it.']\n"
     ]
    },
    {
     "name": "stdout",
     "output_type": "stream",
     "text": [
      "3114 : ['What position was Justin Trudeau elected to on October 14th, 2008?']\n"
     ]
    },
    {
     "name": "stdout",
     "output_type": "stream",
     "text": [
      "3115 : ['What disputed territory in Levant is located on terrain feature?']\n",
      "3116 : ['Who is the follower of Guy de Lusignan who has a noble title of King of Jerusalem?']\n"
     ]
    },
    {
     "name": "stdout",
     "output_type": "stream",
     "text": [
      "3117 : ['Is the number of perpetrators of the Gladbeck hostage crisis equal to 3?']\n",
      "3118 : ['Name the sister city of the place where Lisa Nowak was born.']\n"
     ]
    },
    {
     "name": "stdout",
     "output_type": "stream",
     "text": [
      "3119 : ['Was Joan Crawford married to Phillip Terry?']\n",
      "3120 : ['What did Jackie Stewart win in 1969?']\n",
      "3121 : ['What is the sign language for the written spelling of Ronnie Corbett?']\n"
     ]
    },
    {
     "name": "stdout",
     "output_type": "stream",
     "text": [
      "3122 : ['How are called the person living next to Extremadura?']\n",
      "3123 : ['which is  replaced for ma ying-jeou has position held as chairperson of the kuominatnag?']\n"
     ]
    },
    {
     "name": "stdout",
     "output_type": "stream",
     "text": [
      "3124 : ['who is the participant and member Pope_Benedict_XVI?']\n",
      "3125 : ['Name the afflicts of ibuprofen']\n"
     ]
    },
    {
     "name": "stdout",
     "output_type": "stream",
     "text": [
      "3126 : ['Which is the schism for the significant event of the Russian Orthodox Church?']\n",
      "3127 : ['Which is a fictional universe described in Bleach?']\n"
     ]
    },
    {
     "name": "stdout",
     "output_type": "stream",
     "text": [
      "3128 : ['What is Chris Hansens mother tongue?']\n"
     ]
    },
    {
     "name": "stdout",
     "output_type": "stream",
     "text": [
      "3129 : ['Who is replaced as the Prime Minister of Canada, a position previously held by Lester B. Pearson?']\n",
      "3130 : ['What is Catalogus Professorum Lipsiensis ID for Peter Debye?']\n",
      "3131 : ['What is the musical instrument of the songwriter of Piano Concerto No. 5?']\n",
      "3132 : ['Oklahoma City is located in which county?']\n",
      "3133 : ['What political party does Aung San Suu Kyi belong to?']\n"
     ]
    },
    {
     "name": "stdout",
     "output_type": "stream",
     "text": [
      "3134 : ['Who was the plaintiff in the Nuremberg trials?']\n"
     ]
    },
    {
     "name": "stdout",
     "output_type": "stream",
     "text": [
      "3135 : ['How many points were scored and matches played by Neymar, a Brazillian national under 17 football team?']\n",
      "3136 : ['Where did Niels Bohr earn his doctoral thesis?']\n",
      "3137 : ['When was Halleys Comet discovered?']\n"
     ]
    },
    {
     "name": "stdout",
     "output_type": "stream",
     "text": [
      "3138 : ['Which is Tree of Life Web Project ID for Lion?']\n"
     ]
    },
    {
     "name": "stdout",
     "output_type": "stream",
     "text": [
      "3139 : ['What significant event occurred in The Blue Boy on 1-1-1802?']\n"
     ]
    },
    {
     "name": "stdout",
     "output_type": "stream",
     "text": [
      "3140 : ['Tell me social networking service whose name has the word yak in it']\n",
      "3141 : ['What is the human being for Jiang Zemin?']\n",
      "3142 : ['Which {academic major} and {academic degree} of {{Henry Cabot Lodge} was {educated at} as {Harvard University}}?']\n"
     ]
    },
    {
     "name": "stdout",
     "output_type": "stream",
     "text": [
      "3143 : ['what are the country of citizenship, occupation of Steven_Tyler?']\n",
      "3144 : ['Name the operator administration accountable for RAF Ascension Island']\n",
      "3145 : ['What language does PewDiePie speak?']\n"
     ]
    },
    {
     "name": "stdout",
     "output_type": "stream",
     "text": [
      "3146 : ['who is predecessor of position held by head of government of Tainan ?']\n"
     ]
    },
    {
     "name": "stdout",
     "output_type": "stream",
     "text": [
      "3147 : ['What is the group of organisms known as a natural product of wool taxon by a particular common name?']\n",
      "3148 : ['Who is the thunder god that appears as Artemis?']\n",
      "3149 : ['which district of austria starts with w']\n"
     ]
    },
    {
     "name": "stdout",
     "output_type": "stream",
     "text": [
      "3150 : ['Which is the part which is partially coincident with the curriculum?']\n",
      "3151 : ['What is the isotope of lutetium with the highest half-life whose instance of is isotope of lutetium?']\n"
     ]
    },
    {
     "name": "stdout",
     "output_type": "stream",
     "text": [
      "3152 : ['Who is the {member of political party} and the {country of citizenship} of {Joe_Arpaio} ?']\n",
      "3153 : ['Mobutu Sese Seko is the chairperson for which political party?']\n",
      "3154 : ['Is the vehicle range of INS Talwar equal to 4215?']\n"
     ]
    },
    {
     "name": "stdout",
     "output_type": "stream",
     "text": [
      "3155 : ['WHICH IS THE GENETIC ASSOCIATION OF MURDER METHOD OF ALEXANDER WOOLLCOTT']\n",
      "3156 : ['How was it determined that Olongapo has a population of 233040?']\n"
     ]
    },
    {
     "name": "stdout",
     "output_type": "stream",
     "text": [
      "3157 : ['What award did Ousmane Sembène receive in 1966?']\n"
     ]
    },
    {
     "name": "stdout",
     "output_type": "stream",
     "text": [
      "3158 : ['When was Shiraz female population of 842454.0?']\n",
      "3159 : ['Where is the {architectural structure} of {architect} {Zaha Hadid}?']\n"
     ]
    },
    {
     "name": "stdout",
     "output_type": "stream",
     "text": [
      "3160 : ['when was Linus Pauling nominated for a Nobel Prize in Chemistry']\n",
      "3161 : ['Did {Bharatiya_Janata_Party} has {political ideology} of {nationalism} and {Hindutva} ?']\n",
      "3162 : ['Znin is adjacent to Dusseldorg as they are twin cities.']\n"
     ]
    },
    {
     "name": "stdout",
     "output_type": "stream",
     "text": [
      "3163 : ['What position did Helmut Schmidt hold starting in 1953?']\n",
      "3164 : ['Robert Fogel won what award and when?']\n"
     ]
    },
    {
     "name": "stdout",
     "output_type": "stream",
     "text": [
      "3165 : ['Planet Nine is the parent astronomical body of what Population I star?']\n"
     ]
    },
    {
     "name": "stdout",
     "output_type": "stream",
     "text": [
      "3166 : ['What are the prediction which start with the letter s']\n",
      "3167 : ['What is the Gewasswekennzahl of Morava?']\n"
     ]
    },
    {
     "name": "stdout",
     "output_type": "stream",
     "text": [
      "3168 : ['In Harry Potter, what does the term pureblood mean?']\n",
      "3169 : ['WHICH IS THE PLACE OF DEATH OF LAS VEGAS']\n"
     ]
    },
    {
     "name": "stdout",
     "output_type": "stream",
     "text": [
      "3170 : ['What are the colors of coal that have a sign language label of Csc-negre-spreadthesign.ogv?']\n",
      "3171 : ['When did Steven Florio stop being the chief executive officer for Conde Nast?']\n"
     ]
    },
    {
     "name": "stdout",
     "output_type": "stream",
     "text": [
      "3172 : ['Did Kanye West write metal gangsta rap?']\n",
      "3173 : ['Where was Michel Ney buried on December 8, 1815?']\n"
     ]
    },
    {
     "name": "stdout",
     "output_type": "stream",
     "text": [
      "3174 : ['When was the language of the digital signal processor created?']\n",
      "3175 : ['Who was the partner of Edith Piaf in 1948?']\n",
      "3176 : ['Who is the competitor for Battle of Breitenfeld(1631), that has language official as Italian?']\n"
     ]
    },
    {
     "name": "stdout",
     "output_type": "stream",
     "text": [
      "3177 : ['Where in Paradisgatan 2 is the Lund University headquarters located?']\n",
      "3178 : ['On which year Ivan Bunin received Pushkin Prize?']\n",
      "3179 : ['When was Bertha, daughter of Charlemange born, and who was her mother?']\n",
      "3180 : ['What is Swami-Vivekanandas native, spoken and written/signed language?']\n"
     ]
    },
    {
     "name": "stdout",
     "output_type": "stream",
     "text": [
      "3181 : ['What is the Gazetteer of Planetary Nomenclature ID for Olympus Mons?']\n"
     ]
    },
    {
     "name": "stdout",
     "output_type": "stream",
     "text": [
      "3182 : ['who role model of words by dónde estás corazón?} ?']\n",
      "3183 : ['what is the replaced by for Hussain Muhammad Ershad has position held as president of Bangladesh ?']\n",
      "3184 : ['What sculpture is located at Yale University?']\n",
      "3185 : ['How many names are there for Almaty?']\n"
     ]
    },
    {
     "name": "stdout",
     "output_type": "stream",
     "text": [
      "3186 : ['Name a film set in the Marvel Cinematic Universe.']\n",
      "3187 : ['who state headed by  the town of caraga ?']\n",
      "3188 : ['What is the position that was once held by Leo X and then replaced by Adrian VI?']\n",
      "3189 : ['Which is {not the same as} of {mushroom}, whose {type of taxon} is {species} ?']\n"
     ]
    },
    {
     "name": "stdout",
     "output_type": "stream",
     "text": [
      "3190 : ['Who is the produce and the executive produce of Eternal Sunshine of the Spotless Mind?']\n"
     ]
    },
    {
     "name": "stdout",
     "output_type": "stream",
     "text": [
      "3191 : ['Is it true Vladimir Putin is a Supreme Commander-in-Chief of the Armed Forces of the Russian Federation?']\n"
     ]
    },
    {
     "name": "stdout",
     "output_type": "stream",
     "text": [
      "3192 : ['Name the terminal point for Bruges.']\n",
      "3193 : ['What position does David Lloyd George hold?']\n"
     ]
    },
    {
     "name": "stdout",
     "output_type": "stream",
     "text": [
      "3194 : ['What is the patent number for MP3?']\n"
     ]
    },
    {
     "name": "stdout",
     "output_type": "stream",
     "text": [
      "3195 : ['Name azane that contain the word hydrazine in its name ?']\n",
      "3196 : ['When was A.C. Milan retired from Head coach post?']\n"
     ]
    },
    {
     "name": "stdout",
     "output_type": "stream",
     "text": [
      "3197 : ['How many were killed by Giovanni Falcone?']\n",
      "3198 : ['When did Abigail Adams marry John Adams and when did they divorce']\n",
      "3199 : ['In what field did Zubin Mehta receive the Padma Vibhushan award?']\n",
      "3200 : ['What is wikibase:geoLatitude ?min that comes from Cornbread']\n"
     ]
    },
    {
     "name": "stdout",
     "output_type": "stream",
     "text": [
      "3201 : ['Tell me slave rebellion whose name have the word war in their name']\n"
     ]
    },
    {
     "name": "stdout",
     "output_type": "stream",
     "text": [
      "3202 : ['Give me the statement is subject for Annette Bening has nominated for as Academy Award for Best Actress ?']\n"
     ]
    },
    {
     "name": "stdout",
     "output_type": "stream",
     "text": [
      "3203 : ['What award Katie Ledecky received for Simone Biles?']\n",
      "3204 : ['Where does Christopher Walken reside and what is his occupation?']\n",
      "3205 : ['What is the Routard.com place ID for Arches National Park?']\n",
      "3206 : ['What are the medical specialty which start with the letter t']\n"
     ]
    },
    {
     "name": "stdout",
     "output_type": "stream",
     "text": [
      "3207 : ['who colors of player of nico yennaris ?']\n",
      "3208 : ['When did Kareena Kapoor marry Saif Ali Khan?']\n",
      "3209 : ['How much manifestations are of UTF-8?']\n"
     ]
    },
    {
     "name": "stdout",
     "output_type": "stream",
     "text": [
      "3210 : ['What is the name of an algorithm that starts with the letter s.']\n"
     ]
    },
    {
     "name": "stdout",
     "output_type": "stream",
     "text": [
      "3211 : ['Who is the {disease} for {symptoms} of {delusion?']\n",
      "3212 : ['Which is the genetic association that regulates the molecular biology of HSA-MIR-7110-3p?']\n"
     ]
    },
    {
     "name": "stdout",
     "output_type": "stream",
     "text": [
      "3213 : ['For what was Isabelle Adjani nominated for in the year 1995.']\n",
      "3214 : ['What ended the marriage of Dario Fo and Franca Rame?']\n",
      "3215 : ['Name a kind a family that rules a land through absolute monarchy and that starts with letter D']\n"
     ]
    },
    {
     "name": "stdout",
     "output_type": "stream",
     "text": [
      "3216 : ['Is the size of the team at the finish of the 2015 Iditarod larger than 4.8?']\n"
     ]
    },
    {
     "name": "stdout",
     "output_type": "stream",
     "text": [
      "3217 : ['How many sports are for the {draughts} ?']\n",
      "3218 : ['Give the name of the earthquake with the highest magnitude on the Richter magnitude scale?']\n",
      "3219 : ['From when and until when did Alfred Marshall reside in Marshall House, Cambridge?']\n"
     ]
    },
    {
     "name": "stdout",
     "output_type": "stream",
     "text": [
      "3220 : ['Which is the bibliography for the list of works of Jessica Lange?']\n"
     ]
    },
    {
     "name": "stdout",
     "output_type": "stream",
     "text": [
      "3221 : ['Who is the member of the political party and also the participant of Fedor Emelianenko?']\n"
     ]
    },
    {
     "name": "stdout",
     "output_type": "stream",
     "text": [
      "3222 : ['What is Anthony van Dycks ECARTICO person ID?']\n"
     ]
    },
    {
     "name": "stdout",
     "output_type": "stream",
     "text": [
      "3223 : ['What time zone is Aix-en-Provence located?']\n",
      "3224 : ['Tell me ethnolect whose name has the word perkerdansk in it.']\n",
      "3225 : ['What is Animal Farm derivative work?']\n",
      "3226 : ['Tell me mythical human-animal hybrid that contains the word polkan in their name']\n"
     ]
    },
    {
     "name": "stdout",
     "output_type": "stream",
     "text": [
      "3227 : ['Which family member of Luca Signorelli is a writer by profession? \\n\\nName the family member of Luca Signorelli who is a writer by profession. \\n\\nWhich of Luca Signorellis relatives has a career in writing? \\n\\nWho is the relative of Luca Signorelli who has a career in writing?']\n",
      "3228 : ['What chemical compound is used as a drug to treat anthrax?']\n",
      "3229 : ['Which is the weekly newspaper owner of which is StarWipe and contains the word onion in its name?']\n",
      "3230 : ['Is the number of spans of Ponte dellAccademia equal to 1.2?']\n",
      "3231 : ['Tell me about the medical findings regarding the symptoms of lung cancer.']\n"
     ]
    },
    {
     "name": "stdout",
     "output_type": "stream",
     "text": [
      "3232 : ['Which is the {province of Iran} with the {MAX(unemployment rate)} what {described by source} is {Sytin Military Encyclopedia} ?']\n",
      "3233 : ['How are called the people living around Baghdad?']\n"
     ]
    },
    {
     "name": "stdout",
     "output_type": "stream",
     "text": [
      "3234 : ['Who was the spouse of Myrna Loy in 1944?']\n",
      "3235 : ['Tell me a constellation that starts with {p}']\n",
      "3236 : ['Name something based in New Mexico that has diplomatic relations with the Caymen Islands.']\n"
     ]
    },
    {
     "name": "stdout",
     "output_type": "stream",
     "text": [
      "3237 : ['What political conspiracy was Guy Fawkes the leader of?']\n",
      "3238 : ['How can you tell Bari has a population of 324198?']\n"
     ]
    },
    {
     "name": "stdout",
     "output_type": "stream",
     "text": [
      "3239 : ['Which is the song of the tracklist of OK Computer?']\n",
      "3240 : ['What is {adjacent to} of {death location} of {Michelangelo Antonioni} ?']\n"
     ]
    },
    {
     "name": "stdout",
     "output_type": "stream",
     "text": [
      "3241 : ['What is to be distiguished from a pub that resides at the co-ordinates: 25.9077 64.3467?']\n",
      "3242 : ['What language is most used y humans ?']\n",
      "3243 : ['Is the life expectancy of Lithuania greater than 89.18634?']\n",
      "3244 : ['Is the lower flammable limit of the hydrogen cyanide equal to 5.6?']\n"
     ]
    },
    {
     "name": "stdout",
     "output_type": "stream",
     "text": [
      "3245 : ['What is the circle of Cornelius Jansen?']\n",
      "3246 : ['Rome was the capital of what former empire?']\n"
     ]
    },
    {
     "name": "stdout",
     "output_type": "stream",
     "text": [
      "3247 : ['How long was Shirley Temple the United States Ambassador to Ghana?']\n"
     ]
    },
    {
     "name": "stdout",
     "output_type": "stream",
     "text": [
      "3248 : ['How many notable works did Muriel Spark create?']\n",
      "3249 : ['Which is the rigid airship named after Paul von Hindenburg?']\n"
     ]
    },
    {
     "name": "stdout",
     "output_type": "stream",
     "text": [
      "3250 : ['How many goals and matches did Kevin Keegan score under Newcastle United F.C.']\n",
      "3251 : ['Was Ernest Hemingway a US citizen?']\n"
     ]
    },
    {
     "name": "stdout",
     "output_type": "stream",
     "text": [
      "3252 : ['What are the enterprise which start with the letter s']\n",
      "3253 : ['What was King Arthurs given name?']\n"
     ]
    },
    {
     "name": "stdout",
     "output_type": "stream",
     "text": [
      "3254 : ['What is meant by flattening of the Earth?']\n",
      "3255 : ['Tell me me a therapywhose name consist of the word woman and whose Sigmund Freud  psychoanalysis']\n"
     ]
    },
    {
     "name": "stdout",
     "output_type": "stream",
     "text": [
      "3256 : ['How many languages did Oscar Wilde speak, write, or sign?']\n",
      "3257 : ['Who preceded and who succeeded to Maroon 5 in receiving the Grammy Award for Best New Artist?']\n",
      "3258 : ['What is the employment of José Mujica whose field of this employment is agriculture ?']\n",
      "3259 : ['Which award was Ron Howard nominated for?']\n"
     ]
    },
    {
     "name": "stdout",
     "output_type": "stream",
     "text": [
      "3260 : ['What is located in the administrative territorial entity and twinned administrative body of Toronto?']\n",
      "3261 : ['What is the cuisine of Israeli cuisine']\n",
      "3262 : ['How many children does Grover Cleveland have?']\n",
      "3263 : ['What is the beginnig for Fritz Walter as a member from Germany football player?']\n"
     ]
    },
    {
     "name": "stdout",
     "output_type": "stream",
     "text": [
      "3264 : ['What did William Wyler do that caused him to receive the Academy Award for Best Director?']\n"
     ]
    },
    {
     "name": "stdout",
     "output_type": "stream",
     "text": [
      "3265 : ['Which is the takeoff roll for Typhoon?']\n"
     ]
    },
    {
     "name": "stdout",
     "output_type": "stream",
     "text": [
      "3266 : ['Where are the headquarters of HBO in the United States?']\n",
      "3267 : ['Which dwarf elliptical galaxy for parent astronomical body of  Andromeda Galaxy']\n",
      "3268 : ['what is the  date of birth of Chlohar II in the statement with Gregorian date earlier than 1584} ?']\n"
     ]
    },
    {
     "name": "stdout",
     "output_type": "stream",
     "text": [
      "3269 : ['What are the historical event which start with the letter w']\n"
     ]
    },
    {
     "name": "stdout",
     "output_type": "stream",
     "text": [
      "3270 : ['Does the number of injured of the Monbar Hotel attack equals 1?']\n",
      "3271 : ['Who gave the{employed by} of {writer} of {Dog stories, from the \\\\Spectator\\\\;} ?']\n"
     ]
    },
    {
     "name": "stdout",
     "output_type": "stream",
     "text": [
      "3272 : ['Is it true that the slope of El Dorado Speedway equals to 14?']\n",
      "3273 : ['What is the work of Gary Oldman who received BAFTA Award for Best Actor in a Leading Role?']\n",
      "3274 : ['Who is the disciple of sculptors of Village Street?']\n",
      "3275 : ['Tell me which is the agricultural deity which starts with the letter s?']\n"
     ]
    },
    {
     "name": "stdout",
     "output_type": "stream",
     "text": [
      "3276 : ['What is the first name of Jules Léotrad, which is the same as Júlio?']\n",
      "3277 : ['What is the son of Jafar al-Sadiq whose sister is Asmaa Bint Jafar?']\n",
      "3278 : ['Name the season that includes the month of august that starts with letter W']\n"
     ]
    },
    {
     "name": "stdout",
     "output_type": "stream",
     "text": [
      "3279 : ['Tell me the survival skill that followed by food presentation and which contains the word cooking in their name']\n",
      "3280 : ['who  is the sculpture for collection of Venice?']\n",
      "3281 : ['What is the position held by Peter Garrett who is replaced by Matt Thistlethwaite?']\n",
      "3282 : ['How are signs of sever acute respiratory syndrome treated?']\n"
     ]
    },
    {
     "name": "stdout",
     "output_type": "stream",
     "text": [
      "3283 : ['WHAT IS THE HUMAN POPULATION IN PLACE OF ORIGIN OF CULINARY MUSTARD ?']\n",
      "3284 : ['IS THE NOTATION PERIOD OF THE 17 THETIS EQUALS 12.27048']\n",
      "3285 : ['What does sexual intercourse and vaginal intercourse cause?']\n",
      "3286 : ['When did the partnership between Francois Holland and Valerie Trierweiler end?']\n"
     ]
    },
    {
     "name": "stdout",
     "output_type": "stream",
     "text": [
      "3287 : ['Tell me the name of Thomas Pikettys spouse as of 2014?']\n",
      "3288 : ['Which is the CycleBase cyclist ID for Greg LeMond?']\n"
     ]
    },
    {
     "name": "stdout",
     "output_type": "stream",
     "text": [
      "3289 : ['What is the gender of Sancho Panza, who is often confused with being a man?']\n"
     ]
    },
    {
     "name": "stdout",
     "output_type": "stream",
     "text": [
      "3290 : ['Who is the musician a split from of Tell Me bout It?']\n",
      "3291 : ['Does the brother of Fatimah have a Christian name of Abdullah?']\n",
      "3292 : ['Name someone who graduated from McGill University']\n",
      "3293 : ['Does Vince Vaughn have a residence in both Lake Forest and Buffalo Grove?']\n"
     ]
    },
    {
     "name": "stdout",
     "output_type": "stream",
     "text": [
      "3294 : ['o']\n",
      "3295 : ['How many matches did Dixie Dean of Sligo Rovers F.C. play and what was his statistics?']\n",
      "3296 : ['Who is the producer and administrator of Q/U Imaging ExperimenT?']\n",
      "3297 : ['Was Seinfeld characters Cosmo Kramer and Jackie Chiles?']\n",
      "3298 : ['Which male character is played by a woman in Faust?']\n"
     ]
    },
    {
     "name": "stdout",
     "output_type": "stream",
     "text": [
      "3299 : ['Which is the pregnancy category for penicillin?']\n",
      "3300 : ['is jay-zs native language Icelandic?']\n",
      "3301 : ['What federal state was replaced by the Thirteen Colonies?']\n",
      "3302 : ['Which is indigenous to Liguria?']\n"
     ]
    },
    {
     "name": "stdout",
     "output_type": "stream",
     "text": [
      "3303 : ['When was Team Fortress 2 (retail distribution) published?']\n",
      "3304 : ['What is { nominated for } of { Peter Matthiessen } that is { point in time } is { 2002 - 0 }?']\n"
     ]
    },
    {
     "name": "stdout",
     "output_type": "stream",
     "text": [
      "3305 : ['Do the number of cylinders of the Prussian S 6 equal 2?']\n",
      "3306 : ['Was David Foster Wallaces notable works Infinite Jest and House of Leaves?']\n",
      "3307 : ['who did jiang zemin replaced as the president of the peoples republic of china?']\n"
     ]
    },
    {
     "name": "stdout",
     "output_type": "stream",
     "text": [
      "3308 : ['Who is confused with Pearl Bailey that has an alma mater at North Carolina State University?']\n",
      "3309 : ['Where is the capital that is adjacent to the Rewari district?']\n"
     ]
    },
    {
     "name": "stdout",
     "output_type": "stream",
     "text": [
      "3310 : ['Which cricket team has Mahela Jayawardene as the head coach and also starts with the letter i?']\n",
      "3311 : ['Where is the place of grave of Makarios III, founded in 1001-1-17?']\n",
      "3312 : ['When did Bremen lose territory in the year 1949?']\n"
     ]
    },
    {
     "name": "stdout",
     "output_type": "stream",
     "text": [
      "3313 : ['What is the name of the child in the opera Tristan und Isolde by Siegfried Wagner?']\n"
     ]
    },
    {
     "name": "stdout",
     "output_type": "stream",
     "text": [
      "3314 : ['What is the open and closed period of the British Museum that every weekend is open?']\n"
     ]
    },
    {
     "name": "stdout",
     "output_type": "stream",
     "text": [
      "3315 : ['Which is the short film that was produced by Hayao Miyazaki?']\n",
      "3316 : ['Who received Steiger Award together with Wladimir Klitschko?']\n",
      "3317 : ['What are the condiment which start with the letter y']\n",
      "3318 : ['Who written the prequel of The Structures of Everyday Life?']\n",
      "3319 : ['Which country is landlocked in East Asia']\n"
     ]
    },
    {
     "name": "stdout",
     "output_type": "stream",
     "text": [
      "3320 : ['What are the space observatory which start with the letter x']\n",
      "3321 : ['For which website Julian did use to work for ?']\n",
      "3322 : ['What is {set in the location} of {The Boondocks}, that has the {timeline of topic} in the {History of Chicago} ?']\n"
     ]
    },
    {
     "name": "stdout",
     "output_type": "stream",
     "text": [
      "3323 : ['How many fields of work were there in the middle ages?']\n",
      "3324 : ['Who owns this CD?']\n"
     ]
    },
    {
     "name": "stdout",
     "output_type": "stream",
     "text": [
      "3325 : ['Which is the geochronological unit which contains the word silurian in its name?']\n",
      "3326 : ['When did Philip K. Dick receive the Science Fiction Hall of Fame award?']\n",
      "3327 : ['what is geographic region that starts with s']\n"
     ]
    },
    {
     "name": "stdout",
     "output_type": "stream",
     "text": [
      "3328 : ['What is printed by Johannes Gutenberg ?']\n",
      "3329 : ['What fictional location starts with the letter z?']\n"
     ]
    },
    {
     "name": "stdout",
     "output_type": "stream",
     "text": [
      "3330 : ['who is the work location of yekaterinburg?']\n",
      "3331 : ['which language that starts with u']\n",
      "3332 : ['Who is nominated  for Stagecoach as W. Franke Harling']\n"
     ]
    },
    {
     "name": "stdout",
     "output_type": "stream",
     "text": [
      "3333 : ['Does Botnkrona Opp have an average gradient of less than 0.1884?']\n",
      "3334 : ['Where are administrative divisions of Nicaragua with location of 11.85 -86.2?']\n",
      "3335 : ['When did spouse of Aleksandr Solzhenitsyn and end time?']\n"
     ]
    },
    {
     "name": "stdout",
     "output_type": "stream",
     "text": [
      "3336 : ['which religion has its God incarnated as Jesus Christ?']\n"
     ]
    },
    {
     "name": "stdout",
     "output_type": "stream",
     "text": [
      "3337 : ['how many points did David Campese win for the Australia national rugby union team as a player of the team?']\n",
      "3338 : ['To which genre does Twenty Thousand leagues Under the Sea belong?']\n"
     ]
    },
    {
     "name": "stdout",
     "output_type": "stream",
     "text": [
      "3339 : ['What are the interdisciplinary science which start with the letter toxicology']\n",
      "3340 : ['Which is the mushroom ecological type of parasitism?']\n",
      "3341 : ['Tell me news magazine whose name has the word weekly in it.']\n"
     ]
    },
    {
     "name": "stdout",
     "output_type": "stream",
     "text": [
      "3342 : ['What is the reason for Sophocles death on January 1st, 405 BCE?']\n"
     ]
    },
    {
     "name": "stdout",
     "output_type": "stream",
     "text": [
      "3343 : ['When did João Havelange step down as chairperson of FIFA?']\n",
      "3344 : ['What IBM Denmark IT firm has the least market capitalization?']\n",
      "3345 : ['Tell me the sedative that starts with the letter n']\n"
     ]
    },
    {
     "name": "stdout",
     "output_type": "stream",
     "text": [
      "3346 : ['In which war did the Allies participate?']\n",
      "3347 : ['Mount Rushmore is in what mountain range?']\n"
     ]
    },
    {
     "name": "stdout",
     "output_type": "stream",
     "text": [
      "3348 : ['What was Anne Bancroft nominated for in 1967?']\n",
      "3349 : ['What character role did cast member Burt Ward play in Batman?']\n",
      "3350 : ['What is the game platform of Candy Crush Saga that reads file format of WebM?']\n",
      "3351 : ['From what country is Jacques Cartier, who was born in Rotheneuf?']\n"
     ]
    },
    {
     "name": "stdout",
     "output_type": "stream",
     "text": [
      "3352 : ['What particle radiation stars with the letter c?']\n",
      "3353 : ['Name the mascot for Iron Maiden.']\n",
      "3354 : ['Which is Swedish Film Database film ID for Nausicaä of the Valley of the Wind?']\n"
     ]
    },
    {
     "name": "stdout",
     "output_type": "stream",
     "text": [
      "3355 : ['What is Hockey-reference ID for Bobby Hull ?']\n"
     ]
    },
    {
     "name": "stdout",
     "output_type": "stream",
     "text": [
      "3356 : ['When was Clement Attlee elected as the Member of the 38th Parliament of the United Kingdom and why did his term end?']\n"
     ]
    },
    {
     "name": "stdout",
     "output_type": "stream",
     "text": [
      "3357 : ['To whom was Osip Mandelstam married in the year 1922?']\n",
      "3358 : ['What is Diego Maradonas second Spanish family name and what position does he play?']\n"
     ]
    },
    {
     "name": "stdout",
     "output_type": "stream",
     "text": [
      "33593360 : ['How much is to be replaced by the Canadian dollar?']\n",
      " : ['Which award did Paul Heyse receive that earned him $140,703?']\n",
      "3361 : ['What is the sport cricket?']\n",
      "3362 : ['What is the magnetic ordering which starts with the letter p?']\n",
      "3363 : ['What award did Richard Meier recieve on Janurary 1, 1988?']\n"
     ]
    },
    {
     "name": "stdout",
     "output_type": "stream",
     "text": [
      "3364 : ['What is the given first name of Louis Agassiz?']\n"
     ]
    },
    {
     "name": "stdout",
     "output_type": "stream",
     "text": [
      "3365 : ['What was the population of Fes in 2014?']\n",
      "3366 : ['Who gave the{type of music} of {working place} of {Derek Blasberg} ?']\n"
     ]
    },
    {
     "name": "stdout",
     "output_type": "stream",
     "text": [
      "3367 : ['What is the taxon source of Sichuan pepper?']\n",
      "3368 : ['How many developers of Panasonic are there?']\n",
      "3369 : ['Which sense do ears use?']\n"
     ]
    },
    {
     "name": "stdout",
     "output_type": "stream",
     "text": [
      "3370 : ['For Bryansk Oblast, what is the aspect of Russian literature that has cities?']\n"
     ]
    },
    {
     "name": "stdout",
     "output_type": "stream",
     "text": [
      "3371 : ['How many fabrication methods are used by illustrations?']\n",
      "3372 : ['When did educated at of Carl Sagan and academic degree?']\n"
     ]
    },
    {
     "name": "stdout",
     "output_type": "stream",
     "text": [
      "3373 : ['Who is the founder of the Cricket World Cup from North East England?']\n",
      "3374 : ['Which is the refractive index for calcium carbonate?']\n",
      "3375 : ['Which federal state participated in the American Revolutionary War?']\n",
      "3376 : ['Which is the animated feature film where David Spade is a voice actor?']\n"
     ]
    },
    {
     "name": "stdout",
     "output_type": "stream",
     "text": [
      "3377 : ['Which is the ASMP member ID of Jean Tirole?']\n"
     ]
    },
    {
     "name": "stdout",
     "output_type": "stream",
     "text": [
      "3378 : ['What award did Kiri Te Kanawa receive on 1/26/1990?']\n",
      "3379 : ['What is the nominal GDP of La Rioja in the year 2015?']\n"
     ]
    },
    {
     "name": "stdout",
     "output_type": "stream",
     "text": [
      "33803381 : ['Name the Boston-published commercial catalogue edition with the least pages ?']\n",
      " : ['What is the Strait of Juan de Fucas geographical ID?']\n"
     ]
    },
    {
     "name": "stdout",
     "output_type": "stream",
     "text": [
      "3382 : ['When did the Ottoman Empire lose control over Nazareth?']\n",
      "3383 : ['Who is the spouse of Ivan Pyryev on 1936-0-0?']\n"
     ]
    },
    {
     "name": "stdout",
     "output_type": "stream",
     "text": [
      "3384 : ['What is the mushroom ecological type of a parasite?']\n",
      "3385 : ['Who replaced Zachary Taylor as President of the United States?']\n"
     ]
    },
    {
     "name": "stdout",
     "output_type": "stream",
     "text": [
      "3386 : ['How many works have been published in Nottingham?']\n",
      "3387 : ['What is the co-ordinate location  -90.0? do not to be confused with of the Western world']\n",
      "3388 : ['who is the art movement for movement of John Cage?']\n",
      "3389 : ['Which  member of the deme Aristophanes ?']\n"
     ]
    },
    {
     "name": "stdout",
     "output_type": "stream",
     "text": [
      "3390 : ['Where does Heinrich Schliemann work which is also a sister city to Amsterdam?']\n"
     ]
    },
    {
     "name": "stdout",
     "output_type": "stream",
     "text": [
      "3391 : ['Until when did Ernest Shackleton hold the record for having traveled the farthest South?']\n"
     ]
    },
    {
     "name": "stdout",
     "output_type": "stream",
     "text": [
      "3392 : ['WHICH IS THE MONUMENT WITH THE MAXIMUM LIGHTHOUSE RANGE']\n",
      "3393 : ['What language is used to pronounce Guy de Maupassant?']\n",
      "3394 : ['Which animated film did Hayao Miyazaki edit?']\n"
     ]
    },
    {
     "name": "stdout",
     "output_type": "stream",
     "text": [
      "3395 : ['When was Gian Maria Volonté awarded the Silver Bear?']\n",
      "3396 : ['What is the galaxy cluster with the lowest flux whose constellation is Virgo ?']\n",
      "3397 : ['Name the Character role played by Yunjin Kim as a cast in Lost?']\n"
     ]
    },
    {
     "name": "stdout",
     "output_type": "stream",
     "text": [
      "3398 : ['What is the common name with the highest minimum frequency of audible sound whose on focus list of Wikimedia project is Wikipedia:Vital articles?']\n",
      "3399 : ['At what point in time did the Dominican Republic have 385433 children who were out of school?']\n"
     ]
    },
    {
     "name": "stdout",
     "output_type": "stream",
     "text": [
      "3400 : ['What are the Christian movement which start with the letter P']\n",
      "3401 : ['What was the work John Barry received the Academy Award for Best Original Score that was not a musical?']\n"
     ]
    },
    {
     "name": "stdout",
     "output_type": "stream",
     "text": [
      "3402 : ['What is the PSS-Archi architect id of Sebastien Le Prestre de Vauban?']\n",
      "3403 : ['Who is the patron saint active in Innocent III?']\n"
     ]
    },
    {
     "name": "stdout",
     "output_type": "stream",
     "text": [
      "3404 : ['What sports team did athlete Marco van Basten leave after Jan. 1st, 1987?']\n",
      "3405 : ['What award did Barbara Cook receive in 1955?']\n",
      "3406 : ['Name the biggest galaxy discovered by James Dunlop.']\n",
      "3407 : ['How many Pokémon browser numbers are there for the {Pikachu} ?']\n"
     ]
    },
    {
     "name": "stdout",
     "output_type": "stream",
     "text": [
      "3408 : ['When did Tony Bennett receive a Grammy Lifetime Achievement Award?']\n",
      "3409 : ['Which exchange of Nokia, is shown in Die Hard with a Vengeance?']\n"
     ]
    },
    {
     "name": "stdout",
     "output_type": "stream",
     "text": [
      "3410 : ['What is the educational level of Joseph Koo, who has PIN Code 02215?']\n"
     ]
    },
    {
     "name": "stdout",
     "output_type": "stream",
     "text": [
      "3411 : ['Does the number of losses of the 1924 British Lions tour to South Africa equal 9?']\n",
      "3412 : ['Who owns the label that released Korn albums ?']\n"
     ]
    },
    {
     "name": "stdout",
     "output_type": "stream",
     "text": [
      "3413 : ['Where in Damascus was Mehmed the Conqueror buried?']\n",
      "3414 : ['Which person is the founder of Futurism?']\n",
      "3415 : ['what is the main regulatory  text and the manifestation  of hypertext _ transfer_protocol?']\n",
      "3416 : ['Which country in the Netherlands has the largest VAT-rate and is a member of the International Trade Union Confederation?']\n"
     ]
    },
    {
     "name": "stdout",
     "output_type": "stream",
     "text": [
      "3417 : ['tWhich comic is from fictional universe Marvel Universe and which that starts with the letter p']\n"
     ]
    },
    {
     "name": "stdout",
     "output_type": "stream",
     "text": [
      "3418 : ['What is  translation for originating source of Lê dynasty ?']\n",
      "3419 : ['Which is the communist party of the mouthpiece of Pravda and which contains the word communist in its name?']\n",
      "3420 : ['What caused the end of Harold Macmillans position as Member of the 39th Parliament?']\n"
     ]
    },
    {
     "name": "stdout",
     "output_type": "stream",
     "text": [
      "3421 : ['What type of expression does Wayne Carey use?']\n"
     ]
    },
    {
     "name": "stdout",
     "output_type": "stream",
     "text": [
      "3422 : ['For what role was Rachel McAdams nominated for an Oscar at the 88th Academy Awards?']\n"
     ]
    },
    {
     "name": "stdout",
     "output_type": "stream",
     "text": [
      "3423 : ['What work was Federico Fellini nominated for at the 22nd Academy Awards?']\n",
      "3424 : ['Were there 6265 votes received on the Sixth Amendment of the Constitution of Ireland?']\n",
      "3425 : ['Is the Ministry of Biblical and History Prophecy Symbols thickness less than 0.508']\n"
     ]
    },
    {
     "name": "stdout",
     "output_type": "stream",
     "text": [
      "3426 : ['What ethnic group do the Indigenous people of the United States belong to']\n"
     ]
    },
    {
     "name": "stdout",
     "output_type": "stream",
     "text": [
      "3427 : ['Vladimir Lenin was the leader of which country?']\n",
      "3428 : ['When did Dwyane Wade win the Sports Illustrated Sportsperson of the Year award?']\n",
      "3429 : ['For what work was Gary Cooper nominated for an Academy Award for Best Actor?']\n",
      "3430 : ['Which model of drill has the least vibration?']\n"
     ]
    },
    {
     "name": "stdout",
     "output_type": "stream",
     "text": [
      "3431 : ['What is JSTOR journal code for Foreign Affairs ?']\n"
     ]
    },
    {
     "name": "stdout",
     "output_type": "stream",
     "text": [
      "3432 : ['For which ERs character was Noah Wyle cast?']\n",
      "3433 : ['Which operas are in Russian?']\n"
     ]
    },
    {
     "name": "stdout",
     "output_type": "stream",
     "text": [
      "3434 : ['When did position for officeholder of Mauricio Macri?']\n"
     ]
    },
    {
     "name": "stdout",
     "output_type": "stream",
     "text": [
      "3435 : ['Which is the Encyclopedia of Science Fiction ID of Sherlock Holmes?']\n"
     ]
    },
    {
     "name": "stdout",
     "output_type": "stream",
     "text": [
      "3436 : ['Who replaced Henry VI of England as monarch of England?']\n"
     ]
    },
    {
     "name": "stdout",
     "output_type": "stream",
     "text": [
      "3437 : ['Does the local dialling code for Houston include the country calling code +1?']\n",
      "3438 : ['Which company owns Walt Disney Parks and Resorts?']\n"
     ]
    },
    {
     "name": "stdout",
     "output_type": "stream",
     "text": [
      "3439 : ['When did Robert Byrd stop being a member of the West Virginia House of Delegates?']\n",
      "3440 : ['what {pupil of} {gioachino Rossini} has a {career} as a {musicologist}']\n",
      "3441 : ['What are the property which start with the letter z']\n",
      "3442 : ['Which cultural area has the lowest total imports from the significant event Harrying of the North']\n"
     ]
    },
    {
     "name": "stdout",
     "output_type": "stream",
     "text": [
      "3443 : ['What award did Roger Federer receive in 2009?']\n"
     ]
    },
    {
     "name": "stdout",
     "output_type": "stream",
     "text": [
      "3444 : ['What is the { time point } for { Karl Malone } as { All - NBA Team }?']\n"
     ]
    },
    {
     "name": "stdout",
     "output_type": "stream",
     "text": [
      "3445 : ['WHAT ARE ECONOMIC SECTOR WHICH START WITH THE LETTER N.']\n"
     ]
    },
    {
     "name": "stdout",
     "output_type": "stream",
     "text": [
      "3446 : ['What is the translated version of Septuagint?']\n",
      "3447 : ['Who published God Is Not Great by Christopher Hitchens, and when did it happen?']\n",
      "3448 : ['Is influenza genetically associated with SLC15A1 and COL28A1?']\n",
      "3449 : ['What is the country in the Kuril Islands that ends at 1875-0-0?']\n",
      "3450 : ['The {Finnish MP ID} of {Urho Kekkonen} is what?']\n",
      "3451 : ['What gunpowder developer has a 1318-0-0 birthdate?']\n"
     ]
    },
    {
     "name": "stdout",
     "output_type": "stream",
     "text": [
      "3452 : ['What is ISU figure skater ID for Ilia Kulik ?']\n"
     ]
    },
    {
     "name": "stdout",
     "output_type": "stream",
     "text": [
      "3453 : ['What is played by a baseball bat that has the field of this profession as baseball?']\n",
      "3454 : ['What Éric Rohmer is nominated for his work The Marquise of O?']\n"
     ]
    },
    {
     "name": "stdout",
     "output_type": "stream",
     "text": [
      "3455 : ['What sports team did Kareem Abdul-Jabbar play for and when did he leave the team?']\n",
      "3456 : ['How many distributions are there of a printed circuit board?']\n"
     ]
    },
    {
     "name": "stdout",
     "output_type": "stream",
     "text": [
      "3457 : ['What is the open source hardware with the lowest voltage whose connector is USB Micro-B?']\n",
      "3458 : ['Is the orbital period of the 4765 Wasserburg equal to 2.71?']\n"
     ]
    },
    {
     "name": "stdout",
     "output_type": "stream",
     "text": [
      "3459 : ['Where in Sweden Max von Sydow was born?']\n",
      "3460 : ['What city does Curtis Institute of Music reside in, and has wards in Cameron County?']\n",
      "3461 : ['When did Humphrey Bogart and Mayo Methot get married?']\n",
      "3462 : ['What is the tributary for Mississippi River having a height of 242.0?']\n"
     ]
    },
    {
     "name": "stdout",
     "output_type": "stream",
     "text": [
      "3463 : ['What diplomatic relation to Canada is in the administrative unit of Victoria?']\n",
      "3464 : ['Who {is son of} {Eileen OCasey} {has children} ?']\n",
      "3465 : ['What is synonymous with assault but unlike murder?']\n"
     ]
    },
    {
     "name": "stdout",
     "output_type": "stream",
     "text": [
      "3466 : ['How many democracies are formed by republics?']\n"
     ]
    },
    {
     "name": "stdout",
     "output_type": "stream",
     "text": [
      "3467 : ['Which planet does Mir orbit?']\n",
      "3468 : ['What is the major for studying the past?']\n",
      "3469 : ['Tell me asymmetric warfare  whose name has the word drug  in it.']\n"
     ]
    },
    {
     "name": "stdout",
     "output_type": "stream",
     "text": [
      "3470 : ['What movie did Jim Henson direct?']\n"
     ]
    },
    {
     "name": "stdout",
     "output_type": "stream",
     "text": [
      "3471 : ['What is starchs ECHA infoCard ID?']\n"
     ]
    },
    {
     "name": "stdout",
     "output_type": "stream",
     "text": [
      "3472 : ['What is Hepatitis Cs health specialty and medical examinations']\n"
     ]
    },
    {
     "name": "stdout",
     "output_type": "stream",
     "text": [
      "3473 : ['What award did Alec Baldwin win in 2017?']\n",
      "3474 : ['Ireland  has how many ancestral homes?']\n"
     ]
    },
    {
     "name": "stdout",
     "output_type": "stream",
     "text": [
      "3475 : ['How many official religions are there for the {Protestantism} ?']\n"
     ]
    },
    {
     "name": "stdout",
     "output_type": "stream",
     "text": [
      "3476 : ['What is the  Q48460  faith of Pala Empire ?']\n"
     ]
    },
    {
     "name": "stdout",
     "output_type": "stream",
     "text": [
      "3477 : ['When did Nigel Farage started to work at Refco and when did he leave?']\n",
      "3478 : ['Which is the Thyssen-Bornemisza artist ID of Maurice de Vlaminck?']\n",
      "3479 : ['Is the stall speed of the Boing 747 equal to 200.0?']\n"
     ]
    },
    {
     "name": "stdout",
     "output_type": "stream",
     "text": [
      "3480 : ['Were the number of casualties of the 2005 Jilin chemical plant explosions less than 4.8?']\n",
      "3481 : ['What is Womens Basketball Hall of Fame ID for Lisa Leslie ?']\n"
     ]
    },
    {
     "name": "stdout",
     "output_type": "stream",
     "text": [
      "3482 : ['Vanessa Redgrave was nominated for the Academy Awards.']\n",
      "3483 : ['How many drainage basins are by Chad Basin?']\n",
      "3484 : ['What is the motif, whose symbol is the Earth symbol, of The Blue Marble?']\n",
      "3485 : ['What is the birth city of Laurie Anderson that is a partner town to Mexico City?']\n"
     ]
    },
    {
     "name": "stdout",
     "output_type": "stream",
     "text": [
      "3486 : ['What is Paul Hindemiths GTAA ID?']\n"
     ]
    },
    {
     "name": "stdout",
     "output_type": "stream",
     "text": [
      "3487 : ['Who is a partner in the characters of Disneys Magical Quest 3 (starring Mickey & Donald)?']\n",
      "3488 : ['Was Zakir Hussain the winner for the Grammy Award for Best Contemporary World Music Album?']\n",
      "3489 : ['How many ports of registry are by Tallinn?']\n"
     ]
    },
    {
     "name": "stdout",
     "output_type": "stream",
     "text": [
      "3490 : ['Is the pitting resistance equivalent number of the UNS S32760 / EN 1.4501 super duplex stainless steel more than 48?']\n"
     ]
    },
    {
     "name": "stdout",
     "output_type": "stream",
     "text": [
      "3491 : ['Which is the written work which has English as a language of work?']\n"
     ]
    },
    {
     "name": "stdout",
     "output_type": "stream",
     "text": [
      "3492 : ['What is the longest book review published in The Archaeological Journal?']\n",
      "3493 : ['How many captains are there for the Montreal Canadiens?']\n",
      "3494 : ['Who has the highest Elo rating?']\n"
     ]
    },
    {
     "name": "stdout",
     "output_type": "stream",
     "text": [
      "3495 : ['What is Drogos birthdate?']\n",
      "3496 : ['Which is the main subject for history of religions?']\n",
      "3497 : ['Which election applies to the Weimer Republic?']\n",
      "3498 : ['When did Pyotr Ilyich Tchaikovsky leave the Saint Petersburg Conservatory?']\n"
     ]
    },
    {
     "name": "stdout",
     "output_type": "stream",
     "text": [
      "3499 : ['Is the orbital eccentricity of Desdemona more than 0.000156?']\n",
      "3500 : ['What is the trend of sculptors of Physichromie 48']\n",
      "3501 : ['What did Jacques Lacan study in the year 1919?']\n"
     ]
    },
    {
     "name": "stdout",
     "output_type": "stream",
     "text": [
      "3502 : ['Is the wavelength of the Hydrogen Line 25.327336865?']\n",
      "3503 : ['What is the quantity for canton of Switzerland?']\n"
     ]
    },
    {
     "name": "stdout",
     "output_type": "stream",
     "text": [
      "3504 : ['When did Robert Musil earn his doctoral degree?']\n"
     ]
    },
    {
     "name": "stdout",
     "output_type": "stream",
     "text": [
      "3505 : ['Who is the partner/spouse of Manuel Ferrara?']\n"
     ]
    },
    {
     "name": "stdout",
     "output_type": "stream",
     "text": [
      "3506 : ['What award did Frank Herbert receive in 1966?']\n"
     ]
    },
    {
     "name": "stdout",
     "output_type": "stream",
     "text": [
      "3507 : ['What is the holiday Purim about?']\n",
      "3508 : ['Tell me the military decoration of the next lower rank to George Cross and starts with the letter c?']\n",
      "3509 : ['Which is the bite force quotient for sun bear?']\n"
     ]
    },
    {
     "name": "stdout",
     "output_type": "stream",
     "text": [
      "3510 : ['Is it true that the Tsing Ma Bridge has a clearance that is equal to 62?']\n",
      "3511 : ['Did Manuel I Komnenos hold his position in 1143-4-8']\n",
      "3512 : ['What is WOE ID for Stuttgart?']\n"
     ]
    },
    {
     "name": "stdout",
     "output_type": "stream",
     "text": [
      "3513 : ['What city was Phil LaMarr born in?']\n",
      "3514 : ['How many ethnic groups are in Brazil?']\n"
     ]
    },
    {
     "name": "stdout",
     "output_type": "stream",
     "text": [
      "3515 : ['What is the human being for Steven Pinkers sibling?']\n"
     ]
    },
    {
     "name": "stdout",
     "output_type": "stream",
     "text": [
      "3516 : ['What ancient civilization is located on a classical land?']\n"
     ]
    },
    {
     "name": "stdout",
     "output_type": "stream",
     "text": [
      "3517 : ['What is the subcellular localization of the EH-domain containing 1?']\n",
      "3518 : ['Which is the strand orientation for RHO?']\n"
     ]
    },
    {
     "name": "stdout",
     "output_type": "stream",
     "text": [
      "3519 : ['Is the electric dipole moment of pyrrole less than 2.1204?']\n",
      "3520 : ['Who did Eddie Fisher marry in 1967?']\n",
      "3521 : ['Where is the headquarters of the national museum of Prague?']\n"
     ]
    },
    {
     "name": "stdout",
     "output_type": "stream",
     "text": [
      "3522 : ['Did Marilyn Monroe speak Romance languages?']\n",
      "3523 : ['Which award did Leon Festinger receive in 1959?']\n"
     ]
    },
    {
     "name": "stdout",
     "output_type": "stream",
     "text": [
      "3524 : ['What is {owned by} and the {influenced by} of {JavaScript} ?']\n",
      "3525 : ['When did Kurmanbek Bakiyev end as head of state for Kyrgyzstan?']\n",
      "3526 : ['What are the Beer festival which start with the letter o']\n",
      "3527 : ['Can you describe the state of Hagia Sophia in 1931?']\n",
      "3528 : ['What is the dimension of works by Jean Racine?']\n"
     ]
    },
    {
     "name": "stdout",
     "output_type": "stream",
     "text": [
      "3529 : ['What award did Jean-Claude Killy receive in Alpine skiing at the 1968 Winter Olympics - Mens downhill?']\n"
     ]
    },
    {
     "name": "stdout",
     "output_type": "stream",
     "text": [
      "3530 : ['What member is co-founded by Gianfranco Sanguinetti?']\n",
      "3531 : ['Is the height of Sumbawa Pony greater than 0.96?']\n",
      "3532 : ['Who was the wife of Valentinian I?']\n"
     ]
    },
    {
     "name": "stdout",
     "output_type": "stream",
     "text": [
      "3533 : ['Which Chinese Dynasty had its capital at Nanjing?']\n",
      "3534 : ['What is the Norwegian DRM called?']\n",
      "3535 : ['Name a part of India history that contain the word history in its name ?']\n",
      "3536 : ['What military order starts with the letter s?']\n"
     ]
    },
    {
     "name": "stdout",
     "output_type": "stream",
     "text": [
      "3537 : ['What is the location of the fomation of N SYNC?']\n",
      "3538 : ['When did open days of British Museum and closed on?']\n"
     ]
    },
    {
     "name": "stdout",
     "output_type": "stream",
     "text": [
      "3539 : ['Who gave the{ZIP+4} of {resident in} of {James Ellroy} ?']\n",
      "3540 : ['What is the abjad that is the language of work or name of Hebrew and contains the word alphabet?']\n"
     ]
    },
    {
     "name": "stdout",
     "output_type": "stream",
     "text": [
      "3541 : ['What is the moon of the heliosphere of topic?']\n"
     ]
    },
    {
     "name": "stdout",
     "output_type": "stream",
     "text": [
      "3542 : ['In which city Die Hard takes place ?']\n"
     ]
    },
    {
     "name": "stdout",
     "output_type": "stream",
     "text": [
      "3543 : ['What is the territorial jurisdiction of Plessy v. Ferguson, that has a total fertility rate of 2.0075?']\n",
      "3544 : ['Are there 411600000.0 children on Earth out of school']\n",
      "3545 : ['What are the natural number which start with the letter g']\n"
     ]
    },
    {
     "name": "stdout",
     "output_type": "stream",
     "text": [
      "3546 : ['What was the population of Galicia in Jan. 1st, 2018']\n",
      "3547 : ['When did Karrie Webb receive an Australian Sports Medal?']\n"
     ]
    },
    {
     "name": "stdout",
     "output_type": "stream",
     "text": [
      "3548 : ['Which limestone powder has the highest emissivity?']\n",
      "3549 : ['What is FIDE ID for Anatoly Karpov ?']\n",
      "3550 : ['What is the number of Parkinsons disease genetic associations?']\n"
     ]
    },
    {
     "name": "stdout",
     "output_type": "stream",
     "text": [
      "3551 : ['who is daddy of movie director for Valentines Day ?']\n",
      "3552 : ['Is the cruise speed of the Airbus A340 equal to 905?']\n",
      "3553 : ['who is rector of Karl Weierstraß ?']\n"
     ]
    },
    {
     "name": "stdout",
     "output_type": "stream",
     "text": [
      "3554 : ['who shore of located on islet of high stile?']\n",
      "3555 : ['How many vegan cuisines are there?']\n"
     ]
    },
    {
     "name": "stdout",
     "output_type": "stream",
     "text": [
      "3556 : ['What technique used in tapestry is not used for upholstery?']\n",
      "3557 : ['What award did Henry Dunant receive that granted him $75,391 in prize money?']\n",
      "3558 : ['Who preceded and succeeded to Amy Winehouse for the Grammy Award for Best New Artist?']\n"
     ]
    },
    {
     "name": "stdout",
     "output_type": "stream",
     "text": [
      "3559 : ['Where did Doris Ulmann die, with 391114 inhabitants?']\n",
      "3560 : ['Tell me the federal states that starts with the letter s']\n"
     ]
    },
    {
     "name": "stdout",
     "output_type": "stream",
     "text": [
      "3561 : ['Which film is Amanda Bynes in?']\n",
      "3562 : ['Tell me logographic writing system whose name has the word script in it']\n",
      "3563 : ['What is the sister city of Antwerp, that has cities in Minhang District?']\n",
      "3564 : ['Which is the direct-controlled municipality which contains the word tianjin in its name?']\n",
      "3565 : ['What desalination plant material has the greatest yield strength?']\n"
     ]
    },
    {
     "name": "stdout",
     "output_type": "stream",
     "text": [
      "3566 : ['When did Elon Musk marry his spouse Justine Musk?']\n"
     ]
    },
    {
     "name": "stdout",
     "output_type": "stream",
     "text": [
      "3567 : ['Which is the cast member for King Kong?']\n",
      "3568 : ['When was the Nintendo 3DS published from Australia?']\n",
      "3569 : ['Who is a team member of the Chicago Cubs?']\n"
     ]
    },
    {
     "name": "stdout",
     "output_type": "stream",
     "text": [
      "3570 : ['When is {publication date} of {Taxi Driver} where is {place of publication} is {Germany} ?']\n",
      "3571 : ['What are the afflicts caused by 2,4,6-trinitrotoluene?']\n",
      "3572 : ['Is Chuck Norris the student of Sun Hwan Chung?']\n"
     ]
    },
    {
     "name": "stdout",
     "output_type": "stream",
     "text": [
      "3573 : ['Where is Jacob W. Davis place of death that is adjacent to Daly City?']\n"
     ]
    },
    {
     "name": "stdout",
     "output_type": "stream",
     "text": [
      "3574 : ['Which is the ZDB ID for Maxim?']\n",
      "3575 : ['Which is the candidacy in election for Felipe González?']\n",
      "3576 : ['What was Mary Martin nominated for in 1967?']\n"
     ]
    },
    {
     "name": "stdout",
     "output_type": "stream",
     "text": [
      "3577 : ['Did Caffeine subject has role stimulant and PDE3 inhibitor ?']\n"
     ]
    },
    {
     "name": "stdout",
     "output_type": "stream",
     "text": [
      "3578 : ['Name the events surrounding the death of Nizam al-Mulk reiterated by people?']\n",
      "3579 : ['Is it true that the wavelength of the Radio Astronomical Telescope Academy Nauk 600 is greater than 24.88?']\n",
      "3580 : ['What award did Alexander Fleming receive and when did he receive it?']\n",
      "3581 : ['What was the cause of Lady Godivas death on September 10, 1067?']\n"
     ]
    },
    {
     "name": "stdout",
     "output_type": "stream",
     "text": [
      "3582 : ['Whats the California Sports Hall of Fame athlete ID of Greg Louganis']\n"
     ]
    },
    {
     "name": "stdout",
     "output_type": "stream",
     "text": [
      "3583 : ['Is it true that the volume as quantity of Barragem Canrobert 1 equals to 0.0056?']\n"
     ]
    },
    {
     "name": "stdout",
     "output_type": "stream",
     "text": [
      "3584 : ['When did character from Star Wars for killed by of Luke Skywalker?']\n",
      "3585 : ['What Lebesgue integration etymology died in 1942-7-26?']\n",
      "3586 : ['When John Dueholm ended as manager/director at Scandinavian Airlines?']\n"
     ]
    },
    {
     "name": "stdout",
     "output_type": "stream",
     "text": [
      "3587 : ['What is the Dictionary of Ulster Biography of Samuel Beckett?']\n",
      "3588 : ['Is it true that the VAT-rate of the Australia equals to 8.0?']\n"
     ]
    },
    {
     "name": "stdout",
     "output_type": "stream",
     "text": [
      "3589 : ['What is the outcome of  the antonym  of plasma recombination?']\n",
      "3590 : ['What is the opposite of led to when referencing a family?']\n"
     ]
    },
    {
     "name": "stdout",
     "output_type": "stream",
     "text": [
      "3591 : ['is the dept of the mittelland canal 52.27703333333 7.6040944444444?']\n",
      "3592 : ['Is it true that the number of deaths of Air Transat Flight 236 is less than 0.0?']\n"
     ]
    },
    {
     "name": "stdout",
     "output_type": "stream",
     "text": [
      "3593 : ['Does the compressive strength of the callitris glaucophylla equal 40?']\n",
      "3594 : ['how many records are held for pole vaulting?']\n",
      "3595 : ['WHAT ARE THE KING IN GREEK MYTHOLOGY STARTS WITH t']\n"
     ]
    },
    {
     "name": "stdout",
     "output_type": "stream",
     "text": [
      "3596 : ['What electoral district was Moon Jae-in positioned in South Korea?']\n",
      "3597 : ['What is the way to pronunciation taxon parent of Mentha spicata?']\n"
     ]
    },
    {
     "name": "stdout",
     "output_type": "stream",
     "text": [
      "3598 : ['When was Dwayne Johnson nominated for the MTV Movie Award for Best Villain?']\n"
     ]
    },
    {
     "name": "stdout",
     "output_type": "stream",
     "text": [
      "3599 : ['Who is Devi that is worshipped by Hinduism and contains the word lakshmi in his name?']\n",
      "3600 : ['What are the medications by which mental disorder is treated?']\n",
      "3601 : ['When was Shania Twain nominated for the Best Female Country Vocal Performance at the Grammys?']\n",
      "3602 : ['Is Shiva in Mount Nandi?']\n"
     ]
    },
    {
     "name": "stdout",
     "output_type": "stream",
     "text": [
      "3603 : ['Who is the writer that works at Metal-induced pre-organisation for anion recognition in a neutral platinum-containing receptor?']\n",
      "3604 : ['where is mouth of the watercourse of Neva that is of is Gulf of Finland ?']\n",
      "3605 : ['When did Cha Bum-kun leave Bayer 04 Leverkusen?']\n"
     ]
    },
    {
     "name": "stdout",
     "output_type": "stream",
     "text": [
      "3606 : ['Who are the students of Pablo Picasso?']\n",
      "3607 : ['How many teams are participating for {Chicago Bulls} ?']\n"
     ]
    },
    {
     "name": "stdout",
     "output_type": "stream",
     "text": [
      "3608 : ['which country club has the highest slop rating?']\n",
      "3609 : ['IS THE NUMBER OF PAGES OF PERCEPTIONS ABOUT POSTDOCS EQUALS 1']\n"
     ]
    },
    {
     "name": "stdout",
     "output_type": "stream",
     "text": [
      "3610 : ['What is the VGMDB artist ID for Burt Bacharach?']\n",
      "3611 : ['What number of theft convictions exist?']\n"
     ]
    },
    {
     "name": "stdout",
     "output_type": "stream",
     "text": [
      "3612 : ['The Lagrangian point of Wilkinson Microwave Anisotropy Probe is?']\n",
      "3613 : ['What is in the ward of the University of Groningen, of which the coat of arms is the coat of arms of Groningen?']\n",
      "3614 : ['When did Menachem Mendel Schneerson do his work for Likkutei Sichos?']\n"
     ]
    },
    {
     "name": "stdout",
     "output_type": "stream",
     "text": [
      "3615 : ['What is Atheneum museum ID for Vatican Museums ?']\n",
      "3616 : ['For Karlheinz Stockhausen was spoused was in the end time in the year 1972?']\n",
      "3617 : ['What position is referred to by the honorific prefix Salman of Saudi Arabia?']\n"
     ]
    },
    {
     "name": "stdout",
     "output_type": "stream",
     "text": [
      "3618 : ['What is the position held by Mr. Gordon Brown in electoral district as a member of the 54th parliament of the United Kingdom?']\n",
      "3619 : ['Which is the conifers.org ID for Ginkgo Biloba?']\n",
      "3620 : ['is it true that the thermal conductivity of tin II oxide is equal to 38.24?']\n"
     ]
    },
    {
     "name": "stdout",
     "output_type": "stream",
     "text": [
      "3621 : ['what did him give himself the pseudonym france gall?']\n"
     ]
    },
    {
     "name": "stdout",
     "output_type": "stream",
     "text": [
      "3622 : ['Name the district of China that contains Shanghai.']\n",
      "3623 : ['Does the angle from vertical of the Leaning Tower of Pisa equal 3.97?']\n"
     ]
    },
    {
     "name": "stdout",
     "output_type": "stream",
     "text": [
      "3624 : ['What are the physical consequences and drug interactions of Cocaine?']\n",
      "3625 : ['What award did Marvin Minsky receive in the early 1900s ?']\n"
     ]
    },
    {
     "name": "stdout",
     "output_type": "stream",
     "text": [
      "3626 : ['Is the size of team at start of the World Poker Tour season 5 results equal to 639?']\n",
      "3627 : ['Who gave the{affiliate of} of {plays for} of {Amauri Sanit} ?']\n"
     ]
    },
    {
     "name": "stdout",
     "output_type": "stream",
     "text": [
      "3628 : ['What are the mantra which start with the letter M']\n"
     ]
    },
    {
     "name": "stdout",
     "output_type": "stream",
     "text": [
      "3629 : ['How is the average lethal dose of acetylene 850000 administered?']\n",
      "3630 : ['When did Wisconsin have a population of 1.05467e+0.6?']\n"
     ]
    },
    {
     "name": "stdout",
     "output_type": "stream",
     "text": [
      "3631 : ['Of what is Richard Hofstadter a member, who is specialist in American studies?']\n",
      "3632 : ['What is the the early childhood baptism date for Diego Velazquez from Iglesia de San Pedro?']\n",
      "3633 : ['Is the maximum capacity of the Zipflbob less than 1.2?']\n"
     ]
    },
    {
     "name": "stdout",
     "output_type": "stream",
     "text": [
      "3634 : ['What is the significant incident of Anna Berliners marriage?']\n",
      "3635 : ['How many diocese are there in the Russian Orthodox Church?']\n"
     ]
    },
    {
     "name": "stdout",
     "output_type": "stream",
     "text": [
      "3636 : ['What is the capital of England?']\n"
     ]
    },
    {
     "name": "stdout",
     "output_type": "stream",
     "text": [
      "3637 : ['When did Kliningrad split from Baranovichi?']\n"
     ]
    },
    {
     "name": "stdout",
     "output_type": "stream",
     "text": [
      "3638 : ['What awards did George Meredith receive for Merit?']\n",
      "3639 : ['How many matches did Eric Cantona play for FC Martigues?']\n"
     ]
    },
    {
     "name": "stdout",
     "output_type": "stream",
     "text": [
      "3640 : ['When did Tallahassee have a population of 181376?']\n"
     ]
    },
    {
     "name": "stdout",
     "output_type": "stream",
     "text": [
      "3641 : ['What are the series ordinal for hydrazine whose ionization energy is 8.93?']\n"
     ]
    },
    {
     "name": "stdout",
     "output_type": "stream",
     "text": [
      "3642 : ['Who gave the {has grammatical person} of {language} of {Franz Kline} ?']\n",
      "3643 : ['What is Zygopteras BHL Page ID?']\n"
     ]
    },
    {
     "name": "stdout",
     "output_type": "stream",
     "text": [
      "3644 : ['What is the TA98 Latin term of epidermis?']\n",
      "3645 : ['WHAT ARE THE SHIPWRECKING WHOSE NAME HAS THE WORD ALESUNDSOLYCKORNA IN IT']\n",
      "3646 : ['WHO IS THE FOUNDER OF THE GAUSSIAN ELIMINATION THAT WAS BORN APRIL 4, 1777?']\n",
      "3647 : ['where is the anatomical location and connects with Brain?']\n",
      "3648 : ['What was the population of Lubeck in 1946?']\n"
     ]
    },
    {
     "name": "stdout",
     "output_type": "stream",
     "text": [
      "3649 : ['What did Martin Landau get nominated for his performance at Tucker: The Man and His Dream?']\n",
      "3650 : ['Who is the child of Charlemagne and who is their mother?']\n",
      "3651 : ['Whose brother painted a painting of Shiva with Parvati, Ganesha, and Nandi?']\n"
     ]
    },
    {
     "name": "stdout",
     "output_type": "stream",
     "text": [
      "3652 : ['When did Abu Bakr stop being Rashidun Caliphate?']\n",
      "3653 : ['Anatoly Karpov has how many title of chess players']\n",
      "3654 : ['Who is native to the British English area, that has diplomatic relation to Russia?']\n",
      "3655 : ['Which is the USK rating of Grand Theft Auto III?']\n"
     ]
    },
    {
     "name": "stdout",
     "output_type": "stream",
     "text": [
      "3656 : ['Where is the tourist office of Hanover?']\n"
     ]
    },
    {
     "name": "stdout",
     "output_type": "stream",
     "text": [
      "3657 : ['Who is the editor of The New York Times?']\n",
      "3658 : ['When did Charles Stewart Parnell start holding the position as Member of the 24th Parliament of the United Kingdom?']\n"
     ]
    },
    {
     "name": "stdout",
     "output_type": "stream",
     "text": [
      "3659 : ['Which is the MusicBrainz work ID for Adagio in G minor?']\n",
      "3660 : ['Which language is the stable version of Android?']\n"
     ]
    },
    {
     "name": "stdout",
     "output_type": "stream",
     "text": [
      "3661 : ['Which is the Japanese writing system for the writing system of Japanese?']\n",
      "3662 : ['Which {daddy} of {starring} of {Sweet Little Lies} ?']\n",
      "3663 : ['When did Battle of Quiberon Bay happen?']\n",
      "3664 : ['What topic of meditation has its originating source in Tripitaka?']\n"
     ]
    },
    {
     "name": "stdout",
     "output_type": "stream",
     "text": [
      "3665 : ['Where is Sindh geographically located']\n",
      "3666 : ['Which is the protein that is the encoding of INS?']\n"
     ]
    },
    {
     "name": "stdout",
     "output_type": "stream",
     "text": [
      "3667 : ['For which song did Mick Jagger win a Golden Globe Award for Best Original Song?']\n",
      "3668 : ['Is it true that the foreign direct investment net inflow of Belarus equals to 16663500000?']\n"
     ]
    },
    {
     "name": "stdout",
     "output_type": "stream",
     "text": [
      "3669 : ['Which is {label in official language} of {muscle insertion} {clavicle} ?']\n",
      "3670 : ['What is it?']\n",
      "3671 : ['Abu Musab al-Zarqawir is chairperson of what organization?']\n"
     ]
    },
    {
     "name": "stdout",
     "output_type": "stream",
     "text": [
      "3672 : ['What is The Merchant of Venices genre and characters?']\n",
      "3673 : ['What are the video game series which start with the letter W']\n"
     ]
    },
    {
     "name": "stdout",
     "output_type": "stream",
     "text": [
      "3674 : ['Which is the VIAF ID for Tom Holland?']\n",
      "3675 : ['What Goddess executed Osiris?']\n"
     ]
    },
    {
     "name": "stdout",
     "output_type": "stream",
     "text": [
      "3676 : ['Which is the roof shape which contains the word tower in its name?']\n",
      "3677 : ['Who  publish the Healing Islands?']\n",
      "3678 : ['Which is the distribution map for Yue Chinese?']\n",
      "3679 : ['For what work did François Mauriac receive the award Grand Prix du roman de lAcadémie française?']\n",
      "3680 : ['Which is the FFH-Habitat which contains the word vegetation in its name?']\n"
     ]
    },
    {
     "name": "stdout",
     "output_type": "stream",
     "text": [
      "36813682 : ['When was Luca Ceriscioli the head of government for Marche?']\n",
      " : ['Which is the road bridge in the next crossing upstream of Sydney Harbour Bridge?']\n"
     ]
    },
    {
     "name": "stdout",
     "output_type": "stream",
     "text": [
      "3683 : ['What is the antonym of the aspect of animal colouration?']\n",
      "3684 : ['Which is the ISO 639-5 code of Aramaic?']\n",
      "3685 : ['IS THE BASIC SALARY OF GEORGE STEHENSON LESS THAN 528?']\n"
     ]
    },
    {
     "name": "stdout",
     "output_type": "stream",
     "text": [
      "3686 : ['Who was nominated for Mr. Smith Goes to Washington at the 12th Academy Awards?']\n"
     ]
    },
    {
     "name": "stdout",
     "output_type": "stream",
     "text": [
      "3687 : ['Who is the member of Neymars sports team and what is their start time?']\n"
     ]
    },
    {
     "name": "stdout",
     "output_type": "stream",
     "text": [
      "3688 : ['What administrative division originates from As the World Turns?']\n",
      "3689 : ['Where did Buddenbrooks play Bendix Grunlich?']\n",
      "3690 : ['what is the star has the highest proper motion?']\n"
     ]
    },
    {
     "name": "stdout",
     "output_type": "stream",
     "text": [
      "3691 : ['Where is the headquarters of the car manufacturer Lyon']\n",
      "3692 : ['What is the name and date of the sequel to Iguanodon?']\n"
     ]
    },
    {
     "name": "stdout",
     "output_type": "stream",
     "text": [
      "3693 : ['Which academic majoor did Bernice Rubens choose at the University of Wales and which degree did she reach?']\n",
      "3694 : ['Which is the game mode that contains the word versus in its name?']\n",
      "3695 : ['What is the validity period of Bologna during which it is located in the time zone UTC+02:00?']\n",
      "3696 : ['Does the longitude of ascending node for the 10387 Bepicolombo equal 0.77616?']\n"
     ]
    },
    {
     "name": "stdout",
     "output_type": "stream",
     "text": [
      "3697 : ['What is Wilhelm Ostwalds Biografisch Portaal number?']\n"
     ]
    },
    {
     "name": "stdout",
     "output_type": "stream",
     "text": [
      "3698 : ['Who is the business owner of Barbie the doll maker']\n",
      "3699 : ['What is (different) of (moorland)and has the (geographic coordinate) of (55.9439)?']\n"
     ]
    },
    {
     "name": "stdout",
     "output_type": "stream",
     "text": [
      "3700 : ['Who is the namesake of the Lorentz force, who was also a member of the Royal Netherlands Academy of Arts and Sciences?']\n",
      "3701 : ['Give me the name of the person who replaced Ion Antonescu for the position he held as the Prime Minister of Romania?']\n",
      "3702 : ['Which country has the highest quality of life according to the international center for settlement of investment disputes.']\n"
     ]
    },
    {
     "name": "stdout",
     "output_type": "stream",
     "text": [
      "3703 : ['What is a natural feature of a tributary of the Salma Dam?']\n",
      "3704 : ['Is the number of losses of Zaur Kasumov equal to 2?']\n",
      "3705 : ['What  typology does Richard Wright use when writing languages?']\n"
     ]
    },
    {
     "name": "stdout",
     "output_type": "stream",
     "text": [
      "3706 : ['in what country is belgrade located and when did it end?']\n"
     ]
    },
    {
     "name": "stdout",
     "output_type": "stream",
     "text": [
      "3707 : ['What is the first name of Paul Verhoeven, since it is said to be different from Pawel?']\n"
     ]
    },
    {
     "name": "stdout",
     "output_type": "stream",
     "text": [
      "3708 : ['Who is in Manhattan Project?']\n",
      "3709 : ['What product is developed by Advanced Audio Coding, that has a World Geodetic System of 84 by 49.5472?']\n",
      "3710 : ['What are the jobs that start with letter W ?']\n"
     ]
    },
    {
     "name": "stdout",
     "output_type": "stream",
     "text": [
      "37113712 : ['What is the National Inventors Hall of Fame ID for Douglas Engelbart?']\n",
      " : ['What movie did Baz Luhrmann direct?']\n",
      "3713 : ['WHEN DID PENELOPE RECEIVED THE AWARD OF THE FOUNDATION?']\n",
      "3714 : ['What is the total amount of operators employed in the London Underground?']\n"
     ]
    },
    {
     "name": "stdout",
     "output_type": "stream",
     "text": [
      "3715 : ['Who made the Jorkwang Film?']\n"
     ]
    },
    {
     "name": "stdout",
     "output_type": "stream",
     "text": [
      "3716 : ['When did Kaunas have the area of 157?']\n",
      "3717 : ['Who gave the {unit symbol} of {based upon} of {lumen} ?']\n",
      "3718 : ['Which is the end period for the old age?']\n"
     ]
    },
    {
     "name": "stdout",
     "output_type": "stream",
     "text": [
      "3720 : ['What is the exchange of the Leaf Trombone: World Stage} ?']\n"
     ]
    },
    {
     "name": "stdout",
     "output_type": "stream",
     "text": [
      "3721 : ['How many superpowers does Superman have?']\n",
      "3722 : ['What is the name of the culture of pupil of Isocrates?']\n",
      "3723 : ['How many matches did Josef Bican play for what team?']\n",
      "3724 : ['What school did Thomas J. Healeys sibling attend?']\n"
     ]
    },
    {
     "name": "stdout",
     "output_type": "stream",
     "text": [
      "3725 : ['What was NCIS nominated for in the year 2013?']\n",
      "3726 : ['When was lutetium discovered?']\n"
     ]
    },
    {
     "name": "stdout",
     "output_type": "stream",
     "text": [
      "3727 : ['Which was the political party of the chairperson of Josip Broz Tito?']\n",
      "3728 : ['What sub-province-level division starts with the letter x?']\n"
     ]
    },
    {
     "name": "stdout",
     "output_type": "stream",
     "text": [
      "3729 : ['How many fastest lap times are held by Lewis Hamilton?']\n"
     ]
    },
    {
     "name": "stdout",
     "output_type": "stream",
     "text": [
      "3730 : ['Is the number of spoilt votes of the Passo Fundo mayoral election, 2016 3968?']\n",
      "3731 : ['Which are famous books of Maurice?']\n",
      "3732 : ['What is the child body of Milky that has a light travel distance of 33600?']\n",
      "3733 : ['Who is the current holder of the award once won by Andre Geim?']\n",
      "3734 : ['When was Innsbruck twinned with Kraków?']\n"
     ]
    },
    {
     "name": "stdout",
     "output_type": "stream",
     "text": [
      "3735 : ['What is the title of the anthem of Somaliland?']\n",
      "3736 : ['Which is the currency that has a location of final assembly the Royal Mint and contains the word pound in its name?']\n",
      "3737 : ['Which player positions on the sports team sprint?']\n"
     ]
    },
    {
     "name": "stdout",
     "output_type": "stream",
     "text": [
      "3738 : ['Explain the historical process of a polymerase chain reaction.']\n",
      "3739 : ['In what sister city of Bordeaux did Robert Aldrich die?']\n"
     ]
    },
    {
     "name": "stdout",
     "output_type": "stream",
     "text": [
      "3740 : ['What causes Anthrax and what drug is used for treatment?']\n"
     ]
    },
    {
     "name": "stdout",
     "output_type": "stream",
     "text": [
      "3742 : ['Where Carl Theodor Dreyer born at Denmark died?']\n"
     ]
    },
    {
     "name": "stdout",
     "output_type": "stream",
     "text": [
      "3743 : ['Does the takeoff roll of the G.91T equal to 4760?']\n"
     ]
    },
    {
     "name": "stdout",
     "output_type": "stream",
     "text": [
      "3744 : ['What is the ISO 639-3 code for Tagalog?']\n",
      "3745 : ['is ANZUS a signatory?']\n"
     ]
    },
    {
     "name": "stdout",
     "output_type": "stream",
     "text": [
      "3746 : ['Who are members of sports team of Clarence Seedorf since the year 2002?']\n",
      "3747 : ['Who is the wife of Medgar Evers in 1951?']\n",
      "3748 : ['Tell me the relation between Pieter Brueghel the Elder and Pieter III. Brueghel ?']\n"
     ]
    },
    {
     "name": "stdout",
     "output_type": "stream",
     "text": [
      "3749 : ['Which Chinese Han that studied engineering has the lowest estimated net worth?']\n"
     ]
    },
    {
     "name": "stdout",
     "output_type": "stream",
     "text": [
      "3750 : ['Which is the Royal Academy new identifier for Cardinal Richelieu?']\n",
      "3751 : ['Who is the husband of the costume designer from The Fuller Brush Girl?']\n",
      "3752 : ['Give me a social class name that contains the word zeugitae in it.']\n",
      "3753 : ['What is SummitPost id for Oregon Coast Range?']\n"
     ]
    },
    {
     "name": "stdout",
     "output_type": "stream",
     "text": [
      "3754 : ['How many quadrupedal means of locomotion are there?']\n",
      "3755 : ['What are the examinations of the consequences of alcoholism?']\n",
      "3756 : ['Which key is Violin Concerto No. 1 Bruch?']\n"
     ]
    },
    {
     "name": "stdout",
     "output_type": "stream",
     "text": [
      "3758 : ['What Japanese language television station broadcasts in English?']\n",
      "3759 : ['What was the population of Le Mans at the beginning of 2015?']\n"
     ]
    },
    {
     "name": "stdout",
     "output_type": "stream",
     "text": [
      "3760 : ['Esperanto singed form?']\n",
      "3761 : ['What award did David Foster win in 2003?']\n"
     ]
    },
    {
     "name": "stdout",
     "output_type": "stream",
     "text": [
      "3762 : ['What is the religion based on the sacred text Nihon Shoki that contains the word  shinto in its name']\n"
     ]
    },
    {
     "name": "stdout",
     "output_type": "stream",
     "text": [
      "3763 : ['What body of water is Belegrade located next to and in what time zone is it located in?']\n",
      "3764 : ['What non-fiction career author wrote The Right Stuff?']\n",
      "3765 : ['Which book follows Exodus in the Bible?']\n"
     ]
    },
    {
     "name": "stdout",
     "output_type": "stream",
     "text": [
      "37663767 : ['What university is located in Karachi?']\n",
      " : ['What international airport is Delta Air Lines hub?']\n",
      "3768 : ['What is the architectural style of Gothic art?']\n"
     ]
    },
    {
     "name": "stdout",
     "output_type": "stream",
     "text": [
      "3769 : ['What actor plays Professor X in the film X-Men: Apocalypse?']\n",
      "3770 : ['What is playing that Ieva Januskeviciute was a part of?']\n"
     ]
    },
    {
     "name": "stdout",
     "output_type": "stream",
     "text": [
      "3771 : ['Between which years did William Michael Rossetti work in London?']\n",
      "3772 : ['Which is the Orphanet ID of leprosy?']\n",
      "3773 : ['Which taxon has the highest heart rate?']\n"
     ]
    },
    {
     "name": "stdout",
     "output_type": "stream",
     "text": [
      "3774 : ['When was Frederick William I of Prussias child Princess Friederike Luise of Prussia born, and when did she die?']\n",
      "3775 : ['Were the Navirman Andolan arrested 8000 times?']\n",
      "3776 : ['What is the treatment for lymphoma?']\n",
      "3777 : ['Who is the leader of the Etruschi?']\n"
     ]
    },
    {
     "name": "stdout",
     "output_type": "stream",
     "text": [
      "3778 : ['What is the ATC code of halothane?']\n"
     ]
    },
    {
     "name": "stdout",
     "output_type": "stream",
     "text": [
      "3779 : ['Tell me the name of a non-metal with the most electronegativity']\n"
     ]
    },
    {
     "name": "stdout",
     "output_type": "stream",
     "text": [
      "3780 : ['Is the vertical depth of Midenata peshtera equal to 0?']\n",
      "3781 : ['What is Spotify artist ID for R. Kelly ?']\n"
     ]
    },
    {
     "name": "stdout",
     "output_type": "stream",
     "text": [
      "3782 : ['What is the population of the Bronx?']\n",
      "3783 : ['Which is the location of first performance of Palace of Versailles?']\n"
     ]
    },
    {
     "name": "stdout",
     "output_type": "stream",
     "text": [
      "3784 : ['Who is Carl Gustave Jungs spouse and what is his start time?']\n",
      "3785 : ['Tell me sports league whose name has the word shield in it.']\n",
      "3786 : ['Which is the sports.ru player ID of Ronaldinho?']\n"
     ]
    },
    {
     "name": "stdout",
     "output_type": "stream",
     "text": [
      "3787 : ['Who was the first Edmund Gwenn?']\n",
      "3788 : ['Mention the film based on the description of Batman']\n"
     ]
    },
    {
     "name": "stdout",
     "output_type": "stream",
     "text": [
      "3789 : ['What’s the most common form of dementia in the Americas?']\n",
      "3790 : ['What was Judy Holliday nominated for for Born Yesterday?']\n",
      "3791 : ['What colossal statue starts with the letter s?']\n"
     ]
    },
    {
     "name": "stdout",
     "output_type": "stream",
     "text": [
      "3792 : ['What is the MPAA film rating of Ghostbusters?']\n",
      "3793 : ['How many points and games did Brian Clough get and play in when he was a member of the England B national football team?']\n",
      "3794 : ['What is the genetic association of Cardiovascular disease, and what drugs are used for treatment?']\n"
     ]
    },
    {
     "name": "stdout",
     "output_type": "stream",
     "text": [
      "3795 : ['Which is the position that applies to the jurisdiction of Coptic Orthodox Church of Alexandria?']\n",
      "3796 : ['When in the history of Haiti did the country have boroughs called Nippes?']\n"
     ]
    },
    {
     "name": "stdout",
     "output_type": "stream",
     "text": [
      "3797 : ['When was Nigel Farage a member of the European Parliament?']\n",
      "3798 : ['In Syracuse Orange football, what position did Jim Brown hold?']\n",
      "3799 : ['When did the Dakahlia Governorate have the population 6492381?']\n"
     ]
    },
    {
     "name": "stdout",
     "output_type": "stream",
     "text": [
      "3800 : ['What is the signs of result of silver ?']\n"
     ]
    },
    {
     "name": "stdout",
     "output_type": "stream",
     "text": [
      "3802 : ['WHAT IS THE STRAIN WITH THE MAXIMUM VIABLE TEMPERATURE']\n",
      "3803 : ['What type of government runs the city of Dezful?']\n"
     ]
    },
    {
     "name": "stdout",
     "output_type": "stream",
     "text": [
      "3804 : ['Which is the MOOMA artist ID of Vanessa Paradis?']\n"
     ]
    },
    {
     "name": "stdout",
     "output_type": "stream",
     "text": [
      "3805 : ['Is it true that the number of survivors of September 13 incident is greater than 0?']\n"
     ]
    },
    {
     "name": "stdout",
     "output_type": "stream",
     "text": [
      "3806 : ['When was Sebastian Vettel a member of Scuderia Toro Rosso?']\n",
      "3807 : ['Who is the Clerks Regular for the order of Ignatius of Loyola?']\n"
     ]
    },
    {
     "name": "stdout",
     "output_type": "stream",
     "text": [
      "3808 : ['What is the release version of the Apple Macintosh operating system?']\n",
      "3809 : ['How many home worlds are determined for Venus?']\n",
      "3810 : ['Who is the plaintiff of Plessy v. Ferguson?']\n"
     ]
    },
    {
     "name": "stdout",
     "output_type": "stream",
     "text": [
      "3811 : ['Tell me the course of Lord Strethcona`s Horse mascot from Royal Canadians?']\n",
      "3812 : ['Who is the Chief Operating Officer of Ninetendo?']\n"
     ]
    },
    {
     "name": "stdout",
     "output_type": "stream",
     "text": [
      "3813 : ['What are the ancient city which start with the letter z']\n"
     ]
    },
    {
     "name": "stdout",
     "output_type": "stream",
     "text": [
      "3814 : ['What is the sandbox-item for one?']\n",
      "3815 : ['Who owns CNN is owned and who is CNN owned by?']\n"
     ]
    },
    {
     "name": "stdout",
     "output_type": "stream",
     "text": [
      "3816 : ['What is BoardGameGeek ID of Carrom?']\n"
     ]
    },
    {
     "name": "stdout",
     "output_type": "stream",
     "text": [
      "3817 : ['Which is {PIN Code} of {deathplace} of {Doug Henning} ?']\n"
     ]
    },
    {
     "name": "stdout",
     "output_type": "stream",
     "text": [
      "3818 : ['Which is the {country of citizenship} and the {occupation} of {Deadpool} ?']\n",
      "3819 : ['Are philosophy and dogma the same?']\n",
      "3820 : ['What is the {continent} of {West Antarctica}, that {has boroughs} named {Heard Island and McDonald Islands} ?']\n",
      "3821 : ['What is Tamperes Finnish municipality number?']\n"
     ]
    },
    {
     "name": "stdout",
     "output_type": "stream",
     "text": [
      "3822 : ['What is the social state with the lowest total reserves whose described by source is Jeweish Encyclopedia of Brockhaus and Efron?']\n",
      "3823 : ['What subject had role of sidekick on Heihei?']\n",
      "3824 : ['What is the taxon parent of Demospongiae that has the science of study called spongiology?']\n"
     ]
    },
    {
     "name": "stdout",
     "output_type": "stream",
     "text": [
      "3825 : ['Who was Howard Hughes spouse in December 1957?']\n",
      "3826 : ['Tell me if the natural abundance of iron-56 is more than 0.734032']\n",
      "3827 : ['Who is the mother of Elektra that is married to Agamemnon?']\n"
     ]
    },
    {
     "name": "stdout",
     "output_type": "stream",
     "text": [
      "3828 : ['For what subject was Citizen Kane nominated for an Academy Award for Best Direction, Black and White?']\n",
      "3829 : ['When was Bradley Wiggins a member of the sports team Wiggins?']\n"
     ]
    },
    {
     "name": "stdout",
     "output_type": "stream",
     "text": [
      "3830 : ['Name a TV show produced by Donald Trump']\n",
      "3831 : ['What is {played by] of {computer network} that {painting of} is {network}?']\n",
      "3832 : ['What actions does a trumpet player take?']\n",
      "3833 : ['Name a disease that spreads through contact and starts with letter S']\n",
      "3834 : ['WHAT ARE THE WORD THAT 10 WHICH CONTAINS INTEGER']\n"
     ]
    },
    {
     "name": "stdout",
     "output_type": "stream",
     "text": [
      "3835 : ['Which is the international organization of the secretary general Vladimir Norov and contains the word cooperation in its name?']\n",
      "3836 : ['Is the total shots in career of  Kyle Rossiter equal to 1?']\n",
      "3837 : ['What is {pronunciation audio} of {media} of {chocolate milk} ?']\n",
      "3838 : ['What is William of Rubrucks date of birth?']\n",
      "3839 : ['which is located in the administrative territorial entity of Honolulu and what is the start time?']\n"
     ]
    },
    {
     "name": "stdout",
     "output_type": "stream",
     "text": [
      "3840 : ['Who is {nominated for} of {Kate Winslet} whose {for work} is {Sense and Sensibility} ?']\n"
     ]
    },
    {
     "name": "stdout",
     "output_type": "stream",
     "text": [
      "3841 : ['Is it true that the annual number of weddings of Kaprijke is less than 16.8?']\n"
     ]
    },
    {
     "name": "stdout",
     "output_type": "stream",
     "text": [
      "3842 : ['What award did Anna Politkovskaya receive in 2003-0-0?']\n"
     ]
    },
    {
     "name": "stdout",
     "output_type": "stream",
     "text": [
      "3844 : ['WHat is the Christian holy day of periodic occurence that occures 46 days before Easter that starts with letter A ?']\n"
     ]
    },
    {
     "name": "stdout",
     "output_type": "stream",
     "text": [
      "3846 : ['What is the conflict of J.R.R. Tolkien?']\n",
      "3847 : ['What is {confused with} {kinematics}, that is the {inverse} of {statics} ?']\n",
      "3848 : ['Who is the husband of Madhuri Dixit, who has gender identity as male?']\n"
     ]
    },
    {
     "name": "stdout",
     "output_type": "stream",
     "text": [
      "3849 : ['who suspect of present at of luxembourg in the eurovision Song Contest 1976 ?']\n",
      "3850 : ['For which work did John Updike receive the PEN/Faulkner Award for Fiction?']\n"
     ]
    },
    {
     "name": "stdout",
     "output_type": "stream",
     "text": [
      "3851 : ['What is Orthodox Encyclopedia ID for Elizabeth of Russia?']\n"
     ]
    },
    {
     "name": "stdout",
     "output_type": "stream",
     "text": [
      "3852 : ['Tell me the inflation rate of CPI for magnesium?']\n",
      "3853 : ['Where is Theodoros Angelopolos majoring in Jurisprudence?']\n"
     ]
    },
    {
     "name": "stdout",
     "output_type": "stream",
     "text": [
      "3854 : ['Who began the International Olympic Committee?']\n",
      "3855 : ['How many cases of Malaria were reported?']\n"
     ]
    },
    {
     "name": "stdout",
     "output_type": "stream",
     "text": [
      "3856 : ['What is the domain child of Roman Smoluchowski?']\n",
      "3857 : ['where is christopher sims educated at and its end time?']\n",
      "3858 : ['Where is the location of the Samsung headquarters with the postal code of 443-742?']\n"
     ]
    },
    {
     "name": "stdout",
     "output_type": "stream",
     "text": [
      "3859 : ['Is the topographic isolation of Signalkuppe equal to 0.56?']\n"
     ]
    },
    {
     "name": "stdout",
     "output_type": "stream",
     "text": [
      "3860 : ['What product was built by Asus ZenWatch 3?']\n"
     ]
    },
    {
     "name": "stdout",
     "output_type": "stream",
     "text": [
      "3861 : ['Which is the catholic.ru ID for Santo Tomás de Aquinas?']\n",
      "3862 : ['What city of Isla Grande de Tierra del Fuego has 6801 inhabitants?']\n"
     ]
    },
    {
     "name": "stdout",
     "output_type": "stream",
     "text": [
      "3863 : ['Joseph Kibweteer suffers from what ailment that has a genetic association with DLC1?']\n",
      "3864 : ['Who was the actress in Dumb and Dumberer?']\n",
      "3865 : ['What rank is a Taxon Parent in the salvia Officinalis?']\n"
     ]
    },
    {
     "name": "stdout",
     "output_type": "stream",
     "text": [
      "3866 : ['Name a devil in the Hinduist pantheon that starts with letter L']\n",
      "3867 : ['What is the adjacent station for Oregon City?']\n",
      "3868 : ['Is the longest span of the Deutz Suspension Bridge equal 184?']\n"
     ]
    },
    {
     "name": "stdout",
     "output_type": "stream",
     "text": [
      "3869 : ['Who is named for the Boltzmann distribution, who is a member of the Accademia Nazionale delle Scienze detta dei XL?']\n"
     ]
    },
    {
     "name": "stdout",
     "output_type": "stream",
     "text": [
      "3870 : ['Which is the sports database that is maintained by the International Olympic Committee?']\n",
      "3871 : ['Does the attendance of the 19th Grey Cup equal 4089.6?']\n",
      "3872 : ['Who is {educated at} of {Rachel Maddow} where {end time} is {2001-0-0} ?']\n"
     ]
    },
    {
     "name": "stdout",
     "output_type": "stream",
     "text": [
      "3873 : ['What is the academic subject of Michael J. D. Powells recognition title?']\n",
      "3874 : ['Who gave the{mayor} of {mediatised to} of {Government of the 1st Dáil} ?']\n",
      "3875 : ['Who are Merrie Melodies characters mediatised to?']\n"
     ]
    },
    {
     "name": "stdout",
     "output_type": "stream",
     "text": [
      "3876 : ['For what work was Hans Zimmer nominated for an Academy Award for Best Original Score?']\n",
      "3877 : ['Tell me the population of Makati on 2010-5-1?']\n",
      "3878 : ['What is the molar mass of the parent body of Titania?']\n",
      "3879 : ['tell me that aerospace manufacturer which contains the word zeebruges on its own name.']\n"
     ]
    },
    {
     "name": "stdout",
     "output_type": "stream",
     "text": [
      "3880 : ['Is the frequency of events for DFB-Pokal equal to 1?']\n",
      "3881 : ['What is the mouthpiece of the {Deutsche Bahn} ?']\n",
      "3882 : ['What is established by the party of José Orlando Cáceres?']\n",
      "3883 : ['What is Roger Bacons PhilPapers theme?']\n"
     ]
    },
    {
     "name": "stdout",
     "output_type": "stream",
     "text": [
      "3884 : ['What team did Yao Ming play for in 2002?']\n",
      "3885 : ['Which is the {video game} of {voice actor} {Sasha Grey}?']\n"
     ]
    },
    {
     "name": "stdout",
     "output_type": "stream",
     "text": [
      "3886 : ['35.7189 is the coordinate place holder for The Great Wave off Kanagawa; what else is it the place holder for?']\n",
      "3887 : ['Mention the time and the  election year of Angela Merkel for being appointed as the member of the German Bundestag']\n"
     ]
    },
    {
     "name": "stdout",
     "output_type": "stream",
     "text": [
      "3888 : ['what are the product of game  platform of deflektor?']\n",
      "3889 : ['What sovereign state uses the Australian dollar as currency?']\n"
     ]
    },
    {
     "name": "stdout",
     "output_type": "stream",
     "text": [
      "3890 : ['Tell me about member of sports team of Bobby Moore and number of matches played?']\n",
      "3891 : ['What are the galaxy that contains the word ugc in their name']\n"
     ]
    },
    {
     "name": "stdout",
     "output_type": "stream",
     "text": [
      "3892 : ['What fictional dog is said to be the same dog as Goofy?']\n"
     ]
    },
    {
     "name": "stdout",
     "output_type": "stream",
     "text": [
      "3894 : ['What is the Operabase ID for Terry Gilliam?']\n"
     ]
    },
    {
     "name": "stdout",
     "output_type": "stream",
     "text": [
      "3895 : ['Which is the Reddit username for American Civil Liberties Union?']\n",
      "3896 : ['What is the moon of the star of Tarantula Nebula?']\n",
      "3897 : ['Which is the FilmPolski.pl ID of Constantin Stanislavski?']\n"
     ]
    },
    {
     "name": "stdout",
     "output_type": "stream",
     "text": [
      "3898 : ['How many members are there of the International Hydrographic Organization?']\n",
      "3899 : ['Is the defined daily dose of Povidone-iodine equal to 0.24?']\n",
      "3900 : ['which set of numbers with the highest upper limit?']\n"
     ]
    },
    {
     "name": "stdout",
     "output_type": "stream",
     "text": [
      "3901 : ['Tell me metropolitan city of South Korea whose name has the word ulsan in it.']\n"
     ]
    },
    {
     "name": "stdout",
     "output_type": "stream",
     "text": [
      "3902 : ['What is the capital of Tokugawa Shogunate']\n",
      "3903 : ['What arch bridge is named after Paul von Hindenburg?']\n",
      "3904 : ['What is the member of sports team of Danie Craven that ended at 1938-1-1?']\n"
     ]
    },
    {
     "name": "stdout",
     "output_type": "stream",
     "text": [
      "3906 : ['What was the amount of female population of Sanaa in 2004-0-0?']\n",
      "3908 : ['When was Polybius born?']\n",
      "3909 : ['Who was Oracle Corporation taken over by']\n",
      "3910 : ['What has cause of Universiade ?']\n"
     ]
    },
    {
     "name": "stdout",
     "output_type": "stream",
     "text": [
      "3912 : ['How was William Walton nominated for the Best Original Dramatic or Comedy Score?']\n",
      "3913 : ['Where are the Channel Islands?']\n"
     ]
    },
    {
     "name": "stdout",
     "output_type": "stream",
     "text": [
      "3914 : ['Was Bryan Adams nominated for a Grammy for Album of the Year and a Juno for Entertainer of the Year?']\n",
      "3915 : ['To whom did Ingmar Bergman got married and when did it ended?']\n"
     ]
    },
    {
     "name": "stdout",
     "output_type": "stream",
     "text": [
      "3916 : ['What are the standards and the main regulatory text of Hypertext Transfer Protocol?']\n",
      "3917 : ['What is Bettie Pages job?']\n",
      "3918 : ['What nomination did Adolf von Baeyer receive on th date 1904-1-1?']\n",
      "3919 : ['What is the type of music, part of work or School of Ragtime, in Excercise No.6?']\n"
     ]
    },
    {
     "name": "stdout",
     "output_type": "stream",
     "text": [
      "3920 : ['When did Eugenio Montale retire from their position as senatore a vita?']\n",
      "3921 : ['What what is enterprise category of associated people Category:People associated with the Dutch East India Company  which that starts with letters c']\n",
      "3922 : ['What is the LIBRIS edition of New Scientists?']\n",
      "3923 : ['Which is the average performance of quicksort?']\n"
     ]
    },
    {
     "name": "stdout",
     "output_type": "stream",
     "text": [
      "3924 : ['Is the upper flammable limit of the toulene less than 8.52?']\n"
     ]
    },
    {
     "name": "stdout",
     "output_type": "stream",
     "text": [
      "3926 : ['Which country was Medina from at the time of her inception 632-0-0?']\n"
     ]
    },
    {
     "name": "stdout",
     "output_type": "stream",
     "text": [
      "3927 : ['What work got Helen Hunt the nomination for the Academy Award for Best Supporting Actress?']\n",
      "3928 : ['In what country was Juan Rodriguez Suarez executed?']\n"
     ]
    },
    {
     "name": "stdout",
     "output_type": "stream",
     "text": [
      "3930 : ['What is associated with the sport played in physical fitness?']\n",
      "3931 : ['In which country is Beijing?']\n"
     ]
    },
    {
     "name": "stdout",
     "output_type": "stream",
     "text": [
      "3933 : ['what is sister or brohter of caligula that has public office is quaestor ?']\n",
      "3934 : ['Is the refractive index of water equal to 1.32524?']\n"
     ]
    },
    {
     "name": "stdout",
     "output_type": "stream",
     "text": [
      "3935 : ['What was Donald Tusks position that was replaced by Herman Van Rompuy?']\n"
     ]
    },
    {
     "name": "stdout",
     "output_type": "stream",
     "text": [
      "3936 : ['Heterosexuality is a type of sexual orientation?']\n",
      "3938 : ['What is the nationality and occupation of Alice Cooper?']\n"
     ]
    },
    {
     "name": "stdout",
     "output_type": "stream",
     "text": [
      "3939 : ['DC-3 is operated by which airline?']\n",
      "3940 : ['When did Alexander III of Russia receive the award for Knight Grand Cross of the Military Order of William?']\n",
      "3941 : ['Which is the FootballFacts.ru player ID of Diego Maradona?']\n",
      "3942 : ['Is BDSM different from violence?']\n"
     ]
    },
    {
     "name": "stdout",
     "output_type": "stream",
     "text": [
      "3944 : ['Was Alice  Coopers family name Cooper?']\n",
      "3945 : ['WHAT IS THE BY PRODUCT OF ANIMAL HUSBANDRY']\n"
     ]
    },
    {
     "name": "stdout",
     "output_type": "stream",
     "text": [
      "3946 : ['What is the administrative body of Qingdao that started in 2009-1-1 ?']\n"
     ]
    },
    {
     "name": "stdout",
     "output_type": "stream",
     "text": [
      "3947 : ['What is the ISSF ID of Kim Rhode?']\n",
      "3948 : ['who  is the cover artist of all quiet on the western front?']\n"
     ]
    },
    {
     "name": "stdout",
     "output_type": "stream",
     "text": [
      "3949 : ['On what album can you find the song Stairway to Heaven ?']\n",
      "3950 : ['What was the partner town of Toulon that was first recorded in 766-0-0?']\n",
      "3951 : ['Was Franz Boas an established member?']\n"
     ]
    },
    {
     "name": "stdout",
     "output_type": "stream",
     "text": [
      "3952 : ['What is Fashion Model Directory model ID for Paris Hilton ?']\n",
      "3953 : ['What business division of LATAM Chile is the country Peru in?']\n"
     ]
    },
    {
     "name": "stdout",
     "output_type": "stream",
     "text": [
      "3954 : ['What award did Jerome Robbins receive in 1976?']\n",
      "3955 : ['What iteration is this genre of ballet?']\n"
     ]
    },
    {
     "name": "stdout",
     "output_type": "stream",
     "text": [
      "3957 : ['What is the diplomatic relation between the Philippines and Quatar?']\n",
      "3958 : ['Which is the twin city of place of death of Clark Gable?']\n"
     ]
    },
    {
     "name": "stdout",
     "output_type": "stream",
     "text": [
      "3960 : ['Which is {Spanish name} of {Manolete}, that has {transliteration} is {Санчес} ?']\n",
      "3961 : ['Which is {official language} {is in the department of} {Kali Penjalin} ?']\n",
      "3962 : ['Is Chicago located in Cook County?']\n"
     ]
    },
    {
     "name": "stdout",
     "output_type": "stream",
     "text": [
      "3964 : ['What is the combustion enthalpy for acetylene?']\n",
      "3966 : ['When was Muḥammad ibn Mūsā al-Khwārizmī born in the year 780?']\n",
      "3967 : ['In 1967, what city was the twinned administrative body of Skopje?']\n",
      "3968 : ['What { working language or name } does { milk } have { pronunciation audio } as { Wo - meew.ogg }?']\n"
     ]
    },
    {
     "name": "stdout",
     "output_type": "stream",
     "text": [
      "3969 : ['Who did Wallis Simpson marry in 1928?']\n"
     ]
    },
    {
     "name": "stdout",
     "output_type": "stream",
     "text": [
      "3971 : ['What is the geological locality having diopside with the total area of 11.14?']\n",
      "3972 : ['Which is the IAFD male performer ID of Jamie Gillis?']\n"
     ]
    },
    {
     "name": "stdout",
     "output_type": "stream",
     "text": [
      "3973 : ['How many constellations are there in the Milky Way?']\n",
      "3974 : ['Name a silent movie written by Thomas Dixon Jr that starts with letter B']\n",
      "3975 : ['What type of quantum particle is a photon?']\n"
     ]
    },
    {
     "name": "stdout",
     "output_type": "stream",
     "text": [
      "3979 : ['What award was Terry Pratchett nominated for?']\n",
      "3980 : ['Which country shared border with Nazi Germany until 1939?']\n"
     ]
    },
    {
     "name": "stdout",
     "output_type": "stream",
     "text": [
      "3981 : ['Is the unemployment rate of Lesotho equal to 26?']\n",
      "3983 : ['Thomas Hobbes influenced how many people?']\n",
      "3984 : ['Was Angkor Wat of the Dravidian style of architecture in the Medang Kingdom?']\n"
     ]
    },
    {
     "name": "stdout",
     "output_type": "stream",
     "text": [
      "3985 : ['What team did Somchai Subpherm play for, and where was it headquartered?']\n"
     ]
    },
    {
     "name": "stdout",
     "output_type": "stream",
     "text": [
      "3988 : ['Which area of land did Frank Gehry protect?']\n",
      "3990 : ['What are the salad which start with the letter y']\n"
     ]
    },
    {
     "name": "stdout",
     "output_type": "stream",
     "text": [
      "3991 : ['DOES THE MAXIMUM GLIDE RATIO OF DG FLUZEUGBAU L S 10 EQUALS 60.0']\n"
     ]
    },
    {
     "name": "stdout",
     "output_type": "stream",
     "text": [
      "3992 : ['Nale a low-cost airline that operates Boeing 737-800 and that contains the word Ryanair in its name']\n",
      "3993 : ['When was the end of Ptolemy I Soters reign as pharaoh?']\n"
     ]
    },
    {
     "name": "stdout",
     "output_type": "stream",
     "text": [
      "3994 : ['To what position was Lenín Moreno elected as during the Ecuadorian general election in 2006?']\n",
      "3995 : ['Who is the {factory} for {product or material produced} of {butter}']\n"
     ]
    },
    {
     "name": "stdout",
     "output_type": "stream",
     "text": [
      "3998 : ['What is the watercourse that outflows of Walker Lake?']\n"
     ]
    },
    {
     "name": "stdout",
     "output_type": "stream",
     "text": [
      "Link batch time: 356.40157413482666\n",
      "Anno batch time: 2614.0704958438873\n",
      "Conv batch time: 0.07142496109008789\n"
     ]
    },
    {
     "name": "stdout",
     "output_type": "stream",
     "text": [
      "\n",
      "[Pipeline1]: Linking 3999-5999\n",
      "4001 : ['What was the population of Nunavut in the year 2017?']\n",
      "4001 : ['What is the town of Capua with cities called Tora e Piccilli?']\n",
      "4001 : ['Is power pop the genre of Phil Collins music?']\n",
      "4001 : ['What country was Jiangsu a part of in October 1949?']\n",
      "4001 : ['What of David Vetters is buried at cities of Dawson County?']\n",
      "4001 : ['What are thewater deity which start with the lettery']\n",
      "4001 : ['What is the current version of the Great Expectations?']\n",
      "4001 : ['Who is the person that composed La Traviata?']\n",
      "4001 : ['In what television show did Jennifer Lopez play a character named Lynn?']\n",
      "4001 : ['Is the minimum spend bonus for the Chase Sapphire Reserve equal to 40000.0?']\n",
      "4001 : ['What is the NCBI Taxonomy ID of the Tsetse fly?']\n",
      "4001 : ['Tell me about award received of Animal Farm and followed by?']\n",
      "4001 : ['Taungoo Dynasty covers what area?']\n",
      "4001 : ['Name the twinned administrative body of Salt Lake City when it was started in 1989?']\n",
      "4001 : ['who is diplomatic relation of originate of The Shawshank Redemption?']\n",
      "4001 : ['Which country uses the pound sterling?']\n",
      "4001 : ['Which chemical element of subclass period 5 has the highest density?']\n",
      "4001 : ['Give the genetic association of attention deficit hyperactivity disorder that is determined via TAS.']\n",
      "4001 : ['Who was Dino De Laurentiis spouse when their marriage ended in 1988?']\n",
      "4001 : ['What is the name of David Fosters record label?']\n"
     ]
    },
    {
     "name": "stdout",
     "output_type": "stream",
     "text": [
      "4001 : ['What is the diplomatic relation of the place of origin of the Jew Killings in Ivangorod?']\n",
      "4001 : ['What are the  legal status of medicine   whose name has the word UK IN IT']\n",
      "4001 : ['What is the translation of the post review of the 17th annual Scripps Spelling Bee?']\n",
      "4001 : ['IS THE COMPULSORY EDUCATION MAXIMUM AGE OF THE SPAIN EQUALS 16']\n",
      "4001 : ['what are native label of sangha is revised romanization is seungga?']\n",
      "4001 : ['What was Colombias rate of inflation in 1995?']\n",
      "4001 : ['Which federal state was the U.S. Declaration of Independence the foundation for?']\n",
      "4001 : ['Did Jimmy Carter received an award in the 2008 Grammy Awards?']\n",
      "4001 : ['What is the genetic association of leprosy?']\n",
      "4001 : ['Who was Hugh Hefner`s partner who died in 1976 ?']\n",
      "4001 : ['Which British Academy Film Award was Javier Bardem nominated for?']\n",
      "4001 : ['Who gave the {painters} of {series} of {Bash} ?']\n"
     ]
    },
    {
     "name": "stdout",
     "output_type": "stream",
     "text": [
      "4002 : ['What is the election to the Parliament of Catalonia with the lowest eligible voters whose candidate is Socialists Party of Catalonia?']\n"
     ]
    },
    {
     "name": "stdout",
     "output_type": "stream",
     "text": [
      "4003 : ['What is the ID of Horace Silver?']\n",
      "4004 : ['What is CLARA-ID for Audrey Munson?']\n",
      "4005 : ['What is the Internet Standard edition or translation of Internet Protocol version 6?']\n",
      "4006 : ['What group of people died in Tenochtitlan?']\n"
     ]
    },
    {
     "name": "stdout",
     "output_type": "stream",
     "text": [
      "4007 : ['What television program is produced by Ellen DeGeneres?']\n",
      "4008 : ['What book by Siegfried has the famous work Tristan und Isolde?']\n",
      "4009 : ['Which is the TAXREF ID for Salvia officinalis?']\n"
     ]
    },
    {
     "name": "stdout",
     "output_type": "stream",
     "text": [
      "4010 : ['Which is the license for copyright?']\n"
     ]
    },
    {
     "name": "stdout",
     "output_type": "stream",
     "text": [
      "4011 : ['Which daylght saving time is valid in the timezone of Stockholm?']\n",
      "4012 : ['Which is the film character of the husband of Princess Leia?']\n",
      "4013 : ['What is the residence and the occupation of Bryan_Cranston ?']\n",
      "4014 : ['For which American football team is Bill Belichick playing']\n"
     ]
    },
    {
     "name": "stdout",
     "output_type": "stream",
     "text": [
      "4015 : ['IS THE MINIMALL INCUBATION PERIOD IN HUMANS OF BOTULISM LESS THAN 7.2']\n",
      "4016 : ['Was Lola Flores the oldest child of Rosario Flores?']\n",
      "4017 : ['Which musical artist went on The Trip into the Light World Tour?']\n",
      "4018 : ['When did Thomas Young receive the award for Bakerian Lecture?']\n"
     ]
    },
    {
     "name": "stdout",
     "output_type": "stream",
     "text": [
      "4019 : ['What is the refractive index for water?']\n"
     ]
    },
    {
     "name": "stdout",
     "output_type": "stream",
     "text": [
      "4020 : ['How many medical conditions did Ludwig van Beethoven have?']\n",
      "4021 : ['What is the correct family name for the family name of Genghis Khan?']\n"
     ]
    },
    {
     "name": "stdout",
     "output_type": "stream",
     "text": [
      "4022 : ['If Marion Barry was the Prime Minister of Washington, D.C, what type or topic of history would that be?']\n",
      "4023 : ['What is the service ribbon image for the Medal of Honor?']\n",
      "4024 : ['Did Ben_Kingsley get nominated for the BAFTA Award for Best Actor in a Leading Role and a Primetime Emmy Award for Outstanding Lead Actor in a Miniseries or a Movie ?']\n"
     ]
    },
    {
     "name": "stdout",
     "output_type": "stream",
     "text": [
      "4025 : ['What is Hypertext Transfer Protocol (HTTP)?']\n"
     ]
    },
    {
     "name": "stdout",
     "output_type": "stream",
     "text": [
      "4026 : ['How many brands does Coca-Cola have?']\n",
      "4027 : ['What is the National Cancer Institutes ID for melanoma?']\n",
      "4028 : ['What is subitem of history of the English language, that has cases is nominative case?']\n"
     ]
    },
    {
     "name": "stdout",
     "output_type": "stream",
     "text": [
      "4029 : ['Did {Lemmy} used {instrument} as {harmonica}?']\n",
      "4030 : ['Who is the replacement for the president of South Korea?']\n",
      "4031 : ['Who are the characters of the series Civilization V: Gods & Kings?']\n",
      "4032 : ['Who is the editor and author of the Pied Piper of Hamelin book?']\n"
     ]
    },
    {
     "name": "stdout",
     "output_type": "stream",
     "text": [
      "4033 : ['Did {The_Sopranos} {cast member} are {James Gandolfini} and {Steve Schirripa} ?']\n",
      "4034 : ['Where in the German Empire was Anton Chekhovs place of death?']\n"
     ]
    },
    {
     "name": "stdout",
     "output_type": "stream",
     "text": [
      "4035 : ['what are the essential medicine which start with the letter v']\n"
     ]
    },
    {
     "name": "stdout",
     "output_type": "stream",
     "text": [
      "4036 : ['Who is Neil Youngs spouse?']\n"
     ]
    },
    {
     "name": "stdout",
     "output_type": "stream",
     "text": [
      "4037 : ['Tell medisputed territory whose name has the word triangle in it.']\n"
     ]
    },
    {
     "name": "stdout",
     "output_type": "stream",
     "text": [
      "4038 : ['Tell me metabolite whose name has the word violaxanthin in it.']\n",
      "4039 : ['What are the coordinates of the headquarters of Zibo?']\n"
     ]
    },
    {
     "name": "stdout",
     "output_type": "stream",
     "text": [
      "4040 : ['What is the native language of Theodosius I in the year 347?']\n"
     ]
    },
    {
     "name": "stdout",
     "output_type": "stream",
     "text": [
      "4041 : ['What is population of Ostrava that is point in time is 2017-1-1?']\n"
     ]
    },
    {
     "name": "stdout",
     "output_type": "stream",
     "text": [
      "4042 : ['Was Lance Armstrong a member of HTC-Highroad and RadioShack?']\n"
     ]
    },
    {
     "name": "stdout",
     "output_type": "stream",
     "text": [
      "4043 : ['What is the given name of Prince?']\n",
      "4044 : ['Is the maximum frequency of audible sound of the Varanus komodoensis equal 2400.0?']\n"
     ]
    },
    {
     "name": "stdout",
     "output_type": "stream",
     "text": [
      "4045 : ['Which is the film the was produced by Isabelle Adjani?']\n",
      "4046 : ['What weapon family starts with the letter u?']\n",
      "4047 : ['Which Christian name from Charles I of Hungary, is close to the name Carl?']\n",
      "4048 : ['Which is {cases} of {language used} in {Ismail Kadare} ?']\n"
     ]
    },
    {
     "name": "stdout",
     "output_type": "stream",
     "text": [
      "4049 : ['Which is AllMovie movie ID for Amélie?']\n",
      "4050 : ['When did John of the Cross adopt the religious name of Juan de la Cruz?']\n",
      "4051 : ['What was the instance of the so called Black Death on 1347?']\n"
     ]
    },
    {
     "name": "stdout",
     "output_type": "stream",
     "text": [
      "4052 : ['Which is the agent that is used in communication?']\n",
      "4053 : ['The moons of HD 45364 b are part of which constellation?']\n"
     ]
    },
    {
     "name": "stdout",
     "output_type": "stream",
     "text": [
      "4054 : ['who chronology of topic  of continent of western asia?']\n",
      "4055 : ['Name a principality located in the Weimar Republic']\n"
     ]
    },
    {
     "name": "stdout",
     "output_type": "stream",
     "text": [
      "4056 : ['Tell meGerman nationalism whose name has the word national in it.']\n",
      "4057 : ['How many anatomical locations are by the thymus?']\n"
     ]
    },
    {
     "name": "stdout",
     "output_type": "stream",
     "text": [
      "4058 : ['TELL ME THE IDEOLOGY OF RYO SHUHAMA POLITICALPARTY?']\n",
      "4059 : ['What is the human population of the administrative headquarters of French Indochina?']\n",
      "4060 : ['Name a video game that starts with the letter Z']\n",
      "4061 : ['who is member of sports team of Franco Baresi that has number of matches played is 531.0 ?']\n"
     ]
    },
    {
     "name": "stdout",
     "output_type": "stream",
     "text": [
      "4062 : ['Who were the Amazons that were killed by Heracles?']\n",
      "4063 : ['What is the sourcing circumstances for Roger Williams, who was born in 1603?']\n"
     ]
    },
    {
     "name": "stdout",
     "output_type": "stream",
     "text": [
      "4064 : ['Is 15 service life of the Intelsat 15?']\n"
     ]
    },
    {
     "name": "stdout",
     "output_type": "stream",
     "text": [
      "4065 : ['Where is {administrative centre} of {Holy Roman Empire}, which has {populated places within} is {Dolní Černošice} ?']\n",
      "4066 : ['When was Fergie completed his record label in Interscope records?']\n"
     ]
    },
    {
     "name": "stdout",
     "output_type": "stream",
     "text": [
      "4067 : ['tell me about language family starts with the letter q']\n",
      "4068 : ['WHAT ARE FILM WHICH START WITH THE LETTER Y.']\n",
      "4069 : ['What is the place of interment of Albert Anastasia, that has a foundation date of 1838-0-0?']\n"
     ]
    },
    {
     "name": "stdout",
     "output_type": "stream",
     "text": [
      "4070 : ['What is a genetic component of heart disease determined through TAS?']\n"
     ]
    },
    {
     "name": "stdout",
     "output_type": "stream",
     "text": [
      "4071 : ['Who is the creator of Quantum mechanics, and who was its creator?']\n"
     ]
    },
    {
     "name": "stdout",
     "output_type": "stream",
     "text": [
      "4072 : ['When did Christoph Franz become CEO of Lufthansa?']\n",
      "4073 : ['Where is the location in which Murray Perahia was born, who has the executive power headed by Michael Bloomberg?']\n"
     ]
    },
    {
     "name": "stdout",
     "output_type": "stream",
     "text": [
      "4074 : ['what are the cold war which start with the letter g']\n",
      "4075 : ['Who is employed by Gerhard Gentzen?']\n",
      "4076 : ['who coach of player of Simone Biles ?']\n"
     ]
    },
    {
     "name": "stdout",
     "output_type": "stream",
     "text": [
      "4077 : ['Did Sarah Michelle Gellar practice taekwondo?']\n"
     ]
    },
    {
     "name": "stdout",
     "output_type": "stream",
     "text": [
      "4078 : ['Tell me who directed The Night of the Headless Horseman?']\n",
      "4079 : ['WHICH IS THE POLITICAL PARTY THAT STARTS WITH V']\n",
      "4080 : ['Which is from the fictional universe of Spock?']\n"
     ]
    },
    {
     "name": "stdout",
     "output_type": "stream",
     "text": [
      "4081 : ['Is Jane Fondas father Henry Fonda?']\n",
      "4082 : ['What is Bollywood Hungama person ID of Kapil Sharma?']\n",
      "4083 : ['What is {Charles Baudelaire}s {Poets.org poet ID}?']\n"
     ]
    },
    {
     "name": "stdout",
     "output_type": "stream",
     "text": [
      "4084 : ['The Erie Canal has what Structurae ID (structure)?']\n",
      "4085 : ['What was the award the Dune received after receiving Babel-17?']\n",
      "4086 : ['which record did pole vault hold and which is the height?']\n"
     ]
    },
    {
     "name": "stdout",
     "output_type": "stream",
     "text": [
      "4087 : ['What is the Ukraine Football Federation ID of Andriy Schevenko?']\n",
      "4088 : ['How many illustrations are there by E. H. Shepard?']\n"
     ]
    },
    {
     "name": "stdout",
     "output_type": "stream",
     "text": [
      "4089 : ['Which city did Charleroi twin with in 1958?']\n",
      "4090 : ['What work was Sydney Pollack nominated for as Academy Award for Best Director?']\n"
     ]
    },
    {
     "name": "stdout",
     "output_type": "stream",
     "text": [
      "4091 : ['Was Ann_Coulter occupation lawyer and pundit?']\n",
      "4092 : ['What is the ecclesiastical title for the office of the head of the Coptic Orthodox Church of Alexandria?']\n"
     ]
    },
    {
     "name": "stdout",
     "output_type": "stream",
     "text": [
      "4093 : ['Is the perimeter of the Lai da Schmorras equal to 0.168?']\n",
      "4094 : ['Is it true that the Hurricane Ike number of missing is less than 192?']\n"
     ]
    },
    {
     "name": "stdout",
     "output_type": "stream",
     "text": [
      "4095 : ['Where is the head office location of the International Chamber of Commerce that is next to lssy-les-Moulineaux?']\n",
      "4096 : ['Is it true that the thermal design power of AMD Ryzen Threadripper 1920X is less than 216?']\n"
     ]
    },
    {
     "name": "stdout",
     "output_type": "stream",
     "text": [
      "4097 : ['What causes mica, which has a first aid response of moving the patient to fresh air?']\n",
      "4098 : ['What is the important event of Edgar Michell at the time of 1971-7-01?']\n"
     ]
    },
    {
     "name": "stdout",
     "output_type": "stream",
     "text": [
      "4099 : ['What is the real person website account of Youtube?']\n",
      "4100 : ['Which is the combination classification for Chris Froome?']\n",
      "4101 : ['What was the population of Mogilyov in 2016?']\n",
      "4102 : ['What is in Angles, whose partner city is Hyōgo Prefecture?']\n",
      "4103 : ['What was the monetary prize worth that William Henry Bragg received for winning the Nobel Prize in Physics?']\n"
     ]
    },
    {
     "name": "stdout",
     "output_type": "stream",
     "text": [
      "4104 : ['What is the rate of fire of a VAP submachine gun?']\n"
     ]
    },
    {
     "name": "stdout",
     "output_type": "stream",
     "text": [
      "4105 : ['Tell me the şəhər for the category for films shot at the location of films shot in Baku whose name contains the word baku?']\n",
      "4106 : ['Eiffel tower has how many floors?']\n"
     ]
    },
    {
     "name": "stdout",
     "output_type": "stream",
     "text": [
      "4107 : ['What was Good Will Hunting nominated for at the 70th Academy Awards?']\n",
      "4108 : ['Is the time to altitude ratio of the G.222 equal to 515']\n"
     ]
    },
    {
     "name": "stdout",
     "output_type": "stream",
     "text": [
      "4109 : ['Give the lowest block size standard designed by John Daemen']\n",
      "4110 : ['What is the movement in Les Demoiselles dAvignon?']\n",
      "4111 : ['Which communications protocol contains the word zmodem in their name']\n",
      "4112 : ['which is the constituent state with the lowest indidual tax rate whose instance is constituent state?']\n"
     ]
    },
    {
     "name": "stdout",
     "output_type": "stream",
     "text": [
      "4113 : ['Who is Adads aunt?']\n",
      "4114 : ['Name the aircraft model with the highest take off roll involved in the Seville A400M crash.']\n"
     ]
    },
    {
     "name": "stdout",
     "output_type": "stream",
     "text": [
      "4115 : ['Name the Wikimedia disambiguation page including Diplo.']\n",
      "4116 : ['What is the antonym of midnight sun whose timespan is 20?']\n"
     ]
    },
    {
     "name": "stdout",
     "output_type": "stream",
     "text": [
      "4117 : ['What did Donald Trump study at The Wharton School?']\n",
      "4118 : ['Which is the GNIS ID of Bridgeport?']\n",
      "4119 : ['What was Orson Welles nominated for in Citizen Kane?']\n"
     ]
    },
    {
     "name": "stdout",
     "output_type": "stream",
     "text": [
      "4120 : ['What are innervates of liver?']\n",
      "4121 : ['What was the population of Gharbia Governorate on 11/19/1996?']\n"
     ]
    },
    {
     "name": "stdout",
     "output_type": "stream",
     "text": [
      "4122 : ['Who did Ed ONeill play on Married.. with Children?']\n",
      "4123 : ['Who is {member of} of {university} of {Douglas Southall Freeman} ?']\n"
     ]
    },
    {
     "name": "stdout",
     "output_type": "stream",
     "text": [
      "4124 : ['When did Yasser Arafat receive the Nobel Peace Prize?']\n",
      "4125 : ['What sport and position does Dwayne Johnson play?']\n"
     ]
    },
    {
     "name": "stdout",
     "output_type": "stream",
     "text": [
      "4126 : ['What is the FilmAffinity ID for Sherlock?']\n",
      "4127 : ['What is studied at the co-ords 50.84638889 -0.30416667, where Sit Tim Rice is the Patron of the Foundation?']\n",
      "4128 : ['What opera was composed by Pyotr Ilyich Tchaikovsky?']\n",
      "4129 : ['Mention the year and the prize amount received by Niels Bohr for Nobel Prize in Physics.']\n"
     ]
    },
    {
     "name": "stdout",
     "output_type": "stream",
     "text": [
      "4130 : ['Where is {land} {adjacent to} {Villanova University} ?']\n"
     ]
    },
    {
     "name": "stdout",
     "output_type": "stream",
     "text": [
      "4131 : ['Tell me which industry contains the word winemaking in its name?']\n",
      "4132 : ['Which is Berlin cultural heritage ID for  Pergamon Museum?']\n"
     ]
    },
    {
     "name": "stdout",
     "output_type": "stream",
     "text": [
      "4133 : ['What is located on linear feature of the London Underground?']\n",
      "4134 : ['What position did Alexander Dubcek hold on December 12, 1989?']\n"
     ]
    },
    {
     "name": "stdout",
     "output_type": "stream",
     "text": [
      "4135 : ['What are the names of the characters from the movie E.T. The Extra-Terrestrial?']\n",
      "4136 : ['tell  me mineral species that streak color black that name has  the word tenorite in it']\n"
     ]
    },
    {
     "name": "stdout",
     "output_type": "stream",
     "text": [
      "4137 : ['Who is the voice actor of Aqua Teen Hunger Force?']\n",
      "4138 : ['Is air pollution caused by methane and volcanic eruption?']\n",
      "4139 : ['What is the natural language for the Arabic alphabet?']\n",
      "4140 : ['What is Eduard Hitzbergers profession?']\n",
      "4141 : ['Name an infectious disease that afflicts liver and that contains the word hepatitis in its name']\n"
     ]
    },
    {
     "name": "stdout",
     "output_type": "stream",
     "text": [
      "4142 : ['Who created the etymology of Curie temperature and has the birth date of 1859-5-15?']\n",
      "4143 : ['who  is the sports venue for operator of Indianapolis?']\n"
     ]
    },
    {
     "name": "stdout",
     "output_type": "stream",
     "text": [
      "41444145 : ['In 1930, what was the capital of Türkmenabat?']\n",
      " : ['WHICH IS THE HEALTH SPECIALITY FOR INFECTION']\n",
      "4146 : ['During the 18th Academy Awards, what awards were Bing Crosby nominated for?']\n",
      "4147 : ['TELL ME SQUARE ROOT WHOSE NAME HAS THE WORD ROOT IN IT.']\n",
      "4148 : ['What is total fertility rate  in the principal area of Libertador General Bernardo OHiggins Region']\n",
      "4149 : ['Does the collection or exhibition size of the Central Classified Flies equal 0?']\n"
     ]
    },
    {
     "name": "stdout",
     "output_type": "stream",
     "text": [
      "4150 : ['How many people commanded for the {Warsaw Pact} ?']\n",
      "4151 : ['What W. H. Auden honors did Joan Didion win?']\n",
      "4152 : ['What is the disjointed union between cartridge and rimfire?']\n"
     ]
    },
    {
     "name": "stdout",
     "output_type": "stream",
     "text": [
      "4153 : ['What is {end time} and {start time} of {{Boeing 747} has {operator} as {Air Algérie}} ?']\n"
     ]
    },
    {
     "name": "stdout",
     "output_type": "stream",
     "text": [
      "4154 : ['Which is the married name for Angel Merkel?']\n"
     ]
    },
    {
     "name": "stdout",
     "output_type": "stream",
     "text": [
      "4155 : ['When was Robert Koch nominated for the Nobel Prize in Physiology or Medicine']\n"
     ]
    },
    {
     "name": "stdout",
     "output_type": "stream",
     "text": [
      "4156 : ['What is the area of provinces that border the Entre Rios Province?']\n",
      "4157 : ['What is {studied by} the {manifestation of} of {Human_body} ?']\n"
     ]
    },
    {
     "name": "stdout",
     "output_type": "stream",
     "text": [
      "4158 : ['Who was replaced by Alfred Deakin as Member of the Victorian Legislative Assembly?']\n",
      "4159 : ['who is the powerplant and the  manufacterer  of Mcdonnell_douglas_F-15_eagle?']\n"
     ]
    },
    {
     "name": "stdout",
     "output_type": "stream",
     "text": [
      "4160 : ['What is describes a project that uses of Urban Dictionary ?']\n",
      "4161 : ['When was Jonny Wilkinson has joind as a member to the RC Toulonnais sports team?']\n"
     ]
    },
    {
     "name": "stdout",
     "output_type": "stream",
     "text": [
      "4162 : ['Which is the legal medicinal status for prescription drug?']\n"
     ]
    },
    {
     "name": "stdout",
     "output_type": "stream",
     "text": [
      "4163 : ['What is the immediate outcome of a door with a vernacular name of Mirov?']\n",
      "4164 : ['Where is the head office location of Miss World, whose twin city is Los Angeles?']\n"
     ]
    },
    {
     "name": "stdout",
     "output_type": "stream",
     "text": [
      "4165 : ['What is the electrical plug type that is used in Nicaragua?']\n"
     ]
    },
    {
     "name": "stdout",
     "output_type": "stream",
     "text": [
      "4166 : ['When was William Henry Bragg employed at the University of Leeds and when did it end?']\n",
      "4167 : ['What is the ingredients in beer whose phase point is the critical point?']\n",
      "4168 : ['Where did Hans Bethe get his doctoral and academic degree from?T']\n",
      "4169 : ['What job did Michelangelo, also known as inż, have?']\n",
      "4170 : ['What is the orbital eccentricity of Planet Nine?']\n"
     ]
    },
    {
     "name": "stdout",
     "output_type": "stream",
     "text": [
      "4171 : ['What is {wikibase:geoLatitude ?max} {land} of {history of Senegal} ?']\n",
      "4172 : ['Who wrote the lyrics of Auld Lang Syne ?']\n"
     ]
    },
    {
     "name": "stdout",
     "output_type": "stream",
     "text": [
      "4173 : ['How are Carl Maria von Weber and Constanze Mozart related?']\n",
      "4174 : ['Name a MediaWiki website located in Amsterdam that starts with letter W']\n"
     ]
    },
    {
     "name": "stdout",
     "output_type": "stream",
     "text": [
      "4175 : ['What is being claimed by Alexandre Island, that has a total fertility rate of 2.322?']\n",
      "4176 : ['What is the used for treatment of the signs of rabies?']\n"
     ]
    },
    {
     "name": "stdout",
     "output_type": "stream",
     "text": [
      "4177 : ['Is it true Facebook founded by Andrew McCollum?']\n"
     ]
    },
    {
     "name": "stdout",
     "output_type": "stream",
     "text": [
      "4178 : ['Which research institute is owned by the University of Oxford?']\n",
      "4179 : ['Alexander Scriabin is a tutor of which musical instrument?']\n"
     ]
    },
    {
     "name": "stdout",
     "output_type": "stream",
     "text": [
      "4180 : ['What is ideology of member  party of Lars Krarup ?']\n",
      "4181 : ['When was Abigail Adams child Charles Adams born, and when did he die?']\n",
      "4182 : ['When did Fahrenheit 451 win the Prometheus Award?']\n",
      "4183 : ['when was serbias total fatality rate 1.59?']\n",
      "4184 : ['When did Alexander Ovechkin receive a gold medal?']\n"
     ]
    },
    {
     "name": "stdout",
     "output_type": "stream",
     "text": [
      "4185 : ['What is the currency used in Norman conquest of England} ?']\n",
      "4186 : ['Which animated film series whose distributor Metro-Goldwyn-Mayer and which that starts with the letter j']\n"
     ]
    },
    {
     "name": "stdout",
     "output_type": "stream",
     "text": [
      "4187 : ['Who is the child of Pedro I and when was he born?']\n",
      "4188 : ['What is the name of the sovereign state located in Benghazi?']\n",
      "4189 : ['What is the ideology named after Donald Watson that starts with letter V ?']\n"
     ]
    },
    {
     "name": "stdout",
     "output_type": "stream",
     "text": [
      "4190 : ['How many are designed by Niklaus Wirth?']\n",
      "4191 : ['How many goals did Landon Donovan of the United States mens national under-23 soccer team score and how many matches did he play?']\n"
     ]
    },
    {
     "name": "stdout",
     "output_type": "stream",
     "text": [
      "4192 : ['what is spouse of charlie parker that is end time is 1955-3-12?']\n"
     ]
    },
    {
     "name": "stdout",
     "output_type": "stream",
     "text": [
      "4193 : ['when did the relationship between Gore Vidal and Howard Austen start?']\n",
      "4194 : ['Who was the Mayor of Atlanta starting in 2002?']\n"
     ]
    },
    {
     "name": "stdout",
     "output_type": "stream",
     "text": [
      "4195 : ['Which is the Wikimedia duplicate page for energy measurement?']\n",
      "4196 : ['Which financial center is a twinned administrative body of Mumbai?']\n"
     ]
    },
    {
     "name": "stdout",
     "output_type": "stream",
     "text": [
      "4197 : ['What organization does George Rudinger work at?']\n",
      "4198 : ['IS THE LOWER LIMIT OF THE CLOSED INTERVAL FROM 1 TO 1 LESS THAN -0.8']\n"
     ]
    },
    {
     "name": "stdout",
     "output_type": "stream",
     "text": [
      "4199 : ['What human was killed by commodus?']\n",
      "4200 : ['What are the places of death and burial of Stonewall Jackson?']\n",
      "4201 : ['What are the childrens game  which start with the letter zapp']\n"
     ]
    },
    {
     "name": "stdout",
     "output_type": "stream",
     "text": [
      "4202 : ['What is date of death for Charles Le Brun ?']\n",
      "4203 : ['In which electoral district did Tommy Douglas hold the position of the member of the House of Commons of Canada?']\n",
      "4204 : ['Who had the honour of discovering general relativity?']\n",
      "4205 : ['Name an airline company using the Chennai International Airport as a hub that contains the word spicejet in its name']\n"
     ]
    },
    {
     "name": "stdout",
     "output_type": "stream",
     "text": [
      "4206 : ['What was Nivelle accused of ?']\n",
      "4207 : ['How many words are in the language Bāṇabhaṭṭa?']\n",
      "4208 : ['In Venice, do you know the work location of human?']\n",
      "4209 : ['How many heads of state does Ukraine have?']\n"
     ]
    },
    {
     "name": "stdout",
     "output_type": "stream",
     "text": [
      "4210 : ['Which is the painting that depicts the Richard III of England?']\n",
      "4211 : ['Mariano Rajoy is a member of what political party?']\n"
     ]
    },
    {
     "name": "stdout",
     "output_type": "stream",
     "text": [
      "4212 : ['Mention the Hamburgs responsible work location.']\n",
      "4213 : ['Which is the Cycling Database ID for Lance Armstrong?']\n",
      "4214 : ['Which  is torch lit by of Li Ning ?']\n"
     ]
    },
    {
     "name": "stdout",
     "output_type": "stream",
     "text": [
      "4215 : ['When did country for participant of of World War II?']\n",
      "4216 : ['Who are the founders of Benelux, which has an inflation rate of consumer price index of 1.4?']\n",
      "4217 : ['Who is the human biblical figure that is a significant person of Samuel and contains the word saul in its name?']\n"
     ]
    },
    {
     "name": "stdout",
     "output_type": "stream",
     "text": [
      "4218 : ['What is Star Wars  narrative location fictional gas giant Episode V: The Empire Strikes Back?']\n"
     ]
    },
    {
     "name": "stdout",
     "output_type": "stream",
     "text": [
      "4219 : ['Which is the lowest note of Mariah Carey']\n",
      "4220 : ['What is the grammatical gender of the languages spoken, written, or signed of Max Factor?']\n"
     ]
    },
    {
     "name": "stdout",
     "output_type": "stream",
     "text": [
      "4221 : ['Sergei Prokudein-Gorskii died in what county within the 7th arrondissement of Paris?']\n"
     ]
    },
    {
     "name": "stdout",
     "output_type": "stream",
     "text": [
      "4222 : ['What is the epitaph for Alwin Nikolais at Crématorium-columbarium du Père-Lachaise?']\n",
      "4223 : ['Are apples red and blue?']\n"
     ]
    },
    {
     "name": "stdout",
     "output_type": "stream",
     "text": [
      "4224 : ['What is parent organization of ARD ?']\n",
      "4225 : ['Is the natural abundance of samarium-152 equal to .321?']\n"
     ]
    },
    {
     "name": "stdout",
     "output_type": "stream",
     "text": [
      "4226 : ['What is the diplomatic relation of Slovenia whose acronym is ЗША?']\n"
     ]
    },
    {
     "name": "stdout",
     "output_type": "stream",
     "text": [
      "4227 : ['When did Dag Hammarskjold end his term as the United Nations Secretary-General?']\n"
     ]
    },
    {
     "name": "stdout",
     "output_type": "stream",
     "text": [
      "4228 : ['Mention the federal  state responsible for the Soviet Unions diplomatic relation.']\n"
     ]
    },
    {
     "name": "stdout",
     "output_type": "stream",
     "text": [
      "4229 : ['Tom Hanks played as voice actor in which short animated film?']\n",
      "4230 : ['Who gave the{located in} of {participant of event} of {Annemarie Moser-Pröll} ?']\n",
      "4231 : ['Tell me the performing arts genre that contains the word videotanz in their name']\n"
     ]
    },
    {
     "name": "stdout",
     "output_type": "stream",
     "text": [
      "4232 : ['Which is the taxon rank for class?']\n",
      "4233 : ['What is the current translated version of Hamlet']\n",
      "4234 : ['What is the subsidiary of IBM Power?']\n"
     ]
    },
    {
     "name": "stdout",
     "output_type": "stream",
     "text": [
      "4235 : ['How wide is Lake District?']\n",
      "4236 : ['Which is the fictional analog of the source of inspiration of Captain Ahab?']\n"
     ]
    },
    {
     "name": "stdout",
     "output_type": "stream",
     "text": [
      "4237 : ['Where did Kang Sheng die that is near Tokoyo?']\n"
     ]
    },
    {
     "name": "stdout",
     "output_type": "stream",
     "text": [
      "4238 : ['What did John Rawls ask Immanuel?']\n",
      "4239 : ['Which is {nominated for} and the {award received} of {The_Simpsons} ?']\n",
      "4240 : ['Which is the organization that has its headquarters located in Cleveland?']\n"
     ]
    },
    {
     "name": "stdout",
     "output_type": "stream",
     "text": [
      "4241 : ['What did the distribution of the Children of the Corn 666:Isaacs Return establish?']\n",
      "4242 : ['Which is the economic branch licensed by macOS?']\n",
      "4243 : ['Which is {detection method} for {child body} of {Ross 128} ?']\n"
     ]
    },
    {
     "name": "stdout",
     "output_type": "stream",
     "text": [
      "42444245 : ['Who is the person that was the professional or sport partner of Paul McCartney?']\n",
      " : ['Are Juliet and Friar Laurence characters in Romeo and Juliet?']\n"
     ]
    },
    {
     "name": "stdout",
     "output_type": "stream",
     "text": [
      "4246 : ['When was Mulholland Drive published in Germany?']\n"
     ]
    },
    {
     "name": "stdout",
     "output_type": "stream",
     "text": [
      "4247 : ['What what is animated taxondistributed by MGM and {family}']\n",
      "4248 : ['Who has children with Domnall mac Ailpín, who is buried at Iona?']\n"
     ]
    },
    {
     "name": "stdout",
     "output_type": "stream",
     "text": [
      "4249 : ['Which is the enterprise that is a subsidiary of CBS?']\n"
     ]
    },
    {
     "name": "stdout",
     "output_type": "stream",
     "text": [
      "4250 : ['Mention the year of establishment and the reason of tenure end of Enoch Powell after holding up place as the Member of the 48th Parliament of the United Kingdom']\n"
     ]
    },
    {
     "name": "stdout",
     "output_type": "stream",
     "text": [
      "42514252 : ['How many religions are by animism?']\n",
      " : ['What is pronunciation audio of plays of kayak ?']\n",
      "4253 : ['What part of the North Platte River is located at 41.1139?']\n"
     ]
    },
    {
     "name": "stdout",
     "output_type": "stream",
     "text": [
      "4254 : ['Which is the corporation for the products produced by Coca-Cola?']\n",
      "4255 : ['What type of art were the famous works of Severin Roesen?']\n",
      "4256 : ['Where did Konrad Zacharias Lorenz begin working on 8-31-1940?']\n",
      "4257 : ['What is the SI unit for frequency?']\n"
     ]
    },
    {
     "name": "stdout",
     "output_type": "stream",
     "text": [
      "4258 : ['Which wars did the Soviet Union take part in.']\n"
     ]
    },
    {
     "name": "stdout",
     "output_type": "stream",
     "text": [
      "4259 : ['When did Paul Erdős live in Manchester?']\n",
      "4260 : ['Tell me if the number of cases of malaria is 343527.']\n",
      "4261 : ['What is  the timezone of the civilisation of Chinese mythology ?']\n",
      "4262 : ['who is the child of Zeus whose mother is Leda?']\n"
     ]
    },
    {
     "name": "stdout",
     "output_type": "stream",
     "text": [
      "4263 : ['Which venue in Toulouse, has a total area of 190000.0?']\n",
      "4264 : ['What was The Walking Dead nominated for on 2012?']\n"
     ]
    },
    {
     "name": "stdout",
     "output_type": "stream",
     "text": [
      "4265 : ['What political murder involved Sirhan Sirhan?']\n"
     ]
    },
    {
     "name": "stdout",
     "output_type": "stream",
     "text": [
      "4266 : ['which painting movement that contains the word verismo in their name']\n",
      "4267 : ['When did Yerevans population reach 1.0547e+06?']\n"
     ]
    },
    {
     "name": "stdout",
     "output_type": "stream",
     "text": [
      "4268 : ['Which is {endemism} of {Mantella}, where {member of} is {International Bank for Reconstruction and Development} ?']\n",
      "4269 : ['Did the cost of damage from Hurricane Ike equal 38,000,000,000?']\n",
      "4270 : ['What what is  international parliament  office held by head of the organisation by President of the United Nations General Assembly and also which starts with letter a']\n"
     ]
    },
    {
     "name": "stdout",
     "output_type": "stream",
     "text": [
      "4271 : ['who is user of fleet of Qantas ?']\n",
      "4272 : ['Where can the sport be found that requires the smallest number of players to play and that uses a net?']\n"
     ]
    },
    {
     "name": "stdout",
     "output_type": "stream",
     "text": [
      "4273 : ['What position did Ralf Dahrendorf hold during 1993-7-15?']\n",
      "4274 : ['Which character from Star Wars is the husband of Princess Leia?']\n"
     ]
    },
    {
     "name": "stdout",
     "output_type": "stream",
     "text": [
      "4275 : ['Which aircraft family has highest time to altitude?']\n",
      "4276 : ['On 1-1-1678 William Petty, 2nd Earl of Shelburne founded what party membership']\n",
      "4277 : ['Which extinct human group starts with the letter w?']\n",
      "4278 : ['Is the embodied energy of iron 30.0?']\n"
     ]
    },
    {
     "name": "stdout",
     "output_type": "stream",
     "text": [
      "4279 : ['What is the construction with the maximum slope rating whose located in the administrative territorial entity is Oregon ?']\n"
     ]
    },
    {
     "name": "stdout",
     "output_type": "stream",
     "text": [
      "4280 : ['Where in Spain was Muhammad al-Idrisi born?']\n",
      "4281 : ['What was the population of the Central African Republic in 1987?']\n"
     ]
    },
    {
     "name": "stdout",
     "output_type": "stream",
     "text": [
      "4282 : ['When did Vyacheslav Molotov received the Order of Lenin award?']\n",
      "4283 : ['Which is the sovereign sate for country of sport of George Weah?']\n",
      "4284 : ['How many auto locations are there in the {heart} ?']\n"
     ]
    },
    {
     "name": "stdout",
     "output_type": "stream",
     "text": [
      "4285 : ['Did Shah Rukh Khan work in Koyaanisqatsi?']\n",
      "4286 : ['In what year did Jacqueline Wilson receive the Guardian Childrens Fiction Prize?']\n"
     ]
    },
    {
     "name": "stdout",
     "output_type": "stream",
     "text": [
      "4287 : ['what diameter is 5.56*45mm NATO in the base?']\n",
      "4288 : ['What award did Kurt Godel receive on 1974-1-1?']\n"
     ]
    },
    {
     "name": "stdout",
     "output_type": "stream",
     "text": [
      "4289 : ['Were Grendels mother and Hygelac characters in Beowulf?']\n",
      "4290 : ['Does Christian Slater play a musician character called The Name of the Rose?']\n",
      "4291 : ['Is the magnetic moment of the Ganymede equal to 1.056e+20?']\n",
      "4292 : ['Which outer planet has the most flattening?']\n"
     ]
    },
    {
     "name": "stdout",
     "output_type": "stream",
     "text": [
      "4293 : ['What part of Piacenza is in the standard time zone?']\n",
      "4294 : ['What is the base of the decagonal antiprism?']\n"
     ]
    },
    {
     "name": "stdout",
     "output_type": "stream",
     "text": [
      "4295 : ['What variety is influenced by English?']\n"
     ]
    },
    {
     "name": "stdout",
     "output_type": "stream",
     "text": [
      "4296 : ['Who owns UNESCO and the what office does its organization head hold?']\n",
      "4297 : ['What was Czechoslovakia previously known as?']\n",
      "4298 : ['What is the horse  characters of Madame Sans-Gêne play ?']\n",
      "4299 : ['Who is a crew member and operator of the International Space Station?']\n",
      "4300 : ['Who is the songwriter of Die Fledermaus whose artistic genre is classical music?']\n"
     ]
    },
    {
     "name": "stdout",
     "output_type": "stream",
     "text": [
      "4301 : ['Tell me chemical property whose name has the word tetravalence in it.']\n",
      "4302 : ['Are there no households in Vidvathkumaryachasamudram?']\n"
     ]
    },
    {
     "name": "stdout",
     "output_type": "stream",
     "text": [
      "4303 : ['Tell me condiment whose name has the word yondu in it.']\n",
      "4304 : ['What sports are included in the biathlon']\n"
     ]
    },
    {
     "name": "stdout",
     "output_type": "stream",
     "text": [
      "4305 : ['What is {oblateness} of {orbits} {Amalthea} ?']\n",
      "4306 : ['Who is the operator of Sydney Metro?']\n"
     ]
    },
    {
     "name": "stdout",
     "output_type": "stream",
     "text": [
      "4307 : ['what is game mode starts with v']\n",
      "4308 : ['Did Edward VIII hold the military rank of field marshal?']\n",
      "4309 : ['WHICH IS THE CABLE STAYED BRIDGE WITH THE MAXIMUM NUMBER OF SPANS']\n",
      "4310 : ['WHICH IS THE PUBMED ID OF TUBERCULOSIS']\n",
      "4311 : ['Which {record label} and the {genre} is of {Radiohead} ?']\n"
     ]
    },
    {
     "name": "stdout",
     "output_type": "stream",
     "text": [
      "4312 : ['What was the population of Maharashtra in the year 2011?']\n"
     ]
    },
    {
     "name": "stdout",
     "output_type": "stream",
     "text": [
      "4313 : ['Who was Ted Kaczynskis doctoral advisor?']\n"
     ]
    },
    {
     "name": "stdout",
     "output_type": "stream",
     "text": [
      "4314 : ['What award did Fleetwood Mac win?']\n"
     ]
    },
    {
     "name": "stdout",
     "output_type": "stream",
     "text": [
      "4315 : ['what is a year for Venice Film Festival?']\n",
      "4316 : ['Which federation regulates association football?']\n"
     ]
    },
    {
     "name": "stdout",
     "output_type": "stream",
     "text": [
      "43174318 : ['What Suezmax oil tanker has min net tonnage?']\n",
      " : ['What sports team did Kareem Abdul-Jabbar play for and when did he leave the team?']\n",
      "4319 : ['What is the pronoun for Charlamagne Tha God that is shortened to мужской?']\n"
     ]
    },
    {
     "name": "stdout",
     "output_type": "stream",
     "text": [
      "4320 : ['What sovereign states does the US Declaration of Independence apply to']\n",
      "4321 : ['Who is Alexander Hamiltons wife and why did the relationship end?']\n",
      "4322 : ['What is an alternate name for Mairesse?']\n"
     ]
    },
    {
     "name": "stdout",
     "output_type": "stream",
     "text": [
      "4323 : ['What is the Discogs artist ID of Henrich Heine?']\n",
      "4324 : ['Who was the chairperson of the US Department of State in January of 2013?']\n"
     ]
    },
    {
     "name": "stdout",
     "output_type": "stream",
     "text": [
      "4325 : ['Who performed as Boris Godunuv on 1/27/1874?']\n",
      "4326 : ['Who was elected in final cause of Neville Chamberlain in position as member of the 31st Parliament of the United Kingdom?']\n",
      "4327 : ['Is 17 the age of consent in South Australia?']\n",
      "4328 : ['Give me jurisdiction that applies to jurisdiction Member states of the United Nations starts with c']\n"
     ]
    },
    {
     "name": "stdout",
     "output_type": "stream",
     "text": [
      "4329 : ['Tell me the noble family who has the son of Georgina Kennard?']\n",
      "4330 : ['When was Kenny Rogers given the American Music Award for Favorite Country Album?']\n"
     ]
    },
    {
     "name": "stdout",
     "output_type": "stream",
     "text": [
      "4331 : ['what is the start time for Aethelred the unready has position held  monarch of England?']\n"
     ]
    },
    {
     "name": "stdout",
     "output_type": "stream",
     "text": [
      "4332 : ['What are the modern languages which start with the letter t']\n"
     ]
    },
    {
     "name": "stdout",
     "output_type": "stream",
     "text": [
      "4333 : ['What is the name for someone who lives in the German Democratic Republic?']\n",
      "4334 : ['Which game of chess allows the maximum score of 3 points difference to win?']\n",
      "4335 : ['What is the Snooker Database player ID of Stephen Hendry?']\n"
     ]
    },
    {
     "name": "stdout",
     "output_type": "stream",
     "text": [
      "4336 : ['What is the computer network protocol for Hypertext Transfer Protocols?']\n"
     ]
    },
    {
     "name": "stdout",
     "output_type": "stream",
     "text": [
      "4337 : ['Was the inception of The Islamic State of Iraq and the Levant that is identifying of subject in context  with The Islamic State of Iraq ?']\n",
      "4338 : ['What is developed by SPICE that has working languages in English?']\n",
      "4339 : ['Is the tuition fee of Indian Institute of Technology Kanpur equal to 100000?']\n",
      "4340 : ['What is the Milwaukee railway for?']\n"
     ]
    },
    {
     "name": "stdout",
     "output_type": "stream",
     "text": [
      "4341 : ['What is Casare Borgias date of birth?']\n",
      "4342 : ['Which are the YouTube Play Buttons that are conferred by YouTube?']\n"
     ]
    },
    {
     "name": "stdout",
     "output_type": "stream",
     "text": [
      "4343 : ['What is  thealphabet  language official of Tokugawa shogunate ?']\n",
      "4344 : ['How is {inception} of {Nefertiti Bust} where {earliest date} is {-1353-0-0} ?']\n"
     ]
    },
    {
     "name": "stdout",
     "output_type": "stream",
     "text": [
      "4345 : ['Tell me the location of  the administrative territorial entity for Harry Harlow has place of death as Tucson?']\n"
     ]
    },
    {
     "name": "stdout",
     "output_type": "stream",
     "text": [
      "4346 : ['What noble title did Berengar I of Italy hold and who did he follow?']\n",
      "4347 : ['What was spencer Perceval position in 1812?']\n"
     ]
    },
    {
     "name": "stdout",
     "output_type": "stream",
     "text": [
      "4348 : ['What is the AmphibiaWeb Species ID of Notophthalmus viridescens?']\n"
     ]
    },
    {
     "name": "stdout",
     "output_type": "stream",
     "text": [
      "4349 : ['What was Dmitry Merezhkovsky nominated for on 1-1-1937?']\n"
     ]
    },
    {
     "name": "stdout",
     "output_type": "stream",
     "text": [
      "4350 : ['How many goals did Liverpool F.C. score in the 1950 FA Cup Final?']\n"
     ]
    },
    {
     "name": "stdout",
     "output_type": "stream",
     "text": [
      "4351 : ['Where in Venice is Casada Nova?']\n",
      "4352 : ['What is the opposite genre for fiction ?']\n"
     ]
    },
    {
     "name": "stdout",
     "output_type": "stream",
     "text": [
      "4353 : ['How tall is the actor who played of one of the Wise Men?']\n",
      "4354 : ['Which is the LittleSis people ID for Shinzō Abe?']\n",
      "4355 : ['WHAT IS THE CENOTAPH FOR JEAN-JACQUES ROUSSEAU?']\n",
      "4356 : ['Was the Berlin Wall in Germany?']\n",
      "4357 : ['What was the linguistic origin of sugar?']\n"
     ]
    },
    {
     "name": "stdout",
     "output_type": "stream",
     "text": [
      "4358 : ['Which of Henry IV of Frances marriages has ended in divorce?']\n",
      "4359 : ['When did Alexander Fleming win the Nobel Prize, was it for Physiology or Medicine, and what was the cash prize?']\n"
     ]
    },
    {
     "name": "stdout",
     "output_type": "stream",
     "text": [
      "4360 : ['What unfinished/abandoned film project does screenwriter Mike Myers have?']\n"
     ]
    },
    {
     "name": "stdout",
     "output_type": "stream",
     "text": [
      "4361 : ['how is remake of makes use of Roman numerals?']\n",
      "4362 : ['TELL ME THE CREATION MYTH THAT CONTAINS THE WORD DEAMTIME IN THEIR NAME']\n"
     ]
    },
    {
     "name": "stdout",
     "output_type": "stream",
     "text": [
      "4363 : ['Which political party in Germany has the highest number of representatives in its legislature?']\n",
      "4364 : ['What is the M.49 code of Eastern Europe?']\n"
     ]
    },
    {
     "name": "stdout",
     "output_type": "stream",
     "text": [
      "4365 : ['Who is the president and CEO of BP?']\n",
      "4366 : ['Is it true that the total fertility rate of Luxembourg is 1.55?']\n"
     ]
    },
    {
     "name": "stdout",
     "output_type": "stream",
     "text": [
      "4367 : ['What operating system did Dennis M. Ritchie develop?']\n",
      "4368 : ['What is a significant event that Matthias Corvinus was apart of and  what was the location of that event?']\n"
     ]
    },
    {
     "name": "stdout",
     "output_type": "stream",
     "text": [
      "4369 : ['What is typology in Altaic languages and it is the opposite of fusional language?']\n",
      "4370 : ['Is it true that the total expenditure of the Central Catholic High School is less than 4272234.24?']\n"
     ]
    },
    {
     "name": "stdout",
     "output_type": "stream",
     "text": [
      "4371 : ['What was the position of Fernando Álvarez de Toledo in 1581?']\n",
      "4372 : ['What days is the British Museum open?']\n",
      "4373 : ['Name a demigod of Greek mythology that contains the word Heracles in its name']\n"
     ]
    },
    {
     "name": "stdout",
     "output_type": "stream",
     "text": [
      "4374 : ['Which team member of Lucien Laurent has scored 4.0?']\n",
      "4375 : ['What is ploidy for  human genome ?']\n"
     ]
    },
    {
     "name": "stdout",
     "output_type": "stream",
     "text": [
      "4376 : ['What award did Maureen OHara receive in 2014?']\n"
     ]
    },
    {
     "name": "stdout",
     "output_type": "stream",
     "text": [
      "4377 : ['What are the instructions for x86?']\n",
      "4378 : ['What is treated by capable of inhibiting or preventing pathological process of silver nitrate ?']\n",
      "4379 : ['During Star Wars Episode V: The Empire Strikes Back, what are the names of the vehicles used in the film.']\n"
     ]
    },
    {
     "name": "stdout",
     "output_type": "stream",
     "text": [
      "4380 : ['What is a Biblical place that starts with the letter z.']\n",
      "4381 : ['Who replaced Bhumibol Adulyadej as King of Thailand?']\n",
      "4382 : ['What is {etymology} of {Riemann sum}, which has {studied at} is {Humboldt University of Berlin} ?']\n"
     ]
    },
    {
     "name": "stdout",
     "output_type": "stream",
     "text": [
      "4383 : ['Is Gini coefficient of 47.7 native to American English?']\n",
      "4384 : ['What number of awards has Andrei Gromyko received from the Order of Lenin?']\n"
     ]
    },
    {
     "name": "stdout",
     "output_type": "stream",
     "text": [
      "4385 : ['What part of Saxony is Cottbus District located?']\n",
      "4386 : ['When did country for contains administrative territorial entity of Tripura?']\n",
      "4387 : ['Name the birth place of Sylvester II, in Kingdom of France.']\n",
      "4388 : ['was Isaac newton given professorship in 1669-0-0?']\n"
     ]
    },
    {
     "name": "stdout",
     "output_type": "stream",
     "text": [
      "4389 : ['What is the death date of Peter, Count of Perche and Alençon, the son of Louis IX of France?']\n"
     ]
    },
    {
     "name": "stdout",
     "output_type": "stream",
     "text": [
      "4390 : ['What is Sandbox-Item of The Last Supper ?']\n",
      "4391 : ['What is the island nation with the lowest marriageable age whose member of is United Nations Educational, Scientific and Cultural Organization?']\n",
      "4392 : ['Tell me baseball league whose name has the word professional in it.']\n"
     ]
    },
    {
     "name": "stdout",
     "output_type": "stream",
     "text": [
      "4393 : ['Jacques {county seat of Neustria died at which place?']\n"
     ]
    },
    {
     "name": "stdout",
     "output_type": "stream",
     "text": [
      "4394 : ['When did Herta Müller receive the Ehrengabe der Heinrich-Heine-Gesellscahft?']\n"
     ]
    },
    {
     "name": "stdout",
     "output_type": "stream",
     "text": [
      "4395 : ['When was Arthur Sullivans most notable work, The Yeomen of the Guard, produced?']\n",
      "4396 : ['During what years were Gerard Reve and Hanny Michaelis married?']\n",
      "4397 : ['What is the INDUCKS story ID of Toy Story?']\n"
     ]
    },
    {
     "name": "stdout",
     "output_type": "stream",
     "text": [
      "4398 : ['What are the origins of Run-D.M.C.?']\n"
     ]
    },
    {
     "name": "stdout",
     "output_type": "stream",
     "text": [
      "4399 : ['What is taxonomy of goldfish']\n"
     ]
    },
    {
     "name": "stdout",
     "output_type": "stream",
     "text": [
      "4400 : ['What spouse of Max Ernst has a birthdate of 1-1-1946?']\n",
      "4401 : ['Tell me private not-for-profit educational institution whose name has the word university in it.']\n"
     ]
    },
    {
     "name": "stdout",
     "output_type": "stream",
     "text": [
      "4402 : ['What position did Frederick Douglass hold in 1881?']\n",
      "4403 : ['What is the first in the series of Once Upon a Time in the West?']\n"
     ]
    },
    {
     "name": "stdout",
     "output_type": "stream",
     "text": [
      "4404 : ['What is the observable dimension and physical quantity  on cubic inhes of L3?']\n",
      "4405 : ['What is Francois Guzots position in the government of Calvados']\n"
     ]
    },
    {
     "name": "stdout",
     "output_type": "stream",
     "text": [
      "4406 : ['What chemical compound with the lowest median lethal dose has safety classification and labelling of NFPA 704: Standard System for the Identification of the Hazards of Materials for Emergency Response?']\n"
     ]
    },
    {
     "name": "stdout",
     "output_type": "stream",
     "text": [
      "4407 : ['Where was P. J. Patterson last educated in 1953?']\n",
      "4408 : ['Tell me physical law whose name has the word superposition in it.']\n"
     ]
    },
    {
     "name": "stdout",
     "output_type": "stream",
     "text": [
      "4409 : ['When was Celine Dion made an Officer of the National Order of Quebec?']\n"
     ]
    },
    {
     "name": "stdout",
     "output_type": "stream",
     "text": [
      "4410 : ['tell me comic genre whose name has the word novel in it']\n",
      "4411 : ['Which human Go player, has the minimum EGF rating?']\n",
      "4412 : ['What did Gisele Bundchen achieve in December of 2012?']\n"
     ]
    },
    {
     "name": "stdout",
     "output_type": "stream",
     "text": [
      "4413 : ['Who follows Berengar 1 of Italy as monarch of Italy']\n",
      "4414 : ['What is the territory of Australia with the highest age of consent whose public holiday is Queens official birthday?']\n",
      "4415 : ['What takes place in the fictional universe of The Walking Dead?']\n"
     ]
    },
    {
     "name": "stdout",
     "output_type": "stream",
     "text": [
      "4416 : ['Tell me the name of the female idol group whose name contains the word zero?']\n"
     ]
    },
    {
     "name": "stdout",
     "output_type": "stream",
     "text": [
      "4417 : ['When did begin Louis VII of France his reign as the king of the Franks and when did his reign end?']\n"
     ]
    },
    {
     "name": "stdout",
     "output_type": "stream",
     "text": [
      "4418 : ['Is the decomposition point of citric acid greater than 140.0?']\n",
      "4419 : ['What position did John Foster Dulles hold and when?']\n",
      "4420 : ['What is formation of succeeded by of Julian calendar ?']\n"
     ]
    },
    {
     "name": "stdout",
     "output_type": "stream",
     "text": [
      "4421 : ['What flammable gas has the word vinyl in the name and has safety as well as classification and labeling from NFPA 704: Standard System for the Identification of the Hazards of Materials for Emergency Response?']\n",
      "4422 : ['Which is the language of work or name for Old Church Slavonic?']\n"
     ]
    },
    {
     "name": "stdout",
     "output_type": "stream",
     "text": [
      "4423 : ['Who replaces eodoro Obiang Nguema Mbasogo for the position of the chairperson of the African Union?']\n"
     ]
    },
    {
     "name": "stdout",
     "output_type": "stream",
     "text": [
      "4424 : ['What part of Somogy County came to an end in the year 1989 which was located in the administrative territorial entity?']\n"
     ]
    },
    {
     "name": "stdout",
     "output_type": "stream",
     "text": [
      "4425 : ['How many WHOIN names are there for amphetamine?']\n",
      "4426 : ['Where I can find on the map Kherson Oblast?']\n"
     ]
    },
    {
     "name": "stdout",
     "output_type": "stream",
     "text": [
      "4427 : ['What is EMLO location ID for Riga ?']\n"
     ]
    },
    {
     "name": "stdout",
     "output_type": "stream",
     "text": [
      "4428 : ['What genre of music is part of the series of Bomberman II?']\n",
      "4429 : ['When did Prince Harry, Duke of Sussex, date Chelsy Davy?']\n"
     ]
    },
    {
     "name": "stdout",
     "output_type": "stream",
     "text": [
      "4430 : ['Who is the {child} and the {position played on team / speciality} of {Hakeem_Olajuwon} ?']\n",
      "4431 : ['What is Moscow State Universitys elibrary.ru organisation ID?']\n"
     ]
    },
    {
     "name": "stdout",
     "output_type": "stream",
     "text": [
      "4432 : ['Name the Austrian election with the oldest candidates like Die Grunen?']\n",
      "4433 : ['Did Carol Burnett win the Prisoner of War Medal and the Library of Congress Living Legend award?']\n",
      "4434 : ['What kind of activity of Lotte Jacobi in Berg an Laim is it?']\n"
     ]
    },
    {
     "name": "stdout",
     "output_type": "stream",
     "text": [
      "4435 : ['What region of Salerno divides into Teggiano?']\n",
      "4436 : ['Which is the anatomical location for mumps?']\n",
      "4437 : ['When did the cruzeiro become the currency of Brazil?']\n"
     ]
    },
    {
     "name": "stdout",
     "output_type": "stream",
     "text": [
      "4438 : ['Bohemian Rhapsodys Tab4u song ID?']\n",
      "4439 : ['Is the IDLH of carbon dioxide equal to 72000?']\n"
     ]
    },
    {
     "name": "stdout",
     "output_type": "stream",
     "text": [
      "4440 : ['Is the minimum wavelength of sensitivity of the human eye equal to 320.0?']\n",
      "4441 : ['What are the national economy which start with the letter e']\n"
     ]
    },
    {
     "name": "stdout",
     "output_type": "stream",
     "text": [
      "4442 : ['Who is the toponym of thorium, and has a parent named Odin?']\n",
      "4443 : ['What are the uses and the opposite of linear regression?']\n"
     ]
    },
    {
     "name": "stdout",
     "output_type": "stream",
     "text": [
      "4444 : ['Where did Marina Abramovic graduate from in 1970?']\n",
      "4445 : ['Tell me least squares method  whose name has the word least in it.']\n",
      "4446 : ['Is the par of the Royal St Georges Golf Club equal to 56.0?']\n"
     ]
    },
    {
     "name": "stdout",
     "output_type": "stream",
     "text": [
      "4447 : ['What date in 1949 was Erich Honecker born?']\n"
     ]
    },
    {
     "name": "stdout",
     "output_type": "stream",
     "text": [
      "4448 : ['What sport did Theodore Roosevelt play, and for what country?']\n",
      "4449 : ['Which is language of platforms of Army of Darkness: Defense ?']\n"
     ]
    },
    {
     "name": "stdout",
     "output_type": "stream",
     "text": [
      "4450 : ['What is next to the Gaza Strip, that has a total fertility rate of 2.9%?']\n",
      "4451 : ['Tell me the sect that contains the word valentinianism in its name?']\n"
     ]
    },
    {
     "name": "stdout",
     "output_type": "stream",
     "text": [
      "4452 : ['when did Serge Gainsbourg and Caroline von Paulus divorce?']\n",
      "4453 : ['How many mountains are there for the {Lester Piggott} ?']\n"
     ]
    },
    {
     "name": "stdout",
     "output_type": "stream",
     "text": [
      "4454 : ['How long was Henry Campbell-Bannerman a member of the 20th Parliament of the UK?']\n",
      "4455 : ['Which is the {list of characters} and the {characters} of {Game_of_Thrones} ?']\n",
      "4456 : ['Which is the capital for the official residence of the Parthian Empire?']\n",
      "4457 : ['What U.S. state or or insular area capital starts with the letter t?']\n"
     ]
    },
    {
     "name": "stdout",
     "output_type": "stream",
     "text": [
      "4458 : ['Released in 1996, what is the prequel to Watership Down?']\n",
      "4459 : ['What company did Antonin Eymieu co-found?']\n",
      "4460 : ['Tell me postgraduate degree whose name has the word philosophy in it']\n"
     ]
    },
    {
     "name": "stdout",
     "output_type": "stream",
     "text": [
      "4461 : ['what is land-grant university starts with v']\n",
      "4462 : ['What is art-name of Lin Biao ?']\n"
     ]
    },
    {
     "name": "stdout",
     "output_type": "stream",
     "text": [
      "4463 : ['Did Absinthe come from Switzerland?']\n"
     ]
    },
    {
     "name": "stdout",
     "output_type": "stream",
     "text": [
      "4464 : ['is C.P Scott from the United Kingdom of Great Britain and Ireland?']\n"
     ]
    },
    {
     "name": "stdout",
     "output_type": "stream",
     "text": [
      "4465 : ['give me the name of Theophile Gautier that has series ordinal is 3?']\n"
     ]
    },
    {
     "name": "stdout",
     "output_type": "stream",
     "text": [
      "4466 : ['When was Ben Chifley the Prime Minister of Australia?']\n",
      "4467 : ['What is the news site of Air Canada?']\n",
      "4468 : ['What is next to the place of work of Alfred Stieglitz?']\n",
      "4469 : ['Who married the contestant of Aelita?']\n"
     ]
    },
    {
     "name": "stdout",
     "output_type": "stream",
     "text": [
      "4470 : ['Who was Enrico Fermis student?']\n"
     ]
    },
    {
     "name": "stdout",
     "output_type": "stream",
     "text": [
      "4471 : ['If the female population of Sagamihara is 360244.0, what is the total population?']\n"
     ]
    },
    {
     "name": "stdout",
     "output_type": "stream",
     "text": [
      "4472 : ['Which is the TERYT municipality code of Wrocław?']\n"
     ]
    },
    {
     "name": "stdout",
     "output_type": "stream",
     "text": [
      "4473 : ['Which is the WHO INN used for treatment of the attention deficit hyperactivity disorder?']\n"
     ]
    },
    {
     "name": "stdout",
     "output_type": "stream",
     "text": [
      "4474 : ['What is the urban district of Norfolk']\n",
      "4475 : ['What position did Nursultan Nazarbayev hold that ended on July 27th, 1989?']\n",
      "4476 : ['Who has the country seat of Taipei, who also has diplomatic relations with the country of Mali?']\n",
      "4477 : ['Which is the country of Iloilo City?']\n"
     ]
    },
    {
     "name": "stdout",
     "output_type": "stream",
     "text": [
      "4478 : ['Tell me bank whose name has the word unicredit in it.']\n",
      "4479 : ['How much work has been done by Nathaniel Hawthorne?']\n",
      "4480 : ['What is the surface of the Malacca Sultanate palace?']\n"
     ]
    },
    {
     "name": "stdout",
     "output_type": "stream",
     "text": [
      "4481 : ['When and who published the Christopher Hitchens notable work- Hitch 22?']\n",
      "4482 : ['What is the military rank of Kim Jong-un, the commander of Korean Peoples Army?']\n",
      "4483 : ['What is the polyatomic cation of ammonia?']\n",
      "4484 : ['Wich means{is a list of} at {lawsuit} ?']\n",
      "4485 : ['Which is practiced by fencing?']\n"
     ]
    },
    {
     "name": "stdout",
     "output_type": "stream",
     "text": [
      "4486 : ['Which is the valid in period of Easter?']\n",
      "4487 : ['What is {number of matches played} and {number of points/goals/set scored} of {{Christine Sinclair} has {member of sports team} as {Vancouver Whitecaps}}']\n",
      "4488 : ['What is the parent organization of the United States Secret Service and where is their headquarters located?']\n"
     ]
    },
    {
     "name": "stdout",
     "output_type": "stream",
     "text": [
      "4489 : ['When did Dragan Džajić leave Yugoslavias national footbal team']\n",
      "4490 : ['What gospel should be read for the present day work of David?']\n"
     ]
    },
    {
     "name": "stdout",
     "output_type": "stream",
     "text": [
      "4491 : ['What degree did Christiane Amanpour receive at University of Rhode Island?']\n"
     ]
    },
    {
     "name": "stdout",
     "output_type": "stream",
     "text": [
      "4492 : ['Who is the  {horse} for {owner of} of {Ulysses S. Grant}']\n",
      "4493 : ['What is the antonym of emerald?']\n",
      "4494 : ['Who produced the record that split from I feel fine?']\n"
     ]
    },
    {
     "name": "stdout",
     "output_type": "stream",
     "text": [
      "4495 : ['Which is {facet of a polytope} of {pyramid}, whose {next is} is {quadrilateral} ?']\n",
      "4496 : ['When did the Magna Carta become the Memory of the World?']\n",
      "4497 : ['When did Santa Cruz de Tenerife have the population of 206593.0?']\n"
     ]
    },
    {
     "name": "stdout",
     "output_type": "stream",
     "text": [
      "4498 : ['Who is member of Marguerite Yourcenar since 1980-3-6?']\n",
      "4499 : ['Name an academic writing author that starts with letter O']\n"
     ]
    },
    {
     "name": "stdout",
     "output_type": "stream",
     "text": [
      "4500 : ['Is Goldie Hawn Hispanic and Latino American?']\n"
     ]
    },
    {
     "name": "stdout",
     "output_type": "stream",
     "text": [
      "4501 : ['Which award did Jaroslav Seifert receive in the year 1984?']\n",
      "4502 : ['how many studies are needed for juriprudence?']\n",
      "4503 : ['Cha Bum-kun played how many matches for which team?']\n",
      "4504 : ['What is the Alaskan demon?']\n"
     ]
    },
    {
     "name": "stdout",
     "output_type": "stream",
     "text": [
      "4505 : ['Who married Madeleine LEngle on 1/26/1946?']\n"
     ]
    },
    {
     "name": "stdout",
     "output_type": "stream",
     "text": [
      "4506 : ['What field of work did Vannevar Bush win the National Medal of Science for and when did he win the award?']\n"
     ]
    },
    {
     "name": "stdout",
     "output_type": "stream",
     "text": [
      "4507 : ['what is the statement for subject of Kuwait which has diplomatic relation as Mexico?']\n",
      "4508 : ['What year and historical period was Zeno written?']\n"
     ]
    },
    {
     "name": "stdout",
     "output_type": "stream",
     "text": [
      "4509 : ['What principality replaced the Ottoman Empire?']\n"
     ]
    },
    {
     "name": "stdout",
     "output_type": "stream",
     "text": [
      "4510 : ['What writer is known for the work titled Montague Summers?']\n",
      "4511 : ['When did Jolin Tsai and Jay Chou stop being partners?']\n",
      "4512 : ['In what field was Romy Schneider nominated for the César Award for Best Actress?']\n"
     ]
    },
    {
     "name": "stdout",
     "output_type": "stream",
     "text": [
      "4513 : ['What is the Alcalá de Henares population determined by the register office?']\n",
      "4514 : ['What is Kelly Miller known for?']\n",
      "4515 : ['What was the position held by Juan Carlos I before Felipe VI of Spain replaced him?']\n"
     ]
    },
    {
     "name": "stdout",
     "output_type": "stream",
     "text": [
      "4516 : ['Who bought NTV in 2001?']\n",
      "4517 : ['When did Cordell Hull stop being a United States representative?']\n"
     ]
    },
    {
     "name": "stdout",
     "output_type": "stream",
     "text": [
      "4518 : ['What are the gas law which start with the letter I']\n"
     ]
    },
    {
     "name": "stdout",
     "output_type": "stream",
     "text": [
      "4519 : ['Where is Osama bin Ladens place of residence, that has diplomatic relation with Australia?']\n"
     ]
    },
    {
     "name": "stdout",
     "output_type": "stream",
     "text": [
      "4520 : ['What are the designed by and the programming paradigm of SQL?']\n",
      "4521 : ['Does the wingspan of the Egyptian vulture equal 2.0112 meters?']\n"
     ]
    },
    {
     "name": "stdout",
     "output_type": "stream",
     "text": [
      "4522 : ['What is the relevant qualification of project management ?']\n",
      "4523 : ['What is the founder of region spring?']\n"
     ]
    },
    {
     "name": "stdout",
     "output_type": "stream",
     "text": [
      "4524 : ['Which are the afflicts of mercury poisoning?']\n",
      "4525 : ['Which is the weather history for New York City?']\n",
      "4526 : ['Which is the eWRC-results.com racer ID for Sébastien Ogier?']\n",
      "4527 : ['When did Seiichi Morimura earn the Edogawa Rampo Award?']\n",
      "4528 : ['What is the name of the capital of Estonia whose first letter is T ?']\n"
     ]
    },
    {
     "name": "stdout",
     "output_type": "stream",
     "text": [
      "4529 : ['Does the number of records for  the Boijmans artist ID equal 4681?']\n"
     ]
    },
    {
     "name": "stdout",
     "output_type": "stream",
     "text": [
      "4530 : ['Is it true Pamela is the given name of Pamela Anderson?']\n",
      "4531 : ['Which is the vertical depth for Lake Winnipeg?']\n",
      "4532 : ['How many parts does Antimatter not have?']\n",
      "4533 : ['Which is the constituency of the Rajya Sabha of the coextensive with Karnataka?']\n"
     ]
    },
    {
     "name": "stdout",
     "output_type": "stream",
     "text": [
      "4534 : ['Archbasilica of St. John Lateran architectural style?']\n"
     ]
    },
    {
     "name": "stdout",
     "output_type": "stream",
     "text": [
      "4535 : ['Which is the best-case performance for quicksort?']\n",
      "4536 : ['Where is the place of filming (American Graffiti) with 8247420.0 human population?']\n"
     ]
    },
    {
     "name": "stdout",
     "output_type": "stream",
     "text": [
      "4537 : ['Is the flexural strain at break of the beauxite filled epoxy composite less than 4.8?']\n"
     ]
    },
    {
     "name": "stdout",
     "output_type": "stream",
     "text": [
      "4538 : ['When was Robert Frank awarded the Hasselblad Award?']\n",
      "4539 : ['Tell me computer network protocal whose name has the word widi in it']\n",
      "4540 : ['Does a house cats bite force reach 46.4?']\n",
      "4541 : ['When did Cindy Crawfords marriage with Richard Gere end?']\n"
     ]
    },
    {
     "name": "stdout",
     "output_type": "stream",
     "text": [
      "4542 : ['What is {workplace} of {Cnut the Great}, that has {diplomatic relation} is {Romania}']\n",
      "4543 : ['What award did Jean Tirole receive in 1998?']\n",
      "4544 : ['How has the candidate Donald Trump sparked controversy?']\n",
      "4545 : ['I want to know Andreas Vesalius Auckland Art Gallery artist ID.']\n"
     ]
    },
    {
     "name": "stdout",
     "output_type": "stream",
     "text": [
      "45464547 : ['According to Gregorian date when did Ad ar-Rahman die?']\n",
      " : ['What sovereign states have a diplomatic relationship with the Russian Empire?']\n",
      "4548 : ['When Kassel has its population 194268.0?']\n",
      "4549 : ['Why Roald Amundsen died at Bear Island?']\n"
     ]
    },
    {
     "name": "stdout",
     "output_type": "stream",
     "text": [
      "4550 : ['Which is the language of the writing system of the Phoenician alphabet?']\n",
      "4551 : ['When did the inventor of the Messier 83 die?']\n"
     ]
    },
    {
     "name": "stdout",
     "output_type": "stream",
     "text": [
      "4552 : ['what is economic union starts with u']\n",
      "4553 : ['What is {prize money} at {point in time} of {{Thomas Hunt Morgan} {received award} as {Nobel Prize in Physiology or Medicine}}?']\n"
     ]
    },
    {
     "name": "stdout",
     "output_type": "stream",
     "text": [
      "4554 : ['what are the tracklist for the wall?']\n"
     ]
    },
    {
     "name": "stdout",
     "output_type": "stream",
     "text": [
      "4555 : ['What is the common name used for Laozi?']\n",
      "4556 : ['Who are the sons starring in H. Con-172']\n"
     ]
    },
    {
     "name": "stdout",
     "output_type": "stream",
     "text": [
      "4557 : ['How many people live in Porto Alegre?']\n"
     ]
    },
    {
     "name": "stdout",
     "output_type": "stream",
     "text": [
      "4558 : ['What is in the category of blue whale?']\n",
      "4559 : ['What is the [prize that was awarded to Carcassonne is that Victor Elfenland?']\n"
     ]
    },
    {
     "name": "stdout",
     "output_type": "stream",
     "text": [
      "4560 : ['What is the {manner of death} and the {place of death} of {Lee_Harvey_Oswald} ?']\n",
      "4561 : ['What was Lièges twin city in 1955?']\n"
     ]
    },
    {
     "name": "stdout",
     "output_type": "stream",
     "text": [
      "4562 : ['What is the CFSI of the Le Pere Goriot setting location?']\n",
      "4563 : ['What skill contains the word suction in its name?']\n",
      "4564 : ['Which is the MR Author ID of Niels Bohr?']\n"
     ]
    },
    {
     "name": "stdout",
     "output_type": "stream",
     "text": [
      "4565 : ['What are the historic county of England which start with the letter Y']\n",
      "4566 : ['What is ceiling exposure limit for phenol which duration is 15.0?']\n",
      "4567 : ['Is the career plus-minus rating of the Roland Eriksson equal to -70?']\n",
      "4568 : ['When did Marcel Dassault become a member of the French National Assembly?']\n"
     ]
    },
    {
     "name": "stdout",
     "output_type": "stream",
     "text": [
      "4569 : ['What is the ticker symbol for Chevron Corporation on the New York Stock Exchange?']\n",
      "4570 : ['What position was Stanley Baldwin elected in?']\n",
      "4571 : ['How many places of detention are by gulag?']\n"
     ]
    },
    {
     "name": "stdout",
     "output_type": "stream",
     "text": [
      "4572 : ['What is the name of the professional sports league starting in October that contains the word  hockey in its name ?']\n",
      "4573 : ['Was Aphrodite the child of Phobos and Dictys?']\n"
     ]
    },
    {
     "name": "stdout",
     "output_type": "stream",
     "text": [
      "4574 : ['When was Zakarpattia Oblast break from Ukrainian Soviet Socialist Republic which was situated in the administrative territorial entity?']\n",
      "4575 : ['What connects Okinawa Island and Sesoko Island?']\n"
     ]
    },
    {
     "name": "stdout",
     "output_type": "stream",
     "text": [
      "4576 : ['What is the attendee Korean War in southernmost point located at 35.80859081 36.15096331']\n",
      "4577 : ['Which is the museum for the parent organization of the Smithsonian Institution?']\n"
     ]
    },
    {
     "name": "stdout",
     "output_type": "stream",
     "text": [
      "4578 : ['When was Lou Reed awarded o the Rock and Roll Hall of Fame?']\n",
      "4579 : ['Which is the subreddit for Srinagar?']\n",
      "4580 : ['When Neil Simon, the spouse of Marsha Mason, was born?']\n"
     ]
    },
    {
     "name": "stdout",
     "output_type": "stream",
     "text": [
      "4581 : ['What is the { start time } for { Chris Gayle } as { Royal Challengers Bangalore } { sports team member }?']\n",
      "4582 : ['What is internetmedicin.se ID for breast cancer ?']\n"
     ]
    },
    {
     "name": "stdout",
     "output_type": "stream",
     "text": [
      "45834584 : ['What Sam Kinison label has Warner Music Group stockholders?']\n",
      " : ['When did the book The Count of Monte Cristo by Alexandre Dumas publish?']\n",
      "4585 : ['WHICH  SPORTS IS SUCCEDED  ON 1993 RALLY GB']\n"
     ]
    },
    {
     "name": "stdout",
     "output_type": "stream",
     "text": [
      "4586 : ['What are the crew members of the International Space Station called?']\n"
     ]
    },
    {
     "name": "stdout",
     "output_type": "stream",
     "text": [
      "4587 : ['What church celebrates the patron saint Ignatius of Loyola?']\n",
      "4588 : ['Which is the Dictionnaire critique des historiens de lart ID for Théophile Gautier?']\n"
     ]
    },
    {
     "name": "stdout",
     "output_type": "stream",
     "text": [
      "4589 : ['Is Tony Robbins occupation motivational speaker and manager?']\n"
     ]
    },
    {
     "name": "stdout",
     "output_type": "stream",
     "text": [
      "4590 : ['What is Plutos Population I star?']\n",
      "4591 : ['who is the head coach of boston Celtics?']\n",
      "4592 : ['Is 16 the age of consent in Spain?']\n",
      "4593 : ['What is the alma mater of Andrew Marvell, which is also the alma mater of director Martin Rees?']\n"
     ]
    },
    {
     "name": "stdout",
     "output_type": "stream",
     "text": [
      "4594 : ['Who is the sunsidiary entities  of Islamic Azad Universpty who is in the department of Bukan?']\n"
     ]
    },
    {
     "name": "stdout",
     "output_type": "stream",
     "text": [
      "4595 : ['TELL ME INTERNATIONAL SPORT GOVERNING BODY WHOSE NAME HAS THE WORD WORLD IN IT.']\n",
      "4596 : ['When was born and died Joseph Stalin who has a child Artem Sergeev?']\n",
      "4597 : ['What is the award received by Rick Barry in 1974?']\n"
     ]
    },
    {
     "name": "stdout",
     "output_type": "stream",
     "text": [
      "4598 : ['Who is the daughter of Guineveres wife?']\n",
      "4599 : ['What is the genre and publisher of the noteable book Hitch-22 by Christopher Hitchens?']\n",
      "4600 : ['What degree and major did Chanda Kochhar receive at Jamnalal Bajaj Institute of Management?']\n"
     ]
    },
    {
     "name": "stdout",
     "output_type": "stream",
     "text": [
      "4601 : ['How many used by are for Transport Layer Security ?']\n"
     ]
    },
    {
     "name": "stdout",
     "output_type": "stream",
     "text": [
      "4602 : ['What is the Forth Bridges Historic Scotland ID number?']\n",
      "4603 : ['What are the computer model which start with the letter z']\n",
      "4604 : ['Was Dave Grohl part of the Democratic Party?']\n"
     ]
    },
    {
     "name": "stdout",
     "output_type": "stream",
     "text": [
      "4605 : ['What award did Yasser Arafat receive, and what was the amount of money he won?']\n",
      "4606 : ['What language translates B-Lactose into Sv-laktos.ogg?']\n",
      "4607 : ['What is the national anthem the topic of in the history of Dagestan?']\n",
      "4608 : ['When did Giugliano in Campania become part of the Metropolitan city of Naples?']\n"
     ]
    },
    {
     "name": "stdout",
     "output_type": "stream",
     "text": [
      "4609 : ['Which voting round for Marine Le Pen had the most spoilt votes?']\n",
      "4610 : ['What is Sonia Fisch-Mullers field of study?']\n",
      "4611 : ['What award did Halldór Laxness receive $190,214.0 for ?']\n",
      "4612 : ['Does the GDP (PPP) of North Macedonia equal to 29257308598.29?']\n"
     ]
    },
    {
     "name": "stdout",
     "output_type": "stream",
     "text": [
      "4613 : ['How many opposites are there of the word parent?']\n"
     ]
    },
    {
     "name": "stdout",
     "output_type": "stream",
     "text": [
      "4614 : ['Where is the beginning of the Dnieper River?']\n",
      "4615 : ['What is the profession of Guillermo Lasso that is different from a bank teller']\n",
      "4616 : ['Which is the Framalibre ID for Wilhelm Furtwängler?']\n",
      "4617 : ['What is Plarr ID for Edward VII  ?']\n"
     ]
    },
    {
     "name": "stdout",
     "output_type": "stream",
     "text": [
      "4618 : ['Who is the filmographer for Cecil B.DeMille']\n"
     ]
    },
    {
     "name": "stdout",
     "output_type": "stream",
     "text": [
      "4619 : ['Who replaced Thomas Henry Huxley as the President of the Royal Society?']\n",
      "4620 : ['Which is the Babelio work ID for The Grapes of Wrath?']\n"
     ]
    },
    {
     "name": "stdout",
     "output_type": "stream",
     "text": [
      "4621 : ['Who is the producer and executive producer of Fight Club?']\n",
      "4622 : ['Is the optimum viable temperature of the Marichromatium sp. 24.0']\n",
      "4623 : ['Is the maximum number of players of Abalone equal to 6?']\n"
     ]
    },
    {
     "name": "stdout",
     "output_type": "stream",
     "text": [
      "4624 : ['What was University of California, Berkeley students count in 2016?']\n",
      "4625 : ['What is RKD/ESD Slovenia ID for Lipizzaner ?']\n"
     ]
    },
    {
     "name": "stdout",
     "output_type": "stream",
     "text": [
      "4626 : ['What is the name for the Chinese character system of writing?']\n",
      "4627 : ['Who is often confused with the snake that has a higher taxon than Ophidia']\n",
      "4628 : ['What treatment is given for signs of hydrogen fluoride exposure']\n"
     ]
    },
    {
     "name": "stdout",
     "output_type": "stream",
     "text": [
      "4629 : ['When was did Bursa cease being the capital of the Ottoman Empire?']\n",
      "4630 : ['Thomas Aquinas is the patron saint of what part of Italy?']\n",
      "4631 : ['In what country does Mothers Day take place on March 8th?']\n"
     ]
    },
    {
     "name": "stdout",
     "output_type": "stream",
     "text": [
      "4632 : ['Which is the date of disappearance of Natalia Molchanova?']\n",
      "4633 : ['when is the {start time} for {Wales} thathas {located in the administrative territorial entity} as {Kingdom of England} ?']\n"
     ]
    },
    {
     "name": "stdout",
     "output_type": "stream",
     "text": [
      "4634 : ['What is the Christian name of Paul Anderson, that is the same as Pavle?']\n",
      "4635 : ['When did Beverly Sills ended her position as a chairperson?']\n",
      "4636 : ['Who is the officeholder of United Nations Secretary-General?']\n"
     ]
    },
    {
     "name": "stdout",
     "output_type": "stream",
     "text": [
      "4637 : ['What is the JUFO ID of The New York Review of Books?']\n",
      "4638 : ['What is the Nasjonalbiblioteket photographer ID for Fridtjof Nansen']\n",
      "4639 : ['What Basque Autonomous Community shares a border with part of Pyrenees-Atlantiques?']\n",
      "4640 : ['What is the state that borders Maine?']\n"
     ]
    },
    {
     "name": "stdout",
     "output_type": "stream",
     "text": [
      "4641 : ['Which determination method for Tunisia has total fertility rate as 2.08 ?']\n",
      "4642 : ['Name an anime television series broadcasted on Nippon BS Broadcasting in Japan starts with letter L']\n",
      "4643 : ['What sports team does Malcolm Allison play for and how many matches did he play?']\n"
     ]
    },
    {
     "name": "stdout",
     "output_type": "stream",
     "text": [
      "4644 : ['What is John Kander the champion of?']\n"
     ]
    },
    {
     "name": "stdout",
     "output_type": "stream",
     "text": [
      "4645 : ['What is the { start time } of { Herbert Hoover } that is { 1891 - 0 }?']\n",
      "4646 : ['Which is the 90minut player ID of Robert Lewandowski?']\n",
      "4647 : ['What time does The Tonight Show by Jay Leno start and end?']\n"
     ]
    },
    {
     "name": "stdout",
     "output_type": "stream",
     "text": [
      "4648 : ['Do the aftershocks of the 2011 Lorca earthquake equal 131']\n",
      "4649 : ['What is the supervisor of the painter of quantum mechanics?']\n"
     ]
    },
    {
     "name": "stdout",
     "output_type": "stream",
     "text": [
      "4650 : ['What is the version of the Old Testament that contains the word septuagint  in its name ?']\n"
     ]
    },
    {
     "name": "stdout",
     "output_type": "stream",
     "text": [
      "4651 : ['Who is the team that worked on the teleplay called the Ripper?']\n",
      "4652 : ['Give me a female idol group that starts with the letter z.']\n",
      "4653 : ['What is the aspect of Vedanta, that has Universal Decimal Classification as 233?']\n"
     ]
    },
    {
     "name": "stdout",
     "output_type": "stream",
     "text": [
      "4654 : ['Richard III of England was depicted by which film ?']\n",
      "4655 : ['Who is the head of government of Auckland?']\n"
     ]
    },
    {
     "name": "stdout",
     "output_type": "stream",
     "text": [
      "4656 : ['What date was Zenobia born?']\n",
      "4657 : ['What social media account is made by Xiaomi Redmi?']\n",
      "4658 : ['Is the binding energy of tritium greater than 6785.436?']\n"
     ]
    },
    {
     "name": "stdout",
     "output_type": "stream",
     "text": [
      "4659 : ['Which is the sexual preference for the specialty of psychotherapy?']\n",
      "4660 : ['Name the poem presented in the work of Hera.']\n",
      "4661 : ['Tell me female beauty pageant whose name has the word world in it.']\n"
     ]
    },
    {
     "name": "stdout",
     "output_type": "stream",
     "text": [
      "4662 : ['Is the incidence of pancreatic cancer less than 1.6?']\n",
      "4663 : ['Who is the founder of Hezbollah whose personal name is Muhammed?']\n",
      "4664 : ['What is the Library of Congresss collection or exhibition size?']\n",
      "4665 : ['How many permanently duplicated items are associated with July?']\n"
     ]
    },
    {
     "name": "stdout",
     "output_type": "stream",
     "text": [
      "4666 : ['TELL ME ECONOMIC INDICATOR WHICH START WITH THE LETTER S']\n",
      "4667 : ['Which is the taxon synonym of Ochotona?']\n"
     ]
    },
    {
     "name": "stdout",
     "output_type": "stream",
     "text": [
      "4668 : ['Which is the TV Guide person ID for Britney Spears?']\n"
     ]
    },
    {
     "name": "stdout",
     "output_type": "stream",
     "text": [
      "4669 : ['Which is the Cinema ID for Amélie?']\n",
      "4670 : ['When did the reign of Sigismund III Vasa as King of Poland end?']\n",
      "4671 : ['What was the electoral district and position that George Reid held?']\n"
     ]
    },
    {
     "name": "stdout",
     "output_type": "stream",
     "text": [
      "4672 : ['Was Genghis Khans wife named Yesui?']\n",
      "4673 : ['Is the absolute magnitude of the 10199 Chariklo equal to 6.7?']\n"
     ]
    },
    {
     "name": "stdout",
     "output_type": "stream",
     "text": [
      "4674 : ['What is the vapor pressure of fluorine?']\n",
      "4675 : ['Who is the child of Seabiscuit?']\n"
     ]
    },
    {
     "name": "stdout",
     "output_type": "stream",
     "text": [
      "4676 : ['Where and what did Guion Bluford study?']\n",
      "4677 : ['Which  is asteroid family of Haumea ?']\n",
      "4678 : ['is a baby']\n"
     ]
    },
    {
     "name": "stdout",
     "output_type": "stream",
     "text": [
      "4679 : ['In what time was did the Yuan dynasty rule the Asian continent?']\n",
      "4680 : ['What pizza comes from the head of government?']\n",
      "4681 : ['What is the open and closed period of the British Museum that every weekend is open?']\n"
     ]
    },
    {
     "name": "stdout",
     "output_type": "stream",
     "text": [
      "4682 : ['Which free video game has the highest amount of players?']\n",
      "4683 : ['What is notable about the border of Utah and Wyoming?']\n"
     ]
    },
    {
     "name": "stdout",
     "output_type": "stream",
     "text": [
      "4684 : ['What is the ruchess ID of Anatoly Karpov?']\n"
     ]
    },
    {
     "name": "stdout",
     "output_type": "stream",
     "text": [
      "4685 : ['What are the coordinates of the Amur river mouth?']\n"
     ]
    },
    {
     "name": "stdout",
     "output_type": "stream",
     "text": [
      "4686 : ['When did Urban IIs position as Cardinal/Bishop end?']\n",
      "4687 : ['What military branch of the air force did Yuri Gagarin work for?']\n",
      "4688 : ['What is the country calling code for Nauru?']\n",
      "4689 : ['On December 28, 1946, who did Aristotle Onassis marry?']\n",
      "4690 : ['When was Manchukos capital Hsinking?']\n"
     ]
    },
    {
     "name": "stdout",
     "output_type": "stream",
     "text": [
      "4691 : ['what are the train service which start with the letter v']\n",
      "4692 : ['Is the conversion to SI unit of the base pair equal 4.08e-10?']\n"
     ]
    },
    {
     "name": "stdout",
     "output_type": "stream",
     "text": [
      "4693 : ['When did Hippocrates in Circa die?']\n",
      "4694 : ['What is the dam of Lake Gordon']\n",
      "4695 : ['What is the mobile network operator founded by Verizon?']\n"
     ]
    },
    {
     "name": "stdout",
     "output_type": "stream",
     "text": [
      "4696 : ['What was the political party membership of Robert Moses?']\n",
      "4697 : ['What is gene is associated with Asperger syndrome']\n",
      "4698 : ['Are Karen Carpenter and Ringo Starr singers?']\n"
     ]
    },
    {
     "name": "stdout",
     "output_type": "stream",
     "text": [
      "4699 : ['What is the official language of the Parthian Empire?']\n",
      "4700 : ['For which country did Olympic skater Tonya Harding compete?']\n",
      "4701 : ['What is distinct from the 111.212 carillon of Hornbostel-Sachs?']\n"
     ]
    },
    {
     "name": "stdout",
     "output_type": "stream",
     "text": [
      "4702 : ['Who made and dispensed ANGTT']\n",
      "4703 : ['Is it true that the admission rate of the Massachusetts Institute of Technology equals to 0.08?']\n",
      "4704 : ['What is the statement is subject of Nigeria whose diplomatic relation is Cameroon?']\n"
     ]
    },
    {
     "name": "stdout",
     "output_type": "stream",
     "text": [
      "4705 : ['Did the twinned administrative body of Samarkand begin August 4, 1986?']\n",
      "4706 : ['When the statement was declared that German is sharing its border with the Poland?']\n"
     ]
    },
    {
     "name": "stdout",
     "output_type": "stream",
     "text": [
      "4707 : ['Who are the members of sports team Dixie Dean in the year 1931?']\n",
      "4708 : ['Which is the tributary orientation for Ottawa River?']\n"
     ]
    },
    {
     "name": "stdout",
     "output_type": "stream",
     "text": [
      "4709 : ['Name a state in Australia ruled by the Government of South Australia that contains the word Australia in its name']\n",
      "4710 : ['The antiparticle of a neutron is what quantum particle?']\n"
     ]
    },
    {
     "name": "stdout",
     "output_type": "stream",
     "text": [
      "4711 : ['Which is They Work for You ID of David Cameron?']\n"
     ]
    },
    {
     "name": "stdout",
     "output_type": "stream",
     "text": [
      "4712 : ['What is the script of Modern English?']\n"
     ]
    },
    {
     "name": "stdout",
     "output_type": "stream",
     "text": [
      "4713 : ['Which is the BFI work ID for Sherlock?']\n"
     ]
    },
    {
     "name": "stdout",
     "output_type": "stream",
     "text": [
      "4714 : ['Who were the patron saints that formed the Society of Jesus ?']\n",
      "4715 : ['Who formed  Santa Monica predecessor?']\n"
     ]
    },
    {
     "name": "stdout",
     "output_type": "stream",
     "text": [
      "4716 : ['What is the raw square of pippinger?']\n",
      "4717 : ['How many students studied the subject {astronomy} ?']\n"
     ]
    },
    {
     "name": "stdout",
     "output_type": "stream",
     "text": [
      "4718 : ['Who followed Louis II of Italy as monarch?']\n",
      "4719 : ['Which is the measurement unit for measured physical quantity of temperature?']\n"
     ]
    },
    {
     "name": "stdout",
     "output_type": "stream",
     "text": [
      "4720 : ['What are the cross  which start with the letter w']\n",
      "4721 : ['Name the death location of Derek Walcott, which has a human population of 90913.']\n"
     ]
    },
    {
     "name": "stdout",
     "output_type": "stream",
     "text": [
      "4722 : ['Is the electronegativity of the sodium less than 1.2?']\n",
      "4723 : ['Is the Superbowl from the country of the United States of America?']\n",
      "4724 : ['Is Plancks constant less than 5.300856032e-34?']\n"
     ]
    },
    {
     "name": "stdout",
     "output_type": "stream",
     "text": [
      "4725 : ['Which is the {drug used for treatment} of the {medical treatment} of {Tuberculosis} ?']\n",
      "4726 : ['Which is the average space complexity of quicksort?']\n",
      "4727 : ['Was Jeremy_Irons educated at Sherborne School and University of the West of England, Bristol?']\n"
     ]
    },
    {
     "name": "stdout",
     "output_type": "stream",
     "text": [
      "47284729 : ['what is in the  BDFutbol player ID of Allan simonsen?']\n",
      " : ['Which Led Zeppelin single is in tracklist IV?']\n",
      "4730 : ['Which Radofin MSX has the fastest clock speed?']\n",
      "4731 : ['Which is the statement supported by Al-Qaeda?']\n"
     ]
    },
    {
     "name": "stdout",
     "output_type": "stream",
     "text": [
      "4732 : ['When die Frederick William I Prussia die, and when was his son Prince Augustus William of Prussia born?']\n",
      "4733 : ['What is Family Guys country of origin and the language?']\n",
      "4734 : ['What follows Star Wars Episode V: The Empire Strikes Back in the original trilogy?']\n",
      "4735 : ['Who is the{road bridge} for {structure replaced by} of {London Bridge}']\n",
      "4736 : ['Who did James Joyce get married to in London?']\n"
     ]
    },
    {
     "name": "stdout",
     "output_type": "stream",
     "text": [
      "4737 : ['Which is the chartered company is a public company in its legal form and whose name contains the word company?']\n"
     ]
    },
    {
     "name": "stdout",
     "output_type": "stream",
     "text": [
      "4738 : ['how much distribution is done by secure digital card?']\n"
     ]
    },
    {
     "name": "stdout",
     "output_type": "stream",
     "text": [
      "4739 : ['Who did Alexander Fleming receive the Nobel Prize in Physiology or Medicine with?']\n",
      "4740 : ['Which {play} {participated in} {Micronesia at the 2011 World Aquatics Championships} ?']\n",
      "4741 : ['Mention the doctoral advisor-ship and the academic qualifying degree achieved by Raghuram Rajan when he studied at Massachusetts Institute of Technology.']\n",
      "4742 : ['What is the perceived population for the solar system of the planet Uranus.']\n"
     ]
    },
    {
     "name": "stdout",
     "output_type": "stream",
     "text": [
      "4743 : ['What does Commodore 64 produce?']\n"
     ]
    },
    {
     "name": "stdout",
     "output_type": "stream",
     "text": [
      "4744 : ['Who is the  {protein} for {physically interacts with} of {diazepam}']\n"
     ]
    },
    {
     "name": "stdout",
     "output_type": "stream",
     "text": [
      "4745 : ['What is the Fossilworks ID for pigeon?']\n",
      "4746 : ['What federation has the highest median income?']\n",
      "4747 : ['What has a border that is Anguillara Sabazia and is also the birth location of Gaius Cassius Longinus?']\n"
     ]
    },
    {
     "name": "stdout",
     "output_type": "stream",
     "text": [
      "47484749 : ['When did Kofi Annan receive the award Confucius Peace Prize?']\n",
      " : ['Is Binalog the residence of Andrew Barton Paterson during the end time?']\n"
     ]
    },
    {
     "name": "stdout",
     "output_type": "stream",
     "text": [
      "4750 : ['Who gave the {postal index number} of {resident in} of {Robert Pattinson} ?']\n",
      "4751 : ['What is Russias inception?']\n",
      "4752 : ['What is the name of the single which features Hrithik Roshan']\n"
     ]
    },
    {
     "name": "stdout",
     "output_type": "stream",
     "text": [
      "4753 : ['Which gas giant in the solar system has the biggest synodic period?']\n",
      "4754 : ['Where is tributary take place in Polynesia?']\n"
     ]
    },
    {
     "name": "stdout",
     "output_type": "stream",
     "text": [
      "4755 : ['What is the inverse of the manufacturing method of pasteurization?']\n",
      "4756 : ['Who wrote The Adventures of Tintin and what genre does it fall under?']\n"
     ]
    },
    {
     "name": "stdout",
     "output_type": "stream",
     "text": [
      "4757 : ['When did Friedrich Nietzsche finish his education at the University of Bonn?']\n"
     ]
    },
    {
     "name": "stdout",
     "output_type": "stream",
     "text": [
      "4758 : ['Where is the list of episodes for Lassie?']\n",
      "4759 : ['How many flights fly out of Paris at Charles de Gaulle Airport?']\n"
     ]
    },
    {
     "name": "stdout",
     "output_type": "stream",
     "text": [
      "4760 : ['What are the type of business entity which start with the letter S']\n",
      "4761 : ['How many crystal systems are in an amorphous solid?']\n"
     ]
    },
    {
     "name": "stdout",
     "output_type": "stream",
     "text": [
      "4762 : ['Is the coastline of borovoe less than 16.32?']\n"
     ]
    },
    {
     "name": "stdout",
     "output_type": "stream",
     "text": [
      "4763 : ['WHICH IS THE LAKE PLACE OF FOUNDATION OF JOHN ENGLAND & THE WESTERN SWINGERS']\n"
     ]
    },
    {
     "name": "stdout",
     "output_type": "stream",
     "text": [
      "4764 : ['Which is {award received} of {Michael Ende} where {point in time} is {1986-1-1} ?']\n"
     ]
    },
    {
     "name": "stdout",
     "output_type": "stream",
     "text": [
      "4765 : ['What is SPARQL endpoint of Biblioteca Nacional de España?']\n",
      "4766 : ['Which is the conflict of Joan of Arc?']\n"
     ]
    },
    {
     "name": "stdout",
     "output_type": "stream",
     "text": [
      "4767 : ['What is the architectural style of Bauhaus?']\n",
      "4768 : ['What is the fault of Nazca Plate?']\n",
      "4769 : ['which is the point time for georgia has population as 2.60912e+06?']\n"
     ]
    },
    {
     "name": "stdout",
     "output_type": "stream",
     "text": [
      "4770 : ['what is in the BHL creator ID of william bateson?']\n",
      "4771 : ['What is SSRN author ID for Fischer Black ?']\n"
     ]
    },
    {
     "name": "stdout",
     "output_type": "stream",
     "text": [
      "4772 : ['What is the native language of Modern Standard Arabic?']\n",
      "4773 : ['Who is the discoverer of Impressionism who had Oscar-Claude Monet as their full name at birth?']\n",
      "4774 : ['What is the translation of the above?']\n"
     ]
    },
    {
     "name": "stdout",
     "output_type": "stream",
     "text": [
      "4775 : ['What is the ammonia conjugate acid monocation?']\n",
      "4776 : ['Who won the prize awarded to John R. Pierce?']\n"
     ]
    },
    {
     "name": "stdout",
     "output_type": "stream",
     "text": [
      "47774778 : ['How many creators are with the Pokémon?']\n",
      " : ['When did Goldman Sachs count 34400.0 employees?']\n",
      "4779 : ['Tell me the commune of France with specific status that is in the list of monument of the Lyons list of monuments and whose name contains the word lyon?']\n"
     ]
    },
    {
     "name": "stdout",
     "output_type": "stream",
     "text": [
      "4780 : ['Is the mean age of England less than 30.88?']\n",
      "4781 : ['According to Ottos encyclopedia, what is the shortest unit of time ?']\n",
      "4782 : ['What location in Hyderabad the administrative territorial entity in the year 1724?']\n"
     ]
    },
    {
     "name": "stdout",
     "output_type": "stream",
     "text": [
      "4783 : ['Which television series includes the character Robin Hood?']\n"
     ]
    },
    {
     "name": "stdout",
     "output_type": "stream",
     "text": [
      "4784 : ['Which is the {eye color} and the {hair color} of {Dolly_Parton} ?']\n",
      "4785 : ['Which {telephone prefix} is {born at} {Abu Nuwas} ?']\n"
     ]
    },
    {
     "name": "stdout",
     "output_type": "stream",
     "text": [
      "4786 : ['Did John Wayne Gacy work at Jollibee Foods Corporation?']\n"
     ]
    },
    {
     "name": "stdout",
     "output_type": "stream",
     "text": [
      "4787 : ['Which is the tracklist for Revolver?']\n",
      "4788 : ['Which position was George Reid held and elected in?']\n",
      "4789 : ['What is the brother of Manfred von Richthofen whose burial place is Germany?']\n"
     ]
    },
    {
     "name": "stdout",
     "output_type": "stream",
     "text": [
      "4790 : ['What academic institute did Ralph Abernathy earn a Master of Arts degree?']\n"
     ]
    },
    {
     "name": "stdout",
     "output_type": "stream",
     "text": [
      "4791 : ['At what university did Douglas Adams study English literature?']\n",
      "4792 : ['Who is {brother or sister} of {Khadijah bint Khuwaylid}, which has {marry} is {Safiyyah bint ‘Abd al-Muttalib} ?']\n",
      "4793 : ['When did Eleanor Roosevelt divorced Franklin Delano Roosevelt?']\n",
      "4794 : ['Which is employment field of Tatsuya Sugais employment?']\n"
     ]
    },
    {
     "name": "stdout",
     "output_type": "stream",
     "text": [
      "4795 : ['Which is the track gauge for Trans-Australian Railway?']\n",
      "4796 : ['Which is the Atheneum person ID of Edward V of England?']\n",
      "4797 : ['How many input methods are there for the Wii U?']\n",
      "4798 : ['who sexual preference for studied by of psychotherapy?']\n"
     ]
    },
    {
     "name": "stdout",
     "output_type": "stream",
     "text": [
      "4799 : ['What award did Liam Neeson receive on December 31, 1999?']\n"
     ]
    },
    {
     "name": "stdout",
     "output_type": "stream",
     "text": [
      "4800 : ['What is the border of the death location of Tommy Douglas?']\n",
      "4801 : ['When did Lili Darvas become the spouse of Ferenc Molnár ?']\n"
     ]
    },
    {
     "name": "stdout",
     "output_type": "stream",
     "text": [
      "4802 : ['When did Christopher A. Sims graduate from Harvard and what was his major?']\n"
     ]
    },
    {
     "name": "stdout",
     "output_type": "stream",
     "text": [
      "4803 : ['How many protocol in the Internet Protocol version 4?']\n"
     ]
    },
    {
     "name": "stdout",
     "output_type": "stream",
     "text": [
      "4804 : ['What is the day the UN General Assembly was founded?']\n",
      "4805 : ['which is the public policy that starts with letter r']\n"
     ]
    },
    {
     "name": "stdout",
     "output_type": "stream",
     "text": [
      "4806 : ['How many demonyms are there for Croatia?']\n"
     ]
    },
    {
     "name": "stdout",
     "output_type": "stream",
     "text": [
      "4807 : ['Is the orbital inclination of the 8076 Foscarini equal 0.28578?']\n",
      "4808 : ['What play depicts the life of Richard III of England?']\n"
     ]
    },
    {
     "name": "stdout",
     "output_type": "stream",
     "text": [
      "4809 : ['What is Oscar Schmidts acb.com ID?']\n",
      "4810 : ['Is it true that the electorate of Del Carmen is greater than 8388?']\n",
      "4811 : ['Name an athlete competing in high jump ?']\n"
     ]
    },
    {
     "name": "stdout",
     "output_type": "stream",
     "text": [
      "4812 : ['Ethanol is of what ZINC ID?']\n",
      "4813 : ['What was proximately caused by the consequence  of bubonic plague ?']\n"
     ]
    },
    {
     "name": "stdout",
     "output_type": "stream",
     "text": [
      "4814 : ['Where does Benjamin Millepied live and what is his occupation?']\n"
     ]
    },
    {
     "name": "stdout",
     "output_type": "stream",
     "text": [
      "4815 : ['When did Ludwig Maximilian University of Munic open in Landshut?']\n"
     ]
    },
    {
     "name": "stdout",
     "output_type": "stream",
     "text": [
      "4816 : ['How many sources are described by the Times']\n",
      "4817 : ['Is the retirement age of the Netherlands 67?']\n",
      "4818 : ['What are thegroup or class of chemical substances which start with the letter vitamin']\n"
     ]
    },
    {
     "name": "stdout",
     "output_type": "stream",
     "text": [
      "4819 : ['how many hold the coat of arms?']\n",
      "4820 : ['What is permitted food additive for citric acid ?']\n",
      "4821 : ['When did Tashkent become the capital of Uzbekistan?']\n",
      "4822 : ['Who is noble family of has mother of Iziaslav I of Kiev ?']\n"
     ]
    },
    {
     "name": "stdout",
     "output_type": "stream",
     "text": [
      "4823 : ['Where is the place of burial in Thessaloniki']\n",
      "4824 : ['Is drinking waters electrical resistivity equal to 20?']\n",
      "4825 : ['If the gender of Alwin Nikolais is the antonym of female, what gender is he?']\n"
     ]
    },
    {
     "name": "stdout",
     "output_type": "stream",
     "text": [
      "4826 : ['What is the musical genre of Jefferson Airplane, a group co-founded by Emile Berliner?']\n",
      "4827 : ['Which country has the highest par?']\n"
     ]
    },
    {
     "name": "stdout",
     "output_type": "stream",
     "text": [
      "4828 : ['What are the plays of the organizer of the UMB World Three-cushion Championship?']\n"
     ]
    },
    {
     "name": "stdout",
     "output_type": "stream",
     "text": [
      "4829 : ['Which taxon has the longest generation time?']\n",
      "4830 : ['Who preceded and who succeeded Clovis I as king of Franks?']\n",
      "4831 : ['What is the base of a cube that differs from a triangle?']\n"
     ]
    },
    {
     "name": "stdout",
     "output_type": "stream",
     "text": [
      "4832 : ['Who was Betty Whites husband ?']\n"
     ]
    },
    {
     "name": "stdout",
     "output_type": "stream",
     "text": [
      "4833 : ['tell  me area of mathematic  practiced by algebraist  starts with a']\n",
      "4834 : ['What award was Top Gun nominated for in the 59th Academy Awards?']\n"
     ]
    },
    {
     "name": "stdout",
     "output_type": "stream",
     "text": [
      "4835 : ['262570000000 is the market capitalization of the Nokia?']\n"
     ]
    },
    {
     "name": "stdout",
     "output_type": "stream",
     "text": [
      "4836 : ['What is the collection of Pietà?']\n",
      "4837 : ['When did Margaret Mead marry Gregory Bateson?']\n"
     ]
    },
    {
     "name": "stdout",
     "output_type": "stream",
     "text": [
      "4838 : ['Is the points for the Hermann Pernsteiner more than 9.6?']\n",
      "4839 : ['Is the minimum wavelength of sensitivity of the Large Synoptic Survey Telescope 320?']\n",
      "4840 : ['Does the Seeteufel beam equal 2?']\n",
      "4841 : ['What is Marija Gimbutas Persee author ID?']\n"
     ]
    },
    {
     "name": "stdout",
     "output_type": "stream",
     "text": [
      "4842 : ['Who gave the{birthdate} of {doctoral student} of {Martin Luther} ?']\n"
     ]
    },
    {
     "name": "stdout",
     "output_type": "stream",
     "text": [
      "4843 : ['Who gave the {interment} of {consecrated by} of {Klaus Dick} ?']\n",
      "4844 : ['Which are the studies for toxin?']\n"
     ]
    },
    {
     "name": "stdout",
     "output_type": "stream",
     "text": [
      "4845 : ['What is occupation of the TV host of Top Gear?']\n",
      "4846 : ['Which books are in the His Dark Materials trilogy?']\n"
     ]
    },
    {
     "name": "stdout",
     "output_type": "stream",
     "text": [
      "4847 : ['What is the name of the owner of Pinterest?']\n",
      "4848 : ['What is the place of incorporation of the The Police, that has Zip + 4 and is W1F 0HS?']\n",
      "4849 : ['How many categories does castle contain?']\n",
      "4850 : ['When and where in Europe was the Super Mario Brothers introduced?']\n"
     ]
    },
    {
     "name": "stdout",
     "output_type": "stream",
     "text": [
      "4851 : ['Who is the child of Charlemagne and who is their mother?']\n"
     ]
    },
    {
     "name": "stdout",
     "output_type": "stream",
     "text": [
      "4852 : ['Name the building by the engineer Arup with the least amount of elevators.']\n"
     ]
    },
    {
     "name": "stdout",
     "output_type": "stream",
     "text": [
      "4853 : ['What is the think tank for the Smithsonian Institutions parent organization?']\n",
      "4854 : ['What is the Swedish Literature Bank Author ID of Erasmus?']\n",
      "4855 : ['What is Cinemagia actor ID for Lionel Messi?']\n",
      "4856 : ['Tell me chartered company whose name has the word company in it.']\n"
     ]
    },
    {
     "name": "stdout",
     "output_type": "stream",
     "text": [
      "4857 : ['What are the team which start with the letter vándormások']\n",
      "4858 : ['Who held the title of King of Franks after Chlothar II?']\n",
      "4859 : ['What is the mineral resource that starts with the letter p?']\n"
     ]
    },
    {
     "name": "stdout",
     "output_type": "stream",
     "text": [
      "4860 : ['What volcanic eruption occurred in the Dutch East Indies?']\n",
      "4861 : ['For what position was Winston Churchill elected in the United Kingdom general election in 1935?']\n"
     ]
    },
    {
     "name": "stdout",
     "output_type": "stream",
     "text": [
      "4862 : ['What is the governing body of the FIFA World Cup?']\n",
      "4863 : ['tell me king in Greek mythology  name has  the word thestrus in it']\n"
     ]
    },
    {
     "name": "stdout",
     "output_type": "stream",
     "text": [
      "4864 : ['What is the film genre and the name of the singer of Long Story Short?']\n"
     ]
    },
    {
     "name": "stdout",
     "output_type": "stream",
     "text": [
      "4865 : ['What is he company ID for Kenji Mizoguchi?']\n",
      "4866 : ['Did Yemelyan Pugachev die in Moscow Oblast?']\n",
      "4867 : ['Tell me contract whose name has the word zeitausgleich in it name']\n",
      "4868 : ['Who was Emmylou Harris spouse in 1984?']\n"
     ]
    },
    {
     "name": "stdout",
     "output_type": "stream",
     "text": [
      "4869 : ['Does the illiterate population of the Asanbani equal 0?']\n",
      "4870 : ['Who was the member of the sports team of Gordon Banks until 1-1-1959?']\n"
     ]
    },
    {
     "name": "stdout",
     "output_type": "stream",
     "text": [
      "4871 : ['What is the unemployment rate where the The Sugarhill Gang were up?']\n",
      "4872 : ['What type of job does Josep Maria Magem work at his employer?']\n"
     ]
    },
    {
     "name": "stdout",
     "output_type": "stream",
     "text": [
      "4873 : ['What position does the nominee for One Ok Rock currently hold?']\n",
      "4874 : ['Does the width of the Hermannskarsee equal 0.12?']\n",
      "4875 : ['What is the density of brass when it is a solid?']\n"
     ]
    },
    {
     "name": "stdout",
     "output_type": "stream",
     "text": [
      "4876 : ['Was chronic obstructive pulmonary disease the death cause of Robert E.Lee?']\n",
      "4877 : ['What is Nurembergs Bavarikon ID?']\n"
     ]
    },
    {
     "name": "stdout",
     "output_type": "stream",
     "text": [
      "4878 : ['Which is the locality of Vojvodina having a diplomatic relation of Holy See?']\n",
      "4879 : ['Why does the digital rights management system need to die?']\n"
     ]
    },
    {
     "name": "stdout",
     "output_type": "stream",
     "text": [
      "4880 : ['What is the street address of the territorial administrative entity of the Arc de Triomphe?']\n",
      "4881 : ['How many payment types are accepted at the Louvre museum?']\n"
     ]
    },
    {
     "name": "stdout",
     "output_type": "stream",
     "text": [
      "4882 : ['Which medical subfield studies cancer?']\n",
      "4883 : ['When G. Evelyn Hutchinson was awarded Kyoto Prize in Basic Sciences?']\n"
     ]
    },
    {
     "name": "stdout",
     "output_type": "stream",
     "text": [
      "4884 : ['What award did Aaliyah receive in the year 2000?']\n"
     ]
    },
    {
     "name": "stdout",
     "output_type": "stream",
     "text": [
      "4885 : ['Tell me the metropolitan area that is maintained by the Metropolitan Manila Development Authority and starts with the letter m?']\n",
      "4886 : ['What is the net profit of Nissan in a fiscal year?']\n",
      "4887 : ['Mention the doctoral disciple of Janet Yellen']\n"
     ]
    },
    {
     "name": "stdout",
     "output_type": "stream",
     "text": [
      "4888 : ['Who is the husband and child of Anthony Dryden Marshall']\n",
      "4889 : ['What award Chow Yun-fat received for his work Hong Kong 1941?']\n",
      "4890 : ['Who is William marwood that is very close to Guilhem']\n",
      "4891 : ['What was the significant event celebrated in the honor of Hans-Georg Gadamer on February 11, 2000?']\n"
     ]
    },
    {
     "name": "stdout",
     "output_type": "stream",
     "text": [
      "4892 : ['Which is the objective of project or mission of the nuclear weapon?']\n",
      "4893 : ['What is  Hiroshima PrefectureS borders, that has Tsugumasa Muraoka   \\nas head of national government?']\n",
      "4894 : ['At the Wan Chai station, are there 2.4 platform faces?']\n",
      "4895 : ['What is the stateless nation of the Bilbao location?']\n"
     ]
    },
    {
     "name": "stdout",
     "output_type": "stream",
     "text": [
      "4896 : ['How many encode for L-Threonine?']\n"
     ]
    },
    {
     "name": "stdout",
     "output_type": "stream",
     "text": [
      "4897 : ['In 2016, what was the net profit of UnitedHealth Group?']\n"
     ]
    },
    {
     "name": "stdout",
     "output_type": "stream",
     "text": [
      "48984899 : ['Was David_Bowie record label EMI?']\n",
      " : ['Was Oda Nobunaga born on June 23, 1534?']\n"
     ]
    },
    {
     "name": "stdout",
     "output_type": "stream",
     "text": [
      "4900 : ['Who  is married to Cheryl Tiegs in the year 1981?']\n"
     ]
    },
    {
     "name": "stdout",
     "output_type": "stream",
     "text": [
      "4901 : ['Who is the person from the Peoples Republic of China that has the most century breaks?']\n",
      "4902 : ['When did George Canning become Secretary of State for Foreign and Commonwealth Affairs?']\n",
      "4903 : ['Which is the item used in the plays of Graham Thorpe?']\n",
      "4904 : ['Who is the architect of the Chapultepec Castleon?']\n",
      "4905 : ['During what time period Reg Gasnier was member of Australia national rugby league team?']\n"
     ]
    },
    {
     "name": "stdout",
     "output_type": "stream",
     "text": [
      "4906 : ['Does the Crab Pulsar have a galactic latitude over 18.29464?']\n",
      "4907 : ['What is the mean anomaly of Ceres that equals 138.662?']\n"
     ]
    },
    {
     "name": "stdout",
     "output_type": "stream",
     "text": [
      "4908 : ['Is Jack the Ripper said to be the same as Sir John Williams, 1st Baronet of the City of London?']\n",
      "4909 : ['What are the Greek deity which start with the letter zeus']\n"
     ]
    },
    {
     "name": "stdout",
     "output_type": "stream",
     "text": [
      "4910 : ['What type of educational experience does Mieczyslaw Kobylanski have?']\n",
      "4911 : ['What is the diocese of Paris archdiocese?']\n"
     ]
    },
    {
     "name": "stdout",
     "output_type": "stream",
     "text": [
      "4912 : ['Appointed by John Dryden, who held the position as Poet Laureate of the United Kingdom?']\n",
      "4913 : ['What is Nitrous oxide subject role and its effect']\n",
      "4914 : ['Which is the National-Football-Teams.com player ID for Clarence Seedorf?']\n"
     ]
    },
    {
     "name": "stdout",
     "output_type": "stream",
     "text": [
      "4915 : ['What is the ten digit ISBN number for the novel For Whom the Bell Tolls?']\n",
      "4916 : ['At what pressure does phosphoric acid need to be at to have a boiling point of 415.0?']\n",
      "4917 : ['What award did Laurence Fishburne receive at the 46th Tony Awards?']\n",
      "4918 : ['When did Andrzej Pelczar leave Jagiellonian University?']\n"
     ]
    },
    {
     "name": "stdout",
     "output_type": "stream",
     "text": [
      "4919 : ['What is the inspiration and influence of the Statue of Liberty?']\n"
     ]
    },
    {
     "name": "stdout",
     "output_type": "stream",
     "text": [
      "4920 : ['Mention the manager or the director of David Foster.']\n",
      "4921 : ['What is the luxury yacht with the highest beam whose manufacturer is Lürssen?']\n"
     ]
    },
    {
     "name": "stdout",
     "output_type": "stream",
     "text": [
      "4922 : ['Is it true David_Lynch educated at George Washington University  and Pennsylvania Academy of the Fine Arts ?']\n",
      "4923 : ['When did animated character for characters of The Lion King?']\n"
     ]
    },
    {
     "name": "stdout",
     "output_type": "stream",
     "text": [
      "4924 : ['This extremely large, diverse family of tree frogs contains four subfamilies, in approximately 38 genera, with more than 700 species. Distribution is widespread, with hylids occurring throughout temperate North America and the neotropics, including the Caribbean islands. Hylids are also prevalent in Australia and Papua New Guinea. The genus Hyla is known from temperate Eurasia, Japan, and the northern tip of Africa.']\n",
      "4925 : ['Which state has the city that is the twin city of Geneva?']\n",
      "4926 : ['How many men live in the Zlin Region?']\n"
     ]
    },
    {
     "name": "stdout",
     "output_type": "stream",
     "text": [
      "4927 : ['Which is the place of death of Robert Aldrich?']\n"
     ]
    },
    {
     "name": "stdout",
     "output_type": "stream",
     "text": [
      "4928 : ['How many approved by are by Free Software Foundation?']\n",
      "4929 : ['Which is the rank for the taxon rank of the blue whale?']\n"
     ]
    },
    {
     "name": "stdout",
     "output_type": "stream",
     "text": [
      "4930 : ['During the conflict of the Mexican-American War, which branch was Nate Dogg in?']\n"
     ]
    },
    {
     "name": "stdout",
     "output_type": "stream",
     "text": [
      "4931 : ['What is the median income of Hong Kong']\n",
      "4932 : ['Is the budget of Tinkoff equal to 19200000?']\n"
     ]
    },
    {
     "name": "stdout",
     "output_type": "stream",
     "text": [
      "4933 : ['Are the number of representatives in an organization/legislature of West Dorset equal to 1?']\n",
      "4934 : ['What are the commune of France with specific status which start with the letter E']\n"
     ]
    },
    {
     "name": "stdout",
     "output_type": "stream",
     "text": [
      "4935 : ['What is the {convicted of} and the {member of} of {Axl_Rose} ?']\n"
     ]
    },
    {
     "name": "stdout",
     "output_type": "stream",
     "text": [
      "4936 : ['What is the { determination method } for { Meknes } { household number } as { 100470.0 }?']\n",
      "4937 : ['Which means{fernsehserien.de ID} from {Cheers} ?']\n"
     ]
    },
    {
     "name": "stdout",
     "output_type": "stream",
     "text": [
      "4938 : ['When was the Old City of Jerusalem created in the Kingdom of Jerusalem?']\n",
      "4939 : ['Name the discoverer of Natural Selection and have birth year as 12-Feb-1809.']\n",
      "4940 : ['Name the place where Pete Conrad was buried as per the Section 11 and Site 113/3']\n"
     ]
    },
    {
     "name": "stdout",
     "output_type": "stream",
     "text": [
      "4941 : ['Those pledging allegiance to Ayman al-Zawahiri are part of what organization?']\n",
      "4942 : ['What is the Croesus death date which is earlier than Gregorian date?']\n",
      "4943 : ['Does Odo of Scarpone hold a directorial position?']\n",
      "4944 : ['What noble title did Louis the Pious have in year 814?']\n",
      "4945 : ['Who was the production designer for the movie The Birth of a Nation ?']\n"
     ]
    },
    {
     "name": "stdout",
     "output_type": "stream",
     "text": [
      "4946 : ['Who was Frederick William I of Prussias child and what is the date of their birth?']\n"
     ]
    },
    {
     "name": "stdout",
     "output_type": "stream",
     "text": [
      "4947 : ['Which isotope of barium decaying to caesium-116 has the most binding energy ?']\n",
      "4948 : ['How much market capitalization are for JPMorgan Chase?']\n",
      "4949 : ['what was the  facet and  history of topic of copyright?']\n"
     ]
    },
    {
     "name": "stdout",
     "output_type": "stream",
     "text": [
      "4950 : ['What agonistic role does L-aspartic Acid have?']\n",
      "4951 : ['What is the quantity of honorific suffix for a Doctor of Philosophy?']\n"
     ]
    },
    {
     "name": "stdout",
     "output_type": "stream",
     "text": [
      "4952 : ['Is the binding energy of the neon-20 equal to 160644.8?']\n"
     ]
    },
    {
     "name": "stdout",
     "output_type": "stream",
     "text": [
      "4953 : ['Where is {birth place} of {Louis Timothee}, which has {member of} is {Treaty on Open Skies} ?']\n",
      "4954 : ['Which is the conjugate acid for nitric acid?']\n"
     ]
    },
    {
     "name": "stdout",
     "output_type": "stream",
     "text": [
      "4955 : ['Tell me the amount George Best was purchased for by Dunstable Town F.C?']\n"
     ]
    },
    {
     "name": "stdout",
     "output_type": "stream",
     "text": [
      "4956 : ['TELL ME USE WHOSE NAME HAS THE WORD TINDER IN IT']\n",
      "4957 : ['What grammatical mood of French has a French indicative?']\n"
     ]
    },
    {
     "name": "stdout",
     "output_type": "stream",
     "text": [
      "4958 : ['What is the symbol of the physical quantity of pound per square inch ?']\n",
      "4959 : ['To what country does Honolulu belong and when did it become a part of that country?']\n"
     ]
    },
    {
     "name": "stdout",
     "output_type": "stream",
     "text": [
      "4960 : ['What does Preludi en do major de Johann Sebastian Bach per a clavicèmbal sound like?']\n",
      "4961 : ['What website is used for Esperanto?']\n",
      "4962 : ['What position did Henry Temple, 3rd Viscount Palmerston hold until June 23, 1841?']\n"
     ]
    },
    {
     "name": "stdout",
     "output_type": "stream",
     "text": [
      "4963 : ['Which is the dwarf elliptical galaxy for the child astronomical body of the Andromeda Galaxy?']\n"
     ]
    },
    {
     "name": "stdout",
     "output_type": "stream",
     "text": [
      "4964 : ['When was George II of Great Britain became duke?']\n",
      "4965 : ['Who is a member of the school attended by Sidney Mintz?']\n"
     ]
    },
    {
     "name": "stdout",
     "output_type": "stream",
     "text": [
      "4966 : ['When did Muhammad stop practicing the Hanif religion?']\n",
      "4967 : ['What is the starting time for Potsdsam which is located in administrative territorial entity as Province of Brandenburg?']\n"
     ]
    },
    {
     "name": "stdout",
     "output_type": "stream",
     "text": [
      "4968 : ['What award did George Marshall receive on May the 4th, 1959?']\n",
      "4969 : ['What is the name o an historical country that starts with the letter r.']\n",
      "4970 : ['What sports team did Abedi Pele belong to and how many matches did they play?']\n",
      "4971 : ['What is the name of the shrine dedicated to Tokugawa Ieyasu?']\n"
     ]
    },
    {
     "name": "stdout",
     "output_type": "stream",
     "text": [
      "4972 : ['What is the standard molar entropy of ethanol?']\n",
      "4973 : ['Who are the authors of The Republic, whose school is Platonism?']\n"
     ]
    },
    {
     "name": "stdout",
     "output_type": "stream",
     "text": [
      "4974 : ['Who is Lockheed C-130 Hercules operator and developer?']\n",
      "4975 : ['What is the legal citation for Roe v. Wade?']\n",
      "4976 : ['What is GAMECIP media format ID for Blu-ray Disc ?']\n"
     ]
    },
    {
     "name": "stdout",
     "output_type": "stream",
     "text": [
      "4977 : ['What is allegiance of Mughal Empire ?']\n",
      "4978 : ['What is the name in the original language of the daughter of Tyr?']\n"
     ]
    },
    {
     "name": "stdout",
     "output_type": "stream",
     "text": [
      "4979 : ['Which is the ULAN ID of Charles Rennie Mackintosh?']\n",
      "4980 : ['What is the crime that Chris Brown was convicted of that involved Rihanna?']\n",
      "4981 : ['When Carlos Andres Perez da costa was replaced by Luis Herrera Campins, what position did he hold?']\n",
      "4982 : ['what is an experiment that starts with the letter t.']\n"
     ]
    },
    {
     "name": "stdout",
     "output_type": "stream",
     "text": [
      "4983 : ['What is the { electoral district } for { Shinzō Abe } as { member of the House of Representatives of Japan }?']\n",
      "4984 : ['Who was the head coach of the Pittsburgh Steelers until December 26, 1991?']\n"
     ]
    },
    {
     "name": "stdout",
     "output_type": "stream",
     "text": [
      "4985 : ['Tell me how many kids Amlaibs sister has.']\n",
      "4986 : ['What award was received by Seymour Hersh in 1970?']\n"
     ]
    },
    {
     "name": "stdout",
     "output_type": "stream",
     "text": [
      "4987 : ['Tell me video game whose name has the word zauberschloß in it.']\n"
     ]
    },
    {
     "name": "stdout",
     "output_type": "stream",
     "text": [
      "4988 : ['When converted to SI unit, is the darcy equal to 1.18428e-12?']\n"
     ]
    },
    {
     "name": "stdout",
     "output_type": "stream",
     "text": [
      "4989 : ['Who is the spouse of John Denver, who died in 1993?']\n",
      "4990 : ['What is the ethnicity of Luigi Pirandello, who studies the science, that is Italian studies?']\n"
     ]
    },
    {
     "name": "stdout",
     "output_type": "stream",
     "text": [
      "4991 : ['Tell me an ancient civilization whose name has the word urartu in it.']\n",
      "4992 : ['When did Frederick Sanger earn his “Doctor Honoris Causa” academic degree?']\n"
     ]
    },
    {
     "name": "stdout",
     "output_type": "stream",
     "text": [
      "4993 : ['What country was replaced by the Kingdom of Great Britain?']\n"
     ]
    },
    {
     "name": "stdout",
     "output_type": "stream",
     "text": [
      "4994 : ['Is it true that the foreign transaction fee of the Santander 1plus Visa Card equals to 0?']\n"
     ]
    },
    {
     "name": "stdout",
     "output_type": "stream",
     "text": [
      "4995 : ['What are diplomatic relations like between Belgium and the Netherlands?']\n",
      "4996 : ['who  is the human spacefligh for member of the crew  of Christa McAuliffe?']\n",
      "4997 : ['Who is the co-founder of publishing house of Journal of experimental psychology, human learning and memory?']\n"
     ]
    },
    {
     "name": "stdout",
     "output_type": "stream",
     "text": [
      "4998 : ['What was the statement made by Geoffrey Rush after being nominated for Best Supporting Actor ?']\n"
     ]
    },
    {
     "name": "stdout",
     "output_type": "stream",
     "text": [
      "4999 : ['WHAT IS THE POSITION OF VEHICLE NORMALLY USED IN POPEMOBILE THAT CONTAINS THE WORD POPE IN THEIR NAME']\n",
      "5000 : ['What are the legendary figure which start with the letter e']\n",
      "5001 : ['What is the China National Petroleum Corporation headquarters location that is located at 9 Dongzhimen North Street, Dongcheng District?']\n"
     ]
    },
    {
     "name": "stdout",
     "output_type": "stream",
     "text": [
      "5002 : ['Which is the PagesJaunes ID for Louvre Museum?']\n"
     ]
    },
    {
     "name": "stdout",
     "output_type": "stream",
     "text": [
      "5003 : ['When did Liza Minnelli and her husband David Gest get divorced?']\n",
      "5004 : ['What is the toponym of the Island of Montreal that has a geographic coordinate of -73.555?']\n",
      "5005 : ['Which is the US Federal Election Commission ID of Carly Fiorina?']\n"
     ]
    },
    {
     "name": "stdout",
     "output_type": "stream",
     "text": [
      "5006 : ['What is informed by Saul Bellow whose nom-de-amore is Horatio?']\n",
      "5007 : ['What is the highest point by Mount Ararat?']\n",
      "5008 : ['Is the total votes of the Popular Initiative, Protection Against Passive Smoking 1150388?']\n"
     ]
    },
    {
     "name": "stdout",
     "output_type": "stream",
     "text": [
      "5009 : ['Who is the follower of Charles the Fat who has a noble title as king of Franks?']\n",
      "5010 : ['Why Van Morrison has his spouse Michelle Rocca?']\n",
      "5011 : ['What is another name (also known as) used for Georges Bataille?']\n"
     ]
    },
    {
     "name": "stdout",
     "output_type": "stream",
     "text": [
      "5012 : ['What country did Virginia Woolf have citizenship for starting January 25, 1882?']\n",
      "5013 : ['Name the business company where Indra Nooyi served as the Chief Executive Officer']\n",
      "5014 : ['What point in time did Indonesia have the inflation rate of 17.1?']\n"
     ]
    },
    {
     "name": "stdout",
     "output_type": "stream",
     "text": [
      "5015 : ['How many people have been inspired by Batman?']\n",
      "5016 : ['What is the partner town of the birth place of Leonardo DiCaprio?']\n",
      "5017 : ['Which is the day of week of Saturday?']\n"
     ]
    },
    {
     "name": "stdout",
     "output_type": "stream",
     "text": [
      "5018 : ['What is the profession of Henry Washington Younger sons?']\n"
     ]
    },
    {
     "name": "stdout",
     "output_type": "stream",
     "text": [
      "5019 : ['What is the Carnegie Classification of Institutions of Higher Education that Ben Affleck graduated from?']\n",
      "5020 : ['Which was the aerial bombing participant of Allies?']\n",
      "5021 : ['What is founded by University of Chicago for the role of donor?']\n"
     ]
    },
    {
     "name": "stdout",
     "output_type": "stream",
     "text": [
      "5022 : ['In what location was Xu Fu born that has the logitude of 118.3?']\n"
     ]
    },
    {
     "name": "stdout",
     "output_type": "stream",
     "text": [
      "5023 : ['Who was the child of Charlemagne and when were they born?']\n",
      "5024 : ['What field is the craft of Saparius Catalin in?']\n",
      "5025 : ['What are the honours of Bill T. Jones whose winner is Jule Styne?']\n"
     ]
    },
    {
     "name": "stdout",
     "output_type": "stream",
     "text": [
      "5026 : ['Who is the cast member of Thomas Mitchell?']\n"
     ]
    },
    {
     "name": "stdout",
     "output_type": "stream",
     "text": [
      "5027 : ['What geographical region and terrain feature is Thessaloniki located among?']\n"
     ]
    },
    {
     "name": "stdout",
     "output_type": "stream",
     "text": [
      "5028 : ['what is the honours of Fred Astaire, that has leader of James Mason ?']\n",
      "5029 : ['How many record labels are with the {Trent Reznor} ?']\n"
     ]
    },
    {
     "name": "stdout",
     "output_type": "stream",
     "text": [
      "5030 : ['How many symbols are there for Manitoba?']\n",
      "5031 : ['What planet has use of a sundial?']\n",
      "5032 : ['Which  is participant in  conflict  branch of Charles Whitman ?']\n",
      "5033 : ['Are people or cargo transported in an ambulance?']\n"
     ]
    },
    {
     "name": "stdout",
     "output_type": "stream",
     "text": [
      "5034 : ['explain me that the artistic type that contains the word of venus which has its own name.']\n",
      "5035 : ['What painting is exhibited at Brown University?']\n"
     ]
    },
    {
     "name": "stdout",
     "output_type": "stream",
     "text": [
      "5036 : ['What hypothesis states that there are many worlds?']\n",
      "5037 : ['What is the diet that is opposite and named after veganism?']\n",
      "5038 : ['Who is the {cricket field} for {owned by} of {Australian Football League}']\n",
      "5039 : ['Is the draft of Adler XI equal to 1.45?']\n"
     ]
    },
    {
     "name": "stdout",
     "output_type": "stream",
     "text": [
      "5040 : ['Which is the Jewish Encyclopedia Daat ID for Numbers?']\n"
     ]
    },
    {
     "name": "stdout",
     "output_type": "stream",
     "text": [
      "5041 : ['What happens when caffeine interactions with a certain receptor in the body']\n",
      "5042 : ['What number of partnerships does Autonomous University of Barcelona have?']\n"
     ]
    },
    {
     "name": "stdout",
     "output_type": "stream",
     "text": [
      "5043 : ['Where is Akhenaten buried and where did they die?']\n",
      "5044 : ['What is the category of Susan Luerys work?']\n",
      "5045 : ['What is the female version of Józef Piłsudski with the acronym чол?']\n"
     ]
    },
    {
     "name": "stdout",
     "output_type": "stream",
     "text": [
      "5046 : ['Name a movie featuring Burt Reynolds']\n",
      "5047 : ['What is Ancient Egypts lighthouse?']\n"
     ]
    },
    {
     "name": "stdout",
     "output_type": "stream",
     "text": [
      "5048 : ['What is Annelida new id for fauna europaea?']\n",
      "5049 : ['Volgograd is the capital of governorate of the Russian Soviet Federative Socialist Republic']\n",
      "5050 : ['Who is a graduate of John Key, who is a member of the Association of Research Libraries?']\n"
     ]
    },
    {
     "name": "stdout",
     "output_type": "stream",
     "text": [
      "5051 : ['What is Rumis culture and religion?']\n",
      "5052 : ['What is the taxon source of Sichuan pepper?']\n"
     ]
    },
    {
     "name": "stdout",
     "output_type": "stream",
     "text": [
      "5053 : ['Is Ceraunius diamater higher than 0?']\n"
     ]
    },
    {
     "name": "stdout",
     "output_type": "stream",
     "text": [
      "5054 : ['What position will Martin McGuinness hold until Januaryn26, 2017?']\n",
      "5055 : ['What is the minimal incubation period in humans of the influenza vaccine?']\n",
      "5056 : ['is the minimum number of players of The Settlers of Catan more than 2.4?']\n"
     ]
    },
    {
     "name": "stdout",
     "output_type": "stream",
     "text": [
      "5057 : ['How many orbits completed by the Sputnik 1?']\n"
     ]
    },
    {
     "name": "stdout",
     "output_type": "stream",
     "text": [
      "5058 : ['Who stepped down as the excavation director of works in Pompeii in 1825?']\n",
      "5059 : ['What was Mickey Rourke nominated for and what award did he receive?']\n"
     ]
    },
    {
     "name": "stdout",
     "output_type": "stream",
     "text": [
      "5060 : ['When was Pier Luigi Bersani first elected head of the government of Emilia-Romagna?']\n",
      "5061 : ['Who is the owner of American Airlines']\n",
      "5062 : ['Is the angular resolution of the Karl G. Jansky Very Large Array equal to 0.2?']\n",
      "5063 : ['Mention the date of birth and death of Louis IX of France having child Peter, Count of Perche and Alençon']\n",
      "5064 : ['Which is the dual to the pyramid?']\n"
     ]
    },
    {
     "name": "stdout",
     "output_type": "stream",
     "text": [
      "5065 : ['Who is Taxi Drivers film editor and director?']\n",
      "5066 : ['Is it true that the magnetic moment of the triton equals 0.000000000000000000000000015046094?']\n",
      "5067 : ['Which cooperative bank that is a member of Bundesverband der Deutschen Volksbanken und Raiffeisenbanken has the most employees ?']\n"
     ]
    },
    {
     "name": "stdout",
     "output_type": "stream",
     "text": [
      "5068 : ['Tell me me a video game console model whose name consist of the  wii and whose input method Classic Controller']\n",
      "5069 : ['Who was married to Faye Dunaway and when did it end?']\n",
      "5070 : ['Who leads the Christian Science movement?']\n"
     ]
    },
    {
     "name": "stdout",
     "output_type": "stream",
     "text": [
      "5071 : ['How many Oceania children were out of school on January 1, 2005?']\n",
      "5072 : ['What is the Fine Wind, Clear Morning portrait which has the coordinate location of 35.3625?']\n",
      "5073 : ['What is the interaction of down quark, that has Q48460 of 539.7544?']\n"
     ]
    },
    {
     "name": "stdout",
     "output_type": "stream",
     "text": [
      "5074 : ['What significant event applies to the jurisdiction of Charles I of Austria?']\n",
      "5075 : ['Which continent of South Pole , that have extreme point lowest in Bentley Subglacial Trench?']\n",
      "5076 : ['what is the character role for seventeen moments of spring has cast member as nikolay prokopovich?']\n"
     ]
    },
    {
     "name": "stdout",
     "output_type": "stream",
     "text": [
      "5077 : ['what is the county of American Indians ?']\n",
      "5078 : ['What businesses are headquartered in Cleveland?']\n"
     ]
    },
    {
     "name": "stdout",
     "output_type": "stream",
     "text": [
      "5079 : ['Where is the X-files filming and narrative location?']\n",
      "5080 : ['Tell me the name of Badminton World Federation that of start time is 1934-7-5?']\n"
     ]
    },
    {
     "name": "stdout",
     "output_type": "stream",
     "text": [
      "5081 : ['What county seat of Kathmandu, has mains electricity voltage of 230.0?']\n",
      "5082 : ['What is movement for Renaissance music ?']\n",
      "5083 : ['Who is the inventor of Newtons law of motion, whose professorship position is Lucasian Professor of Mathematics?']\n"
     ]
    },
    {
     "name": "stdout",
     "output_type": "stream",
     "text": [
      "5084 : ['Louis VII of France held which position and when did he start?']\n",
      "5085 : ['What is the human spaceflight for Christa McAuliffes crew member?']\n"
     ]
    },
    {
     "name": "stdout",
     "output_type": "stream",
     "text": [
      "5086 : ['When was the Gregorian calendar introduced to the Papal States?']\n",
      "5087 : ['Tell me mineral resource whose name has the word petroleum in their name']\n"
     ]
    },
    {
     "name": "stdout",
     "output_type": "stream",
     "text": [
      "5088 : ['What is copy of products for Arcadia Machine & Tool ?']\n",
      "5089 : ['What is key event for film producer of Selma ?']\n"
     ]
    },
    {
     "name": "stdout",
     "output_type": "stream",
     "text": [
      "5090 : ['The biological process of learning is what?']\n",
      "5091 : ['When did intergovernmental organization for organisation directed from the office of United Nations Secretary-General?']\n"
     ]
    },
    {
     "name": "stdout",
     "output_type": "stream",
     "text": [
      "5092 : ['What is the MYmovies ID for Game of Thrones?']\n",
      "5093 : ['TELL ME VEGETATION ZONE WHOSE NAME HAS THE WORD TAIGA IN IT']\n"
     ]
    },
    {
     "name": "stdout",
     "output_type": "stream",
     "text": [
      "5094 : ['What towns partner capital is Almohad?']\n",
      "5095 : ['What is the born on of advisor of Gaston Bachelard ?']\n"
     ]
    },
    {
     "name": "stdout",
     "output_type": "stream",
     "text": [
      "5096 : ['What is Hansard (1803–2005) ID for Clement Attlee?']\n"
     ]
    },
    {
     "name": "stdout",
     "output_type": "stream",
     "text": [
      "5097 : ['What is the series ordinal of Philip V of Frances child Margaret I, Countess of Burgundy?']\n"
     ]
    },
    {
     "name": "stdout",
     "output_type": "stream",
     "text": [
      "5098 : ['Tell me archipelago  whose name has the word lies in it.']\n"
     ]
    },
    {
     "name": "stdout",
     "output_type": "stream",
     "text": [
      "5099 : ['What was the previous job of the writer who published in a journal Acoustic discrimination of sympatric morphs in Darwins finches: a behavioural mechanism for assortative mating?']\n",
      "5100 : ['What are the medical examinations for blood sugar?']\n"
     ]
    },
    {
     "name": "stdout",
     "output_type": "stream",
     "text": [
      "5101 : ['Who is the {human} for {place of death} of {Madrid}']\n",
      "5102 : ['What Class IB flammable liquid has the highest time-weighted average exposure limit?']\n"
     ]
    },
    {
     "name": "stdout",
     "output_type": "stream",
     "text": [
      "5103 : ['What book publishing company developed Final Fantasy?']\n"
     ]
    },
    {
     "name": "stdout",
     "output_type": "stream",
     "text": [
      "5104 : ['Is the General Electric stock exchange ticker symbol GE?']\n",
      "5105 : ['who is partner of Tyler Perry that has start time is 2009-1-1 ?']\n",
      "5106 : ['What are the Colonial Colleges which start with the letter u']\n"
     ]
    },
    {
     "name": "stdout",
     "output_type": "stream",
     "text": [
      "5107 : ['When did South America have 7.07274e+06 students out of school?']\n",
      "5108 : ['Is the minimum explosive concentration of dinitro-ortho-cresol equal to 30?']\n",
      "5109 : ['which inner planet has the highest orbital eccentricity?']\n"
     ]
    },
    {
     "name": "stdout",
     "output_type": "stream",
     "text": [
      "5110 : ['Who is the facet of and located in the administrative territorial entity of Assassination of John F. Kennedy?']\n",
      "5111 : ['Who was nominated for Monday Night Football in the year 1980?']\n"
     ]
    },
    {
     "name": "stdout",
     "output_type": "stream",
     "text": [
      "5112 : ['Who is Warren Beattys wife or partner?']\n"
     ]
    },
    {
     "name": "stdout",
     "output_type": "stream",
     "text": [
      "5113 : ['Is Nicolas Cages family name Coppola?']\n",
      "5114 : ['What part of the stomach is the venous return connected to?']\n",
      "5115 : ['Which category of people is active in Eamon de Valera?']\n",
      "5116 : ['What is the twin town of George Cukors native home?']\n"
     ]
    },
    {
     "name": "stdout",
     "output_type": "stream",
     "text": [
      "5117 : ['Which is the Argentine deputy votations ID of Cristina Kirchner?']\n"
     ]
    },
    {
     "name": "stdout",
     "output_type": "stream",
     "text": [
      "5118 : ['What is the monoanion for the water base?']\n"
     ]
    },
    {
     "name": "stdout",
     "output_type": "stream",
     "text": [
      "5119 : ['What career did Henry Roy Brahana study?']\n"
     ]
    },
    {
     "name": "stdout",
     "output_type": "stream",
     "text": [
      "5120 : ['What are the physical quantity that measured by watt per meter kelvin and which that starts with the letter c']\n",
      "5121 : ['Who painted the figures of Wolves Beyond the Border?']\n",
      "5122 : ['What is  the used for treatment of the treats disease of methocarbamol ?']\n"
     ]
    },
    {
     "name": "stdout",
     "output_type": "stream",
     "text": [
      "5123 : ['What is the Heidelberg Academy for Sciences and Humanities member ID for Martin Heidegger?']\n",
      "5124 : ['What is {stockholders} to {represent} {Vista aérea da cidade de São Paulo/SP} ?']\n",
      "5125 : ['What is ČSFD ID for The Ten Commandments?']\n"
     ]
    },
    {
     "name": "stdout",
     "output_type": "stream",
     "text": [
      "5126 : ['Where was Park Geun-hye elected as Member of National Assembly of South Korea and why did it end?']\n",
      "5127 : ['In the country of  Singapore what are the A.P.J Abdul Kalam languages?']\n"
     ]
    },
    {
     "name": "stdout",
     "output_type": "stream",
     "text": [
      "5128 : ['Which is the city district that contains the administrative territorial entity of Bonn?']\n",
      "5129 : ['Who owns NSDAP?']\n",
      "5130 : ['What is the seal image for Medan?']\n",
      "5131 : ['Name the person behind the renowned work of Nineteen Eighty-Four']\n"
     ]
    },
    {
     "name": "stdout",
     "output_type": "stream",
     "text": [
      "5132 : ['Who married Mark Zuckerberg in Palo Alto?']\n"
     ]
    },
    {
     "name": "stdout",
     "output_type": "stream",
     "text": [
      "5133 : ['What is Cao Xueqins Eight Banner register?']\n",
      "5134 : ['what is the binary star has the highest color index?']\n",
      "5135 : ['When did Barbara Payton the spouse of Franchot Tone die ?']\n"
     ]
    },
    {
     "name": "stdout",
     "output_type": "stream",
     "text": [
      "5136 : ['How many games did Richie McCaw play when he was on the New Zealand national rugby union team and how many points did he score?']\n",
      "5137 : ['What was Johannes Stewarts given name?']\n",
      "5138 : ['how many locations on terrain feature are there to andaman sea?']\n"
     ]
    },
    {
     "name": "stdout",
     "output_type": "stream",
     "text": [
      "5139 : ['What is the Wylie transliteration for Abhidharma, that is labelled as མཛོད་ཕུག?']\n",
      "5140 : ['Who is the organizer of Ultimate Fighting Championship?']\n"
     ]
    },
    {
     "name": "stdout",
     "output_type": "stream",
     "text": [
      "5141 : ['What part did Mark Skaife play in 1926 24 Hours of Le Mans?']\n",
      "5142 : ['What is the genetic association of the regulates (molecular biology) of the hsa-miR-6887-5p?']\n"
     ]
    },
    {
     "name": "stdout",
     "output_type": "stream",
     "text": [
      "5143 : ['What is ALCUIN ID for Dante Alighieri?']\n"
     ]
    },
    {
     "name": "stdout",
     "output_type": "stream",
     "text": [
      "5144 : ['Is the price of the Kuwaiti dinar less than 3.6?']\n"
     ]
    },
    {
     "name": "stdout",
     "output_type": "stream",
     "text": [
      "5145 : ['In which museum Mahatma Gandhi died ?']\n"
     ]
    },
    {
     "name": "stdout",
     "output_type": "stream",
     "text": [
      "5146 : ['What is Grigori Perelmans compact space for solving?']\n",
      "5147 : ['What is the result of the first aid response to move to fresh air, with regard to talc?']\n"
     ]
    },
    {
     "name": "stdout",
     "output_type": "stream",
     "text": [
      "5148 : ['Who created Judo ?']\n",
      "5149 : ['Who produces and is the builder of the John Deere Model 4020?']\n"
     ]
    },
    {
     "name": "stdout",
     "output_type": "stream",
     "text": [
      "5150 : ['Where did Guy de Maupassant end his education in 1869?']\n"
     ]
    },
    {
     "name": "stdout",
     "output_type": "stream",
     "text": [
      "5151 : ['Where is the mouth of the Daugava River located?']\n",
      "5152 : ['Where was James Clerk Maxwell born in Scotland?']\n"
     ]
    },
    {
     "name": "stdout",
     "output_type": "stream",
     "text": [
      "5153 : ['What itime of the day that has the minimum time index in a Day?']\n",
      "5154 : ['What is motto  successor of Province of New York ?']\n"
     ]
    },
    {
     "name": "stdout",
     "output_type": "stream",
     "text": [
      "5155 : ['Which is the Power of 10 athlete ID for Paula Radcliffe?']\n",
      "5156 : ['Name an art genre that starts with letter B']\n",
      "5157 : ['Is the nominal GDP per capita of North Macedonia more than 5823.192?']\n"
     ]
    },
    {
     "name": "stdout",
     "output_type": "stream",
     "text": [
      "5158 : ['How many people were in the lineage of Johann Wolfgang von goethe?']\n",
      "5159 : ['What is the noble title given to Georges Cuvier on December 29, 1829?']\n"
     ]
    },
    {
     "name": "stdout",
     "output_type": "stream",
     "text": [
      "5160 : ['What was Howard H. Aikens academic major at Harvard University?']\n"
     ]
    },
    {
     "name": "stdout",
     "output_type": "stream",
     "text": [
      "5161 : ['What award did Adele receive at that 59th Annual Grammy Awards?']\n",
      "5162 : ['What is the Bildindex der Kunst und Architektur ID for The Night Watch?']\n"
     ]
    },
    {
     "name": "stdout",
     "output_type": "stream",
     "text": [
      "5163 : ['What is the history of anarchism, as opposed to illegalism?']\n",
      "5164 : ['How many matches were played, and points scored by David Icke, a member of Hereford United FC?']\n",
      "5165 : ['What criterion did Florence Griffith-Joyner  use who held a record of 200 meters?']\n"
     ]
    },
    {
     "name": "stdout",
     "output_type": "stream",
     "text": [
      "5166 : ['What is the vapor pressure of butane when its temperature is at 68.0?']\n"
     ]
    },
    {
     "name": "stdout",
     "output_type": "stream",
     "text": [
      "5167 : ['Was Carl_Sagan spouse Carl Woese and Linda Salzman Sagan ?']\n",
      "5168 : ['When did stadium for operator of University of Toronto?']\n"
     ]
    },
    {
     "name": "stdout",
     "output_type": "stream",
     "text": [
      "5169 : ['Who replaced James Stanhope as Chancellor of the Exchequer?']\n",
      "5170 : ['What is the TV.com ID from Schindlers list?']\n"
     ]
    },
    {
     "name": "stdout",
     "output_type": "stream",
     "text": [
      "5171 : ['What are list of monuments in Rennes?']\n",
      "5172 : ['DOES THE TOTAL DEBT OF CARREFOUR GROUP IS EQUAL TO 4531000000']\n",
      "5173 : ['What title did Guy of Lusignan hold, and who followed him ?']\n",
      "5174 : ['Tell me the type of statistic that starts with the letter v']\n",
      "5175 : ['Name a port city that contains the word zuwetina  in its name']\n"
     ]
    },
    {
     "name": "stdout",
     "output_type": "stream",
     "text": [
      "5176 : ['What was the inflation rate in Jordan in 1981?']\n",
      "5177 : ['Name the currency issued by the Reserve Bank of Australia  that starts with letter A']\n"
     ]
    },
    {
     "name": "stdout",
     "output_type": "stream",
     "text": [
      "5178 : ['How many programmers work for John Carmack?']\n",
      "5179 : ['What position did Sargon 2, who started in 721, hold?']\n"
     ]
    },
    {
     "name": "stdout",
     "output_type": "stream",
     "text": [
      "5180 : ['Which is the dam of Three Georges Dam?']\n"
     ]
    },
    {
     "name": "stdout",
     "output_type": "stream",
     "text": [
      "5181 : ['What is the moveable object location of the Sicilian Expedition, that has a coordinate moveable object location of 14.0154?']\n",
      "5182 : ['Which is the detail map of Windsor Castle?']\n",
      "5183 : ['Which is the CulturaItalia ID of Uffizi?']\n"
     ]
    },
    {
     "name": "stdout",
     "output_type": "stream",
     "text": [
      "5184 : ['What is the religion practiced by people in The Church of Jesus Christ of Latter Day Saints?']\n"
     ]
    },
    {
     "name": "stdout",
     "output_type": "stream",
     "text": [
      "5185 : ['In 1975, what awards were Gladys Knight & the Pips nominated for?']\n"
     ]
    },
    {
     "name": "stdout",
     "output_type": "stream",
     "text": [
      "5186 : ['Tell me military offensive whose name has the word operation in it.']\n",
      "5187 : ['What is the procedural programming language designed by Grace Hopper ?']\n"
     ]
    },
    {
     "name": "stdout",
     "output_type": "stream",
     "text": [
      "5188 : ['What kind of media company is Comcast?']\n",
      "5189 : ['How many terminus locations are by California?']\n"
     ]
    },
    {
     "name": "stdout",
     "output_type": "stream",
     "text": [
      "5190 : ['who is the member of  Colin Meads sports team and how much matches did they play?']\n",
      "5191 : ['What strategy game has the least players?']\n",
      "5192 : ['For how long was Abram L. Sachar the chairperson for Brandeis University.']\n",
      "5193 : ['Who is the language official from Khanate of Kokand, that has AWLD status and is 1 safe?']\n"
     ]
    },
    {
     "name": "stdout",
     "output_type": "stream",
     "text": [
      "5194 : ['Does the total valid votes of the Catalan reqional election of 2015 in Montseny equal to 231?']\n",
      "5195 : ['does the lenth of provartenka equal to 0?']\n"
     ]
    },
    {
     "name": "stdout",
     "output_type": "stream",
     "text": [
      "5196 : ['Who is the author of Othello?']\n",
      "5197 : ['Who is John Conrads mothers brother?']\n"
     ]
    },
    {
     "name": "stdout",
     "output_type": "stream",
     "text": [
      "5198 : ['What statement is subject of Louisiana that shares border with Texas?']\n",
      "5199 : ['What award did Louis Malle receive for his work on Au revois les enfants?']\n",
      "5200 : ['How many matches did Radamel Falcao García play when he was in the Colombia National Under-20 Football Team?']\n"
     ]
    },
    {
     "name": "stdout",
     "output_type": "stream",
     "text": [
      "5201 : ['Who is the husband of the actor in Psycho?']\n",
      "5202 : ['Rudolph II of Burgundy replaced Berengar I of Italy in this noble title?']\n",
      "5203 : ['when is the {start time} for {Joseph-Louis Lagrange} who {member of} as {Prussian Academy of Sciences} ?']\n"
     ]
    },
    {
     "name": "stdout",
     "output_type": "stream",
     "text": [
      "5204 : ['What is the product of coral?']\n"
     ]
    },
    {
     "name": "stdout",
     "output_type": "stream",
     "text": [
      "5205 : ['What is Flickrs software framework in its current version 3.16.10?']\n"
     ]
    },
    {
     "name": "stdout",
     "output_type": "stream",
     "text": [
      "5206 : ['Which is the FootballDatabase.eu ID of Abedi Pele?']\n",
      "5207 : ['What Spongebob Squarepants character was Clancy Brown the voice actor for?']\n"
     ]
    },
    {
     "name": "stdout",
     "output_type": "stream",
     "text": [
      "5208 : ['Who was Leonard Nimoy married to in 1989?']\n",
      "5209 : ['Due to what disease for anatomical location of human leg']\n"
     ]
    },
    {
     "name": "stdout",
     "output_type": "stream",
     "text": [
      "5210 : ['When did award received of Rabindranath Tagore and prize money?']\n",
      "5211 : ['What physically interacts with glycine and has a subcellular localization in the integral component of a membrane?']\n",
      "5212 : ['Are the maximum sustained winds of the Tropical Storm Debby 54.0?']\n"
     ]
    },
    {
     "name": "stdout",
     "output_type": "stream",
     "text": [
      "5213 : ['What was Sally Field nominated for at the 52nd Academy Awards?']\n",
      "5214 : ['When were American Samoa named ethnic group as Samoans?']\n",
      "5215 : ['On the date 29th January 2018 , what award was received by Joko Widodo?']\n"
     ]
    },
    {
     "name": "stdout",
     "output_type": "stream",
     "text": [
      "5216 : ['Who are the daughters of the author of Black Lamb and Grey Falcon?']\n",
      "5217 : ['Who is the subsidiary entity of the University of British Columbia that has superior formation over the University of Victoria?']\n"
     ]
    },
    {
     "name": "stdout",
     "output_type": "stream",
     "text": [
      "5218 : ['Who was the spouse of John Gilbert up until the beginning of 1931?']\n",
      "5219 : ['What is the charger for the rebellion?']\n"
     ]
    },
    {
     "name": "stdout",
     "output_type": "stream",
     "text": [
      "5220 : ['WHAT IS DRAFTEXPRESS.COM ID OF LEBRON JAMES']\n",
      "5221 : ['What borders with Sao Goncalo whose start date is 11-22-1573?']\n",
      "5222 : ['When was Pierre Laval appointed as a Deputy Prime Minister of France?']\n"
     ]
    },
    {
     "name": "stdout",
     "output_type": "stream",
     "text": [
      "5223 : ['For what role was Angelina Jolie nominated for an Academy Award for Best Actress?']\n",
      "5224 : ['What is the chemical compound of water?']\n"
     ]
    },
    {
     "name": "stdout",
     "output_type": "stream",
     "text": [
      "5225 : ['For what railway stations is Isambard Kingdom Brunel the architect?']\n",
      "5226 : ['Where is the next crossing downstream of the London Bridge.']\n"
     ]
    },
    {
     "name": "stdout",
     "output_type": "stream",
     "text": [
      "5227 : ['What is the topic of chronology of the citizenship of Harry Chipeni?']\n"
     ]
    },
    {
     "name": "stdout",
     "output_type": "stream",
     "text": [
      "5228 : ['Which award was received by Marianne moore in the year 1952?']\n",
      "5229 : ['What is available in The Forsyte Saga which has a script of the English alphabet?']\n",
      "5230 : ['Does the pulication interval of the Le Monde equal 0.8?']\n"
     ]
    },
    {
     "name": "stdout",
     "output_type": "stream",
     "text": [
      "5231 : ['When was LeBron James nominated for Best Male Athlete ESPY Award?']\n",
      "5232 : ['What is the sister city of Tirana, that has the county seat for the 4th of August Regime?']\n",
      "5233 : ['What academic major studies World History?']\n",
      "5234 : ['How many awards are given by the Académie française?']\n"
     ]
    },
    {
     "name": "stdout",
     "output_type": "stream",
     "text": [
      "5235 : ['What sports team Adam Gilchist was the member in the year 2008?']\n",
      "5236 : ['How many military casualty classification are in the prisoner of war?']\n",
      "5237 : ['What award did Cormac McCarthy receive for his work on The Road?']\n"
     ]
    },
    {
     "name": "stdout",
     "output_type": "stream",
     "text": [
      "5238 : ['Is it true that the number of participants of 2013 OFC under 17 Tournament is greater than 4.8?']\n"
     ]
    },
    {
     "name": "stdout",
     "output_type": "stream",
     "text": [
      "5239 : ['Name a kind of detached home that starts with letter V']\n",
      "5240 : ['What field does Sataspes work in?']\n"
     ]
    },
    {
     "name": "stdout",
     "output_type": "stream",
     "text": [
      "5241 : ['The UIC alphabetical country code of Lebanon is?']\n",
      "5242 : ['Isambard Kingdom Brunel was the structural engineer of what railway bridge?']\n"
     ]
    },
    {
     "name": "stdout",
     "output_type": "stream",
     "text": [
      "5243 : ['Who did Bram Stoker work for in 1878?']\n"
     ]
    },
    {
     "name": "stdout",
     "output_type": "stream",
     "text": [
      "5244 : ['What is the full name of this Lucy and Ricky Ricardo musician?']\n",
      "5245 : ['Which is the Internet Off-Broadway Database ID of Irwin Corey?']\n",
      "5246 : ['Where was the Russian Revolution co-founded by Peter the Great?']\n",
      "5247 : ['Which perpetual war involves the Cuban Missile Crisis?']\n"
     ]
    },
    {
     "name": "stdout",
     "output_type": "stream",
     "text": [
      "5248 : ['What award did Pete Seeger receive in the year 1977?']\n",
      "5249 : ['What  did Johannes Chrysostomus Wolfgangus Theophilus Mozart write for the clarinet concerto in A major, K. 622?']\n"
     ]
    },
    {
     "name": "stdout",
     "output_type": "stream",
     "text": [
      "5250 : ['What is the DVN id for Anne Frank?']\n"
     ]
    },
    {
     "name": "stdout",
     "output_type": "stream",
     "text": [
      "5251 : ['What position did Robert Gascoyne-Cecil, 5th Marquess of Salisbury replace Clement Attlee as?']\n",
      "5252 : ['Is the stated age at the event of the Hammou Mouhal greater than 30.4?']\n",
      "5253 : ['Tell me me a musical  whose name consist of the word woods and whose lyrics by Stephen Sondheim']\n",
      "5254 : ['What is Les Enfoirés participant id for Celine Dion?']\n",
      "5255 : ['How many films are edited by David Lynch?']\n"
     ]
    },
    {
     "name": "stdout",
     "output_type": "stream",
     "text": [
      "5256 : ['which mountain has a tallest elevation above sea level?']\n"
     ]
    },
    {
     "name": "stdout",
     "output_type": "stream",
     "text": [
      "5257 : ['When Anne of Great Britain, started her position monarch of England?']\n"
     ]
    },
    {
     "name": "stdout",
     "output_type": "stream",
     "text": [
      "5258 : ['What are the opening and closing hours of the British Museum on Weekdays?']\n"
     ]
    },
    {
     "name": "stdout",
     "output_type": "stream",
     "text": [
      "52595260 : ['Which is the architectural style of postmodernism?']\n",
      " : ['Where is the border of where Paulo Freire wrote?']\n",
      "5261 : ['Which is the Norsk kunstnerleksikon ID of Edvard Munch?']\n",
      "5262 : ['What has a grammatical person in the languages of expression of Magda Szabó?']\n"
     ]
    },
    {
     "name": "stdout",
     "output_type": "stream",
     "text": [
      "5263 : ['Which macOS operating systems use PowerPC to function?']\n",
      "5264 : ['Tell me carbine whose name has the word zastava in it.']\n",
      "5265 : ['What is the demised placce of Leo III}?']\n"
     ]
    },
    {
     "name": "stdout",
     "output_type": "stream",
     "text": [
      "5266 : ['What is in the category of electronic component?']\n"
     ]
    },
    {
     "name": "stdout",
     "output_type": "stream",
     "text": [
      "5267 : ['who next to lake of  the principal area  of university of medical Sciences and technology ?']\n"
     ]
    },
    {
     "name": "stdout",
     "output_type": "stream",
     "text": [
      "5268 : ['What is Russias national anthem?']\n",
      "5269 : ['When did the Kindgom of Prussia begin in 1701?']\n"
     ]
    },
    {
     "name": "stdout",
     "output_type": "stream",
     "text": [
      "5270 : ['Who gave the {ideology} of {party} of {Elisenda Alamany} ?']\n",
      "5271 : ['What is the motif of the mascot of the Wisconsin Badgers?']\n"
     ]
    },
    {
     "name": "stdout",
     "output_type": "stream",
     "text": [
      "5272 : ['Where did Gianni Agnelli work and when did it ended?']\n",
      "5273 : ['Where is the border of Schaerbeek, and what happens in the Arrondissement of Brussel Capital?']\n"
     ]
    },
    {
     "name": "stdout",
     "output_type": "stream",
     "text": [
      "5274 : ['Where is the river mouth of the Uruguay river?']\n"
     ]
    },
    {
     "name": "stdout",
     "output_type": "stream",
     "text": [
      "5275 : ['Which is the medical attribute for the produced sound of the respiratory system?']\n",
      "5276 : ['When did award received of Alice Munro and followed by?']\n"
     ]
    },
    {
     "name": "stdout",
     "output_type": "stream",
     "text": [
      "5277 : ['Tell me steroid hormone whose name has the world testosterone in it']\n",
      "5278 : ['How many exhibition histories are for the LOrigine du monde} ?']\n",
      "5279 : ['What is the number of points/goals/set scored for Ali Daei, the member of sports team of Saipa F.C.?']\n",
      "5280 : ['Is there an audio recording of Charles Duke?']\n",
      "5281 : ['Is the tensile modulus of elasticity of the UNS S32205 / EN 1.4462 duplex stainless steel greater than 223200.0?']\n"
     ]
    },
    {
     "name": "stdout",
     "output_type": "stream",
     "text": [
      "5282 : ['What is the form of government in the place where death metal originated?']\n",
      "5283 : ['What is the indirect cause of the predecessor of street sweepers, janitors, and professionals who take care of buildings such as hospitals and schools?']\n"
     ]
    },
    {
     "name": "stdout",
     "output_type": "stream",
     "text": [
      "5284 : ['Which is Tilastopaja female athlete ID for Irena Szewińska?']\n",
      "5285 : ['what is the statement of subject of award received by Jose Ferrer in 1st Tony Awards?']\n"
     ]
    },
    {
     "name": "stdout",
     "output_type": "stream",
     "text": [
      "5286 : ['Which is the MLB ID for Willie Mays?']\n",
      "5287 : ['What did Dwayne Johnson major in at University of Miami and what was his degree?']\n"
     ]
    },
    {
     "name": "stdout",
     "output_type": "stream",
     "text": [
      "5288 : ['What is the airplane bombing with the lowest number of survivors with one of the survivors being Umar Farouk Abdulmutallab?']\n"
     ]
    },
    {
     "name": "stdout",
     "output_type": "stream",
     "text": [
      "5289 : ['Which is the Greater Region located on terrain feature of the classical antiquity?']\n"
     ]
    },
    {
     "name": "stdout",
     "output_type": "stream",
     "text": [
      "5290 : ['How many languages are used in Australia?']\n",
      "5291 : ['who theater for location of Soviet Union?']\n"
     ]
    },
    {
     "name": "stdout",
     "output_type": "stream",
     "text": [
      "5292 : ['When was Mitsubishi UFJ Financial Group owned by The Vanguard Group?']\n",
      "5293 : ['Name the bisphonel A polymer with the lowest Youngs modulus ?']\n",
      "5294 : ['During which time period did Nastia Liukin compete as a gymnast?']\n"
     ]
    },
    {
     "name": "stdout",
     "output_type": "stream",
     "text": [
      "5295 : ['Name an earthquake from Italy with the lowest vertical depth.']\n",
      "5296 : ['Which infectious disease is caused by Staphylococcus aureus?']\n",
      "5297 : ['WHO IS THE HUSBAND OF EDWARD THE CONFESSOR DAUGHTER?']\n"
     ]
    },
    {
     "name": "stdout",
     "output_type": "stream",
     "text": [
      "5298 : ['What award did Abdellatif Kechiche receive for The Secret of the Grain?']\n",
      "5299 : ['How much {together with} {prize money} of {{Henry Dunant} has {received} {Nobel Peace Prize}}?']\n",
      "5300 : ['Which is the OpenDOAR ID for Library and Archives Canada?']\n",
      "5301 : ['Port Harcourt shares the border with who?']\n"
     ]
    },
    {
     "name": "stdout",
     "output_type": "stream",
     "text": [
      "5302 : ['Is the sublimation temperature of the cobalt(III) nitrate equal to 40?']\n",
      "5303 : ['How many depictions are there of the Mona Lisa?']\n"
     ]
    },
    {
     "name": "stdout",
     "output_type": "stream",
     "text": [
      "5304 : ['What is the 3DMet ID  for ethanol?']\n"
     ]
    },
    {
     "name": "stdout",
     "output_type": "stream",
     "text": [
      "5305 : ['What is the artfor of the moveable object location of Ärztestopp?']\n",
      "5306 : ['Wich means {animal housed} for {sucessor } at {İzmir Zoo} ?']\n"
     ]
    },
    {
     "name": "stdout",
     "output_type": "stream",
     "text": [
      "5307 : ['What is pollinated by Coleoptera ?']\n",
      "5308 : ['How many Gutenberg Bible collections are there?']\n"
     ]
    },
    {
     "name": "stdout",
     "output_type": "stream",
     "text": [
      "5309 : ['Is it true that the maximum thrust of the Pratt & Whitney F100 is equal to 17800?']\n",
      "5310 : ['who is the office held by head of the organisation and secretary general of Communist_Party_of_China?']\n"
     ]
    },
    {
     "name": "stdout",
     "output_type": "stream",
     "text": [
      "5311 : ['Who were the participants of the Attack on Pearl Harbor and what effect as the end result of the attack?']\n",
      "5312 : ['What is implied of pyridine which has a route of administration by ingestion?']\n"
     ]
    },
    {
     "name": "stdout",
     "output_type": "stream",
     "text": [
      "5313 : ['What is { start time } for { Fort Lauderdale } as { Astrakhan } has { twined administrative body }?']\n",
      "5314 : ['What is the name of David Brudnoys alumni foundation?']\n"
     ]
    },
    {
     "name": "stdout",
     "output_type": "stream",
     "text": [
      "5315 : ['What are the diplomatic relations between Brunei and Canada?']\n",
      "5316 : ['Is the thermal design power of the Core i7-7700 equal to 65?']\n",
      "5317 : ['Located in the city of Washington D.C., what is the parent company of the Smithsonian Institution?']\n",
      "5318 : ['What are the binary operation which start with the letter u']\n"
     ]
    },
    {
     "name": "stdout",
     "output_type": "stream",
     "text": [
      "5319 : ['Which is the BBC News Democracy Live ID of Jeremy Corbyn?']\n"
     ]
    },
    {
     "name": "stdout",
     "output_type": "stream",
     "text": [
      "5320 : ['What is the county seat of Bandar Seri Bagawan in APEC?']\n",
      "5321 : ['Is the highest no-effect level of chlorobenzene 27.25?']\n",
      "5322 : ['Wich means{FIPS 5-2 alpha code (US states)}in {North Carolina} ?']\n"
     ]
    },
    {
     "name": "stdout",
     "output_type": "stream",
     "text": [
      "5323 : ['How many parent taxons does Brassicaceae have?']\n"
     ]
    },
    {
     "name": "stdout",
     "output_type": "stream",
     "text": [
      "5324 : ['What is the stature of CN Tower that is the standard utilized is tallness to the involved floor?']\n"
     ]
    },
    {
     "name": "stdout",
     "output_type": "stream",
     "text": [
      "5325 : ['Is it true that Maddie Zieglers first name Nicole?']\n",
      "5326 : ['Where is the {filming location} and the {narrative location} of {Reservoir_Dogs} ?']\n",
      "5327 : ['Who was the designer of the Golden Gate Bridge ?']\n",
      "5328 : ['Which is the maximum operating altitude for Airbus A380?']\n"
     ]
    },
    {
     "name": "stdout",
     "output_type": "stream",
     "text": [
      "5329 : ['How many border shares with the City of Cape Town?']\n",
      "5330 : ['What is the final time for Wayde van Niekerk has a partecipant of 2015 World Championships in Athletics - Mens 400 metres?)']\n"
     ]
    },
    {
     "name": "stdout",
     "output_type": "stream",
     "text": [
      "5331 : ['In which safety classification and taxon is Ethanol?']\n"
     ]
    },
    {
     "name": "stdout",
     "output_type": "stream",
     "text": [
      "5332 : ['Which is the Olympic sport that is an authority of International Biathlon Union and contains the word biathlon in its name?']\n"
     ]
    },
    {
     "name": "stdout",
     "output_type": "stream",
     "text": [
      "5333 : ['Joe Cockers first name is the same as which ion?']\n"
     ]
    },
    {
     "name": "stdout",
     "output_type": "stream",
     "text": [
      "5334 : ['What is the name of the location of death for Socrates, whose governor is Marta Suplicy?']\n",
      "5335 : ['When did Keith Holyoake become the Prime Minister of New Zealand?']\n"
     ]
    },
    {
     "name": "stdout",
     "output_type": "stream",
     "text": [
      "5336 : ['When did member of sports team of George Weah and number of matches played?']\n"
     ]
    },
    {
     "name": "stdout",
     "output_type": "stream",
     "text": [
      "5337 : ['Name a Norwegian radio station']\n"
     ]
    },
    {
     "name": "stdout",
     "output_type": "stream",
     "text": [
      "5338 : ['What is { award received } from { Goodfellas } that is the subject of { 63rd Academy Awards }?']\n",
      "5339 : ['When did Bobby Moore join the Seattle Sounders?']\n",
      "5340 : ['Tell me lunisolar calendar  whose name has the word calendars in it.']\n",
      "5341 : ['What position did the The Godfather hold in the Godfather trilogy?']\n"
     ]
    },
    {
     "name": "stdout",
     "output_type": "stream",
     "text": [
      "5342 : ['Who is the  {human} for {record held} of {marathon}']\n",
      "5343 : ['In Korea, why is the central bank ruled by Japan?']\n",
      "5344 : ['How many of the archives are for Grace Hopper?']\n",
      "5345 : ['Is the bite force quotient of the Vulpes vulpes equal to 92?']\n"
     ]
    },
    {
     "name": "stdout",
     "output_type": "stream",
     "text": [
      "5346 : ['Name a space observatory wose starting point is ELA-3 and that contains the word space in its name']\n",
      "5347 : ['Which English film has the longest average shot length?']\n"
     ]
    },
    {
     "name": "stdout",
     "output_type": "stream",
     "text": [
      "5348 : ['which is the type of orbit  and the parent astronomical  body of  international  space station?']\n"
     ]
    },
    {
     "name": "stdout",
     "output_type": "stream",
     "text": [
      "5349 : ['Was Jupiters child astronomical body Amalthea?']\n",
      "5350 : ['What kind of characters are in Ghost Trick: Phantom Detective?']\n",
      "5351 : ['Who created cricket in 2020?']\n"
     ]
    },
    {
     "name": "stdout",
     "output_type": "stream",
     "text": [
      "5352 : ['What award did Sidney Sheldon receive at the 20th Academy Awards?']\n"
     ]
    },
    {
     "name": "stdout",
     "output_type": "stream",
     "text": [
      "5353 : ['What competition involving Fulgencio Batista began on September 5, 1933?']\n"
     ]
    },
    {
     "name": "stdout",
     "output_type": "stream",
     "text": [
      "5354 : ['What is the star with the highest proper motion whose companion of is Alpha Centauri B ?']\n"
     ]
    },
    {
     "name": "stdout",
     "output_type": "stream",
     "text": [
      "5355 : ['What is Dewey Decimal Classification for Canton of Fribourg ?']\n",
      "5356 : ['Where is Nestor Makhno buried?']\n"
     ]
    },
    {
     "name": "stdout",
     "output_type": "stream",
     "text": [
      "5357 : ['Is the damage cost of the Tulsa Massacre 30000000?']\n",
      "5358 : ['Which is {namesake} of {Lagrange multiplier}, that has {studies} is {mathematical analysis} ?']\n"
     ]
    },
    {
     "name": "stdout",
     "output_type": "stream",
     "text": [
      "5359 : ['What is the determination method for a substance dependence that has the genetic association of PLEKHG1?']\n"
     ]
    },
    {
     "name": "stdout",
     "output_type": "stream",
     "text": [
      "5360 : ['Is it true that the speed of sound through water is less than 1197.6?']\n",
      "5361 : ['Who is the important person behind Rumi?']\n"
     ]
    },
    {
     "name": "stdout",
     "output_type": "stream",
     "text": [
      "5362 : ['What academic degree did Georges Méliès earn at Lycée Louis-le-Grand?']\n",
      "5363 : ['What is the native language and also the languages spoken, written or signed by Iggy Pop?']\n"
     ]
    },
    {
     "name": "stdout",
     "output_type": "stream",
     "text": [
      "5364 : ['What was Neil Simon nominated for and when?']\n",
      "5365 : ['The Dijkstras algorithm is named after which mathematician?']\n"
     ]
    },
    {
     "name": "stdout",
     "output_type": "stream",
     "text": [
      "5366 : ['What is sex or gender for Mick Jagger ?']\n",
      "5367 : ['Is the moisture absorption rate of the akroloy para ICF 40 equal to 1.1?']\n"
     ]
    },
    {
     "name": "stdout",
     "output_type": "stream",
     "text": [
      "53685369 : ['In what way can things be described as similar that starts with the letter n?']\n",
      " : ['How many people visit the Counter-Reformation every year?']\n",
      "5370 : ['What is the parent organization of the International Court of Justice?']\n",
      "5371 : ['How long was George VI ruled as a monarch?']\n"
     ]
    },
    {
     "name": "stdout",
     "output_type": "stream",
     "text": [
      "5372 : ['Who is chairwoman party membership of Jack Horner ?']\n"
     ]
    },
    {
     "name": "stdout",
     "output_type": "stream",
     "text": [
      "5373 : ['With which transcontinental countries did the Empire of Japan have diplomatic relations?']\n"
     ]
    },
    {
     "name": "stdout",
     "output_type": "stream",
     "text": [
      "5374 : ['What is the name of of Jose de San Marin in Portuguese?']\n"
     ]
    },
    {
     "name": "stdout",
     "output_type": "stream",
     "text": [
      "5375 : ['Who created this painting of Charles I of England?']\n",
      "5376 : ['Which is the house commissioned by James Watt?']\n",
      "5377 : ['What is Anatoly Karpovs work location where official language if Russian?']\n"
     ]
    },
    {
     "name": "stdout",
     "output_type": "stream",
     "text": [
      "5378 : ['Who was Jiang Qings spouse after 1936?']\n",
      "5379 : ['What is the position of Bernie Sanders and his electoral district?']\n",
      "5380 : ['What is the largest group of species?']\n",
      "5381 : ['What is {order} of {first Earl of Avon}, that has {break down} is {1966-0-0} ?']\n"
     ]
    },
    {
     "name": "stdout",
     "output_type": "stream",
     "text": [
      "5382 : ['What are the Catholic cathedral which start with the letter saint']\n",
      "5383 : ['who is played by next of Perfect Day ?']\n"
     ]
    },
    {
     "name": "stdout",
     "output_type": "stream",
     "text": [
      "5384 : ['Who is {educated by} of {artist} of {Tout le monde} ?']\n"
     ]
    },
    {
     "name": "stdout",
     "output_type": "stream",
     "text": [
      "5385 : ['What is the symbol indicating an equation?']\n",
      "5386 : ['What was the population of San Francisco at the beginning of 1880?']\n"
     ]
    },
    {
     "name": "stdout",
     "output_type": "stream",
     "text": [
      "5387 : ['What is work period start for Corín Tellado ?']\n",
      "5388 : ['When did Charles the Fat get the noble title as King of Aquitane?']\n"
     ]
    },
    {
     "name": "stdout",
     "output_type": "stream",
     "text": [
      "5389 : ['Does the dolabriferol C have a specific rotation equal to -36.16?']\n"
     ]
    },
    {
     "name": "stdout",
     "output_type": "stream",
     "text": [
      "5390 : ['Emma Stones hair is what color?']\n",
      "5391 : ['Which is the Sega8bit.com identifier for Kings Quest: Quest for the Crown?']\n"
     ]
    },
    {
     "name": "stdout",
     "output_type": "stream",
     "text": [
      "5392 : ['When Gamal Abdel Nasser} started his position as Prime Minister of Egypt?']\n",
      "5393 : ['Who is the {gene} for {genetic association} of {allergic rhinitis}']\n"
     ]
    },
    {
     "name": "stdout",
     "output_type": "stream",
     "text": [
      "5394 : ['What are the disjoint union and opposite of Real numbers?']\n"
     ]
    },
    {
     "name": "stdout",
     "output_type": "stream",
     "text": [
      "5395 : ['What is the start time for Auguste Comte and his spouse Caroline Massin']\n",
      "5396 : ['What is the diplomatic relation between Tunisia and its official language Tuvan?']\n",
      "5397 : ['Is the clock speed of the Uzebox less than 34.32?']\n"
     ]
    },
    {
     "name": "stdout",
     "output_type": "stream",
     "text": [
      "5398 : ['What team was Pele apart of on January 1st 1957?']\n",
      "5399 : ['What was the sports team for Guus Hiddink in 1978-1-1?']\n"
     ]
    },
    {
     "name": "stdout",
     "output_type": "stream",
     "text": [
      "5400 : ['John Ford was nominated for the Academy Award for Best Picture for which movie?']\n",
      "5401 : ['What year was John Hunyadi buried?']\n",
      "5402 : ['What is the correct way to say ecology in German?']\n"
     ]
    },
    {
     "name": "stdout",
     "output_type": "stream",
     "text": [
      "5403 : ['Which is the surface tension of ethyl acetate?']\n",
      "5404 : ['When did Uppsala University start the Gregorian Calendar, was it earlier than 1584']\n"
     ]
    },
    {
     "name": "stdout",
     "output_type": "stream",
     "text": [
      "5405 : ['Which is the end and start time of Barnaul which is located in the administrative territorial entity as West Siberian Krai?']\n"
     ]
    },
    {
     "name": "stdout",
     "output_type": "stream",
     "text": [
      "5406 : ['What is the name of the study that isolated diabetes mellitus?']\n",
      "5407 : ['Which is the collage image for Boston?']\n",
      "5408 : ['What are the symptoms and medical tests needed to treat lung cancer?']\n"
     ]
    },
    {
     "name": "stdout",
     "output_type": "stream",
     "text": [
      "5409 : ['What city is the county seat of Norfolk?']\n",
      "5410 : ['What is the ITF wheelchair player ID for Shingo Kunieda?']\n",
      "5411 : ['What language of URL is Oku no Hosomichi, that has typology in subject-object-verb language?\\nName the language of URL of Oku no Hosomichi, that is typology of subject-object-verb language?']\n",
      "5412 : ['Which is the national library for the archives of James Joyce?']\n"
     ]
    },
    {
     "name": "stdout",
     "output_type": "stream",
     "text": [
      "5413 : ['What is the reference for Louis-Nicolas Davout who was burried in the Pere Lachaise Cemetery?']\n"
     ]
    },
    {
     "name": "stdout",
     "output_type": "stream",
     "text": [
      "5414 : ['Who gave the  {food plant} of {landscape of} of {Laguiole knife} ?']\n",
      "5415 : ['What are the names of the characters in E.T. the Extra-Terrestrial?']\n"
     ]
    },
    {
     "name": "stdout",
     "output_type": "stream",
     "text": [
      "5416 : ['When did Donald Crisp win the Academy Award for Best Supporting Actor?']\n",
      "5417 : ['How many symptoms are there of mercury poisoning?']\n"
     ]
    },
    {
     "name": "stdout",
     "output_type": "stream",
     "text": [
      "5418 : ['What is the standard deviation of the Classification of Instructional Programs ID?']\n"
     ]
    },
    {
     "name": "stdout",
     "output_type": "stream",
     "text": [
      "5419 : ['What material is used in a gravitational wave and what is the effect of it?']\n",
      "5420 : ['What is formed at  graduated from of Christopher Marlowe ?']\n"
     ]
    },
    {
     "name": "stdout",
     "output_type": "stream",
     "text": [
      "5421 : ['Which is the JMK film rating for Titanic?']\n"
     ]
    },
    {
     "name": "stdout",
     "output_type": "stream",
     "text": [
      "5422 : ['When did Coventry have a population of 316900?']\n",
      "5423 : ['Which landlocked country has the highest GDP PPP?']\n"
     ]
    },
    {
     "name": "stdout",
     "output_type": "stream",
     "text": [
      "5424 : ['What is the EU Vat number of Ferrovie dello Stato Italiane?']\n",
      "5425 : ['Which is {founded by} the {subsidiary} of {Southwest_Airlines} ?']\n"
     ]
    },
    {
     "name": "stdout",
     "output_type": "stream",
     "text": [
      "5426 : ['What criteria was used for the 9th of September?']\n",
      "5427 : ['What does CBS do?']\n",
      "5428 : ['What is Eason Chan youngster?']\n",
      "5429 : ['Which nominees won Circuit Community Awards for the film, Fight Club?']\n"
     ]
    },
    {
     "name": "stdout",
     "output_type": "stream",
     "text": [
      "5430 : ['Is the sports league level of Cypriot First Division equal to 1.2?']\n",
      "5431 : ['What is the written language of Jean Arp, which is originally labeled as langue française?']\n",
      "5432 : ['Who started serving as the Zambia head of state on 10-24-1964?']\n"
     ]
    },
    {
     "name": "stdout",
     "output_type": "stream",
     "text": [
      "5433 : ['Which is the triumphal arch that Jean Chalgrin was the architect and contains the word arc in its name!']\n"
     ]
    },
    {
     "name": "stdout",
     "output_type": "stream",
     "text": [
      "5434 : ['Who was the U.S. Secretary of State after William H. Seward?']\n",
      "5435 : ['What is the field of action of the parent company of Claro?']\n",
      "5436 : ['Which is the free and open-source software that is named after Linux?']\n"
     ]
    },
    {
     "name": "stdout",
     "output_type": "stream",
     "text": [
      "5437 : ['Who is the voice actor of the character Loretta Brown from the Family Guy?']\n"
     ]
    },
    {
     "name": "stdout",
     "output_type": "stream",
     "text": [
      "5438 : ['Which is the Manitoba Sports Hall of Fame athlete ID for Bobby Hull?']\n"
     ]
    },
    {
     "name": "stdout",
     "output_type": "stream",
     "text": [
      "5439 : ['Which is National Baseball Hall of Fame and Museum of Willie Mays']\n",
      "5440 : ['Where did Vint Cerf have an academic major of mathematics?']\n",
      "5441 : ['Which is Star Wars Databank ID for Princess Leia?']\n"
     ]
    },
    {
     "name": "stdout",
     "output_type": "stream",
     "text": [
      "5442 : ['What murder method of Camaron de la Isla is due to air pollution?']\n",
      "5443 : ['Tell me the intelligence agency which has as parent organization the Foreign and Commonwealth Office and contains the word intelligence in its name?']\n",
      "5444 : ['WHAT COLOR IS THE HOUSE']\n"
     ]
    },
    {
     "name": "stdout",
     "output_type": "stream",
     "text": [
      "5445 : ['What award was The Shawshank Redemption nominated for']\n"
     ]
    },
    {
     "name": "stdout",
     "output_type": "stream",
     "text": [
      "5446 : ['When is John Betjeman most fertile?']\n",
      "5447 : ['What award did John Wayne receive in 2007?']\n",
      "5448 : ['Is it true that the Mohs hardness of pyrite equals to 6?']\n"
     ]
    },
    {
     "name": "stdout",
     "output_type": "stream",
     "text": [
      "5449 : ['What is the name of the skyscraper that has an architectural style of neo-futurism and that starts with the letter t?']\n",
      "5450 : ['Tell me the name of solstice which starts with s']\n",
      "5451 : ['What country did John Barrymore die in if the city was Los Angeles?']\n"
     ]
    },
    {
     "name": "stdout",
     "output_type": "stream",
     "text": [
      "5452 : ['What is the name of the Looney Tunes bird?']\n"
     ]
    },
    {
     "name": "stdout",
     "output_type": "stream",
     "text": [
      "5453 : ['what are the military rank which starts with s']\n",
      "5454 : ['What is part of the background of Iran, that has racial group of I.A.?']\n"
     ]
    },
    {
     "name": "stdout",
     "output_type": "stream",
     "text": [
      "5455 : ['When did Daniel Auster become Mayor of Jerusalem?']\n",
      "5456 : ['Where was Boney M. born in 1975?']\n"
     ]
    },
    {
     "name": "stdout",
     "output_type": "stream",
     "text": [
      "5457 : ['What film was Steven Soderbergh nominated for Satellite Award for Best Director?']\n",
      "5458 : ['What is the Japan-Korea Treaty of 1910?']\n"
     ]
    },
    {
     "name": "stdout",
     "output_type": "stream",
     "text": [
      "5459 : ['What are the music genre which start with the letter s']\n",
      "5460 : ['Who was head of the Munich government until 06/30/1993?']\n"
     ]
    },
    {
     "name": "stdout",
     "output_type": "stream",
     "text": [
      "5461 : ['Which is {has local government areas} of {Louisiana}, that has {year created} is {1886-6-30} ?']\n"
     ]
    },
    {
     "name": "stdout",
     "output_type": "stream",
     "text": [
      "5462 : ['What is the {geological type locality} of {sylvite} that was involved in the {significant incident} of the {Mount Vesuvius eruption of 1631}?']\n",
      "5463 : ['Which is the minimal incubation period in humans for malaria?']\n",
      "5464 : ['When did Kara Hui win the Hong Kong Film Award for Best Supporting Actress?']\n"
     ]
    },
    {
     "name": "stdout",
     "output_type": "stream",
     "text": [
      "5465 : ['What is Dictionary of Sydney ID for Sydney Harbour Bridge ?']\n",
      "5466 : ['What is the name of the famous Roman stadium']\n"
     ]
    },
    {
     "name": "stdout",
     "output_type": "stream",
     "text": [
      "5467 : ['Which is the Catalogue of Life in Taiwan ID for Carica papaya?']\n"
     ]
    },
    {
     "name": "stdout",
     "output_type": "stream",
     "text": [
      "5468 : ['Who is the devout Episcopal child of Casey Affleck?']\n",
      "5469 : ['What is in the category of dessert?']\n"
     ]
    },
    {
     "name": "stdout",
     "output_type": "stream",
     "text": [
      "5470 : ['What are the moons of Pluto']\n",
      "5471 : ['In the history of Peru, What is the total fertility rate of women?']\n",
      "5472 : ['What position did Umar ibn Al-Khattab hold starting in 634-0-0?']\n"
     ]
    },
    {
     "name": "stdout",
     "output_type": "stream",
     "text": [
      "5473 : ['What international organizations are subsidiaries of the UN General Assembly?']\n",
      "5474 : ['What is the economic activity that starts with the letter v?']\n",
      "5475 : ['WHICH IS THE RAILROAD WITH THE MAXIMUM GRADIENT']\n"
     ]
    },
    {
     "name": "stdout",
     "output_type": "stream",
     "text": [
      "5476 : ['Which is the organization for what is said to be the same of Scientology?']\n"
     ]
    },
    {
     "name": "stdout",
     "output_type": "stream",
     "text": [
      "5477 : ['Tom Brady plays what position on which team?']\n"
     ]
    },
    {
     "name": "stdout",
     "output_type": "stream",
     "text": [
      "5478 : ['Which are the measures for weighing scale?']\n",
      "5479 : ['What was the earthquake magnitude on the moment magnitude scale of the 2011 Tōhoku earthquake and tsunami?']\n"
     ]
    },
    {
     "name": "stdout",
     "output_type": "stream",
     "text": [
      "5480 : ['Does Bharat Sanchar Nigam have more than 96,800,000 subscribers?']\n",
      "5481 : ['Tell me water deity whose name has the word yinglong in it.']\n",
      "5482 : ['Name the constituent behind the Dewey Decimal Classification']\n"
     ]
    },
    {
     "name": "stdout",
     "output_type": "stream",
     "text": [
      "5483 : ['Which is the youth organization for the language of Hebrew?']\n"
     ]
    },
    {
     "name": "stdout",
     "output_type": "stream",
     "text": [
      "5484 : ['Who is the organizer of FIFA World Cup?']\n"
     ]
    },
    {
     "name": "stdout",
     "output_type": "stream",
     "text": [
      "5485 : ['What is Dmitry Medvedevs Declarator.org ID?']\n"
     ]
    },
    {
     "name": "stdout",
     "output_type": "stream",
     "text": [
      "5486 : ['What are the trigonometric function which start with the letter v']\n",
      "5487 : ['What did Katherine Dunham study at the University of Chicago and what was her academic degree in?']\n",
      "5488 : ['Which is the standard enthalpy of formation of ethane?']\n",
      "5489 : ['When did Ray Bradbury get the doctor honoris causa degree?']\n"
     ]
    },
    {
     "name": "stdout",
     "output_type": "stream",
     "text": [
      "5490 : ['Who {has sons} of {daddy} {Noel Tata} ?']\n",
      "5491 : ['What degree did Emma Watson earn at Brown University?']\n"
     ]
    },
    {
     "name": "stdout",
     "output_type": "stream",
     "text": [
      "5492 : ['What is the word for cattle in Tamil?']\n"
     ]
    },
    {
     "name": "stdout",
     "output_type": "stream",
     "text": [
      "5493 : ['What is the Official name of Lahore?']\n",
      "5494 : ['Name an fictionnal planet similar to the sun that contains the word vulcan  in its name']\n"
     ]
    },
    {
     "name": "stdout",
     "output_type": "stream",
     "text": [
      "5495 : ['Which award did Mike Trout receive and to which league does he belong?']\n",
      "5496 : ['Did Britney Spears speak, write, or sign Old English?']\n"
     ]
    },
    {
     "name": "stdout",
     "output_type": "stream",
     "text": [
      "5497 : ['Is the number of players in region of rugby union in Kenya equal to 42904?']\n",
      "5498 : ['Which is the character from Star Wars that has the first appearance in the Star Wars Episode IV: A New Hope and starts with the letter l?']\n",
      "5499 : ['Which is NLR Romania ID for Herman Melville?']\n"
     ]
    },
    {
     "name": "stdout",
     "output_type": "stream",
     "text": [
      "5500 : ['What country is Abuja the capitol of?']\n"
     ]
    },
    {
     "name": "stdout",
     "output_type": "stream",
     "text": [
      "5501 : ['Who is {chief executive} of {manufacturer} of {IBM 7030 Stretch} ?']\n",
      "5502 : ['who Vidhan Sabha for executive body of manipur?']\n",
      "5503 : ['Which version of iOS did the 1st generation iPod Touch run?']\n"
     ]
    },
    {
     "name": "stdout",
     "output_type": "stream",
     "text": [
      "5504 : ['Which UCI ProTeam has the highest budget?']\n",
      "5505 : ['Which is the genomic end of RHO?']\n"
     ]
    },
    {
     "name": "stdout",
     "output_type": "stream",
     "text": [
      "5506 : ['How in what year was James K. Polk govenor of Tennesse']\n"
     ]
    },
    {
     "name": "stdout",
     "output_type": "stream",
     "text": [
      "5507 : ['What was the population of Melilla in 2016-1-1?']\n",
      "5508 : ['When did Tanya Roberts leave the Charlies Angels cast?']\n"
     ]
    },
    {
     "name": "stdout",
     "output_type": "stream",
     "text": [
      "5509 : ['Kristi Yamaguchi won what sport in the Olympics?']\n",
      "5510 : ['The conjugate base of ammonia is what chemical compound?']\n",
      "5511 : ['what is the work  for Neil Gaiman has award received as Locus Award for Best Collection?']\n"
     ]
    },
    {
     "name": "stdout",
     "output_type": "stream",
     "text": [
      "5512 : ['What was approved by Fuji followed by McIntosh?']\n",
      "5513 : ['Gisli Jonsson replaced Bertil Ohlin in what position?']\n"
     ]
    },
    {
     "name": "stdout",
     "output_type": "stream",
     "text": [
      "5514 : ['When did lmus have a population of 301624.0?']\n",
      "5515 : ['What is Clochers de France ID of Notre Dame de Paris ?']\n",
      "5516 : ['Is the fee of the Ueno Zoo greater than 240.0?']\n",
      "5517 : ['What is Minecraft – Pocket Editions field of exercise ?']\n"
     ]
    },
    {
     "name": "stdout",
     "output_type": "stream",
     "text": [
      "5518 : ['Who is born at Tilda Swinton, which has a partner town of Baku?']\n",
      "5519 : ['WHO was the commonwealth participant of the north african campaign?']\n"
     ]
    },
    {
     "name": "stdout",
     "output_type": "stream",
     "text": [
      "5520 : ['What is the official language for Patna?']\n",
      "5521 : ['What country is located in the administrative territorial entity of Khyber Pakhtunkhwa?']\n"
     ]
    },
    {
     "name": "stdout",
     "output_type": "stream",
     "text": [
      "5522 : ['Iggy Pop is a member of what band?']\n"
     ]
    },
    {
     "name": "stdout",
     "output_type": "stream",
     "text": [
      "5523 : ['Is Houston the twinned administrative body of Luanda and Guayaquil?']\n"
     ]
    },
    {
     "name": "stdout",
     "output_type": "stream",
     "text": [
      "5524 : ['What is adapted from mathematical analysis that has a Q48460 of 515?']\n",
      "5525 : ['How many presenters are for Top Gear?']\n"
     ]
    },
    {
     "name": "stdout",
     "output_type": "stream",
     "text": [
      "5526 : ['Name the Burial Plot referance for Claude Bernard who was burried in Pere Lachaise cemetery?']\n",
      "5527 : ['Where did Mashhur bin Abdulaziz Al Sauds father die?']\n"
     ]
    },
    {
     "name": "stdout",
     "output_type": "stream",
     "text": [
      "5528 : ['What is Watt based on the way to measure the physical quantity?']\n"
     ]
    },
    {
     "name": "stdout",
     "output_type": "stream",
     "text": [
      "5529 : ['Does the student count of the Heilbronn School of Business equal 128?']\n",
      "5530 : ['What are the film studio which start with the letter s']\n",
      "5531 : ['Where is the location of the river source for the Hudson River?']\n"
     ]
    },
    {
     "name": "stdout",
     "output_type": "stream",
     "text": [
      "5532 : ['Name a chemical element located in the UK that contains the word strontium in its name']\n",
      "5533 : ['Which asteroid has got the most orbital inclination?']\n",
      "5534 : ['Which award did Jacinto Benavente receive in the year 1922?']\n",
      "5535 : ['Which is the Fotografen.nl ID of Harold Eugene Edgerton?']\n"
     ]
    },
    {
     "name": "stdout",
     "output_type": "stream",
     "text": [
      "5536 : ['Name the comicbook publisher formerly known as All-American Publications that contains the word comics in its name']\n",
      "5537 : ['How many developers are placed at Department of Defense?']\n",
      "5538 : ['What is the number of out of school children of the continent of Sub-Saharan Africa?']\n",
      "5539 : ['What is pronunciation audio made from pork ?']\n"
     ]
    },
    {
     "name": "stdout",
     "output_type": "stream",
     "text": [
      "5540 : ['When did Octavio Paz receive a John Simon Guggenheim Memorial Foundation Fellowship?']\n",
      "5541 : ['when {{Konrad Lorenz} has {received} as {Nobel Prize in Physiology or Medicine}} ?']\n",
      "5542 : ['Which is {birthplace} {state} of {Victor Emmanuel I of Sardinia} ?']\n",
      "5543 : ['What is the sport of the International Canoe Federation that has association with  kayaking?']\n"
     ]
    },
    {
     "name": "stdout",
     "output_type": "stream",
     "text": [
      "5544 : ['Who is the film editor and director of Reservoir Dogs?']\n",
      "5545 : ['Where in the Kingdom of Italy was the birthplace of Anna Magnani?']\n"
     ]
    },
    {
     "name": "stdout",
     "output_type": "stream",
     "text": [
      "5546 : ['What time is it at the twin town of Denpasar?']\n",
      "5547 : ['When was Pericles born, given that the Gregorian  date of his birth is earlier than 1584']\n"
     ]
    },
    {
     "name": "stdout",
     "output_type": "stream",
     "text": [
      "5548 : ['What is geomorphological unit of East European Plain ?']\n",
      "5549 : ['What commodity did the creators of the Logitech 3D mouse at Musée Bolo use?']\n"
     ]
    },
    {
     "name": "stdout",
     "output_type": "stream",
     "text": [
      "5550 : ['What is the profession of Amartya Sen, whose patron saint is Santo Tomás de Aquinas?']\n"
     ]
    },
    {
     "name": "stdout",
     "output_type": "stream",
     "text": [
      "5551 : ['What language did Nancy and Viscountess Astor speak in the welcome banner.jpg?']\n"
     ]
    },
    {
     "name": "stdout",
     "output_type": "stream",
     "text": [
      "5552 : ['How is Johanna Hiedler related to Adolf Hitler?']\n",
      "5553 : ['Does Delta Air Lines make $552,284,000,000?']\n",
      "5554 : ['What is the form of government of the country William Kidd was born in?']\n",
      "5555 : ['Is it true that the electric charge of the pion equals to -1?']\n"
     ]
    },
    {
     "name": "stdout",
     "output_type": "stream",
     "text": [
      "5556 : ['Which brand is located in Barcelona?']\n",
      "5557 : ['When is the end time of the Republic of Tartarstan whom Rostam Minnexanov was head of government?']\n",
      "5558 : ['What is the Catalogus Professorum Academiae Groninganae ID of Johan Huizinga?']\n"
     ]
    },
    {
     "name": "stdout",
     "output_type": "stream",
     "text": [
      "5559 : ['which is the name in native language of Antonio Inoki that of  name in kana is {アントニオ いのき ?']\n"
     ]
    },
    {
     "name": "stdout",
     "output_type": "stream",
     "text": [
      "5560 : ['who is the Vidhan Sabha for legislative body of Assam?']\n",
      "5561 : ['What position was held by Richard Nixon that was later taken by Gerald Ford?']\n"
     ]
    },
    {
     "name": "stdout",
     "output_type": "stream",
     "text": [
      "5562 : ['What is the resting place of Hayreddin Barbarossa, that has a sister in Lagos?']\n",
      "5563 : ['Which is {member of} {sovereign state} of {province of China} ?']\n"
     ]
    },
    {
     "name": "stdout",
     "output_type": "stream",
     "text": [
      "5564 : ['Is it true that the maximum temperature record of Antarctica is less than 21?']\n",
      "5565 : ['Which talk show did Ellen DeGeneres create?']\n",
      "5566 : ['Pentachoron is dual to what?']\n"
     ]
    },
    {
     "name": "stdout",
     "output_type": "stream",
     "text": [
      "5567 : ['What is position held by Charles VIII of France who replaces Louis XI of France?']\n",
      "5568 : ['What is the capital of the secular state of Montevideo?']\n",
      "5569 : ['Which extrasolar planet within the constellation Aquarius has the smallest radius?']\n"
     ]
    },
    {
     "name": "stdout",
     "output_type": "stream",
     "text": [
      "5570 : ['Was Yul Brynner nominated for both the Academy Award for Best Actor and Drama Desk Award for Outstanding Featured Actor in a Musical?']\n",
      "5571 : ['What award did Gwen Stefani win with Eve?']\n"
     ]
    },
    {
     "name": "stdout",
     "output_type": "stream",
     "text": [
      "5572 : ['At what point in time did Dnipro have a population of 1189000?']\n",
      "5573 : ['Who is the person in the significant event of the dissolution of the Soviet Union?']\n"
     ]
    },
    {
     "name": "stdout",
     "output_type": "stream",
     "text": [
      "5574 : ['Tell me what follows the Lion King series for the Walt Disney Animation Studios films.']\n",
      "5575 : ['What is the body of standards of the International Organization for Standardization?']\n",
      "5576 : ['What award did Nicolai Kryuchkov win on December 23, 1980?']\n",
      "5577 : ['WHAT ARE COMIC GENRE WHICH START WITH THE LETTER N']\n"
     ]
    },
    {
     "name": "stdout",
     "output_type": "stream",
     "text": [
      "5578 : ['Who is the founder of physical geography that was awarded Honorary citizen of Berlin?']\n",
      "5579 : ['Who is the chairperson of Coptic Orthodox Church of Alexandria?']\n"
     ]
    },
    {
     "name": "stdout",
     "output_type": "stream",
     "text": [
      "5580 : ['Which is the PhilPapers publication ID of Mind?']\n",
      "5581 : ['Wikipedia is the operator of what foundation?']\n",
      "5582 : ['What is the Kinopoisk film ID for Dragon Ball Z?']\n"
     ]
    },
    {
     "name": "stdout",
     "output_type": "stream",
     "text": [
      "5583 : ['At what private university did the employer of Linus Pauling work in?']\n",
      "5584 : ['Are Tintin and Snowy characters from The Adventures of Tintin?']\n",
      "5585 : ['Who did Rod Steiger marry in 1959?']\n"
     ]
    },
    {
     "name": "stdout",
     "output_type": "stream",
     "text": [
      "5586 : ['What are the DNB editions of the King James Version?']\n"
     ]
    },
    {
     "name": "stdout",
     "output_type": "stream",
     "text": [
      "5587 : ['Thomas Hunt Morgan is a doctoral advisor to how many?']\n",
      "5588 : ['Charles the Bald position is what and he got his position after which person?']\n"
     ]
    },
    {
     "name": "stdout",
     "output_type": "stream",
     "text": [
      "5589 : ['In which metropolitan region of terrain feature is Frankfurt located?']\n",
      "5590 : ['Which {number of points/goals/set scored} and {number of matches played} of {{Matt Busby} has {member of sports team} as {Liverpool F.C.}}']\n"
     ]
    },
    {
     "name": "stdout",
     "output_type": "stream",
     "text": [
      "5591 : ['Who preceded and followed Chlothar II, King of Franks?']\n"
     ]
    },
    {
     "name": "stdout",
     "output_type": "stream",
     "text": [
      "5592 : ['What Spanish election to the Parliament of Catalonia had the fewest legitimate votes?']\n",
      "5593 : ['Is George OLearys number of losses of less than 121.2?']\n"
     ]
    },
    {
     "name": "stdout",
     "output_type": "stream",
     "text": [
      "5594 : ['Tell me me a republic whose name consist of the word republic and whose capital venice']\n",
      "5595 : ['What are the aspect of histor which start with the letter r']\n",
      "5596 : ['At what end time did Adolphe Thiers give up his position held as the head of government in France?']\n",
      "5597 : ['What is the history of the Indian Reserve at Nanyang Technological University?']\n"
     ]
    },
    {
     "name": "stdout",
     "output_type": "stream",
     "text": [
      "5598 : ['What was China previous dynasty before Yuan ?']\n"
     ]
    },
    {
     "name": "stdout",
     "output_type": "stream",
     "text": [
      "5599 : ['Tell me which is the commune of France with specific status which contains the word èze in its name?']\n",
      "5600 : ['Tell me about position held of Vladimir Putin and manager/director?']\n"
     ]
    },
    {
     "name": "stdout",
     "output_type": "stream",
     "text": [
      "5601 : ['What is the royal house of the manager of the Order of Saint John Bailiwick of Brandenburg?']\n",
      "5602 : ['Name a landmark located in the administrative territorial entity of Old Toronto that starts with letter C']\n",
      "5603 : ['Which Hanseatic city has a twinned administrative body of Thessaloniki?']\n"
     ]
    },
    {
     "name": "stdout",
     "output_type": "stream",
     "text": [
      "5604 : ['What is the career of the creators of The Sims?']\n"
     ]
    },
    {
     "name": "stdout",
     "output_type": "stream",
     "text": [
      "5605 : ['Biotin is used against which disease ?']\n",
      "5606 : ['Who is starring in the film series The Heather Biblow Story?']\n",
      "5607 : ['What is the sister city of Kharkiv which has a population of 850?']\n"
     ]
    },
    {
     "name": "stdout",
     "output_type": "stream",
     "text": [
      "5608 : ['Is Transport Layer Security used by Extensible Authentication Protocol and SMPTPS?']\n",
      "5609 : ['What are the  type of software which start with the letter s']\n"
     ]
    },
    {
     "name": "stdout",
     "output_type": "stream",
     "text": [
      "5610 : ['Does the collection or exhibition size of William S. soule photographs of Arapaho , Cheyenna,Kiowa,Comanche, and Apache indians equal to 0?']\n",
      "5611 : ['What {on the shore of} the {Mid-Atlantic Ridge}, is a {tributary} of the {Albemarle Sound}']\n"
     ]
    },
    {
     "name": "stdout",
     "output_type": "stream",
     "text": [
      "5612 : ['How many wears for Michael Jordan?']\n"
     ]
    },
    {
     "name": "stdout",
     "output_type": "stream",
     "text": [
      "5613 : ['What are the list of characters for the Doctor Who} ?']\n",
      "5614 : ['Who is the perpetrator of the battle of Armin Thiede?']\n"
     ]
    },
    {
     "name": "stdout",
     "output_type": "stream",
     "text": [
      "5615 : ['Amtrak is the owner of which tower station ?']\n",
      "5616 : ['When was Nnamdi Azikiwe the President of Nigeria?']\n",
      "5617 : ['When did Sebastian Cole hold the position of the President of the Olympic Organizing Committee?']\n"
     ]
    },
    {
     "name": "stdout",
     "output_type": "stream",
     "text": [
      "5618 : ['How was Vermonts population of 359,231 tabulated ?']\n"
     ]
    },
    {
     "name": "stdout",
     "output_type": "stream",
     "text": [
      "5619 : ['who is the birth house for place of birth of Ronald Reagan?']\n"
     ]
    },
    {
     "name": "stdout",
     "output_type": "stream",
     "text": [
      "5620 : ['Isiah Thomas plays for which country and plays which position?']\n",
      "5621 : ['Is the Trans-Gabon Railway maximum gradient equal to 8?']\n"
     ]
    },
    {
     "name": "stdout",
     "output_type": "stream",
     "text": [
      "5622 : ['What is Proxima Centauris companion?']\n"
     ]
    },
    {
     "name": "stdout",
     "output_type": "stream",
     "text": [
      "5623 : ['What TV character did Benn Affleck perform?']\n"
     ]
    },
    {
     "name": "stdout",
     "output_type": "stream",
     "text": [
      "5624 : ['Why did October Revolution got devastated and who was responsible behind it?']\n",
      "5625 : ['When was the population of Special Region of Yogyakarta 3,542,078?']\n"
     ]
    },
    {
     "name": "stdout",
     "output_type": "stream",
     "text": [
      "5626 : ['What are the scores measured by the intelligence quotient (I.Q.)?']\n",
      "5627 : ['Which was the last year John Russell, 1st Earl Russell held the position of the Lord President of the Council?']\n"
     ]
    },
    {
     "name": "stdout",
     "output_type": "stream",
     "text": [
      "5628 : ['When did Sacha Baron Cohen receive the LA Film Critics Assoc. Award for Best Actor?']\n"
     ]
    },
    {
     "name": "stdout",
     "output_type": "stream",
     "text": [
      "5629 : ['What was Gerry Adams position held that cause the dissolution of parliament?']\n",
      "5630 : ['What is located in the administrative unit of Aquascalientes, which has boroughs  called Nayarit?']\n"
     ]
    },
    {
     "name": "stdout",
     "output_type": "stream",
     "text": [
      "5631 : ['Which is the license plate code for Greece?']\n"
     ]
    },
    {
     "name": "stdout",
     "output_type": "stream",
     "text": [
      "5632 : ['How many terrorists are in the terrorist group Hezbollah?']\n",
      "5633 : ['tell me about sedative contains the word nutmeg in their name']\n",
      "5634 : ['Which populat TV series features Christine Prayon']\n"
     ]
    },
    {
     "name": "stdout",
     "output_type": "stream",
     "text": [
      "5635 : ['Is the boiler pressure of the SNCF 141.R equal to 15.5?']\n",
      "5636 : ['Tell me about academic degree of Ludwig Wittgenstein and educated at?']\n",
      "5637 : ['Which is the mandate of human rights?']\n",
      "5638 : ['Chronic Obstructive Pulmonary Disease falls into which health speciality and which drug is used for its treatment?']\n"
     ]
    },
    {
     "name": "stdout",
     "output_type": "stream",
     "text": [
      "5639 : ['What portable computer had MS-DOS as the operating system?']\n",
      "5640 : ['When did landlocked country for currency of Russian ruble?']\n",
      "5641 : ['What is MusicBrainz place ID for Cardiff University ?']\n",
      "5642 : ['What does a prescription drug for bipolar disorder do?']\n",
      "5643 : ['Did {Telangana} {contain administrative territorial entity} {Nalgonda District} and {Yadadri Bhuvanagiri district}']\n"
     ]
    },
    {
     "name": "stdout",
     "output_type": "stream",
     "text": [
      "5644 : ['Which films is Mary Pickerford in?']\n"
     ]
    },
    {
     "name": "stdout",
     "output_type": "stream",
     "text": [
      "5645 : ['What group had effect on Congress of Vienna?']\n"
     ]
    },
    {
     "name": "stdout",
     "output_type": "stream",
     "text": [
      "5646 : ['Who participated in the conflict of Central Powers that preceded World War II?']\n"
     ]
    },
    {
     "name": "stdout",
     "output_type": "stream",
     "text": [
      "5647 : ['What award did Yuri Gagarin receive on April 29, 1961?']\n",
      "5648 : ['What encyclopedia covers encyclopedias?']\n"
     ]
    },
    {
     "name": "stdout",
     "output_type": "stream",
     "text": [
      "5649 : ['What is the location of Feng Youlans death that has a twin city named Minsk?']\n",
      "5650 : ['How many first aid measures are there for mercury poisoning?']\n",
      "5651 : ['Who is {disciple} and {supervisor} of {David Ward-Steinman} ?']\n"
     ]
    },
    {
     "name": "stdout",
     "output_type": "stream",
     "text": [
      "5652 : ['Tell me about the state in the Confederation of the Rhine located in the administrative territorial entity of Weimar Republic.']\n",
      "5653 : ['Tell me intensive quantity whose name has the word volume in it.']\n"
     ]
    },
    {
     "name": "stdout",
     "output_type": "stream",
     "text": [
      "5654 : ['What award did Sylvia Chang receive in 1986?']\n",
      "5655 : ['What {item is used} in {sports} of {breaststroke} ?']\n",
      "5656 : ['When was Charles VI, Holy Roman Emperor, the King of Hungary?']\n"
     ]
    },
    {
     "name": "stdout",
     "output_type": "stream",
     "text": [
      "5657 : ['The Great Wall of China falls under what topic in history and meets what World Hertiage criteria?']\n"
     ]
    },
    {
     "name": "stdout",
     "output_type": "stream",
     "text": [
      "5658 : ['which is the {determination method} for {Montana} where {population} as {559456.0} ?']\n"
     ]
    },
    {
     "name": "stdout",
     "output_type": "stream",
     "text": [
      "5659 : ['what is the field of action of the works for of Michael Stipe?']\n",
      "5660 : ['Which is the medical exam of phenotype?']\n",
      "5661 : ['Thessaloniki is part of what region?']\n",
      "5662 : ['who sister town of born in of Huban Öztoprak ?']\n"
     ]
    },
    {
     "name": "stdout",
     "output_type": "stream",
     "text": [
      "5663 : ['Was Billy Joel a member of the Billy Joel Band?']\n"
     ]
    },
    {
     "name": "stdout",
     "output_type": "stream",
     "text": [
      "5664 : ['What is the creation date of the Daimler AG subsidiary company?']\n",
      "5665 : ['Which is the Crunchyroll ID for Cowboy Bepop?']\n"
     ]
    },
    {
     "name": "stdout",
     "output_type": "stream",
     "text": [
      "5666 : ['Is Tritons orbital eccentricity 0.000016?']\n",
      "5667 : ['What position does David Lloyd George hold?']\n"
     ]
    },
    {
     "name": "stdout",
     "output_type": "stream",
     "text": [
      "5668 : ['What is  field of study of René Leduc. Pionnier de la propulsion à réaction. 2000 ?']\n"
     ]
    },
    {
     "name": "stdout",
     "output_type": "stream",
     "text": [
      "5669 : ['Which is {uses language} of {Imre Kertész}, that has {AWLD status} is {1 safe} ?']\n",
      "5670 : ['How many were officially opened by Prince Philip, Duke of Edinburgh?']\n",
      "5671 : ['How to use correct grammar when studying the Hungarian language']\n",
      "5672 : ['When did Edward Coke receive the National Book Award for Nonfiction?']\n"
     ]
    },
    {
     "name": "stdout",
     "output_type": "stream",
     "text": [
      "5673 : ['What building was named the tallest building after the Chrysler Building?']\n"
     ]
    },
    {
     "name": "stdout",
     "output_type": "stream",
     "text": [
      "5674 : ['Tell me railroad line whose name has the word schluff in it.']\n",
      "5675 : ['Was Andy Murray nominated for the Best Moment ESPY Award?']\n"
     ]
    },
    {
     "name": "stdout",
     "output_type": "stream",
     "text": [
      "5676 : ['What is the birthplace of Ching Sharman, whose Wikivoyage banner is Guangdong Banner.jpg?']\n",
      "5677 : ['What is the total assets owned by the Royal Dutch Shell?']\n",
      "5678 : ['What is the sex of the biological sibling of Frederick William III of Prussia?']\n",
      "5679 : ['Name the spouse of Paavo Haavikko, who passed away on October 10, 2008.']\n"
     ]
    },
    {
     "name": "stdout",
     "output_type": "stream",
     "text": [
      "5680 : ['WHICH IS THE SPORT IN A GEOGRAPHIC REGION WITH THE MAXIMUM NUMBER OF CLUBS']\n",
      "5681 : ['Who is Henry the Lions first cousin?']\n",
      "5682 : ['What are the names of the characters in the show Bobby Smiles?']\n"
     ]
    },
    {
     "name": "stdout",
     "output_type": "stream",
     "text": [
      "5683 : ['Of the iPad Minis, which table has the least memory capacity?']\n"
     ]
    },
    {
     "name": "stdout",
     "output_type": "stream",
     "text": [
      "5684 : ['What is the parent astronomical body and the type of orbit for the Hubble Space Telescope?']\n"
     ]
    },
    {
     "name": "stdout",
     "output_type": "stream",
     "text": [
      "5685 : ['What is USHMM Holocaust Encyclopedia ID of genocide?']\n",
      "5686 : ['Sigmund Freud was in what field of work?']\n",
      "5687 : ['What is the difference between casual dining and fine dining?']\n",
      "5688 : ['For what body of government was Nizhny Novgorod the head starting on October 7, 2015?']\n"
     ]
    },
    {
     "name": "stdout",
     "output_type": "stream",
     "text": [
      "5689 : ['What was Billy Wilder nominated for at the 39th Academy Awards?']\n",
      "5690 : ['Who was no longer the spouse of Lisa Marie Presley on 16th May 2004?']\n"
     ]
    },
    {
     "name": "stdout",
     "output_type": "stream",
     "text": [
      "5691 : ['What is the native label of Izhevsk since 1984-12-27?']\n"
     ]
    },
    {
     "name": "stdout",
     "output_type": "stream",
     "text": [
      "5692 : ['Which is {award received} of {Annie Leibovitz} where {point in time} is {2003-1-1} ?']\n",
      "5693 : ['Which platforms have software versions of Fallout release 10.14 beta 4?']\n"
     ]
    },
    {
     "name": "stdout",
     "output_type": "stream",
     "text": [
      "5694 : ['Who is the child of Mahmoud Abbas?']\n",
      "5695 : ['What show with Matt Lauer won the Daytime Emmy Award for Outstanding Morning Program and when did it happen?']\n"
     ]
    },
    {
     "name": "stdout",
     "output_type": "stream",
     "text": [
      "5696 : ['Isaac Fawkes, also known as Isaach, is known by what personal name?']\n",
      "5697 : ['which method starts with w']\n"
     ]
    },
    {
     "name": "stdout",
     "output_type": "stream",
     "text": [
      "5698 : ['who operates Dash 8?']\n"
     ]
    },
    {
     "name": "stdout",
     "output_type": "stream",
     "text": [
      "5699 : ['What is the rank of the taxon parent in the Allosaurus family?']\n",
      "5700 : ['Which is the RSL editions of Esquire?']\n"
     ]
    },
    {
     "name": "stdout",
     "output_type": "stream",
     "text": [
      "5701 : ['What are the causes that produce the embryo?']\n"
     ]
    },
    {
     "name": "stdout",
     "output_type": "stream",
     "text": [
      "5702 : ['What is the constitution of the Soviet Union?']\n",
      "5703 : ['Name the G-type main-sequence star in our solar system with the smallest angular diameter ?']\n",
      "5704 : ['What is the religious affiliation of Jin, who has a Universal Decimal Classification of 221.3?']\n"
     ]
    },
    {
     "name": "stdout",
     "output_type": "stream",
     "text": [
      "5705 : ['When did Eduardo Frei Ruiz-Tagle receive an award as Lagun Onari?']\n",
      "5706 : ['What tributary is on lake Saint Martin?']\n"
     ]
    },
    {
     "name": "stdout",
     "output_type": "stream",
     "text": [
      "5707 : ['What is in the  MCN code of fuel oil ?']\n",
      "5708 : ['Who gave the{deathdate} of {directed by} of {The World According to Garp} ?']\n"
     ]
    },
    {
     "name": "stdout",
     "output_type": "stream",
     "text": [
      "5709 : ['Which is the Indonesian Small Islands Directory ID for Krakatau?']\n",
      "5710 : ['Is the target interest rate of the Bank of Israel equal to 0.08?']\n",
      "5711 : ['What is the most natural abundance of the isotope of cadmium that decays to palladium -106?']\n",
      "5712 : ['Who was Andrei Konchalovskys spouse from 1965-1-1 onward?']\n",
      "5713 : ['Who is the fictional person that is present in the work of Macbeth?']\n"
     ]
    },
    {
     "name": "stdout",
     "output_type": "stream",
     "text": [
      "5714 : ['IS THE PARALLAX OF THE VEGA EQUALS 128.93']\n",
      "5715 : ['What is endemic to kangaroo ?']\n"
     ]
    },
    {
     "name": "stdout",
     "output_type": "stream",
     "text": [
      "5716 : ['Which is the edition or translation of Internet Protocol version 6?']\n",
      "5717 : ['What was Judi Dench nominated for in Notes on a Scandal?']\n"
     ]
    },
    {
     "name": "stdout",
     "output_type": "stream",
     "text": [
      "5718 : ['Where is {replaced} of {abacus}, which has {discovered} is {1642-0-0} ?']\n"
     ]
    },
    {
     "name": "stdout",
     "output_type": "stream",
     "text": [
      "5719 : ['What signed language of Peter Singer has a case of genitive case?']\n"
     ]
    },
    {
     "name": "stdout",
     "output_type": "stream",
     "text": [
      "5720 : ['To which National Association Football team does Lionel Messi belong?']\n",
      "5721 : ['What is Wiki Loves Monuments ID for Knossos?']\n",
      "5722 : ['What is the part of the grammar that deals with the history or origin of the words of {Planck time}, that has {doctoral student} is {Walther Bothe} ?']\n",
      "5723 : ['Which is {national park} of {outflow}  {Sol Duc River} ?']\n"
     ]
    },
    {
     "name": "stdout",
     "output_type": "stream",
     "text": [
      "5724 : ['Who was Arthur Seyss-Inquart`s defender in the Nuremberg trials?']\n",
      "5725 : ['Which is the diagnostic test that is a health specialty of anatomical pathology and contains the word pap in its name?']\n"
     ]
    },
    {
     "name": "stdout",
     "output_type": "stream",
     "text": [
      "5726 : ['What is the deity of Mahishasura} ?']\n"
     ]
    },
    {
     "name": "stdout",
     "output_type": "stream",
     "text": [
      "5727 : ['What is the alphabet of Furutachi based upon?']\n",
      "5728 : ['When is {diplomatic relation} {comes from} {Hunger} ?']\n",
      "5729 : ['What Class IIIB combustible liquid has the highest vapor pressure?']\n"
     ]
    },
    {
     "name": "stdout",
     "output_type": "stream",
     "text": [
      "5730 : ['What are the outflows of Lake Albert that are tributaries of Kidepo River?']\n",
      "5731 : ['How was it determined that Badalona has a population of 217210?']\n",
      "5732 : ['where is the located in the administrative territorial entity and who is the category of associated people of Hollywood?']\n"
     ]
    },
    {
     "name": "stdout",
     "output_type": "stream",
     "text": [
      "5733 : ['Is the focal length of the large binocular telescope 14.808?']\n",
      "5734 : ['What is the country of citizenship of the Kingdom of the Netherlands?']\n",
      "5735 : ['Which is the character role of Luciano Pavarotti?']\n"
     ]
    },
    {
     "name": "stdout",
     "output_type": "stream",
     "text": [
      "5736 : ['Which work of Toni Morrison was awarded the NAACP Image Award for Outstanding Literary Work, Fiction?']\n",
      "5737 : ['How many feast days are done by Pentecost?']\n"
     ]
    },
    {
     "name": "stdout",
     "output_type": "stream",
     "text": [
      "5738 : ['What is the locomotive class with the most stroke whose operator is Lancashire, Derbyshire and East Coast Railway?']\n",
      "5739 : ['Which is the cipM poet ID of John Cage?']\n",
      "5740 : ['Does the bore of the DRG Class 03 equal 570?']\n"
     ]
    },
    {
     "name": "stdout",
     "output_type": "stream",
     "text": [
      "5741 : ['Who gave the{this taxon is the source of} of {higher taxon} of {Brassica rapa subvar. esculenta} ?']\n"
     ]
    },
    {
     "name": "stdout",
     "output_type": "stream",
     "text": [
      "5742 : ['Which is the novella that contains the word švabica in its name?']\n"
     ]
    },
    {
     "name": "stdout",
     "output_type": "stream",
     "text": [
      "5743 : ['Who is a member of the crew of Enola Gay?']\n"
     ]
    },
    {
     "name": "stdout",
     "output_type": "stream",
     "text": [
      "5744 : ['What is at the grave of the son of Sancha of Castile, Queen of Navarre?']\n",
      "5745 : ['What position was Itamar Franco elected to in 1982?']\n"
     ]
    },
    {
     "name": "stdout",
     "output_type": "stream",
     "text": [
      "5746 : ['Who finished serving as the manager/director of the Organization for Security and Co-operation in Europe in the year 2011?']\n",
      "5747 : ['Is the total fertility rate of the Belize greater than 2.0632?']\n",
      "5748 : ['Who is the person of the family of House of Medici?']\n",
      "5749 : ['Which is the office held by head of the organisation of Autonomous University of Madrid?']\n"
     ]
    },
    {
     "name": "stdout",
     "output_type": "stream",
     "text": [
      "5750 : ['Which is the doctoral thesis of Dorothy Hodgkin?']\n",
      "5751 : ['To whom did Ingmar Bergman got married and when did it ended?']\n"
     ]
    },
    {
     "name": "stdout",
     "output_type": "stream",
     "text": [
      "5752 : ['Who is the alumna of wives of Rebecca West?']\n",
      "5753 : ['The Tokugawa Shogunate was located in what country?']\n",
      "5754 : ['What female is not the same as Kevin Durant who is male?']\n",
      "5755 : ['What area in Sevastopol is disputed territory?']\n"
     ]
    },
    {
     "name": "stdout",
     "output_type": "stream",
     "text": [
      "5756 : ['Where in New York was Sofia Coppola born?']\n",
      "5757 : ['What wind turbine power station has the least annual energy output?']\n"
     ]
    },
    {
     "name": "stdout",
     "output_type": "stream",
     "text": [
      "5758 : ['Was cancer the cause of death of Paul Newman?']\n"
     ]
    },
    {
     "name": "stdout",
     "output_type": "stream",
     "text": [
      "5759 : ['what is just fontaine of fff male player id']\n",
      "5760 : ['What what is project objective of project or mission nuclear weapon and also which starts with letter m']\n"
     ]
    },
    {
     "name": "stdout",
     "output_type": "stream",
     "text": [
      "5761 : ['Who was Kim Basingers husband until 2002?']\n",
      "5762 : ['For what pharmaceutical product is niacin the active ingredient?']\n"
     ]
    },
    {
     "name": "stdout",
     "output_type": "stream",
     "text": [
      "5763 : ['what point in time that george akerlof received the award?']\n"
     ]
    },
    {
     "name": "stdout",
     "output_type": "stream",
     "text": [
      "5764 : ['For Saint Kitts and Nevis when was the inflation rate as 6.5?']\n"
     ]
    },
    {
     "name": "stdout",
     "output_type": "stream",
     "text": [
      "5765 : ['Is it true that people speak German in Seychelles and Republic of Congo?']\n"
     ]
    },
    {
     "name": "stdout",
     "output_type": "stream",
     "text": [
      "5767 : ['What is the daughter that has kids} of Halaevalu Mataʻaho ʻAhomeʻe ?']\n",
      "5768 : ['When did Pavel Nakhimov receive the Order of St. George, 2nd class award?']\n"
     ]
    },
    {
     "name": "stdout",
     "output_type": "stream",
     "text": [
      "5769 : ['In torr, what is the value of the symbol P?']\n",
      "5770 : ['Tell me the hypothetical planet that has Sun as a parent astronomical body and starts with the letter v?']\n"
     ]
    },
    {
     "name": "stdout",
     "output_type": "stream",
     "text": [
      "5771 : ['did mariah_carey belong to ethnic group of cubans']\n",
      "5772 : ['What notable books were inspired by the Portrait of Louise Vernet?']\n"
     ]
    },
    {
     "name": "stdout",
     "output_type": "stream",
     "text": [
      "5773 : ['WHICH IS THE SPACE PROGRAM THAT CONTAINS THE WORD SPACE IN THEIR NAME']\n",
      "5774 : ['What is the daily newspaper published by Alan Rusbridger that contains the word  guardian in its name']\n",
      "5775 : ['What is the author and the chief executive officer of Reddit ?']\n",
      "5776 : ['What does the split from the Virgin Mary portray?']\n"
     ]
    },
    {
     "name": "stdout",
     "output_type": "stream",
     "text": [
      "5777 : ['Which is the position that applies to jurisdiction of Weimar Republic?']\n",
      "5778 : ['When did PewDiePie receive the Shorty Awards?']\n",
      "5779 : ['what is the spacecraft with the lowest orbits completed whose instance of is spacecraft?']\n"
     ]
    },
    {
     "name": "stdout",
     "output_type": "stream",
     "text": [
      "5780 : ['Which strain has the highest viable temperature?']\n",
      "5781 : ['How many movements are for The Internationale ?']\n"
     ]
    },
    {
     "name": "stdout",
     "output_type": "stream",
     "text": [
      "5782 : ['When was Doris Lessing the spouse of Gottfried Lessing?']\n",
      "5783 : ['Is it true that the production rate of Volvo is greater than 427465.6?']\n",
      "5784 : ['What is another treatment of hypertension other than hypersalivation?']\n",
      "5785 : ['Which is the test method for intelligence quotient?']\n"
     ]
    },
    {
     "name": "stdout",
     "output_type": "stream",
     "text": [
      "5786 : ['Which lake has the largest length?']\n"
     ]
    },
    {
     "name": "stdout",
     "output_type": "stream",
     "text": [
      "5787 : ['who is video game publisher of safety classification and labelling of β-lactose ?']\n",
      "5788 : ['What are the  heavy metal band which start with the letter w']\n"
     ]
    },
    {
     "name": "stdout",
     "output_type": "stream",
     "text": [
      "5789 : ['Who are the alumnus of Chris Burden whose Carnegie Classification of Institutions of Higher Education is exclusively undergraduate four-year?']\n"
     ]
    },
    {
     "name": "stdout",
     "output_type": "stream",
     "text": [
      "5790 : ['Is the member count of the Club of Rome 80.0?']\n"
     ]
    },
    {
     "name": "stdout",
     "output_type": "stream",
     "text": [
      "5791 : ['Sergei Eisenstein is the screenwriter of which silent film?']\n",
      "5792 : ['which freedom starts with d']\n",
      "5793 : ['Tell me the intergovernmental organization of the coat of arms of Emblem of the Association of Southeast Asian Nations that starts with the letter a!']\n"
     ]
    },
    {
     "name": "stdout",
     "output_type": "stream",
     "text": [
      "5794 : ['who is author of afterword of Nineteen Eighty-Four ?']\n",
      "5795 : ['Is the electrical resistivity of Grivory GM-4H equal to 1000000000000?']\n",
      "5796 : ['Which are the studies and the drugs used for treatment of Diabetes mellitus?']\n"
     ]
    },
    {
     "name": "stdout",
     "output_type": "stream",
     "text": [
      "5798 : ['Which Kazakhstan landing Soyuz-TM has the greatest orbital period?']\n",
      "5799 : ['What diseases does psychotherapy study?']\n",
      "5800 : ['Which is the elCinema film ID for The Godfather Part II?']\n",
      "5801 : ['Which is MyDramaList title ID of Seven Samurai?']\n",
      "5802 : ['Which place of detention for  Elie Wiesel ?']\n",
      "5803 : ['What is Andrew Gazes Australian Olympic Committee athlete ID.']\n"
     ]
    },
    {
     "name": "stdout",
     "output_type": "stream",
     "text": [
      "5804 : ['Which is the NNDB people ID for Orson Welles?']\n",
      "5805 : ['How many anthems are by God Save the Queen?']\n",
      "5806 : ['Where was Niels Bohr educated at, and who was his doctoral advisor?']\n",
      "5807 : ['Which is {based in} of {Cuban Missile Crisis}, whose {tributary} is {Grande de Matagalpa River} ?']\n"
     ]
    },
    {
     "name": "stdout",
     "output_type": "stream",
     "text": [
      "5808 : ['Who attended the Battle of the Vittorio Veneto?']\n",
      "5809 : ['Tell me about noble title of Pepin the Short and follows']\n"
     ]
    },
    {
     "name": "stdout",
     "output_type": "stream",
     "text": [
      "5810 : ['Which are the coordinates of the point of view for Bliss?']\n",
      "5811 : ['Who had a son named Timur, and whose interment was in Shahrisabz?']\n"
     ]
    },
    {
     "name": "stdout",
     "output_type": "stream",
     "text": [
      "5812 : ['Which is the national mission of Mary Higgins Clark?']\n"
     ]
    },
    {
     "name": "stdout",
     "output_type": "stream",
     "text": [
      "5813 : ['Name the watercourse located in Canada ?']\n"
     ]
    },
    {
     "name": "stdout",
     "output_type": "stream",
     "text": [
      "5814 : ['How much people are there in the  administrative territorial entity of Madeira?']\n",
      "5816 : ['Which is the island nation for the country of pound sterling?']\n",
      "5817 : ['What is the name of offspring of Joseph Stalin and he born on which date?']\n",
      "5818 : ['Who was Ip Mans student?']\n"
     ]
    },
    {
     "name": "stdout",
     "output_type": "stream",
     "text": [
      "5819 : ['Where was Alexander buried in Freising Cathedral?']\n",
      "5820 : ['Which isotope of lead has the least mass excess which decays to thallium-185?']\n",
      "5821 : ['Which is the TheFinalBall player ID of Cristiano Ronaldo?']\n"
     ]
    },
    {
     "name": "stdout",
     "output_type": "stream",
     "text": [
      "5822 : ['What books were illustrated by William Blake?']\n",
      "5823 : ['What is  home place  of  New York Yankees  that is  end time  is 1922 - 0 - 0 ?']\n"
     ]
    },
    {
     "name": "stdout",
     "output_type": "stream",
     "text": [
      "5824 : ['What is the date of birth and date of death of the child of Joseph Stalin, Vasily Dzhugashvili?']\n",
      "5825 : ['Which {diplomatic relation} of {sovereign state} of {Adelaide} ?']\n",
      "5826 : ['What is Jacinda Aderns official title?']\n"
     ]
    },
    {
     "name": "stdout",
     "output_type": "stream",
     "text": [
      "5827 : ['Name the anion for conjugate acid of ammonia?']\n",
      "5828 : ['What film was Diane Keaton nominated for an Academy Award for Best Actress?']\n",
      "5829 : ['What are the symptoms of lung cancer ?']\n",
      "5830 : ['How many people were in the Battle of Midway?']\n"
     ]
    },
    {
     "name": "stdout",
     "output_type": "stream",
     "text": [
      "5831 : ['In which sovereign state did the Indian Independence Movement happen in?']\n"
     ]
    },
    {
     "name": "stdout",
     "output_type": "stream",
     "text": [
      "5832 : ['What is the arrondissement of Cathedral of Santiago de Compostela, and has a partner town of Mashhad?']\n"
     ]
    },
    {
     "name": "stdout",
     "output_type": "stream",
     "text": [
      "5833 : ['What city in Bilbao has a twinned administrative body?']\n",
      "5834 : ['When was the first to record the death of David Koresh?']\n"
     ]
    },
    {
     "name": "stdout",
     "output_type": "stream",
     "text": [
      "5835 : ['Who did  Aisha marry in 619-1-1?']\n",
      "5836 : ['What is the dual of the facet of a polytope of the grand 120-cell ?']\n"
     ]
    },
    {
     "name": "stdout",
     "output_type": "stream",
     "text": [
      "5837 : ['when did Sara Northup Hollister and L. Ron Hubbard divorce?']\n"
     ]
    },
    {
     "name": "stdout",
     "output_type": "stream",
     "text": [
      "5838 : ['Who is {subject} of {inventor or discoverer} of {Bogdanov-Takens bifurcation} ?']\n",
      "5839 : ['What determination method Washington uses for its population 1.14199e+06?']\n",
      "5840 : ['For what period is La Marseillaise valid as the French anthem?']\n",
      "5841 : ['Joko Widodo is the head of government of which sovereign state ?']\n"
     ]
    },
    {
     "name": "stdout",
     "output_type": "stream",
     "text": [
      "5842 : ['tell me railway tunnel that contains the word tunel in the name']\n",
      "5843 : ['Name the mesopotamian deity in Hittites culture.']\n"
     ]
    },
    {
     "name": "stdout",
     "output_type": "stream",
     "text": [
      "5844 : ['Tell me firearm whose name has the word shotgun in it.']\n",
      "5845 : ['What employment did the grandmother of Rob Kardashian have?']\n"
     ]
    },
    {
     "name": "stdout",
     "output_type": "stream",
     "text": [
      "5846 : ['Which is the foods traditionally associated for Meleagris gallopavo?']\n",
      "5847 : ['Which is the {participant of} and the {owner of} of {FC_Porto} ?']\n"
     ]
    },
    {
     "name": "stdout",
     "output_type": "stream",
     "text": [
      "5848 : ['Does Daft Punk perform in the genres of New Wave and Nu-Disco?']\n"
     ]
    },
    {
     "name": "stdout",
     "output_type": "stream",
     "text": [
      "5849 : ['Which is the Trustpilot company ID for Wikipedia?']\n",
      "5850 : ['Who is the {Wikimedia category} for {category for films shot at this location} of {Shanghai}']\n"
     ]
    },
    {
     "name": "stdout",
     "output_type": "stream",
     "text": [
      "5851 : ['Which record label did Suge Knight record with?']\n"
     ]
    },
    {
     "name": "stdout",
     "output_type": "stream",
     "text": [
      "5852 : ['How many things did Andrey Kolmogorov discover or invent?']\n",
      "5853 : ['How many head coaches are there for FC Bayern Munich?']\n",
      "5854 : ['who was the wife of julius caesar at the end of -68-0-0?']\n",
      "5855 : ['Did Roe v. Wade cite the Muskrat v. United States?']\n"
     ]
    },
    {
     "name": "stdout",
     "output_type": "stream",
     "text": [
      "5856 : ['What is the title of the sequel to Lila: An Inquiry into Morals and who authored it?']\n"
     ]
    },
    {
     "name": "stdout",
     "output_type": "stream",
     "text": [
      "5857 : ['How many authors are written the {Carl Chun} ?']\n"
     ]
    },
    {
     "name": "stdout",
     "output_type": "stream",
     "text": [
      "5859 : ['Who owned the Houston Chronicle on the 1st January 1937?']\n"
     ]
    },
    {
     "name": "stdout",
     "output_type": "stream",
     "text": [
      "5860 : ['What is the population of Aleutian Islands in the year 2000?']\n",
      "5861 : ['Which is the voice type of death growl?']\n",
      "5862 : ['What is Yue Feis Gran Enciclopedia Catalana ID?']\n",
      "5863 : ['What was Josephs occupation?']\n"
     ]
    },
    {
     "name": "stdout",
     "output_type": "stream",
     "text": [
      "5864 : ['What are the ssociation football stadium which start with the letter U']\n",
      "5865 : ['Which is National Gallery of Canada artist ID for Camille Pissarro?']\n"
     ]
    },
    {
     "name": "stdout",
     "output_type": "stream",
     "text": [
      "5866 : ['How many things did Isambard Kingdom Brunel design?']\n",
      "5867 : ['What is {eponym} of {Gödel, Escher, Bach}, which has {working place} is {Institute for Advanced Study} ?']\n"
     ]
    },
    {
     "name": "stdout",
     "output_type": "stream",
     "text": [
      "5868 : ['who won by of prize received of john le carré ?']\n",
      "5869 : ['What is  in the hymenium attachment of Boletus edulis ?']\n"
     ]
    },
    {
     "name": "stdout",
     "output_type": "stream",
     "text": [
      "5870 : ['Which  is party chief representative of Xi Jinping ?']\n",
      "5872 : ['Which is the video game of the series of Call of Duty?']\n"
     ]
    },
    {
     "name": "stdout",
     "output_type": "stream",
     "text": [
      "5873 : ['What are the ancient city which start with the letter zemar']\n"
     ]
    },
    {
     "name": "stdout",
     "output_type": "stream",
     "text": [
      "5874 : ['swimranking.net ryan lochte id is']\n",
      "5876 : ['tell me about moon of saturn starts with the letter t']\n"
     ]
    },
    {
     "name": "stdout",
     "output_type": "stream",
     "text": [
      "5877 : ['Was 201 the total number of valid votes cast n the 2015 Catalan regional election in Malla?']\n",
      "5878 : ['who this taxon is a source of taxon parent  of musa juwiniana ?']\n",
      "5879 : ['Who is the renter of the neighborhood, Venus de MIlo?']\n"
     ]
    },
    {
     "name": "stdout",
     "output_type": "stream",
     "text": [
      "5880 : ['What is the speed limit in the Netherlands?']\n",
      "5881 : ['WHat is the project involving nuclear weapons that contains the word manhattan in its name ?']\n",
      "5882 : ['Which is the title of honor for the honorific prefix of the Salman of Saudi Arabia?']\n"
     ]
    },
    {
     "name": "stdout",
     "output_type": "stream",
     "text": [
      "5883 : ['What vein is connected to the small intestine?']\n",
      "5884 : ['Which is the endianness for x86?']\n",
      "5885 : ['Which is {parent body} of {Neptune}, who has {symbol} is {solar symbol} ?']\n"
     ]
    },
    {
     "name": "stdout",
     "output_type": "stream",
     "text": [
      "5886 : ['WHAT IS THE CULTURAL HISTORY OF CHINA?']\n",
      "5887 : ['Where did Andrey Kolmogorov earn his Doctor of Sciences in Physics and Mathematics?']\n",
      "5888 : ['What is the {nominated for} and the {award received} of {Sharon_Stone} ?']\n",
      "5890 : ['When did Lublin cease to be a Kingdom of Poland?']\n"
     ]
    },
    {
     "name": "stdout",
     "output_type": "stream",
     "text": [
      "5891 : ['Which is the International Standard Identifier for Libraries of University of Liverpool?']\n",
      "5892 : ['When did Cathay Pacific begin to operate the Bristol Britannia ?']\n"
     ]
    },
    {
     "name": "stdout",
     "output_type": "stream",
     "text": [
      "5893 : ['What are the thunder god which start with the letter zeus']\n"
     ]
    },
    {
     "name": "stdout",
     "output_type": "stream",
     "text": [
      "5896 : ['How is a cubic meter measured?']\n",
      "5897 : ['which is the {type of kinship} for {Jesse Louis Lasky} whose {relative} as {Samuel Goldwyn} ?']\n"
     ]
    },
    {
     "name": "stdout",
     "output_type": "stream",
     "text": [
      "5899 : ['What is gained from the story of Equatiorial Kundu?']\n",
      "5900 : ['What are the book which start with the letter t']\n",
      "5901 : ['What is on focus list on Wikimedia project for arch?']\n"
     ]
    },
    {
     "name": "stdout",
     "output_type": "stream",
     "text": [
      "5902 : ['Who is working in Room 101?']\n",
      "5903 : ['When did John Hume end his position held as Member of the Parliament of Norther Ireland?']\n"
     ]
    },
    {
     "name": "stdout",
     "output_type": "stream",
     "text": [
      "5904 : ['Which is the handedness of Bruce Willis?']\n"
     ]
    },
    {
     "name": "stdout",
     "output_type": "stream",
     "text": [
      "5906 : ['Who is the director of the Secret Intelligence Service?']\n"
     ]
    },
    {
     "name": "stdout",
     "output_type": "stream",
     "text": [
      "5907 : ['Which is the patron saint for Sabadell?']\n"
     ]
    },
    {
     "name": "stdout",
     "output_type": "stream",
     "text": [
      "5909 : ['who principal place of state of loreng ?']\n",
      "5910 : ['When did Peyton Manning play for the Tennessee Volunteers Football']\n",
      "5911 : ['What is the god worshipped by Jehovahs Witnesses that contains the word yahweh in its name ?']\n"
     ]
    },
    {
     "name": "stdout",
     "output_type": "stream",
     "text": [
      "5912 : ['Is Erich Salomon a photographer?']\n",
      "5913 : ['Where is the {dominion of the British Empire} for {state} of {Himachal Pradesh}?']\n",
      "5914 : ['How many out of school children are there in Scotland?']\n"
     ]
    },
    {
     "name": "stdout",
     "output_type": "stream",
     "text": [
      "5915 : ['What is the quantity for canton of Switzerland?']\n"
     ]
    },
    {
     "name": "stdout",
     "output_type": "stream",
     "text": [
      "5917 : ['How was the population of Iloilo City confirmed to be 334,539?']\n"
     ]
    },
    {
     "name": "stdout",
     "output_type": "stream",
     "text": [
      "5920 : ['What is a taxonomic rank that starts with the letter v.']\n",
      "5921 : ['Which is the island nation that is a twinned administrative body of Auckland?']\n"
     ]
    },
    {
     "name": "stdout",
     "output_type": "stream",
     "text": [
      "5922 : ['Tell me the newspaper that has English as language of work and contains the word tribune in its name?']\n"
     ]
    },
    {
     "name": "stdout",
     "output_type": "stream",
     "text": [
      "5923 : ['Who is the participant thats not cooperative in the depiction of the Statue of the Viscount Slim?']\n"
     ]
    },
    {
     "name": "stdout",
     "output_type": "stream",
     "text": [
      "5924 : ['Who is the musical score by in It Happened One Night that states someones middle name is Howard?']\n",
      "5926 : ['Is the service life of the Gran Turismo 5 Prologue equal to 10?']\n",
      "5927 : ['Which is the fictional universe of the fictional universe described in Star Trek?']\n"
     ]
    },
    {
     "name": "stdout",
     "output_type": "stream",
     "text": [
      "5928 : ['Are the German Aerospace Center and the NASA Astrobiology Institute subidiaries of NASA?']\n"
     ]
    },
    {
     "name": "stdout",
     "output_type": "stream",
     "text": [
      "5929 : ['Which county in Norway shares a border with Oslo']\n",
      "5930 : ['Who composed The Magic Flute?']\n"
     ]
    },
    {
     "name": "stdout",
     "output_type": "stream",
     "text": [
      "5931 : ['What is the Parthian Empires office religion?']\n",
      "5932 : ['What is key event of h capital that has Grand Duchy of Moscow ?']\n"
     ]
    },
    {
     "name": "stdout",
     "output_type": "stream",
     "text": [
      "5933 : ['Which is the Polish scientist ID for Lech Kaczyński?']\n"
     ]
    },
    {
     "name": "stdout",
     "output_type": "stream",
     "text": [
      "5935 : ['Who is the child of Frederick William I of Prussia and when did he die?']\n"
     ]
    },
    {
     "name": "stdout",
     "output_type": "stream",
     "text": [
      "5936 : ['What is the capital of the Khmer empire that is located at 13.43333333333333 103.833333333?']\n"
     ]
    }
   ],
   "source": [
    "responses = []\n",
    "batch_qns = []\n",
    "batch_ans = []\n",
    "truncated_data = df[:]\n",
    "total_len = len(truncated_data)\n",
    "last = 0\n",
    "cutoff = 0\n",
    "\n",
    "for i, data in enumerate(truncated_data.iterrows()):\n",
    "    data = data[1]\n",
    "    if i < cutoff:\n",
    "        continue\n",
    "    # print(\"Pipeline iter\", i)\n",
    "    question = data[\"new_question\"]\n",
    "    answer = data[\"sparql_wikidata\"]\n",
    "    # try\n",
    "    #     linked, annotated, converted = pipe(question, answer)\n",
    "    # except Exception as e:\n",
    "    #     print(e)\n",
    "    #     continue\n",
    "    # responses.append([linked, annotated, converted])\n",
    "    if (question and answer) and len(question) >= 2:\n",
    "        batch_qns.append(question)\n",
    "        batch_ans.append(answer)\n",
    "    if ((i + 1) % 2000) == 0 or i == total_len - 1:\n",
    "        print(\"\\n[Pipeline1]:\", f\"Linking {last}-{i}\")\n",
    "        try:\n",
    "            for linked, annotated, converted in pipe_batch(batch_qns, batch_ans):\n",
    "                responses.append([linked, annotated, converted])\n",
    "            batch_qns = []\n",
    "            batch_ans = []\n",
    "            last = i\n",
    "        except Exception as e:\n",
    "            raise e\n",
    "            # print(e)\n",
    "            # continue\n",
    "        with open(output_links_dir / f\"link_{i}.json\", \"w\") as f:\n",
    "            json.dump(responses, f, indent=2, separators=(',',':'))"
   ]
  }
 ],
 "metadata": {
  "kernelspec": {
   "display_name": "py310",
   "language": "python",
   "name": "python3"
  },
  "language_info": {
   "codemirror_mode": {
    "name": "ipython",
    "version": 3
   },
   "file_extension": ".py",
   "mimetype": "text/x-python",
   "name": "python",
   "nbconvert_exporter": "python",
   "pygments_lexer": "ipython3",
   "version": "3.10.11"
  },
  "papermill": {
   "default_parameters": {},
   "duration": null,
   "end_time": null,
   "environment_variables": {},
   "exception": null,
   "input_path": "pipeline1.ipynb",
   "output_path": "pipeline1-1e1r-full.papermill.ipynb",
   "parameters": {},
   "start_time": "2023-07-20T07:26:23.936798",
   "version": "2.4.0"
  }
 },
 "nbformat": 4,
 "nbformat_minor": 5
}
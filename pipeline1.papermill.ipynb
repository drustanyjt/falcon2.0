{
 "cells": [
  {
   "attachments": {},
   "cell_type": "markdown",
   "id": "a2152d85",
   "metadata": {
    "papermill": {
     "duration": 0.009761,
     "end_time": "2023-07-12T06:00:07.177548",
     "exception": false,
     "start_time": "2023-07-12T06:00:07.167787",
     "status": "completed"
    },
    "tags": []
   },
   "source": [
    "# Pipeline 1"
   ]
  },
  {
   "cell_type": "code",
   "execution_count": 1,
   "id": "5a9eeb0a",
   "metadata": {
    "execution": {
     "iopub.execute_input": "2023-07-12T06:00:07.195351Z",
     "iopub.status.busy": "2023-07-12T06:00:07.194476Z",
     "iopub.status.idle": "2023-07-12T06:00:09.963453Z",
     "shell.execute_reply": "2023-07-12T06:00:09.961693Z"
    },
    "papermill": {
     "duration": 2.780642,
     "end_time": "2023-07-12T06:00:09.966262",
     "exception": false,
     "start_time": "2023-07-12T06:00:07.185620",
     "status": "completed"
    },
    "tags": []
   },
   "outputs": [],
   "source": [
    "from pipeline import Falcon2Linker, SerialAnnotator, T5Converter\n",
    "import time\n",
    "from pprint import pprint"
   ]
  },
  {
   "cell_type": "code",
   "execution_count": 2,
   "id": "e68aeeaa",
   "metadata": {
    "execution": {
     "iopub.execute_input": "2023-07-12T06:00:09.980719Z",
     "iopub.status.busy": "2023-07-12T06:00:09.979936Z",
     "iopub.status.idle": "2023-07-12T06:00:09.986326Z",
     "shell.execute_reply": "2023-07-12T06:00:09.985261Z"
    },
    "papermill": {
     "duration": 0.015963,
     "end_time": "2023-07-12T06:00:09.988235",
     "exception": false,
     "start_time": "2023-07-12T06:00:09.972272",
     "status": "completed"
    },
    "tags": []
   },
   "outputs": [],
   "source": [
    "linker = Falcon2Linker()\n",
    "annotator = SerialAnnotator()\n",
    "converter = T5Converter()"
   ]
  },
  {
   "cell_type": "code",
   "execution_count": 3,
   "id": "4530cb87",
   "metadata": {
    "execution": {
     "iopub.execute_input": "2023-07-12T06:00:10.003020Z",
     "iopub.status.busy": "2023-07-12T06:00:10.002114Z",
     "iopub.status.idle": "2023-07-12T06:00:10.007585Z",
     "shell.execute_reply": "2023-07-12T06:00:10.006458Z"
    },
    "papermill": {
     "duration": 0.016276,
     "end_time": "2023-07-12T06:00:10.009901",
     "exception": false,
     "start_time": "2023-07-12T06:00:09.993625",
     "status": "completed"
    },
    "tags": []
   },
   "outputs": [],
   "source": [
    "utterance = \"Who is the wife of Barack Obama\""
   ]
  },
  {
   "cell_type": "code",
   "execution_count": 4,
   "id": "4c2ee2f7",
   "metadata": {
    "execution": {
     "iopub.execute_input": "2023-07-12T06:00:10.025533Z",
     "iopub.status.busy": "2023-07-12T06:00:10.024801Z",
     "iopub.status.idle": "2023-07-12T06:00:16.211168Z",
     "shell.execute_reply": "2023-07-12T06:00:16.209624Z"
    },
    "papermill": {
     "duration": 6.197889,
     "end_time": "2023-07-12T06:00:16.214406",
     "exception": false,
     "start_time": "2023-07-12T06:00:10.016517",
     "status": "completed"
    },
    "tags": []
   },
   "outputs": [
    {
     "name": "stdout",
     "output_type": "stream",
     "text": [
      "recieved utterance\n",
      "0\n"
     ]
    },
    {
     "name": "stdout",
     "output_type": "stream",
     "text": [
      "[reRank_relations]: who is the wife of Barack Obama \n",
      " SPARQL Requests Made: 1 \n",
      "SPARQL Requests Total Time: 0.7615091800689697 \n",
      "SPARQL Avg Time per Qn: 0.7615091800689697\n",
      "['Who is the wife of Barack Obama', [['<http://www.wikidata.org/entity/P26>', 'wife'], ['<http://www.wikidata.org/entity/P2848>', 'wife'], ['<http://www.wikidata.org/entity/P140>', 'wife'], ['<http://www.wikidata.org/entity/P451>', 'wife'], ['<http://www.wikidata.org/entity/P600>', 'wife']], [['<http://www.wikidata.org/entity/Q76>', 'Barack obama'], ['<http://www.wikidata.org/entity/Q649593>', 'Barack obama'], ['<http://www.wikidata.org/entity/Q4808526>', 'Barack obama'], ['<http://www.wikidata.org/entity/Q4858106>', 'Barack obama'], ['<http://www.wikidata.org/entity/Q643049>', 'Barack obama']], 0, 0, 0, 0]\n",
      "'Linked'\n",
      "{'ents': [{'id': 'Q76',\n",
      "           'prefix': 'wd:',\n",
      "           'uri': 'http://www.wikidata.org/entity/Q76'},\n",
      "          {'id': 'Q649593',\n",
      "           'prefix': 'wd:',\n",
      "           'uri': 'http://www.wikidata.org/entity/Q649593'},\n",
      "          {'id': 'Q4808526',\n",
      "           'prefix': 'wd:',\n",
      "           'uri': 'http://www.wikidata.org/entity/Q4808526'},\n",
      "          {'id': 'Q4858106',\n",
      "           'prefix': 'wd:',\n",
      "           'uri': 'http://www.wikidata.org/entity/Q4858106'},\n",
      "          {'id': 'Q643049',\n",
      "           'prefix': 'wd:',\n",
      "           'uri': 'http://www.wikidata.org/entity/Q643049'}],\n",
      " 'rels': [{'id': 'P26',\n",
      "           'prefix': 'wdt:',\n",
      "           'uri': 'http://www.wikidata.org/prop/direct/P26'},\n",
      "          {'id': 'P2848',\n",
      "           'prefix': 'wdt:',\n",
      "           'uri': 'http://www.wikidata.org/prop/direct/P2848'},\n",
      "          {'id': 'P140',\n",
      "           'prefix': 'wdt:',\n",
      "           'uri': 'http://www.wikidata.org/prop/direct/P140'},\n",
      "          {'id': 'P451',\n",
      "           'prefix': 'wdt:',\n",
      "           'uri': 'http://www.wikidata.org/prop/direct/P451'},\n",
      "          {'id': 'P600',\n",
      "           'prefix': 'wdt:',\n",
      "           'uri': 'http://www.wikidata.org/prop/direct/P600'}],\n",
      " 'utterance': 'Who is the wife of Barack Obama'}\n",
      "'Annotated'\n"
     ]
    },
    {
     "name": "stdout",
     "output_type": "stream",
     "text": [
      "{'fragments': ['[DEF]',\n",
      "               'wd:',\n",
      "               'Q76 Barack Obama',\n",
      "               '[DEF]',\n",
      "               'wd:',\n",
      "               'Q649593 Barack Obama Sr.',\n",
      "               '[DEF]',\n",
      "               'wd:',\n",
      "               'Q4808526 assassination threats against Barack Obama',\n",
      "               '[DEF]',\n",
      "               'wd:',\n",
      "               'Q4858106 Barack Obama Academy',\n",
      "               '[DEF]',\n",
      "               'wd:',\n",
      "               'Q643049 family of Barack Obama',\n",
      "               '[DEF]',\n",
      "               'wdt:',\n",
      "               'P26 spouse',\n",
      "               '[DEF]',\n",
      "               'wdt:',\n",
      "               'P2848 Wi-Fi access',\n",
      "               '[DEF]',\n",
      "               'wdt:',\n",
      "               'P140 religion or worldview',\n",
      "               '[DEF]',\n",
      "               'wdt:',\n",
      "               'P451 unmarried partner',\n",
      "               '[DEF]',\n",
      "               'wdt:',\n",
      "               'P600 Wine AppDB ID'],\n",
      " 'utterance': 'Who is the wife of Barack Obama'}\n",
      "'Converted'\n",
      "('Who is the wife of Barack Obama <extra_id_59> <extra_id_53> Q76 Barack Obama '\n",
      " '<extra_id_59> <extra_id_53> Q649593 Barack Obama Sr. <extra_id_59> '\n",
      " '<extra_id_53> Q4808526 assassination threats against Barack Obama '\n",
      " '<extra_id_59> <extra_id_53> Q4858106 Barack Obama Academy <extra_id_59> '\n",
      " '<extra_id_53> Q643049 family of Barack Obama <extra_id_59> <extra_id_54> P26 '\n",
      " 'spouse <extra_id_59> <extra_id_54> P2848 Wi-Fi access <extra_id_59> '\n",
      " '<extra_id_54> P140 religion or worldview <extra_id_59> <extra_id_54> P451 '\n",
      " 'unmarried partner <extra_id_59> <extra_id_54> P600 Wine AppDB ID')\n"
     ]
    }
   ],
   "source": [
    "linked = linker.link(utterance)\n",
    "# rules = [1,2,3,4,5,8,9,10,12,13,14]\n",
    "# linked = process_text_E_R(utterance, rules)\n",
    "pprint(\"Linked\")\n",
    "pprint(linked)\n",
    "\n",
    "pprint(\"Annotated\")\n",
    "annotated = annotator.annotate(**linked)\n",
    "pprint(annotated)\n",
    "\n",
    "pprint(\"Converted\")\n",
    "converted = converter.preprocess_inputs(**annotated)\n",
    "pprint(converted)"
   ]
  },
  {
   "cell_type": "code",
   "execution_count": 5,
   "id": "a9cd48d9",
   "metadata": {
    "execution": {
     "iopub.execute_input": "2023-07-12T06:00:16.235350Z",
     "iopub.status.busy": "2023-07-12T06:00:16.234381Z",
     "iopub.status.idle": "2023-07-12T06:00:16.241699Z",
     "shell.execute_reply": "2023-07-12T06:00:16.240413Z"
    },
    "papermill": {
     "duration": 0.020358,
     "end_time": "2023-07-12T06:00:16.244492",
     "exception": false,
     "start_time": "2023-07-12T06:00:16.224134",
     "status": "completed"
    },
    "tags": []
   },
   "outputs": [],
   "source": [
    "def pipe(utterance, wikisparql):\n",
    "    linked = linker.link(utterance)\n",
    "    annotated = annotator.annotate(**linked)\n",
    "    converted = converter.preprocess(**annotated, wikisparql=wikisparql)\n",
    "    return linked, annotated, converted"
   ]
  },
  {
   "cell_type": "code",
   "execution_count": 6,
   "id": "34e366e5",
   "metadata": {
    "execution": {
     "iopub.execute_input": "2023-07-12T06:00:16.261965Z",
     "iopub.status.busy": "2023-07-12T06:00:16.260941Z",
     "iopub.status.idle": "2023-07-12T06:00:16.270634Z",
     "shell.execute_reply": "2023-07-12T06:00:16.269411Z"
    },
    "papermill": {
     "duration": 0.020834,
     "end_time": "2023-07-12T06:00:16.273277",
     "exception": false,
     "start_time": "2023-07-12T06:00:16.252443",
     "status": "completed"
    },
    "tags": []
   },
   "outputs": [],
   "source": [
    "def pipe_batch(utterances, wikisparqls):\n",
    "  batched = []\n",
    "  link_batch_start = time.time()\n",
    "  linked = linker.link_batch(utterances)\n",
    "  link_batch_end = time.time()\n",
    "  annotator_time = 0\n",
    "  converter_time = 0\n",
    "  for i, single_linked in enumerate(linked):\n",
    "    s = time.time()\n",
    "    annotated = annotator.annotate(**single_linked)\n",
    "    e = time.time()\n",
    "    annotator_time += e - s\n",
    "    s = time.time()\n",
    "    converted = converter.preprocess(**annotated, wikisparql=wikisparqls[i])\n",
    "    e = time.time()\n",
    "    converter_time += e - s\n",
    "    batched.append([single_linked, annotated, converted])\n",
    "  print(\"Link batch time:\", link_batch_end - link_batch_start)\n",
    "  print(\"Anno batch time:\", annotator_time)\n",
    "  print(\"Conv batch time:\", converter_time)\n",
    "  return batched"
   ]
  },
  {
   "attachments": {},
   "cell_type": "markdown",
   "id": "f17a6b9b",
   "metadata": {
    "papermill": {
     "duration": 0.0067,
     "end_time": "2023-07-12T06:00:16.287305",
     "exception": false,
     "start_time": "2023-07-12T06:00:16.280605",
     "status": "completed"
    },
    "tags": []
   },
   "source": [
    "## Data"
   ]
  },
  {
   "cell_type": "code",
   "execution_count": 7,
   "id": "2bfcb51c",
   "metadata": {
    "execution": {
     "iopub.execute_input": "2023-07-12T06:00:16.302978Z",
     "iopub.status.busy": "2023-07-12T06:00:16.301819Z",
     "iopub.status.idle": "2023-07-12T06:00:17.176344Z",
     "shell.execute_reply": "2023-07-12T06:00:17.174824Z"
    },
    "papermill": {
     "duration": 0.885212,
     "end_time": "2023-07-12T06:00:17.179227",
     "exception": false,
     "start_time": "2023-07-12T06:00:16.294015",
     "status": "completed"
    },
    "tags": []
   },
   "outputs": [],
   "source": [
    "from pathlib import Path\n",
    "import pandas as pd\n",
    "import json\n",
    "\n",
    "data_path = Path(\"..\") / \"t5-for-sparql\" / \"data\" / \"lcquad2\" / \"train.json\""
   ]
  },
  {
   "cell_type": "code",
   "execution_count": 8,
   "id": "597e5ba3",
   "metadata": {
    "execution": {
     "iopub.execute_input": "2023-07-12T06:00:17.197489Z",
     "iopub.status.busy": "2023-07-12T06:00:17.196944Z",
     "iopub.status.idle": "2023-07-12T06:00:17.561549Z",
     "shell.execute_reply": "2023-07-12T06:00:17.560552Z"
    },
    "papermill": {
     "duration": 0.376214,
     "end_time": "2023-07-12T06:00:17.563762",
     "exception": false,
     "start_time": "2023-07-12T06:00:17.187548",
     "status": "completed"
    },
    "tags": []
   },
   "outputs": [
    {
     "data": {
      "text/html": [
       "<div>\n",
       "<style scoped>\n",
       "    .dataframe tbody tr th:only-of-type {\n",
       "        vertical-align: middle;\n",
       "    }\n",
       "\n",
       "    .dataframe tbody tr th {\n",
       "        vertical-align: top;\n",
       "    }\n",
       "\n",
       "    .dataframe thead th {\n",
       "        text-align: right;\n",
       "    }\n",
       "</style>\n",
       "<table border=\"1\" class=\"dataframe\">\n",
       "  <thead>\n",
       "    <tr style=\"text-align: right;\">\n",
       "      <th></th>\n",
       "      <th>NNQT_question</th>\n",
       "      <th>uid</th>\n",
       "      <th>subgraph</th>\n",
       "      <th>template_index</th>\n",
       "      <th>question</th>\n",
       "      <th>sparql_wikidata</th>\n",
       "      <th>sparql_dbpedia18</th>\n",
       "      <th>template</th>\n",
       "      <th>answer</th>\n",
       "      <th>template_id</th>\n",
       "      <th>paraphrased_question</th>\n",
       "    </tr>\n",
       "  </thead>\n",
       "  <tbody>\n",
       "    <tr>\n",
       "      <th>0</th>\n",
       "      <td>What is the {periodical literature} for {mouth...</td>\n",
       "      <td>19719</td>\n",
       "      <td>simple question right</td>\n",
       "      <td>65</td>\n",
       "      <td>What periodical literature does Delta Air Line...</td>\n",
       "      <td>select distinct ?obj where { wd:Q188920 wdt:P...</td>\n",
       "      <td>select distinct ?obj where { ?statement &lt;http:...</td>\n",
       "      <td>&lt;S P ?O ; ?O instanceOf Type&gt;</td>\n",
       "      <td>[]</td>\n",
       "      <td>1</td>\n",
       "      <td>What is Delta Air Line's periodical literature...</td>\n",
       "    </tr>\n",
       "    <tr>\n",
       "      <th>1</th>\n",
       "      <td>What is {child of} of {husband} of {Ranavalona...</td>\n",
       "      <td>15554</td>\n",
       "      <td>left-subgraph</td>\n",
       "      <td>8</td>\n",
       "      <td>Who is the child of Ranavalona I's husband?</td>\n",
       "      <td>SELECT ?answer WHERE { wd:Q169794 wdt:P26 ?X ....</td>\n",
       "      <td>SELECT ?answer WHERE { ?statement1 &lt;http://www...</td>\n",
       "      <td>C RCD xD . xD RDE ?E</td>\n",
       "      <td>[]</td>\n",
       "      <td>5</td>\n",
       "      <td>What is the name of Ranavalona I's husband's c...</td>\n",
       "    </tr>\n",
       "    <tr>\n",
       "      <th>2</th>\n",
       "      <td>Did {Jeff_Bridges} {occupation} {Lane Chandler...</td>\n",
       "      <td>974</td>\n",
       "      <td>boolean double one_hop right subgraph</td>\n",
       "      <td>474</td>\n",
       "      <td>Is it true Jeff_Bridges occupation Lane Chandl...</td>\n",
       "      <td>ASK WHERE { wd:Q174843 wdt:P106 wd:Q1804811 . ...</td>\n",
       "      <td>ASK { ?statement1 &lt;http://www.w3.org/1999/02/...</td>\n",
       "      <td>Ask (ent-pred-obj1` . ent-pred-obj2)</td>\n",
       "      <td>[]</td>\n",
       "      <td>2</td>\n",
       "      <td>Are Jeff Bridges and Lane Chandler both photog...</td>\n",
       "    </tr>\n",
       "    <tr>\n",
       "      <th>3</th>\n",
       "      <td>What is {prequel of} of {phase of matter} of {...</td>\n",
       "      <td>15803</td>\n",
       "      <td>right-subgraph</td>\n",
       "      <td>33</td>\n",
       "      <td>What is the pre-requisite of phase matter of G...</td>\n",
       "      <td>SELECT ?answer WHERE { wd:Q675176 wdt:P515 ?X ...</td>\n",
       "      <td>SELECT ?answer WHERE { ?statement1 &lt;http://www...</td>\n",
       "      <td>E REF xF . xF RFG ?G</td>\n",
       "      <td>[]</td>\n",
       "      <td>2</td>\n",
       "      <td>What range are the papers at the Monique Genon...</td>\n",
       "    </tr>\n",
       "    <tr>\n",
       "      <th>4</th>\n",
       "      <td>What is &lt;operating income&gt; of &lt;Qantas&gt; ?</td>\n",
       "      <td>27610</td>\n",
       "      <td>center</td>\n",
       "      <td>1907</td>\n",
       "      <td>Which is the operating income for Qantas?</td>\n",
       "      <td>select distinct ?answer where { wd:Q32491 wdt:...</td>\n",
       "      <td>select distinct ?answer where { ?statement &lt;ht...</td>\n",
       "      <td>E REF ?F</td>\n",
       "      <td>[]</td>\n",
       "      <td>1.1</td>\n",
       "      <td>[]</td>\n",
       "    </tr>\n",
       "  </tbody>\n",
       "</table>\n",
       "</div>"
      ],
      "text/plain": [
       "                                       NNQT_question    uid  \\\n",
       "0  What is the {periodical literature} for {mouth...  19719   \n",
       "1  What is {child of} of {husband} of {Ranavalona...  15554   \n",
       "2  Did {Jeff_Bridges} {occupation} {Lane Chandler...    974   \n",
       "3  What is {prequel of} of {phase of matter} of {...  15803   \n",
       "4           What is <operating income> of <Qantas> ?  27610   \n",
       "\n",
       "                                subgraph  template_index  \\\n",
       "0                  simple question right              65   \n",
       "1                          left-subgraph               8   \n",
       "2  boolean double one_hop right subgraph             474   \n",
       "3                         right-subgraph              33   \n",
       "4                                 center            1907   \n",
       "\n",
       "                                            question  \\\n",
       "0  What periodical literature does Delta Air Line...   \n",
       "1        Who is the child of Ranavalona I's husband?   \n",
       "2  Is it true Jeff_Bridges occupation Lane Chandl...   \n",
       "3  What is the pre-requisite of phase matter of G...   \n",
       "4          Which is the operating income for Qantas?   \n",
       "\n",
       "                                     sparql_wikidata  \\\n",
       "0   select distinct ?obj where { wd:Q188920 wdt:P...   \n",
       "1  SELECT ?answer WHERE { wd:Q169794 wdt:P26 ?X ....   \n",
       "2  ASK WHERE { wd:Q174843 wdt:P106 wd:Q1804811 . ...   \n",
       "3  SELECT ?answer WHERE { wd:Q675176 wdt:P515 ?X ...   \n",
       "4  select distinct ?answer where { wd:Q32491 wdt:...   \n",
       "\n",
       "                                    sparql_dbpedia18  \\\n",
       "0  select distinct ?obj where { ?statement <http:...   \n",
       "1  SELECT ?answer WHERE { ?statement1 <http://www...   \n",
       "2   ASK { ?statement1 <http://www.w3.org/1999/02/...   \n",
       "3  SELECT ?answer WHERE { ?statement1 <http://www...   \n",
       "4  select distinct ?answer where { ?statement <ht...   \n",
       "\n",
       "                               template answer template_id  \\\n",
       "0         <S P ?O ; ?O instanceOf Type>     []           1   \n",
       "1                  C RCD xD . xD RDE ?E     []           5   \n",
       "2  Ask (ent-pred-obj1` . ent-pred-obj2)     []           2   \n",
       "3                  E REF xF . xF RFG ?G     []           2   \n",
       "4                              E REF ?F     []         1.1   \n",
       "\n",
       "                                paraphrased_question  \n",
       "0  What is Delta Air Line's periodical literature...  \n",
       "1  What is the name of Ranavalona I's husband's c...  \n",
       "2  Are Jeff Bridges and Lane Chandler both photog...  \n",
       "3  What range are the papers at the Monique Genon...  \n",
       "4                                                 []  "
      ]
     },
     "execution_count": 8,
     "metadata": {},
     "output_type": "execute_result"
    }
   ],
   "source": [
    "with open(data_path) as f:\n",
    "  data_dict = json.load(f)\n",
    "df = pd.DataFrame.from_dict(data_dict)\n",
    "df.head()"
   ]
  },
  {
   "cell_type": "code",
   "execution_count": 9,
   "id": "0112ef20",
   "metadata": {
    "execution": {
     "iopub.execute_input": "2023-07-12T06:00:17.580604Z",
     "iopub.status.busy": "2023-07-12T06:00:17.579768Z"
    },
    "papermill": {
     "duration": 45.052906,
     "end_time": "2023-07-12T06:01:02.624278",
     "exception": false,
     "start_time": "2023-07-12T06:00:17.571372",
     "status": "completed"
    },
    "tags": []
   },
   "outputs": [
    {
     "name": "stdout",
     "output_type": "stream",
     "text": [
      "Pipeline iter 0\n",
      "Pipeline iter 1\n",
      "Pipeline iter 2\n",
      "Pipeline iter 3\n",
      "Pipeline iter 4\n",
      "Pipeline iter 5\n",
      "Pipeline iter 6\n",
      "Pipeline iter 7\n",
      "Pipeline iter 8\n",
      "Pipeline iter 9\n",
      "Pipeline iter 10\n",
      "Pipeline iter 11\n",
      "Pipeline iter 12\n",
      "Pipeline iter 13\n",
      "Pipeline iter 14\n",
      "Pipeline iter 15\n",
      "Pipeline iter 16\n",
      "Pipeline iter 17\n",
      "Pipeline iter 18\n",
      "Pipeline iter 19\n",
      "Pipeline iter 20\n",
      "Pipeline iter 21\n",
      "Pipeline iter 22\n",
      "Pipeline iter 23\n",
      "Pipeline iter 24\n",
      "Pipeline iter 25\n",
      "Pipeline iter 26\n",
      "Pipeline iter 27\n",
      "Pipeline iter 28\n",
      "Pipeline iter 29\n",
      "Pipeline iter 30\n",
      "Pipeline iter 31\n",
      "Pipeline iter 32\n",
      "Pipeline iter 33\n",
      "Pipeline iter 34\n",
      "Pipeline iter 35\n",
      "Pipeline iter 36\n",
      "Pipeline iter 37\n",
      "Pipeline iter 38\n",
      "Pipeline iter 39\n",
      "Pipeline iter 40\n",
      "Pipeline iter 41\n",
      "Pipeline iter 42\n",
      "Pipeline iter 43\n",
      "Pipeline iter 44\n",
      "Pipeline iter 45\n",
      "Pipeline iter 46\n",
      "Pipeline iter 47\n",
      "Pipeline iter 48\n",
      "Pipeline iter 49\n",
      "[Pipeline1]: Linking 0-49\n",
      "1\n",
      "1\n",
      "1\n",
      "1\n",
      "1\n",
      "1\n",
      "1\n",
      "1\n",
      "1\n",
      "1\n",
      "1\n",
      "1\n",
      "1\n",
      "1\n",
      "1\n",
      "1\n",
      "1\n",
      "1\n",
      "1\n",
      "1\n",
      "1\n",
      "1\n",
      "1\n",
      "1\n"
     ]
    },
    {
     "name": "stdout",
     "output_type": "stream",
     "text": [
      "2\n",
      "[reRank_relations]: which is HanCinema person ID for Zhang Ziyi \n",
      " SPARQL Requests Made: 1 \n",
      "SPARQL Requests Total Time: 0.6948697566986084 \n",
      "SPARQL Avg Time per Qn: 0.6948697566986084\n",
      "[reRank_relations]: which is HanCinema person ID for Zhang Ziyi \n",
      " SPARQL Requests Made: 0 \n",
      "SPARQL Requests Total Time: 0 \n",
      "SPARQL Avg Time per Qn: 0\n",
      "3\n"
     ]
    },
    {
     "name": "stdout",
     "output_type": "stream",
     "text": [
      "4\n"
     ]
    },
    {
     "name": "stdout",
     "output_type": "stream",
     "text": [
      "5\n"
     ]
    },
    {
     "name": "stdout",
     "output_type": "stream",
     "text": [
      "6\n"
     ]
    },
    {
     "name": "stdout",
     "output_type": "stream",
     "text": [
      "[reRank_relations]: who Sleepwalking succeeded in playing Sleepwalking \n",
      " SPARQL Requests Made: 0 \n",
      "SPARQL Requests Total Time: 0 \n",
      "SPARQL Avg Time per Qn: 0\n"
     ]
    },
    {
     "name": "stdout",
     "output_type": "stream",
     "text": [
      "[reRank_relations]: what is the boiling point of pressure copper as 47030 \n",
      " SPARQL Requests Made: 4 \n",
      "SPARQL Requests Total Time: 5.751039505004883 \n",
      "SPARQL Avg Time per Qn: 1.4377598762512207\n",
      "7\n",
      "8\n"
     ]
    },
    {
     "name": "stdout",
     "output_type": "stream",
     "text": [
      "9\n"
     ]
    },
    {
     "name": "stdout",
     "output_type": "stream",
     "text": [
      "[reRank_relations]: who won the prize at the sequel of the 1885 Wimbledon Championships- Gentlemens Singles \n",
      " SPARQL Requests Made: 5 \n",
      "SPARQL Requests Total Time: 9.244554042816162 \n",
      "SPARQL Avg Time per Qn: 1.8489108085632324\n",
      "10\n"
     ]
    },
    {
     "name": "stdout",
     "output_type": "stream",
     "text": [
      "[reRank_relations]: which is the operating income for Qantas \n",
      " SPARQL Requests Made: 8 \n",
      "SPARQL Requests Total Time: 12.922450065612793 \n",
      "SPARQL Avg Time per Qn: 1.6153062582015991\n"
     ]
    },
    {
     "name": "stdout",
     "output_type": "stream",
     "text": [
      "[reRank_relations]: who is the student that coined the Euler-Lagrange equation \n",
      " SPARQL Requests Made: 1 \n",
      "SPARQL Requests Total Time: 2.1194007396698 \n",
      "SPARQL Avg Time per Qn: 2.1194007396698\n"
     ]
    },
    {
     "name": "stdout",
     "output_type": "stream",
     "text": [
      "[reRank_relations]: which is the operating income for Qantas \n",
      " SPARQL Requests Made: 1 \n",
      "SPARQL Requests Total Time: 2.050887107849121 \n",
      "SPARQL Avg Time per Qn: 2.050887107849121\n",
      "11\n",
      "[reRank_relations]: which website does Twitch own \n",
      " SPARQL Requests Made: 0 \n",
      "SPARQL Requests Total Time: 0 \n",
      "SPARQL Avg Time per Qn: 0\n",
      "[reRank_relations]: which website does Twitch own \n",
      " SPARQL Requests Made: 0 \n",
      "SPARQL Requests Total Time: 0 \n",
      "SPARQL Avg Time per Qn: 0\n",
      "12\n"
     ]
    },
    {
     "name": "stdout",
     "output_type": "stream",
     "text": [
      "[reRank_relations]: is Kevin Costner owner of Fielders Stadium \n",
      " SPARQL Requests Made: 6 \n",
      "SPARQL Requests Total Time: 12.381792068481445 \n",
      "SPARQL Avg Time per Qn: 2.063632011413574\n",
      "13\n"
     ]
    },
    {
     "name": "stdout",
     "output_type": "stream",
     "text": [
      "[reRank_relations]: is the minimal lethal dose of the benzene equal to 170000 \n",
      " SPARQL Requests Made: 1 \n",
      "SPARQL Requests Total Time: 2.0035016536712646 \n",
      "SPARQL Avg Time per Qn: 2.0035016536712646\n",
      "14\n"
     ]
    },
    {
     "name": "stdout",
     "output_type": "stream",
     "text": [
      "[reRank_relations]: who is the child of Ranavalona Is husband \n",
      " SPARQL Requests Made: 10 \n",
      "SPARQL Requests Total Time: 17.160552740097046 \n",
      "SPARQL Avg Time per Qn: 1.7160552740097046\n",
      "[reRank_relations]: who is the child of Ranavalona Is husband \n",
      " SPARQL Requests Made: 0 \n",
      "SPARQL Requests Total Time: 0 \n",
      "SPARQL Avg Time per Qn: 0\n"
     ]
    }
   ],
   "source": [
    "import time\n",
    "\n",
    "responses = []\n",
    "batch_qns = []\n",
    "batch_ans = []\n",
    "truncated_data = data_dict[0:1000]\n",
    "total_len = len(truncated_data)\n",
    "last = 0\n",
    "for i, data in enumerate(truncated_data):\n",
    "    print(\"Pipeline iter\", i)\n",
    "    question = data[\"question\"]\n",
    "    answer = data[\"sparql_wikidata\"]\n",
    "    # try:\n",
    "    #     linked, annotated, converted = pipe(question, answer)\n",
    "    # except Exception as e:\n",
    "    #     print(e)\n",
    "    #     continue\n",
    "    # responses.append([linked, annotated, converted])\n",
    "    batch_qns.append(question)\n",
    "    batch_ans.append(answer)\n",
    "    if ((i + 1) % 50) == 0 or i == total_len - 1:\n",
    "        print(\"[Pipeline1]:\", f\"Linking {last}-{i}\")\n",
    "        try:\n",
    "            for linked, annotated, converted in pipe_batch(batch_qns, batch_ans):\n",
    "                responses.append([linked, annotated, converted])\n",
    "            batch_qns = []\n",
    "            batch_ans = []\n",
    "            last = i\n",
    "        except Exception as e:\n",
    "            print(e)\n",
    "            continue\n",
    "        with open(f\"../t5-for-sparql/falcon_links/0/link_{i}.json\", \"w\") as f:\n",
    "            json.dump(responses, f, indent=2, separators=(',',':'))"
   ]
  },
  {
   "cell_type": "code",
   "execution_count": null,
   "id": "cc5659df",
   "metadata": {
    "papermill": {
     "duration": null,
     "end_time": null,
     "exception": null,
     "start_time": null,
     "status": "completed"
    },
    "tags": []
   },
   "outputs": [],
   "source": [
    "# qns = ['What is the operating income for Qantas?', 'What is Mary Lou Rettons International Olympic Committee athlete ID.']\n",
    "# l = linker.link_batch(qns)\n",
    "# print(l)"
   ]
  },
  {
   "cell_type": "code",
   "execution_count": null,
   "id": "4126392b",
   "metadata": {
    "papermill": {
     "duration": null,
     "end_time": null,
     "exception": null,
     "start_time": null,
     "status": "completed"
    },
    "tags": []
   },
   "outputs": [],
   "source": [
    "with open(\"hpc.json\", \"w\") as f:\n",
    "  json.dump(responses, f, indent=2 ,separators=(',', ': '))"
   ]
  }
 ],
 "metadata": {
  "kernelspec": {
   "display_name": "py310",
   "language": "python",
   "name": "python3"
  },
  "language_info": {
   "codemirror_mode": {
    "name": "ipython",
    "version": 3
   },
   "file_extension": ".py",
   "mimetype": "text/x-python",
   "name": "python",
   "nbconvert_exporter": "python",
   "pygments_lexer": "ipython3",
   "version": "3.10.12"
  },
  "papermill": {
   "default_parameters": {},
   "duration": 58.932987,
   "end_time": "2023-07-12T06:01:02.638892",
   "environment_variables": {},
   "exception": null,
   "input_path": "pipeline1.ipynb",
   "output_path": "pipeline1.papermill.ipynb",
   "parameters": {},
   "start_time": "2023-07-12T06:00:03.705905",
   "version": "2.4.0"
  }
 },
 "nbformat": 4,
 "nbformat_minor": 5
}
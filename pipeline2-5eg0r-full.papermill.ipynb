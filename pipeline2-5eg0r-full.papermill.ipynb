{
 "cells": [
  {
   "attachments": {},
   "cell_type": "markdown",
   "id": "94423708",
   "metadata": {
    "papermill": {
     "duration": 0.005988,
     "end_time": "2023-07-19T06:09:11.642353",
     "exception": false,
     "start_time": "2023-07-19T06:09:11.636365",
     "status": "completed"
    },
    "tags": []
   },
   "source": [
    "# Pipeline 2\n",
    "\n",
    "Produce top 5 entites + gold entities and 0 relations from falcon"
   ]
  },
  {
   "cell_type": "code",
   "execution_count": 1,
   "id": "50004e17",
   "metadata": {
    "execution": {
     "iopub.execute_input": "2023-07-19T06:09:11.665129Z",
     "iopub.status.busy": "2023-07-19T06:09:11.664466Z",
     "iopub.status.idle": "2023-07-19T06:09:13.477337Z",
     "shell.execute_reply": "2023-07-19T06:09:13.476369Z"
    },
    "papermill": {
     "duration": 1.829378,
     "end_time": "2023-07-19T06:09:13.482075",
     "exception": false,
     "start_time": "2023-07-19T06:09:11.652697",
     "status": "completed"
    },
    "tags": []
   },
   "outputs": [
    {
     "name": "stdout",
     "output_type": "stream",
     "text": [
      "[Flacon2.0 main.py]: no reranking, k=5\n"
     ]
    }
   ],
   "source": [
    "from pipeline import Falcon2Linker, SerialAnnotator, T5Converter\n",
    "import time\n",
    "from pprint import pprint"
   ]
  },
  {
   "cell_type": "code",
   "execution_count": 2,
   "id": "d722fccc",
   "metadata": {
    "execution": {
     "iopub.execute_input": "2023-07-19T06:09:13.500088Z",
     "iopub.status.busy": "2023-07-19T06:09:13.499245Z",
     "iopub.status.idle": "2023-07-19T06:09:13.710734Z",
     "shell.execute_reply": "2023-07-19T06:09:13.709607Z"
    },
    "papermill": {
     "duration": 0.225704,
     "end_time": "2023-07-19T06:09:13.714015",
     "exception": false,
     "start_time": "2023-07-19T06:09:13.488311",
     "status": "completed"
    },
    "tags": []
   },
   "outputs": [],
   "source": [
    "from pathlib import Path\n",
    "import pandas as pd\n",
    "import json\n",
    "\n",
    "data_path = Path(\"..\") / \"t5-for-sparql\" / \"data\" / \"lcquad2\" / \"train.json\"\n",
    "data2_path = Path(\"..\") / \"t5-for-sparql\" / \"data\" / \"lcquad2\" / \"test_KG_4211.json\"\n",
    "output_links_dir = Path(\"..\") / \"t5-for-sparql\" / \"falcon_links\" / \"5ents-gold_0rels\""
   ]
  },
  {
   "cell_type": "code",
   "execution_count": 3,
   "id": "5cdacf60",
   "metadata": {
    "execution": {
     "iopub.execute_input": "2023-07-19T06:09:13.730877Z",
     "iopub.status.busy": "2023-07-19T06:09:13.729875Z",
     "iopub.status.idle": "2023-07-19T06:09:13.739904Z",
     "shell.execute_reply": "2023-07-19T06:09:13.738858Z"
    },
    "papermill": {
     "duration": 0.022514,
     "end_time": "2023-07-19T06:09:13.742367",
     "exception": false,
     "start_time": "2023-07-19T06:09:13.719853",
     "status": "completed"
    },
    "tags": []
   },
   "outputs": [],
   "source": [
    "linker = Falcon2Linker()\n",
    "annotator = SerialAnnotator()\n",
    "converter = T5Converter()"
   ]
  },
  {
   "cell_type": "code",
   "execution_count": 4,
   "id": "5554f260",
   "metadata": {
    "execution": {
     "iopub.execute_input": "2023-07-19T06:09:13.759497Z",
     "iopub.status.busy": "2023-07-19T06:09:13.758860Z",
     "iopub.status.idle": "2023-07-19T06:09:13.764733Z",
     "shell.execute_reply": "2023-07-19T06:09:13.763460Z"
    },
    "papermill": {
     "duration": 0.020857,
     "end_time": "2023-07-19T06:09:13.767778",
     "exception": false,
     "start_time": "2023-07-19T06:09:13.746921",
     "status": "completed"
    },
    "tags": []
   },
   "outputs": [],
   "source": [
    "utterance = \"Who is the wife of Barack Obama\""
   ]
  },
  {
   "cell_type": "code",
   "execution_count": 5,
   "id": "e4dae8a0",
   "metadata": {
    "execution": {
     "iopub.execute_input": "2023-07-19T06:09:13.783033Z",
     "iopub.status.busy": "2023-07-19T06:09:13.782308Z",
     "iopub.status.idle": "2023-07-19T06:09:32.290769Z",
     "shell.execute_reply": "2023-07-19T06:09:32.289023Z"
    },
    "papermill": {
     "duration": 18.522162,
     "end_time": "2023-07-19T06:09:32.294220",
     "exception": false,
     "start_time": "2023-07-19T06:09:13.772058",
     "status": "completed"
    },
    "tags": []
   },
   "outputs": [
    {
     "name": "stdout",
     "output_type": "stream",
     "text": [
      "recieved utterance\n",
      "0 : ['Who is the wife of Barack Obama']\n"
     ]
    },
    {
     "name": "stdout",
     "output_type": "stream",
     "text": [
      "['Who is the wife of Barack Obama', [['<http://www.wikidata.org/entity/P26>', 'wife'], ['<http://www.wikidata.org/entity/P2848>', 'wife'], ['<http://www.wikidata.org/entity/P140>', 'wife'], ['<http://www.wikidata.org/entity/P451>', 'wife'], ['<http://www.wikidata.org/entity/P600>', 'wife']], [['<http://www.wikidata.org/entity/Q76>', 'Barack obama'], ['<http://www.wikidata.org/entity/Q649593>', 'Barack obama'], ['<http://www.wikidata.org/entity/Q4808526>', 'Barack obama'], ['<http://www.wikidata.org/entity/Q4858106>', 'Barack obama'], ['<http://www.wikidata.org/entity/Q643049>', 'Barack obama']], 0, 0, 0, 0]\n",
      "'Linked'\n",
      "{'ents': [{'id': 'Q76',\n",
      "           'prefix': 'wd:',\n",
      "           'uri': 'http://www.wikidata.org/entity/Q76'},\n",
      "          {'id': 'Q649593',\n",
      "           'prefix': 'wd:',\n",
      "           'uri': 'http://www.wikidata.org/entity/Q649593'},\n",
      "          {'id': 'Q4808526',\n",
      "           'prefix': 'wd:',\n",
      "           'uri': 'http://www.wikidata.org/entity/Q4808526'},\n",
      "          {'id': 'Q4858106',\n",
      "           'prefix': 'wd:',\n",
      "           'uri': 'http://www.wikidata.org/entity/Q4858106'},\n",
      "          {'id': 'Q643049',\n",
      "           'prefix': 'wd:',\n",
      "           'uri': 'http://www.wikidata.org/entity/Q643049'}],\n",
      " 'rels': [{'id': 'P26',\n",
      "           'prefix': 'wdt:',\n",
      "           'uri': 'http://www.wikidata.org/prop/direct/P26'},\n",
      "          {'id': 'P2848',\n",
      "           'prefix': 'wdt:',\n",
      "           'uri': 'http://www.wikidata.org/prop/direct/P2848'},\n",
      "          {'id': 'P140',\n",
      "           'prefix': 'wdt:',\n",
      "           'uri': 'http://www.wikidata.org/prop/direct/P140'},\n",
      "          {'id': 'P451',\n",
      "           'prefix': 'wdt:',\n",
      "           'uri': 'http://www.wikidata.org/prop/direct/P451'},\n",
      "          {'id': 'P600',\n",
      "           'prefix': 'wdt:',\n",
      "           'uri': 'http://www.wikidata.org/prop/direct/P600'}],\n",
      " 'utterance': 'Who is the wife of Barack Obama'}\n",
      "'Annotated'\n"
     ]
    },
    {
     "name": "stdout",
     "output_type": "stream",
     "text": [
      "{'fragments': ['[DEF]',\n",
      "               'wd:',\n",
      "               'Q76 Barack',\n",
      "               '[DEF]',\n",
      "               'wd:',\n",
      "               'Q649593 Barack Hussein Obama, Sr.',\n",
      "               '[DEF]',\n",
      "               'wd:',\n",
      "               'Q4808526 Obama assassination plot',\n",
      "               '[DEF]',\n",
      "               'wd:',\n",
      "               'Q4858106 Barack Obama Academy',\n",
      "               '[DEF]',\n",
      "               'wd:',\n",
      "               'Q643049 family of Barack Obama',\n",
      "               '[DEF]',\n",
      "               'wdt:',\n",
      "               'P26 partner',\n",
      "               '[DEF]',\n",
      "               'wdt:',\n",
      "               'P2848 wifi',\n",
      "               '[DEF]',\n",
      "               'wdt:',\n",
      "               'P140 religion',\n",
      "               '[DEF]',\n",
      "               'wdt:',\n",
      "               'P451 common-law spouse',\n",
      "               '[DEF]',\n",
      "               'wdt:',\n",
      "               'P600 Wine AppDB-ID'],\n",
      " 'utterance': 'Who is the wife of Barack Obama'}\n",
      "'Converted'\n",
      "('Who is the wife of Barack Obama <extra_id_59> <extra_id_53> Q76 Barack '\n",
      " '<extra_id_59> <extra_id_53> Q649593 Barack Hussein Obama, Sr. <extra_id_59> '\n",
      " '<extra_id_53> Q4808526 Obama assassination plot <extra_id_59> <extra_id_53> '\n",
      " 'Q4858106 Barack Obama Academy <extra_id_59> <extra_id_53> Q643049 family of '\n",
      " 'Barack Obama <extra_id_59> <extra_id_54> P26 partner <extra_id_59> '\n",
      " '<extra_id_54> P2848 wifi <extra_id_59> <extra_id_54> P140 religion '\n",
      " '<extra_id_59> <extra_id_54> P451 common-law spouse <extra_id_59> '\n",
      " '<extra_id_54> P600 Wine AppDB-ID')\n"
     ]
    }
   ],
   "source": [
    "linked = linker.link(utterance)\n",
    "# rules = [1,2,3,4,5,8,9,10,12,13,14]\n",
    "# linked = process_text_E_R(utterance, rules)\n",
    "pprint(\"Linked\")\n",
    "pprint(linked)\n",
    "\n",
    "pprint(\"Annotated\")\n",
    "annotated = annotator.annotate(**linked)\n",
    "pprint(annotated)\n",
    "\n",
    "pprint(\"Converted\")\n",
    "converted = converter.preprocess_inputs(**annotated)\n",
    "pprint(converted)"
   ]
  },
  {
   "cell_type": "code",
   "execution_count": 6,
   "id": "0c6bd5fc",
   "metadata": {
    "execution": {
     "iopub.execute_input": "2023-07-19T06:09:32.316571Z",
     "iopub.status.busy": "2023-07-19T06:09:32.315324Z",
     "iopub.status.idle": "2023-07-19T06:09:32.328907Z",
     "shell.execute_reply": "2023-07-19T06:09:32.327456Z"
    },
    "papermill": {
     "duration": 0.030879,
     "end_time": "2023-07-19T06:09:32.331705",
     "exception": false,
     "start_time": "2023-07-19T06:09:32.300826",
     "status": "completed"
    },
    "tags": []
   },
   "outputs": [],
   "source": [
    "import re\n",
    "\n",
    "def retrieve_gold_links(masked_wikisparql):\n",
    "  fragments = masked_wikisparql.upper().strip().split(' ')\n",
    "  ents = []\n",
    "  rels = []\n",
    "  result_dict = {\n",
    "    'ents': ents,\n",
    "    'rels': rels,\n",
    "  }\n",
    "  for fragment in fragments:\n",
    "    id_match = re.search('[QP][0-9]+',fragment)\n",
    "    if id_match:\n",
    "      id_raw = id_match.group(0)\n",
    "      if id_raw[0] == 'Q':\n",
    "        prefix = 'wdt:'\n",
    "        uri = 'http://www.wikidata.org/entity/' + id_raw\n",
    "        target_arr = ents\n",
    "      elif id_raw[0] == 'P':\n",
    "        prefix = 'wd:'\n",
    "        uri =  'http://www.wikidata.org/prop/direct/' + id_raw\n",
    "        target_arr = rels\n",
    "      else:\n",
    "        raise ValueError('ID does not start with P or Q')\n",
    "      match_dict = {\n",
    "        'id' : id_raw,\n",
    "        'prefix' : prefix,\n",
    "        'uri' : uri,\n",
    "      }\n",
    "      target_arr.append(match_dict)\n",
    "  return result_dict"
   ]
  },
  {
   "cell_type": "code",
   "execution_count": 7,
   "id": "892dc5b0",
   "metadata": {
    "execution": {
     "iopub.execute_input": "2023-07-19T06:09:32.350731Z",
     "iopub.status.busy": "2023-07-19T06:09:32.349691Z",
     "iopub.status.idle": "2023-07-19T06:09:32.357407Z",
     "shell.execute_reply": "2023-07-19T06:09:32.356355Z"
    },
    "papermill": {
     "duration": 0.023368,
     "end_time": "2023-07-19T06:09:32.360297",
     "exception": false,
     "start_time": "2023-07-19T06:09:32.336929",
     "status": "completed"
    },
    "tags": []
   },
   "outputs": [],
   "source": [
    "def pipe(utterance, wikisparql):\n",
    "    linked = linker.link(utterance)\n",
    "    annotated = annotator.annotate(**linked)\n",
    "    converted = converter.preprocess(**annotated, wikisparql=wikisparql)\n",
    "    return linked, annotated, converted"
   ]
  },
  {
   "cell_type": "code",
   "execution_count": 8,
   "id": "c19dea48",
   "metadata": {
    "execution": {
     "iopub.execute_input": "2023-07-19T06:09:32.380832Z",
     "iopub.status.busy": "2023-07-19T06:09:32.379854Z",
     "iopub.status.idle": "2023-07-19T06:09:32.396788Z",
     "shell.execute_reply": "2023-07-19T06:09:32.395516Z"
    },
    "papermill": {
     "duration": 0.032141,
     "end_time": "2023-07-19T06:09:32.398983",
     "exception": false,
     "start_time": "2023-07-19T06:09:32.366842",
     "status": "completed"
    },
    "tags": []
   },
   "outputs": [],
   "source": [
    "def pipe_batch(utterances, wikisparqls):\n",
    "  batched = []\n",
    "  link_batch_start = time.time()\n",
    "  linked = linker.link_batch(utterances)\n",
    "\n",
    "  assert len(linked) == len(wikisparqls)\n",
    "\n",
    "  for i, link in enumerate(linked):\n",
    "    gold_linked = retrieve_gold_links(wikisparqls[i])\n",
    "    new_ents=link['ents']\n",
    "    old_ents_set = set(x['id'] for x in link['ents'])\n",
    "    for gold_ent in gold_linked['ents']:\n",
    "        if gold_ent['id'] not in old_ents_set:\n",
    "            new_ents.append(gold_ent)\n",
    "    link['rels'] = []\n",
    "    assert len(linked[i]['rels']) == 0\n",
    "\n",
    "  link_batch_end = time.time()\n",
    "  s = time.time()\n",
    "  annotated = annotator.batch_annotate(linked)\n",
    "  e = time.time()\n",
    "  assert len(linked) == len(annotated)\n",
    "  annotator_time = e - s\n",
    "  converter_time = 0\n",
    "  for i, single_annotated in enumerate(annotated):\n",
    "    # annotated = annotator.annotate(**single_linked)\n",
    "    # try:\n",
    "    #   annotator_time += e - s\n",
    "    # except Exception as e:\n",
    "    #   print(\"[Annotator Error]:\", e)\n",
    "    #   continue\n",
    "    s = time.time()\n",
    "    try:\n",
    "      converted = converter.preprocess(**single_annotated, wikisparql=wikisparqls[i])\n",
    "    except Exception as e:\n",
    "      print(\"[Converter Error]:\", e)\n",
    "      continue\n",
    "      \n",
    "    e = time.time()\n",
    "    converter_time += e - s\n",
    "    batched.append([linked[i], annotated[i], converted])\n",
    "  print(\"Link batch time:\", link_batch_end - link_batch_start)\n",
    "  print(\"Anno batch time:\", annotator_time)\n",
    "  print(\"Conv batch time:\", converter_time)\n",
    "  return batched"
   ]
  },
  {
   "attachments": {},
   "cell_type": "markdown",
   "id": "fc011ffb",
   "metadata": {
    "papermill": {
     "duration": 0.0124,
     "end_time": "2023-07-19T06:09:32.418210",
     "exception": false,
     "start_time": "2023-07-19T06:09:32.405810",
     "status": "completed"
    },
    "tags": []
   },
   "source": [
    "## Data"
   ]
  },
  {
   "cell_type": "code",
   "execution_count": 9,
   "id": "fbd4bded",
   "metadata": {
    "execution": {
     "iopub.execute_input": "2023-07-19T06:09:32.443684Z",
     "iopub.status.busy": "2023-07-19T06:09:32.442766Z",
     "iopub.status.idle": "2023-07-19T06:09:33.135568Z",
     "shell.execute_reply": "2023-07-19T06:09:33.134412Z"
    },
    "papermill": {
     "duration": 0.708564,
     "end_time": "2023-07-19T06:09:33.138556",
     "exception": false,
     "start_time": "2023-07-19T06:09:32.429992",
     "status": "completed"
    },
    "tags": []
   },
   "outputs": [
    {
     "name": "stdout",
     "output_type": "stream",
     "text": [
      "Missing question count: 71\n",
      "Number of rows: 28247\n"
     ]
    }
   ],
   "source": [
    "with open(data_path) as f:\n",
    "  data_dict = json.load(f)\n",
    "\n",
    "with open(data2_path) as f:\n",
    "  data_dict.extend(json.load(f))\n",
    "\n",
    "count = 0\n",
    "\n",
    "for item in data_dict:\n",
    "  paraphrased_question = item[\"paraphrased_question\"]\n",
    "  question = item[\"question\"]\n",
    "  if paraphrased_question == None:\n",
    "    raise Exception\n",
    "  if question == None:\n",
    "    count += 1\n",
    "    # print(len(paraphrased_question) > 2)\n",
    "    # pprint(item)\n",
    "  if item[\"sparql_wikidata\"] == None:\n",
    "    raise Exception\n",
    "  \n",
    "\n",
    "  if len(paraphrased_question) > 2000:\n",
    "    paraphrased_question = question\n",
    "  # item[\"new_question\"] = paraphrased_question if len(paraphrased_question) > 2 and paraphrased_question != [] else question\n",
    "  item[\"new_question\"] = question\n",
    "\n",
    "print(\"Missing question count:\", count)\n",
    "\n",
    "df = pd.DataFrame.from_dict(data_dict)\n",
    "df = df.dropna(axis=0, subset=['new_question'])\n",
    "df = df[~df.question.isin(['n/a', None, 'none', 'None'])]\n",
    "n_entries = len(df)\n",
    "print(\"Number of rows:\", n_entries)"
   ]
  },
  {
   "cell_type": "code",
   "execution_count": 10,
   "id": "27a78287",
   "metadata": {
    "execution": {
     "iopub.execute_input": "2023-07-19T06:09:33.158870Z",
     "iopub.status.busy": "2023-07-19T06:09:33.158191Z",
     "iopub.status.idle": "2023-07-19T06:09:33.170019Z",
     "shell.execute_reply": "2023-07-19T06:09:33.169092Z"
    },
    "papermill": {
     "duration": 0.027184,
     "end_time": "2023-07-19T06:09:33.172678",
     "exception": false,
     "start_time": "2023-07-19T06:09:33.145494",
     "status": "completed"
    },
    "tags": []
   },
   "outputs": [],
   "source": [
    "assert(len(df[df.question.isna()]) == 0)"
   ]
  },
  {
   "cell_type": "code",
   "execution_count": 11,
   "id": "80626b61",
   "metadata": {
    "execution": {
     "iopub.execute_input": "2023-07-19T06:09:33.192663Z",
     "iopub.status.busy": "2023-07-19T06:09:33.192115Z",
     "iopub.status.idle": "2023-07-19T06:09:33.199375Z",
     "shell.execute_reply": "2023-07-19T06:09:33.198205Z"
    },
    "papermill": {
     "duration": 0.023106,
     "end_time": "2023-07-19T06:09:33.201956",
     "exception": false,
     "start_time": "2023-07-19T06:09:33.178850",
     "status": "completed"
    },
    "tags": []
   },
   "outputs": [
    {
     "name": "stdout",
     "output_type": "stream",
     "text": [
      "What periodical literature does Delta Air Lines use as a moutpiece?\n",
      "Who is the child of Ranavalona I's husband?\n",
      "Is it true Jeff_Bridges occupation Lane Chandler and photographer ?\n",
      "What is the pre-requisite of phase matter of Galinstan?\n",
      "Which is the operating income for Qantas?\n"
     ]
    }
   ],
   "source": [
    "for data in df[0:5].iterrows():\n",
    "    print(data[1].new_question)"
   ]
  },
  {
   "cell_type": "code",
   "execution_count": 12,
   "id": "f46eabdf",
   "metadata": {
    "execution": {
     "iopub.execute_input": "2023-07-19T06:09:33.220060Z",
     "iopub.status.busy": "2023-07-19T06:09:33.219413Z"
    },
    "papermill": {
     "duration": null,
     "end_time": null,
     "exception": false,
     "start_time": "2023-07-19T06:09:33.207841",
     "status": "running"
    },
    "tags": []
   },
   "outputs": [
    {
     "name": "stdout",
     "output_type": "stream",
     "text": [
      "\n",
      "[Pipeline2]: Linking 0-49\n",
      "1 : ['What periodical literature does Delta Air Lines use as a moutpiece?']\n",
      "1 : ['Who is the child of Ranavalona Is husband?']\n",
      "1 : ['Is it true Jeff_Bridges occupation Lane Chandler and photographer ?']\n",
      "1 : ['What is the pre-requisite of phase matter of Galinstan?']\n",
      "1 : ['Which is the operating income for Qantas?']\n",
      "1 : ['which cola starts with the letter p']\n",
      "1 : ['Is the right ascension of malin 1 less than 15.1398?']\n",
      "1 : ['What is the complete list of records released by Jerry Lee Lewis?']\n",
      "1 : ['What is Mary Lou Rettons International Olympic Committee athlete ID.']\n",
      "1 : ['Who won the prize at the sequel of the 1885 Wimbledon Championships- Gentlemens Singles?']\n",
      "1 : ['Is it true that the carbon footprint of the iPhone X Max is 106?']\n",
      "1 : ['Tell me the female beauty pageant that operates in all countries and contains the word model in its name?']\n",
      "1 : ['Did Lindsey Vonn participate in the FIS Alpine World Ski Championships in 1999 and 2019?']\n",
      "1 : ['When position did Angela Merkel hold on November 10, 1994?']\n",
      "1 : ['On 0-0-2007, what is the populaton of Spokane?']\n",
      "1 : ['What essential medicine is needed to treat leprosy?']\n",
      "1 : ['Which is HanCinema person ID for Zhang Ziyi?']\n",
      "1 : ['Did Judi Densch receive a Tony Award for best direction of the play Premium Imperiale?']\n",
      "1 : ['What is the boiling point of pressure copper as 4703.0?']\n",
      "1 : ['After what is Marathon named and what is the current record?']\n",
      "1 : ['Who Sleepwalking succeeded in playing Sleepwalking?']\n",
      "1 : ['What did Clifton Chenier get nominated for in 1983-0-0?']\n",
      "1 : ['Which is the wear for Ambrose Burnside?']\n",
      "1 : ['Which Class IB flammable liquid has the least lower flammable limit?']\n",
      "1 : ['What is the material used and approved by Mojito?']\n",
      "1 : ['Could you summarize Koreas history of this topic?']\n",
      "1 : ['Which is {landscape of} of {Virgin of the rocks}, which has {birth city} is {Tzippori} ?']\n",
      "1 : ['Is Kevin Costner owner of Fielders Stadium?']\n",
      "1 : ['Which is the YouTube channel ID for Miley Cyrus?']\n",
      "1 : ['What is a skill that starts with the letter s.']\n",
      "1 : ['How many dimensions have a Captain America?']\n",
      "1 : ['What award did Danila Kozlovsky receive in 2017?']\n"
     ]
    },
    {
     "name": "stdout",
     "output_type": "stream",
     "text": [
      "2 : ['Who is the student that coined the Euler-Lagrange equation?']\n"
     ]
    },
    {
     "name": "stdout",
     "output_type": "stream",
     "text": [
      "3 : ['Which website does Twitch own?']\n"
     ]
    },
    {
     "name": "stdout",
     "output_type": "stream",
     "text": [
      "4 : ['Is the minimal lethal dose of the benzene equal to 170000?']\n",
      "5 : ['Who is the person that was a student of Ivan Pavlov?']\n",
      "6 : ['is the clock speed of the Watara Supervision smaller than 3.2?']\n"
     ]
    },
    {
     "name": "stdout",
     "output_type": "stream",
     "text": [
      "7 : ['What country is the current leader of the African Union ?']\n"
     ]
    },
    {
     "name": "stdout",
     "output_type": "stream",
     "text": [
      "8 : ['Who works for the accused Mariposa Folk Festival 1974?']\n",
      "9 : ['What sister city was born in of Zakhar Oskotsky?']\n",
      "10 : ['Tell me the name of a fantastique genre that starts with the letter s.']\n"
     ]
    },
    {
     "name": "stdout",
     "output_type": "stream",
     "text": [
      "11 : ['What is the medal Angela Lansbury recieved?']\n",
      "12 : ['What is the musical score by Missa Solemnis that has mother Maria Magdalena van Beethoven?']\n"
     ]
    },
    {
     "name": "stdout",
     "output_type": "stream",
     "text": [
      "13 : ['When did Robert De Niro reside in Marbletown?']\n",
      "14 : ['Tell me organization whose name has the word  zollkriminalamt  in it.']\n",
      "15 : ['Which member state of the International Centre for Settlement of Investment Disputes has the maximum inflation rate?']\n",
      "16 : ['Was Brittany Murphy a citizen of the USA?']\n",
      "17 : ['Who is the partner and the spouse of Hank Azaria?']\n"
     ]
    },
    {
     "name": "stdout",
     "output_type": "stream",
     "text": [
      "18 : ['Does St. Peters Junior School maximum age equal to 11?']\n",
      "19 : ['Which country has highest individual tax rate?']\n"
     ]
    },
    {
     "name": "stdout",
     "output_type": "stream",
     "text": [
      "Link batch time: 11.630293607711792\n",
      "Anno batch time: 218.19137382507324\n",
      "Conv batch time: 0.005621433258056641\n",
      "\n",
      "\n",
      "[Pipeline2]: Linking 49-99\n",
      "51 : ['When did James Thomas Farrell receive the St. Louis Literary Award?']\n",
      "51 : ['When was Pablo Picassos partnership with Fernade Oliver over?']\n",
      "51 : ['What is the product with the lowest consumption rate per capita whose has part is paraffin wax?']\n",
      "51 : ['What are the coordinates for the geographic center of Michigan, as determined by the center of gravity of the surface?']\n",
      "51 : ['Is the life expectancy of Indonesia 55.3528?']\n",
      "51 : ['When did Emmerson Mnangagwa begin going to the University of Zambia?']\n",
      "51 : ['What kind of career does Grigori Kozintsev have in the screenwriting field?']\n",
      "51 : ['what is hypothetical protein ecia139-4120 habitat of found in species?']\n",
      "51 : ['What sovereign state replaced the Kingdom of Great Britain?']\n",
      "51 : ['Of the century breaks of the Colm Gilcreest equal less than 9.6?']\n",
      "51 : ['In which country the Golden Horde used to live ?']\n",
      "51 : ['Located in the Central District, what is the county seat whose twin cities include Feodosiya?']\n",
      "51 : ['When did Nicaragua count a population of 3.87732e+06 inhabitants?']\n",
      "51 : ['What does emigration mean?']\n",
      "51 : ['Which is the meta-organization that is regulated by the football association?']\n",
      "51 : ['When was the spouse divorced Nero in 9-6-68']\n",
      "51 : ['Former champion Francisco Alarcon gave what award to Art Spiegelaman?']\n",
      "51 : ['Are there more than 0 survivors of the Charkhi Dadri mid-air collision']\n",
      "51 : ['When did Secretariat receive the Triple Crown Trophy?']\n",
      "51 : ['Which borders of borders of Riverside have a start date of 1984-0-0?']\n",
      "51 : ['Which is the facility of the defensive wall?']\n",
      "51 : ['What is  in the IHO Hydrographic Dictionary (S-32) Number of lighthouse ?']\n",
      "51 : ['Which is the fictional analog of Hippocampus?']\n",
      "51 : ['What is a cause of death that begins with the letter p and can be found on a CT scan?']\n",
      "51 : ['What is established by Archbishop of Canterbury, who is a male?']\n",
      "51 : ['In what area is Fernandel buried at the Passy Cemetery?']\n",
      "51 : ['Name the naval artillery wirh the smallest firing range?']\n",
      "51 : ['What is the name of a Cayenne Pepper that also has dates?']\n",
      "51 : ['Is the throughput of the Vest-vassdraget equal to 2697.672?']\n",
      "51 : ['What method did the census use to determine the population of Taguig?']\n",
      "51 : ['What award did Olga Tokarczuk receive in 2015?']\n",
      "51 : ['What is Porky Pig in right now?']\n"
     ]
    },
    {
     "name": "stdout",
     "output_type": "stream",
     "text": [
      "52 : ['When did publisher of Pac-Man and place of publication?']\n"
     ]
    },
    {
     "name": "stdout",
     "output_type": "stream",
     "text": [
      "53 : ['Was Aleister Crowley educated at Trinity College and Eton College?']\n"
     ]
    },
    {
     "name": "stdout",
     "output_type": "stream",
     "text": [
      "54 : ['What is {located next to Quincy,} in the {novel, Infinite Jest}?']\n",
      "55 : ['Who awarded Eric Hobsbawm an honorary doctorate?']\n"
     ]
    },
    {
     "name": "stdout",
     "output_type": "stream",
     "text": [
      "56 : ['What was the last team Allan Border belonged to in the year 1980?']\n",
      "57 : ['Give me a film character from a fictional universe, such as Marvel comics that starts with a W.']\n",
      "58 : ['Mention the fictional universe described or included in The Matrix.']\n",
      "59 : ['What is {award received} of {Hans Krebs} where {point in time} is {1966-0-0} ?']\n"
     ]
    },
    {
     "name": "stdout",
     "output_type": "stream",
     "text": [
      "60 : ['Which record label signed Janet Jackson?']\n",
      "61 : ['What is Tanzanias total reserves?']\n",
      "62 : ['Does the slope rating of the Merion Golf Club equal 149']\n",
      "63 : ['What is the density of hydrogen peroxide at a temperature of 20.0?']\n"
     ]
    },
    {
     "name": "stdout",
     "output_type": "stream",
     "text": [
      "64 : ['who architecture firm of home field of new york centaurs?']\n",
      "65 : ['Which { meansseason starts} in {February} ?']\n",
      "66 : ['Who is {champ} of {prize awarded} {Lily Tomlin} ?']\n",
      "67 : ['What is the ammunition of the weapon, that has been used in the war in Southeast Asia?']\n"
     ]
    },
    {
     "name": "stdout",
     "output_type": "stream",
     "text": [
      "68 : ['Tell me every horse breed whose name starts with the letter z']\n"
     ]
    },
    {
     "name": "stdout",
     "output_type": "stream",
     "text": [
      "69 : ['The University of Florida is a member of which coalition?']\n"
     ]
    },
    {
     "name": "stdout",
     "output_type": "stream",
     "text": [
      "Link batch time: 9.98599624633789\n",
      "Anno batch time: 191.4704246520996\n",
      "Conv batch time: 0.004129171371459961\n",
      "\n",
      "\n",
      "[Pipeline2]: Linking 99-149\n",
      "101 : ['Who is the brother in law of the writer Quran?']\n",
      "101 : ['What is the New Zealand Gazetteer place id for Auckland?']\n",
      "101 : ['What does the painting Grade Odalisque represent which has DRTL backwards?']\n",
      "101 : ['Name an empire that contains the word british in its name']\n",
      "101 : ['What is the instance of Antonio da Correggio whose date of birth is 1489-8-1?']\n",
      "101 : ['Who was the teacher that supervised Shigeno Yasutsugu?']\n",
      "101 : ['What is the SANDRE ID for Rhine?']\n",
      "101 : ['When did Kylie Minogue receive the Gold Logie Award for Most Popular Personality on Australian Television?']\n",
      "101 : ['What business does Alexander McQueen have?']\n",
      "101 : ['Tell me the Greek deity of sibling of Zeus and that contains the word poseidon in its name?']\n",
      "101 : ['Who organizes the order of Ultima III: Exodus?']\n",
      "101 : ['Who was the lead actor for the movie Deadpool?']\n",
      "101 : ['Mention the musical related work highlighting the work of Sasha Grey.']\n",
      "101 : ['What award did John de Mol receive in 2011?']\n",
      "101 : ['Is the total fertility rate of Algeria greater than 3.4284?']\n",
      "101 : ['When will the pressure and temperature of water reach the triple point stage?']\n",
      "101 : ['Tell me physical phenomenon whose name has the word surface in it.']\n",
      "101 : ['where does Vladimir putin reside?']\n",
      "101 : ['Which is the municipality of Belgium that has the headquarters location of European Union?']\n",
      "101 : ['Which is made from the goat meat having a common name as Domestic Goat?']\n",
      "101 : ['What is located on terrain feature of Multonmah Falls?']\n",
      "101 : ['Stonewall Jackson commanded what battle?']\n",
      "101 : ['Mention the temperature and the state of the matter of water upon achieving the critical point']\n",
      "101 : ['which is the point time for syria has population as 8.08815e+06?']\n",
      "101 : ['Does marketing involve Human communication, and packaging and labeling?']\n",
      "101 : ['WHICH IS THE STAGE RACE WITH THE MAXIMUM FREQUENCY OF EVENT']\n",
      "101 : ['WHICH IS THE AUSTRIAN MUNICIPALITY KEY OF  KLAGENFURT']\n",
      "101 : ['Tell me the autonomous region of the Peoples Republic of China which contains the word xinjiang in its name?']\n",
      "101 : ['What is the Velká pardubická with the lowest race time whose winner is Peter Gehm?']\n",
      "101 : ['Who is the author of the Watchmen and what award did they receive?']\n",
      "101 : ['Name a book written in Esperanto']\n",
      "101 : ['What is the general manager of Bernard Hinault?']\n"
     ]
    },
    {
     "name": "stdout",
     "output_type": "stream",
     "text": [
      "102 : ['Name the FSK 12 rated 3D film with the highest cost ?']\n"
     ]
    },
    {
     "name": "stdout",
     "output_type": "stream",
     "text": [
      "103 : ['How many are interested in Daniel Dennett?']\n",
      "104 : ['In 1996, what significant event happened in the administrative territorial entity of Bristol?']\n"
     ]
    },
    {
     "name": "stdout",
     "output_type": "stream",
     "text": [
      "105 : ['Where is the river source of the Rhine?']\n"
     ]
    },
    {
     "name": "stdout",
     "output_type": "stream",
     "text": [
      "106 : ['What was Cate Blanchett nominated for her work in Im Not There?']\n",
      "107 : ['Tell me the tower that is depicted as Tower of Babel and contains the word babel in its name?']\n",
      "108 : ['What position was held by Harold Macmillan in the 34th Parliament of the United Kingdom, when was he elected, and why did he leave?']\n",
      "109 : ['is the maximum wavelength of sensitivity of the human eye equal to 700?']\n"
     ]
    },
    {
     "name": "stdout",
     "output_type": "stream",
     "text": [
      "110 : ['Where was the location of birth of Hermann Heinrich Gossen, that has Q48460 such that 2--4355126?']\n",
      "111 : ['Who received the Nobel Prize in Literature after Mo Yan?']\n"
     ]
    },
    {
     "name": "stdout",
     "output_type": "stream",
     "text": [
      "112 : ['When did Eiji Toyoda win an award for his work in Order of Prince Henry?']\n"
     ]
    },
    {
     "name": "stdout",
     "output_type": "stream",
     "text": [
      "113 : ['When was Jimmy Wales employed as Bomis and when did he leave?']\n"
     ]
    },
    {
     "name": "stdout",
     "output_type": "stream",
     "text": [
      "114 : ['Which is the author of afterword of Erich Fromm?']\n",
      "115 : ['Who are worked for Michelle Wolf and its source location of group/organisation is located in New York City?']\n"
     ]
    },
    {
     "name": "stdout",
     "output_type": "stream",
     "text": [
      "116 : ['What are the unit of measurement which start with the letter visus']\n",
      "117 : ['what was the publication date for iTunes which has software version as 12.7.5?']\n"
     ]
    },
    {
     "name": "stdout",
     "output_type": "stream",
     "text": [
      "118 : ['Dennis M. Ritchie designed which structured programming language?']\n",
      "119 : ['What role does Mickey Mouse play in the creative work of Ben Sharpsteen?']\n"
     ]
    },
    {
     "name": "stdout",
     "output_type": "stream",
     "text": [
      "Link batch time: 14.28144097328186\n",
      "Anno batch time: 405.2343180179596\n",
      "Conv batch time: 0.004532814025878906\n",
      "\n",
      "\n",
      "[Pipeline2]: Linking 149-199\n",
      "151 : ['What is the stock exchange for the ticker symbol 0700 in Tencent?']\n",
      "151 : ['What are the head of state and the office held by head of state of the Soviet Union?']\n",
      "151 : ['What is the name of award recieved for Dawn Fraser has participant of 1960 Summer Olympics ?']\n",
      "151 : ['What is the parent organization for the International Court of Justice?']\n",
      "151 : ['What is the beginning of Sarajevos']\n",
      "151 : ['What significant event in 1978-6-1 is Michelle Bachelet known for?']\n",
      "151 : ['What is the solubility of methyl chloride in water?']\n",
      "151 : ['What five U.S. states does the Delaware River drain from?']\n",
      "151 : ['Which birth language is Chizoba Ejike?']\n",
      "151 : ['What is the ionization energy of the nicotine?']\n",
      "151 : ['Is tuberculosis prevalent?']\n",
      "151 : ['Who is {creators} of {language of the original work} {Star Trek Into Darkness} ?']\n",
      "151 : ['Who is the spouse of Aaliyah and when did they divorce?']\n",
      "151 : ['What is {inhabitants} {nationality} of {Leopold von Sacher-Masoch} ?']\n",
      "151 : ['What is the affiliation building in Columbia University']\n",
      "151 : ['What is the commune of France with the lowest population whose located in time zone is UTC+01:00?']\n",
      "151 : ['What is the district of the city with the MAX(number of houses whose instance of is district of the city?']\n",
      "151 : ['What is Bram Stokers occupation and field of work and did he work in Dublin Castle?']\n",
      "151 : ['How many seasons of Handball-Bundesliga are there?']\n",
      "151 : ['What is place of residence of Wangari Maathai,that has inflation rate of consumer price index as 2.9?']\n",
      "151 : ['Who is the child of Pompey and the mother, Mucia Tertia?']\n",
      "151 : ['Name an alcoholic beverage that contains the word rum  in its name']\n",
      "151 : ['How many terminus are in Vienna']\n",
      "151 : ['What is in the region of Paroo River, that divides into Ku-ring-gai Council?']\n",
      "151 : ['What has been the ister city of Changchun since Aug 25th, 1992?']\n",
      "151 : ['How many rivers and lakes are connected to Lake Urmia?']\n",
      "151 : ['Tell me soil type whose name has the word vertisol in it.']\n",
      "151 : ['What is Lizzy Yarnolds TheSports.org athlete ID?']\n",
      "151 : ['What is { award received } from { Justin Timberlake } that is { point in time } is { 2007 - 0 - 0 }?']\n",
      "151 : ['Which religious concept starts with the letter t']\n",
      "151 : ['Is it true that the explosive energy equivalent of Father of All Bombs is less than 52.8?']\n",
      "151 : ['When did child of Abigail Adams and date of birth?']\n"
     ]
    },
    {
     "name": "stdout",
     "output_type": "stream",
     "text": [
      "152 : ['Does the Becherovka alcohol by volume less than 30.4']\n"
     ]
    },
    {
     "name": "stdout",
     "output_type": "stream",
     "text": [
      "153 : ['What are the prefecture-level city  which start with the letter ürümqi']\n"
     ]
    },
    {
     "name": "stdout",
     "output_type": "stream",
     "text": [
      "154 : ['tell me ceremony whose name has the word umhlanga in it']\n",
      "155 : ['Which is {played as} of {symbol} of {inequality} ?']\n"
     ]
    },
    {
     "name": "stdout",
     "output_type": "stream",
     "text": [
      "156 : ['What is edition runtime for League of Legends?']\n"
     ]
    },
    {
     "name": "stdout",
     "output_type": "stream",
     "text": [
      "157 : ['What is the name of the Dutch municipal coat of arms of Amsterdam?']\n",
      "158 : ['Which is the sauce that originated in Korea?']\n"
     ]
    },
    {
     "name": "stdout",
     "output_type": "stream",
     "text": [
      "159 : ['How many depositors are with the {United Nations Secretary-General} ?']\n",
      "160 : ['Which is the electric charge for antihydrogen?']\n",
      "161 : ['Who gave the {is shown in} of {based upon} of {Clark Kent} ?']\n"
     ]
    },
    {
     "name": "stdout",
     "output_type": "stream",
     "text": [
      "162 : ['How far west are we?']\n",
      "163 : ['Tell me national association football team whose name has the word team in it.']\n",
      "164 : ['Tell me the most notable work of Christopher Hitchens and also the publisher.']\n",
      "165 : ['What is the INSEE countries and foreign territories code for the Democratic Republic of Congo?']\n"
     ]
    },
    {
     "name": "stdout",
     "output_type": "stream",
     "text": [
      "166 : ['What is the warheroes.ru ID for Yuri Gagarin?']\n",
      "167 : ['Is the diameter pf nickel equal to 0.807?']\n"
     ]
    },
    {
     "name": "stdout",
     "output_type": "stream",
     "text": [
      "168 : ['Is the stated age of Rolf-Axel Eberhardt greater than 52?']\n",
      "169 : ['When Podgorica started as Principality of Montenegro?']\n"
     ]
    },
    {
     "name": "stdout",
     "output_type": "stream",
     "text": [
      "Link batch time: 9.996766328811646\n",
      "Anno batch time: 231.98601174354553\n",
      "Conv batch time: 0.005613803863525391\n",
      "\n",
      "\n",
      "[Pipeline2]: Linking 199-249\n",
      "201 : ['IS THE ENTHALPY OF VAPORIZATION OF METHANOL IS EQUAL TO 37400']\n",
      "201 : ['What award was received Mary Tyler Moore ?']\n",
      "201 : ['what is Tuesday named after?']\n",
      "201 : ['How many of the archives are for Grace Hopper?']\n",
      "201 : ['Which is the narrative location of Siddhartha?']\n",
      "201 : ['Where is the place of Tartuffes first performance with the farthest east coordinates of 48.8363848 2.4697602?']\n",
      "201 : ['What are the military operation which start with the letter o']\n",
      "201 : ['Is the matches/games drawn/tied of the 2001 British and Irish Lions tour to Australia equal to 0?']\n",
      "201 : ['Who is the mother and husband of Candice Bergen?']\n",
      "201 : ['Which language written from Romy Schneider, has the grammatical person speaking as the third personal plural?']\n",
      "201 : ['Does the cash back of the Gold  ADAC Credit Card equals 5?']\n",
      "201 : ['Who is the opposite of the superhero?']\n",
      "201 : ['What is the use of playing World Rugby?']\n",
      "201 : ['What is the current population of Aden?']\n",
      "201 : ['what is spouse of Carlos Saura that is start time is 2006?']\n",
      "201 : ['How many numbers of exclave for the  {Azerbaijan} ?']\n",
      "201 : ['Which is the total equity of Micron Technology?']\n",
      "201 : ['Was Michael J. Foxs place of birth in Edmonton?']\n",
      "201 : ['What is Palace of Westminsters architect and heritage designation?']\n",
      "201 : ['is it true that the SSK6-1s optimum viable temperature is greater than 24.0?']\n",
      "201 : ['Which country housed the Indian Independence Movement?']\n",
      "201 : ['Name a nonmetal discovered in England  that starts with letter O']\n",
      "201 : ['What did Sidney Crosby draft?']\n",
      "201 : ['How many shogun military ranks are there?']\n",
      "201 : ['Who was presumably thought to be a student of Strabo?']\n",
      "201 : ['What position did John Hume hold, when was he elected, and what position did he hold in the 53rd Parliament of the United Kingdom?']\n",
      "201 : ['Who is the son of Jacob Conover?']\n",
      "201 : ['Gordon Lightfoot was nominated for what at what time?']\n",
      "201 : ['What is John Xs persumed date of date according to sourcing circumstances?']\n",
      "201 : ['Which is the patron saint of the place of death of Anna de Medici?']\n",
      "201 : ['Is it true that the fee of Harvard University is less than 90?']\n",
      "201 : ['What is BIA PSY person ID for Carl Rogers ?']\n"
     ]
    },
    {
     "name": "stdout",
     "output_type": "stream",
     "text": [
      "202 : ['Who is the captain of F.C. Porto?']\n"
     ]
    },
    {
     "name": "stdout",
     "output_type": "stream",
     "text": [
      "203 : ['What are the autonomous region of the Peoples Republic of China which start with the letter X']\n",
      "204 : ['What is the time zone that Marseille is located in?']\n"
     ]
    },
    {
     "name": "stdout",
     "output_type": "stream",
     "text": [
      "205 : ['What award did Harry Martinson adn Eyvind Johnson receive together?']\n",
      "206 : ['Mention the headquarter location of the Russian Orthodox Church monastery.']\n"
     ]
    },
    {
     "name": "stdout",
     "output_type": "stream",
     "text": [
      "207 : ['What is Bandysidan player ID for Sergey Lomanov ?']\n"
     ]
    },
    {
     "name": "stdout",
     "output_type": "stream",
     "text": [
      "208 : ['Who are the writers of the academic subject Ten simple rules for editing Wikipedia?']\n",
      "209 : ['Name the female who discovered the Horsehead Nebula.']\n",
      "210 : ['Name a fruit composed of Citrullus lanatus that starts with letter W']\n"
     ]
    },
    {
     "name": "stdout",
     "output_type": "stream",
     "text": [
      "211 : ['What conflict is depicted is Raising the Flag on Iwo Jima?']\n",
      "212 : ['What what is unary operation notation by integral symbol and which that starts with {i}']\n",
      "213 : ['What is being treated in an individual with arteriosclerosis?']\n"
     ]
    },
    {
     "name": "stdout",
     "output_type": "stream",
     "text": [
      "214 : ['What is the category for recipients for the Noble Prize?']\n",
      "215 : ['At what rate was inflation in Venezuela in the year 1996?']\n"
     ]
    },
    {
     "name": "stdout",
     "output_type": "stream",
     "text": [
      "216 : ['When was Vittorio De Sica nominated for an Academy Award for Best Supporting Actor?']\n"
     ]
    },
    {
     "name": "stdout",
     "output_type": "stream",
     "text": [
      "217 : ['What is Auñamendi ID of Miguel López de Legazpi ?']\n"
     ]
    },
    {
     "name": "stdout",
     "output_type": "stream",
     "text": [
      "218 : ['What is the timezone of the place Sallust died?']\n",
      "219 : ['Did the East India Company own the Britannia and the Busbridge?']\n"
     ]
    },
    {
     "name": "stdout",
     "output_type": "stream",
     "text": [
      "Link batch time: 10.949138164520264\n",
      "Anno batch time: 198.54786038398743\n",
      "Conv batch time: 0.0041027069091796875\n",
      "\n",
      "\n",
      "[Pipeline2]: Linking 249-299\n",
      "251 : ['Which is the ISNI for Marit Bjørgen?']\n",
      "251 : ['What is total fertility rate of Trinidad and Tobago that is determination method is estimation process ?']\n",
      "251 : ['Which church is located in the parish border Krukengrund?']\n",
      "251 : ['What was Philip Roth nominated for in 2011?']\n",
      "251 : ['Where is the deathplace of Gediminas, whose twin town is Irkutsk?']\n",
      "251 : ['What is the fuel system of electricity?']\n",
      "251 : ['In the 68th Academy Awards, what nomination did Mira Sorvino receive?']\n",
      "251 : ['Tell me interface standard whose name has the word virtuallink in it.']\n",
      "251 : ['What is Ferenc Molnars compArt person ID?']\n",
      "251 : ['Which is the Great Aragonese Encyclopedia ID for Allium cepa?']\n",
      "251 : ['Tell me medical specialty whose name has the word trichology in it.']\n",
      "251 : ['how many performances are by jimi hendrix?']\n",
      "251 : ['What is the state of India that contain the word uttarakhand in its name ?']\n",
      "251 : ['Who is drafted by the Boston Celtics?']\n",
      "251 : ['Name the BAFTA settlement with the postcode DA.']\n",
      "251 : ['Is the maximum number of players for the coxless four 0.0?']\n",
      "251 : ['Name a religious concept in Hinduism that contains the word yatra in its name']\n",
      "251 : ['Which is the golf course arena carrying designs patterns of Donald Trump?']\n",
      "251 : ['What is the religious affiliation of Vladimir the Greats child?']\n",
      "251 : ['What was the population of the Maldives in 1967?']\n",
      "251 : ['What year did Le Corbusier win the Frank P. Brown Medal?']\n",
      "251 : ['Tell me the city which is enclaved within Montreal.']\n",
      "251 : ['who was the pope replaced by?']\n",
      "251 : ['Is it true that the minimum wavelength sensitivity of the Giant Magellan Telescope is 320?']\n",
      "251 : ['Which is a used metre of lliad?']\n",
      "251 : ['Where is {on harbour} of {Kryvyi Rih}, which has {tributary} is {Saksahan} ?']\n",
      "251 : ['Who stars with Ian Carlyle in the production?']\n",
      "251 : ['What causes rain?']\n",
      "251 : ['What is the service branch  by Julius and Ethel Rosenberg, which has subsidiary entities including Arlington National Cemetery?']\n",
      "251 : ['Was Hank WIlliams a rockabilly and honky-tonk musician?']\n",
      "251 : ['When did Aaron Kwok receive the award for Golden Horse Award for Best Leading Actor?']\n",
      "251 : ['When did Marco Polo marry Donata Badoer?']\n"
     ]
    },
    {
     "name": "stdout",
     "output_type": "stream",
     "text": [
      "252 : ['Who was Al Gores spouse beginning in 1970?']\n"
     ]
    },
    {
     "name": "stdout",
     "output_type": "stream",
     "text": [
      "253 : ['What appearance of a Christmas tree happens every January 19?']\n"
     ]
    },
    {
     "name": "stdout",
     "output_type": "stream",
     "text": [
      "254 : ['What is the home venue of the Green Bay Packers?']\n"
     ]
    },
    {
     "name": "stdout",
     "output_type": "stream",
     "text": [
      "255 : ['Which is the enterprise for the parent organization of Sears?']\n"
     ]
    },
    {
     "name": "stdout",
     "output_type": "stream",
     "text": [
      "256 : ['Who proved the theory of Proper Motion? Their surname is Halley.']\n",
      "257 : ['What head coach is the New York Yankees named after?']\n",
      "258 : ['What are the national cuisine which start with the letter m']\n"
     ]
    },
    {
     "name": "stdout",
     "output_type": "stream",
     "text": [
      "259 : ['Which is the television series which contains the word zigby in its name?']\n",
      "260 : ['Tell me about spouse of Barbara Walters and start time?']\n",
      "261 : ['What is the second language of Peter Faber which regulatory body is Pontifical Academy of Latin?']\n"
     ]
    },
    {
     "name": "stdout",
     "output_type": "stream",
     "text": [
      "262 : ['What is the honorary title given to Albert Gunther which was won by P.A. Buxton?']\n"
     ]
    },
    {
     "name": "stdout",
     "output_type": "stream",
     "text": [
      "263 : ['Is it true that the topographic isolation of Pollux equals to 0.7?']\n",
      "264 : ['What award did Edward C. Prescott receive on 1-1-2004?']\n"
     ]
    },
    {
     "name": "stdout",
     "output_type": "stream",
     "text": [
      "265 : ['where is the headquartes of  formation of google located?']\n",
      "266 : ['What is melody of Tristan und Isolde ?']\n"
     ]
    },
    {
     "name": "stdout",
     "output_type": "stream",
     "text": [
      "267 : ['What time has Manhattan listed as the end time for a maritime evacuation event?']\n",
      "268 : ['What has the eccentricity of 0.0567, that is located on astronomical body of the near side of the moon?']\n"
     ]
    },
    {
     "name": "stdout",
     "output_type": "stream",
     "text": [
      "269 : ['What is the diplomatic relations like in basin countries of Lake Okeechobee?']\n"
     ]
    },
    {
     "name": "stdout",
     "output_type": "stream",
     "text": [
      "Link batch time: 10.674598455429077\n",
      "Anno batch time: 247.31973528862\n",
      "Conv batch time: 0.0019497871398925781\n",
      "\n",
      "\n",
      "[Pipeline2]: Linking 299-349\n",
      "301 : ['What two cities hold the principle offices of Financial Times?']\n",
      "301 : ['How many active ingredients are in lidocaine?']\n",
      "301 : ['Where was Augustus II the Strong buried?']\n",
      "301 : ['Is it true that the semi-major axis of 1627 Ivar is greater than 2.2361778?']\n",
      "301 : ['What is the CBS municipality code of Nijmegen?']\n",
      "301 : ['Was Herbie Hancock the winner of the award for the Grammy Award for Best Pop Collaboration with Vocals?']\n",
      "301 : ['What is the total fertility rate of Sudan with estimation process?']\n",
      "301 : ['Is the half-life of silicon-36 less than 0.54?']\n",
      "301 : ['What is a sovereign state for office held by the popes head of state?']\n",
      "301 : ['What is the Malayalam alphabet?']\n",
      "301 : ['Which programming language did Dennis M. Ritchie create?']\n",
      "301 : ['WHICH IS THE ZUCKERART THAT CONTAINS WITH THE WORD SYRUP IN THER NAME']\n",
      "301 : ['Which reward was The Diary of Anne Frank a nominee for?']\n",
      "301 : ['Name a business whose heaquarters are located in Lyon']\n",
      "301 : ['What is the Commons category of Classic of Poetry ?']\n",
      "301 : ['Who was married to Ida Lupino on January 1st, 1951?']\n",
      "301 : ['What agent had conflict with Lowell English?']\n",
      "301 : ['What does European Parliament approve?']\n",
      "301 : ['WHat location that belongs to the World Heritage starts with the letter H']\n",
      "301 : ['mike krzyzewski name']\n",
      "301 : ['What is Fantastic Fiction author ID of James Ellroy?']\n",
      "301 : ['Where was Syrie Maughams country of citizenship in 1927?']\n",
      "301 : ['Who is {took part in} of {boy}, which has {theatre season} is {classical antiquity} ?']\n",
      "301 : ['What administrative territorial entity was Sint Maarten located in the year December 15, 1954?']\n",
      "301 : ['What is the density of aluminium at a temperature of 20 degrees?']\n",
      "301 : ['What is the country of citizenship and the religion of Elizabeth_Smart ?']\n",
      "301 : ['Which is the GeneReviews ID for Alzheimers disease?']\n",
      "301 : ['When did Artem Sergeev, adopted son of Joseph Stalin, die?']\n",
      "301 : ['What is {holds position} of {Martin McGuinness}, which has {prequel of} is {Member of the 55th Parliament of the United Kingdom} ?']\n",
      "301 : ['What what is animated taxondistributed by MGM and {family}']\n"
     ]
    },
    {
     "name": "stdout",
     "output_type": "stream",
     "text": [
      "301 : ['Which is the SAHRA heritage site ID for University of Cape Town?']\n",
      "301 : ['What is the CPU with the greatest charge?']\n"
     ]
    },
    {
     "name": "stdout",
     "output_type": "stream",
     "text": [
      "302 : ['When did Sarah Bernhardt and Jacques Damala split up?']\n"
     ]
    },
    {
     "name": "stdout",
     "output_type": "stream",
     "text": [
      "303 : ['What is the birth city of Kirsten Stewart, with the county seat of Los Angeles County?']\n",
      "304 : ['Where {faith} {has influence} on {Madonna} ?']\n"
     ]
    },
    {
     "name": "stdout",
     "output_type": "stream",
     "text": [
      "305 : ['What in the code for INS?']\n"
     ]
    },
    {
     "name": "stdout",
     "output_type": "stream",
     "text": [
      "306 : ['When did Alla Pugacheva divorce his wife, Mykolas Orbakas?']\n",
      "307 : ['When was Isadora Duncans funeral?']\n"
     ]
    },
    {
     "name": "stdout",
     "output_type": "stream",
     "text": [
      "308 : ['Which is the gens of Sallust?']\n",
      "309 : ['who culture of state of australian secret intelligence services ?']\n",
      "310 : ['What are the opening hours for Thursday?']\n"
     ]
    },
    {
     "name": "stdout",
     "output_type": "stream",
     "text": [
      "311 : ['What language does the sculptor of Z3 write in?']\n",
      "312 : ['What award did I.M. Pei receive in 2010?']\n",
      "313 : ['Where is {deathplace} of {Amelia Earhart}, which has {tributary} is {Ayampe River} ?']\n"
     ]
    },
    {
     "name": "stdout",
     "output_type": "stream",
     "text": [
      "314 : ['Was Cleopatras child named Caesarion?']\n"
     ]
    },
    {
     "name": "stdout",
     "output_type": "stream",
     "text": [
      "315 : ['When did Barry Humphries receive the Centenray medal?']\n",
      "316 : ['Which chemical compound has the most binding energy?']\n"
     ]
    },
    {
     "name": "stdout",
     "output_type": "stream",
     "text": [
      "317 : ['When did Abigail Adams father die, and who was he?']\n",
      "318 : ['What was the population of Washington, D.C. at the start of 1860?']\n"
     ]
    },
    {
     "name": "stdout",
     "output_type": "stream",
     "text": [
      "319 : ['Did Mao Zedong hold a position as President of the Peoples Republic of China?']\n"
     ]
    },
    {
     "name": "stdout",
     "output_type": "stream",
     "text": [
      "Link batch time: 13.138410329818726\n",
      "Anno batch time: 243.86424207687378\n",
      "Conv batch time: 0.004086494445800781\n",
      "\n",
      "\n",
      "[Pipeline2]: Linking 349-399\n",
      "351 : ['What effects does arsenic have at the minimal lethal dose of 300?']\n",
      "351 : ['Is it true that the maximum wavelength of sensitivity of Submilimeter Array is greater than 2.004?']\n",
      "351 : ['What nonprofit organization is regulated by the association of football?']\n",
      "351 : ['What diplomatic crisis lead to the founding of the Russian Orthodox Church?']\n",
      "351 : ['Which is the spacecraft that is manufactured by SpaceX?']\n",
      "351 : ['When was Boris Johnson the Member of the 56th  Parliament of the United Kingdom?']\n",
      "351 : ['who  is the city for capital of wales?']\n",
      "351 : ['Which is the Commons gallery for Georges Seurat?']\n",
      "351 : ['What is a nut that starts with the letter n.']\n",
      "351 : ['When is the date and birth of Joseph Stalins child with Svetlana Alliluyeva?']\n",
      "351 : ['How many works are occupied in the Rijksmuseum?']\n",
      "351 : ['Where is the archive for archives of The Walt Disney company?']\n",
      "351 : ['What is the work of Jack Warner awarded as Academy Award for Best Picture?']\n"
     ]
    },
    {
     "name": "stdout",
     "output_type": "stream",
     "text": [
      "351351 : ['What is the official residence of Queens?']\n",
      "351 : ['Which is the {participant} and the {location} of {Pacific_War} ?']\n",
      "351 : ['To whom did Gerard Reve got married and when did it end?']\n",
      "351 : ['What domain has the aspect of bodhisattva?']\n",
      "351 : ['What is the Commonwealth area with the lowest real gross domestic product growth rate whose diplomatic relation is Taiwan?']\n",
      "351 : ['What is located on the astronomical body of North America?']\n",
      "351 : ['Who is the owner of the theatre company that made The Birth of the Star Spangled Banner?']\n",
      "351 : ['How did John Wilkes Booth kill Abraham Lincoln?']\n",
      " : ['What is the birthplace of Maureen OHara, which has the co-ordinate location of 53.3252?']\n",
      "351 : ['What sovereign state belonging to the International Finance Corporation has the lowest unemployment rate?']\n",
      "351 : ['Who was the person with Chris Rock when he was awarded the Lunt-Fontanne Award for Ensemble Excellence?']\n",
      "351 : ['What does Kelly Clarkson do and where is she a citizen?']\n",
      "351 : ['What is the Uppslagsverket Finland ID for kickboxing?']\n",
      "351 : ['How many different kinds of industry are affected by furniture?']\n",
      "351 : ['When did Lee de Forest divorce from Nora Stanton Blatch Barney?']\n",
      "351 : ['Mention the predecessor and the successor of Louis the Pious while being recognized as king of Franks']\n",
      "351 : ['does the explosive energy of the tsar bomba equal 500']\n",
      "351 : ['What is the bibliography of the  PhD advisor to Karl Herzfeld?']\n",
      "351 : ['What is the interaction of antiparticle symmetric correspondence with Q48460 521.1?']\n"
     ]
    },
    {
     "name": "stdout",
     "output_type": "stream",
     "text": [
      "352 : ['What is the estimation rate of Slovakia fertility?']\n"
     ]
    },
    {
     "name": "stdout",
     "output_type": "stream",
     "text": [
      "353 : ['Tell me {intergovernmental organization}  whose name  starts with s']\n",
      "354 : ['Is it true that the Wu Tang Clan signed with Loud Records and Ruff Ryders Entertainment?']\n"
     ]
    },
    {
     "name": "stdout",
     "output_type": "stream",
     "text": [
      "355 : ['what is stable version of user interface of amazon kindle?']\n",
      "356 : ['which award E.T. the Extra-Terrestrial did receive and at what time he got it?']\n"
     ]
    },
    {
     "name": "stdout",
     "output_type": "stream",
     "text": [
      "357 : ['What is the music genre that is made by Battle Zeque Den']\n",
      "358 : ['When did Ronna Romney McDaniel become chairperson of the Republican Party?']\n"
     ]
    },
    {
     "name": "stdout",
     "output_type": "stream",
     "text": [
      "359 : ['Which is the Basketball-Reference.com NBA player ID of Hakeem Olajuwon?']\n",
      "360 : ['What are the beliefs of the Chinese Communist Partys Chair, Hu Jintao?']\n"
     ]
    },
    {
     "name": "stdout",
     "output_type": "stream",
     "text": [
      "361 : ['What is { solubility } of { nitrous oxide } { solvent } is { water }?']\n",
      "362 : ['What type of beryl is found at he GPS coordinates of 24.77111111 34. 71805556?']\n",
      "363 : ['Which {history of topic} and the {geography of topic} is {Melbourne} ?']\n",
      "364 : ['What is the sister city of Ivan Turgenevs hometown?']\n",
      "365 : ['Who was the teacher of the musical score of Suite 1922?']\n",
      "366 : ['Is a black hole the opposite of a stellar atmosphere?']\n"
     ]
    },
    {
     "name": "stdout",
     "output_type": "stream",
     "text": [
      "367 : ['Did Francis Ford Coppola have notable works of The Godfather and The Godfather Part III?']\n",
      "368 : ['tell me audio and video interfaces and connectors are name has the word ypbpr in it']\n",
      "369 : ['What is the official language of lives in Pasi Siltakorpi?']\n"
     ]
    },
    {
     "name": "stdout",
     "output_type": "stream",
     "text": [
      "Link batch time: 10.656482934951782\n",
      "Anno batch time: 211.7932620048523\n",
      "Conv batch time: 0.003992557525634766\n",
      "\n",
      "\n",
      "[Pipeline2]: Linking 399-449\n",
      "401 : ['How many colors are next to brown']\n",
      "401 : ['What is the active ingredient pharmaceutical product in erythromycin?']\n",
      "401 : ['Is the PPP GDP per capita of Lithuania less than 22148.8']\n",
      "401 : ['Is the topographic prominence of the Franzosenkopf less than 4.0?']\n",
      "401 : ['What Chinese dynasty replaced the Yuan dynasty?']\n",
      "401 : ['How would you spell meat pie using the international phonetic alphabet?']\n",
      "401 : ['Where is the human place of birth in Thessaloniki?']\n",
      "401 : ['What is Anthony Vivaldis CPDL ID?']\n",
      "401 : ['did john grisham have a degree in law in the University of mississippi school of law?']\n",
      "401 : ['Who else participated in Deep Blue with top dog Cray Blitz?']\n",
      "401 : ['What is GACS ID for West Africa?']\n",
      "401 : ['When did Johnny Carson start as the presenter for The Tonight Show?']\n",
      "401 : ['How many armament does the aircraft has?']\n",
      "401 : ['Where and what did Katherine Dunham study?']\n",
      "401 : ['Name the womens association football team who play the least in tournaments.']\n",
      "401 : ['How many input methods are on a computer keyboard?']\n",
      "401 : ['Tell me me a cryptocurrenc whose name consist of the word neo and whose stock exchange bitfinex']\n",
      "401 : ['What are Jews the opposite of and for whom are they named?']\n",
      "401 : ['What explosive chemical has the highest explosive velocity ?']\n",
      "401 : ['Is the human genome size more than 3881796000?']\n",
      "401 : ['Where is the drainage basin of the Brazos River?']\n",
      "401 : ['Who is C. V. Ramans doctor']\n",
      "401 : ['Who is the viceroy of Tasmania?']\n",
      "401 : ['What is at the Kolyma River at the coordinates 161.364?']\n",
      "401 : ['What is the court and application of jurisdiction of Roe v. Wade?']\n",
      "401 : ['What are the phantom island which start with the letter T']\n",
      "401 : ['Which German city is twinned with Cardiff?']\n",
      "401 : ['How many games did Just Fontaine play for the O.G.C. Nice and how many goals did he score?']\n",
      "401 : ['What position does David Lloyd George hold?']\n",
      "401 : ['What portrait has the Woman Drinking Wine wearing a pendant?']\n"
     ]
    },
    {
     "name": "stdout",
     "output_type": "stream",
     "text": [
      "401 : ['Cholera affects which taxon?']\n",
      "401 : ['Is Schutzstaffels subsidiary Reich Main Security Office and 21st Waffen Mountain division of the SS Skanderbeg?']\n"
     ]
    },
    {
     "name": "stdout",
     "output_type": "stream",
     "text": [
      "402 : ['In the consort of Myrna Loy, what is the service branch?']\n"
     ]
    },
    {
     "name": "stdout",
     "output_type": "stream",
     "text": [
      "403 : ['When did Supernatural win the Favorite Pop/Rock Album award?']\n"
     ]
    },
    {
     "name": "stdout",
     "output_type": "stream",
     "text": [
      "404 : ['What is the international organization for World Bank?']\n",
      "405 : ['What was the population of Aysén Region from 1992-0-0?']\n"
     ]
    },
    {
     "name": "stdout",
     "output_type": "stream",
     "text": [
      "406 : ['What are the historical progress which start with the letter g']\n",
      "407 : ['what was the position held by john major and when did it end?']\n",
      "408 : ['Matthias Sindelar who has number of points/goals/set scored as 26.0 is a member of which sports team ?']\n"
     ]
    },
    {
     "name": "stdout",
     "output_type": "stream",
     "text": [
      "409 : ['TELL ME TRADITIONAL FAIRY TALE WHOSE NAME HAS THE WORD SNOW IN IT.']\n",
      "410 : ['Which award did One Piece receive in 2009?']\n",
      "411 : ['What is the number of original networks owned by the Discovery Channel?']\n",
      "412 : ['WHO IS THE PARENT OF SON FRANCESCO I SFORZA ?']\n",
      "413 : ['Where does Po fit into the location 12.5469?']\n"
     ]
    },
    {
     "name": "stdout",
     "output_type": "stream",
     "text": [
      "414 : ['Which are the cites of Tractatus Logico-Philosophicus?']\n",
      "415 : ['What has the Pokedex number 36 and follows Pikachu?']\n",
      "416 : ['What are the fictional detective which start with the letter s']\n"
     ]
    },
    {
     "name": "stdout",
     "output_type": "stream",
     "text": [
      "417 : ['Who is {nomination received} of {George Marshall}, which has {champion} is {Mikhail Gorbachev} ?']\n",
      "418 : ['Who is the showrunner of The Apprentice, who also has a sister called Robert Trump?']\n"
     ]
    },
    {
     "name": "stdout",
     "output_type": "stream",
     "text": [
      "419 : ['Were Dutch and Hungarian the official languages of the Holy Roman Empire?']\n"
     ]
    },
    {
     "name": "stdout",
     "output_type": "stream",
     "text": [
      "Link batch time: 14.114552021026611\n",
      "Anno batch time: 344.00893211364746\n",
      "Conv batch time: 0.004480600357055664\n",
      "\n",
      "\n",
      "[Pipeline2]: Linking 449-499\n",
      "451 : ['What type of clothing do the characters in The Silent Stars Go By wear?']\n",
      "451 : ['How do you pronounce coffee in the Georgian language?']\n",
      "451 : ['tell me demigod of Greek mythology wears hide  starts with h']\n",
      "451 : ['What is the cardinality of the complex logarithm input set?']\n",
      "451 : ['Tell me the famine which starts with the letter t?']\n",
      "451 : ['WHO DIRECTS THE POLITICAL OFFICE HELD IN EDUARDO LOPEZ DORIGA']\n",
      "451 : ['What position is held by Ramsay MacDonald and when was he elected?']\n",
      "451 : ['tell me about thoracic disease that contains the word syndrome in their name']\n",
      "451 : ['what is the world heritage Tentative liste ID of  Univirsity of Tahran']\n",
      "451 : ['What language did Juan González de la Pezuela y Ceballos translate for Os Lusíadas?']\n",
      "451 : ['Who is {tenant} of {Windsor Castle}, that has {employment} as {postage stamp designer} ?']\n",
      "451 : ['When did Veronica Lake and Andre dé Toth end their relationship?']\n",
      "451 : ['which was the series ordinal  for ether which has  ionization energy as 9.53?']\n",
      "451 : ['Is normal distribution named after Bernhard Riemann?']\n",
      "451 : ['Is the apoapsis of the Aotearoa 3400 equal to 2.126?']\n",
      "451 : ['Which bourbon whisky has the lowest alcohol by volume whose country of origin is united states of america?']\n",
      "451 : ['What is the genetic association of major depressive disorder with the determination method TAS?']\n",
      "451 : ['When did the Three Kingdoms period end in Korea?']\n"
     ]
    },
    {
     "name": "stdout",
     "output_type": "stream",
     "text": [
      "451 : ['What book series did the author Dante Alighieri write?']\n",
      "451 : ['Tell me biogeochemical cycle whose name has the word cycle in it.']\n",
      "451 : ['What business, product, or material does Facebook offer?']\n",
      "451 : ['WHICH IS THE ASSOCIATION OF FOOTCLUB THAT STARTS WITH W']\n",
      "451 : ['Into how many editions has Othello been translated?']\n",
      "451 : ['What was the result found in the species of hypothetical protein ipg2828?']\n",
      "451 : ['Where was professor Dimitri Mendeleyev educated, and what is his expertise?']\n",
      "451 : ['What team did Peter Schmeichel start playing for in 1984?']\n",
      "451 : ['Where is the name of the continent of the mountain belt in Mount Caywood?']\n",
      "451 : ['Is Azcapotzalco in the Mexico City administrative territory?']\n",
      "451 : ['Which are the grants academic degrees for Master of Business Administration?']\n",
      "451 : ['what was the country of Tyumen in 1991-12-27']\n",
      "451 : ['Who regulates the genetic association of hsa-miR-5006-3p in molecular biology']\n",
      "451 : ['Is the toughness of Grivory GM-4H less than 7.2?']\n"
     ]
    },
    {
     "name": "stdout",
     "output_type": "stream",
     "text": [
      "452 : ['what is {PhD advisor} of {favorite player} of {Anthony Giddens, Baron Giddens} ?']\n",
      "453 : ['Name an unity of measure used for temperature that starts with letter P']\n"
     ]
    },
    {
     "name": "stdout",
     "output_type": "stream",
     "text": [
      "454 : ['What is the temperature of toxaphene that has a density of 1.65?']\n",
      "455 : ['What is name of John Foster Dulles Latin script that has alphabet?']\n"
     ]
    },
    {
     "name": "stdout",
     "output_type": "stream",
     "text": [
      "456 : ['Is Ridley Scott the child of Luke Scott and Jordan Scott?']\n"
     ]
    },
    {
     "name": "stdout",
     "output_type": "stream",
     "text": [
      "457 : ['Which new conference did Donald Trump participate in?']\n",
      "458 : ['who unit of density for measured by of density?']\n",
      "459 : ['Tell me the point in time for Pierre de Fermat has academic degree as Bachelor of Laws?']\n"
     ]
    },
    {
     "name": "stdout",
     "output_type": "stream",
     "text": [
      "460 : ['Which  anatomical location of place built of zygote ?']\n",
      "461 : ['Which is Greek nymph which was the partner of Apollo?']\n"
     ]
    },
    {
     "name": "stdout",
     "output_type": "stream",
     "text": [
      "462 : ['When did Prince Philip, Duke of Edinburgh use the Arms of Philip Mountbatten (1947-1949) as his coat of arm?']\n",
      "463 : ['Who was nominated for an Academy Award for  Best Sound Mixing in Gladiator?']\n"
     ]
    },
    {
     "name": "stdout",
     "output_type": "stream",
     "text": [
      "464 : ['What are the national sports team  which start with the letter t']\n",
      "465 : ['What children did the brothers and sisters of Emmanuel Philibert, Prince of Carignano, have?']\n"
     ]
    },
    {
     "name": "stdout",
     "output_type": "stream",
     "text": [
      "466 : ['At what role did John Tyler replace William Henry Harrison?']\n"
     ]
    },
    {
     "name": "stdout",
     "output_type": "stream",
     "text": [
      "467 : ['Which is FIFA player ID for Stanislav Cherchesov?']\n",
      "468 : ['Who is {followed by} and {follows} of {{Guy of Lusignan} has {noble title} as {King of Jerusalem}}']\n"
     ]
    },
    {
     "name": "stdout",
     "output_type": "stream",
     "text": [
      "469 : ['Which is the historic era in Epaminondas having completed in 600-1-1?']\n"
     ]
    },
    {
     "name": "stdout",
     "output_type": "stream",
     "text": [
      "Link batch time: 12.446410894393921\n",
      "Anno batch time: 434.0336425304413\n",
      "Conv batch time: 0.004667997360229492\n",
      "\n",
      "\n",
      "[Pipeline2]: Linking 499-549\n",
      "501 : ['What was George Washingtons military rank between 1774 and 1796?']\n",
      "501 : ['What was Laurence Olivier nominated for at the 12th Academy Awards?']\n",
      "501 : ['Which is the Crossref funder ID of the National Museum of American History?']\n",
      "501 : ['What is the SIRUTA code of Constanta?']\n",
      "501 : ['Whats the Brockhaus Enzyklopadie online ID of Chile?']\n",
      "501 : ['Name a Luther city that contain the word worms  in its name']\n",
      "501 : ['When did Roman Abramovich marry Irina Abramovich?']\n",
      "501 : ['Is it true that the target interest rate of Central Bank of Azerbaijan equals to 5.25?']\n",
      "501 : ['Was Rupert Grints occupation a actor and child actor?']\n",
      "501 : ['Was Hugh_Grant relative Rick Cosnett?']\n",
      "501 : ['Which is stated in Tripitaka?']\n",
      "501 : ['What is the  Mississippi Sports Hall of Fame ID  for Brett Favre ?']\n"
     ]
    },
    {
     "name": "stdout",
     "output_type": "stream",
     "text": [
      "501 : ['What is the academic area of work of Viktor Bespalov?']\n",
      "501 : ['Which is the GCatholic church ID of Archbasilica of St. John Lateran?']\n",
      "501 : ['Roger Milla was a member of which sports teams and how many matches did he play?']\n",
      "501 : ['When did the marriage between Marilyn Monroe and James Dougherty end?']\n",
      "501 : ['Which is the Kinopoisk person ID for Stanley Donen?']\n",
      "501 : ['Name a disease that starts with the letter Y']\n",
      "501 : ['What is on geographical feature of Greater Antilles whose continent is North America ?']\n",
      "501 : ['Ignatius of Loyola belongs to which Catholic order?']\n",
      "501 : ['What is the {product} of {papermaking} which is {made of} {bleach} called?']\n",
      "501 : ['What happened to the SS Naronic?']\n",
      "501 : ['What is {chairwoman} of {working for} of {Vannevar Bush} ?']\n",
      "501 : ['Who was Jonas Salks doctoral student?']\n",
      "501 : ['Shen Bao has a partner city of Rotterdam, what is the main location of the publication?']\n",
      "501 : ['What are the regions available on the coast of Lower Saxony?']\n",
      "501 : ['How many medical conditions are treated by diazepam?']\n",
      "501 : ['Do the rural cities of Para have 13155 inhabitants?']\n",
      "501 : ['What position did William Carmichael replace John Jay in?']\n",
      "501 : ['What are the type of food or dish that contains the word torta in their name']\n",
      "501 : ['which type of quantum particle has highest gyromagnetic ratio?']\n",
      "501 : ['Tell me literary genre whose name has the word vita in it']\n"
     ]
    },
    {
     "name": "stdout",
     "output_type": "stream",
     "text": [
      "502 : ['Which equation do I use to measure horsepower ?']\n"
     ]
    },
    {
     "name": "stdout",
     "output_type": "stream",
     "text": [
      "503 : ['What is the parent company of those who work at Roberta Bondar?']\n"
     ]
    },
    {
     "name": "stdout",
     "output_type": "stream",
     "text": [
      "504 : ['What is the official language of Alice springs-Soverign state?']\n",
      "505 : ['What is the text input for the Aruba flag emoji?']\n"
     ]
    },
    {
     "name": "stdout",
     "output_type": "stream",
     "text": [
      "506 : ['What is native language for Vincent Auriol ?']\n"
     ]
    },
    {
     "name": "stdout",
     "output_type": "stream",
     "text": [
      "507 : ['Name a memer of the Oracle Corporation']\n",
      "508 : ['Name a musical composition by Dionysus']\n"
     ]
    },
    {
     "name": "stdout",
     "output_type": "stream",
     "text": [
      "509 : ['Who was the goddess Artemis?']\n",
      "510 : ['What position did Martin V hold that was eventually replaced by Eugene IV?']\n"
     ]
    },
    {
     "name": "stdout",
     "output_type": "stream",
     "text": [
      "511 : ['What was the {award won} by {Cream}, that was {introduced} in {1983-0-0}?']\n",
      "512 : ['Which  is farthest north of place held by Balkans Campaign?']\n",
      "513 : ['What is Jacinda Arderns position ?']\n"
     ]
    },
    {
     "name": "stdout",
     "output_type": "stream",
     "text": [
      "514 : ['What category of people are in Odoacer']\n",
      "515 : ['Which is dantai code for Kyōto Prefecture?']\n",
      "516 : ['What topic of the history of Estonia has the inflation rate of consumer price index of 1.2?']\n"
     ]
    },
    {
     "name": "stdout",
     "output_type": "stream",
     "text": [
      "517 : ['When was Phonenice located in the administrative territorial entity for Damascus?']\n",
      "518 : ['Who gave the{route of administration} of {consequence} of {cyclohexane} ?']\n",
      "519 : ['What is {religious affiliation} of {ethnicity} {Sirhan Sirhan} ?']\n"
     ]
    },
    {
     "name": "stdout",
     "output_type": "stream",
     "text": [
      "Link batch time: 10.223112344741821\n",
      "Anno batch time: 315.5809967517853\n",
      "Conv batch time: 0.0037500858306884766\n",
      "\n",
      "\n",
      "[Pipeline2]: Linking 549-599\n",
      "551 : ['Who practices and researches Economics?']\n",
      "551 : ['Who was the inventor of the B-tree, who was awarded the Officers Cross of the Order of Merit of the Federal Republic of Germany?']\n",
      "551 : ['Where in Père Lachaise Cemetery is Jean-François Champollion buried?']\n",
      "551 : ['What are the speakers of the working languages of the Kingdom of England?']\n",
      "551 : ['Who is the presenter of The Tonight Show?']\n",
      "551 : ['Who is the general manager of the Chicago Cubs?']\n",
      "551 : ['Is the power consumed by the World Space Observatory more than 1200?']\n",
      "551 : ['Is Vidhan Sabha executive body of Assam?']\n",
      "551 : ['When was Vasily Chuikov awarded the Order of Lenin?']\n",
      "551 : ['Tell me fictional detective whose name has the word sam in it.']\n",
      "551 : ['which  is working of   film producer of My Blue Heaven ?']\n"
     ]
    },
    {
     "name": "stdout",
     "output_type": "stream",
     "text": [
      "551 : ['Tell me kinship whose name has the word uncle in it.']\n",
      "551 : ['what are the painting which start with the letter y']\n",
      "551 : ['What Academy Award subject is Mercedes Ruehl nominated for as Best Supporting Actress?']\n",
      "551 : ['What number follows -2?']\n",
      "551 : ['Was the thickness of the Bronze Age equal to .615?']\n",
      "551 : ['What what is gas giant child astronomical body by Enceladus and also which starts with letter s']\n",
      "551 : ['Is the Z scale scale 1:220?']\n",
      "551 : ['Is it true that The X-Files featured George Murdock?']\n",
      "551 : ['What is the CDB Chemical ID for isopropyl alcohol?']\n",
      "551 : ['Is the beats per minute of the Colorless Aura equal 50?']\n",
      "551 : ['Which is the Darts Database player ID of Phil Taylor?']\n",
      "551 : ['who county seat for  died in of Innokenty smoktunovsky ?']\n",
      "551 : ['What is the language official of World Baseball Softball Confederation whose typology is nominative–accusative language?']\n",
      "551 : ['When was the Arab League founded that shares a border with Ethiopia?']\n",
      "551 : ['What is the National Park Foundation ID for the Rocky Mountain National Park?']\n",
      "551 : ['Who is the  {human} for {doctoral advisor} of {Claude Shannon}']\n",
      "551 : ['What is SIC code of forestry ?']\n",
      "551 : ['When does the head of government of Seattle starts its work period?']\n",
      "551 : ['What is Angela Merkels abgeordnetenwatch.de politician ID?']\n",
      "551 : ['What award did Marie Curie receive in 1911?']\n",
      "551 : ['What are the comic strip which start with the letter z']\n"
     ]
    },
    {
     "name": "stdout",
     "output_type": "stream",
     "text": [
      "552 : ['Is the age of majority of the USA equal to t1410874016?']\n"
     ]
    },
    {
     "name": "stdout",
     "output_type": "stream",
     "text": [
      "553 : ['What is the political party in Catalonia with min number of representatives in an organization whose political alignment is left - wing?']\n"
     ]
    },
    {
     "name": "stdout",
     "output_type": "stream",
     "text": [
      "554 : ['When did award received of Alice Munro and followed by?']\n",
      "555 : ['which organization name starts with z']\n"
     ]
    },
    {
     "name": "stdout",
     "output_type": "stream",
     "text": [
      "556 : ['Who is the {aircraft fleet} for {uses} of {airplane}']\n",
      "557 : ['What is the genus with the highest chromosome count in the taxon rank?']\n",
      "558 : ['What is EDIT16 catalogue author ID for Leo X ?']\n"
     ]
    },
    {
     "name": "stdout",
     "output_type": "stream",
     "text": [
      "559 : ['what is mankinds collection of venice']\n",
      "560 : ['What award was Maria Montessori nominated for on January 1, 1950?']\n"
     ]
    },
    {
     "name": "stdout",
     "output_type": "stream",
     "text": [
      "561 : ['Does the height of the BMW i8 equal 1?']\n",
      "562 : ['Edward Livingston replaced Martin Van Buren in what postion?']\n"
     ]
    },
    {
     "name": "stdout",
     "output_type": "stream",
     "text": [
      "563 : ['What family of vehicles starts with the letter v?']\n",
      "564 : ['Which is the birth place of Malcolm Allison, that is bordered by Purfleet?']\n"
     ]
    },
    {
     "name": "stdout",
     "output_type": "stream",
     "text": [
      "565 : ['Which protein interacts with oxytocin?']\n",
      "566 : ['Which is the LTI Korea Library ID for Choe Chiwon?']\n",
      "567 : ['What are the ancient civilization which start with the letter s']\n"
     ]
    },
    {
     "name": "stdout",
     "output_type": "stream",
     "text": [
      "568 : ['What is the name of a novel series that starts with the letter t?']\n",
      "569 : ['What award did Gyorgy Ligeta receive on 2000-0-0?']\n"
     ]
    },
    {
     "name": "stdout",
     "output_type": "stream",
     "text": [
      "Link batch time: 12.907548427581787\n",
      "Anno batch time: 263.57298612594604\n",
      "Conv batch time: 0.002627849578857422\n",
      "\n",
      "\n",
      "[Pipeline2]: Linking 599-649\n",
      "601 : ['What are the municipality of the Netherlands  which start with the letter s']\n",
      "601 : ['What is the genetic association that can be found in species with post-traumatic stress disorder?']\n",
      "601 : ['Where did Pierre Curie live, which has the timezone of UTC-02:00?']\n",
      "601 : ['What is { safety classification and labeling } of { magnesium sulfate anhydrous } that is { NFPA Fire } is { 0 }?']\n",
      "601 : ['Who was the head of government in Palestine on June 2, 2014?']\n",
      "601 : ['What non-metropolitan county shares a border with Hampshire?']\n",
      "601 : ['Is the position angle of northwest by north equal to 391.5?']\n",
      "601 : ['Which are the first aid measures of petroleum jelly?']\n",
      "601 : ['Which is Xeno-canto species ID for Meleagris gallopavo?']\n",
      "601 : ['What is the secular state of the MIN(PPP GDP per capita) whose diplomatic relation is with India?']\n",
      "601 : ['What is the location in New York City for Edward Hoppers place death?']\n",
      "601 : ['Which is Parks & Gardens UK Record ID for National Maritime Museum?']\n",
      "601 : ['What was Ray Rennahan from Gone with the Wind nominated for?']\n",
      "601 : ['how much is maintained by Otia Prefecture?']\n",
      "601 : ['Which territory did the classical antiquity cover?']\n",
      "601 : ['What is the 2.1 with the highest speed whose participating teams is Katusha 2016?']\n",
      "601 : ['How many file formats are done on Portable Document Format?']\n",
      "601 : ['How many carry things by road?']\n",
      "601 : ['What city became a twin city of Klagenfurt in 1990?']\n",
      "601 : ['When did Tony Walton become the spouse of Julie Andrews?']\n",
      "601 : ['What was the population of Lucknow in 2011?']\n",
      "601 : ['Who is the person for the military branch of KGB?']\n",
      "601 : ['Is the watershed area of the rio de Santa Maria Zobenigo greater than 0.00083176?']\n"
     ]
    },
    {
     "name": "stdout",
     "output_type": "stream",
     "text": [
      "601 : ['When did Pedro Is child Princess Januária of Brazil die, and who was her mother?']\n",
      "601 : ['What district of Liguria originated in 2015?']\n",
      "601 : ['WHICH IS THE CATEGORY FOR RECIPIENTS OF THEIS WARD FOR HONOR']\n",
      "601 : ['when did Okinawa Prefecture have the Santa Cruz Department as its twinned administrative body?']\n",
      "601 : ['What division does Jurandir Fatoris team play for?']\n",
      "601 : ['Freddy Krueger and Fred Krueger, is a serial killer and the main antagonist of the A Nightmare on Elm Street series. A family man on the surface, Krueger was actually the serial killer known as the Springwood Slasher. When he was caught and subsequently released on a technicality, the parents of his victims tracked him to the boiler room of the power plant he once worked at and burned him alive. Krueger was offered the chance to continue after his physical death, becoming a Dream Demon that could enter his victims dreams and kill them in the Dream World, which would thus cause their death in the physical world and absorb their souls afterwards.']\n",
      "601 : ['What award did Claude Brasseur receive in 1977-0-0?']\n",
      "601 : ['Which is the decay mode for alpha decay?']\n",
      "601 : ['What is the earliest date of Alexander Pushkins residency in Ulyanovsk?']\n"
     ]
    },
    {
     "name": "stdout",
     "output_type": "stream",
     "text": [
      "602 : ['What are the stars and stripes from the star spangled banner?']\n",
      "603 : ['When is the location born in Jamshid Mashayekhi which is a partner town of Havana?']\n",
      "604 : ['Is the dynamic viscosity of the acetic acid greater than 0.6288?']\n"
     ]
    },
    {
     "name": "stdout",
     "output_type": "stream",
     "text": [
      "605 : ['WHO THE DUBBER OF RUKH FROM WORK?']\n",
      "606 : ['Where did Christopher Wren major in Latin?']\n",
      "607 : ['How is the Gospel of John exemplar?']\n"
     ]
    },
    {
     "name": "stdout",
     "output_type": "stream",
     "text": [
      "608 : ['Which language is used in Gibraltar that has a quality of second language?']\n",
      "609 : ['Who is the human partner of Chow Yun-fat?']\n"
     ]
    },
    {
     "name": "stdout",
     "output_type": "stream",
     "text": [
      "610 : ['Which is the candidature that Gustav Winckler took part of?']\n",
      "611 : ['Who is Johnny Cashs stepparent?']\n",
      "612 : ['Who plays the current role of the title character in Deadpool?']\n",
      "613 : ['What is in the administrative region of Fukuoka Prefecture, whose total fertility rate is 1.39?']\n"
     ]
    },
    {
     "name": "stdout",
     "output_type": "stream",
     "text": [
      "614 : ['What is field of exercise for affiliated with Terje Langli ?']\n",
      "615 : ['How can you tell migraines have PRDM16?']\n"
     ]
    },
    {
     "name": "stdout",
     "output_type": "stream",
     "text": [
      "616 : ['When did Riga become the capital of Latvia?']\n",
      "617 : ['Is the operating temperature of the Nesjavellir power station 190?']\n",
      "618 : ['How much was the population of Normandy in 2005?']\n"
     ]
    },
    {
     "name": "stdout",
     "output_type": "stream",
     "text": [
      "619 : ['What is the name of the theatrical character of Hamlet?']\n"
     ]
    },
    {
     "name": "stdout",
     "output_type": "stream",
     "text": [
      "Link batch time: 21.55674958229065\n",
      "Anno batch time: 602.0029671192169\n",
      "Conv batch time: 0.004889488220214844\n",
      "\n",
      "\n",
      "[Pipeline2]: Linking 649-699\n",
      "651 : ['What ceremony takes place in Leicester?']\n",
      "651 : ['Tell me the brain region that contains the word thalamus in their name']\n",
      "651 : ['Is the kinematic viscosity of propylene glycol equal to 0.054?']\n",
      "651 : ['What was Leonardo Bonaccis date of death in the year 1240?']\n",
      "651 : ['Which is the parity of Higgs boson?']\n",
      "651 : ['For Ryan ONeal was in nomination of Golden Globe Award for Best Actor-Motion picture Drama?']\n",
      "651 : ['Who was the manager/director of the Metropolitan Museum of Art starting in 1910?']\n",
      "651 : ['what is the using of the remake of smoothsort?']\n",
      "651 : ['What theory did Grigori Perelman prove?']\n",
      "651 : ['Which career did the character Buffy the Vampire Slayer choose?']\n",
      "651 : ['Which is the public holiday that is a day in year for periodic occurrence of 21 Tishrei and contains the word sukkot in its name?']\n",
      "651 : ['What country was started in the year 1871 in Wiesbaden?']\n",
      "651 : ['When did Nantes begin having Johanna Rolland as head of government?']\n",
      "651 : ['How many occupants are there with {Shah} ?']\n",
      "651 : ['When was the population of Dalian 4480000?']\n",
      "651 : ['Who is the Head of State  of the Austrian Empire?']\n",
      "651 : ['Which is the liberal arts college that is affiliated with Columbia University?']\n"
     ]
    },
    {
     "name": "stdout",
     "output_type": "stream",
     "text": [
      "651 : ['What is the ship with the lowest payload mass whose manufacturer is ERROR1?']\n",
      "651 : ['What is Cyworld ID for Park Geun-hye ?']\n",
      "651 : ['Where is the birth place of John Walter, that has a general population of 8787892 ?']\n",
      "651 : ['Which is the OS grid reference for Bradford?']\n",
      "651 : ['how many activated neurotransmitters are in y-aminobutyric acid?']\n",
      "651 : ['What is the stainless steel with the highest operating temperature whose has part is nitrogen?']\n",
      "651 : ['Charles the Bald position is what and he got his position after which person?']\n",
      "651 : ['Who was married to Lynn Margulis in June of 1957?']\n",
      "651 : ['Which is the ISBN-13 for Watership Down?']\n",
      "651 : ['Name the subtopic of the tagline Free, Sovereign, and Independent, a history of Honduras.']\n",
      "651 : ['David Letterman is producer?']\n",
      "651 : ['Which French killer had the most victims ?']\n",
      "651 : ['What is the mascot for the Stanford University athletics department?']\n",
      "651 : ['Does the SAF 2507 have a pitting resistance equivalent number that is greater than  45.24?']\n",
      "651 : ['How many things are designed for Doom?']\n"
     ]
    },
    {
     "name": "stdout",
     "output_type": "stream",
     "text": [
      "652 : ['What is the significant role played by Giant Magellan Telescope in the field of Construction?']\n"
     ]
    },
    {
     "name": "stdout",
     "output_type": "stream",
     "text": [
      "653 : ['The Moon is found in which subtopic of the geological history of the Earth that has moon in the name?']\n"
     ]
    },
    {
     "name": "stdout",
     "output_type": "stream",
     "text": [
      "654 : ['Since when was Manichaeism found in Egypt?']\n",
      "655 : ['whos is owner of the kiss that have members of is g20']\n",
      "656 : ['What position did Félix Faure hold before he was replaced by Émile Loubet?']\n"
     ]
    },
    {
     "name": "stdout",
     "output_type": "stream",
     "text": [
      "657 : ['Who is the son of master Lou Harrison?']\n"
     ]
    },
    {
     "name": "stdout",
     "output_type": "stream",
     "text": [
      "658 : ['What sports team did Kapil Dev stopped being a member of in 1992?']\n",
      "659 : ['Who is born at Charlotte Dujardin, which has a zip code of E?']\n",
      "660 : ['How many team participants are there in the {Juventus F.C.} ?']\n",
      "661 : ['Who first described the element osmium and was born in Selby?']\n",
      "662 : ['What was the category for which Shirley Booth received the Tony Award for Best Featured Actress in a Play?']\n"
     ]
    },
    {
     "name": "stdout",
     "output_type": "stream",
     "text": [
      "663 : ['Who was Bill Gatess mother?']\n",
      "664 : ['What is Lysimachuss noble title and who follows?']\n"
     ]
    },
    {
     "name": "stdout",
     "output_type": "stream",
     "text": [
      "665 : ['Can you say which national library has the smallest collection?']\n",
      "666 : ['What was F. Murray Abraham nominated for in the 57th academy awards?']\n",
      "667 : ['What is the local dialling code of the Dallas Morning News?']\n"
     ]
    },
    {
     "name": "stdout",
     "output_type": "stream",
     "text": [
      "668 : ['In what field of work does José Luis Rodríguez Zapatero work in?']\n",
      "669 : ['Is the end time for the spouse of Larry King 1967-0-0?']\n"
     ]
    },
    {
     "name": "stdout",
     "output_type": "stream",
     "text": [
      "Link batch time: 13.272284269332886\n",
      "Anno batch time: 245.60833501815796\n",
      "Conv batch time: 0.004035234451293945\n",
      "\n",
      "\n",
      "[Pipeline2]: Linking 699-749\n",
      "701 : ['What is {temperature} {on river} of {Iberian Peninsula} ?']\n",
      "701 : ['Is Joule the measurement for transparency and work?']\n",
      "701 : ['WHICH ARE THE NUT THAT CONTAINS THE WORD NUT IN THEIR NAME']\n",
      "701 : ['Which isotope of indium has the most parity?']\n",
      "701 : ['What was the price of gold in 2018-7-26?']\n",
      "701 : ['When did Dan Rowan receive his star on the Hollywood Walk of Fame']\n",
      "701 : ['What work did Jacques Brel publish in 1963?']\n",
      "701 : ['Where was the plot of North by Northwest, filmed in California, set?']\n",
      "701 : ['What is the fate of Joaquin Archivaldo Guzman, who was first described as El Faro?']\n",
      "701 : ['Which is the poetry collection that has traditional Chinese characters as writing system?']\n",
      "701 : ['What political party does Jacinda Ardern belong to?']\n"
     ]
    },
    {
     "name": "stdout",
     "output_type": "stream",
     "text": [
      "701 : ['When did Ahmedabad become Presidency of Bombay which was located in the administrative territorial entity?']\n",
      "701 : ['What award was received by Valeri Polyakov on April 4, 2011?']\n",
      "701 : ['What do you call the incarnation of Jesus Christ?']\n",
      "701 : ['What award was John Williams nominated for in Close Encounters of the Third Kind?']\n",
      "701 : ['What is budget for Grand Theft Auto V?']\n",
      "701 : ['when was samuel beckett nominated for nobel prize in literature?']\n",
      "701 : ['Who is the child of Ofelia Medinas life partner?']\n",
      "701 : ['What is the connecting line of Chulalongkorn University?']\n",
      "701 : ['Tell me hole that contains the word d']\n",
      "701 : ['Where Ruth Bernhard stoped working on 1953?']\n",
      "701 : ['What is the method of determining eating disorders that has the genetic association of RASGRF2?']\n",
      "701 : ['Who is the PhD candidate for Niels Bohr?']\n",
      "701 : ['Who is the manufacturer and user of solar energy?']\n",
      "701 : ['Which is {position of head of government} of {service operator} {MiG-21} ?']\n",
      "701 : ['What is the owner of and the member of of Mikhail_Gorbachev ?']\n",
      "701 : ['What position did Ramsay MacDonald hold in the 37th Parliament of the United Kingdom and what was his cause?']\n",
      "701 : ['how many officers are there for the united nations secretary-general?']\n",
      "701 : ['When did Lorin Maazel received the Grammy Award for Best Opera Recording?']\n",
      "701 : ['Where was Grace Hopper educated at in 1930?']\n",
      "701 : ['Which is a ports competition competed at the Olympic games?']\n",
      "701 : ['What is the heavy metal band whose mascot is Ediie the head that start with letter I ?']\n"
     ]
    },
    {
     "name": "stdout",
     "output_type": "stream",
     "text": [
      "702 : ['What are Lee Friedlanders national diplomatic relations?']\n"
     ]
    },
    {
     "name": "stdout",
     "output_type": "stream",
     "text": [
      "703 : ['What was in the aspect of the instruction set architecture whose painter was Gerrit Blaauw?']\n",
      "704 : ['Who was the sister of Henry V, the Holy Roman Emperor during his death in the year of 1101-7-27?']\n",
      "705 : ['When was the {official trip} for {participant} of {Emmanuel Macron}?']\n"
     ]
    },
    {
     "name": "stdout",
     "output_type": "stream",
     "text": [
      "706 : ['Who was nominated for the Academy Award for Best Original Dramatic or Comedy Score for the film Casablanca?']\n",
      "707 : ['What political party did Chen Shui-bian belong to in 1987-02-28?']\n"
     ]
    },
    {
     "name": "stdout",
     "output_type": "stream",
     "text": [
      "708 : ['What are the coachwork type which start with the letter van']\n"
     ]
    },
    {
     "name": "stdout",
     "output_type": "stream",
     "text": [
      "709 : ['Who is George W. Bushs sister that has crafted as enterpreneur?']\n",
      "710 : ['How many matches has Rinus Michels played?']\n",
      "711 : ['What is the set of 1?']\n",
      "712 : ['Which Class II combustible liquid has the highest median lethal concentration?']\n"
     ]
    },
    {
     "name": "stdout",
     "output_type": "stream",
     "text": [
      "713 : ['What are the weekly newspaper  which start with the letter e']\n",
      "714 : ['Tell me the airline that starts with the letter p']\n"
     ]
    },
    {
     "name": "stdout",
     "output_type": "stream",
     "text": [
      "715 : ['What is JewAge person ID for Ludwig von Mises ?']\n",
      "716 : ['Who is the owner of Hon Hai Precision Industry?']\n",
      "717 : ['What Japanese TV series has the most number of seasons and was originally aired in Japanese?']\n"
     ]
    },
    {
     "name": "stdout",
     "output_type": "stream",
     "text": [
      "718 : ['Tell me  security agency whose name has the word state in it.']\n",
      "719 : ['Tolyatti has what OK TMO ID?']\n"
     ]
    },
    {
     "name": "stdout",
     "output_type": "stream",
     "text": [
      "Link batch time: 12.888358354568481\n",
      "Anno batch time: 313.19807147979736\n",
      "Conv batch time: 0.0025796890258789062\n",
      "\n",
      "\n",
      "[Pipeline2]: Linking 749-799\n",
      "751 : ['Which son of Isaac has a son named Shuah?']\n",
      "751 : ['When was Athens, Greece founded?']\n",
      "751 : ['What does it mean if you are convicted of desertion?']\n",
      "751 : ['Followers']\n",
      "751 : ['Who is the chairperson of the Communist Party of China and who are his followers?']\n"
     ]
    },
    {
     "name": "stdout",
     "output_type": "stream",
     "text": [
      "751 : ['What is the origin of Death Notes diplomatic relation?']\n",
      "751 : ['What is the SpeedSkatingNews.info speed skater ID for Eric Heiden?']\n",
      "751 : ['Was Hirohito buried in Tokyo at the Mausoleum of the First Qin Emperor?']\n",
      "751 : ['Which award did Mick Jagger receive?']\n",
      "751 : ['What is competitor War of the Triple Alliances name in its original language?']\n",
      "751 : ['Charles the Bald position is what and he got his position after which person?']\n",
      "751 : ['What are the ring system  which start with the letter r']\n",
      "751 : ['When did Saint Vincent and the Grenadines have a population of 108150?']\n",
      "751 : ['What is the antonym of the professions field of prosecutor?']\n",
      "751 : ['What represents the organization of the siblings of Louis Gigante?']\n",
      "751 : ['What team does Eric Cantona play for, and how many matches has he played?']\n",
      "751 : ['What is the date did Midway games publish the video game Pac-Man, and where was it published?']\n",
      "751 : ['What is SCTs HomoloGene ID?']\n",
      "751 : ['What what is separation process discoverer or inventor Zosimos of Panopolis  and which that starts with d']\n",
      "751 : ['Is Paul Gascoigne a member of a sports team?']\n",
      "751 : ['Are frankenstein and frankensteins monster and elizabeth lavenza have characters?']\n",
      "751 : ['Name the Yukon quest with the minimum size of team at finish whose location is braeburn lodge?']\n",
      "751 : ['What is the chemical compound of polyvinyl chloride?']\n",
      "751 : ['Tell me about member of sports team of Ian Rush and number of matches played?']\n",
      "751 : ['which magazine starts with z']\n",
      "751 : ['Which is the Billboard artist ID for Vicente Fernández?']\n",
      "751 : ['Does the port of the Multicast File transfer protocol have less than 6482.2 capacity?']\n",
      "751 : ['Where in the administrative territorial entity of Umbria was Monica Bellucci born?']\n",
      "751 : ['WHAT Australia and Oceania ?']\n",
      "751 : ['Where and what did Hilary Mantel study?']\n",
      "751 : ['What treatment is Neil Diamond getting for his health issues?']\n",
      "751 : ['Is the individual tax rate in Sweden 25%?']\n"
     ]
    },
    {
     "name": "stdout",
     "output_type": "stream",
     "text": [
      "752 : ['What is Léopold Sédar Senghors Dialnet author ID?']\n"
     ]
    },
    {
     "name": "stdout",
     "output_type": "stream",
     "text": [
      "753 : ['Which is the AFL Tables coach ID for Ron Barassi?']\n"
     ]
    },
    {
     "name": "stdout",
     "output_type": "stream",
     "text": [
      "754 : ['When did Ludwig Wittgenstein graduate as a Doctor of Philosophy?']\n"
     ]
    },
    {
     "name": "stdout",
     "output_type": "stream",
     "text": [
      "755 : ['Are the assets under management of the BlackRock less than 8146800000.0?']\n",
      "756 : ['Which is possessed by spirit by spirt?']\n"
     ]
    },
    {
     "name": "stdout",
     "output_type": "stream",
     "text": [
      "757 : ['When did New Hampshire have a population of 491524?']\n"
     ]
    },
    {
     "name": "stdout",
     "output_type": "stream",
     "text": [
      "758 : ['Tell me political party whose name has the word veritas in it.']\n",
      "759 : ['When Alec Guinness was nominated as Academy Award for Best Actor?']\n",
      "760 : ['What is the name of the administrative body for the capital of Mumbai']\n",
      "761 : ['What is it?']\n"
     ]
    },
    {
     "name": "stdout",
     "output_type": "stream",
     "text": [
      "762 : ['Who is {executive authority} of {play} {snowboard} ?']\n"
     ]
    },
    {
     "name": "stdout",
     "output_type": "stream",
     "text": [
      "763 : ['What electoral district does Member of the New Zealand House of Representatives Jacinda Ardern represent?']\n",
      "764 : ['What were the last words of Jesus Christ?']\n"
     ]
    },
    {
     "name": "stdout",
     "output_type": "stream",
     "text": [
      "765 : ['What is the military rank of the colonel?']\n"
     ]
    },
    {
     "name": "stdout",
     "output_type": "stream",
     "text": [
      "766 : ['Which is the historical nationality for the location of Bilbao?']\n",
      "767 : ['What is the fictional analog of The Gingerbread Man?']\n"
     ]
    },
    {
     "name": "stdout",
     "output_type": "stream",
     "text": [
      "768 : ['Who is in the administrative territorial entity of Tbilisi and when is the end time?']\n"
     ]
    },
    {
     "name": "stdout",
     "output_type": "stream",
     "text": [
      "769 : ['What borders Senegal and yet is a member of AFRISTAT?']\n"
     ]
    },
    {
     "name": "stdout",
     "output_type": "stream",
     "text": [
      "Link batch time: 11.606183767318726\n",
      "Anno batch time: 236.4522705078125\n",
      "Conv batch time: 0.004065513610839844\n",
      "\n",
      "\n",
      "[Pipeline2]: Linking 799-849\n",
      "801 : ['What is graduated from Wendy Wasserstein located at street address of 160 Convent Ave, New York, NY, 10031?']\n",
      "801 : ['Who are the members of BP and their chairperson?']\n",
      "801 : ['Who is the mother of Julio Iglesias and Enrique Iglesias?']\n"
     ]
    },
    {
     "name": "stdout",
     "output_type": "stream",
     "text": [
      "801 : ['Who is {writer} of {bibliographic citation} of {Survey of human genes of retroviral origin: identification and transcriptome of the genes with coding capacity for complete envelope proteins} ?']\n",
      "801 : ['Which is the {crystal system} who {discoverer or inventor} of {Titanium} ?']\n",
      "801 : ['Tell me the number of points and games played by Brian Clough, member of the English national football team.']\n",
      "801 : ['Where in the Soviet Union did Andrei Bely die?']\n",
      "801 : ['Is it true that the melting point of mercury is less than -45.6?']\n",
      "801 : ['What is the base of a cube?']\n",
      "801 : ['Which is Japanese Baseball Hall of Fame ID for Hideo Nomo?']\n",
      "801 : ['Who has surname as Mireille Mathieu and similar to Matias?']\n",
      "801 : ['What is Fawlty Towers AlloCine series ID?']\n",
      "801 : ['What does Pinocchio appear in the form of?']\n",
      "801 : ['How many langues does Kamal Haasan speak?']\n",
      "801 : ['When did Bono receive the TED Prize, and how much was he awarded as recipient?']\n",
      "801 : ['What is physiology comprised of?']\n",
      "801 : ['Is the conversion to SI unit of the statcoulomb greater than 2.6685128e-10?']\n",
      "801 : ['Is it true that the mothers mothers mother family relationship degree equal to 3?']\n",
      "801 : ['Tell me recurring sporting event whose name has the word world in it.']\n",
      "801 : ['How many saints have obtained canonization status?']\n",
      "801 : ['When did educated at of Peggy Whitson and academic major?']\n",
      "801 : ['Who discovered the boron?']\n",
      "801 : ['When did Maule Region have a population of 836141.0?']\n",
      "801 : ['Which is the rank of the taxon parent of Physalis philadelphica?']\n",
      "801 : ['Which member of the Rabah Madjer sports team played 94 matches ?']\n",
      "801 : ['Tell me reference model whose name has the word model in it.']\n",
      "801 : ['Tell me theorem whose name has the word theorem in it.']\n",
      "801 : ['When did Honolulu become an entity as the Territory of Hawaii?']\n",
      "801 : ['Tell me the house cat that contains the word мyka in their name']\n",
      "801 : ['TELL ME SEASON WHOSE NAME HAS THE WORD WINTER IN IT.']\n",
      "801 : ['Which is the date of burial or cremation of Miloš Forman?']\n",
      "801 : ['Which the {subject has role} and the {location of discovery} of {Iodine} ?']\n"
     ]
    },
    {
     "name": "stdout",
     "output_type": "stream",
     "text": [
      "802 : ['DOES THE LITERATE POPULATION OF DHARAMPUR EQUALS 0']\n"
     ]
    },
    {
     "name": "stdout",
     "output_type": "stream",
     "text": [
      "803 : ['Tom Hanks voiced which 3D film ?']\n"
     ]
    },
    {
     "name": "stdout",
     "output_type": "stream",
     "text": [
      "804 : ['Which is the organization that has its headquarters located in Aachen?']\n"
     ]
    },
    {
     "name": "stdout",
     "output_type": "stream",
     "text": [
      "805 : ['What mythical character that contains the word zau in their name']\n"
     ]
    },
    {
     "name": "stdout",
     "output_type": "stream",
     "text": [
      "806 : ['Name a business division owned by Ford Motor Company']\n",
      "807 : ['Is it true that the valency of monotransitive verb equals to 2?']\n"
     ]
    },
    {
     "name": "stdout",
     "output_type": "stream",
     "text": [
      "808 : ['How many mothers did Eros have?']\n",
      "809 : ['What are the signs of Typhoid fever which can be treated with Dopamine?']\n"
     ]
    },
    {
     "name": "stdout",
     "output_type": "stream",
     "text": [
      "810 : ['For which sports team does Thierry Henry play and how many matches has he played?']\n",
      "811 : ['Who is the child of Isabella I of Castile and when were they born?']\n"
     ]
    },
    {
     "name": "stdout",
     "output_type": "stream",
     "text": [
      "812 : ['What is Mizoram?']\n",
      "813 : ['What branch of science starts with the letter v?']\n"
     ]
    },
    {
     "name": "stdout",
     "output_type": "stream",
     "text": [
      "814 : ['What were the statements when Michelle Pfeiffer got nominated for the Academy Award for Best Actress?']\n"
     ]
    },
    {
     "name": "stdout",
     "output_type": "stream",
     "text": [
      "815 : ['Who is the {municipal archive} for {archives at} of {Aachen}']\n"
     ]
    },
    {
     "name": "stdout",
     "output_type": "stream",
     "text": [
      "816 : ['Where is {disciples} of {Nadia Boulanger}, which has {location of death} is {Azores} ?']\n"
     ]
    },
    {
     "name": "stdout",
     "output_type": "stream",
     "text": [
      "817 : ['How many out of school children are there in Eritrea?']\n",
      "818 : ['Tell me physical quantity whose name has the word work in it.']\n",
      "819 : ['What power plant and manufacturer is responsible for the Rockwell B-1 Lancer?']\n"
     ]
    },
    {
     "name": "stdout",
     "output_type": "stream",
     "text": [
      "Link batch time: 13.223842859268188\n",
      "Anno batch time: 339.0042984485626\n",
      "Conv batch time: 0.0027303695678710938\n",
      "\n",
      "\n",
      "[Pipeline2]: Linking 849-899\n",
      "851 : ['Tell me about animated feature film for voice actor of Ellen DeGeneres?']\n",
      "851 : ['Tell me superhero that contains the word wolfsbane in their name']\n",
      "851 : ['Which is the subject in Sunyata having science,that studies about Buddhist studies?']\n",
      "851 : ['What drives the subject of the language change statement']\n",
      "851 : ['How many matches did Diego Maradona participate in with the A.A. Argentinos Juniors?']\n",
      "851 : ['What state is the University of Iowa located?']\n",
      "851 : ['Tell me about spouse of Julio Iglesias and end cause?']\n",
      "851 : ['Who is the contestant of Descendants of the Sun?']\n",
      "851 : ['What are the state church which start with the letter M']\n",
      "851 : ['Which is the {eye color} of the {hair color} of {Xi_Jinping} ?']\n",
      "851 : ['Is it true that the thermal diffusivity of adobe is less than 0.216?']\n",
      "851 : ['What award did Carrie Underwood receive in 2007?']\n",
      "851 : ['When did Ryan Giggs become a member of the Manchester United F.C.?']\n",
      "851 : ['What specimen type does Piper nigrum belong to?']\n",
      "851 : ['Who became the head of the government of Vaduz on 2017-1-0?']\n"
     ]
    },
    {
     "name": "stdout",
     "output_type": "stream",
     "text": [
      "851 : ['What is the solitary with the lowest height whose instance of is Tilia platyphyllos?']\n",
      "851 : ['Which is {continent} of {death place} of {Thomas Morley} ?']\n",
      "851 : ['What is the twin town of Port Vila, with the license plate code 沪A?']\n",
      "851 : ['Who is the brother of the actress Trishna?']\n",
      "851 : ['What is the period of time of the  {Hellenistic period} ?']\n",
      "851 : ['In what position did Charles XIV John of Sweden replace Charles XIII of Sweden?']\n",
      "851 : ['Which is {official language} of {basin countries} of {White Sea} ?']\n",
      "851 : ['Name a brand owned by SpaceX.']\n",
      "851 : ['When did Betty White win the Daytime Emmy Award for Outstanding Game Show Host?']\n",
      "851 : ['Which birthplace of Chris Rock, has a Geotag of 33.45?']\n",
      "851 : ['Which is the Wikimedia template that populates this category of Gujarati?']\n",
      "851 : ['How much did Ellyse Perry score when playing for which team?']\n",
      "851 : ['What is the document published by the National Constituent Assembly that contains the word citizen in its name']\n",
      "851 : ['What is the daughter of Leopold II, Holy Roman Emperor, whose sister is Maria Anna dAsburgo-Lorena?']\n",
      "851 : ['Who replaced Charles Evans Hughes as the Chief Justice of The United States?']\n",
      "851 : ['what is the key incident in the provenance of Glencore?']\n",
      "851 : ['Tell me written work whose name has the word war in it.']\n"
     ]
    },
    {
     "name": "stdout",
     "output_type": "stream",
     "text": [
      "852 : ['What parent body constellation is Messier a part of?']\n",
      "853 : ['Name the eponym of volt, who is professor by profession.']\n"
     ]
    },
    {
     "name": "stdout",
     "output_type": "stream",
     "text": [
      "854 : ['who  work of motif of david with the head of goliath ?']\n",
      "855 : ['Which document is the main regulatory text of the Soviet Union?']\n"
     ]
    },
    {
     "name": "stdout",
     "output_type": "stream",
     "text": [
      "856 : ['What is the parent university of Purdue University?']\n"
     ]
    },
    {
     "name": "stdout",
     "output_type": "stream",
     "text": [
      "857 : ['Where can you land on the moon with a mass of 73.477?']\n"
     ]
    },
    {
     "name": "stdout",
     "output_type": "stream",
     "text": [
      "858 : ['How many members of the crew are there for John Jellicoe , 1st Earl Jellicoe?']\n"
     ]
    },
    {
     "name": "stdout",
     "output_type": "stream",
     "text": [
      "859 : ['What is Proxima Centauris companion?']\n",
      "860 : ['Who is the writer of The Murder of Roger Ackroyd, which has been active since 1920-0-0?']\n",
      "861 : ['Which is the sector of the software publisher for Horticultural classification of tulip cultivars?']\n"
     ]
    },
    {
     "name": "stdout",
     "output_type": "stream",
     "text": [
      "862 : ['Who is the candidacy in election for United States Congress?']\n",
      "863 : ['What are the linguistic typology and grammatical gender of Spanish language?']\n"
     ]
    },
    {
     "name": "stdout",
     "output_type": "stream",
     "text": [
      "864 : ['Is The New York Times published in Manhattan, New York City?']\n",
      "865 : ['Who is the child of William Jennings Bryan that has the biological sex of male?']\n"
     ]
    },
    {
     "name": "stdout",
     "output_type": "stream",
     "text": [
      "866 : ['What U.S. Government agency holds the archives of Jefferson Davis?']\n"
     ]
    },
    {
     "name": "stdout",
     "output_type": "stream",
     "text": [
      "867 : ['What book is the most notable work of Robert Louis Stevenson?']\n"
     ]
    },
    {
     "name": "stdout",
     "output_type": "stream",
     "text": [
      "868 : ['What kind of instrument is made with foil?']\n",
      "869 : ['What is the reservoir of Lake Winnebago?']\n"
     ]
    },
    {
     "name": "stdout",
     "output_type": "stream",
     "text": [
      "Link batch time: 12.596404075622559\n",
      "Anno batch time: 264.59366631507874\n",
      "Conv batch time: 0.0038580894470214844\n",
      "\n",
      "\n",
      "[Pipeline2]: Linking 899-949\n",
      "901 : ['Which fruit type is the higher taxon of Philodendron edmundoi?']\n",
      "901 : ['How many countries are around Ireland?']\n",
      "901 : ['Which song was Ringo Starr nominated for the Academy Award for Best Original Song Score?']\n",
      "901 : ['What is the language official in Federated States of Micronesia having a shortened name of']\n",
      "901 : ['This sentence makes no sense.']\n",
      "901 : ['When Camille Pissarro ended to work at Netherlands?']\n",
      "901 : ['What killed John F. Kennedy and who caused him ballistic trauma?']\n",
      "901 : ['For which work Patrick White received the Miles Franklin Literary Award?']\n",
      "901 : ['When Alexandria, Diocese of Egypt, ended?']\n",
      "901 : ['Who owns Disneyland and who is it named after?']\n",
      "901 : ['What are the treaty which start with the letter t']\n",
      "901 : ['Is it true that the caliber of Ehrhardt 7.5 cm Model 1901 equals to 60?']\n",
      "901 : ['What is the item operated of a B-29 Superfortress?']\n"
     ]
    }
   ],
   "source": [
    "responses = []\n",
    "batch_qns = []\n",
    "batch_ans = []\n",
    "truncated_data = df[:]\n",
    "total_len = len(truncated_data)\n",
    "last = 0\n",
    "cutoff = 0\n",
    "for i, data in enumerate(truncated_data.iterrows()):\n",
    "    data = data[1]\n",
    "    if i < cutoff:\n",
    "        continue\n",
    "    # print(\"Pipeline iter\", i)\n",
    "    question = data[\"new_question\"]\n",
    "    answer = data[\"sparql_wikidata\"]\n",
    "    # try\n",
    "    #     linked, annotated, converted = pipe(question, answer)\n",
    "    # except Exception as e:\n",
    "    #     print(e)\n",
    "    #     continue\n",
    "    # responses.append([linked, annotated, converted])\n",
    "    if (question and answer) and len(question) >= 2:\n",
    "        batch_qns.append(question)\n",
    "        batch_ans.append(answer)\n",
    "    if ((i + 1) % 50) == 0 or i == total_len - 1:\n",
    "        print(\"\\n[Pipeline2]:\", f\"Linking {last}-{i}\")\n",
    "        try:\n",
    "            for linked, annotated, converted in pipe_batch(batch_qns, batch_ans):\n",
    "                responses.append([linked, annotated, converted])\n",
    "            batch_qns = []\n",
    "            batch_ans = []\n",
    "            last = i\n",
    "        except Exception as e:\n",
    "            raise e\n",
    "            # print(e)\n",
    "            # continue\n",
    "        with open(output_links_dir / f\"link_{i}.json\", \"w\") as f:\n",
    "            json.dump(responses, f, indent=2, separators=(',',':'))\n",
    "        print()"
   ]
  }
 ],
 "metadata": {
  "kernelspec": {
   "display_name": "py310",
   "language": "python",
   "name": "python3"
  },
  "language_info": {
   "codemirror_mode": {
    "name": "ipython",
    "version": 3
   },
   "file_extension": ".py",
   "mimetype": "text/x-python",
   "name": "python",
   "nbconvert_exporter": "python",
   "pygments_lexer": "ipython3",
   "version": "3.10.11"
  },
  "papermill": {
   "default_parameters": {},
   "duration": null,
   "end_time": null,
   "environment_variables": {},
   "exception": null,
   "input_path": "pipeline2.ipynb",
   "output_path": "pipeline2-5eg0r-full.papermill.ipynb",
   "parameters": {},
   "start_time": "2023-07-19T06:09:09.818150",
   "version": "2.4.0"
  }
 },
 "nbformat": 4,
 "nbformat_minor": 5
}
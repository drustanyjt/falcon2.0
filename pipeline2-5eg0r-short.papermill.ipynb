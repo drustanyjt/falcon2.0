{
 "cells": [
  {
   "cell_type": "markdown",
   "id": "d43fb06f",
   "metadata": {
    "tags": [
     "papermill-error-cell-tag"
    ]
   },
   "source": [
    "<span style=\"color:red; font-family:Helvetica Neue, Helvetica, Arial, sans-serif; font-size:2em;\">An Exception was encountered at '<a href=\"#papermill-error-cell\">In [9]</a>'.</span>"
   ]
  },
  {
   "attachments": {},
   "cell_type": "markdown",
   "id": "13497438",
   "metadata": {
    "papermill": {
     "duration": 0.008178,
     "end_time": "2023-07-19T05:36:01.411410",
     "exception": false,
     "start_time": "2023-07-19T05:36:01.403232",
     "status": "completed"
    },
    "tags": []
   },
   "source": [
    "# Pipeline 1"
   ]
  },
  {
   "cell_type": "code",
   "execution_count": 1,
   "id": "8cb34c5f",
   "metadata": {
    "execution": {
     "iopub.execute_input": "2023-07-19T05:36:01.433979Z",
     "iopub.status.busy": "2023-07-19T05:36:01.433433Z",
     "iopub.status.idle": "2023-07-19T05:36:03.862863Z",
     "shell.execute_reply": "2023-07-19T05:36:03.861230Z"
    },
    "papermill": {
     "duration": 2.444963,
     "end_time": "2023-07-19T05:36:03.866098",
     "exception": false,
     "start_time": "2023-07-19T05:36:01.421135",
     "status": "completed"
    },
    "tags": []
   },
   "outputs": [
    {
     "name": "stdout",
     "output_type": "stream",
     "text": [
      "[Flacon2.0 main.py]: no reranking, k=5\n"
     ]
    }
   ],
   "source": [
    "from pipeline import SerialAnnotator, T5Converter\n",
    "import time\n",
    "from pprint import pprint"
   ]
  },
  {
   "cell_type": "code",
   "execution_count": 2,
   "id": "28d560de",
   "metadata": {
    "execution": {
     "iopub.execute_input": "2023-07-19T05:36:03.884110Z",
     "iopub.status.busy": "2023-07-19T05:36:03.883144Z",
     "iopub.status.idle": "2023-07-19T05:36:03.890458Z",
     "shell.execute_reply": "2023-07-19T05:36:03.889566Z"
    },
    "papermill": {
     "duration": 0.020027,
     "end_time": "2023-07-19T05:36:03.892379",
     "exception": false,
     "start_time": "2023-07-19T05:36:03.872352",
     "status": "completed"
    },
    "tags": []
   },
   "outputs": [],
   "source": [
    "annotator = SerialAnnotator()\n",
    "converter = T5Converter()"
   ]
  },
  {
   "cell_type": "code",
   "execution_count": 3,
   "id": "95bba8e0",
   "metadata": {
    "execution": {
     "iopub.execute_input": "2023-07-19T05:36:03.906292Z",
     "iopub.status.busy": "2023-07-19T05:36:03.905846Z",
     "iopub.status.idle": "2023-07-19T05:36:03.917219Z",
     "shell.execute_reply": "2023-07-19T05:36:03.916152Z"
    },
    "papermill": {
     "duration": 0.024274,
     "end_time": "2023-07-19T05:36:03.919481",
     "exception": false,
     "start_time": "2023-07-19T05:36:03.895207",
     "status": "completed"
    },
    "tags": []
   },
   "outputs": [],
   "source": [
    "def pipe_batch(linked, wikisparqls):\n",
    "  batched = []\n",
    "  s = time.time()\n",
    "  annotated = annotator.batch_annotate(linked)\n",
    "  e = time.time()\n",
    "  assert len(linked) == len(annotated)\n",
    "  annotator_time = e - s\n",
    "  converter_time = 0\n",
    "  for i, single_annotated in enumerate(annotated):\n",
    "    # annotated = annotator.annotate(**single_linked)\n",
    "    # try:\n",
    "    #   annotator_time += e - s\n",
    "    # except Exception as e:\n",
    "    #   print(\"[Annotator Error]:\", e)\n",
    "    #   continue\n",
    "    s = time.time()\n",
    "    try:\n",
    "      converted = converter.preprocess(**single_annotated, wikisparql=wikisparqls[i])\n",
    "    except Exception as e:\n",
    "      print(\"[Converter Error]:\", e)\n",
    "      continue\n",
    "      \n",
    "    e = time.time()\n",
    "    converter_time += e - s\n",
    "    batched.append([linked[i], annotated[i], converted])\n",
    "  print(\"Anno batch time:\", annotator_time)\n",
    "  print(\"Conv batch time:\", converter_time)\n",
    "  return batched"
   ]
  },
  {
   "attachments": {},
   "cell_type": "markdown",
   "id": "067a756c",
   "metadata": {
    "papermill": {
     "duration": 0.00912,
     "end_time": "2023-07-19T05:36:03.932314",
     "exception": false,
     "start_time": "2023-07-19T05:36:03.923194",
     "status": "completed"
    },
    "tags": []
   },
   "source": [
    "## Data"
   ]
  },
  {
   "cell_type": "code",
   "execution_count": 4,
   "id": "81311d74",
   "metadata": {
    "execution": {
     "iopub.execute_input": "2023-07-19T05:36:03.952230Z",
     "iopub.status.busy": "2023-07-19T05:36:03.951752Z",
     "iopub.status.idle": "2023-07-19T05:36:04.254884Z",
     "shell.execute_reply": "2023-07-19T05:36:04.253682Z"
    },
    "papermill": {
     "duration": 0.31715,
     "end_time": "2023-07-19T05:36:04.258206",
     "exception": false,
     "start_time": "2023-07-19T05:36:03.941056",
     "status": "completed"
    },
    "tags": []
   },
   "outputs": [],
   "source": [
    "from pathlib import Path\n",
    "from pprint import pprint\n",
    "import pandas as pd\n",
    "import json\n",
    "\n",
    "# data_path = Path(\"..\") / \"t5-for-sparql\" / \"data\" / \"lcquad2\" / \"train.json\"\n",
    "data_path = Path(\"..\") / \"t5-for-sparql\" / \"falcon_links\" / \"5ents_5rels\" / \"link_24066.json\""
   ]
  },
  {
   "cell_type": "code",
   "execution_count": 5,
   "id": "328fecc9",
   "metadata": {
    "execution": {
     "iopub.execute_input": "2023-07-19T05:36:04.276846Z",
     "iopub.status.busy": "2023-07-19T05:36:04.276278Z",
     "iopub.status.idle": "2023-07-19T05:36:05.760024Z",
     "shell.execute_reply": "2023-07-19T05:36:05.759110Z"
    },
    "papermill": {
     "duration": 1.499376,
     "end_time": "2023-07-19T05:36:05.763143",
     "exception": false,
     "start_time": "2023-07-19T05:36:04.263767",
     "status": "completed"
    },
    "tags": []
   },
   "outputs": [],
   "source": [
    "with open(data_path) as f:\n",
    "  data_json = json.load(f)\n",
    "sample = data_json[1]"
   ]
  },
  {
   "cell_type": "code",
   "execution_count": 6,
   "id": "a60cdb39",
   "metadata": {
    "execution": {
     "iopub.execute_input": "2023-07-19T05:36:05.778226Z",
     "iopub.status.busy": "2023-07-19T05:36:05.777771Z",
     "iopub.status.idle": "2023-07-19T05:36:05.785361Z",
     "shell.execute_reply": "2023-07-19T05:36:05.784466Z"
    },
    "papermill": {
     "duration": 0.017548,
     "end_time": "2023-07-19T05:36:05.787190",
     "exception": false,
     "start_time": "2023-07-19T05:36:05.769642",
     "status": "completed"
    },
    "tags": []
   },
   "outputs": [],
   "source": [
    "import re\n",
    "\n",
    "def retrieve_gold_links(masked_wikisparql):\n",
    "  fragments = masked_wikisparql.upper().strip().split(' ')\n",
    "  ents = []\n",
    "  rels = []\n",
    "  result_dict = {\n",
    "    'ents': ents,\n",
    "    'rels': rels,\n",
    "  }\n",
    "  for fragment in fragments:\n",
    "    id_match = re.search('[QP][0-9]+',fragment)\n",
    "    if id_match:\n",
    "      id_raw = id_match.group(0)\n",
    "      if id_raw[0] == 'Q':\n",
    "        prefix = 'wdt:'\n",
    "        uri = 'http://www.wikidata.org/entity/' + id_raw\n",
    "        target_arr = ents\n",
    "      elif id_raw[0] == 'P':\n",
    "        prefix = 'wd:'\n",
    "        uri =  'http://www.wikidata.org/prop/direct/' + id_raw\n",
    "        target_arr = rels\n",
    "      else:\n",
    "        raise ValueError('ID does not start with P or Q')\n",
    "      match_dict = {\n",
    "        'id' : id_raw,\n",
    "        'prefix' : prefix,\n",
    "        'uri' : uri,\n",
    "      }\n",
    "      target_arr.append(match_dict)\n",
    "  return result_dict"
   ]
  },
  {
   "cell_type": "code",
   "execution_count": 7,
   "id": "5acf7393",
   "metadata": {
    "execution": {
     "iopub.execute_input": "2023-07-19T05:36:05.799162Z",
     "iopub.status.busy": "2023-07-19T05:36:05.798683Z",
     "iopub.status.idle": "2023-07-19T05:36:07.099483Z",
     "shell.execute_reply": "2023-07-19T05:36:07.098594Z"
    },
    "papermill": {
     "duration": 1.311522,
     "end_time": "2023-07-19T05:36:07.101526",
     "exception": false,
     "start_time": "2023-07-19T05:36:05.790004",
     "status": "completed"
    },
    "tags": []
   },
   "outputs": [],
   "source": [
    "for entry in data_json:\n",
    "  old_linked, _, old_converted = entry\n",
    "  wikisparql = old_converted['labels']\n",
    "  gold_links = retrieve_gold_links(wikisparql)\n",
    "  entry.append(gold_links)"
   ]
  },
  {
   "cell_type": "code",
   "execution_count": 8,
   "id": "983e184a",
   "metadata": {
    "execution": {
     "iopub.execute_input": "2023-07-19T05:36:07.116492Z",
     "iopub.status.busy": "2023-07-19T05:36:07.116095Z",
     "iopub.status.idle": "2023-07-19T05:36:07.127809Z",
     "shell.execute_reply": "2023-07-19T05:36:07.126626Z"
    },
    "papermill": {
     "duration": 0.025966,
     "end_time": "2023-07-19T05:36:07.130563",
     "exception": false,
     "start_time": "2023-07-19T05:36:07.104597",
     "status": "completed"
    },
    "tags": []
   },
   "outputs": [
    {
     "data": {
      "text/plain": [
       "[{'utterance': 'What is Delta Air Lines periodical literature mouthpiece?',\n",
       "  'ents': [{'uri': 'http://www.wikidata.org/entity/Q188920',\n",
       "    'prefix': 'wd:',\n",
       "    'id': 'Q188920'},\n",
       "   {'uri': 'http://www.wikidata.org/entity/Q1002697',\n",
       "    'prefix': 'wd:',\n",
       "    'id': 'Q1002697'},\n",
       "   {'uri': 'http://www.wikidata.org/entity/Q416938',\n",
       "    'prefix': 'wd:',\n",
       "    'id': 'Q416938'},\n",
       "   {'uri': 'http://www.wikidata.org/entity/Q523753',\n",
       "    'prefix': 'wd:',\n",
       "    'id': 'Q523753'},\n",
       "   {'uri': 'http://www.wikidata.org/entity/Q671722',\n",
       "    'prefix': 'wd:',\n",
       "    'id': 'Q671722'}],\n",
       "  'rels': []},\n",
       " {'utterance': 'What is Delta Air Lines periodical literature mouthpiece?',\n",
       "  'fragments': ['[DEF]',\n",
       "   'wd:',\n",
       "   'Q188920 Delta',\n",
       "   '[DEF]',\n",
       "   'wd:',\n",
       "   'Q1002697 periodical literature',\n",
       "   '[DEF]',\n",
       "   'wd:',\n",
       "   'Q416938 Mouthpiece',\n",
       "   '[DEF]',\n",
       "   'wd:',\n",
       "   'Q523753 mouthpiece',\n",
       "   '[DEF]',\n",
       "   'wd:',\n",
       "   'Q671722 mouthpiece']},\n",
       " {'inputs': 'What is Delta Air Lines periodical literature mouthpiece? <extra_id_59> <extra_id_53> Q188920 Delta <extra_id_59> <extra_id_53> Q1002697 periodical literature <extra_id_59> <extra_id_53> Q416938 Mouthpiece <extra_id_59> <extra_id_53> Q523753 mouthpiece <extra_id_59> <extra_id_53> Q671722 mouthpiece',\n",
       "  'labels': '<extra_id_6> <extra_id_21> <extra_id_39> <extra_id_19> <extra_id_33> <extra_id_53> q188920 <extra_id_54> p2813 <extra_id_39> <extra_id_38> <extra_id_39> <extra_id_54> p31 <extra_id_53> q1002697 <extra_id_15>'},\n",
       " {'ents': [{'id': 'Q188920',\n",
       "    'prefix': 'wdt:',\n",
       "    'uri': 'http://www.wikidata.org/entity/Q188920'},\n",
       "   {'id': 'Q1002697',\n",
       "    'prefix': 'wdt:',\n",
       "    'uri': 'http://www.wikidata.org/entity/Q1002697'}],\n",
       "  'rels': [{'id': 'P2813',\n",
       "    'prefix': 'wd:',\n",
       "    'uri': 'http://www.wikidata.org/prop/direct/P2813'},\n",
       "   {'id': 'P31',\n",
       "    'prefix': 'wd:',\n",
       "    'uri': 'http://www.wikidata.org/prop/direct/P31'}]}]"
      ]
     },
     "execution_count": 8,
     "metadata": {},
     "output_type": "execute_result"
    }
   ],
   "source": [
    "data_json[0]"
   ]
  },
  {
   "cell_type": "markdown",
   "id": "0042490e",
   "metadata": {
    "tags": [
     "papermill-error-cell-tag"
    ]
   },
   "source": [
    "<span id=\"papermill-error-cell\" style=\"color:red; font-family:Helvetica Neue, Helvetica, Arial, sans-serif; font-size:2em;\">Execution using papermill encountered an exception here and stopped:</span>"
   ]
  },
  {
   "cell_type": "code",
   "execution_count": 9,
   "id": "54ca8faf",
   "metadata": {
    "execution": {
     "iopub.execute_input": "2023-07-19T05:36:07.148573Z",
     "iopub.status.busy": "2023-07-19T05:36:07.148084Z",
     "iopub.status.idle": "2023-07-19T05:46:22.466425Z",
     "shell.execute_reply": "2023-07-19T05:46:22.463780Z"
    },
    "papermill": {
     "duration": 615.335681,
     "end_time": "2023-07-19T05:46:22.472939",
     "exception": true,
     "start_time": "2023-07-19T05:36:07.137258",
     "status": "failed"
    },
    "tags": []
   },
   "outputs": [
    {
     "name": "stdout",
     "output_type": "stream",
     "text": [
      "[Pipeline2]: Processing 0-49\n"
     ]
    },
    {
     "name": "stdout",
     "output_type": "stream",
     "text": [
      "Anno batch time: 308.84878754615784\n",
      "Conv batch time: 0.0025517940521240234\n",
      "[Pipeline2]: Processing 49-99\n"
     ]
    },
    {
     "ename": "ConnectionError",
     "evalue": "Connection error caused by: ConnectionError(Connection error caused by: ProtocolError(('Connection aborted.', RemoteDisconnected('Remote end closed connection without response'))))",
     "output_type": "error",
     "traceback": [
      "\u001b[0;31m---------------------------------------------------------------------------\u001b[0m",
      "\u001b[0;31mConnectionError\u001b[0m                           Traceback (most recent call last)",
      "Cell \u001b[0;32mIn[9], line 34\u001b[0m\n\u001b[1;32m     32\u001b[0m     last \u001b[38;5;241m=\u001b[39m i\n\u001b[1;32m     33\u001b[0m \u001b[38;5;28;01mexcept\u001b[39;00m \u001b[38;5;167;01mException\u001b[39;00m \u001b[38;5;28;01mas\u001b[39;00m e:\n\u001b[0;32m---> 34\u001b[0m     \u001b[38;5;28;01mraise\u001b[39;00m e\n\u001b[1;32m     35\u001b[0m     \u001b[38;5;66;03m# print(e)\u001b[39;00m\n\u001b[1;32m     36\u001b[0m     \u001b[38;5;66;03m# continue\u001b[39;00m\n\u001b[1;32m     37\u001b[0m \u001b[38;5;28;01mwith\u001b[39;00m \u001b[38;5;28mopen\u001b[39m(\u001b[38;5;124mf\u001b[39m\u001b[38;5;124m\"\u001b[39m\u001b[38;5;124m../t5-for-sparql/falcon_links/5ents-gold_0rels/link_\u001b[39m\u001b[38;5;132;01m{\u001b[39;00mi\u001b[38;5;132;01m}\u001b[39;00m\u001b[38;5;124m.json\u001b[39m\u001b[38;5;124m\"\u001b[39m, \u001b[38;5;124m\"\u001b[39m\u001b[38;5;124mw\u001b[39m\u001b[38;5;124m\"\u001b[39m) \u001b[38;5;28;01mas\u001b[39;00m f:\n",
      "Cell \u001b[0;32mIn[9], line 28\u001b[0m\n\u001b[1;32m     26\u001b[0m \u001b[38;5;28mprint\u001b[39m(\u001b[38;5;124m\"\u001b[39m\u001b[38;5;124m[Pipeline2]:\u001b[39m\u001b[38;5;124m\"\u001b[39m, \u001b[38;5;124mf\u001b[39m\u001b[38;5;124m\"\u001b[39m\u001b[38;5;124mProcessing \u001b[39m\u001b[38;5;132;01m{\u001b[39;00mlast\u001b[38;5;132;01m}\u001b[39;00m\u001b[38;5;124m-\u001b[39m\u001b[38;5;132;01m{\u001b[39;00mi\u001b[38;5;132;01m}\u001b[39;00m\u001b[38;5;124m\"\u001b[39m)\n\u001b[1;32m     27\u001b[0m \u001b[38;5;28;01mtry\u001b[39;00m:\n\u001b[0;32m---> 28\u001b[0m     \u001b[38;5;28;01mfor\u001b[39;00m linked, annotated, converted \u001b[38;5;129;01min\u001b[39;00m \u001b[43mpipe_batch\u001b[49m\u001b[43m(\u001b[49m\u001b[43mbatch_new_linked\u001b[49m\u001b[43m,\u001b[49m\u001b[43m \u001b[49m\u001b[43mbatch_ans\u001b[49m\u001b[43m)\u001b[49m:\n\u001b[1;32m     29\u001b[0m         responses\u001b[38;5;241m.\u001b[39mappend([linked, annotated, converted])\n\u001b[1;32m     30\u001b[0m     batch_new_linked \u001b[38;5;241m=\u001b[39m []\n",
      "Cell \u001b[0;32mIn[3], line 4\u001b[0m, in \u001b[0;36mpipe_batch\u001b[0;34m(linked, wikisparqls)\u001b[0m\n\u001b[1;32m      2\u001b[0m batched \u001b[38;5;241m=\u001b[39m []\n\u001b[1;32m      3\u001b[0m s \u001b[38;5;241m=\u001b[39m time\u001b[38;5;241m.\u001b[39mtime()\n\u001b[0;32m----> 4\u001b[0m annotated \u001b[38;5;241m=\u001b[39m \u001b[43mannotator\u001b[49m\u001b[38;5;241;43m.\u001b[39;49m\u001b[43mbatch_annotate\u001b[49m\u001b[43m(\u001b[49m\u001b[43mlinked\u001b[49m\u001b[43m)\u001b[49m\n\u001b[1;32m      5\u001b[0m e \u001b[38;5;241m=\u001b[39m time\u001b[38;5;241m.\u001b[39mtime()\n\u001b[1;32m      6\u001b[0m \u001b[38;5;28;01massert\u001b[39;00m \u001b[38;5;28mlen\u001b[39m(linked) \u001b[38;5;241m==\u001b[39m \u001b[38;5;28mlen\u001b[39m(annotated)\n",
      "File \u001b[0;32m~/falcon2.0/pipeline/SerialAnnotator.py:20\u001b[0m, in \u001b[0;36mSerialAnnotator.batch_annotate\u001b[0;34m(self, batch_linked)\u001b[0m\n\u001b[1;32m     18\u001b[0m annotated \u001b[38;5;241m=\u001b[39m []\n\u001b[1;32m     19\u001b[0m pool \u001b[38;5;241m=\u001b[39m ThreadPool()\n\u001b[0;32m---> 20\u001b[0m map_results \u001b[38;5;241m=\u001b[39m \u001b[43mpool\u001b[49m\u001b[38;5;241;43m.\u001b[39;49m\u001b[43mmap\u001b[49m\u001b[43m(\u001b[49m\u001b[38;5;28;43;01mlambda\u001b[39;49;00m\u001b[43m \u001b[49m\u001b[43ml\u001b[49m\u001b[43m:\u001b[49m\u001b[43m \u001b[49m\u001b[38;5;28;43mself\u001b[39;49m\u001b[38;5;241;43m.\u001b[39;49m\u001b[43mannotate\u001b[49m\u001b[43m(\u001b[49m\u001b[38;5;241;43m*\u001b[39;49m\u001b[38;5;241;43m*\u001b[39;49m\u001b[43ml\u001b[49m\u001b[43m)\u001b[49m\u001b[43m,\u001b[49m\u001b[43m \u001b[49m\u001b[43mbatch_linked\u001b[49m\u001b[43m)\u001b[49m\n\u001b[1;32m     21\u001b[0m pool\u001b[38;5;241m.\u001b[39mclose()\n\u001b[1;32m     22\u001b[0m pool\u001b[38;5;241m.\u001b[39mjoin()\n",
      "File \u001b[0;32m~/anaconda3/envs/falcon2/lib/python3.10/multiprocessing/pool.py:367\u001b[0m, in \u001b[0;36mPool.map\u001b[0;34m(self, func, iterable, chunksize)\u001b[0m\n\u001b[1;32m    362\u001b[0m \u001b[38;5;28;01mdef\u001b[39;00m \u001b[38;5;21mmap\u001b[39m(\u001b[38;5;28mself\u001b[39m, func, iterable, chunksize\u001b[38;5;241m=\u001b[39m\u001b[38;5;28;01mNone\u001b[39;00m):\n\u001b[1;32m    363\u001b[0m \u001b[38;5;250m    \u001b[39m\u001b[38;5;124;03m'''\u001b[39;00m\n\u001b[1;32m    364\u001b[0m \u001b[38;5;124;03m    Apply `func` to each element in `iterable`, collecting the results\u001b[39;00m\n\u001b[1;32m    365\u001b[0m \u001b[38;5;124;03m    in a list that is returned.\u001b[39;00m\n\u001b[1;32m    366\u001b[0m \u001b[38;5;124;03m    '''\u001b[39;00m\n\u001b[0;32m--> 367\u001b[0m     \u001b[38;5;28;01mreturn\u001b[39;00m \u001b[38;5;28;43mself\u001b[39;49m\u001b[38;5;241;43m.\u001b[39;49m\u001b[43m_map_async\u001b[49m\u001b[43m(\u001b[49m\u001b[43mfunc\u001b[49m\u001b[43m,\u001b[49m\u001b[43m \u001b[49m\u001b[43miterable\u001b[49m\u001b[43m,\u001b[49m\u001b[43m \u001b[49m\u001b[43mmapstar\u001b[49m\u001b[43m,\u001b[49m\u001b[43m \u001b[49m\u001b[43mchunksize\u001b[49m\u001b[43m)\u001b[49m\u001b[38;5;241;43m.\u001b[39;49m\u001b[43mget\u001b[49m\u001b[43m(\u001b[49m\u001b[43m)\u001b[49m\n",
      "File \u001b[0;32m~/anaconda3/envs/falcon2/lib/python3.10/multiprocessing/pool.py:774\u001b[0m, in \u001b[0;36mApplyResult.get\u001b[0;34m(self, timeout)\u001b[0m\n\u001b[1;32m    772\u001b[0m     \u001b[38;5;28;01mreturn\u001b[39;00m \u001b[38;5;28mself\u001b[39m\u001b[38;5;241m.\u001b[39m_value\n\u001b[1;32m    773\u001b[0m \u001b[38;5;28;01melse\u001b[39;00m:\n\u001b[0;32m--> 774\u001b[0m     \u001b[38;5;28;01mraise\u001b[39;00m \u001b[38;5;28mself\u001b[39m\u001b[38;5;241m.\u001b[39m_value\n",
      "File \u001b[0;32m~/anaconda3/envs/falcon2/lib/python3.10/multiprocessing/pool.py:125\u001b[0m, in \u001b[0;36mworker\u001b[0;34m(inqueue, outqueue, initializer, initargs, maxtasks, wrap_exception)\u001b[0m\n\u001b[1;32m    123\u001b[0m job, i, func, args, kwds \u001b[38;5;241m=\u001b[39m task\n\u001b[1;32m    124\u001b[0m \u001b[38;5;28;01mtry\u001b[39;00m:\n\u001b[0;32m--> 125\u001b[0m     result \u001b[38;5;241m=\u001b[39m (\u001b[38;5;28;01mTrue\u001b[39;00m, \u001b[43mfunc\u001b[49m\u001b[43m(\u001b[49m\u001b[38;5;241;43m*\u001b[39;49m\u001b[43margs\u001b[49m\u001b[43m,\u001b[49m\u001b[43m \u001b[49m\u001b[38;5;241;43m*\u001b[39;49m\u001b[38;5;241;43m*\u001b[39;49m\u001b[43mkwds\u001b[49m\u001b[43m)\u001b[49m)\n\u001b[1;32m    126\u001b[0m \u001b[38;5;28;01mexcept\u001b[39;00m \u001b[38;5;167;01mException\u001b[39;00m \u001b[38;5;28;01mas\u001b[39;00m e:\n\u001b[1;32m    127\u001b[0m     \u001b[38;5;28;01mif\u001b[39;00m wrap_exception \u001b[38;5;129;01mand\u001b[39;00m func \u001b[38;5;129;01mis\u001b[39;00m \u001b[38;5;129;01mnot\u001b[39;00m _helper_reraises_exception:\n",
      "File \u001b[0;32m~/anaconda3/envs/falcon2/lib/python3.10/multiprocessing/pool.py:48\u001b[0m, in \u001b[0;36mmapstar\u001b[0;34m(args)\u001b[0m\n\u001b[1;32m     47\u001b[0m \u001b[38;5;28;01mdef\u001b[39;00m \u001b[38;5;21mmapstar\u001b[39m(args):\n\u001b[0;32m---> 48\u001b[0m     \u001b[38;5;28;01mreturn\u001b[39;00m \u001b[38;5;28;43mlist\u001b[39;49m\u001b[43m(\u001b[49m\u001b[38;5;28;43mmap\u001b[39;49m\u001b[43m(\u001b[49m\u001b[38;5;241;43m*\u001b[39;49m\u001b[43margs\u001b[49m\u001b[43m)\u001b[49m\u001b[43m)\u001b[49m\n",
      "File \u001b[0;32m~/falcon2.0/pipeline/SerialAnnotator.py:20\u001b[0m, in \u001b[0;36mSerialAnnotator.batch_annotate.<locals>.<lambda>\u001b[0;34m(l)\u001b[0m\n\u001b[1;32m     18\u001b[0m annotated \u001b[38;5;241m=\u001b[39m []\n\u001b[1;32m     19\u001b[0m pool \u001b[38;5;241m=\u001b[39m ThreadPool()\n\u001b[0;32m---> 20\u001b[0m map_results \u001b[38;5;241m=\u001b[39m pool\u001b[38;5;241m.\u001b[39mmap(\u001b[38;5;28;01mlambda\u001b[39;00m l: \u001b[38;5;28;43mself\u001b[39;49m\u001b[38;5;241;43m.\u001b[39;49m\u001b[43mannotate\u001b[49m\u001b[43m(\u001b[49m\u001b[38;5;241;43m*\u001b[39;49m\u001b[38;5;241;43m*\u001b[39;49m\u001b[43ml\u001b[49m\u001b[43m)\u001b[49m, batch_linked)\n\u001b[1;32m     21\u001b[0m pool\u001b[38;5;241m.\u001b[39mclose()\n\u001b[1;32m     22\u001b[0m pool\u001b[38;5;241m.\u001b[39mjoin()\n",
      "File \u001b[0;32m~/falcon2.0/pipeline/SerialAnnotator.py:39\u001b[0m, in \u001b[0;36mSerialAnnotator.annotate\u001b[0;34m(self, utterance, ents, rels)\u001b[0m\n\u001b[1;32m     36\u001b[0m fragments\u001b[38;5;241m.\u001b[39mappend(\u001b[38;5;124m\"\u001b[39m\u001b[38;5;124m[DEF]\u001b[39m\u001b[38;5;124m\"\u001b[39m)\n\u001b[1;32m     37\u001b[0m fragments\u001b[38;5;241m.\u001b[39mappend(wd_obj\u001b[38;5;241m.\u001b[39mprefix)\n\u001b[0;32m---> 39\u001b[0m label \u001b[38;5;241m=\u001b[39m \u001b[38;5;28;43mself\u001b[39;49m\u001b[38;5;241;43m.\u001b[39;49m\u001b[43m_find_by_es\u001b[49m\u001b[43m(\u001b[49m\u001b[43mwd_obj\u001b[49m\u001b[43m)\u001b[49m\n\u001b[1;32m     41\u001b[0m \u001b[38;5;66;03m# print(label)\u001b[39;00m\n\u001b[1;32m     42\u001b[0m fragments\u001b[38;5;241m.\u001b[39mappend(wd_obj\u001b[38;5;241m.\u001b[39mid \u001b[38;5;241m+\u001b[39m \u001b[38;5;124m'\u001b[39m\u001b[38;5;124m \u001b[39m\u001b[38;5;124m'\u001b[39m \u001b[38;5;241m+\u001b[39m label)\n",
      "File \u001b[0;32m~/falcon2.0/pipeline/SerialAnnotator.py:60\u001b[0m, in \u001b[0;36mSerialAnnotator._find_by_es\u001b[0;34m(self, wd_obj)\u001b[0m\n\u001b[1;32m     58\u001b[0m indexName \u001b[38;5;241m=\u001b[39m \u001b[38;5;124m'\u001b[39m\u001b[38;5;124mwikidataentityindex\u001b[39m\u001b[38;5;124m'\u001b[39m \u001b[38;5;28;01mif\u001b[39;00m wd_obj\u001b[38;5;241m.\u001b[39mid\u001b[38;5;241m.\u001b[39mstartswith(\u001b[38;5;124m'\u001b[39m\u001b[38;5;124mQ\u001b[39m\u001b[38;5;124m'\u001b[39m) \u001b[38;5;28;01melse\u001b[39;00m \u001b[38;5;124m'\u001b[39m\u001b[38;5;124mwikidatapropertyindex\u001b[39m\u001b[38;5;124m'\u001b[39m\n\u001b[1;32m     59\u001b[0m size \u001b[38;5;241m=\u001b[39m \u001b[38;5;241m1\u001b[39m\n\u001b[0;32m---> 60\u001b[0m response \u001b[38;5;241m=\u001b[39m \u001b[38;5;28;43mself\u001b[39;49m\u001b[38;5;241;43m.\u001b[39;49m\u001b[43mes\u001b[49m\u001b[38;5;241;43m.\u001b[39;49m\u001b[43msearch\u001b[49m\u001b[43m(\u001b[49m\u001b[43mindex\u001b[49m\u001b[38;5;241;43m=\u001b[39;49m\u001b[43mindexName\u001b[49m\u001b[43m,\u001b[49m\u001b[43m \u001b[49m\u001b[43mquery\u001b[49m\u001b[38;5;241;43m=\u001b[39;49m\u001b[43mquery\u001b[49m\u001b[43m,\u001b[49m\u001b[43m \u001b[49m\u001b[43msize\u001b[49m\u001b[38;5;241;43m=\u001b[39;49m\u001b[43msize\u001b[49m\u001b[43m)\u001b[49m\n\u001b[1;32m     61\u001b[0m results \u001b[38;5;241m=\u001b[39m response[\u001b[38;5;124m'\u001b[39m\u001b[38;5;124mhits\u001b[39m\u001b[38;5;124m'\u001b[39m][\u001b[38;5;124m'\u001b[39m\u001b[38;5;124mhits\u001b[39m\u001b[38;5;124m'\u001b[39m]\n\u001b[1;32m     62\u001b[0m \u001b[38;5;28;01massert\u001b[39;00m(\u001b[38;5;28mlen\u001b[39m(results) \u001b[38;5;241m==\u001b[39m size)\n",
      "File \u001b[0;32m~/anaconda3/envs/falcon2/lib/python3.10/site-packages/elasticsearch/_sync/client/utils.py:414\u001b[0m, in \u001b[0;36m_rewrite_parameters.<locals>.wrapper.<locals>.wrapped\u001b[0;34m(*args, **kwargs)\u001b[0m\n\u001b[1;32m    411\u001b[0m         \u001b[38;5;28;01mexcept\u001b[39;00m \u001b[38;5;167;01mKeyError\u001b[39;00m:\n\u001b[1;32m    412\u001b[0m             \u001b[38;5;28;01mpass\u001b[39;00m\n\u001b[0;32m--> 414\u001b[0m \u001b[38;5;28;01mreturn\u001b[39;00m \u001b[43mapi\u001b[49m\u001b[43m(\u001b[49m\u001b[38;5;241;43m*\u001b[39;49m\u001b[43margs\u001b[49m\u001b[43m,\u001b[49m\u001b[43m \u001b[49m\u001b[38;5;241;43m*\u001b[39;49m\u001b[38;5;241;43m*\u001b[39;49m\u001b[43mkwargs\u001b[49m\u001b[43m)\u001b[49m\n",
      "File \u001b[0;32m~/anaconda3/envs/falcon2/lib/python3.10/site-packages/elasticsearch/_sync/client/__init__.py:3863\u001b[0m, in \u001b[0;36mElasticsearch.search\u001b[0;34m(self, index, aggregations, aggs, allow_no_indices, allow_partial_search_results, analyze_wildcard, analyzer, batched_reduce_size, ccs_minimize_roundtrips, collapse, default_operator, df, docvalue_fields, error_trace, expand_wildcards, explain, ext, fields, filter_path, from_, highlight, human, ignore_throttled, ignore_unavailable, indices_boost, knn, lenient, max_concurrent_shard_requests, min_compatible_shard_node, min_score, pit, post_filter, pre_filter_shard_size, preference, pretty, profile, q, query, rank, request_cache, rescore, rest_total_hits_as_int, routing, runtime_mappings, script_fields, scroll, search_after, search_type, seq_no_primary_term, size, slice, sort, source, source_excludes, source_includes, stats, stored_fields, suggest, suggest_field, suggest_mode, suggest_size, suggest_text, terminate_after, timeout, track_scores, track_total_hits, typed_keys, version)\u001b[0m\n\u001b[1;32m   3861\u001b[0m \u001b[38;5;28;01mif\u001b[39;00m __body \u001b[38;5;129;01mis\u001b[39;00m \u001b[38;5;129;01mnot\u001b[39;00m \u001b[38;5;28;01mNone\u001b[39;00m:\n\u001b[1;32m   3862\u001b[0m     __headers[\u001b[38;5;124m\"\u001b[39m\u001b[38;5;124mcontent-type\u001b[39m\u001b[38;5;124m\"\u001b[39m] \u001b[38;5;241m=\u001b[39m \u001b[38;5;124m\"\u001b[39m\u001b[38;5;124mapplication/json\u001b[39m\u001b[38;5;124m\"\u001b[39m\n\u001b[0;32m-> 3863\u001b[0m \u001b[38;5;28;01mreturn\u001b[39;00m \u001b[38;5;28;43mself\u001b[39;49m\u001b[38;5;241;43m.\u001b[39;49m\u001b[43mperform_request\u001b[49m\u001b[43m(\u001b[49m\u001b[43m  \u001b[49m\u001b[38;5;66;43;03m# type: ignore[return-value]\u001b[39;49;00m\n\u001b[1;32m   3864\u001b[0m \u001b[43m    \u001b[49m\u001b[38;5;124;43m\"\u001b[39;49m\u001b[38;5;124;43mPOST\u001b[39;49m\u001b[38;5;124;43m\"\u001b[39;49m\u001b[43m,\u001b[49m\u001b[43m \u001b[49m\u001b[43m__path\u001b[49m\u001b[43m,\u001b[49m\u001b[43m \u001b[49m\u001b[43mparams\u001b[49m\u001b[38;5;241;43m=\u001b[39;49m\u001b[43m__query\u001b[49m\u001b[43m,\u001b[49m\u001b[43m \u001b[49m\u001b[43mheaders\u001b[49m\u001b[38;5;241;43m=\u001b[39;49m\u001b[43m__headers\u001b[49m\u001b[43m,\u001b[49m\u001b[43m \u001b[49m\u001b[43mbody\u001b[49m\u001b[38;5;241;43m=\u001b[39;49m\u001b[43m__body\u001b[49m\n\u001b[1;32m   3865\u001b[0m \u001b[43m\u001b[49m\u001b[43m)\u001b[49m\n",
      "File \u001b[0;32m~/anaconda3/envs/falcon2/lib/python3.10/site-packages/elasticsearch/_sync/client/_base.py:285\u001b[0m, in \u001b[0;36mBaseClient.perform_request\u001b[0;34m(self, method, path, params, headers, body)\u001b[0m\n\u001b[1;32m    282\u001b[0m \u001b[38;5;28;01melse\u001b[39;00m:\n\u001b[1;32m    283\u001b[0m     target \u001b[38;5;241m=\u001b[39m path\n\u001b[0;32m--> 285\u001b[0m meta, resp_body \u001b[38;5;241m=\u001b[39m \u001b[38;5;28;43mself\u001b[39;49m\u001b[38;5;241;43m.\u001b[39;49m\u001b[43mtransport\u001b[49m\u001b[38;5;241;43m.\u001b[39;49m\u001b[43mperform_request\u001b[49m\u001b[43m(\u001b[49m\n\u001b[1;32m    286\u001b[0m \u001b[43m    \u001b[49m\u001b[43mmethod\u001b[49m\u001b[43m,\u001b[49m\n\u001b[1;32m    287\u001b[0m \u001b[43m    \u001b[49m\u001b[43mtarget\u001b[49m\u001b[43m,\u001b[49m\n\u001b[1;32m    288\u001b[0m \u001b[43m    \u001b[49m\u001b[43mheaders\u001b[49m\u001b[38;5;241;43m=\u001b[39;49m\u001b[43mrequest_headers\u001b[49m\u001b[43m,\u001b[49m\n\u001b[1;32m    289\u001b[0m \u001b[43m    \u001b[49m\u001b[43mbody\u001b[49m\u001b[38;5;241;43m=\u001b[39;49m\u001b[43mbody\u001b[49m\u001b[43m,\u001b[49m\n\u001b[1;32m    290\u001b[0m \u001b[43m    \u001b[49m\u001b[43mrequest_timeout\u001b[49m\u001b[38;5;241;43m=\u001b[39;49m\u001b[38;5;28;43mself\u001b[39;49m\u001b[38;5;241;43m.\u001b[39;49m\u001b[43m_request_timeout\u001b[49m\u001b[43m,\u001b[49m\n\u001b[1;32m    291\u001b[0m \u001b[43m    \u001b[49m\u001b[43mmax_retries\u001b[49m\u001b[38;5;241;43m=\u001b[39;49m\u001b[38;5;28;43mself\u001b[39;49m\u001b[38;5;241;43m.\u001b[39;49m\u001b[43m_max_retries\u001b[49m\u001b[43m,\u001b[49m\n\u001b[1;32m    292\u001b[0m \u001b[43m    \u001b[49m\u001b[43mretry_on_status\u001b[49m\u001b[38;5;241;43m=\u001b[39;49m\u001b[38;5;28;43mself\u001b[39;49m\u001b[38;5;241;43m.\u001b[39;49m\u001b[43m_retry_on_status\u001b[49m\u001b[43m,\u001b[49m\n\u001b[1;32m    293\u001b[0m \u001b[43m    \u001b[49m\u001b[43mretry_on_timeout\u001b[49m\u001b[38;5;241;43m=\u001b[39;49m\u001b[38;5;28;43mself\u001b[39;49m\u001b[38;5;241;43m.\u001b[39;49m\u001b[43m_retry_on_timeout\u001b[49m\u001b[43m,\u001b[49m\n\u001b[1;32m    294\u001b[0m \u001b[43m    \u001b[49m\u001b[43mclient_meta\u001b[49m\u001b[38;5;241;43m=\u001b[39;49m\u001b[38;5;28;43mself\u001b[39;49m\u001b[38;5;241;43m.\u001b[39;49m\u001b[43m_client_meta\u001b[49m\u001b[43m,\u001b[49m\n\u001b[1;32m    295\u001b[0m \u001b[43m\u001b[49m\u001b[43m)\u001b[49m\n\u001b[1;32m    297\u001b[0m \u001b[38;5;66;03m# HEAD with a 404 is returned as a normal response\u001b[39;00m\n\u001b[1;32m    298\u001b[0m \u001b[38;5;66;03m# since this is used as an 'exists' functionality.\u001b[39;00m\n\u001b[1;32m    299\u001b[0m \u001b[38;5;28;01mif\u001b[39;00m \u001b[38;5;129;01mnot\u001b[39;00m (method \u001b[38;5;241m==\u001b[39m \u001b[38;5;124m\"\u001b[39m\u001b[38;5;124mHEAD\u001b[39m\u001b[38;5;124m\"\u001b[39m \u001b[38;5;129;01mand\u001b[39;00m meta\u001b[38;5;241m.\u001b[39mstatus \u001b[38;5;241m==\u001b[39m \u001b[38;5;241m404\u001b[39m) \u001b[38;5;129;01mand\u001b[39;00m (\n\u001b[1;32m    300\u001b[0m     \u001b[38;5;129;01mnot\u001b[39;00m \u001b[38;5;241m200\u001b[39m \u001b[38;5;241m<\u001b[39m\u001b[38;5;241m=\u001b[39m meta\u001b[38;5;241m.\u001b[39mstatus \u001b[38;5;241m<\u001b[39m \u001b[38;5;241m299\u001b[39m\n\u001b[1;32m    301\u001b[0m     \u001b[38;5;129;01mand\u001b[39;00m (\n\u001b[0;32m   (...)\u001b[0m\n\u001b[1;32m    305\u001b[0m     )\n\u001b[1;32m    306\u001b[0m ):\n",
      "File \u001b[0;32m~/anaconda3/envs/falcon2/lib/python3.10/site-packages/elastic_transport/_transport.py:329\u001b[0m, in \u001b[0;36mTransport.perform_request\u001b[0;34m(self, method, target, body, headers, max_retries, retry_on_status, retry_on_timeout, request_timeout, client_meta)\u001b[0m\n\u001b[1;32m    327\u001b[0m start_time \u001b[38;5;241m=\u001b[39m time\u001b[38;5;241m.\u001b[39mtime()\n\u001b[1;32m    328\u001b[0m \u001b[38;5;28;01mtry\u001b[39;00m:\n\u001b[0;32m--> 329\u001b[0m     meta, raw_data \u001b[38;5;241m=\u001b[39m \u001b[43mnode\u001b[49m\u001b[38;5;241;43m.\u001b[39;49m\u001b[43mperform_request\u001b[49m\u001b[43m(\u001b[49m\n\u001b[1;32m    330\u001b[0m \u001b[43m        \u001b[49m\u001b[43mmethod\u001b[49m\u001b[43m,\u001b[49m\n\u001b[1;32m    331\u001b[0m \u001b[43m        \u001b[49m\u001b[43mtarget\u001b[49m\u001b[43m,\u001b[49m\n\u001b[1;32m    332\u001b[0m \u001b[43m        \u001b[49m\u001b[43mbody\u001b[49m\u001b[38;5;241;43m=\u001b[39;49m\u001b[43mrequest_body\u001b[49m\u001b[43m,\u001b[49m\n\u001b[1;32m    333\u001b[0m \u001b[43m        \u001b[49m\u001b[43mheaders\u001b[49m\u001b[38;5;241;43m=\u001b[39;49m\u001b[43mrequest_headers\u001b[49m\u001b[43m,\u001b[49m\n\u001b[1;32m    334\u001b[0m \u001b[43m        \u001b[49m\u001b[43mrequest_timeout\u001b[49m\u001b[38;5;241;43m=\u001b[39;49m\u001b[43mrequest_timeout\u001b[49m\u001b[43m,\u001b[49m\n\u001b[1;32m    335\u001b[0m \u001b[43m    \u001b[49m\u001b[43m)\u001b[49m\n\u001b[1;32m    336\u001b[0m     _logger\u001b[38;5;241m.\u001b[39minfo(\n\u001b[1;32m    337\u001b[0m         \u001b[38;5;124m\"\u001b[39m\u001b[38;5;132;01m%s\u001b[39;00m\u001b[38;5;124m \u001b[39m\u001b[38;5;132;01m%s\u001b[39;00m\u001b[38;5;132;01m%s\u001b[39;00m\u001b[38;5;124m [status:\u001b[39m\u001b[38;5;132;01m%s\u001b[39;00m\u001b[38;5;124m duration:\u001b[39m\u001b[38;5;132;01m%.3f\u001b[39;00m\u001b[38;5;124ms]\u001b[39m\u001b[38;5;124m\"\u001b[39m\n\u001b[1;32m    338\u001b[0m         \u001b[38;5;241m%\u001b[39m (\n\u001b[0;32m   (...)\u001b[0m\n\u001b[1;32m    344\u001b[0m         )\n\u001b[1;32m    345\u001b[0m     )\n\u001b[1;32m    347\u001b[0m     \u001b[38;5;28;01mif\u001b[39;00m method \u001b[38;5;241m!=\u001b[39m \u001b[38;5;124m\"\u001b[39m\u001b[38;5;124mHEAD\u001b[39m\u001b[38;5;124m\"\u001b[39m:\n",
      "File \u001b[0;32m~/anaconda3/envs/falcon2/lib/python3.10/site-packages/elastic_transport/_node/_http_urllib3.py:199\u001b[0m, in \u001b[0;36mUrllib3HttpNode.perform_request\u001b[0;34m(self, method, target, body, headers, request_timeout)\u001b[0m\n\u001b[1;32m    191\u001b[0m         err \u001b[38;5;241m=\u001b[39m \u001b[38;5;167;01mConnectionError\u001b[39;00m(\u001b[38;5;28mstr\u001b[39m(e), errors\u001b[38;5;241m=\u001b[39m(e,))\n\u001b[1;32m    192\u001b[0m     \u001b[38;5;28mself\u001b[39m\u001b[38;5;241m.\u001b[39m_log_request(\n\u001b[1;32m    193\u001b[0m         method\u001b[38;5;241m=\u001b[39mmethod,\n\u001b[1;32m    194\u001b[0m         target\u001b[38;5;241m=\u001b[39mtarget,\n\u001b[0;32m   (...)\u001b[0m\n\u001b[1;32m    197\u001b[0m         exception\u001b[38;5;241m=\u001b[39merr,\n\u001b[1;32m    198\u001b[0m     )\n\u001b[0;32m--> 199\u001b[0m     \u001b[38;5;28;01mraise\u001b[39;00m err \u001b[38;5;28;01mfrom\u001b[39;00m \u001b[38;5;28;01mNone\u001b[39;00m\n\u001b[1;32m    201\u001b[0m meta \u001b[38;5;241m=\u001b[39m ApiResponseMeta(\n\u001b[1;32m    202\u001b[0m     node\u001b[38;5;241m=\u001b[39m\u001b[38;5;28mself\u001b[39m\u001b[38;5;241m.\u001b[39mconfig,\n\u001b[1;32m    203\u001b[0m     duration\u001b[38;5;241m=\u001b[39mduration,\n\u001b[0;32m   (...)\u001b[0m\n\u001b[1;32m    206\u001b[0m     headers\u001b[38;5;241m=\u001b[39mresponse_headers,\n\u001b[1;32m    207\u001b[0m )\n\u001b[1;32m    208\u001b[0m \u001b[38;5;28mself\u001b[39m\u001b[38;5;241m.\u001b[39m_log_request(\n\u001b[1;32m    209\u001b[0m     method\u001b[38;5;241m=\u001b[39mmethod,\n\u001b[1;32m    210\u001b[0m     target\u001b[38;5;241m=\u001b[39mtarget,\n\u001b[0;32m   (...)\u001b[0m\n\u001b[1;32m    214\u001b[0m     response\u001b[38;5;241m=\u001b[39mdata,\n\u001b[1;32m    215\u001b[0m )\n",
      "\u001b[0;31mConnectionError\u001b[0m: Connection error caused by: ConnectionError(Connection error caused by: ProtocolError(('Connection aborted.', RemoteDisconnected('Remote end closed connection without response'))))"
     ]
    }
   ],
   "source": [
    "responses = []\n",
    "batch_new_linked = []\n",
    "batch_ans = []\n",
    "last = 0\n",
    "cutoff = 0\n",
    "total_len = len(data_json)\n",
    "for i, data in enumerate(data_json):\n",
    "    linked, annotated, converted, gold_linked = data\n",
    "    if i < cutoff:\n",
    "        continue\n",
    "    question = linked['utterance']\n",
    "    new_ents = linked['ents']\n",
    "    old_ents_set = set(x['id'] for x in linked['ents'])\n",
    "    for gold_ent in gold_linked['ents']:\n",
    "        if gold_ent['id'] not in old_ents_set:\n",
    "            new_ents.append(gold_ent)\n",
    "    new_linked = {\n",
    "        'utterance': question,\n",
    "        'ents': new_ents,\n",
    "        'rels':[],\n",
    "    }\n",
    "    answer = converted['labels']\n",
    "    batch_new_linked.append(new_linked)\n",
    "    batch_ans.append(answer)\n",
    "    if ((i + 1) % 50) == 0 or i == total_len - 1:\n",
    "        print(\"[Pipeline2]:\", f\"Processing {last}-{i}\")\n",
    "        try:\n",
    "            for linked, annotated, converted in pipe_batch(batch_new_linked, batch_ans):\n",
    "                responses.append([linked, annotated, converted])\n",
    "            batch_new_linked = []\n",
    "            batch_ans = []\n",
    "            last = i\n",
    "        except Exception as e:\n",
    "            raise e\n",
    "            # print(e)\n",
    "            # continue\n",
    "        with open(f\"../t5-for-sparql/falcon_links/5ents-gold_0rels/link_{i}.json\", \"w\") as f:\n",
    "            json.dump(responses, f, indent=2, separators=(',',':'))"
   ]
  }
 ],
 "metadata": {
  "kernelspec": {
   "display_name": "py310",
   "language": "python",
   "name": "python3"
  },
  "language_info": {
   "codemirror_mode": {
    "name": "ipython",
    "version": 3
   },
   "file_extension": ".py",
   "mimetype": "text/x-python",
   "name": "python",
   "nbconvert_exporter": "python",
   "pygments_lexer": "ipython3",
   "version": "3.10.11"
  },
  "papermill": {
   "default_parameters": {},
   "duration": 623.987209,
   "end_time": "2023-07-19T05:46:23.411706",
   "environment_variables": {},
   "exception": true,
   "input_path": "pipeline2-5eg0r-short.ipynb",
   "output_path": "pipeline2-5eg0r-short.papermill.ipynb",
   "parameters": {},
   "start_time": "2023-07-19T05:35:59.424497",
   "version": "2.4.0"
  }
 },
 "nbformat": 4,
 "nbformat_minor": 5
}
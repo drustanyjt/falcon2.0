{
 "cells": [
  {
   "attachments": {},
   "cell_type": "markdown",
   "id": "9e6cda03",
   "metadata": {
    "papermill": {
     "duration": 0.007123,
     "end_time": "2023-07-21T08:38:49.070897",
     "exception": false,
     "start_time": "2023-07-21T08:38:49.063774",
     "status": "completed"
    },
    "tags": []
   },
   "source": [
    "# Pipeline 3\n",
    "\n",
    "Produce top 5 entites + gold entities and 0 relations from falcon"
   ]
  },
  {
   "cell_type": "code",
   "execution_count": 1,
   "id": "7928b651",
   "metadata": {
    "execution": {
     "iopub.execute_input": "2023-07-21T08:38:49.090081Z",
     "iopub.status.busy": "2023-07-21T08:38:49.089290Z",
     "iopub.status.idle": "2023-07-21T08:38:50.816260Z",
     "shell.execute_reply": "2023-07-21T08:38:50.814753Z"
    },
    "papermill": {
     "duration": 1.738926,
     "end_time": "2023-07-21T08:38:50.819677",
     "exception": false,
     "start_time": "2023-07-21T08:38:49.080751",
     "status": "completed"
    },
    "tags": []
   },
   "outputs": [
    {
     "name": "stdout",
     "output_type": "stream",
     "text": [
      "[Falcon2.0 main.py]: no reranking, k=5\n"
     ]
    }
   ],
   "source": [
    "from pipeline import Falcon2Linker, SerialAnnotator, T5Converter\n",
    "import time\n",
    "from pprint import pprint\n",
    "pipeline_name = 'Pipeline3'"
   ]
  },
  {
   "cell_type": "code",
   "execution_count": 2,
   "id": "ca1866b5",
   "metadata": {
    "execution": {
     "iopub.execute_input": "2023-07-21T08:38:50.839684Z",
     "iopub.status.busy": "2023-07-21T08:38:50.838903Z",
     "iopub.status.idle": "2023-07-21T08:38:51.594042Z",
     "shell.execute_reply": "2023-07-21T08:38:51.593189Z"
    },
    "papermill": {
     "duration": 0.770733,
     "end_time": "2023-07-21T08:38:51.597201",
     "exception": false,
     "start_time": "2023-07-21T08:38:50.826468",
     "status": "completed"
    },
    "tags": []
   },
   "outputs": [],
   "source": [
    "from pathlib import Path\n",
    "import pandas as pd\n",
    "import json\n",
    "\n",
    "data_path = Path(\"..\") / \"t5-for-sparql\" / \"data\" / \"lcquad2\" / \"train.json\"\n",
    "data2_path = Path(\"..\") / \"t5-for-sparql\" / \"data\" / \"lcquad2\" / \"test_KG_4211.json\"\n",
    "output_links_dir = Path(\"..\") / \"t5-for-sparql\" / \"falcon_links\" / \"5ents-gold_5rels-gold\""
   ]
  },
  {
   "cell_type": "code",
   "execution_count": 3,
   "id": "c0da585f",
   "metadata": {
    "execution": {
     "iopub.execute_input": "2023-07-21T08:38:51.613147Z",
     "iopub.status.busy": "2023-07-21T08:38:51.612642Z",
     "iopub.status.idle": "2023-07-21T08:38:51.618753Z",
     "shell.execute_reply": "2023-07-21T08:38:51.618037Z"
    },
    "papermill": {
     "duration": 0.017062,
     "end_time": "2023-07-21T08:38:51.621397",
     "exception": false,
     "start_time": "2023-07-21T08:38:51.604335",
     "status": "completed"
    },
    "tags": []
   },
   "outputs": [],
   "source": [
    "linker = Falcon2Linker()\n",
    "annotator = SerialAnnotator()\n",
    "converter = T5Converter()"
   ]
  },
  {
   "cell_type": "code",
   "execution_count": 4,
   "id": "8fbaa409",
   "metadata": {
    "execution": {
     "iopub.execute_input": "2023-07-21T08:38:51.636334Z",
     "iopub.status.busy": "2023-07-21T08:38:51.635974Z",
     "iopub.status.idle": "2023-07-21T08:38:51.639777Z",
     "shell.execute_reply": "2023-07-21T08:38:51.639083Z"
    },
    "papermill": {
     "duration": 0.014325,
     "end_time": "2023-07-21T08:38:51.642407",
     "exception": false,
     "start_time": "2023-07-21T08:38:51.628082",
     "status": "completed"
    },
    "tags": []
   },
   "outputs": [],
   "source": [
    "utterance = \"Who is the wife of Barack Obama\""
   ]
  },
  {
   "cell_type": "code",
   "execution_count": 5,
   "id": "cf29db17",
   "metadata": {
    "execution": {
     "iopub.execute_input": "2023-07-21T08:38:51.661358Z",
     "iopub.status.busy": "2023-07-21T08:38:51.660466Z",
     "iopub.status.idle": "2023-07-21T08:39:12.947838Z",
     "shell.execute_reply": "2023-07-21T08:39:12.946607Z"
    },
    "papermill": {
     "duration": 21.301532,
     "end_time": "2023-07-21T08:39:12.950734",
     "exception": false,
     "start_time": "2023-07-21T08:38:51.649202",
     "status": "completed"
    },
    "tags": []
   },
   "outputs": [
    {
     "name": "stdout",
     "output_type": "stream",
     "text": [
      "recieved utterance\n",
      "0 : ['Who is the wife of Barack Obama']\n"
     ]
    },
    {
     "name": "stdout",
     "output_type": "stream",
     "text": [
      "['Who is the wife of Barack Obama', [['<http://www.wikidata.org/entity/P26>', 'wife'], ['<http://www.wikidata.org/entity/P2848>', 'wife'], ['<http://www.wikidata.org/entity/P140>', 'wife'], ['<http://www.wikidata.org/entity/P451>', 'wife'], ['<http://www.wikidata.org/entity/P600>', 'wife']], [['<http://www.wikidata.org/entity/Q76>', 'Barack obama'], ['<http://www.wikidata.org/entity/Q649593>', 'Barack obama'], ['<http://www.wikidata.org/entity/Q4808526>', 'Barack obama'], ['<http://www.wikidata.org/entity/Q4858106>', 'Barack obama'], ['<http://www.wikidata.org/entity/Q643049>', 'Barack obama']], 0, 0, 0, 0]\n",
      "'Linked'\n",
      "{'ents': [{'id': 'Q76',\n",
      "           'prefix': 'wd:',\n",
      "           'uri': 'http://www.wikidata.org/entity/Q76'},\n",
      "          {'id': 'Q649593',\n",
      "           'prefix': 'wd:',\n",
      "           'uri': 'http://www.wikidata.org/entity/Q649593'},\n",
      "          {'id': 'Q4808526',\n",
      "           'prefix': 'wd:',\n",
      "           'uri': 'http://www.wikidata.org/entity/Q4808526'},\n",
      "          {'id': 'Q4858106',\n",
      "           'prefix': 'wd:',\n",
      "           'uri': 'http://www.wikidata.org/entity/Q4858106'},\n",
      "          {'id': 'Q643049',\n",
      "           'prefix': 'wd:',\n",
      "           'uri': 'http://www.wikidata.org/entity/Q643049'}],\n",
      " 'rels': [{'id': 'P26',\n",
      "           'prefix': 'wdt:',\n",
      "           'uri': 'http://www.wikidata.org/prop/direct/P26'},\n",
      "          {'id': 'P2848',\n",
      "           'prefix': 'wdt:',\n",
      "           'uri': 'http://www.wikidata.org/prop/direct/P2848'},\n",
      "          {'id': 'P140',\n",
      "           'prefix': 'wdt:',\n",
      "           'uri': 'http://www.wikidata.org/prop/direct/P140'},\n",
      "          {'id': 'P451',\n",
      "           'prefix': 'wdt:',\n",
      "           'uri': 'http://www.wikidata.org/prop/direct/P451'},\n",
      "          {'id': 'P600',\n",
      "           'prefix': 'wdt:',\n",
      "           'uri': 'http://www.wikidata.org/prop/direct/P600'}],\n",
      " 'utterance': 'Who is the wife of Barack Obama'}\n",
      "'Annotated'\n"
     ]
    },
    {
     "name": "stdout",
     "output_type": "stream",
     "text": [
      "{'fragments': ['[DEF]',\n",
      "               'wd:',\n",
      "               'Q76 Barack',\n",
      "               '[DEF]',\n",
      "               'wd:',\n",
      "               'Q649593 Barack Hussein Obama, Sr.',\n",
      "               '[DEF]',\n",
      "               'wd:',\n",
      "               'Q4808526 Obama assassination plot',\n",
      "               '[DEF]',\n",
      "               'wd:',\n",
      "               'Q4858106 Barack Obama Academy',\n",
      "               '[DEF]',\n",
      "               'wd:',\n",
      "               'Q643049 family of Barack Obama',\n",
      "               '[DEF]',\n",
      "               'wdt:',\n",
      "               'P26 partner',\n",
      "               '[DEF]',\n",
      "               'wdt:',\n",
      "               'P2848 wifi',\n",
      "               '[DEF]',\n",
      "               'wdt:',\n",
      "               'P140 religion',\n",
      "               '[DEF]',\n",
      "               'wdt:',\n",
      "               'P451 common-law spouse',\n",
      "               '[DEF]',\n",
      "               'wdt:',\n",
      "               'P600 Wine AppDB-ID'],\n",
      " 'utterance': 'Who is the wife of Barack Obama'}\n",
      "'Converted'\n",
      "('Who is the wife of Barack Obama <extra_id_59> <extra_id_53> Q76 Barack '\n",
      " '<extra_id_59> <extra_id_53> Q649593 Barack Hussein Obama, Sr. <extra_id_59> '\n",
      " '<extra_id_53> Q4808526 Obama assassination plot <extra_id_59> <extra_id_53> '\n",
      " 'Q4858106 Barack Obama Academy <extra_id_59> <extra_id_53> Q643049 family of '\n",
      " 'Barack Obama <extra_id_59> <extra_id_54> P26 partner <extra_id_59> '\n",
      " '<extra_id_54> P2848 wifi <extra_id_59> <extra_id_54> P140 religion '\n",
      " '<extra_id_59> <extra_id_54> P451 common-law spouse <extra_id_59> '\n",
      " '<extra_id_54> P600 Wine AppDB-ID')\n"
     ]
    }
   ],
   "source": [
    "linked = linker.link(utterance)\n",
    "# rules = [1,2,3,4,5,8,9,10,12,13,14]\n",
    "# linked = process_text_E_R(utterance, rules)\n",
    "pprint(\"Linked\")\n",
    "pprint(linked)\n",
    "\n",
    "pprint(\"Annotated\")\n",
    "annotated = annotator.annotate(**linked)\n",
    "pprint(annotated)\n",
    "\n",
    "pprint(\"Converted\")\n",
    "converted = converter.preprocess_inputs(**annotated)\n",
    "pprint(converted)"
   ]
  },
  {
   "cell_type": "code",
   "execution_count": 6,
   "id": "84c5c436",
   "metadata": {
    "execution": {
     "iopub.execute_input": "2023-07-21T08:39:12.972567Z",
     "iopub.status.busy": "2023-07-21T08:39:12.971992Z",
     "iopub.status.idle": "2023-07-21T08:39:12.982008Z",
     "shell.execute_reply": "2023-07-21T08:39:12.981106Z"
    },
    "papermill": {
     "duration": 0.026036,
     "end_time": "2023-07-21T08:39:12.984603",
     "exception": false,
     "start_time": "2023-07-21T08:39:12.958567",
     "status": "completed"
    },
    "tags": []
   },
   "outputs": [],
   "source": [
    "import re\n",
    "\n",
    "def retrieve_gold_links(masked_wikisparql):\n",
    "  fragments = masked_wikisparql.upper().strip().split(' ')\n",
    "  ents = []\n",
    "  rels = []\n",
    "  result_dict = {\n",
    "    'ents': ents,\n",
    "    'rels': rels,\n",
    "  }\n",
    "  for fragment in fragments:\n",
    "    id_match = re.search('[QP][0-9]+',fragment)\n",
    "    if id_match:\n",
    "      id_raw = id_match.group(0)\n",
    "      if id_raw[0] == 'Q':\n",
    "        prefix = 'wdt:'\n",
    "        uri = 'http://www.wikidata.org/entity/' + id_raw\n",
    "        target_arr = ents\n",
    "      elif id_raw[0] == 'P':\n",
    "        prefix = 'wd:'\n",
    "        uri =  'http://www.wikidata.org/prop/direct/' + id_raw\n",
    "        target_arr = rels\n",
    "      else:\n",
    "        raise ValueError('ID does not start with P or Q')\n",
    "      match_dict = {\n",
    "        'id' : id_raw,\n",
    "        'prefix' : prefix,\n",
    "        'uri' : uri,\n",
    "      }\n",
    "      target_arr.append(match_dict)\n",
    "  return result_dict"
   ]
  },
  {
   "cell_type": "code",
   "execution_count": 7,
   "id": "743e3290",
   "metadata": {
    "execution": {
     "iopub.execute_input": "2023-07-21T08:39:13.003902Z",
     "iopub.status.busy": "2023-07-21T08:39:13.003401Z",
     "iopub.status.idle": "2023-07-21T08:39:13.009155Z",
     "shell.execute_reply": "2023-07-21T08:39:13.008226Z"
    },
    "papermill": {
     "duration": 0.019611,
     "end_time": "2023-07-21T08:39:13.011866",
     "exception": false,
     "start_time": "2023-07-21T08:39:12.992255",
     "status": "completed"
    },
    "tags": []
   },
   "outputs": [],
   "source": [
    "def pipe(utterance, wikisparql):\n",
    "    linked = linker.link(utterance)\n",
    "    annotated = annotator.annotate(**linked)\n",
    "    converted = converter.preprocess(**annotated, wikisparql=wikisparql)\n",
    "    return linked, annotated, converted"
   ]
  },
  {
   "cell_type": "code",
   "execution_count": 8,
   "id": "1b2f6748",
   "metadata": {
    "execution": {
     "iopub.execute_input": "2023-07-21T08:39:13.029229Z",
     "iopub.status.busy": "2023-07-21T08:39:13.028925Z",
     "iopub.status.idle": "2023-07-21T08:39:13.040234Z",
     "shell.execute_reply": "2023-07-21T08:39:13.039474Z"
    },
    "papermill": {
     "duration": 0.023217,
     "end_time": "2023-07-21T08:39:13.042736",
     "exception": false,
     "start_time": "2023-07-21T08:39:13.019519",
     "status": "completed"
    },
    "tags": []
   },
   "outputs": [],
   "source": [
    "def pipe_batch(utterances, wikisparqls):\n",
    "  batched = []\n",
    "  link_batch_start = time.time()\n",
    "  linked = linker.link_batch(utterances)\n",
    "\n",
    "  assert len(linked) == len(wikisparqls)\n",
    "\n",
    "  for i, link in enumerate(linked):\n",
    "    gold_linked = retrieve_gold_links(wikisparqls[i])\n",
    "    new_ents=link['ents']\n",
    "    old_ents_set = set(x['id'] for x in link['ents'])\n",
    "    new_rels=link['rels']\n",
    "    old_rels_set = set(x['id'] for x in link['rels'])\n",
    "    for gold_ent in gold_linked['ents']:\n",
    "      if gold_ent['id'] not in old_ents_set:\n",
    "        new_ents.append(gold_ent)\n",
    "    for gold_rel in gold_linked['rels']:\n",
    "      if gold_rel['id'] not in old_rels_set:\n",
    "        new_rels.append(gold_rel)\n",
    "\n",
    "  link_batch_end = time.time()\n",
    "  s = time.time()\n",
    "  annotated = annotator.batch_annotate(linked)\n",
    "  e = time.time()\n",
    "  assert len(linked) == len(annotated)\n",
    "  annotator_time = e - s\n",
    "  converter_time = 0\n",
    "  for i, single_annotated in enumerate(annotated):\n",
    "    # annotated = annotator.annotate(**single_linked)\n",
    "    # try:\n",
    "    #   annotator_time += e - s\n",
    "    # except Exception as e:\n",
    "    #   print(\"[Annotator Error]:\", e)\n",
    "    #   continue\n",
    "    s = time.time()\n",
    "    try:\n",
    "      converted = converter.preprocess(**single_annotated, wikisparql=wikisparqls[i])\n",
    "    except Exception as e:\n",
    "      print(\"[Converter Error]:\", e)\n",
    "      continue\n",
    "      \n",
    "    e = time.time()\n",
    "    converter_time += e - s\n",
    "    batched.append([linked[i], annotated[i], converted])\n",
    "  print(\"Link batch time:\", link_batch_end - link_batch_start)\n",
    "  print(\"Anno batch time:\", annotator_time)\n",
    "  print(\"Conv batch time:\", converter_time)\n",
    "  return batched"
   ]
  },
  {
   "attachments": {},
   "cell_type": "markdown",
   "id": "5be5b8e2",
   "metadata": {
    "papermill": {
     "duration": 0.010097,
     "end_time": "2023-07-21T08:39:13.060543",
     "exception": false,
     "start_time": "2023-07-21T08:39:13.050446",
     "status": "completed"
    },
    "tags": []
   },
   "source": [
    "## Data"
   ]
  },
  {
   "cell_type": "code",
   "execution_count": 9,
   "id": "821704f7",
   "metadata": {
    "execution": {
     "iopub.execute_input": "2023-07-21T08:39:13.083295Z",
     "iopub.status.busy": "2023-07-21T08:39:13.082766Z",
     "iopub.status.idle": "2023-07-21T08:39:13.714589Z",
     "shell.execute_reply": "2023-07-21T08:39:13.713754Z"
    },
    "papermill": {
     "duration": 0.647139,
     "end_time": "2023-07-21T08:39:13.717338",
     "exception": false,
     "start_time": "2023-07-21T08:39:13.070199",
     "status": "completed"
    },
    "tags": []
   },
   "outputs": [
    {
     "name": "stdout",
     "output_type": "stream",
     "text": [
      "Missing question count: 71\n",
      "Number of rows: 28247\n"
     ]
    }
   ],
   "source": [
    "with open(data_path) as f:\n",
    "  data_dict = json.load(f)\n",
    "\n",
    "with open(data2_path) as f:\n",
    "  data_dict.extend(json.load(f))\n",
    "\n",
    "count = 0\n",
    "\n",
    "for item in data_dict:\n",
    "  paraphrased_question = item[\"paraphrased_question\"]\n",
    "  question = item[\"question\"]\n",
    "  if paraphrased_question == None:\n",
    "    raise Exception\n",
    "  if question == None:\n",
    "    count += 1\n",
    "    # print(len(paraphrased_question) > 2)\n",
    "    # pprint(item)\n",
    "  if item[\"sparql_wikidata\"] == None:\n",
    "    raise Exception\n",
    "  \n",
    "\n",
    "  if len(paraphrased_question) > 2000:\n",
    "    paraphrased_question = question\n",
    "  # item[\"new_question\"] = paraphrased_question if len(paraphrased_question) > 2 and paraphrased_question != [] else question\n",
    "  item[\"new_question\"] = question\n",
    "\n",
    "print(\"Missing question count:\", count)\n",
    "\n",
    "df = pd.DataFrame.from_dict(data_dict)\n",
    "df = df.dropna(axis=0, subset=['new_question'])\n",
    "df = df[~df.question.isin(['n/a', None, 'none', 'None'])]\n",
    "n_entries = len(df)\n",
    "print(\"Number of rows:\", n_entries)"
   ]
  },
  {
   "cell_type": "code",
   "execution_count": 10,
   "id": "95b46ecf",
   "metadata": {
    "execution": {
     "iopub.execute_input": "2023-07-21T08:39:13.738703Z",
     "iopub.status.busy": "2023-07-21T08:39:13.738263Z",
     "iopub.status.idle": "2023-07-21T08:39:13.748303Z",
     "shell.execute_reply": "2023-07-21T08:39:13.747409Z"
    },
    "papermill": {
     "duration": 0.025099,
     "end_time": "2023-07-21T08:39:13.750914",
     "exception": false,
     "start_time": "2023-07-21T08:39:13.725815",
     "status": "completed"
    },
    "tags": []
   },
   "outputs": [],
   "source": [
    "assert(len(df[df.question.isna()]) == 0)"
   ]
  },
  {
   "cell_type": "code",
   "execution_count": 11,
   "id": "0ee457ec",
   "metadata": {
    "execution": {
     "iopub.execute_input": "2023-07-21T08:39:13.769141Z",
     "iopub.status.busy": "2023-07-21T08:39:13.768734Z",
     "iopub.status.idle": "2023-07-21T08:39:13.776342Z",
     "shell.execute_reply": "2023-07-21T08:39:13.775312Z"
    },
    "papermill": {
     "duration": 0.019803,
     "end_time": "2023-07-21T08:39:13.779085",
     "exception": false,
     "start_time": "2023-07-21T08:39:13.759282",
     "status": "completed"
    },
    "tags": []
   },
   "outputs": [
    {
     "name": "stdout",
     "output_type": "stream",
     "text": [
      "What periodical literature does Delta Air Lines use as a moutpiece?\n",
      "Who is the child of Ranavalona I's husband?\n",
      "Is it true Jeff_Bridges occupation Lane Chandler and photographer ?\n",
      "What is the pre-requisite of phase matter of Galinstan?\n",
      "Which is the operating income for Qantas?\n"
     ]
    }
   ],
   "source": [
    "for data in df[0:5].iterrows():\n",
    "    print(data[1].new_question)"
   ]
  },
  {
   "cell_type": "code",
   "execution_count": 12,
   "id": "64275474",
   "metadata": {
    "execution": {
     "iopub.execute_input": "2023-07-21T08:39:13.800662Z",
     "iopub.status.busy": "2023-07-21T08:39:13.799987Z"
    },
    "papermill": {
     "duration": null,
     "end_time": null,
     "exception": false,
     "start_time": "2023-07-21T08:39:13.787645",
     "status": "running"
    },
    "tags": []
   },
   "outputs": [
    {
     "name": "stdout",
     "output_type": "stream",
     "text": [
      "\n",
      "[Pipeline3]: Linking 0-999\n",
      "1 : ['What periodical literature does Delta Air Lines use as a moutpiece?']\n",
      "1 : ['What is Mary Lou Rettons International Olympic Committee athlete ID.']\n",
      "1 : ['Which is HanCinema person ID for Zhang Ziyi?']\n",
      "1 : ['What is the material used and approved by Mojito?']\n",
      "1 : ['Who is the student that coined the Euler-Lagrange equation?']\n",
      "1 : ['Tell me the name of a fantastique genre that starts with the letter s.']\n",
      "1 : ['Does St. Peters Junior School maximum age equal to 11?']\n",
      "1 : ['What kind of career does Grigori Kozintsev have in the screenwriting field?']\n",
      "1 : ['Which is the meta-organization that is regulated by the football association?']\n",
      "1 : ['Which is the fictional analog of Hippocampus?']\n",
      "1 : ['What award did Olga Tokarczuk receive in 2015?']\n",
      "1 : ['Mention the fictional universe described or included in The Matrix.']\n",
      "1 : ['Who is {champ} of {prize awarded} {Lily Tomlin} ?']\n",
      "1 : ['What is the instance of Antonio da Correggio whose date of birth is 1489-8-1?']\n",
      "1 : ['Mention the musical related work highlighting the work of Sasha Grey.']\n"
     ]
    },
    {
     "name": "stdout",
     "output_type": "stream",
     "text": [
      "1 : ['What is located on terrain feature of Multonmah Falls?']\n",
      "1 : ['What is the Velká pardubická with the lowest race time whose winner is Peter Gehm?']\n",
      "1 : ['What was Cate Blanchett nominated for her work in Im Not There?']\n",
      "1 : ['Which is the author of afterword of Erich Fromm?']\n",
      "1 : ['What is the name of award recieved for Dawn Fraser has participant of 1960 Summer Olympics ?']\n",
      "1 : ['Is tuberculosis prevalent?']\n",
      "1 : ['How many seasons of Handball-Bundesliga are there?']\n",
      "1 : ['Tell me soil type whose name has the word vertisol in it.']\n",
      "1 : ['tell me ceremony whose name has the word umhlanga in it']\n",
      "1 : ['How far west are we?']\n",
      "1 : ['IS THE ENTHALPY OF VAPORIZATION OF METHANOL IS EQUAL TO 37400']\n",
      "1 : ['Who is the mother and husband of Candice Bergen?']\n",
      "1 : ['Which is the total equity of Micron Technology?']\n",
      "1 : ['Who was presumably thought to be a student of Strabo?']\n",
      "1 : ['Who is the captain of F.C. Porto?']\n",
      "1 : ['Name a fruit composed of Citrullus lanatus that starts with letter W']\n",
      "1 : ['What is the timezone of the place Sallust died?']\n"
     ]
    },
    {
     "name": "stdout",
     "output_type": "stream",
     "text": [
      "2 : ['Who is {creators} of {language of the original work} {Star Trek Into Darkness} ?']\n"
     ]
    },
    {
     "name": "stdout",
     "output_type": "stream",
     "text": [
      "3 : ['Tell me national association football team whose name has the word team in it.']\n"
     ]
    },
    {
     "name": "stdout",
     "output_type": "stream",
     "text": [
      "4 : ['What is place of residence of Wangari Maathai,that has inflation rate of consumer price index as 2.9?']\n"
     ]
    },
    {
     "name": "stdout",
     "output_type": "stream",
     "text": [
      "5 : ['Which country has highest individual tax rate?']\n",
      "6 : ['Did Judi Densch receive a Tony Award for best direction of the play Premium Imperiale?']\n",
      "7 : ['Stonewall Jackson commanded what battle?']\n",
      "8 : ['What is a cause of death that begins with the letter p and can be found on a CT scan?']\n",
      "9 : ['Which language written from Romy Schneider, has the grammatical person speaking as the third personal plural?']\n",
      "10 : ['Was Michael J. Foxs place of birth in Edmonton?']\n"
     ]
    },
    {
     "name": "stdout",
     "output_type": "stream",
     "text": [
      "11 : ['What are the autonomous region of the Peoples Republic of China which start with the letter X']\n"
     ]
    },
    {
     "name": "stdout",
     "output_type": "stream",
     "text": [
      "12 : ['Who are worked for Michelle Wolf and its source location of group/organisation is located in New York City?']\n"
     ]
    },
    {
     "name": "stdout",
     "output_type": "stream",
     "text": [
      "13 : ['What is Porky Pig in right now?']\n",
      "14 : ['Did the East India Company own the Britannia and the Busbridge?']\n"
     ]
    },
    {
     "name": "stdout",
     "output_type": "stream",
     "text": [
      "15 : ['Which website does Twitch own?']\n",
      "16 : ['What position did John Hume hold, when was he elected, and what position did he hold in the 53rd Parliament of the United Kingdom?']\n",
      "17 : ['Could you summarize Koreas history of this topic?']\n",
      "18 : ['Who won the prize at the sequel of the 1885 Wimbledon Championships- Gentlemens Singles?']\n"
     ]
    },
    {
     "name": "stdout",
     "output_type": "stream",
     "text": [
      "19 : ['Tell me the tower that is depicted as Tower of Babel and contains the word babel in its name?']\n"
     ]
    },
    {
     "name": "stdout",
     "output_type": "stream",
     "text": [
      "20 : ['What is {award received} of {Hans Krebs} where {point in time} is {1966-0-0} ?']\n",
      "21 : ['What is the ammunition of the weapon, that has been used in the war in Southeast Asia?']\n",
      "22 : ['When was the spouse divorced Nero in 9-6-68']\n"
     ]
    },
    {
     "name": "stdout",
     "output_type": "stream",
     "text": [
      "23 : ['Which is {played as} of {symbol} of {inequality} ?']\n",
      "24 : ['Who is the child of Ranavalona Is husband?']\n"
     ]
    },
    {
     "name": "stdout",
     "output_type": "stream",
     "text": [
      "25 : ['Is the minimal lethal dose of the benzene equal to 170000?']\n",
      "26 : ['what is hypothetical protein ecia139-4120 habitat of found in species?']\n"
     ]
    },
    {
     "name": "stdout",
     "output_type": "stream",
     "text": [
      "27 : ['What is Lizzy Yarnolds TheSports.org athlete ID?']\n",
      "28 : ['Mention the temperature and the state of the matter of water upon achieving the critical point']\n",
      "29 : ['When did James Thomas Farrell receive the St. Louis Literary Award?']\n"
     ]
    },
    {
     "name": "stdout",
     "output_type": "stream",
     "text": [
      "30 : ['What is the medal Angela Lansbury recieved?']\n",
      "31 : ['Which is {landscape of} of {Virgin of the rocks}, which has {birth city} is {Tzippori} ?']\n",
      "32 : ['When did publisher of Pac-Man and place of publication?']\n"
     ]
    },
    {
     "name": "stdout",
     "output_type": "stream",
     "text": [
      "33 : ['What conflict is depicted is Raising the Flag on Iwo Jima?']\n"
     ]
    },
    {
     "name": "stdout",
     "output_type": "stream",
     "text": [
      "34 : ['What award was received Mary Tyler Moore ?']\n",
      "35 : ['Who is the author of the Watchmen and what award did they receive?']\n"
     ]
    },
    {
     "name": "stdout",
     "output_type": "stream",
     "text": [
      "36 : ['What is the parent organization for the International Court of Justice?']\n"
     ]
    },
    {
     "name": "stdout",
     "output_type": "stream",
     "text": [
      "37 : ['Tell me the most notable work of Christopher Hitchens and also the publisher.']\n",
      "38 : ['Who is the spouse of Aaliyah and when did they divorce?']\n"
     ]
    },
    {
     "name": "stdout",
     "output_type": "stream",
     "text": [
      "39 : ['What is Palace of Westminsters architect and heritage designation?']\n"
     ]
    },
    {
     "name": "stdout",
     "output_type": "stream",
     "text": [
      "40 : ['Who was the teacher that supervised Shigeno Yasutsugu?']\n",
      "41 : ['What award did John de Mol receive in 2011?']\n"
     ]
    },
    {
     "name": "stdout",
     "output_type": "stream",
     "text": [
      "42 : ['Is it true Jeff_Bridges occupation Lane Chandler and photographer ?']\n",
      "43 : ['Which is the ISNI for Marit Bjørgen?']\n"
     ]
    },
    {
     "name": "stdout",
     "output_type": "stream",
     "text": [
      "44 : ['Former champion Francisco Alarcon gave what award to Art Spiegelaman?']\n",
      "45 : ['What is { award received } from { Justin Timberlake } that is { point in time } is { 2007 - 0 - 0 }?']\n",
      "46 : ['Who is the person that was a student of Ivan Pavlov?']\n"
     ]
    },
    {
     "name": "stdout",
     "output_type": "stream",
     "text": [
      "47 : ['What is the boiling point of pressure copper as 4703.0?']\n",
      "48 : ['What is the musical score by Missa Solemnis that has mother Maria Magdalena van Beethoven?']\n"
     ]
    },
    {
     "name": "stdout",
     "output_type": "stream",
     "text": [
      "49 : ['When was Pablo Picassos partnership with Fernade Oliver over?']\n",
      "50 : ['What is edition runtime for League of Legends?']\n",
      "51 : ['what is Tuesday named after?']\n"
     ]
    },
    {
     "name": "stdout",
     "output_type": "stream",
     "text": [
      "52 : ['What is established by Archbishop of Canterbury, who is a male?']\n",
      "53 : ['What are the unit of measurement which start with the letter visus']\n"
     ]
    },
    {
     "name": "stdout",
     "output_type": "stream",
     "text": [
      "54 : ['What sovereign state replaced the Kingdom of Great Britain?']\n",
      "55 : ['Who is the child of Pompey and the mother, Mucia Tertia?']\n"
     ]
    },
    {
     "name": "stdout",
     "output_type": "stream",
     "text": [
      "56 : ['What what is unary operation notation by integral symbol and which that starts with {i}']\n",
      "57 : ['Is it true that the carbon footprint of the iPhone X Max is 106?']\n"
     ]
    },
    {
     "name": "stdout",
     "output_type": "stream",
     "text": [
      "58 : ['What is the time zone that Marseille is located in?']\n"
     ]
    },
    {
     "name": "stdout",
     "output_type": "stream",
     "text": [
      "59 : ['What is the SANDRE ID for Rhine?']\n",
      "60 : ['What is {inhabitants} {nationality} of {Leopold von Sacher-Masoch} ?']\n",
      "61 : ['What is total fertility rate of Trinidad and Tobago that is determination method is estimation process ?']\n"
     ]
    },
    {
     "name": "stdout",
     "output_type": "stream",
     "text": [
      "62 : ['Tell me every horse breed whose name starts with the letter z']\n",
      "63 : ['Was Aleister Crowley educated at Trinity College and Eton College?']\n",
      "64 : ['What is the beginning of Sarajevos']\n"
     ]
    },
    {
     "name": "stdout",
     "output_type": "stream",
     "text": [
      "65 : ['Does the cash back of the Gold  ADAC Credit Card equals 5?']\n",
      "66 : ['How many of the archives are for Grace Hopper?']\n",
      "67 : ['is it true that the SSK6-1s optimum viable temperature is greater than 24.0?']\n"
     ]
    },
    {
     "name": "stdout",
     "output_type": "stream",
     "text": [
      "68 : ['Name a book written in Esperanto']\n"
     ]
    },
    {
     "name": "stdout",
     "output_type": "stream",
     "text": [
      "69 : ['Is the total fertility rate of Algeria greater than 3.4284?']\n",
      "70 : ['What is the pre-requisite of phase matter of Galinstan?']\n"
     ]
    },
    {
     "name": "stdout",
     "output_type": "stream",
     "text": [
      "71 : ['After what is Marathon named and what is the current record?']\n"
     ]
    },
    {
     "name": "stdout",
     "output_type": "stream",
     "text": [
      "72 : ['What position was held by Harold Macmillan in the 34th Parliament of the United Kingdom, when was he elected, and why did he leave?']\n",
      "73 : ['is the clock speed of the Watara Supervision smaller than 3.2?']\n"
     ]
    },
    {
     "name": "stdout",
     "output_type": "stream",
     "text": [
      "74 : ['What is the name of the Dutch municipal coat of arms of Amsterdam?']\n",
      "75 : ['Are there more than 0 survivors of the Charkhi Dadri mid-air collision']\n"
     ]
    },
    {
     "name": "stdout",
     "output_type": "stream",
     "text": [
      "76 : ['When did Kylie Minogue receive the Gold Logie Award for Most Popular Personality on Australian Television?']\n"
     ]
    },
    {
     "name": "stdout",
     "output_type": "stream",
     "text": [
      "77 : ['What significant event in 1978-6-1 is Michelle Bachelet known for?']\n",
      "78 : ['Of the century breaks of the Colm Gilcreest equal less than 9.6?']\n"
     ]
    },
    {
     "name": "stdout",
     "output_type": "stream",
     "text": [
      "79 : ['What is the INSEE countries and foreign territories code for the Democratic Republic of Congo?']\n",
      "80 : ['which is the point time for syria has population as 8.08815e+06?']\n",
      "81 : ['What award did Harry Martinson adn Eyvind Johnson receive together?']\n"
     ]
    },
    {
     "name": "stdout",
     "output_type": "stream",
     "text": [
      "82 : ['Which is the narrative location of Siddhartha?']\n"
     ]
    },
    {
     "name": "stdout",
     "output_type": "stream",
     "text": [
      "83 : ['In what area is Fernandel buried at the Passy Cemetery?']\n"
     ]
    },
    {
     "name": "stdout",
     "output_type": "stream",
     "text": [
      "84 : ['When did Robert De Niro reside in Marbletown?']\n",
      "85 : ['Which record label signed Janet Jackson?']\n"
     ]
    },
    {
     "name": "stdout",
     "output_type": "stream",
     "text": [
      "86 : ['What is the product with the lowest consumption rate per capita whose has part is paraffin wax?']\n",
      "87 : ['what was the publication date for iTunes which has software version as 12.7.5?']\n",
      "88 : ['What is the general manager of Bernard Hinault?']\n"
     ]
    },
    {
     "name": "stdout",
     "output_type": "stream",
     "text": [
      "89 : ['Name an alcoholic beverage that contains the word rum  in its name']\n",
      "90 : ['Is Kevin Costner owner of Fielders Stadium?']\n",
      "91 : ['When will the pressure and temperature of water reach the triple point stage?']\n"
     ]
    },
    {
     "name": "stdout",
     "output_type": "stream",
     "text": [
      "92 : ['The University of Florida is a member of which coalition?']\n",
      "93 : ['What is {located next to Quincy,} in the {novel, Infinite Jest}?']\n",
      "94 : ['What is the affiliation building in Columbia University']\n"
     ]
    },
    {
     "name": "stdout",
     "output_type": "stream",
     "text": [
      "95 : ['Who is the son of Jacob Conover?']\n",
      "96 : ['Which is the operating income for Qantas?']\n",
      "97 : ['Where is the place of Tartuffes first performance with the farthest east coordinates of 48.8363848 2.4697602?']\n",
      "98 : ['What is being treated in an individual with arteriosclerosis?']\n"
     ]
    },
    {
     "name": "stdout",
     "output_type": "stream",
     "text": [
      "99 : ['Who is the opposite of the superhero?']\n",
      "100 : ['What country is the current leader of the African Union ?']\n",
      "101 : ['Who Sleepwalking succeeded in playing Sleepwalking?']\n",
      "102 : ['In which country the Golden Horde used to live ?']\n"
     ]
    },
    {
     "name": "stdout",
     "output_type": "stream",
     "text": [
      "103 : ['What is Tanzanias total reserves?']\n",
      "104 : ['Which country housed the Indian Independence Movement?']\n"
     ]
    },
    {
     "name": "stdout",
     "output_type": "stream",
     "text": [
      "105 : ['When did Secretariat receive the Triple Crown Trophy?']\n",
      "106 : ['Which is the sauce that originated in Korea?']\n"
     ]
    },
    {
     "name": "stdout",
     "output_type": "stream",
     "text": [
      "107 : ['Name the FSK 12 rated 3D film with the highest cost ?']\n",
      "108 : ['Tell me organization whose name has the word  zollkriminalamt  in it.']\n"
     ]
    },
    {
     "name": "stdout",
     "output_type": "stream",
     "text": [
      "109 : ['Which church is located in the parish border Krukengrund?']\n"
     ]
    },
    {
     "name": "stdout",
     "output_type": "stream",
     "text": [
      "110 : ['Name the naval artillery wirh the smallest firing range?']\n",
      "111 : ['Does marketing involve Human communication, and packaging and labeling?']\n"
     ]
    },
    {
     "name": "stdout",
     "output_type": "stream",
     "text": [
      "112 : ['What is the warheroes.ru ID for Yuri Gagarin?']\n",
      "113 : ['Does the slope rating of the Merion Golf Club equal 149']\n"
     ]
    },
    {
     "name": "stdout",
     "output_type": "stream",
     "text": [
      "114 : ['Gordon Lightfoot was nominated for what at what time?']\n",
      "115 : ['What is the solubility of methyl chloride in water?']\n",
      "116 : ['Which is the YouTube channel ID for Miley Cyrus?']\n",
      "117 : ['What is the commune of France with the lowest population whose located in time zone is UTC+01:00?']\n",
      "118 : ['which cola starts with the letter p']\n",
      "119 : ['Tell me the female beauty pageant that operates in all countries and contains the word model in its name?']\n"
     ]
    },
    {
     "name": "stdout",
     "output_type": "stream",
     "text": [
      "120 : ['Located in the Central District, what is the county seat whose twin cities include Feodosiya?']\n",
      "121 : ['Mention the headquarter location of the Russian Orthodox Church monastery.']\n"
     ]
    },
    {
     "name": "stdout",
     "output_type": "stream",
     "text": [
      "122 : ['What is the category for recipients for the Noble Prize?']\n",
      "123 : ['What business does Alexander McQueen have?']\n",
      "124 : ['What is the use of playing World Rugby?']\n"
     ]
    },
    {
     "name": "stdout",
     "output_type": "stream",
     "text": [
      "125 : ['Name a nonmetal discovered in England  that starts with letter O']\n"
     ]
    },
    {
     "name": "stdout",
     "output_type": "stream",
     "text": [
      "126 : ['Dennis M. Ritchie designed which structured programming language?']\n"
     ]
    },
    {
     "name": "stdout",
     "output_type": "stream",
     "text": [
      "127 : ['Which borders of borders of Riverside have a start date of 1984-0-0?']\n",
      "128 : ['Who is the brother in law of the writer Quran?']\n",
      "129 : ['How many depositors are with the {United Nations Secretary-General} ?']\n"
     ]
    },
    {
     "name": "stdout",
     "output_type": "stream",
     "text": [
      "130 : ['Who works for the accused Mariposa Folk Festival 1974?']\n",
      "131 : ['How many terminus are in Vienna']\n"
     ]
    },
    {
     "name": "stdout",
     "output_type": "stream",
     "text": [
      "132 : ['Tell me physical phenomenon whose name has the word surface in it.']\n",
      "133 : ['What are the coordinates for the geographic center of Michigan, as determined by the center of gravity of the surface?']\n"
     ]
    },
    {
     "name": "stdout",
     "output_type": "stream",
     "text": [
      "134 : ['What did Clifton Chenier get nominated for in 1983-0-0?']\n",
      "135 : ['What is a skill that starts with the letter s.']\n"
     ]
    },
    {
     "name": "stdout",
     "output_type": "stream",
     "text": [
      "136 : ['Which religious concept starts with the letter t']\n"
     ]
    },
    {
     "name": "stdout",
     "output_type": "stream",
     "text": [
      "137 : ['Who awarded Eric Hobsbawm an honorary doctorate?']\n",
      "138 : ['What was Philip Roth nominated for in 2011?']\n",
      "139 : ['What is John Xs persumed date of date according to sourcing circumstances?']\n",
      "140 : ['Is the diameter pf nickel equal to 0.807?']\n",
      "141 : ['Is the right ascension of malin 1 less than 15.1398?']\n"
     ]
    },
    {
     "name": "stdout",
     "output_type": "stream",
     "text": [
      "142 : ['What is the density of hydrogen peroxide at a temperature of 20.0?']\n",
      "143 : ['What is the name of a Cayenne Pepper that also has dates?']\n"
     ]
    },
    {
     "name": "stdout",
     "output_type": "stream",
     "text": [
      "144 : ['What is the current population of Aden?']\n",
      "145 : ['What five U.S. states does the Delaware River drain from?']\n",
      "146 : ['Tell me the Greek deity of sibling of Zeus and that contains the word poseidon in its name?']\n"
     ]
    },
    {
     "name": "stdout",
     "output_type": "stream",
     "text": [
      "147 : ['How many are interested in Daniel Dennett?']\n"
     ]
    },
    {
     "name": "stdout",
     "output_type": "stream",
     "text": [
      "148 : ['What is in the region of Paroo River, that divides into Ku-ring-gai Council?']\n",
      "149 : ['What are the military operation which start with the letter o']\n",
      "150 : ['Which member state of the International Centre for Settlement of Investment Disputes has the maximum inflation rate?']\n"
     ]
    },
    {
     "name": "stdout",
     "output_type": "stream",
     "text": [
      "151 : ['What sister city was born in of Zakhar Oskotsky?']\n"
     ]
    },
    {
     "name": "stdout",
     "output_type": "stream",
     "text": [
      "152 : ['What role does Mickey Mouse play in the creative work of Ben Sharpsteen?']\n"
     ]
    },
    {
     "name": "stdout",
     "output_type": "stream",
     "text": [
      "153 : ['What is the New Zealand Gazetteer place id for Auckland?']\n",
      "154 : ['WHICH IS THE STAGE RACE WITH THE MAXIMUM FREQUENCY OF EVENT']\n",
      "155 : ['Which is the electric charge for antihydrogen?']\n",
      "156 : ['Is the stated age of Rolf-Axel Eberhardt greater than 52?']\n"
     ]
    },
    {
     "name": "stdout",
     "output_type": "stream",
     "text": [
      "157 : ['At what rate was inflation in Venezuela in the year 1996?']\n",
      "158 : ['Is it true that the explosive energy equivalent of Father of All Bombs is less than 52.8?']\n",
      "159 : ['In 1996, what significant event happened in the administrative territorial entity of Bristol?']\n"
     ]
    },
    {
     "name": "stdout",
     "output_type": "stream",
     "text": [
      "160 : ['What was the last team Allan Border belonged to in the year 1980?']\n",
      "161 : ['How many dimensions have a Captain America?']\n",
      "162 : ['what is spouse of Carlos Saura that is start time is 2006?']\n",
      "163 : ['Where is the deathplace of Gediminas, whose twin town is Irkutsk?']\n"
     ]
    },
    {
     "name": "stdout",
     "output_type": "stream",
     "text": [
      "164 : ['Which is the wear for Ambrose Burnside?']\n",
      "165 : ['What is the complete list of records released by Jerry Lee Lewis?']\n"
     ]
    },
    {
     "name": "stdout",
     "output_type": "stream",
     "text": [
      "166 : ['When did Nicaragua count a population of 3.87732e+06 inhabitants?']\n",
      "167 : ['In the 68th Academy Awards, what nomination did Mira Sorvino receive?']\n"
     ]
    },
    {
     "name": "stdout",
     "output_type": "stream",
     "text": [
      "168 : ['Which birth language is Chizoba Ejike?']\n",
      "169 : ['Which is the facility of the defensive wall?']\n"
     ]
    },
    {
     "name": "stdout",
     "output_type": "stream",
     "text": [
      "170 : ['Is the throughput of the Vest-vassdraget equal to 2697.672?']\n",
      "171 : ['where does Vladimir putin reside?']\n",
      "172 : ['What is Bandysidan player ID for Sergey Lomanov ?']\n",
      "173 : ['What did Sidney Crosby draft?']\n"
     ]
    },
    {
     "name": "stdout",
     "output_type": "stream",
     "text": [
      "174 : ['What is the district of the city with the MAX(number of houses whose instance of is district of the city?']\n",
      "175 : ['who architecture firm of home field of new york centaurs?']\n",
      "176 : ['Is the matches/games drawn/tied of the 2001 British and Irish Lions tour to Australia equal to 0?']\n",
      "177 : ['Did Lindsey Vonn participate in the FIS Alpine World Ski Championships in 1999 and 2019?']\n"
     ]
    },
    {
     "name": "stdout",
     "output_type": "stream",
     "text": [
      "178 : ['Who gave the {is shown in} of {based upon} of {Clark Kent} ?']\n"
     ]
    },
    {
     "name": "stdout",
     "output_type": "stream",
     "text": [
      "179 : ['Which is the patron saint of the place of death of Anna de Medici?']\n",
      "180 : ['What does the painting Grade Odalisque represent which has DRTL backwards?']\n"
     ]
    },
    {
     "name": "stdout",
     "output_type": "stream",
     "text": [
      "181 : ['What award did Danila Kozlovsky receive in 2017?']\n"
     ]
    },
    {
     "name": "stdout",
     "output_type": "stream",
     "text": [
      "182 : ['Which is the municipality of Belgium that has the headquarters location of European Union?']\n"
     ]
    },
    {
     "name": "stdout",
     "output_type": "stream",
     "text": [
      "183 : ['How many shogun military ranks are there?']\n",
      "184 : ['What has been the ister city of Changchun since Aug 25th, 1992?']\n",
      "185 : ['is the maximum wavelength of sensitivity of the human eye equal to 700?']\n"
     ]
    },
    {
     "name": "stdout",
     "output_type": "stream",
     "text": [
      "186 : ['Which Class IB flammable liquid has the least lower flammable limit?']\n"
     ]
    },
    {
     "name": "stdout",
     "output_type": "stream",
     "text": [
      "187 : ['When Podgorica started as Principality of Montenegro?']\n"
     ]
    },
    {
     "name": "stdout",
     "output_type": "stream",
     "text": [
      "188 : ['What is the ionization energy of the nicotine?']\n",
      "189 : ['What is  in the IHO Hydrographic Dictionary (S-32) Number of lighthouse ?']\n"
     ]
    },
    {
     "name": "stdout",
     "output_type": "stream",
     "text": [
      "190 : ['Who are the writers of the academic subject Ten simple rules for editing Wikipedia?']\n"
     ]
    },
    {
     "name": "stdout",
     "output_type": "stream",
     "text": [
      "191 : ['Give me a film character from a fictional universe, such as Marvel comics that starts with a W.']\n",
      "192 : ['What does emigration mean?']\n",
      "193 : ['What is the fuel system of electricity?']\n"
     ]
    },
    {
     "name": "stdout",
     "output_type": "stream",
     "text": [
      "194 : ['What method did the census use to determine the population of Taguig?']\n",
      "195 : ['Name the BAFTA settlement with the postcode DA.']\n",
      "196 : ['What is the stock exchange for the ticker symbol 0700 in Tencent?']\n"
     ]
    },
    {
     "name": "stdout",
     "output_type": "stream",
     "text": [
      "197 : ['When was Vittorio De Sica nominated for an Academy Award for Best Supporting Actor?']\n"
     ]
    },
    {
     "name": "stdout",
     "output_type": "stream",
     "text": [
      "198 : ['How many numbers of exclave for the  {Azerbaijan} ?']\n",
      "199 : ['who was the pope replaced by?']\n",
      "200 : ['Where is the river source of the Rhine?']\n",
      "201 : ['Which { meansseason starts} in {February} ?']\n"
     ]
    },
    {
     "name": "stdout",
     "output_type": "stream",
     "text": [
      "202 : ['Tell me interface standard whose name has the word virtuallink in it.']\n",
      "203 : ['Was Brittany Murphy a citizen of the USA?']\n"
     ]
    },
    {
     "name": "stdout",
     "output_type": "stream",
     "text": [
      "204 : ['When did Aaron Kwok receive the award for Golden Horse Award for Best Leading Actor?']\n",
      "205 : ['Is the life expectancy of Indonesia 55.3528?']\n",
      "206 : ['Who organizes the order of Ultima III: Exodus?']\n",
      "207 : ['What are the national cuisine which start with the letter m']\n"
     ]
    },
    {
     "name": "stdout",
     "output_type": "stream",
     "text": [
      "208 : ['Is it true that the fee of Harvard University is less than 90?']\n"
     ]
    },
    {
     "name": "stdout",
     "output_type": "stream",
     "text": [
      "209 : ['What is melody of Tristan und Isolde ?']\n"
     ]
    },
    {
     "name": "stdout",
     "output_type": "stream",
     "text": [
      "210 : ['When did child of Abigail Adams and date of birth?']\n",
      "211 : ['What is the CBS municipality code of Nijmegen?']\n"
     ]
    },
    {
     "name": "stdout",
     "output_type": "stream",
     "text": [
      "212 : ['Which reward was The Diary of Anne Frank a nominee for?']\n",
      "213 : ['Is it true that the minimum wavelength sensitivity of the Giant Magellan Telescope is 320?']\n",
      "214 : ['What is Fantastic Fiction author ID of James Ellroy?']\n"
     ]
    },
    {
     "name": "stdout",
     "output_type": "stream",
     "text": [
      "215 : ['Where was the location of birth of Hermann Heinrich Gossen, that has Q48460 such that 2--4355126?']\n",
      "216 : ['How many rivers and lakes are connected to Lake Urmia?']\n",
      "217 : ['What is {holds position} of {Martin McGuinness}, which has {prequel of} is {Member of the 55th Parliament of the United Kingdom} ?']\n",
      "218 : ['Name an empire that contains the word british in its name']\n",
      "219 : ['When did Alla Pugacheva divorce his wife, Mykolas Orbakas?']\n"
     ]
    },
    {
     "name": "stdout",
     "output_type": "stream",
     "text": [
      "220 : ['Which is made from the goat meat having a common name as Domestic Goat?']\n",
      "221 : ['When position did Angela Merkel hold on November 10, 1994?']\n"
     ]
    },
    {
     "name": "stdout",
     "output_type": "stream",
     "text": [
      "222 : ['Was Cleopatras child named Caesarion?']\n"
     ]
    },
    {
     "name": "stdout",
     "output_type": "stream",
     "text": [
      "223 : ['When did Emmerson Mnangagwa begin going to the University of Zambia?']\n",
      "224 : ['What nonprofit organization is regulated by the association of football?']\n",
      "225 : ['What are the head of state and the office held by head of state of the Soviet Union?']\n"
     ]
    },
    {
     "name": "stdout",
     "output_type": "stream",
     "text": [
      "226 : ['How many works are occupied in the Rijksmuseum?']\n",
      "227 : ['What is Bram Stokers occupation and field of work and did he work in Dublin Castle?']\n"
     ]
    },
    {
     "name": "stdout",
     "output_type": "stream",
     "text": [
      "228 : ['Who was the lead actor for the movie Deadpool?']\n",
      "229 : ['Who is the partner and the spouse of Hank Azaria?']\n",
      "230 : ['Is the maximum number of players for the coxless four 0.0?']\n",
      "231 : ['Was Herbie Hancock the winner of the award for the Grammy Award for Best Pop Collaboration with Vocals?']\n"
     ]
    },
    {
     "name": "stdout",
     "output_type": "stream",
     "text": [
      "232 : ['What is Auñamendi ID of Miguel López de Legazpi ?']\n",
      "233 : ['What is the Commonwealth area with the lowest real gross domestic product growth rate whose diplomatic relation is Taiwan?']\n",
      "234 : ['Name the female who discovered the Horsehead Nebula.']\n"
     ]
    },
    {
     "name": "stdout",
     "output_type": "stream",
     "text": [
      "235 : ['Which is the television series which contains the word zigby in its name?']\n",
      "236 : ['How many different kinds of industry are affected by furniture?']\n",
      "237 : ['What time has Manhattan listed as the end time for a maritime evacuation event?']\n",
      "238 : ['Where was Syrie Maughams country of citizenship in 1927?']\n"
     ]
    },
    {
     "name": "stdout",
     "output_type": "stream",
     "text": [
      "239 : ['What is Ferenc Molnars compArt person ID?']\n",
      "240 : ['Is it true that the Wu Tang Clan signed with Loud Records and Ruff Ryders Entertainment?']\n"
     ]
    },
    {
     "name": "stdout",
     "output_type": "stream",
     "text": [
      "241 : ['Does the Becherovka alcohol by volume less than 30.4']\n"
     ]
    },
    {
     "name": "stdout",
     "output_type": "stream",
     "text": [
      "242 : ['Name a business whose heaquarters are located in Lyon']\n",
      "243 : ['When did Barry Humphries receive the Centenray medal?']\n"
     ]
    },
    {
     "name": "stdout",
     "output_type": "stream",
     "text": [
      "244 : ['When did Marco Polo marry Donata Badoer?']\n",
      "245 : ['What is BIA PSY person ID for Carl Rogers ?']\n"
     ]
    },
    {
     "name": "stdout",
     "output_type": "stream",
     "text": [
      "246 : ['What type of beryl is found at he GPS coordinates of 24.77111111 34. 71805556?']\n",
      "247 : ['How many colors are next to brown']\n"
     ]
    },
    {
     "name": "stdout",
     "output_type": "stream",
     "text": [
      "248 : ['When was Isadora Duncans funeral?']\n",
      "249 : ['On 0-0-2007, what is the populaton of Spokane?']\n"
     ]
    },
    {
     "name": "stdout",
     "output_type": "stream",
     "text": [
      "250 : ['did john grisham have a degree in law in the University of mississippi school of law?']\n"
     ]
    },
    {
     "name": "stdout",
     "output_type": "stream",
     "text": [
      "251 : ['Where is the archive for archives of The Walt Disney company?']\n",
      "252 : ['Tell me me a cryptocurrenc whose name consist of the word neo and whose stock exchange bitfinex']\n"
     ]
    },
    {
     "name": "stdout",
     "output_type": "stream",
     "text": [
      "253 : ['What diplomatic crisis lead to the founding of the Russian Orthodox Church?']\n",
      "254 : ['What is the court and application of jurisdiction of Roe v. Wade?']\n"
     ]
    },
    {
     "name": "stdout",
     "output_type": "stream",
     "text": [
      "255 : ['In the consort of Myrna Loy, what is the service branch?']\n"
     ]
    },
    {
     "name": "stdout",
     "output_type": "stream",
     "text": [
      "256 : ['Name a religious concept in Hinduism that contains the word yatra in its name']\n",
      "257 : ['Which is the Great Aragonese Encyclopedia ID for Allium cepa?']\n"
     ]
    },
    {
     "name": "stdout",
     "output_type": "stream",
     "text": [
      "258 : ['Which award did One Piece receive in 2009?']\n",
      "259 : ['What is the active ingredient pharmaceutical product in erythromycin?']\n"
     ]
    },
    {
     "name": "stdout",
     "output_type": "stream",
     "text": [
      "260 : ['Who is {took part in} of {boy}, which has {theatre season} is {classical antiquity} ?']\n",
      "261 : ['When did Lee de Forest divorce from Nora Stanton Blatch Barney?']\n"
     ]
    },
    {
     "name": "stdout",
     "output_type": "stream",
     "text": [
      "262 : ['Tell me about spouse of Barbara Walters and start time?']\n",
      "263 : ['Which chemical compound has the most binding energy?']\n",
      "264 : ['Who is the showrunner of The Apprentice, who also has a sister called Robert Trump?']\n"
     ]
    },
    {
     "name": "stdout",
     "output_type": "stream",
     "text": [
      "265 : ['Which is the gens of Sallust?']\n",
      "266 : ['Who was Al Gores spouse beginning in 1970?']\n"
     ]
    },
    {
     "name": "stdout",
     "output_type": "stream",
     "text": [
      "267 : ['What position is held by Ramsay MacDonald and when was he elected?']\n"
     ]
    },
    {
     "name": "stdout",
     "output_type": "stream",
     "text": [
      "268 : ['Is the apoapsis of the Aotearoa 3400 equal to 2.126?']\n",
      "269 : ['Who received the Nobel Prize in Literature after Mo Yan?']\n"
     ]
    },
    {
     "name": "stdout",
     "output_type": "stream",
     "text": [
      "270 : ['What is the Commons category of Classic of Poetry ?']\n",
      "271 : ['What has the eccentricity of 0.0567, that is located on astronomical body of the near side of the moon?']\n"
     ]
    },
    {
     "name": "stdout",
     "output_type": "stream",
     "text": [
      "272 : ['Tell me medical specialty whose name has the word trichology in it.']\n",
      "273 : ['What are the prefecture-level city  which start with the letter ürümqi']\n"
     ]
    },
    {
     "name": "stdout",
     "output_type": "stream",
     "text": [
      "274 : ['What is the work of Jack Warner awarded as Academy Award for Best Picture?']\n",
      "275 : ['who culture of state of australian secret intelligence services ?']\n",
      "276 : ['Which is a used metre of lliad?']\n",
      "277 : ['WHICH IS THE AUSTRIAN MUNICIPALITY KEY OF  KLAGENFURT']\n"
     ]
    },
    {
     "name": "stdout",
     "output_type": "stream",
     "text": [
      "278 : ['Is the PPP GDP per capita of Lithuania less than 22148.8']\n",
      "279 : ['When did Abigail Adams father die, and who was he?']\n"
     ]
    },
    {
     "name": "stdout",
     "output_type": "stream",
     "text": [
      "280 : ['Into how many editions has Othello been translated?']\n"
     ]
    },
    {
     "name": "stdout",
     "output_type": "stream",
     "text": [
      "281 : ['What is the number of original networks owned by the Discovery Channel?']\n",
      "282 : ['What essential medicine is needed to treat leprosy?']\n"
     ]
    },
    {
     "name": "stdout",
     "output_type": "stream",
     "text": [
      "283 : ['What is located on the astronomical body of North America?']\n",
      "284 : ['When did Supernatural win the Favorite Pop/Rock Album award?']\n",
      "285 : ['What are the phantom island which start with the letter T']\n"
     ]
    },
    {
     "name": "stdout",
     "output_type": "stream",
     "text": [
      "286 : ['What appearance of a Christmas tree happens every January 19?']\n",
      "287 : ['Which {history of topic} and the {geography of topic} is {Melbourne} ?']\n"
     ]
    },
    {
     "name": "stdout",
     "output_type": "stream",
     "text": [
      "288 : ['Which bourbon whisky has the lowest alcohol by volume whose country of origin is united states of america?']\n",
      "289 : ['what is stable version of user interface of amazon kindle?']\n"
     ]
    },
    {
     "name": "stdout",
     "output_type": "stream",
     "text": [
      "290 : ['tell me about thoracic disease that contains the word syndrome in their name']\n",
      "291 : ['Who was married to Ida Lupino on January 1st, 1951?']\n"
     ]
    },
    {
     "name": "stdout",
     "output_type": "stream",
     "text": [
      "292 : ['Where is {on harbour} of {Kryvyi Rih}, which has {tributary} is {Saksahan} ?']\n",
      "293 : ['When did Eiji Toyoda win an award for his work in Order of Prince Henry?']\n"
     ]
    },
    {
     "name": "stdout",
     "output_type": "stream",
     "text": [
      "294 : ['What is the second language of Peter Faber which regulatory body is Pontifical Academy of Latin?']\n",
      "295 : ['Tell me the autonomous region of the Peoples Republic of China which contains the word xinjiang in its name?']\n"
     ]
    },
    {
     "name": "stdout",
     "output_type": "stream",
     "text": [
      "296 : ['Which is the golf course arena carrying designs patterns of Donald Trump?']\n",
      "297 : ['What are the opening hours for Thursday?']\n",
      "298 : ['What was the result found in the species of hypothetical protein ipg2828?']\n"
     ]
    },
    {
     "name": "stdout",
     "output_type": "stream",
     "text": [
      "299 : ['Mention the predecessor and the successor of Louis the Pious while being recognized as king of Franks']\n",
      "300 : ['What was the population of Washington, D.C. at the start of 1860?']\n"
     ]
    },
    {
     "name": "stdout",
     "output_type": "stream",
     "text": [
      "301 : ['Is the topographic prominence of the Franzosenkopf less than 4.0?']\n",
      "302 : ['Which is the spacecraft that is manufactured by SpaceX?']\n",
      "303 : ['Who else participated in Deep Blue with top dog Cray Blitz?']\n",
      "304 : ['Who is the owner of the theatre company that made The Birth of the Star Spangled Banner?']\n"
     ]
    },
    {
     "name": "stdout",
     "output_type": "stream",
     "text": [
      "305 : ['Who regulates the genetic association of hsa-miR-5006-3p in molecular biology']\n"
     ]
    },
    {
     "name": "stdout",
     "output_type": "stream",
     "text": [
      "306 : ['Were Dutch and Hungarian the official languages of the Holy Roman Empire?']\n",
      "307 : ['who unit of density for measured by of density?']\n"
     ]
    },
    {
     "name": "stdout",
     "output_type": "stream",
     "text": [
      "308 : ['What is the international organization for World Bank?']\n",
      "309 : ['how many performances are by jimi hendrix?']\n"
     ]
    },
    {
     "name": "stdout",
     "output_type": "stream",
     "text": [
      "310 : ['What are Jews the opposite of and for whom are they named?']\n",
      "311 : ['Which German city is twinned with Cardiff?']\n"
     ]
    },
    {
     "name": "stdout",
     "output_type": "stream",
     "text": [
      "312 : ['What is the birthplace of Maureen OHara, which has the co-ordinate location of 53.3252?']\n",
      "313 : ['WHO IS THE PARENT OF SON FRANCESCO I SFORZA ?']\n",
      "314 : ['which award E.T. the Extra-Terrestrial did receive and at what time he got it?']\n",
      "315 : ['What is the home venue of the Green Bay Packers?']\n"
     ]
    },
    {
     "name": "stdout",
     "output_type": "stream",
     "text": [
      "316 : ['What language does the sculptor of Z3 write in?']\n",
      "317 : ['What agent had conflict with Lowell English?']\n"
     ]
    },
    {
     "name": "stdout",
     "output_type": "stream",
     "text": [
      "318 : ['What is the total fertility rate of Sudan with estimation process?']\n"
     ]
    },
    {
     "name": "stdout",
     "output_type": "stream",
     "text": [
      "319 : ['When was Boris Johnson the Member of the 56th  Parliament of the United Kingdom?']\n",
      "320 : ['What is GACS ID for West Africa?']\n"
     ]
    },
    {
     "name": "stdout",
     "output_type": "stream",
     "text": [
      "321 : ['What administrative territorial entity was Sint Maarten located in the year December 15, 1954?']\n"
     ]
    },
    {
     "name": "stdout",
     "output_type": "stream",
     "text": [
      "322 : ['What Chinese dynasty replaced the Yuan dynasty?']\n",
      "323 : ['what is the world heritage Tentative liste ID of  Univirsity of Tahran']\n",
      "324 : ['What is the state of India that contain the word uttarakhand in its name ?']\n"
     ]
    },
    {
     "name": "stdout",
     "output_type": "stream",
     "text": [
      "325 : ['What is the religious affiliation of Vladimir the Greats child?']\n",
      "326 : ['What is the diplomatic relations like in basin countries of Lake Okeechobee?']\n",
      "327 : ['Tell me the point in time for Pierre de Fermat has academic degree as Bachelor of Laws?']\n",
      "328 : ['What was the population of Aysén Region from 1992-0-0?']\n"
     ]
    },
    {
     "name": "stdout",
     "output_type": "stream",
     "text": [
      "329 : ['How many games did Just Fontaine play for the O.G.C. Nice and how many goals did he score?']\n",
      "330 : ['Where was professor Dimitri Mendeleyev educated, and what is his expertise?']\n"
     ]
    },
    {
     "name": "stdout",
     "output_type": "stream",
     "text": [
      "331 : ['What explosive chemical has the highest explosive velocity ?']\n",
      "332 : ['Which is the enterprise for the parent organization of Sears?']\n"
     ]
    },
    {
     "name": "stdout",
     "output_type": "stream",
     "text": [
      "333 : ['Is the toughness of Grivory GM-4H less than 7.2?']\n"
     ]
    },
    {
     "name": "stdout",
     "output_type": "stream",
     "text": [
      "334 : ['What what is animated taxondistributed by MGM and {family}']\n",
      "335 : ['When was Jimmy Wales employed as Bomis and when did he leave?']\n",
      "336 : ['What does European Parliament approve?']\n",
      "337 : ['Did Mao Zedong hold a position as President of the Peoples Republic of China?']\n"
     ]
    },
    {
     "name": "stdout",
     "output_type": "stream",
     "text": [
      "338 : ['What award did I.M. Pei receive in 2010?']\n",
      "339 : ['When did Johnny Carson start as the presenter for The Tonight Show?']\n"
     ]
    },
    {
     "name": "stdout",
     "output_type": "stream",
     "text": [
      "340 : ['How did John Wilkes Booth kill Abraham Lincoln?']\n"
     ]
    },
    {
     "name": "stdout",
     "output_type": "stream",
     "text": [
      "341 : ['What is the sister city of Ivan Turgenevs hometown?']\n",
      "342 : ['What is the honorary title given to Albert Gunther which was won by P.A. Buxton?']\n"
     ]
    },
    {
     "name": "stdout",
     "output_type": "stream",
     "text": [
      "343 : ['Is the half-life of silicon-36 less than 0.54?']\n",
      "344 : ['How would you spell meat pie using the international phonetic alphabet?']\n"
     ]
    },
    {
     "name": "stdout",
     "output_type": "stream",
     "text": [
      "345 : ['WHat location that belongs to the World Heritage starts with the letter H']\n"
     ]
    },
    {
     "name": "stdout",
     "output_type": "stream",
     "text": [
      "346 : ['What is the music genre that is made by Battle Zeque Den']\n",
      "347 : ['Who stars with Ian Carlyle in the production?']\n"
     ]
    },
    {
     "name": "stdout",
     "output_type": "stream",
     "text": [
      "348 : ['What was the population of the Maldives in 1967?']\n",
      "349 : ['What are the historical progress which start with the letter g']\n"
     ]
    },
    {
     "name": "stdout",
     "output_type": "stream",
     "text": [
      "350 : ['Is the human genome size more than 3881796000?']\n",
      "351 : ['What is the official residence of Queens?']\n"
     ]
    },
    {
     "name": "stdout",
     "output_type": "stream",
     "text": [
      "352 : ['What is the genetic association of major depressive disorder with the determination method TAS?']\n",
      "353 : ['Who proved the theory of Proper Motion? Their surname is Halley.']\n",
      "354 : ['What two cities hold the principle offices of Financial Times?']\n"
     ]
    },
    {
     "name": "stdout",
     "output_type": "stream",
     "text": [
      "355 : ['what is {PhD advisor} of {favorite player} of {Anthony Giddens, Baron Giddens} ?']\n",
      "356 : ['What is the density of aluminium at a temperature of 20 degrees?']\n"
     ]
    },
    {
     "name": "stdout",
     "output_type": "stream",
     "text": [
      "357 : ['Who was the teacher of the musical score of Suite 1922?']\n",
      "358 : ['Where does Po fit into the location 12.5469?']\n"
     ]
    },
    {
     "name": "stdout",
     "output_type": "stream",
     "text": [
      "359 : ['At what role did John Tyler replace William Henry Harrison?']\n",
      "360 : ['Who is drafted by the Boston Celtics?']\n"
     ]
    },
    {
     "name": "stdout",
     "output_type": "stream",
     "text": [
      "361 : ['What sovereign state belonging to the International Finance Corporation has the lowest unemployment rate?']\n",
      "362 : ['What team did Peter Schmeichel start playing for in 1984?']\n",
      "363 : ['does the explosive energy of the tsar bomba equal 500']\n"
     ]
    },
    {
     "name": "stdout",
     "output_type": "stream",
     "text": [
      "364 : ['What language did Juan González de la Pezuela y Ceballos translate for Os Lusíadas?']\n",
      "365 : ['Where is {deathplace} of {Amelia Earhart}, which has {tributary} is {Ayampe River} ?']\n"
     ]
    },
    {
     "name": "stdout",
     "output_type": "stream",
     "text": [
      "366 : ['What is a sovereign state for office held by the popes head of state?']\n",
      "367 : ['How many armament does the aircraft has?']\n",
      "368 : ['Where is the human place of birth in Thessaloniki?']\n"
     ]
    },
    {
     "name": "stdout",
     "output_type": "stream",
     "text": [
      "369 : ['When did Ronna Romney McDaniel become chairperson of the Republican Party?']\n",
      "370 : ['Which is the {participant} and the {location} of {Pacific_War} ?']\n"
     ]
    },
    {
     "name": "stdout",
     "output_type": "stream",
     "text": [
      "371 : ['Where is the drainage basin of the Brazos River?']\n"
     ]
    },
    {
     "name": "stdout",
     "output_type": "stream",
     "text": [
      "372 : ['What year did Le Corbusier win the Frank P. Brown Medal?']\n",
      "373 : ['Is it true that the topographic isolation of Pollux equals to 0.7?']\n",
      "374 : ['Whats the Brockhaus Enzyklopadie online ID of Chile?']\n"
     ]
    },
    {
     "name": "stdout",
     "output_type": "stream",
     "text": [
      "375 : ['What causes rain?']\n"
     ]
    },
    {
     "name": "stdout",
     "output_type": "stream",
     "text": [
      "376 : ['What is the academic area of work of Viktor Bespalov?']\n",
      "377 : ['What effects does arsenic have at the minimal lethal dose of 300?']\n",
      "378 : ['Which is the SAHRA heritage site ID for University of Cape Town?']\n"
     ]
    },
    {
     "name": "stdout",
     "output_type": "stream",
     "text": [
      "379 : ['Which are the cites of Tractatus Logico-Philosophicus?']\n",
      "380 : ['what was the position held by john major and when did it end?']\n"
     ]
    },
    {
     "name": "stdout",
     "output_type": "stream",
     "text": [
      "381 : ['How many active ingredients are in lidocaine?']\n",
      "382 : ['What position does David Lloyd George hold?']\n",
      "383 : ['mike krzyzewski name']\n",
      "384 : ['What is the service branch  by Julius and Ethel Rosenberg, which has subsidiary entities including Arlington National Cemetery?']\n",
      "385 : ['Where and what did Katherine Dunham study?']\n"
     ]
    },
    {
     "name": "stdout",
     "output_type": "stream",
     "text": [
      "386 : ['What type of clothing do the characters in The Silent Stars Go By wear?']\n",
      "387 : ['What is the bibliography of the  PhD advisor to Karl Herzfeld?']\n",
      "388 : ['Which  anatomical location of place built of zygote ?']\n"
     ]
    },
    {
     "name": "stdout",
     "output_type": "stream",
     "text": [
      "389 : ['Is a black hole the opposite of a stellar atmosphere?']\n",
      "390 : ['who  is the city for capital of wales?']\n",
      "391 : ['What is Anthony Vivaldis CPDL ID?']\n"
     ]
    },
    {
     "name": "stdout",
     "output_type": "stream",
     "text": [
      "392 : ['What is the country of citizenship and the religion of Elizabeth_Smart ?']\n",
      "393 : ['Which is FIFA player ID for Stanislav Cherchesov?']\n",
      "394 : ['What head coach is the New York Yankees named after?']\n"
     ]
    },
    {
     "name": "stdout",
     "output_type": "stream",
     "text": [
      "395 : ['Who is C. V. Ramans doctor']\n"
     ]
    },
    {
     "name": "stdout",
     "output_type": "stream",
     "text": [
      "396 : ['When did the Three Kingdoms period end in Korea?']\n"
     ]
    },
    {
     "name": "stdout",
     "output_type": "stream",
     "text": [
      "397 : ['What is the {product} of {papermaking} which is {made of} {bleach} called?']\n",
      "398 : ['What has the Pokedex number 36 and follows Pikachu?']\n",
      "399 : ['Who was the person with Chris Rock when he was awarded the Lunt-Fontanne Award for Ensemble Excellence?']\n"
     ]
    },
    {
     "name": "stdout",
     "output_type": "stream",
     "text": [
      "400 : ['What is the Malayalam alphabet?']\n"
     ]
    },
    {
     "name": "stdout",
     "output_type": "stream",
     "text": [
      "401 : ['Where was Augustus II the Strong buried?']\n",
      "402 : ['Name a Luther city that contain the word worms  in its name']\n",
      "403 : ['Name the womens association football team who play the least in tournaments.']\n"
     ]
    },
    {
     "name": "stdout",
     "output_type": "stream",
     "text": [
      "404 : ['Which is the GCatholic church ID of Archbasilica of St. John Lateran?']\n",
      "405 : ['What is the CPU with the greatest charge?']\n",
      "406 : ['Tell me the city which is enclaved within Montreal.']\n"
     ]
    },
    {
     "name": "stdout",
     "output_type": "stream",
     "text": [
      "407 : ['What portrait has the Woman Drinking Wine wearing a pendant?']\n"
     ]
    },
    {
     "name": "stdout",
     "output_type": "stream",
     "text": [
      "408 : ['Matthias Sindelar who has number of points/goals/set scored as 26.0 is a member of which sports team ?']\n",
      "409 : ['Where is the name of the continent of the mountain belt in Mount Caywood?']\n"
     ]
    },
    {
     "name": "stdout",
     "output_type": "stream",
     "text": [
      "410 : ['To whom did Gerard Reve got married and when did it end?']\n",
      "411 : ['Who is {followed by} and {follows} of {{Guy of Lusignan} has {noble title} as {King of Jerusalem}}']\n"
     ]
    },
    {
     "name": "stdout",
     "output_type": "stream",
     "text": [
      "412 : ['Which is Greek nymph which was the partner of Apollo?']\n",
      "413 : ['What award did Edward C. Prescott receive on 1-1-2004?']\n",
      "414 : ['What position did William Carmichael replace John Jay in?']\n"
     ]
    },
    {
     "name": "stdout",
     "output_type": "stream",
     "text": [
      "415 : ['What book series did the author Dante Alighieri write?']\n",
      "416 : ['Which programming language did Dennis M. Ritchie create?']\n",
      "417 : ['Who is {tenant} of {Windsor Castle}, that has {employment} as {postage stamp designer} ?']\n",
      "418 : ['Did Francis Ford Coppola have notable works of The Godfather and The Godfather Part III?']\n"
     ]
    },
    {
     "name": "stdout",
     "output_type": "stream",
     "text": [
      "419 : ['Which is the Commons gallery for Georges Seurat?']\n",
      "420 : ['Name an unity of measure used for temperature that starts with letter P']\n",
      "421 : ['Which is the GeneReviews ID for Alzheimers disease?']\n",
      "422 : ['What is the interaction of antiparticle symmetric correspondence with Q48460 521.1?']\n",
      "423 : ['What is native language for Vincent Auriol ?']\n"
     ]
    },
    {
     "name": "stdout",
     "output_type": "stream",
     "text": [
      "424 : ['Which is the Basketball-Reference.com NBA player ID of Hakeem Olajuwon?']\n",
      "425 : ['Who is the viceroy of Tasmania?']\n"
     ]
    },
    {
     "name": "stdout",
     "output_type": "stream",
     "text": [
      "426 : ['Is it true that the maximum wavelength of sensitivity of Submilimeter Array is greater than 2.004?']\n"
     ]
    },
    {
     "name": "stdout",
     "output_type": "stream",
     "text": [
      "427 : ['What category of people are in Odoacer']\n"
     ]
    },
    {
     "name": "stdout",
     "output_type": "stream",
     "text": [
      "428 : ['When did Sarah Bernhardt and Jacques Damala split up?']\n",
      "429 : ['Is it true that the semi-major axis of 1627 Ivar is greater than 2.2361778?']\n",
      "430 : ['What are the fictional detective which start with the letter s']\n"
     ]
    },
    {
     "name": "stdout",
     "output_type": "stream",
     "text": [
      "431 : ['How do you pronounce coffee in the Georgian language?']\n"
     ]
    },
    {
     "name": "stdout",
     "output_type": "stream",
     "text": [
      "432 : ['What is at the Kolyma River at the coordinates 161.364?']\n"
     ]
    },
    {
     "name": "stdout",
     "output_type": "stream",
     "text": [
      "433 : ['Where in Père Lachaise Cemetery is Jean-François Champollion buried?']\n",
      "434 : ['What domain has the aspect of bodhisattva?']\n"
     ]
    },
    {
     "name": "stdout",
     "output_type": "stream",
     "text": [
      "435 : ['What is a nut that starts with the letter n.']\n",
      "436 : ['Name a memer of the Oracle Corporation']\n"
     ]
    },
    {
     "name": "stdout",
     "output_type": "stream",
     "text": [
      "437 : ['When did Artem Sergeev, adopted son of Joseph Stalin, die?']\n",
      "438 : ['WHICH IS THE ZUCKERART THAT CONTAINS WITH THE WORD SYRUP IN THER NAME']\n",
      "439 : ['When did Roman Abramovich marry Irina Abramovich?']\n",
      "440 : ['Roger Milla was a member of which sports teams and how many matches did he play?']\n"
     ]
    },
    {
     "name": "stdout",
     "output_type": "stream",
     "text": [
      "441 : ['How many input methods are on a computer keyboard?']\n",
      "442 : ['Cholera affects which taxon?']\n"
     ]
    },
    {
     "name": "stdout",
     "output_type": "stream",
     "text": [
      "443 : ['What are the beliefs of the Chinese Communist Partys Chair, Hu Jintao?']\n",
      "444 : ['When did Prince Philip, Duke of Edinburgh use the Arms of Philip Mountbatten (1947-1949) as his coat of arm?']\n"
     ]
    },
    {
     "name": "stdout",
     "output_type": "stream",
     "text": [
      "445 : ['Tell me biogeochemical cycle whose name has the word cycle in it.']\n",
      "446 : ['What are the type of food or dish that contains the word torta in their name']\n",
      "447 : ['Is Azcapotzalco in the Mexico City administrative territory?']\n"
     ]
    },
    {
     "name": "stdout",
     "output_type": "stream",
     "text": [
      "448 : ['What is the estimation rate of Slovakia fertility?']\n"
     ]
    },
    {
     "name": "stdout",
     "output_type": "stream",
     "text": [
      "449 : ['tell me demigod of Greek mythology wears hide  starts with h']\n",
      "450 : ['What happened to the SS Naronic?']\n"
     ]
    },
    {
     "name": "stdout",
     "output_type": "stream",
     "text": [
      "451 : ['Was Hank WIlliams a rockabilly and honky-tonk musician?']\n",
      "452 : ['What is the birth city of Kirsten Stewart, with the county seat of Los Angeles County?']\n"
     ]
    },
    {
     "name": "stdout",
     "output_type": "stream",
     "text": [
      "453 : ['Which is dantai code for Kyōto Prefecture?']\n",
      "454 : ['What does Kelly Clarkson do and where is she a citizen?']\n"
     ]
    },
    {
     "name": "stdout",
     "output_type": "stream",
     "text": [
      "455 : ['Is Schutzstaffels subsidiary Reich Main Security Office and 21st Waffen Mountain division of the SS Skanderbeg?']\n",
      "456 : ['where is the headquartes of  formation of google located?']\n"
     ]
    },
    {
     "name": "stdout",
     "output_type": "stream",
     "text": [
      "457 : ['which  is working of   film producer of My Blue Heaven ?']\n",
      "458 : ['Is it true that The X-Files featured George Murdock?']\n",
      "459 : ['Who is {nomination received} of {George Marshall}, which has {champion} is {Mikhail Gorbachev} ?']\n"
     ]
    },
    {
     "name": "stdout",
     "output_type": "stream",
     "text": [
      "460 : ['Name a musical composition by Dionysus']\n"
     ]
    },
    {
     "name": "stdout",
     "output_type": "stream",
     "text": [
      "461 : ['What are the speakers of the working languages of the Kingdom of England?']\n",
      "462 : ['When is the date and birth of Joseph Stalins child with Svetlana Alliluyeva?']\n",
      "463 : ['What is the temperature of toxaphene that has a density of 1.65?']\n",
      "464 : ['What is {chairwoman} of {working for} of {Vannevar Bush} ?']\n"
     ]
    },
    {
     "name": "stdout",
     "output_type": "stream",
     "text": [
      "465 : ['tell me audio and video interfaces and connectors are name has the word ypbpr in it']\n",
      "466 : ['Tell me {intergovernmental organization}  whose name  starts with s']\n",
      "467 : ['Who is the  {human} for {doctoral advisor} of {Claude Shannon}']\n",
      "468 : ['Which are the grants academic degrees for Master of Business Administration?']\n"
     ]
    },
    {
     "name": "stdout",
     "output_type": "stream",
     "text": [
      "469 : ['What topic of the history of Estonia has the inflation rate of consumer price index of 1.2?']\n"
     ]
    },
    {
     "name": "stdout",
     "output_type": "stream",
     "text": [
      "470 : ['Is it true that the target interest rate of Central Bank of Azerbaijan equals to 5.25?']\n",
      "471 : ['When did award received of Alice Munro and followed by?']\n"
     ]
    },
    {
     "name": "stdout",
     "output_type": "stream",
     "text": [
      "472 : ['TELL ME TRADITIONAL FAIRY TALE WHOSE NAME HAS THE WORD SNOW IN IT.']\n",
      "473 : ['What is { solubility } of { nitrous oxide } { solvent } is { water }?']\n"
     ]
    },
    {
     "name": "stdout",
     "output_type": "stream",
     "text": [
      "474 : ['Edward Livingston replaced Martin Van Buren in what postion?']\n",
      "475 : ['What is the Uppslagsverket Finland ID for kickboxing?']\n"
     ]
    },
    {
     "name": "stdout",
     "output_type": "stream",
     "text": [
      "476 : ['What are the municipality of the Netherlands  which start with the letter s']\n",
      "477 : ['Which is Xeno-canto species ID for Meleagris gallopavo?']\n"
     ]
    },
    {
     "name": "stdout",
     "output_type": "stream",
     "text": [
      "478 : ['What business, product, or material does Facebook offer?']\n",
      "479 : ['Tell me kinship whose name has the word uncle in it.']\n",
      "480 : ['When did Veronica Lake and Andre dé Toth end their relationship?']\n"
     ]
    },
    {
     "name": "stdout",
     "output_type": "stream",
     "text": [
      "481 : ['Who was the goddess Artemis?']\n"
     ]
    },
    {
     "name": "stdout",
     "output_type": "stream",
     "text": [
      "482 : ['When did the marriage between Marilyn Monroe and James Dougherty end?']\n"
     ]
    },
    {
     "name": "stdout",
     "output_type": "stream",
     "text": [
      "483 : ['What is the CDB Chemical ID for isopropyl alcohol?']\n",
      "484 : ['What is the cardinality of the complex logarithm input set?']\n"
     ]
    },
    {
     "name": "stdout",
     "output_type": "stream",
     "text": [
      "485 : ['How many file formats are done on Portable Document Format?']\n",
      "486 : ['which organization name starts with z']\n"
     ]
    },
    {
     "name": "stdout",
     "output_type": "stream",
     "text": [
      "487 : ['what was the country of Tyumen in 1991-12-27']\n",
      "488 : ['which type of quantum particle has highest gyromagnetic ratio?']\n"
     ]
    },
    {
     "name": "stdout",
     "output_type": "stream",
     "text": [
      "489 : ['What position did Martin V hold that was eventually replaced by Eugene IV?']\n",
      "490 : ['Which is the historic era in Epaminondas having completed in 600-1-1?']\n",
      "491 : ['What district of Liguria originated in 2015?']\n",
      "492 : ['Who is the presenter of The Tonight Show?']\n"
     ]
    },
    {
     "name": "stdout",
     "output_type": "stream",
     "text": [
      "493 : ['Where {faith} {has influence} on {Madonna} ?']\n",
      "494 : ['What is SIC code of forestry ?']\n",
      "495 : ['What is the secular state of the MIN(PPP GDP per capita) whose diplomatic relation is with India?']\n"
     ]
    },
    {
     "name": "stdout",
     "output_type": "stream",
     "text": [
      "496 : ['What is name of John Foster Dulles Latin script that has alphabet?']\n",
      "497 : ['What are the stars and stripes from the star spangled banner?']\n"
     ]
    },
    {
     "name": "stdout",
     "output_type": "stream",
     "text": [
      "498 : ['Which is the candidature that Gustav Winckler took part of?']\n",
      "499 : ['Who was Jonas Salks doctoral student?']\n"
     ]
    },
    {
     "name": "stdout",
     "output_type": "stream",
     "text": [
      "500 : ['How much was the population of Normandy in 2005?']\n"
     ]
    },
    {
     "name": "stdout",
     "output_type": "stream",
     "text": [
      "501 : ['Is the beats per minute of the Colorless Aura equal 50?']\n",
      "502 : ['What family of vehicles starts with the letter v?']\n"
     ]
    },
    {
     "name": "stdout",
     "output_type": "stream",
     "text": [
      "503 : ['Who is the {aircraft fleet} for {uses} of {airplane}']\n"
     ]
    },
    {
     "name": "stdout",
     "output_type": "stream",
     "text": [
      "504 : ['Who was the manager/director of the Metropolitan Museum of Art starting in 1910?']\n",
      "505 : ['Tell me the famine which starts with the letter t?']\n",
      "506 : ['Who is the general manager of the Chicago Cubs?']\n"
     ]
    },
    {
     "name": "stdout",
     "output_type": "stream",
     "text": [
      "507 : ['When was Phonenice located in the administrative territorial entity for Damascus?']\n",
      "508 : ['WHICH IS THE ASSOCIATION OF FOOTCLUB THAT STARTS WITH W']\n",
      "509 : ['What is the genetic association that can be found in species with post-traumatic stress disorder?']\n"
     ]
    },
    {
     "name": "stdout",
     "output_type": "stream",
     "text": [
      "510 : ['How many carry things by road?']\n",
      "511 : ['what are the painting which start with the letter y']\n",
      "512 : ['When does the head of government of Seattle starts its work period?']\n",
      "513 : ['When was the population of Dalian 4480000?']\n"
     ]
    },
    {
     "name": "stdout",
     "output_type": "stream",
     "text": [
      "514 : ['Shen Bao has a partner city of Rotterdam, what is the main location of the publication?']\n",
      "515 : ['What is the stainless steel with the highest operating temperature whose has part is nitrogen?']\n",
      "516 : ['which was the series ordinal  for ether which has  ionization energy as 9.53?']\n",
      "517 : ['What is the official language of lives in Pasi Siltakorpi?']\n"
     ]
    },
    {
     "name": "stdout",
     "output_type": "stream",
     "text": [
      "518 : ['Who was nominated for an Academy Award for  Best Sound Mixing in Gladiator?']\n",
      "519 : ['Does the SAF 2507 have a pitting resistance equivalent number that is greater than  45.24?']\n"
     ]
    },
    {
     "name": "stdout",
     "output_type": "stream",
     "text": [
      "520 : ['Was Rupert Grints occupation a actor and child actor?']\n",
      "521 : ['Tell me literary genre whose name has the word vita in it']\n",
      "522 : ['WHICH IS THE CATEGORY FOR RECIPIENTS OF THEIS WARD FOR HONOR']\n"
     ]
    },
    {
     "name": "stdout",
     "output_type": "stream",
     "text": [
      "523 : ['Which is the Kinopoisk person ID for Stanley Donen?']\n"
     ]
    },
    {
     "name": "stdout",
     "output_type": "stream",
     "text": [
      "524 : ['Who is Johnny Cashs stepparent?']\n"
     ]
    },
    {
     "name": "stdout",
     "output_type": "stream",
     "text": [
      "525 : ['What in the code for INS?']\n"
     ]
    },
    {
     "name": "stdout",
     "output_type": "stream",
     "text": [
      "526 : ['What is the name of the theatrical character of Hamlet?']\n",
      "527 : ['Is Ridley Scott the child of Luke Scott and Jordan Scott?']\n"
     ]
    },
    {
     "name": "stdout",
     "output_type": "stream",
     "text": [
      "528 : ['What city became a twin city of Klagenfurt in 1990?']\n",
      "529 : ['Who is the Head of State  of the Austrian Empire?']\n",
      "530 : ['Is the power consumed by the World Space Observatory more than 1200?']\n"
     ]
    },
    {
     "name": "stdout",
     "output_type": "stream",
     "text": [
      "531 : ['Which is the Darts Database player ID of Phil Taylor?']\n"
     ]
    },
    {
     "name": "stdout",
     "output_type": "stream",
     "text": [
      "532 : ['Who plays the current role of the title character in Deadpool?']\n",
      "533 : ['What was George Washingtons military rank between 1774 and 1796?']\n"
     ]
    },
    {
     "name": "stdout",
     "output_type": "stream",
     "text": [
      "534 : ['Which is the birth place of Malcolm Allison, that is bordered by Purfleet?']\n"
     ]
    },
    {
     "name": "stdout",
     "output_type": "stream",
     "text": [
      "535 : ['What is the genus with the highest chromosome count in the taxon rank?']\n",
      "536 : ['What sports team did Kapil Dev stopped being a member of in 1992?']\n",
      "537 : ['When is the location born in Jamshid Mashayekhi which is a partner town of Havana?']\n",
      "538 : ['WHO DIRECTS THE POLITICAL OFFICE HELD IN EDUARDO LOPEZ DORIGA']\n"
     ]
    },
    {
     "name": "stdout",
     "output_type": "stream",
     "text": [
      "539 : ['What Academy Award subject is Mercedes Ruehl nominated for as Best Supporting Actress?']\n"
     ]
    },
    {
     "name": "stdout",
     "output_type": "stream",
     "text": [
      "540 : ['What was F. Murray Abraham nominated for in the 57th academy awards?']\n"
     ]
    },
    {
     "name": "stdout",
     "output_type": "stream",
     "text": [
      "541 : ['Who gave the{route of administration} of {consequence} of {cyclohexane} ?']\n",
      "542 : ['Name a disease that starts with the letter Y']\n"
     ]
    },
    {
     "name": "stdout",
     "output_type": "stream",
     "text": [
      "543 : ['What was the {award won} by {Cream}, that was {introduced} in {1983-0-0}?']\n"
     ]
    },
    {
     "name": "stdout",
     "output_type": "stream",
     "text": [
      "544 : ['What was the price of gold in 2018-7-26?']\n",
      "545 : ['Was Hugh_Grant relative Rick Cosnett?']\n",
      "546 : ['What are the national sports team  which start with the letter t']\n"
     ]
    },
    {
     "name": "stdout",
     "output_type": "stream",
     "text": [
      "547 : ['What is Angela Merkels abgeordnetenwatch.de politician ID?']\n"
     ]
    },
    {
     "name": "stdout",
     "output_type": "stream",
     "text": [
      "548 : ['Where did Pierre Curie live, which has the timezone of UTC-02:00?']\n",
      "549 : ['who county seat for  died in of Innokenty smoktunovsky ?']\n",
      "550 : ['what is the using of the remake of smoothsort?']\n",
      "551 : ['Which equation do I use to measure horsepower ?']\n"
     ]
    },
    {
     "name": "stdout",
     "output_type": "stream",
     "text": [
      "552 : ['What ceremony takes place in Leicester?']\n"
     ]
    },
    {
     "name": "stdout",
     "output_type": "stream",
     "text": [
      "553 : ['Charles the Bald position is what and he got his position after which person?']\n",
      "554 : ['Is normal distribution named after Bernhard Riemann?']\n"
     ]
    },
    {
     "name": "stdout",
     "output_type": "stream",
     "text": [
      "555 : ['Which is the liberal arts college that is affiliated with Columbia University?']\n",
      "556 : ['When did Tony Walton become the spouse of Julie Andrews?']\n"
     ]
    },
    {
     "name": "stdout",
     "output_type": "stream",
     "text": [
      "557 : ['What is the location in New York City for Edward Hoppers place death?']\n",
      "558 : ['Is Vidhan Sabha executive body of Assam?']\n"
     ]
    },
    {
     "name": "stdout",
     "output_type": "stream",
     "text": [
      "559 : ['Which is stated in Tripitaka?']\n",
      "560 : ['What are the regions available on the coast of Lower Saxony?']\n"
     ]
    },
    {
     "name": "stdout",
     "output_type": "stream",
     "text": [
      "561 : ['What was Laurence Olivier nominated for at the 12th Academy Awards?']\n",
      "562 : ['How many things are designed for Doom?']\n",
      "563 : ['What award did Marie Curie receive in 1911?']\n"
     ]
    },
    {
     "name": "stdout",
     "output_type": "stream",
     "text": [
      "564 : ['What is in the administrative region of Fukuoka Prefecture, whose total fertility rate is 1.39?']\n",
      "565 : ['What is on geographical feature of Greater Antilles whose continent is North America ?']\n",
      "566 : ['What is the parent company of those who work at Roberta Bondar?']\n",
      "567 : ['What is the local dialling code of the Dallas Morning News?']\n"
     ]
    },
    {
     "name": "stdout",
     "output_type": "stream",
     "text": [
      "568 : ['When did Dan Rowan receive his star on the Hollywood Walk of Fame']\n"
     ]
    },
    {
     "name": "stdout",
     "output_type": "stream",
     "text": [
      "569 : ['Which protein interacts with oxytocin?']\n",
      "570 : ['Which new conference did Donald Trump participate in?']\n"
     ]
    },
    {
     "name": "stdout",
     "output_type": "stream",
     "text": [
      "571 : ['Tell me the brain region that contains the word thalamus in their name']\n",
      "572 : ['What children did the brothers and sisters of Emmanuel Philibert, Prince of Carignano, have?']\n",
      "573 : ['Who is born at Charlotte Dujardin, which has a zip code of E?']\n",
      "574 : ['What is the  Mississippi Sports Hall of Fame ID  for Brett Favre ?']\n",
      "575 : ['What is {religious affiliation} of {ethnicity} {Sirhan Sirhan} ?']\n",
      "576 : ['What award was received by Valeri Polyakov on April 4, 2011?']\n"
     ]
    },
    {
     "name": "stdout",
     "output_type": "stream",
     "text": [
      "577 : ['Is the dynamic viscosity of the acetic acid greater than 0.6288?']\n",
      "578 : ['What is the language official of World Baseball Softball Confederation whose typology is nominative–accusative language?']\n"
     ]
    },
    {
     "name": "stdout",
     "output_type": "stream",
     "text": [
      "579 : ['What theory did Grigori Perelman prove?']\n"
     ]
    },
    {
     "name": "stdout",
     "output_type": "stream",
     "text": [
      "580 : ['What number follows -2?']\n"
     ]
    },
    {
     "name": "stdout",
     "output_type": "stream",
     "text": [
      "581 : ['What is the ship with the lowest payload mass whose manufacturer is ERROR1?']\n",
      "582 : ['When was Vasily Chuikov awarded the Order of Lenin?']\n"
     ]
    },
    {
     "name": "stdout",
     "output_type": "stream",
     "text": [
      "583 : ['What is { safety classification and labeling } of { magnesium sulfate anhydrous } that is { NFPA Fire } is { 0 }?']\n"
     ]
    },
    {
     "name": "stdout",
     "output_type": "stream",
     "text": [
      "584 : ['Where Ruth Bernhard stoped working on 1953?']\n",
      "585 : ['What is the significant role played by Giant Magellan Telescope in the field of Construction?']\n"
     ]
    },
    {
     "name": "stdout",
     "output_type": "stream",
     "text": [
      "586 : ['How many medical conditions are treated by diazepam?']\n",
      "587 : ['In what field of work does José Luis Rodríguez Zapatero work in?']\n"
     ]
    },
    {
     "name": "stdout",
     "output_type": "stream",
     "text": [
      "588 : ['What is the official language of Alice springs-Soverign state?']\n",
      "589 : ['What are the comic strip which start with the letter z']\n"
     ]
    },
    {
     "name": "stdout",
     "output_type": "stream",
     "text": [
      "590 : ['Was the thickness of the Bronze Age equal to .615?']\n",
      "591 : ['Who was married to Lynn Margulis in June of 1957?']\n"
     ]
    },
    {
     "name": "stdout",
     "output_type": "stream",
     "text": [
      "592 : ['Which is the LTI Korea Library ID for Choe Chiwon?']\n",
      "593 : ['What was the population of Lucknow in 2011?']\n"
     ]
    },
    {
     "name": "stdout",
     "output_type": "stream",
     "text": [
      "594 : ['Which is the Crossref funder ID of the National Museum of American History?']\n",
      "595 : ['What is EDIT16 catalogue author ID for Leo X ?']\n",
      "596 : ['Which  is farthest north of place held by Balkans Campaign?']\n"
     ]
    },
    {
     "name": "stdout",
     "output_type": "stream",
     "text": [
      "597 : ['Which career did the character Buffy the Vampire Slayer choose?']\n",
      "598 : ['When did Lorin Maazel received the Grammy Award for Best Opera Recording?']\n"
     ]
    },
    {
     "name": "stdout",
     "output_type": "stream",
     "text": [
      "599 : ['WHO THE DUBBER OF RUKH FROM WORK?']\n",
      "600 : ['Who was nominated for the Academy Award for Best Original Dramatic or Comedy Score for the film Casablanca?']\n",
      "601 : ['Which is Parks & Gardens UK Record ID for National Maritime Museum?']\n"
     ]
    },
    {
     "name": "stdout",
     "output_type": "stream",
     "text": [
      "602 : ['Tell me the airline that starts with the letter p']\n"
     ]
    },
    {
     "name": "stdout",
     "output_type": "stream",
     "text": [
      "603 : ['Ignatius of Loyola belongs to which Catholic order?']\n",
      "604 : ['Tell me fictional detective whose name has the word sam in it.']\n"
     ]
    },
    {
     "name": "stdout",
     "output_type": "stream",
     "text": [
      "605 : ['Who practices and researches Economics?']\n",
      "606 : ['What work did Jacques Brel publish in 1963?']\n",
      "607 : ['What do you call the incarnation of Jesus Christ?']\n"
     ]
    },
    {
     "name": "stdout",
     "output_type": "stream",
     "text": [
      "608 : ['How many team participants are there in the {Juventus F.C.} ?']\n"
     ]
    },
    {
     "name": "stdout",
     "output_type": "stream",
     "text": [
      "609 : ['What is the text input for the Aruba flag emoji?']\n",
      "610 : ['What is field of exercise for affiliated with Terje Langli ?']\n"
     ]
    },
    {
     "name": "stdout",
     "output_type": "stream",
     "text": [
      "611 : ['Do the rural cities of Para have 13155 inhabitants?']\n",
      "612 : ['What are the ancient civilization which start with the letter s']\n"
     ]
    },
    {
     "name": "stdout",
     "output_type": "stream",
     "text": [
      "613 : ['Is the kinematic viscosity of propylene glycol equal to 0.054?']\n",
      "614 : ['Who is the person for the military branch of KGB?']\n",
      "615 : ['What what is gas giant child astronomical body by Enceladus and also which starts with letter s']\n",
      "616 : ['what is mankinds collection of venice']\n"
     ]
    },
    {
     "name": "stdout",
     "output_type": "stream",
     "text": [
      "617 : ['Is the age of majority of the USA equal to t1410874016?']\n"
     ]
    },
    {
     "name": "stdout",
     "output_type": "stream",
     "text": [
      "618 : ['What is the method of determining eating disorders that has the genetic association of RASGRF2?']\n",
      "619 : ['What is Cyworld ID for Park Geun-hye ?']\n"
     ]
    },
    {
     "name": "stdout",
     "output_type": "stream",
     "text": [
      "620 : ['When was the Arab League founded that shares a border with Ethiopia?']\n",
      "621 : ['Is the end time for the spouse of Larry King 1967-0-0?']\n",
      "622 : ['Who was the inventor of the B-tree, who was awarded the Officers Cross of the Order of Merit of the Federal Republic of Germany?']\n"
     ]
    },
    {
     "name": "stdout",
     "output_type": "stream",
     "text": [
      "623 : ['Which is the public holiday that is a day in year for periodic occurrence of 21 Tishrei and contains the word sukkot in its name?']\n"
     ]
    },
    {
     "name": "stdout",
     "output_type": "stream",
     "text": [
      "624 : ['What is Jacinda Arderns position ?']\n",
      "625 : ['What was Ray Rennahan from Gone with the Wind nominated for?']\n",
      "626 : ['Which is the ISBN-13 for Watership Down?']\n",
      "627 : ['What does it mean if you are convicted of desertion?']\n"
     ]
    },
    {
     "name": "stdout",
     "output_type": "stream",
     "text": [
      "628 : ['The Moon is found in which subtopic of the geological history of the Earth that has moon in the name?']\n"
     ]
    },
    {
     "name": "stdout",
     "output_type": "stream",
     "text": [
      "629 : ['Where was Grace Hopper educated at in 1930?']\n",
      "630 : ['What award was John Williams nominated for in Close Encounters of the Third Kind?']\n"
     ]
    },
    {
     "name": "stdout",
     "output_type": "stream",
     "text": [
      "631 : ['What is the SIRUTA code of Constanta?']\n",
      "632 : ['What is JewAge person ID for Ludwig von Mises ?']\n"
     ]
    },
    {
     "name": "stdout",
     "output_type": "stream",
     "text": [
      "633 : ['Charles the Bald position is what and he got his position after which person?']\n",
      "634 : ['Where was the plot of North by Northwest, filmed in California, set?']\n"
     ]
    },
    {
     "name": "stdout",
     "output_type": "stream",
     "text": [
      "635 : ['What what is separation process discoverer or inventor Zosimos of Panopolis  and which that starts with d']\n",
      "636 : ['What award was Maria Montessori nominated for on January 1, 1950?']\n"
     ]
    },
    {
     "name": "stdout",
     "output_type": "stream",
     "text": [
      "637 : ['How can you tell migraines have PRDM16?']\n"
     ]
    },
    {
     "name": "stdout",
     "output_type": "stream",
     "text": [
      "638 : ['Where is the birth place of John Walter, that has a general population of 8787892 ?']\n",
      "639 : ['What is the name of a novel series that starts with the letter t?']\n",
      "640 : ['Does the port of the Multicast File transfer protocol have less than 6482.2 capacity?']\n"
     ]
    },
    {
     "name": "stdout",
     "output_type": "stream",
     "text": [
      "641 : ['What was Leonardo Bonaccis date of death in the year 1240?']\n",
      "642 : ['When did Ludwig Wittgenstein graduate as a Doctor of Philosophy?']\n",
      "643 : ['Who first described the element osmium and was born in Selby?']\n",
      "644 : ['Who is {executive authority} of {play} {snowboard} ?']\n"
     ]
    },
    {
     "name": "stdout",
     "output_type": "stream",
     "text": [
      "645 : ['Name the subtopic of the tagline Free, Sovereign, and Independent, a history of Honduras.']\n",
      "646 : ['Followers']\n"
     ]
    },
    {
     "name": "stdout",
     "output_type": "stream",
     "text": [
      "647 : ['Is the watershed area of the rio de Santa Maria Zobenigo greater than 0.00083176?']\n"
     ]
    },
    {
     "name": "stdout",
     "output_type": "stream",
     "text": [
      "648 : ['What is the political party in Catalonia with min number of representatives in an organization whose political alignment is left - wing?']\n",
      "649 : ['What is graduated from Wendy Wasserstein located at street address of 160 Convent Ave, New York, NY, 10031?']\n"
     ]
    },
    {
     "name": "stdout",
     "output_type": "stream",
     "text": [
      "650 : ['Who is the chairperson of the Communist Party of China and who are his followers?']\n"
     ]
    },
    {
     "name": "stdout",
     "output_type": "stream",
     "text": [
      "651652 : ['Who is the owner of Hon Hai Precision Industry?']\n",
      " : ['Which is a ports competition competed at the Olympic games?']\n",
      "653 : ['What is the National Park Foundation ID for the Rocky Mountain National Park?']\n"
     ]
    },
    {
     "name": "stdout",
     "output_type": "stream",
     "text": [
      "654 : ['Where did Christopher Wren major in Latin?']\n"
     ]
    },
    {
     "name": "stdout",
     "output_type": "stream",
     "text": [
      "655 : ['What is {temperature} {on river} of {Iberian Peninsula} ?']\n",
      "656 : ['Is the Z scale scale 1:220?']\n"
     ]
    },
    {
     "name": "stdout",
     "output_type": "stream",
     "text": [
      "657 : ['When did Riga become the capital of Latvia?']\n"
     ]
    },
    {
     "name": "stdout",
     "output_type": "stream",
     "text": [
      "658 : ['What political party did Chen Shui-bian belong to in 1987-02-28?']\n"
     ]
    },
    {
     "name": "stdout",
     "output_type": "stream",
     "text": [
      "659 : ['What electoral district does Member of the New Zealand House of Representatives Jacinda Ardern represent?']\n",
      "660 : ['Are the assets under management of the BlackRock less than 8146800000.0?']\n",
      "661 : ['Does the height of the BMW i8 equal 1?']\n"
     ]
    },
    {
     "name": "stdout",
     "output_type": "stream",
     "text": [
      "662 : ['Who was the head of government in Palestine on June 2, 2014?']\n",
      "663 : ['What was the category for which Shirley Booth received the Tony Award for Best Featured Actress in a Play?']\n"
     ]
    },
    {
     "name": "stdout",
     "output_type": "stream",
     "text": [
      "664 : ['What is budget for Grand Theft Auto V?']\n",
      "665 : ['What Japanese TV series has the most number of seasons and was originally aired in Japanese?']\n",
      "666 : ['What is the base of a cube?']\n"
     ]
    },
    {
     "name": "stdout",
     "output_type": "stream",
     "text": [
      "667 : ['What is the fate of Joaquin Archivaldo Guzman, who was first described as El Faro?']\n"
     ]
    },
    {
     "name": "stdout",
     "output_type": "stream",
     "text": [
      "668 : ['What are the ring system  which start with the letter r']\n",
      "669 : ['Where in the administrative territorial entity of Umbria was Monica Bellucci born?']\n",
      "670 : ['Which is the parity of Higgs boson?']\n",
      "671 : ['What award did Gyorgy Ligeta receive on 2000-0-0?']\n"
     ]
    },
    {
     "name": "stdout",
     "output_type": "stream",
     "text": [
      "672 : ['Which is the OS grid reference for Bradford?']\n",
      "673 : ['How is the Gospel of John exemplar?']\n",
      "674 : ['Who is the PhD candidate for Niels Bohr?']\n",
      "675 : ['What is the heavy metal band whose mascot is Ediie the head that start with letter I ?']\n"
     ]
    },
    {
     "name": "stdout",
     "output_type": "stream",
     "text": [
      "676 : ['Is the conversion to SI unit of the statcoulomb greater than 2.6685128e-10?']\n",
      "677 : ['Is the operating temperature of the Nesjavellir power station 190?']\n"
     ]
    },
    {
     "name": "stdout",
     "output_type": "stream",
     "text": [
      "678 : ['When did Pedro Is child Princess Januária of Brazil die, and who was her mother?']\n",
      "679 : ['how much is maintained by Otia Prefecture?']\n"
     ]
    },
    {
     "name": "stdout",
     "output_type": "stream",
     "text": [
      "680 : ['when did Okinawa Prefecture have the Santa Cruz Department as its twinned administrative body?']\n"
     ]
    },
    {
     "name": "stdout",
     "output_type": "stream",
     "text": [
      "681 : ['What is the origin of Death Notes diplomatic relation?']\n",
      "682 : ['Is Joule the measurement for transparency and work?']\n"
     ]
    },
    {
     "name": "stdout",
     "output_type": "stream",
     "text": [
      "683 : ['Which is Japanese Baseball Hall of Fame ID for Hideo Nomo?']\n"
     ]
    },
    {
     "name": "stdout",
     "output_type": "stream",
     "text": [
      "684 : ['Which member of the Rabah Madjer sports team played 94 matches ?']\n",
      "685 : ['when was samuel beckett nominated for nobel prize in literature?']\n"
     ]
    },
    {
     "name": "stdout",
     "output_type": "stream",
     "text": [
      "686 : ['For Ryan ONeal was in nomination of Golden Globe Award for Best Actor-Motion picture Drama?']\n",
      "687 : ['Which language is used in Gibraltar that has a quality of second language?']\n",
      "688 : ['What country was started in the year 1871 in Wiesbaden?']\n",
      "689 : ['Is Paul Gascoigne a member of a sports team?']\n",
      "690 : ['Which is possessed by spirit by spirt?']\n"
     ]
    },
    {
     "name": "stdout",
     "output_type": "stream",
     "text": [
      "691 : ['how many activated neurotransmitters are in y-aminobutyric acid?']\n"
     ]
    },
    {
     "name": "stdout",
     "output_type": "stream",
     "text": [
      "692 : ['Which territory did the classical antiquity cover?']\n",
      "693 : ['Who is the manufacturer and user of solar energy?']\n"
     ]
    },
    {
     "name": "stdout",
     "output_type": "stream",
     "text": [
      "694 : ['David Letterman is producer?']\n",
      "695 : ['DOES THE LITERATE POPULATION OF DHARAMPUR EQUALS 0']\n",
      "696 : ['What non-metropolitan county shares a border with Hampshire?']\n"
     ]
    },
    {
     "name": "stdout",
     "output_type": "stream",
     "text": [
      "697 : ['Who are the members of BP and their chairperson?']\n"
     ]
    },
    {
     "name": "stdout",
     "output_type": "stream",
     "text": [
      "698 : ['When did Saint Vincent and the Grenadines have a population of 108150?']\n",
      "699 : ['For which sports team does Thierry Henry play and how many matches has he played?']\n"
     ]
    },
    {
     "name": "stdout",
     "output_type": "stream",
     "text": [
      "700 : ['What are the coachwork type which start with the letter van']\n",
      "701 : ['WHAT Australia and Oceania ?']\n"
     ]
    },
    {
     "name": "stdout",
     "output_type": "stream",
     "text": [
      "702 : ['Tell me physical quantity whose name has the word work in it.']\n",
      "703 : ['What is the SpeedSkatingNews.info speed skater ID for Eric Heiden?']\n",
      "704 : ['Is it true that the mothers mothers mother family relationship degree equal to 3?']\n"
     ]
    },
    {
     "name": "stdout",
     "output_type": "stream",
     "text": [
      "705 : ['When did New Hampshire have a population of 491524?']\n",
      "706 : ['What were the last words of Jesus Christ?']\n"
     ]
    },
    {
     "name": "stdout",
     "output_type": "stream",
     "text": [
      "707 : ['Who has surname as Mireille Mathieu and similar to Matias?']\n",
      "708 : ['Which French killer had the most victims ?']\n"
     ]
    },
    {
     "name": "stdout",
     "output_type": "stream",
     "text": [
      "709 : ['WHICH ARE THE NUT THAT CONTAINS THE WORD NUT IN THEIR NAME']\n",
      "710 : ['Which is the poetry collection that has traditional Chinese characters as writing system?']\n",
      "711 : ['Since when was Manichaeism found in Egypt?']\n"
     ]
    },
    {
     "name": "stdout",
     "output_type": "stream",
     "text": [
      "712 : ['Tell me about spouse of Julio Iglesias and end cause?']\n",
      "713 : ['When did Nantes begin having Johanna Rolland as head of government?']\n"
     ]
    },
    {
     "name": "stdout",
     "output_type": "stream",
     "text": [
      "714 : ['Are frankenstein and frankensteins monster and elizabeth lavenza have characters?']\n",
      "715 : ['What is the 2.1 with the highest speed whose participating teams is Katusha 2016?']\n"
     ]
    },
    {
     "name": "stdout",
     "output_type": "stream",
     "text": [
      "716 : ['Who became the head of the government of Vaduz on 2017-1-0?']\n",
      "717 : ['Tell me  security agency whose name has the word state in it.']\n",
      "718 : ['Which is {position of head of government} of {service operator} {MiG-21} ?']\n"
     ]
    },
    {
     "name": "stdout",
     "output_type": "stream",
     "text": [
      "719 : ['Tell me reference model whose name has the word model in it.']\n",
      "720 : ['Who is the child of Ofelia Medinas life partner?']\n",
      "721 : ['Where and what did Hilary Mantel study?']\n"
     ]
    },
    {
     "name": "stdout",
     "output_type": "stream",
     "text": [
      "722 : ['What division does Jurandir Fatoris team play for?']\n"
     ]
    },
    {
     "name": "stdout",
     "output_type": "stream",
     "text": [
      "723 : ['Who is the human partner of Chow Yun-fat?']\n"
     ]
    },
    {
     "name": "stdout",
     "output_type": "stream",
     "text": [
      "724 : ['Was Hirohito buried in Tokyo at the Mausoleum of the First Qin Emperor?']\n",
      "725 : ['Who is the mother of Julio Iglesias and Enrique Iglesias?']\n"
     ]
    },
    {
     "name": "stdout",
     "output_type": "stream",
     "text": [
      "726 : ['Who was Bill Gatess mother?']\n",
      "727 : ['Name a brand owned by SpaceX.']\n"
     ]
    },
    {
     "name": "stdout",
     "output_type": "stream",
     "text": [
      "728 : ['Is the position angle of northwest by north equal to 391.5?']\n",
      "729 : ['Who is George W. Bushs sister that has crafted as enterpreneur?']\n",
      "730 : ['What is the military rank of the colonel?']\n"
     ]
    },
    {
     "name": "stdout",
     "output_type": "stream",
     "text": [
      "731 : ['What is the mascot for the Stanford University athletics department?']\n",
      "732 : ['whos is owner of the kiss that have members of is g20']\n",
      "733 : ['Tell me political party whose name has the word veritas in it.']\n",
      "734 : ['What are Lee Friedlanders national diplomatic relations?']\n",
      "735 : ['What treatment is Neil Diamond getting for his health issues?']\n"
     ]
    },
    {
     "name": "stdout",
     "output_type": "stream",
     "text": [
      "736 : ['what is the key incident in the provenance of Glencore?']\n"
     ]
    },
    {
     "name": "stdout",
     "output_type": "stream",
     "text": [
      "737 : ['What is the antonym of the professions field of prosecutor?']\n",
      "738 : ['Who is the child of Isabella I of Castile and when were they born?']\n"
     ]
    },
    {
     "name": "stdout",
     "output_type": "stream",
     "text": [
      "739 : ['What is the connecting line of Chulalongkorn University?']\n",
      "740 : ['What is Lysimachuss noble title and who follows?']\n",
      "741 : ['What power plant and manufacturer is responsible for the Rockwell B-1 Lancer?']\n",
      "742 : ['Which isotope of indium has the most parity?']\n",
      "743 : ['Tell me recurring sporting event whose name has the word world in it.']\n"
     ]
    },
    {
     "name": "stdout",
     "output_type": "stream",
     "text": [
      "744 : ['Freddy Krueger and Fred Krueger, is a serial killer and the main antagonist of the A Nightmare on Elm Street series. A family man on the surface, Krueger was actually the serial killer known as the Springwood Slasher. When he was caught and subsequently released on a technicality, the parents of his victims tracked him to the boiler room of the power plant he once worked at and burned him alive. Krueger was offered the chance to continue after his physical death, becoming a Dream Demon that could enter his victims dreams and kill them in the Dream World, which would thus cause their death in the physical world and absorb their souls afterwards.']\n"
     ]
    },
    {
     "name": "stdout",
     "output_type": "stream",
     "text": [
      "745 : ['What is Fawlty Towers AlloCine series ID?']\n"
     ]
    },
    {
     "name": "stdout",
     "output_type": "stream",
     "text": [
      "746 : ['Who is the contestant of Descendants of the Sun?']\n"
     ]
    },
    {
     "name": "stdout",
     "output_type": "stream",
     "text": [
      "747 : ['When did Betty White win the Daytime Emmy Award for Outstanding Game Show Host?']\n"
     ]
    },
    {
     "name": "stdout",
     "output_type": "stream",
     "text": [
      "748 : ['Which is the historical nationality for the location of Bilbao?']\n",
      "749 : ['How many members of the crew are there for John Jellicoe , 1st Earl Jellicoe?']\n",
      "750 : ['What political party does Jacinda Ardern belong to?']\n"
     ]
    },
    {
     "name": "stdout",
     "output_type": "stream",
     "text": [
      "751 : ['Who is {writer} of {bibliographic citation} of {Survey of human genes of retroviral origin: identification and transcriptome of the genes with coding capacity for complete envelope proteins} ?']\n",
      "752 : ['Can you say which national library has the smallest collection?']\n",
      "753 : ['What was in the aspect of the instruction set architecture whose painter was Gerrit Blaauw?']\n",
      "754 : ['What U.S. Government agency holds the archives of Jefferson Davis?']\n"
     ]
    },
    {
     "name": "stdout",
     "output_type": "stream",
     "text": [
      "755 : ['Tell me theorem whose name has the word theorem in it.']\n",
      "756 : ['Tom Hanks voiced which 3D film ?']\n"
     ]
    },
    {
     "name": "stdout",
     "output_type": "stream",
     "text": [
      "757758 : ['Tolyatti has what OK TMO ID?']\n",
      "759 : ['What is the owner of and the member of of Mikhail_Gorbachev ?']\n",
      " : ['Name the Yukon quest with the minimum size of team at finish whose location is braeburn lodge?']\n"
     ]
    },
    {
     "name": "stdout",
     "output_type": "stream",
     "text": [
      "760 : ['How many matches has Rinus Michels played?']\n",
      "761 : ['Tell me written work whose name has the word war in it.']\n",
      "762 : ['Tell me hole that contains the word d']\n"
     ]
    },
    {
     "name": "stdout",
     "output_type": "stream",
     "text": [
      "763 : ['What does Pinocchio appear in the form of?']\n",
      "764 : ['What represents the organization of the siblings of Louis Gigante?']\n",
      "765 : ['This sentence makes no sense.']\n",
      "766 : ['Which are the first aid measures of petroleum jelly?']\n"
     ]
    },
    {
     "name": "stdout",
     "output_type": "stream",
     "text": [
      "767 : ['What is the solitary with the lowest height whose instance of is Tilia platyphyllos?']\n",
      "768 : ['Is the individual tax rate in Sweden 25%?']\n",
      "769 : ['What is the item operated of a B-29 Superfortress?']\n",
      "770 : ['How many occupants are there with {Shah} ?']\n"
     ]
    },
    {
     "name": "stdout",
     "output_type": "stream",
     "text": [
      "771 : ['Which award did Mick Jagger receive?']\n"
     ]
    },
    {
     "name": "stdout",
     "output_type": "stream",
     "text": [
      "772 : ['What are the state church which start with the letter M']\n",
      "773 : ['When Alec Guinness was nominated as Academy Award for Best Actor?']\n"
     ]
    },
    {
     "name": "stdout",
     "output_type": "stream",
     "text": [
      "774 : ['When did Ahmedabad become Presidency of Bombay which was located in the administrative territorial entity?']\n"
     ]
    },
    {
     "name": "stdout",
     "output_type": "stream",
     "text": [
      "775 : ['What is Mizoram?']\n",
      "776 : ['When Camille Pissarro ended to work at Netherlands?']\n"
     ]
    },
    {
     "name": "stdout",
     "output_type": "stream",
     "text": [
      "777 : ['Tell me about animated feature film for voice actor of Ellen DeGeneres?']\n",
      "778 : ['What is the fictional analog of The Gingerbread Man?']\n",
      "779 : ['What position did Félix Faure hold before he was replaced by Émile Loubet?']\n"
     ]
    },
    {
     "name": "stdout",
     "output_type": "stream",
     "text": [
      "780 : ['Which is the organization that has its headquarters located in Aachen?']\n",
      "781 : ['How many saints have obtained canonization status?']\n"
     ]
    },
    {
     "name": "stdout",
     "output_type": "stream",
     "text": [
      "782 : ['What game is played by backgammon players and contains the word backgammon?']\n",
      "783 : ['What is the set of 1?']\n"
     ]
    },
    {
     "name": "stdout",
     "output_type": "stream",
     "text": [
      "784 : ['What is the language of the people indigenous to chupenme la pija giles ndeahhre?']\n",
      "785 : ['What book is the most notable work of Robert Louis Stevenson?']\n",
      "786 : ['what are the mathematical notation which start with the letter s']\n"
     ]
    },
    {
     "name": "stdout",
     "output_type": "stream",
     "text": [
      "787 : ['What branch of science starts with the letter v?']\n",
      "788 : ['How many langues does Kamal Haasan speak?']\n",
      "789 : ['What is Léopold Sédar Senghors Dialnet author ID?']\n"
     ]
    },
    {
     "name": "stdout",
     "output_type": "stream",
     "text": [
      "790 : ['What position did Ramsay MacDonald hold in the 37th Parliament of the United Kingdom and what was his cause?']\n",
      "791 : ['What is competitor War of the Triple Alliances name in its original language?']\n",
      "792 : ['Which is the instance of Puduhepa?']\n"
     ]
    },
    {
     "name": "stdout",
     "output_type": "stream",
     "text": [
      "793 : ['Which image compression contains the word graphics in its name?']\n",
      "794 : ['Which birthplace of Chris Rock, has a Geotag of 33.45?']\n"
     ]
    },
    {
     "name": "stdout",
     "output_type": "stream",
     "text": [
      "795 : ['Which son of Isaac has a son named Shuah?']\n",
      "796 : ['What team does Eric Cantona play for, and how many matches has he played?']\n"
     ]
    },
    {
     "name": "stdout",
     "output_type": "stream",
     "text": [
      "797 : ['When did Honolulu become an entity as the Territory of Hawaii?']\n"
     ]
    },
    {
     "name": "stdout",
     "output_type": "stream",
     "text": [
      "798 : ['Who was the sister of Henry V, the Holy Roman Emperor during his death in the year of 1101-7-27?']\n",
      "799 : ['When did educated at of Peggy Whitson and academic major?']\n"
     ]
    },
    {
     "name": "stdout",
     "output_type": "stream",
     "text": [
      "800 : ['Which Class II combustible liquid has the highest median lethal concentration?']\n",
      "801 : ['What parent body constellation is Messier a part of?']\n",
      "802 : ['What is the name of the administrative body for the capital of Mumbai']\n"
     ]
    },
    {
     "name": "stdout",
     "output_type": "stream",
     "text": [
      "803 : ['Who is in the administrative territorial entity of Tbilisi and when is the end time?']\n",
      "804 : ['What killed John F. Kennedy and who caused him ballistic trauma?']\n"
     ]
    },
    {
     "name": "stdout",
     "output_type": "stream",
     "text": [
      "805 : ['Which is the {eye color} of the {hair color} of {Xi_Jinping} ?']\n"
     ]
    },
    {
     "name": "stdout",
     "output_type": "stream",
     "text": [
      "806 : ['When did Bono receive the TED Prize, and how much was he awarded as recipient?']\n",
      "807 : ['Which is the process function of the measured physical quantity of joule?']\n",
      "808 : ['Which is the AFL Tables coach ID for Ron Barassi?']\n"
     ]
    },
    {
     "name": "stdout",
     "output_type": "stream",
     "text": [
      "809 : ['What is Proxima Centauris companion?']\n"
     ]
    },
    {
     "name": "stdout",
     "output_type": "stream",
     "text": [
      "810 : ['When and where did Victor Hugo marry his spouse, Adele Foucher?']\n",
      "811 : ['Which is {continent} of {death place} of {Thomas Morley} ?']\n"
     ]
    },
    {
     "name": "stdout",
     "output_type": "stream",
     "text": [
      "812 : ['What mythical character that contains the word zau in their name']\n",
      "813 : ['Who is the son of master Lou Harrison?']\n"
     ]
    },
    {
     "name": "stdout",
     "output_type": "stream",
     "text": [
      "814 : ['TELL ME THE PRECEEDS THAT IMPLIES VAPORIZATION?']\n"
     ]
    },
    {
     "name": "stdout",
     "output_type": "stream",
     "text": [
      "815 : ['What were the statements when Michelle Pfeiffer got nominated for the Academy Award for Best Actress?']\n",
      "816 : ['What kind of instrument is made with foil?']\n"
     ]
    },
    {
     "name": "stdout",
     "output_type": "stream",
     "text": [
      "817 : ['What is the garrison of AT&T, which is in the settlement of Denton County?']\n"
     ]
    },
    {
     "name": "stdout",
     "output_type": "stream",
     "text": [
      "818 : ['Which is antonym of painting of Madonna enthroned with child and Saints Petronius and John the Evangelist ?']\n"
     ]
    },
    {
     "name": "stdout",
     "output_type": "stream",
     "text": [
      "819 : ['Who discovered the boron?']\n",
      "820 : ['What is the first described of the ideology of Progressive Party?']\n"
     ]
    },
    {
     "name": "stdout",
     "output_type": "stream",
     "text": [
      "821 : ['Tell me superhero that contains the word wolfsbane in their name']\n",
      "822 : ['Which is the Wikimedia template that populates this category of Gujarati?']\n",
      "823 : ['What is the chemical compound of polyvinyl chloride?']\n"
     ]
    },
    {
     "name": "stdout",
     "output_type": "stream",
     "text": [
      "824 : ['Who is the writer of The Murder of Roger Ackroyd, which has been active since 1920-0-0?']\n",
      "825 : ['What is the business with the least debt on the Euronext?']\n",
      "826 : ['Name the eponym of volt, who is professor by profession.']\n"
     ]
    },
    {
     "name": "stdout",
     "output_type": "stream",
     "text": [
      "827 : ['When was Athens, Greece founded?']\n"
     ]
    },
    {
     "name": "stdout",
     "output_type": "stream",
     "text": [
      "828 : ['Tell me the house cat that contains the word мyka in their name']\n",
      "829 : ['Tell me the Human population and birthplace of konstantin khabensky?']\n"
     ]
    },
    {
     "name": "stdout",
     "output_type": "stream",
     "text": [
      "830 : ['What is the organize sport of Super_Bowl ?']\n"
     ]
    },
    {
     "name": "stdout",
     "output_type": "stream",
     "text": [
      "831 : ['When did Maule Region have a population of 836141.0?']\n",
      "832 : ['What borders Senegal and yet is a member of AFRISTAT?']\n",
      "833 : ['What are the weekly newspaper  which start with the letter e']\n"
     ]
    },
    {
     "name": "stdout",
     "output_type": "stream",
     "text": [
      "834 : ['What is it?']\n"
     ]
    },
    {
     "name": "stdout",
     "output_type": "stream",
     "text": [
      "835 : ['For which work Patrick White received the Miles Franklin Literary Award?']\n"
     ]
    },
    {
     "name": "stdout",
     "output_type": "stream",
     "text": [
      "836 : ['Is it true that the thermal diffusivity of adobe is less than 0.216?']\n",
      "837 : ['What is the reservoir of Lake Winnebago?']\n",
      "838 : ['What are the radiation particles that contain the word cosmic in their names ?']\n",
      "839 : ['On December 31, 2012, what were Nokias total assets?']\n"
     ]
    },
    {
     "name": "stdout",
     "output_type": "stream",
     "text": [
      "840 : ['Name a business division owned by Ford Motor Company']\n",
      "841 : ['Tell me about member of sports team of Rinus Michels and number of points/goals/set scored?']\n",
      "842 : ['Tell me about member of sports team of Ian Rush and number of matches played?']\n"
     ]
    },
    {
     "name": "stdout",
     "output_type": "stream",
     "text": [
      "843 : ['Which is the HQ location in The Economic Times having Indian reservation in Bombay State?']\n",
      "844 : ['What is the twin town of Port Vila, with the license plate code 沪A?']\n"
     ]
    },
    {
     "name": "stdout",
     "output_type": "stream",
     "text": [
      "845 : ['Is Alex Ferguson is the member of sports team which was started in 1-1-1973?']\n",
      "846 : ['What is the date did Midway games publish the video game Pac-Man, and where was it published?']\n"
     ]
    },
    {
     "name": "stdout",
     "output_type": "stream",
     "text": [
      "847 : ['Get  the postal code for Baidu that is headquartered at Beijing?']\n"
     ]
    },
    {
     "name": "stdout",
     "output_type": "stream",
     "text": [
      "848 : ['What is Amtraks net profit?']\n"
     ]
    },
    {
     "name": "stdout",
     "output_type": "stream",
     "text": [
      "849 : ['how many officers are there for the united nations secretary-general?']\n",
      "850 : ['What is physiology comprised of?']\n",
      "851 : ['How much did Ellyse Perry score when playing for which team?']\n"
     ]
    },
    {
     "name": "stdout",
     "output_type": "stream",
     "text": [
      "852 : ['Which is the subject in Sunyata having science,that studies about Buddhist studies?']\n",
      "853 : ['Which is the rank of the taxon parent of Physalis philadelphica?']\n"
     ]
    },
    {
     "name": "stdout",
     "output_type": "stream",
     "text": [
      "854 : ['Which fruit type is the higher taxon of Philodendron edmundoi?']\n"
     ]
    },
    {
     "name": "stdout",
     "output_type": "stream",
     "text": [
      "856 : ['Who is the {municipal archive} for {archives at} of {Aachen}']\n",
      "857 : ['What is the EC number for electron transport chain?']\n",
      "858 : ['who  work of motif of david with the head of goliath ?']\n"
     ]
    },
    {
     "name": "stdout",
     "output_type": "stream",
     "text": [
      "859 : ['Which antiparticle of the antineutron has the longest mean lifetime ?']\n"
     ]
    },
    {
     "name": "stdout",
     "output_type": "stream",
     "text": [
      "861 : ['which time of the day contains the word morning in their name']\n",
      "862 : ['Where was Louise Bourgeois completed education in the year 1938?']\n",
      "863 : ['Is it true that the valency of monotransitive verb equals to 2?']\n"
     ]
    },
    {
     "name": "stdout",
     "output_type": "stream",
     "text": [
      "864 : ['What is Flags of the World ID for Union Jack ?']\n"
     ]
    },
    {
     "name": "stdout",
     "output_type": "stream",
     "text": [
      "865 : ['TELL ME SEASON WHOSE NAME HAS THE WORD WINTER IN IT.']\n"
     ]
    },
    {
     "name": "stdout",
     "output_type": "stream",
     "text": [
      "867 : ['When Alexandria, Diocese of Egypt, ended?']\n"
     ]
    },
    {
     "name": "stdout",
     "output_type": "stream",
     "text": [
      "868 : ['Which is the {crystal system} who {discoverer or inventor} of {Titanium} ?']\n"
     ]
    },
    {
     "name": "stdout",
     "output_type": "stream",
     "text": [
      "869 : ['When was the {official trip} for {participant} of {Emmanuel Macron}?']\n"
     ]
    },
    {
     "name": "stdout",
     "output_type": "stream",
     "text": [
      "870 : ['What is the document published by the National Constituent Assembly that contains the word citizen in its name']\n",
      "871 : ['Which is the {country for sport} and the {sport} of {Novak_Djokovic} ?']\n"
     ]
    },
    {
     "name": "stdout",
     "output_type": "stream",
     "text": [
      "872 : ['What award did Carrie Underwood receive in 2007?']\n"
     ]
    },
    {
     "name": "stdout",
     "output_type": "stream",
     "text": [
      "873 : ['Who is the brother of the actress Trishna?']\n",
      "874 : ['Which is the sector of the software publisher for Horticultural classification of tulip cultivars?']\n"
     ]
    },
    {
     "name": "stdout",
     "output_type": "stream",
     "text": [
      "875 : ['What was Gene Wolfe nominated for in 1990?']\n"
     ]
    },
    {
     "name": "stdout",
     "output_type": "stream",
     "text": [
      "878 : ['Is Scientology the same as Church of Scientology?']\n",
      "879 : ['WHAT ARE THE DECIMAL CLASSIFICATION WHICH START WITH THE LETTER C']\n",
      "880 : ['Joseph belongs to what family?']\n"
     ]
    },
    {
     "name": "stdout",
     "output_type": "stream",
     "text": [
      "881 : ['What is SCTs HomoloGene ID?']\n"
     ]
    },
    {
     "name": "stdout",
     "output_type": "stream",
     "text": [
      "882 : ['which is scientific area of developed by of perl?']\n"
     ]
    },
    {
     "name": "stdout",
     "output_type": "stream",
     "text": [
      "883 : ['How many countries are around Ireland?']\n",
      "884 : ['Who owns Disneyland and who is it named after?']\n",
      "885 : ['how many crew members does enola gay have?']\n"
     ]
    },
    {
     "name": "stdout",
     "output_type": "stream",
     "text": [
      "886 : ['Where is {disciples} of {Nadia Boulanger}, which has {location of death} is {Azores} ?']\n",
      "887 : ['What is the official language of Vantaa?']\n"
     ]
    },
    {
     "name": "stdout",
     "output_type": "stream",
     "text": [
      "888 : ['When Atacama Region has its population 230873.0?']\n",
      "889 : ['which magazine starts with z']\n",
      "890 : ['What is the period of time of the  {Hellenistic period} ?']\n"
     ]
    },
    {
     "name": "stdout",
     "output_type": "stream",
     "text": [
      "892 : ['What drives the subject of the language change statement']\n",
      "893 : ['Who is the winner of Friends who has received Primetime Emmy award for Outstanding comedy series?']\n",
      "894 : ['Which document is the main regulatory text of the Soviet Union?']\n"
     ]
    },
    {
     "name": "stdout",
     "output_type": "stream",
     "text": [
      "895 : ['What kind of steam engine was invented by james Watt']\n",
      "896 : ['How many mothers did Eros have?']\n",
      "897 : ['Who are the film crew members and cast members of Game of Thrones?']\n",
      "898 : ['When did Ryan Giggs become a member of the Manchester United F.C.?']\n"
     ]
    },
    {
     "name": "stdout",
     "output_type": "stream",
     "text": [
      "899 : ['Was Jimi Hendrixs death related to the EMLL 24th Anniversary Show?']\n"
     ]
    },
    {
     "name": "stdout",
     "output_type": "stream",
     "text": [
      "900 : ['Who is the nominee for Nevermind, that was produced on 1991-0-0?']\n"
     ]
    },
    {
     "name": "stdout",
     "output_type": "stream",
     "text": [
      "901 : ['Which song was Ringo Starr nominated for the Academy Award for Best Original Song Score?']\n",
      "902 : ['What are the treaty which start with the letter t']\n",
      "903 : ['Which is the Japanese writing system for the writing system of Japanese?']\n"
     ]
    },
    {
     "name": "stdout",
     "output_type": "stream",
     "text": [
      "905 : ['Which is the date of burial or cremation of Miloš Forman?']\n",
      "906 : ['Who is known for being the script writer of Barefoot Gen: Explosion of Tears?']\n",
      "907 : ['Which is the Billboard artist ID for Vicente Fernández?']\n",
      "908 : ['How many Crusade conflicts were there?']\n"
     ]
    },
    {
     "name": "stdout",
     "output_type": "stream",
     "text": [
      "909 : ['Who is the candidacy in election for United States Congress?']\n",
      "910 : ['What are the political philosophy which start with the letter w']\n"
     ]
    },
    {
     "name": "stdout",
     "output_type": "stream",
     "text": [
      "911 : ['Tell me the number of points and games played by Brian Clough, member of the English national football team.']\n"
     ]
    },
    {
     "name": "stdout",
     "output_type": "stream",
     "text": [
      "912 : ['Which is the EIDR identifier of E.T. the Extra-Terrestrial?']\n",
      "913 : ['Dies the Center for Jewish Studies Heidelberg students count equal 110?']\n",
      "914 : ['How many matches did Diego Maradona participate in with the A.A. Argentinos Juniors?']\n"
     ]
    },
    {
     "name": "stdout",
     "output_type": "stream",
     "text": [
      "915 : ['What are the signs of Typhoid fever which can be treated with Dopamine?']\n",
      "916 : ['In what position did Charles XIV John of Sweden replace Charles XIII of Sweden?']\n"
     ]
    },
    {
     "name": "stdout",
     "output_type": "stream",
     "text": [
      "917 : ['Tell me dyed whose name has the word yan in it.']\n"
     ]
    },
    {
     "name": "stdout",
     "output_type": "stream",
     "text": [
      "918 : ['What is the parent university of Purdue University?']\n",
      "919 : ['What is the daughter of Leopold II, Holy Roman Emperor, whose sister is Maria Anna dAsburgo-Lorena?']\n"
     ]
    },
    {
     "name": "stdout",
     "output_type": "stream",
     "text": [
      "920 : ['Is it true that the caliber of Ehrhardt 7.5 cm Model 1901 equals to 60?']\n",
      "921 : ['What is the member of a sports team of Iker Casillas that starts January 1st, 1991?']\n"
     ]
    },
    {
     "name": "stdout",
     "output_type": "stream",
     "text": [
      "923 : ['When Don Bradman ended as member of Australia national cricket team?']\n"
     ]
    },
    {
     "name": "stdout",
     "output_type": "stream",
     "text": [
      "924 : ['What are the linguistic typology and grammatical gender of Spanish language?']\n",
      "925 : ['Which is {marry} of {Cassiopeia}, who {has son} is {Andromeda} ?']\n",
      "926 : ['Which is the NLP ID for Georgias?']\n",
      "927 : ['What specimen type does Piper nigrum belong to?']\n"
     ]
    },
    {
     "name": "stdout",
     "output_type": "stream",
     "text": [
      "928 : ['What is the object I.D. of L.L. Zamenhof at the Museum of FAine Arts, Boston?']\n",
      "929 : ['When did Aurangabad become part of the Hyderabad State?']\n"
     ]
    },
    {
     "name": "stdout",
     "output_type": "stream",
     "text": [
      "930 : ['Tell me cyprinus rubrofuscus whose name has the word koi in it.']\n",
      "931 : ['Which videogame studio developped Pong ?']\n",
      "932 : ['What is the language official in Federated States of Micronesia having a shortened name of']\n",
      "933 : ['Which the {subject has role} and the {location of discovery} of {Iodine} ?']\n",
      "934 : ['which record did pole vault hold and which is the height?']\n"
     ]
    },
    {
     "name": "stdout",
     "output_type": "stream",
     "text": [
      "935 : ['Where can you land on the moon with a mass of 73.477?']\n"
     ]
    },
    {
     "name": "stdout",
     "output_type": "stream",
     "text": [
      "937 : ['IS THE SERVICE LIFE OF THE AMBATOVY MINE EQUALS 29']\n",
      "938 : ['Was Helen Keller a member of the Transport Workers Union of America?']\n",
      "939 : ['How many out of school children are there in Eritrea?']\n"
     ]
    },
    {
     "name": "stdout",
     "output_type": "stream",
     "text": [
      "940 : ['What {subject has role} which {physically interacts with} of {Dopamine} ?']\n"
     ]
    },
    {
     "name": "stdout",
     "output_type": "stream",
     "text": [
      "942 : ['What state is the University of Iowa located?']\n",
      "943 : ['Is The New York Times published in Manhattan, New York City?']\n",
      "944 : ['What position was David Cameron elected to?']\n"
     ]
    },
    {
     "name": "stdout",
     "output_type": "stream",
     "text": [
      "945 : ['What material has the highest operating temperature?']\n",
      "946 : ['Who is {rector} of {Moscow State University}, which {alumna of} is {Saint Petersburg State University} ?']\n"
     ]
    },
    {
     "name": "stdout",
     "output_type": "stream",
     "text": [
      "947 : ['Who was replaced by Clovis I as King of France?']\n"
     ]
    },
    {
     "name": "stdout",
     "output_type": "stream",
     "text": [
      "949 : ['What is the birthday of Abigail Adams who has a child named Abigail Adams Smith?']\n",
      "950 : ['Which is {official language} of {basin countries} of {White Sea} ?']\n",
      "951 : ['Who replaced Charles Evans Hughes as the Chief Justice of The United States?']\n"
     ]
    },
    {
     "name": "stdout",
     "output_type": "stream",
     "text": [
      "953 : ['Is Mary I of England a sibling of Edward VI of England?']\n"
     ]
    },
    {
     "name": "stdout",
     "output_type": "stream",
     "text": [
      "957 : ['Which is the period The Great Gatsby was set in?']\n"
     ]
    },
    {
     "name": "stdout",
     "output_type": "stream",
     "text": [
      "959 : ['Is Spains unemployment rate 25?']\n",
      "960 : ['Who is the child of William Jennings Bryan that has the biological sex of male?']\n",
      "961 : ['What medical condition did Väinö Linna have in 1984?']\n"
     ]
    },
    {
     "name": "stdout",
     "output_type": "stream",
     "text": [
      "962 : ['Where in the Soviet Union did Andrei Bely die?']\n"
     ]
    },
    {
     "name": "stdout",
     "output_type": "stream",
     "text": [
      "963 : ['Which is the sign language for the signed form of Esperanto?']\n",
      "964 : ['When did Ana Kasparian graduate from California State University, Northridge?']\n"
     ]
    }
   ],
   "source": [
    "responses = []\n",
    "batch_qns = []\n",
    "batch_ans = []\n",
    "truncated_data = df[:]\n",
    "total_len = len(truncated_data)\n",
    "last = 0\n",
    "cutoff = 0\n",
    "for i, data in enumerate(truncated_data.iterrows()):\n",
    "    data = data[1]\n",
    "    if i < cutoff:\n",
    "        continue\n",
    "    # print(\"Pipeline iter\", i)\n",
    "    question = data[\"new_question\"]\n",
    "    answer = data[\"sparql_wikidata\"]\n",
    "    # try\n",
    "    #     linked, annotated, converted = pipe(question, answer)\n",
    "    # except Exception as e:\n",
    "    #     print(e)\n",
    "    #     continue\n",
    "    # responses.append([linked, annotated, converted])\n",
    "    if (question and answer) and len(question) >= 2:\n",
    "        batch_qns.append(question)\n",
    "        batch_ans.append(answer)\n",
    "    if ((i + 1) % 1000) == 0 or i == total_len - 1:\n",
    "        print(f\"\\n[{pipeline_name}]:\", f\"Linking {last}-{i}\")\n",
    "        try:\n",
    "            for linked, annotated, converted in pipe_batch(batch_qns, batch_ans):\n",
    "                responses.append([linked, annotated, converted])\n",
    "            batch_qns = []\n",
    "            batch_ans = []\n",
    "            last = i\n",
    "        except Exception as e:\n",
    "            raise e\n",
    "            # print(e)\n",
    "            # continue\n",
    "        with open(output_links_dir / f\"link_{i}.json\", \"w\") as f:\n",
    "            json.dump(responses, f, indent=2, separators=(',',':'))\n",
    "        print()"
   ]
  }
 ],
 "metadata": {
  "kernelspec": {
   "display_name": "py310",
   "language": "python",
   "name": "python3"
  },
  "language_info": {
   "codemirror_mode": {
    "name": "ipython",
    "version": 3
   },
   "file_extension": ".py",
   "mimetype": "text/x-python",
   "name": "python",
   "nbconvert_exporter": "python",
   "pygments_lexer": "ipython3",
   "version": "3.10.11"
  },
  "papermill": {
   "default_parameters": {},
   "duration": null,
   "end_time": null,
   "environment_variables": {},
   "exception": null,
   "input_path": "pipeline3.ipynb",
   "output_path": "pipeline3-5eg5rg.papermill.ipynb",
   "parameters": {},
   "start_time": "2023-07-21T08:38:46.854531",
   "version": "2.4.0"
  }
 },
 "nbformat": 4,
 "nbformat_minor": 5
}
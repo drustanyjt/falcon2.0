{
 "cells": [
  {
   "attachments": {},
   "cell_type": "markdown",
   "id": "c9386cdb",
   "metadata": {
    "papermill": {
     "duration": 0.006304,
     "end_time": "2023-07-19T01:33:00.417697",
     "exception": false,
     "start_time": "2023-07-19T01:33:00.411393",
     "status": "completed"
    },
    "tags": []
   },
   "source": [
    "# Pipeline 1"
   ]
  },
  {
   "cell_type": "code",
   "execution_count": 1,
   "id": "a9e6826f",
   "metadata": {
    "execution": {
     "iopub.execute_input": "2023-07-19T01:33:00.441014Z",
     "iopub.status.busy": "2023-07-19T01:33:00.440492Z",
     "iopub.status.idle": "2023-07-19T01:33:02.549980Z",
     "shell.execute_reply": "2023-07-19T01:33:02.547626Z"
    },
    "papermill": {
     "duration": 2.126068,
     "end_time": "2023-07-19T01:33:02.554609",
     "exception": false,
     "start_time": "2023-07-19T01:33:00.428541",
     "status": "completed"
    },
    "tags": []
   },
   "outputs": [
    {
     "name": "stdout",
     "output_type": "stream",
     "text": [
      "main_virtuoso_noreranking\n"
     ]
    }
   ],
   "source": [
    "from pipeline import Falcon2Linker, SerialAnnotator, T5Converter\n",
    "import time\n",
    "from pprint import pprint"
   ]
  },
  {
   "cell_type": "code",
   "execution_count": 2,
   "id": "731aeb3d",
   "metadata": {
    "execution": {
     "iopub.execute_input": "2023-07-19T01:33:02.574786Z",
     "iopub.status.busy": "2023-07-19T01:33:02.574003Z",
     "iopub.status.idle": "2023-07-19T01:33:02.602542Z",
     "shell.execute_reply": "2023-07-19T01:33:02.601352Z"
    },
    "papermill": {
     "duration": 0.046094,
     "end_time": "2023-07-19T01:33:02.606840",
     "exception": false,
     "start_time": "2023-07-19T01:33:02.560746",
     "status": "completed"
    },
    "tags": []
   },
   "outputs": [],
   "source": [
    "linker = Falcon2Linker()\n",
    "annotator = SerialAnnotator()\n",
    "converter = T5Converter()"
   ]
  },
  {
   "cell_type": "code",
   "execution_count": 3,
   "id": "c92b7914",
   "metadata": {
    "execution": {
     "iopub.execute_input": "2023-07-19T01:33:02.625799Z",
     "iopub.status.busy": "2023-07-19T01:33:02.625213Z",
     "iopub.status.idle": "2023-07-19T01:33:02.633726Z",
     "shell.execute_reply": "2023-07-19T01:33:02.631054Z"
    },
    "papermill": {
     "duration": 0.024554,
     "end_time": "2023-07-19T01:33:02.636903",
     "exception": false,
     "start_time": "2023-07-19T01:33:02.612349",
     "status": "completed"
    },
    "tags": []
   },
   "outputs": [],
   "source": [
    "utterance = \"Who is the wife of Barack Obama\""
   ]
  },
  {
   "cell_type": "code",
   "execution_count": 4,
   "id": "087c224b",
   "metadata": {
    "execution": {
     "iopub.execute_input": "2023-07-19T01:33:02.656833Z",
     "iopub.status.busy": "2023-07-19T01:33:02.656043Z",
     "iopub.status.idle": "2023-07-19T01:33:21.917188Z",
     "shell.execute_reply": "2023-07-19T01:33:21.915996Z"
    },
    "papermill": {
     "duration": 19.278398,
     "end_time": "2023-07-19T01:33:21.920058",
     "exception": false,
     "start_time": "2023-07-19T01:33:02.641660",
     "status": "completed"
    },
    "tags": []
   },
   "outputs": [
    {
     "name": "stdout",
     "output_type": "stream",
     "text": [
      "recieved utterance\n",
      "0 : ['Who is the wife of Barack Obama']\n"
     ]
    },
    {
     "name": "stdout",
     "output_type": "stream",
     "text": [
      "['Who is the wife of Barack Obama', [['<http://www.wikidata.org/entity/P26>', 'wife'], ['<http://www.wikidata.org/entity/P2848>', 'wife'], ['<http://www.wikidata.org/entity/P140>', 'wife'], ['<http://www.wikidata.org/entity/P451>', 'wife'], ['<http://www.wikidata.org/entity/P600>', 'wife']], [['<http://www.wikidata.org/entity/Q76>', 'Barack obama'], ['<http://www.wikidata.org/entity/Q649593>', 'Barack obama'], ['<http://www.wikidata.org/entity/Q4808526>', 'Barack obama'], ['<http://www.wikidata.org/entity/Q4858106>', 'Barack obama'], ['<http://www.wikidata.org/entity/Q643049>', 'Barack obama']], 0, 0, 0, 0]\n",
      "'Linked'\n",
      "{'ents': [{'id': 'Q76',\n",
      "           'prefix': 'wd:',\n",
      "           'uri': 'http://www.wikidata.org/entity/Q76'},\n",
      "          {'id': 'Q649593',\n",
      "           'prefix': 'wd:',\n",
      "           'uri': 'http://www.wikidata.org/entity/Q649593'},\n",
      "          {'id': 'Q4808526',\n",
      "           'prefix': 'wd:',\n",
      "           'uri': 'http://www.wikidata.org/entity/Q4808526'},\n",
      "          {'id': 'Q4858106',\n",
      "           'prefix': 'wd:',\n",
      "           'uri': 'http://www.wikidata.org/entity/Q4858106'},\n",
      "          {'id': 'Q643049',\n",
      "           'prefix': 'wd:',\n",
      "           'uri': 'http://www.wikidata.org/entity/Q643049'}],\n",
      " 'rels': [{'id': 'P26',\n",
      "           'prefix': 'wdt:',\n",
      "           'uri': 'http://www.wikidata.org/prop/direct/P26'},\n",
      "          {'id': 'P2848',\n",
      "           'prefix': 'wdt:',\n",
      "           'uri': 'http://www.wikidata.org/prop/direct/P2848'},\n",
      "          {'id': 'P140',\n",
      "           'prefix': 'wdt:',\n",
      "           'uri': 'http://www.wikidata.org/prop/direct/P140'},\n",
      "          {'id': 'P451',\n",
      "           'prefix': 'wdt:',\n",
      "           'uri': 'http://www.wikidata.org/prop/direct/P451'},\n",
      "          {'id': 'P600',\n",
      "           'prefix': 'wdt:',\n",
      "           'uri': 'http://www.wikidata.org/prop/direct/P600'}],\n",
      " 'utterance': 'Who is the wife of Barack Obama'}\n",
      "'Annotated'\n"
     ]
    },
    {
     "name": "stdout",
     "output_type": "stream",
     "text": [
      "{'fragments': ['[DEF]',\n",
      "               'wd:',\n",
      "               'Q76 Barack',\n",
      "               '[DEF]',\n",
      "               'wd:',\n",
      "               'Q649593 Barack Hussein Obama, Sr.',\n",
      "               '[DEF]',\n",
      "               'wd:',\n",
      "               'Q4808526 Obama assassination plot',\n",
      "               '[DEF]',\n",
      "               'wd:',\n",
      "               'Q4858106 Barack Obama Academy',\n",
      "               '[DEF]',\n",
      "               'wd:',\n",
      "               'Q643049 family of Barack Obama',\n",
      "               '[DEF]',\n",
      "               'wdt:',\n",
      "               'P26 partner',\n",
      "               '[DEF]',\n",
      "               'wdt:',\n",
      "               'P2848 wifi',\n",
      "               '[DEF]',\n",
      "               'wdt:',\n",
      "               'P140 religion',\n",
      "               '[DEF]',\n",
      "               'wdt:',\n",
      "               'P451 common-law spouse',\n",
      "               '[DEF]',\n",
      "               'wdt:',\n",
      "               'P600 Wine AppDB-ID'],\n",
      " 'utterance': 'Who is the wife of Barack Obama'}\n",
      "'Converted'\n",
      "('Who is the wife of Barack Obama <extra_id_59> <extra_id_53> Q76 Barack '\n",
      " '<extra_id_59> <extra_id_53> Q649593 Barack Hussein Obama, Sr. <extra_id_59> '\n",
      " '<extra_id_53> Q4808526 Obama assassination plot <extra_id_59> <extra_id_53> '\n",
      " 'Q4858106 Barack Obama Academy <extra_id_59> <extra_id_53> Q643049 family of '\n",
      " 'Barack Obama <extra_id_59> <extra_id_54> P26 partner <extra_id_59> '\n",
      " '<extra_id_54> P2848 wifi <extra_id_59> <extra_id_54> P140 religion '\n",
      " '<extra_id_59> <extra_id_54> P451 common-law spouse <extra_id_59> '\n",
      " '<extra_id_54> P600 Wine AppDB-ID')\n"
     ]
    }
   ],
   "source": [
    "linked = linker.link(utterance)\n",
    "# rules = [1,2,3,4,5,8,9,10,12,13,14]\n",
    "# linked = process_text_E_R(utterance, rules)\n",
    "pprint(\"Linked\")\n",
    "pprint(linked)\n",
    "\n",
    "pprint(\"Annotated\")\n",
    "annotated = annotator.annotate(**linked)\n",
    "pprint(annotated)\n",
    "\n",
    "pprint(\"Converted\")\n",
    "converted = converter.preprocess_inputs(**annotated)\n",
    "pprint(converted)"
   ]
  },
  {
   "cell_type": "code",
   "execution_count": 5,
   "id": "f79ff447",
   "metadata": {
    "execution": {
     "iopub.execute_input": "2023-07-19T01:33:21.946152Z",
     "iopub.status.busy": "2023-07-19T01:33:21.945214Z",
     "iopub.status.idle": "2023-07-19T01:33:21.957190Z",
     "shell.execute_reply": "2023-07-19T01:33:21.955868Z"
    },
    "papermill": {
     "duration": 0.032021,
     "end_time": "2023-07-19T01:33:21.959999",
     "exception": false,
     "start_time": "2023-07-19T01:33:21.927978",
     "status": "completed"
    },
    "tags": []
   },
   "outputs": [],
   "source": [
    "import re\n",
    "\n",
    "def retrieve_gold_links(masked_wikisparql):\n",
    "  fragments = masked_wikisparql.upper().strip().split(' ')\n",
    "  ents = []\n",
    "  rels = []\n",
    "  result_dict = {\n",
    "    'ents': ents,\n",
    "    'rels': rels,\n",
    "  }\n",
    "  for fragment in fragments:\n",
    "    id_match = re.search('[QP][1-9]+',fragment)\n",
    "    if id_match:\n",
    "      id_raw = id_match.group(0)\n",
    "      if id_raw[0] == 'Q':\n",
    "        prefix = 'wdt:'\n",
    "        uri = 'http://www.wikidata.org/entity/' + id_raw\n",
    "        target_arr = ents\n",
    "      elif id_raw[0] == 'P':\n",
    "        prefix = 'wd:'\n",
    "        uri =  'http://www.wikidata.org/prop/direct/' + id_raw\n",
    "        target_arr = rels\n",
    "      else:\n",
    "        raise ValueError('ID does not start with P or Q')\n",
    "      match_dict = {\n",
    "        'id' : id_raw,\n",
    "        'prefix' : prefix,\n",
    "        'uri' : uri,\n",
    "      }\n",
    "      target_arr.append(match_dict)\n",
    "  return result_dict"
   ]
  },
  {
   "cell_type": "code",
   "execution_count": 6,
   "id": "f565a469",
   "metadata": {
    "execution": {
     "iopub.execute_input": "2023-07-19T01:33:21.985224Z",
     "iopub.status.busy": "2023-07-19T01:33:21.984585Z",
     "iopub.status.idle": "2023-07-19T01:33:21.991647Z",
     "shell.execute_reply": "2023-07-19T01:33:21.990380Z"
    },
    "papermill": {
     "duration": 0.026532,
     "end_time": "2023-07-19T01:33:21.994726",
     "exception": false,
     "start_time": "2023-07-19T01:33:21.968194",
     "status": "completed"
    },
    "tags": []
   },
   "outputs": [],
   "source": [
    "def pipe(utterance, wikisparql):\n",
    "    linked = linker.link(utterance)\n",
    "    annotated = annotator.annotate(**linked)\n",
    "    converted = converter.preprocess(**annotated, wikisparql=wikisparql)\n",
    "    return linked, annotated, converted"
   ]
  },
  {
   "cell_type": "code",
   "execution_count": 7,
   "id": "99eaae3d",
   "metadata": {
    "execution": {
     "iopub.execute_input": "2023-07-19T01:33:22.020545Z",
     "iopub.status.busy": "2023-07-19T01:33:22.019829Z",
     "iopub.status.idle": "2023-07-19T01:33:22.032478Z",
     "shell.execute_reply": "2023-07-19T01:33:22.031436Z"
    },
    "papermill": {
     "duration": 0.032658,
     "end_time": "2023-07-19T01:33:22.034917",
     "exception": false,
     "start_time": "2023-07-19T01:33:22.002259",
     "status": "completed"
    },
    "tags": []
   },
   "outputs": [],
   "source": [
    "def pipe_batch(utterances, wikisparqls):\n",
    "  batched = []\n",
    "  link_batch_start = time.time()\n",
    "  linked = linker.link_batch(utterances)\n",
    "\n",
    "  assert len(linked) == len(wikisparqls)\n",
    "\n",
    "  for i, link in enumerate(linked):\n",
    "    gold_linked = retrieve_gold_links(wikisparqls[i])\n",
    "    new_ents=link['ents']\n",
    "    old_ents_set = set(x['id'] for x in link['ents'])\n",
    "    for gold_ent in gold_linked['ents']:\n",
    "        if gold_ent['id'] not in old_ents_set:\n",
    "            new_ents.append(gold_ent)\n",
    "    link['rels'] = []\n",
    "    assert len(linked[i]['rels']) == 0\n",
    "\n",
    "  link_batch_end = time.time()\n",
    "  s = time.time()\n",
    "  annotated = annotator.batch_annotate(linked)\n",
    "  e = time.time()\n",
    "  assert len(linked) == len(annotated)\n",
    "  annotator_time = e - s\n",
    "  converter_time = 0\n",
    "  for i, single_annotated in enumerate(annotated):\n",
    "    # annotated = annotator.annotate(**single_linked)\n",
    "    # try:\n",
    "    #   annotator_time += e - s\n",
    "    # except Exception as e:\n",
    "    #   print(\"[Annotator Error]:\", e)\n",
    "    #   continue\n",
    "    s = time.time()\n",
    "    try:\n",
    "      converted = converter.preprocess(**single_annotated, wikisparql=wikisparqls[i])\n",
    "    except Exception as e:\n",
    "      print(\"[Converter Error]:\", e)\n",
    "      continue\n",
    "      \n",
    "    e = time.time()\n",
    "    converter_time += e - s\n",
    "    batched.append([linked[i], annotated[i], converted])\n",
    "  print(\"Link batch time:\", link_batch_end - link_batch_start)\n",
    "  print(\"Anno batch time:\", annotator_time)\n",
    "  print(\"Conv batch time:\", converter_time)\n",
    "  return batched"
   ]
  },
  {
   "attachments": {},
   "cell_type": "markdown",
   "id": "1be9ce40",
   "metadata": {
    "papermill": {
     "duration": 0.013851,
     "end_time": "2023-07-19T01:33:22.057466",
     "exception": false,
     "start_time": "2023-07-19T01:33:22.043615",
     "status": "completed"
    },
    "tags": []
   },
   "source": [
    "## Data"
   ]
  },
  {
   "cell_type": "code",
   "execution_count": 8,
   "id": "466c03a8",
   "metadata": {
    "execution": {
     "iopub.execute_input": "2023-07-19T01:33:22.086655Z",
     "iopub.status.busy": "2023-07-19T01:33:22.085911Z",
     "iopub.status.idle": "2023-07-19T01:33:24.126980Z",
     "shell.execute_reply": "2023-07-19T01:33:24.125520Z"
    },
    "papermill": {
     "duration": 2.064516,
     "end_time": "2023-07-19T01:33:24.133241",
     "exception": false,
     "start_time": "2023-07-19T01:33:22.068725",
     "status": "completed"
    },
    "tags": []
   },
   "outputs": [],
   "source": [
    "from pathlib import Path\n",
    "import pandas as pd\n",
    "import json\n",
    "\n",
    "data_path = Path(\"..\") / \"t5-for-sparql\" / \"data\" / \"lcquad2\" / \"train.json\"\n",
    "data2_path = Path(\"..\") / \"t5-for-sparql\" / \"data\" / \"lcquad2\" / \"test_KG_4211.json\""
   ]
  },
  {
   "cell_type": "code",
   "execution_count": 9,
   "id": "c7062d33",
   "metadata": {
    "execution": {
     "iopub.execute_input": "2023-07-19T01:33:24.167855Z",
     "iopub.status.busy": "2023-07-19T01:33:24.167128Z",
     "iopub.status.idle": "2023-07-19T01:33:25.302797Z",
     "shell.execute_reply": "2023-07-19T01:33:25.301973Z"
    },
    "papermill": {
     "duration": 1.156072,
     "end_time": "2023-07-19T01:33:25.305226",
     "exception": false,
     "start_time": "2023-07-19T01:33:24.149154",
     "status": "completed"
    },
    "tags": []
   },
   "outputs": [
    {
     "name": "stdout",
     "output_type": "stream",
     "text": [
      "Missing question count: 71\n"
     ]
    },
    {
     "name": "stdout",
     "output_type": "stream",
     "text": [
      "Number of rows: 28247\n"
     ]
    }
   ],
   "source": [
    "with open(data_path) as f:\n",
    "  data_dict = json.load(f)\n",
    "\n",
    "with open(data2_path) as f:\n",
    "  data_dict.extend(json.load(f))\n",
    "\n",
    "count = 0\n",
    "\n",
    "for item in data_dict:\n",
    "  paraphrased_question = item[\"paraphrased_question\"]\n",
    "  question = item[\"question\"]\n",
    "  if paraphrased_question == None:\n",
    "    raise Exception\n",
    "  if question == None:\n",
    "    count += 1\n",
    "    # print(len(paraphrased_question) > 2)\n",
    "    # pprint(item)\n",
    "  if item[\"sparql_wikidata\"] == None:\n",
    "    raise Exception\n",
    "  \n",
    "\n",
    "  if len(paraphrased_question) > 2000:\n",
    "    paraphrased_question = question\n",
    "  # item[\"new_question\"] = paraphrased_question if len(paraphrased_question) > 2 and paraphrased_question != [] else question\n",
    "  item[\"new_question\"] = question\n",
    "\n",
    "print(\"Missing question count:\", count)\n",
    "\n",
    "df = pd.DataFrame.from_dict(data_dict)\n",
    "df = df.dropna(axis=0, subset=['new_question'])\n",
    "df = df[~df.question.isin(['n/a', None, 'none', 'None'])]\n",
    "n_entries = len(df)\n",
    "print(\"Number of rows:\", n_entries)"
   ]
  },
  {
   "cell_type": "code",
   "execution_count": 10,
   "id": "33b6939b",
   "metadata": {
    "execution": {
     "iopub.execute_input": "2023-07-19T01:33:25.326611Z",
     "iopub.status.busy": "2023-07-19T01:33:25.325797Z",
     "iopub.status.idle": "2023-07-19T01:33:25.337057Z",
     "shell.execute_reply": "2023-07-19T01:33:25.335937Z"
    },
    "papermill": {
     "duration": 0.026628,
     "end_time": "2023-07-19T01:33:25.339662",
     "exception": false,
     "start_time": "2023-07-19T01:33:25.313034",
     "status": "completed"
    },
    "tags": []
   },
   "outputs": [],
   "source": [
    "assert(len(df[df.question.isna()]) == 0)"
   ]
  },
  {
   "cell_type": "code",
   "execution_count": 11,
   "id": "8eb91ad6",
   "metadata": {
    "execution": {
     "iopub.execute_input": "2023-07-19T01:33:25.363536Z",
     "iopub.status.busy": "2023-07-19T01:33:25.362169Z",
     "iopub.status.idle": "2023-07-19T01:33:25.370488Z",
     "shell.execute_reply": "2023-07-19T01:33:25.369149Z"
    },
    "papermill": {
     "duration": 0.025862,
     "end_time": "2023-07-19T01:33:25.373694",
     "exception": false,
     "start_time": "2023-07-19T01:33:25.347832",
     "status": "completed"
    },
    "tags": []
   },
   "outputs": [
    {
     "name": "stdout",
     "output_type": "stream",
     "text": [
      "What periodical literature does Delta Air Lines use as a moutpiece?\n",
      "Who is the child of Ranavalona I's husband?\n",
      "Is it true Jeff_Bridges occupation Lane Chandler and photographer ?\n",
      "What is the pre-requisite of phase matter of Galinstan?\n",
      "Which is the operating income for Qantas?\n"
     ]
    }
   ],
   "source": [
    "for data in df[0:5].iterrows():\n",
    "    print(data[1].new_question)"
   ]
  },
  {
   "cell_type": "code",
   "execution_count": 12,
   "id": "c471a3cb",
   "metadata": {
    "execution": {
     "iopub.execute_input": "2023-07-19T01:33:25.396804Z",
     "iopub.status.busy": "2023-07-19T01:33:25.395877Z"
    },
    "papermill": {
     "duration": 11729.228191,
     "end_time": "2023-07-19T04:48:54.610300",
     "exception": false,
     "start_time": "2023-07-19T01:33:25.382109",
     "status": "completed"
    },
    "tags": []
   },
   "outputs": [
    {
     "name": "stdout",
     "output_type": "stream",
     "text": [
      "[Pipeline1]: Linking 0-49\n",
      "1 : ['What periodical literature does Delta Air Lines use as a moutpiece?']\n",
      "1 : ['Who is the child of Ranavalona Is husband?']\n",
      "1 : ['Is it true Jeff_Bridges occupation Lane Chandler and photographer ?']\n",
      "1 : ['What is the pre-requisite of phase matter of Galinstan?']\n",
      "1 : ['Which is the operating income for Qantas?']\n",
      "1 : ['which cola starts with the letter p']\n",
      "1 : ['Is the right ascension of malin 1 less than 15.1398?']\n",
      "1 : ['What is the complete list of records released by Jerry Lee Lewis?']\n",
      "1 : ['What is Mary Lou Rettons International Olympic Committee athlete ID.']\n",
      "1 : ['Who won the prize at the sequel of the 1885 Wimbledon Championships- Gentlemens Singles?']\n",
      "1 : ['Is it true that the carbon footprint of the iPhone X Max is 106?']\n",
      "1 : ['Tell me the female beauty pageant that operates in all countries and contains the word model in its name?']\n",
      "1 : ['Did Lindsey Vonn participate in the FIS Alpine World Ski Championships in 1999 and 2019?']\n"
     ]
    },
    {
     "name": "stdout",
     "output_type": "stream",
     "text": [
      "11 : ['On 0-0-2007, what is the populaton of Spokane?']\n",
      " : ['When position did Angela Merkel hold on November 10, 1994?']\n",
      "1 : ['What essential medicine is needed to treat leprosy?']\n",
      "1 : ['Which is HanCinema person ID for Zhang Ziyi?']\n",
      "1 : ['Did Judi Densch receive a Tony Award for best direction of the play Premium Imperiale?']\n",
      "1 : ['What is the boiling point of pressure copper as 4703.0?']\n",
      "1 : ['After what is Marathon named and what is the current record?']\n",
      "1 : ['Who Sleepwalking succeeded in playing Sleepwalking?']\n",
      "1 : ['What did Clifton Chenier get nominated for in 1983-0-0?']\n",
      "1 : ['Which is the wear for Ambrose Burnside?']\n",
      "1 : ['Which Class IB flammable liquid has the least lower flammable limit?']\n",
      "1 : ['What is the material used and approved by Mojito?']\n",
      "1 : ['Could you summarize Koreas history of this topic?']\n",
      "1 : ['Which is {landscape of} of {Virgin of the rocks}, which has {birth city} is {Tzippori} ?']\n",
      "1 : ['Is Kevin Costner owner of Fielders Stadium?']\n",
      "1 : ['Which is the YouTube channel ID for Miley Cyrus?']\n"
     ]
    },
    {
     "name": "stdout",
     "output_type": "stream",
     "text": [
      "11 : ['How many dimensions have a Captain America?']\n",
      "1 : ['What award did Danila Kozlovsky receive in 2017?']\n",
      " : ['What is a skill that starts with the letter s.']\n"
     ]
    },
    {
     "name": "stdout",
     "output_type": "stream",
     "text": [
      "2 : ['Who is the student that coined the Euler-Lagrange equation?']\n"
     ]
    },
    {
     "name": "stdout",
     "output_type": "stream",
     "text": [
      "3 : ['Which website does Twitch own?']\n",
      "4 : ['Is the minimal lethal dose of the benzene equal to 170000?']\n"
     ]
    },
    {
     "name": "stdout",
     "output_type": "stream",
     "text": [
      "5 : ['Who is the person that was a student of Ivan Pavlov?']\n",
      "6 : ['is the clock speed of the Watara Supervision smaller than 3.2?']\n"
     ]
    },
    {
     "name": "stdout",
     "output_type": "stream",
     "text": [
      "7 : ['What country is the current leader of the African Union ?']\n",
      "8 : ['Who works for the accused Mariposa Folk Festival 1974?']\n"
     ]
    },
    {
     "name": "stdout",
     "output_type": "stream",
     "text": [
      "9 : ['What sister city was born in of Zakhar Oskotsky?']\n",
      "10 : ['Tell me the name of a fantastique genre that starts with the letter s.']\n",
      "11 : ['What is the medal Angela Lansbury recieved?']\n",
      "12 : ['What is the musical score by Missa Solemnis that has mother Maria Magdalena van Beethoven?']\n",
      "13 : ['When did Robert De Niro reside in Marbletown?']\n"
     ]
    },
    {
     "name": "stdout",
     "output_type": "stream",
     "text": [
      "14 : ['Tell me organization whose name has the word  zollkriminalamt  in it.']\n",
      "15 : ['Which member state of the International Centre for Settlement of Investment Disputes has the maximum inflation rate?']\n"
     ]
    },
    {
     "name": "stdout",
     "output_type": "stream",
     "text": [
      "16 : ['Was Brittany Murphy a citizen of the USA?']\n",
      "17 : ['Who is the partner and the spouse of Hank Azaria?']\n",
      "18 : ['Does St. Peters Junior School maximum age equal to 11?']\n",
      "19 : ['Which country has highest individual tax rate?']\n"
     ]
    },
    {
     "name": "stdout",
     "output_type": "stream",
     "text": [
      "Link batch time: 13.560966730117798\n",
      "Anno batch time: 269.42469334602356\n",
      "Conv batch time: 0.0068967342376708984\n",
      "[Pipeline1]: Linking 49-99\n",
      "51 : ['When did James Thomas Farrell receive the St. Louis Literary Award?']\n",
      "51 : ['When was Pablo Picassos partnership with Fernade Oliver over?']\n",
      "51 : ['What is the product with the lowest consumption rate per capita whose has part is paraffin wax?']\n",
      "51 : ['What are the coordinates for the geographic center of Michigan, as determined by the center of gravity of the surface?']\n",
      "51 : ['Is the life expectancy of Indonesia 55.3528?']\n",
      "51 : ['When did Emmerson Mnangagwa begin going to the University of Zambia?']\n",
      "51 : ['What kind of career does Grigori Kozintsev have in the screenwriting field?']\n",
      "51 : ['what is hypothetical protein ecia139-4120 habitat of found in species?']\n",
      "51 : ['What sovereign state replaced the Kingdom of Great Britain?']\n",
      "51 : ['Of the century breaks of the Colm Gilcreest equal less than 9.6?']\n",
      "51 : ['In which country the Golden Horde used to live ?']\n",
      "51 : ['Located in the Central District, what is the county seat whose twin cities include Feodosiya?']\n",
      "51 : ['When did Nicaragua count a population of 3.87732e+06 inhabitants?']\n",
      "51 : ['What does emigration mean?']\n",
      "51 : ['Which is the meta-organization that is regulated by the football association?']\n",
      "51 : ['When was the spouse divorced Nero in 9-6-68']\n",
      "51 : ['Former champion Francisco Alarcon gave what award to Art Spiegelaman?']\n",
      "51 : ['Are there more than 0 survivors of the Charkhi Dadri mid-air collision']\n",
      "51 : ['When did Secretariat receive the Triple Crown Trophy?']\n",
      "51 : ['Which borders of borders of Riverside have a start date of 1984-0-0?']\n",
      "51 : ['Which is the facility of the defensive wall?']\n",
      "51 : ['What is  in the IHO Hydrographic Dictionary (S-32) Number of lighthouse ?']\n",
      "51 : ['Which is the fictional analog of Hippocampus?']\n",
      "51 : ['What is a cause of death that begins with the letter p and can be found on a CT scan?']\n",
      "51 : ['What is established by Archbishop of Canterbury, who is a male?']\n",
      "51 : ['In what area is Fernandel buried at the Passy Cemetery?']\n",
      "51 : ['Name the naval artillery wirh the smallest firing range?']\n",
      "51 : ['What is the name of a Cayenne Pepper that also has dates?']\n",
      "51 : ['Is the throughput of the Vest-vassdraget equal to 2697.672?']\n",
      "51 : ['What method did the census use to determine the population of Taguig?']\n",
      "51 : ['What award did Olga Tokarczuk receive in 2015?']\n",
      "51 : ['What is Porky Pig in right now?']\n"
     ]
    },
    {
     "name": "stdout",
     "output_type": "stream",
     "text": [
      "52 : ['When did publisher of Pac-Man and place of publication?']\n"
     ]
    },
    {
     "name": "stdout",
     "output_type": "stream",
     "text": [
      "53 : ['Was Aleister Crowley educated at Trinity College and Eton College?']\n"
     ]
    },
    {
     "name": "stdout",
     "output_type": "stream",
     "text": [
      "54 : ['What is {located next to Quincy,} in the {novel, Infinite Jest}?']\n"
     ]
    },
    {
     "name": "stdout",
     "output_type": "stream",
     "text": [
      "55 : ['Who awarded Eric Hobsbawm an honorary doctorate?']\n"
     ]
    },
    {
     "name": "stdout",
     "output_type": "stream",
     "text": [
      "56 : ['What was the last team Allan Border belonged to in the year 1980?']\n",
      "57 : ['Give me a film character from a fictional universe, such as Marvel comics that starts with a W.']\n"
     ]
    },
    {
     "name": "stdout",
     "output_type": "stream",
     "text": [
      "58 : ['Mention the fictional universe described or included in The Matrix.']\n",
      "59 : ['What is {award received} of {Hans Krebs} where {point in time} is {1966-0-0} ?']\n",
      "60 : ['Which record label signed Janet Jackson?']\n"
     ]
    },
    {
     "name": "stdout",
     "output_type": "stream",
     "text": [
      "61 : ['What is Tanzanias total reserves?']\n"
     ]
    },
    {
     "name": "stdout",
     "output_type": "stream",
     "text": [
      "62 : ['Does the slope rating of the Merion Golf Club equal 149']\n"
     ]
    },
    {
     "name": "stdout",
     "output_type": "stream",
     "text": [
      "63 : ['What is the density of hydrogen peroxide at a temperature of 20.0?']\n"
     ]
    },
    {
     "name": "stdout",
     "output_type": "stream",
     "text": [
      "64 : ['who architecture firm of home field of new york centaurs?']\n",
      "65 : ['Which { meansseason starts} in {February} ?']\n"
     ]
    },
    {
     "name": "stdout",
     "output_type": "stream",
     "text": [
      "66 : ['Who is {champ} of {prize awarded} {Lily Tomlin} ?']\n"
     ]
    },
    {
     "name": "stdout",
     "output_type": "stream",
     "text": [
      "67 : ['What is the ammunition of the weapon, that has been used in the war in Southeast Asia?']\n",
      "68 : ['Tell me every horse breed whose name starts with the letter z']\n"
     ]
    },
    {
     "name": "stdout",
     "output_type": "stream",
     "text": [
      "69 : ['The University of Florida is a member of which coalition?']\n"
     ]
    },
    {
     "name": "stdout",
     "output_type": "stream",
     "text": [
      "Link batch time: 58.887104749679565\n",
      "Anno batch time: 247.76804399490356\n",
      "Conv batch time: 0.002669811248779297\n",
      "[Pipeline1]: Linking 99-149\n",
      "101 : ['Who is the brother in law of the writer Quran?']\n",
      "101 : ['What is the New Zealand Gazetteer place id for Auckland?']\n",
      "101 : ['What does the painting Grade Odalisque represent which has DRTL backwards?']\n",
      "101 : ['Name an empire that contains the word british in its name']\n",
      "101 : ['What is the instance of Antonio da Correggio whose date of birth is 1489-8-1?']\n",
      "101 : ['Who was the teacher that supervised Shigeno Yasutsugu?']\n",
      "101 : ['What is the SANDRE ID for Rhine?']\n",
      "101 : ['When did Kylie Minogue receive the Gold Logie Award for Most Popular Personality on Australian Television?']\n",
      "101 : ['What business does Alexander McQueen have?']\n",
      "101 : ['Tell me the Greek deity of sibling of Zeus and that contains the word poseidon in its name?']\n",
      "101 : ['Who organizes the order of Ultima III: Exodus?']\n",
      "101 : ['Who was the lead actor for the movie Deadpool?']\n",
      "101 : ['Mention the musical related work highlighting the work of Sasha Grey.']\n",
      "101 : ['What award did John de Mol receive in 2011?']\n",
      "101 : ['Is the total fertility rate of Algeria greater than 3.4284?']\n",
      "101 : ['When will the pressure and temperature of water reach the triple point stage?']\n",
      "101 : ['Tell me physical phenomenon whose name has the word surface in it.']\n",
      "101 : ['where does Vladimir putin reside?']\n",
      "101 : ['Which is the municipality of Belgium that has the headquarters location of European Union?']\n",
      "101 : ['Which is made from the goat meat having a common name as Domestic Goat?']\n",
      "101 : ['What is located on terrain feature of Multonmah Falls?']\n",
      "101 : ['Stonewall Jackson commanded what battle?']\n",
      "101 : ['Mention the temperature and the state of the matter of water upon achieving the critical point']\n",
      "101 : ['which is the point time for syria has population as 8.08815e+06?']\n",
      "101 : ['Does marketing involve Human communication, and packaging and labeling?']\n",
      "101 : ['WHICH IS THE STAGE RACE WITH THE MAXIMUM FREQUENCY OF EVENT']\n",
      "101 : ['WHICH IS THE AUSTRIAN MUNICIPALITY KEY OF  KLAGENFURT']\n",
      "101 : ['Tell me the autonomous region of the Peoples Republic of China which contains the word xinjiang in its name?']\n",
      "101 : ['What is the Velká pardubická with the lowest race time whose winner is Peter Gehm?']\n",
      "101 : ['Who is the author of the Watchmen and what award did they receive?']\n",
      "101 : ['Name a book written in Esperanto']\n",
      "101 : ['What is the general manager of Bernard Hinault?']\n"
     ]
    },
    {
     "name": "stdout",
     "output_type": "stream",
     "text": [
      "102 : ['Name the FSK 12 rated 3D film with the highest cost ?']\n"
     ]
    },
    {
     "name": "stdout",
     "output_type": "stream",
     "text": [
      "103 : ['How many are interested in Daniel Dennett?']\n"
     ]
    },
    {
     "name": "stdout",
     "output_type": "stream",
     "text": [
      "104 : ['In 1996, what significant event happened in the administrative territorial entity of Bristol?']\n"
     ]
    },
    {
     "name": "stdout",
     "output_type": "stream",
     "text": [
      "105 : ['Where is the river source of the Rhine?']\n",
      "106 : ['What was Cate Blanchett nominated for her work in Im Not There?']\n"
     ]
    },
    {
     "name": "stdout",
     "output_type": "stream",
     "text": [
      "107 : ['Tell me the tower that is depicted as Tower of Babel and contains the word babel in its name?']\n"
     ]
    },
    {
     "name": "stdout",
     "output_type": "stream",
     "text": [
      "108 : ['What position was held by Harold Macmillan in the 34th Parliament of the United Kingdom, when was he elected, and why did he leave?']\n"
     ]
    },
    {
     "name": "stdout",
     "output_type": "stream",
     "text": [
      "109 : ['is the maximum wavelength of sensitivity of the human eye equal to 700?']\n"
     ]
    },
    {
     "name": "stdout",
     "output_type": "stream",
     "text": [
      "110 : ['Where was the location of birth of Hermann Heinrich Gossen, that has Q48460 such that 2--4355126?']\n",
      "111 : ['Who received the Nobel Prize in Literature after Mo Yan?']\n"
     ]
    },
    {
     "name": "stdout",
     "output_type": "stream",
     "text": [
      "112 : ['When did Eiji Toyoda win an award for his work in Order of Prince Henry?']\n",
      "113 : ['When was Jimmy Wales employed as Bomis and when did he leave?']\n",
      "114 : ['Which is the author of afterword of Erich Fromm?']\n",
      "115 : ['Who are worked for Michelle Wolf and its source location of group/organisation is located in New York City?']\n"
     ]
    },
    {
     "name": "stdout",
     "output_type": "stream",
     "text": [
      "116 : ['What are the unit of measurement which start with the letter visus']\n",
      "117 : ['what was the publication date for iTunes which has software version as 12.7.5?']\n"
     ]
    },
    {
     "name": "stdout",
     "output_type": "stream",
     "text": [
      "118 : ['Dennis M. Ritchie designed which structured programming language?']\n"
     ]
    },
    {
     "name": "stdout",
     "output_type": "stream",
     "text": [
      "119 : ['What role does Mickey Mouse play in the creative work of Ben Sharpsteen?']\n"
     ]
    },
    {
     "name": "stdout",
     "output_type": "stream",
     "text": [
      "Link batch time: 54.542216777801514\n",
      "Anno batch time: 479.19709181785583\n",
      "Conv batch time: 0.0046329498291015625\n",
      "[Pipeline1]: Linking 149-199\n",
      "151 : ['What is the stock exchange for the ticker symbol 0700 in Tencent?']\n",
      "151 : ['What are the head of state and the office held by head of state of the Soviet Union?']\n",
      "151 : ['What is the name of award recieved for Dawn Fraser has participant of 1960 Summer Olympics ?']\n",
      "151 : ['What is the parent organization for the International Court of Justice?']\n",
      "151 : ['What is the beginning of Sarajevos']\n",
      "151 : ['What significant event in 1978-6-1 is Michelle Bachelet known for?']\n",
      "151 : ['What is the solubility of methyl chloride in water?']\n",
      "151 : ['What five U.S. states does the Delaware River drain from?']\n",
      "151 : ['Which birth language is Chizoba Ejike?']\n",
      "151 : ['What is the ionization energy of the nicotine?']\n",
      "151 : ['Is tuberculosis prevalent?']\n",
      "151 : ['Who is {creators} of {language of the original work} {Star Trek Into Darkness} ?']\n",
      "151 : ['Who is the spouse of Aaliyah and when did they divorce?']\n",
      "151 : ['What is {inhabitants} {nationality} of {Leopold von Sacher-Masoch} ?']\n",
      "151 : ['What is the affiliation building in Columbia University']\n",
      "151 : ['What is the commune of France with the lowest population whose located in time zone is UTC+01:00?']\n",
      "151 : ['What is the district of the city with the MAX(number of houses whose instance of is district of the city?']\n",
      "151 : ['What is Bram Stokers occupation and field of work and did he work in Dublin Castle?']\n",
      "151 : ['How many seasons of Handball-Bundesliga are there?']\n",
      "151 : ['What is place of residence of Wangari Maathai,that has inflation rate of consumer price index as 2.9?']\n",
      "151 : ['Who is the child of Pompey and the mother, Mucia Tertia?']\n",
      "151 : ['Name an alcoholic beverage that contains the word rum  in its name']\n",
      "151 : ['How many terminus are in Vienna']\n",
      "151 : ['What is in the region of Paroo River, that divides into Ku-ring-gai Council?']\n",
      "151 : ['What has been the ister city of Changchun since Aug 25th, 1992?']\n",
      "151 : ['How many rivers and lakes are connected to Lake Urmia?']\n",
      "151 : ['Tell me soil type whose name has the word vertisol in it.']\n",
      "151 : ['What is Lizzy Yarnolds TheSports.org athlete ID?']\n",
      "151 : ['What is { award received } from { Justin Timberlake } that is { point in time } is { 2007 - 0 - 0 }?']\n",
      "151 : ['Which religious concept starts with the letter t']\n",
      "151 : ['Is it true that the explosive energy equivalent of Father of All Bombs is less than 52.8?']\n",
      "151 : ['When did child of Abigail Adams and date of birth?']\n"
     ]
    },
    {
     "name": "stdout",
     "output_type": "stream",
     "text": [
      "152 : ['Does the Becherovka alcohol by volume less than 30.4']\n"
     ]
    },
    {
     "name": "stdout",
     "output_type": "stream",
     "text": [
      "153 : ['What are the prefecture-level city  which start with the letter ürümqi']\n"
     ]
    },
    {
     "name": "stdout",
     "output_type": "stream",
     "text": [
      "154 : ['tell me ceremony whose name has the word umhlanga in it']\n",
      "155 : ['Which is {played as} of {symbol} of {inequality} ?']\n"
     ]
    },
    {
     "name": "stdout",
     "output_type": "stream",
     "text": [
      "156 : ['What is edition runtime for League of Legends?']\n",
      "157 : ['What is the name of the Dutch municipal coat of arms of Amsterdam?']\n"
     ]
    },
    {
     "name": "stdout",
     "output_type": "stream",
     "text": [
      "158 : ['Which is the sauce that originated in Korea?']\n",
      "159 : ['How many depositors are with the {United Nations Secretary-General} ?']\n"
     ]
    },
    {
     "name": "stdout",
     "output_type": "stream",
     "text": [
      "160 : ['Which is the electric charge for antihydrogen?']\n",
      "161 : ['Who gave the {is shown in} of {based upon} of {Clark Kent} ?']\n"
     ]
    },
    {
     "name": "stdout",
     "output_type": "stream",
     "text": [
      "162 : ['How far west are we?']\n",
      "163 : ['Tell me national association football team whose name has the word team in it.']\n"
     ]
    },
    {
     "name": "stdout",
     "output_type": "stream",
     "text": [
      "164 : ['Tell me the most notable work of Christopher Hitchens and also the publisher.']\n"
     ]
    },
    {
     "name": "stdout",
     "output_type": "stream",
     "text": [
      "165 : ['What is the INSEE countries and foreign territories code for the Democratic Republic of Congo?']\n",
      "166 : ['What is the warheroes.ru ID for Yuri Gagarin?']\n"
     ]
    },
    {
     "name": "stdout",
     "output_type": "stream",
     "text": [
      "167 : ['Is the diameter pf nickel equal to 0.807?']\n"
     ]
    },
    {
     "name": "stdout",
     "output_type": "stream",
     "text": [
      "168 : ['Is the stated age of Rolf-Axel Eberhardt greater than 52?']\n",
      "169 : ['When Podgorica started as Principality of Montenegro?']\n"
     ]
    },
    {
     "name": "stdout",
     "output_type": "stream",
     "text": [
      "Link batch time: 38.74455904960632\n",
      "Anno batch time: 296.14959359169006\n",
      "Conv batch time: 0.0042040348052978516\n",
      "[Pipeline1]: Linking 199-249\n",
      "201 : ['IS THE ENTHALPY OF VAPORIZATION OF METHANOL IS EQUAL TO 37400']\n",
      "201 : ['What award was received Mary Tyler Moore ?']\n",
      "201 : ['what is Tuesday named after?']\n",
      "201 : ['How many of the archives are for Grace Hopper?']\n",
      "201 : ['Which is the narrative location of Siddhartha?']\n",
      "201 : ['Where is the place of Tartuffes first performance with the farthest east coordinates of 48.8363848 2.4697602?']\n",
      "201 : ['What are the military operation which start with the letter o']\n",
      "201 : ['Is the matches/games drawn/tied of the 2001 British and Irish Lions tour to Australia equal to 0?']\n",
      "201 : ['Who is the mother and husband of Candice Bergen?']\n",
      "201 : ['Which language written from Romy Schneider, has the grammatical person speaking as the third personal plural?']\n",
      "201 : ['Does the cash back of the Gold  ADAC Credit Card equals 5?']\n",
      "201 : ['Who is the opposite of the superhero?']\n",
      "201 : ['What is the use of playing World Rugby?']\n",
      "201 : ['What is the current population of Aden?']\n",
      "201 : ['what is spouse of Carlos Saura that is start time is 2006?']\n",
      "201 : ['How many numbers of exclave for the  {Azerbaijan} ?']\n",
      "201 : ['Which is the total equity of Micron Technology?']\n",
      "201 : ['Was Michael J. Foxs place of birth in Edmonton?']\n",
      "201 : ['What is Palace of Westminsters architect and heritage designation?']\n",
      "201 : ['is it true that the SSK6-1s optimum viable temperature is greater than 24.0?']\n",
      "201 : ['Which country housed the Indian Independence Movement?']\n",
      "201 : ['Name a nonmetal discovered in England  that starts with letter O']\n",
      "201 : ['What did Sidney Crosby draft?']\n",
      "201 : ['How many shogun military ranks are there?']\n",
      "201 : ['Who was presumably thought to be a student of Strabo?']\n",
      "201 : ['What position did John Hume hold, when was he elected, and what position did he hold in the 53rd Parliament of the United Kingdom?']\n",
      "201 : ['Who is the son of Jacob Conover?']\n",
      "201 : ['Gordon Lightfoot was nominated for what at what time?']\n",
      "201 : ['What is John Xs persumed date of date according to sourcing circumstances?']\n",
      "201 : ['Which is the patron saint of the place of death of Anna de Medici?']\n",
      "201 : ['Is it true that the fee of Harvard University is less than 90?']\n",
      "201 : ['What is BIA PSY person ID for Carl Rogers ?']\n"
     ]
    },
    {
     "name": "stdout",
     "output_type": "stream",
     "text": [
      "202 : ['Who is the captain of F.C. Porto?']\n"
     ]
    },
    {
     "name": "stdout",
     "output_type": "stream",
     "text": [
      "203 : ['What are the autonomous region of the Peoples Republic of China which start with the letter X']\n"
     ]
    },
    {
     "name": "stdout",
     "output_type": "stream",
     "text": [
      "204 : ['What is the time zone that Marseille is located in?']\n"
     ]
    },
    {
     "name": "stdout",
     "output_type": "stream",
     "text": [
      "205 : ['What award did Harry Martinson adn Eyvind Johnson receive together?']\n"
     ]
    },
    {
     "name": "stdout",
     "output_type": "stream",
     "text": [
      "206 : ['Mention the headquarter location of the Russian Orthodox Church monastery.']\n",
      "207 : ['What is Bandysidan player ID for Sergey Lomanov ?']\n",
      "208 : ['Who are the writers of the academic subject Ten simple rules for editing Wikipedia?']\n"
     ]
    },
    {
     "name": "stdout",
     "output_type": "stream",
     "text": [
      "209 : ['Name the female who discovered the Horsehead Nebula.']\n",
      "210 : ['Name a fruit composed of Citrullus lanatus that starts with letter W']\n",
      "211 : ['What conflict is depicted is Raising the Flag on Iwo Jima?']\n"
     ]
    },
    {
     "name": "stdout",
     "output_type": "stream",
     "text": [
      "212 : ['What what is unary operation notation by integral symbol and which that starts with {i}']\n",
      "213 : ['What is being treated in an individual with arteriosclerosis?']\n"
     ]
    },
    {
     "name": "stdout",
     "output_type": "stream",
     "text": [
      "214 : ['What is the category for recipients for the Noble Prize?']\n",
      "215 : ['At what rate was inflation in Venezuela in the year 1996?']\n",
      "216 : ['When was Vittorio De Sica nominated for an Academy Award for Best Supporting Actor?']\n"
     ]
    },
    {
     "name": "stdout",
     "output_type": "stream",
     "text": [
      "217 : ['What is Auñamendi ID of Miguel López de Legazpi ?']\n",
      "218 : ['What is the timezone of the place Sallust died?']\n"
     ]
    },
    {
     "name": "stdout",
     "output_type": "stream",
     "text": [
      "219 : ['Did the East India Company own the Britannia and the Busbridge?']\n"
     ]
    },
    {
     "name": "stdout",
     "output_type": "stream",
     "text": [
      "Link batch time: 33.74914574623108\n",
      "Anno batch time: 274.72728061676025\n",
      "Conv batch time: 0.003214597702026367\n",
      "[Pipeline1]: Linking 249-299\n",
      "251 : ['Which is the ISNI for Marit Bjørgen?']\n",
      "251 : ['What is total fertility rate of Trinidad and Tobago that is determination method is estimation process ?']\n",
      "251 : ['Which church is located in the parish border Krukengrund?']\n",
      "251 : ['What was Philip Roth nominated for in 2011?']\n",
      "251 : ['Where is the deathplace of Gediminas, whose twin town is Irkutsk?']\n",
      "251 : ['What is the fuel system of electricity?']\n",
      "251 : ['In the 68th Academy Awards, what nomination did Mira Sorvino receive?']\n",
      "251 : ['Tell me interface standard whose name has the word virtuallink in it.']\n",
      "251 : ['What is Ferenc Molnars compArt person ID?']\n",
      "251 : ['Which is the Great Aragonese Encyclopedia ID for Allium cepa?']\n",
      "251 : ['Tell me medical specialty whose name has the word trichology in it.']\n",
      "251 : ['how many performances are by jimi hendrix?']\n",
      "251 : ['What is the state of India that contain the word uttarakhand in its name ?']\n",
      "251 : ['Who is drafted by the Boston Celtics?']\n",
      "251 : ['Name the BAFTA settlement with the postcode DA.']\n",
      "251 : ['Is the maximum number of players for the coxless four 0.0?']\n",
      "251 : ['Name a religious concept in Hinduism that contains the word yatra in its name']\n",
      "251 : ['Which is the golf course arena carrying designs patterns of Donald Trump?']\n",
      "251 : ['What is the religious affiliation of Vladimir the Greats child?']\n",
      "251 : ['What was the population of the Maldives in 1967?']\n",
      "251 : ['What year did Le Corbusier win the Frank P. Brown Medal?']\n",
      "251 : ['Tell me the city which is enclaved within Montreal.']\n",
      "251 : ['who was the pope replaced by?']\n",
      "251 : ['Is it true that the minimum wavelength sensitivity of the Giant Magellan Telescope is 320?']\n",
      "251 : ['Which is a used metre of lliad?']\n",
      "251 : ['Where is {on harbour} of {Kryvyi Rih}, which has {tributary} is {Saksahan} ?']\n",
      "251 : ['Who stars with Ian Carlyle in the production?']\n",
      "251 : ['What causes rain?']\n",
      "251 : ['What is the service branch  by Julius and Ethel Rosenberg, which has subsidiary entities including Arlington National Cemetery?']\n",
      "251 : ['Was Hank WIlliams a rockabilly and honky-tonk musician?']\n",
      "251 : ['When did Aaron Kwok receive the award for Golden Horse Award for Best Leading Actor?']\n",
      "251 : ['When did Marco Polo marry Donata Badoer?']\n"
     ]
    },
    {
     "name": "stdout",
     "output_type": "stream",
     "text": [
      "252 : ['Who was Al Gores spouse beginning in 1970?']\n"
     ]
    },
    {
     "name": "stdout",
     "output_type": "stream",
     "text": [
      "253 : ['What appearance of a Christmas tree happens every January 19?']\n"
     ]
    },
    {
     "name": "stdout",
     "output_type": "stream",
     "text": [
      "254 : ['What is the home venue of the Green Bay Packers?']\n",
      "255 : ['Which is the enterprise for the parent organization of Sears?']\n"
     ]
    },
    {
     "name": "stdout",
     "output_type": "stream",
     "text": [
      "256 : ['Who proved the theory of Proper Motion? Their surname is Halley.']\n",
      "257 : ['What head coach is the New York Yankees named after?']\n"
     ]
    },
    {
     "name": "stdout",
     "output_type": "stream",
     "text": [
      "258 : ['What are the national cuisine which start with the letter m']\n",
      "259 : ['Which is the television series which contains the word zigby in its name?']\n"
     ]
    },
    {
     "name": "stdout",
     "output_type": "stream",
     "text": [
      "260 : ['Tell me about spouse of Barbara Walters and start time?']\n"
     ]
    },
    {
     "name": "stdout",
     "output_type": "stream",
     "text": [
      "261 : ['What is the second language of Peter Faber which regulatory body is Pontifical Academy of Latin?']\n",
      "262 : ['What is the honorary title given to Albert Gunther which was won by P.A. Buxton?']\n",
      "263 : ['Is it true that the topographic isolation of Pollux equals to 0.7?']\n"
     ]
    },
    {
     "name": "stdout",
     "output_type": "stream",
     "text": [
      "264 : ['What award did Edward C. Prescott receive on 1-1-2004?']\n"
     ]
    },
    {
     "name": "stdout",
     "output_type": "stream",
     "text": [
      "265 : ['where is the headquartes of  formation of google located?']\n",
      "266 : ['What is melody of Tristan und Isolde ?']\n"
     ]
    },
    {
     "name": "stdout",
     "output_type": "stream",
     "text": [
      "267 : ['What time has Manhattan listed as the end time for a maritime evacuation event?']\n"
     ]
    },
    {
     "name": "stdout",
     "output_type": "stream",
     "text": [
      "268 : ['What has the eccentricity of 0.0567, that is located on astronomical body of the near side of the moon?']\n"
     ]
    },
    {
     "name": "stdout",
     "output_type": "stream",
     "text": [
      "269 : ['What is the diplomatic relations like in basin countries of Lake Okeechobee?']\n"
     ]
    },
    {
     "name": "stdout",
     "output_type": "stream",
     "text": [
      "Link batch time: 56.98319673538208\n",
      "Anno batch time: 296.1137957572937\n",
      "Conv batch time: 0.004342555999755859\n",
      "[Pipeline1]: Linking 299-349\n",
      "301 : ['What two cities hold the principle offices of Financial Times?']\n",
      "301 : ['How many active ingredients are in lidocaine?']\n",
      "301 : ['Where was Augustus II the Strong buried?']\n",
      "301 : ['Is it true that the semi-major axis of 1627 Ivar is greater than 2.2361778?']\n",
      "301 : ['What is the CBS municipality code of Nijmegen?']\n",
      "301 : ['Was Herbie Hancock the winner of the award for the Grammy Award for Best Pop Collaboration with Vocals?']\n",
      "301 : ['What is the total fertility rate of Sudan with estimation process?']\n",
      "301 : ['Is the half-life of silicon-36 less than 0.54?']\n",
      "301 : ['What is a sovereign state for office held by the popes head of state?']\n",
      "301 : ['What is the Malayalam alphabet?']\n",
      "301 : ['Which programming language did Dennis M. Ritchie create?']\n",
      "301 : ['WHICH IS THE ZUCKERART THAT CONTAINS WITH THE WORD SYRUP IN THER NAME']\n",
      "301 : ['Which reward was The Diary of Anne Frank a nominee for?']\n",
      "301 : ['Name a business whose heaquarters are located in Lyon']\n",
      "301 : ['What is the Commons category of Classic of Poetry ?']\n",
      "301 : ['Who was married to Ida Lupino on January 1st, 1951?']\n",
      "301 : ['What agent had conflict with Lowell English?']\n",
      "301 : ['What does European Parliament approve?']\n",
      "301 : ['WHat location that belongs to the World Heritage starts with the letter H']\n",
      "301 : ['mike krzyzewski name']\n",
      "301 : ['What is Fantastic Fiction author ID of James Ellroy?']\n",
      "301 : ['Where was Syrie Maughams country of citizenship in 1927?']\n",
      "301 : ['Who is {took part in} of {boy}, which has {theatre season} is {classical antiquity} ?']\n",
      "301 : ['What administrative territorial entity was Sint Maarten located in the year December 15, 1954?']\n",
      "301 : ['What is the density of aluminium at a temperature of 20 degrees?']\n",
      "301 : ['What is the country of citizenship and the religion of Elizabeth_Smart ?']\n",
      "301 : ['Which is the GeneReviews ID for Alzheimers disease?']\n",
      "301 : ['When did Artem Sergeev, adopted son of Joseph Stalin, die?']\n",
      "301 : ['What is {holds position} of {Martin McGuinness}, which has {prequel of} is {Member of the 55th Parliament of the United Kingdom} ?']\n",
      "301 : ['What what is animated taxondistributed by MGM and {family}']\n",
      "301 : ['Which is the SAHRA heritage site ID for University of Cape Town?']\n",
      "301 : ['What is the CPU with the greatest charge?']\n"
     ]
    },
    {
     "name": "stdout",
     "output_type": "stream",
     "text": [
      "302 : ['When did Sarah Bernhardt and Jacques Damala split up?']\n",
      "303 : ['What is the birth city of Kirsten Stewart, with the county seat of Los Angeles County?']\n"
     ]
    },
    {
     "name": "stdout",
     "output_type": "stream",
     "text": [
      "304 : ['Where {faith} {has influence} on {Madonna} ?']\n",
      "305 : ['What in the code for INS?']\n"
     ]
    },
    {
     "name": "stdout",
     "output_type": "stream",
     "text": [
      "306 : ['When did Alla Pugacheva divorce his wife, Mykolas Orbakas?']\n",
      "307 : ['When was Isadora Duncans funeral?']\n"
     ]
    },
    {
     "name": "stdout",
     "output_type": "stream",
     "text": [
      "308 : ['Which is the gens of Sallust?']\n"
     ]
    },
    {
     "name": "stdout",
     "output_type": "stream",
     "text": [
      "309 : ['who culture of state of australian secret intelligence services ?']\n",
      "310 : ['What are the opening hours for Thursday?']\n",
      "311 : ['What language does the sculptor of Z3 write in?']\n"
     ]
    },
    {
     "name": "stdout",
     "output_type": "stream",
     "text": [
      "312 : ['What award did I.M. Pei receive in 2010?']\n"
     ]
    },
    {
     "name": "stdout",
     "output_type": "stream",
     "text": [
      "313 : ['Where is {deathplace} of {Amelia Earhart}, which has {tributary} is {Ayampe River} ?']\n"
     ]
    },
    {
     "name": "stdout",
     "output_type": "stream",
     "text": [
      "314 : ['Was Cleopatras child named Caesarion?']\n"
     ]
    },
    {
     "name": "stdout",
     "output_type": "stream",
     "text": [
      "315 : ['When did Barry Humphries receive the Centenray medal?']\n",
      "316 : ['Which chemical compound has the most binding energy?']\n"
     ]
    },
    {
     "name": "stdout",
     "output_type": "stream",
     "text": [
      "317 : ['When did Abigail Adams father die, and who was he?']\n"
     ]
    },
    {
     "name": "stdout",
     "output_type": "stream",
     "text": [
      "318 : ['What was the population of Washington, D.C. at the start of 1860?']\n"
     ]
    },
    {
     "name": "stdout",
     "output_type": "stream",
     "text": [
      "319 : ['Did Mao Zedong hold a position as President of the Peoples Republic of China?']\n"
     ]
    },
    {
     "name": "stdout",
     "output_type": "stream",
     "text": [
      "Link batch time: 29.448797464370728\n",
      "Anno batch time: 321.357213973999\n",
      "Conv batch time: 0.004072666168212891\n",
      "[Pipeline1]: Linking 349-399\n",
      "351 : ['What effects does arsenic have at the minimal lethal dose of 300?']\n",
      "351 : ['Is it true that the maximum wavelength of sensitivity of Submilimeter Array is greater than 2.004?']\n",
      "351 : ['What nonprofit organization is regulated by the association of football?']\n",
      "351 : ['What diplomatic crisis lead to the founding of the Russian Orthodox Church?']\n",
      "351 : ['Which is the spacecraft that is manufactured by SpaceX?']\n",
      "351 : ['When was Boris Johnson the Member of the 56th  Parliament of the United Kingdom?']\n",
      "351 : ['who  is the city for capital of wales?']\n",
      "351 : ['Which is the Commons gallery for Georges Seurat?']\n",
      "351 : ['What is a nut that starts with the letter n.']\n",
      "351 : ['When is the date and birth of Joseph Stalins child with Svetlana Alliluyeva?']\n",
      "351 : ['How many works are occupied in the Rijksmuseum?']\n",
      "351 : ['Where is the archive for archives of The Walt Disney company?']\n",
      "351 : ['What is the work of Jack Warner awarded as Academy Award for Best Picture?']\n",
      "351 : ['What is the birthplace of Maureen OHara, which has the co-ordinate location of 53.3252?']\n",
      "351 : ['What is the official residence of Queens?']\n",
      "351 : ['Which is the {participant} and the {location} of {Pacific_War} ?']\n",
      "351 : ['To whom did Gerard Reve got married and when did it end?']\n",
      "351 : ['What domain has the aspect of bodhisattva?']\n",
      "351 : ['What is the Commonwealth area with the lowest real gross domestic product growth rate whose diplomatic relation is Taiwan?']\n",
      "351 : ['What is located on the astronomical body of North America?']\n",
      "351 : ['Who is the owner of the theatre company that made The Birth of the Star Spangled Banner?']\n",
      "351 : ['How did John Wilkes Booth kill Abraham Lincoln?']\n",
      "351 : ['What sovereign state belonging to the International Finance Corporation has the lowest unemployment rate?']\n",
      "351 : ['Who was the person with Chris Rock when he was awarded the Lunt-Fontanne Award for Ensemble Excellence?']\n",
      "351 : ['What does Kelly Clarkson do and where is she a citizen?']\n",
      "351 : ['What is the Uppslagsverket Finland ID for kickboxing?']\n",
      "351 : ['How many different kinds of industry are affected by furniture?']\n",
      "351 : ['When did Lee de Forest divorce from Nora Stanton Blatch Barney?']\n",
      "351 : ['Mention the predecessor and the successor of Louis the Pious while being recognized as king of Franks']\n",
      "351 : ['does the explosive energy of the tsar bomba equal 500']\n",
      "351 : ['What is the bibliography of the  PhD advisor to Karl Herzfeld?']\n",
      "351 : ['What is the interaction of antiparticle symmetric correspondence with Q48460 521.1?']\n"
     ]
    },
    {
     "name": "stdout",
     "output_type": "stream",
     "text": [
      "352 : ['What is the estimation rate of Slovakia fertility?']\n"
     ]
    },
    {
     "name": "stdout",
     "output_type": "stream",
     "text": [
      "353 : ['Tell me {intergovernmental organization}  whose name  starts with s']\n"
     ]
    },
    {
     "name": "stdout",
     "output_type": "stream",
     "text": [
      "354 : ['Is it true that the Wu Tang Clan signed with Loud Records and Ruff Ryders Entertainment?']\n"
     ]
    },
    {
     "name": "stdout",
     "output_type": "stream",
     "text": [
      "355 : ['what is stable version of user interface of amazon kindle?']\n",
      "356 : ['which award E.T. the Extra-Terrestrial did receive and at what time he got it?']\n",
      "357 : ['What is the music genre that is made by Battle Zeque Den']\n"
     ]
    },
    {
     "name": "stdout",
     "output_type": "stream",
     "text": [
      "358 : ['When did Ronna Romney McDaniel become chairperson of the Republican Party?']\n",
      "359 : ['Which is the Basketball-Reference.com NBA player ID of Hakeem Olajuwon?']\n"
     ]
    },
    {
     "name": "stdout",
     "output_type": "stream",
     "text": [
      "360 : ['What are the beliefs of the Chinese Communist Partys Chair, Hu Jintao?']\n",
      "361 : ['What is { solubility } of { nitrous oxide } { solvent } is { water }?']\n",
      "362 : ['What type of beryl is found at he GPS coordinates of 24.77111111 34. 71805556?']\n",
      "363 : ['Which {history of topic} and the {geography of topic} is {Melbourne} ?']\n",
      "364 : ['What is the sister city of Ivan Turgenevs hometown?']\n",
      "365 : ['Who was the teacher of the musical score of Suite 1922?']\n",
      "366 : ['Is a black hole the opposite of a stellar atmosphere?']\n",
      "367 : ['Did Francis Ford Coppola have notable works of The Godfather and The Godfather Part III?']\n",
      "368 : ['tell me audio and video interfaces and connectors are name has the word ypbpr in it']\n"
     ]
    },
    {
     "name": "stdout",
     "output_type": "stream",
     "text": [
      "369 : ['What is the official language of lives in Pasi Siltakorpi?']\n"
     ]
    },
    {
     "name": "stdout",
     "output_type": "stream",
     "text": [
      "Link batch time: 27.011193990707397\n",
      "Anno batch time: 294.05311608314514\n",
      "Conv batch time: 0.0041980743408203125\n",
      "[Pipeline1]: Linking 399-449\n",
      "401 : ['How many colors are next to brown']\n",
      "401 : ['What is the active ingredient pharmaceutical product in erythromycin?']\n",
      "401 : ['Is the PPP GDP per capita of Lithuania less than 22148.8']\n",
      "401 : ['Is the topographic prominence of the Franzosenkopf less than 4.0?']\n",
      "401 : ['What Chinese dynasty replaced the Yuan dynasty?']\n",
      "401 : ['How would you spell meat pie using the international phonetic alphabet?']\n",
      "401 : ['Where is the human place of birth in Thessaloniki?']\n",
      "401 : ['What is Anthony Vivaldis CPDL ID?']\n",
      "401 : ['did john grisham have a degree in law in the University of mississippi school of law?']\n",
      "401 : ['Who else participated in Deep Blue with top dog Cray Blitz?']\n",
      "401 : ['What is GACS ID for West Africa?']\n",
      "401 : ['When did Johnny Carson start as the presenter for The Tonight Show?']\n",
      "401 : ['How many armament does the aircraft has?']\n",
      "401 : ['Where and what did Katherine Dunham study?']\n",
      "401 : ['Name the womens association football team who play the least in tournaments.']\n",
      "401 : ['How many input methods are on a computer keyboard?']\n",
      "401 : ['Tell me me a cryptocurrenc whose name consist of the word neo and whose stock exchange bitfinex']\n",
      "401 : ['What are Jews the opposite of and for whom are they named?']\n",
      "401 : ['What explosive chemical has the highest explosive velocity ?']\n",
      "401 : ['Is the human genome size more than 3881796000?']\n",
      "401 : ['Where is the drainage basin of the Brazos River?']\n",
      "401 : ['Who is C. V. Ramans doctor']\n",
      "401 : ['Who is the viceroy of Tasmania?']\n",
      "401 : ['What is at the Kolyma River at the coordinates 161.364?']\n",
      "401 : ['What is the court and application of jurisdiction of Roe v. Wade?']\n",
      "401 : ['What are the phantom island which start with the letter T']\n",
      "401 : ['Which German city is twinned with Cardiff?']\n",
      "401 : ['How many games did Just Fontaine play for the O.G.C. Nice and how many goals did he score?']\n"
     ]
    },
    {
     "name": "stdout",
     "output_type": "stream",
     "text": [
      "401 : ['What position does David Lloyd George hold?']\n",
      "401 : ['What portrait has the Woman Drinking Wine wearing a pendant?']\n",
      "401 : ['Cholera affects which taxon?']\n",
      "401 : ['Is Schutzstaffels subsidiary Reich Main Security Office and 21st Waffen Mountain division of the SS Skanderbeg?']\n"
     ]
    },
    {
     "name": "stdout",
     "output_type": "stream",
     "text": [
      "402 : ['In the consort of Myrna Loy, what is the service branch?']\n"
     ]
    },
    {
     "name": "stdout",
     "output_type": "stream",
     "text": [
      "403 : ['When did Supernatural win the Favorite Pop/Rock Album award?']\n"
     ]
    },
    {
     "name": "stdout",
     "output_type": "stream",
     "text": [
      "404 : ['What is the international organization for World Bank?']\n"
     ]
    },
    {
     "name": "stdout",
     "output_type": "stream",
     "text": [
      "405 : ['What was the population of Aysén Region from 1992-0-0?']\n",
      "406 : ['What are the historical progress which start with the letter g']\n",
      "407 : ['what was the position held by john major and when did it end?']\n",
      "408 : ['Matthias Sindelar who has number of points/goals/set scored as 26.0 is a member of which sports team ?']\n"
     ]
    },
    {
     "name": "stdout",
     "output_type": "stream",
     "text": [
      "409 : ['TELL ME TRADITIONAL FAIRY TALE WHOSE NAME HAS THE WORD SNOW IN IT.']\n",
      "410 : ['Which award did One Piece receive in 2009?']\n",
      "411 : ['What is the number of original networks owned by the Discovery Channel?']\n",
      "412 : ['WHO IS THE PARENT OF SON FRANCESCO I SFORZA ?']\n"
     ]
    },
    {
     "name": "stdout",
     "output_type": "stream",
     "text": [
      "413 : ['Where does Po fit into the location 12.5469?']\n",
      "414 : ['Which are the cites of Tractatus Logico-Philosophicus?']\n",
      "415 : ['What has the Pokedex number 36 and follows Pikachu?']\n",
      "416 : ['What are the fictional detective which start with the letter s']\n"
     ]
    },
    {
     "name": "stdout",
     "output_type": "stream",
     "text": [
      "417 : ['Who is {nomination received} of {George Marshall}, which has {champion} is {Mikhail Gorbachev} ?']\n",
      "418 : ['Who is the showrunner of The Apprentice, who also has a sister called Robert Trump?']\n",
      "419 : ['Were Dutch and Hungarian the official languages of the Holy Roman Empire?']\n"
     ]
    },
    {
     "name": "stdout",
     "output_type": "stream",
     "text": [
      "Link batch time: 23.134286165237427\n",
      "Anno batch time: 333.16661071777344\n",
      "Conv batch time: 0.0024313926696777344\n",
      "[Pipeline1]: Linking 449-499\n",
      "451 : ['What type of clothing do the characters in The Silent Stars Go By wear?']\n",
      "451 : ['How do you pronounce coffee in the Georgian language?']\n",
      "451 : ['tell me demigod of Greek mythology wears hide  starts with h']\n",
      "451 : ['What is the cardinality of the complex logarithm input set?']\n",
      "451 : ['Tell me the famine which starts with the letter t?']\n",
      "451 : ['WHO DIRECTS THE POLITICAL OFFICE HELD IN EDUARDO LOPEZ DORIGA']\n",
      "451 : ['What position is held by Ramsay MacDonald and when was he elected?']\n",
      "451 : ['tell me about thoracic disease that contains the word syndrome in their name']\n",
      "451 : ['what is the world heritage Tentative liste ID of  Univirsity of Tahran']\n",
      "451 : ['What language did Juan González de la Pezuela y Ceballos translate for Os Lusíadas?']\n",
      "451 : ['Who is {tenant} of {Windsor Castle}, that has {employment} as {postage stamp designer} ?']\n",
      "451 : ['When did Veronica Lake and Andre dé Toth end their relationship?']\n",
      "451 : ['which was the series ordinal  for ether which has  ionization energy as 9.53?']\n",
      "451 : ['Is normal distribution named after Bernhard Riemann?']\n",
      "451 : ['Is the apoapsis of the Aotearoa 3400 equal to 2.126?']\n",
      "451 : ['Which bourbon whisky has the lowest alcohol by volume whose country of origin is united states of america?']\n",
      "451 : ['What is the genetic association of major depressive disorder with the determination method TAS?']\n",
      "451 : ['When did the Three Kingdoms period end in Korea?']\n",
      "451 : ['What book series did the author Dante Alighieri write?']\n",
      "451 : ['Tell me biogeochemical cycle whose name has the word cycle in it.']\n",
      "451 : ['What business, product, or material does Facebook offer?']\n",
      "451 : ['WHICH IS THE ASSOCIATION OF FOOTCLUB THAT STARTS WITH W']\n",
      "451 : ['Into how many editions has Othello been translated?']\n",
      "451 : ['What was the result found in the species of hypothetical protein ipg2828?']\n",
      "451 : ['Where was professor Dimitri Mendeleyev educated, and what is his expertise?']\n",
      "451 : ['What team did Peter Schmeichel start playing for in 1984?']\n",
      "451 : ['Where is the name of the continent of the mountain belt in Mount Caywood?']\n",
      "451 : ['Is Azcapotzalco in the Mexico City administrative territory?']\n",
      "451 : ['Which are the grants academic degrees for Master of Business Administration?']\n",
      "451 : ['what was the country of Tyumen in 1991-12-27']\n",
      "451 : ['Who regulates the genetic association of hsa-miR-5006-3p in molecular biology']\n",
      "451 : ['Is the toughness of Grivory GM-4H less than 7.2?']\n"
     ]
    },
    {
     "name": "stdout",
     "output_type": "stream",
     "text": [
      "452 : ['what is {PhD advisor} of {favorite player} of {Anthony Giddens, Baron Giddens} ?']\n"
     ]
    },
    {
     "name": "stdout",
     "output_type": "stream",
     "text": [
      "453 : ['Name an unity of measure used for temperature that starts with letter P']\n"
     ]
    },
    {
     "name": "stdout",
     "output_type": "stream",
     "text": [
      "454 : ['What is the temperature of toxaphene that has a density of 1.65?']\n"
     ]
    },
    {
     "name": "stdout",
     "output_type": "stream",
     "text": [
      "455 : ['What is name of John Foster Dulles Latin script that has alphabet?']\n"
     ]
    },
    {
     "name": "stdout",
     "output_type": "stream",
     "text": [
      "456 : ['Is Ridley Scott the child of Luke Scott and Jordan Scott?']\n",
      "457 : ['Which new conference did Donald Trump participate in?']\n",
      "458 : ['who unit of density for measured by of density?']\n"
     ]
    },
    {
     "name": "stdout",
     "output_type": "stream",
     "text": [
      "459 : ['Tell me the point in time for Pierre de Fermat has academic degree as Bachelor of Laws?']\n"
     ]
    },
    {
     "name": "stdout",
     "output_type": "stream",
     "text": [
      "460 : ['Which  anatomical location of place built of zygote ?']\n",
      "461 : ['Which is Greek nymph which was the partner of Apollo?']\n"
     ]
    },
    {
     "name": "stdout",
     "output_type": "stream",
     "text": [
      "462 : ['When did Prince Philip, Duke of Edinburgh use the Arms of Philip Mountbatten (1947-1949) as his coat of arm?']\n",
      "463 : ['Who was nominated for an Academy Award for  Best Sound Mixing in Gladiator?']\n"
     ]
    },
    {
     "name": "stdout",
     "output_type": "stream",
     "text": [
      "464 : ['What are the national sports team  which start with the letter t']\n"
     ]
    },
    {
     "name": "stdout",
     "output_type": "stream",
     "text": [
      "465 : ['What children did the brothers and sisters of Emmanuel Philibert, Prince of Carignano, have?']\n"
     ]
    },
    {
     "name": "stdout",
     "output_type": "stream",
     "text": [
      "466 : ['At what role did John Tyler replace William Henry Harrison?']\n",
      "467 : ['Which is FIFA player ID for Stanislav Cherchesov?']\n"
     ]
    },
    {
     "name": "stdout",
     "output_type": "stream",
     "text": [
      "468 : ['Who is {followed by} and {follows} of {{Guy of Lusignan} has {noble title} as {King of Jerusalem}}']\n",
      "469 : ['Which is the historic era in Epaminondas having completed in 600-1-1?']\n"
     ]
    },
    {
     "name": "stdout",
     "output_type": "stream",
     "text": [
      "Link batch time: 23.185371160507202\n",
      "Anno batch time: 381.2809569835663\n",
      "Conv batch time: 0.004618644714355469\n",
      "[Pipeline1]: Linking 499-549\n",
      "501 : ['What was George Washingtons military rank between 1774 and 1796?']\n",
      "501 : ['What was Laurence Olivier nominated for at the 12th Academy Awards?']\n",
      "501 : ['Which is the Crossref funder ID of the National Museum of American History?']\n",
      "501 : ['What is the SIRUTA code of Constanta?']\n",
      "501 : ['Whats the Brockhaus Enzyklopadie online ID of Chile?']\n",
      "501 : ['Name a Luther city that contain the word worms  in its name']\n",
      "501 : ['When did Roman Abramovich marry Irina Abramovich?']\n",
      "501 : ['Is it true that the target interest rate of Central Bank of Azerbaijan equals to 5.25?']\n",
      "501 : ['Was Rupert Grints occupation a actor and child actor?']\n",
      "501 : ['Was Hugh_Grant relative Rick Cosnett?']\n",
      "501 : ['Which is stated in Tripitaka?']\n",
      "501 : ['What is the  Mississippi Sports Hall of Fame ID  for Brett Favre ?']\n",
      "501 : ['What is the academic area of work of Viktor Bespalov?']\n",
      "501 : ['Which is the GCatholic church ID of Archbasilica of St. John Lateran?']\n",
      "501 : ['Roger Milla was a member of which sports teams and how many matches did he play?']\n",
      "501 : ['When did the marriage between Marilyn Monroe and James Dougherty end?']\n",
      "501 : ['Which is the Kinopoisk person ID for Stanley Donen?']\n",
      "501 : ['Name a disease that starts with the letter Y']\n",
      "501 : ['What is on geographical feature of Greater Antilles whose continent is North America ?']\n",
      "501 : ['Ignatius of Loyola belongs to which Catholic order?']\n",
      "501 : ['What is the {product} of {papermaking} which is {made of} {bleach} called?']\n",
      "501 : ['What happened to the SS Naronic?']\n",
      "501 : ['What is {chairwoman} of {working for} of {Vannevar Bush} ?']\n",
      "501 : ['Who was Jonas Salks doctoral student?']\n",
      "501 : ['Shen Bao has a partner city of Rotterdam, what is the main location of the publication?']\n",
      "501 : ['What are the regions available on the coast of Lower Saxony?']\n",
      "501 : ['How many medical conditions are treated by diazepam?']\n",
      "501 : ['Do the rural cities of Para have 13155 inhabitants?']\n",
      "501 : ['What position did William Carmichael replace John Jay in?']\n",
      "501 : ['What are the type of food or dish that contains the word torta in their name']\n",
      "501 : ['which type of quantum particle has highest gyromagnetic ratio?']\n"
     ]
    },
    {
     "name": "stdout",
     "output_type": "stream",
     "text": [
      "501 : ['Tell me literary genre whose name has the word vita in it']\n"
     ]
    },
    {
     "name": "stdout",
     "output_type": "stream",
     "text": [
      "502 : ['Which equation do I use to measure horsepower ?']\n"
     ]
    },
    {
     "name": "stdout",
     "output_type": "stream",
     "text": [
      "503 : ['What is the parent company of those who work at Roberta Bondar?']\n"
     ]
    },
    {
     "name": "stdout",
     "output_type": "stream",
     "text": [
      "504 : ['What is the official language of Alice springs-Soverign state?']\n"
     ]
    },
    {
     "name": "stdout",
     "output_type": "stream",
     "text": [
      "505 : ['What is the text input for the Aruba flag emoji?']\n"
     ]
    },
    {
     "name": "stdout",
     "output_type": "stream",
     "text": [
      "506 : ['What is native language for Vincent Auriol ?']\n"
     ]
    },
    {
     "name": "stdout",
     "output_type": "stream",
     "text": [
      "507 : ['Name a memer of the Oracle Corporation']\n",
      "508 : ['Name a musical composition by Dionysus']\n"
     ]
    },
    {
     "name": "stdout",
     "output_type": "stream",
     "text": [
      "509 : ['Who was the goddess Artemis?']\n"
     ]
    },
    {
     "name": "stdout",
     "output_type": "stream",
     "text": [
      "510 : ['What position did Martin V hold that was eventually replaced by Eugene IV?']\n"
     ]
    },
    {
     "name": "stdout",
     "output_type": "stream",
     "text": [
      "511 : ['What was the {award won} by {Cream}, that was {introduced} in {1983-0-0}?']\n",
      "512 : ['Which  is farthest north of place held by Balkans Campaign?']\n",
      "513 : ['What is Jacinda Arderns position ?']\n",
      "514 : ['What category of people are in Odoacer']\n",
      "515 : ['Which is dantai code for Kyōto Prefecture?']\n"
     ]
    },
    {
     "name": "stdout",
     "output_type": "stream",
     "text": [
      "516 : ['What topic of the history of Estonia has the inflation rate of consumer price index of 1.2?']\n",
      "517 : ['When was Phonenice located in the administrative territorial entity for Damascus?']\n",
      "518 : ['Who gave the{route of administration} of {consequence} of {cyclohexane} ?']\n",
      "519 : ['What is {religious affiliation} of {ethnicity} {Sirhan Sirhan} ?']\n"
     ]
    },
    {
     "name": "stdout",
     "output_type": "stream",
     "text": [
      "Link batch time: 18.12407922744751\n",
      "Anno batch time: 267.4307312965393\n",
      "Conv batch time: 0.003331899642944336\n",
      "[Pipeline1]: Linking 549-599\n",
      "551 : ['Who practices and researches Economics?']\n",
      "551 : ['Who was the inventor of the B-tree, who was awarded the Officers Cross of the Order of Merit of the Federal Republic of Germany?']\n",
      "551 : ['Where in Père Lachaise Cemetery is Jean-François Champollion buried?']\n",
      "551 : ['What are the speakers of the working languages of the Kingdom of England?']\n",
      "551 : ['Who is the presenter of The Tonight Show?']\n",
      "551 : ['Who is the general manager of the Chicago Cubs?']\n",
      "551 : ['Is the power consumed by the World Space Observatory more than 1200?']\n",
      "551 : ['Is Vidhan Sabha executive body of Assam?']\n",
      "551 : ['When was Vasily Chuikov awarded the Order of Lenin?']\n",
      "551 : ['Tell me fictional detective whose name has the word sam in it.']\n",
      "551 : ['which  is working of   film producer of My Blue Heaven ?']\n",
      "551 : ['Tell me kinship whose name has the word uncle in it.']\n",
      "551 : ['what are the painting which start with the letter y']\n",
      "551 : ['What Academy Award subject is Mercedes Ruehl nominated for as Best Supporting Actress?']\n",
      "551 : ['What number follows -2?']\n",
      "551 : ['Was the thickness of the Bronze Age equal to .615?']\n",
      "551 : ['What what is gas giant child astronomical body by Enceladus and also which starts with letter s']\n",
      "551 : ['Is the Z scale scale 1:220?']\n",
      "551 : ['Is it true that The X-Files featured George Murdock?']\n",
      "551 : ['What is the CDB Chemical ID for isopropyl alcohol?']\n",
      "551 : ['Is the beats per minute of the Colorless Aura equal 50?']\n",
      "551 : ['Which is the Darts Database player ID of Phil Taylor?']\n",
      "551 : ['who county seat for  died in of Innokenty smoktunovsky ?']\n",
      "551 : ['What is the language official of World Baseball Softball Confederation whose typology is nominative–accusative language?']\n",
      "551 : ['When was the Arab League founded that shares a border with Ethiopia?']\n"
     ]
    },
    {
     "name": "stdout",
     "output_type": "stream",
     "text": [
      "551 : ['What is the National Park Foundation ID for the Rocky Mountain National Park?']\n",
      "551 : ['Who is the  {human} for {doctoral advisor} of {Claude Shannon}']\n",
      "551 : ['What is SIC code of forestry ?']\n",
      "551 : ['When does the head of government of Seattle starts its work period?']\n",
      "551 : ['What is Angela Merkels abgeordnetenwatch.de politician ID?']\n",
      "551 : ['What award did Marie Curie receive in 1911?']\n",
      "551 : ['What are the comic strip which start with the letter z']\n"
     ]
    },
    {
     "name": "stdout",
     "output_type": "stream",
     "text": [
      "552 : ['Is the age of majority of the USA equal to t1410874016?']\n"
     ]
    },
    {
     "name": "stdout",
     "output_type": "stream",
     "text": [
      "553 : ['What is the political party in Catalonia with min number of representatives in an organization whose political alignment is left - wing?']\n"
     ]
    },
    {
     "name": "stdout",
     "output_type": "stream",
     "text": [
      "554 : ['When did award received of Alice Munro and followed by?']\n"
     ]
    },
    {
     "name": "stdout",
     "output_type": "stream",
     "text": [
      "555 : ['which organization name starts with z']\n"
     ]
    },
    {
     "name": "stdout",
     "output_type": "stream",
     "text": [
      "556 : ['Who is the {aircraft fleet} for {uses} of {airplane}']\n"
     ]
    },
    {
     "name": "stdout",
     "output_type": "stream",
     "text": [
      "557 : ['What is the genus with the highest chromosome count in the taxon rank?']\n"
     ]
    },
    {
     "name": "stdout",
     "output_type": "stream",
     "text": [
      "558 : ['What is EDIT16 catalogue author ID for Leo X ?']\n",
      "559 : ['what is mankinds collection of venice']\n"
     ]
    },
    {
     "name": "stdout",
     "output_type": "stream",
     "text": [
      "560 : ['What award was Maria Montessori nominated for on January 1, 1950?']\n",
      "561 : ['Does the height of the BMW i8 equal 1?']\n"
     ]
    },
    {
     "name": "stdout",
     "output_type": "stream",
     "text": [
      "562 : ['Edward Livingston replaced Martin Van Buren in what postion?']\n",
      "563 : ['What family of vehicles starts with the letter v?']\n"
     ]
    },
    {
     "name": "stdout",
     "output_type": "stream",
     "text": [
      "564 : ['Which is the birth place of Malcolm Allison, that is bordered by Purfleet?']\n",
      "565 : ['Which protein interacts with oxytocin?']\n",
      "566 : ['Which is the LTI Korea Library ID for Choe Chiwon?']\n",
      "567 : ['What are the ancient civilization which start with the letter s']\n"
     ]
    },
    {
     "name": "stdout",
     "output_type": "stream",
     "text": [
      "568 : ['What is the name of a novel series that starts with the letter t?']\n",
      "569 : ['What award did Gyorgy Ligeta receive on 2000-0-0?']\n"
     ]
    },
    {
     "name": "stdout",
     "output_type": "stream",
     "text": [
      "Link batch time: 14.775039672851562\n",
      "Anno batch time: 240.81101775169373\n",
      "Conv batch time: 0.003523111343383789\n",
      "[Pipeline1]: Linking 599-649\n"
     ]
    },
    {
     "name": "stdout",
     "output_type": "stream",
     "text": [
      "601 : ['What are the municipality of the Netherlands  which start with the letter s']\n",
      "601 : ['What is the genetic association that can be found in species with post-traumatic stress disorder?']\n",
      "601 : ['Where did Pierre Curie live, which has the timezone of UTC-02:00?']\n",
      "601 : ['What is { safety classification and labeling } of { magnesium sulfate anhydrous } that is { NFPA Fire } is { 0 }?']\n",
      "601 : ['Who was the head of government in Palestine on June 2, 2014?']\n",
      "601 : ['What non-metropolitan county shares a border with Hampshire?']\n",
      "601 : ['Is the position angle of northwest by north equal to 391.5?']\n",
      "601 : ['Which are the first aid measures of petroleum jelly?']\n",
      "601 : ['Which is Xeno-canto species ID for Meleagris gallopavo?']\n",
      "601 : ['What is the secular state of the MIN(PPP GDP per capita) whose diplomatic relation is with India?']\n",
      "601 : ['What is the location in New York City for Edward Hoppers place death?']\n",
      "601 : ['Which is Parks & Gardens UK Record ID for National Maritime Museum?']\n",
      "601 : ['What was Ray Rennahan from Gone with the Wind nominated for?']\n",
      "601 : ['how much is maintained by Otia Prefecture?']\n",
      "601 : ['Which territory did the classical antiquity cover?']\n",
      "601 : ['What is the 2.1 with the highest speed whose participating teams is Katusha 2016?']\n",
      "601 : ['How many file formats are done on Portable Document Format?']\n",
      "601 : ['How many carry things by road?']\n",
      "601 : ['What city became a twin city of Klagenfurt in 1990?']\n",
      "601 : ['When did Tony Walton become the spouse of Julie Andrews?']\n",
      "601 : ['What was the population of Lucknow in 2011?']\n",
      "601 : ['Who is the person for the military branch of KGB?']\n",
      "601 : ['Is the watershed area of the rio de Santa Maria Zobenigo greater than 0.00083176?']\n",
      "601 : ['When did Pedro Is child Princess Januária of Brazil die, and who was her mother?']\n",
      "601 : ['What district of Liguria originated in 2015?']\n",
      "601 : ['WHICH IS THE CATEGORY FOR RECIPIENTS OF THEIS WARD FOR HONOR']\n",
      "601 : ['when did Okinawa Prefecture have the Santa Cruz Department as its twinned administrative body?']\n",
      "601 : ['What division does Jurandir Fatoris team play for?']\n",
      "601 : ['Freddy Krueger and Fred Krueger, is a serial killer and the main antagonist of the A Nightmare on Elm Street series. A family man on the surface, Krueger was actually the serial killer known as the Springwood Slasher. When he was caught and subsequently released on a technicality, the parents of his victims tracked him to the boiler room of the power plant he once worked at and burned him alive. Krueger was offered the chance to continue after his physical death, becoming a Dream Demon that could enter his victims dreams and kill them in the Dream World, which would thus cause their death in the physical world and absorb their souls afterwards.']\n",
      "601 : ['What award did Claude Brasseur receive in 1977-0-0?']\n",
      "601 : ['Which is the decay mode for alpha decay?']\n",
      "601 : ['What is the earliest date of Alexander Pushkins residency in Ulyanovsk?']\n"
     ]
    },
    {
     "name": "stdout",
     "output_type": "stream",
     "text": [
      "602 : ['What are the stars and stripes from the star spangled banner?']\n"
     ]
    },
    {
     "name": "stdout",
     "output_type": "stream",
     "text": [
      "603 : ['When is the location born in Jamshid Mashayekhi which is a partner town of Havana?']\n"
     ]
    },
    {
     "name": "stdout",
     "output_type": "stream",
     "text": [
      "604 : ['Is the dynamic viscosity of the acetic acid greater than 0.6288?']\n"
     ]
    },
    {
     "name": "stdout",
     "output_type": "stream",
     "text": [
      "605 : ['WHO THE DUBBER OF RUKH FROM WORK?']\n"
     ]
    },
    {
     "name": "stdout",
     "output_type": "stream",
     "text": [
      "606 : ['Where did Christopher Wren major in Latin?']\n",
      "607 : ['How is the Gospel of John exemplar?']\n"
     ]
    },
    {
     "name": "stdout",
     "output_type": "stream",
     "text": [
      "608 : ['Which language is used in Gibraltar that has a quality of second language?']\n",
      "609 : ['Who is the human partner of Chow Yun-fat?']\n"
     ]
    },
    {
     "name": "stdout",
     "output_type": "stream",
     "text": [
      "610 : ['Which is the candidature that Gustav Winckler took part of?']\n",
      "611 : ['Who is Johnny Cashs stepparent?']\n",
      "612 : ['Who plays the current role of the title character in Deadpool?']\n"
     ]
    },
    {
     "name": "stdout",
     "output_type": "stream",
     "text": [
      "613 : ['What is in the administrative region of Fukuoka Prefecture, whose total fertility rate is 1.39?']\n",
      "614 : ['What is field of exercise for affiliated with Terje Langli ?']\n",
      "615 : ['How can you tell migraines have PRDM16?']\n"
     ]
    },
    {
     "name": "stdout",
     "output_type": "stream",
     "text": [
      "616 : ['When did Riga become the capital of Latvia?']\n",
      "617 : ['Is the operating temperature of the Nesjavellir power station 190?']\n",
      "618 : ['How much was the population of Normandy in 2005?']\n",
      "619 : ['What is the name of the theatrical character of Hamlet?']\n"
     ]
    },
    {
     "name": "stdout",
     "output_type": "stream",
     "text": [
      "Link batch time: 27.278222799301147\n",
      "Anno batch time: 517.1881990432739\n",
      "Conv batch time: 0.002170085906982422\n",
      "[Pipeline1]: Linking 649-699\n",
      "651 : ['What ceremony takes place in Leicester?']\n",
      "651 : ['Tell me the brain region that contains the word thalamus in their name']\n",
      "651 : ['Is the kinematic viscosity of propylene glycol equal to 0.054?']\n",
      "651 : ['What was Leonardo Bonaccis date of death in the year 1240?']\n",
      "651 : ['Which is the parity of Higgs boson?']\n",
      "651 : ['For Ryan ONeal was in nomination of Golden Globe Award for Best Actor-Motion picture Drama?']\n",
      "651 : ['Who was the manager/director of the Metropolitan Museum of Art starting in 1910?']\n",
      "651 : ['what is the using of the remake of smoothsort?']\n",
      "651 : ['What theory did Grigori Perelman prove?']\n",
      "651 : ['Which career did the character Buffy the Vampire Slayer choose?']\n",
      "651 : ['Which is the public holiday that is a day in year for periodic occurrence of 21 Tishrei and contains the word sukkot in its name?']\n",
      "651 : ['What country was started in the year 1871 in Wiesbaden?']\n",
      "651 : ['When did Nantes begin having Johanna Rolland as head of government?']\n",
      "651 : ['How many occupants are there with {Shah} ?']\n",
      "651 : ['When was the population of Dalian 4480000?']\n",
      "651 : ['Who is the Head of State  of the Austrian Empire?']\n",
      "651 : ['Which is the liberal arts college that is affiliated with Columbia University?']\n",
      "651 : ['What is the ship with the lowest payload mass whose manufacturer is ERROR1?']\n",
      "651 : ['What is Cyworld ID for Park Geun-hye ?']\n",
      "651 : ['Where is the birth place of John Walter, that has a general population of 8787892 ?']\n",
      "651 : ['Which is the OS grid reference for Bradford?']\n",
      "651 : ['how many activated neurotransmitters are in y-aminobutyric acid?']\n",
      "651 : ['What is the stainless steel with the highest operating temperature whose has part is nitrogen?']\n",
      "651 : ['Charles the Bald position is what and he got his position after which person?']\n",
      "651 : ['Who was married to Lynn Margulis in June of 1957?']\n",
      "651 : ['Which is the ISBN-13 for Watership Down?']\n",
      "651 : ['Name the subtopic of the tagline Free, Sovereign, and Independent, a history of Honduras.']\n"
     ]
    },
    {
     "name": "stdout",
     "output_type": "stream",
     "text": [
      "651 : ['David Letterman is producer?']\n",
      "651 : ['Which French killer had the most victims ?']\n",
      "651 : ['What is the mascot for the Stanford University athletics department?']\n",
      "651 : ['Does the SAF 2507 have a pitting resistance equivalent number that is greater than  45.24?']\n",
      "651 : ['How many things are designed for Doom?']\n"
     ]
    },
    {
     "name": "stdout",
     "output_type": "stream",
     "text": [
      "652 : ['What is the significant role played by Giant Magellan Telescope in the field of Construction?']\n"
     ]
    },
    {
     "name": "stdout",
     "output_type": "stream",
     "text": [
      "653 : ['The Moon is found in which subtopic of the geological history of the Earth that has moon in the name?']\n",
      "654 : ['Since when was Manichaeism found in Egypt?']\n"
     ]
    },
    {
     "name": "stdout",
     "output_type": "stream",
     "text": [
      "655 : ['whos is owner of the kiss that have members of is g20']\n"
     ]
    },
    {
     "name": "stdout",
     "output_type": "stream",
     "text": [
      "656 : ['What position did Félix Faure hold before he was replaced by Émile Loubet?']\n"
     ]
    },
    {
     "name": "stdout",
     "output_type": "stream",
     "text": [
      "657 : ['Who is the son of master Lou Harrison?']\n"
     ]
    },
    {
     "name": "stdout",
     "output_type": "stream",
     "text": [
      "658 : ['What sports team did Kapil Dev stopped being a member of in 1992?']\n",
      "659 : ['Who is born at Charlotte Dujardin, which has a zip code of E?']\n",
      "660 : ['How many team participants are there in the {Juventus F.C.} ?']\n",
      "661 : ['Who first described the element osmium and was born in Selby?']\n",
      "662 : ['What was the category for which Shirley Booth received the Tony Award for Best Featured Actress in a Play?']\n"
     ]
    },
    {
     "name": "stdout",
     "output_type": "stream",
     "text": [
      "663 : ['Who was Bill Gatess mother?']\n",
      "664 : ['What is Lysimachuss noble title and who follows?']\n",
      "665 : ['Can you say which national library has the smallest collection?']\n",
      "666 : ['What was F. Murray Abraham nominated for in the 57th academy awards?']\n",
      "667 : ['What is the local dialling code of the Dallas Morning News?']\n",
      "668 : ['In what field of work does José Luis Rodríguez Zapatero work in?']\n"
     ]
    },
    {
     "name": "stdout",
     "output_type": "stream",
     "text": [
      "669 : ['Is the end time for the spouse of Larry King 1967-0-0?']\n"
     ]
    },
    {
     "name": "stdout",
     "output_type": "stream",
     "text": [
      "Link batch time: 14.742910861968994\n",
      "Anno batch time: 256.7963752746582\n",
      "Conv batch time: 0.0026705265045166016\n",
      "[Pipeline1]: Linking 699-749\n",
      "701 : ['What is {temperature} {on river} of {Iberian Peninsula} ?']\n",
      "701 : ['Is Joule the measurement for transparency and work?']\n",
      "701 : ['WHICH ARE THE NUT THAT CONTAINS THE WORD NUT IN THEIR NAME']\n",
      "701 : ['Which isotope of indium has the most parity?']\n",
      "701 : ['What was the price of gold in 2018-7-26?']\n",
      "701 : ['When did Dan Rowan receive his star on the Hollywood Walk of Fame']\n",
      "701 : ['What work did Jacques Brel publish in 1963?']\n",
      "701 : ['Where was the plot of North by Northwest, filmed in California, set?']\n",
      "701 : ['What is the fate of Joaquin Archivaldo Guzman, who was first described as El Faro?']\n",
      "701 : ['Which is the poetry collection that has traditional Chinese characters as writing system?']\n",
      "701 : ['What political party does Jacinda Ardern belong to?']\n",
      "701 : ['When did Ahmedabad become Presidency of Bombay which was located in the administrative territorial entity?']\n",
      "701 : ['What award was received by Valeri Polyakov on April 4, 2011?']\n",
      "701 : ['What do you call the incarnation of Jesus Christ?']\n",
      "701 : ['What award was John Williams nominated for in Close Encounters of the Third Kind?']\n",
      "701 : ['What is budget for Grand Theft Auto V?']\n",
      "701 : ['when was samuel beckett nominated for nobel prize in literature?']\n",
      "701 : ['Who is the child of Ofelia Medinas life partner?']\n",
      "701 : ['What is the connecting line of Chulalongkorn University?']\n",
      "701 : ['Tell me hole that contains the word d']\n",
      "701 : ['Where Ruth Bernhard stoped working on 1953?']\n",
      "701 : ['What is the method of determining eating disorders that has the genetic association of RASGRF2?']\n",
      "701 : ['Who is the PhD candidate for Niels Bohr?']\n",
      "701 : ['Who is the manufacturer and user of solar energy?']\n"
     ]
    },
    {
     "name": "stdout",
     "output_type": "stream",
     "text": [
      "701 : ['Which is {position of head of government} of {service operator} {MiG-21} ?']\n",
      "701 : ['What is the owner of and the member of of Mikhail_Gorbachev ?']\n",
      "701 : ['What position did Ramsay MacDonald hold in the 37th Parliament of the United Kingdom and what was his cause?']\n",
      "701 : ['how many officers are there for the united nations secretary-general?']\n",
      "701 : ['When did Lorin Maazel received the Grammy Award for Best Opera Recording?']\n",
      "701 : ['Where was Grace Hopper educated at in 1930?']\n",
      "701 : ['Which is a ports competition competed at the Olympic games?']\n",
      "701 : ['What is the heavy metal band whose mascot is Ediie the head that start with letter I ?']\n"
     ]
    },
    {
     "name": "stdout",
     "output_type": "stream",
     "text": [
      "702 : ['What are Lee Friedlanders national diplomatic relations?']\n"
     ]
    },
    {
     "name": "stdout",
     "output_type": "stream",
     "text": [
      "703 : ['What was in the aspect of the instruction set architecture whose painter was Gerrit Blaauw?']\n"
     ]
    },
    {
     "name": "stdout",
     "output_type": "stream",
     "text": [
      "704 : ['Who was the sister of Henry V, the Holy Roman Emperor during his death in the year of 1101-7-27?']\n"
     ]
    },
    {
     "name": "stdout",
     "output_type": "stream",
     "text": [
      "705 : ['When was the {official trip} for {participant} of {Emmanuel Macron}?']\n"
     ]
    },
    {
     "name": "stdout",
     "output_type": "stream",
     "text": [
      "706 : ['Who was nominated for the Academy Award for Best Original Dramatic or Comedy Score for the film Casablanca?']\n"
     ]
    },
    {
     "name": "stdout",
     "output_type": "stream",
     "text": [
      "707 : ['What political party did Chen Shui-bian belong to in 1987-02-28?']\n",
      "708 : ['What are the coachwork type which start with the letter van']\n",
      "709 : ['Who is George W. Bushs sister that has crafted as enterpreneur?']\n"
     ]
    },
    {
     "name": "stdout",
     "output_type": "stream",
     "text": [
      "710 : ['How many matches has Rinus Michels played?']\n",
      "711 : ['What is the set of 1?']\n"
     ]
    },
    {
     "name": "stdout",
     "output_type": "stream",
     "text": [
      "712 : ['Which Class II combustible liquid has the highest median lethal concentration?']\n",
      "713 : ['What are the weekly newspaper  which start with the letter e']\n",
      "714 : ['Tell me the airline that starts with the letter p']\n",
      "715 : ['What is JewAge person ID for Ludwig von Mises ?']\n",
      "716 : ['Who is the owner of Hon Hai Precision Industry?']\n"
     ]
    },
    {
     "name": "stdout",
     "output_type": "stream",
     "text": [
      "717 : ['What Japanese TV series has the most number of seasons and was originally aired in Japanese?']\n",
      "718 : ['Tell me  security agency whose name has the word state in it.']\n"
     ]
    },
    {
     "name": "stdout",
     "output_type": "stream",
     "text": [
      "719 : ['Tolyatti has what OK TMO ID?']\n"
     ]
    },
    {
     "name": "stdout",
     "output_type": "stream",
     "text": [
      "Link batch time: 15.309650182723999\n",
      "Anno batch time: 296.99042773246765\n",
      "Conv batch time: 0.0027887821197509766\n",
      "[Pipeline1]: Linking 749-799\n",
      "751 : ['Which son of Isaac has a son named Shuah?']\n",
      "751 : ['When was Athens, Greece founded?']\n",
      "751 : ['What does it mean if you are convicted of desertion?']\n",
      "751 : ['Followers']\n",
      "751 : ['Who is the chairperson of the Communist Party of China and who are his followers?']\n",
      "751 : ['What is the origin of Death Notes diplomatic relation?']\n",
      "751 : ['What is the SpeedSkatingNews.info speed skater ID for Eric Heiden?']\n",
      "751 : ['Was Hirohito buried in Tokyo at the Mausoleum of the First Qin Emperor?']\n",
      "751 : ['Which award did Mick Jagger receive?']\n",
      "751 : ['What is competitor War of the Triple Alliances name in its original language?']\n",
      "751 : ['Charles the Bald position is what and he got his position after which person?']\n",
      "751 : ['What are the ring system  which start with the letter r']\n",
      "751 : ['When did Saint Vincent and the Grenadines have a population of 108150?']\n",
      "751 : ['What is the antonym of the professions field of prosecutor?']\n",
      "751 : ['What represents the organization of the siblings of Louis Gigante?']\n",
      "751 : ['What team does Eric Cantona play for, and how many matches has he played?']\n",
      "751 : ['What is the date did Midway games publish the video game Pac-Man, and where was it published?']\n",
      "751 : ['What is SCTs HomoloGene ID?']\n",
      "751 : ['What what is separation process discoverer or inventor Zosimos of Panopolis  and which that starts with d']\n"
     ]
    },
    {
     "name": "stdout",
     "output_type": "stream",
     "text": [
      "751751 : ['Are frankenstein and frankensteins monster and elizabeth lavenza have characters?']\n",
      " : ['Is Paul Gascoigne a member of a sports team?']\n",
      "751 : ['Name the Yukon quest with the minimum size of team at finish whose location is braeburn lodge?']\n",
      "751 : ['What is the chemical compound of polyvinyl chloride?']\n",
      "751 : ['Tell me about member of sports team of Ian Rush and number of matches played?']\n",
      "751 : ['which magazine starts with z']\n",
      "751 : ['Which is the Billboard artist ID for Vicente Fernández?']\n",
      "751 : ['Does the port of the Multicast File transfer protocol have less than 6482.2 capacity?']\n",
      "751 : ['Where in the administrative territorial entity of Umbria was Monica Bellucci born?']\n",
      "751 : ['WHAT Australia and Oceania ?']\n",
      "751 : ['Where and what did Hilary Mantel study?']\n",
      "751 : ['What treatment is Neil Diamond getting for his health issues?']\n",
      "751 : ['Is the individual tax rate in Sweden 25%?']\n"
     ]
    },
    {
     "name": "stdout",
     "output_type": "stream",
     "text": [
      "752 : ['What is Léopold Sédar Senghors Dialnet author ID?']\n"
     ]
    },
    {
     "name": "stdout",
     "output_type": "stream",
     "text": [
      "753 : ['Which is the AFL Tables coach ID for Ron Barassi?']\n"
     ]
    },
    {
     "name": "stdout",
     "output_type": "stream",
     "text": [
      "754 : ['When did Ludwig Wittgenstein graduate as a Doctor of Philosophy?']\n"
     ]
    },
    {
     "name": "stdout",
     "output_type": "stream",
     "text": [
      "755 : ['Are the assets under management of the BlackRock less than 8146800000.0?']\n",
      "756 : ['Which is possessed by spirit by spirt?']\n"
     ]
    },
    {
     "name": "stdout",
     "output_type": "stream",
     "text": [
      "757 : ['When did New Hampshire have a population of 491524?']\n",
      "758 : ['Tell me political party whose name has the word veritas in it.']\n"
     ]
    },
    {
     "name": "stdout",
     "output_type": "stream",
     "text": [
      "759 : ['When Alec Guinness was nominated as Academy Award for Best Actor?']\n",
      "760 : ['What is the name of the administrative body for the capital of Mumbai']\n",
      "761 : ['What is it?']\n"
     ]
    },
    {
     "name": "stdout",
     "output_type": "stream",
     "text": [
      "762 : ['Who is {executive authority} of {play} {snowboard} ?']\n",
      "763 : ['What electoral district does Member of the New Zealand House of Representatives Jacinda Ardern represent?']\n"
     ]
    },
    {
     "name": "stdout",
     "output_type": "stream",
     "text": [
      "764 : ['What were the last words of Jesus Christ?']\n"
     ]
    },
    {
     "name": "stdout",
     "output_type": "stream",
     "text": [
      "765 : ['What is the military rank of the colonel?']\n",
      "766 : ['Which is the historical nationality for the location of Bilbao?']\n"
     ]
    },
    {
     "name": "stdout",
     "output_type": "stream",
     "text": [
      "767 : ['What is the fictional analog of The Gingerbread Man?']\n"
     ]
    },
    {
     "name": "stdout",
     "output_type": "stream",
     "text": [
      "768 : ['Who is in the administrative territorial entity of Tbilisi and when is the end time?']\n"
     ]
    },
    {
     "name": "stdout",
     "output_type": "stream",
     "text": [
      "769 : ['What borders Senegal and yet is a member of AFRISTAT?']\n"
     ]
    },
    {
     "name": "stdout",
     "output_type": "stream",
     "text": [
      "Link batch time: 12.46719765663147\n",
      "Anno batch time: 251.9926998615265\n",
      "Conv batch time: 0.003939151763916016\n",
      "[Pipeline1]: Linking 799-849\n",
      "801 : ['What is graduated from Wendy Wasserstein located at street address of 160 Convent Ave, New York, NY, 10031?']\n",
      "801 : ['Who are the members of BP and their chairperson?']\n",
      "801 : ['Who is the mother of Julio Iglesias and Enrique Iglesias?']\n",
      "801 : ['Who is {writer} of {bibliographic citation} of {Survey of human genes of retroviral origin: identification and transcriptome of the genes with coding capacity for complete envelope proteins} ?']\n",
      "801 : ['Which is the {crystal system} who {discoverer or inventor} of {Titanium} ?']\n",
      "801 : ['Tell me the number of points and games played by Brian Clough, member of the English national football team.']\n",
      "801 : ['Where in the Soviet Union did Andrei Bely die?']\n",
      "801 : ['Is it true that the melting point of mercury is less than -45.6?']\n",
      "801 : ['What is the base of a cube?']\n",
      "801 : ['Which is Japanese Baseball Hall of Fame ID for Hideo Nomo?']\n",
      "801 : ['Who has surname as Mireille Mathieu and similar to Matias?']\n",
      "801 : ['What is Fawlty Towers AlloCine series ID?']\n",
      "801 : ['What does Pinocchio appear in the form of?']\n",
      "801 : ['How many langues does Kamal Haasan speak?']\n",
      "801 : ['When did Bono receive the TED Prize, and how much was he awarded as recipient?']\n"
     ]
    },
    {
     "name": "stdout",
     "output_type": "stream",
     "text": [
      "801 : ['What is physiology comprised of?']\n",
      "801 : ['Is the conversion to SI unit of the statcoulomb greater than 2.6685128e-10?']\n",
      "801 : ['Is it true that the mothers mothers mother family relationship degree equal to 3?']\n",
      "801 : ['Tell me recurring sporting event whose name has the word world in it.']\n",
      "801 : ['How many saints have obtained canonization status?']\n",
      "801 : ['When did educated at of Peggy Whitson and academic major?']\n",
      "801 : ['Who discovered the boron?']\n",
      "801 : ['When did Maule Region have a population of 836141.0?']\n",
      "801 : ['Which is the rank of the taxon parent of Physalis philadelphica?']\n",
      "801 : ['Which member of the Rabah Madjer sports team played 94 matches ?']\n",
      "801 : ['Tell me reference model whose name has the word model in it.']\n",
      "801 : ['Tell me theorem whose name has the word theorem in it.']\n",
      "801 : ['When did Honolulu become an entity as the Territory of Hawaii?']\n",
      "801 : ['Tell me the house cat that contains the word мyka in their name']\n",
      "801 : ['TELL ME SEASON WHOSE NAME HAS THE WORD WINTER IN IT.']\n",
      "801 : ['Which is the date of burial or cremation of Miloš Forman?']\n",
      "801 : ['Which the {subject has role} and the {location of discovery} of {Iodine} ?']\n"
     ]
    },
    {
     "name": "stdout",
     "output_type": "stream",
     "text": [
      "802 : ['DOES THE LITERATE POPULATION OF DHARAMPUR EQUALS 0']\n",
      "803 : ['Tom Hanks voiced which 3D film ?']\n",
      "804 : ['Which is the organization that has its headquarters located in Aachen?']\n"
     ]
    },
    {
     "name": "stdout",
     "output_type": "stream",
     "text": [
      "805 : ['What mythical character that contains the word zau in their name']\n"
     ]
    },
    {
     "name": "stdout",
     "output_type": "stream",
     "text": [
      "806 : ['Name a business division owned by Ford Motor Company']\n"
     ]
    },
    {
     "name": "stdout",
     "output_type": "stream",
     "text": [
      "807 : ['Is it true that the valency of monotransitive verb equals to 2?']\n"
     ]
    },
    {
     "name": "stdout",
     "output_type": "stream",
     "text": [
      "808 : ['How many mothers did Eros have?']\n",
      "809 : ['What are the signs of Typhoid fever which can be treated with Dopamine?']\n",
      "810 : ['For which sports team does Thierry Henry play and how many matches has he played?']\n"
     ]
    },
    {
     "name": "stdout",
     "output_type": "stream",
     "text": [
      "811 : ['Who is the child of Isabella I of Castile and when were they born?']\n",
      "812 : ['What is Mizoram?']\n",
      "813 : ['What branch of science starts with the letter v?']\n",
      "814 : ['What were the statements when Michelle Pfeiffer got nominated for the Academy Award for Best Actress?']\n",
      "815 : ['Who is the {municipal archive} for {archives at} of {Aachen}']\n",
      "816 : ['Where is {disciples} of {Nadia Boulanger}, which has {location of death} is {Azores} ?']\n"
     ]
    },
    {
     "name": "stdout",
     "output_type": "stream",
     "text": [
      "817 : ['How many out of school children are there in Eritrea?']\n",
      "818 : ['Tell me physical quantity whose name has the word work in it.']\n",
      "819 : ['What power plant and manufacturer is responsible for the Rockwell B-1 Lancer?']\n"
     ]
    },
    {
     "name": "stdout",
     "output_type": "stream",
     "text": [
      "Link batch time: 14.061153888702393\n",
      "Anno batch time: 339.5219602584839\n",
      "Conv batch time: 0.0045642852783203125\n",
      "[Pipeline1]: Linking 849-899\n",
      "851 : ['Tell me about animated feature film for voice actor of Ellen DeGeneres?']\n",
      "851 : ['Tell me superhero that contains the word wolfsbane in their name']\n",
      "851 : ['Which is the subject in Sunyata having science,that studies about Buddhist studies?']\n",
      "851 : ['What drives the subject of the language change statement']\n",
      "851 : ['How many matches did Diego Maradona participate in with the A.A. Argentinos Juniors?']\n",
      "851 : ['What state is the University of Iowa located?']\n",
      "851 : ['Tell me about spouse of Julio Iglesias and end cause?']\n",
      "851 : ['Who is the contestant of Descendants of the Sun?']\n",
      "851 : ['What are the state church which start with the letter M']\n",
      "851 : ['Which is the {eye color} of the {hair color} of {Xi_Jinping} ?']\n",
      "851 : ['Is it true that the thermal diffusivity of adobe is less than 0.216?']\n",
      "851 : ['What award did Carrie Underwood receive in 2007?']\n",
      "851 : ['When did Ryan Giggs become a member of the Manchester United F.C.?']\n",
      "851 : ['What specimen type does Piper nigrum belong to?']\n",
      "851 : ['Who became the head of the government of Vaduz on 2017-1-0?']\n"
     ]
    },
    {
     "name": "stdout",
     "output_type": "stream",
     "text": [
      "851851 : ['Which is {continent} of {death place} of {Thomas Morley} ?']\n",
      " : ['What is the solitary with the lowest height whose instance of is Tilia platyphyllos?']\n",
      "851 : ['What is the twin town of Port Vila, with the license plate code 沪A?']\n",
      "851 : ['Who is the brother of the actress Trishna?']\n",
      "851 : ['What is the period of time of the  {Hellenistic period} ?']\n",
      "851 : ['In what position did Charles XIV John of Sweden replace Charles XIII of Sweden?']\n",
      "851 : ['Which is {official language} of {basin countries} of {White Sea} ?']\n",
      "851 : ['Name a brand owned by SpaceX.']\n",
      "851 : ['When did Betty White win the Daytime Emmy Award for Outstanding Game Show Host?']\n",
      "851 : ['Which birthplace of Chris Rock, has a Geotag of 33.45?']\n",
      "851 : ['Which is the Wikimedia template that populates this category of Gujarati?']\n",
      "851 : ['How much did Ellyse Perry score when playing for which team?']\n",
      "851 : ['What is the document published by the National Constituent Assembly that contains the word citizen in its name']\n",
      "851 : ['What is the daughter of Leopold II, Holy Roman Emperor, whose sister is Maria Anna dAsburgo-Lorena?']\n",
      "851 : ['Who replaced Charles Evans Hughes as the Chief Justice of The United States?']\n",
      "851 : ['what is the key incident in the provenance of Glencore?']\n",
      "851 : ['Tell me written work whose name has the word war in it.']\n"
     ]
    },
    {
     "name": "stdout",
     "output_type": "stream",
     "text": [
      "852 : ['What parent body constellation is Messier a part of?']\n"
     ]
    },
    {
     "name": "stdout",
     "output_type": "stream",
     "text": [
      "853 : ['Name the eponym of volt, who is professor by profession.']\n",
      "854 : ['who  work of motif of david with the head of goliath ?']\n"
     ]
    },
    {
     "name": "stdout",
     "output_type": "stream",
     "text": [
      "855 : ['Which document is the main regulatory text of the Soviet Union?']\n",
      "856 : ['What is the parent university of Purdue University?']\n",
      "857 : ['Where can you land on the moon with a mass of 73.477?']\n"
     ]
    },
    {
     "name": "stdout",
     "output_type": "stream",
     "text": [
      "858 : ['How many members of the crew are there for John Jellicoe , 1st Earl Jellicoe?']\n"
     ]
    },
    {
     "name": "stdout",
     "output_type": "stream",
     "text": [
      "859 : ['What is Proxima Centauris companion?']\n"
     ]
    },
    {
     "name": "stdout",
     "output_type": "stream",
     "text": [
      "860 : ['Who is the writer of The Murder of Roger Ackroyd, which has been active since 1920-0-0?']\n",
      "861 : ['Which is the sector of the software publisher for Horticultural classification of tulip cultivars?']\n",
      "862 : ['Who is the candidacy in election for United States Congress?']\n",
      "863 : ['What are the linguistic typology and grammatical gender of Spanish language?']\n"
     ]
    },
    {
     "name": "stdout",
     "output_type": "stream",
     "text": [
      "864 : ['Is The New York Times published in Manhattan, New York City?']\n",
      "865 : ['Who is the child of William Jennings Bryan that has the biological sex of male?']\n",
      "866 : ['What U.S. Government agency holds the archives of Jefferson Davis?']\n"
     ]
    },
    {
     "name": "stdout",
     "output_type": "stream",
     "text": [
      "867 : ['What book is the most notable work of Robert Louis Stevenson?']\n",
      "868 : ['What kind of instrument is made with foil?']\n"
     ]
    },
    {
     "name": "stdout",
     "output_type": "stream",
     "text": [
      "869 : ['What is the reservoir of Lake Winnebago?']\n"
     ]
    },
    {
     "name": "stdout",
     "output_type": "stream",
     "text": [
      "Link batch time: 13.28512716293335\n",
      "Anno batch time: 267.5385935306549\n",
      "Conv batch time: 0.003314495086669922\n",
      "[Pipeline1]: Linking 899-949\n"
     ]
    },
    {
     "name": "stdout",
     "output_type": "stream",
     "text": [
      "901 : ['Which fruit type is the higher taxon of Philodendron edmundoi?']\n",
      "901 : ['How many countries are around Ireland?']\n",
      "901 : ['Which song was Ringo Starr nominated for the Academy Award for Best Original Song Score?']\n",
      "901 : ['What is the language official in Federated States of Micronesia having a shortened name of']\n",
      "901 : ['This sentence makes no sense.']\n",
      "901 : ['When Camille Pissarro ended to work at Netherlands?']\n",
      "901 : ['What killed John F. Kennedy and who caused him ballistic trauma?']\n",
      "901 : ['For which work Patrick White received the Miles Franklin Literary Award?']\n",
      "901 : ['When Alexandria, Diocese of Egypt, ended?']\n",
      "901 : ['Who owns Disneyland and who is it named after?']\n",
      "901 : ['What are the treaty which start with the letter t']\n",
      "901 : ['Is it true that the caliber of Ehrhardt 7.5 cm Model 1901 equals to 60?']\n",
      "901 : ['What is the item operated of a B-29 Superfortress?']\n",
      "901 : ['Which is the instance of Puduhepa?']\n",
      "901 : ['Which is the process function of the measured physical quantity of joule?']\n",
      "901 : ['Is Alex Ferguson is the member of sports team which was started in 1-1-1973?']\n",
      "901 : ['how many crew members does enola gay have?']\n",
      "901 : ['How many Crusade conflicts were there?']\n",
      "901 : ['Tell me dyed whose name has the word yan in it.']\n",
      "901 : ['Was Helen Keller a member of the Transport Workers Union of America?']\n",
      "901 : ['What game is played by backgammon players and contains the word backgammon?']\n",
      "901 : ['What is the first described of the ideology of Progressive Party?']\n",
      "901 : ['Which is the HQ location in The Economic Times having Indian reservation in Bombay State?']\n",
      "901 : ['Joseph belongs to what family?']\n",
      "901 : ['Who are the film crew members and cast members of Game of Thrones?']\n",
      "901 : ['Which is {marry} of {Cassiopeia}, who {has son} is {Andromeda} ?']\n",
      "901 : ['Is Spains unemployment rate 25?']\n",
      "901 : ['What award did Zadie Smith receive in 2006?']\n",
      "901 : ['What is the language of the people indigenous to chupenme la pija giles ndeahhre?']\n",
      "901 : ['What is the garrison of AT&T, which is in the settlement of Denton County?']\n",
      "901 : ['What is Amtraks net profit?']\n",
      "901 : ['which time of the day contains the word morning in their name']\n"
     ]
    },
    {
     "name": "stdout",
     "output_type": "stream",
     "text": [
      "902 : ['When Atacama Region has its population 230873.0?']\n"
     ]
    },
    {
     "name": "stdout",
     "output_type": "stream",
     "text": [
      "903 : ['What are the political philosophy which start with the letter w']\n"
     ]
    },
    {
     "name": "stdout",
     "output_type": "stream",
     "text": [
      "904 : ['When did Aurangabad become part of the Hyderabad State?']\n",
      "905 : ['What position was David Cameron elected to?']\n",
      "906 : ['what are the mathematical notation which start with the letter s']\n"
     ]
    },
    {
     "name": "stdout",
     "output_type": "stream",
     "text": [
      "907 : ['When and where did Victor Hugo marry his spouse, Adele Foucher?']\n",
      "908 : ['Tell me about member of sports team of Rinus Michels and number of points/goals/set scored?']\n",
      "909 : ['Who is the winner of Friends who has received Primetime Emmy award for Outstanding comedy series?']\n"
     ]
    },
    {
     "name": "stdout",
     "output_type": "stream",
     "text": [
      "910 : ['Which is the NLP ID for Georgias?']\n",
      "911 : ['IS THE SERVICE LIFE OF THE AMBATOVY MINE EQUALS 29']\n"
     ]
    },
    {
     "name": "stdout",
     "output_type": "stream",
     "text": [
      "912 : ['Is Mary I of England a sibling of Edward VI of England?']\n",
      "913 : ['How many street addresses are located in the {FIFA} ?']\n"
     ]
    },
    {
     "name": "stdout",
     "output_type": "stream",
     "text": [
      "914 : ['Which image compression contains the word graphics in its name?']\n"
     ]
    },
    {
     "name": "stdout",
     "output_type": "stream",
     "text": [
      "915 : ['Which is antonym of painting of Madonna enthroned with child and Saints Petronius and John the Evangelist ?']\n"
     ]
    },
    {
     "name": "stdout",
     "output_type": "stream",
     "text": [
      "916 : ['Is Scientology the same as Church of Scientology?']\n",
      "917 : ['Who is the nominee for Nevermind, that was produced on 1991-0-0?']\n"
     ]
    },
    {
     "name": "stdout",
     "output_type": "stream",
     "text": [
      "918 : ['Which videogame studio developped Pong ?']\n",
      "919 : ['Who is {rector} of {Moscow State University}, which {alumna of} is {Saint Petersburg State University} ?']\n"
     ]
    },
    {
     "name": "stdout",
     "output_type": "stream",
     "text": [
      "Link batch time: 10.451370477676392\n",
      "Anno batch time: 303.1108877658844\n",
      "Conv batch time: 0.004251003265380859\n",
      "[Pipeline1]: Linking 949-999\n",
      "951 : ['What is the academic degree of Al-Waleed bin Talal?']\n",
      "951 : ['What is the death location, whose partner city is Jakarta, of Samuel Butler?']\n",
      "951 : ['TELL ME THE PRECEEDS THAT IMPLIES VAPORIZATION?']\n",
      "951 : ['Which antiparticle of the antineutron has the longest mean lifetime ?']\n",
      "951 : ['What kind of steam engine was invented by james Watt']\n",
      "951 : ['What is the member of a sports team of Iker Casillas that starts January 1st, 1991?']\n",
      "951 : ['What is the birthday of Abigail Adams who has a child named Abigail Adams Smith?']\n",
      "951 : ['What award did Ken Thompson receive on January 1st, 1983?']\n",
      "951 : ['Name a film shot in New York that starts with letter S']\n",
      "951 : ['What aspect of mysticism is distinguished from dharma?']\n",
      "951 : ['What is the business with the least debt on the Euronext?']\n",
      "951 : ['What is the EC number for electron transport chain?']\n",
      "951 : ['What was Gene Wolfe nominated for in 1990?']\n"
     ]
    },
    {
     "name": "stdout",
     "output_type": "stream",
     "text": [
      "951 : ['Was Jimi Hendrixs death related to the EMLL 24th Anniversary Show?']\n",
      "951 : ['When Don Bradman ended as member of Australia national cricket team?']\n",
      "951 : ['What material has the highest operating temperature?']\n",
      "951 : ['What medical condition did Väinö Linna have in 1984?']\n",
      "951 : ['Which taxon has the highest chromosome count?']\n",
      "951 : ['Tell me the Human population and birthplace of konstantin khabensky?']\n",
      "951 : ['What is Flags of the World ID for Union Jack ?']\n",
      "951 : ['which is scientific area of developed by of perl?']\n",
      "951 : ['Which is the Japanese writing system for the writing system of Japanese?']\n",
      "951 : ['What is the object I.D. of L.L. Zamenhof at the Museum of FAine Arts, Boston?']\n",
      "951 : ['What is alphabet  language signed of  Ōe no Yoshitoki ?']\n",
      "951 : ['Is it true that the residence time of water in Tai Lake equals 0.79?']\n",
      "951 : ['When did Shivaji and Sakavaarbai become married?']\n",
      "951 : ['What is the organize sport of Super_Bowl ?']\n",
      "951 : ['Get  the postal code for Baidu that is headquartered at Beijing?']\n",
      "951 : ['WHAT ARE THE DECIMAL CLASSIFICATION WHICH START WITH THE LETTER C']\n",
      "951 : ['Dies the Center for Jewish Studies Heidelberg students count equal 110?']\n",
      "951 : ['What {subject has role} which {physically interacts with} of {Dopamine} ?']\n",
      "951 : ['What is the middle name of Daniel Carter, which has a pronunciation audio of PI-Daniel.ogg?']\n"
     ]
    },
    {
     "name": "stdout",
     "output_type": "stream",
     "text": [
      "952 : ['What is the taxonomic type of Cactaceae?']\n"
     ]
    },
    {
     "name": "stdout",
     "output_type": "stream",
     "text": [
      "953 : ['When did Thomas Wakley, the Member of the 12th Parliament of the United Kingdom, end his position?']\n"
     ]
    },
    {
     "name": "stdout",
     "output_type": "stream",
     "text": [
      "954 : ['What are the radiation particles that contain the word cosmic in their names ?']\n"
     ]
    },
    {
     "name": "stdout",
     "output_type": "stream",
     "text": [
      "955 : ['Which is the {country for sport} and the {sport} of {Novak_Djokovic} ?']\n"
     ]
    },
    {
     "name": "stdout",
     "output_type": "stream",
     "text": [
      "956 : ['Which is the EIDR identifier of E.T. the Extra-Terrestrial?']\n",
      "957 : ['Tell me cyprinus rubrofuscus whose name has the word koi in it.']\n",
      "958 : ['Which is the period The Great Gatsby was set in?']\n"
     ]
    },
    {
     "name": "stdout",
     "output_type": "stream",
     "text": [
      "959 : ['When did Ana Kasparian graduate from California State University, Northridge?']\n"
     ]
    },
    {
     "name": "stdout",
     "output_type": "stream",
     "text": [
      "960 : ['What are the titles of The X-Files episodes?']\n"
     ]
    },
    {
     "name": "stdout",
     "output_type": "stream",
     "text": [
      "961 : ['Who is The X-Files creator and executive producer?']\n",
      "962 : ['On December 31, 2012, what were Nokias total assets?']\n",
      "963 : ['Where was Louise Bourgeois completed education in the year 1938?']\n"
     ]
    },
    {
     "name": "stdout",
     "output_type": "stream",
     "text": [
      "964 : ['What is the official language of Vantaa?']\n",
      "965 : ['Who is known for being the script writer of Barefoot Gen: Explosion of Tears?']\n",
      "966 : ['which record did pole vault hold and which is the height?']\n",
      "967 : ['Who was replaced by Clovis I as King of France?']\n",
      "968 : ['Which is the sign language for the signed form of Esperanto?']\n"
     ]
    },
    {
     "name": "stdout",
     "output_type": "stream",
     "text": [
      "969 : ['Which detached object has the highest mean of anomalies?']\n"
     ]
    },
    {
     "name": "stdout",
     "output_type": "stream",
     "text": [
      "Link batch time: 15.901993751525879\n",
      "Anno batch time: 308.6325764656067\n",
      "Conv batch time: 0.004012584686279297\n",
      "[Pipeline1]: Linking 999-1049\n"
     ]
    },
    {
     "name": "stdout",
     "output_type": "stream",
     "text": [
      "1001 : ['What is the admin HQ of Alma Matter and Victor Hugo?']\n",
      "1001 : ['What is Northern Englands total imports?']\n",
      "1001 : ['Tell me Mahavidya whose name has the word tara in it']\n",
      "1001 : ['what is magnetic moment for electorn?']\n",
      "1001 : ['Which is the mathematical formula of the shape of the cooling tower?']\n",
      "1001 : ['Is the annual energy output of the Greater Gabbard wind farm equal to 1800?']\n",
      "1001 : ['Which {musical instrument} of {musician}  is used on {A Theme from The Threepenny Opera} ?']\n",
      "1001 : ['Which is the FIPS 55-3 (locations in the US) of Fresno?']\n",
      "1001 : ['Which is the automobile model that is manufactured by Honda?']\n",
      "1001 : ['Does Michael Jordan wear jewellery?']\n",
      "1001 : ['When did Andrei Mironov and Yekaterina Gradova get married?']\n",
      "1001 : ['Which is the historic house museum of the residence of Rembrandt?']\n",
      "1001 : ['How many {twinned administrative body} are there for {Monterrey} ?']\n",
      "1001 : ['Was Chandragupta Maurya the student of both Chanakya and Vidyananda?']\n",
      "1001 : ['What is in the municipality of Canton of Jura that has a -0.3 inflation rate of consumer price index?']\n",
      "1001 : ['Which nonprofit organization has the highest total expenditure?']\n",
      "1001 : ['Which is the extensive physical quantity that is measured by the inertial mass and starts with the letter m?']\n",
      "1001 : ['Which CAF Champions League has the highest number of points/goals/set scored?']\n",
      "1001 : ['Tell me the position held by Joseph Lister, 1st Baron Lister in the year 1902 and thereafter.']\n",
      "1001 : ['Which is tributary for Sea of Okhotsk having gps coordinate of 51.49694445 156.4758333?']\n",
      "1001 : ['What is the biography in Gerhard Schröders German Bundestag?']\n",
      "1001 : ['Which is the metasublass for diaspora?']\n",
      "1001 : ['Who bought 4chan in 2015?']\n",
      "1001 : ['Is Estadio do Maracana a home venue?']\n",
      "1001 : ['When did Oberhausen have a population of 209292.0?']\n",
      "1001 : ['When did A.R. Rahman receive the IIFA Award for Best Music Director?']\n",
      "1001 : ['How many country citizenship are taken by Antonio José de Sucre Farell?']\n",
      "1001 : ['What are the winged horse which start with the letter pegasus']\n",
      "1001 : ['Which is the crystal habit for albite?']\n",
      "1001 : ['na']\n",
      "1001 : ['What is the award received of Harold Pinter that is prized money that is 7 digits']\n",
      "1001 : ['Which of the chemical compounds with an active ingredient of Qutenza has the highest Scoville grade?']\n"
     ]
    },
    {
     "name": "stdout",
     "output_type": "stream",
     "text": [
      "1002 : ['who is the head of government of Vancouver?']\n"
     ]
    },
    {
     "name": "stdout",
     "output_type": "stream",
     "text": [
      "1003 : ['What is the public company with the most debt subsidized by Carrefour Bio?']\n",
      "1004 : ['Who worked as the manager/director of École Normale Supérieure?']\n",
      "1005 : ['How many courts are there in the Supreme Court of Canada?']\n"
     ]
    },
    {
     "name": "stdout",
     "output_type": "stream",
     "text": [
      "1006 : ['Which is the group that caused the Congress of Vienna?']\n"
     ]
    },
    {
     "name": "stdout",
     "output_type": "stream",
     "text": [
      "1007 : ['Which is the LoC and MARC vocabularies ID of Albania?']\n"
     ]
    },
    {
     "name": "stdout",
     "output_type": "stream",
     "text": [
      "1008 : ['What award did Brokeback Mountain receive in the 78th Academy Awards?']\n",
      "1009 : ['Which is the membership as a member party of Denis Sassou Nguesso?']\n"
     ]
    },
    {
     "name": "stdout",
     "output_type": "stream",
     "text": [
      "1010 : ['What is the opposite of inorganic chemistry?']\n",
      "1011 : ['Which colonial power controlled Lisbon?']\n"
     ]
    },
    {
     "name": "stdout",
     "output_type": "stream",
     "text": [
      "1012 : ['Which is the Thai cultural heritage ID for Khlong Saen Saeb?']\n"
     ]
    },
    {
     "name": "stdout",
     "output_type": "stream",
     "text": [
      "1013 : ['What is the number of those maintained by Fukuoka?']\n",
      "1014 : ['Which is the fictional universe which takes place in the fictional universe of The Matrix?']\n",
      "1015 : ['Give the name of the hill with the highest isolation whose is at a high range.']\n",
      "1016 : ['What are the Wikimedia set index article which start with the letter typhoon']\n"
     ]
    },
    {
     "name": "stdout",
     "output_type": "stream",
     "text": [
      "1017 : ['When was Chiang Kai-Shek elected and what was his major cause when he ran for President of the Republic of China?']\n",
      "1018 : ['How many things are founded by Oprah Winfrey?']\n"
     ]
    },
    {
     "name": "stdout",
     "output_type": "stream",
     "text": [
      "1019 : ['DOES THE NUMBER OF CYLINDERS OF THE KKSTB 197 EQUALS 2']\n"
     ]
    },
    {
     "name": "stdout",
     "output_type": "stream",
     "text": [
      "Link batch time: 11.805732727050781\n",
      "Anno batch time: 243.55702304840088\n",
      "Conv batch time: 0.004213094711303711\n",
      "[Pipeline1]: Linking 1049-1099\n"
     ]
    },
    {
     "name": "stdout",
     "output_type": "stream",
     "text": [
      "1051 : ['In what sport is Lin Dan ranked number one?']\n",
      "1051 : ['what is highly urbanized city language used by tagalog and also which starts with letter v']\n",
      "1051 : ['Tell me town in Croatia whose name has the word šibenik in it.']\n",
      "1051 : ['What is TORA ID for Uppsala ?']\n",
      "1051 : ['What is  the Flora of North America taxon ID for Amaranthus?']\n",
      "1051 : ['How many participants are there in the Kingdom of Castile?']\n",
      "1051 : ['What is the project codename for Windows 10?']\n",
      "1051 : ['What gaming platform is Second Life on?']\n",
      "1051 : ['When did Peter Freuchen join the Social Democrats?']\n",
      "1051 : ['What country related to Israel has the highest debt related to GDP?']\n",
      "1051 : ['Is it true that the maximal incubation period in humans with leprosy equals to 21?']\n",
      "1051 : ['What does social science essentially study?']\n",
      "1051 : ['What is a product of the automotive industry that is similar to a power-driven vehicle?']\n",
      "1051 : ['What are the form of government which start with the letter unicameralism']\n",
      "1051 : ['What tributary of the Oka River can be found at the GPS location of 37.0012?']\n",
      "1051 : ['Is it true that the number of episodes of Mansfield Park is greater than 0.8?']\n",
      "1051 : ['What is the railway gun with min muscle velocity whose country is France']\n",
      "1051 : ['DOES THE EFFECTIVE FIRING RNGE OF THE 70 K EQUALS 13120']\n",
      "1051 : ['When was Andhra Pradesh in Hyderabad?']\n",
      "1051 : ['Give the name of the gram-negative strain that has the highest maximum viable temperature.']\n",
      "1051 : ['Which is the Australian Parliament ID for Kurt Waldheim?']\n",
      "1051 : ['How many constellations are by Scorpius?']\n",
      "1051 : ['What is the volcano ID, assigned by the Smithsonian, for the Taal Volcano?']\n",
      "1051 : ['What are winged horse which start with the letter p']\n",
      "1051 : ['What town is twinned with 2NE1?']\n",
      "1051 : ['Name an art genre that contains the word ballet in its name']\n",
      "1051 : ['What theatre did Frank Gehry design?']\n",
      "1051 : ['What is the taxon synonym of angiosperms?']\n",
      "1051 : ['Is the gestation period of the Gorilla less than 324.0?']\n",
      "1051 : ['How does it emulates in the {PlayStation} ?']\n",
      "1051 : ['What is the VAT rate in Hungary?']\n",
      "1051 : ['What is the short-term exposure limit of chloroform over a 60-minute period?']\n"
     ]
    },
    {
     "name": "stdout",
     "output_type": "stream",
     "text": [
      "1052 : ['Does the proton have a magnetic moment that is equal to 0.0015210322053?']\n",
      "1053 : ['What type of spice is cuminum cyminum?']\n"
     ]
    },
    {
     "name": "stdout",
     "output_type": "stream",
     "text": [
      "1054 : ['Who is the member of Canada that was elected on January 1st, 1966?']\n"
     ]
    },
    {
     "name": "stdout",
     "output_type": "stream",
     "text": [
      "1055 : ['Which is the constituency of the Rajya Sabha of the coextensive with Karnataka?']\n"
     ]
    },
    {
     "name": "stdout",
     "output_type": "stream",
     "text": [
      "1056 : ['When and why was James Matheson elected as Member of the 15th Parliament of the United Kingdom?']\n",
      "1057 : ['Who is the cast member for the role of Bunny Lebowski in the Big Lebowski?']\n",
      "1058 : ['Who are the writers and collaborators to Chris Odom?']\n"
     ]
    },
    {
     "name": "stdout",
     "output_type": "stream",
     "text": [
      "1059 : ['Is the format for regular expression for red, R?']\n",
      "1060 : ['What is the location of the Honda headquarters with the postal code 107-8556?']\n",
      "1061 : ['What are the comics character which start with the letter viper']\n",
      "1062 : ['Who wrote Strange Case of Dr Jekyll and Mr Hyde ?']\n",
      "1063 : ['Who are the children and siblings of Alan Alda?']\n"
     ]
    },
    {
     "name": "stdout",
     "output_type": "stream",
     "text": [
      "1064 : ['How many sponsors are for Juventus F.C.?']\n"
     ]
    },
    {
     "name": "stdout",
     "output_type": "stream",
     "text": [
      "1065 : ['Does the elevation above sea level of the Beemster equal 4?']\n",
      "1066 : ['Who is Nicole Richies mother?']\n",
      "1067 : ['What is the type of procedure for the taxonomy of Durio']\n"
     ]
    },
    {
     "name": "stdout",
     "output_type": "stream",
     "text": [
      "1068 : ['Who is the  {political party} for {member of political party} of {Fidel Castro}']\n"
     ]
    },
    {
     "name": "stdout",
     "output_type": "stream",
     "text": [
      "1069 : ['Which FPGA prototype open source hardware has the highest voltage?']\n"
     ]
    },
    {
     "name": "stdout",
     "output_type": "stream",
     "text": [
      "Link batch time: 13.362577676773071\n",
      "Anno batch time: 321.4036946296692\n",
      "Conv batch time: 0.002096414566040039\n",
      "[Pipeline1]: Linking 1099-1149\n",
      "1101 : ['Name a basilica of the Italian Gothic architecture style that starst with letter D']\n",
      "1101 : ['What is in the  airline hub of Qantas ?']\n",
      "1101 : ['How many basic forms of government are there in Syria?']\n",
      "1101 : ['Tell me public company whose name has the word yandex in it.']\n",
      "1101 : ['Which award was received by Andrew Scott for his fictitious character Sherlock?']\n",
      "1101 : ['Is the lighthouse range of South Channel Pile Light less than 2.4?']\n",
      "1101 : ['What was Carol Ann Duffy nominated for in 2011?']\n",
      "1101 : ['What genre of music is in the series titled Bound?']\n",
      "1101 : ['In 1939, what country did Marlene Dietrich become a citizen of?']\n",
      "1101 : ['Which is the cuisine for the veganism cuisine?']\n",
      "1101 : ['WHat does biology study ?']\n",
      "1101 : ['When was William Golding awarded the Nobel Prize in Literature and how much did he get for it ?']\n",
      "1101 : ['When did Ernest Renan become a member of the Hungarian Academy of Sciences?']\n",
      "1101 : ['What is prescribed drug of academic field of oncology?']\n",
      "1101 : ['What is the kinship with the lowest family relationship degree whose series is Ahnentafel ?']\n",
      "1101 : ['What is the sign for February in Catalan Sign Language?']\n",
      "1101 : ['Tillandsia usneoides has a basionym of what?']\n"
     ]
    },
    {
     "name": "stdout",
     "output_type": "stream",
     "text": [
      "1101 : ['Tell me about the life of Jesus Christ.']\n",
      "1101 : ['What team position did Carlos Alberto Torres play as when he scored 4 goals?']\n",
      "1101 : ['Who is the party chief representing Shaanxi?']\n",
      "1101 : ['What is the unemployment rate of the candidate on the Eastern Front?']\n",
      "1101 : ['What is the excipient with the highest kinematic viscosity whose safety classification and labelling is NFPA 704: Standard System for the Identification of the Hazards of Materials for Emergency Response?']\n",
      "1101 : ['What region does Leo Visser compete in?']\n",
      "1101 : ['Is the total expenditure of the Central Catholic High School 4169127.6?']\n",
      "1101 : ['Where does Gloria Estefan work and where did her formation occur?']\n",
      "1101 : ['Where did Walter Scott die?']\n",
      "1101 : ['How many space missions did Yury Romanenko complete?']\n",
      "1101 : ['Tell me  the mantra that contains the word mantra in their name.']\n",
      "1101 : ['How many input methods does Minecraft possess?']\n",
      "1101 : ['What date disbanded for label Calvin Harris ?']\n",
      "1101 : ['When did Alexander Graham Bell divorce from Mabel Gardiner Hubbard?']\n",
      "1101 : ['What is KINENOTE person ID for Jean-Paul Belmondo ?']\n"
     ]
    },
    {
     "name": "stdout",
     "output_type": "stream",
     "text": [
      "1102 : ['What award did Alvaro Siza Vieira receive in 1988?']\n"
     ]
    },
    {
     "name": "stdout",
     "output_type": "stream",
     "text": [
      "1103 : ['Tell me circumstellar disk whose name has the word belt in it.']\n"
     ]
    },
    {
     "name": "stdout",
     "output_type": "stream",
     "text": [
      "1104 : ['What nationality is Jerry Lucas?']\n"
     ]
    },
    {
     "name": "stdout",
     "output_type": "stream",
     "text": [
      "1105 : ['Which is the category for films shot at the location of A Coruña?']\n",
      "1106 : ['Hoe many programming languages  are supported by logo?']\n",
      "1107 : ['Tell me excipient whose name has the word xylitol in it.']\n",
      "1108 : ['what is mineral species distributed by ccs  and also which starts with letter p']\n",
      "1109 : ['What is the time of the day in year of Easter?']\n"
     ]
    },
    {
     "name": "stdout",
     "output_type": "stream",
     "text": [
      "1110 : ['How many game modes are by a MMO game?']\n",
      "1111 : ['How many people have a facet of their Suriname?']\n"
     ]
    },
    {
     "name": "stdout",
     "output_type": "stream",
     "text": [
      "1112 : ['What species was found to be the host of the hypothetical protein Mb0514?']\n",
      "1113 : ['What fictional universe did Green Lantern take place in and who create Green Lantern?']\n"
     ]
    },
    {
     "name": "stdout",
     "output_type": "stream",
     "text": [
      "1114 : ['Which is the enterprise that operates the American Broadcasting Company?']\n"
     ]
    },
    {
     "name": "stdout",
     "output_type": "stream",
     "text": [
      "1115 : ['In what theatrical field was Allen Ginsberg employed?']\n"
     ]
    },
    {
     "name": "stdout",
     "output_type": "stream",
     "text": [
      "1116 : ['What episode preceded Opies Newspapers?']\n",
      "1117 : ['What is birth name of Charles Simonyi ?']\n"
     ]
    },
    {
     "name": "stdout",
     "output_type": "stream",
     "text": [
      "1118 : ['Does Lauren Bacall belong to Arab and Ashkenzai Jews ethnical groups?']\n",
      "1119 : ['What sports team did Abedi Pele belong to and how many matches did they play?']\n"
     ]
    },
    {
     "name": "stdout",
     "output_type": "stream",
     "text": [
      "Link batch time: 14.940585374832153\n",
      "Anno batch time: 215.79321455955505\n",
      "Conv batch time: 0.004272937774658203\n",
      "[Pipeline1]: Linking 1149-1199\n",
      "1151 : ['Is the time index of the Thout more than 0.8?']\n",
      "1151 : ['Name the carbon-containing flammable gas with the lowest standard enthalpy of formation ?']\n",
      "1151 : ['The Kingdom of Hawaii utilizes the base currency of which government or authority?']\n",
      "1151 : ['What awards has Loretta Lynn won?']\n",
      "1151 : ['Did Ryan Gosling receive an award at 19th Satellite Awards?']\n",
      "1151 : ['Which is the Eurovision Song Contest song ID for Celine Dion?']\n",
      "1151 : ['Which county seat of Lan Xang has STD code of 071?']\n",
      "1151 : ['Whos home town is New York City and made the musical score from The Rite of Spring?']\n",
      "1151 : ['Who is appointed by the United Nations Secretary-General?']\n",
      "1151 : ['Which of Grace Kellys works had earned her a nomination for an Academy Award for the Best Actress?']\n",
      "1151 : ['What part of the Jubba River has a coordinate location of 4.1783333333333 by 42.08?']\n",
      "1151 : ['Which award was Kiefer Sutherland nominated for in 2002?']\n",
      "1151 : ['Which is DORIS ID for loggerhead sea turtle?']\n",
      "1151 : ['Is the electronegativity of the selenium equal to 2.55?']\n",
      "1151 : ['What is the medium mountain stage with the lowest event distance whose general classification of race participants is Nairo Quintana ?']\n",
      "1151 : ['Name the church monument where Paul was the patron saint']\n",
      "1151 : ['What was Robert Donat nominated for in Goodbye, Mr. Chips?']\n"
     ]
    },
    {
     "name": "stdout",
     "output_type": "stream",
     "text": [
      "1151 : ['What country uses the sterling pound as its currency?']\n",
      "1151 : ['Which is {location born} of {concubine} {Margaret Rudd} ?']\n",
      "1151 : ['Where was Henry Cabot Lodge educated and what did he major in?']\n",
      "1151 : ['Is it true that the suicide rate of Nara Prefecture equals to 20.736?']\n",
      "1151 : ['In what historical period was Ancient Rome set ?']\n",
      "1151 : ['What written by creator of The Adventures of Tintin, has been prize awarded as the Officer of the Order of the Crown?']\n",
      "1151 : ['What are the analytic function which start with the letter function']\n",
      "1151 : ['What Arctic oscillation blizzard had the lowest level of precipitation ?']\n",
      "1151 : ['Who replaced Thurgood Marshall as the Associate Justice of the Supreme Court of the US?']\n",
      "1151 : ['Which is the product or the material produced of tomato juice?']\n",
      "1151 : ['Which is the AlloCiné person ID for Leslie Howard?']\n",
      "1151 : ['Which is the International Paralympic Committee athlete ID for Oscar Pistorius?']\n",
      "1151 : ['Which is the Daum Encyclopedia ID for Brexit?']\n",
      "1151 : ['What is the genetic association that regulates the molecular biology of hsa-miR-4323?']\n",
      "1151 : ['Did Nina Simone record at Bethlehem Records and Collectables Records']\n"
     ]
    },
    {
     "name": "stdout",
     "output_type": "stream",
     "text": [
      "1152 : ['What takes place on Rosh Hashanah in the month of Tishrei?']\n"
     ]
    },
    {
     "name": "stdout",
     "output_type": "stream",
     "text": [
      "1153 : ['Emmanuel Macron is the head of which sovereign state?']\n"
     ]
    },
    {
     "name": "stdout",
     "output_type": "stream",
     "text": [
      "1154 : ['What is the monument with the highest luminous intensity whose heritage designation is Rijksmonument?']\n"
     ]
    },
    {
     "name": "stdout",
     "output_type": "stream",
     "text": [
      "1155 : ['What playing range does the alto saxophone have?']\n"
     ]
    },
    {
     "name": "stdout",
     "output_type": "stream",
     "text": [
      "1156 : ['How many speeches were done by Ronald Reagan?']\n",
      "1157 : ['What field does Fernand Maillaud work in?']\n"
     ]
    },
    {
     "name": "stdout",
     "output_type": "stream",
     "text": [
      "1158 : ['Which polytheistic religion did the Etruschi follow?']\n"
     ]
    },
    {
     "name": "stdout",
     "output_type": "stream",
     "text": [
      "1159 : ['Who is in the film Miami Vice that was born on December 15, 1949?']\n",
      "1160 : ['Which is the listed ingredient for vitamin E?']\n"
     ]
    },
    {
     "name": "stdout",
     "output_type": "stream",
     "text": [
      "1161 : ['Who is the player that participated in Barbora Spotakova?']\n",
      "1162 : ['Tell me the method for determining hypertension with a CACNB2 genetic association?']\n"
     ]
    },
    {
     "name": "stdout",
     "output_type": "stream",
     "text": [
      "1163 : ['Is it true that the highest break of Jak Jones equals to 139?']\n",
      "1164 : ['Does IBM own Cognos and Mark sense?']\n",
      "1165 : ['What tree is in the Quebec provincial logo?']\n"
     ]
    },
    {
     "name": "stdout",
     "output_type": "stream",
     "text": [
      "11661167 : ['Which is the domain of subset?']\n",
      " : ['Where is the death place of Gerrit Rietveld located in the district of Themaat?']\n"
     ]
    },
    {
     "name": "stdout",
     "output_type": "stream",
     "text": [
      "1168 : ['For what song did Kid Cudi receive the Grammy Award for Best Rap/Sung Performance?']\n"
     ]
    },
    {
     "name": "stdout",
     "output_type": "stream",
     "text": [
      "1169 : ['What is ISzDb company ID of The Walt Disney Company?']\n"
     ]
    },
    {
     "name": "stdout",
     "output_type": "stream",
     "text": [
      "Link batch time: 12.824235200881958\n",
      "Anno batch time: 180.216490983963\n",
      "Conv batch time: 0.003860950469970703\n",
      "[Pipeline1]: Linking 1199-1249\n",
      "1201 : ['In which language of work or name do heart has a pronunciation audio as Ru-сердце.ogg?']\n"
     ]
    },
    {
     "name": "stdout",
     "output_type": "stream",
     "text": [
      "1201 : ['Which religious book is represented in Melchizedeks work?']\n",
      "1201 : ['How many platforms does Tomb Raider have?']\n",
      "1201 : ['Which is the LIPID MAPS ID for abscisic acid?']\n",
      "1201 : ['What was Claudette Colbert nominated for in the 8th Academy Awards?']\n",
      "1201 : ['Does Iowa have the nickname the Hawkeye State?']\n",
      "1201 : ['Name an online dictionary written by John Simpson that contains the word dictionnary in its name']\n",
      "1201 : ['Is the fee of Ueno Zoo equal to 300?']\n",
      "1201 : ['Which is the statue for the foundational text of Soviet Union?']\n",
      "1201 : ['Which is the academic major and the academic degree of John Updike who was educated at the Harvard University?']\n",
      "1201 : ['What is killed by Harry Potter?']\n",
      "1201 : ['Who located the administrative territorial entity resting place of Harald III of Norway?']\n",
      "1201 : ['How many employers are there for Edward Snowden?']\n",
      "1201 : ['Why did Jeremy Corbyn end his position as Member of the 56th Parliament of the United Kingdom and when was he elected in?']\n",
      "1201 : ['What award did Gwendoly Brooks receive in 1994?']\n",
      "1201 : ['The conjugate acid of water has a monoanion of?']\n",
      "1201 : ['Which is the summit of the highest point of Shanghai?']\n",
      "1201 : ['What is the medium used by textile artists?']\n",
      "1201 : ['What is the CPI inflation rate of the endemic to of  the Indian cuisine ?']\n",
      "1201 : ['Who is {club manager} of {actress} of {WrestleMania III} ?']\n",
      "1201 : ['How many people are head of the government for {German Democratic Republic} ?']\n",
      "1201 : ['Which religious text did Exodus follow?']\n",
      "1201 : ['What award did Hume Cronyn recieve in 1964?']\n",
      "1201 : ['Which is Agassiz checklist number for Danaus plexippus?']\n",
      "1201 : ['Captain Gerry Brisson plays for what?']\n",
      "1201 : ['How many payment types are now accepted for your money?']\n",
      "1201 : ['What is located in the landscape of The Scream?']\n",
      "1201 : ['Who is the airline alliance of Singapore Airlines?']\n",
      "1201 : ['Who are Sandrart.net artwork ID of Laocoön and His Sons?']\n",
      "1201 : ['What is the official symbol of New Brunswick?']\n",
      "1201 : ['Which is the update method for iTunes?']\n",
      "1201 : ['When did the Indiana Film Journalists Association give George Cloooney the award for Best Actor?']\n"
     ]
    },
    {
     "name": "stdout",
     "output_type": "stream",
     "text": [
      "1202 : ['What item was used in the coincident of the human body?']\n"
     ]
    },
    {
     "name": "stdout",
     "output_type": "stream",
     "text": [
      "1203 : ['What is the rank was held by Jimmy connors as tennis singles?']\n"
     ]
    },
    {
     "name": "stdout",
     "output_type": "stream",
     "text": [
      "1204 : ['what is in the modified version  of Over the Rainbow ?']\n",
      "1205 : ['What is the birthplace of Konrad Adenauer, which is bordered by the Rhein-Berg District?']\n",
      "1206 : ['Who got the noble title of monarch of Italy before and after Lothair I.']\n",
      "1207 : ['When was Bangalore part of the Mysore State?']\n"
     ]
    },
    {
     "name": "stdout",
     "output_type": "stream",
     "text": [
      "1208 : ['When is {date of death} of {Luca Pacioli} whose {earliest date} is {1517-4-0} ?']\n",
      "1209 : ['What is tutor Andreas Vesalius career?']\n",
      "1210 : ['When did Wuppertal have a population of 345,425?']\n",
      "1211 : ['Does the 645 Agrippina have a longitude of ascending node equal to 0.16770508344013?']\n"
     ]
    },
    {
     "name": "stdout",
     "output_type": "stream",
     "text": [
      "1212 : ['What capital of the Tran dynasty has a position of 105.841?']\n",
      "1213 : ['which music of gayane,was released on 1903-6-6?']\n"
     ]
    },
    {
     "name": "stdout",
     "output_type": "stream",
     "text": [
      "1214 : ['Was Tonya Harding a professional pair ice skater?']\n",
      "1215 : ['Is the quantity of Sandbox on December 12th less than 9.6?']\n",
      "1216 : ['Name a country related to Israel that starts with letter H']\n",
      "1217 : ['Name an ancient monument that starts with letter G']\n"
     ]
    },
    {
     "name": "stdout",
     "output_type": "stream",
     "text": [
      "1218 : ['Which is the automobile model as the vehicle normally used by Elizabeth II?']\n",
      "1219 : ['Who is the {gene} for {genetic association} of {allergic rhinitis}']\n"
     ]
    },
    {
     "name": "stdout",
     "output_type": "stream",
     "text": [
      "Link batch time: 12.004894018173218\n",
      "Anno batch time: 178.06738543510437\n",
      "Conv batch time: 0.004051923751831055\n",
      "[Pipeline1]: Linking 1249-1299\n",
      "1251 : ['What is the Unifrance ID for The Wages of Fear?']\n",
      "1251 : ['What was the population of Bermuda on 0-0-1988?']\n",
      "1251 : ['What muncipality of Norway starts with the letter ø?']\n",
      "1251 : ['Mention the fictional human character murdered by Luke Skywalker']\n",
      "1251 : ['What is the JMA Seismic Intensity Database ID for the 2011 Tohoku Earthquake and tsunami?']\n",
      "1251 : ['Is the global-warming potential of octafluorocyclobutane greater than 10440?']\n"
     ]
    },
    {
     "name": "stdout",
     "output_type": "stream",
     "text": [
      "1251 : ['Who contributed to the published works of El Mundo?']\n",
      "1251 : ['Which is the GS1 Manufacturer code for Google?']\n",
      "1251 : ['What are the political system which start with the letter totalitarianism']\n",
      "1251 : ['Which is the public company that has the material produced of Coca-Cola?']\n",
      "1251 : ['Is the horizontal depth of the DP 0193 Egg-shaped vase with small mouth greater than 36.0?']\n",
      "1251 : ['What is designed and influenced by JavaScript?']\n",
      "1251 : ['Who created Esperanto?']\n",
      "1251 : ['What series is World of Warcraft followed by?']\n",
      "1251 : ['Who is the {island nation} for {participant} of {North African Campaign}']\n",
      "1251 : ['Where is the governmental capital of Ujjinakoppa?']\n",
      "1251 : ['What college did Virgil Thomson attend?']\n",
      "1251 : ['What award was Dianne Wiest nominated for at the 67th Academy Awards?']\n",
      "1251 : [': Does Zhigulevskoye has alcohol by volume equal to 4.8']\n",
      "1251 : ['What was the {manner of death} and the {cause of death} of {Paul_Allen} ?']\n",
      "1251 : ['Tell me me a municipality whose name consist of the word barcelona and whose patron saint Virgin Mary']\n",
      "1251 : ['Who publishes the book  Examining the race specific prevelance of hidradenitis suppurativa at a large academic center, results from a retrospective chart review?']\n",
      "1251 : ['Who is the operator and builder of the Bombardier Dash 8?']\n",
      "1251 : ['How many position held are by the lieutenant general?']\n",
      "1251 : ['What is the opposite of a superhero']\n",
      "1251 : ['Which is the two-part episode for the series The X-Files?']\n",
      "1251 : ['What is the subsidiary of which is owned by of Laserdisc ?']\n",
      "1251 : ['On what day were the children of Teodoro Obiang Nguema Mbasogo born?']\n",
      "1251 : ['Which is part of the ecology?']\n",
      "1251 : ['Which is the essential medicine in the drug used for treatment of skin cancer?']\n",
      "1251 : ['Which rare disease killed Lou Gehrig?']\n",
      "1251 : ['What was the population of Little Rock as of 2/4/1935?']\n"
     ]
    },
    {
     "name": "stdout",
     "output_type": "stream",
     "text": [
      "1252 : ['Which is the male given name for the language of work in Russian?']\n"
     ]
    },
    {
     "name": "stdout",
     "output_type": "stream",
     "text": [
      "1253 : ['When and what was the award received by John Galsworthy?']\n",
      "1254 : ['What are the Luther city which start with the letter w']\n"
     ]
    },
    {
     "name": "stdout",
     "output_type": "stream",
     "text": [
      "1255 : ['Who is the  {Turkish bath} for {named after} of {Suleiman the Magnificent}']\n",
      "1256 : ['Waht actors are in Romance Revisited: The Songs of Jose Mari Chan?']\n",
      "1257 : ['What award did Andre Gide win that had a prize of $146,115?']\n",
      "1258 : ['Which is the Open Library ID for Albert Ellis?']\n"
     ]
    },
    {
     "name": "stdout",
     "output_type": "stream",
     "text": [
      "1259 : ['Which is the social of intangible cultural heritage status of the inventory of the immaterial cultural patrimony of France that starts with the letter d?']\n",
      "1260 : ['Which business division does The Walt Disney Company belong to?']\n",
      "1261 : ['how many honors does dame have?']\n",
      "1262 : ['Who are the relatives of Heinrich Himmler?']\n",
      "1263 : ['What is the the track list of The Beatles that has the date of release of 1968-11-0?']\n",
      "1264 : ['At which university does Linus Pauling work?']\n"
     ]
    },
    {
     "name": "stdout",
     "output_type": "stream",
     "text": [
      "1265 : ['Which means {World Golf Hall of Fame player ID} for{Tom Watson} ?']\n"
     ]
    },
    {
     "name": "stdout",
     "output_type": "stream",
     "text": [
      "1266 : ['When did Henry Steele Commager receive his education from the University of Chicago ?']\n",
      "1267 : ['What is the gender of Kartikeya whose symbol is also ♂?']\n",
      "1268 : ['Which Chinese character has the tallest stroke count?']\n"
     ]
    },
    {
     "name": "stdout",
     "output_type": "stream",
     "text": [
      "1269 : ['What is on the coast of Aleutian Islands, that has a tributary in Los Angeles River?']\n"
     ]
    },
    {
     "name": "stdout",
     "output_type": "stream",
     "text": [
      "Link batch time: 12.415047407150269\n",
      "Anno batch time: 199.33803057670593\n",
      "Conv batch time: 0.003989696502685547\n",
      "[Pipeline1]: Linking 1299-1349\n"
     ]
    },
    {
     "name": "stdout",
     "output_type": "stream",
     "text": [
      "1301 : ['What is the national necropolis in France with the highest quantity buried whose located in the administrative territorial entity is Souain-Perthes-lès-Hurlus?']\n",
      "1301 : ['What are the business division and subsidiary of American Broadcasting Company?']\n",
      "1301 : ['Does cinnamon contain a natural product of taxon called Cinnamomum verum?']\n",
      "1301 : ['What countries participated in the Battle of France?']\n",
      "1301 : ['What what is animated film  city of the United States chicago']\n",
      "1301 : ['What award Angela Lansbury has received at Tony Award for Best Actress in a Musical ?']\n",
      "1301 : ['What is the higher taxon of Mammut, whose vernacular name is Mastodonty?']\n",
      "1301 : ['Who was the significant person during the trial Brown v. Board of Education?']\n",
      "1301 : ['What hockey team in the NHL contains Ottawa in their name?']\n",
      "1301 : ['Tell me national cuisine whose name has the word mex in it.']\n",
      "1301 : ['Which referendum in Ireland, following the Eighth Amendment of the Constitution of Ireland, has the least amount of spoiled votes?']\n",
      "1301 : ['What is the {studied by} and the {partially coincident with} of {Human_body} ?']\n",
      "1301 : ['How many Doctor Who spin-offs are there?']\n",
      "1301 : ['What is the wikipedia article for the Autobahn?']\n",
      "1301 : ['Which is the scientific academic field of Zdzisław Szymański?']\n",
      "1301 : ['Which in {battle} {has daughter} of {Yeon Taejo} ?']\n",
      "1301 : ['What is the height record held by Renaud Lavillenie?']\n",
      "1301 : ['What was the population of Burundi in 1992?']\n",
      "1301 : ['Was Aristotle a student of Heraclitus?']\n",
      "1301 : ['Of what sports team is Kenny Dalglish a member and how many matches has he played?']\n",
      "1301 : ['When did Nicolás Maduro start as Secretary General of the Non-Aligned Movement?']\n",
      "1301 : ['Which is the CPU of Pac-Man?']\n",
      "1301 : ['Which is FAO 2007 genetic resource ID for Hereford?']\n",
      "1301 : ['Which is the RKDartists ID of Donatello?']\n",
      "1301 : ['What film production company was founded by Oprah Winfrey?']\n",
      "1301 : ['Which sovereign state participated in the North African Campaign?']\n",
      "1301 : ['Tell me numeric writing system whose name has the word numerals in their name']\n",
      "1301 : ['Who developed the continent of the Amundsen Sea?']\n",
      "1301 : ['What is the birth place of Annie Oakley, is it correct that it has 52501.0 inhabitants?']\n",
      "1301 : ['What position and sports team does Thierry Henry play on?']\n",
      "1301 : ['What is the supplementary intercardinal direction with the highest angle opposite of east-northeast?']\n",
      "1301 : ['Which port has the highest production rate?']\n"
     ]
    },
    {
     "name": "stdout",
     "output_type": "stream",
     "text": [
      "1302 : ['Tell me sport discipline whose name has the word  wheelchair in it.']\n",
      "1303 : ['Name the listed Salzburg town monuments containing the word Salzburg in their name.']\n"
     ]
    },
    {
     "name": "stdout",
     "output_type": "stream",
     "text": [
      "1304 : ['Did Mark David Chapman undergo detention at Attica Correctional Facility and Wende Correctional Facility ?']\n",
      "1305 : ['What member of the Ranjitsinhji sports team joined in 1893 ?']\n"
     ]
    },
    {
     "name": "stdout",
     "output_type": "stream",
     "text": [
      "1306 : ['Who is the composer of All We Know?']\n",
      "1307 : ['Name the record label behind the surge of Suge Knight']\n",
      "1308 : ['Who is the member of Münster since 1993-0-0?']\n",
      "1309 : ['What is American Airlines airline hub for the international airport']\n"
     ]
    },
    {
     "name": "stdout",
     "output_type": "stream",
     "text": [
      "1310 : ['When Rowan Atkinson attended Queens College, what was his academic major and degree?']\n",
      "1311 : ['Name a {subsidiary company} that {manager/director} {Daniel Schwartz} that starts with the letter {b}']\n",
      "1312 : ['Which is the Florentine musea catalogue ID for Primavera?']\n",
      "1313 : ['When Lily Tomlin, the spouse of Jane Wagner, was born?']\n",
      "1314 : ['Which school did Mao Zedong attend starting January 1, 1912?']\n",
      "1315 : ['Where is the resting place of dedication of the Church of St Peter?']\n"
     ]
    },
    {
     "name": "stdout",
     "output_type": "stream",
     "text": [
      "1316 : ['What is the Sister City of the final resting place of Hafsa bint Umar?']\n"
     ]
    },
    {
     "name": "stdout",
     "output_type": "stream",
     "text": [
      "1317 : ['Which is {characters} of {software framework} {Civilization VI: Rise and Fall} ?']\n",
      "1318 : ['Who is the parent company of the label of Carabao?']\n",
      "1319 : ['Who is the author of and who illustrated the cover of Treasure Island?']\n"
     ]
    },
    {
     "name": "stdout",
     "output_type": "stream",
     "text": [
      "Link batch time: 10.778602838516235\n",
      "Anno batch time: 213.52479481697083\n",
      "Conv batch time: 0.004232883453369141\n"
     ]
    },
    {
     "name": "stdout",
     "output_type": "stream",
     "text": [
      "[Pipeline1]: Linking 1349-1399\n",
      "1351 : ['which series ordinal of osmium tetroxide has ionization energy of 12.6?']\n",
      "1351 : ['What was Christian Lous Lange nominated for in 1919?']\n",
      "1351 : ['What is Mikhail Botvinniks Israel Chess Federation player ID?']\n",
      "1351 : ['For what team did Tom Finney play 433 matches for?']\n",
      "1351 : ['In which conflict was Vasily Blyukher involved ?']\n",
      "1351 : ['Which in the Administrative unit of Nonthaburi, has the inhabitants amount of 332388.0?']\n",
      "1351 : ['What what is animated nonprofit organization distributed by MGM and English']\n",
      "1351 : ['What is the history of oppression?']\n",
      "1351 : ['Tell me which programming language implementation starts with the letter y?']\n",
      "1351 : ['tell me aspect of history name has the word propaganda it it']\n",
      "1351 : ['How many architects worked on the St. Peters Basilica?']\n",
      "1351 : ['Did Miles Davis record and label the RCA and Capitol Records?']\n",
      "1351 : ['Which is the union for administrative territorial entity?']\n",
      "1351 : ['who inhabitants} of state of mbuji-mayi ?']\n",
      "1351 : ['State the confederation of Jefferson Davis?']\n",
      "1351 : ['Who did Diane von Furstenberg marry in 1969MacGraw']\n",
      "1351 : ['chupenme la pija giles ndeahhre is written in what language?']\n",
      "1351 : ['What was the HH-60 Jayhawk developed from?']\n",
      "1351 : ['Which role does Markwayne Mullin play in government?']\n",
      "1351 : ['Who is the sibling of Subutai?']\n",
      "1351 : ['Who dubbed the series Pretty, Pretty Dresses?']\n",
      "1351 : ['What is the subdivided into  of the land of Dubrovka ?']\n",
      "1351 : ['When was the death date of Akiva Ben Joseph according to the Pre-1584 Gregorian Calendar?']\n",
      "1351 : ['Tell me the name of the parabolic differential equation which starts with the letter e.']\n",
      "1351 : ['What are the municipality of Spain that contains the word zumaia in their name']\n",
      "1351 : ['who Wikimedia category for category for employees of the organization of Columbia University?']\n",
      "1351 : ['Did Louis VI of France die at the Chateau de la Douye?']\n",
      "1351 : ['How many processor cores does Xbox one have?']\n",
      "1351 : ['What songs are on the tracklist of Led Zeppelin IV?']\n",
      "1351 : ['Which is {detail map} of {Europe} where {media legend} is {topography of Europe} ?']\n",
      "1351 : ['What is the parent company of New York State University (that has co-ords of -33.1911)?']\n",
      "1351 : ['WHICH IS THE ICE HOCKEY TOURNAMENT THAT CONTAINS THE WORD TROPHY IN THEIR NAME']\n"
     ]
    },
    {
     "name": "stdout",
     "output_type": "stream",
     "text": [
      "1352 : ['What career uses a fishing reel?']\n",
      "1353 : ['Is the inflation rate of Japan equal to -0.6?']\n"
     ]
    },
    {
     "name": "stdout",
     "output_type": "stream",
     "text": [
      "1354 : ['Is here a polar solute in the water?']\n",
      "1355 : ['Where is the anatomical location of the cerebellum?']\n",
      "1356 : ['Which is the written work for the first translated edition?']\n"
     ]
    },
    {
     "name": "stdout",
     "output_type": "stream",
     "text": [
      "1357 : ['What sister of Jean Shrimpton has brown eyes?']\n",
      "1358 : ['For what work was Russel Crowe nominated for the Academy Award for Best Actor?']\n",
      "1359 : ['Name a vegetation zone in Europe that starts with letter T']\n",
      "1360 : ['In what language is soup pronounced as Ru-cyn.ogg?']\n"
     ]
    },
    {
     "name": "stdout",
     "output_type": "stream",
     "text": [
      "1361 : ['In what country was Adelaide founded on 12-28-1836?']\n"
     ]
    },
    {
     "name": "stdout",
     "output_type": "stream",
     "text": [
      "1362 : ['What is L-Tyrosine encoded by']\n",
      "1363 : ['What is the name of the music festival that is based on Sanremo Music Festival and that starts with the letter c?']\n",
      "1364 : ['What is the personal name of David Eddings is it said to be different From Taavet?']\n"
     ]
    },
    {
     "name": "stdout",
     "output_type": "stream",
     "text": [
      "1365 : ['Who is the brother or sister of George II of Great Britain?']\n"
     ]
    },
    {
     "name": "stdout",
     "output_type": "stream",
     "text": [
      "1366 : ['What twinned administrative body of Queensland started on October 10th, 1984?']\n"
     ]
    },
    {
     "name": "stdout",
     "output_type": "stream",
     "text": [
      "1367 : ['was the 2013 german federal election canadidacy age 21.6?']\n",
      "1368 : ['How many participants are playing with Steffi Graf?']\n"
     ]
    },
    {
     "name": "stdout",
     "output_type": "stream",
     "text": [
      "1369 : ['What is MobyGames group ID for The Sims ?']\n"
     ]
    },
    {
     "name": "stdout",
     "output_type": "stream",
     "text": [
      "Link batch time: 10.455762147903442\n",
      "Anno batch time: 178.9819655418396\n",
      "Conv batch time: 0.008618831634521484\n"
     ]
    },
    {
     "name": "stdout",
     "output_type": "stream",
     "text": [
      "[Pipeline1]: Linking 1399-1449\n",
      "1401 : ['Is the event distance of the diaulos equal to 0.8?']\n",
      "1401 : ['Was Website software engine Microsoft?']\n",
      "1401 : ['What are the integer which start with the letter i']\n",
      "1401 : ['The country of Catania has which cities?']\n",
      "1401 : ['Where is the location born of Mischa Maisky, which is adjacent to the Mārupe Municipality?']\n",
      "1401 : ['who opposite of manifestation  of figure of the earth ?']\n",
      "1401 : ['How many people own a Nissan?']\n",
      "1401 : ['What {county seat in}{Hamilton} has a {population} of {51,000.0}?']\n",
      "1401 : ['What is the location and height of the pole vault recorded by Eliza McCartney?']\n",
      "1401 : ['When was BP the headquarters location of London?']\n",
      "1401 : ['What file format is used by the programming language SQL?']\n",
      "1401 : ['Which is measured by  quantity of erg ?']\n",
      "1401 : ['Who is related to Kate Spade?']\n",
      "1401 : ['What is the political party that Hillary Clinton is a member of?']\n",
      "1401 : ['What organization did Alexander Pushkin found?']\n",
      "1401 : ['What game platform of Pac-Man has the latest release version of 4.2.6?']\n",
      "1401 : ['Which is a by-product of offal?']\n",
      "1401 : ['What is the official name for Taos Pueblo which is designated as a World Heritage Site?']\n",
      "1401 : ['What part of the Jordan River has the coordinates 35.5583?']\n",
      "1401 : ['What is the difference of a tie that has the distance of 607.0?']\n",
      "1401 : ['Which color appears in Rocketeer?']\n",
      "1401 : ['What is Legacies of British Slave-ownership person ID for William Ewart Gladstone?']\n",
      "1401 : ['How many leagues are in the National Hockey League?']\n",
      "1401 : ['In which year Clive Palmer joined as a member of political party in Liberal National Party of Queensland?']\n",
      "1401 : ['What political border does the Congress of Vienna have cause to be interested in?']\n",
      "1401 : ['Foil is used in what type of sports competition?']\n",
      "1401 : ['What is capital of Ōtsu ?']\n",
      "1401 : ['What is the namesake of the Riemann zeta function, which has the Cauchy–Euler equation in its significant works?']\n",
      "1401 : ['What is the INEGI municipality ID of Tlalnepantla de Baz?']\n",
      "1401 : ['When did Yuri Koptev start as the manager and director of the Roscosmos State Corporation?']\n",
      "1401 : ['What is the human population of the originates of the Charolais cattle?']\n",
      "1401 : ['Is Dublin located next to the Liffey and the Royal Canal?']\n"
     ]
    },
    {
     "name": "stdout",
     "output_type": "stream",
     "text": [
      "1402 : ['Tell me the United States federal executive department that contains the word department in their name']\n",
      "1403 : ['Where is the co-founder of The Evening of Ashura from?']\n"
     ]
    },
    {
     "name": "stdout",
     "output_type": "stream",
     "text": [
      "1404 : ['What is the capital of Chicago']\n"
     ]
    },
    {
     "name": "stdout",
     "output_type": "stream",
     "text": [
      "1405 : ['Theo van Doesburg is the Prime Minister of what place?']\n"
     ]
    },
    {
     "name": "stdout",
     "output_type": "stream",
     "text": [
      "1406 : ['Where will be Namada after she leaves river source?']\n"
     ]
    },
    {
     "name": "stdout",
     "output_type": "stream",
     "text": [
      "1407 : ['Which is the Hederich encyclopedia article ID of Hades?']\n",
      "1408 : ['what is the {represents} for {North Atlantic Treaty} that has {signatory} as {Dean Acheson} ?']\n"
     ]
    },
    {
     "name": "stdout",
     "output_type": "stream",
     "text": [
      "1409 : ['IS THE BITE FORCE QUOTIENT OF THE DHOLE EQUALS 132']\n",
      "1410 : ['what position did colin renfrew hold in 2004-0-0?']\n"
     ]
    },
    {
     "name": "stdout",
     "output_type": "stream",
     "text": [
      "1411 : ['Who gave the{takes places during} of {previous is} of {New Year} ?']\n"
     ]
    },
    {
     "name": "stdout",
     "output_type": "stream",
     "text": [
      "1412 : ['How many children are out of school at Wish You a Merry Christmas?']\n",
      "1413 : ['What is the safety classification and labelling of carbon monoxide thats NFPA Instability is 0?']\n"
     ]
    },
    {
     "name": "stdout",
     "output_type": "stream",
     "text": [
      "1414 : ['Who influenced Anna Akhmatova who was born on May 26th, 1799.']\n",
      "1415 : ['What is the CiNii ID for Belvedere?']\n"
     ]
    },
    {
     "name": "stdout",
     "output_type": "stream",
     "text": [
      "1416 : ['Tell me the scientific model that starts with the letter w']\n",
      "1417 : ['Who won the Battle of Austerlitz?']\n",
      "1418 : ['Of the 2015 Baga massacre, does the number of those missing equal 2000?']\n",
      "1419 : ['Is there a Thanksgiving in Panama?']\n"
     ]
    },
    {
     "name": "stdout",
     "output_type": "stream",
     "text": [
      "Link batch time: 10.669788360595703\n",
      "Anno batch time: 175.92342281341553\n",
      "Conv batch time: 0.0039899349212646484\n"
     ]
    },
    {
     "name": "stdout",
     "output_type": "stream",
     "text": [
      "[Pipeline1]: Linking 1449-1499\n",
      "1451 : ['What is the posthumous name of Emperor Taizong of Tang in the writing system of traditional Chinese characters?']\n",
      "1451 : ['What is warning of Shahada, that has Women in Red banner is Arabic WV banner.jpg?']\n",
      "1451 : ['Who developed the Hughes H-4 Hercules?']\n",
      "1451 : ['When did Wes Craven divorce Bonnie Broecker?']\n",
      "1451 : ['Which is the nonprofit organization if the formation location of Paris?']\n",
      "1451 : ['What field of work does Porfirio Díaz do?']\n",
      "1451 : ['WHO COMES BEFORE OR AFTER ESTONIAN SOVIET SOCIALIST REPBULIC?']\n",
      "1451 : ['In what instances has Fernando Pessoa been compared to Jean Seul de Méluret?']\n",
      "1451 : ['What awarded Peter Sellers was nominated for at 37th Academy Awards?']\n",
      "1451 : ['Tell me phantom island  whose name has the word tuanaki in it.']\n",
      "1451 : ['What are the distinguishing features of Carthage that have the feature of -814-0-0?']\n",
      "1451 : ['What Chinese dynasty followed the Yuan dynasty?']\n",
      "1451 : ['What is the union for Airbus A320s?']\n",
      "1451 : ['What writing system does Arabic use?']\n",
      "1451 : ['Is it true that the publication interval of the Cuore is less than 1.2?']\n",
      "1451 : ['What was the significant event that happened to Jean Gabin in 1976?']\n",
      "1451 : ['What was the inflation rate of Portugal during 1993-1-1?']\n",
      "1451 : ['What is governed by the Warsaw Pact effective from 12th March 1967?']\n",
      "1451 : ['How many siblings does Fú Jiān have?']\n",
      "1451 : ['What is the series ordinal for chairperson Kaoru Kamata at Waseda University?']\n",
      "1451 : ['When does La Plata?']\n",
      "1451 : ['Give the chemical compound with the least speed of sound who is part hydrogen?']\n",
      "1451 : ['Which is the fruit type of nut?']\n",
      "1451 : ['What relative or kinship is the first cousin once removed descending of Salvador Allende?']\n",
      "1451 : ['What is the monomer of polyvinyl chloride']\n",
      "1451 : ['What is the quality of old age?']\n",
      "1451 : ['Who is the sponsor of Henry Luce?']\n",
      "1451 : ['Which musician is successor of Sleeping Beauty.']\n",
      "1451 : ['who brother of 1st place medalist of Screen actors guild life achievement award ?']\n",
      "1451 : ['What are the contents of the puzzle?']\n",
      "1451 : ['What award did Subrahmanyan Chandrasekhar receive in 1974?']\n",
      "1451 : ['What is Project Gutenberg ID for Oliver Twist ?']\n"
     ]
    },
    {
     "name": "stdout",
     "output_type": "stream",
     "text": [
      "1452 : ['when did Stuart Broad end his contract as a player with Liecestershire County Cricket Club?']\n"
     ]
    },
    {
     "name": "stdout",
     "output_type": "stream",
     "text": [
      "1453 : ['At what point in time, and in which league did Mike Trout receive his award as MVP?']\n",
      "1454 : ['What is PACE member ID for James Callaghan ?']\n"
     ]
    },
    {
     "name": "stdout",
     "output_type": "stream",
     "text": [
      "1455 : ['What is the twinned administrative body of Strasbourg, which started in 1 Jan 1962?']\n"
     ]
    },
    {
     "name": "stdout",
     "output_type": "stream",
     "text": [
      "1456 : ['Mention the horse used by Robert E. Lee during mounting.']\n",
      "1457 : ['Did Reinhard Heydrich die of cholangitis and/or ballistic trauma?']\n",
      "1458 : ['Was the lowest atmospheric pressure recorded during the 1935 Labor Day Hurricane higher than 1070.4?']\n"
     ]
    },
    {
     "name": "stdout",
     "output_type": "stream",
     "text": [
      "1459 : ['Which is the KOATUU identifier for Cherkasy Oblast?']\n",
      "1460 : ['What was the maker of the art of sculpture a proponent of?']\n"
     ]
    },
    {
     "name": "stdout",
     "output_type": "stream",
     "text": [
      "1461 : ['For what Walter Huston nominated for The Treasure of the Sierra Madre?']\n",
      "1462 : ['What is  designer of ship armament  in2015 San Bernardino shooting ?']\n",
      "1463 : ['Is it true that the memory capacity of the diskette equals to 1152?']\n"
     ]
    },
    {
     "name": "stdout",
     "output_type": "stream",
     "text": [
      "1464 : ['What academic degree did Venus Williams get from studying at The Art Institute of Fort Lauderdale and when did he finish schooling?']\n",
      "1465 : ['which of the villages has endemism of leafy seadragon?']\n",
      "1466 : ['Is the rural population of North Sikkim district 31252?']\n"
     ]
    },
    {
     "name": "stdout",
     "output_type": "stream",
     "text": [
      "1467 : ['What is bordered by Netherlands Antilles and is located in the administrative unit of Amiens?']\n",
      "1468 : ['Which is the INEGI locality ID for Torreón?']\n"
     ]
    },
    {
     "name": "stdout",
     "output_type": "stream",
     "text": [
      "1469 : ['What honors have coined the compact disc?']\n"
     ]
    },
    {
     "name": "stdout",
     "output_type": "stream",
     "text": [
      "Link batch time: 11.726646423339844\n",
      "Anno batch time: 238.0378816127777\n",
      "Conv batch time: 0.0038776397705078125\n"
     ]
    },
    {
     "name": "stdout",
     "output_type": "stream",
     "text": [
      "[Pipeline1]: Linking 1499-1549\n",
      "1501 : ['Mention the symptoms and the signs resulting from the tantalum']\n",
      "1501 : ['Which is the UNESCO Atlas of the Worlds Languages in Danger ID of Coptic?']\n",
      "1501 : ['Which is FAO risk status for Arabian horse?']\n",
      "1501 : ['Tell me a civil parish that begins with the letter w']\n",
      "1501 : ['How many discoveries have been made concerning radial velocity?']\n",
      "1501 : ['What is the used language of Jack Nicklaus, that has AWLD statues and is 1 safe?']\n",
      "1501 : ['Where there 3.2 perpetrators in the Enoch Brown school massacre?']\n",
      "1501 : ['who enterprise for subsidiary of Sears?']\n",
      "1501 : ['How much acreage is the death place of Saul Bass?']\n",
      "1501 : ['Which is the CERO rating for The Legend of Zelda?']\n",
      "1501 : ['Who gave the{typology} of {language native} of {Uyghur people} ?']\n",
      "1501 : ['What is the female population of Karlovy Vary Region which has a total population of 150262.0?']\n",
      "1501 : ['When is the British museum open?']\n",
      "1501 : ['What is the edition of the game platform of Star Trek Online?']\n",
      "1501 : ['What major event happened to Alfred Doblin and were did it happen?']\n",
      "1501 : ['What is Metroid Primes GameRankings game ID?']\n",
      "1501 : ['What part of North Dakota is located in the Mountain Time Zone?']\n",
      "1501 : ['When was Niels Bohr nominated for a Nobel Prize in Physics?']\n",
      "1501 : ['Using a typology of time-manner-place, in what language does Hiroshi Sugimoto write?']\n",
      "1501 : ['What was the total size of exhibition of Prado National Museum in the year 2012?']\n",
      "1501 : ['What is next to Confederate States of America having diplomatic relation of Ecuador?']\n",
      "1501 : ['What is the icebreaker for the US National Archives Identifier?']\n",
      "1501 : ['What is the human for Adelaides design?']\n",
      "1501 : ['Is it true that the distance from Earth of the Polaris is 518.4?']\n",
      "1501 : ['Is the position angle of the southwest by west equal 236.25?']\n",
      "1501 : ['tell me the agriculture revolution that contains the word revolution in their own name.']\n",
      "1501 : ['What is is the name of the anatomical artery branch of the large intestine?']\n",
      "1501 : ['What was the population of the Saitama Prefecture in the year 2005?']\n",
      "1501 : ['where is the powerpoint of  steam turbine?']\n",
      "1501 : ['When is Chinese New Year?']\n",
      "1501 : ['Is it true that the lighthouse range of Farol de Pedra de Lume equals to 0.8?']\n",
      "1501 : ['What is the Mémoire du cyclisme cyclist ID for Bradley Wiggins?']\n"
     ]
    },
    {
     "name": "stdout",
     "output_type": "stream",
     "text": [
      "1502 : ['In what year was Valery Gergiev awarded the State Prize of the Russian Federation?']\n"
     ]
    },
    {
     "name": "stdout",
     "output_type": "stream",
     "text": [
      "1503 : ['Who is the actor in Captain Typho?']\n",
      "1504 : ['Does the rate of fire of the VAP submachine gun equals to 1200.0?']\n",
      "1505 : ['According to the census, what is the population of the Antofagasta Region?']\n"
     ]
    },
    {
     "name": "stdout",
     "output_type": "stream",
     "text": [
      "1506 : ['What is e-mail of Ilona Staller ?']\n"
     ]
    },
    {
     "name": "stdout",
     "output_type": "stream",
     "text": [
      "1507 : ['Is the nominal GDP per capita of Poland less than 15065.46?']\n"
     ]
    },
    {
     "name": "stdout",
     "output_type": "stream",
     "text": [
      "1508 : ['Which is the Behind The Voice Actors person ID for Julia Roberts?']\n",
      "1509 : ['Are Calophyllum inophyllum and Jasminum official symbols of Andhra Pradesh?']\n"
     ]
    },
    {
     "name": "stdout",
     "output_type": "stream",
     "text": [
      "1510 : ['Does the boiling point of the hexadecane equals 286.79?']\n",
      "1511 : ['Who is the maker of the board game Score?']\n",
      "1512 : ['For what show was Zooey Deschanel nominated for a Primetime Emmy Award for Outstanding Lead Actress in a Comedy Series?']\n"
     ]
    },
    {
     "name": "stdout",
     "output_type": "stream",
     "text": [
      "1513 : ['Which is the fictional organization that is present in the work of Nineteen Eighty-Four?']\n"
     ]
    },
    {
     "name": "stdout",
     "output_type": "stream",
     "text": [
      "1514 : ['Which G-type main sequence star has the maximum stellar rotational velocity?']\n",
      "1515 : ['What is the professional term for Rugby?']\n",
      "1516 : ['A person who studies meteorology looks at what geosphere?']\n",
      "1517 : ['What is the age range described by the term young adult?']\n"
     ]
    },
    {
     "name": "stdout",
     "output_type": "stream",
     "text": [
      "1518 : ['Is the numeric value of the Boltzmann constant less than 1.6567788e-23?']\n"
     ]
    },
    {
     "name": "stdout",
     "output_type": "stream",
     "text": [
      "1519 : ['Are there more than 3.6 floors below ground of the Plaza 66.']\n"
     ]
    },
    {
     "name": "stdout",
     "output_type": "stream",
     "text": [
      "Link batch time: 10.327237844467163\n",
      "Anno batch time: 198.6190881729126\n",
      "Conv batch time: 0.0038576126098632812\n"
     ]
    },
    {
     "name": "stdout",
     "output_type": "stream",
     "text": [
      "[Pipeline1]: Linking 1549-1599\n",
      "1551 : ['Give the central processing unit with the lowest thermal design power whose part of the class is L3 cache?']\n",
      "1551 : ['What is Paolo Gentiloni academic degree and academic major at Laurea magistrale (Italy)?']\n",
      "1551 : ['Who composed The Carnival of the Animals?']\n",
      "1551 : ['How many people are in the Labour Party?']\n",
      "1551 : ['Where was David Icke born and what position does he play?']\n",
      "1551 : ['What are the giants for Heracles  murder?']\n",
      "1551 : ['What is venous drainage for hand ?']\n",
      "1551 : ['Which is the Academia.edu institutional ID for University of Naples Federico II?']\n",
      "1551 : ['What magnets does the Large Hadron Collider use?']\n",
      "1551 : ['How many health specialties are there for the deficit hyperactivity disorder} ?']\n",
      "1551 : ['What is award received of Harlan Ellison that is  work is \\\\Repent, Harlequin!\\\\ Said the Ticktockman ?']\n",
      "1551 : ['When was William Ramsay nominated for a Nobel Prize in Chemistry?']\n",
      "1551 : ['Who designed the nuclear weapons tests for the Manhattan Project?']\n",
      "1551 : ['which building has the highest cost?']\n",
      "1551 : ['Who is the  {strip mall} for {architectural style} of {Bauhaus}']\n",
      "1551 : ['When did Alan Greenspan leave his position as Chair of the Federal Reserve?']\n",
      "1551 : ['What {civilisation} {denominates} {Yazdegerd III} ?']\n",
      "1551 : ['What is KEPN ID for Wolverhampton ?']\n",
      "1551 : ['What is the Revised Hepburn romanization for Morning Musume with its name in kana モーニングむすめ?']\n",
      "1551 : ['What is the custodian of the connected  with Roadside station Echizen ?']\n",
      "1551 : ['When did Ireland have a population of 2.85265e+06?']\n",
      "1551 : ['What city is the capital of Lagdo?']\n",
      "1551 : ['What isEncyclopædia Britannica Online ID for ton ?']\n",
      "1551 : ['Did Sarah Silverman play the guitar?']\n",
      "1551 : ['What are the inhabitants of the location where Alexander Fleming died?']\n",
      "1551 : ['What is the name of a tournament that starts with the letter w.']\n",
      "1551 : ['In what year was Leon Jouhaux nominated for the Nobel Peace Prize?']\n",
      "1551 : ['What was Edward Albee was nominated for on the 19th Tony Awards?']\n",
      "1551 : ['Did Katrina Kaif make films?']\n",
      "1551 : ['Who is the person that was influenced by Hypatia?']\n",
      "1551 : ['who titleholder of nomination received of nebraska ?']\n",
      "1551 : ['Was LL Cool J in the genre alternative hip-hop and new school hip-hop?']\n"
     ]
    },
    {
     "name": "stdout",
     "output_type": "stream",
     "text": [
      "1552 : ['Is the flattening of Venus zero?']\n"
     ]
    },
    {
     "name": "stdout",
     "output_type": "stream",
     "text": [
      "1553 : ['Was Niki Lauda member of Scuderia Ferrari and Renault F1?']\n",
      "1554 : ['Where was Narendra Modi educated and what academic degree was earned?']\n"
     ]
    },
    {
     "name": "stdout",
     "output_type": "stream",
     "text": [
      "1555 : ['What college libraries are at Yale University?']\n",
      "1556 : ['Who created Memoires dOutre-Tombe?']\n"
     ]
    },
    {
     "name": "stdout",
     "output_type": "stream",
     "text": [
      "15571558 : ['Which is the Encyclopaedia Metallum artist ID for Dave Grohl?']\n",
      " : ['What award did Dirk Nowitzki receive in 2011?']\n"
     ]
    },
    {
     "name": "stdout",
     "output_type": "stream",
     "text": [
      "15591560 : ['How many people self-identify as Democrats?']\n",
      " : ['Florentino Perez is a member of what political party whose start time was 1982-0-0']\n",
      "1561 : ['When was Forrest Gump publication date']\n",
      "1562 : ['Tell me the opera that location of first performance is the Theater auf der Wieden and which that starts with the letter f']\n",
      "1563 : ['Which brother of Atahualpa has sons?']\n"
     ]
    },
    {
     "name": "stdout",
     "output_type": "stream",
     "text": [
      "1564 : ['was zodiac killers occupation serial killer?']\n",
      "1565 : ['Which is {school attended} of {Patti Smith}, whose {full title} is {New Jersey State Teachers College at Glassboro} ?']\n",
      "1566 : ['Where is incumbent of professorship position of John Budden ?']\n"
     ]
    },
    {
     "name": "stdout",
     "output_type": "stream",
     "text": [
      "1567 : ['Who is professions field is musician having a timeline of topic of history of music?']\n"
     ]
    },
    {
     "name": "stdout",
     "output_type": "stream",
     "text": [
      "1568 : ['Which is the stereoisomer for L-Phenylalanine?']\n",
      "1569 : ['Which is the death place of Gustav Mahler?']\n"
     ]
    },
    {
     "name": "stdout",
     "output_type": "stream",
     "text": [
      "Link batch time: 9.872060775756836\n",
      "Anno batch time: 238.84828686714172\n",
      "Conv batch time: 0.003913402557373047\n"
     ]
    },
    {
     "name": "stdout",
     "output_type": "stream",
     "text": [
      "[Pipeline1]: Linking 1599-1649\n",
      "1601 : ['When did Oliver Sacks move to New York City?']\n",
      "1601 : ['Name the musical instrument used in song Face to the Sky song']\n",
      "1601 : ['What event in the 1951 24 Hours of Le Mans did A.J. Foyt take part in?']\n",
      "1601 : ['What is the biomedical measurement for the medical condition treated by phenol?']\n",
      "1601 : ['What position did Raymond Poincare hold and is now being replaced by Jacques Bainville?']\n",
      "1601 : ['Which institution has over nineteen thousand students?']\n",
      "1601 : ['who is the empire for diplomatic relation of ottoman empire?']\n",
      "1601 : ['What is the founder of the located in of The Parnassus ?']\n",
      "1601 : ['Who are the writers of Mahabharata with children in Dhritarashtra?']\n",
      "1601 : ['What is the outcome of summer Olympics 2012 opening ceremony at Kenenisa bekele?']\n",
      "1601 : ['Who is the inventor of the anatomical location of sinoatrial node disease?']\n",
      "1601 : ['Which is the CAS Registry Number for calcium chloride?']\n",
      "1601 : ['What is the weapon model with the maximum rate of fire whose subclass of is naval artillery?']\n",
      "1601 : ['Which is the religion text that has as an edition that of King James Version?']\n",
      "1601 : ['What is Invaulable.coms artist ID for Johannes V. Jensen?']\n",
      "1601 : ['What award did Karl von Frisch receive in 1921?']\n",
      "1601 : ['Who is the discoverer of runes that has a girlfriend in Gunnloo?']\n",
      "1601 : ['When did Anne Hathaway begin attending New York University and when did she graduate?']\n",
      "1601 : ['which public educational institution of the United States starts with letter u']\n",
      "1601 : ['What is orbited by of star of Messier 4 ?']\n",
      "1601 : ['Is the earthquake magnitude on the Richter magnitude scale of the 2000 Yunnan earthquake more than 7.08?']\n",
      "1601 : ['Which is the BSD Portal athlete ID of Felix Loch?']\n",
      "1601 : ['What part of Songhua River is located at 127.224?']\n",
      "1601 : ['Name the appointment cause and the halt reason for Eugenio Montale while serving as a senatore a vita']\n",
      "1601 : ['For which category did Henry Mancini win in the 34th Academy Awards?']\n",
      "1601 : [': What are the Cyprinus rubrofuscus which start with the letter k']\n",
      "1601 : ['Is the perimeter of Lai Lung .11?']\n",
      "1601 : ['Are the number of cases of the yellow fever equal to 136000.0?']\n",
      "1601 : ['The antiparticle of an elementary particle is what premium particle?']\n",
      "1601 : ['Who are the kids of Shiva whose life partner is Devasena?']\n",
      "1601 : ['When was Daniel Ellsberg granted the American Book Awards?']\n",
      "1601 : ['Did A.R. Rahman receive the Chevalier Sivaji Ganesan Award for Excellence in Indian Cinema and Zee Cine Award for Best Background Music?']\n"
     ]
    },
    {
     "name": "stdout",
     "output_type": "stream",
     "text": [
      "1602 : ['What academic subject is Eulers identity the discoverer of?']\n"
     ]
    },
    {
     "name": "stdout",
     "output_type": "stream",
     "text": [
      "1603 : ['What is Sächsische Biografie of Lucas Cranach the Elder ?']\n"
     ]
    },
    {
     "name": "stdout",
     "output_type": "stream",
     "text": [
      "1604 : ['Michael Dell is CEO of what privately held company?']\n",
      "1605 : ['Which political ideology is Leon Trotsky associated with?']\n",
      "1606 : ['Is it true that the magnetic moment of the helion is -0.000000000000000000000000010746174?']\n"
     ]
    },
    {
     "name": "stdout",
     "output_type": "stream",
     "text": [
      "1607 : ['Is the personal best of Caster Semenya greater than 138.396']\n",
      "1608 : ['What is the type of quantum particle with the lowest g-factor whose interaction is weak interaction?']\n",
      "1609 : ['When was Benedict Cumberbatch awarded the Primetime Emmy Award for Outstanding Lead Actor in a Miniseries or a movie?']\n"
     ]
    },
    {
     "name": "stdout",
     "output_type": "stream",
     "text": [
      "1610 : ['Who is the birth parent of Stalins kid, when was the kid born, and what was his name?']\n"
     ]
    },
    {
     "name": "stdout",
     "output_type": "stream",
     "text": [
      "1611 : ['Tell me milk tea whose name has the word tarik in it.']\n",
      "1612 : ['Is it true that the production rate of Jumilla more than 203978.4?']\n"
     ]
    },
    {
     "name": "stdout",
     "output_type": "stream",
     "text": [
      "1613 : ['What can you develop with Autodesk Vault?']\n",
      "1614 : ['Which is the BioLib ID for false gharial?']\n",
      "1615 : ['When did was Natalia Revuelta Clews the partner of Fidel Castro.']\n",
      "1616 : ['What prequel of plasma state of matter is using condensation?']\n"
     ]
    },
    {
     "name": "stdout",
     "output_type": "stream",
     "text": [
      "1617 : ['What is the birthplace of Saint Wenceslaus I, Duke of Bohemia, where the country is Czech Republic?']\n",
      "1618 : ['Tell me the name of a religious denomination which starts with the letter u.']\n"
     ]
    },
    {
     "name": "stdout",
     "output_type": "stream",
     "text": [
      "1619 : ['Tell me me a allotrope of carbon whose name consist of the word carbon and whose shape crystal structure']\n"
     ]
    },
    {
     "name": "stdout",
     "output_type": "stream",
     "text": [
      "Link batch time: 12.165523529052734\n",
      "Anno batch time: 264.2902674674988\n",
      "Conv batch time: 0.004403829574584961\n"
     ]
    },
    {
     "name": "stdout",
     "output_type": "stream",
     "text": [
      "[Pipeline1]: Linking 1649-1699\n",
      "1651 : ['Who is the fallen angel that is worshiped by Christianity?']\n",
      "1651 : ['How many discoveries have been made concerning radial velocity?']\n",
      "1651 : ['What is the principle basis, for the Special Region Law of Hong Kong.']\n",
      "1651 : ['What is the Womens Sports Foundation ID for Jennie Finch?']\n",
      "1651 : ['What is the organization that regulates Esperanto?']\n",
      "1651 : ['Is it true that the cost of damage of Hurricane Sandy was equal to 68680000000?']\n",
      "1651 : ['When did educated at of Venus Williams and academic major?']\n",
      "1651 : ['Which empire did the Parthian follow?']\n",
      "1651 : ['Is the Bohler N680s hardness 59?']\n",
      "1651 : ['Is the employment by economic sector of Amsterdam equal to 209100.0?']\n",
      "1651 : ['Who was Richard I of Englands mother?']\n",
      "1651 : ['What is the middle name of {Frederick I whose nick name is Frederick?']\n",
      "1651 : ['who movie director of part of series of home court disadvantage ?']\n",
      "1651 : ['Tell me programming paradigm whose name the word programming in it.']\n",
      "1651 : ['What is the alma mater of Elgin Baylor whose position is -122.319?']\n",
      "1651 : ['What are the mythological serpent which start with the letter z']\n",
      "1651 : ['What is the dynasty of Meiji whose co-founder is Jimmu?']\n",
      "1651 : ['In what country is Mikhail Fridman a citizen?']\n",
      "1651 : ['which laws applied for potassium hydroxide ?']\n",
      "1651 : ['Who followed Victor Hugo as a member of the Académie française?']\n",
      "1651 : ['What is Q48460 language official of Khwarazmian dynasty ?']\n",
      "1651 : ['What position did Arthur Griffith hold in East Cavan?']\n",
      "1651 : ['Which is the BDCYL authority ID for José Echegaray?']\n",
      "1651 : ['Is the vapor pressure of the Nonane equal to 3?']\n",
      "1651 : ['How does Mariano Rivera make use of the sport he plays?']\n",
      "1651 : ['Which is the discontinued date of PlayStation 3?']\n",
      "1651 : ['How much full-time work is available at the North Atlantic Treaty?']\n",
      "1651 : ['What governor of Aosta Valley was also a veterinarian?']\n",
      "1651 : ['Which is the Arch Linux package for PHP?']\n",
      "1651 : ['Which is the age of candidacy for South Korea?']\n",
      "1651 : ['How many medical examinations are required for medical ultrasonography} ?']\n",
      "1651 : ['What type of relationship did the siblings Carl Philipp Emanuel Bach and Wilhelm Friedemann Bach have?']\n"
     ]
    },
    {
     "name": "stdout",
     "output_type": "stream",
     "text": [
      "1652 : ['Are the number of records of the Ontario public library ID more than 454.8?']\n",
      "1653 : ['Was Benedict Arnold from the military branch of the Royal Navy and Continental Army?']\n"
     ]
    },
    {
     "name": "stdout",
     "output_type": "stream",
     "text": [
      "1654 : ['What language of William John Macquorn Rankine has a typological order of place-manner-time?']\n"
     ]
    },
    {
     "name": "stdout",
     "output_type": "stream",
     "text": [
      "1655 : ['What markup language is HTML5 based on?']\n",
      "1656 : ['What is the diplomatic relationship between Algeria and Indonesia?']\n"
     ]
    },
    {
     "name": "stdout",
     "output_type": "stream",
     "text": [
      "16571658 : ['Which is the cardinality of this set of 1?']\n",
      " : ['When was Tomas Garrigue masaryk nominated for Nobel peace prize award?']\n",
      "1659 : ['Which is the British Book Trade Index ID for John Knox?']\n",
      "1660 : ['Was the period of Margaret Thatcher ended as member ended on 2013-4-8?']\n"
     ]
    },
    {
     "name": "stdout",
     "output_type": "stream",
     "text": [
      "1661 : ['Which television series did {Francis Ford Coppola produce?']\n",
      "1662 : ['What are the United States Supreme Court decision which start with the letter v']\n"
     ]
    },
    {
     "name": "stdout",
     "output_type": "stream",
     "text": [
      "1663 : ['Who is the songwriter of the song, Rhapsody in Blue?']\n",
      "1664 : ['What may be prevented with aspirin?']\n"
     ]
    },
    {
     "name": "stdout",
     "output_type": "stream",
     "text": [
      "1665 : ['What is developed from fruit?']\n",
      "1666 : ['What Philippine city with the largest electorate is in Bohol?']\n",
      "1667 : ['DOES THE MAXIMUM THRUST OF THE CONCORDE EQUALS 676800']\n"
     ]
    },
    {
     "name": "stdout",
     "output_type": "stream",
     "text": [
      "1668 : ['What is the composed by of the described by work of Lizard ?']\n"
     ]
    },
    {
     "name": "stdout",
     "output_type": "stream",
     "text": [
      "1669 : ['What is Vancouver Island bordered by in administrative units?']\n"
     ]
    },
    {
     "name": "stdout",
     "output_type": "stream",
     "text": [
      "Link batch time: 11.585322141647339\n",
      "Anno batch time: 228.45850539207458\n",
      "Conv batch time: 0.0038428306579589844\n"
     ]
    },
    {
     "name": "stdout",
     "output_type": "stream",
     "text": [
      "[Pipeline1]: Linking 1699-1749\n",
      "1701 : ['Which Class IIIA combustible liquid has the highest IDLH?']\n",
      "1701 : ['What custom contains the word zwänzgerle in its name?']\n",
      "1701 : ['What position did Mahathir Mohamad hold starting 2018-5-10?']\n",
      "1701 : ['Which ensemble of buildings has the smallest intensity of luminosity?']\n",
      "1701 : ['What material is produced by Chevron corporation?']\n",
      "1701 : ['What role does John Hope Franklin have in the American Historical Association?']\n",
      "1701 : ['State the mathematical concept behind the Spacetime manifestation.']\n",
      "1701 : ['Which central bank has the highest target interest rate ?']\n",
      "1701 : ['Did Paul Simon receive the Lifetime Achievement Award at the 60th Primetime Emmy Awards?']\n",
      "1701 : ['what is the instruction set of runtime windows 95?']\n",
      "1701 : ['Name a mutant in X-MEN that starts with letter W']\n",
      "1701 : ['What is the original Robin Hood about?']\n",
      "1701 : ['When did Reinhard Heydrich stop being the President of Interpol?']\n",
      "1701 : ['what is the human population from the originates of Mind?']\n",
      "1701 : ['Which is {portrait of} of {A Sunday Afternoon on the Island of La Grande Jatte}, which has {sound emitted} is {female voice} ?']\n",
      "1701 : ['Where is {death place} of {Ignaz Semmelweis}, which has {next to} is {Heiligenstadt} ?']\n",
      "1701 : ['Mention the qualifying degree and the major specialization course in which Jeff Bezos graduated from the Princeton University']\n",
      "1701 : ['Which is gait for horse?']\n",
      "1701 : ['Which is the German cattle breed ID of Jersey cattle?']\n",
      "1701 : ['Who is guilty for Paris Hiltons My New BFF being presented?']\n",
      "1701 : ['Which is the date of baptism in early childhood of Diego Velázquez?']\n",
      "1701 : ['For what work was Seal in nomination for a Grammy Award for Best Pop Vocal Album?']\n",
      "1701 : ['What separation process did Zosimos of Panopolis invent with the word distillation in its name?']\n",
      "1701 : ['Name the birth city of Skepta in the country of Nairobi that has been subdivided']\n",
      "1701 : ['Tell me the association football stadium of the structural engineer Sinclair Knight Merz which starts with the letter s?']\n",
      "1701 : ['Who is the mother of Charlemagne, and when did she die?']\n",
      "1701 : ['WHICH IS THE MONTORY AUTHORITY WITH THE MOST TARGETINTEREST RATE']\n",
      "1701 : ['What was the population of Guinea in 1961?']\n",
      "1701 : ['Who is Calvinism named for?']\n",
      "1701 : ['Is the periapsis 15817 Lucianotesi less than 1.40172756?']\n",
      "1701 : ['When is Naruto Uzumakis birthday?']\n",
      "1701 : ['Where did Johann Jakob Heckel die?']\n"
     ]
    },
    {
     "name": "stdout",
     "output_type": "stream",
     "text": [
      "1702 : ['What is inflation rate of consumer price index aspect  of History of Trinidad and Tobago ?']\n"
     ]
    },
    {
     "name": "stdout",
     "output_type": "stream",
     "text": [
      "1703 : ['Tell me Beer festival whose name has the word oktoberfest in it.']\n",
      "1704 : ['which position David Trimble holds and when did he select?']\n",
      "1705 : ['To whom did Chrissie Hynde get married and when did it end?']\n"
     ]
    },
    {
     "name": "stdout",
     "output_type": "stream",
     "text": [
      "1706 : ['What is bordered by death of William Booth']\n"
     ]
    },
    {
     "name": "stdout",
     "output_type": "stream",
     "text": [
      "1707 : ['Tell mec ommunist party whose name has the word práce in it.']\n",
      "1708 : ['When did Leslie Lamport start working for Microsoft Research?']\n"
     ]
    },
    {
     "name": "stdout",
     "output_type": "stream",
     "text": [
      "1709 : ['What is the significant event held in the beginning of Laser Interferometer Gravitational-Wave Observatory in 1994']\n",
      "1710 : ['How many airline hub are done by All Nippon Airways']\n",
      "1711 : ['What was the significant event happend when Gina Rinehart was came to an end in 1981']\n"
     ]
    },
    {
     "name": "stdout",
     "output_type": "stream",
     "text": [
      "1712 : ['What is the name of the democratic republic, previously occupied by indigenous people, which now the majority of its population speaks American English?']\n",
      "1713 : ['Tell me an arithmetic calendar that has the word calendar in its name.']\n"
     ]
    },
    {
     "name": "stdout",
     "output_type": "stream",
     "text": [
      "1714 : ['Who is this cast member from the show Game of Thrones?']\n"
     ]
    },
    {
     "name": "stdout",
     "output_type": "stream",
     "text": [
      "1715 : ['Name the person who was married to Enki, who had a legislative period in the Ancient Near East?']\n"
     ]
    },
    {
     "name": "stdout",
     "output_type": "stream",
     "text": [
      "1716 : ['What is the twin city of Basel which has an establishment date of 751-0-0?']\n",
      "1717 : ['What film production company owns the American Broadcasting Company?']\n",
      "1718 : ['What is formed in burial place of William IV, Prince of Orange ?']\n"
     ]
    },
    {
     "name": "stdout",
     "output_type": "stream",
     "text": [
      "1719 : ['What is the color called HTML4 for ruby color?']\n"
     ]
    },
    {
     "name": "stdout",
     "output_type": "stream",
     "text": [
      "Link batch time: 11.52762770652771\n",
      "Anno batch time: 265.2883698940277\n",
      "Conv batch time: 0.0044536590576171875\n"
     ]
    },
    {
     "name": "stdout",
     "output_type": "stream",
     "text": [
      "[Pipeline1]: Linking 1749-1799\n",
      "1751 : ['When did Jonathan Franzen received his National Book Award for Fiction?']\n",
      "1751 : ['Which Shumen cave has the lowest temperature?']\n",
      "1751 : ['Is Burt Reynolds a citizen of America?']\n",
      "1751 : ['What is the country of the Bangalore?']\n",
      "1751 : ['What is webcam page URL for Metz ?']\n",
      "1751 : ['When did Romario receive the World Cup Golden Ball?']\n",
      "1751 : ['What is the name of the person who died due to amyotrophic lateral sclerosis?']\n",
      "1751 : ['What sports co-founder is apart of E.&H.T. Anthony &Co.?']\n",
      "1751 : ['Who is the writer of On Liberty whos birthday is May 20, 1806?']\n",
      "1751 : ['What are the paradox which start with the letter u']\n",
      "1751 : ['What is the Africultures person ID for Ryszard Kapuscinski?']\n",
      "1751 : ['Tell me the studio album of the tracklist of Rock and Roll that starts with the letter i?']\n",
      "1751 : ['Which {role model} is {contestant} of {The Black Dahlia} ?']\n",
      "1751 : ['Is William Lawsons first name the same as Gwyllym?']\n",
      "1751 : ['When did Katharine Graham receive the Library of Congress Living Legend award?']\n",
      "1751 : ['Which award was received by Kobe Bryant in 2007?']\n",
      "1751 : ['What is the chemical compound of erythromycin when interacting with a significant drug?']\n",
      "1751 : ['what biblical episode commemorates Palm Sunday?']\n",
      "1751 : ['What is the office held by the governor called?']\n",
      "1751 : ['Did Lolita reference The Emperors New Clothes and Eulalie?']\n",
      "1751 : ['Who was the voice actor in The Lion King?']\n",
      "1751 : ['What is the event location in action of the Allies?']\n",
      "1751 : ['What is the Diamond  the same as and what is it named after?']\n",
      "1751 : ['What is the working language of endemism of the Tasmanain devil?']\n",
      "1751 : ['Which is {won by} {succeded by} of {Freestyle skiing at the 2014 Winter Olympics – Mens moguls} ?']\n",
      "1751 : ['What is dissertation submitted to for Gordon Brown ?']\n",
      "1751 : ['How many academic major subjects required for {jurisprudence} ?']\n",
      "1751 : ['What happened in New Zealand on 11/25/1947?']\n",
      "1751 : ['What is the composition of a drink, that has mixed in is floral matter?']\n",
      "1751 : ['When did George Frederic Handel graduate from University of Halle-Wittenberg?']\n",
      "1751 : ['What is the head position of the Organisation for Economic Co-operation and Development']\n",
      "1751 : ['When did khanate for country of Golden Horde?']\n"
     ]
    },
    {
     "name": "stdout",
     "output_type": "stream",
     "text": [
      "1752 : ['When did educated at of Melinda Gates and academic major?']\n"
     ]
    },
    {
     "name": "stdout",
     "output_type": "stream",
     "text": [
      "1753 : ['Which is the bore of AK-47?']\n",
      "1754 : ['Which dialect is the official language of the Achaemenid Empire?']\n"
     ]
    },
    {
     "name": "stdout",
     "output_type": "stream",
     "text": [
      "1755 : ['What is male  of label for  military officer ?']\n",
      "1756 : ['which federation with the lowest life expectancy whose contains administrative territorial is saxony-anhalt?']\n"
     ]
    },
    {
     "name": "stdout",
     "output_type": "stream",
     "text": [
      "1757 : ['What is the {manner of death} and the {position played on team / speciality} by {Babe_Ruth} ?']\n"
     ]
    },
    {
     "name": "stdout",
     "output_type": "stream",
     "text": [
      "1758 : ['For which work did Omar Sharif receive the Cesar Award for Best Actor?']\n",
      "1759 : ['Tell me about employer of Nora Ephron and occupation?']\n",
      "1760 : ['Which is the Movieplayer film ID for Once Upon a Time in the West?']\n"
     ]
    },
    {
     "name": "stdout",
     "output_type": "stream",
     "text": [
      "1761 : ['Where was the location of the Battle of Gettysburg and who were the participation that fought in that war?']\n",
      "1762 : ['Who plays the sister in Red Line?']\n",
      "1763 : ['What is the holds position of the government headed by Frankfurt?']\n",
      "1764 : ['WHICH IS THE ARITHMETIC CALENDAR THAT STARTS WITH C']\n"
     ]
    },
    {
     "name": "stdout",
     "output_type": "stream",
     "text": [
      "1765 : ['What is the spoken language of Jadwiga of Poland?']\n"
     ]
    },
    {
     "name": "stdout",
     "output_type": "stream",
     "text": [
      "1766 : ['What was the space probe launched from Cape Canaveral that starts with letter V ?']\n",
      "1767 : ['What team does Alcides Pena play for?']\n"
     ]
    },
    {
     "name": "stdout",
     "output_type": "stream",
     "text": [
      "1768 : ['Is Rio de Janeiro a sister town to Athens?']\n",
      "1769 : ['Was Natalia Molchanova born in the Bashkir Autonomous Soviet Socialist Republic?']\n"
     ]
    },
    {
     "name": "stdout",
     "output_type": "stream",
     "text": [
      "Link batch time: 11.796181917190552\n",
      "Anno batch time: 214.24989485740662\n",
      "Conv batch time: 0.004017829895019531\n"
     ]
    },
    {
     "name": "stdout",
     "output_type": "stream",
     "text": [
      "[Pipeline1]: Linking 1799-1849\n",
      "1801 : ['Who is the crew of Cosmonaut Michael Fincke?']\n",
      "1801 : ['What award medal was given to John Steinbeck ?']\n",
      "1801 : ['What is timeline of topic for culture of Belle Barth ?']\n",
      "1801 : ['who is depicted by Phan Thi Kim Phuc ?']\n",
      "1801 : ['What place was Oliver Hazard Perry born that has a diplomatic relation to Chile?']\n",
      "1801 : ['When did Christopher A. Sims and Sveriges Riksbank win their prize in Economic Sciences Nobel Peace Prize?']\n",
      "1801 : ['For Bill Varney was Star Wars Episode V: the Empire strikes back of award received in winner?']\n",
      "1801 : ['What country has the lowest inflation rate?']\n",
      "1801 : ['Who held the position of chairperson for the Communist Party of China before and after Zhao Ziyang?']\n",
      "1801 : ['Who is the Mistress of John Wayne, who is also the winner of the Knight of the Order of Leopold?']\n",
      "1801 : ['When was European Union dissolved, abolished or demolished as per the European Community?']\n",
      "1801 : ['What is the motto of Shahada?']\n",
      "1801 : ['Where is the tourist information office in Frankfurt?']\n",
      "1801 : ['What is ICTV virus ID of Asfarviridae?']\n",
      "1801 : ['When was Saint-Étienne twinned with Fes?']\n",
      "1801 : ['Who is {mother} of {kids} of {Jason Robards} ?']\n",
      "1801 : ['What invention contains the word tourbillion in its name?']\n",
      "1801 : ['When did Neil Gaiman receive his award for Hugo?']\n",
      "1801 : ['What are the place of birth and the child of Pete Wentz?']\n",
      "1801 : ['What part of the series is preceded by Hooked on Monkey Fonics?']\n",
      "1801 : ['The antiparticle of a neutron is what quantum particle?']\n",
      "1801 : ['Is the pKa of ammonia equal to 7.368?']\n",
      "1801 : ['Where is the death location of Louisa May Alcott, that has its geographic centre in 41.2596 -71.8083?']\n",
      "1801 : ['Where did this DVD come from and who owns it now?']\n",
      "1801 : ['Tell me about historical country for headquarters location of Nazi Germany?']\n",
      "1801 : ['How many share borders are with the {Wiesbaden} ?']\n",
      "1801 : ['What position did Louis X of France hold starting on 11/29/1314?']\n",
      "1801 : ['who sculpted the drawing hands?']\n",
      "1801 : ['Which is the ComicBookDB ID for Warren Ellis?']\n",
      "1801 : ['Who is the Chief Executive Officer of Walmart?']\n",
      "1801 : ['Shimon Peres won what award together with someone else?']\n",
      "1801 : ['What is the location of the headquarters of Asahi Shimbun given the number 34.6937?']\n"
     ]
    },
    {
     "name": "stdout",
     "output_type": "stream",
     "text": [
      "1802 : ['When was Pedro I(who has a son, Pedro II of Brazil) born?']\n",
      "1803 : ['To which musical movement did John Cage belong?']\n"
     ]
    },
    {
     "name": "stdout",
     "output_type": "stream",
     "text": [
      "1804 : ['Tell me Original Public Ivy whose name has the word university in it.']\n"
     ]
    },
    {
     "name": "stdout",
     "output_type": "stream",
     "text": [
      "1805 : ['What is cover artist for Peter Blake ?']\n",
      "1806 : ['What is the award first described by the Manchester Small-Scale Experimental Machine?']\n",
      "1807 : ['What { end time } has { commander of } as { Kriegsmarine } for { Karl Dönitz }?']\n"
     ]
    },
    {
     "name": "stdout",
     "output_type": "stream",
     "text": [
      "1808 : ['What is associated with the Umayyad conquest of Hispania?']\n",
      "1809 : ['who is the writer of Julius Caesar who has a sister named Joan Shakespeare?']\n"
     ]
    },
    {
     "name": "stdout",
     "output_type": "stream",
     "text": [
      "1810 : ['Which is the language of work or name of Appetite for Destruction?']\n"
     ]
    },
    {
     "name": "stdout",
     "output_type": "stream",
     "text": [
      "1811 : ['Who gave the{son of} of {son of} of {William FitzMaurice, 2nd Earl of Kerry} ?']\n",
      "1812 : ['What is the condition of meterology containing the word drought in its name?']\n"
     ]
    },
    {
     "name": "stdout",
     "output_type": "stream",
     "text": [
      "1813 : ['Who is Supermans sidekick?']\n",
      "1814 : ['Which flammable liquid has the highest ionization energy ?']\n"
     ]
    },
    {
     "name": "stdout",
     "output_type": "stream",
     "text": [
      "1815 : ['What countries populate the border areas of Malawi?']\n"
     ]
    },
    {
     "name": "stdout",
     "output_type": "stream",
     "text": [
      "1816 : ['What is GONIAT ID of Staffordshire?']\n",
      "1817 : ['How many describe a project that uses Twitter?']\n",
      "1818 : ['Which is dan/kyu rank of wushu ?']\n",
      "1819 : ['On June 24th of 1948 what award did Kliment Voroshilov received?']\n"
     ]
    },
    {
     "name": "stdout",
     "output_type": "stream",
     "text": [
      "Link batch time: 10.925255060195923\n",
      "Anno batch time: 204.67036843299866\n",
      "Conv batch time: 0.004106998443603516\n"
     ]
    },
    {
     "name": "stdout",
     "output_type": "stream",
     "text": [
      "[Pipeline1]: Linking 1849-1899\n",
      "1851 : ['Who is informed by Friedrich Schiller, that has a father-in-law named Peter Im Baumgarten?']\n",
      "1851 : ['What gelatin item in the collection has the shortest width?']\n",
      "1851 : ['What operating system component starts with the letter f?']\n",
      "1851 : ['Name the award received by Greta Garbo in the year 1954?']\n",
      "1851 : ['In what film did Jacqui Verdura play Harley Quinn?']\n",
      "1851 : ['Which is the filmography for Orange Is the New Black?']\n",
      "1851 : ['What is {name after} of {Carnot heat engine}, which has {Christian name} is {Nicolas} ?']\n",
      "1851 : ['With a local government area of Zhenjiang, where was Gong Qiuxia born?']\n",
      "1851 : ['Is satellite of Saturn have a date of discovery of 2000-8-7?']\n",
      "1851 : ['What award did Thomas Hunt Morgan receive and when did he receive it?']\n",
      "1851 : ['Which is the Sandbox-String for degree Fahrenheit?']\n",
      "1851 : ['Which is the instruction set of 16-bit architecture?']\n",
      "1851 : ['Where did Zelda Fitzgerald and F. Scott Fitzgerald marry?']\n",
      "1851 : ['Tell me art movement whose name has the word yamato in it.']\n",
      "1851 : ['Which is the DSM-5 of attention deficit hyperactivity disorder?']\n",
      "1851 : ['Was Maureen Connolly victorious?']\n",
      "1851 : ['Did Jennifer Lawrence receive the MTV Movie Award for Best Female Performance?']\n",
      "1851 : ['The Laotian Civil War was fought by what diplomatic parties?']\n",
      "1851 : ['When was Cicely Tyson granted the Candace Award?']\n",
      "1851 : ['Is it true that the cost of Primer equals to 7000?']\n",
      "1851 : ['When did Phil Taylor win the BDO World Darts Championship?']\n",
      "1851 : ['Which is the Italian Senate ID for Giosuè Carducci?']\n",
      "1851 : ['Is the horizontal depth of the High-necked spheroid vase (DP 0212 equal to 28.8?']\n",
      "1851 : ['Did Carole King work with the record labels Epic Records and Avatar Records?']\n",
      "1851 : ['What is the antonym of painting of Samson and the Philistines?']\n",
      "1851 : ['What is the capital city twinned to Kiel that contains the word tallinn  in its name']\n",
      "1851 : ['What is the name of film studio that starts with letter s']\n",
      "1851 : ['What type of Pentium M microprocessor has the smallest number of processor cores?']\n",
      "1851 : ['Who gave the  {summit} of {system of mountains} of {Stevens Pass} ?']\n",
      "1851 : ['Which is the Historical Gazetteer GOV ID for German Confederation?']\n",
      "1851 : ['Did Chris Pratt perform good as an actor in Guardians of the Galaxy?']\n",
      "1851 : ['On which series Teg Hughes named as James?']\n"
     ]
    },
    {
     "name": "stdout",
     "output_type": "stream",
     "text": [
      "1852 : ['What is the official language of Romania?']\n"
     ]
    },
    {
     "name": "stdout",
     "output_type": "stream",
     "text": [
      "1853 : ['Which is the mass excess of helium-4?']\n",
      "1854 : ['Where did Willem de Kooning work on 7-18-1926?']\n"
     ]
    },
    {
     "name": "stdout",
     "output_type": "stream",
     "text": [
      "1855 : ['Who wrote the sequel to The Glory?']\n"
     ]
    },
    {
     "name": "stdout",
     "output_type": "stream",
     "text": [
      "1856 : ['What is won by the honorary titles of The Settlers of Catan?']\n"
     ]
    },
    {
     "name": "stdout",
     "output_type": "stream",
     "text": [
      "1857 : ['What is Hulk Hogans Wrestlingdata person ID?']\n"
     ]
    },
    {
     "name": "stdout",
     "output_type": "stream",
     "text": [
      "1858 : ['Which city was twinned with Nagoya on 21st December, 1978?']\n",
      "1859 : ['Is the Elo rating of the Noa Saxon Gardiner equal to 1004.0?']\n"
     ]
    },
    {
     "name": "stdout",
     "output_type": "stream",
     "text": [
      "1860 : ['Who were the victims due to Cimons actions?']\n",
      "1861 : ['Which sports team was Valeriy Lobanovsky a member of and how many matches did he play?']\n"
     ]
    },
    {
     "name": "stdout",
     "output_type": "stream",
     "text": [
      "1862 : ['TELL ME HUMAN SETTLEMENT WHOSE NAME HAS THE WORD ZANZIBAR IN  IT.']\n",
      "1863 : ['What are the programming steps for the {dynamic programming} ?']\n",
      "1864 : ['Which is the Entomologists of the World ID for Jean-Baptiste de Lamarck?']\n"
     ]
    },
    {
     "name": "stdout",
     "output_type": "stream",
     "text": [
      "1865 : ['Where Clement I dired at Bosporan Kingdom?']\n"
     ]
    },
    {
     "name": "stdout",
     "output_type": "stream",
     "text": [
      "1866 : ['Who was the presenter for Meet the Press starting on September 16, 1984?']\n",
      "1867 : ['Which is the GSS code (2011) of the Lake District?']\n",
      "1868 : ['What award did Mel Brooks receive in 2003?']\n",
      "1869 : ['When was John Dalberg-Acton, 1st Baron Acton, elected as the Member of the 19th Parliament of the United Kingdom?']\n"
     ]
    },
    {
     "name": "stdout",
     "output_type": "stream",
     "text": [
      "Link batch time: 12.077726125717163\n",
      "Anno batch time: 212.04277348518372\n",
      "Conv batch time: 0.004215240478515625\n"
     ]
    },
    {
     "name": "stdout",
     "output_type": "stream",
     "text": [
      "[Pipeline1]: Linking 1899-1949\n",
      "1901 : ['Ruth Benedict lives in what administrative location?']\n",
      "1901 : ['Which is the National Discography of Italian Song artist/group ID for Mikhail Lermontov?']\n",
      "1901 : ['What is the constituency of the Parliament of the United Kingdom with the most number of representatives in an organization/legislature whose country is United Kingdom of Great Britain and Ireland?']\n",
      "1901 : ['Is it true that the payload mass of the Vale Beijing equals to 404389?']\n",
      "1901 : ['Please tell me Alistair Brownlees IAT triathlete ID.']\n",
      "1901 : ['Is Malum depicted in the audio of The Son of Man.']\n",
      "1901 : ['What is the pole vault height record held by Igor Potapovich and where was the event?']\n",
      "1901 : ['Nathan M. Pusey replaced James Bryant Conant in what position?']\n",
      "1901 : ['Who was the operator of the Airbus A320?']\n",
      "1901 : ['When was Len Browns last year as the mayor of Auckland?']\n",
      "1901 : ['Tell me chemical substance whose name has the word zeolite in it.']\n",
      "1901 : ['When was Estelle Parsons nominated for a Tony Award for Best Actress in a Play?']\n",
      "1901 : ['Who was Louis, Count of Evreuxs mother?']\n",
      "1901 : ['Where were Catharine, Duchess of Cambridge and Prince William, Duke of Cambridge married?']\n",
      "1901 : ['Which position does Justin Trudeau hold?']\n",
      "1901 : ['What instrument does Darrell Pace play?']\n",
      "1901 : ['Is it true that the face value of the United States two-dollar bill equals to 2?']\n",
      "1901 : ['Who did Seiji Ozawa marry in the year 1962?']\n",
      "1901 : ['Name a former municipality of the Netherlands that shares a border with Rotterdam']\n",
      "1901 : ['Was Venice administratively intertwinned with Sarajevo and Tallinn?']\n",
      "1901 : ['Was Hamilcar Barca born before 1584?']\n",
      "1901 : ['Is the base salary of Gary Chan equal to 77000?']\n",
      "1901 : ['In the birth place of Gerard Reve, what is the earliest record of 1275-0-0?']\n",
      "1901 : ['For what reason D.T. suzuku was in nomination in the year 1963?']\n",
      "1901 : ['What is the language spoken by Ben Carson?']\n",
      "1901 : ['What statement does Fiji support that can mean a partly free country?']\n",
      "1901 : ['Which is the ISWC of Symphony No. 9?']\n",
      "1901 : ['Who is the developer of Stirling engine whose died in Galston']\n",
      "1901 : ['How many people visited Yellowstone National Park in 2015?']\n",
      "1901 : ['Is it true that the term length of office of Captain Regent of San Marino equals to 0.5?']\n",
      "1901 : ['Tell me universal library whose name has the word library in it.']\n",
      "1901 : ['Give me the most effected wrench model ?']\n"
     ]
    },
    {
     "name": "stdout",
     "output_type": "stream",
     "text": [
      "1902 : ['Who is {favorite player} of {The Rolling Stones}, that has {found guilty of} is {tax evasion}']\n",
      "1903 : ['What is the density of water?']\n"
     ]
    },
    {
     "name": "stdout",
     "output_type": "stream",
     "text": [
      "1904 : ['What is award received of Richard M. Karp that is point in time is 1985-1-1?']\n",
      "1905 : ['Does Bob Dylan have archives at the University of Georgia?']\n"
     ]
    },
    {
     "name": "stdout",
     "output_type": "stream",
     "text": [
      "1906 : ['Is the slope rating of the Crosswater Club equal to 145?']\n",
      "1907 : ['Mention the date and the reason of elimination of Oswald Mosley from the Member of the 35th Parliament of the United Kingdom.']\n",
      "1908 : ['Using the following specifications--wgs 84, 39.992--find the burial location of Deniz Gezmis.']\n",
      "1909 : ['In what neighborhood that covers a surface area of 50.41 units was the Battle of Rocroi fought?']\n",
      "1910 : ['What is INTEGRALs start point?']\n"
     ]
    },
    {
     "name": "stdout",
     "output_type": "stream",
     "text": [
      "1911 : ['what is the facet of a polytope shape of six-side die?']\n",
      "1912 : ['which sport in a geographic region has maximum number of clubs in Australia?']\n",
      "1913 : ['What is the trunk prefix of the shooting location Seven Samurai?']\n"
     ]
    },
    {
     "name": "stdout",
     "output_type": "stream",
     "text": [
      "1914 : ['Who is the inventor or discoverer of Dobsonian telescope, whose location of birth is Beijing?']\n"
     ]
    },
    {
     "name": "stdout",
     "output_type": "stream",
     "text": [
      "1915 : ['Which are the subsidiary entities of the maintainer of Forth Bridge?']\n",
      "1916 : ['What business is the organization of the American Broadcasting Company in?']\n"
     ]
    },
    {
     "name": "stdout",
     "output_type": "stream",
     "text": [
      "1917 : ['When did Charlie Rose receive the James Madison Award?']\n"
     ]
    },
    {
     "name": "stdout",
     "output_type": "stream",
     "text": [
      "1918 : ['What what is Radionavigation-satellite service manifestation of by satellite navigation system nd which that starts with {g}']\n"
     ]
    },
    {
     "name": "stdout",
     "output_type": "stream",
     "text": [
      "1919 : ['Which is {is in the arrondissement of} of {Arkansas River}, that has {divided into} is {Trego County} ?']\n"
     ]
    },
    {
     "name": "stdout",
     "output_type": "stream",
     "text": [
      "Link batch time: 13.439690589904785\n",
      "Anno batch time: 210.05214071273804\n",
      "Conv batch time: 0.004359722137451172\n"
     ]
    },
    {
     "name": "stdout",
     "output_type": "stream",
     "text": [
      "[Pipeline1]: Linking 1949-1999\n",
      "1951 : ['Who is the active mayor of Johann Gottlieb Fichte?']\n",
      "1951 : ['which terriain feature group is located on city of london?']\n",
      "1951 : ['what is the birth place of Erik Erikson,is he the head of the national Government Kurt Balum?']\n",
      "1951 : ['When was Pablo Neruda awarded the National Prize for Literature?']\n",
      "1951 : ['What are the influences portrayed by Standards?']\n",
      "1951 : ['What amount of those stated are for Zaporizhzhia?']\n",
      "1951 : ['Tell me about the codon that is encoded by glycine.']\n",
      "1951 : ['What award did Arthur Rubinstein win on 1/1/1961?']\n",
      "1951 : ['What has  pet of dog ?']\n",
      "1951 : ['What did George Lucas major in at University of Southern California and what was his degree?']\n",
      "1951 : ['Was Franklin D. Roosevelt awarded the Albert Medal?']\n",
      "1951 : ['What is the name of a branch of service that starts with the letter v.']\n",
      "1951 : ['What is the master name of Michel de Montaigne, who has the native name Marc Antoine Muret?']\n",
      "1951 : ['how many are influenced by maimonides?']\n",
      "1951 : ['Is the embodied energy of the glass more than 18.0?']\n",
      "1951 : ['Where was Milton Friedman educated at and what was his academic major?']\n",
      "1951 : ['How is Windows 10 updated?']\n",
      "1951 : ['What and where is the record for the pole vault held?']\n",
      "1951 : ['What rotary cannon did General Electric design that starts with the letter m?']\n",
      "1951 : ['For how long has Cardinal Mazarin been the Bishop of Metz']\n",
      "1951 : ['Who is the {empire} for {country of citizenship} of {Vladimir Lenin}']\n",
      "1951 : ['Who was the author that appeared in Professor Shattuck?']\n",
      "1951 : ['What does Air China build?']\n",
      "1951 : ['When did Alexander Shelepin stop being chairperson for the KGB?']\n",
      "1951 : ['Who graduated and played Burnin the Roadhouse Down.']\n",
      "1951 : ['What is Spocks occupation in 2286?']\n",
      "1951 : ['What is Franciss religious name?']\n",
      "1951 : ['Who gave the  {initial cause} of {outcome} of {Mechanization} ?']\n",
      "1951 : ['The Chinese garden has what FOIH heritage types ID?']\n",
      "1951 : ['How much chemical structure are for oxytocin?']\n",
      "1951 : ['What is the order for the Battle of Lepanto?']\n",
      "1951 : ['What is the type of government in the state of Norfolk?']\n"
     ]
    },
    {
     "name": "stdout",
     "output_type": "stream",
     "text": [
      "1952 : ['What is Dionysuss character opera?']\n",
      "1953 : ['What company was Steve Jobs a board member of?']\n"
     ]
    },
    {
     "name": "stdout",
     "output_type": "stream",
     "text": [
      "1954 : ['Frank Gehry created what sculpture?']\n"
     ]
    },
    {
     "name": "stdout",
     "output_type": "stream",
     "text": [
      "1955 : ['Tell me me a textile fibre whose name consist of the word woman and whose fabrication method sericulture silk']\n"
     ]
    },
    {
     "name": "stdout",
     "output_type": "stream",
     "text": [
      "1956 : ['On planet Nine, the G-type main-sequence star for the child astronomical body is called what?']\n",
      "1957 : ['What is the prequel of Ray Stantz titled?']\n",
      "1958 : ['When did Tom Cruise receive the Golden Globe Award for Best Actor - Motion Picture, Musical or Comedy?']\n"
     ]
    },
    {
     "name": "stdout",
     "output_type": "stream",
     "text": [
      "1959 : ['When did Aleksandr Solzhenitsyn got married to Natalia Solzhenitsyna and when did it end?']\n"
     ]
    },
    {
     "name": "stdout",
     "output_type": "stream",
     "text": [
      "1960 : ['Who was Michael Foucaults student?']\n"
     ]
    },
    {
     "name": "stdout",
     "output_type": "stream",
     "text": [
      "1961 : ['What is the original language of Television in Mexicos typology?']\n",
      "1962 : ['Erythromycin is used to treat what disease the most?']\n",
      "1963 : ['When was Michail Sholokhov nominated for a Nobel Prize in Literature?']\n"
     ]
    },
    {
     "name": "stdout",
     "output_type": "stream",
     "text": [
      "1964 : ['Did World War II took place in Mediterranean Sea?']\n",
      "1965 : ['Who founded the superior formation of Weyerhauser, Canada?']\n"
     ]
    },
    {
     "name": "stdout",
     "output_type": "stream",
     "text": [
      "1966 : ['What is the business enterprise with the highest maximum gradient whose instance of is business enterprise?']\n",
      "1967 : ['What are the words by My Old Kentucky Home whose career is lyricist?']\n",
      "1968 : ['Is the magnification of the TZF 9b equal to 2.5?']\n"
     ]
    },
    {
     "name": "stdout",
     "output_type": "stream",
     "text": [
      "1969 : ['Is there a monument dedicated to the Iroquois tribe?']\n"
     ]
    },
    {
     "name": "stdout",
     "output_type": "stream",
     "text": [
      "Link batch time: 11.124071598052979\n",
      "Anno batch time: 197.85512733459473\n",
      "Conv batch time: 0.004081010818481445\n"
     ]
    },
    {
     "name": "stdout",
     "output_type": "stream",
     "text": [
      "[Pipeline1]: Linking 1999-2049\n",
      "2001 : ['Which is the voice type of Paul McCartney?']\n",
      "2001 : ['Tell me operating system component whose name has the word file in it.']\n",
      "2001 : ['Which is the academic degree and the point in time when Guy Fieri was educated at the University of Nevada, Las Vegas?']\n",
      "2001 : ['Who was the spouse of Honoré de Balzac in the year 1850?']\n",
      "2001 : ['What position did Andrea Mantega hold in 1460?']\n",
      "2001 : ['What is the highest position in the Greater London administrative body ?']\n",
      "2001 : ['Which President of the United States was James A. Garfield?']\n",
      "2001 : ['What was the award received by Anne, Princess Royal that is point in time was 1969-0-0?']\n",
      "2001 : ['What award was Gerard Depardieu nominated for his work of Camille Claudel?']\n",
      "2001 : ['Who owns and founded the company JPMorgan Chase?']\n",
      "2001 : ['What was Melinda Gates academic major and degree when she studied at Duke University?']\n",
      "2001 : ['Who is the  {chemical compound} for {significant drug interaction} of {(RS)-methadone}']\n",
      "2001 : ['ATP reacts with which protein?']\n",
      "2001 : ['Is Colin Firth a sibling of Jonathan Firth and Kate Firth?']\n",
      "2001 : ['What is the number of out of school children in the planetary system of the Moon?']\n",
      "2001 : ['Which is the {international sport governing body} for {authority} of {baseball}?']\n",
      "2001 : ['Which is the residential of Otto Lilienthal nationality?']\n",
      "2001 : ['What is the largest depth of a lunar crater?']\n",
      "2001 : ['Tell me about the abdication of Juan Carlos I.']\n",
      "2001 : ['When has Košice been doing as head of government since 2010-12-21?']\n",
      "2001 : ['How many matches, points,goals, and set pace goals does sala have with real madrid']\n",
      "2001 : ['Is the maximum age of compulsory education in Sweden equal to 16 ?']\n",
      "2001 : ['Who is the child of Philip II of France and when was he/she born?']\n",
      "2001 : ['What award John Berryman received at 1969-1-1?']\n",
      "2001 : ['What is PRDL ID for Santo Tomás de Aquinas?']\n",
      "2001 : ['Tell me about the television program WWE and its production company.']\n",
      "2001 : ['Who is the stepparent of Ludwig von Mises?']\n",
      "2001 : ['What is Joy Divisions country of origin and what is her genre?']\n",
      "2001 : ['Who gave the {subsidiary} of {previous is} of {Académie des Beaux-Arts} ?']\n",
      "2001 : ['Who is the prime minister at admin HQ of the International Ice Hockey Federation?']\n",
      "2001 : ['Who in San Cristóbal de La Laguna was chosen as register office?']\n",
      "2001 : ['How many albums were recorded by Duran Duran ?']\n"
     ]
    },
    {
     "name": "stdout",
     "output_type": "stream",
     "text": [
      "2002 : ['Which empire rose from the Golden Horde?']\n"
     ]
    },
    {
     "name": "stdout",
     "output_type": "stream",
     "text": [
      "2003 : ['What is the majority age of those who are loyal to Moshe Dayan?']\n",
      "2004 : ['Was Jacqueline Kennedy Onassis a follower of Melkite Greek Catholic Church?']\n",
      "2005 : ['Which is the inscription for Le Déjeuner sur lherbe?']\n"
     ]
    },
    {
     "name": "stdout",
     "output_type": "stream",
     "text": [
      "2006 : ['What is the SI derived unit for the measured physical quantity of density?']\n"
     ]
    },
    {
     "name": "stdout",
     "output_type": "stream",
     "text": [
      "2007 : ['How many power plants use two-stroke engines?']\n",
      "2008 : ['Which is the chronology topic of the location in the administrative territorial entity of Grace Episcopal Church?']\n"
     ]
    },
    {
     "name": "stdout",
     "output_type": "stream",
     "text": [
      "2009 : ['which record did pole vault hold and which is the height?']\n",
      "2010 : ['Is Roseanne Barr a member of the political party the Republican Party and the Republican Governors Association?']\n"
     ]
    },
    {
     "name": "stdout",
     "output_type": "stream",
     "text": [
      "2011 : ['Where is {place of residence} of {Ewan McGregor}, whhich has {subdivided into} is {Alhambra} ?']\n",
      "2012 : ['What is the design of the satellite Jupiter Heliopolitanus?']\n",
      "2013 : ['Who is the child of Pedro I and when was he born?']\n",
      "2014 : ['Which is the Deezer artist ID for Green Day?']\n",
      "2015 : ['WHAT DOES PARSHVANATHA FOLLOW?']\n",
      "2016 : ['Is the watershed area of Itzstedter Sea .28?']\n",
      "2017 : ['What is the crafted from of the artist of The Thin Mercury Sound?']\n"
     ]
    },
    {
     "name": "stdout",
     "output_type": "stream",
     "text": [
      "2018 : ['What voice  is actresses from work of Death the Kid ?']\n",
      "2019 : ['tell me steroid hormone that starts with t']\n"
     ]
    },
    {
     "name": "stdout",
     "output_type": "stream",
     "text": [
      "Link batch time: 12.803385019302368\n",
      "Anno batch time: 213.76106572151184\n",
      "Conv batch time: 0.004115581512451172\n"
     ]
    },
    {
     "name": "stdout",
     "output_type": "stream",
     "text": [
      "[Pipeline1]: Linking 2049-2099\n",
      "2051 : ['What movie was Sissy Spacek nominated for an Academy Award for Best Actress?']\n",
      "2051 : ['Who is in the administrative unit of Cilegon whose Wikivoyage banner is Banten region banner.jpg?']\n",
      "2051 : ['when is the {point in time} for {Jawaharlal Nehru} who {nominated for} as {Nobel Peace Prize} ?']\n",
      "2051 : ['How many home ports are by the Southhamptons?']\n",
      "2051 : ['Who was the head of State of Georgia on January 25th, 2004?']\n",
      "2051 : ['What year was Nicki Minaj  nominated a Grammy Award for the Album of the year?']\n",
      "2051 : ['Tell me the CGNDB Unique ID of the Saskatchewan River?']\n",
      "2051 : ['What are the opening and closing hours of the British Museum on Weekdays?']\n",
      "2051 : ['What kind of employment do the spouses of Jussi Björling do?']\n",
      "2051 : ['Which is the genealogics.org person ID of Robert Walpole?']\n",
      "2051 : ['What are the political system which start with the letter t']\n",
      "2051 : ['What is the royal title of Louis the Pious and who followed his reign.']\n",
      "2051 : ['What award did Amnesty International receive in 1988?']\n",
      "2051 : ['What was Ian McEwan nominated for in 2007?']\n",
      "2051 : ['Is the vibration of the Makita GA7021 equal to 12.3?']\n",
      "2051 : ['Did Wladimir Kilitschko win during Wladimir Klitschko vs. Sultan Ibragimov?']\n",
      "2051 : ['What is Abigail Adams childs deathdate?']\n",
      "2051 : ['Which is the Butterflies and Moths of North America ID for Geometridae?']\n",
      "2051 : ['Is it true that the prize money of the Aleksis Kivi Award is 150000?']\n",
      "2051 : ['what is the twitch game ID of Dota 2?']\n",
      "2051 : ['When did Billie Jean King receive her award as a Library of Congress Living Legend?']\n",
      "2051 : ['Name the flavored tea named after Charles Grey that contains the word earl in its name']\n",
      "2051 : ['How many goals did Garrincha score?']\n",
      "2051 : ['who treated by of method of murder of mohammed rafi?']\n",
      "2051 : ['Which is the association of the chairperson Thomas Bach that contains the word committee in its name?']\n",
      "2051 : ['What is the local authority for Greater London?']\n",
      "2051 : ['What is the name of the secondary national association football team for the Zinedine Zidane Team members?']\n",
      "2051 : ['What is the zipcode of Ludwig Mies van der Rohe?']\n",
      "2051 : ['What movable object located in Siege of Jerusalem has the legal name القدس?']\n",
      "2051 : ['When is Philos birthday.']\n",
      "2051 : ['What are the human which start with the letter t']\n",
      "2051 : ['Who was significant in the movement for Indian Independence?']\n"
     ]
    },
    {
     "name": "stdout",
     "output_type": "stream",
     "text": [
      "2052 : ['Which is the permanent duplicated item of famine?']\n",
      "2053 : ['Who gave the {prequel of} of {location of narrative} of {Candide} ?']\n"
     ]
    },
    {
     "name": "stdout",
     "output_type": "stream",
     "text": [
      "2054 : ['What are the orthologs of genetic association of amytrophic lateral sclerosis?']\n"
     ]
    },
    {
     "name": "stdout",
     "output_type": "stream",
     "text": [
      "2055 : ['Who is the publisher and illustrator of The Little Prince?']\n",
      "2056 : ['What subclass model of spaceship has the longest shelf life?']\n"
     ]
    },
    {
     "name": "stdout",
     "output_type": "stream",
     "text": [
      "2057 : ['Tell me artistic theme whose name has the word theotokos in it.']\n",
      "2058 : ['Jon Voight was nominated for what award for his work on Anaconda?']\n"
     ]
    },
    {
     "name": "stdout",
     "output_type": "stream",
     "text": [
      "2059 : ['With a population of 434516, what is the capital of Majorca?']\n"
     ]
    },
    {
     "name": "stdout",
     "output_type": "stream",
     "text": [
      "2060 : ['Who is the father of Nefertiti?']\n",
      "2061 : ['Is Uruguays minimum age for compulsory education the number 6?']\n",
      "2062 : ['What is the earliest date for John the Baptists death in the year 30?']\n"
     ]
    },
    {
     "name": "stdout",
     "output_type": "stream",
     "text": [
      "2063 : ['Tell me freeway network whose name has the word system in it.']\n",
      "2064 : ['Which is the Model Manual ID for Cindy Crawford?']\n"
     ]
    },
    {
     "name": "stdout",
     "output_type": "stream",
     "text": [
      "2065 : ['What is the U.S. National Geodetic Survey ID of Mount Mitchell?']\n",
      "2066 : ['When was Niels Bohr  awarded the Nobel Prize in Physics? How much was he awarded?']\n"
     ]
    },
    {
     "name": "stdout",
     "output_type": "stream",
     "text": [
      "2067 : ['Which is the Scoresway soccer person ID for Gareth Bale?']\n",
      "2068 : ['What are the writing system which start with the letter W']\n",
      "2069 : ['What silent short film depicts Richard III of England?']\n"
     ]
    }
   ],
   "source": [
    "responses = []\n",
    "batch_qns = []\n",
    "batch_ans = []\n",
    "truncated_data = df[:]\n",
    "total_len = len(truncated_data)\n",
    "last = 0\n",
    "cutoff = 0\n",
    "for i, data in enumerate(truncated_data.iterrows()):\n",
    "    data = data[1]\n",
    "    if i < cutoff:\n",
    "        continue\n",
    "    # print(\"Pipeline iter\", i)\n",
    "    question = data[\"new_question\"]\n",
    "    answer = data[\"sparql_wikidata\"]\n",
    "    # try\n",
    "    #     linked, annotated, converted = pipe(question, answer)\n",
    "    # except Exception as e:\n",
    "    #     print(e)\n",
    "    #     continue\n",
    "    # responses.append([linked, annotated, converted])\n",
    "    if (question and answer) and len(question) >= 2:\n",
    "        batch_qns.append(question)\n",
    "        batch_ans.append(answer)\n",
    "    if ((i + 1) % 50) == 0 or i == total_len - 1:\n",
    "        print(\"[Pipeline1]:\", f\"Linking {last}-{i}\")\n",
    "        try:\n",
    "            for linked, annotated, converted in pipe_batch(batch_qns, batch_ans):\n",
    "                responses.append([linked, annotated, converted])\n",
    "            batch_qns = []\n",
    "            batch_ans = []\n",
    "            last = i\n",
    "        except Exception as e:\n",
    "            raise e\n",
    "            # print(e)\n",
    "            # continue\n",
    "        with open(f\"../t5-for-sparql/falcon_links/5ents-gold_0rels/link_{i}.json\", \"w\") as f:\n",
    "            json.dump(responses, f, indent=2, separators=(',',':'))"
   ]
  }
 ],
 "metadata": {
  "kernelspec": {
   "display_name": "py310",
   "language": "python",
   "name": "python3"
  },
  "language_info": {
   "codemirror_mode": {
    "name": "ipython",
    "version": 3
   },
   "file_extension": ".py",
   "mimetype": "text/x-python",
   "name": "python",
   "nbconvert_exporter": "python",
   "pygments_lexer": "ipython3",
   "version": "3.10.11"
  },
  "papermill": {
   "default_parameters": {},
   "duration": 11756.644338,
   "end_time": "2023-07-19T04:48:55.260778",
   "environment_variables": {},
   "exception": null,
   "input_path": "pipeline1.ipynb",
   "output_path": "pipeline1-titan.papermill.ipynb",
   "parameters": {},
   "start_time": "2023-07-19T01:32:58.616440",
   "version": "2.4.0"
  }
 },
 "nbformat": 4,
 "nbformat_minor": 5
}
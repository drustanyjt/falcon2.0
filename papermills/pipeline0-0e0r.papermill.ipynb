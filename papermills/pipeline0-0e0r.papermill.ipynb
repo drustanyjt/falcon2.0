{
 "cells": [
  {
   "attachments": {},
   "cell_type": "markdown",
   "id": "82067163",
   "metadata": {
    "papermill": {
     "duration": 0.009748,
     "end_time": "2023-07-20T09:26:24.772954",
     "exception": false,
     "start_time": "2023-07-20T09:26:24.763206",
     "status": "completed"
    },
    "tags": []
   },
   "source": [
    "# Pipeline 0"
   ]
  },
  {
   "cell_type": "code",
   "execution_count": 1,
   "id": "fb8ab849",
   "metadata": {
    "execution": {
     "iopub.execute_input": "2023-07-20T09:26:24.802908Z",
     "iopub.status.busy": "2023-07-20T09:26:24.802433Z",
     "iopub.status.idle": "2023-07-20T09:26:28.287919Z",
     "shell.execute_reply": "2023-07-20T09:26:28.279612Z"
    },
    "papermill": {
     "duration": 3.499794,
     "end_time": "2023-07-20T09:26:28.291412",
     "exception": false,
     "start_time": "2023-07-20T09:26:24.791618",
     "status": "completed"
    },
    "tags": []
   },
   "outputs": [
    {
     "name": "stdout",
     "output_type": "stream",
     "text": [
      "[Falcon2.0 main.py]: no reranking, k=10\n"
     ]
    }
   ],
   "source": [
    "from pipeline import T5Converter\n",
    "import time\n",
    "from pprint import pprint"
   ]
  },
  {
   "cell_type": "code",
   "execution_count": 2,
   "id": "d98fdd4b",
   "metadata": {
    "execution": {
     "iopub.execute_input": "2023-07-20T09:26:28.322902Z",
     "iopub.status.busy": "2023-07-20T09:26:28.322181Z",
     "iopub.status.idle": "2023-07-20T09:26:28.707538Z",
     "shell.execute_reply": "2023-07-20T09:26:28.699321Z"
    },
    "papermill": {
     "duration": 0.413301,
     "end_time": "2023-07-20T09:26:28.710965",
     "exception": false,
     "start_time": "2023-07-20T09:26:28.297664",
     "status": "completed"
    },
    "tags": []
   },
   "outputs": [],
   "source": [
    "from pathlib import Path\n",
    "import pandas as pd\n",
    "import json\n",
    "import os\n",
    "\n",
    "data_path = Path(\"..\") / \"t5-for-sparql\" / \"data\" / \"lcquad2\" / \"train.json\"\n",
    "data2_path = Path(\"..\") / \"t5-for-sparql\" / \"data\" / \"lcquad2\" / \"test_KG_4211.json\"\n",
    "output_links_dir = Path(\"..\") / \"t5-for-sparql\" / \"falcon_links\" / \"0ents_0rels\"\n",
    "# os.environ['ES_ENTITY_INDEX'] = \"wikidataentityindex\"\n",
    "# os.environ['ES_PROPERTY_INDEX'] = \"wikidatapropertyindet\""
   ]
  },
  {
   "cell_type": "code",
   "execution_count": 3,
   "id": "d0fe0d1c",
   "metadata": {
    "execution": {
     "iopub.execute_input": "2023-07-20T09:26:28.729828Z",
     "iopub.status.busy": "2023-07-20T09:26:28.728977Z",
     "iopub.status.idle": "2023-07-20T09:26:28.734860Z",
     "shell.execute_reply": "2023-07-20T09:26:28.733788Z"
    },
    "papermill": {
     "duration": 0.022896,
     "end_time": "2023-07-20T09:26:28.740260",
     "exception": false,
     "start_time": "2023-07-20T09:26:28.717364",
     "status": "completed"
    },
    "tags": []
   },
   "outputs": [],
   "source": [
    "converter = T5Converter()"
   ]
  },
  {
   "cell_type": "code",
   "execution_count": 4,
   "id": "d1f9dfd4",
   "metadata": {
    "execution": {
     "iopub.execute_input": "2023-07-20T09:26:28.765926Z",
     "iopub.status.busy": "2023-07-20T09:26:28.765523Z",
     "iopub.status.idle": "2023-07-20T09:26:28.780370Z",
     "shell.execute_reply": "2023-07-20T09:26:28.779301Z"
    },
    "papermill": {
     "duration": 0.037137,
     "end_time": "2023-07-20T09:26:28.783183",
     "exception": false,
     "start_time": "2023-07-20T09:26:28.746046",
     "status": "completed"
    },
    "tags": []
   },
   "outputs": [],
   "source": [
    "import re\n",
    "\n",
    "def retrieve_gold_links(masked_wikisparql):\n",
    "  fragments = masked_wikisparql.upper().strip().split(' ')\n",
    "  ents = []\n",
    "  rels = []\n",
    "  result_dict = {\n",
    "    'ents': ents,\n",
    "    'rels': rels,\n",
    "  }\n",
    "  for fragment in fragments:\n",
    "    id_match = re.search('[QP][0-9]+',fragment)\n",
    "    if id_match:\n",
    "      id_raw = id_match.group(0)\n",
    "      if id_raw[0] == 'Q':\n",
    "        prefix = 'wdt:'\n",
    "        uri = 'http://www.wikidata.org/entity/' + id_raw\n",
    "        target_arr = ents\n",
    "      elif id_raw[0] == 'P':\n",
    "        prefix = 'wd:'\n",
    "        uri =  'http://www.wikidata.org/prop/direct/' + id_raw\n",
    "        target_arr = rels\n",
    "      else:\n",
    "        raise ValueError('ID does not start with P or Q')\n",
    "      match_dict = {\n",
    "        'id' : id_raw,\n",
    "        'prefix' : prefix,\n",
    "        'uri' : uri,\n",
    "      }\n",
    "      target_arr.append(match_dict)\n",
    "  return result_dict"
   ]
  },
  {
   "cell_type": "code",
   "execution_count": 5,
   "id": "15a045a7",
   "metadata": {
    "execution": {
     "iopub.execute_input": "2023-07-20T09:26:28.810215Z",
     "iopub.status.busy": "2023-07-20T09:26:28.809815Z",
     "iopub.status.idle": "2023-07-20T09:26:28.840369Z",
     "shell.execute_reply": "2023-07-20T09:26:28.839300Z"
    },
    "papermill": {
     "duration": 0.054211,
     "end_time": "2023-07-20T09:26:28.843598",
     "exception": false,
     "start_time": "2023-07-20T09:26:28.789387",
     "status": "completed"
    },
    "tags": []
   },
   "outputs": [],
   "source": [
    "def pipe_batch(utterances, wikisparqls):\n",
    "  batched = []\n",
    "  link_batch_start = time.time()\n",
    "  linked = list(map(lambda u: {'utterance':u, 'ents':[], 'rels':[], }, utterances))\n",
    "  assert len(linked) == len(wikisparqls)\n",
    "\n",
    "  # for i, link in enumerate(linked):\n",
    "  #   gold_linked = retrieve_gold_links(wikisparqls[i])\n",
    "  #   new_ents=link['ents']\n",
    "  #   old_ents_set = set(x['id'] for x in link['ents'])\n",
    "  #   for gold_ent in gold_linked['ents']:\n",
    "  #       if gold_ent['id'] not in old_ents_set:\n",
    "  #           new_ents.append(gold_ent)\n",
    "  #   link['rels'] = []\n",
    "  #   assert len(linked[i]['rels']) == 0\n",
    "\n",
    "  link_batch_end = time.time()\n",
    "  s = time.time()\n",
    "  annotated = list(map(lambda l: {'utterance': l['utterance'], 'fragments':[]}, linked))\n",
    "  e = time.time()\n",
    "  assert len(linked) == len(annotated)\n",
    "  annotator_time = e - s\n",
    "  converter_time = 0\n",
    "  for i, single_annotated in enumerate(annotated):\n",
    "    # annotated = annotator.annotate(**single_linked)\n",
    "    # try:\n",
    "    #   annotator_time += e - s\n",
    "    # except Exception as e:\n",
    "    #   print(\"[Annotator Error]:\", e)\n",
    "    #   continue\n",
    "    s = time.time()\n",
    "    try:\n",
    "      converted = converter.preprocess(**single_annotated, wikisparql=wikisparqls[i])\n",
    "    except Exception as e:\n",
    "      print(\"[Converter Error]:\", e)\n",
    "      continue\n",
    "      \n",
    "    e = time.time()\n",
    "    converter_time += e - s\n",
    "    batched.append([linked[i], annotated[i], converted])\n",
    "  print(\"Link batch time:\", link_batch_end - link_batch_start)\n",
    "  print(\"Anno batch time:\", annotator_time)\n",
    "  print(\"Conv batch time:\", converter_time)\n",
    "  return batched"
   ]
  },
  {
   "attachments": {},
   "cell_type": "markdown",
   "id": "28b3d658",
   "metadata": {
    "papermill": {
     "duration": 0.043523,
     "end_time": "2023-07-20T09:26:28.894104",
     "exception": false,
     "start_time": "2023-07-20T09:26:28.850581",
     "status": "completed"
    },
    "tags": []
   },
   "source": [
    "## Data"
   ]
  },
  {
   "cell_type": "code",
   "execution_count": 6,
   "id": "87b6d74a",
   "metadata": {
    "execution": {
     "iopub.execute_input": "2023-07-20T09:26:28.947938Z",
     "iopub.status.busy": "2023-07-20T09:26:28.947512Z",
     "iopub.status.idle": "2023-07-20T09:26:30.256466Z",
     "shell.execute_reply": "2023-07-20T09:26:30.255318Z"
    },
    "papermill": {
     "duration": 1.345039,
     "end_time": "2023-07-20T09:26:30.259348",
     "exception": false,
     "start_time": "2023-07-20T09:26:28.914309",
     "status": "completed"
    },
    "tags": []
   },
   "outputs": [
    {
     "name": "stdout",
     "output_type": "stream",
     "text": [
      "Missing question count: 71\n"
     ]
    },
    {
     "name": "stdout",
     "output_type": "stream",
     "text": [
      "Number of rows: 28247\n"
     ]
    }
   ],
   "source": [
    "with open(data_path) as f:\n",
    "  data_dict = json.load(f)\n",
    "\n",
    "with open(data2_path) as f:\n",
    "  data_dict.extend(json.load(f))\n",
    "\n",
    "count = 0\n",
    "\n",
    "for item in data_dict:\n",
    "  paraphrased_question = item[\"paraphrased_question\"]\n",
    "  question = item[\"question\"]\n",
    "  if paraphrased_question == None:\n",
    "    raise Exception\n",
    "  if question == None:\n",
    "    count += 1\n",
    "    # print(len(paraphrased_question) > 2)\n",
    "    # pprint(item)\n",
    "  if item[\"sparql_wikidata\"] == None:\n",
    "    raise Exception\n",
    "  \n",
    "\n",
    "  if len(paraphrased_question) > 2000:\n",
    "    paraphrased_question = question\n",
    "  # item[\"new_question\"] = paraphrased_question if len(paraphrased_question) > 2 and paraphrased_question != [] else question\n",
    "  item[\"new_question\"] = question\n",
    "\n",
    "print(\"Missing question count:\", count)\n",
    "\n",
    "df = pd.DataFrame.from_dict(data_dict)\n",
    "df = df.dropna(axis=0, subset=['new_question'])\n",
    "df = df[~df.question.isin(['n/a', None, 'none', 'None'])]\n",
    "n_entries = len(df)\n",
    "print(\"Number of rows:\", n_entries)"
   ]
  },
  {
   "cell_type": "code",
   "execution_count": 7,
   "id": "26364b9c",
   "metadata": {
    "execution": {
     "iopub.execute_input": "2023-07-20T09:26:30.297833Z",
     "iopub.status.busy": "2023-07-20T09:26:30.297321Z",
     "iopub.status.idle": "2023-07-20T09:26:30.321480Z",
     "shell.execute_reply": "2023-07-20T09:26:30.320416Z"
    },
    "papermill": {
     "duration": 0.044515,
     "end_time": "2023-07-20T09:26:30.324150",
     "exception": false,
     "start_time": "2023-07-20T09:26:30.279635",
     "status": "completed"
    },
    "tags": []
   },
   "outputs": [],
   "source": [
    "assert(len(df[df.question.isna()]) == 0)"
   ]
  },
  {
   "cell_type": "code",
   "execution_count": 8,
   "id": "ca2ffce5",
   "metadata": {
    "execution": {
     "iopub.execute_input": "2023-07-20T09:26:30.342837Z",
     "iopub.status.busy": "2023-07-20T09:26:30.342433Z",
     "iopub.status.idle": "2023-07-20T09:26:30.349680Z",
     "shell.execute_reply": "2023-07-20T09:26:30.348640Z"
    },
    "papermill": {
     "duration": 0.038501,
     "end_time": "2023-07-20T09:26:30.369299",
     "exception": false,
     "start_time": "2023-07-20T09:26:30.330798",
     "status": "completed"
    },
    "tags": []
   },
   "outputs": [
    {
     "name": "stdout",
     "output_type": "stream",
     "text": [
      "What periodical literature does Delta Air Lines use as a moutpiece?\n",
      "Who is the child of Ranavalona I's husband?\n",
      "Is it true Jeff_Bridges occupation Lane Chandler and photographer ?\n",
      "What is the pre-requisite of phase matter of Galinstan?\n",
      "Which is the operating income for Qantas?\n"
     ]
    }
   ],
   "source": [
    "for data in df[0:5].iterrows():\n",
    "    print(data[1].new_question)"
   ]
  },
  {
   "cell_type": "code",
   "execution_count": 9,
   "id": "b76f6f91",
   "metadata": {
    "execution": {
     "iopub.execute_input": "2023-07-20T09:26:30.403806Z",
     "iopub.status.busy": "2023-07-20T09:26:30.403401Z",
     "iopub.status.idle": "2023-07-20T09:26:54.196962Z",
     "shell.execute_reply": "2023-07-20T09:26:54.195350Z"
    },
    "papermill": {
     "duration": 23.808233,
     "end_time": "2023-07-20T09:26:54.200296",
     "exception": false,
     "start_time": "2023-07-20T09:26:30.392063",
     "status": "completed"
    },
    "tags": []
   },
   "outputs": [
    {
     "name": "stdout",
     "output_type": "stream",
     "text": [
      "\n",
      "[Pipeline1]: Linking 0-1999\n",
      "Link batch time: 0.002295970916748047\n",
      "Anno batch time: 0.0023975372314453125\n",
      "Conv batch time: 0.14894509315490723\n"
     ]
    },
    {
     "name": "stdout",
     "output_type": "stream",
     "text": [
      "\n",
      "[Pipeline1]: Linking 1999-3999\n",
      "Link batch time: 0.002167940139770508\n",
      "Anno batch time: 0.002482175827026367\n",
      "Conv batch time: 0.1538994312286377\n"
     ]
    },
    {
     "name": "stdout",
     "output_type": "stream",
     "text": [
      "\n",
      "[Pipeline1]: Linking 3999-5999\n"
     ]
    },
    {
     "name": "stdout",
     "output_type": "stream",
     "text": [
      "Link batch time: 0.002229452133178711\n",
      "Anno batch time: 0.4309351444244385\n",
      "Conv batch time: 0.26537036895751953\n"
     ]
    },
    {
     "name": "stdout",
     "output_type": "stream",
     "text": [
      "\n",
      "[Pipeline1]: Linking 5999-7999\n",
      "Link batch time: 0.002700328826904297\n",
      "Anno batch time: 0.001771688461303711\n",
      "Conv batch time: 0.16431713104248047\n"
     ]
    },
    {
     "name": "stdout",
     "output_type": "stream",
     "text": [
      "\n",
      "[Pipeline1]: Linking 7999-9999\n",
      "Link batch time: 0.003744363784790039\n",
      "Anno batch time: 0.0017910003662109375\n",
      "Conv batch time: 0.12953400611877441\n"
     ]
    },
    {
     "name": "stdout",
     "output_type": "stream",
     "text": [
      "\n",
      "[Pipeline1]: Linking 9999-11999\n",
      "Link batch time: 0.002811431884765625\n",
      "Anno batch time: 0.0017750263214111328\n",
      "Conv batch time: 0.12834572792053223\n"
     ]
    },
    {
     "name": "stdout",
     "output_type": "stream",
     "text": [
      "\n",
      "[Pipeline1]: Linking 11999-13999\n",
      "Link batch time: 0.002209901809692383\n",
      "Anno batch time: 0.0024788379669189453\n",
      "Conv batch time: 0.13010072708129883\n"
     ]
    },
    {
     "name": "stdout",
     "output_type": "stream",
     "text": [
      "\n",
      "[Pipeline1]: Linking 13999-15999\n",
      "Link batch time: 0.0029304027557373047\n",
      "Anno batch time: 0.0026009082794189453\n",
      "Conv batch time: 0.12950468063354492\n"
     ]
    },
    {
     "name": "stdout",
     "output_type": "stream",
     "text": [
      "\n",
      "[Pipeline1]: Linking 15999-17999\n"
     ]
    },
    {
     "name": "stdout",
     "output_type": "stream",
     "text": [
      "Link batch time: 0.002623319625854492\n",
      "Anno batch time: 0.178239107131958\n",
      "Conv batch time: 0.13060808181762695\n"
     ]
    },
    {
     "name": "stdout",
     "output_type": "stream",
     "text": [
      "\n",
      "[Pipeline1]: Linking 17999-19999\n",
      "Link batch time: 0.0027313232421875\n",
      "Anno batch time: 0.0018889904022216797\n",
      "Conv batch time: 0.13062214851379395\n"
     ]
    },
    {
     "name": "stdout",
     "output_type": "stream",
     "text": [
      "\n",
      "[Pipeline1]: Linking 19999-21999\n",
      "Link batch time: 0.0027899742126464844\n",
      "Anno batch time: 0.0018315315246582031\n",
      "Conv batch time: 0.1454181671142578\n"
     ]
    },
    {
     "name": "stdout",
     "output_type": "stream",
     "text": [
      "\n",
      "[Pipeline1]: Linking 21999-23999\n",
      "Link batch time: 0.002896547317504883\n",
      "Anno batch time: 0.0018107891082763672\n",
      "Conv batch time: 0.13383054733276367\n"
     ]
    },
    {
     "name": "stdout",
     "output_type": "stream",
     "text": [
      "\n",
      "[Pipeline1]: Linking 23999-25999\n",
      "Link batch time: 0.0022335052490234375\n",
      "Anno batch time: 0.002527952194213867\n",
      "Conv batch time: 0.13583707809448242\n"
     ]
    },
    {
     "name": "stdout",
     "output_type": "stream",
     "text": [
      "\n",
      "[Pipeline1]: Linking 25999-27999\n",
      "Link batch time: 0.002262115478515625\n",
      "Anno batch time: 0.002464771270751953\n",
      "Conv batch time: 0.1291344165802002\n"
     ]
    },
    {
     "name": "stdout",
     "output_type": "stream",
     "text": [
      "\n",
      "[Pipeline1]: Linking 27999-28246\n",
      "Link batch time: 0.000202178955078125\n",
      "Anno batch time: 0.00032448768615722656\n",
      "Conv batch time: 0.030974864959716797\n"
     ]
    }
   ],
   "source": [
    "responses = []\n",
    "batch_qns = []\n",
    "batch_ans = []\n",
    "truncated_data = df[:]\n",
    "total_len = len(truncated_data)\n",
    "last = 0\n",
    "cutoff = 0\n",
    "\n",
    "for i, data in enumerate(truncated_data.iterrows()):\n",
    "    data = data[1]\n",
    "    if i < cutoff:\n",
    "        continue\n",
    "    # print(\"Pipeline iter\", i)\n",
    "    question = data[\"new_question\"]\n",
    "    answer = data[\"sparql_wikidata\"]\n",
    "    # try\n",
    "    #     linked, annotated, converted = pipe(question, answer)\n",
    "    # except Exception as e:\n",
    "    #     print(e)\n",
    "    #     continue\n",
    "    # responses.append([linked, annotated, converted])\n",
    "    if (question and answer) and len(question) >= 2:\n",
    "        batch_qns.append(question)\n",
    "        batch_ans.append(answer)\n",
    "    if ((i + 1) % 2000) == 0 or i == total_len - 1:\n",
    "        print(\"\\n[Pipeline1]:\", f\"Linking {last}-{i}\")\n",
    "        try:\n",
    "            for linked, annotated, converted in pipe_batch(batch_qns, batch_ans):\n",
    "                responses.append([linked, annotated, converted])\n",
    "            batch_qns = []\n",
    "            batch_ans = []\n",
    "            last = i\n",
    "        except Exception as e:\n",
    "            raise e\n",
    "            # print(e)\n",
    "            # continue\n",
    "        with open(output_links_dir / f\"link_{i}.json\", \"w\") as f:\n",
    "            json.dump(responses, f, indent=2, separators=(',',':'))"
   ]
  }
 ],
 "metadata": {
  "kernelspec": {
   "display_name": "py310",
   "language": "python",
   "name": "python3"
  },
  "language_info": {
   "codemirror_mode": {
    "name": "ipython",
    "version": 3
   },
   "file_extension": ".py",
   "mimetype": "text/x-python",
   "name": "python",
   "nbconvert_exporter": "python",
   "pygments_lexer": "ipython3",
   "version": "3.10.11"
  },
  "papermill": {
   "default_parameters": {},
   "duration": 33.110194,
   "end_time": "2023-07-20T09:26:55.555779",
   "environment_variables": {},
   "exception": null,
   "input_path": "pipeline0.ipynb",
   "output_path": "pipeline0-0e0r.papermill.ipynb",
   "parameters": {},
   "start_time": "2023-07-20T09:26:22.445585",
   "version": "2.4.0"
  }
 },
 "nbformat": 4,
 "nbformat_minor": 5
}
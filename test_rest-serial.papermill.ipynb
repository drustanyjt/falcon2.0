{
 "cells": [
  {
   "cell_type": "code",
   "execution_count": 1,
   "id": "fd54f72d",
   "metadata": {
    "execution": {
     "iopub.execute_input": "2023-07-12T06:41:41.307194Z",
     "iopub.status.busy": "2023-07-12T06:41:41.306857Z",
     "iopub.status.idle": "2023-07-12T06:41:41.742666Z",
     "shell.execute_reply": "2023-07-12T06:41:41.741341Z"
    },
    "papermill": {
     "duration": 0.452247,
     "end_time": "2023-07-12T06:41:41.745118",
     "exception": false,
     "start_time": "2023-07-12T06:41:41.292871",
     "status": "completed"
    },
    "tags": []
   },
   "outputs": [],
   "source": [
    "import requests"
   ]
  },
  {
   "cell_type": "code",
   "execution_count": 2,
   "id": "605c9171",
   "metadata": {
    "execution": {
     "iopub.execute_input": "2023-07-12T06:41:41.760070Z",
     "iopub.status.busy": "2023-07-12T06:41:41.759699Z",
     "iopub.status.idle": "2023-07-12T06:41:45.587751Z",
     "shell.execute_reply": "2023-07-12T06:41:45.586533Z"
    },
    "papermill": {
     "duration": 3.838008,
     "end_time": "2023-07-12T06:41:45.590251",
     "exception": false,
     "start_time": "2023-07-12T06:41:41.752243",
     "status": "completed"
    },
    "tags": []
   },
   "outputs": [],
   "source": [
    "url = \"https://httpbin.org/get\"\n",
    "r = requests.get(url)"
   ]
  },
  {
   "cell_type": "code",
   "execution_count": 1,
   "id": "eddf5540",
   "metadata": {
    "execution": {
     "iopub.execute_input": "2023-07-12T06:41:45.608519Z",
     "iopub.status.busy": "2023-07-12T06:41:45.608186Z",
     "iopub.status.idle": "2023-07-12T06:41:45.617837Z",
     "shell.execute_reply": "2023-07-12T06:41:45.617097Z"
    },
    "papermill": {
     "duration": 0.021241,
     "end_time": "2023-07-12T06:41:45.619664",
     "exception": false,
     "start_time": "2023-07-12T06:41:45.598423",
     "status": "completed"
    },
    "tags": []
   },
   "outputs": [
    {
     "ename": "NameError",
     "evalue": "name 'r' is not defined",
     "output_type": "error",
     "traceback": [
      "\u001b[0;31m---------------------------------------------------------------------------\u001b[0m",
      "\u001b[0;31mNameError\u001b[0m                                 Traceback (most recent call last)",
      "Cell \u001b[0;32mIn[1], line 1\u001b[0m\n\u001b[0;32m----> 1\u001b[0m r\n",
      "\u001b[0;31mNameError\u001b[0m: name 'r' is not defined"
     ]
    }
   ],
   "source": [
    "r"
   ]
  }
 ],
 "metadata": {
  "kernelspec": {
   "display_name": "falcon2",
   "language": "python",
   "name": "python3"
  },
  "language_info": {
   "codemirror_mode": {
    "name": "ipython",
    "version": 3
   },
   "file_extension": ".py",
   "mimetype": "text/x-python",
   "name": "python",
   "nbconvert_exporter": "python",
   "pygments_lexer": "ipython3",
   "version": "3.10.12"
  },
  "papermill": {
   "default_parameters": {},
   "duration": 16.253675,
   "end_time": "2023-07-12T06:41:45.953397",
   "environment_variables": {},
   "exception": null,
   "input_path": "test_rest.ipynb",
   "output_path": "test_rest-serial.papermill.ipynb",
   "parameters": {},
   "start_time": "2023-07-12T06:41:29.699722",
   "version": "2.4.0"
  }
 },
 "nbformat": 4,
 "nbformat_minor": 5
}

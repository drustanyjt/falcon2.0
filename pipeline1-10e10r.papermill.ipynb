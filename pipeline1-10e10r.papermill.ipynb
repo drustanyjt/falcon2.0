{
 "cells": [
  {
   "attachments": {},
   "cell_type": "markdown",
   "id": "b279afca",
   "metadata": {
    "papermill": {
     "duration": 0.007405,
     "end_time": "2023-07-20T07:29:30.366551",
     "exception": false,
     "start_time": "2023-07-20T07:29:30.359146",
     "status": "completed"
    },
    "tags": []
   },
   "source": [
    "# Pipeline 1"
   ]
  },
  {
   "cell_type": "code",
   "execution_count": 1,
   "id": "82836e10",
   "metadata": {
    "execution": {
     "iopub.execute_input": "2023-07-20T07:29:30.390795Z",
     "iopub.status.busy": "2023-07-20T07:29:30.389905Z",
     "iopub.status.idle": "2023-07-20T07:29:32.225786Z",
     "shell.execute_reply": "2023-07-20T07:29:32.224615Z"
    },
    "papermill": {
     "duration": 1.850857,
     "end_time": "2023-07-20T07:29:32.228269",
     "exception": false,
     "start_time": "2023-07-20T07:29:30.377412",
     "status": "completed"
    },
    "tags": []
   },
   "outputs": [
    {
     "name": "stdout",
     "output_type": "stream",
     "text": [
      "[Falcon2.0 main.py]: no reranking, k=10\n"
     ]
    }
   ],
   "source": [
    "from pipeline import Falcon2Linker, SerialAnnotator, T5Converter\n",
    "import time\n",
    "from pprint import pprint"
   ]
  },
  {
   "cell_type": "code",
   "execution_count": 2,
   "id": "2a1ddef2",
   "metadata": {
    "execution": {
     "iopub.execute_input": "2023-07-20T07:29:32.245120Z",
     "iopub.status.busy": "2023-07-20T07:29:32.244542Z",
     "iopub.status.idle": "2023-07-20T07:29:32.461413Z",
     "shell.execute_reply": "2023-07-20T07:29:32.460392Z"
    },
    "papermill": {
     "duration": 0.231157,
     "end_time": "2023-07-20T07:29:32.463605",
     "exception": false,
     "start_time": "2023-07-20T07:29:32.232448",
     "status": "completed"
    },
    "tags": []
   },
   "outputs": [],
   "source": [
    "from pathlib import Path\n",
    "import pandas as pd\n",
    "import json\n",
    "import os\n",
    "\n",
    "data_path = Path(\"..\") / \"t5-for-sparql\" / \"data\" / \"lcquad2\" / \"train.json\"\n",
    "data2_path = Path(\"..\") / \"t5-for-sparql\" / \"data\" / \"lcquad2\" / \"test_KG_4211.json\"\n",
    "output_links_dir = Path(\"..\") / \"t5-for-sparql\" / \"falcon_links\" / \"10ents_10rels\"\n",
    "# os.environ['ES_ENTITY_INDEX'] = \"wikidataentityindex\"\n",
    "# os.environ['ES_PROPERTY_INDEX'] = \"wikidatapropertyindet\""
   ]
  },
  {
   "cell_type": "code",
   "execution_count": 3,
   "id": "43b02cd1",
   "metadata": {
    "execution": {
     "iopub.execute_input": "2023-07-20T07:29:32.479645Z",
     "iopub.status.busy": "2023-07-20T07:29:32.479229Z",
     "iopub.status.idle": "2023-07-20T07:29:32.485524Z",
     "shell.execute_reply": "2023-07-20T07:29:32.484584Z"
    },
    "papermill": {
     "duration": 0.021245,
     "end_time": "2023-07-20T07:29:32.487942",
     "exception": false,
     "start_time": "2023-07-20T07:29:32.466697",
     "status": "completed"
    },
    "tags": []
   },
   "outputs": [],
   "source": [
    "linker = Falcon2Linker()\n",
    "annotator = SerialAnnotator()\n",
    "converter = T5Converter()"
   ]
  },
  {
   "cell_type": "code",
   "execution_count": 4,
   "id": "aa068af7",
   "metadata": {
    "execution": {
     "iopub.execute_input": "2023-07-20T07:29:32.502235Z",
     "iopub.status.busy": "2023-07-20T07:29:32.501843Z",
     "iopub.status.idle": "2023-07-20T07:29:32.506138Z",
     "shell.execute_reply": "2023-07-20T07:29:32.505396Z"
    },
    "papermill": {
     "duration": 0.01574,
     "end_time": "2023-07-20T07:29:32.507993",
     "exception": false,
     "start_time": "2023-07-20T07:29:32.492253",
     "status": "completed"
    },
    "tags": []
   },
   "outputs": [],
   "source": [
    "utterance = \"Who is the wife of Barack Obama\""
   ]
  },
  {
   "cell_type": "code",
   "execution_count": 5,
   "id": "ae7eab5f",
   "metadata": {
    "execution": {
     "iopub.execute_input": "2023-07-20T07:29:32.525205Z",
     "iopub.status.busy": "2023-07-20T07:29:32.524673Z",
     "iopub.status.idle": "2023-07-20T07:30:34.582303Z",
     "shell.execute_reply": "2023-07-20T07:30:34.580863Z"
    },
    "papermill": {
     "duration": 62.080556,
     "end_time": "2023-07-20T07:30:34.591992",
     "exception": false,
     "start_time": "2023-07-20T07:29:32.511436",
     "status": "completed"
    },
    "tags": []
   },
   "outputs": [
    {
     "name": "stdout",
     "output_type": "stream",
     "text": [
      "recieved utterance\n",
      "0 : ['Who is the wife of Barack Obama']\n"
     ]
    },
    {
     "name": "stdout",
     "output_type": "stream",
     "text": [
      "['Who is the wife of Barack Obama', [['<http://www.wikidata.org/entity/P26>', 'wife'], ['<http://www.wikidata.org/entity/P2848>', 'wife'], ['<http://www.wikidata.org/entity/P140>', 'wife'], ['<http://www.wikidata.org/entity/P451>', 'wife'], ['<http://www.wikidata.org/entity/P600>', 'wife'], ['<http://www.wikidata.org/entity/P830>', 'wife'], ['<http://www.wikidata.org/entity/P1038>', 'wife'], ['<http://www.wikidata.org/entity/P2114>', 'wife'], ['<http://www.wikidata.org/entity/P2250>', 'wife'], ['<http://www.wikidata.org/entity/P2669>', 'wife']], [['<http://www.wikidata.org/entity/Q76>', 'Barack obama'], ['<http://www.wikidata.org/entity/Q649593>', 'Barack obama'], ['<http://www.wikidata.org/entity/Q4808526>', 'Barack obama'], ['<http://www.wikidata.org/entity/Q4858106>', 'Barack obama'], ['<http://www.wikidata.org/entity/Q643049>', 'Barack obama'], ['<http://www.wikidata.org/entity/Q1379733>', 'Barack obama'], ['<http://www.wikidata.org/entity/Q4206667>', 'Barack obama'], ['<http://www.wikidata.org/entity/Q4858104>', 'Barack obama'], ['<http://www.wikidata.org/entity/Q4858105>', 'Barack obama'], ['<http://www.wikidata.org/entity/Q4858115>', 'Barack obama']], 0, 0, 0, 0]\n",
      "'Linked'\n",
      "{'ents': [{'id': 'Q76',\n",
      "           'prefix': 'wd:',\n",
      "           'uri': 'http://www.wikidata.org/entity/Q76'},\n",
      "          {'id': 'Q649593',\n",
      "           'prefix': 'wd:',\n",
      "           'uri': 'http://www.wikidata.org/entity/Q649593'},\n",
      "          {'id': 'Q4808526',\n",
      "           'prefix': 'wd:',\n",
      "           'uri': 'http://www.wikidata.org/entity/Q4808526'},\n",
      "          {'id': 'Q4858106',\n",
      "           'prefix': 'wd:',\n",
      "           'uri': 'http://www.wikidata.org/entity/Q4858106'},\n",
      "          {'id': 'Q643049',\n",
      "           'prefix': 'wd:',\n",
      "           'uri': 'http://www.wikidata.org/entity/Q643049'},\n",
      "          {'id': 'Q1379733',\n",
      "           'prefix': 'wd:',\n",
      "           'uri': 'http://www.wikidata.org/entity/Q1379733'},\n",
      "          {'id': 'Q4206667',\n",
      "           'prefix': 'wd:',\n",
      "           'uri': 'http://www.wikidata.org/entity/Q4206667'},\n",
      "          {'id': 'Q4858104',\n",
      "           'prefix': 'wd:',\n",
      "           'uri': 'http://www.wikidata.org/entity/Q4858104'},\n",
      "          {'id': 'Q4858105',\n",
      "           'prefix': 'wd:',\n",
      "           'uri': 'http://www.wikidata.org/entity/Q4858105'},\n",
      "          {'id': 'Q4858115',\n",
      "           'prefix': 'wd:',\n",
      "           'uri': 'http://www.wikidata.org/entity/Q4858115'}],\n",
      " 'rels': [{'id': 'P26',\n",
      "           'prefix': 'wdt:',\n",
      "           'uri': 'http://www.wikidata.org/prop/direct/P26'},\n",
      "          {'id': 'P2848',\n",
      "           'prefix': 'wdt:',\n",
      "           'uri': 'http://www.wikidata.org/prop/direct/P2848'},\n",
      "          {'id': 'P140',\n",
      "           'prefix': 'wdt:',\n",
      "           'uri': 'http://www.wikidata.org/prop/direct/P140'},\n",
      "          {'id': 'P451',\n",
      "           'prefix': 'wdt:',\n",
      "           'uri': 'http://www.wikidata.org/prop/direct/P451'},\n",
      "          {'id': 'P600',\n",
      "           'prefix': 'wdt:',\n",
      "           'uri': 'http://www.wikidata.org/prop/direct/P600'},\n",
      "          {'id': 'P830',\n",
      "           'prefix': 'wdt:',\n",
      "           'uri': 'http://www.wikidata.org/prop/direct/P830'},\n",
      "          {'id': 'P1038',\n",
      "           'prefix': 'wdt:',\n",
      "           'uri': 'http://www.wikidata.org/prop/direct/P1038'},\n",
      "          {'id': 'P2114',\n",
      "           'prefix': 'wdt:',\n",
      "           'uri': 'http://www.wikidata.org/prop/direct/P2114'},\n",
      "          {'id': 'P2250',\n",
      "           'prefix': 'wdt:',\n",
      "           'uri': 'http://www.wikidata.org/prop/direct/P2250'},\n",
      "          {'id': 'P2669',\n",
      "           'prefix': 'wdt:',\n",
      "           'uri': 'http://www.wikidata.org/prop/direct/P2669'}],\n",
      " 'utterance': 'Who is the wife of Barack Obama'}\n",
      "'Annotated'\n"
     ]
    },
    {
     "name": "stdout",
     "output_type": "stream",
     "text": [
      "{'fragments': ['[DEF]',\n",
      "               'wd:',\n",
      "               'Q76 Barack',\n",
      "               '[DEF]',\n",
      "               'wd:',\n",
      "               'Q649593 Barack Hussein Obama, Sr.',\n",
      "               '[DEF]',\n",
      "               'wd:',\n",
      "               'Q4808526 Obama assassination plot',\n",
      "               '[DEF]',\n",
      "               'wd:',\n",
      "               'Q4858106 Barack Obama Academy',\n",
      "               '[DEF]',\n",
      "               'wd:',\n",
      "               'Q643049 family of Barack Obama',\n",
      "               '[DEF]',\n",
      "               'wd:',\n",
      "               'Q1379733 presidency of Barack Obama',\n",
      "               '[DEF]',\n",
      "               'wd:',\n",
      "               'Q4206667 Cabinet of Barack Obama',\n",
      "               '[DEF]',\n",
      "               'wd:',\n",
      "               'Q4858104 Barack Obama: The Story',\n",
      "               '[DEF]',\n",
      "               'wd:',\n",
      "               'Q4858105 Barack Obama \\\\Joker\\\\ poster',\n",
      "               '[DEF]',\n",
      "               'wd:',\n",
      "               'Q4858115 Barack Obama in comics',\n",
      "               '[DEF]',\n",
      "               'wdt:',\n",
      "               'P26 partner',\n",
      "               '[DEF]',\n",
      "               'wdt:',\n",
      "               'P2848 wifi',\n",
      "               '[DEF]',\n",
      "               'wdt:',\n",
      "               'P140 religion',\n",
      "               '[DEF]',\n",
      "               'wdt:',\n",
      "               'P451 common-law spouse',\n",
      "               '[DEF]',\n",
      "               'wdt:',\n",
      "               'P600 Wine AppDB-ID',\n",
      "               '[DEF]',\n",
      "               'wdt:',\n",
      "               'P830 Encyclopedia of Life ID',\n",
      "               '[DEF]',\n",
      "               'wdt:',\n",
      "               'P1038 niece',\n",
      "               '[DEF]',\n",
      "               'wdt:',\n",
      "               'P2114 half-life',\n",
      "               '[DEF]',\n",
      "               'wdt:',\n",
      "               'P2250 life expectancy',\n",
      "               '[DEF]',\n",
      "               'wdt:',\n",
      "               'P2669 date discontinued'],\n",
      " 'utterance': 'Who is the wife of Barack Obama'}\n",
      "'Converted'\n",
      "('Who is the wife of Barack Obama <extra_id_59> <extra_id_53> Q76 Barack '\n",
      " '<extra_id_59> <extra_id_53> Q649593 Barack Hussein Obama, Sr. <extra_id_59> '\n",
      " '<extra_id_53> Q4808526 Obama assassination plot <extra_id_59> <extra_id_53> '\n",
      " 'Q4858106 Barack Obama Academy <extra_id_59> <extra_id_53> Q643049 family of '\n",
      " 'Barack Obama <extra_id_59> <extra_id_53> Q1379733 presidency of Barack Obama '\n",
      " '<extra_id_59> <extra_id_53> Q4206667 Cabinet of Barack Obama <extra_id_59> '\n",
      " '<extra_id_53> Q4858104 Barack Obama: The Story <extra_id_59> <extra_id_53> '\n",
      " 'Q4858105 Barack Obama \\\\Joker\\\\ poster <extra_id_59> <extra_id_53> Q4858115 '\n",
      " 'Barack Obama in comics <extra_id_59> <extra_id_54> P26 partner <extra_id_59> '\n",
      " '<extra_id_54> P2848 wifi <extra_id_59> <extra_id_54> P140 religion '\n",
      " '<extra_id_59> <extra_id_54> P451 common-law spouse <extra_id_59> '\n",
      " '<extra_id_54> P600 Wine AppDB-ID <extra_id_59> <extra_id_54> P830 '\n",
      " 'Encyclopedia of Life ID <extra_id_59> <extra_id_54> P1038 niece '\n",
      " '<extra_id_59> <extra_id_54> P2114 half-life <extra_id_59> <extra_id_54> '\n",
      " 'P2250 life expectancy <extra_id_59> <extra_id_54> P2669 date discontinued')\n"
     ]
    }
   ],
   "source": [
    "linked = linker.link(utterance)\n",
    "# rules = [1,2,3,4,5,8,9,10,12,13,14]\n",
    "# linked = process_text_E_R(utterance, rules)\n",
    "pprint(\"Linked\")\n",
    "pprint(linked)\n",
    "\n",
    "pprint(\"Annotated\")\n",
    "annotated = annotator.annotate(**linked)\n",
    "pprint(annotated)\n",
    "\n",
    "pprint(\"Converted\")\n",
    "converted = converter.preprocess_inputs(**annotated)\n",
    "pprint(converted)"
   ]
  },
  {
   "cell_type": "code",
   "execution_count": 6,
   "id": "0b0a307b",
   "metadata": {
    "execution": {
     "iopub.execute_input": "2023-07-20T07:30:34.610823Z",
     "iopub.status.busy": "2023-07-20T07:30:34.609940Z",
     "iopub.status.idle": "2023-07-20T07:30:34.621185Z",
     "shell.execute_reply": "2023-07-20T07:30:34.620022Z"
    },
    "papermill": {
     "duration": 0.023199,
     "end_time": "2023-07-20T07:30:34.623435",
     "exception": false,
     "start_time": "2023-07-20T07:30:34.600236",
     "status": "completed"
    },
    "tags": []
   },
   "outputs": [],
   "source": [
    "import re\n",
    "\n",
    "def retrieve_gold_links(masked_wikisparql):\n",
    "  fragments = masked_wikisparql.upper().strip().split(' ')\n",
    "  ents = []\n",
    "  rels = []\n",
    "  result_dict = {\n",
    "    'ents': ents,\n",
    "    'rels': rels,\n",
    "  }\n",
    "  for fragment in fragments:\n",
    "    id_match = re.search('[QP][0-9]+',fragment)\n",
    "    if id_match:\n",
    "      id_raw = id_match.group(0)\n",
    "      if id_raw[0] == 'Q':\n",
    "        prefix = 'wdt:'\n",
    "        uri = 'http://www.wikidata.org/entity/' + id_raw\n",
    "        target_arr = ents\n",
    "      elif id_raw[0] == 'P':\n",
    "        prefix = 'wd:'\n",
    "        uri =  'http://www.wikidata.org/prop/direct/' + id_raw\n",
    "        target_arr = rels\n",
    "      else:\n",
    "        raise ValueError('ID does not start with P or Q')\n",
    "      match_dict = {\n",
    "        'id' : id_raw,\n",
    "        'prefix' : prefix,\n",
    "        'uri' : uri,\n",
    "      }\n",
    "      target_arr.append(match_dict)\n",
    "  return result_dict"
   ]
  },
  {
   "cell_type": "code",
   "execution_count": 7,
   "id": "991529a7",
   "metadata": {
    "execution": {
     "iopub.execute_input": "2023-07-20T07:30:34.641517Z",
     "iopub.status.busy": "2023-07-20T07:30:34.640746Z",
     "iopub.status.idle": "2023-07-20T07:30:34.646995Z",
     "shell.execute_reply": "2023-07-20T07:30:34.646055Z"
    },
    "papermill": {
     "duration": 0.020738,
     "end_time": "2023-07-20T07:30:34.649054",
     "exception": false,
     "start_time": "2023-07-20T07:30:34.628316",
     "status": "completed"
    },
    "tags": []
   },
   "outputs": [],
   "source": [
    "def pipe(utterance, wikisparql):\n",
    "    linked = linker.link(utterance)\n",
    "    annotated = annotator.annotate(**linked)\n",
    "    converted = converter.preprocess(**annotated, wikisparql=wikisparql)\n",
    "    return linked, annotated, converted"
   ]
  },
  {
   "cell_type": "code",
   "execution_count": 8,
   "id": "b5d73653",
   "metadata": {
    "execution": {
     "iopub.execute_input": "2023-07-20T07:30:34.667218Z",
     "iopub.status.busy": "2023-07-20T07:30:34.666107Z",
     "iopub.status.idle": "2023-07-20T07:30:34.682072Z",
     "shell.execute_reply": "2023-07-20T07:30:34.680668Z"
    },
    "papermill": {
     "duration": 0.031771,
     "end_time": "2023-07-20T07:30:34.685308",
     "exception": false,
     "start_time": "2023-07-20T07:30:34.653537",
     "status": "completed"
    },
    "tags": []
   },
   "outputs": [],
   "source": [
    "def pipe_batch(utterances, wikisparqls):\n",
    "  batched = []\n",
    "  link_batch_start = time.time()\n",
    "  linked = linker.link_batch(utterances)\n",
    "\n",
    "  assert len(linked) == len(wikisparqls)\n",
    "\n",
    "  # for i, link in enumerate(linked):\n",
    "  #   gold_linked = retrieve_gold_links(wikisparqls[i])\n",
    "  #   new_ents=link['ents']\n",
    "  #   old_ents_set = set(x['id'] for x in link['ents'])\n",
    "  #   for gold_ent in gold_linked['ents']:\n",
    "  #       if gold_ent['id'] not in old_ents_set:\n",
    "  #           new_ents.append(gold_ent)\n",
    "  #   link['rels'] = []\n",
    "  #   assert len(linked[i]['rels']) == 0\n",
    "\n",
    "  link_batch_end = time.time()\n",
    "  s = time.time()\n",
    "  annotated = annotator.batch_annotate(linked)\n",
    "  e = time.time()\n",
    "  assert len(linked) == len(annotated)\n",
    "  annotator_time = e - s\n",
    "  converter_time = 0\n",
    "  for i, single_annotated in enumerate(annotated):\n",
    "    # annotated = annotator.annotate(**single_linked)\n",
    "    # try:\n",
    "    #   annotator_time += e - s\n",
    "    # except Exception as e:\n",
    "    #   print(\"[Annotator Error]:\", e)\n",
    "    #   continue\n",
    "    s = time.time()\n",
    "    try:\n",
    "      converted = converter.preprocess(**single_annotated, wikisparql=wikisparqls[i])\n",
    "    except Exception as e:\n",
    "      print(\"[Converter Error]:\", e)\n",
    "      continue\n",
    "      \n",
    "    e = time.time()\n",
    "    converter_time += e - s\n",
    "    batched.append([linked[i], annotated[i], converted])\n",
    "  print(\"Link batch time:\", link_batch_end - link_batch_start)\n",
    "  print(\"Anno batch time:\", annotator_time)\n",
    "  print(\"Conv batch time:\", converter_time)\n",
    "  return batched"
   ]
  },
  {
   "attachments": {},
   "cell_type": "markdown",
   "id": "e5d0f6c2",
   "metadata": {
    "papermill": {
     "duration": 0.01278,
     "end_time": "2023-07-20T07:30:34.703171",
     "exception": false,
     "start_time": "2023-07-20T07:30:34.690391",
     "status": "completed"
    },
    "tags": []
   },
   "source": [
    "## Data"
   ]
  },
  {
   "cell_type": "code",
   "execution_count": 9,
   "id": "543881a4",
   "metadata": {
    "execution": {
     "iopub.execute_input": "2023-07-20T07:30:34.729999Z",
     "iopub.status.busy": "2023-07-20T07:30:34.729395Z",
     "iopub.status.idle": "2023-07-20T07:30:35.302768Z",
     "shell.execute_reply": "2023-07-20T07:30:35.301499Z"
    },
    "papermill": {
     "duration": 0.590242,
     "end_time": "2023-07-20T07:30:35.305889",
     "exception": false,
     "start_time": "2023-07-20T07:30:34.715647",
     "status": "completed"
    },
    "tags": []
   },
   "outputs": [
    {
     "name": "stdout",
     "output_type": "stream",
     "text": [
      "Missing question count: 71\n",
      "Number of rows: 28247\n"
     ]
    }
   ],
   "source": [
    "with open(data_path) as f:\n",
    "  data_dict = json.load(f)\n",
    "\n",
    "with open(data2_path) as f:\n",
    "  data_dict.extend(json.load(f))\n",
    "\n",
    "count = 0\n",
    "\n",
    "for item in data_dict:\n",
    "  paraphrased_question = item[\"paraphrased_question\"]\n",
    "  question = item[\"question\"]\n",
    "  if paraphrased_question == None:\n",
    "    raise Exception\n",
    "  if question == None:\n",
    "    count += 1\n",
    "    # print(len(paraphrased_question) > 2)\n",
    "    # pprint(item)\n",
    "  if item[\"sparql_wikidata\"] == None:\n",
    "    raise Exception\n",
    "  \n",
    "\n",
    "  if len(paraphrased_question) > 2000:\n",
    "    paraphrased_question = question\n",
    "  # item[\"new_question\"] = paraphrased_question if len(paraphrased_question) > 2 and paraphrased_question != [] else question\n",
    "  item[\"new_question\"] = question\n",
    "\n",
    "print(\"Missing question count:\", count)\n",
    "\n",
    "df = pd.DataFrame.from_dict(data_dict)\n",
    "df = df.dropna(axis=0, subset=['new_question'])\n",
    "df = df[~df.question.isin(['n/a', None, 'none', 'None'])]\n",
    "n_entries = len(df)\n",
    "print(\"Number of rows:\", n_entries)"
   ]
  },
  {
   "cell_type": "code",
   "execution_count": 10,
   "id": "9be4a18a",
   "metadata": {
    "execution": {
     "iopub.execute_input": "2023-07-20T07:30:35.324959Z",
     "iopub.status.busy": "2023-07-20T07:30:35.324451Z",
     "iopub.status.idle": "2023-07-20T07:30:35.334120Z",
     "shell.execute_reply": "2023-07-20T07:30:35.333011Z"
    },
    "papermill": {
     "duration": 0.023198,
     "end_time": "2023-07-20T07:30:35.336244",
     "exception": false,
     "start_time": "2023-07-20T07:30:35.313046",
     "status": "completed"
    },
    "tags": []
   },
   "outputs": [],
   "source": [
    "assert(len(df[df.question.isna()]) == 0)"
   ]
  },
  {
   "cell_type": "code",
   "execution_count": 11,
   "id": "4c93ebc1",
   "metadata": {
    "execution": {
     "iopub.execute_input": "2023-07-20T07:30:35.354807Z",
     "iopub.status.busy": "2023-07-20T07:30:35.354263Z",
     "iopub.status.idle": "2023-07-20T07:30:35.362274Z",
     "shell.execute_reply": "2023-07-20T07:30:35.361166Z"
    },
    "papermill": {
     "duration": 0.024685,
     "end_time": "2023-07-20T07:30:35.365339",
     "exception": false,
     "start_time": "2023-07-20T07:30:35.340654",
     "status": "completed"
    },
    "tags": []
   },
   "outputs": [
    {
     "name": "stdout",
     "output_type": "stream",
     "text": [
      "What periodical literature does Delta Air Lines use as a moutpiece?\n",
      "Who is the child of Ranavalona I's husband?\n",
      "Is it true Jeff_Bridges occupation Lane Chandler and photographer ?\n",
      "What is the pre-requisite of phase matter of Galinstan?\n",
      "Which is the operating income for Qantas?\n"
     ]
    }
   ],
   "source": [
    "for data in df[0:5].iterrows():\n",
    "    print(data[1].new_question)"
   ]
  },
  {
   "cell_type": "code",
   "execution_count": 12,
   "id": "255f53db",
   "metadata": {
    "execution": {
     "iopub.execute_input": "2023-07-20T07:30:35.387388Z",
     "iopub.status.busy": "2023-07-20T07:30:35.386632Z"
    },
    "papermill": {
     "duration": null,
     "end_time": null,
     "exception": false,
     "start_time": "2023-07-20T07:30:35.372948",
     "status": "running"
    },
    "tags": []
   },
   "outputs": [
    {
     "name": "stdout",
     "output_type": "stream",
     "text": [
      "\n",
      "[Pipeline1]: Linking 0-1999\n",
      "1 : ['What periodical literature does Delta Air Lines use as a moutpiece?']\n",
      "1 : ['Which is HanCinema person ID for Zhang Ziyi?']\n",
      "1 : ['Who is the student that coined the Euler-Lagrange equation?']\n",
      "1 : ['Does St. Peters Junior School maximum age equal to 11?']\n",
      "1 : ['Which is the meta-organization that is regulated by the football association?']\n",
      "1 : ['What award did Olga Tokarczuk receive in 2015?']\n",
      "1 : ['Who is {champ} of {prize awarded} {Lily Tomlin} ?']\n",
      "1 : ['Mention the musical related work highlighting the work of Sasha Grey.']\n",
      "1 : ['What is the Velká pardubická with the lowest race time whose winner is Peter Gehm?']\n",
      "1 : ['Which is the author of afterword of Erich Fromm?']\n",
      "1 : ['Is tuberculosis prevalent?']\n",
      "1 : ['Tell me soil type whose name has the word vertisol in it.']\n",
      "1 : ['How far west are we?']\n",
      "1 : ['Who is the mother and husband of Candice Bergen?']\n",
      "1 : ['Who was presumably thought to be a student of Strabo?']\n",
      "1 : ['Name a fruit composed of Citrullus lanatus that starts with letter W']\n",
      "1 : ['In the 68th Academy Awards, what nomination did Mira Sorvino receive?']\n",
      "1 : ['who was the pope replaced by?']\n",
      "1 : ['What are the national cuisine which start with the letter m']\n",
      "1 : ['What is the CBS municipality code of Nijmegen?']\n",
      "1 : ['What is Fantastic Fiction author ID of James Ellroy?']\n",
      "1 : ['When did Alla Pugacheva divorce his wife, Mykolas Orbakas?']\n",
      "1 : ['What nonprofit organization is regulated by the association of football?']\n",
      "1 : ['What is the Commonwealth area with the lowest real gross domestic product growth rate whose diplomatic relation is Taiwan?']\n",
      "1 : ['Is it true that the Wu Tang Clan signed with Loud Records and Ruff Ryders Entertainment?']\n",
      "1 : ['How many colors are next to brown']\n",
      "1 : ['Tell me me a cryptocurrenc whose name consist of the word neo and whose stock exchange bitfinex']\n",
      "1 : ['In the consort of Myrna Loy, what is the service branch?']\n",
      "1 : ['Who is the showrunner of The Apprentice, who also has a sister called Robert Trump?']\n",
      "1 : ['Is the apoapsis of the Aotearoa 3400 equal to 2.126?']\n",
      "1 : ['Who regulates the genetic association of hsa-miR-5006-3p in molecular biology']\n",
      "1 : ['At what role did John Tyler replace William Henry Harrison?']\n"
     ]
    },
    {
     "name": "stdout",
     "output_type": "stream",
     "text": [
      "2 : ['Who is {creators} of {language of the original work} {Star Trek Into Darkness} ?']\n",
      "3 : ['Tell me national association football team whose name has the word team in it.']\n"
     ]
    },
    {
     "name": "stdout",
     "output_type": "stream",
     "text": [
      "4 : ['What is the active ingredient pharmaceutical product in erythromycin?']\n"
     ]
    },
    {
     "name": "stdout",
     "output_type": "stream",
     "text": [
      "5 : ['Was Herbie Hancock the winner of the award for the Grammy Award for Best Pop Collaboration with Vocals?']\n"
     ]
    },
    {
     "name": "stdout",
     "output_type": "stream",
     "text": [
      "6 : ['Is it true that the minimum wavelength sensitivity of the Giant Magellan Telescope is 320?']\n"
     ]
    },
    {
     "name": "stdout",
     "output_type": "stream",
     "text": [
      "7 : ['Where was Syrie Maughams country of citizenship in 1927?']\n",
      "8 : ['Which country has highest individual tax rate?']\n",
      "9 : ['Which website does Twitch own?']\n"
     ]
    },
    {
     "name": "stdout",
     "output_type": "stream",
     "text": [
      "10 : ['Who are worked for Michelle Wolf and its source location of group/organisation is located in New York City?']\n",
      "11 : ['Did Judi Densch receive a Tony Award for best direction of the play Premium Imperiale?']\n"
     ]
    },
    {
     "name": "stdout",
     "output_type": "stream",
     "text": [
      "12 : ['Which language written from Romy Schneider, has the grammatical person speaking as the third personal plural?']\n",
      "13 : ['Which bourbon whisky has the lowest alcohol by volume whose country of origin is united states of america?']\n"
     ]
    },
    {
     "name": "stdout",
     "output_type": "stream",
     "text": [
      "14 : ['What is Porky Pig in right now?']\n"
     ]
    },
    {
     "name": "stdout",
     "output_type": "stream",
     "text": [
      "15 : ['Which is the television series which contains the word zigby in its name?']\n",
      "16 : ['When was Isadora Duncans funeral?']\n",
      "17 : ['What is the ammunition of the weapon, that has been used in the war in Southeast Asia?']\n",
      "18 : ['Is the toughness of Grivory GM-4H less than 7.2?']\n"
     ]
    },
    {
     "name": "stdout",
     "output_type": "stream",
     "text": [
      "19 : ['What is Lizzy Yarnolds TheSports.org athlete ID?']\n",
      "20 : ['Is the minimal lethal dose of the benzene equal to 170000?']\n",
      "21 : ['What position did John Hume hold, when was he elected, and what position did he hold in the 53rd Parliament of the United Kingdom?']\n",
      "22 : ['When was the spouse divorced Nero in 9-6-68']\n"
     ]
    },
    {
     "name": "stdout",
     "output_type": "stream",
     "text": [
      "2324 : ['Tell me interface standard whose name has the word virtuallink in it.']\n",
      " : ['What diplomatic crisis lead to the founding of the Russian Orthodox Church?']\n",
      "25 : ['Which is FIFA player ID for Stanislav Cherchesov?']\n",
      "26 : ['When did Supernatural win the Favorite Pop/Rock Album award?']\n"
     ]
    },
    {
     "name": "stdout",
     "output_type": "stream",
     "text": [
      "27 : ['When did James Thomas Farrell receive the St. Louis Literary Award?']\n",
      "28 : ['Is the PPP GDP per capita of Lithuania less than 22148.8']\n"
     ]
    },
    {
     "name": "stdout",
     "output_type": "stream",
     "text": [
      "29 : ['Who is the child of Ranavalona Is husband?']\n"
     ]
    },
    {
     "name": "stdout",
     "output_type": "stream",
     "text": [
      "30 : ['What conflict is depicted is Raising the Flag on Iwo Jima?']\n"
     ]
    },
    {
     "name": "stdout",
     "output_type": "stream",
     "text": [
      "31 : ['Were Dutch and Hungarian the official languages of the Holy Roman Empire?']\n",
      "32 : ['Who is {took part in} of {boy}, which has {theatre season} is {classical antiquity} ?']\n",
      "33 : ['When did publisher of Pac-Man and place of publication?']\n"
     ]
    },
    {
     "name": "stdout",
     "output_type": "stream",
     "text": [
      "34 : ['What is located on the astronomical body of North America?']\n",
      "35 : ['Which is the gens of Sallust?']\n"
     ]
    },
    {
     "name": "stdout",
     "output_type": "stream",
     "text": [
      "36 : ['Who is the author of the Watchmen and what award did they receive?']\n",
      "37 : ['Tell me the most notable work of Christopher Hitchens and also the publisher.']\n"
     ]
    },
    {
     "name": "stdout",
     "output_type": "stream",
     "text": [
      "38 : ['Who is {followed by} and {follows} of {{Guy of Lusignan} has {noble title} as {King of Jerusalem}}']\n",
      "39 : ['what is stable version of user interface of amazon kindle?']\n",
      "40 : ['What award did John de Mol receive in 2011?']\n",
      "41 : ['Who is the spouse of Aaliyah and when did they divorce?']\n"
     ]
    },
    {
     "name": "stdout",
     "output_type": "stream",
     "text": [
      "42 : ['What is { award received } from { Justin Timberlake } that is { point in time } is { 2007 - 0 - 0 }?']\n"
     ]
    },
    {
     "name": "stdout",
     "output_type": "stream",
     "text": [
      "43 : ['Who is the person that was a student of Ivan Pavlov?']\n",
      "44 : ['what is {PhD advisor} of {favorite player} of {Anthony Giddens, Baron Giddens} ?']\n"
     ]
    },
    {
     "name": "stdout",
     "output_type": "stream",
     "text": [
      "45 : ['Is the topographic prominence of the Franzosenkopf less than 4.0?']\n",
      "46 : ['What is the international organization for World Bank?']\n",
      "47 : ['Tell me about spouse of Barbara Walters and start time?']\n",
      "48 : ['Former champion Francisco Alarcon gave what award to Art Spiegelaman?']\n"
     ]
    },
    {
     "name": "stdout",
     "output_type": "stream",
     "text": [
      "4950 : ['When was Pablo Picassos partnership with Fernade Oliver over?']\n",
      " : ['What is the boiling point of pressure copper as 4703.0?']\n",
      "51 : ['Is it true Jeff_Bridges occupation Lane Chandler and photographer ?']\n"
     ]
    },
    {
     "name": "stdout",
     "output_type": "stream",
     "text": [
      "52 : ['What are Jews the opposite of and for whom are they named?']\n",
      "53 : ['who culture of state of australian secret intelligence services ?']\n",
      "54 : ['What are the unit of measurement which start with the letter visus']\n"
     ]
    },
    {
     "name": "stdout",
     "output_type": "stream",
     "text": [
      "55 : ['What is Ferenc Molnars compArt person ID?']\n",
      "56 : ['Who is the owner of the theatre company that made The Birth of the Star Spangled Banner?']\n"
     ]
    },
    {
     "name": "stdout",
     "output_type": "stream",
     "text": [
      "57 : ['What what is unary operation notation by integral symbol and which that starts with {i}']\n"
     ]
    },
    {
     "name": "stdout",
     "output_type": "stream",
     "text": [
      "58 : ['What is {inhabitants} {nationality} of {Leopold von Sacher-Masoch} ?']\n",
      "59 : ['Tell me every horse breed whose name starts with the letter z']\n"
     ]
    },
    {
     "name": "stdout",
     "output_type": "stream",
     "text": [
      "60 : ['which award E.T. the Extra-Terrestrial did receive and at what time he got it?']\n",
      "61 : ['What was the population of Aysén Region from 1992-0-0?']\n"
     ]
    },
    {
     "name": "stdout",
     "output_type": "stream",
     "text": [
      "62 : ['Does the cash back of the Gold  ADAC Credit Card equals 5?']\n",
      "63 : ['Is the total fertility rate of Algeria greater than 3.4284?']\n"
     ]
    },
    {
     "name": "stdout",
     "output_type": "stream",
     "text": [
      "64 : ['What Chinese dynasty replaced the Yuan dynasty?']\n",
      "65 : ['Was Aleister Crowley educated at Trinity College and Eton College?']\n",
      "66 : ['Name a book written in Esperanto']\n"
     ]
    },
    {
     "name": "stdout",
     "output_type": "stream",
     "text": [
      "67 : ['What explosive chemical has the highest explosive velocity ?']\n",
      "68 : ['After what is Marathon named and what is the current record?']\n"
     ]
    },
    {
     "name": "stdout",
     "output_type": "stream",
     "text": [
      "69 : ['is the clock speed of the Watara Supervision smaller than 3.2?']\n",
      "70 : ['What are the opening hours for Thursday?']\n"
     ]
    },
    {
     "name": "stdout",
     "output_type": "stream",
     "text": [
      "71 : ['What is the INSEE countries and foreign territories code for the Democratic Republic of Congo?']\n",
      "72 : ['Which is the spacecraft that is manufactured by SpaceX?']\n",
      "73 : ['Which is the Great Aragonese Encyclopedia ID for Allium cepa?']\n"
     ]
    },
    {
     "name": "stdout",
     "output_type": "stream",
     "text": [
      "74 : ['What is the genetic association of major depressive disorder with the determination method TAS?']\n",
      "75 : ['What is the pre-requisite of phase matter of Galinstan?']\n",
      "76 : ['Which is a used metre of lliad?']\n",
      "77 : ['Are there more than 0 survivors of the Charkhi Dadri mid-air collision']\n"
     ]
    },
    {
     "name": "stdout",
     "output_type": "stream",
     "text": [
      "78 : ['What is the second language of Peter Faber which regulatory body is Pontifical Academy of Latin?']\n",
      "79 : ['what was the publication date for iTunes which has software version as 12.7.5?']\n"
     ]
    },
    {
     "name": "stdout",
     "output_type": "stream",
     "text": [
      "80 : ['What is the product with the lowest consumption rate per capita whose has part is paraffin wax?']\n",
      "81 : ['How would you spell meat pie using the international phonetic alphabet?']\n"
     ]
    },
    {
     "name": "stdout",
     "output_type": "stream",
     "text": [
      "82 : ['When will the pressure and temperature of water reach the triple point stage?']\n",
      "83 : ['What is the general manager of Bernard Hinault?']\n"
     ]
    },
    {
     "name": "stdout",
     "output_type": "stream",
     "text": [
      "84 : ['What are the historical progress which start with the letter g']\n"
     ]
    },
    {
     "name": "stdout",
     "output_type": "stream",
     "text": [
      "85 : ['What language does the sculptor of Z3 write in?']\n",
      "86 : ['How did John Wilkes Booth kill Abraham Lincoln?']\n",
      "87 : ['The University of Florida is a member of which coalition?']\n",
      "88 : ['What is the affiliation building in Columbia University']\n"
     ]
    },
    {
     "name": "stdout",
     "output_type": "stream",
     "text": [
      "89 : ['What administrative territorial entity was Sint Maarten located in the year December 15, 1954?']\n",
      "90 : ['What is the total fertility rate of Sudan with estimation process?']\n"
     ]
    },
    {
     "name": "stdout",
     "output_type": "stream",
     "text": [
      "91 : ['When was Boris Johnson the Member of the 56th  Parliament of the United Kingdom?']\n",
      "92 : ['Where is {on harbour} of {Kryvyi Rih}, which has {tributary} is {Saksahan} ?']\n"
     ]
    },
    {
     "name": "stdout",
     "output_type": "stream",
     "text": [
      "93 : ['Is the human genome size more than 3881796000?']\n",
      "94 : ['What is being treated in an individual with arteriosclerosis?']\n",
      "95 : ['Tell me medical specialty whose name has the word trichology in it.']\n"
     ]
    },
    {
     "name": "stdout",
     "output_type": "stream",
     "text": [
      "96 : ['What is {located next to Quincy,} in the {novel, Infinite Jest}?']\n",
      "97 : ['Name an unity of measure used for temperature that starts with letter P']\n",
      "98 : ['What country is the current leader of the African Union ?']\n",
      "99 : ['Who Sleepwalking succeeded in playing Sleepwalking?']\n"
     ]
    },
    {
     "name": "stdout",
     "output_type": "stream",
     "text": [
      "100101 : ['What is the music genre that is made by Battle Zeque Den']\n",
      " : ['Who is the son of Jacob Conover?']\n",
      "102 : ['Who is the opposite of the superhero?']\n"
     ]
    },
    {
     "name": "stdout",
     "output_type": "stream",
     "text": [
      "103 : ['When did Secretariat receive the Triple Crown Trophy?']\n",
      "104 : ['Which is the operating income for Qantas?']\n"
     ]
    },
    {
     "name": "stdout",
     "output_type": "stream",
     "text": [
      "105 : ['Name the FSK 12 rated 3D film with the highest cost ?']\n",
      "106 : ['What is the warheroes.ru ID for Yuri Gagarin?']\n"
     ]
    },
    {
     "name": "stdout",
     "output_type": "stream",
     "text": [
      "107 : ['Where is the human place of birth in Thessaloniki?']\n",
      "108 : ['What is the commune of France with the lowest population whose located in time zone is UTC+01:00?']\n",
      "109 : ['What award did I.M. Pei receive in 2010?']\n"
     ]
    },
    {
     "name": "stdout",
     "output_type": "stream",
     "text": [
      "110 : ['Which is the historic era in Epaminondas having completed in 600-1-1?']\n",
      "111 : ['Where is the drainage basin of the Brazos River?']\n",
      "112 : ['What sovereign state belonging to the International Finance Corporation has the lowest unemployment rate?']\n"
     ]
    },
    {
     "name": "stdout",
     "output_type": "stream",
     "text": [
      "113 : ['When did the Three Kingdoms period end in Korea?']\n",
      "114 : ['What is the category for recipients for the Noble Prize?']\n",
      "115 : ['Dennis M. Ritchie designed which structured programming language?']\n"
     ]
    },
    {
     "name": "stdout",
     "output_type": "stream",
     "text": [
      "116 : ['what was the position held by john major and when did it end?']\n",
      "117 : ['Gordon Lightfoot was nominated for what at what time?']\n"
     ]
    },
    {
     "name": "stdout",
     "output_type": "stream",
     "text": [
      "118 : ['Is the half-life of silicon-36 less than 0.54?']\n"
     ]
    },
    {
     "name": "stdout",
     "output_type": "stream",
     "text": [
      "119 : ['What type of clothing do the characters in The Silent Stars Go By wear?']\n"
     ]
    },
    {
     "name": "stdout",
     "output_type": "stream",
     "text": [
      "120 : ['When did Ronna Romney McDaniel become chairperson of the Republican Party?']\n",
      "121 : ['which cola starts with the letter p']\n"
     ]
    },
    {
     "name": "stdout",
     "output_type": "stream",
     "text": [
      "122 : ['Who is the brother in law of the writer Quran?']\n",
      "123 : ['What is the use of playing World Rugby?']\n",
      "124 : ['Who works for the accused Mariposa Folk Festival 1974?']\n"
     ]
    },
    {
     "name": "stdout",
     "output_type": "stream",
     "text": [
      "125 : ['Which religious concept starts with the letter t']\n",
      "126 : ['Tell me physical phenomenon whose name has the word surface in it.']\n"
     ]
    },
    {
     "name": "stdout",
     "output_type": "stream",
     "text": [
      "127 : ['What is the density of aluminium at a temperature of 20 degrees?']\n",
      "128 : ['Which borders of borders of Riverside have a start date of 1984-0-0?']\n"
     ]
    },
    {
     "name": "stdout",
     "output_type": "stream",
     "text": [
      "129 : ['What is the honorary title given to Albert Gunther which was won by P.A. Buxton?']\n"
     ]
    },
    {
     "name": "stdout",
     "output_type": "stream",
     "text": [
      "130 : ['What did Clifton Chenier get nominated for in 1983-0-0?']\n",
      "131 : ['What are the coordinates for the geographic center of Michigan, as determined by the center of gravity of the surface?']\n"
     ]
    },
    {
     "name": "stdout",
     "output_type": "stream",
     "text": [
      "132 : ['how many performances are by jimi hendrix?']\n",
      "133 : ['Is the diameter pf nickel equal to 0.807?']\n",
      "134 : ['Who is C. V. Ramans doctor']\n"
     ]
    },
    {
     "name": "stdout",
     "output_type": "stream",
     "text": [
      "135 : ['What is Anthony Vivaldis CPDL ID?']\n",
      "136 : ['What book series did the author Dante Alighieri write?']\n"
     ]
    },
    {
     "name": "stdout",
     "output_type": "stream",
     "text": [
      "137 : ['Who awarded Eric Hobsbawm an honorary doctorate?']\n"
     ]
    },
    {
     "name": "stdout",
     "output_type": "stream",
     "text": [
      "138 : ['What is John Xs persumed date of date according to sourcing circumstances?']\n"
     ]
    },
    {
     "name": "stdout",
     "output_type": "stream",
     "text": [
      "139 : ['What sister city was born in of Zakhar Oskotsky?']\n",
      "140 : ['What is the temperature of toxaphene that has a density of 1.65?']\n",
      "141 : ['What role does Mickey Mouse play in the creative work of Ben Sharpsteen?']\n",
      "142 : ['Where is {deathplace} of {Amelia Earhart}, which has {tributary} is {Ayampe River} ?']\n",
      "143 : ['What is the current population of Aden?']\n"
     ]
    },
    {
     "name": "stdout",
     "output_type": "stream",
     "text": [
      "144 : ['What is a sovereign state for office held by the popes head of state?']\n",
      "145 : ['How many are interested in Daniel Dennett?']\n",
      "146 : ['Matthias Sindelar who has number of points/goals/set scored as 26.0 is a member of which sports team ?']\n",
      "147 : ['Is the right ascension of malin 1 less than 15.1398?']\n"
     ]
    },
    {
     "name": "stdout",
     "output_type": "stream",
     "text": [
      "148 : ['Who was the person with Chris Rock when he was awarded the Lunt-Fontanne Award for Ensemble Excellence?']\n",
      "149 : ['Is it true that the explosive energy equivalent of Father of All Bombs is less than 52.8?']\n",
      "150 : ['What is the state of India that contain the word uttarakhand in its name ?']\n"
     ]
    },
    {
     "name": "stdout",
     "output_type": "stream",
     "text": [
      "151 : ['Is the stated age of Rolf-Axel Eberhardt greater than 52?']\n"
     ]
    },
    {
     "name": "stdout",
     "output_type": "stream",
     "text": [
      "152 : ['What is the New Zealand Gazetteer place id for Auckland?']\n",
      "153 : ['At what rate was inflation in Venezuela in the year 1996?']\n",
      "154 : ['What was George Washingtons military rank between 1774 and 1796?']\n"
     ]
    },
    {
     "name": "stdout",
     "output_type": "stream",
     "text": [
      "155 : ['Who stars with Ian Carlyle in the production?']\n",
      "156 : ['Who is the viceroy of Tasmania?']\n",
      "157 : ['How do you pronounce coffee in the Georgian language?']\n",
      "158 : ['who  is the city for capital of wales?']\n"
     ]
    },
    {
     "name": "stdout",
     "output_type": "stream",
     "text": [
      "159 : ['Which is the wear for Ambrose Burnside?']\n",
      "160 : ['what is spouse of Carlos Saura that is start time is 2006?']\n"
     ]
    },
    {
     "name": "stdout",
     "output_type": "stream",
     "text": [
      "161162 : ['What was the last team Allan Border belonged to in the year 1980?']\n",
      " : ['What is the country of citizenship and the religion of Elizabeth_Smart ?']\n"
     ]
    },
    {
     "name": "stdout",
     "output_type": "stream",
     "text": [
      "163 : ['Tell me the name of a fantastique genre that starts with the letter s.']\n",
      "164 : ['where does Vladimir putin reside?']\n"
     ]
    },
    {
     "name": "stdout",
     "output_type": "stream",
     "text": [
      "165 : ['In 1996, what significant event happened in the administrative territorial entity of Bristol?']\n",
      "166 : ['Tell me biogeochemical cycle whose name has the word cycle in it.']\n"
     ]
    },
    {
     "name": "stdout",
     "output_type": "stream",
     "text": [
      "167 : ['Is it true that the topographic isolation of Pollux equals to 0.7?']\n",
      "168 : ['Which is the facility of the defensive wall?']\n"
     ]
    },
    {
     "name": "stdout",
     "output_type": "stream",
     "text": [
      "169 : ['did john grisham have a degree in law in the University of mississippi school of law?']\n",
      "170 : ['Which is the Basketball-Reference.com NBA player ID of Hakeem Olajuwon?']\n",
      "171 : ['What is the district of the city with the MAX(number of houses whose instance of is district of the city?']\n"
     ]
    },
    {
     "name": "stdout",
     "output_type": "stream",
     "text": [
      "172 : ['What is the complete list of records released by Jerry Lee Lewis?']\n"
     ]
    },
    {
     "name": "stdout",
     "output_type": "stream",
     "text": [
      "173 : ['What is at the Kolyma River at the coordinates 161.364?']\n"
     ]
    },
    {
     "name": "stdout",
     "output_type": "stream",
     "text": [
      "174 : ['Which is the municipality of Belgium that has the headquarters location of European Union?']\n",
      "175 : ['What does the painting Grade Odalisque represent which has DRTL backwards?']\n",
      "176 : ['What is name of John Foster Dulles Latin script that has alphabet?']\n"
     ]
    },
    {
     "name": "stdout",
     "output_type": "stream",
     "text": [
      "177 : ['What is the Malayalam alphabet?']\n",
      "178 : ['Which is the patron saint of the place of death of Anna de Medici?']\n",
      "179 : ['When Podgorica started as Principality of Montenegro?']\n",
      "180 : ['tell me demigod of Greek mythology wears hide  starts with h']\n"
     ]
    },
    {
     "name": "stdout",
     "output_type": "stream",
     "text": [
      "181 : ['Which Class IB flammable liquid has the least lower flammable limit?']\n"
     ]
    },
    {
     "name": "stdout",
     "output_type": "stream",
     "text": [
      "182 : ['Which is the Commons gallery for Georges Seurat?']\n",
      "183 : ['What causes rain?']\n"
     ]
    },
    {
     "name": "stdout",
     "output_type": "stream",
     "text": [
      "184 : ['What is  in the IHO Hydrographic Dictionary (S-32) Number of lighthouse ?']\n",
      "185 : ['What is the stock exchange for the ticker symbol 0700 in Tencent?']\n",
      "186 : ['Which is the GeneReviews ID for Alzheimers disease?']\n"
     ]
    },
    {
     "name": "stdout",
     "output_type": "stream",
     "text": [
      "187 : ['What are the beliefs of the Chinese Communist Partys Chair, Hu Jintao?']\n",
      "188 : ['Who is drafted by the Boston Celtics?']\n",
      "189 : ['What was Laurence Olivier nominated for at the 12th Academy Awards?']\n"
     ]
    },
    {
     "name": "stdout",
     "output_type": "stream",
     "text": [
      "190 : ['Give me a film character from a fictional universe, such as Marvel comics that starts with a W.']\n",
      "191 : ['When was Vittorio De Sica nominated for an Academy Award for Best Supporting Actor?']\n",
      "192 : ['Which programming language did Dennis M. Ritchie create?']\n"
     ]
    },
    {
     "name": "stdout",
     "output_type": "stream",
     "text": [
      "193 : ['Was Cleopatras child named Caesarion?']\n",
      "194 : ['What is the court and application of jurisdiction of Roe v. Wade?']\n"
     ]
    },
    {
     "name": "stdout",
     "output_type": "stream",
     "text": [
      "195 : ['What is the service branch  by Julius and Ethel Rosenberg, which has subsidiary entities including Arlington National Cemetery?']\n"
     ]
    },
    {
     "name": "stdout",
     "output_type": "stream",
     "text": [
      "196 : ['Is the life expectancy of Indonesia 55.3528?']\n",
      "197 : ['How many numbers of exclave for the  {Azerbaijan} ?']\n"
     ]
    },
    {
     "name": "stdout",
     "output_type": "stream",
     "text": [
      "198 : ['When did child of Abigail Adams and date of birth?']\n",
      "199 : ['What does Kelly Clarkson do and where is she a citizen?']\n"
     ]
    },
    {
     "name": "stdout",
     "output_type": "stream",
     "text": [
      "200 : ['What business, product, or material does Facebook offer?']\n",
      "201 : ['What award did Edward C. Prescott receive on 1-1-2004?']\n"
     ]
    },
    {
     "name": "stdout",
     "output_type": "stream",
     "text": [
      "202 : ['What is Mary Lou Rettons International Olympic Committee athlete ID.']\n",
      "203 : ['Where is the river source of the Rhine?']\n"
     ]
    },
    {
     "name": "stdout",
     "output_type": "stream",
     "text": [
      "204 : ['What is a nut that starts with the letter n.']\n",
      "205 : ['TELL ME TRADITIONAL FAIRY TALE WHOSE NAME HAS THE WORD SNOW IN IT.']\n"
     ]
    },
    {
     "name": "stdout",
     "output_type": "stream",
     "text": [
      "206 : ['IS THE ENTHALPY OF VAPORIZATION OF METHANOL IS EQUAL TO 37400']\n",
      "207 : ['When did Artem Sergeev, adopted son of Joseph Stalin, die?']\n",
      "208 : ['What is the medal Angela Lansbury recieved?']\n",
      "209 : ['Name the BAFTA settlement with the postcode DA.']\n",
      "210 : ['Is Ridley Scott the child of Luke Scott and Jordan Scott?']\n"
     ]
    },
    {
     "name": "stdout",
     "output_type": "stream",
     "text": [
      "211 : ['Is it true that the fee of Harvard University is less than 90?']\n"
     ]
    },
    {
     "name": "stdout",
     "output_type": "stream",
     "text": [
      "212 : ['What is the material used and approved by Mojito?']\n"
     ]
    },
    {
     "name": "stdout",
     "output_type": "stream",
     "text": [
      "213214 : ['When did Barry Humphries receive the Centenray medal?']\n",
      " : ['What are the head of state and the office held by head of state of the Soviet Union?']\n"
     ]
    },
    {
     "name": "stdout",
     "output_type": "stream",
     "text": [
      "215 : ['Which is made from the goat meat having a common name as Domestic Goat?']\n",
      "216 : ['Name an empire that contains the word british in its name']\n"
     ]
    },
    {
     "name": "stdout",
     "output_type": "stream",
     "text": [
      "217 : ['When did Emmerson Mnangagwa begin going to the University of Zambia?']\n",
      "218 : ['WHICH IS THE ZUCKERART THAT CONTAINS WITH THE WORD SYRUP IN THER NAME']\n"
     ]
    },
    {
     "name": "stdout",
     "output_type": "stream",
     "text": [
      "219 : ['Which is the fictional analog of Hippocampus?']\n"
     ]
    },
    {
     "name": "stdout",
     "output_type": "stream",
     "text": [
      "220 : ['Which is the Crossref funder ID of the National Museum of American History?']\n"
     ]
    },
    {
     "name": "stdout",
     "output_type": "stream",
     "text": [
      "221 : ['What is { solubility } of { nitrous oxide } { solvent } is { water }?']\n",
      "222 : ['What was Cate Blanchett nominated for her work in Im Not There?']\n"
     ]
    },
    {
     "name": "stdout",
     "output_type": "stream",
     "text": [
      "223 : ['What is Bram Stokers occupation and field of work and did he work in Dublin Castle?']\n"
     ]
    },
    {
     "name": "stdout",
     "output_type": "stream",
     "text": [
      "224 : ['Who else participated in Deep Blue with top dog Cray Blitz?']\n"
     ]
    },
    {
     "name": "stdout",
     "output_type": "stream",
     "text": [
      "225 : ['Which is the total equity of Micron Technology?']\n",
      "226 : ['What is the musical score by Missa Solemnis that has mother Maria Magdalena van Beethoven?']\n",
      "227 : ['Does the Becherovka alcohol by volume less than 30.4']\n",
      "228 : ['What is the Uppslagsverket Finland ID for kickboxing?']\n",
      "229 : ['What is the cardinality of the complex logarithm input set?']\n"
     ]
    },
    {
     "name": "stdout",
     "output_type": "stream",
     "text": [
      "230 : ['What are the phantom island which start with the letter T']\n",
      "231 : ['What is Auñamendi ID of Miguel López de Legazpi ?']\n"
     ]
    },
    {
     "name": "stdout",
     "output_type": "stream",
     "text": [
      "232 : ['When is the date and birth of Joseph Stalins child with Svetlana Alliluyeva?']\n"
     ]
    },
    {
     "name": "stdout",
     "output_type": "stream",
     "text": [
      "233 : ['Who won the prize at the sequel of the 1885 Wimbledon Championships- Gentlemens Singles?']\n"
     ]
    },
    {
     "name": "stdout",
     "output_type": "stream",
     "text": [
      "234 : ['Could you summarize Koreas history of this topic?']\n",
      "235 : ['WHICH IS THE ASSOCIATION OF FOOTCLUB THAT STARTS WITH W']\n",
      "236 : ['What is a cause of death that begins with the letter p and can be found on a CT scan?']\n",
      "237 : ['Which chemical compound has the most binding energy?']\n"
     ]
    },
    {
     "name": "stdout",
     "output_type": "stream",
     "text": [
      "238 : ['Mention the fictional universe described or included in The Matrix.']\n"
     ]
    },
    {
     "name": "stdout",
     "output_type": "stream",
     "text": [
      "239 : ['Is the maximum number of players for the coxless four 0.0?']\n",
      "240 : ['where is the headquartes of  formation of google located?']\n"
     ]
    },
    {
     "name": "stdout",
     "output_type": "stream",
     "text": [
      "241 : ['Was Michael J. Foxs place of birth in Edmonton?']\n",
      "242 : ['How many different kinds of industry are affected by furniture?']\n",
      "243 : ['What is GACS ID for West Africa?']\n",
      "244 : ['What is {holds position} of {Martin McGuinness}, which has {prequel of} is {Member of the 55th Parliament of the United Kingdom} ?']\n"
     ]
    },
    {
     "name": "stdout",
     "output_type": "stream",
     "text": [
      "245 : ['What is BIA PSY person ID for Carl Rogers ?']\n"
     ]
    },
    {
     "name": "stdout",
     "output_type": "stream",
     "text": [
      "246 : ['What is the instance of Antonio da Correggio whose date of birth is 1489-8-1?']\n",
      "247 : ['What is located on terrain feature of Multonmah Falls?']\n"
     ]
    },
    {
     "name": "stdout",
     "output_type": "stream",
     "text": [
      "248 : ['What award was received Mary Tyler Moore ?']\n"
     ]
    },
    {
     "name": "stdout",
     "output_type": "stream",
     "text": [
      "249 : ['Tell me the famine which starts with the letter t?']\n",
      "250 : ['Which is {landscape of} of {Virgin of the rocks}, which has {birth city} is {Tzippori} ?']\n"
     ]
    },
    {
     "name": "stdout",
     "output_type": "stream",
     "text": [
      "251 : ['Tell me the tower that is depicted as Tower of Babel and contains the word babel in its name?']\n",
      "252 : ['When did Abigail Adams father die, and who was he?']\n"
     ]
    },
    {
     "name": "stdout",
     "output_type": "stream",
     "text": [
      "253 : ['Which German city is twinned with Cardiff?']\n",
      "254 : ['What is the SIRUTA code of Constanta?']\n",
      "255 : ['What is the timezone of the place Sallust died?']\n"
     ]
    },
    {
     "name": "stdout",
     "output_type": "stream",
     "text": [
      "256 : ['Which new conference did Donald Trump participate in?']\n",
      "257 : ['Was Hank WIlliams a rockabilly and honky-tonk musician?']\n",
      "258 : ['What kind of career does Grigori Kozintsev have in the screenwriting field?']\n"
     ]
    },
    {
     "name": "stdout",
     "output_type": "stream",
     "text": [
      "259 : ['What type of beryl is found at he GPS coordinates of 24.77111111 34. 71805556?']\n"
     ]
    },
    {
     "name": "stdout",
     "output_type": "stream",
     "text": [
      "260 : ['When did Johnny Carson start as the presenter for The Tonight Show?']\n"
     ]
    },
    {
     "name": "stdout",
     "output_type": "stream",
     "text": [
      "261262 : ['Who is the captain of F.C. Porto?']\n",
      " : ['When did Robert De Niro reside in Marbletown?']\n"
     ]
    },
    {
     "name": "stdout",
     "output_type": "stream",
     "text": [
      "263 : ['How many seasons of Handball-Bundesliga are there?']\n"
     ]
    },
    {
     "name": "stdout",
     "output_type": "stream",
     "text": [
      "264 : ['What is melody of Tristan und Isolde ?']\n",
      "265 : ['Stonewall Jackson commanded what battle?']\n",
      "266 : ['what is Tuesday named after?']\n",
      "267 : ['What is {award received} of {Hans Krebs} where {point in time} is {1966-0-0} ?']\n",
      "268 : ['What are the prefecture-level city  which start with the letter ürümqi']\n"
     ]
    },
    {
     "name": "stdout",
     "output_type": "stream",
     "text": [
      "269 : ['Name a religious concept in Hinduism that contains the word yatra in its name']\n",
      "270 : ['What is the name of award recieved for Dawn Fraser has participant of 1960 Summer Olympics ?']\n"
     ]
    },
    {
     "name": "stdout",
     "output_type": "stream",
     "text": [
      "271 : ['Whats the Brockhaus Enzyklopadie online ID of Chile?']\n",
      "272 : ['When did Lee de Forest divorce from Nora Stanton Blatch Barney?']\n"
     ]
    },
    {
     "name": "stdout",
     "output_type": "stream",
     "text": [
      "273 : ['How many games did Just Fontaine play for the O.G.C. Nice and how many goals did he score?']\n",
      "274 : ['What is Palace of Westminsters architect and heritage designation?']\n",
      "275 : ['What was the population of Washington, D.C. at the start of 1860?']\n",
      "276 : ['Which award did One Piece receive in 2009?']\n",
      "277 : ['Did the East India Company own the Britannia and the Busbridge?']\n"
     ]
    },
    {
     "name": "stdout",
     "output_type": "stream",
     "text": [
      "278 : ['Which reward was The Diary of Anne Frank a nominee for?']\n"
     ]
    },
    {
     "name": "stdout",
     "output_type": "stream",
     "text": [
      "279 : ['How many of the archives are for Grace Hopper?']\n",
      "280 : ['WHO DIRECTS THE POLITICAL OFFICE HELD IN EDUARDO LOPEZ DORIGA']\n"
     ]
    },
    {
     "name": "stdout",
     "output_type": "stream",
     "text": [
      "281 : ['who unit of density for measured by of density?']\n",
      "282 : ['What is established by Archbishop of Canterbury, who is a male?']\n",
      "283 : ['How many works are occupied in the Rijksmuseum?']\n"
     ]
    },
    {
     "name": "stdout",
     "output_type": "stream",
     "text": [
      "284 : ['What are the autonomous region of the Peoples Republic of China which start with the letter X']\n"
     ]
    },
    {
     "name": "stdout",
     "output_type": "stream",
     "text": [
      "285 : ['What is place of residence of Wangari Maathai,that has inflation rate of consumer price index as 2.9?']\n",
      "286 : ['Mention the temperature and the state of the matter of water upon achieving the critical point']\n",
      "287 : ['Tell me organization whose name has the word  zollkriminalamt  in it.']\n"
     ]
    },
    {
     "name": "stdout",
     "output_type": "stream",
     "text": [
      "288 : ['Is it true that the carbon footprint of the iPhone X Max is 106?']\n"
     ]
    },
    {
     "name": "stdout",
     "output_type": "stream",
     "text": [
      "289 : ['What time has Manhattan listed as the end time for a maritime evacuation event?']\n"
     ]
    },
    {
     "name": "stdout",
     "output_type": "stream",
     "text": [
      "290 : ['How many armament does the aircraft has?']\n"
     ]
    },
    {
     "name": "stdout",
     "output_type": "stream",
     "text": [
      "291 : ['When did Aaron Kwok receive the award for Golden Horse Award for Best Leading Actor?']\n",
      "292 : ['tell me ceremony whose name has the word umhlanga in it']\n",
      "293 : ['Who was the teacher that supervised Shigeno Yasutsugu?']\n"
     ]
    },
    {
     "name": "stdout",
     "output_type": "stream",
     "text": [
      "294 : ['Which is the narrative location of Siddhartha?']\n",
      "295 : ['what is hypothetical protein ecia139-4120 habitat of found in species?']\n",
      "296 : ['is it true that the SSK6-1s optimum viable temperature is greater than 24.0?']\n"
     ]
    },
    {
     "name": "stdout",
     "output_type": "stream",
     "text": [
      "297 : ['Which {history of topic} and the {geography of topic} is {Melbourne} ?']\n",
      "298 : ['What is the number of original networks owned by the Discovery Channel?']\n",
      "299 : ['Name a Luther city that contain the word worms  in its name']\n",
      "300 : ['Tell me the point in time for Pierre de Fermat has academic degree as Bachelor of Laws?']\n"
     ]
    },
    {
     "name": "stdout",
     "output_type": "stream",
     "text": [
      "301 : ['Name a business whose heaquarters are located in Lyon']\n"
     ]
    },
    {
     "name": "stdout",
     "output_type": "stream",
     "text": [
      "302 : ['In what area is Fernandel buried at the Passy Cemetery?']\n",
      "303 : ['Where is the archive for archives of The Walt Disney company?']\n",
      "304 : ['Which is the ISNI for Marit Bjørgen?']\n"
     ]
    },
    {
     "name": "stdout",
     "output_type": "stream",
     "text": [
      "305 : ['Where and what did Katherine Dunham study?']\n",
      "306 : ['What position was held by Harold Macmillan in the 34th Parliament of the United Kingdom, when was he elected, and why did he leave?']\n",
      "307 : ['Which is the golf course arena carrying designs patterns of Donald Trump?']\n",
      "308 : ['Did Mao Zedong hold a position as President of the Peoples Republic of China?']\n"
     ]
    },
    {
     "name": "stdout",
     "output_type": "stream",
     "text": [
      "309 : ['Is Kevin Costner owner of Fielders Stadium?']\n",
      "310 : ['Where is the place of Tartuffes first performance with the farthest east coordinates of 48.8363848 2.4697602?']\n"
     ]
    },
    {
     "name": "stdout",
     "output_type": "stream",
     "text": [
      "311 : ['What is the parent organization for the International Court of Justice?']\n",
      "312 : ['Mention the predecessor and the successor of Louis the Pious while being recognized as king of Franks']\n",
      "313 : ['What is the SANDRE ID for Rhine?']\n"
     ]
    },
    {
     "name": "stdout",
     "output_type": "stream",
     "text": [
      "314 : ['Which member state of the International Centre for Settlement of Investment Disputes has the maximum inflation rate?']\n"
     ]
    },
    {
     "name": "stdout",
     "output_type": "stream",
     "text": [
      "315 : ['Name the womens association football team who play the least in tournaments.']\n",
      "316 : ['Which is {played as} of {symbol} of {inequality} ?']\n",
      "317 : ['What is total fertility rate of Trinidad and Tobago that is determination method is estimation process ?']\n"
     ]
    },
    {
     "name": "stdout",
     "output_type": "stream",
     "text": [
      "318 : ['Into how many editions has Othello been translated?']\n"
     ]
    },
    {
     "name": "stdout",
     "output_type": "stream",
     "text": [
      "319 : ['What has the eccentricity of 0.0567, that is located on astronomical body of the near side of the moon?']\n",
      "320 : ['What sovereign state replaced the Kingdom of Great Britain?']\n",
      "321 : ['What position is held by Ramsay MacDonald and when was he elected?']\n",
      "322 : ['What is the time zone that Marseille is located in?']\n"
     ]
    },
    {
     "name": "stdout",
     "output_type": "stream",
     "text": [
      "323 : ['Which record label signed Janet Jackson?']\n",
      "324 : ['WHO IS THE PARENT OF SON FRANCESCO I SFORZA ?']\n",
      "325 : ['What position does David Lloyd George hold?']\n"
     ]
    },
    {
     "name": "stdout",
     "output_type": "stream",
     "text": [
      "326 : ['When did Kylie Minogue receive the Gold Logie Award for Most Popular Personality on Australian Television?']\n",
      "327 : ['What is the work of Jack Warner awarded as Academy Award for Best Picture?']\n",
      "328 : ['When did Roman Abramovich marry Irina Abramovich?']\n"
     ]
    },
    {
     "name": "stdout",
     "output_type": "stream",
     "text": [
      "329 : ['Who is the child of Pompey and the mother, Mucia Tertia?']\n",
      "330 : ['What is the Commons category of Classic of Poetry ?']\n",
      "331 : ['Which is the YouTube channel ID for Miley Cyrus?']\n"
     ]
    },
    {
     "name": "stdout",
     "output_type": "stream",
     "text": [
      "332 : ['When did Marco Polo marry Donata Badoer?']\n"
     ]
    },
    {
     "name": "stdout",
     "output_type": "stream",
     "text": [
      "333 : ['Name the naval artillery wirh the smallest firing range?']\n",
      "334 : ['Which country housed the Indian Independence Movement?']\n"
     ]
    },
    {
     "name": "stdout",
     "output_type": "stream",
     "text": [
      "335 : ['What is the religious affiliation of Vladimir the Greats child?']\n",
      "336 : ['What is the beginning of Sarajevos']\n"
     ]
    },
    {
     "name": "stdout",
     "output_type": "stream",
     "text": [
      "337 : ['which is the point time for syria has population as 8.08815e+06?']\n"
     ]
    },
    {
     "name": "stdout",
     "output_type": "stream",
     "text": [
      "338 : ['What was the result found in the species of hypothetical protein ipg2828?']\n",
      "339 : ['What is Tanzanias total reserves?']\n"
     ]
    },
    {
     "name": "stdout",
     "output_type": "stream",
     "text": [
      "340 : ['What award did Harry Martinson adn Eyvind Johnson receive together?']\n"
     ]
    },
    {
     "name": "stdout",
     "output_type": "stream",
     "text": [
      "341 : ['What is the sister city of Ivan Turgenevs hometown?']\n",
      "342 : ['What portrait has the Woman Drinking Wine wearing a pendant?']\n",
      "343 : ['What is a skill that starts with the letter s.']\n"
     ]
    },
    {
     "name": "stdout",
     "output_type": "stream",
     "text": [
      "344 : ['Of the century breaks of the Colm Gilcreest equal less than 9.6?']\n",
      "345 : ['tell me about thoracic disease that contains the word syndrome in their name']\n",
      "346 : ['Tell me the female beauty pageant that operates in all countries and contains the word model in its name?']\n"
     ]
    },
    {
     "name": "stdout",
     "output_type": "stream",
     "text": [
      "347 : ['Name a nonmetal discovered in England  that starts with letter O']\n",
      "348 : ['What effects does arsenic have at the minimal lethal dose of 300?']\n",
      "349 : ['What is edition runtime for League of Legends?']\n"
     ]
    },
    {
     "name": "stdout",
     "output_type": "stream",
     "text": [
      "350 : ['What significant event in 1978-6-1 is Michelle Bachelet known for?']\n",
      "351 : ['Who was Al Gores spouse beginning in 1970?']\n",
      "352 : ['Who was married to Ida Lupino on January 1st, 1951?']\n"
     ]
    },
    {
     "name": "stdout",
     "output_type": "stream",
     "text": [
      "353 : ['What what is animated taxondistributed by MGM and {family}']\n",
      "354 : ['What are the military operation which start with the letter o']\n",
      "355 : ['Does the slope rating of the Merion Golf Club equal 149']\n",
      "356 : ['How many input methods are on a computer keyboard?']\n",
      "357 : ['Which  anatomical location of place built of zygote ?']\n"
     ]
    },
    {
     "name": "stdout",
     "output_type": "stream",
     "text": [
      "358 : ['What is the name of a Cayenne Pepper that also has dates?']\n"
     ]
    },
    {
     "name": "stdout",
     "output_type": "stream",
     "text": [
      "359 : ['Is it true that the target interest rate of Central Bank of Azerbaijan equals to 5.25?']\n"
     ]
    },
    {
     "name": "stdout",
     "output_type": "stream",
     "text": [
      "360 : ['What was the population of the Maldives in 1967?']\n"
     ]
    },
    {
     "name": "stdout",
     "output_type": "stream",
     "text": [
      "361 : ['What is the birthplace of Maureen OHara, which has the co-ordinate location of 53.3252?']\n",
      "362 : ['Name an alcoholic beverage that contains the word rum  in its name']\n"
     ]
    },
    {
     "name": "stdout",
     "output_type": "stream",
     "text": [
      "363 : ['Does marketing involve Human communication, and packaging and labeling?']\n",
      "364 : ['Who was the teacher of the musical score of Suite 1922?']\n",
      "365 : ['Was Brittany Murphy a citizen of the USA?']\n",
      "366 : ['Which church is located in the parish border Krukengrund?']\n"
     ]
    },
    {
     "name": "stdout",
     "output_type": "stream",
     "text": [
      "367 : ['What business does Alexander McQueen have?']\n"
     ]
    },
    {
     "name": "stdout",
     "output_type": "stream",
     "text": [
      "368 : ['How many dimensions have a Captain America?']\n",
      "369 : ['What is the name of the Dutch municipal coat of arms of Amsterdam?']\n",
      "370 : ['In which country the Golden Horde used to live ?']\n"
     ]
    },
    {
     "name": "stdout",
     "output_type": "stream",
     "text": [
      "371 : ['does the explosive energy of the tsar bomba equal 500']\n",
      "372 : ['What appearance of a Christmas tree happens every January 19?']\n",
      "373 : ['What is the density of hydrogen peroxide at a temperature of 20.0?']\n",
      "374 : ['Where was professor Dimitri Mendeleyev educated, and what is his expertise?']\n"
     ]
    },
    {
     "name": "stdout",
     "output_type": "stream",
     "text": [
      "375 : ['Cholera affects which taxon?']\n",
      "376 : ['Where does Po fit into the location 12.5469?']\n"
     ]
    },
    {
     "name": "stdout",
     "output_type": "stream",
     "text": [
      "377 : ['Which is Greek nymph which was the partner of Apollo?']\n",
      "378 : ['What agent had conflict with Lowell English?']\n",
      "379 : ['What is the academic area of work of Viktor Bespalov?']\n"
     ]
    },
    {
     "name": "stdout",
     "output_type": "stream",
     "text": [
      "380 : ['Is the matches/games drawn/tied of the 2001 British and Irish Lions tour to Australia equal to 0?']\n",
      "381 : ['What is the diplomatic relations like in basin countries of Lake Okeechobee?']\n"
     ]
    },
    {
     "name": "stdout",
     "output_type": "stream",
     "text": [
      "382 : ['What year did Le Corbusier win the Frank P. Brown Medal?']\n"
     ]
    },
    {
     "name": "stdout",
     "output_type": "stream",
     "text": [
      "383 : ['Mention the headquarter location of the Russian Orthodox Church monastery.']\n"
     ]
    },
    {
     "name": "stdout",
     "output_type": "stream",
     "text": [
      "384 : ['what is the world heritage Tentative liste ID of  Univirsity of Tahran']\n",
      "385 : ['What is the solubility of methyl chloride in water?']\n"
     ]
    },
    {
     "name": "stdout",
     "output_type": "stream",
     "text": [
      "386 : ['Is the throughput of the Vest-vassdraget equal to 2697.672?']\n"
     ]
    },
    {
     "name": "stdout",
     "output_type": "stream",
     "text": [
      "387 : ['Is it true that the maximum wavelength of sensitivity of Submilimeter Array is greater than 2.004?']\n",
      "388 : ['Is Schutzstaffels subsidiary Reich Main Security Office and 21st Waffen Mountain division of the SS Skanderbeg?']\n"
     ]
    },
    {
     "name": "stdout",
     "output_type": "stream",
     "text": [
      "389 : ['What award did Danila Kozlovsky receive in 2017?']\n",
      "390 : ['Tell me the Greek deity of sibling of Zeus and that contains the word poseidon in its name?']\n"
     ]
    },
    {
     "name": "stdout",
     "output_type": "stream",
     "text": [
      "391392 : ['Located in the Central District, what is the county seat whose twin cities include Feodosiya?']\n",
      " : ['What was Philip Roth nominated for in 2011?']\n",
      "393 : ['What did Sidney Crosby draft?']\n"
     ]
    },
    {
     "name": "stdout",
     "output_type": "stream",
     "text": [
      "394 : ['Which is the SAHRA heritage site ID for University of Cape Town?']\n",
      "395 : ['What is the bibliography of the  PhD advisor to Karl Herzfeld?']\n",
      "396 : ['Who is the partner and the spouse of Hank Azaria?']\n"
     ]
    },
    {
     "name": "stdout",
     "output_type": "stream",
     "text": [
      "397 : ['How many terminus are in Vienna']\n",
      "398 : ['Which are the cites of Tractatus Logico-Philosophicus?']\n",
      "399 : ['Is a black hole the opposite of a stellar atmosphere?']\n"
     ]
    },
    {
     "name": "stdout",
     "output_type": "stream",
     "text": [
      "400 : ['is the maximum wavelength of sensitivity of the human eye equal to 700?']\n",
      "401 : ['What does European Parliament approve?']\n"
     ]
    },
    {
     "name": "stdout",
     "output_type": "stream",
     "text": [
      "402 : ['Did Lindsey Vonn participate in the FIS Alpine World Ski Championships in 1999 and 2019?']\n",
      "403 : ['Which is the sauce that originated in Korea?']\n"
     ]
    },
    {
     "name": "stdout",
     "output_type": "stream",
     "text": [
      "404 : ['Which is the GCatholic church ID of Archbasilica of St. John Lateran?']\n",
      "405 : ['What is the home venue of the Green Bay Packers?']\n",
      "406 : ['When did Prince Philip, Duke of Edinburgh use the Arms of Philip Mountbatten (1947-1949) as his coat of arm?']\n"
     ]
    },
    {
     "name": "stdout",
     "output_type": "stream",
     "text": [
      "407 : ['who architecture firm of home field of new york centaurs?']\n",
      "408 : ['WHICH IS THE STAGE RACE WITH THE MAXIMUM FREQUENCY OF EVENT']\n",
      "409 : ['Was Rupert Grints occupation a actor and child actor?']\n"
     ]
    },
    {
     "name": "stdout",
     "output_type": "stream",
     "text": [
      "410 : ['How many shogun military ranks are there?']\n",
      "411 : ['What team did Peter Schmeichel start playing for in 1984?']\n"
     ]
    },
    {
     "name": "stdout",
     "output_type": "stream",
     "text": [
      "412 : ['What five U.S. states does the Delaware River drain from?']\n",
      "413 : ['What is the official residence of Queens?']\n",
      "414 : ['What two cities hold the principle offices of Financial Times?']\n"
     ]
    },
    {
     "name": "stdout",
     "output_type": "stream",
     "text": [
      "415 : ['What method did the census use to determine the population of Taguig?']\n",
      "416 : ['Tell me the city which is enclaved within Montreal.']\n"
     ]
    },
    {
     "name": "stdout",
     "output_type": "stream",
     "text": [
      "417 : ['WHat location that belongs to the World Heritage starts with the letter H']\n",
      "418 : ['What is in the region of Paroo River, that divides into Ku-ring-gai Council?']\n"
     ]
    },
    {
     "name": "stdout",
     "output_type": "stream",
     "text": [
      "419 : ['What position did William Carmichael replace John Jay in?']\n",
      "420 : ['Where is the deathplace of Gediminas, whose twin town is Irkutsk?']\n"
     ]
    },
    {
     "name": "stdout",
     "output_type": "stream",
     "text": [
      "421 : ['What has the Pokedex number 36 and follows Pikachu?']\n"
     ]
    },
    {
     "name": "stdout",
     "output_type": "stream",
     "text": [
      "422 : ['What category of people are in Odoacer']\n",
      "423 : ['which  is working of   film producer of My Blue Heaven ?']\n"
     ]
    },
    {
     "name": "stdout",
     "output_type": "stream",
     "text": [
      "424 : ['What is the CPU with the greatest charge?']\n",
      "425 : ['Which is the enterprise for the parent organization of Sears?']\n",
      "426 : ['What is the interaction of antiparticle symmetric correspondence with Q48460 521.1?']\n"
     ]
    },
    {
     "name": "stdout",
     "output_type": "stream",
     "text": [
      "427 : ['Did Francis Ford Coppola have notable works of The Godfather and The Godfather Part III?']\n",
      "428 : ['How many depositors are with the {United Nations Secretary-General} ?']\n"
     ]
    },
    {
     "name": "stdout",
     "output_type": "stream",
     "text": [
      "429 : ['What language did Juan González de la Pezuela y Ceballos translate for Os Lusíadas?']\n",
      "430 : ['Which is the {participant} and the {location} of {Pacific_War} ?']\n"
     ]
    },
    {
     "name": "stdout",
     "output_type": "stream",
     "text": [
      "431 : ['Who is the  {human} for {doctoral advisor} of {Claude Shannon}']\n"
     ]
    },
    {
     "name": "stdout",
     "output_type": "stream",
     "text": [
      "432 : ['Where was the location of birth of Hermann Heinrich Gossen, that has Q48460 such that 2--4355126?']\n",
      "433 : ['What is Bandysidan player ID for Sergey Lomanov ?']\n"
     ]
    },
    {
     "name": "stdout",
     "output_type": "stream",
     "text": [
      "434 : ['Which { meansseason starts} in {February} ?']\n",
      "435 : ['Was Hugh_Grant relative Rick Cosnett?']\n"
     ]
    },
    {
     "name": "stdout",
     "output_type": "stream",
     "text": [
      "436 : ['Which birth language is Chizoba Ejike?']\n"
     ]
    },
    {
     "name": "stdout",
     "output_type": "stream",
     "text": [
      "437 : ['Edward Livingston replaced Martin Van Buren in what postion?']\n",
      "438 : ['Roger Milla was a member of which sports teams and how many matches did he play?']\n",
      "439 : ['When did Nicaragua count a population of 3.87732e+06 inhabitants?']\n"
     ]
    },
    {
     "name": "stdout",
     "output_type": "stream",
     "text": [
      "440 : ['How many active ingredients are in lidocaine?']\n",
      "441 : ['What are the fictional detective which start with the letter s']\n",
      "442 : ['Which is Xeno-canto species ID for Meleagris gallopavo?']\n"
     ]
    },
    {
     "name": "stdout",
     "output_type": "stream",
     "text": [
      "443 : ['When did Sarah Bernhardt and Jacques Damala split up?']\n"
     ]
    },
    {
     "name": "stdout",
     "output_type": "stream",
     "text": [
      "444 : ['What are the type of food or dish that contains the word torta in their name']\n"
     ]
    },
    {
     "name": "stdout",
     "output_type": "stream",
     "text": [
      "445 : ['Tell me kinship whose name has the word uncle in it.']\n",
      "446 : ['What district of Liguria originated in 2015?']\n"
     ]
    },
    {
     "name": "stdout",
     "output_type": "stream",
     "text": [
      "447 : ['What is the fuel system of electricity?']\n",
      "448 : ['Which is the candidature that Gustav Winckler took part of?']\n",
      "449 : ['Which is dantai code for Kyōto Prefecture?']\n"
     ]
    },
    {
     "name": "stdout",
     "output_type": "stream",
     "text": [
      "450 : ['What is the estimation rate of Slovakia fertility?']\n",
      "451 : ['Who proved the theory of Proper Motion? Their surname is Halley.']\n",
      "452 : ['When position did Angela Merkel hold on November 10, 1994?']\n",
      "453 : ['mike krzyzewski name']\n"
     ]
    },
    {
     "name": "stdout",
     "output_type": "stream",
     "text": [
      "454 : ['Where is the name of the continent of the mountain belt in Mount Caywood?']\n",
      "455 : ['Who are the writers of the academic subject Ten simple rules for editing Wikipedia?']\n",
      "456 : ['Who organizes the order of Ultima III: Exodus?']\n"
     ]
    },
    {
     "name": "stdout",
     "output_type": "stream",
     "text": [
      "457 : ['What has been the ister city of Changchun since Aug 25th, 1992?']\n",
      "458 : ['Which is stated in Tripitaka?']\n"
     ]
    },
    {
     "name": "stdout",
     "output_type": "stream",
     "text": [
      "459 : ['Which is the electric charge for antihydrogen?']\n",
      "460 : ['What is the ionization energy of the nicotine?']\n"
     ]
    },
    {
     "name": "stdout",
     "output_type": "stream",
     "text": [
      "461 : ['Who was the manager/director of the Metropolitan Museum of Art starting in 1910?']\n"
     ]
    },
    {
     "name": "stdout",
     "output_type": "stream",
     "text": [
      "462 : ['Where was Augustus II the Strong buried?']\n"
     ]
    },
    {
     "name": "stdout",
     "output_type": "stream",
     "text": [
      "463 : ['What is the secular state of the MIN(PPP GDP per capita) whose diplomatic relation is with India?']\n",
      "464 : ['To whom did Gerard Reve got married and when did it end?']\n"
     ]
    },
    {
     "name": "stdout",
     "output_type": "stream",
     "text": [
      "465 : ['What is the  Mississippi Sports Hall of Fame ID  for Brett Favre ?']\n",
      "466 : ['What is SIC code of forestry ?']\n",
      "467 : ['What is the stainless steel with the highest operating temperature whose has part is nitrogen?']\n"
     ]
    },
    {
     "name": "stdout",
     "output_type": "stream",
     "text": [
      "468 : ['What topic of the history of Estonia has the inflation rate of consumer price index of 1.2?']\n",
      "469 : ['What is the birth city of Kirsten Stewart, with the county seat of Los Angeles County?']\n",
      "470 : ['What sports team did Kapil Dev stopped being a member of in 1992?']\n"
     ]
    },
    {
     "name": "stdout",
     "output_type": "stream",
     "text": [
      "471 : ['What does emigration mean?']\n",
      "472 : ['Who is {nomination received} of {George Marshall}, which has {champion} is {Mikhail Gorbachev} ?']\n"
     ]
    },
    {
     "name": "stdout",
     "output_type": "stream",
     "text": [
      "473 : ['Tell me {intergovernmental organization}  whose name  starts with s']\n",
      "474 : ['tell me audio and video interfaces and connectors are name has the word ypbpr in it']\n",
      "475 : ['What family of vehicles starts with the letter v?']\n",
      "476 : ['Who is Johnny Cashs stepparent?']\n"
     ]
    },
    {
     "name": "stdout",
     "output_type": "stream",
     "text": [
      "477 : ['WHICH IS THE CATEGORY FOR RECIPIENTS OF THEIS WARD FOR HONOR']\n",
      "478 : ['Who is {tenant} of {Windsor Castle}, that has {employment} as {postage stamp designer} ?']\n",
      "479 : ['Who gave the {is shown in} of {based upon} of {Clark Kent} ?']\n"
     ]
    },
    {
     "name": "stdout",
     "output_type": "stream",
     "text": [
      "480 : ['What was the price of gold in 2018-7-26?']\n",
      "481 : ['Who was the lead actor for the movie Deadpool?']\n"
     ]
    },
    {
     "name": "stdout",
     "output_type": "stream",
     "text": [
      "482 : ['what are the painting which start with the letter y']\n",
      "483 : ['Who was nominated for an Academy Award for  Best Sound Mixing in Gladiator?']\n",
      "484 : ['On 0-0-2007, what is the populaton of Spokane?']\n"
     ]
    },
    {
     "name": "stdout",
     "output_type": "stream",
     "text": [
      "485 : ['Where Ruth Bernhard stoped working on 1953?']\n"
     ]
    },
    {
     "name": "stdout",
     "output_type": "stream",
     "text": [
      "486487 : ['When does the head of government of Seattle starts its work period?']\n",
      " : ['Is it true that the semi-major axis of 1627 Ivar is greater than 2.2361778?']\n"
     ]
    },
    {
     "name": "stdout",
     "output_type": "stream",
     "text": [
      "488 : ['Who plays the current role of the title character in Deadpool?']\n",
      "489 : ['Is Azcapotzalco in the Mexico City administrative territory?']\n",
      "490 : ['How many rivers and lakes are connected to Lake Urmia?']\n",
      "491 : ['Who received the Nobel Prize in Literature after Mo Yan?']\n"
     ]
    },
    {
     "name": "stdout",
     "output_type": "stream",
     "text": [
      "492 : ['When did the marriage between Marilyn Monroe and James Dougherty end?']\n"
     ]
    },
    {
     "name": "stdout",
     "output_type": "stream",
     "text": [
      "493 : ['What domain has the aspect of bodhisattva?']\n",
      "494 : ['What head coach is the New York Yankees named after?']\n"
     ]
    },
    {
     "name": "stdout",
     "output_type": "stream",
     "text": [
      "495 : ['Name the female who discovered the Horsehead Nebula.']\n",
      "496 : ['Who was nominated for the Academy Award for Best Original Dramatic or Comedy Score for the film Casablanca?']\n"
     ]
    },
    {
     "name": "stdout",
     "output_type": "stream",
     "text": [
      "497 : ['which type of quantum particle has highest gyromagnetic ratio?']\n"
     ]
    },
    {
     "name": "stdout",
     "output_type": "stream",
     "text": [
      "498 : ['what is the using of the remake of smoothsort?']\n"
     ]
    },
    {
     "name": "stdout",
     "output_type": "stream",
     "text": [
      "499 : ['What does it mean if you are convicted of desertion?']\n"
     ]
    },
    {
     "name": "stdout",
     "output_type": "stream",
     "text": [
      "500 : ['Which is the birth place of Malcolm Allison, that is bordered by Purfleet?']\n"
     ]
    },
    {
     "name": "stdout",
     "output_type": "stream",
     "text": [
      "501 : ['Charles the Bald position is what and he got his position after which person?']\n"
     ]
    },
    {
     "name": "stdout",
     "output_type": "stream",
     "text": [
      "502 : ['When did Dan Rowan receive his star on the Hollywood Walk of Fame']\n",
      "503 : ['Who is born at Charlotte Dujardin, which has a zip code of E?']\n",
      "504 : ['What Academy Award subject is Mercedes Ruehl nominated for as Best Supporting Actress?']\n"
     ]
    },
    {
     "name": "stdout",
     "output_type": "stream",
     "text": [
      "505 : ['What what is separation process discoverer or inventor Zosimos of Panopolis  and which that starts with d']\n",
      "506 : ['Which are the grants academic degrees for Master of Business Administration?']\n"
     ]
    },
    {
     "name": "stdout",
     "output_type": "stream",
     "text": [
      "507 : ['When did Ludwig Wittgenstein graduate as a Doctor of Philosophy?']\n",
      "508 : ['What are the national sports team  which start with the letter t']\n",
      "509 : ['What is graduated from Wendy Wasserstein located at street address of 160 Convent Ave, New York, NY, 10031?']\n"
     ]
    },
    {
     "name": "stdout",
     "output_type": "stream",
     "text": [
      "510 : ['Where {faith} {has influence} on {Madonna} ?']\n",
      "511 : ['What is the method of determining eating disorders that has the genetic association of RASGRF2?']\n",
      "512 : ['When was Phonenice located in the administrative territorial entity for Damascus?']\n",
      "513 : ['When did Eiji Toyoda win an award for his work in Order of Prince Henry?']\n",
      "514 : ['Is the conversion to SI unit of the statcoulomb greater than 2.6685128e-10?']\n"
     ]
    },
    {
     "name": "stdout",
     "output_type": "stream",
     "text": [
      "515 : ['DOES THE LITERATE POPULATION OF DHARAMPUR EQUALS 0']\n",
      "516 : ['What essential medicine is needed to treat leprosy?']\n"
     ]
    },
    {
     "name": "stdout",
     "output_type": "stream",
     "text": [
      "517 : ['Followers']\n",
      "518 : ['What is Angela Merkels abgeordnetenwatch.de politician ID?']\n",
      "519 : ['What is in the administrative region of Fukuoka Prefecture, whose total fertility rate is 1.39?']\n"
     ]
    },
    {
     "name": "stdout",
     "output_type": "stream",
     "text": [
      "520 : ['What is the official language of lives in Pasi Siltakorpi?']\n",
      "521 : ['Tell me literary genre whose name has the word vita in it']\n"
     ]
    },
    {
     "name": "stdout",
     "output_type": "stream",
     "text": [
      "522 : ['Which is the Kinopoisk person ID for Stanley Donen?']\n",
      "523 : ['Who is the chairperson of the Communist Party of China and who are his followers?']\n"
     ]
    },
    {
     "name": "stdout",
     "output_type": "stream",
     "text": [
      "524 : ['What theory did Grigori Perelman prove?']\n",
      "525 : ['Tell me physical quantity whose name has the word work in it.']\n"
     ]
    },
    {
     "name": "stdout",
     "output_type": "stream",
     "text": [
      "526 : ['Who became the head of the government of Vaduz on 2017-1-0?']\n"
     ]
    },
    {
     "name": "stdout",
     "output_type": "stream",
     "text": [
      "527 : ['What is the location in New York City for Edward Hoppers place death?']\n",
      "528 : ['what is the key incident in the provenance of Glencore?']\n",
      "529 : ['WHICH IS THE AUSTRIAN MUNICIPALITY KEY OF  KLAGENFURT']\n"
     ]
    },
    {
     "name": "stdout",
     "output_type": "stream",
     "text": [
      "530531 : ['Are the assets under management of the BlackRock less than 8146800000.0?']\n",
      " : ['what was the country of Tyumen in 1991-12-27']\n",
      "532 : ['Which protein interacts with oxytocin?']\n"
     ]
    },
    {
     "name": "stdout",
     "output_type": "stream",
     "text": [
      "533 : ['When did Veronica Lake and Andre dé Toth end their relationship?']\n"
     ]
    },
    {
     "name": "stdout",
     "output_type": "stream",
     "text": [
      "534 : ['How many team participants are there in the {Juventus F.C.} ?']\n",
      "535 : ['What children did the brothers and sisters of Emmanuel Philibert, Prince of Carignano, have?']\n"
     ]
    },
    {
     "name": "stdout",
     "output_type": "stream",
     "text": [
      "536 : ['What award did Marie Curie receive in 1911?']\n",
      "537 : ['What in the code for INS?']\n",
      "538 : ['What work did Jacques Brel publish in 1963?']\n",
      "539 : ['Who was married to Lynn Margulis in June of 1957?']\n",
      "540 : ['What U.S. Government agency holds the archives of Jefferson Davis?']\n"
     ]
    },
    {
     "name": "stdout",
     "output_type": "stream",
     "text": [
      "541 : ['Name a disease that starts with the letter Y']\n",
      "542 : ['Is it true that the mothers mothers mother family relationship degree equal to 3?']\n"
     ]
    },
    {
     "name": "stdout",
     "output_type": "stream",
     "text": [
      "543 : ['Who gave the{route of administration} of {consequence} of {cyclohexane} ?']\n"
     ]
    },
    {
     "name": "stdout",
     "output_type": "stream",
     "text": [
      "544 : ['What is the item operated of a B-29 Superfortress?']\n",
      "545 : ['What number follows -2?']\n",
      "546 : ['Which career did the character Buffy the Vampire Slayer choose?']\n",
      "547 : ['What political party did Chen Shui-bian belong to in 1987-02-28?']\n"
     ]
    },
    {
     "name": "stdout",
     "output_type": "stream",
     "text": [
      "548 : ['Tell me the autonomous region of the Peoples Republic of China which contains the word xinjiang in its name?']\n"
     ]
    },
    {
     "name": "stdout",
     "output_type": "stream",
     "text": [
      "549 : ['Which equation do I use to measure horsepower ?']\n",
      "550 : ['What is the language of the people indigenous to chupenme la pija giles ndeahhre?']\n"
     ]
    },
    {
     "name": "stdout",
     "output_type": "stream",
     "text": [
      "551 : ['Which is the LTI Korea Library ID for Choe Chiwon?']\n",
      "552 : ['What is the origin of Death Notes diplomatic relation?']\n"
     ]
    },
    {
     "name": "stdout",
     "output_type": "stream",
     "text": [
      "553 : ['Tell me written work whose name has the word war in it.']\n",
      "554 : ['Who are the members of BP and their chairperson?']\n",
      "555 : ['When was Jimmy Wales employed as Bomis and when did he leave?']\n"
     ]
    },
    {
     "name": "stdout",
     "output_type": "stream",
     "text": [
      "556 : ['Which is possessed by spirit by spirt?']\n",
      "557 : ['What is field of exercise for affiliated with Terje Langli ?']\n"
     ]
    },
    {
     "name": "stdout",
     "output_type": "stream",
     "text": [
      "558 : ['Was the thickness of the Bronze Age equal to .615?']\n",
      "559 : ['Which image compression contains the word graphics in its name?']\n"
     ]
    },
    {
     "name": "stdout",
     "output_type": "stream",
     "text": [
      "560 : ['Is Paul Gascoigne a member of a sports team?']\n",
      "561 : ['What power plant and manufacturer is responsible for the Rockwell B-1 Lancer?']\n"
     ]
    },
    {
     "name": "stdout",
     "output_type": "stream",
     "text": [
      "562 : ['What are the comic strip which start with the letter z']\n",
      "563 : ['Where was the plot of North by Northwest, filmed in California, set?']\n",
      "564 : ['Who is the PhD candidate for Niels Bohr?']\n"
     ]
    },
    {
     "name": "stdout",
     "output_type": "stream",
     "text": [
      "565 : ['What book is the most notable work of Robert Louis Stevenson?']\n",
      "566 : ['Which is the instance of Puduhepa?']\n",
      "567 : ['What is on geographical feature of Greater Antilles whose continent is North America ?']\n",
      "568 : ['which was the series ordinal  for ether which has  ionization energy as 9.53?']\n",
      "569 : ['Who first described the element osmium and was born in Selby?']\n"
     ]
    },
    {
     "name": "stdout",
     "output_type": "stream",
     "text": [
      "570 : ['Which is the public holiday that is a day in year for periodic occurrence of 21 Tishrei and contains the word sukkot in its name?']\n",
      "571 : ['Which is the ISBN-13 for Watership Down?']\n"
     ]
    },
    {
     "name": "stdout",
     "output_type": "stream",
     "text": [
      "572 : ['Tom Hanks voiced which 3D film ?']\n",
      "573 : ['What is the parent company of those who work at Roberta Bondar?']\n",
      "574 : ['Which is Parks & Gardens UK Record ID for National Maritime Museum?']\n",
      "575 : ['What is the solitary with the lowest height whose instance of is Tilia platyphyllos?']\n"
     ]
    },
    {
     "name": "stdout",
     "output_type": "stream",
     "text": [
      "576 : ['Tell me recurring sporting event whose name has the word world in it.']\n",
      "577 : ['What are the ancient civilization which start with the letter s']\n"
     ]
    },
    {
     "name": "stdout",
     "output_type": "stream",
     "text": [
      "578 : ['When did New Hampshire have a population of 491524?']\n",
      "579 : ['What is the SpeedSkatingNews.info speed skater ID for Eric Heiden?']\n"
     ]
    },
    {
     "name": "stdout",
     "output_type": "stream",
     "text": [
      "580 : ['What is {religious affiliation} of {ethnicity} {Sirhan Sirhan} ?']\n",
      "581 : ['How can you tell migraines have PRDM16?']\n"
     ]
    },
    {
     "name": "stdout",
     "output_type": "stream",
     "text": [
      "582 : ['What what is gas giant child astronomical body by Enceladus and also which starts with letter s']\n",
      "583 : ['What are the coachwork type which start with the letter van']\n",
      "584 : ['What is the business with the least debt on the Euronext?']\n",
      "585 : ['What is the garrison of AT&T, which is in the settlement of Denton County?']\n"
     ]
    },
    {
     "name": "stdout",
     "output_type": "stream",
     "text": [
      "586 : ['Who is the mother of Julio Iglesias and Enrique Iglesias?']\n",
      "587 : ['Which is the process function of the measured physical quantity of joule?']\n"
     ]
    },
    {
     "name": "stdout",
     "output_type": "stream",
     "text": [
      "588 : ['Name the subtopic of the tagline Free, Sovereign, and Independent, a history of Honduras.']\n",
      "589 : ['Who is the manufacturer and user of solar energy?']\n"
     ]
    },
    {
     "name": "stdout",
     "output_type": "stream",
     "text": [
      "590 : ['What is the organize sport of Super_Bowl ?']\n",
      "591 : ['Which is antonym of painting of Madonna enthroned with child and Saints Petronius and John the Evangelist ?']\n",
      "592 : ['Is the age of majority of the USA equal to t1410874016?']\n"
     ]
    },
    {
     "name": "stdout",
     "output_type": "stream",
     "text": [
      "593 : ['Are frankenstein and frankensteins monster and elizabeth lavenza have characters?']\n"
     ]
    },
    {
     "name": "stdout",
     "output_type": "stream",
     "text": [
      "594 : ['What parent body constellation is Messier a part of?']\n",
      "595 : ['What is the official language of Alice springs-Soverign state?']\n"
     ]
    },
    {
     "name": "stdout",
     "output_type": "stream",
     "text": [
      "596 : ['Which is the organization that has its headquarters located in Aachen?']\n",
      "597 : ['What was the category for which Shirley Booth received the Tony Award for Best Featured Actress in a Play?']\n",
      "598 : ['Was Hirohito buried in Tokyo at the Mausoleum of the First Qin Emperor?']\n"
     ]
    },
    {
     "name": "stdout",
     "output_type": "stream",
     "text": [
      "599 : ['What was Ray Rennahan from Gone with the Wind nominated for?']\n",
      "600 : ['What kind of instrument is made with foil?']\n"
     ]
    },
    {
     "name": "stdout",
     "output_type": "stream",
     "text": [
      "601 : ['Tell me political party whose name has the word veritas in it.']\n",
      "602 : ['When did Riga become the capital of Latvia?']\n",
      "603 : ['Tell me about animated feature film for voice actor of Ellen DeGeneres?']\n"
     ]
    },
    {
     "name": "stdout",
     "output_type": "stream",
     "text": [
      "604 : ['What is the name of a novel series that starts with the letter t?']\n",
      "605 : ['What is the fate of Joaquin Archivaldo Guzman, who was first described as El Faro?']\n"
     ]
    },
    {
     "name": "stdout",
     "output_type": "stream",
     "text": [
      "606 : ['Ignatius of Loyola belongs to which Catholic order?']\n"
     ]
    },
    {
     "name": "stdout",
     "output_type": "stream",
     "text": [
      "607 : ['Get  the postal code for Baidu that is headquartered at Beijing?']\n",
      "608 : ['Is normal distribution named after Bernhard Riemann?']\n",
      "609 : ['Who practices and researches Economics?']\n"
     ]
    },
    {
     "name": "stdout",
     "output_type": "stream",
     "text": [
      "610 : ['Who is George W. Bushs sister that has crafted as enterpreneur?']\n",
      "611 : ['Which is {position of head of government} of {service operator} {MiG-21} ?']\n",
      "612 : ['Which is {continent} of {death place} of {Thomas Morley} ?']\n"
     ]
    },
    {
     "name": "stdout",
     "output_type": "stream",
     "text": [
      "613 : ['How many saints have obtained canonization status?']\n"
     ]
    },
    {
     "name": "stdout",
     "output_type": "stream",
     "text": [
      "614 : ['Who is {writer} of {bibliographic citation} of {Survey of human genes of retroviral origin: identification and transcriptome of the genes with coding capacity for complete envelope proteins} ?']\n"
     ]
    },
    {
     "name": "stdout",
     "output_type": "stream",
     "text": [
      "615 : ['What is the text input for the Aruba flag emoji?']\n",
      "616 : ['What is Amtraks net profit?']\n"
     ]
    },
    {
     "name": "stdout",
     "output_type": "stream",
     "text": [
      "617 : ['Name the eponym of volt, who is professor by profession.']\n"
     ]
    },
    {
     "name": "stdout",
     "output_type": "stream",
     "text": [
      "618619 : ['What is the political party in Catalonia with min number of representatives in an organization whose political alignment is left - wing?']\n",
      " : ['Who was the inventor of the B-tree, who was awarded the Officers Cross of the Order of Merit of the Federal Republic of Germany?']\n",
      "620 : ['Is the operating temperature of the Nesjavellir power station 190?']\n",
      "621 : ['Is the Z scale scale 1:220?']\n"
     ]
    },
    {
     "name": "stdout",
     "output_type": "stream",
     "text": [
      "622 : ['What is the reservoir of Lake Winnebago?']\n",
      "623 : ['Is Alex Ferguson is the member of sports team which was started in 1-1-1973?']\n"
     ]
    },
    {
     "name": "stdout",
     "output_type": "stream",
     "text": [
      "624 : ['On December 31, 2012, what were Nokias total assets?']\n",
      "625 : ['What is the EC number for electron transport chain?']\n"
     ]
    },
    {
     "name": "stdout",
     "output_type": "stream",
     "text": [
      "626 : ['What mythical character that contains the word zau in their name']\n"
     ]
    },
    {
     "name": "stdout",
     "output_type": "stream",
     "text": [
      "627 : ['which time of the day contains the word morning in their name']\n"
     ]
    },
    {
     "name": "stdout",
     "output_type": "stream",
     "text": [
      "628 : ['Which is the automobile model that is manufactured by Honda?']\n",
      "629 : ['when did Okinawa Prefecture have the Santa Cruz Department as its twinned administrative body?']\n",
      "630 : ['Name the Yukon quest with the minimum size of team at finish whose location is braeburn lodge?']\n"
     ]
    },
    {
     "name": "stdout",
     "output_type": "stream",
     "text": [
      "631 : ['When did educated at of Peggy Whitson and academic major?']\n"
     ]
    },
    {
     "name": "stdout",
     "output_type": "stream",
     "text": [
      "632 : ['What is the {product} of {papermaking} which is {made of} {bleach} called?']\n",
      "633 : ['When Alec Guinness was nominated as Academy Award for Best Actor?']\n",
      "634 : ['Is it true that The X-Files featured George Murdock?']\n"
     ]
    },
    {
     "name": "stdout",
     "output_type": "stream",
     "text": [
      "635 : ['Which award did Mick Jagger receive?']\n"
     ]
    },
    {
     "name": "stdout",
     "output_type": "stream",
     "text": [
      "636 : ['What award did Gyorgy Ligeta receive on 2000-0-0?']\n",
      "637 : ['How many matches has Rinus Michels played?']\n"
     ]
    },
    {
     "name": "stdout",
     "output_type": "stream",
     "text": [
      "638 : ['What is native language for Vincent Auriol ?']\n",
      "639 : ['WHAT ARE THE DECIMAL CLASSIFICATION WHICH START WITH THE LETTER C']\n",
      "640 : ['What country was started in the year 1871 in Wiesbaden?']\n"
     ]
    },
    {
     "name": "stdout",
     "output_type": "stream",
     "text": [
      "641 : ['David Letterman is producer?']\n",
      "642 : ['Which fruit type is the higher taxon of Philodendron edmundoi?']\n"
     ]
    },
    {
     "name": "stdout",
     "output_type": "stream",
     "text": [
      "643 : ['Tell me superhero that contains the word wolfsbane in their name']\n",
      "644 : ['Which is the poetry collection that has traditional Chinese characters as writing system?']\n",
      "645 : ['How much was the population of Normandy in 2005?']\n"
     ]
    },
    {
     "name": "stdout",
     "output_type": "stream",
     "text": [
      "646 : ['What was Gene Wolfe nominated for in 1990?']\n"
     ]
    },
    {
     "name": "stdout",
     "output_type": "stream",
     "text": [
      "647 : ['What is the twin town of Port Vila, with the license plate code 沪A?']\n"
     ]
    },
    {
     "name": "stdout",
     "output_type": "stream",
     "text": [
      "648 : ['What is the owner of and the member of of Mikhail_Gorbachev ?']\n",
      "649 : ['Where was Louise Bourgeois completed education in the year 1938?']\n",
      "650 : ['how much is maintained by Otia Prefecture?']\n"
     ]
    },
    {
     "name": "stdout",
     "output_type": "stream",
     "text": [
      "651 : ['Is Scientology the same as Church of Scientology?']\n"
     ]
    },
    {
     "name": "stdout",
     "output_type": "stream",
     "text": [
      "652 : ['who  work of motif of david with the head of goliath ?']\n",
      "653 : ['Who was Bill Gatess mother?']\n",
      "654 : ['What is competitor War of the Triple Alliances name in its original language?']\n",
      "655 : ['Who discovered the boron?']\n"
     ]
    },
    {
     "name": "stdout",
     "output_type": "stream",
     "text": [
      "656 : ['Which French killer had the most victims ?']\n",
      "657 : ['Does Michael Jordan wear jewellery?']\n",
      "658 : ['Name a business division owned by Ford Motor Company']\n"
     ]
    },
    {
     "name": "stdout",
     "output_type": "stream",
     "text": [
      "659 : ['Name a memer of the Oracle Corporation']\n",
      "660 : ['What is the set of 1?']\n"
     ]
    },
    {
     "name": "stdout",
     "output_type": "stream",
     "text": [
      "661 : ['When Atacama Region has its population 230873.0?']\n"
     ]
    },
    {
     "name": "stdout",
     "output_type": "stream",
     "text": [
      "662 : ['What is the name of the administrative body for the capital of Mumbai']\n",
      "663 : ['Which territory did the classical antiquity cover?']\n",
      "664 : ['What is the name of the theatrical character of Hamlet?']\n"
     ]
    },
    {
     "name": "stdout",
     "output_type": "stream",
     "text": [
      "665666 : ['When did Nantes begin having Johanna Rolland as head of government?']\n",
      " : ['What is the CDB Chemical ID for isopropyl alcohol?']\n",
      "667 : ['When did Maule Region have a population of 836141.0?']\n",
      "668 : ['Was Jimi Hendrixs death related to the EMLL 24th Anniversary Show?']\n"
     ]
    },
    {
     "name": "stdout",
     "output_type": "stream",
     "text": [
      "669 : ['What is Lysimachuss noble title and who follows?']\n",
      "670 : ['how many crew members does enola gay have?']\n"
     ]
    },
    {
     "name": "stdout",
     "output_type": "stream",
     "text": [
      "671 : ['What are the municipality of the Netherlands  which start with the letter s']\n",
      "672 : ['What division does Jurandir Fatoris team play for?']\n"
     ]
    },
    {
     "name": "stdout",
     "output_type": "stream",
     "text": [
      "673 : ['How many countries are around Ireland?']\n",
      "674 : ['What position did Ramsay MacDonald hold in the 37th Parliament of the United Kingdom and what was his cause?']\n"
     ]
    },
    {
     "name": "stdout",
     "output_type": "stream",
     "text": [
      "675 : ['Who is the nominee for Nevermind, that was produced on 1991-0-0?']\n",
      "676 : ['When did Andrei Mironov and Yekaterina Gradova get married?']\n",
      "677 : ['Which Class II combustible liquid has the highest median lethal concentration?']\n",
      "678 : ['Dies the Center for Jewish Studies Heidelberg students count equal 110?']\n"
     ]
    },
    {
     "name": "stdout",
     "output_type": "stream",
     "text": [
      "679 : ['What is the mascot for the Stanford University athletics department?']\n",
      "680 : ['Which is the subject in Sunyata having science,that studies about Buddhist studies?']\n",
      "681 : ['What is the official language of Vantaa?']\n"
     ]
    },
    {
     "name": "stdout",
     "output_type": "stream",
     "text": [
      "682 : ['What happened to the SS Naronic?']\n",
      "683 : ['Name a musical composition by Dionysus']\n"
     ]
    },
    {
     "name": "stdout",
     "output_type": "stream",
     "text": [
      "684 : ['Is it true that the valency of monotransitive verb equals to 2?']\n",
      "685 : ['What are the political philosophy which start with the letter w']\n",
      "686 : ['Who is the brother of the actress Trishna?']\n"
     ]
    },
    {
     "name": "stdout",
     "output_type": "stream",
     "text": [
      "687 : ['Can you say which national library has the smallest collection?']\n",
      "688 : ['What political party does Jacinda Ardern belong to?']\n"
     ]
    },
    {
     "name": "stdout",
     "output_type": "stream",
     "text": [
      "689 : ['What is the 2.1 with the highest speed whose participating teams is Katusha 2016?']\n",
      "690 : ['Is the beats per minute of the Colorless Aura equal 50?']\n"
     ]
    },
    {
     "name": "stdout",
     "output_type": "stream",
     "text": [
      "691 : ['Charles the Bald position is what and he got his position after which person?']\n",
      "692 : ['How many Crusade conflicts were there?']\n",
      "693 : ['What ceremony takes place in Leicester?']\n",
      "694 : ['Which document is the main regulatory text of the Soviet Union?']\n"
     ]
    },
    {
     "name": "stdout",
     "output_type": "stream",
     "text": [
      "695 : ['Which song was Ringo Starr nominated for the Academy Award for Best Original Song Score?']\n",
      "696 : ['Freddy Krueger and Fred Krueger, is a serial killer and the main antagonist of the A Nightmare on Elm Street series. A family man on the surface, Krueger was actually the serial killer known as the Springwood Slasher. When he was caught and subsequently released on a technicality, the parents of his victims tracked him to the boiler room of the power plant he once worked at and burned him alive. Krueger was offered the chance to continue after his physical death, becoming a Dream Demon that could enter his victims dreams and kill them in the Dream World, which would thus cause their death in the physical world and absorb their souls afterwards.']\n",
      "697 : ['Which is the rank of the taxon parent of Physalis philadelphica?']\n",
      "698 : ['Who is known for being the script writer of Barefoot Gen: Explosion of Tears?']\n"
     ]
    },
    {
     "name": "stdout",
     "output_type": "stream",
     "text": [
      "699 : ['What is the chemical compound of polyvinyl chloride?']\n"
     ]
    },
    {
     "name": "stdout",
     "output_type": "stream",
     "text": [
      "700 : ['What is {chairwoman} of {working for} of {Vannevar Bush} ?']\n",
      "701 : ['When did award received of Alice Munro and followed by?']\n"
     ]
    },
    {
     "name": "stdout",
     "output_type": "stream",
     "text": [
      "702 : ['When Don Bradman ended as member of Australia national cricket team?']\n",
      "703 : ['What is it?']\n",
      "704 : ['Does the SAF 2507 have a pitting resistance equivalent number that is greater than  45.24?']\n"
     ]
    },
    {
     "name": "stdout",
     "output_type": "stream",
     "text": [
      "705 : ['Which is the historic house museum of the residence of Rembrandt?']\n"
     ]
    },
    {
     "name": "stdout",
     "output_type": "stream",
     "text": [
      "706 : ['What is the period of time of the  {Hellenistic period} ?']\n",
      "707 : ['Tell me dyed whose name has the word yan in it.']\n"
     ]
    },
    {
     "name": "stdout",
     "output_type": "stream",
     "text": [
      "708 : ['When did Ahmedabad become Presidency of Bombay which was located in the administrative territorial entity?']\n",
      "709 : ['Who is {executive authority} of {play} {snowboard} ?']\n",
      "710 : ['What is the genetic association that can be found in species with post-traumatic stress disorder?']\n"
     ]
    },
    {
     "name": "stdout",
     "output_type": "stream",
     "text": [
      "711 : ['Where in Père Lachaise Cemetery is Jean-François Champollion buried?']\n",
      "712 : ['Who was the goddess Artemis?']\n",
      "713 : ['What are the weekly newspaper  which start with the letter e']\n"
     ]
    },
    {
     "name": "stdout",
     "output_type": "stream",
     "text": [
      "714 : ['When did Aurangabad become part of the Hyderabad State?']\n",
      "715 : ['What was F. Murray Abraham nominated for in the 57th academy awards?']\n"
     ]
    },
    {
     "name": "stdout",
     "output_type": "stream",
     "text": [
      "716 : ['Tell me the brain region that contains the word thalamus in their name']\n",
      "717 : ['Which is the Darts Database player ID of Phil Taylor?']\n"
     ]
    },
    {
     "name": "stdout",
     "output_type": "stream",
     "text": [
      "718 : ['What {subject has role} which {physically interacts with} of {Dopamine} ?']\n",
      "719 : ['How many occupants are there with {Shah} ?']\n",
      "720 : ['Tell me about member of sports team of Ian Rush and number of matches played?']\n"
     ]
    },
    {
     "name": "stdout",
     "output_type": "stream",
     "text": [
      "721 : ['Which videogame studio developped Pong ?']\n"
     ]
    },
    {
     "name": "stdout",
     "output_type": "stream",
     "text": [
      "722 : ['Which member of the Rabah Madjer sports team played 94 matches ?']\n",
      "723 : ['which organization name starts with z']\n",
      "724 : ['How many mothers did Eros have?']\n"
     ]
    },
    {
     "name": "stdout",
     "output_type": "stream",
     "text": [
      "725 : ['What position did Martin V hold that was eventually replaced by Eugene IV?']\n"
     ]
    },
    {
     "name": "stdout",
     "output_type": "stream",
     "text": [
      "726 : ['What is the parent university of Purdue University?']\n"
     ]
    },
    {
     "name": "stdout",
     "output_type": "stream",
     "text": [
      "727 : ['What drives the subject of the language change statement']\n"
     ]
    },
    {
     "name": "stdout",
     "output_type": "stream",
     "text": [
      "728 : ['In what position did Charles XIV John of Sweden replace Charles XIII of Sweden?']\n",
      "729 : ['What electoral district does Member of the New Zealand House of Representatives Jacinda Ardern represent?']\n",
      "730 : ['How many {twinned administrative body} are there for {Monterrey} ?']\n"
     ]
    },
    {
     "name": "stdout",
     "output_type": "stream",
     "text": [
      "731 : ['What are the ring system  which start with the letter r']\n",
      "732 : ['Which is the {crystal system} who {discoverer or inventor} of {Titanium} ?']\n",
      "733 : ['which record did pole vault hold and which is the height?']\n"
     ]
    },
    {
     "name": "stdout",
     "output_type": "stream",
     "text": [
      "734 : ['How many file formats are done on Portable Document Format?']\n",
      "735 : ['What is the language official in Federated States of Micronesia having a shortened name of']\n",
      "736 : ['What material has the highest operating temperature?']\n"
     ]
    },
    {
     "name": "stdout",
     "output_type": "stream",
     "text": [
      "737 : ['What position was David Cameron elected to?']\n",
      "738 : ['who county seat for  died in of Innokenty smoktunovsky ?']\n",
      "739 : ['What are the speakers of the working languages of the Kingdom of England?']\n"
     ]
    },
    {
     "name": "stdout",
     "output_type": "stream",
     "text": [
      "740 : ['Was Helen Keller a member of the Transport Workers Union of America?']\n",
      "741 : ['Tell me the airline that starts with the letter p']\n",
      "742 : ['how many officers are there for the united nations secretary-general?']\n"
     ]
    },
    {
     "name": "stdout",
     "output_type": "stream",
     "text": [
      "743 : ['Who is {rector} of {Moscow State University}, which {alumna of} is {Saint Petersburg State University} ?']\n",
      "744 : ['What are the signs of Typhoid fever which can be treated with Dopamine?']\n",
      "745 : ['Who is the {aircraft fleet} for {uses} of {airplane}']\n",
      "746 : ['Who was Jonas Salks doctoral student?']\n"
     ]
    },
    {
     "name": "stdout",
     "output_type": "stream",
     "text": [
      "747 : ['When was the population of Dalian 4480000?']\n",
      "748 : ['Where did Pierre Curie live, which has the timezone of UTC-02:00?']\n"
     ]
    },
    {
     "name": "stdout",
     "output_type": "stream",
     "text": [
      "749 : ['What award was received by Valeri Polyakov on April 4, 2011?']\n"
     ]
    },
    {
     "name": "stdout",
     "output_type": "stream",
     "text": [
      "750 : ['Where can you land on the moon with a mass of 73.477?']\n",
      "751 : ['What is the local dialling code of the Dallas Morning News?']\n"
     ]
    },
    {
     "name": "stdout",
     "output_type": "stream",
     "text": [
      "752 : ['How many matches did Diego Maradona participate in with the A.A. Argentinos Juniors?']\n"
     ]
    },
    {
     "name": "stdout",
     "output_type": "stream",
     "text": [
      "753 : ['How many things are designed for Doom?']\n"
     ]
    },
    {
     "name": "stdout",
     "output_type": "stream",
     "text": [
      "754 : ['Tell me reference model whose name has the word model in it.']\n",
      "755 : ['Shen Bao has a partner city of Rotterdam, what is the main location of the publication?']\n",
      "756 : ['what are the mathematical notation which start with the letter s']\n"
     ]
    },
    {
     "name": "stdout",
     "output_type": "stream",
     "text": [
      "757 : ['Is the kinematic viscosity of propylene glycol equal to 0.054?']\n",
      "758 : ['Who is the Head of State  of the Austrian Empire?']\n"
     ]
    },
    {
     "name": "stdout",
     "output_type": "stream",
     "text": [
      "759 : ['Who was replaced by Clovis I as King of France?']\n",
      "760 : ['What medical condition did Väinö Linna have in 1984?']\n",
      "761 : ['How many carry things by road?']\n"
     ]
    },
    {
     "name": "stdout",
     "output_type": "stream",
     "text": [
      "762 : ['Was Chandragupta Maurya the student of both Chanakya and Vidyananda?']\n",
      "763 : ['When did Saint Vincent and the Grenadines have a population of 108150?']\n"
     ]
    },
    {
     "name": "stdout",
     "output_type": "stream",
     "text": [
      "764 : ['What is the language official of World Baseball Softball Confederation whose typology is nominative–accusative language?']\n"
     ]
    },
    {
     "name": "stdout",
     "output_type": "stream",
     "text": [
      "765 : ['In what field of work does José Luis Rodríguez Zapatero work in?']\n",
      "766 : ['What is JewAge person ID for Ludwig von Mises ?']\n"
     ]
    },
    {
     "name": "stdout",
     "output_type": "stream",
     "text": [
      "767 : ['When did Lorin Maazel received the Grammy Award for Best Opera Recording?']\n"
     ]
    },
    {
     "name": "stdout",
     "output_type": "stream",
     "text": [
      "768 : ['What was the {award won} by {Cream}, that was {introduced} in {1983-0-0}?']\n",
      "769 : ['Who is the presenter of The Tonight Show?']\n",
      "770 : ['What is the middle name of Daniel Carter, which has a pronunciation audio of PI-Daniel.ogg?']\n",
      "771 : ['What is the genus with the highest chromosome count in the taxon rank?']\n"
     ]
    },
    {
     "name": "stdout",
     "output_type": "stream",
     "text": [
      "772 : ['What is the significant role played by Giant Magellan Telescope in the field of Construction?']\n",
      "773 : ['which magazine starts with z']\n",
      "774 : ['For which sports team does Thierry Henry play and how many matches has he played?']\n"
     ]
    },
    {
     "name": "stdout",
     "output_type": "stream",
     "text": [
      "775 : ['What do you call the incarnation of Jesus Christ?']\n",
      "776 : ['This sentence makes no sense.']\n"
     ]
    },
    {
     "name": "stdout",
     "output_type": "stream",
     "text": [
      "777 : ['What were the last words of Jesus Christ?']\n",
      "778 : ['How many members of the crew are there for John Jellicoe , 1st Earl Jellicoe?']\n"
     ]
    },
    {
     "name": "stdout",
     "output_type": "stream",
     "text": [
      "779 : ['What game is played by backgammon players and contains the word backgammon?']\n",
      "780 : ['What city became a twin city of Klagenfurt in 1990?']\n"
     ]
    },
    {
     "name": "stdout",
     "output_type": "stream",
     "text": [
      "781 : ['Tell me the number of points and games played by Brian Clough, member of the English national football team.']\n",
      "782 : ['When and where did Victor Hugo marry his spouse, Adele Foucher?']\n",
      "783 : ['What is { safety classification and labeling } of { magnesium sulfate anhydrous } that is { NFPA Fire } is { 0 }?']\n",
      "784 : ['What was Leonardo Bonaccis date of death in the year 1240?']\n"
     ]
    },
    {
     "name": "stdout",
     "output_type": "stream",
     "text": [
      "785 : ['Which is the liberal arts college that is affiliated with Columbia University?']\n"
     ]
    },
    {
     "name": "stdout",
     "output_type": "stream",
     "text": [
      "786 : ['Which taxon has the highest chromosome count?']\n",
      "787 : ['Which is the sign language for the signed form of Esperanto?']\n",
      "788 : ['Who is the owner of Hon Hai Precision Industry?']\n",
      "789 : ['Which is {official language} of {basin countries} of {White Sea} ?']\n"
     ]
    },
    {
     "name": "stdout",
     "output_type": "stream",
     "text": [
      "790 : ['Who is the general manager of the Chicago Cubs?']\n"
     ]
    },
    {
     "name": "stdout",
     "output_type": "stream",
     "text": [
      "791 : ['When Camille Pissarro ended to work at Netherlands?']\n",
      "792 : ['What state is the University of Iowa located?']\n",
      "793 : ['Which is the Billboard artist ID for Vicente Fernández?']\n",
      "794 : ['Tell me theorem whose name has the word theorem in it.']\n"
     ]
    },
    {
     "name": "stdout",
     "output_type": "stream",
     "text": [
      "795 : ['What is the academic degree of Al-Waleed bin Talal?']\n",
      "796 : ['What award was John Williams nominated for in Close Encounters of the Third Kind?']\n"
     ]
    },
    {
     "name": "stdout",
     "output_type": "stream",
     "text": [
      "797 : ['Is the end time for the spouse of Larry King 1967-0-0?']\n",
      "798 : ['What is the military rank of the colonel?']\n",
      "799 : ['What is the antonym of the professions field of prosecutor?']\n"
     ]
    },
    {
     "name": "stdout",
     "output_type": "stream",
     "text": [
      "800 : ['Where was Grace Hopper educated at in 1930?']\n"
     ]
    },
    {
     "name": "stdout",
     "output_type": "stream",
     "text": [
      "801 : ['What are the regions available on the coast of Lower Saxony?']\n",
      "802 : ['When did Tony Walton become the spouse of Julie Andrews?']\n"
     ]
    },
    {
     "name": "stdout",
     "output_type": "stream",
     "text": [
      "803 : ['What Japanese TV series has the most number of seasons and was originally aired in Japanese?']\n"
     ]
    },
    {
     "name": "stdout",
     "output_type": "stream",
     "text": [
      "804 : ['Is the power consumed by the World Space Observatory more than 1200?']\n",
      "805 : ['When was the Arab League founded that shares a border with Ethiopia?']\n",
      "806 : ['Tell me the Human population and birthplace of konstantin khabensky?']\n"
     ]
    },
    {
     "name": "stdout",
     "output_type": "stream",
     "text": [
      "807808 : ['Who is the child of Isabella I of Castile and when were they born?']\n",
      " : ['What is the ship with the lowest payload mass whose manufacturer is ERROR1?']\n",
      "809 : ['The Moon is found in which subtopic of the geological history of the Earth that has moon in the name?']\n",
      "810 : ['Does the port of the Multicast File transfer protocol have less than 6482.2 capacity?']\n"
     ]
    },
    {
     "name": "stdout",
     "output_type": "stream",
     "text": [
      "811 : ['Tell me about spouse of Julio Iglesias and end cause?']\n",
      "812 : ['Tell me about member of sports team of Rinus Michels and number of points/goals/set scored?']\n",
      "813 : ['What is in the municipality of Canton of Jura that has a -0.3 inflation rate of consumer price index?']\n"
     ]
    },
    {
     "name": "stdout",
     "output_type": "stream",
     "text": [
      "814 : ['Which is the parity of Higgs boson?']\n",
      "815 : ['What killed John F. Kennedy and who caused him ballistic trauma?']\n"
     ]
    },
    {
     "name": "stdout",
     "output_type": "stream",
     "text": [
      "816 : ['What is the first described of the ideology of Progressive Party?']\n",
      "817 : ['Which detached object has the highest mean of anomalies?']\n",
      "818 : ['What is the death location, whose partner city is Jakarta, of Samuel Butler?']\n",
      "819 : ['What is the taxonomic type of Cactaceae?']\n"
     ]
    },
    {
     "name": "stdout",
     "output_type": "stream",
     "text": [
      "820 : ['Which is the historical nationality for the location of Bilbao?']\n",
      "821 : ['Name a brand owned by SpaceX.']\n"
     ]
    },
    {
     "name": "stdout",
     "output_type": "stream",
     "text": [
      "822 : ['Which is a ports competition competed at the Olympic games?']\n"
     ]
    },
    {
     "name": "stdout",
     "output_type": "stream",
     "text": [
      "823 : ['Which  is farthest north of place held by Balkans Campaign?']\n"
     ]
    },
    {
     "name": "stdout",
     "output_type": "stream",
     "text": [
      "824 : ['What represents the organization of the siblings of Louis Gigante?']\n"
     ]
    },
    {
     "name": "stdout",
     "output_type": "stream",
     "text": [
      "825 : ['What is Proxima Centauris companion?']\n",
      "826 : ['When did Honolulu become an entity as the Territory of Hawaii?']\n",
      "827 : ['How many medical conditions are treated by diazepam?']\n"
     ]
    },
    {
     "name": "stdout",
     "output_type": "stream",
     "text": [
      "828 : ['For Ryan ONeal was in nomination of Golden Globe Award for Best Actor-Motion picture Drama?']\n",
      "829 : ['What is {temperature} {on river} of {Iberian Peninsula} ?']\n"
     ]
    },
    {
     "name": "stdout",
     "output_type": "stream",
     "text": [
      "830 : ['What is budget for Grand Theft Auto V?']\n",
      "831 : ['When did Thomas Wakley, the Member of the 12th Parliament of the United Kingdom, end his position?']\n"
     ]
    },
    {
     "name": "stdout",
     "output_type": "stream",
     "text": [
      "832 : ['What is EDIT16 catalogue author ID for Leo X ?']\n",
      "833 : ['Which is the HQ location in The Economic Times having Indian reservation in Bombay State?']\n"
     ]
    },
    {
     "name": "stdout",
     "output_type": "stream",
     "text": [
      "834 : ['Is Vidhan Sabha executive body of Assam?']\n",
      "835 : ['When did Betty White win the Daytime Emmy Award for Outstanding Game Show Host?']\n"
     ]
    },
    {
     "name": "stdout",
     "output_type": "stream",
     "text": [
      "836 : ['What is the National Park Foundation ID for the Rocky Mountain National Park?']\n",
      "837 : ['What is Flags of the World ID for Union Jack ?']\n"
     ]
    },
    {
     "name": "stdout",
     "output_type": "stream",
     "text": [
      "838 : ['Where in the administrative territorial entity of Umbria was Monica Bellucci born?']\n",
      "839 : ['What is Mizoram?']\n"
     ]
    },
    {
     "name": "stdout",
     "output_type": "stream",
     "text": [
      "840 : ['What is the fictional analog of The Gingerbread Man?']\n",
      "841 : ['What is the admin HQ of Alma Matter and Victor Hugo?']\n",
      "842 : ['What was the population of Lucknow in 2011?']\n",
      "843 : ['Who is the writer of The Murder of Roger Ackroyd, which has been active since 1920-0-0?']\n",
      "844 : ['For which work Patrick White received the Miles Franklin Literary Award?']\n",
      "845 : ['What is Cyworld ID for Park Geun-hye ?']\n",
      "846 : ['Who is the contestant of Descendants of the Sun?']\n",
      "847 : ['What is the heavy metal band whose mascot is Ediie the head that start with letter I ?']\n"
     ]
    },
    {
     "name": "stdout",
     "output_type": "stream",
     "text": [
      "848 : ['Where in the Soviet Union did Andrei Bely die?']\n"
     ]
    },
    {
     "name": "stdout",
     "output_type": "stream",
     "text": [
      "849 : ['What is Jacinda Arderns position ?']\n",
      "850 : ['What branch of science starts with the letter v?']\n",
      "851 : ['Do the rural cities of Para have 13155 inhabitants?']\n"
     ]
    },
    {
     "name": "stdout",
     "output_type": "stream",
     "text": [
      "852 : ['when was samuel beckett nominated for nobel prize in literature?']\n"
     ]
    },
    {
     "name": "stdout",
     "output_type": "stream",
     "text": [
      "853 : ['Who was the head of government in Palestine on June 2, 2014?']\n",
      "854 : ['What team does Eric Cantona play for, and how many matches has he played?']\n",
      "855 : ['Tell me  security agency whose name has the word state in it.']\n"
     ]
    },
    {
     "name": "stdout",
     "output_type": "stream",
     "text": [
      "856 : ['what is mankinds collection of venice']\n"
     ]
    },
    {
     "name": "stdout",
     "output_type": "stream",
     "text": [
      "857858 : ['Is Joule the measurement for transparency and work?']\n",
      " : ['When was Vasily Chuikov awarded the Order of Lenin?']\n"
     ]
    },
    {
     "name": "stdout",
     "output_type": "stream",
     "text": [
      "859 : ['Tell me the house cat that contains the word мyka in their name']\n",
      "860 : ['Which nonprofit organization has the highest total expenditure?']\n",
      "861 : ['which is scientific area of developed by of perl?']\n"
     ]
    },
    {
     "name": "stdout",
     "output_type": "stream",
     "text": [
      "862 : ['When did Oberhausen have a population of 209292.0?']\n",
      "863 : ['TELL ME THE PRECEEDS THAT IMPLIES VAPORIZATION?']\n",
      "864 : ['Where is the birth place of John Walter, that has a general population of 8787892 ?']\n",
      "865 : ['Who is in the administrative territorial entity of Tbilisi and when is the end time?']\n"
     ]
    },
    {
     "name": "stdout",
     "output_type": "stream",
     "text": [
      "866 : ['Who is the person for the military branch of KGB?']\n",
      "867 : ['What is the opposite of inorganic chemistry?']\n",
      "868 : ['Who is the winner of Friends who has received Primetime Emmy award for Outstanding comedy series?']\n"
     ]
    },
    {
     "name": "stdout",
     "output_type": "stream",
     "text": [
      "869 : ['What are the state church which start with the letter M']\n"
     ]
    },
    {
     "name": "stdout",
     "output_type": "stream",
     "text": [
      "870 : ['What is the project codename for Windows 10?']\n"
     ]
    },
    {
     "name": "stdout",
     "output_type": "stream",
     "text": [
      "871 : ['Joseph belongs to what family?']\n",
      "872 : ['WHAT Australia and Oceania ?']\n",
      "873 : ['What award was Maria Montessori nominated for on January 1, 1950?']\n",
      "874 : ['Is it true that the melting point of mercury is less than -45.6?']\n",
      "875 : ['Which birthplace of Chris Rock, has a Geotag of 33.45?']\n",
      "876 : ['When Alexandria, Diocese of Egypt, ended?']\n",
      "877 : ['What is Northern Englands total imports?']\n"
     ]
    },
    {
     "name": "stdout",
     "output_type": "stream",
     "text": [
      "878 : ['What is the volcano ID, assigned by the Smithsonian, for the Taal Volcano?']\n",
      "879 : ['What were the statements when Michelle Pfeiffer got nominated for the Academy Award for Best Actress?']\n",
      "880 : ['Which is the Japanese writing system for the writing system of Japanese?']\n"
     ]
    },
    {
     "name": "stdout",
     "output_type": "stream",
     "text": [
      "881 : ['Who is the child of Ofelia Medinas life partner?']\n",
      "882 : ['Which colonial power controlled Lisbon?']\n"
     ]
    },
    {
     "name": "stdout",
     "output_type": "stream",
     "text": [
      "883 : ['Which is the extensive physical quantity that is measured by the inertial mass and starts with the letter m?']\n",
      "884 : ['Tell me fictional detective whose name has the word sam in it.']\n"
     ]
    },
    {
     "name": "stdout",
     "output_type": "stream",
     "text": [
      "885 : ['What non-metropolitan county shares a border with Hampshire?']\n"
     ]
    },
    {
     "name": "stdout",
     "output_type": "stream",
     "text": [
      "886 : ['Tell me Mahavidya whose name has the word tara in it']\n"
     ]
    },
    {
     "name": "stdout",
     "output_type": "stream",
     "text": [
      "887 : ['WHICH ARE THE NUT THAT CONTAINS THE WORD NUT IN THEIR NAME']\n",
      "888 : ['When did A.R. Rahman receive the IIFA Award for Best Music Director?']\n"
     ]
    },
    {
     "name": "stdout",
     "output_type": "stream",
     "text": [
      "889 : ['Where and what did Hilary Mantel study?']\n",
      "890 : ['Who are the film crew members and cast members of Game of Thrones?']\n",
      "891 : ['What gaming platform is Second Life on?']\n"
     ]
    },
    {
     "name": "stdout",
     "output_type": "stream",
     "text": [
      "892 : ['Tolyatti has what OK TMO ID?']\n"
     ]
    },
    {
     "name": "stdout",
     "output_type": "stream",
     "text": [
      "893 : ['What borders Senegal and yet is a member of AFRISTAT?']\n",
      "894 : ['Which is the sector of the software publisher for Horticultural classification of tulip cultivars?']\n",
      "895 : ['Is the watershed area of the rio de Santa Maria Zobenigo greater than 0.00083176?']\n"
     ]
    },
    {
     "name": "stdout",
     "output_type": "stream",
     "text": [
      "896 : ['Who owns Disneyland and who is it named after?']\n",
      "897 : ['TELL ME SEASON WHOSE NAME HAS THE WORD WINTER IN IT.']\n",
      "898 : ['Since when was Manichaeism found in Egypt?']\n"
     ]
    },
    {
     "name": "stdout",
     "output_type": "stream",
     "text": [
      "899 : ['Which is the OS grid reference for Bradford?']\n",
      "900 : ['Which is the {eye color} of the {hair color} of {Xi_Jinping} ?']\n"
     ]
    },
    {
     "name": "stdout",
     "output_type": "stream",
     "text": [
      "901 : ['Which is the Thai cultural heritage ID for Khlong Saen Saeb?']\n",
      "902 : ['What is the date did Midway games publish the video game Pac-Man, and where was it published?']\n"
     ]
    },
    {
     "name": "stdout",
     "output_type": "stream",
     "text": [
      "903 : ['What are Lee Friedlanders national diplomatic relations?']\n"
     ]
    },
    {
     "name": "stdout",
     "output_type": "stream",
     "text": [
      "904 : ['Does the height of the BMW i8 equal 1?']\n",
      "905 : ['What is the connecting line of Chulalongkorn University?']\n",
      "906 : ['Which is the NLP ID for Georgias?']\n"
     ]
    },
    {
     "name": "stdout",
     "output_type": "stream",
     "text": [
      "907 : ['What treatment is Neil Diamond getting for his health issues?']\n",
      "908 : ['Which is the Wikimedia template that populates this category of Gujarati?']\n"
     ]
    },
    {
     "name": "stdout",
     "output_type": "stream",
     "text": [
      "909 : ['What are winged horse which start with the letter p']\n",
      "910 : ['What is the object I.D. of L.L. Zamenhof at the Museum of FAine Arts, Boston?']\n"
     ]
    },
    {
     "name": "stdout",
     "output_type": "stream",
     "text": [
      "911 : ['What is the base of a cube?']\n",
      "912 : ['When did Peter Freuchen join the Social Democrats?']\n"
     ]
    },
    {
     "name": "stdout",
     "output_type": "stream",
     "text": [
      "913 : ['What are the treaty which start with the letter t']\n",
      "914 : ['What are the radiation particles that contain the word cosmic in their names ?']\n"
     ]
    },
    {
     "name": "stdout",
     "output_type": "stream",
     "text": [
      "915 : ['Is the position angle of northwest by north equal to 391.5?']\n",
      "916 : ['Which isotope of indium has the most parity?']\n"
     ]
    },
    {
     "name": "stdout",
     "output_type": "stream",
     "text": [
      "917 : ['whos is owner of the kiss that have members of is g20']\n",
      "918 : ['how many activated neurotransmitters are in y-aminobutyric acid?']\n",
      "919 : ['Which antiparticle of the antineutron has the longest mean lifetime ?']\n"
     ]
    },
    {
     "name": "stdout",
     "output_type": "stream",
     "text": [
      "920 : ['IS THE SERVICE LIFE OF THE AMBATOVY MINE EQUALS 29']\n",
      "921 : ['Who are the writers and collaborators to Chris Odom?']\n",
      "922 : ['What was in the aspect of the instruction set architecture whose painter was Gerrit Blaauw?']\n"
     ]
    },
    {
     "name": "stdout",
     "output_type": "stream",
     "text": [
      "923 : ['What is the number of those maintained by Fukuoka?']\n",
      "924 : ['what is magnetic moment for electorn?']\n",
      "925 : ['Who is the {municipal archive} for {archives at} of {Aachen}']\n"
     ]
    },
    {
     "name": "stdout",
     "output_type": "stream",
     "text": [
      "926 : ['Which award was received by Andrew Scott for his fictitious character Sherlock?']\n",
      "927 : ['Tell me hole that contains the word d']\n"
     ]
    },
    {
     "name": "stdout",
     "output_type": "stream",
     "text": [
      "928 : ['Who is the candidacy in election for United States Congress?']\n",
      "929 : ['Which is {marry} of {Cassiopeia}, who {has son} is {Andromeda} ?']\n",
      "930 : ['What is the unemployment rate of the candidate on the Eastern Front?']\n",
      "931 : ['How many country citizenship are taken by Antonio José de Sucre Farell?']\n"
     ]
    },
    {
     "name": "stdout",
     "output_type": "stream",
     "text": [
      "932 : ['Which son of Isaac has a son named Shuah?']\n"
     ]
    },
    {
     "name": "stdout",
     "output_type": "stream",
     "text": [
      "933 : ['Which is Japanese Baseball Hall of Fame ID for Hideo Nomo?']\n",
      "934 : ['When did Pedro Is child Princess Januária of Brazil die, and who was her mother?']\n",
      "935 : ['Which CAF Champions League has the highest number of points/goals/set scored?']\n",
      "936 : ['Is it true that the thermal diffusivity of adobe is less than 0.216?']\n"
     ]
    },
    {
     "name": "stdout",
     "output_type": "stream",
     "text": [
      "937 : ['What town is twinned with 2NE1?']\n"
     ]
    },
    {
     "name": "stdout",
     "output_type": "stream",
     "text": [
      "938 : ['What country related to Israel has the highest debt related to GDP?']\n",
      "939 : ['Is it true that the caliber of Ehrhardt 7.5 cm Model 1901 equals to 60?']\n"
     ]
    },
    {
     "name": "stdout",
     "output_type": "stream",
     "text": [
      "940 : ['Is the individual tax rate in Sweden 25%?']\n"
     ]
    },
    {
     "name": "stdout",
     "output_type": "stream",
     "text": [
      "941 : ['How much did Ellyse Perry score when playing for which team?']\n",
      "942 : ['Which is the mathematical formula of the shape of the cooling tower?']\n",
      "943 : ['Hoe many programming languages  are supported by logo?']\n",
      "944 : ['Which is the date of burial or cremation of Miloš Forman?']\n",
      "945 : ['The Kingdom of Hawaii utilizes the base currency of which government or authority?']\n"
     ]
    },
    {
     "name": "stdout",
     "output_type": "stream",
     "text": [
      "946 : ['Which is the fictional universe which takes place in the fictional universe of The Matrix?']\n",
      "947 : ['What is SCTs HomoloGene ID?']\n"
     ]
    },
    {
     "name": "stdout",
     "output_type": "stream",
     "text": [
      "948 : ['Which are the first aid measures of petroleum jelly?']\n"
     ]
    },
    {
     "name": "stdout",
     "output_type": "stream",
     "text": [
      "949 : ['Which is the {country for sport} and the {sport} of {Novak_Djokovic} ?']\n"
     ]
    },
    {
     "name": "stdout",
     "output_type": "stream",
     "text": [
      "950 : ['Name an art genre that contains the word ballet in its name']\n",
      "951 : ['Is the format for regular expression for red, R?']\n",
      "952 : ['Is Mary I of England a sibling of Edward VI of England?']\n"
     ]
    },
    {
     "name": "stdout",
     "output_type": "stream",
     "text": [
      "953 : ['What are the linguistic typology and grammatical gender of Spanish language?']\n",
      "954 : ['Which is {location born} of {concubine} {Margaret Rudd} ?']\n"
     ]
    },
    {
     "name": "stdout",
     "output_type": "stream",
     "text": [
      "955 : ['What is the excipient with the highest kinematic viscosity whose safety classification and labelling is NFPA 704: Standard System for the Identification of the Hazards of Materials for Emergency Response?']\n",
      "956 : ['Who has surname as Mireille Mathieu and similar to Matias?']\n"
     ]
    },
    {
     "name": "stdout",
     "output_type": "stream",
     "text": [
      "957 : ['What is Léopold Sédar Senghors Dialnet author ID?']\n",
      "958 : ['What are the winged horse which start with the letter pegasus']\n",
      "959 : ['What kind of steam engine was invented by james Watt']\n",
      "960 : ['Where is {disciples} of {Nadia Boulanger}, which has {location of death} is {Azores} ?']\n"
     ]
    },
    {
     "name": "stdout",
     "output_type": "stream",
     "text": [
      "961 : ['Is the lighthouse range of South Channel Pile Light less than 2.4?']\n",
      "962 : ['What is the monument with the highest luminous intensity whose heritage designation is Rijksmonument?']\n"
     ]
    },
    {
     "name": "stdout",
     "output_type": "stream",
     "text": [
      "963 : ['When was Athens, Greece founded?']\n",
      "964 : ['What position did Félix Faure hold before he was replaced by Émile Loubet?']\n"
     ]
    },
    {
     "name": "stdout",
     "output_type": "stream",
     "text": [
      "965 : ['What is the document published by the National Constituent Assembly that contains the word citizen in its name']\n"
     ]
    },
    {
     "name": "stdout",
     "output_type": "stream",
     "text": [
      "966 : ['What is alphabet  language signed of  Ōe no Yoshitoki ?']\n",
      "967 : ['Who was the sister of Henry V, the Holy Roman Emperor during his death in the year of 1101-7-27?']\n"
     ]
    },
    {
     "name": "stdout",
     "output_type": "stream",
     "text": [
      "968 : ['In which language of work or name do heart has a pronunciation audio as Ru-сердце.ogg?']\n",
      "969 : ['Is the annual energy output of the Greater Gabbard wind farm equal to 1800?']\n",
      "970 : ['What award did Carrie Underwood receive in 2007?']\n"
     ]
    },
    {
     "name": "stdout",
     "output_type": "stream",
     "text": [
      "971 : ['Tell me excipient whose name has the word xylitol in it.']\n"
     ]
    },
    {
     "name": "stdout",
     "output_type": "stream",
     "text": [
      "972 : ['Is it true that the maximal incubation period in humans with leprosy equals to 21?']\n",
      "973 : ['Tell me the position held by Joseph Lister, 1st Baron Lister in the year 1902 and thereafter.']\n",
      "974 : ['Which is the summit of the highest point of Shanghai?']\n"
     ]
    },
    {
     "name": "stdout",
     "output_type": "stream",
     "text": [
      "975 : ['Is The New York Times published in Manhattan, New York City?']\n",
      "976 : ['Which is the AFL Tables coach ID for Ron Barassi?']\n"
     ]
    },
    {
     "name": "stdout",
     "output_type": "stream",
     "text": [
      "977 : ['What item was used in the coincident of the human body?']\n",
      "978 : ['Is Spains unemployment rate 25?']\n",
      "979 : ['What awards has Loretta Lynn won?']\n",
      "980 : ['Which the {subject has role} and the {location of discovery} of {Iodine} ?']\n",
      "981 : ['Which is the crystal habit for albite?']\n",
      "982 : ['Which is the automobile model as the vehicle normally used by Elizabeth II?']\n"
     ]
    },
    {
     "name": "stdout",
     "output_type": "stream",
     "text": [
      "983 : ['What is the location of the Honda headquarters with the postal code 107-8556?']\n",
      "984 : ['What theatre did Frank Gehry design?']\n",
      "985 : ['Where was Henry Cabot Lodge educated and what did he major in?']\n"
     ]
    },
    {
     "name": "stdout",
     "output_type": "stream",
     "text": [
      "986 : ['Give the name of the hill with the highest isolation whose is at a high range.']\n",
      "987 : ['What was Carol Ann Duffy nominated for in 2011?']\n"
     ]
    },
    {
     "name": "stdout",
     "output_type": "stream",
     "text": [
      "988 : ['What is the member of a sports team of Iker Casillas that starts January 1st, 1991?']\n",
      "989 : ['What is Fawlty Towers AlloCine series ID?']\n"
     ]
    },
    {
     "name": "stdout",
     "output_type": "stream",
     "text": [
      "990 : ['Which is the EIDR identifier of E.T. the Extra-Terrestrial?']\n",
      "991 : ['How many street addresses are located in the {FIFA} ?']\n"
     ]
    },
    {
     "name": "stdout",
     "output_type": "stream",
     "text": [
      "992 : ['Who is the son of master Lou Harrison?']\n",
      "993 : ['What award did Zadie Smith receive in 2006?']\n"
     ]
    },
    {
     "name": "stdout",
     "output_type": "stream",
     "text": [
      "994 : ['When did Ryan Giggs become a member of the Manchester United F.C.?']\n"
     ]
    },
    {
     "name": "stdout",
     "output_type": "stream",
     "text": [
      "995 : ['Which {musical instrument} of {musician}  is used on {A Theme from The Threepenny Opera} ?']\n",
      "996 : ['Is it true that the residence time of water in Tai Lake equals 0.79?']\n"
     ]
    },
    {
     "name": "stdout",
     "output_type": "stream",
     "text": [
      "997 : ['What is the medium used by textile artists?']\n",
      "998 : ['Did Ryan Gosling receive an award at 19th Satellite Awards?']\n",
      "999 : ['What playing range does the alto saxophone have?']\n"
     ]
    },
    {
     "name": "stdout",
     "output_type": "stream",
     "text": [
      "1000 : ['na']\n",
      "1001 : ['Who is the {island nation} for {participant} of {North African Campaign}']\n"
     ]
    },
    {
     "name": "stdout",
     "output_type": "stream",
     "text": [
      "1002 : ['what is mineral species distributed by ccs  and also which starts with letter p']\n",
      "1003 : ['Who is the child of William Jennings Bryan that has the biological sex of male?']\n"
     ]
    },
    {
     "name": "stdout",
     "output_type": "stream",
     "text": [
      "1004 : ['What is the award received of Harold Pinter that is prized money that is 7 digits']\n",
      "1005 : ['What is the taxon synonym of angiosperms?']\n",
      "1006 : ['What does Pinocchio appear in the form of?']\n"
     ]
    },
    {
     "name": "stdout",
     "output_type": "stream",
     "text": [
      "1007 : ['Is it true that the suicide rate of Nara Prefecture equals to 20.736?']\n"
     ]
    },
    {
     "name": "stdout",
     "output_type": "stream",
     "text": [
      "1008 : ['What genre of music is in the series titled Bound?']\n"
     ]
    },
    {
     "name": "stdout",
     "output_type": "stream",
     "text": [
      "10091010 : ['Which religious book is represented in Melchizedeks work?']\n",
      " : ['What is the rank was held by Jimmy connors as tennis singles?']\n",
      "1011 : ['Which rare disease killed Lou Gehrig?']\n"
     ]
    },
    {
     "name": "stdout",
     "output_type": "stream",
     "text": [
      "1012 : ['What are the comics character which start with the letter viper']\n"
     ]
    },
    {
     "name": "stdout",
     "output_type": "stream",
     "text": [
      "1013 : ['What is the daughter of Leopold II, Holy Roman Emperor, whose sister is Maria Anna dAsburgo-Lorena?']\n"
     ]
    },
    {
     "name": "stdout",
     "output_type": "stream",
     "text": [
      "1014 : ['What is the CPI inflation rate of the endemic to of  the Indian cuisine ?']\n",
      "1015 : ['Tell me cyprinus rubrofuscus whose name has the word koi in it.']\n",
      "1016 : ['How many speeches were done by Ronald Reagan?']\n",
      "1017 : ['When did Henry Steele Commager receive his education from the University of Chicago ?']\n"
     ]
    },
    {
     "name": "stdout",
     "output_type": "stream",
     "text": [
      "1018 : ['Who is the {gene} for {genetic association} of {allergic rhinitis}']\n",
      "1019 : ['How many Doctor Who spin-offs are there?']\n"
     ]
    },
    {
     "name": "stdout",
     "output_type": "stream",
     "text": [
      "1020 : ['How many out of school children are there in Eritrea?']\n"
     ]
    },
    {
     "name": "stdout",
     "output_type": "stream",
     "text": [
      "1021 : ['Is the gestation period of the Gorilla less than 324.0?']\n",
      "1022 : ['Which is tributary for Sea of Okhotsk having gps coordinate of 51.49694445 156.4758333?']\n"
     ]
    },
    {
     "name": "stdout",
     "output_type": "stream",
     "text": [
      "1023 : ['What does social science essentially study?']\n"
     ]
    },
    {
     "name": "stdout",
     "output_type": "stream",
     "text": [
      "1024 : ['Which is the Eurovision Song Contest song ID for Celine Dion?']\n",
      "1025 : ['What are the Wikimedia set index article which start with the letter typhoon']\n",
      "1026 : ['How many langues does Kamal Haasan speak?']\n"
     ]
    },
    {
     "name": "stdout",
     "output_type": "stream",
     "text": [
      "1027 : ['What is the birthday of Abigail Adams who has a child named Abigail Adams Smith?']\n",
      "1028 : ['What specimen type does Piper nigrum belong to?']\n"
     ]
    },
    {
     "name": "stdout",
     "output_type": "stream",
     "text": [
      "1029 : ['What was the population of Little Rock as of 2/4/1935?']\n",
      "1030 : ['In 1939, what country did Marlene Dietrich become a citizen of?']\n",
      "1031 : ['Where is the governmental capital of Ujjinakoppa?']\n"
     ]
    },
    {
     "name": "stdout",
     "output_type": "stream",
     "text": [
      "1032 : ['When was the {official trip} for {participant} of {Emmanuel Macron}?']\n",
      "1033 : ['How many platforms does Tomb Raider have?']\n"
     ]
    },
    {
     "name": "stdout",
     "output_type": "stream",
     "text": [
      "1034 : ['What is the birth place of Annie Oakley, is it correct that it has 52501.0 inhabitants?']\n",
      "1035 : ['What is the wikipedia article for the Autobahn?']\n"
     ]
    },
    {
     "name": "stdout",
     "output_type": "stream",
     "text": [
      "1036 : ['What field does Fernand Maillaud work in?']\n",
      "1037 : ['Which school did Mao Zedong attend starting January 1, 1912?']\n",
      "1038 : ['What is a product of the automotive industry that is similar to a power-driven vehicle?']\n",
      "1039 : ['Who wrote Strange Case of Dr Jekyll and Mr Hyde ?']\n"
     ]
    },
    {
     "name": "stdout",
     "output_type": "stream",
     "text": [
      "1040 : ['what is in the modified version  of Over the Rainbow ?']\n"
     ]
    },
    {
     "name": "stdout",
     "output_type": "stream",
     "text": [
      "1041 : ['When did Shivaji and Sakavaarbai become married?']\n",
      "1042 : ['In what historical period was Ancient Rome set ?']\n"
     ]
    },
    {
     "name": "stdout",
     "output_type": "stream",
     "text": [
      "1043 : ['What is the time of the day in year of Easter?']\n",
      "1044 : ['How does it emulates in the {PlayStation} ?']\n",
      "1045 : ['How many architects worked on the St. Peters Basilica?']\n"
     ]
    },
    {
     "name": "stdout",
     "output_type": "stream",
     "text": [
      "1046 : ['Which is the FIPS 55-3 (locations in the US) of Fresno?']\n"
     ]
    },
    {
     "name": "stdout",
     "output_type": "stream",
     "text": [
      "1047 : ['Which county seat of Lan Xang has STD code of 071?']\n"
     ]
    },
    {
     "name": "stdout",
     "output_type": "stream",
     "text": [
      "1048 : ['What is the Unifrance ID for The Wages of Fear?']\n",
      "1049 : ['When did Bono receive the TED Prize, and how much was he awarded as recipient?']\n",
      "1050 : ['Which is the LIPID MAPS ID for abscisic acid?']\n",
      "1051 : ['Which is the period The Great Gatsby was set in?']\n",
      "1052 : ['Which of the chemical compounds with an active ingredient of Qutenza has the highest Scoville grade?']\n"
     ]
    },
    {
     "name": "stdout",
     "output_type": "stream",
     "text": [
      "1053 : ['What is the gender of Kartikeya whose symbol is also ♂?']\n",
      "1054 : ['What college did Virgil Thomson attend?']\n"
     ]
    },
    {
     "name": "stdout",
     "output_type": "stream",
     "text": [
      "1055 : ['Who is {club manager} of {actress} of {WrestleMania III} ?']\n",
      "1056 : ['Did Louis VI of France die at the Chateau de la Douye?']\n",
      "1057 : ['Which is the scientific academic field of Zdzisław Szymański?']\n"
     ]
    },
    {
     "name": "stdout",
     "output_type": "stream",
     "text": [
      "1058 : ['Which polytheistic religion did the Etruschi follow?']\n",
      "1059 : ['Which is the male given name for the language of work in Russian?']\n"
     ]
    },
    {
     "name": "stdout",
     "output_type": "stream",
     "text": [
      "1060 : ['What is the VAT rate in Hungary?']\n",
      "1061 : ['What written by creator of The Adventures of Tintin, has been prize awarded as the Officer of the Order of the Crown?']\n",
      "1062 : ['What is the birthplace of Konrad Adenauer, which is bordered by the Rhein-Berg District?']\n"
     ]
    },
    {
     "name": "stdout",
     "output_type": "stream",
     "text": [
      "1063 : ['What is the biography in Gerhard Schröders German Bundestag?']\n"
     ]
    },
    {
     "name": "stdout",
     "output_type": "stream",
     "text": [
      "1064 : ['Who replaced Charles Evans Hughes as the Chief Justice of The United States?']\n",
      "1065 : ['When was Chiang Kai-Shek elected and what was his major cause when he ran for President of the Republic of China?']\n"
     ]
    },
    {
     "name": "stdout",
     "output_type": "stream",
     "text": [
      "1066 : ['Who are the children and siblings of Alan Alda?']\n",
      "1067 : ['What is L-Tyrosine encoded by']\n"
     ]
    },
    {
     "name": "stdout",
     "output_type": "stream",
     "text": [
      "1068 : ['Did Miles Davis record and label the RCA and Capitol Records?']\n"
     ]
    },
    {
     "name": "stdout",
     "output_type": "stream",
     "text": [
      "1069 : ['What was Claudette Colbert nominated for in the 8th Academy Awards?']\n",
      "1070 : ['How many game modes are by a MMO game?']\n",
      "1071 : ['When did Ana Kasparian graduate from California State University, Northridge?']\n",
      "1072 : ['What is the location and height of the pole vault recorded by Eliza McCartney?']\n"
     ]
    },
    {
     "name": "stdout",
     "output_type": "stream",
     "text": [
      "1073 : ['What award did Ken Thompson receive on January 1st, 1983?']\n",
      "1074 : ['Which is the cuisine for the veganism cuisine?']\n",
      "1075 : ['What was the population of Bermuda on 0-0-1988?']\n"
     ]
    },
    {
     "name": "stdout",
     "output_type": "stream",
     "text": [
      "1076 : ['What award was Dianne Wiest nominated for at the 67th Academy Awards?']\n",
      "1077 : ['What political border does the Congress of Vienna have cause to be interested in?']\n"
     ]
    },
    {
     "name": "stdout",
     "output_type": "stream",
     "text": [
      "1078 : ['What is the short-term exposure limit of chloroform over a 60-minute period?']\n"
     ]
    },
    {
     "name": "stdout",
     "output_type": "stream",
     "text": [
      "1079 : ['Where is the resting place of dedication of the Church of St Peter?']\n",
      "1080 : ['Whos home town is New York City and made the musical score from The Rite of Spring?']\n",
      "1081 : ['What is the name of the music festival that is based on Sanremo Music Festival and that starts with the letter c?']\n"
     ]
    },
    {
     "name": "stdout",
     "output_type": "stream",
     "text": [
      "1082 : ['Which in {battle} {has daughter} of {Yeon Taejo} ?']\n",
      "1083 : ['What position and sports team does Thierry Henry play on?']\n"
     ]
    },
    {
     "name": "stdout",
     "output_type": "stream",
     "text": [
      "1084 : ['Which is the metasublass for diaspora?']\n",
      "1085 : ['What are the form of government which start with the letter unicameralism']\n"
     ]
    },
    {
     "name": "stdout",
     "output_type": "stream",
     "text": [
      "1086 : ['Which Chinese character has the tallest stroke count?']\n",
      "1087 : ['How many sponsors are for Juventus F.C.?']\n",
      "1088 : ['Who is in the film Miami Vice that was born on December 15, 1949?']\n"
     ]
    },
    {
     "name": "stdout",
     "output_type": "stream",
     "text": [
      "1089 : ['How many processor cores does Xbox one have?']\n",
      "1090 : ['When and what was the award received by John Galsworthy?']\n",
      "1091 : ['How many people are head of the government for {German Democratic Republic} ?']\n",
      "1092 : ['WHat does biology study ?']\n"
     ]
    },
    {
     "name": "stdout",
     "output_type": "stream",
     "text": [
      "1093 : ['What is physiology comprised of?']\n",
      "1094 : ['How many people have a facet of their Suriname?']\n",
      "1095 : ['What are the titles of The X-Files episodes?']\n"
     ]
    },
    {
     "name": "stdout",
     "output_type": "stream",
     "text": [
      "1096 : ['Does Iowa have the nickname the Hawkeye State?']\n",
      "1097 : ['What muncipality of Norway starts with the letter ø?']\n"
     ]
    },
    {
     "name": "stdout",
     "output_type": "stream",
     "text": [
      "1098 : ['who is the head of government of Vancouver?']\n",
      "1099 : ['Who bought 4chan in 2015?']\n"
     ]
    },
    {
     "name": "stdout",
     "output_type": "stream",
     "text": [
      "1100 : ['Name a film shot in New York that starts with letter S']\n",
      "1101 : ['When was William Golding awarded the Nobel Prize in Literature and how much did he get for it ?']\n",
      "1102 : ['Which is the union for administrative territorial entity?']\n"
     ]
    },
    {
     "name": "stdout",
     "output_type": "stream",
     "text": [
      "1103 : ['Who got the noble title of monarch of Italy before and after Lothair I.']\n",
      "1104 : ['What region does Leo Visser compete in?']\n",
      "1105 : ['What is the supplementary intercardinal direction with the highest angle opposite of east-northeast?']\n"
     ]
    },
    {
     "name": "stdout",
     "output_type": "stream",
     "text": [
      "1106 : [': Does Zhigulevskoye has alcohol by volume equal to 4.8']\n",
      "1107 : ['What songs are on the tracklist of Led Zeppelin IV?']\n"
     ]
    },
    {
     "name": "stdout",
     "output_type": "stream",
     "text": [
      "1108 : ['what position did colin renfrew hold in 2004-0-0?']\n",
      "1109 : ['Does the proton have a magnetic moment that is equal to 0.0015210322053?']\n"
     ]
    },
    {
     "name": "stdout",
     "output_type": "stream",
     "text": [
      "1110 : ['What is the Sister City of the final resting place of Hafsa bint Umar?']\n",
      "1111 : ['When was BP the headquarters location of London?']\n",
      "1112 : ['Does the elevation above sea level of the Beemster equal 4?']\n",
      "1113 : ['What is on the coast of Aleutian Islands, that has a tributary in Los Angeles River?']\n",
      "1114 : ['What is the height record held by Renaud Lavillenie?']\n",
      "1115 : ['What tributary of the Oka River can be found at the GPS location of 37.0012?']\n"
     ]
    },
    {
     "name": "stdout",
     "output_type": "stream",
     "text": [
      "1116 : ['What are the Luther city which start with the letter w']\n"
     ]
    },
    {
     "name": "stdout",
     "output_type": "stream",
     "text": [
      "1117 : ['Is Estadio do Maracana a home venue?']\n",
      "1118 : ['Foil is used in what type of sports competition?']\n"
     ]
    },
    {
     "name": "stdout",
     "output_type": "stream",
     "text": [
      "11191120 : ['What is the public company with the most debt subsidized by Carrefour Bio?']\n",
      " : ['Who is The X-Files creator and executive producer?']\n",
      "1121 : ['Which is the listed ingredient for vitamin E?']\n"
     ]
    },
    {
     "name": "stdout",
     "output_type": "stream",
     "text": [
      "1122 : ['What species was found to be the host of the hypothetical protein Mb0514?']\n",
      "1123 : ['who inhabitants} of state of mbuji-mayi ?']\n"
     ]
    },
    {
     "name": "stdout",
     "output_type": "stream",
     "text": [
      "1124 : ['Is the total expenditure of the Central Catholic High School 4169127.6?']\n",
      "1125 : ['WHO COMES BEFORE OR AFTER ESTONIAN SOVIET SOCIALIST REPBULIC?']\n"
     ]
    },
    {
     "name": "stdout",
     "output_type": "stream",
     "text": [
      "1126 : ['How many things are founded by Oprah Winfrey?']\n",
      "1127 : ['Mention the fictional human character murdered by Luke Skywalker']\n",
      "1128 : ['Which religious text did Exodus follow?']\n"
     ]
    },
    {
     "name": "stdout",
     "output_type": "stream",
     "text": [
      "1129 : ['Who is appointed by the United Nations Secretary-General?']\n",
      "1130 : ['Name an online dictionary written by John Simpson that contains the word dictionnary in its name']\n",
      "1131 : ['Which is {detail map} of {Europe} where {media legend} is {topography of Europe} ?']\n"
     ]
    },
    {
     "name": "stdout",
     "output_type": "stream",
     "text": [
      "1132 : ['What file format is used by the programming language SQL?']\n"
     ]
    },
    {
     "name": "stdout",
     "output_type": "stream",
     "text": [
      "1133 : ['Who is Nicole Richies mother?']\n",
      "1134 : ['What is the personal name of David Eddings is it said to be different From Taavet?']\n",
      "1135 : ['What was the population of Burundi in 1992?']\n",
      "1136 : ['Who is the  {Turkish bath} for {named after} of {Suleiman the Magnificent}']\n"
     ]
    },
    {
     "name": "stdout",
     "output_type": "stream",
     "text": [
      "1137 : ['Who is the player that participated in Barbora Spotakova?']\n",
      "1138 : ['Which is the fruit type of nut?']\n",
      "1139 : ['Which port has the highest production rate?']\n",
      "1140 : ['Was the lowest atmospheric pressure recorded during the 1935 Labor Day Hurricane higher than 1070.4?']\n"
     ]
    },
    {
     "name": "stdout",
     "output_type": "stream",
     "text": [
      "1141 : ['Who gave the{takes places during} of {previous is} of {New Year} ?']\n",
      "1142 : ['What is capital of Ōtsu ?']\n"
     ]
    },
    {
     "name": "stdout",
     "output_type": "stream",
     "text": [
      "1143 : ['When was Bangalore part of the Mysore State?']\n",
      "1144 : ['What type of spice is cuminum cyminum?']\n"
     ]
    },
    {
     "name": "stdout",
     "output_type": "stream",
     "text": [
      "1145 : ['State the confederation of Jefferson Davis?']\n",
      "1146 : ['When did Ernest Renan become a member of the Hungarian Academy of Sciences?']\n",
      "1147 : ['What was the {manner of death} and the {cause of death} of {Paul_Allen} ?']\n",
      "1148 : ['Which is {characters} of {software framework} {Civilization VI: Rise and Fall} ?']\n"
     ]
    },
    {
     "name": "stdout",
     "output_type": "stream",
     "text": [
      "1149 : ['Where does Gloria Estefan work and where did her formation occur?']\n",
      "1150 : ['What award did Hume Cronyn recieve in 1964?']\n",
      "1151 : ['What aspect of mysticism is distinguished from dharma?']\n"
     ]
    },
    {
     "name": "stdout",
     "output_type": "stream",
     "text": [
      "1152 : ['What are the analytic function which start with the letter function']\n",
      "1153 : ['DOES THE NUMBER OF CYLINDERS OF THE KKSTB 197 EQUALS 2']\n",
      "1154 : ['What is the type of procedure for the taxonomy of Durio']\n"
     ]
    },
    {
     "name": "stdout",
     "output_type": "stream",
     "text": [
      "1155 : ['Who worked as the manager/director of École Normale Supérieure?']\n",
      "1156 : ['Is it true that the number of episodes of Mansfield Park is greater than 0.8?']\n"
     ]
    },
    {
     "name": "stdout",
     "output_type": "stream",
     "text": [
      "1157 : ['Which of Grace Kellys works had earned her a nomination for an Academy Award for the Best Actress?']\n",
      "1158 : ['What is the national necropolis in France with the highest quantity buried whose located in the administrative territorial entity is Souain-Perthes-lès-Hurlus?']\n"
     ]
    },
    {
     "name": "stdout",
     "output_type": "stream",
     "text": [
      "1159 : ['What is the JMA Seismic Intensity Database ID for the 2011 Tohoku Earthquake and tsunami?']\n"
     ]
    },
    {
     "name": "stdout",
     "output_type": "stream",
     "text": [
      "1160 : ['Which is measured by  quantity of erg ?']\n",
      "1161 : ['Was Aristotle a student of Heraclitus?']\n",
      "1162 : ['What is the namesake of the Riemann zeta function, which has the Cauchy–Euler equation in its significant works?']\n",
      "1163 : ['What relative or kinship is the first cousin once removed descending of Salvador Allende?']\n"
     ]
    },
    {
     "name": "stdout",
     "output_type": "stream",
     "text": [
      "1164 : ['What fictional universe did Green Lantern take place in and who create Green Lantern?']\n",
      "1165 : ['Tell me sport discipline whose name has the word  wheelchair in it.']\n"
     ]
    },
    {
     "name": "stdout",
     "output_type": "stream",
     "text": [
      "1166 : ['Tell me the method for determining hypertension with a CACNB2 genetic association?']\n"
     ]
    },
    {
     "name": "stdout",
     "output_type": "stream",
     "text": [
      "1167 : ['When is {date of death} of {Luca Pacioli} whose {earliest date} is {1517-4-0} ?']\n"
     ]
    },
    {
     "name": "stdout",
     "output_type": "stream",
     "text": [
      "1168 : ['Who is the member of Canada that was elected on January 1st, 1966?']\n"
     ]
    },
    {
     "name": "stdout",
     "output_type": "stream",
     "text": [
      "1169 : ['Who did Diane von Furstenberg marry in 1969MacGraw']\n",
      "1170 : ['Which is Agassiz checklist number for Danaus plexippus?']\n"
     ]
    },
    {
     "name": "stdout",
     "output_type": "stream",
     "text": [
      "1171 : ['In what instances has Fernando Pessoa been compared to Jean Seul de Méluret?']\n",
      "1172 : ['Where did Walter Scott die?']\n"
     ]
    },
    {
     "name": "stdout",
     "output_type": "stream",
     "text": [
      "1173 : ['Which is the KOATUU identifier for Cherkasy Oblast?']\n",
      "1174 : ['How many courts are there in the Supreme Court of Canada?']\n",
      "1175 : ['Who is related to Kate Spade?']\n"
     ]
    },
    {
     "name": "stdout",
     "output_type": "stream",
     "text": [
      "1176 : ['How many discoveries have been made concerning radial velocity?']\n"
     ]
    },
    {
     "name": "stdout",
     "output_type": "stream",
     "text": [
      "1177 : ['Of what sports team is Kenny Dalglish a member and how many matches has he played?']\n",
      "1178 : ['What Arctic oscillation blizzard had the lowest level of precipitation ?']\n",
      "1179 : ['Who is the  {political party} for {member of political party} of {Fidel Castro}']\n"
     ]
    },
    {
     "name": "stdout",
     "output_type": "stream",
     "text": [
      "1180 : ['Who is the brother or sister of George II of Great Britain?']\n"
     ]
    },
    {
     "name": "stdout",
     "output_type": "stream",
     "text": [
      "1181 : ['Is the fee of Ueno Zoo equal to 300?']\n",
      "1182 : ['What is prescribed drug of academic field of oncology?']\n"
     ]
    },
    {
     "name": "stdout",
     "output_type": "stream",
     "text": [
      "1183 : ['How many children are out of school at Wish You a Merry Christmas?']\n",
      "1184 : ['How many space missions did Yury Romanenko complete?']\n",
      "1185 : ['In what sport is Lin Dan ranked number one?']\n"
     ]
    },
    {
     "name": "stdout",
     "output_type": "stream",
     "text": [
      "1186 : ['Waht actors are in Romance Revisited: The Songs of Jose Mari Chan?']\n"
     ]
    },
    {
     "name": "stdout",
     "output_type": "stream",
     "text": [
      "1187 : ['What is the political party that Hillary Clinton is a member of?']\n",
      "1188 : ['What is the parent company of New York State University (that has co-ords of -33.1911)?']\n",
      "1189 : ['Captain Gerry Brisson plays for what?']\n"
     ]
    },
    {
     "name": "stdout",
     "output_type": "stream",
     "text": [
      "1190 : ['chupenme la pija giles ndeahhre is written in what language?']\n",
      "1191 : ['Who is the parent company of the label of Carabao?']\n"
     ]
    },
    {
     "name": "stdout",
     "output_type": "stream",
     "text": [
      "1192 : ['Is the global-warming potential of octafluorocyclobutane greater than 10440?']\n",
      "1193 : ['What was the maker of the art of sculpture a proponent of?']\n"
     ]
    },
    {
     "name": "stdout",
     "output_type": "stream",
     "text": [
      "11941195 : ['What is the used language of Jack Nicklaus, that has AWLD statues and is 1 safe?']\n",
      " : ['Name the listed Salzburg town monuments containing the word Salzburg in their name.']\n",
      "1196 : ['What is the monomer of polyvinyl chloride']\n",
      "1197 : ['Tell me me a municipality whose name consist of the word barcelona and whose patron saint Virgin Mary']\n"
     ]
    },
    {
     "name": "stdout",
     "output_type": "stream",
     "text": [
      "1198 : ['Which is the constituency of the Rajya Sabha of the coextensive with Karnataka?']\n"
     ]
    },
    {
     "name": "stdout",
     "output_type": "stream",
     "text": [
      "1199 : ['Which is the enterprise that operates the American Broadcasting Company?']\n",
      "1200 : ['What is the railway gun with min muscle velocity whose country is France']\n",
      "1201 : ['Which is the group that caused the Congress of Vienna?']\n",
      "1202 : ['Which is the statue for the foundational text of Soviet Union?']\n"
     ]
    },
    {
     "name": "stdout",
     "output_type": "stream",
     "text": [
      "1203 : ['How many payment types are now accepted for your money?']\n"
     ]
    },
    {
     "name": "stdout",
     "output_type": "stream",
     "text": [
      "1204 : ['Is it true that the highest break of Jak Jones equals to 139?']\n"
     ]
    },
    {
     "name": "stdout",
     "output_type": "stream",
     "text": [
      "1205 : ['What is the kinship with the lowest family relationship degree whose series is Ahnentafel ?']\n",
      "1206 : ['what is highly urbanized city language used by tagalog and also which starts with letter v']\n",
      "1207 : ['Who replaced Thurgood Marshall as the Associate Justice of the Supreme Court of the US?']\n"
     ]
    },
    {
     "name": "stdout",
     "output_type": "stream",
     "text": [
      "1208 : ['What awarded Peter Sellers was nominated for at 37th Academy Awards?']\n",
      "1209 : ['Tell me  the mantra that contains the word mantra in their name.']\n",
      "1210 : ['What twinned administrative body of Queensland started on October 10th, 1984?']\n",
      "1211 : ['What part of the Jubba River has a coordinate location of 4.1783333333333 by 42.08?']\n"
     ]
    },
    {
     "name": "stdout",
     "output_type": "stream",
     "text": [
      "1212 : ['What was the HH-60 Jayhawk developed from?']\n",
      "1213 : ['What is the quality of old age?']\n",
      "1214 : ['What is the INEGI municipality ID of Tlalnepantla de Baz?']\n"
     ]
    },
    {
     "name": "stdout",
     "output_type": "stream",
     "text": [
      "1215 : ['Who is the author of and who illustrated the cover of Treasure Island?']\n",
      "1216 : ['What is the safety classification and labelling of carbon monoxide thats NFPA Instability is 0?']\n"
     ]
    },
    {
     "name": "stdout",
     "output_type": "stream",
     "text": [
      "1217 : ['Who contributed to the published works of El Mundo?']\n"
     ]
    },
    {
     "name": "stdout",
     "output_type": "stream",
     "text": [
      "1218 : ['What organization did Alexander Pushkin found?']\n"
     ]
    },
    {
     "name": "stdout",
     "output_type": "stream",
     "text": [
      "1219 : ['For what Walter Huston nominated for The Treasure of the Sierra Madre?']\n"
     ]
    },
    {
     "name": "stdout",
     "output_type": "stream",
     "text": [
      "1220 : ['When did Nicolás Maduro start as Secretary General of the Non-Aligned Movement?']\n"
     ]
    },
    {
     "name": "stdout",
     "output_type": "stream",
     "text": [
      "1221 : ['Which FPGA prototype open source hardware has the highest voltage?']\n",
      "1222 : ['In what theatrical field was Allen Ginsberg employed?']\n"
     ]
    },
    {
     "name": "stdout",
     "output_type": "stream",
     "text": [
      "1223 : ['What award did Andre Gide win that had a prize of $146,115?']\n",
      "1224 : ['What is tutor Andreas Vesalius career?']\n",
      "1225 : ['Which role does Markwayne Mullin play in government?']\n",
      "1226 : ['What is located in the landscape of The Scream?']\n"
     ]
    },
    {
     "name": "stdout",
     "output_type": "stream",
     "text": [
      "1227 : ['Which is the academic major and the academic degree of John Updike who was educated at the Harvard University?']\n",
      "1228 : ['Which is the LoC and MARC vocabularies ID of Albania?']\n",
      "1229 : ['Who is the sponsor of Henry Luce?']\n"
     ]
    },
    {
     "name": "stdout",
     "output_type": "stream",
     "text": [
      "1230 : ['What are the business division and subsidiary of American Broadcasting Company?']\n"
     ]
    },
    {
     "name": "stdout",
     "output_type": "stream",
     "text": [
      "1231 : ['When did Yuri Koptev start as the manager and director of the Roscosmos State Corporation?']\n"
     ]
    },
    {
     "name": "stdout",
     "output_type": "stream",
     "text": [
      "1232 : ['Which is the GS1 Manufacturer code for Google?']\n",
      "1233 : ['WHICH IS THE ICE HOCKEY TOURNAMENT THAT CONTAINS THE WORD TROPHY IN THEIR NAME']\n"
     ]
    },
    {
     "name": "stdout",
     "output_type": "stream",
     "text": [
      "1234 : ['When and why was James Matheson elected as Member of the 15th Parliament of the United Kingdom?']\n"
     ]
    },
    {
     "name": "stdout",
     "output_type": "stream",
     "text": [
      "1235 : ['DOES THE EFFECTIVE FIRING RNGE OF THE 70 K EQUALS 13120']\n"
     ]
    },
    {
     "name": "stdout",
     "output_type": "stream",
     "text": [
      "1236 : ['Tell me phantom island  whose name has the word tuanaki in it.']\n"
     ]
    },
    {
     "name": "stdout",
     "output_type": "stream",
     "text": [
      "1237 : ['What game platform of Pac-Man has the latest release version of 4.2.6?']\n"
     ]
    },
    {
     "name": "stdout",
     "output_type": "stream",
     "text": [
      "1238 : ['which series ordinal of osmium tetroxide has ionization energy of 12.6?']\n",
      "1239 : ['was the 2013 german federal election canadidacy age 21.6?']\n"
     ]
    },
    {
     "name": "stdout",
     "output_type": "stream",
     "text": [
      "1240 : ['When did Wuppertal have a population of 345,425?']\n",
      "1241 : ['What is the sign for February in Catalan Sign Language?']\n"
     ]
    },
    {
     "name": "stdout",
     "output_type": "stream",
     "text": [
      "1242 : ['Which musician is successor of Sleeping Beauty.']\n",
      "1243 : ['Tell me town in Croatia whose name has the word šibenik in it.']\n",
      "1244 : ['Which award was Kiefer Sutherland nominated for in 2002?']\n"
     ]
    },
    {
     "name": "stdout",
     "output_type": "stream",
     "text": [
      "1245 : ['Does IBM own Cognos and Mark sense?']\n",
      "1246 : ['What episode preceded Opies Newspapers?']\n",
      "1247 : ['Who is the airline alliance of Singapore Airlines?']\n",
      "1248 : ['Where there 3.2 perpetrators in the Enoch Brown school massacre?']\n"
     ]
    },
    {
     "name": "stdout",
     "output_type": "stream",
     "text": [
      "1249 : ['What are the political system which start with the letter totalitarianism']\n",
      "1250 : ['Who is the sibling of Subutai?']\n",
      "1251 : ['Who publishes the book  Examining the race specific prevelance of hidradenitis suppurativa at a large academic center, results from a retrospective chart review?']\n"
     ]
    },
    {
     "name": "stdout",
     "output_type": "stream",
     "text": [
      "1252 : ['What is  designer of ship armament  in2015 San Bernardino shooting ?']\n",
      "1253 : ['Did Mark David Chapman undergo detention at Attica Correctional Facility and Wende Correctional Facility ?']\n"
     ]
    },
    {
     "name": "stdout",
     "output_type": "stream",
     "text": [
      "1254 : ['Name a basilica of the Italian Gothic architecture style that starst with letter D']\n"
     ]
    },
    {
     "name": "stdout",
     "output_type": "stream",
     "text": [
      "1255 : ['Does cinnamon contain a natural product of taxon called Cinnamomum verum?']\n"
     ]
    },
    {
     "name": "stdout",
     "output_type": "stream",
     "text": [
      "1256 : ['Which is the CPU of Pac-Man?']\n",
      "1257 : ['How many input methods does Minecraft possess?']\n"
     ]
    },
    {
     "name": "stdout",
     "output_type": "stream",
     "text": [
      "1258 : ['Which is the Open Library ID for Albert Ellis?']\n",
      "1259 : ['How many participants are playing with Steffi Graf?']\n"
     ]
    },
    {
     "name": "stdout",
     "output_type": "stream",
     "text": [
      "1260 : ['Who influenced Anna Akhmatova who was born on May 26th, 1799.']\n",
      "1261 : ['Who dubbed the series Pretty, Pretty Dresses?']\n",
      "1262 : ['What award did Brokeback Mountain receive in the 78th Academy Awards?']\n"
     ]
    },
    {
     "name": "stdout",
     "output_type": "stream",
     "text": [
      "1263 : ['What is birth name of Charles Simonyi ?']\n",
      "1264 : ['Who are Sandrart.net artwork ID of Laocoön and His Sons?']\n",
      "1265 : ['Does the 645 Agrippina have a longitude of ascending node equal to 0.16770508344013?']\n",
      "1266 : ['who brother of 1st place medalist of Screen actors guild life achievement award ?']\n"
     ]
    },
    {
     "name": "stdout",
     "output_type": "stream",
     "text": [
      "1267 : ['Tillandsia usneoides has a basionym of what?']\n",
      "1268 : ['Which is the product or the material produced of tomato juice?']\n"
     ]
    },
    {
     "name": "stdout",
     "output_type": "stream",
     "text": [
      "1269 : ['who enterprise for subsidiary of Sears?']\n",
      "1270 : ['What is the human population of the originates of the Charolais cattle?']\n"
     ]
    },
    {
     "name": "stdout",
     "output_type": "stream",
     "text": [
      "1271 : ['What career uses a fishing reel?']\n",
      "1272 : ['What tree is in the Quebec provincial logo?']\n",
      "1273 : ['Is it true that the memory capacity of the diskette equals to 1152?']\n"
     ]
    },
    {
     "name": "stdout",
     "output_type": "stream",
     "text": [
      "1274 : ['Which is DORIS ID for loggerhead sea turtle?']\n",
      "1275 : ['What are the distinguishing features of Carthage that have the feature of -814-0-0?']\n",
      "1276 : ['What is killed by Harry Potter?']\n",
      "1277 : ['Which is FAO 2007 genetic resource ID for Hereford?']\n"
     ]
    },
    {
     "name": "stdout",
     "output_type": "stream",
     "text": [
      "1278 : ['What was Christian Lous Lange nominated for in 1919?']\n",
      "1279 : ['Which is a by-product of offal?']\n"
     ]
    },
    {
     "name": "stdout",
     "output_type": "stream",
     "text": [
      "1280 : ['Which is the public company that has the material produced of Coca-Cola?']\n",
      "1281 : ['What date disbanded for label Calvin Harris ?']\n"
     ]
    },
    {
     "name": "stdout",
     "output_type": "stream",
     "text": [
      "1282 : ['Which is the social of intangible cultural heritage status of the inventory of the immaterial cultural patrimony of France that starts with the letter d?']\n",
      "1283 : ['What is the subdivided into  of the land of Dubrovka ?']\n"
     ]
    },
    {
     "name": "stdout",
     "output_type": "stream",
     "text": [
      "1284 : ['What is MobyGames group ID for The Sims ?']\n"
     ]
    },
    {
     "name": "stdout",
     "output_type": "stream",
     "text": [
      "1285 : ['Does Lauren Bacall belong to Arab and Ashkenzai Jews ethnical groups?']\n"
     ]
    },
    {
     "name": "stdout",
     "output_type": "stream",
     "text": [
      "1286 : ['Tell me about the life of Jesus Christ.']\n"
     ]
    },
    {
     "name": "stdout",
     "output_type": "stream",
     "text": [
      "12871288 : ['What is TORA ID for Uppsala ?']\n",
      " : ['How much acreage is the death place of Saul Bass?']\n"
     ]
    },
    {
     "name": "stdout",
     "output_type": "stream",
     "text": [
      "1289 : ['Who located the administrative territorial entity resting place of Harald III of Norway?']\n",
      "1290 : ['What countries participated in the Battle of France?']\n"
     ]
    },
    {
     "name": "stdout",
     "output_type": "stream",
     "text": [
      "1291 : ['Is the inflation rate of Japan equal to -0.6?']\n"
     ]
    },
    {
     "name": "stdout",
     "output_type": "stream",
     "text": [
      "1292 : ['What is the official symbol of New Brunswick?']\n",
      "1293 : ['What is the CiNii ID for Belvedere?']\n",
      "1294 : ['What is in the  airline hub of Qantas ?']\n",
      "1295 : ['Which is the RKDartists ID of Donatello?']\n",
      "1296 : ['Where is the death place of Gerrit Rietveld located in the district of Themaat?']\n"
     ]
    },
    {
     "name": "stdout",
     "output_type": "stream",
     "text": [
      "1297 : ['Is the electronegativity of the selenium equal to 2.55?']\n",
      "1298 : ['Which is the membership as a member party of Denis Sassou Nguesso?']\n",
      "1299 : ['What is the official name for Taos Pueblo which is designated as a World Heritage Site?']\n"
     ]
    },
    {
     "name": "stdout",
     "output_type": "stream",
     "text": [
      "1300 : ['What member of the Ranjitsinhji sports team joined in 1893 ?']\n",
      "1301 : ['When did Alexander Graham Bell divorce from Mabel Gardiner Hubbard?']\n",
      "1302 : ['Is Dublin located next to the Liffey and the Royal Canal?']\n"
     ]
    },
    {
     "name": "stdout",
     "output_type": "stream",
     "text": [
      "1303 : ['What is Mikhail Botvinniks Israel Chess Federation player ID?']\n",
      "1304 : ['Is the event distance of the diaulos equal to 0.8?']\n"
     ]
    },
    {
     "name": "stdout",
     "output_type": "stream",
     "text": [
      "1305 : ['Which is the AlloCiné person ID for Leslie Howard?']\n",
      "1306 : ['Who is the cast member for the role of Bunny Lebowski in the Big Lebowski?']\n"
     ]
    },
    {
     "name": "stdout",
     "output_type": "stream",
     "text": [
      "1307 : ['What is  the Flora of North America taxon ID for Amaranthus?']\n",
      "1308 : ['What capital of the Tran dynasty has a position of 105.841?']\n"
     ]
    },
    {
     "name": "stdout",
     "output_type": "stream",
     "text": [
      "1309 : ['What are the contents of the puzzle?']\n",
      "1310 : ['When was the death date of Akiva Ben Joseph according to the Pre-1584 Gregorian Calendar?']\n"
     ]
    },
    {
     "name": "stdout",
     "output_type": "stream",
     "text": [
      "1311 : ['Which is the CERO rating for The Legend of Zelda?']\n",
      "1312 : ['What film production company was founded by Oprah Winfrey?']\n",
      "1313 : ['How many basic forms of government are there in Syria?']\n",
      "1314 : ['Which is the update method for iTunes?']\n"
     ]
    },
    {
     "name": "stdout",
     "output_type": "stream",
     "text": [
      "1315 : ['Is here a polar solute in the water?']\n",
      "1316 : ['Tell me the scientific model that starts with the letter w']\n"
     ]
    },
    {
     "name": "stdout",
     "output_type": "stream",
     "text": [
      "1317 : ['What what is animated film  city of the United States chicago']\n",
      "1318 : ['What team position did Carlos Alberto Torres play as when he scored 4 goals?']\n"
     ]
    },
    {
     "name": "stdout",
     "output_type": "stream",
     "text": [
      "1319 : ['What sports team did Abedi Pele belong to and how many matches did they play?']\n",
      "1320 : ['Is the horizontal depth of the DP 0193 Egg-shaped vase with small mouth greater than 36.0?']\n",
      "1321 : ['What is the medium mountain stage with the lowest event distance whose general classification of race participants is Nairo Quintana ?']\n"
     ]
    },
    {
     "name": "stdout",
     "output_type": "stream",
     "text": [
      "1322 : ['For what team did Tom Finney play 433 matches for?']\n",
      "1323 : ['What award did Subrahmanyan Chandrasekhar receive in 1974?']\n"
     ]
    },
    {
     "name": "stdout",
     "output_type": "stream",
     "text": [
      "1324 : ['What is next to Confederate States of America having diplomatic relation of Ecuador?']\n",
      "1325 : ['Was Website software engine Microsoft?']\n"
     ]
    },
    {
     "name": "stdout",
     "output_type": "stream",
     "text": [
      "1326 : ['What Chinese dynasty followed the Yuan dynasty?']\n",
      "1327 : ['How many employers are there for Edward Snowden?']\n"
     ]
    },
    {
     "name": "stdout",
     "output_type": "stream",
     "text": [
      "1328 : ['Who is the composer of All We Know?']\n",
      "1329 : ['When did the Indiana Film Journalists Association give George Cloooney the award for Best Actor?']\n"
     ]
    },
    {
     "name": "stdout",
     "output_type": "stream",
     "text": [
      "1330 : ['Which is the International Paralympic Committee athlete ID for Oscar Pistorius?']\n",
      "1331 : ['Where is the anatomical location of the cerebellum?']\n"
     ]
    },
    {
     "name": "stdout",
     "output_type": "stream",
     "text": [
      "1332 : ['What part of the Jordan River has the coordinates 35.5583?']\n",
      "1333 : ['Who is the operator and builder of the Bombardier Dash 8?']\n",
      "1334 : ['Tell me the United States federal executive department that contains the word department in their name']\n"
     ]
    },
    {
     "name": "stdout",
     "output_type": "stream",
     "text": [
      "1335 : ['Which is the domain of subset?']\n",
      "1336 : ['Who gave the{typology} of {language native} of {Uyghur people} ?']\n",
      "1337 : ['which music of gayane,was released on 1903-6-6?']\n",
      "1338 : ['Which sovereign state participated in the North African Campaign?']\n"
     ]
    },
    {
     "name": "stdout",
     "output_type": "stream",
     "text": [
      "1339 : ['What are the integer which start with the letter i']\n"
     ]
    },
    {
     "name": "stdout",
     "output_type": "stream",
     "text": [
      "1340 : ['What is KINENOTE person ID for Jean-Paul Belmondo ?']\n",
      "1341 : ['Tell me public company whose name has the word yandex in it.']\n",
      "1342 : ['What academic degree did Venus Williams get from studying at The Art Institute of Fort Lauderdale and when did he finish schooling?']\n"
     ]
    },
    {
     "name": "stdout",
     "output_type": "stream",
     "text": [
      "1343 : ['When was Andhra Pradesh in Hyderabad?']\n",
      "1344 : ['Name the record label behind the surge of Suge Knight']\n"
     ]
    },
    {
     "name": "stdout",
     "output_type": "stream",
     "text": [
      "1345 : ['Tell me the name of the parabolic differential equation which starts with the letter e.']\n",
      "1346 : ['What is e-mail of Ilona Staller ?']\n",
      "1347 : ['What award Angela Lansbury has received at Tony Award for Best Actress in a Musical ?']\n"
     ]
    },
    {
     "name": "stdout",
     "output_type": "stream",
     "text": [
      "1348 : ['How many participants are there in the Kingdom of Castile?']\n"
     ]
    },
    {
     "name": "stdout",
     "output_type": "stream",
     "text": [
      "1349 : ['Who won the Battle of Austerlitz?']\n"
     ]
    },
    {
     "name": "stdout",
     "output_type": "stream",
     "text": [
      "1350 : ['What is Project Gutenberg ID for Oliver Twist ?']\n",
      "1351 : ['What is the union for Airbus A320s?']\n"
     ]
    },
    {
     "name": "stdout",
     "output_type": "stream",
     "text": [
      "1352 : ['Why did Jeremy Corbyn end his position as Member of the 56th Parliament of the United Kingdom and when was he elected in?']\n",
      "1353 : ['For what song did Kid Cudi receive the Grammy Award for Best Rap/Sung Performance?']\n"
     ]
    },
    {
     "name": "stdout",
     "output_type": "stream",
     "text": [
      "1354 : ['Which is the written work for the first translated edition?']\n"
     ]
    },
    {
     "name": "stdout",
     "output_type": "stream",
     "text": [
      "1355 : ['Is the time index of the Thout more than 0.8?']\n",
      "1356 : ['In which conflict was Vasily Blyukher involved ?']\n",
      "1357 : ['Which is the Daum Encyclopedia ID for Brexit?']\n",
      "1358 : ['What is the difference of a tie that has the distance of 607.0?']\n",
      "1359 : ['Tell me numeric writing system whose name has the word numerals in their name']\n"
     ]
    },
    {
     "name": "stdout",
     "output_type": "stream",
     "text": [
      "1360 : ['What award did Alvaro Siza Vieira receive in 1988?']\n",
      "1361 : ['How many position held are by the lieutenant general?']\n",
      "1362 : ['Who is the party chief representing Shaanxi?']\n"
     ]
    },
    {
     "name": "stdout",
     "output_type": "stream",
     "text": [
      "1363 : ['The country of Catania has which cities?']\n",
      "1364 : ['Of the 2015 Baga massacre, does the number of those missing equal 2000?']\n",
      "1365 : ['Give the name of the gram-negative strain that has the highest maximum viable temperature.']\n",
      "1366 : ['Is the nominal GDP per capita of Poland less than 15065.46?']\n"
     ]
    },
    {
     "name": "stdout",
     "output_type": "stream",
     "text": [
      "1367 : ['What is the icebreaker for the US National Archives Identifier?']\n",
      "1368 : ['What is designed and influenced by JavaScript?']\n"
     ]
    },
    {
     "name": "stdout",
     "output_type": "stream",
     "text": [
      "1369 : ['Which business division does The Walt Disney Company belong to?']\n",
      "1370 : ['What writing system does Arabic use?']\n"
     ]
    },
    {
     "name": "stdout",
     "output_type": "stream",
     "text": [
      "1371 : ['Who composed The Carnival of the Animals?']\n",
      "1372 : ['Was Tonya Harding a professional pair ice skater?']\n"
     ]
    },
    {
     "name": "stdout",
     "output_type": "stream",
     "text": [
      "1373 : ['Who is the member of Münster since 1993-0-0?']\n",
      "1374 : ['What sister of Jean Shrimpton has brown eyes?']\n",
      "1375 : ['What is the Revised Hepburn romanization for Morning Musume with its name in kana モーニングむすめ?']\n",
      "1376 : ['What is the genetic association that regulates the molecular biology of hsa-miR-4323?']\n"
     ]
    },
    {
     "name": "stdout",
     "output_type": "stream",
     "text": [
      "1377 : ['Which in the Administrative unit of Nonthaburi, has the inhabitants amount of 332388.0?']\n",
      "1378 : ['Where was Narendra Modi educated and what academic degree was earned?']\n"
     ]
    },
    {
     "name": "stdout",
     "output_type": "stream",
     "text": [
      "1379 : ['What is the female population of Karlovy Vary Region which has a total population of 150262.0?']\n",
      "1380 : ['Where is the co-founder of The Evening of Ashura from?']\n"
     ]
    },
    {
     "name": "stdout",
     "output_type": "stream",
     "text": [
      "1381 : ['When did Oliver Sacks move to New York City?']\n"
     ]
    },
    {
     "name": "stdout",
     "output_type": "stream",
     "text": [
      "1382 : ['Name the carbon-containing flammable gas with the lowest standard enthalpy of formation ?']\n",
      "1383 : ['Name the church monument where Paul was the patron saint']\n"
     ]
    },
    {
     "name": "stdout",
     "output_type": "stream",
     "text": [
      "1384 : ['Who created Esperanto?']\n",
      "1385 : ['What is the opposite of a superhero']\n",
      "1386 : ['Is it true that the publication interval of the Cuore is less than 1.2?']\n"
     ]
    },
    {
     "name": "stdout",
     "output_type": "stream",
     "text": [
      "1387 : ['Which is the Behind The Voice Actors person ID for Julia Roberts?']\n",
      "1388 : ['how many honors does dame have?']\n",
      "1389 : ['Tell me circumstellar disk whose name has the word belt in it.']\n",
      "1390 : ['Where is the location born of Mischa Maisky, which is adjacent to the Mārupe Municipality?']\n",
      "1391 : ['when did Stuart Broad end his contract as a player with Liecestershire County Cricket Club?']\n",
      "1392 : ['How many people are in the Labour Party?']\n",
      "1393 : ['What is ISzDb company ID of The Walt Disney Company?']\n"
     ]
    },
    {
     "name": "stdout",
     "output_type": "stream",
     "text": [
      "1394 : ['What series is World of Warcraft followed by?']\n"
     ]
    },
    {
     "name": "stdout",
     "output_type": "stream",
     "text": [
      "1395 : ['What is the higher taxon of Mammut, whose vernacular name is Mastodonty?']\n",
      "1396 : ['Is the quantity of Sandbox on December 12th less than 9.6?']\n",
      "1397 : ['What is the human for Adelaides design?']\n",
      "1398 : ['Which color appears in Rocketeer?']\n"
     ]
    },
    {
     "name": "stdout",
     "output_type": "stream",
     "text": [
      "1399 : ['For what work was Russel Crowe nominated for the Academy Award for Best Actor?']\n"
     ]
    },
    {
     "name": "stdout",
     "output_type": "stream",
     "text": [
      "1400 : ['What college libraries are at Yale University?']\n",
      "1401 : ['Who developed the continent of the Amundsen Sea?']\n"
     ]
    },
    {
     "name": "stdout",
     "output_type": "stream",
     "text": [
      "1402 : ['Name the musical instrument used in song Face to the Sky song']\n",
      "1403 : ['Which is the two-part episode for the series The X-Files?']\n",
      "1404 : ['which of the villages has endemism of leafy seadragon?']\n"
     ]
    },
    {
     "name": "stdout",
     "output_type": "stream",
     "text": [
      "1405 : ['What is the capital of Chicago']\n",
      "1406 : ['Which is the Australian Parliament ID for Kurt Waldheim?']\n",
      "1407 : ['Who are the relatives of Heinrich Himmler?']\n",
      "1408 : ['Where was David Icke born and what position does he play?']\n",
      "1409 : ['What is American Airlines airline hub for the international airport']\n"
     ]
    },
    {
     "name": "stdout",
     "output_type": "stream",
     "text": [
      "1410 : ['Is there a Thanksgiving in Panama?']\n",
      "1411 : ['Did Nina Simone record at Bethlehem Records and Collectables Records']\n"
     ]
    },
    {
     "name": "stdout",
     "output_type": "stream",
     "text": [
      "1412 : ['What are the municipality of Spain that contains the word zumaia in their name']\n",
      "1413 : ['Who is the discoverer of runes that has a girlfriend in Gunnloo?']\n",
      "1414 : ['What is the custodian of the connected  with Roadside station Echizen ?']\n"
     ]
    },
    {
     "name": "stdout",
     "output_type": "stream",
     "text": [
      "1415 : ['What is Legacies of British Slave-ownership person ID for William Ewart Gladstone?']\n",
      "1416 : ['What what is animated nonprofit organization distributed by MGM and English']\n"
     ]
    },
    {
     "name": "stdout",
     "output_type": "stream",
     "text": [
      "1417 : ['What academic subject is Eulers identity the discoverer of?']\n"
     ]
    },
    {
     "name": "stdout",
     "output_type": "stream",
     "text": [
      "1418 : ['Is it true that the distance from Earth of the Polaris is 518.4?']\n",
      "1419 : ['What was Robert Donat nominated for in Goodbye, Mr. Chips?']\n"
     ]
    },
    {
     "name": "stdout",
     "output_type": "stream",
     "text": [
      "1420 : ['Theo van Doesburg is the Prime Minister of what place?']\n",
      "1421 : ['Who created Memoires dOutre-Tombe?']\n",
      "1422 : ['Tell me the name of a religious denomination which starts with the letter u.']\n",
      "1423 : ['What is the posthumous name of Emperor Taizong of Tang in the writing system of traditional Chinese characters?']\n"
     ]
    },
    {
     "name": "stdout",
     "output_type": "stream",
     "text": [
      "1424 : ['When is the British museum open?']\n",
      "1425 : ['Name a country related to Israel that starts with letter H']\n"
     ]
    },
    {
     "name": "stdout",
     "output_type": "stream",
     "text": [
      "1426 : ['What is the alma mater of Elgin Baylor whose position is -122.319?']\n",
      "1427 : ['Are Calophyllum inophyllum and Jasminum official symbols of Andhra Pradesh?']\n"
     ]
    },
    {
     "name": "stdout",
     "output_type": "stream",
     "text": [
      "1428 : ['What nationality is Jerry Lucas?']\n"
     ]
    },
    {
     "name": "stdout",
     "output_type": "stream",
     "text": [
      "1429 : ['What is the the track list of The Beatles that has the date of release of 1968-11-0?']\n",
      "1430 : ['When Rowan Atkinson attended Queens College, what was his academic major and degree?']\n",
      "1431 : ['What award did Gwendoly Brooks receive in 1994?']\n"
     ]
    },
    {
     "name": "stdout",
     "output_type": "stream",
     "text": [
      "1432 : ['What are the giants for Heracles  murder?']\n"
     ]
    },
    {
     "name": "stdout",
     "output_type": "stream",
     "text": [
      "1433 : ['How many constellations are by Scorpius?']\n"
     ]
    },
    {
     "name": "stdout",
     "output_type": "stream",
     "text": [
      "1434 : ['At what point in time, and in which league did Mike Trout receive his award as MVP?']\n",
      "1435 : ['Is the rural population of North Sikkim district 31252?']\n"
     ]
    },
    {
     "name": "stdout",
     "output_type": "stream",
     "text": [
      "14361437 : ['What award did Dirk Nowitzki receive in 2011?']\n",
      " : ['What is the edition of the game platform of Star Trek Online?']\n",
      "1438 : ['Who was the significant person during the trial Brown v. Board of Education?']\n",
      "1439 : ['Name a vegetation zone in Europe that starts with letter T']\n"
     ]
    },
    {
     "name": "stdout",
     "output_type": "stream",
     "text": [
      "1440 : ['What is Sächsische Biografie of Lucas Cranach the Elder ?']\n",
      "1441 : ['who opposite of manifestation  of figure of the earth ?']\n"
     ]
    },
    {
     "name": "stdout",
     "output_type": "stream",
     "text": [
      "1442 : ['When did Ireland have a population of 2.85265e+06?']\n",
      "1443 : ['Which is the category for films shot at the location of A Coruña?']\n"
     ]
    },
    {
     "name": "stdout",
     "output_type": "stream",
     "text": [
      "1444 : ['What takes place on Rosh Hashanah in the month of Tishrei?']\n",
      "1445 : ['How many leagues are in the National Hockey League?']\n"
     ]
    },
    {
     "name": "stdout",
     "output_type": "stream",
     "text": [
      "1446 : ['When did Anne Hathaway begin attending New York University and when did she graduate?']\n"
     ]
    },
    {
     "name": "stdout",
     "output_type": "stream",
     "text": [
      "1447 : ['What country uses the sterling pound as its currency?']\n",
      "1448 : ['Where will be Namada after she leaves river source?']\n",
      "1449 : ['What was the significant event that happened to Jean Gabin in 1976?']\n"
     ]
    },
    {
     "name": "stdout",
     "output_type": "stream",
     "text": [
      "1450 : ['How many medical examinations are required for medical ultrasonography} ?']\n",
      "1451 : ['What is venous drainage for hand ?']\n"
     ]
    },
    {
     "name": "stdout",
     "output_type": "stream",
     "text": [
      "1452 : ['who Wikimedia category for category for employees of the organization of Columbia University?']\n",
      "1453 : ['The conjugate acid of water has a monoanion of?']\n"
     ]
    },
    {
     "name": "stdout",
     "output_type": "stream",
     "text": [
      "1454 : ['Does the boiling point of the hexadecane equals 286.79?']\n"
     ]
    },
    {
     "name": "stdout",
     "output_type": "stream",
     "text": [
      "1455 : ['What event in the 1951 24 Hours of Le Mans did A.J. Foyt take part in?']\n"
     ]
    },
    {
     "name": "stdout",
     "output_type": "stream",
     "text": [
      "1456 : ['What is bordered by Netherlands Antilles and is located in the administrative unit of Amiens?']\n"
     ]
    },
    {
     "name": "stdout",
     "output_type": "stream",
     "text": [
      "1457 : ['What is the history of oppression?']\n",
      "1458 : ['What are the mythological serpent which start with the letter z']\n"
     ]
    },
    {
     "name": "stdout",
     "output_type": "stream",
     "text": [
      "1459 : ['What is the subsidiary of which is owned by of Laserdisc ?']\n"
     ]
    },
    {
     "name": "stdout",
     "output_type": "stream",
     "text": [
      "1460 : ['Which is the Encyclopaedia Metallum artist ID for Dave Grohl?']\n",
      "1461 : ['Name an ancient monument that starts with letter G']\n",
      "1462 : ['What city is the capital of Lagdo?']\n"
     ]
    },
    {
     "name": "stdout",
     "output_type": "stream",
     "text": [
      "1463 : ['What major event happened to Alfred Doblin and were did it happen?']\n"
     ]
    },
    {
     "name": "stdout",
     "output_type": "stream",
     "text": [
      "1464 : ['Which is the Academia.edu institutional ID for University of Naples Federico II?']\n",
      "1465 : ['Tell me me a allotrope of carbon whose name consist of the word carbon and whose shape crystal structure']\n",
      "1466 : ['What hockey team in the NHL contains Ottawa in their name?']\n",
      "1467 : ['Michael Dell is CEO of what privately held company?']\n"
     ]
    },
    {
     "name": "stdout",
     "output_type": "stream",
     "text": [
      "1468 : ['How many people own a Nissan?']\n",
      "1469 : ['In which year Clive Palmer joined as a member of political party in Liberal National Party of Queensland?']\n"
     ]
    },
    {
     "name": "stdout",
     "output_type": "stream",
     "text": [
      "1470 : ['Which is the Hederich encyclopedia article ID of Hades?']\n",
      "1471 : ['Name a {subsidiary company} that {manager/director} {Daniel Schwartz} that starts with the letter {b}']\n"
     ]
    },
    {
     "name": "stdout",
     "output_type": "stream",
     "text": [
      "1472 : ['What type of relationship did the siblings Carl Philipp Emanuel Bach and Wilhelm Friedemann Bach have?']\n"
     ]
    },
    {
     "name": "stdout",
     "output_type": "stream",
     "text": [
      "1473 : ['What Philippine city with the largest electorate is in Bohol?']\n",
      "1474 : ['In what language is soup pronounced as Ru-cyn.ogg?']\n"
     ]
    },
    {
     "name": "stdout",
     "output_type": "stream",
     "text": [
      "1475 : ['Tell me which programming language implementation starts with the letter y?']\n"
     ]
    },
    {
     "name": "stdout",
     "output_type": "stream",
     "text": [
      "1476 : ['At which university does Linus Pauling work?']\n",
      "1477 : ['Emmanuel Macron is the head of which sovereign state?']\n"
     ]
    },
    {
     "name": "stdout",
     "output_type": "stream",
     "text": [
      "1478 : ['What is warning of Shahada, that has Women in Red banner is Arabic WV banner.jpg?']\n",
      "1479 : ['On what day were the children of Teodoro Obiang Nguema Mbasogo born?']\n",
      "1480 : ['When did Reinhard Heydrich stop being the President of Interpol?']\n"
     ]
    },
    {
     "name": "stdout",
     "output_type": "stream",
     "text": [
      "1481 : ['What isEncyclopædia Britannica Online ID for ton ?']\n",
      "1482 : ['What was the inflation rate of Portugal during 1993-1-1?']\n",
      "1483 : ['Florentino Perez is a member of what political party whose start time was 1982-0-0']\n"
     ]
    },
    {
     "name": "stdout",
     "output_type": "stream",
     "text": [
      "1484 : ['What {county seat in}{Hamilton} has a {population} of {51,000.0}?']\n",
      "1485 : ['Is the position angle of the southwest by west equal 236.25?']\n",
      "1486 : ['Who is the maker of the board game Score?']\n"
     ]
    },
    {
     "name": "stdout",
     "output_type": "stream",
     "text": [
      "1487 : ['Who is Calvinism named for?']\n",
      "1488 : ['What is the dynasty of Meiji whose co-founder is Jimmu?']\n",
      "1489 : ['What is Metroid Primes GameRankings game ID?']\n"
     ]
    },
    {
     "name": "stdout",
     "output_type": "stream",
     "text": [
      "1490 : ['what is the {represents} for {North Atlantic Treaty} that has {signatory} as {Dean Acheson} ?']\n"
     ]
    },
    {
     "name": "stdout",
     "output_type": "stream",
     "text": [
      "1491 : ['which public educational institution of the United States starts with letter u']\n",
      "1492 : ['What is PACE member ID for James Callaghan ?']\n"
     ]
    },
    {
     "name": "stdout",
     "output_type": "stream",
     "text": [
      "1493 : ['Who is this cast member from the show Game of Thrones?']\n",
      "1494 : ['Is the periapsis 15817 Lucianotesi less than 1.40172756?']\n",
      "1495 : ['What magnets does the Large Hadron Collider use?']\n"
     ]
    },
    {
     "name": "stdout",
     "output_type": "stream",
     "text": [
      "1496 : ['Which is the INEGI locality ID for Torreón?']\n",
      "1497 : ['Which means {World Golf Hall of Fame player ID} for{Tom Watson} ?']\n"
     ]
    },
    {
     "name": "stdout",
     "output_type": "stream",
     "text": [
      "1498 : ['What is the biomedical measurement for the medical condition treated by phenol?']\n",
      "1499 : ['In what country was Adelaide founded on 12-28-1836?']\n"
     ]
    },
    {
     "name": "stdout",
     "output_type": "stream",
     "text": [
      "1500 : ['DOES THE MAXIMUM THRUST OF THE CONCORDE EQUALS 676800']\n",
      "1501 : ['Did Sarah Silverman play the guitar?']\n",
      "1502 : ['Which political ideology is Leon Trotsky associated with?']\n",
      "1503 : ['What part of North Dakota is located in the Mountain Time Zone?']\n"
     ]
    },
    {
     "name": "stdout",
     "output_type": "stream",
     "text": [
      "1504 : ['Tell me national cuisine whose name has the word mex in it.']\n",
      "1505 : ['For what show was Zooey Deschanel nominated for a Primetime Emmy Award for Outstanding Lead Actress in a Comedy Series?']\n",
      "1506 : ['What is the Africultures person ID for Ryszard Kapuscinski?']\n"
     ]
    },
    {
     "name": "stdout",
     "output_type": "stream",
     "text": [
      "1507 : ['tell me aspect of history name has the word propaganda it it']\n",
      "1508 : ['Which is part of the ecology?']\n",
      "1509 : ['How many academic major subjects required for {jurisprudence} ?']\n",
      "1510 : ['what is the human population from the originates of Mind?']\n"
     ]
    },
    {
     "name": "stdout",
     "output_type": "stream",
     "text": [
      "1511 : ['tell me the agriculture revolution that contains the word revolution in their own name.']\n"
     ]
    },
    {
     "name": "stdout",
     "output_type": "stream",
     "text": [
      "1512 : ['What is the twinned administrative body of Strasbourg, which started in 1 Jan 1962?']\n"
     ]
    },
    {
     "name": "stdout",
     "output_type": "stream",
     "text": [
      "1513 : ['What is governed by the Warsaw Pact effective from 12th March 1967?']\n"
     ]
    },
    {
     "name": "stdout",
     "output_type": "stream",
     "text": [
      "1514 : ['What honors have coined the compact disc?']\n",
      "1515 : ['When is Naruto Uzumakis birthday?']\n"
     ]
    },
    {
     "name": "stdout",
     "output_type": "stream",
     "text": [
      "1516 : ['Are the number of records of the Ontario public library ID more than 454.8?']\n",
      "1517 : ['Who plays the sister in Red Line?']\n"
     ]
    },
    {
     "name": "stdout",
     "output_type": "stream",
     "text": [
      "1518 : ['In what country is Mikhail Fridman a citizen?']\n",
      "1519 : ['Name the person who was married to Enki, who had a legislative period in the Ancient Near East?']\n",
      "1520 : ['How many health specialties are there for the deficit hyperactivity disorder} ?']\n"
     ]
    },
    {
     "name": "stdout",
     "output_type": "stream",
     "text": [
      "1521 : ['Who held the position of chairperson for the Communist Party of China before and after Zhao Ziyang?']\n",
      "1522 : ['Which is the essential medicine in the drug used for treatment of skin cancer?']\n"
     ]
    },
    {
     "name": "stdout",
     "output_type": "stream",
     "text": [
      "1523 : ['Is it true that the magnetic moment of the helion is -0.000000000000000000000000010746174?']\n"
     ]
    },
    {
     "name": "stdout",
     "output_type": "stream",
     "text": [
      "1524 : ['What are the inhabitants of the location where Alexander Fleming died?']\n",
      "1525 : ['Tell me the studio album of the tracklist of Rock and Roll that starts with the letter i?']\n",
      "1526 : ['Who developed the Hughes H-4 Hercules?']\n",
      "1527 : ['What award did Claude Brasseur receive in 1977-0-0?']\n"
     ]
    },
    {
     "name": "stdout",
     "output_type": "stream",
     "text": [
      "1528 : ['Where did Johann Jakob Heckel die?']\n",
      "1529 : ['What is orbited by of star of Messier 4 ?']\n"
     ]
    },
    {
     "name": "stdout",
     "output_type": "stream",
     "text": [
      "1530 : ['Tell me about historical country for headquarters location of Nazi Germany?']\n",
      "1531 : ['When was Niels Bohr nominated for a Nobel Prize in Physics?']\n"
     ]
    },
    {
     "name": "stdout",
     "output_type": "stream",
     "text": [
      "1532 : ['Which is {portrait of} of {A Sunday Afternoon on the Island of La Grande Jatte}, which has {sound emitted} is {female voice} ?']\n",
      "1533 : ['Which is the language of work or name of Appetite for Destruction?']\n",
      "1534 : ['What is the composed by of the described by work of Lizard ?']\n"
     ]
    },
    {
     "name": "stdout",
     "output_type": "stream",
     "text": [
      "1535 : ['Mention the symptoms and the signs resulting from the tantalum']\n",
      "1536 : ['What happened in New Zealand on 11/25/1947?']\n",
      "1537 : ['What is the holds position of the government headed by Frankfurt?']\n"
     ]
    },
    {
     "name": "stdout",
     "output_type": "stream",
     "text": [
      "1538 : ['How many people self-identify as Democrats?']\n",
      "1539 : ['What position did Raymond Poincare hold and is now being replaced by Jacques Bainville?']\n",
      "1540 : ['How many siblings does Fú Jiān have?']\n",
      "1541 : ['Which is the Florentine musea catalogue ID for Primavera?']\n"
     ]
    },
    {
     "name": "stdout",
     "output_type": "stream",
     "text": [
      "1542 : ['Which referendum in Ireland, following the Eighth Amendment of the Constitution of Ireland, has the least amount of spoiled votes?']\n",
      "1543 : ['Who is the fallen angel that is worshiped by Christianity?']\n"
     ]
    },
    {
     "name": "stdout",
     "output_type": "stream",
     "text": [
      "1544 : ['What is inflation rate of consumer price index aspect  of History of Trinidad and Tobago ?']\n",
      "1545 : ['What is {name after} of {Carnot heat engine}, which has {Christian name} is {Nicolas} ?']\n",
      "1546 : ['When did Wes Craven divorce Bonnie Broecker?']\n"
     ]
    },
    {
     "name": "stdout",
     "output_type": "stream",
     "text": [
      "1547 : ['which laws applied for potassium hydroxide ?']\n",
      "1548 : ['IS THE BITE FORCE QUOTIENT OF THE DHOLE EQUALS 132']\n"
     ]
    },
    {
     "name": "stdout",
     "output_type": "stream",
     "text": [
      "1549 : ['Was Benedict Arnold from the military branch of the Royal Navy and Continental Army?']\n",
      "1550 : ['Which is the fictional organization that is present in the work of Nineteen Eighty-Four?']\n"
     ]
    },
    {
     "name": "stdout",
     "output_type": "stream",
     "text": [
      "1551 : ['Mention the horse used by Robert E. Lee during mounting.']\n",
      "1552 : ['What is award received of Harlan Ellison that is  work is \\\\Repent, Harlequin!\\\\ Said the Ticktockman ?']\n"
     ]
    },
    {
     "name": "stdout",
     "output_type": "stream",
     "text": [
      "1553 : ['What is is the name of the anatomical artery branch of the large intestine?']\n",
      "1554 : ['Is the earthquake magnitude on the Richter magnitude scale of the 2000 Yunnan earthquake more than 7.08?']\n"
     ]
    },
    {
     "name": "stdout",
     "output_type": "stream",
     "text": [
      "1555 : ['What is the name of a tournament that starts with the letter w.']\n",
      "1556 : ['What is the composition of a drink, that has mixed in is floral matter?']\n"
     ]
    },
    {
     "name": "stdout",
     "output_type": "stream",
     "text": [
      "1557 : ['When Lily Tomlin, the spouse of Jane Wagner, was born?']\n",
      "1558 : ['When was Forrest Gump publication date']\n"
     ]
    },
    {
     "name": "stdout",
     "output_type": "stream",
     "text": [
      "1559 : ['What is the series ordinal for chairperson Kaoru Kamata at Waseda University?']\n",
      "1560 : ['Which is the decay mode for alpha decay?']\n",
      "1561 : ['What is Vancouver Island bordered by in administrative units?']\n"
     ]
    },
    {
     "name": "stdout",
     "output_type": "stream",
     "text": [
      "1562 : ['WHICH IS THE ARITHMETIC CALENDAR THAT STARTS WITH C']\n"
     ]
    },
    {
     "name": "stdout",
     "output_type": "stream",
     "text": [
      "1563 : ['How many share borders are with the {Wiesbaden} ?']\n",
      "1564 : ['Using a typology of time-manner-place, in what language does Hiroshi Sugimoto write?']\n"
     ]
    },
    {
     "name": "stdout",
     "output_type": "stream",
     "text": [
      "1565 : ['How many discoveries have been made concerning radial velocity?']\n"
     ]
    },
    {
     "name": "stdout",
     "output_type": "stream",
     "text": [
      "1566 : ['Who followed Victor Hugo as a member of the Académie française?']\n",
      "1567 : ['Who gave the{son of} of {son of} of {William FitzMaurice, 2nd Earl of Kerry} ?']\n"
     ]
    },
    {
     "name": "stdout",
     "output_type": "stream",
     "text": [
      "1568 : ['Who is the Mistress of John Wayne, who is also the winner of the Knight of the Order of Leopold?']\n",
      "1569 : ['Tell me the opera that location of first performance is the Theater auf der Wieden and which that starts with the letter f']\n"
     ]
    },
    {
     "name": "stdout",
     "output_type": "stream",
     "text": [
      "1570 : ['Which is the UNESCO Atlas of the Worlds Languages in Danger ID of Coptic?']\n",
      "1571 : ['Is the horizontal depth of the High-necked spheroid vase (DP 0212 equal to 28.8?']\n",
      "1572 : ['Which city was twinned with Nagoya on 21st December, 1978?']\n"
     ]
    },
    {
     "name": "stdout",
     "output_type": "stream",
     "text": [
      "1573 : ['Which is the nonprofit organization if the formation location of Paris?']\n"
     ]
    },
    {
     "name": "stdout",
     "output_type": "stream",
     "text": [
      "1574 : ['Which institution has over nineteen thousand students?']\n",
      "1575 : ['Did Reinhard Heydrich die of cholangitis and/or ballistic trauma?']\n"
     ]
    },
    {
     "name": "stdout",
     "output_type": "stream",
     "text": [
      "1576 : ['What is the earliest date of Alexander Pushkins residency in Ulyanovsk?']\n"
     ]
    },
    {
     "name": "stdout",
     "output_type": "stream",
     "text": [
      "1577 : ['Is the personal best of Caster Semenya greater than 138.396']\n",
      "1578 : ['Which Class IIIA combustible liquid has the highest IDLH?']\n"
     ]
    },
    {
     "name": "stdout",
     "output_type": "stream",
     "text": [
      "1579 : ['What is the twin city of Basel which has an establishment date of 751-0-0?']\n",
      "1580 : ['Which is the BSD Portal athlete ID of Felix Loch?']\n",
      "1581 : ['What was the population of the Saitama Prefecture in the year 2005?']\n",
      "1582 : ['In what year was Leon Jouhaux nominated for the Nobel Peace Prize?']\n"
     ]
    },
    {
     "name": "stdout",
     "output_type": "stream",
     "text": [
      "1583 : ['What is the principle basis, for the Special Region Law of Hong Kong.']\n",
      "1584 : ['What position did Louis X of France hold starting on 11/29/1314?']\n",
      "1585 : ['Which G-type main sequence star has the maximum stellar rotational velocity?']\n"
     ]
    },
    {
     "name": "stdout",
     "output_type": "stream",
     "text": [
      "1586 : ['When does La Plata?']\n"
     ]
    },
    {
     "name": "stdout",
     "output_type": "stream",
     "text": [
      "1587 : ['Tell me Beer festival whose name has the word oktoberfest in it.']\n",
      "1588 : ['When did George Frederic Handel graduate from University of Halle-Wittenberg?']\n"
     ]
    },
    {
     "name": "stdout",
     "output_type": "stream",
     "text": [
      "1589 : ['who is the empire for diplomatic relation of ottoman empire?']\n",
      "1590 : ['Is the Elo rating of the Noa Saxon Gardiner equal to 1004.0?']\n"
     ]
    },
    {
     "name": "stdout",
     "output_type": "stream",
     "text": [
      "1591 : ['Please tell me Alistair Brownlees IAT triathlete ID.']\n",
      "1592 : ['Give the chemical compound with the least speed of sound who is part hydrogen?']\n"
     ]
    },
    {
     "name": "stdout",
     "output_type": "stream",
     "text": [
      "1593 : ['With a local government area of Zhenjiang, where was Gong Qiuxia born?']\n",
      "1594 : ['What field of work does Porfirio Díaz do?']\n"
     ]
    },
    {
     "name": "stdout",
     "output_type": "stream",
     "text": [
      "1595 : ['What is the type of quantum particle with the lowest g-factor whose interaction is weak interaction?']\n",
      "1596 : ['What part of Songhua River is located at 127.224?']\n"
     ]
    },
    {
     "name": "stdout",
     "output_type": "stream",
     "text": [
      "1597 : ['Was Hamilcar Barca born before 1584?']\n"
     ]
    },
    {
     "name": "stdout",
     "output_type": "stream",
     "text": [
      "1598 : ['What was the total size of exhibition of Prado National Museum in the year 2012?']\n",
      "1599 : ['What are the stars and stripes from the star spangled banner?']\n"
     ]
    },
    {
     "name": "stdout",
     "output_type": "stream",
     "text": [
      "1600 : ['What custom contains the word zwänzgerle in its name?']\n",
      "1601 : ['Did Carole King work with the record labels Epic Records and Avatar Records?']\n"
     ]
    },
    {
     "name": "stdout",
     "output_type": "stream",
     "text": [
      "1602 : ['where is the powerpoint of  steam turbine?']\n",
      "1603 : ['What is the {studied by} and the {partially coincident with} of {Human_body} ?']\n",
      "1604 : ['What was Edward Albee was nominated for on the 19th Tony Awards?']\n"
     ]
    },
    {
     "name": "stdout",
     "output_type": "stream",
     "text": [
      "1605 : ['When was European Union dissolved, abolished or demolished as per the European Community?']\n",
      "1606 : ['What is the Womens Sports Foundation ID for Jennie Finch?']\n"
     ]
    },
    {
     "name": "stdout",
     "output_type": "stream",
     "text": [
      "1607 : ['What is the professional term for Rugby?']\n",
      "1608 : ['What is the founder of the located in of The Parnassus ?']\n",
      "1609 : ['When was William Ramsay nominated for a Nobel Prize in Chemistry?']\n",
      "1610 : ['Is the slope rating of the Crosswater Club equal to 145?']\n",
      "1611 : ['Which {role model} is {contestant} of {The Black Dahlia} ?']\n"
     ]
    },
    {
     "name": "stdout",
     "output_type": "stream",
     "text": [
      "1612 : ['What film production company owns the American Broadcasting Company?']\n",
      "1613 : ['What is the head position of the Organisation for Economic Co-operation and Development']\n"
     ]
    },
    {
     "name": "stdout",
     "output_type": "stream",
     "text": [
      "1614 : ['Is Malum depicted in the audio of The Son of Man.']\n",
      "1615 : ['What language of William John Macquorn Rankine has a typological order of place-manner-time?']\n",
      "1616 : ['What is Q48460 language official of Khwarazmian dynasty ?']\n"
     ]
    },
    {
     "name": "stdout",
     "output_type": "stream",
     "text": [
      "1617 : ['which position David Trimble holds and when did he select?']\n",
      "1618 : ['Which is FAO risk status for Arabian horse?']\n",
      "1619 : ['Is the base salary of Gary Chan equal to 77000?']\n"
     ]
    },
    {
     "name": "stdout",
     "output_type": "stream",
     "text": [
      "1620 : ['Who were the victims due to Cimons actions?']\n",
      "1621 : ['Name the appointment cause and the halt reason for Eugenio Montale while serving as a senatore a vita']\n"
     ]
    },
    {
     "name": "stdout",
     "output_type": "stream",
     "text": [
      "1622 : ['Where is {death place} of {Ignaz Semmelweis}, which has {next to} is {Heiligenstadt} ?']\n"
     ]
    },
    {
     "name": "stdout",
     "output_type": "stream",
     "text": [
      "1623 : ['When is Chinese New Year?']\n",
      "1624 : ['What is the spoken language of Jadwiga of Poland?']\n"
     ]
    },
    {
     "name": "stdout",
     "output_type": "stream",
     "text": [
      "1625 : ['Is satellite of Saturn have a date of discovery of 2000-8-7?']\n",
      "1626 : ['what is the birth place of Erik Erikson,is he the head of the national Government Kurt Balum?']\n",
      "1627 : ['A person who studies meteorology looks at what geosphere?']\n"
     ]
    },
    {
     "name": "stdout",
     "output_type": "stream",
     "text": [
      "1628 : ['What is the condition of meterology containing the word drought in its name?']\n",
      "1629 : ['who sculpted the drawing hands?']\n"
     ]
    },
    {
     "name": "stdout",
     "output_type": "stream",
     "text": [
      "1630 : ['Which brother of Atahualpa has sons?']\n"
     ]
    },
    {
     "name": "stdout",
     "output_type": "stream",
     "text": [
      "1631 : ['What position did Mahathir Mohamad hold starting 2018-5-10?']\n",
      "1632 : ['What is the organization that regulates Esperanto?']\n"
     ]
    },
    {
     "name": "stdout",
     "output_type": "stream",
     "text": [
      "1633 : ['Tell me a civil parish that begins with the letter w']\n",
      "1634 : ['What position did Arthur Griffith hold in East Cavan?']\n",
      "1635 : ['Mention the date and the reason of elimination of Oswald Mosley from the Member of the 35th Parliament of the United Kingdom.']\n"
     ]
    },
    {
     "name": "stdout",
     "output_type": "stream",
     "text": [
      "1636 : ['Is it true that the lighthouse range of Farol de Pedra de Lume equals to 0.8?']\n",
      "1637 : ['Who are the writers of Mahabharata with children in Dhritarashtra?']\n",
      "1638 : ['What is formed in burial place of William IV, Prince of Orange ?']\n",
      "1639 : ['Did Katrina Kaif make films?']\n",
      "1640 : ['Which sports team was Valeriy Lobanovsky a member of and how many matches did he play?']\n"
     ]
    },
    {
     "name": "stdout",
     "output_type": "stream",
     "text": [
      "1641 : ['What is the motto of Shahada?']\n"
     ]
    },
    {
     "name": "stdout",
     "output_type": "stream",
     "text": [
      "1642 : ['Who designed the nuclear weapons tests for the Manhattan Project?']\n",
      "1643 : ['Which is the ComicBookDB ID for Warren Ellis?']\n",
      "1644 : ['When is the location born in Jamshid Mashayekhi which is a partner town of Havana?']\n",
      "1645 : ['What rotary cannon did General Electric design that starts with the letter m?']\n"
     ]
    },
    {
     "name": "stdout",
     "output_type": "stream",
     "text": [
      "1646 : ['What is the antonym of painting of Samson and the Philistines?']\n",
      "1647 : ['In the birth place of Gerard Reve, what is the earliest record of 1275-0-0?']\n"
     ]
    },
    {
     "name": "stdout",
     "output_type": "stream",
     "text": [
      "1648 : ['What is the pole vault height record held by Igor Potapovich and where was the event?']\n",
      "1649 : ['To whom did Chrissie Hynde get married and when did it end?']\n"
     ]
    },
    {
     "name": "stdout",
     "output_type": "stream",
     "text": [
      "1650 : ['When was Benedict Cumberbatch awarded the Primetime Emmy Award for Outstanding Lead Actor in a Miniseries or a movie?']\n"
     ]
    },
    {
     "name": "stdout",
     "output_type": "stream",
     "text": [
      "1651 : ['What was the space probe launched from Cape Canaveral that starts with letter V ?']\n",
      "1652 : ['Frank Gehry created what sculpture?']\n"
     ]
    },
    {
     "name": "stdout",
     "output_type": "stream",
     "text": [
      "1653 : ['Is William Lawsons first name the same as Gwyllym?']\n",
      "1654 : ['was zodiac killers occupation serial killer?']\n"
     ]
    },
    {
     "name": "stdout",
     "output_type": "stream",
     "text": [
      "1655 : ['When did khanate for country of Golden Horde?']\n"
     ]
    },
    {
     "name": "stdout",
     "output_type": "stream",
     "text": [
      "1656 : ['Is it true that the cost of damage of Hurricane Sandy was equal to 68680000000?']\n"
     ]
    },
    {
     "name": "stdout",
     "output_type": "stream",
     "text": [
      "1657 : ['Where is the tourist information office in Frankfurt?']\n",
      "1658 : ['Who is the person that was influenced by Hypatia?']\n"
     ]
    },
    {
     "name": "stdout",
     "output_type": "stream",
     "text": [
      "1659 : ['Who is the Chief Executive Officer of Walmart?']\n",
      "1660 : ['Which is the BDCYL authority ID for José Echegaray?']\n"
     ]
    },
    {
     "name": "stdout",
     "output_type": "stream",
     "text": [
      "1661 : ['What markup language is HTML5 based on?']\n"
     ]
    },
    {
     "name": "stdout",
     "output_type": "stream",
     "text": [
      "1662 : ['Which is {school attended} of {Patti Smith}, whose {full title} is {New Jersey State Teachers College at Glassboro} ?']\n",
      "1663 : ['What is bordered by death of William Booth']\n",
      "1664 : ['which building has the highest cost?']\n"
     ]
    },
    {
     "name": "stdout",
     "output_type": "stream",
     "text": [
      "1666 : ['Who is Supermans sidekick?']\n",
      "1667 : ['Tell me me a textile fibre whose name consist of the word woman and whose fabrication method sericulture silk']\n",
      "1668 : ['What is the age range described by the term young adult?']\n"
     ]
    },
    {
     "name": "stdout",
     "output_type": "stream",
     "text": [
      "1669 : ['What award did Thomas Hunt Morgan receive and when did he receive it?']\n",
      "1670 : ['When did educated at of Melinda Gates and academic major?']\n",
      "1671 : ['What is the color called HTML4 for ruby color?']\n",
      "1672 : ['What is the outcome of summer Olympics 2012 opening ceremony at Kenenisa bekele?']\n",
      "1673 : ['Which ensemble of buildings has the smallest intensity of luminosity?']\n"
     ]
    },
    {
     "name": "stdout",
     "output_type": "stream",
     "text": [
      "1674 : ['What is ICTV virus ID of Asfarviridae?']\n"
     ]
    },
    {
     "name": "stdout",
     "output_type": "stream",
     "text": [
      "1675 : ['Mention the qualifying degree and the major specialization course in which Jeff Bezos graduated from the Princeton University']\n",
      "1676 : ['When did Katharine Graham receive the Library of Congress Living Legend award?']\n",
      "1677 : ['Which flammable liquid has the highest ionization energy ?']\n",
      "1678 : ['What is the capital city twinned to Kiel that contains the word tallinn  in its name']\n"
     ]
    },
    {
     "name": "stdout",
     "output_type": "stream",
     "text": [
      "1679 : ['Shimon Peres won what award together with someone else?']\n",
      "1680 : ['Is the vapor pressure of the Nonane equal to 3?']\n",
      "1681 : ['who titleholder of nomination received of nebraska ?']\n"
     ]
    },
    {
     "name": "stdout",
     "output_type": "stream",
     "text": [
      "1682 : ['For how long has Cardinal Mazarin been the Bishop of Metz']\n",
      "1683 : ['What is the diplomatic relationship between Algeria and Indonesia?']\n",
      "1684 : ['Is the dynamic viscosity of the acetic acid greater than 0.6288?']\n",
      "1685 : ['What is the Mémoire du cyclisme cyclist ID for Bradley Wiggins?']\n",
      "1686 : ['Tell mec ommunist party whose name has the word práce in it.']\n"
     ]
    },
    {
     "name": "stdout",
     "output_type": "stream",
     "text": [
      "1687 : ['Who is the  {strip mall} for {architectural style} of {Bauhaus}']\n",
      "1688 : ['Nathan M. Pusey replaced James Bryant Conant in what position?']\n"
     ]
    },
    {
     "name": "stdout",
     "output_type": "stream",
     "text": [
      "1689 : ['For which category did Henry Mancini win in the 34th Academy Awards?']\n"
     ]
    },
    {
     "name": "stdout",
     "output_type": "stream",
     "text": [
      "1690 : ['TELL ME HUMAN SETTLEMENT WHOSE NAME HAS THE WORD ZANZIBAR IN  IT.']\n"
     ]
    },
    {
     "name": "stdout",
     "output_type": "stream",
     "text": [
      "1691 : ['What team does Alcides Pena play for?']\n"
     ]
    },
    {
     "name": "stdout",
     "output_type": "stream",
     "text": [
      "1692 : ['When was Saint-Étienne twinned with Fes?']\n",
      "1693 : ['Which is the bore of AK-47?']\n"
     ]
    },
    {
     "name": "stdout",
     "output_type": "stream",
     "text": [
      "1694 : ['For what reason D.T. suzuku was in nomination in the year 1963?']\n",
      "1695 : ['Is the numeric value of the Boltzmann constant less than 1.6567788e-23?']\n"
     ]
    },
    {
     "name": "stdout",
     "output_type": "stream",
     "text": [
      "1696 : ['When did Jonathan Franzen received his National Book Award for Fiction?']\n",
      "1697 : ['Which is the Sandbox-String for degree Fahrenheit?']\n"
     ]
    },
    {
     "name": "stdout",
     "output_type": "stream",
     "text": [
      "1698 : ['When was Pablo Neruda awarded the National Prize for Literature?']\n",
      "1699 : ['What is the location of the headquarters of Asahi Shimbun given the number 34.6937?']\n"
     ]
    },
    {
     "name": "stdout",
     "output_type": "stream",
     "text": [
      "1700 : ['What countries populate the border areas of Malawi?']\n"
     ]
    },
    {
     "name": "stdout",
     "output_type": "stream",
     "text": [
      "1701 : ['When did educated at of Venus Williams and academic major?']\n"
     ]
    },
    {
     "name": "stdout",
     "output_type": "stream",
     "text": [
      "1702 : ['What material is produced by Chevron corporation?']\n",
      "1703 : ['How does Mariano Rivera make use of the sport he plays?']\n"
     ]
    },
    {
     "name": "stdout",
     "output_type": "stream",
     "text": [
      "17041705 : ['Who is the birth parent of Stalins kid, when was the kid born, and what was his name?']\n",
      " : ['WHO THE DUBBER OF RUKH FROM WORK?']\n",
      "1706 : ['Which dialect is the official language of the Achaemenid Empire?']\n",
      "1707 : ['Who is the inventor of the anatomical location of sinoatrial node disease?']\n",
      "1708 : ['Is Rio de Janeiro a sister town to Athens?']\n"
     ]
    },
    {
     "name": "stdout",
     "output_type": "stream",
     "text": [
      "1709 : ['Was LL Cool J in the genre alternative hip-hop and new school hip-hop?']\n",
      "1710 : ['In what year was Valery Gergiev awarded the State Prize of the Russian Federation?']\n",
      "1711 : ['When was Tomas Garrigue masaryk nominated for Nobel peace prize award?']\n"
     ]
    },
    {
     "name": "stdout",
     "output_type": "stream",
     "text": [
      "1712 : ['Which award was received by Kobe Bryant in 2007?']\n"
     ]
    },
    {
     "name": "stdout",
     "output_type": "stream",
     "text": [
      "1713 : ['Who is {mother} of {kids} of {Jason Robards} ?']\n",
      "1714 : ['Who is the {empire} for {country of citizenship} of {Vladimir Lenin}']\n"
     ]
    },
    {
     "name": "stdout",
     "output_type": "stream",
     "text": [
      "1715 : ['When did Leslie Lamport start working for Microsoft Research?']\n",
      "1716 : ['Which is the instruction set of 16-bit architecture?']\n"
     ]
    },
    {
     "name": "stdout",
     "output_type": "stream",
     "text": [
      "1717 : ['Are there more than 3.6 floors below ground of the Plaza 66.']\n"
     ]
    },
    {
     "name": "stdout",
     "output_type": "stream",
     "text": [
      "1718 : ['Who was the operator of the Airbus A320?']\n",
      "1719 : [': What are the Cyprinus rubrofuscus which start with the letter k']\n",
      "1720 : ['When did Alan Greenspan leave his position as Chair of the Federal Reserve?']\n"
     ]
    },
    {
     "name": "stdout",
     "output_type": "stream",
     "text": [
      "1721 : ['What is the name of film studio that starts with letter s']\n",
      "1722 : ['Which empire did the Parthian follow?']\n"
     ]
    },
    {
     "name": "stdout",
     "output_type": "stream",
     "text": [
      "1723 : ['What are the influences portrayed by Standards?']\n"
     ]
    },
    {
     "name": "stdout",
     "output_type": "stream",
     "text": [
      "1724 : ['What role does John Hope Franklin have in the American Historical Association?']\n",
      "1725 : ['Which Shumen cave has the lowest temperature?']\n"
     ]
    },
    {
     "name": "stdout",
     "output_type": "stream",
     "text": [
      "1726 : ['On planet Nine, the G-type main-sequence star for the child astronomical body is called what?']\n",
      "1727 : ['Was Natalia Molchanova born in the Bashkir Autonomous Soviet Socialist Republic?']\n"
     ]
    },
    {
     "name": "stdout",
     "output_type": "stream",
     "text": [
      "1728 : ['What is male  of label for  military officer ?']\n",
      "1729 : ['What is GONIAT ID of Staffordshire?']\n"
     ]
    },
    {
     "name": "stdout",
     "output_type": "stream",
     "text": [
      "1730 : ['Which is the discontinued date of PlayStation 3?']\n",
      "1731 : ['What is the language spoken by Ben Carson?']\n",
      "1732 : ['Using the following specifications--wgs 84, 39.992--find the burial location of Deniz Gezmis.']\n"
     ]
    },
    {
     "name": "stdout",
     "output_type": "stream",
     "text": [
      "1733 : ['Which is the CAS Registry Number for calcium chloride?']\n"
     ]
    },
    {
     "name": "stdout",
     "output_type": "stream",
     "text": [
      "1734 : ['What is the chemical compound of erythromycin when interacting with a significant drug?']\n",
      "1735 : ['Where is incumbent of professorship position of John Budden ?']\n"
     ]
    },
    {
     "name": "stdout",
     "output_type": "stream",
     "text": [
      "1736 : ['When was Pedro I(who has a son, Pedro II of Brazil) born?']\n",
      "1737 : ['Where did Zelda Fitzgerald and F. Scott Fitzgerald marry?']\n"
     ]
    },
    {
     "name": "stdout",
     "output_type": "stream",
     "text": [
      "1738 : ['Which is gait for horse?']\n",
      "1739 : ['Which is the cardinality of this set of 1?']\n"
     ]
    },
    {
     "name": "stdout",
     "output_type": "stream",
     "text": [
      "1740 : ['Is the Bohler N680s hardness 59?']\n",
      "1741 : ['Give the central processing unit with the lowest thermal design power whose part of the class is L3 cache?']\n"
     ]
    },
    {
     "name": "stdout",
     "output_type": "stream",
     "text": [
      "1742 : ['When was Len Browns last year as the mayor of Auckland?']\n",
      "1743 : ['What invention contains the word tourbillion in its name?']\n"
     ]
    },
    {
     "name": "stdout",
     "output_type": "stream",
     "text": [
      "1744 : ['What amount of those stated are for Zaporizhzhia?']\n",
      "1745 : ['Is Burt Reynolds a citizen of America?']\n"
     ]
    },
    {
     "name": "stdout",
     "output_type": "stream",
     "text": [
      "1746 : ['How much full-time work is available at the North Atlantic Treaty?']\n",
      "1747 : ['Who is the actor in Captain Typho?']\n",
      "1748 : ['What type of Pentium M microprocessor has the smallest number of processor cores?']\n"
     ]
    },
    {
     "name": "stdout",
     "output_type": "stream",
     "text": [
      "1749 : ['What statement does Fiji support that can mean a partly free country?']\n",
      "1750 : ['Which is the German cattle breed ID of Jersey cattle?']\n",
      "1751 : ['What is the significant event held in the beginning of Laser Interferometer Gravitational-Wave Observatory in 1994']\n"
     ]
    },
    {
     "name": "stdout",
     "output_type": "stream",
     "text": [
      "1752 : ['Tell me milk tea whose name has the word tarik in it.']\n",
      "1753 : ['What are the programming steps for the {dynamic programming} ?']\n"
     ]
    },
    {
     "name": "stdout",
     "output_type": "stream",
     "text": [
      "1754 : ['What is the weapon model with the maximum rate of fire whose subclass of is naval artillery?']\n",
      "1755 : ['which federation with the lowest life expectancy whose contains administrative territorial is saxony-anhalt?']\n"
     ]
    },
    {
     "name": "stdout",
     "output_type": "stream",
     "text": [
      "1756 : ['Is the employment by economic sector of Amsterdam equal to 209100.0?']\n",
      "1757 : ['Is the perimeter of Lai Lung .11?']\n",
      "1758 : ['How many describe a project that uses Twitter?']\n",
      "1759 : ['Who was the author that appeared in Professor Shattuck?']\n",
      "1760 : ['Who is the crew of Cosmonaut Michael Fincke?']\n"
     ]
    },
    {
     "name": "stdout",
     "output_type": "stream",
     "text": [
      "1761 : ['Where did Christopher Wren major in Latin?']\n",
      "1762 : ['What {civilisation} {denominates} {Yazdegerd III} ?']\n"
     ]
    },
    {
     "name": "stdout",
     "output_type": "stream",
     "text": [
      "1763 : ['Who is professions field is musician having a timeline of topic of history of music?']\n"
     ]
    },
    {
     "name": "stdout",
     "output_type": "stream",
     "text": [
      "1764 : ['Which is the British Book Trade Index ID for John Knox?']\n",
      "1765 : ['Tell me about the codon that is encoded by glycine.']\n"
     ]
    },
    {
     "name": "stdout",
     "output_type": "stream",
     "text": [
      "1766 : ['Is the flattening of Venus zero?']\n",
      "1767 : ['State the mathematical concept behind the Spacetime manifestation.']\n"
     ]
    },
    {
     "name": "stdout",
     "output_type": "stream",
     "text": [
      "1768 : ['Tell me art movement whose name has the word yamato in it.']\n",
      "1769 : ['Does the rate of fire of the VAP submachine gun equals to 1200.0?']\n"
     ]
    },
    {
     "name": "stdout",
     "output_type": "stream",
     "text": [
      "1770 : ['what biblical episode commemorates Palm Sunday?']\n",
      "1771 : ['What is the country of the Bangalore?']\n"
     ]
    },
    {
     "name": "stdout",
     "output_type": "stream",
     "text": [
      "17721773 : ['To which musical movement did John Cage belong?']\n",
      " : ['In what neighborhood that covers a surface area of 50.41 units was the Battle of Rocroi fought?']\n",
      "1774 : ['When did Neil Gaiman receive his award for Hugo?']\n",
      "1775 : ['Which is the Entomologists of the World ID for Jean-Baptiste de Lamarck?']\n"
     ]
    },
    {
     "name": "stdout",
     "output_type": "stream",
     "text": [
      "1776 : ['What does Air China build?']\n",
      "1777 : ['Which is dan/kyu rank of wushu ?']\n",
      "1778 : ['What award medal was given to John Steinbeck ?']\n",
      "1779 : ['Are the number of cases of the yellow fever equal to 136000.0?']\n"
     ]
    },
    {
     "name": "stdout",
     "output_type": "stream",
     "text": [
      "1780 : ['How is the Gospel of John exemplar?']\n",
      "1781 : ['Was Niki Lauda member of Scuderia Ferrari and Renault F1?']\n"
     ]
    },
    {
     "name": "stdout",
     "output_type": "stream",
     "text": [
      "1782 : ['Who was Richard I of Englands mother?']\n",
      "1783 : ['Who gave the  {summit} of {system of mountains} of {Stevens Pass} ?']\n",
      "1784 : ['Tell me chemical substance whose name has the word zeolite in it.']\n",
      "1785 : ['Who is guilty for Paris Hiltons My New BFF being presented?']\n"
     ]
    },
    {
     "name": "stdout",
     "output_type": "stream",
     "text": [
      "1786 : ['What is KEPN ID for Wolverhampton ?']\n",
      "1787 : ['What governor of Aosta Valley was also a veterinarian?']\n"
     ]
    },
    {
     "name": "stdout",
     "output_type": "stream",
     "text": [
      "1788 : ['Was the period of Margaret Thatcher ended as member ended on 2013-4-8?']\n"
     ]
    },
    {
     "name": "stdout",
     "output_type": "stream",
     "text": [
      "1789 : ['Which is the ISWC of Symphony No. 9?']\n",
      "1790 : ['What is the office held by the governor called?']\n",
      "1791 : ['Is it true that the production rate of Jumilla more than 203978.4?']\n"
     ]
    },
    {
     "name": "stdout",
     "output_type": "stream",
     "text": [
      "1792 : ['What is the prequel of Ray Stantz titled?']\n",
      "1793 : ['When did Alexander Shelepin stop being chairperson for the KGB?']\n"
     ]
    },
    {
     "name": "stdout",
     "output_type": "stream",
     "text": [
      "1794 : ['Which central bank has the highest target interest rate ?']\n",
      "1795 : ['What is webcam page URL for Metz ?']\n"
     ]
    },
    {
     "name": "stdout",
     "output_type": "stream",
     "text": [
      "1796 : ['What is Paolo Gentiloni academic degree and academic major at Laurea magistrale (Italy)?']\n"
     ]
    },
    {
     "name": "stdout",
     "output_type": "stream",
     "text": [
      "1797 : ['On June 24th of 1948 what award did Kliment Voroshilov received?']\n",
      "1798 : ['Which language is used in Gibraltar that has a quality of second language?']\n",
      "1799 : ['How many airline hub are done by All Nippon Airways']\n"
     ]
    },
    {
     "name": "stdout",
     "output_type": "stream",
     "text": [
      "1800 : ['What award did Arthur Rubinstein win on 1/1/1961?']\n"
     ]
    },
    {
     "name": "stdout",
     "output_type": "stream",
     "text": [
      "1802 : ['Tell me Original Public Ivy whose name has the word university in it.']\n"
     ]
    },
    {
     "name": "stdout",
     "output_type": "stream",
     "text": [
      "1803 : ['What is timeline of topic for culture of Belle Barth ?']\n",
      "1804 : ['What are the place of birth and the child of Pete Wentz?']\n",
      "1805 : ['Which is the DSM-5 of attention deficit hyperactivity disorder?']\n",
      "1806 : ['What is the middle name of {Frederick I whose nick name is Frederick?']\n"
     ]
    },
    {
     "name": "stdout",
     "output_type": "stream",
     "text": [
      "18071808 : ['Where Clement I dired at Bosporan Kingdom?']\n",
      " : ['What is the {manner of death} and the {position played on team / speciality} by {Babe_Ruth} ?']\n",
      "1809 : ['The antiparticle of an elementary particle is what premium particle?']\n"
     ]
    },
    {
     "name": "stdout",
     "output_type": "stream",
     "text": [
      "1810 : ['According to the census, what is the population of the Antofagasta Region?']\n",
      "1811 : ['Who is the developer of Stirling engine whose died in Galston']\n",
      "1812 : ['Which is the religion text that has as an edition that of King James Version?']\n"
     ]
    },
    {
     "name": "stdout",
     "output_type": "stream",
     "text": [
      "1813 : ['When did Romario receive the World Cup Golden Ball?']\n",
      "1814 : ['Did Lolita reference The Emperors New Clothes and Eulalie?']\n",
      "1815 : ['Which is the stereoisomer for L-Phenylalanine?']\n"
     ]
    },
    {
     "name": "stdout",
     "output_type": "stream",
     "text": [
      "1816 : ['When did Tom Cruise receive the Golden Globe Award for Best Actor - Motion Picture, Musical or Comedy?']\n",
      "1817 : ['Which is the Arch Linux package for PHP?']\n"
     ]
    },
    {
     "name": "stdout",
     "output_type": "stream",
     "text": [
      "1818 : ['Did Paul Simon receive the Lifetime Achievement Award at the 60th Primetime Emmy Awards?']\n",
      "1819 : ['Which is the date of baptism in early childhood of Diego Velázquez?']\n"
     ]
    },
    {
     "name": "stdout",
     "output_type": "stream",
     "text": [
      "1821 : ['What was the significant event happend when Gina Rinehart was came to an end in 1981']\n"
     ]
    },
    {
     "name": "stdout",
     "output_type": "stream",
     "text": [
      "1822 : ['When was Estelle Parsons nominated for a Tony Award for Best Actress in a Play?']\n",
      "1823 : ['Who graduated and played Burnin the Roadhouse Down.']\n"
     ]
    },
    {
     "name": "stdout",
     "output_type": "stream",
     "text": [
      "1824 : ['What is INTEGRALs start point?']\n"
     ]
    },
    {
     "name": "stdout",
     "output_type": "stream",
     "text": [
      "1825 : ['Was Maureen Connolly victorious?']\n",
      "1826 : ['Who was the presenter for Meet the Press starting on September 16, 1984?']\n"
     ]
    },
    {
     "name": "stdout",
     "output_type": "stream",
     "text": [
      "1827 : ['What has  pet of dog ?']\n",
      "1828 : ['Who is the human partner of Chow Yun-fat?']\n",
      "1829 : ['What can you develop with Autodesk Vault?']\n"
     ]
    },
    {
     "name": "stdout",
     "output_type": "stream",
     "text": [
      "1830 : ['Which is the death place of Gustav Mahler?']\n",
      "1831 : ['Which is the Historical Gazetteer GOV ID for German Confederation?']\n",
      "1832 : ['Who is informed by Friedrich Schiller, that has a father-in-law named Peter Im Baumgarten?']\n"
     ]
    },
    {
     "name": "stdout",
     "output_type": "stream",
     "text": [
      "1834 : ['What part of the series is preceded by Hooked on Monkey Fonics?']\n",
      "1835 : ['who is depicted by Phan Thi Kim Phuc ?']\n"
     ]
    },
    {
     "name": "stdout",
     "output_type": "stream",
     "text": [
      "1836 : ['What is the name of the person who died due to amyotrophic lateral sclerosis?']\n",
      "1837 : ['Which is the age of candidacy for South Korea?']\n"
     ]
    },
    {
     "name": "stdout",
     "output_type": "stream",
     "text": [
      "1838 : ['what is the facet of a polytope shape of six-side die?']\n",
      "1839 : ['Who are the kids of Shiva whose life partner is Devasena?']\n"
     ]
    },
    {
     "name": "stdout",
     "output_type": "stream",
     "text": [
      "1840 : ['How many people visited Yellowstone National Park in 2015?']\n",
      "1841 : ['Which television series did {Francis Ford Coppola produce?']\n"
     ]
    },
    {
     "name": "stdout",
     "output_type": "stream",
     "text": [
      "1842 : ['What is cover artist for Peter Blake ?']\n",
      "1843 : ['Did Jennifer Lawrence receive the MTV Movie Award for Best Female Performance?']\n"
     ]
    },
    {
     "name": "stdout",
     "output_type": "stream",
     "text": [
      "1844 : ['Who was the voice actor in The Lion King?']\n",
      "1845 : ['What did George Lucas major in at University of Southern California and what was his degree?']\n",
      "1846 : ['What is Invaulable.coms artist ID for Johannes V. Jensen?']\n",
      "1847 : ['Which is the BioLib ID for false gharial?']\n"
     ]
    },
    {
     "name": "stdout",
     "output_type": "stream",
     "text": [
      "1848 : ['What place was Oliver Hazard Perry born that has a diplomatic relation to Chile?']\n",
      "1849 : ['What is Spocks occupation in 2286?']\n",
      "1851 : ['For what work was Seal in nomination for a Grammy Award for Best Pop Vocal Album?']\n"
     ]
    },
    {
     "name": "stdout",
     "output_type": "stream",
     "text": [
      "1853 : ['what is the instruction set of runtime windows 95?']\n"
     ]
    },
    {
     "name": "stdout",
     "output_type": "stream",
     "text": [
      "1855 : ['What is the award first described by the Manchester Small-Scale Experimental Machine?']\n",
      "1857 : ['The antiparticle of a neutron is what quantum particle?']\n"
     ]
    },
    {
     "name": "stdout",
     "output_type": "stream",
     "text": [
      "1858 : ['Who was Louis, Count of Evreuxs mother?']\n"
     ]
    },
    {
     "name": "stdout",
     "output_type": "stream",
     "text": [
      "1859 : ['What is Franciss religious name?']\n",
      "1860 : ['who movie director of part of series of home court disadvantage ?']\n",
      "1861 : ['When did was Natalia Revuelta Clews the partner of Fidel Castro.']\n"
     ]
    },
    {
     "name": "stdout",
     "output_type": "stream",
     "text": [
      "1862 : ['What is the event location in action of the Allies?']\n",
      "1863 : ['Which is the GSS code (2011) of the Lake District?']\n",
      "1864 : ['Is it true that the term length of office of Captain Regent of San Marino equals to 0.5?']\n",
      "1865 : ['What is the name of the democratic republic, previously occupied by indigenous people, which now the majority of its population speaks American English?']\n",
      "1866 : ['What are the United States Supreme Court decision which start with the letter v']\n"
     ]
    },
    {
     "name": "stdout",
     "output_type": "stream",
     "text": [
      "1867 : ['Did Chris Pratt perform good as an actor in Guardians of the Galaxy?']\n",
      "1868 : ['When was Daniel Ellsberg granted the American Book Awards?']\n",
      "1869 : ['which sport in a geographic region has maximum number of clubs in Australia?']\n"
     ]
    },
    {
     "name": "stdout",
     "output_type": "stream",
     "text": [
      "1870 : ['What sports co-founder is apart of E.&H.T. Anthony &Co.?']\n",
      "1871 : ['Name a mutant in X-MEN that starts with letter W']\n"
     ]
    },
    {
     "name": "stdout",
     "output_type": "stream",
     "text": [
      "1872 : ['For which work did Omar Sharif receive the Cesar Award for Best Actor?']\n",
      "1873 : ['When did Aleksandr Solzhenitsyn got married to Natalia Solzhenitsyna and when did it end?']\n"
     ]
    },
    {
     "name": "stdout",
     "output_type": "stream",
     "text": [
      "1874 : ['Who gave the  {initial cause} of {outcome} of {Mechanization} ?']\n",
      "1875 : ['The Laotian Civil War was fought by what diplomatic parties?']\n"
     ]
    },
    {
     "name": "stdout",
     "output_type": "stream",
     "text": [
      "1876 : ['What award did Karl von Frisch receive in 1921?']\n",
      "1877 : ['When did Christopher A. Sims and Sveriges Riksbank win their prize in Economic Sciences Nobel Peace Prize?']\n",
      "1878 : ['Where were Catharine, Duchess of Cambridge and Prince William, Duke of Cambridge married?']\n"
     ]
    },
    {
     "name": "stdout",
     "output_type": "stream",
     "text": [
      "1879 : ['What { end time } has { commander of } as { Kriegsmarine } for { Karl Dönitz }?']\n"
     ]
    },
    {
     "name": "stdout",
     "output_type": "stream",
     "text": [
      "1880 : ['Is the pKa of ammonia equal to 7.368?']\n",
      "1881 : ['What award did Mel Brooks receive in 2003?']\n",
      "1882 : ['Tell me programming paradigm whose name the word programming in it.']\n"
     ]
    },
    {
     "name": "stdout",
     "output_type": "stream",
     "text": [
      "1883 : ['Was Franklin D. Roosevelt awarded the Albert Medal?']\n"
     ]
    },
    {
     "name": "stdout",
     "output_type": "stream",
     "text": [
      "1884 : ['Did A.R. Rahman receive the Chevalier Sivaji Ganesan Award for Excellence in Indian Cinema and Zee Cine Award for Best Background Music?']\n",
      "1885 : ['What is the Diamond  the same as and what is it named after?']\n"
     ]
    },
    {
     "name": "stdout",
     "output_type": "stream",
     "text": [
      "1886 : ['Who is the songwriter of the song, Rhapsody in Blue?']\n",
      "1887 : ['What prequel of plasma state of matter is using condensation?']\n"
     ]
    },
    {
     "name": "stdout",
     "output_type": "stream",
     "text": [
      "1888 : ['What gelatin item in the collection has the shortest width?']\n"
     ]
    },
    {
     "name": "stdout",
     "output_type": "stream",
     "text": [
      "1889 : ['When was Cicely Tyson granted the Candace Award?']\n"
     ]
    },
    {
     "name": "stdout",
     "output_type": "stream",
     "text": [
      "1890 : ['What separation process did Zosimos of Panopolis invent with the word distillation in its name?']\n",
      "1891 : ['Who is the writer of On Liberty whos birthday is May 20, 1806?']\n",
      "1892 : ['What is the trunk prefix of the shooting location Seven Samurai?']\n",
      "1893 : ['Tell me about employer of Nora Ephron and occupation?']\n"
     ]
    },
    {
     "name": "stdout",
     "output_type": "stream",
     "text": [
      "1894 : ['Where is the death location of Louisa May Alcott, that has its geographic centre in 41.2596 -71.8083?']\n",
      "1896 : ['The Chinese garden has what FOIH heritage types ID?']\n"
     ]
    },
    {
     "name": "stdout",
     "output_type": "stream",
     "text": [
      "1897 : ['What is the name of a branch of service that starts with the letter v.']\n",
      "1898 : ['What is the original Robin Hood about?']\n",
      "1899 : ['What is the working language of endemism of the Tasmanain devil?']\n",
      "1900 : ['When was John Dalberg-Acton, 1st Baron Acton, elected as the Member of the 19th Parliament of the United Kingdom?']\n"
     ]
    },
    {
     "name": "stdout",
     "output_type": "stream",
     "text": [
      "1901 : ['Who was Michael Foucaults student?']\n"
     ]
    },
    {
     "name": "stdout",
     "output_type": "stream",
     "text": [
      "1903 : ['On which series Teg Hughes named as James?']\n"
     ]
    },
    {
     "name": "stdout",
     "output_type": "stream",
     "text": [
      "1904 : ['What may be prevented with aspirin?']\n"
     ]
    },
    {
     "name": "stdout",
     "output_type": "stream",
     "text": [
      "1905 : ['Is it true that the cost of Primer equals to 7000?']\n",
      "1906 : ['Which position does Justin Trudeau hold?']\n"
     ]
    },
    {
     "name": "stdout",
     "output_type": "stream",
     "text": [
      "1907 : ['Tell me universal library whose name has the word library in it.']\n",
      "1908 : ['What operating system component starts with the letter f?']\n"
     ]
    },
    {
     "name": "stdout",
     "output_type": "stream",
     "text": [
      "1909 : ['Who is the inventor or discoverer of Dobsonian telescope, whose location of birth is Beijing?']\n"
     ]
    },
    {
     "name": "stdout",
     "output_type": "stream",
     "text": [
      "1910 : ['What is the birthplace of Saint Wenceslaus I, Duke of Bohemia, where the country is Czech Republic?']\n"
     ]
    },
    {
     "name": "stdout",
     "output_type": "stream",
     "text": [
      "1912 : ['What is the original language of Television in Mexicos typology?']\n"
     ]
    },
    {
     "name": "stdout",
     "output_type": "stream",
     "text": [
      "1913 : ['What is developed from fruit?']\n",
      "1914 : ['For Bill Varney was Star Wars Episode V: the Empire strikes back of award received in winner?']\n",
      "1915 : ['Which is the Movieplayer film ID for Once Upon a Time in the West?']\n"
     ]
    },
    {
     "name": "stdout",
     "output_type": "stream",
     "text": [
      "1916 : ['How much chemical structure are for oxytocin?']\n",
      "1917 : ['What are the paradox which start with the letter u']\n",
      "1918 : ['Which is {won by} {succeded by} of {Freestyle skiing at the 2014 Winter Olympics – Mens moguls} ?']\n"
     ]
    },
    {
     "name": "stdout",
     "output_type": "stream",
     "text": [
      "1919 : ['What instrument does Darrell Pace play?']\n",
      "1920 : ['Tell me an arithmetic calendar that has the word calendar in its name.']\n"
     ]
    },
    {
     "name": "stdout",
     "output_type": "stream",
     "text": [
      "1921 : ['What is the official language of Romania?']\n"
     ]
    },
    {
     "name": "stdout",
     "output_type": "stream",
     "text": [
      "1923 : ['What is the master name of Michel de Montaigne, who has the native name Marc Antoine Muret?']\n"
     ]
    },
    {
     "name": "stdout",
     "output_type": "stream",
     "text": [
      "1924 : ['Where did this DVD come from and who owns it now?']\n"
     ]
    },
    {
     "name": "stdout",
     "output_type": "stream",
     "text": [
      "1925 : ['What is associated with the Umayyad conquest of Hispania?']\n",
      "1926 : ['Is it true that the face value of the United States two-dollar bill equals to 2?']\n",
      "1927 : ['What is the order for the Battle of Lepanto?']\n"
     ]
    },
    {
     "name": "stdout",
     "output_type": "stream",
     "text": [
      "1928 : ['Which is the mass excess of helium-4?']\n",
      "1929 : ['When did Phil Taylor win the BDO World Darts Championship?']\n",
      "1930 : ['Give me the most effected wrench model ?']\n"
     ]
    },
    {
     "name": "stdout",
     "output_type": "stream",
     "text": [
      "1931 : ['Erythromycin is used to treat what disease the most?']\n"
     ]
    },
    {
     "name": "stdout",
     "output_type": "stream",
     "text": [
      "1933 : ['Name the award received by Greta Garbo in the year 1954?']\n",
      "1934 : ['Where was the location of the Battle of Gettysburg and who were the participation that fought in that war?']\n"
     ]
    },
    {
     "name": "stdout",
     "output_type": "stream",
     "text": [
      "1937 : ['Which are the subsidiary entities of the maintainer of Forth Bridge?']\n"
     ]
    },
    {
     "name": "stdout",
     "output_type": "stream",
     "text": [
      "1938 : ['What is the type of government in the state of Norfolk?']\n"
     ]
    },
    {
     "name": "stdout",
     "output_type": "stream",
     "text": [
      "1939 : ['Where did Willem de Kooning work on 7-18-1926?']\n",
      "1940 : ['who is the writer of Julius Caesar who has a sister named Joan Shakespeare?']\n",
      "1941 : ['Who is {favorite player} of {The Rolling Stones}, that has {found guilty of} is {tax evasion}']\n"
     ]
    },
    {
     "name": "stdout",
     "output_type": "stream",
     "text": [
      "1942 : ['When was Michail Sholokhov nominated for a Nobel Prize in Literature?']\n"
     ]
    },
    {
     "name": "stdout",
     "output_type": "stream",
     "text": [
      "1944 : ['What country has the lowest inflation rate?']\n",
      "1945 : ['Which is the Italian Senate ID for Giosuè Carducci?']\n"
     ]
    },
    {
     "name": "stdout",
     "output_type": "stream",
     "text": [
      "1947 : ['how many are influenced by maimonides?']\n",
      "1948 : ['What business is the organization of the American Broadcasting Company in?']\n",
      "1949 : ['Name the birth city of Skepta in the country of Nairobi that has been subdivided']\n",
      "1950 : ['What is dissertation submitted to for Gordon Brown ?']\n"
     ]
    },
    {
     "name": "stdout",
     "output_type": "stream",
     "text": [
      "1951 : ['What is Dionysuss character opera?']\n",
      "1952 : ['In what film did Jacqui Verdura play Harley Quinn?']\n"
     ]
    },
    {
     "name": "stdout",
     "output_type": "stream",
     "text": [
      "1955 : ['Is the embodied energy of the glass more than 18.0?']\n",
      "1956 : ['Who wrote the sequel to The Glory?']\n"
     ]
    },
    {
     "name": "stdout",
     "output_type": "stream",
     "text": [
      "1959 : ['What company was Steve Jobs a board member of?']\n",
      "1961 : ['Did World War II took place in Mediterranean Sea?']\n"
     ]
    },
    {
     "name": "stdout",
     "output_type": "stream",
     "text": [
      "1962 : ['What is won by the honorary titles of The Settlers of Catan?']\n",
      "1963 : ['Which is the filmography for Orange Is the New Black?']\n"
     ]
    },
    {
     "name": "stdout",
     "output_type": "stream",
     "text": [
      "1964 : ['Who founded the superior formation of Weyerhauser, Canada?']\n",
      "1965 : ['When did Charlie Rose receive the James Madison Award?']\n",
      "1967 : ['Ruth Benedict lives in what administrative location?']\n",
      "1969 : ['What is the density of water?']\n"
     ]
    },
    {
     "name": "stdout",
     "output_type": "stream",
     "text": [
      "1970 : ['Where was Milton Friedman educated at and what was his academic major?']\n",
      "1971 : ['Tell me the association football stadium of the structural engineer Sinclair Knight Merz which starts with the letter s?']\n"
     ]
    },
    {
     "name": "stdout",
     "output_type": "stream",
     "text": [
      "1972 : ['What is the business enterprise with the highest maximum gradient whose instance of is business enterprise?']\n",
      "1973 : ['What is Hulk Hogans Wrestlingdata person ID?']\n",
      "1974 : ['What is award received of Richard M. Karp that is point in time is 1985-1-1?']\n"
     ]
    }
   ],
   "source": [
    "responses = []\n",
    "batch_qns = []\n",
    "batch_ans = []\n",
    "truncated_data = df[:]\n",
    "total_len = len(truncated_data)\n",
    "last = 0\n",
    "cutoff = 0\n",
    "\n",
    "for i, data in enumerate(truncated_data.iterrows()):\n",
    "    data = data[1]\n",
    "    if i < cutoff:\n",
    "        continue\n",
    "    # print(\"Pipeline iter\", i)\n",
    "    question = data[\"new_question\"]\n",
    "    answer = data[\"sparql_wikidata\"]\n",
    "    # try\n",
    "    #     linked, annotated, converted = pipe(question, answer)\n",
    "    # except Exception as e:\n",
    "    #     print(e)\n",
    "    #     continue\n",
    "    # responses.append([linked, annotated, converted])\n",
    "    if (question and answer) and len(question) >= 2:\n",
    "        batch_qns.append(question)\n",
    "        batch_ans.append(answer)\n",
    "    if ((i + 1) % 2000) == 0 or i == total_len - 1:\n",
    "        print(\"\\n[Pipeline1]:\", f\"Linking {last}-{i}\")\n",
    "        try:\n",
    "            for linked, annotated, converted in pipe_batch(batch_qns, batch_ans):\n",
    "                responses.append([linked, annotated, converted])\n",
    "            batch_qns = []\n",
    "            batch_ans = []\n",
    "            last = i\n",
    "        except Exception as e:\n",
    "            raise e\n",
    "            # print(e)\n",
    "            # continue\n",
    "        with open(output_links_dir / f\"link_{i}.json\", \"w\") as f:\n",
    "            json.dump(responses, f, indent=2, separators=(',',':'))"
   ]
  }
 ],
 "metadata": {
  "kernelspec": {
   "display_name": "py310",
   "language": "python",
   "name": "python3"
  },
  "language_info": {
   "codemirror_mode": {
    "name": "ipython",
    "version": 3
   },
   "file_extension": ".py",
   "mimetype": "text/x-python",
   "name": "python",
   "nbconvert_exporter": "python",
   "pygments_lexer": "ipython3",
   "version": "3.10.11"
  },
  "papermill": {
   "default_parameters": {},
   "duration": null,
   "end_time": null,
   "environment_variables": {},
   "exception": null,
   "input_path": "pipeline1.ipynb",
   "output_path": "pipeline1-10e10r.papermill.ipynb",
   "parameters": {},
   "start_time": "2023-07-20T07:29:28.501251",
   "version": "2.4.0"
  }
 },
 "nbformat": 4,
 "nbformat_minor": 5
}